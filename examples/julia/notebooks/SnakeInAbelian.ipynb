{
 "cells": [
  {
   "cell_type": "code",
   "execution_count": 1,
   "metadata": {},
   "outputs": [
    {
     "name": "stdout",
     "output_type": "stream",
     "text": [
      "HomalgProject v\u001b[32m0.4.11\u001b[39m\n",
      "Imported OSCAR's component GAP\n",
      "Type: ?HomalgProject for more information\n"
     ]
    }
   ],
   "source": [
    "using HomalgProject"
   ]
  },
  {
   "cell_type": "code",
   "execution_count": 2,
   "metadata": {},
   "outputs": [],
   "source": [
    "LoadPackage( \"FreydCategoriesForCAP\" )"
   ]
  },
  {
   "cell_type": "code",
   "execution_count": 3,
   "metadata": {},
   "outputs": [],
   "source": [
    "LoadPackage( \"LazyCategories\" )"
   ]
  },
  {
   "cell_type": "code",
   "execution_count": 4,
   "metadata": {},
   "outputs": [],
   "source": [
    "SwitchGeneralizedMorphismStandard( g\"cospan\" )"
   ]
  },
  {
   "cell_type": "code",
   "execution_count": 5,
   "metadata": {},
   "outputs": [
    {
     "data": {
      "text/plain": [
       "GAP: q(4)[a:1->2,b:2->3,c:3->4]"
      ]
     },
     "execution_count": 5,
     "metadata": {},
     "output_type": "execute_result"
    }
   ],
   "source": [
    "snake_quiver = RightQuiver( g\"q(4)[a:1->2,b:2->3,c:3->4]\" )"
   ]
  },
  {
   "cell_type": "code",
   "execution_count": 6,
   "metadata": {},
   "outputs": [
    {
     "data": {
      "text/plain": [
       "GAP: Q"
      ]
     },
     "execution_count": 6,
     "metadata": {},
     "output_type": "execute_result"
    }
   ],
   "source": [
    "ℚ = HomalgFieldOfRationals( )"
   ]
  },
  {
   "cell_type": "code",
   "execution_count": 7,
   "metadata": {},
   "outputs": [
    {
     "data": {
      "text/plain": [
       "GAP: Q * q"
      ]
     },
     "execution_count": 7,
     "metadata": {},
     "output_type": "execute_result"
    }
   ],
   "source": [
    "A = PathAlgebra( ℚ, snake_quiver )"
   ]
  },
  {
   "cell_type": "code",
   "execution_count": 8,
   "metadata": {},
   "outputs": [
    {
     "data": {
      "text/plain": [
       "GAP: (Q * q) / [ 1*(a*b*c) ]"
      ]
     },
     "execution_count": 8,
     "metadata": {},
     "output_type": "execute_result"
    }
   ],
   "source": [
    "A = A / [ A.abc ]"
   ]
  },
  {
   "cell_type": "code",
   "execution_count": 9,
   "metadata": {},
   "outputs": [
    {
     "data": {
      "text/plain": [
       "GAP: QuiverRows( (Q * q) / [ 1*(a*b*c) ] )"
      ]
     },
     "execution_count": 9,
     "metadata": {},
     "output_type": "execute_result"
    }
   ],
   "source": [
    "QRowsA = QuiverRows( A )"
   ]
  },
  {
   "cell_type": "code",
   "execution_count": 10,
   "metadata": {},
   "outputs": [
    {
     "data": {
      "text/plain": [
       "GAP: Adelman category( QuiverRows( (Q * q) / [ 1*(a*b*c) ] ) )"
      ]
     },
     "execution_count": 10,
     "metadata": {},
     "output_type": "execute_result"
    }
   ],
   "source": [
    "Adelman = AdelmanCategory( QRowsA )"
   ]
  },
  {
   "cell_type": "code",
   "execution_count": 11,
   "metadata": {},
   "outputs": [
    {
     "data": {
      "text/plain": [
       "GAP: LazyCategory( Adelman category( QuiverRows( (Q * q) / [ 1*(a*b*c) ] ) ) )"
      ]
     },
     "execution_count": 11,
     "metadata": {},
     "output_type": "execute_result"
    }
   ],
   "source": [
    "Lazy = LazyCategory( Adelman, show_evaluation = true )"
   ]
  },
  {
   "cell_type": "code",
   "execution_count": 12,
   "metadata": {},
   "outputs": [
    {
     "data": {
      "text/plain": [
       "GAP: <An evaluated morphism in LazyCategory( Adelman category( QuiverRows( (Q * q) / [ 1*(a*b*c) ] ) ) )>"
      ]
     },
     "execution_count": 12,
     "metadata": {},
     "output_type": "execute_result"
    }
   ],
   "source": [
    "a = A.a / QRowsA / Adelman / Lazy"
   ]
  },
  {
   "cell_type": "code",
   "execution_count": 13,
   "metadata": {},
   "outputs": [],
   "source": [
    "SetLabel( a, \"a\" )"
   ]
  },
  {
   "cell_type": "code",
   "execution_count": 14,
   "metadata": {},
   "outputs": [
    {
     "data": {
      "text/plain": [
       "GAP: <An evaluated morphism in LazyCategory( Adelman category( QuiverRows( (Q * q) / [ 1*(a*b*c) ] ) ) )>"
      ]
     },
     "execution_count": 14,
     "metadata": {},
     "output_type": "execute_result"
    }
   ],
   "source": [
    "b = A.b / QRowsA / Adelman / Lazy"
   ]
  },
  {
   "cell_type": "code",
   "execution_count": 15,
   "metadata": {},
   "outputs": [],
   "source": [
    "SetLabel( b, \"b\" )"
   ]
  },
  {
   "cell_type": "code",
   "execution_count": 16,
   "metadata": {},
   "outputs": [
    {
     "data": {
      "text/plain": [
       "GAP: <An evaluated morphism in LazyCategory( Adelman category( QuiverRows( (Q * q) / [ 1*(a*b*c) ] ) ) )>"
      ]
     },
     "execution_count": 16,
     "metadata": {},
     "output_type": "execute_result"
    }
   ],
   "source": [
    "c = A.c / QRowsA / Adelman / Lazy"
   ]
  },
  {
   "cell_type": "code",
   "execution_count": 17,
   "metadata": {},
   "outputs": [],
   "source": [
    "SetLabel( c, \"c\" )"
   ]
  },
  {
   "cell_type": "code",
   "execution_count": 18,
   "metadata": {},
   "outputs": [
    {
     "data": {
      "text/plain": [
       "GAP: <An epimorphism in LazyCategory( Adelman category( QuiverRows( (Q * q) / [ 1*(a*b*c) ] ) ) )>"
      ]
     },
     "execution_count": 18,
     "metadata": {},
     "output_type": "execute_result"
    }
   ],
   "source": [
    "d = CokernelProjection( a )"
   ]
  },
  {
   "cell_type": "code",
   "execution_count": 19,
   "metadata": {},
   "outputs": [
    {
     "data": {
      "text/plain": [
       "GAP: <A morphism in LazyCategory( Adelman category( QuiverRows( (Q * q) / [ 1*(a*b*c) ] ) ) )>"
      ]
     },
     "execution_count": 19,
     "metadata": {},
     "output_type": "execute_result"
    }
   ],
   "source": [
    "e = CokernelColift( a, PreCompose( b, c ) )"
   ]
  },
  {
   "cell_type": "code",
   "execution_count": 20,
   "metadata": {},
   "outputs": [
    {
     "data": {
      "text/plain": [
       "GAP: <A monomorphism in LazyCategory( Adelman category( QuiverRows( (Q * q) / [ 1*(a*b*c) ] ) ) )>"
      ]
     },
     "execution_count": 20,
     "metadata": {},
     "output_type": "execute_result"
    }
   ],
   "source": [
    "f = KernelEmbedding( e )"
   ]
  },
  {
   "cell_type": "code",
   "execution_count": 21,
   "metadata": {},
   "outputs": [
    {
     "data": {
      "text/plain": [
       "GAP: <A monomorphism in LazyCategory( Adelman category( QuiverRows( (Q * q) / [ 1*(a*b*c) ] ) ) )>"
      ]
     },
     "execution_count": 21,
     "metadata": {},
     "output_type": "execute_result"
    }
   ],
   "source": [
    "g = KernelEmbedding( c )"
   ]
  },
  {
   "cell_type": "code",
   "execution_count": 22,
   "metadata": {},
   "outputs": [
    {
     "data": {
      "text/plain": [
       "GAP: <A morphism in LazyCategory( Adelman category( QuiverRows( (Q * q) / [ 1*(a*b*c) ] ) ) )>"
      ]
     },
     "execution_count": 22,
     "metadata": {},
     "output_type": "execute_result"
    }
   ],
   "source": [
    "h = KernelLift( c, PreCompose( a, b ) )"
   ]
  },
  {
   "cell_type": "code",
   "execution_count": 23,
   "metadata": {},
   "outputs": [
    {
     "data": {
      "text/plain": [
       "GAP: <An epimorphism in LazyCategory( Adelman category( QuiverRows( (Q * q) / [ 1*(a*b*c) ] ) ) )>"
      ]
     },
     "execution_count": 23,
     "metadata": {},
     "output_type": "execute_result"
    }
   ],
   "source": [
    "i = CokernelProjection( h )"
   ]
  },
  {
   "cell_type": "code",
   "execution_count": 24,
   "metadata": {},
   "outputs": [
    {
     "data": {
      "text/plain": [
       "GAP: <A morphism in Generalized morphism category of LazyCategory( Adelman category( QuiverRows( (Q * q) / [ 1*(a*b*c) ] ) ) ) by cospan>"
      ]
     },
     "execution_count": 24,
     "metadata": {},
     "output_type": "execute_result"
    }
   ],
   "source": [
    "ff = AsGeneralizedMorphism( f )"
   ]
  },
  {
   "cell_type": "code",
   "execution_count": 25,
   "metadata": {},
   "outputs": [
    {
     "data": {
      "text/plain": [
       "GAP: <A morphism in Generalized morphism category of LazyCategory( Adelman category( QuiverRows( (Q * q) / [ 1*(a*b*c) ] ) ) ) by cospan>"
      ]
     },
     "execution_count": 25,
     "metadata": {},
     "output_type": "execute_result"
    }
   ],
   "source": [
    "dd = AsGeneralizedMorphism( d )"
   ]
  },
  {
   "cell_type": "code",
   "execution_count": 26,
   "metadata": {},
   "outputs": [
    {
     "data": {
      "text/plain": [
       "GAP: <A morphism in Generalized morphism category of LazyCategory( Adelman category( QuiverRows( (Q * q) / [ 1*(a*b*c) ] ) ) ) by cospan>"
      ]
     },
     "execution_count": 26,
     "metadata": {},
     "output_type": "execute_result"
    }
   ],
   "source": [
    "bb = AsGeneralizedMorphism( b )"
   ]
  },
  {
   "cell_type": "code",
   "execution_count": 27,
   "metadata": {},
   "outputs": [
    {
     "data": {
      "text/plain": [
       "GAP: <A morphism in Generalized morphism category of LazyCategory( Adelman category( QuiverRows( (Q * q) / [ 1*(a*b*c) ] ) ) ) by cospan>"
      ]
     },
     "execution_count": 27,
     "metadata": {},
     "output_type": "execute_result"
    }
   ],
   "source": [
    "gg = AsGeneralizedMorphism( g )"
   ]
  },
  {
   "cell_type": "code",
   "execution_count": 28,
   "metadata": {},
   "outputs": [
    {
     "data": {
      "text/plain": [
       "GAP: <A morphism in Generalized morphism category of LazyCategory( Adelman category( QuiverRows( (Q * q) / [ 1*(a*b*c) ] ) ) ) by cospan>"
      ]
     },
     "execution_count": 28,
     "metadata": {},
     "output_type": "execute_result"
    }
   ],
   "source": [
    "ii = AsGeneralizedMorphism( i )"
   ]
  },
  {
   "cell_type": "code",
   "execution_count": 29,
   "metadata": {},
   "outputs": [
    {
     "data": {
      "text/plain": [
       "GAP: <A morphism in Generalized morphism category of LazyCategory( Adelman category( QuiverRows( (Q * q) / [ 1*(a*b*c) ] ) ) ) by cospan>"
      ]
     },
     "execution_count": 29,
     "metadata": {},
     "output_type": "execute_result"
    }
   ],
   "source": [
    "ss = PreCompose( [ ff, PseudoInverse( dd ), bb, PseudoInverse( gg ), ii ] )"
   ]
  },
  {
   "cell_type": "code",
   "execution_count": 30,
   "metadata": {},
   "outputs": [
    {
     "data": {
      "text/plain": [
       "GAP: <A morphism in LazyCategory( Adelman category( QuiverRows( (Q * q) / [ 1*(a*b*c) ] ) ) )>"
      ]
     },
     "execution_count": 30,
     "metadata": {},
     "output_type": "execute_result"
    }
   ],
   "source": [
    "s = HonestRepresentative( ss )"
   ]
  },
  {
   "cell_type": "code",
   "execution_count": 31,
   "metadata": {
    "scrolled": false
   },
   "outputs": [
    {
     "data": {
      "image/svg+xml": [
       "<?xml version=\"1.0\" encoding=\"UTF-8\" standalone=\"no\"?>\n",
       "<!DOCTYPE svg PUBLIC \"-//W3C//DTD SVG 1.1//EN\"\n",
       " \"http://www.w3.org/Graphics/SVG/1.1/DTD/svg11.dtd\">\n",
       "<!-- Generated by graphviz version 2.44.0 (20200408.0750)\n",
       " -->\n",
       "<!-- Title: hgn Pages: 1 -->\n",
       "<svg width=\"896pt\" height=\"1833pt\"\n",
       " viewBox=\"0.00 0.00 895.50 1833.00\" xmlns=\"http://www.w3.org/2000/svg\" xmlns:xlink=\"http://www.w3.org/1999/xlink\">\n",
       "<g id=\"graph0\" class=\"graph\" transform=\"scale(1 1) rotate(0) translate(4 1829)\">\n",
       "<title>hgn</title>\n",
       "<polygon fill=\"white\" stroke=\"transparent\" points=\"-4,4 -4,-1829 891.5,-1829 891.5,4 -4,4\"/>\n",
       "<!-- 1 -->\n",
       "<g id=\"node1\" class=\"node\">\n",
       "<title>1</title>\n",
       "<polygon fill=\"none\" stroke=\"black\" points=\"738,-1825 665,-1825 665,-1757 738,-1757 738,-1825\"/>\n",
       "<text text-anchor=\"middle\" x=\"701.5\" y=\"-1809.8\" font-family=\"Times,serif\" font-size=\"14.00\">[1]</text>\n",
       "<text text-anchor=\"middle\" x=\"701.5\" y=\"-1794.8\" font-family=\"Times,serif\" font-size=\"14.00\">primitive</text>\n",
       "<text text-anchor=\"middle\" x=\"701.5\" y=\"-1779.8\" font-family=\"Times,serif\" font-size=\"14.00\">morphism</text>\n",
       "<text text-anchor=\"middle\" x=\"701.5\" y=\"-1764.8\" font-family=\"Times,serif\" font-size=\"14.00\">&lt;a&gt;</text>\n",
       "</g>\n",
       "<!-- 2 -->\n",
       "<g id=\"node2\" class=\"node\">\n",
       "<title>2</title>\n",
       "<polygon fill=\"none\" stroke=\"black\" points=\"763.5,-1720 697.5,-1720 697.5,-1667 763.5,-1667 763.5,-1720\"/>\n",
       "<text text-anchor=\"middle\" x=\"730.5\" y=\"-1704.8\" font-family=\"Times,serif\" font-size=\"14.00\">[2]</text>\n",
       "<text text-anchor=\"middle\" x=\"730.5\" y=\"-1689.8\" font-family=\"Times,serif\" font-size=\"14.00\">Cokernel</text>\n",
       "<text text-anchor=\"middle\" x=\"730.5\" y=\"-1674.8\" font-family=\"Times,serif\" font-size=\"14.00\">Object</text>\n",
       "</g>\n",
       "<!-- 1&#45;&gt;2 -->\n",
       "<g id=\"edge1\" class=\"edge\">\n",
       "<title>1&#45;&gt;2</title>\n",
       "<path fill=\"none\" stroke=\"black\" d=\"M711.56,-1756.87C714.22,-1748.1 717.11,-1738.6 719.8,-1729.73\"/>\n",
       "<polygon fill=\"black\" stroke=\"black\" points=\"723.19,-1730.63 722.74,-1720.05 716.49,-1728.6 723.19,-1730.63\"/>\n",
       "</g>\n",
       "<!-- 7 -->\n",
       "<g id=\"node7\" class=\"node\">\n",
       "<title>7</title>\n",
       "<polygon fill=\"none\" stroke=\"black\" points=\"733.5,-1616 611.5,-1616 611.5,-1548 733.5,-1548 733.5,-1616\"/>\n",
       "<text text-anchor=\"middle\" x=\"672.5\" y=\"-1600.8\" font-family=\"Times,serif\" font-size=\"14.00\">[7]</text>\n",
       "<text text-anchor=\"middle\" x=\"672.5\" y=\"-1585.8\" font-family=\"Times,serif\" font-size=\"14.00\">CokernelProjection</text>\n",
       "<text text-anchor=\"middle\" x=\"672.5\" y=\"-1570.8\" font-family=\"Times,serif\" font-size=\"14.00\">WithGiven</text>\n",
       "<text text-anchor=\"middle\" x=\"672.5\" y=\"-1555.8\" font-family=\"Times,serif\" font-size=\"14.00\">CokernelObject</text>\n",
       "</g>\n",
       "<!-- 1&#45;&gt;7 -->\n",
       "<g id=\"edge2\" class=\"edge\">\n",
       "<title>1&#45;&gt;7</title>\n",
       "<path fill=\"none\" stroke=\"black\" d=\"M690.47,-1756.87C687.05,-1745.32 683.62,-1732.2 681.5,-1720 676.12,-1689.01 673.89,-1653.56 673,-1626.48\"/>\n",
       "<polygon fill=\"black\" stroke=\"black\" points=\"676.49,-1626.07 672.71,-1616.17 669.49,-1626.27 676.49,-1626.07\"/>\n",
       "<text text-anchor=\"middle\" x=\"685\" y=\"-1689.8\" font-family=\"Times,serif\" font-size=\"14.00\">1</text>\n",
       "</g>\n",
       "<!-- 9 -->\n",
       "<g id=\"node9\" class=\"node\">\n",
       "<title>9</title>\n",
       "<polygon fill=\"none\" stroke=\"black\" points=\"887.5,-1393 785.5,-1393 785.5,-1325 887.5,-1325 887.5,-1393\"/>\n",
       "<text text-anchor=\"middle\" x=\"836.5\" y=\"-1377.8\" font-family=\"Times,serif\" font-size=\"14.00\">[9]</text>\n",
       "<text text-anchor=\"middle\" x=\"836.5\" y=\"-1362.8\" font-family=\"Times,serif\" font-size=\"14.00\">CokernelColift</text>\n",
       "<text text-anchor=\"middle\" x=\"836.5\" y=\"-1347.8\" font-family=\"Times,serif\" font-size=\"14.00\">WithGiven</text>\n",
       "<text text-anchor=\"middle\" x=\"836.5\" y=\"-1332.8\" font-family=\"Times,serif\" font-size=\"14.00\">CokernelObject</text>\n",
       "</g>\n",
       "<!-- 1&#45;&gt;9 -->\n",
       "<g id=\"edge3\" class=\"edge\">\n",
       "<title>1&#45;&gt;9</title>\n",
       "<path fill=\"none\" stroke=\"black\" d=\"M738.19,-1780.72C777.56,-1768.3 834.5,-1742.11 834.5,-1694.5 834.5,-1694.5 834.5,-1694.5 834.5,-1469.5 834.5,-1447.64 834.9,-1423.33 835.35,-1403.18\"/>\n",
       "<polygon fill=\"black\" stroke=\"black\" points=\"838.85,-1403.14 835.58,-1393.06 831.85,-1402.98 838.85,-1403.14\"/>\n",
       "<text text-anchor=\"middle\" x=\"838\" y=\"-1578.3\" font-family=\"Times,serif\" font-size=\"14.00\">1</text>\n",
       "</g>\n",
       "<!-- 11 -->\n",
       "<g id=\"node11\" class=\"node\">\n",
       "<title>11</title>\n",
       "<polygon fill=\"none\" stroke=\"black\" points=\"294.5,-1497 226.5,-1497 226.5,-1444 294.5,-1444 294.5,-1497\"/>\n",
       "<text text-anchor=\"middle\" x=\"260.5\" y=\"-1481.8\" font-family=\"Times,serif\" font-size=\"14.00\">[11]</text>\n",
       "<text text-anchor=\"middle\" x=\"260.5\" y=\"-1466.8\" font-family=\"Times,serif\" font-size=\"14.00\">Pre</text>\n",
       "<text text-anchor=\"middle\" x=\"260.5\" y=\"-1451.8\" font-family=\"Times,serif\" font-size=\"14.00\">Compose</text>\n",
       "</g>\n",
       "<!-- 1&#45;&gt;11 -->\n",
       "<g id=\"edge4\" class=\"edge\">\n",
       "<title>1&#45;&gt;11</title>\n",
       "<path fill=\"none\" stroke=\"black\" d=\"M664.84,-1772.29C590.27,-1735.03 418.13,-1642.62 301.5,-1530 294.01,-1522.76 287.02,-1513.98 281.01,-1505.44\"/>\n",
       "<polygon fill=\"black\" stroke=\"black\" points=\"283.84,-1503.38 275.34,-1497.05 278.03,-1507.29 283.84,-1503.38\"/>\n",
       "<text text-anchor=\"middle\" x=\"455\" y=\"-1637.8\" font-family=\"Times,serif\" font-size=\"14.00\">1</text>\n",
       "</g>\n",
       "<!-- 2&#45;&gt;7 -->\n",
       "<g id=\"edge5\" class=\"edge\">\n",
       "<title>2&#45;&gt;7</title>\n",
       "<path fill=\"none\" stroke=\"black\" d=\"M716.9,-1666.83C710.36,-1654.49 702.36,-1639.37 694.95,-1625.38\"/>\n",
       "<polygon fill=\"black\" stroke=\"black\" points=\"697.97,-1623.6 690.19,-1616.4 691.78,-1626.88 697.97,-1623.6\"/>\n",
       "<text text-anchor=\"middle\" x=\"710\" y=\"-1637.8\" font-family=\"Times,serif\" font-size=\"14.00\">2</text>\n",
       "</g>\n",
       "<!-- 2&#45;&gt;9 -->\n",
       "<g id=\"edge6\" class=\"edge\">\n",
       "<title>2&#45;&gt;9</title>\n",
       "<path fill=\"none\" stroke=\"black\" d=\"M738.64,-1666.96C756.73,-1610.22 800.43,-1473.14 822.8,-1402.96\"/>\n",
       "<polygon fill=\"black\" stroke=\"black\" points=\"826.24,-1403.7 825.94,-1393.11 819.57,-1401.58 826.24,-1403.7\"/>\n",
       "<text text-anchor=\"middle\" x=\"789\" y=\"-1518.8\" font-family=\"Times,serif\" font-size=\"14.00\">3</text>\n",
       "</g>\n",
       "<!-- 3 -->\n",
       "<g id=\"node3\" class=\"node\">\n",
       "<title>3</title>\n",
       "<polygon fill=\"none\" stroke=\"black\" points=\"539,-1616 466,-1616 466,-1548 539,-1548 539,-1616\"/>\n",
       "<text text-anchor=\"middle\" x=\"502.5\" y=\"-1600.8\" font-family=\"Times,serif\" font-size=\"14.00\">[3]</text>\n",
       "<text text-anchor=\"middle\" x=\"502.5\" y=\"-1585.8\" font-family=\"Times,serif\" font-size=\"14.00\">primitive</text>\n",
       "<text text-anchor=\"middle\" x=\"502.5\" y=\"-1570.8\" font-family=\"Times,serif\" font-size=\"14.00\">morphism</text>\n",
       "<text text-anchor=\"middle\" x=\"502.5\" y=\"-1555.8\" font-family=\"Times,serif\" font-size=\"14.00\">&lt;b&gt;</text>\n",
       "</g>\n",
       "<!-- 5 -->\n",
       "<g id=\"node5\" class=\"node\">\n",
       "<title>5</title>\n",
       "<polygon fill=\"none\" stroke=\"black\" points=\"466.5,-1497 398.5,-1497 398.5,-1444 466.5,-1444 466.5,-1497\"/>\n",
       "<text text-anchor=\"middle\" x=\"432.5\" y=\"-1481.8\" font-family=\"Times,serif\" font-size=\"14.00\">[5]</text>\n",
       "<text text-anchor=\"middle\" x=\"432.5\" y=\"-1466.8\" font-family=\"Times,serif\" font-size=\"14.00\">Pre</text>\n",
       "<text text-anchor=\"middle\" x=\"432.5\" y=\"-1451.8\" font-family=\"Times,serif\" font-size=\"14.00\">Compose</text>\n",
       "</g>\n",
       "<!-- 3&#45;&gt;5 -->\n",
       "<g id=\"edge7\" class=\"edge\">\n",
       "<title>3&#45;&gt;5</title>\n",
       "<path fill=\"none\" stroke=\"black\" d=\"M481.31,-1547.85C472.79,-1534.53 462.98,-1519.17 454.39,-1505.74\"/>\n",
       "<polygon fill=\"black\" stroke=\"black\" points=\"457.29,-1503.78 448.95,-1497.24 451.39,-1507.55 457.29,-1503.78\"/>\n",
       "<text text-anchor=\"middle\" x=\"474\" y=\"-1518.8\" font-family=\"Times,serif\" font-size=\"14.00\">1</text>\n",
       "</g>\n",
       "<!-- 8 -->\n",
       "<g id=\"node8\" class=\"node\">\n",
       "<title>8</title>\n",
       "<polygon fill=\"none\" stroke=\"black\" points=\"634.5,-1489.5 574.5,-1489.5 574.5,-1451.5 634.5,-1451.5 634.5,-1489.5\"/>\n",
       "<text text-anchor=\"middle\" x=\"604.5\" y=\"-1474.3\" font-family=\"Times,serif\" font-size=\"14.00\">[8]</text>\n",
       "<text text-anchor=\"middle\" x=\"604.5\" y=\"-1459.3\" font-family=\"Times,serif\" font-size=\"14.00\">Pushout</text>\n",
       "</g>\n",
       "<!-- 3&#45;&gt;8 -->\n",
       "<g id=\"edge8\" class=\"edge\">\n",
       "<title>3&#45;&gt;8</title>\n",
       "<path fill=\"none\" stroke=\"black\" d=\"M539.03,-1550.14C546.05,-1543.71 553.18,-1536.81 559.5,-1530 568.76,-1520.02 578.09,-1508.25 585.83,-1497.89\"/>\n",
       "<polygon fill=\"black\" stroke=\"black\" points=\"588.83,-1499.73 591.92,-1489.59 583.18,-1495.58 588.83,-1499.73\"/>\n",
       "<text text-anchor=\"middle\" x=\"575\" y=\"-1518.8\" font-family=\"Times,serif\" font-size=\"14.00\">2</text>\n",
       "</g>\n",
       "<!-- 3&#45;&gt;11 -->\n",
       "<g id=\"edge9\" class=\"edge\">\n",
       "<title>3&#45;&gt;11</title>\n",
       "<path fill=\"none\" stroke=\"black\" d=\"M465.89,-1565.01C434.75,-1551.49 388.81,-1531.7 348.5,-1515 328.6,-1506.76 322.82,-1506.52 303.5,-1497 303.41,-1496.95 303.32,-1496.91 303.22,-1496.86\"/>\n",
       "<polygon fill=\"black\" stroke=\"black\" points=\"304.99,-1493.84 294.5,-1492.31 301.75,-1500.04 304.99,-1493.84\"/>\n",
       "<text text-anchor=\"middle\" x=\"386\" y=\"-1518.8\" font-family=\"Times,serif\" font-size=\"14.00\">2</text>\n",
       "</g>\n",
       "<!-- 13 -->\n",
       "<g id=\"node13\" class=\"node\">\n",
       "<title>13</title>\n",
       "<polygon fill=\"none\" stroke=\"black\" points=\"565.5,-1385.5 381.5,-1385.5 381.5,-1332.5 565.5,-1332.5 565.5,-1385.5\"/>\n",
       "<text text-anchor=\"middle\" x=\"473.5\" y=\"-1370.3\" font-family=\"Times,serif\" font-size=\"14.00\">[13]</text>\n",
       "<text text-anchor=\"middle\" x=\"473.5\" y=\"-1355.3\" font-family=\"Times,serif\" font-size=\"14.00\">InjectionOfCofactorOfPushout</text>\n",
       "<text text-anchor=\"middle\" x=\"473.5\" y=\"-1340.3\" font-family=\"Times,serif\" font-size=\"14.00\">WithGivenPushout( 2 )</text>\n",
       "</g>\n",
       "<!-- 3&#45;&gt;13 -->\n",
       "<g id=\"edge10\" class=\"edge\">\n",
       "<title>3&#45;&gt;13</title>\n",
       "<path fill=\"none\" stroke=\"black\" d=\"M498.16,-1547.91C492.8,-1507.06 483.72,-1437.85 478.2,-1395.79\"/>\n",
       "<polygon fill=\"black\" stroke=\"black\" points=\"481.65,-1395.18 476.87,-1385.72 474.71,-1396.09 481.65,-1395.18\"/>\n",
       "<text text-anchor=\"middle\" x=\"495\" y=\"-1466.8\" font-family=\"Times,serif\" font-size=\"14.00\">2</text>\n",
       "</g>\n",
       "<!-- 16 -->\n",
       "<g id=\"node16\" class=\"node\">\n",
       "<title>16</title>\n",
       "<polygon fill=\"none\" stroke=\"black\" points=\"767.5,-1385.5 583.5,-1385.5 583.5,-1332.5 767.5,-1332.5 767.5,-1385.5\"/>\n",
       "<text text-anchor=\"middle\" x=\"675.5\" y=\"-1370.3\" font-family=\"Times,serif\" font-size=\"14.00\">[16]</text>\n",
       "<text text-anchor=\"middle\" x=\"675.5\" y=\"-1355.3\" font-family=\"Times,serif\" font-size=\"14.00\">InjectionOfCofactorOfPushout</text>\n",
       "<text text-anchor=\"middle\" x=\"675.5\" y=\"-1340.3\" font-family=\"Times,serif\" font-size=\"14.00\">WithGivenPushout( 1 )</text>\n",
       "</g>\n",
       "<!-- 3&#45;&gt;16 -->\n",
       "<g id=\"edge11\" class=\"edge\">\n",
       "<title>3&#45;&gt;16</title>\n",
       "<path fill=\"none\" stroke=\"black\" d=\"M510.22,-1547.87C520.9,-1504.41 540.98,-1431.29 559.5,-1411 566.71,-1403.1 575.37,-1396.36 584.66,-1390.63\"/>\n",
       "<polygon fill=\"black\" stroke=\"black\" points=\"586.42,-1393.66 593.35,-1385.64 582.93,-1387.59 586.42,-1393.66\"/>\n",
       "<text text-anchor=\"middle\" x=\"545\" y=\"-1466.8\" font-family=\"Times,serif\" font-size=\"14.00\">2</text>\n",
       "</g>\n",
       "<!-- 4 -->\n",
       "<g id=\"node4\" class=\"node\">\n",
       "<title>4</title>\n",
       "<polygon fill=\"none\" stroke=\"black\" points=\"216,-1616 143,-1616 143,-1548 216,-1548 216,-1616\"/>\n",
       "<text text-anchor=\"middle\" x=\"179.5\" y=\"-1600.8\" font-family=\"Times,serif\" font-size=\"14.00\">[4]</text>\n",
       "<text text-anchor=\"middle\" x=\"179.5\" y=\"-1585.8\" font-family=\"Times,serif\" font-size=\"14.00\">primitive</text>\n",
       "<text text-anchor=\"middle\" x=\"179.5\" y=\"-1570.8\" font-family=\"Times,serif\" font-size=\"14.00\">morphism</text>\n",
       "<text text-anchor=\"middle\" x=\"179.5\" y=\"-1555.8\" font-family=\"Times,serif\" font-size=\"14.00\">&lt;c&gt;</text>\n",
       "</g>\n",
       "<!-- 4&#45;&gt;5 -->\n",
       "<g id=\"edge12\" class=\"edge\">\n",
       "<title>4&#45;&gt;5</title>\n",
       "<path fill=\"none\" stroke=\"black\" d=\"M216.14,-1565.61C248.69,-1552.03 297.61,-1531.83 340.5,-1515 361.71,-1506.68 367.91,-1506.75 388.5,-1497 388.7,-1496.91 388.9,-1496.81 389.1,-1496.72\"/>\n",
       "<polygon fill=\"black\" stroke=\"black\" points=\"390.87,-1499.74 398.2,-1492.1 387.7,-1493.5 390.87,-1499.74\"/>\n",
       "<text text-anchor=\"middle\" x=\"344\" y=\"-1518.8\" font-family=\"Times,serif\" font-size=\"14.00\">2</text>\n",
       "</g>\n",
       "<!-- 12 -->\n",
       "<g id=\"node12\" class=\"node\">\n",
       "<title>12</title>\n",
       "<polygon fill=\"none\" stroke=\"black\" points=\"165.5,-1497 111.5,-1497 111.5,-1444 165.5,-1444 165.5,-1497\"/>\n",
       "<text text-anchor=\"middle\" x=\"138.5\" y=\"-1481.8\" font-family=\"Times,serif\" font-size=\"14.00\">[12]</text>\n",
       "<text text-anchor=\"middle\" x=\"138.5\" y=\"-1466.8\" font-family=\"Times,serif\" font-size=\"14.00\">Kernel</text>\n",
       "<text text-anchor=\"middle\" x=\"138.5\" y=\"-1451.8\" font-family=\"Times,serif\" font-size=\"14.00\">Object</text>\n",
       "</g>\n",
       "<!-- 4&#45;&gt;12 -->\n",
       "<g id=\"edge13\" class=\"edge\">\n",
       "<title>4&#45;&gt;12</title>\n",
       "<path fill=\"none\" stroke=\"black\" d=\"M167.09,-1547.85C162.24,-1534.91 156.68,-1520.05 151.75,-1506.9\"/>\n",
       "<polygon fill=\"black\" stroke=\"black\" points=\"154.92,-1505.37 148.14,-1497.24 148.37,-1507.83 154.92,-1505.37\"/>\n",
       "</g>\n",
       "<!-- 18 -->\n",
       "<g id=\"node18\" class=\"node\">\n",
       "<title>18</title>\n",
       "<polygon fill=\"none\" stroke=\"black\" points=\"131,-1393 42,-1393 42,-1325 131,-1325 131,-1393\"/>\n",
       "<text text-anchor=\"middle\" x=\"86.5\" y=\"-1377.8\" font-family=\"Times,serif\" font-size=\"14.00\">[18]</text>\n",
       "<text text-anchor=\"middle\" x=\"86.5\" y=\"-1362.8\" font-family=\"Times,serif\" font-size=\"14.00\">KernelLift</text>\n",
       "<text text-anchor=\"middle\" x=\"86.5\" y=\"-1347.8\" font-family=\"Times,serif\" font-size=\"14.00\">WithGiven</text>\n",
       "<text text-anchor=\"middle\" x=\"86.5\" y=\"-1332.8\" font-family=\"Times,serif\" font-size=\"14.00\">KernelObject</text>\n",
       "</g>\n",
       "<!-- 4&#45;&gt;18 -->\n",
       "<g id=\"edge14\" class=\"edge\">\n",
       "<title>4&#45;&gt;18</title>\n",
       "<path fill=\"none\" stroke=\"black\" d=\"M142.65,-1554.52C125.13,-1539.74 105.8,-1519.73 95.5,-1497 82.24,-1467.74 80.45,-1431.31 81.72,-1403.38\"/>\n",
       "<polygon fill=\"black\" stroke=\"black\" points=\"85.23,-1403.31 82.34,-1393.12 78.25,-1402.89 85.23,-1403.31\"/>\n",
       "<text text-anchor=\"middle\" x=\"99\" y=\"-1466.8\" font-family=\"Times,serif\" font-size=\"14.00\">1</text>\n",
       "</g>\n",
       "<!-- 21 -->\n",
       "<g id=\"node21\" class=\"node\">\n",
       "<title>21</title>\n",
       "<polygon fill=\"none\" stroke=\"black\" points=\"265.5,-1393 149.5,-1393 149.5,-1325 265.5,-1325 265.5,-1393\"/>\n",
       "<text text-anchor=\"middle\" x=\"207.5\" y=\"-1377.8\" font-family=\"Times,serif\" font-size=\"14.00\">[21]</text>\n",
       "<text text-anchor=\"middle\" x=\"207.5\" y=\"-1362.8\" font-family=\"Times,serif\" font-size=\"14.00\">KernelEmbedding</text>\n",
       "<text text-anchor=\"middle\" x=\"207.5\" y=\"-1347.8\" font-family=\"Times,serif\" font-size=\"14.00\">WithGiven</text>\n",
       "<text text-anchor=\"middle\" x=\"207.5\" y=\"-1332.8\" font-family=\"Times,serif\" font-size=\"14.00\">KernelObject</text>\n",
       "</g>\n",
       "<!-- 4&#45;&gt;21 -->\n",
       "<g id=\"edge15\" class=\"edge\">\n",
       "<title>4&#45;&gt;21</title>\n",
       "<path fill=\"none\" stroke=\"black\" d=\"M183.69,-1547.91C188.57,-1509.42 196.64,-1445.75 202.01,-1403.34\"/>\n",
       "<polygon fill=\"black\" stroke=\"black\" points=\"205.49,-1403.67 203.28,-1393.31 198.55,-1402.79 205.49,-1403.67\"/>\n",
       "<text text-anchor=\"middle\" x=\"201\" y=\"-1466.8\" font-family=\"Times,serif\" font-size=\"14.00\">1</text>\n",
       "</g>\n",
       "<!-- 5&#45;&gt;9 -->\n",
       "<g id=\"edge16\" class=\"edge\">\n",
       "<title>5&#45;&gt;9</title>\n",
       "<path fill=\"none\" stroke=\"black\" d=\"M466.76,-1450.39C471.32,-1448.11 475.98,-1445.92 480.5,-1444 523.96,-1425.52 535.25,-1420.56 581.5,-1411 663.65,-1394.01 691.29,-1416.75 775.65,-1392.75\"/>\n",
       "<polygon fill=\"black\" stroke=\"black\" points=\"776.8,-1396.06 785.39,-1389.85 774.8,-1389.36 776.8,-1396.06\"/>\n",
       "<text text-anchor=\"middle\" x=\"585\" y=\"-1414.8\" font-family=\"Times,serif\" font-size=\"14.00\">2</text>\n",
       "</g>\n",
       "<!-- 6 -->\n",
       "<g id=\"node6\" class=\"node\">\n",
       "<title>6</title>\n",
       "<polygon fill=\"none\" stroke=\"black\" points=\"380,-1497 313,-1497 313,-1444 380,-1444 380,-1497\"/>\n",
       "<text text-anchor=\"middle\" x=\"346.5\" y=\"-1481.8\" font-family=\"Times,serif\" font-size=\"14.00\">[6]</text>\n",
       "<text text-anchor=\"middle\" x=\"346.5\" y=\"-1466.8\" font-family=\"Times,serif\" font-size=\"14.00\">primitive</text>\n",
       "<text text-anchor=\"middle\" x=\"346.5\" y=\"-1451.8\" font-family=\"Times,serif\" font-size=\"14.00\">object</text>\n",
       "</g>\n",
       "<!-- 14 -->\n",
       "<g id=\"node14\" class=\"node\">\n",
       "<title>14</title>\n",
       "<polygon fill=\"none\" stroke=\"black\" points=\"363.5,-1385.5 289.5,-1385.5 289.5,-1332.5 363.5,-1332.5 363.5,-1385.5\"/>\n",
       "<text text-anchor=\"middle\" x=\"326.5\" y=\"-1370.3\" font-family=\"Times,serif\" font-size=\"14.00\">[14]</text>\n",
       "<text text-anchor=\"middle\" x=\"326.5\" y=\"-1355.3\" font-family=\"Times,serif\" font-size=\"14.00\">Identity</text>\n",
       "<text text-anchor=\"middle\" x=\"326.5\" y=\"-1340.3\" font-family=\"Times,serif\" font-size=\"14.00\">Morphism</text>\n",
       "</g>\n",
       "<!-- 6&#45;&gt;14 -->\n",
       "<g id=\"edge17\" class=\"edge\">\n",
       "<title>6&#45;&gt;14</title>\n",
       "<path fill=\"none\" stroke=\"black\" d=\"M341.81,-1443.83C339.18,-1429.41 335.85,-1411.21 332.97,-1395.45\"/>\n",
       "<polygon fill=\"black\" stroke=\"black\" points=\"336.4,-1394.72 331.16,-1385.51 329.51,-1395.98 336.4,-1394.72\"/>\n",
       "</g>\n",
       "<!-- 7&#45;&gt;8 -->\n",
       "<g id=\"edge18\" class=\"edge\">\n",
       "<title>7&#45;&gt;8</title>\n",
       "<path fill=\"none\" stroke=\"black\" d=\"M651.91,-1547.85C642.07,-1532 630.45,-1513.28 621.17,-1498.34\"/>\n",
       "<polygon fill=\"black\" stroke=\"black\" points=\"623.98,-1496.24 615.73,-1489.59 618.04,-1499.93 623.98,-1496.24\"/>\n",
       "<text text-anchor=\"middle\" x=\"645\" y=\"-1518.8\" font-family=\"Times,serif\" font-size=\"14.00\">1</text>\n",
       "</g>\n",
       "<!-- 7&#45;&gt;13 -->\n",
       "<g id=\"edge19\" class=\"edge\">\n",
       "<title>7&#45;&gt;13</title>\n",
       "<path fill=\"none\" stroke=\"black\" d=\"M673.19,-1547.65C673.38,-1503.95 670.96,-1430.55 653.5,-1411 629.51,-1384.14 609.21,-1402.6 574.5,-1393 569.33,-1391.57 564.04,-1390.04 558.71,-1388.45\"/>\n",
       "<polygon fill=\"black\" stroke=\"black\" points=\"559.69,-1385.09 549.1,-1385.53 557.66,-1391.79 559.69,-1385.09\"/>\n",
       "<text text-anchor=\"middle\" x=\"675\" y=\"-1466.8\" font-family=\"Times,serif\" font-size=\"14.00\">1</text>\n",
       "</g>\n",
       "<!-- 7&#45;&gt;16 -->\n",
       "<g id=\"edge20\" class=\"edge\">\n",
       "<title>7&#45;&gt;16</title>\n",
       "<path fill=\"none\" stroke=\"black\" d=\"M681.49,-1547.73C682.74,-1541.86 683.83,-1535.78 684.5,-1530 690.6,-1477.46 689.11,-1463.69 684.5,-1411 684.07,-1406.05 683.4,-1400.87 682.63,-1395.78\"/>\n",
       "<polygon fill=\"black\" stroke=\"black\" points=\"686.02,-1394.85 680.91,-1385.57 679.12,-1396.01 686.02,-1394.85\"/>\n",
       "<text text-anchor=\"middle\" x=\"692\" y=\"-1466.8\" font-family=\"Times,serif\" font-size=\"14.00\">1</text>\n",
       "</g>\n",
       "<!-- 8&#45;&gt;13 -->\n",
       "<g id=\"edge21\" class=\"edge\">\n",
       "<title>8&#45;&gt;13</title>\n",
       "<path fill=\"none\" stroke=\"black\" d=\"M602.87,-1451.49C600.86,-1438.84 596.41,-1422.24 586.5,-1411 579.6,-1403.17 571.25,-1396.48 562.26,-1390.77\"/>\n",
       "<polygon fill=\"black\" stroke=\"black\" points=\"563.86,-1387.65 553.47,-1385.6 560.31,-1393.68 563.86,-1387.65\"/>\n",
       "<text text-anchor=\"middle\" x=\"599\" y=\"-1414.8\" font-family=\"Times,serif\" font-size=\"14.00\">3</text>\n",
       "</g>\n",
       "<!-- 8&#45;&gt;16 -->\n",
       "<g id=\"edge22\" class=\"edge\">\n",
       "<title>8&#45;&gt;16</title>\n",
       "<path fill=\"none\" stroke=\"black\" d=\"M616.22,-1451.42C626.22,-1436 640.87,-1413.4 653.11,-1394.54\"/>\n",
       "<polygon fill=\"black\" stroke=\"black\" points=\"656.21,-1396.19 658.71,-1385.89 650.33,-1392.38 656.21,-1396.19\"/>\n",
       "<text text-anchor=\"middle\" x=\"646\" y=\"-1414.8\" font-family=\"Times,serif\" font-size=\"14.00\">3</text>\n",
       "</g>\n",
       "<!-- 10 -->\n",
       "<g id=\"node10\" class=\"node\">\n",
       "<title>10</title>\n",
       "<polygon fill=\"none\" stroke=\"black\" points=\"800.5,-1274 746.5,-1274 746.5,-1221 800.5,-1221 800.5,-1274\"/>\n",
       "<text text-anchor=\"middle\" x=\"773.5\" y=\"-1258.8\" font-family=\"Times,serif\" font-size=\"14.00\">[10]</text>\n",
       "<text text-anchor=\"middle\" x=\"773.5\" y=\"-1243.8\" font-family=\"Times,serif\" font-size=\"14.00\">Kernel</text>\n",
       "<text text-anchor=\"middle\" x=\"773.5\" y=\"-1228.8\" font-family=\"Times,serif\" font-size=\"14.00\">Object</text>\n",
       "</g>\n",
       "<!-- 9&#45;&gt;10 -->\n",
       "<g id=\"edge23\" class=\"edge\">\n",
       "<title>9&#45;&gt;10</title>\n",
       "<path fill=\"none\" stroke=\"black\" d=\"M817.43,-1324.85C809.84,-1311.65 801.1,-1296.47 793.42,-1283.13\"/>\n",
       "<polygon fill=\"black\" stroke=\"black\" points=\"796.33,-1281.16 788.31,-1274.24 790.26,-1284.65 796.33,-1281.16\"/>\n",
       "</g>\n",
       "<!-- 17 -->\n",
       "<g id=\"node17\" class=\"node\">\n",
       "<title>17</title>\n",
       "<polygon fill=\"none\" stroke=\"black\" points=\"831.5,-1132 715.5,-1132 715.5,-1064 831.5,-1064 831.5,-1132\"/>\n",
       "<text text-anchor=\"middle\" x=\"773.5\" y=\"-1116.8\" font-family=\"Times,serif\" font-size=\"14.00\">[17]</text>\n",
       "<text text-anchor=\"middle\" x=\"773.5\" y=\"-1101.8\" font-family=\"Times,serif\" font-size=\"14.00\">KernelEmbedding</text>\n",
       "<text text-anchor=\"middle\" x=\"773.5\" y=\"-1086.8\" font-family=\"Times,serif\" font-size=\"14.00\">WithGiven</text>\n",
       "<text text-anchor=\"middle\" x=\"773.5\" y=\"-1071.8\" font-family=\"Times,serif\" font-size=\"14.00\">KernelObject</text>\n",
       "</g>\n",
       "<!-- 9&#45;&gt;17 -->\n",
       "<g id=\"edge24\" class=\"edge\">\n",
       "<title>9&#45;&gt;17</title>\n",
       "<path fill=\"none\" stroke=\"black\" d=\"M830.86,-1324.87C825.9,-1297.01 818.14,-1256.2 809.5,-1221 802.98,-1194.45 794.35,-1165.04 787.17,-1141.75\"/>\n",
       "<polygon fill=\"black\" stroke=\"black\" points=\"790.5,-1140.68 784.19,-1132.17 783.82,-1142.76 790.5,-1140.68\"/>\n",
       "<text text-anchor=\"middle\" x=\"824\" y=\"-1243.8\" font-family=\"Times,serif\" font-size=\"14.00\">1</text>\n",
       "</g>\n",
       "<!-- 10&#45;&gt;17 -->\n",
       "<g id=\"edge25\" class=\"edge\">\n",
       "<title>10&#45;&gt;17</title>\n",
       "<path fill=\"none\" stroke=\"black\" d=\"M773.5,-1220.81C773.5,-1199.19 773.5,-1167.81 773.5,-1142.32\"/>\n",
       "<polygon fill=\"black\" stroke=\"black\" points=\"777,-1142.16 773.5,-1132.16 770,-1142.16 777,-1142.16\"/>\n",
       "<text text-anchor=\"middle\" x=\"777\" y=\"-1172.8\" font-family=\"Times,serif\" font-size=\"14.00\">2</text>\n",
       "</g>\n",
       "<!-- 11&#45;&gt;18 -->\n",
       "<g id=\"edge26\" class=\"edge\">\n",
       "<title>11&#45;&gt;18</title>\n",
       "<path fill=\"none\" stroke=\"black\" d=\"M232.05,-1443.75C218.85,-1432.69 202.55,-1420.21 186.5,-1411 167.46,-1400.07 160.16,-1402.76 140.5,-1393 140.4,-1392.95 140.31,-1392.91 140.21,-1392.86\"/>\n",
       "<polygon fill=\"black\" stroke=\"black\" points=\"141.73,-1389.7 131.25,-1388.16 138.48,-1395.9 141.73,-1389.7\"/>\n",
       "<text text-anchor=\"middle\" x=\"212\" y=\"-1414.8\" font-family=\"Times,serif\" font-size=\"14.00\">2</text>\n",
       "</g>\n",
       "<!-- 12&#45;&gt;18 -->\n",
       "<g id=\"edge27\" class=\"edge\">\n",
       "<title>12&#45;&gt;18</title>\n",
       "<path fill=\"none\" stroke=\"black\" d=\"M126.31,-1443.83C120.5,-1431.6 113.4,-1416.66 106.82,-1402.78\"/>\n",
       "<polygon fill=\"black\" stroke=\"black\" points=\"109.81,-1400.93 102.36,-1393.4 103.49,-1403.94 109.81,-1400.93\"/>\n",
       "<text text-anchor=\"middle\" x=\"121\" y=\"-1414.8\" font-family=\"Times,serif\" font-size=\"14.00\">3</text>\n",
       "</g>\n",
       "<!-- 12&#45;&gt;21 -->\n",
       "<g id=\"edge28\" class=\"edge\">\n",
       "<title>12&#45;&gt;21</title>\n",
       "<path fill=\"none\" stroke=\"black\" d=\"M154.68,-1443.83C162.53,-1431.37 172.16,-1416.08 181.04,-1401.99\"/>\n",
       "<polygon fill=\"black\" stroke=\"black\" points=\"184.08,-1403.73 186.45,-1393.4 178.16,-1400 184.08,-1403.73\"/>\n",
       "<text text-anchor=\"middle\" x=\"179\" y=\"-1414.8\" font-family=\"Times,serif\" font-size=\"14.00\">2</text>\n",
       "</g>\n",
       "<!-- 15 -->\n",
       "<g id=\"node15\" class=\"node\">\n",
       "<title>15</title>\n",
       "<polygon fill=\"none\" stroke=\"black\" points=\"437.5,-1266.5 377.5,-1266.5 377.5,-1228.5 437.5,-1228.5 437.5,-1266.5\"/>\n",
       "<text text-anchor=\"middle\" x=\"407.5\" y=\"-1251.3\" font-family=\"Times,serif\" font-size=\"14.00\">[15]</text>\n",
       "<text text-anchor=\"middle\" x=\"407.5\" y=\"-1236.3\" font-family=\"Times,serif\" font-size=\"14.00\">Pushout</text>\n",
       "</g>\n",
       "<!-- 13&#45;&gt;15 -->\n",
       "<g id=\"edge29\" class=\"edge\">\n",
       "<title>13&#45;&gt;15</title>\n",
       "<path fill=\"none\" stroke=\"black\" d=\"M458.03,-1332.33C447.8,-1315.37 434.42,-1293.16 423.99,-1275.87\"/>\n",
       "<polygon fill=\"black\" stroke=\"black\" points=\"426.71,-1273.58 418.55,-1266.83 420.71,-1277.2 426.71,-1273.58\"/>\n",
       "<text text-anchor=\"middle\" x=\"446\" y=\"-1295.8\" font-family=\"Times,serif\" font-size=\"14.00\">1</text>\n",
       "</g>\n",
       "<!-- 20 -->\n",
       "<g id=\"node20\" class=\"node\">\n",
       "<title>20</title>\n",
       "<polygon fill=\"none\" stroke=\"black\" points=\"418.5,-1124.5 234.5,-1124.5 234.5,-1071.5 418.5,-1071.5 418.5,-1124.5\"/>\n",
       "<text text-anchor=\"middle\" x=\"326.5\" y=\"-1109.3\" font-family=\"Times,serif\" font-size=\"14.00\">[20]</text>\n",
       "<text text-anchor=\"middle\" x=\"326.5\" y=\"-1094.3\" font-family=\"Times,serif\" font-size=\"14.00\">InjectionOfCofactorOfPushout</text>\n",
       "<text text-anchor=\"middle\" x=\"326.5\" y=\"-1079.3\" font-family=\"Times,serif\" font-size=\"14.00\">WithGivenPushout( 2 )</text>\n",
       "</g>\n",
       "<!-- 13&#45;&gt;20 -->\n",
       "<g id=\"edge30\" class=\"edge\">\n",
       "<title>13&#45;&gt;20</title>\n",
       "<path fill=\"none\" stroke=\"black\" d=\"M471.72,-1332.29C469.02,-1304.01 462.4,-1257.7 446.5,-1221 431.06,-1185.35 422.79,-1177.66 395.5,-1150 388.89,-1143.3 381.35,-1136.81 373.73,-1130.82\"/>\n",
       "<polygon fill=\"black\" stroke=\"black\" points=\"375.55,-1127.81 365.47,-1124.54 371.31,-1133.38 375.55,-1127.81\"/>\n",
       "<text text-anchor=\"middle\" x=\"467\" y=\"-1243.8\" font-family=\"Times,serif\" font-size=\"14.00\">1</text>\n",
       "</g>\n",
       "<!-- 22 -->\n",
       "<g id=\"node22\" class=\"node\">\n",
       "<title>22</title>\n",
       "<polygon fill=\"none\" stroke=\"black\" points=\"620.5,-1124.5 436.5,-1124.5 436.5,-1071.5 620.5,-1071.5 620.5,-1124.5\"/>\n",
       "<text text-anchor=\"middle\" x=\"528.5\" y=\"-1109.3\" font-family=\"Times,serif\" font-size=\"14.00\">[22]</text>\n",
       "<text text-anchor=\"middle\" x=\"528.5\" y=\"-1094.3\" font-family=\"Times,serif\" font-size=\"14.00\">InjectionOfCofactorOfPushout</text>\n",
       "<text text-anchor=\"middle\" x=\"528.5\" y=\"-1079.3\" font-family=\"Times,serif\" font-size=\"14.00\">WithGivenPushout( 1 )</text>\n",
       "</g>\n",
       "<!-- 13&#45;&gt;22 -->\n",
       "<g id=\"edge31\" class=\"edge\">\n",
       "<title>13&#45;&gt;22</title>\n",
       "<path fill=\"none\" stroke=\"black\" d=\"M480.92,-1332.41C483.16,-1324.32 485.54,-1315.31 487.5,-1307 501.65,-1246.89 514.87,-1176.23 522.29,-1134.66\"/>\n",
       "<polygon fill=\"black\" stroke=\"black\" points=\"525.75,-1135.21 524.05,-1124.75 518.86,-1133.98 525.75,-1135.21\"/>\n",
       "<text text-anchor=\"middle\" x=\"510\" y=\"-1243.8\" font-family=\"Times,serif\" font-size=\"14.00\">1</text>\n",
       "</g>\n",
       "<!-- 14&#45;&gt;15 -->\n",
       "<g id=\"edge32\" class=\"edge\">\n",
       "<title>14&#45;&gt;15</title>\n",
       "<path fill=\"none\" stroke=\"black\" d=\"M347.12,-1332.26C353.43,-1324.24 360.33,-1315.31 366.5,-1307 374.16,-1296.68 382.33,-1285.12 389.36,-1275.03\"/>\n",
       "<polygon fill=\"black\" stroke=\"black\" points=\"392.38,-1276.82 395.19,-1266.6 386.62,-1272.83 392.38,-1276.82\"/>\n",
       "<text text-anchor=\"middle\" x=\"381\" y=\"-1295.8\" font-family=\"Times,serif\" font-size=\"14.00\">2</text>\n",
       "</g>\n",
       "<!-- 14&#45;&gt;20 -->\n",
       "<g id=\"edge33\" class=\"edge\">\n",
       "<title>14&#45;&gt;20</title>\n",
       "<path fill=\"none\" stroke=\"black\" d=\"M325.34,-1332.27C324.65,-1315.65 323.85,-1293.55 323.5,-1274 322.64,-1225.82 324,-1170.17 325.15,-1134.8\"/>\n",
       "<polygon fill=\"black\" stroke=\"black\" points=\"328.66,-1134.62 325.5,-1124.5 321.67,-1134.38 328.66,-1134.62\"/>\n",
       "<text text-anchor=\"middle\" x=\"327\" y=\"-1243.8\" font-family=\"Times,serif\" font-size=\"14.00\">2</text>\n",
       "</g>\n",
       "<!-- 14&#45;&gt;22 -->\n",
       "<g id=\"edge34\" class=\"edge\">\n",
       "<title>14&#45;&gt;22</title>\n",
       "<path fill=\"none\" stroke=\"black\" d=\"M332.63,-1332.42C341.87,-1294.12 358.6,-1225.83 361.5,-1221 385.46,-1181.14 427.92,-1150.38 464.04,-1129.72\"/>\n",
       "<polygon fill=\"black\" stroke=\"black\" points=\"466.03,-1132.62 473.06,-1124.69 462.63,-1126.5 466.03,-1132.62\"/>\n",
       "<text text-anchor=\"middle\" x=\"365\" y=\"-1243.8\" font-family=\"Times,serif\" font-size=\"14.00\">2</text>\n",
       "</g>\n",
       "<!-- 15&#45;&gt;20 -->\n",
       "<g id=\"edge35\" class=\"edge\">\n",
       "<title>15&#45;&gt;20</title>\n",
       "<path fill=\"none\" stroke=\"black\" d=\"M397.57,-1228.41C384.63,-1204.85 361.73,-1163.16 345.43,-1133.47\"/>\n",
       "<polygon fill=\"black\" stroke=\"black\" points=\"348.48,-1131.75 340.6,-1124.67 342.34,-1135.12 348.48,-1131.75\"/>\n",
       "<text text-anchor=\"middle\" x=\"388\" y=\"-1172.8\" font-family=\"Times,serif\" font-size=\"14.00\">3</text>\n",
       "</g>\n",
       "<!-- 15&#45;&gt;22 -->\n",
       "<g id=\"edge36\" class=\"edge\">\n",
       "<title>15&#45;&gt;22</title>\n",
       "<path fill=\"none\" stroke=\"black\" d=\"M422.34,-1228.41C441.83,-1204.65 476.46,-1162.44 500.85,-1132.7\"/>\n",
       "<polygon fill=\"black\" stroke=\"black\" points=\"503.8,-1134.62 507.44,-1124.67 498.39,-1130.18 503.8,-1134.62\"/>\n",
       "<text text-anchor=\"middle\" x=\"490\" y=\"-1172.8\" font-family=\"Times,serif\" font-size=\"14.00\">3</text>\n",
       "</g>\n",
       "<!-- 23 -->\n",
       "<g id=\"node23\" class=\"node\">\n",
       "<title>23</title>\n",
       "<polygon fill=\"none\" stroke=\"black\" points=\"709.5,-1005.5 641.5,-1005.5 641.5,-952.5 709.5,-952.5 709.5,-1005.5\"/>\n",
       "<text text-anchor=\"middle\" x=\"675.5\" y=\"-990.3\" font-family=\"Times,serif\" font-size=\"14.00\">[23]</text>\n",
       "<text text-anchor=\"middle\" x=\"675.5\" y=\"-975.3\" font-family=\"Times,serif\" font-size=\"14.00\">Pre</text>\n",
       "<text text-anchor=\"middle\" x=\"675.5\" y=\"-960.3\" font-family=\"Times,serif\" font-size=\"14.00\">Compose</text>\n",
       "</g>\n",
       "<!-- 16&#45;&gt;23 -->\n",
       "<g id=\"edge37\" class=\"edge\">\n",
       "<title>16&#45;&gt;23</title>\n",
       "<path fill=\"none\" stroke=\"black\" d=\"M675.5,-1332.32C675.5,-1266.45 675.5,-1091.43 675.5,-1015.72\"/>\n",
       "<polygon fill=\"black\" stroke=\"black\" points=\"679,-1015.72 675.5,-1005.72 672,-1015.72 679,-1015.72\"/>\n",
       "<text text-anchor=\"middle\" x=\"679\" y=\"-1172.8\" font-family=\"Times,serif\" font-size=\"14.00\">2</text>\n",
       "</g>\n",
       "<!-- 17&#45;&gt;23 -->\n",
       "<g id=\"edge38\" class=\"edge\">\n",
       "<title>17&#45;&gt;23</title>\n",
       "<path fill=\"none\" stroke=\"black\" d=\"M745.68,-1063.79C732.57,-1048.14 716.96,-1029.5 703.79,-1013.78\"/>\n",
       "<polygon fill=\"black\" stroke=\"black\" points=\"706.26,-1011.28 697.16,-1005.86 700.9,-1015.77 706.26,-1011.28\"/>\n",
       "<text text-anchor=\"middle\" x=\"733\" y=\"-1034.8\" font-family=\"Times,serif\" font-size=\"14.00\">1</text>\n",
       "</g>\n",
       "<!-- 19 -->\n",
       "<g id=\"node19\" class=\"node\">\n",
       "<title>19</title>\n",
       "<polygon fill=\"none\" stroke=\"black\" points=\"119.5,-1203 53.5,-1203 53.5,-1150 119.5,-1150 119.5,-1203\"/>\n",
       "<text text-anchor=\"middle\" x=\"86.5\" y=\"-1187.8\" font-family=\"Times,serif\" font-size=\"14.00\">[19]</text>\n",
       "<text text-anchor=\"middle\" x=\"86.5\" y=\"-1172.8\" font-family=\"Times,serif\" font-size=\"14.00\">Cokernel</text>\n",
       "<text text-anchor=\"middle\" x=\"86.5\" y=\"-1157.8\" font-family=\"Times,serif\" font-size=\"14.00\">Object</text>\n",
       "</g>\n",
       "<!-- 18&#45;&gt;19 -->\n",
       "<g id=\"edge39\" class=\"edge\">\n",
       "<title>18&#45;&gt;19</title>\n",
       "<path fill=\"none\" stroke=\"black\" d=\"M86.5,-1324.89C86.5,-1293.35 86.5,-1245.98 86.5,-1213.5\"/>\n",
       "<polygon fill=\"black\" stroke=\"black\" points=\"90,-1213.11 86.5,-1203.11 83,-1213.11 90,-1213.11\"/>\n",
       "</g>\n",
       "<!-- 25 -->\n",
       "<g id=\"node25\" class=\"node\">\n",
       "<title>25</title>\n",
       "<polygon fill=\"none\" stroke=\"black\" points=\"203.5,-1013 81.5,-1013 81.5,-945 203.5,-945 203.5,-1013\"/>\n",
       "<text text-anchor=\"middle\" x=\"142.5\" y=\"-997.8\" font-family=\"Times,serif\" font-size=\"14.00\">[25]</text>\n",
       "<text text-anchor=\"middle\" x=\"142.5\" y=\"-982.8\" font-family=\"Times,serif\" font-size=\"14.00\">CokernelProjection</text>\n",
       "<text text-anchor=\"middle\" x=\"142.5\" y=\"-967.8\" font-family=\"Times,serif\" font-size=\"14.00\">WithGiven</text>\n",
       "<text text-anchor=\"middle\" x=\"142.5\" y=\"-952.8\" font-family=\"Times,serif\" font-size=\"14.00\">CokernelObject</text>\n",
       "</g>\n",
       "<!-- 18&#45;&gt;25 -->\n",
       "<g id=\"edge40\" class=\"edge\">\n",
       "<title>18&#45;&gt;25</title>\n",
       "<path fill=\"none\" stroke=\"black\" d=\"M95.99,-1324.9C97.58,-1318.96 99.15,-1312.81 100.5,-1307 118.38,-1230.29 120.48,-1210.36 128.5,-1132 132.24,-1095.45 136.04,-1053.9 138.73,-1023.49\"/>\n",
       "<polygon fill=\"black\" stroke=\"black\" points=\"142.24,-1023.5 139.64,-1013.23 135.27,-1022.88 142.24,-1023.5\"/>\n",
       "<text text-anchor=\"middle\" x=\"131\" y=\"-1172.8\" font-family=\"Times,serif\" font-size=\"14.00\">1</text>\n",
       "</g>\n",
       "<!-- 19&#45;&gt;25 -->\n",
       "<g id=\"edge41\" class=\"edge\">\n",
       "<title>19&#45;&gt;25</title>\n",
       "<path fill=\"none\" stroke=\"black\" d=\"M93.82,-1149.94C103.05,-1117.73 119.04,-1061.9 130.17,-1023.05\"/>\n",
       "<polygon fill=\"black\" stroke=\"black\" points=\"133.64,-1023.65 133.03,-1013.08 126.91,-1021.73 133.64,-1023.65\"/>\n",
       "<text text-anchor=\"middle\" x=\"122\" y=\"-1094.3\" font-family=\"Times,serif\" font-size=\"14.00\">2</text>\n",
       "</g>\n",
       "<!-- 24 -->\n",
       "<g id=\"node24\" class=\"node\">\n",
       "<title>24</title>\n",
       "<polygon fill=\"none\" stroke=\"black\" points=\"327.5,-1005.5 259.5,-1005.5 259.5,-952.5 327.5,-952.5 327.5,-1005.5\"/>\n",
       "<text text-anchor=\"middle\" x=\"293.5\" y=\"-990.3\" font-family=\"Times,serif\" font-size=\"14.00\">[24]</text>\n",
       "<text text-anchor=\"middle\" x=\"293.5\" y=\"-975.3\" font-family=\"Times,serif\" font-size=\"14.00\">Pre</text>\n",
       "<text text-anchor=\"middle\" x=\"293.5\" y=\"-960.3\" font-family=\"Times,serif\" font-size=\"14.00\">Compose</text>\n",
       "</g>\n",
       "<!-- 20&#45;&gt;24 -->\n",
       "<g id=\"edge42\" class=\"edge\">\n",
       "<title>20&#45;&gt;24</title>\n",
       "<path fill=\"none\" stroke=\"black\" d=\"M319.26,-1071.32C314.64,-1054.94 308.58,-1033.48 303.51,-1015.48\"/>\n",
       "<polygon fill=\"black\" stroke=\"black\" points=\"306.81,-1014.29 300.73,-1005.62 300.07,-1016.19 306.81,-1014.29\"/>\n",
       "<text text-anchor=\"middle\" x=\"316\" y=\"-1034.8\" font-family=\"Times,serif\" font-size=\"14.00\">2</text>\n",
       "</g>\n",
       "<!-- 21&#45;&gt;24 -->\n",
       "<g id=\"edge43\" class=\"edge\">\n",
       "<title>21&#45;&gt;24</title>\n",
       "<path fill=\"none\" stroke=\"black\" d=\"M203.17,-1324.86C197.21,-1268.92 190.85,-1153.13 225.5,-1064 232.79,-1045.26 245.89,-1027.49 258.66,-1013.16\"/>\n",
       "<polygon fill=\"black\" stroke=\"black\" points=\"261.46,-1015.29 265.68,-1005.57 256.32,-1010.54 261.46,-1015.29\"/>\n",
       "<text text-anchor=\"middle\" x=\"208\" y=\"-1172.8\" font-family=\"Times,serif\" font-size=\"14.00\">1</text>\n",
       "</g>\n",
       "<!-- 28 -->\n",
       "<g id=\"node28\" class=\"node\">\n",
       "<title>28</title>\n",
       "<polygon fill=\"none\" stroke=\"black\" points=\"562.5,-894 494.5,-894 494.5,-841 562.5,-841 562.5,-894\"/>\n",
       "<text text-anchor=\"middle\" x=\"528.5\" y=\"-878.8\" font-family=\"Times,serif\" font-size=\"14.00\">[28]</text>\n",
       "<text text-anchor=\"middle\" x=\"528.5\" y=\"-863.8\" font-family=\"Times,serif\" font-size=\"14.00\">Pre</text>\n",
       "<text text-anchor=\"middle\" x=\"528.5\" y=\"-848.8\" font-family=\"Times,serif\" font-size=\"14.00\">Compose</text>\n",
       "</g>\n",
       "<!-- 22&#45;&gt;28 -->\n",
       "<g id=\"edge44\" class=\"edge\">\n",
       "<title>22&#45;&gt;28</title>\n",
       "<path fill=\"none\" stroke=\"black\" d=\"M528.5,-1071.23C528.5,-1030.41 528.5,-950.76 528.5,-904.37\"/>\n",
       "<polygon fill=\"black\" stroke=\"black\" points=\"532,-904.17 528.5,-894.17 525,-904.17 532,-904.17\"/>\n",
       "<text text-anchor=\"middle\" x=\"532\" y=\"-975.3\" font-family=\"Times,serif\" font-size=\"14.00\">2</text>\n",
       "</g>\n",
       "<!-- 23&#45;&gt;28 -->\n",
       "<g id=\"edge45\" class=\"edge\">\n",
       "<title>23&#45;&gt;28</title>\n",
       "<path fill=\"none\" stroke=\"black\" d=\"M641.41,-952.6C620.33,-936.9 593.12,-916.63 570.69,-899.93\"/>\n",
       "<polygon fill=\"black\" stroke=\"black\" points=\"572.77,-897.12 562.66,-893.95 568.59,-902.73 572.77,-897.12\"/>\n",
       "<text text-anchor=\"middle\" x=\"610\" y=\"-915.8\" font-family=\"Times,serif\" font-size=\"14.00\">1</text>\n",
       "</g>\n",
       "<!-- 26 -->\n",
       "<g id=\"node26\" class=\"node\">\n",
       "<title>26</title>\n",
       "<polygon fill=\"none\" stroke=\"black\" points=\"257.5,-886.5 197.5,-886.5 197.5,-848.5 257.5,-848.5 257.5,-886.5\"/>\n",
       "<text text-anchor=\"middle\" x=\"227.5\" y=\"-871.3\" font-family=\"Times,serif\" font-size=\"14.00\">[26]</text>\n",
       "<text text-anchor=\"middle\" x=\"227.5\" y=\"-856.3\" font-family=\"Times,serif\" font-size=\"14.00\">Pushout</text>\n",
       "</g>\n",
       "<!-- 24&#45;&gt;26 -->\n",
       "<g id=\"edge46\" class=\"edge\">\n",
       "<title>24&#45;&gt;26</title>\n",
       "<path fill=\"none\" stroke=\"black\" d=\"M278.03,-952.33C267.8,-935.37 254.42,-913.16 243.99,-895.87\"/>\n",
       "<polygon fill=\"black\" stroke=\"black\" points=\"246.71,-893.58 238.55,-886.83 240.71,-897.2 246.71,-893.58\"/>\n",
       "<text text-anchor=\"middle\" x=\"266\" y=\"-915.8\" font-family=\"Times,serif\" font-size=\"14.00\">1</text>\n",
       "</g>\n",
       "<!-- 27 -->\n",
       "<g id=\"node27\" class=\"node\">\n",
       "<title>27</title>\n",
       "<polygon fill=\"none\" stroke=\"black\" points=\"362.5,-790 178.5,-790 178.5,-737 362.5,-737 362.5,-790\"/>\n",
       "<text text-anchor=\"middle\" x=\"270.5\" y=\"-774.8\" font-family=\"Times,serif\" font-size=\"14.00\">[27]</text>\n",
       "<text text-anchor=\"middle\" x=\"270.5\" y=\"-759.8\" font-family=\"Times,serif\" font-size=\"14.00\">InjectionOfCofactorOfPushout</text>\n",
       "<text text-anchor=\"middle\" x=\"270.5\" y=\"-744.8\" font-family=\"Times,serif\" font-size=\"14.00\">WithGivenPushout( 1 )</text>\n",
       "</g>\n",
       "<!-- 24&#45;&gt;27 -->\n",
       "<g id=\"edge47\" class=\"edge\">\n",
       "<title>24&#45;&gt;27</title>\n",
       "<path fill=\"none\" stroke=\"black\" d=\"M290.73,-952.25C286.63,-914.23 278.95,-842.98 274.33,-800.03\"/>\n",
       "<polygon fill=\"black\" stroke=\"black\" points=\"277.8,-799.58 273.25,-790.01 270.84,-800.33 277.8,-799.58\"/>\n",
       "<text text-anchor=\"middle\" x=\"288\" y=\"-863.8\" font-family=\"Times,serif\" font-size=\"14.00\">1</text>\n",
       "</g>\n",
       "<!-- 30 -->\n",
       "<g id=\"node30\" class=\"node\">\n",
       "<title>30</title>\n",
       "<polygon fill=\"none\" stroke=\"black\" points=\"242.5,-719 58.5,-719 58.5,-666 242.5,-666 242.5,-719\"/>\n",
       "<text text-anchor=\"middle\" x=\"150.5\" y=\"-703.8\" font-family=\"Times,serif\" font-size=\"14.00\">[30]</text>\n",
       "<text text-anchor=\"middle\" x=\"150.5\" y=\"-688.8\" font-family=\"Times,serif\" font-size=\"14.00\">InjectionOfCofactorOfPushout</text>\n",
       "<text text-anchor=\"middle\" x=\"150.5\" y=\"-673.8\" font-family=\"Times,serif\" font-size=\"14.00\">WithGivenPushout( 2 )</text>\n",
       "</g>\n",
       "<!-- 24&#45;&gt;30 -->\n",
       "<g id=\"edge48\" class=\"edge\">\n",
       "<title>24&#45;&gt;30</title>\n",
       "<path fill=\"none\" stroke=\"black\" d=\"M315.87,-952.46C354.79,-904.88 425.82,-801.64 371.5,-737 356.55,-719.21 291.3,-723.45 268.5,-719 263.23,-717.97 257.83,-716.89 252.38,-715.78\"/>\n",
       "<polygon fill=\"black\" stroke=\"black\" points=\"253.04,-712.35 242.54,-713.76 251.63,-719.2 253.04,-712.35\"/>\n",
       "<text text-anchor=\"middle\" x=\"386\" y=\"-863.8\" font-family=\"Times,serif\" font-size=\"14.00\">1</text>\n",
       "</g>\n",
       "<!-- 25&#45;&gt;26 -->\n",
       "<g id=\"edge49\" class=\"edge\">\n",
       "<title>25&#45;&gt;26</title>\n",
       "<path fill=\"none\" stroke=\"black\" d=\"M171.87,-944.93C176.85,-939.05 181.9,-932.91 186.5,-927 194.4,-916.86 202.62,-905.34 209.61,-895.22\"/>\n",
       "<polygon fill=\"black\" stroke=\"black\" points=\"212.64,-896.99 215.4,-886.76 206.86,-893.04 212.64,-896.99\"/>\n",
       "<text text-anchor=\"middle\" x=\"201\" y=\"-915.8\" font-family=\"Times,serif\" font-size=\"14.00\">2</text>\n",
       "</g>\n",
       "<!-- 25&#45;&gt;27 -->\n",
       "<g id=\"edge50\" class=\"edge\">\n",
       "<title>25&#45;&gt;27</title>\n",
       "<path fill=\"none\" stroke=\"black\" d=\"M146.46,-944.79C151.16,-915.58 161.11,-872.87 181.5,-841 192.35,-824.05 208.07,-808.78 223.3,-796.44\"/>\n",
       "<polygon fill=\"black\" stroke=\"black\" points=\"225.48,-799.17 231.19,-790.25 221.16,-793.67 225.48,-799.17\"/>\n",
       "<text text-anchor=\"middle\" x=\"185\" y=\"-863.8\" font-family=\"Times,serif\" font-size=\"14.00\">2</text>\n",
       "</g>\n",
       "<!-- 25&#45;&gt;30 -->\n",
       "<g id=\"edge51\" class=\"edge\">\n",
       "<title>25&#45;&gt;30</title>\n",
       "<path fill=\"none\" stroke=\"black\" d=\"M143.43,-944.81C144.95,-890.97 147.93,-785.03 149.49,-729.46\"/>\n",
       "<polygon fill=\"black\" stroke=\"black\" points=\"152.99,-729.46 149.77,-719.37 145.99,-729.27 152.99,-729.46\"/>\n",
       "<text text-anchor=\"middle\" x=\"150\" y=\"-863.8\" font-family=\"Times,serif\" font-size=\"14.00\">2</text>\n",
       "</g>\n",
       "<!-- 26&#45;&gt;27 -->\n",
       "<g id=\"edge52\" class=\"edge\">\n",
       "<title>26&#45;&gt;27</title>\n",
       "<path fill=\"none\" stroke=\"black\" d=\"M235.19,-848.26C240.88,-834.76 248.82,-815.93 255.73,-799.55\"/>\n",
       "<polygon fill=\"black\" stroke=\"black\" points=\"258.99,-800.82 259.65,-790.24 252.54,-798.1 258.99,-800.82\"/>\n",
       "<text text-anchor=\"middle\" x=\"256\" y=\"-811.8\" font-family=\"Times,serif\" font-size=\"14.00\">3</text>\n",
       "</g>\n",
       "<!-- 26&#45;&gt;30 -->\n",
       "<g id=\"edge53\" class=\"edge\">\n",
       "<title>26&#45;&gt;30</title>\n",
       "<path fill=\"none\" stroke=\"black\" d=\"M209.82,-848.26C196.68,-833.66 179.39,-812.05 169.5,-790 160.89,-770.81 156.17,-747.74 153.59,-728.97\"/>\n",
       "<polygon fill=\"black\" stroke=\"black\" points=\"157.06,-728.54 152.36,-719.04 150.11,-729.39 157.06,-728.54\"/>\n",
       "<text text-anchor=\"middle\" x=\"193\" y=\"-811.8\" font-family=\"Times,serif\" font-size=\"14.00\">3</text>\n",
       "</g>\n",
       "<!-- 29 -->\n",
       "<g id=\"node29\" class=\"node\">\n",
       "<title>29</title>\n",
       "<polygon fill=\"none\" stroke=\"black\" points=\"308.5,-648 240.5,-648 240.5,-595 308.5,-595 308.5,-648\"/>\n",
       "<text text-anchor=\"middle\" x=\"274.5\" y=\"-632.8\" font-family=\"Times,serif\" font-size=\"14.00\">[29]</text>\n",
       "<text text-anchor=\"middle\" x=\"274.5\" y=\"-617.8\" font-family=\"Times,serif\" font-size=\"14.00\">Pre</text>\n",
       "<text text-anchor=\"middle\" x=\"274.5\" y=\"-602.8\" font-family=\"Times,serif\" font-size=\"14.00\">Compose</text>\n",
       "</g>\n",
       "<!-- 27&#45;&gt;29 -->\n",
       "<g id=\"edge54\" class=\"edge\">\n",
       "<title>27&#45;&gt;29</title>\n",
       "<path fill=\"none\" stroke=\"black\" d=\"M271.23,-736.82C271.87,-714.72 272.78,-682.6 273.48,-658.03\"/>\n",
       "<polygon fill=\"black\" stroke=\"black\" points=\"276.98,-658.11 273.77,-648.02 269.99,-657.91 276.98,-658.11\"/>\n",
       "<text text-anchor=\"middle\" x=\"277\" y=\"-688.8\" font-family=\"Times,serif\" font-size=\"14.00\">2</text>\n",
       "</g>\n",
       "<!-- 28&#45;&gt;29 -->\n",
       "<g id=\"edge55\" class=\"edge\">\n",
       "<title>28&#45;&gt;29</title>\n",
       "<path fill=\"none\" stroke=\"black\" d=\"M504.89,-840.57C480.39,-813.97 440.67,-771.69 404.5,-737 374.6,-708.32 339.24,-677.35 312.95,-654.86\"/>\n",
       "<polygon fill=\"black\" stroke=\"black\" points=\"314.98,-651.99 305.1,-648.17 310.44,-657.32 314.98,-651.99\"/>\n",
       "<text text-anchor=\"middle\" x=\"461\" y=\"-759.8\" font-family=\"Times,serif\" font-size=\"14.00\">1</text>\n",
       "</g>\n",
       "<!-- 31 -->\n",
       "<g id=\"node31\" class=\"node\">\n",
       "<title>31</title>\n",
       "<polygon fill=\"none\" stroke=\"black\" points=\"238,-544 179,-544 179,-491 238,-491 238,-544\"/>\n",
       "<text text-anchor=\"middle\" x=\"208.5\" y=\"-528.8\" font-family=\"Times,serif\" font-size=\"14.00\">[31]</text>\n",
       "<text text-anchor=\"middle\" x=\"208.5\" y=\"-513.8\" font-family=\"Times,serif\" font-size=\"14.00\">Fiber</text>\n",
       "<text text-anchor=\"middle\" x=\"208.5\" y=\"-498.8\" font-family=\"Times,serif\" font-size=\"14.00\">Product</text>\n",
       "</g>\n",
       "<!-- 29&#45;&gt;31 -->\n",
       "<g id=\"edge56\" class=\"edge\">\n",
       "<title>29&#45;&gt;31</title>\n",
       "<path fill=\"none\" stroke=\"black\" d=\"M257.85,-594.76C249.64,-582.08 239.63,-566.6 230.77,-552.92\"/>\n",
       "<polygon fill=\"black\" stroke=\"black\" points=\"233.52,-550.72 225.15,-544.23 227.64,-554.53 233.52,-550.72\"/>\n",
       "<text text-anchor=\"middle\" x=\"249\" y=\"-565.8\" font-family=\"Times,serif\" font-size=\"14.00\">1</text>\n",
       "</g>\n",
       "<!-- 32 -->\n",
       "<g id=\"node32\" class=\"node\">\n",
       "<title>32</title>\n",
       "<polygon fill=\"none\" stroke=\"black\" points=\"203,-440 0,-440 0,-387 203,-387 203,-440\"/>\n",
       "<text text-anchor=\"middle\" x=\"101.5\" y=\"-424.8\" font-family=\"Times,serif\" font-size=\"14.00\">[32]</text>\n",
       "<text text-anchor=\"middle\" x=\"101.5\" y=\"-409.8\" font-family=\"Times,serif\" font-size=\"14.00\">ProjectionInFactorOfFiberProduct</text>\n",
       "<text text-anchor=\"middle\" x=\"101.5\" y=\"-394.8\" font-family=\"Times,serif\" font-size=\"14.00\">WithGivenFiberProduct( 1 )</text>\n",
       "</g>\n",
       "<!-- 29&#45;&gt;32 -->\n",
       "<g id=\"edge57\" class=\"edge\">\n",
       "<title>29&#45;&gt;32</title>\n",
       "<path fill=\"none\" stroke=\"black\" d=\"M275.1,-594.76C274.47,-566.56 269.51,-521.33 246.5,-491 231.45,-471.17 209.77,-455.96 187.73,-444.53\"/>\n",
       "<polygon fill=\"black\" stroke=\"black\" points=\"189.13,-441.32 178.62,-440.02 186.03,-447.59 189.13,-441.32\"/>\n",
       "<text text-anchor=\"middle\" x=\"273\" y=\"-513.8\" font-family=\"Times,serif\" font-size=\"14.00\">1</text>\n",
       "</g>\n",
       "<!-- 33 -->\n",
       "<g id=\"node33\" class=\"node\">\n",
       "<title>33</title>\n",
       "<polygon fill=\"none\" stroke=\"black\" points=\"424,-440 221,-440 221,-387 424,-387 424,-440\"/>\n",
       "<text text-anchor=\"middle\" x=\"322.5\" y=\"-424.8\" font-family=\"Times,serif\" font-size=\"14.00\">[33]</text>\n",
       "<text text-anchor=\"middle\" x=\"322.5\" y=\"-409.8\" font-family=\"Times,serif\" font-size=\"14.00\">ProjectionInFactorOfFiberProduct</text>\n",
       "<text text-anchor=\"middle\" x=\"322.5\" y=\"-394.8\" font-family=\"Times,serif\" font-size=\"14.00\">WithGivenFiberProduct( 2 )</text>\n",
       "</g>\n",
       "<!-- 29&#45;&gt;33 -->\n",
       "<g id=\"edge58\" class=\"edge\">\n",
       "<title>29&#45;&gt;33</title>\n",
       "<path fill=\"none\" stroke=\"black\" d=\"M283.24,-594.87C285.1,-589.03 286.96,-582.83 288.5,-577 299.95,-533.76 310.01,-483.22 316.16,-450.13\"/>\n",
       "<polygon fill=\"black\" stroke=\"black\" points=\"319.65,-450.49 318.02,-440.03 312.77,-449.23 319.65,-450.49\"/>\n",
       "<text text-anchor=\"middle\" x=\"312\" y=\"-513.8\" font-family=\"Times,serif\" font-size=\"14.00\">1</text>\n",
       "</g>\n",
       "<!-- 30&#45;&gt;31 -->\n",
       "<g id=\"edge59\" class=\"edge\">\n",
       "<title>30&#45;&gt;31</title>\n",
       "<path fill=\"none\" stroke=\"black\" d=\"M159.06,-665.97C169,-636.33 185.45,-587.25 196.62,-553.93\"/>\n",
       "<polygon fill=\"black\" stroke=\"black\" points=\"200.05,-554.73 199.91,-544.13 193.41,-552.5 200.05,-554.73\"/>\n",
       "<text text-anchor=\"middle\" x=\"186\" y=\"-617.8\" font-family=\"Times,serif\" font-size=\"14.00\">2</text>\n",
       "</g>\n",
       "<!-- 30&#45;&gt;32 -->\n",
       "<g id=\"edge60\" class=\"edge\">\n",
       "<title>30&#45;&gt;32</title>\n",
       "<path fill=\"none\" stroke=\"black\" d=\"M141.77,-665.87C139.91,-660.03 138.05,-653.83 136.5,-648 118.23,-579.27 108.65,-496.46 104.37,-450.22\"/>\n",
       "<polygon fill=\"black\" stroke=\"black\" points=\"107.84,-449.75 103.47,-440.1 100.87,-450.37 107.84,-449.75\"/>\n",
       "<text text-anchor=\"middle\" x=\"125\" y=\"-565.8\" font-family=\"Times,serif\" font-size=\"14.00\">2</text>\n",
       "</g>\n",
       "<!-- 30&#45;&gt;33 -->\n",
       "<g id=\"edge61\" class=\"edge\">\n",
       "<title>30&#45;&gt;33</title>\n",
       "<path fill=\"none\" stroke=\"black\" d=\"M145.58,-665.77C139.26,-624.87 133.03,-544.21 169.5,-491 183.3,-470.87 204,-455.78 225.76,-444.57\"/>\n",
       "<polygon fill=\"black\" stroke=\"black\" points=\"227.35,-447.69 234.79,-440.15 224.27,-441.4 227.35,-447.69\"/>\n",
       "<text text-anchor=\"middle\" x=\"147\" y=\"-565.8\" font-family=\"Times,serif\" font-size=\"14.00\">2</text>\n",
       "</g>\n",
       "<!-- 31&#45;&gt;32 -->\n",
       "<g id=\"edge62\" class=\"edge\">\n",
       "<title>31&#45;&gt;32</title>\n",
       "<path fill=\"none\" stroke=\"black\" d=\"M181.5,-490.76C167.69,-477.59 150.72,-461.42 135.97,-447.36\"/>\n",
       "<polygon fill=\"black\" stroke=\"black\" points=\"138.15,-444.6 128.49,-440.23 133.32,-449.66 138.15,-444.6\"/>\n",
       "<text text-anchor=\"middle\" x=\"165\" y=\"-461.8\" font-family=\"Times,serif\" font-size=\"14.00\">3</text>\n",
       "</g>\n",
       "<!-- 31&#45;&gt;33 -->\n",
       "<g id=\"edge63\" class=\"edge\">\n",
       "<title>31&#45;&gt;33</title>\n",
       "<path fill=\"none\" stroke=\"black\" d=\"M237.27,-490.76C252.12,-477.47 270.39,-461.12 286.2,-446.98\"/>\n",
       "<polygon fill=\"black\" stroke=\"black\" points=\"288.62,-449.51 293.74,-440.23 283.96,-444.29 288.62,-449.51\"/>\n",
       "<text text-anchor=\"middle\" x=\"276\" y=\"-461.8\" font-family=\"Times,serif\" font-size=\"14.00\">3</text>\n",
       "</g>\n",
       "<!-- 34 -->\n",
       "<g id=\"node34\" class=\"node\">\n",
       "<title>34</title>\n",
       "<polygon fill=\"none\" stroke=\"black\" points=\"236.5,-336 176.5,-336 176.5,-298 236.5,-298 236.5,-336\"/>\n",
       "<text text-anchor=\"middle\" x=\"206.5\" y=\"-320.8\" font-family=\"Times,serif\" font-size=\"14.00\">[34]</text>\n",
       "<text text-anchor=\"middle\" x=\"206.5\" y=\"-305.8\" font-family=\"Times,serif\" font-size=\"14.00\">Pushout</text>\n",
       "</g>\n",
       "<!-- 32&#45;&gt;34 -->\n",
       "<g id=\"edge64\" class=\"edge\">\n",
       "<title>32&#45;&gt;34</title>\n",
       "<path fill=\"none\" stroke=\"black\" d=\"M143.15,-386.84C150.9,-381.34 158.69,-375.29 165.5,-369 173.51,-361.6 181.28,-352.58 187.86,-344.2\"/>\n",
       "<polygon fill=\"black\" stroke=\"black\" points=\"190.75,-346.18 194.01,-336.1 185.18,-341.95 190.75,-346.18\"/>\n",
       "<text text-anchor=\"middle\" x=\"183\" y=\"-357.8\" font-family=\"Times,serif\" font-size=\"14.00\">1</text>\n",
       "</g>\n",
       "<!-- 35 -->\n",
       "<g id=\"node35\" class=\"node\">\n",
       "<title>35</title>\n",
       "<polygon fill=\"none\" stroke=\"black\" points=\"408.5,-247 224.5,-247 224.5,-194 408.5,-194 408.5,-247\"/>\n",
       "<text text-anchor=\"middle\" x=\"316.5\" y=\"-231.8\" font-family=\"Times,serif\" font-size=\"14.00\">[35]</text>\n",
       "<text text-anchor=\"middle\" x=\"316.5\" y=\"-216.8\" font-family=\"Times,serif\" font-size=\"14.00\">InjectionOfCofactorOfPushout</text>\n",
       "<text text-anchor=\"middle\" x=\"316.5\" y=\"-201.8\" font-family=\"Times,serif\" font-size=\"14.00\">WithGivenPushout( 2 )</text>\n",
       "</g>\n",
       "<!-- 32&#45;&gt;35 -->\n",
       "<g id=\"edge65\" class=\"edge\">\n",
       "<title>32&#45;&gt;35</title>\n",
       "<path fill=\"none\" stroke=\"black\" d=\"M112.41,-386.92C125.36,-357.43 146.93,-311.31 160.5,-298 180.45,-278.44 206.39,-263.02 231.37,-251.3\"/>\n",
       "<polygon fill=\"black\" stroke=\"black\" points=\"232.85,-254.47 240.51,-247.16 229.96,-248.1 232.85,-254.47\"/>\n",
       "<text text-anchor=\"middle\" x=\"164\" y=\"-313.3\" font-family=\"Times,serif\" font-size=\"14.00\">1</text>\n",
       "</g>\n",
       "<!-- 37 -->\n",
       "<g id=\"node37\" class=\"node\">\n",
       "<title>37</title>\n",
       "<polygon fill=\"none\" stroke=\"black\" points=\"206.5,-247 22.5,-247 22.5,-194 206.5,-194 206.5,-247\"/>\n",
       "<text text-anchor=\"middle\" x=\"114.5\" y=\"-231.8\" font-family=\"Times,serif\" font-size=\"14.00\">[37]</text>\n",
       "<text text-anchor=\"middle\" x=\"114.5\" y=\"-216.8\" font-family=\"Times,serif\" font-size=\"14.00\">InjectionOfCofactorOfPushout</text>\n",
       "<text text-anchor=\"middle\" x=\"114.5\" y=\"-201.8\" font-family=\"Times,serif\" font-size=\"14.00\">WithGivenPushout( 1 )</text>\n",
       "</g>\n",
       "<!-- 32&#45;&gt;37 -->\n",
       "<g id=\"edge66\" class=\"edge\">\n",
       "<title>32&#45;&gt;37</title>\n",
       "<path fill=\"none\" stroke=\"black\" d=\"M103.25,-386.74C105.53,-353.33 109.51,-294.87 112.07,-257.19\"/>\n",
       "<polygon fill=\"black\" stroke=\"black\" points=\"115.57,-257.37 112.75,-247.16 108.58,-256.89 115.57,-257.37\"/>\n",
       "<text text-anchor=\"middle\" x=\"113\" y=\"-313.3\" font-family=\"Times,serif\" font-size=\"14.00\">1</text>\n",
       "</g>\n",
       "<!-- 33&#45;&gt;34 -->\n",
       "<g id=\"edge67\" class=\"edge\">\n",
       "<title>33&#45;&gt;34</title>\n",
       "<path fill=\"none\" stroke=\"black\" d=\"M276.04,-386.81C267.56,-381.36 259.03,-375.32 251.5,-369 242.73,-361.63 234.15,-352.53 226.87,-344.06\"/>\n",
       "<polygon fill=\"black\" stroke=\"black\" points=\"229.41,-341.65 220.32,-336.21 224.04,-346.13 229.41,-341.65\"/>\n",
       "<text text-anchor=\"middle\" x=\"255\" y=\"-357.8\" font-family=\"Times,serif\" font-size=\"14.00\">2</text>\n",
       "</g>\n",
       "<!-- 33&#45;&gt;35 -->\n",
       "<g id=\"edge68\" class=\"edge\">\n",
       "<title>33&#45;&gt;35</title>\n",
       "<path fill=\"none\" stroke=\"black\" d=\"M321.69,-386.74C320.64,-353.33 318.8,-294.87 317.62,-257.19\"/>\n",
       "<polygon fill=\"black\" stroke=\"black\" points=\"321.12,-257.04 317.31,-247.16 314.12,-257.26 321.12,-257.04\"/>\n",
       "<text text-anchor=\"middle\" x=\"324\" y=\"-313.3\" font-family=\"Times,serif\" font-size=\"14.00\">2</text>\n",
       "</g>\n",
       "<!-- 33&#45;&gt;37 -->\n",
       "<g id=\"edge69\" class=\"edge\">\n",
       "<title>33&#45;&gt;37</title>\n",
       "<path fill=\"none\" stroke=\"black\" d=\"M309.68,-386.87C296.25,-361.92 273.27,-324.06 245.5,-298 226.17,-279.86 201.8,-264.16 179.33,-251.79\"/>\n",
       "<polygon fill=\"black\" stroke=\"black\" points=\"180.96,-248.69 170.49,-247.04 177.64,-254.86 180.96,-248.69\"/>\n",
       "<text text-anchor=\"middle\" x=\"281\" y=\"-313.3\" font-family=\"Times,serif\" font-size=\"14.00\">2</text>\n",
       "</g>\n",
       "<!-- 34&#45;&gt;35 -->\n",
       "<g id=\"edge70\" class=\"edge\">\n",
       "<title>34&#45;&gt;35</title>\n",
       "<path fill=\"none\" stroke=\"black\" d=\"M227.71,-297.78C242.22,-285.31 261.85,-268.45 278.96,-253.75\"/>\n",
       "<polygon fill=\"black\" stroke=\"black\" points=\"281.32,-256.34 286.62,-247.17 276.76,-251.03 281.32,-256.34\"/>\n",
       "<text text-anchor=\"middle\" x=\"269\" y=\"-268.8\" font-family=\"Times,serif\" font-size=\"14.00\">3</text>\n",
       "</g>\n",
       "<!-- 34&#45;&gt;37 -->\n",
       "<g id=\"edge71\" class=\"edge\">\n",
       "<title>34&#45;&gt;37</title>\n",
       "<path fill=\"none\" stroke=\"black\" d=\"M188.76,-297.78C176.85,-285.54 160.8,-269.06 146.67,-254.54\"/>\n",
       "<polygon fill=\"black\" stroke=\"black\" points=\"148.97,-251.89 139.49,-247.17 143.96,-256.77 148.97,-251.89\"/>\n",
       "<text text-anchor=\"middle\" x=\"175\" y=\"-268.8\" font-family=\"Times,serif\" font-size=\"14.00\">3</text>\n",
       "</g>\n",
       "<!-- 36 -->\n",
       "<g id=\"node36\" class=\"node\">\n",
       "<title>36</title>\n",
       "<polygon fill=\"none\" stroke=\"black\" points=\"320,-157 243,-157 243,-104 320,-104 320,-157\"/>\n",
       "<text text-anchor=\"middle\" x=\"281.5\" y=\"-141.8\" font-family=\"Times,serif\" font-size=\"14.00\">[36]</text>\n",
       "<text text-anchor=\"middle\" x=\"281.5\" y=\"-126.8\" font-family=\"Times,serif\" font-size=\"14.00\">Inverse</text>\n",
       "<text text-anchor=\"middle\" x=\"281.5\" y=\"-111.8\" font-family=\"Times,serif\" font-size=\"14.00\">Immutable</text>\n",
       "</g>\n",
       "<!-- 35&#45;&gt;36 -->\n",
       "<g id=\"edge72\" class=\"edge\">\n",
       "<title>35&#45;&gt;36</title>\n",
       "<path fill=\"none\" stroke=\"black\" d=\"M306.19,-193.57C302.84,-185.16 299.07,-175.68 295.5,-166.7\"/>\n",
       "<polygon fill=\"black\" stroke=\"black\" points=\"298.69,-165.24 291.74,-157.24 292.18,-167.83 298.69,-165.24\"/>\n",
       "</g>\n",
       "<!-- 38 -->\n",
       "<g id=\"node38\" class=\"node\">\n",
       "<title>38</title>\n",
       "<polygon fill=\"none\" stroke=\"black\" points=\"233.5,-53 165.5,-53 165.5,0 233.5,0 233.5,-53\"/>\n",
       "<text text-anchor=\"middle\" x=\"199.5\" y=\"-37.8\" font-family=\"Times,serif\" font-size=\"14.00\">[38]</text>\n",
       "<text text-anchor=\"middle\" x=\"199.5\" y=\"-22.8\" font-family=\"Times,serif\" font-size=\"14.00\">Pre</text>\n",
       "<text text-anchor=\"middle\" x=\"199.5\" y=\"-7.8\" font-family=\"Times,serif\" font-size=\"14.00\">Compose</text>\n",
       "</g>\n",
       "<!-- 36&#45;&gt;38 -->\n",
       "<g id=\"edge73\" class=\"edge\">\n",
       "<title>36&#45;&gt;38</title>\n",
       "<path fill=\"none\" stroke=\"black\" d=\"M260.81,-103.76C250.42,-90.84 237.7,-75.01 226.54,-61.14\"/>\n",
       "<polygon fill=\"black\" stroke=\"black\" points=\"229.18,-58.83 220.19,-53.23 223.72,-63.22 229.18,-58.83\"/>\n",
       "<text text-anchor=\"middle\" x=\"249\" y=\"-74.8\" font-family=\"Times,serif\" font-size=\"14.00\">2</text>\n",
       "</g>\n",
       "<!-- 37&#45;&gt;38 -->\n",
       "<g id=\"edge74\" class=\"edge\">\n",
       "<title>37&#45;&gt;38</title>\n",
       "<path fill=\"none\" stroke=\"black\" d=\"M125.96,-193.61C140.9,-159.87 167.07,-100.75 183.83,-62.89\"/>\n",
       "<polygon fill=\"black\" stroke=\"black\" points=\"187.23,-63.85 188.08,-53.29 180.83,-61.02 187.23,-63.85\"/>\n",
       "<text text-anchor=\"middle\" x=\"169\" y=\"-126.8\" font-family=\"Times,serif\" font-size=\"14.00\">1</text>\n",
       "</g>\n",
       "</g>\n",
       "</svg>\n"
      ]
     },
     "metadata": {},
     "output_type": "display_data"
    }
   ],
   "source": [
    "VisualizeInJulia( s )"
   ]
  },
  {
   "cell_type": "code",
   "execution_count": 32,
   "metadata": {},
   "outputs": [
    {
     "data": {
      "text/plain": [
       "GAP: <A morphism in LazyCategory( Adelman category( QuiverRows( (Q * q) / [ 1*(a*b*c) ] ) ) )>"
      ]
     },
     "execution_count": 32,
     "metadata": {},
     "output_type": "execute_result"
    }
   ],
   "source": [
    "j = KernelObjectFunctorial( b, d, e )"
   ]
  },
  {
   "cell_type": "code",
   "execution_count": 33,
   "metadata": {},
   "outputs": [
    {
     "data": {
      "text/plain": [
       "GAP: <A morphism in LazyCategory( Adelman category( QuiverRows( (Q * q) / [ 1*(a*b*c) ] ) ) )>"
      ]
     },
     "execution_count": 33,
     "metadata": {},
     "output_type": "execute_result"
    }
   ],
   "source": [
    "k = CokernelObjectFunctorial( h, g, b )"
   ]
  },
  {
   "cell_type": "code",
   "execution_count": 34,
   "metadata": {},
   "outputs": [
    {
     "data": {
      "text/plain": [
       "GAP: <An object in LazyCategory( Adelman category( QuiverRows( (Q * q) / [ 1*(a*b*c) ] ) ) )>"
      ]
     },
     "execution_count": 34,
     "metadata": {},
     "output_type": "execute_result"
    }
   ],
   "source": [
    "HK = HomologyObject( j, s )"
   ]
  },
  {
   "cell_type": "code",
   "execution_count": 35,
   "metadata": {},
   "outputs": [
    {
     "data": {
      "text/plain": [
       "GAP: <An object in LazyCategory( Adelman category( QuiverRows( (Q * q) / [ 1*(a*b*c) ] ) ) )>"
      ]
     },
     "execution_count": 35,
     "metadata": {},
     "output_type": "execute_result"
    }
   ],
   "source": [
    "HC = HomologyObject( s, k )"
   ]
  },
  {
   "cell_type": "code",
   "execution_count": null,
   "metadata": {},
   "outputs": [],
   "source": []
  }
 ],
 "metadata": {
  "@webio": {
   "lastCommId": null,
   "lastKernelId": null
  },
  "kernelspec": {
   "display_name": "Julia 1.4.1",
   "language": "julia",
   "name": "julia-1.4"
  },
  "language_info": {
   "file_extension": ".jl",
   "mimetype": "application/julia",
   "name": "julia",
   "version": "1.4.1"
  }
 },
 "nbformat": 4,
 "nbformat_minor": 2
}
