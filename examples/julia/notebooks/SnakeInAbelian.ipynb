{
 "cells": [
  {
   "cell_type": "code",
   "execution_count": 1,
   "metadata": {},
   "outputs": [
    {
     "name": "stdout",
     "output_type": "stream",
     "text": [
      "HomalgProject v\u001b[32m0.4.11\u001b[39m\n",
      "Imported OSCAR's component GAP\n",
      "Type: ?HomalgProject for more information\n"
     ]
    }
   ],
   "source": [
    "using HomalgProject"
   ]
  },
  {
   "cell_type": "code",
   "execution_count": 2,
   "metadata": {},
   "outputs": [],
   "source": [
    "LoadPackage( \"FreydCategoriesForCAP\" )"
   ]
  },
  {
   "cell_type": "code",
   "execution_count": 3,
   "metadata": {},
   "outputs": [],
   "source": [
    "LoadPackage( \"LazyCategories\" )"
   ]
  },
  {
   "cell_type": "code",
   "execution_count": 4,
   "metadata": {},
   "outputs": [],
   "source": [
    "SwitchGeneralizedMorphismStandard( g\"cospan\" )"
   ]
  },
  {
   "cell_type": "code",
   "execution_count": 5,
   "metadata": {},
   "outputs": [
    {
     "data": {
      "text/plain": [
       "GAP: q(4)[a:1->2,b:2->3,c:3->4]"
      ]
     },
     "execution_count": 5,
     "metadata": {},
     "output_type": "execute_result"
    }
   ],
   "source": [
    "snake_quiver = RightQuiver( g\"q(4)[a:1->2,b:2->3,c:3->4]\" )"
   ]
  },
  {
   "cell_type": "code",
   "execution_count": 6,
   "metadata": {},
   "outputs": [
    {
     "data": {
      "text/plain": [
       "GAP: Q"
      ]
     },
     "execution_count": 6,
     "metadata": {},
     "output_type": "execute_result"
    }
   ],
   "source": [
    "ℚ = HomalgFieldOfRationals( )"
   ]
  },
  {
   "cell_type": "code",
   "execution_count": 7,
   "metadata": {},
   "outputs": [
    {
     "data": {
      "text/plain": [
       "GAP: Q * q"
      ]
     },
     "execution_count": 7,
     "metadata": {},
     "output_type": "execute_result"
    }
   ],
   "source": [
    "A = PathAlgebra( ℚ, snake_quiver )"
   ]
  },
  {
   "cell_type": "code",
   "execution_count": 8,
   "metadata": {},
   "outputs": [
    {
     "data": {
      "text/plain": [
       "GAP: (Q * q) / [ 1*(a*b*c) ]"
      ]
     },
     "execution_count": 8,
     "metadata": {},
     "output_type": "execute_result"
    }
   ],
   "source": [
    "A = A / [ A.abc ]"
   ]
  },
  {
   "cell_type": "code",
   "execution_count": 9,
   "metadata": {},
   "outputs": [
    {
     "data": {
      "text/plain": [
       "GAP: QuiverRows( (Q * q) / [ 1*(a*b*c) ] )"
      ]
     },
     "execution_count": 9,
     "metadata": {},
     "output_type": "execute_result"
    }
   ],
   "source": [
    "QRowsA = QuiverRows( A )"
   ]
  },
  {
   "cell_type": "code",
   "execution_count": 10,
   "metadata": {},
   "outputs": [
    {
     "data": {
      "text/plain": [
       "GAP: Adelman category( QuiverRows( (Q * q) / [ 1*(a*b*c) ] ) )"
      ]
     },
     "execution_count": 10,
     "metadata": {},
     "output_type": "execute_result"
    }
   ],
   "source": [
    "Adelman = AdelmanCategory( QRowsA )"
   ]
  },
  {
   "cell_type": "code",
   "execution_count": 11,
   "metadata": {},
   "outputs": [
    {
     "data": {
      "text/plain": [
       "GAP: LazyCategory( Adelman category( QuiverRows( (Q * q) / [ 1*(a*b*c) ] ) ) )"
      ]
     },
     "execution_count": 11,
     "metadata": {},
     "output_type": "execute_result"
    }
   ],
   "source": [
    "Lazy = LazyCategory( Adelman, show_evaluation = true )"
   ]
  },
  {
   "cell_type": "code",
   "execution_count": 12,
   "metadata": {},
   "outputs": [
    {
     "data": {
      "text/plain": [
       "GAP: <An evaluated morphism in LazyCategory( Adelman category( QuiverRows( (Q * q) / [ 1*(a*b*c) ] ) ) )>"
      ]
     },
     "execution_count": 12,
     "metadata": {},
     "output_type": "execute_result"
    }
   ],
   "source": [
    "a = A.a / QRowsA / Adelman / Lazy"
   ]
  },
  {
   "cell_type": "code",
   "execution_count": 13,
   "metadata": {},
   "outputs": [],
   "source": [
    "SetLabel( a, \"a\" )"
   ]
  },
  {
   "cell_type": "code",
   "execution_count": 14,
   "metadata": {},
   "outputs": [
    {
     "data": {
      "text/plain": [
       "GAP: <An evaluated morphism in LazyCategory( Adelman category( QuiverRows( (Q * q) / [ 1*(a*b*c) ] ) ) )>"
      ]
     },
     "execution_count": 14,
     "metadata": {},
     "output_type": "execute_result"
    }
   ],
   "source": [
    "b = A.b / QRowsA / Adelman / Lazy"
   ]
  },
  {
   "cell_type": "code",
   "execution_count": 15,
   "metadata": {},
   "outputs": [],
   "source": [
    "SetLabel( b, \"b\" )"
   ]
  },
  {
   "cell_type": "code",
   "execution_count": 16,
   "metadata": {},
   "outputs": [
    {
     "data": {
      "text/plain": [
       "GAP: <An evaluated morphism in LazyCategory( Adelman category( QuiverRows( (Q * q) / [ 1*(a*b*c) ] ) ) )>"
      ]
     },
     "execution_count": 16,
     "metadata": {},
     "output_type": "execute_result"
    }
   ],
   "source": [
    "c = A.c / QRowsA / Adelman / Lazy"
   ]
  },
  {
   "cell_type": "code",
   "execution_count": 17,
   "metadata": {},
   "outputs": [],
   "source": [
    "SetLabel( c, \"c\" )"
   ]
  },
  {
   "cell_type": "code",
   "execution_count": 18,
   "metadata": {},
   "outputs": [
    {
     "data": {
      "text/plain": [
       "GAP: <An epimorphism in LazyCategory( Adelman category( QuiverRows( (Q * q) / [ 1*(a*b*c) ] ) ) )>"
      ]
     },
     "execution_count": 18,
     "metadata": {},
     "output_type": "execute_result"
    }
   ],
   "source": [
    "d = CokernelProjection( a )"
   ]
  },
  {
   "cell_type": "code",
   "execution_count": 19,
   "metadata": {},
   "outputs": [
    {
     "data": {
      "text/plain": [
       "GAP: <A morphism in LazyCategory( Adelman category( QuiverRows( (Q * q) / [ 1*(a*b*c) ] ) ) )>"
      ]
     },
     "execution_count": 19,
     "metadata": {},
     "output_type": "execute_result"
    }
   ],
   "source": [
    "e = CokernelColift( a, PreCompose( b, c ) )"
   ]
  },
  {
   "cell_type": "code",
   "execution_count": 20,
   "metadata": {},
   "outputs": [
    {
     "data": {
      "text/plain": [
       "GAP: <A monomorphism in LazyCategory( Adelman category( QuiverRows( (Q * q) / [ 1*(a*b*c) ] ) ) )>"
      ]
     },
     "execution_count": 20,
     "metadata": {},
     "output_type": "execute_result"
    }
   ],
   "source": [
    "f = KernelEmbedding( e )"
   ]
  },
  {
   "cell_type": "code",
   "execution_count": 21,
   "metadata": {},
   "outputs": [
    {
     "data": {
      "text/plain": [
       "GAP: <A monomorphism in LazyCategory( Adelman category( QuiverRows( (Q * q) / [ 1*(a*b*c) ] ) ) )>"
      ]
     },
     "execution_count": 21,
     "metadata": {},
     "output_type": "execute_result"
    }
   ],
   "source": [
    "g = KernelEmbedding( c )"
   ]
  },
  {
   "cell_type": "code",
   "execution_count": 22,
   "metadata": {},
   "outputs": [
    {
     "data": {
      "text/plain": [
       "GAP: <A morphism in LazyCategory( Adelman category( QuiverRows( (Q * q) / [ 1*(a*b*c) ] ) ) )>"
      ]
     },
     "execution_count": 22,
     "metadata": {},
     "output_type": "execute_result"
    }
   ],
   "source": [
    "h = KernelLift( c, PreCompose( a, b ) )"
   ]
  },
  {
   "cell_type": "code",
   "execution_count": 23,
   "metadata": {},
   "outputs": [
    {
     "data": {
      "text/plain": [
       "GAP: <An epimorphism in LazyCategory( Adelman category( QuiverRows( (Q * q) / [ 1*(a*b*c) ] ) ) )>"
      ]
     },
     "execution_count": 23,
     "metadata": {},
     "output_type": "execute_result"
    }
   ],
   "source": [
    "i = CokernelProjection( h )"
   ]
  },
  {
   "cell_type": "code",
   "execution_count": 24,
   "metadata": {},
   "outputs": [
    {
     "data": {
      "text/plain": [
       "GAP: <A morphism in Generalized morphism category of LazyCategory( Adelman category( QuiverRows( (Q * q) / [ 1*(a*b*c) ] ) ) ) by cospan>"
      ]
     },
     "execution_count": 24,
     "metadata": {},
     "output_type": "execute_result"
    }
   ],
   "source": [
    "ff = AsGeneralizedMorphism( f )"
   ]
  },
  {
   "cell_type": "code",
   "execution_count": 25,
   "metadata": {},
   "outputs": [
    {
     "data": {
      "text/plain": [
       "GAP: <A morphism in Generalized morphism category of LazyCategory( Adelman category( QuiverRows( (Q * q) / [ 1*(a*b*c) ] ) ) ) by cospan>"
      ]
     },
     "execution_count": 25,
     "metadata": {},
     "output_type": "execute_result"
    }
   ],
   "source": [
    "dd = AsGeneralizedMorphism( d )"
   ]
  },
  {
   "cell_type": "code",
   "execution_count": 26,
   "metadata": {},
   "outputs": [
    {
     "data": {
      "text/plain": [
       "GAP: <A morphism in Generalized morphism category of LazyCategory( Adelman category( QuiverRows( (Q * q) / [ 1*(a*b*c) ] ) ) ) by cospan>"
      ]
     },
     "execution_count": 26,
     "metadata": {},
     "output_type": "execute_result"
    }
   ],
   "source": [
    "bb = AsGeneralizedMorphism( b )"
   ]
  },
  {
   "cell_type": "code",
   "execution_count": 27,
   "metadata": {},
   "outputs": [
    {
     "data": {
      "text/plain": [
       "GAP: <A morphism in Generalized morphism category of LazyCategory( Adelman category( QuiverRows( (Q * q) / [ 1*(a*b*c) ] ) ) ) by cospan>"
      ]
     },
     "execution_count": 27,
     "metadata": {},
     "output_type": "execute_result"
    }
   ],
   "source": [
    "gg = AsGeneralizedMorphism( g )"
   ]
  },
  {
   "cell_type": "code",
   "execution_count": 28,
   "metadata": {},
   "outputs": [
    {
     "data": {
      "text/plain": [
       "GAP: <A morphism in Generalized morphism category of LazyCategory( Adelman category( QuiverRows( (Q * q) / [ 1*(a*b*c) ] ) ) ) by cospan>"
      ]
     },
     "execution_count": 28,
     "metadata": {},
     "output_type": "execute_result"
    }
   ],
   "source": [
    "ii = AsGeneralizedMorphism( i )"
   ]
  },
  {
   "cell_type": "code",
   "execution_count": 29,
   "metadata": {},
   "outputs": [
    {
     "data": {
      "text/plain": [
       "GAP: <A morphism in Generalized morphism category of LazyCategory( Adelman category( QuiverRows( (Q * q) / [ 1*(a*b*c) ] ) ) ) by cospan>"
      ]
     },
     "execution_count": 29,
     "metadata": {},
     "output_type": "execute_result"
    }
   ],
   "source": [
    "ss = PreCompose( [ ff, PseudoInverse( dd ), bb, PseudoInverse( gg ), ii ] )"
   ]
  },
  {
   "cell_type": "code",
   "execution_count": 30,
   "metadata": {},
   "outputs": [
    {
     "data": {
      "text/plain": [
       "GAP: <A morphism in LazyCategory( Adelman category( QuiverRows( (Q * q) / [ 1*(a*b*c) ] ) ) )>"
      ]
     },
     "execution_count": 30,
     "metadata": {},
     "output_type": "execute_result"
    }
   ],
   "source": [
    "s = HonestRepresentative( ss )"
   ]
  },
  {
   "cell_type": "code",
   "execution_count": 31,
   "metadata": {
    "scrolled": false
   },
   "outputs": [
    {
     "data": {
      "image/svg+xml": [
       "<?xml version=\"1.0\" encoding=\"UTF-8\" standalone=\"no\"?>\n",
       "<!DOCTYPE svg PUBLIC \"-//W3C//DTD SVG 1.1//EN\"\n",
       " \"http://www.w3.org/Graphics/SVG/1.1/DTD/svg11.dtd\">\n",
       "<!-- Generated by graphviz version 2.44.0 (20200408.0750)\n",
       " -->\n",
       "<!-- Title: hgn Pages: 1 -->\n",
       "<svg width=\"942pt\" height=\"1937pt\"\n",
       " viewBox=\"0.00 0.00 942.00 1937.00\" xmlns=\"http://www.w3.org/2000/svg\" xmlns:xlink=\"http://www.w3.org/1999/xlink\">\n",
       "<g id=\"graph0\" class=\"graph\" transform=\"scale(1 1) rotate(0) translate(4 1933)\">\n",
       "<title>hgn</title>\n",
       "<polygon fill=\"white\" stroke=\"transparent\" points=\"-4,4 -4,-1933 938,-1933 938,4 -4,4\"/>\n",
       "<!-- 1 -->\n",
       "<g id=\"node1\" class=\"node\">\n",
       "<title>1</title>\n",
       "<polygon fill=\"none\" stroke=\"black\" points=\"471.5,-1720 398.5,-1720 398.5,-1652 471.5,-1652 471.5,-1720\"/>\n",
       "<text text-anchor=\"middle\" x=\"435\" y=\"-1704.8\" font-family=\"Times,serif\" font-size=\"14.00\">[1]</text>\n",
       "<text text-anchor=\"middle\" x=\"435\" y=\"-1689.8\" font-family=\"Times,serif\" font-size=\"14.00\">primitive</text>\n",
       "<text text-anchor=\"middle\" x=\"435\" y=\"-1674.8\" font-family=\"Times,serif\" font-size=\"14.00\">morphism</text>\n",
       "<text text-anchor=\"middle\" x=\"435\" y=\"-1659.8\" font-family=\"Times,serif\" font-size=\"14.00\">&lt;b&gt;</text>\n",
       "</g>\n",
       "<!-- 3 -->\n",
       "<g id=\"node3\" class=\"node\">\n",
       "<title>3</title>\n",
       "<polygon fill=\"none\" stroke=\"black\" points=\"469,-1563 401,-1563 401,-1510 469,-1510 469,-1563\"/>\n",
       "<text text-anchor=\"middle\" x=\"435\" y=\"-1547.8\" font-family=\"Times,serif\" font-size=\"14.00\">[3]</text>\n",
       "<text text-anchor=\"middle\" x=\"435\" y=\"-1532.8\" font-family=\"Times,serif\" font-size=\"14.00\">Pre</text>\n",
       "<text text-anchor=\"middle\" x=\"435\" y=\"-1517.8\" font-family=\"Times,serif\" font-size=\"14.00\">Compose</text>\n",
       "</g>\n",
       "<!-- 1&#45;&gt;3 -->\n",
       "<g id=\"edge1\" class=\"edge\">\n",
       "<title>1&#45;&gt;3</title>\n",
       "<path fill=\"none\" stroke=\"black\" d=\"M435,-1651.9C435,-1628.52 435,-1597.21 435,-1573.26\"/>\n",
       "<polygon fill=\"black\" stroke=\"black\" points=\"438.5,-1573.16 435,-1563.16 431.5,-1573.16 438.5,-1573.16\"/>\n",
       "<text text-anchor=\"middle\" x=\"438.5\" y=\"-1603.8\" font-family=\"Times,serif\" font-size=\"14.00\">1</text>\n",
       "</g>\n",
       "<!-- 8 -->\n",
       "<g id=\"node8\" class=\"node\">\n",
       "<title>8</title>\n",
       "<polygon fill=\"none\" stroke=\"black\" points=\"821,-1563 753,-1563 753,-1510 821,-1510 821,-1563\"/>\n",
       "<text text-anchor=\"middle\" x=\"787\" y=\"-1547.8\" font-family=\"Times,serif\" font-size=\"14.00\">[8]</text>\n",
       "<text text-anchor=\"middle\" x=\"787\" y=\"-1532.8\" font-family=\"Times,serif\" font-size=\"14.00\">Pre</text>\n",
       "<text text-anchor=\"middle\" x=\"787\" y=\"-1517.8\" font-family=\"Times,serif\" font-size=\"14.00\">Compose</text>\n",
       "</g>\n",
       "<!-- 1&#45;&gt;8 -->\n",
       "<g id=\"edge2\" class=\"edge\">\n",
       "<title>1&#45;&gt;8</title>\n",
       "<path fill=\"none\" stroke=\"black\" d=\"M471.87,-1666.75C487.38,-1658.07 505.03,-1646.78 519,-1634 540.58,-1614.26 532.57,-1595.44 558,-1581 627.54,-1541.51 662.42,-1585.3 743.33,-1562.43\"/>\n",
       "<polygon fill=\"black\" stroke=\"black\" points=\"744.37,-1565.77 752.89,-1559.48 742.3,-1559.08 744.37,-1565.77\"/>\n",
       "<text text-anchor=\"middle\" x=\"561.5\" y=\"-1603.8\" font-family=\"Times,serif\" font-size=\"14.00\">2</text>\n",
       "</g>\n",
       "<!-- 12 -->\n",
       "<g id=\"node12\" class=\"node\">\n",
       "<title>12</title>\n",
       "<polygon fill=\"none\" stroke=\"black\" points=\"259,-1555.5 199,-1555.5 199,-1517.5 259,-1517.5 259,-1555.5\"/>\n",
       "<text text-anchor=\"middle\" x=\"229\" y=\"-1540.3\" font-family=\"Times,serif\" font-size=\"14.00\">[12]</text>\n",
       "<text text-anchor=\"middle\" x=\"229\" y=\"-1525.3\" font-family=\"Times,serif\" font-size=\"14.00\">Pushout</text>\n",
       "</g>\n",
       "<!-- 1&#45;&gt;12 -->\n",
       "<g id=\"edge3\" class=\"edge\">\n",
       "<title>1&#45;&gt;12</title>\n",
       "<path fill=\"none\" stroke=\"black\" d=\"M398.33,-1662.55C384.57,-1653.88 368.9,-1643.73 355,-1634 321.53,-1610.58 284.58,-1581.93 259.39,-1561.95\"/>\n",
       "<polygon fill=\"black\" stroke=\"black\" points=\"261.33,-1559.02 251.32,-1555.53 256.97,-1564.5 261.33,-1559.02\"/>\n",
       "<text text-anchor=\"middle\" x=\"358.5\" y=\"-1603.8\" font-family=\"Times,serif\" font-size=\"14.00\">2</text>\n",
       "</g>\n",
       "<!-- 13 -->\n",
       "<g id=\"node13\" class=\"node\">\n",
       "<title>13</title>\n",
       "<polygon fill=\"none\" stroke=\"black\" points=\"540,-1451.5 356,-1451.5 356,-1398.5 540,-1398.5 540,-1451.5\"/>\n",
       "<text text-anchor=\"middle\" x=\"448\" y=\"-1436.3\" font-family=\"Times,serif\" font-size=\"14.00\">[13]</text>\n",
       "<text text-anchor=\"middle\" x=\"448\" y=\"-1421.3\" font-family=\"Times,serif\" font-size=\"14.00\">InjectionOfCofactorOfPushout</text>\n",
       "<text text-anchor=\"middle\" x=\"448\" y=\"-1406.3\" font-family=\"Times,serif\" font-size=\"14.00\">WithGivenPushout( 2 )</text>\n",
       "</g>\n",
       "<!-- 1&#45;&gt;13 -->\n",
       "<g id=\"edge4\" class=\"edge\">\n",
       "<title>1&#45;&gt;13</title>\n",
       "<path fill=\"none\" stroke=\"black\" d=\"M451.63,-1651.74C467.13,-1616.75 486.65,-1559.94 478,-1510 475.17,-1493.64 469.44,-1476.24 463.74,-1461.55\"/>\n",
       "<polygon fill=\"black\" stroke=\"black\" points=\"466.82,-1459.82 459.84,-1451.86 460.33,-1462.44 466.82,-1459.82\"/>\n",
       "<text text-anchor=\"middle\" x=\"483.5\" y=\"-1532.8\" font-family=\"Times,serif\" font-size=\"14.00\">2</text>\n",
       "</g>\n",
       "<!-- 22 -->\n",
       "<g id=\"node22\" class=\"node\">\n",
       "<title>22</title>\n",
       "<polygon fill=\"none\" stroke=\"black\" points=\"218,-1451.5 34,-1451.5 34,-1398.5 218,-1398.5 218,-1451.5\"/>\n",
       "<text text-anchor=\"middle\" x=\"126\" y=\"-1436.3\" font-family=\"Times,serif\" font-size=\"14.00\">[22]</text>\n",
       "<text text-anchor=\"middle\" x=\"126\" y=\"-1421.3\" font-family=\"Times,serif\" font-size=\"14.00\">InjectionOfCofactorOfPushout</text>\n",
       "<text text-anchor=\"middle\" x=\"126\" y=\"-1406.3\" font-family=\"Times,serif\" font-size=\"14.00\">WithGivenPushout( 1 )</text>\n",
       "</g>\n",
       "<!-- 1&#45;&gt;22 -->\n",
       "<g id=\"edge5\" class=\"edge\">\n",
       "<title>1&#45;&gt;22</title>\n",
       "<path fill=\"none\" stroke=\"black\" d=\"M421.25,-1651.78C401.21,-1603.96 365.17,-1520.3 354,-1510 342.95,-1499.81 273.5,-1474.91 214.12,-1454.86\"/>\n",
       "<polygon fill=\"black\" stroke=\"black\" points=\"214.9,-1451.43 204.31,-1451.56 212.67,-1458.06 214.9,-1451.43\"/>\n",
       "<text text-anchor=\"middle\" x=\"384.5\" y=\"-1532.8\" font-family=\"Times,serif\" font-size=\"14.00\">2</text>\n",
       "</g>\n",
       "<!-- 2 -->\n",
       "<g id=\"node2\" class=\"node\">\n",
       "<title>2</title>\n",
       "<polygon fill=\"none\" stroke=\"black\" points=\"712.5,-1720 639.5,-1720 639.5,-1652 712.5,-1652 712.5,-1720\"/>\n",
       "<text text-anchor=\"middle\" x=\"676\" y=\"-1704.8\" font-family=\"Times,serif\" font-size=\"14.00\">[2]</text>\n",
       "<text text-anchor=\"middle\" x=\"676\" y=\"-1689.8\" font-family=\"Times,serif\" font-size=\"14.00\">primitive</text>\n",
       "<text text-anchor=\"middle\" x=\"676\" y=\"-1674.8\" font-family=\"Times,serif\" font-size=\"14.00\">morphism</text>\n",
       "<text text-anchor=\"middle\" x=\"676\" y=\"-1659.8\" font-family=\"Times,serif\" font-size=\"14.00\">&lt;c&gt;</text>\n",
       "</g>\n",
       "<!-- 2&#45;&gt;3 -->\n",
       "<g id=\"edge6\" class=\"edge\">\n",
       "<title>2&#45;&gt;3</title>\n",
       "<path fill=\"none\" stroke=\"black\" d=\"M649.62,-1651.86C629.24,-1628.51 599.01,-1598.41 566,-1581 532.61,-1563.39 518.45,-1575.98 483,-1563 481.42,-1562.42 479.82,-1561.8 478.22,-1561.14\"/>\n",
       "<polygon fill=\"black\" stroke=\"black\" points=\"479.64,-1557.94 469.09,-1557.06 476.79,-1564.33 479.64,-1557.94\"/>\n",
       "<text text-anchor=\"middle\" x=\"636.5\" y=\"-1603.8\" font-family=\"Times,serif\" font-size=\"14.00\">2</text>\n",
       "</g>\n",
       "<!-- 9 -->\n",
       "<g id=\"node9\" class=\"node\">\n",
       "<title>9</title>\n",
       "<polygon fill=\"none\" stroke=\"black\" points=\"735,-1563 681,-1563 681,-1510 735,-1510 735,-1563\"/>\n",
       "<text text-anchor=\"middle\" x=\"708\" y=\"-1547.8\" font-family=\"Times,serif\" font-size=\"14.00\">[9]</text>\n",
       "<text text-anchor=\"middle\" x=\"708\" y=\"-1532.8\" font-family=\"Times,serif\" font-size=\"14.00\">Kernel</text>\n",
       "<text text-anchor=\"middle\" x=\"708\" y=\"-1517.8\" font-family=\"Times,serif\" font-size=\"14.00\">Object</text>\n",
       "</g>\n",
       "<!-- 2&#45;&gt;9 -->\n",
       "<g id=\"edge7\" class=\"edge\">\n",
       "<title>2&#45;&gt;9</title>\n",
       "<path fill=\"none\" stroke=\"black\" d=\"M683.18,-1651.9C688.28,-1628.41 695.11,-1596.93 700.31,-1572.94\"/>\n",
       "<polygon fill=\"black\" stroke=\"black\" points=\"703.73,-1573.67 702.43,-1563.16 696.89,-1572.19 703.73,-1573.67\"/>\n",
       "</g>\n",
       "<!-- 16 -->\n",
       "<g id=\"node16\" class=\"node\">\n",
       "<title>16</title>\n",
       "<polygon fill=\"none\" stroke=\"black\" points=\"873.5,-1459 784.5,-1459 784.5,-1391 873.5,-1391 873.5,-1459\"/>\n",
       "<text text-anchor=\"middle\" x=\"829\" y=\"-1443.8\" font-family=\"Times,serif\" font-size=\"14.00\">[16]</text>\n",
       "<text text-anchor=\"middle\" x=\"829\" y=\"-1428.8\" font-family=\"Times,serif\" font-size=\"14.00\">KernelLift</text>\n",
       "<text text-anchor=\"middle\" x=\"829\" y=\"-1413.8\" font-family=\"Times,serif\" font-size=\"14.00\">WithGiven</text>\n",
       "<text text-anchor=\"middle\" x=\"829\" y=\"-1398.8\" font-family=\"Times,serif\" font-size=\"14.00\">KernelObject</text>\n",
       "</g>\n",
       "<!-- 2&#45;&gt;16 -->\n",
       "<g id=\"edge8\" class=\"edge\">\n",
       "<title>2&#45;&gt;16</title>\n",
       "<path fill=\"none\" stroke=\"black\" d=\"M712.62,-1668.21C749.98,-1648.83 805.8,-1613.05 830,-1563 844.06,-1533.92 842.92,-1497.13 838.75,-1469\"/>\n",
       "<polygon fill=\"black\" stroke=\"black\" points=\"842.19,-1468.35 837.1,-1459.06 835.29,-1469.5 842.19,-1468.35\"/>\n",
       "<text text-anchor=\"middle\" x=\"844.5\" y=\"-1532.8\" font-family=\"Times,serif\" font-size=\"14.00\">1</text>\n",
       "</g>\n",
       "<!-- 21 -->\n",
       "<g id=\"node21\" class=\"node\">\n",
       "<title>21</title>\n",
       "<polygon fill=\"none\" stroke=\"black\" points=\"766,-1459 650,-1459 650,-1391 766,-1391 766,-1459\"/>\n",
       "<text text-anchor=\"middle\" x=\"708\" y=\"-1443.8\" font-family=\"Times,serif\" font-size=\"14.00\">[21]</text>\n",
       "<text text-anchor=\"middle\" x=\"708\" y=\"-1428.8\" font-family=\"Times,serif\" font-size=\"14.00\">KernelEmbedding</text>\n",
       "<text text-anchor=\"middle\" x=\"708\" y=\"-1413.8\" font-family=\"Times,serif\" font-size=\"14.00\">WithGiven</text>\n",
       "<text text-anchor=\"middle\" x=\"708\" y=\"-1398.8\" font-family=\"Times,serif\" font-size=\"14.00\">KernelObject</text>\n",
       "</g>\n",
       "<!-- 2&#45;&gt;21 -->\n",
       "<g id=\"edge9\" class=\"edge\">\n",
       "<title>2&#45;&gt;21</title>\n",
       "<path fill=\"none\" stroke=\"black\" d=\"M668.16,-1651.92C661.06,-1616.35 653.34,-1558.39 665,-1510 668.43,-1495.77 674.7,-1481.25 681.41,-1468.37\"/>\n",
       "<polygon fill=\"black\" stroke=\"black\" points=\"684.64,-1469.76 686.34,-1459.3 678.49,-1466.41 684.64,-1469.76\"/>\n",
       "<text text-anchor=\"middle\" x=\"668.5\" y=\"-1532.8\" font-family=\"Times,serif\" font-size=\"14.00\">1</text>\n",
       "</g>\n",
       "<!-- 6 -->\n",
       "<g id=\"node6\" class=\"node\">\n",
       "<title>6</title>\n",
       "<polygon fill=\"none\" stroke=\"black\" points=\"338,-1459 236,-1459 236,-1391 338,-1391 338,-1459\"/>\n",
       "<text text-anchor=\"middle\" x=\"287\" y=\"-1443.8\" font-family=\"Times,serif\" font-size=\"14.00\">[6]</text>\n",
       "<text text-anchor=\"middle\" x=\"287\" y=\"-1428.8\" font-family=\"Times,serif\" font-size=\"14.00\">CokernelColift</text>\n",
       "<text text-anchor=\"middle\" x=\"287\" y=\"-1413.8\" font-family=\"Times,serif\" font-size=\"14.00\">WithGiven</text>\n",
       "<text text-anchor=\"middle\" x=\"287\" y=\"-1398.8\" font-family=\"Times,serif\" font-size=\"14.00\">CokernelObject</text>\n",
       "</g>\n",
       "<!-- 3&#45;&gt;6 -->\n",
       "<g id=\"edge10\" class=\"edge\">\n",
       "<title>3&#45;&gt;6</title>\n",
       "<path fill=\"none\" stroke=\"black\" d=\"M413.14,-1509.97C403.08,-1499.08 390.6,-1486.67 378,-1477 376.27,-1475.67 363,-1468.14 347.09,-1459.26\"/>\n",
       "<polygon fill=\"black\" stroke=\"black\" points=\"348.48,-1456.03 338.05,-1454.22 345.08,-1462.14 348.48,-1456.03\"/>\n",
       "<text text-anchor=\"middle\" x=\"397.5\" y=\"-1480.8\" font-family=\"Times,serif\" font-size=\"14.00\">2</text>\n",
       "</g>\n",
       "<!-- 4 -->\n",
       "<g id=\"node4\" class=\"node\">\n",
       "<title>4</title>\n",
       "<polygon fill=\"none\" stroke=\"black\" points=\"311.5,-1929 238.5,-1929 238.5,-1861 311.5,-1861 311.5,-1929\"/>\n",
       "<text text-anchor=\"middle\" x=\"275\" y=\"-1913.8\" font-family=\"Times,serif\" font-size=\"14.00\">[4]</text>\n",
       "<text text-anchor=\"middle\" x=\"275\" y=\"-1898.8\" font-family=\"Times,serif\" font-size=\"14.00\">primitive</text>\n",
       "<text text-anchor=\"middle\" x=\"275\" y=\"-1883.8\" font-family=\"Times,serif\" font-size=\"14.00\">morphism</text>\n",
       "<text text-anchor=\"middle\" x=\"275\" y=\"-1868.8\" font-family=\"Times,serif\" font-size=\"14.00\">&lt;a&gt;</text>\n",
       "</g>\n",
       "<!-- 5 -->\n",
       "<g id=\"node5\" class=\"node\">\n",
       "<title>5</title>\n",
       "<polygon fill=\"none\" stroke=\"black\" points=\"181,-1824 115,-1824 115,-1771 181,-1771 181,-1824\"/>\n",
       "<text text-anchor=\"middle\" x=\"148\" y=\"-1808.8\" font-family=\"Times,serif\" font-size=\"14.00\">[5]</text>\n",
       "<text text-anchor=\"middle\" x=\"148\" y=\"-1793.8\" font-family=\"Times,serif\" font-size=\"14.00\">Cokernel</text>\n",
       "<text text-anchor=\"middle\" x=\"148\" y=\"-1778.8\" font-family=\"Times,serif\" font-size=\"14.00\">Object</text>\n",
       "</g>\n",
       "<!-- 4&#45;&gt;5 -->\n",
       "<g id=\"edge11\" class=\"edge\">\n",
       "<title>4&#45;&gt;5</title>\n",
       "<path fill=\"none\" stroke=\"black\" d=\"M238.27,-1866.38C222.92,-1854.84 205.02,-1841.38 189.23,-1829.5\"/>\n",
       "<polygon fill=\"black\" stroke=\"black\" points=\"191.28,-1826.67 181.18,-1823.45 187.07,-1832.26 191.28,-1826.67\"/>\n",
       "</g>\n",
       "<!-- 4&#45;&gt;6 -->\n",
       "<g id=\"edge12\" class=\"edge\">\n",
       "<title>4&#45;&gt;6</title>\n",
       "<path fill=\"none\" stroke=\"black\" d=\"M280.33,-1860.7C288.88,-1803.56 304.28,-1683.12 300,-1581 298.42,-1543.19 294.67,-1500.32 291.6,-1469.26\"/>\n",
       "<polygon fill=\"black\" stroke=\"black\" points=\"295.08,-1468.81 290.59,-1459.21 288.11,-1469.51 295.08,-1468.81\"/>\n",
       "<text text-anchor=\"middle\" x=\"303.5\" y=\"-1682.3\" font-family=\"Times,serif\" font-size=\"14.00\">1</text>\n",
       "</g>\n",
       "<!-- 4&#45;&gt;8 -->\n",
       "<g id=\"edge13\" class=\"edge\">\n",
       "<title>4&#45;&gt;8</title>\n",
       "<path fill=\"none\" stroke=\"black\" d=\"M311.57,-1890.02C395.8,-1878.95 605.23,-1840.22 722,-1720 761.34,-1679.5 777.04,-1613.63 783.18,-1573.08\"/>\n",
       "<polygon fill=\"black\" stroke=\"black\" points=\"786.66,-1573.49 784.58,-1563.1 779.73,-1572.52 786.66,-1573.49\"/>\n",
       "<text text-anchor=\"middle\" x=\"703.5\" y=\"-1741.8\" font-family=\"Times,serif\" font-size=\"14.00\">1</text>\n",
       "</g>\n",
       "<!-- 11 -->\n",
       "<g id=\"node11\" class=\"node\">\n",
       "<title>11</title>\n",
       "<polygon fill=\"none\" stroke=\"black\" points=\"278,-1720 156,-1720 156,-1652 278,-1652 278,-1720\"/>\n",
       "<text text-anchor=\"middle\" x=\"217\" y=\"-1704.8\" font-family=\"Times,serif\" font-size=\"14.00\">[11]</text>\n",
       "<text text-anchor=\"middle\" x=\"217\" y=\"-1689.8\" font-family=\"Times,serif\" font-size=\"14.00\">CokernelProjection</text>\n",
       "<text text-anchor=\"middle\" x=\"217\" y=\"-1674.8\" font-family=\"Times,serif\" font-size=\"14.00\">WithGiven</text>\n",
       "<text text-anchor=\"middle\" x=\"217\" y=\"-1659.8\" font-family=\"Times,serif\" font-size=\"14.00\">CokernelObject</text>\n",
       "</g>\n",
       "<!-- 4&#45;&gt;11 -->\n",
       "<g id=\"edge14\" class=\"edge\">\n",
       "<title>4&#45;&gt;11</title>\n",
       "<path fill=\"none\" stroke=\"black\" d=\"M265.68,-1860.74C255.75,-1825.28 239.97,-1768.99 229.09,-1730.15\"/>\n",
       "<polygon fill=\"black\" stroke=\"black\" points=\"232.36,-1728.86 226.3,-1720.18 225.62,-1730.75 232.36,-1728.86\"/>\n",
       "<text text-anchor=\"middle\" x=\"259.5\" y=\"-1793.8\" font-family=\"Times,serif\" font-size=\"14.00\">1</text>\n",
       "</g>\n",
       "<!-- 5&#45;&gt;6 -->\n",
       "<g id=\"edge15\" class=\"edge\">\n",
       "<title>5&#45;&gt;6</title>\n",
       "<path fill=\"none\" stroke=\"black\" d=\"M142.31,-1770.68C132.17,-1718.84 115.39,-1599.42 153,-1510 167.4,-1475.77 187.89,-1476.11 226.68,-1458.86\"/>\n",
       "<polygon fill=\"black\" stroke=\"black\" points=\"228.21,-1462.02 235.8,-1454.63 225.26,-1455.67 228.21,-1462.02\"/>\n",
       "<text text-anchor=\"middle\" x=\"137.5\" y=\"-1603.8\" font-family=\"Times,serif\" font-size=\"14.00\">3</text>\n",
       "</g>\n",
       "<!-- 5&#45;&gt;11 -->\n",
       "<g id=\"edge16\" class=\"edge\">\n",
       "<title>5&#45;&gt;11</title>\n",
       "<path fill=\"none\" stroke=\"black\" d=\"M164.18,-1770.83C172.03,-1758.37 181.66,-1743.08 190.54,-1728.99\"/>\n",
       "<polygon fill=\"black\" stroke=\"black\" points=\"193.58,-1730.73 195.95,-1720.4 187.66,-1727 193.58,-1730.73\"/>\n",
       "<text text-anchor=\"middle\" x=\"188.5\" y=\"-1741.8\" font-family=\"Times,serif\" font-size=\"14.00\">2</text>\n",
       "</g>\n",
       "<!-- 14 -->\n",
       "<g id=\"node14\" class=\"node\">\n",
       "<title>14</title>\n",
       "<polygon fill=\"none\" stroke=\"black\" points=\"74,-1634 0,-1634 0,-1581 74,-1581 74,-1634\"/>\n",
       "<text text-anchor=\"middle\" x=\"37\" y=\"-1618.8\" font-family=\"Times,serif\" font-size=\"14.00\">[14]</text>\n",
       "<text text-anchor=\"middle\" x=\"37\" y=\"-1603.8\" font-family=\"Times,serif\" font-size=\"14.00\">Identity</text>\n",
       "<text text-anchor=\"middle\" x=\"37\" y=\"-1588.8\" font-family=\"Times,serif\" font-size=\"14.00\">Morphism</text>\n",
       "</g>\n",
       "<!-- 5&#45;&gt;14 -->\n",
       "<g id=\"edge17\" class=\"edge\">\n",
       "<title>5&#45;&gt;14</title>\n",
       "<path fill=\"none\" stroke=\"black\" d=\"M126.74,-1770.82C122.34,-1765.09 117.87,-1758.95 114,-1753 90.58,-1716.98 67.97,-1673.12 53.38,-1643.24\"/>\n",
       "<polygon fill=\"black\" stroke=\"black\" points=\"56.45,-1641.53 48.94,-1634.06 50.15,-1644.58 56.45,-1641.53\"/>\n",
       "</g>\n",
       "<!-- 7 -->\n",
       "<g id=\"node7\" class=\"node\">\n",
       "<title>7</title>\n",
       "<polygon fill=\"none\" stroke=\"black\" points=\"251,-1340 197,-1340 197,-1287 251,-1287 251,-1340\"/>\n",
       "<text text-anchor=\"middle\" x=\"224\" y=\"-1324.8\" font-family=\"Times,serif\" font-size=\"14.00\">[7]</text>\n",
       "<text text-anchor=\"middle\" x=\"224\" y=\"-1309.8\" font-family=\"Times,serif\" font-size=\"14.00\">Kernel</text>\n",
       "<text text-anchor=\"middle\" x=\"224\" y=\"-1294.8\" font-family=\"Times,serif\" font-size=\"14.00\">Object</text>\n",
       "</g>\n",
       "<!-- 6&#45;&gt;7 -->\n",
       "<g id=\"edge18\" class=\"edge\">\n",
       "<title>6&#45;&gt;7</title>\n",
       "<path fill=\"none\" stroke=\"black\" d=\"M267.93,-1390.85C260.34,-1377.65 251.6,-1362.47 243.92,-1349.13\"/>\n",
       "<polygon fill=\"black\" stroke=\"black\" points=\"246.83,-1347.16 238.81,-1340.24 240.76,-1350.65 246.83,-1347.16\"/>\n",
       "</g>\n",
       "<!-- 15 -->\n",
       "<g id=\"node15\" class=\"node\">\n",
       "<title>15</title>\n",
       "<polygon fill=\"none\" stroke=\"black\" points=\"282,-1236 166,-1236 166,-1168 282,-1168 282,-1236\"/>\n",
       "<text text-anchor=\"middle\" x=\"224\" y=\"-1220.8\" font-family=\"Times,serif\" font-size=\"14.00\">[15]</text>\n",
       "<text text-anchor=\"middle\" x=\"224\" y=\"-1205.8\" font-family=\"Times,serif\" font-size=\"14.00\">KernelEmbedding</text>\n",
       "<text text-anchor=\"middle\" x=\"224\" y=\"-1190.8\" font-family=\"Times,serif\" font-size=\"14.00\">WithGiven</text>\n",
       "<text text-anchor=\"middle\" x=\"224\" y=\"-1175.8\" font-family=\"Times,serif\" font-size=\"14.00\">KernelObject</text>\n",
       "</g>\n",
       "<!-- 6&#45;&gt;15 -->\n",
       "<g id=\"edge19\" class=\"edge\">\n",
       "<title>6&#45;&gt;15</title>\n",
       "<path fill=\"none\" stroke=\"black\" d=\"M282.47,-1390.86C278.16,-1362.81 270.74,-1321.74 260,-1287 255.74,-1273.22 249.96,-1258.63 244.29,-1245.54\"/>\n",
       "<polygon fill=\"black\" stroke=\"black\" points=\"247.45,-1244.04 240.19,-1236.31 241.05,-1246.87 247.45,-1244.04\"/>\n",
       "<text text-anchor=\"middle\" x=\"276.5\" y=\"-1309.8\" font-family=\"Times,serif\" font-size=\"14.00\">1</text>\n",
       "</g>\n",
       "<!-- 7&#45;&gt;15 -->\n",
       "<g id=\"edge20\" class=\"edge\">\n",
       "<title>7&#45;&gt;15</title>\n",
       "<path fill=\"none\" stroke=\"black\" d=\"M224,-1286.83C224,-1274.84 224,-1260.23 224,-1246.59\"/>\n",
       "<polygon fill=\"black\" stroke=\"black\" points=\"227.5,-1246.4 224,-1236.4 220.5,-1246.4 227.5,-1246.4\"/>\n",
       "<text text-anchor=\"middle\" x=\"227.5\" y=\"-1257.8\" font-family=\"Times,serif\" font-size=\"14.00\">2</text>\n",
       "</g>\n",
       "<!-- 8&#45;&gt;16 -->\n",
       "<g id=\"edge21\" class=\"edge\">\n",
       "<title>8&#45;&gt;16</title>\n",
       "<path fill=\"none\" stroke=\"black\" d=\"M796.85,-1509.83C801.54,-1497.6 807.27,-1482.66 812.59,-1468.78\"/>\n",
       "<polygon fill=\"black\" stroke=\"black\" points=\"815.88,-1469.99 816.19,-1459.4 809.34,-1467.48 815.88,-1469.99\"/>\n",
       "<text text-anchor=\"middle\" x=\"812.5\" y=\"-1480.8\" font-family=\"Times,serif\" font-size=\"14.00\">2</text>\n",
       "</g>\n",
       "<!-- 9&#45;&gt;16 -->\n",
       "<g id=\"edge22\" class=\"edge\">\n",
       "<title>9&#45;&gt;16</title>\n",
       "<path fill=\"none\" stroke=\"black\" d=\"M735.15,-1510.93C749.78,-1497.69 768.18,-1481.04 784.81,-1465.99\"/>\n",
       "<polygon fill=\"black\" stroke=\"black\" points=\"787.23,-1468.52 792.3,-1459.21 782.54,-1463.33 787.23,-1468.52\"/>\n",
       "<text text-anchor=\"middle\" x=\"775.5\" y=\"-1480.8\" font-family=\"Times,serif\" font-size=\"14.00\">3</text>\n",
       "</g>\n",
       "<!-- 9&#45;&gt;21 -->\n",
       "<g id=\"edge23\" class=\"edge\">\n",
       "<title>9&#45;&gt;21</title>\n",
       "<path fill=\"none\" stroke=\"black\" d=\"M708,-1509.83C708,-1497.84 708,-1483.23 708,-1469.59\"/>\n",
       "<polygon fill=\"black\" stroke=\"black\" points=\"711.5,-1469.4 708,-1459.4 704.5,-1469.4 711.5,-1469.4\"/>\n",
       "<text text-anchor=\"middle\" x=\"711.5\" y=\"-1480.8\" font-family=\"Times,serif\" font-size=\"14.00\">2</text>\n",
       "</g>\n",
       "<!-- 10 -->\n",
       "<g id=\"node10\" class=\"node\">\n",
       "<title>10</title>\n",
       "<polygon fill=\"none\" stroke=\"black\" points=\"619.5,-1563 552.5,-1563 552.5,-1510 619.5,-1510 619.5,-1563\"/>\n",
       "<text text-anchor=\"middle\" x=\"586\" y=\"-1547.8\" font-family=\"Times,serif\" font-size=\"14.00\">[10]</text>\n",
       "<text text-anchor=\"middle\" x=\"586\" y=\"-1532.8\" font-family=\"Times,serif\" font-size=\"14.00\">primitive</text>\n",
       "<text text-anchor=\"middle\" x=\"586\" y=\"-1517.8\" font-family=\"Times,serif\" font-size=\"14.00\">object</text>\n",
       "</g>\n",
       "<!-- 17 -->\n",
       "<g id=\"node17\" class=\"node\">\n",
       "<title>17</title>\n",
       "<polygon fill=\"none\" stroke=\"black\" points=\"632,-1451.5 558,-1451.5 558,-1398.5 632,-1398.5 632,-1451.5\"/>\n",
       "<text text-anchor=\"middle\" x=\"595\" y=\"-1436.3\" font-family=\"Times,serif\" font-size=\"14.00\">[17]</text>\n",
       "<text text-anchor=\"middle\" x=\"595\" y=\"-1421.3\" font-family=\"Times,serif\" font-size=\"14.00\">Identity</text>\n",
       "<text text-anchor=\"middle\" x=\"595\" y=\"-1406.3\" font-family=\"Times,serif\" font-size=\"14.00\">Morphism</text>\n",
       "</g>\n",
       "<!-- 10&#45;&gt;17 -->\n",
       "<g id=\"edge24\" class=\"edge\">\n",
       "<title>10&#45;&gt;17</title>\n",
       "<path fill=\"none\" stroke=\"black\" d=\"M588.11,-1509.83C589.28,-1495.55 590.76,-1477.55 592.05,-1461.9\"/>\n",
       "<polygon fill=\"black\" stroke=\"black\" points=\"595.57,-1461.77 592.9,-1451.51 588.6,-1461.19 595.57,-1461.77\"/>\n",
       "</g>\n",
       "<!-- 11&#45;&gt;12 -->\n",
       "<g id=\"edge25\" class=\"edge\">\n",
       "<title>11&#45;&gt;12</title>\n",
       "<path fill=\"none\" stroke=\"black\" d=\"M219.69,-1651.9C221.8,-1626 224.7,-1590.38 226.7,-1565.8\"/>\n",
       "<polygon fill=\"black\" stroke=\"black\" points=\"230.2,-1565.93 227.52,-1555.68 223.22,-1565.37 230.2,-1565.93\"/>\n",
       "<text text-anchor=\"middle\" x=\"229.5\" y=\"-1603.8\" font-family=\"Times,serif\" font-size=\"14.00\">1</text>\n",
       "</g>\n",
       "<!-- 11&#45;&gt;13 -->\n",
       "<g id=\"edge26\" class=\"edge\">\n",
       "<title>11&#45;&gt;13</title>\n",
       "<path fill=\"none\" stroke=\"black\" d=\"M235.3,-1651.59C247.32,-1630.64 263.93,-1603.44 281,-1581 307.08,-1546.71 310.53,-1532.94 347,-1510 369.85,-1495.63 383.47,-1508.27 405,-1492 415.85,-1483.8 424.76,-1472.02 431.59,-1460.67\"/>\n",
       "<polygon fill=\"black\" stroke=\"black\" points=\"434.77,-1462.17 436.63,-1451.74 428.67,-1458.73 434.77,-1462.17\"/>\n",
       "<text text-anchor=\"middle\" x=\"350.5\" y=\"-1532.8\" font-family=\"Times,serif\" font-size=\"14.00\">1</text>\n",
       "</g>\n",
       "<!-- 11&#45;&gt;22 -->\n",
       "<g id=\"edge27\" class=\"edge\">\n",
       "<title>11&#45;&gt;22</title>\n",
       "<path fill=\"none\" stroke=\"black\" d=\"M205.38,-1651.93C188.18,-1602.97 156.06,-1511.56 138.41,-1461.33\"/>\n",
       "<polygon fill=\"black\" stroke=\"black\" points=\"141.7,-1460.13 135.08,-1451.85 135.1,-1462.45 141.7,-1460.13\"/>\n",
       "<text text-anchor=\"middle\" x=\"177.5\" y=\"-1532.8\" font-family=\"Times,serif\" font-size=\"14.00\">1</text>\n",
       "</g>\n",
       "<!-- 12&#45;&gt;13 -->\n",
       "<g id=\"edge28\" class=\"edge\">\n",
       "<title>12&#45;&gt;13</title>\n",
       "<path fill=\"none\" stroke=\"black\" d=\"M259.45,-1520.27C292.52,-1503.74 346.18,-1476.91 387.82,-1456.09\"/>\n",
       "<polygon fill=\"black\" stroke=\"black\" points=\"389.4,-1459.22 396.78,-1451.61 386.27,-1452.95 389.4,-1459.22\"/>\n",
       "<text text-anchor=\"middle\" x=\"348.5\" y=\"-1480.8\" font-family=\"Times,serif\" font-size=\"14.00\">3</text>\n",
       "</g>\n",
       "<!-- 12&#45;&gt;22 -->\n",
       "<g id=\"edge29\" class=\"edge\">\n",
       "<title>12&#45;&gt;22</title>\n",
       "<path fill=\"none\" stroke=\"black\" d=\"M218.14,-1517.41C210.47,-1505.35 199.54,-1489.47 188,-1477 182.08,-1470.6 175.35,-1464.29 168.56,-1458.4\"/>\n",
       "<polygon fill=\"black\" stroke=\"black\" points=\"170.52,-1455.47 160.62,-1451.7 166.01,-1460.82 170.52,-1455.47\"/>\n",
       "<text text-anchor=\"middle\" x=\"203.5\" y=\"-1480.8\" font-family=\"Times,serif\" font-size=\"14.00\">3</text>\n",
       "</g>\n",
       "<!-- 18 -->\n",
       "<g id=\"node18\" class=\"node\">\n",
       "<title>18</title>\n",
       "<polygon fill=\"none\" stroke=\"black\" points=\"559,-1340 491,-1340 491,-1287 559,-1287 559,-1340\"/>\n",
       "<text text-anchor=\"middle\" x=\"525\" y=\"-1324.8\" font-family=\"Times,serif\" font-size=\"14.00\">[18]</text>\n",
       "<text text-anchor=\"middle\" x=\"525\" y=\"-1309.8\" font-family=\"Times,serif\" font-size=\"14.00\">Pre</text>\n",
       "<text text-anchor=\"middle\" x=\"525\" y=\"-1294.8\" font-family=\"Times,serif\" font-size=\"14.00\">Compose</text>\n",
       "</g>\n",
       "<!-- 13&#45;&gt;18 -->\n",
       "<g id=\"edge30\" class=\"edge\">\n",
       "<title>13&#45;&gt;18</title>\n",
       "<path fill=\"none\" stroke=\"black\" d=\"M466.05,-1398.33C476.48,-1383.5 489.72,-1364.66 501.02,-1348.61\"/>\n",
       "<polygon fill=\"black\" stroke=\"black\" points=\"504.17,-1350.21 507.06,-1340.01 498.44,-1346.18 504.17,-1350.21\"/>\n",
       "<text text-anchor=\"middle\" x=\"496.5\" y=\"-1361.8\" font-family=\"Times,serif\" font-size=\"14.00\">2</text>\n",
       "</g>\n",
       "<!-- 23 -->\n",
       "<g id=\"node23\" class=\"node\">\n",
       "<title>23</title>\n",
       "<polygon fill=\"none\" stroke=\"black\" points=\"170,-1117 102,-1117 102,-1064 170,-1064 170,-1117\"/>\n",
       "<text text-anchor=\"middle\" x=\"136\" y=\"-1101.8\" font-family=\"Times,serif\" font-size=\"14.00\">[23]</text>\n",
       "<text text-anchor=\"middle\" x=\"136\" y=\"-1086.8\" font-family=\"Times,serif\" font-size=\"14.00\">Pre</text>\n",
       "<text text-anchor=\"middle\" x=\"136\" y=\"-1071.8\" font-family=\"Times,serif\" font-size=\"14.00\">Compose</text>\n",
       "</g>\n",
       "<!-- 14&#45;&gt;23 -->\n",
       "<g id=\"edge31\" class=\"edge\">\n",
       "<title>14&#45;&gt;23</title>\n",
       "<path fill=\"none\" stroke=\"black\" d=\"M34.29,-1580.96C31.32,-1551.58 26.74,-1501.87 25,-1459 23.77,-1428.8 19.66,-1420.75 25,-1391 42.92,-1291.11 91.94,-1180.98 118.45,-1126.29\"/>\n",
       "<polygon fill=\"black\" stroke=\"black\" points=\"121.71,-1127.58 122.96,-1117.06 115.42,-1124.5 121.71,-1127.58\"/>\n",
       "<text text-anchor=\"middle\" x=\"35.5\" y=\"-1361.8\" font-family=\"Times,serif\" font-size=\"14.00\">2</text>\n",
       "</g>\n",
       "<!-- 15&#45;&gt;23 -->\n",
       "<g id=\"edge32\" class=\"edge\">\n",
       "<title>15&#45;&gt;23</title>\n",
       "<path fill=\"none\" stroke=\"black\" d=\"M197.36,-1167.85C186.55,-1154.4 174.08,-1138.88 163.21,-1125.36\"/>\n",
       "<polygon fill=\"black\" stroke=\"black\" points=\"165.68,-1122.84 156.68,-1117.24 160.22,-1127.22 165.68,-1122.84\"/>\n",
       "<text text-anchor=\"middle\" x=\"186.5\" y=\"-1138.8\" font-family=\"Times,serif\" font-size=\"14.00\">1</text>\n",
       "</g>\n",
       "<!-- 24 -->\n",
       "<g id=\"node24\" class=\"node\">\n",
       "<title>24</title>\n",
       "<polygon fill=\"none\" stroke=\"black\" points=\"845,-1117 779,-1117 779,-1064 845,-1064 845,-1117\"/>\n",
       "<text text-anchor=\"middle\" x=\"812\" y=\"-1101.8\" font-family=\"Times,serif\" font-size=\"14.00\">[24]</text>\n",
       "<text text-anchor=\"middle\" x=\"812\" y=\"-1086.8\" font-family=\"Times,serif\" font-size=\"14.00\">Cokernel</text>\n",
       "<text text-anchor=\"middle\" x=\"812\" y=\"-1071.8\" font-family=\"Times,serif\" font-size=\"14.00\">Object</text>\n",
       "</g>\n",
       "<!-- 16&#45;&gt;24 -->\n",
       "<g id=\"edge33\" class=\"edge\">\n",
       "<title>16&#45;&gt;24</title>\n",
       "<path fill=\"none\" stroke=\"black\" d=\"M827.31,-1390.9C824.1,-1328.2 817.17,-1192.55 813.85,-1127.6\"/>\n",
       "<polygon fill=\"black\" stroke=\"black\" points=\"817.33,-1127.24 813.33,-1117.43 810.34,-1127.6 817.33,-1127.24\"/>\n",
       "</g>\n",
       "<!-- 26 -->\n",
       "<g id=\"node26\" class=\"node\">\n",
       "<title>26</title>\n",
       "<polygon fill=\"none\" stroke=\"black\" points=\"934,-1013 812,-1013 812,-945 934,-945 934,-1013\"/>\n",
       "<text text-anchor=\"middle\" x=\"873\" y=\"-997.8\" font-family=\"Times,serif\" font-size=\"14.00\">[26]</text>\n",
       "<text text-anchor=\"middle\" x=\"873\" y=\"-982.8\" font-family=\"Times,serif\" font-size=\"14.00\">CokernelProjection</text>\n",
       "<text text-anchor=\"middle\" x=\"873\" y=\"-967.8\" font-family=\"Times,serif\" font-size=\"14.00\">WithGiven</text>\n",
       "<text text-anchor=\"middle\" x=\"873\" y=\"-952.8\" font-family=\"Times,serif\" font-size=\"14.00\">CokernelObject</text>\n",
       "</g>\n",
       "<!-- 16&#45;&gt;26 -->\n",
       "<g id=\"edge34\" class=\"edge\">\n",
       "<title>16&#45;&gt;26</title>\n",
       "<path fill=\"none\" stroke=\"black\" d=\"M849.97,-1390.85C861.3,-1369.81 873,-1341.54 873,-1314.5 873,-1314.5 873,-1314.5 873,-1089.5 873,-1067.65 873,-1043.34 873,-1023.19\"/>\n",
       "<polygon fill=\"black\" stroke=\"black\" points=\"876.5,-1023.06 873,-1013.06 869.5,-1023.06 876.5,-1023.06\"/>\n",
       "<text text-anchor=\"middle\" x=\"876.5\" y=\"-1198.3\" font-family=\"Times,serif\" font-size=\"14.00\">1</text>\n",
       "</g>\n",
       "<!-- 17&#45;&gt;18 -->\n",
       "<g id=\"edge35\" class=\"edge\">\n",
       "<title>17&#45;&gt;18</title>\n",
       "<path fill=\"none\" stroke=\"black\" d=\"M578.59,-1398.33C569.11,-1383.5 557.07,-1364.66 546.8,-1348.61\"/>\n",
       "<polygon fill=\"black\" stroke=\"black\" points=\"549.64,-1346.55 541.31,-1340.01 543.75,-1350.32 549.64,-1346.55\"/>\n",
       "<text text-anchor=\"middle\" x=\"565.5\" y=\"-1361.8\" font-family=\"Times,serif\" font-size=\"14.00\">1</text>\n",
       "</g>\n",
       "<!-- 19 -->\n",
       "<g id=\"node19\" class=\"node\">\n",
       "<title>19</title>\n",
       "<polygon fill=\"none\" stroke=\"black\" points=\"614,-1221 554,-1221 554,-1183 614,-1183 614,-1221\"/>\n",
       "<text text-anchor=\"middle\" x=\"584\" y=\"-1205.8\" font-family=\"Times,serif\" font-size=\"14.00\">[19]</text>\n",
       "<text text-anchor=\"middle\" x=\"584\" y=\"-1190.8\" font-family=\"Times,serif\" font-size=\"14.00\">Pushout</text>\n",
       "</g>\n",
       "<!-- 17&#45;&gt;19 -->\n",
       "<g id=\"edge36\" class=\"edge\">\n",
       "<title>17&#45;&gt;19</title>\n",
       "<path fill=\"none\" stroke=\"black\" d=\"M593.72,-1398.22C591.64,-1356.54 587.57,-1274.7 585.41,-1231.41\"/>\n",
       "<polygon fill=\"black\" stroke=\"black\" points=\"588.9,-1231.09 584.91,-1221.28 581.91,-1231.44 588.9,-1231.09\"/>\n",
       "<text text-anchor=\"middle\" x=\"593.5\" y=\"-1309.8\" font-family=\"Times,serif\" font-size=\"14.00\">2</text>\n",
       "</g>\n",
       "<!-- 20 -->\n",
       "<g id=\"node20\" class=\"node\">\n",
       "<title>20</title>\n",
       "<polygon fill=\"none\" stroke=\"black\" points=\"718,-1117 534,-1117 534,-1064 718,-1064 718,-1117\"/>\n",
       "<text text-anchor=\"middle\" x=\"626\" y=\"-1101.8\" font-family=\"Times,serif\" font-size=\"14.00\">[20]</text>\n",
       "<text text-anchor=\"middle\" x=\"626\" y=\"-1086.8\" font-family=\"Times,serif\" font-size=\"14.00\">InjectionOfCofactorOfPushout</text>\n",
       "<text text-anchor=\"middle\" x=\"626\" y=\"-1071.8\" font-family=\"Times,serif\" font-size=\"14.00\">WithGivenPushout( 2 )</text>\n",
       "</g>\n",
       "<!-- 17&#45;&gt;20 -->\n",
       "<g id=\"edge37\" class=\"edge\">\n",
       "<title>17&#45;&gt;20</title>\n",
       "<path fill=\"none\" stroke=\"black\" d=\"M600.99,-1398.4C602.76,-1390.31 604.59,-1381.31 606,-1373 616.26,-1312.51 618.58,-1297.2 623,-1236 625.67,-1199 626.26,-1156.54 626.28,-1127.27\"/>\n",
       "<polygon fill=\"black\" stroke=\"black\" points=\"629.78,-1127.11 626.26,-1117.12 622.78,-1127.12 629.78,-1127.11\"/>\n",
       "<text text-anchor=\"middle\" x=\"624.5\" y=\"-1257.8\" font-family=\"Times,serif\" font-size=\"14.00\">2</text>\n",
       "</g>\n",
       "<!-- 28 -->\n",
       "<g id=\"node28\" class=\"node\">\n",
       "<title>28</title>\n",
       "<polygon fill=\"none\" stroke=\"black\" points=\"516,-1117 332,-1117 332,-1064 516,-1064 516,-1117\"/>\n",
       "<text text-anchor=\"middle\" x=\"424\" y=\"-1101.8\" font-family=\"Times,serif\" font-size=\"14.00\">[28]</text>\n",
       "<text text-anchor=\"middle\" x=\"424\" y=\"-1086.8\" font-family=\"Times,serif\" font-size=\"14.00\">InjectionOfCofactorOfPushout</text>\n",
       "<text text-anchor=\"middle\" x=\"424\" y=\"-1071.8\" font-family=\"Times,serif\" font-size=\"14.00\">WithGivenPushout( 1 )</text>\n",
       "</g>\n",
       "<!-- 17&#45;&gt;28 -->\n",
       "<g id=\"edge38\" class=\"edge\">\n",
       "<title>17&#45;&gt;28</title>\n",
       "<path fill=\"none\" stroke=\"black\" d=\"M559.47,-1398.49C527.34,-1375.29 484.66,-1344.05 482,-1340 438.57,-1273.77 427.51,-1178.85 424.79,-1127.61\"/>\n",
       "<polygon fill=\"black\" stroke=\"black\" points=\"428.28,-1127.2 424.33,-1117.36 421.28,-1127.51 428.28,-1127.2\"/>\n",
       "<text text-anchor=\"middle\" x=\"451.5\" y=\"-1257.8\" font-family=\"Times,serif\" font-size=\"14.00\">2</text>\n",
       "</g>\n",
       "<!-- 18&#45;&gt;19 -->\n",
       "<g id=\"edge39\" class=\"edge\">\n",
       "<title>18&#45;&gt;19</title>\n",
       "<path fill=\"none\" stroke=\"black\" d=\"M538.83,-1286.83C547.97,-1269.87 559.94,-1247.66 569.26,-1230.37\"/>\n",
       "<polygon fill=\"black\" stroke=\"black\" points=\"572.46,-1231.79 574.13,-1221.33 566.3,-1228.47 572.46,-1231.79\"/>\n",
       "<text text-anchor=\"middle\" x=\"559.5\" y=\"-1257.8\" font-family=\"Times,serif\" font-size=\"14.00\">1</text>\n",
       "</g>\n",
       "<!-- 18&#45;&gt;20 -->\n",
       "<g id=\"edge40\" class=\"edge\">\n",
       "<title>18&#45;&gt;20</title>\n",
       "<path fill=\"none\" stroke=\"black\" d=\"M520.26,-1286.86C514.89,-1249.71 510.64,-1180.4 543,-1135 545.99,-1130.8 549.52,-1126.98 553.39,-1123.5\"/>\n",
       "<polygon fill=\"black\" stroke=\"black\" points=\"555.61,-1126.2 561.24,-1117.22 551.24,-1120.73 555.61,-1126.2\"/>\n",
       "<text text-anchor=\"middle\" x=\"529.5\" y=\"-1198.3\" font-family=\"Times,serif\" font-size=\"14.00\">1</text>\n",
       "</g>\n",
       "<!-- 18&#45;&gt;28 -->\n",
       "<g id=\"edge41\" class=\"edge\">\n",
       "<title>18&#45;&gt;28</title>\n",
       "<path fill=\"none\" stroke=\"black\" d=\"M516.72,-1286.71C504.94,-1251.44 481.68,-1186.63 454,-1135 452.35,-1131.91 450.52,-1128.78 448.61,-1125.69\"/>\n",
       "<polygon fill=\"black\" stroke=\"black\" points=\"451.44,-1123.62 443.07,-1117.13 445.56,-1127.42 451.44,-1123.62\"/>\n",
       "<text text-anchor=\"middle\" x=\"501.5\" y=\"-1198.3\" font-family=\"Times,serif\" font-size=\"14.00\">1</text>\n",
       "</g>\n",
       "<!-- 19&#45;&gt;20 -->\n",
       "<g id=\"edge42\" class=\"edge\">\n",
       "<title>19&#45;&gt;20</title>\n",
       "<path fill=\"none\" stroke=\"black\" d=\"M590.94,-1182.92C596.77,-1167.71 605.28,-1145.52 612.46,-1126.81\"/>\n",
       "<polygon fill=\"black\" stroke=\"black\" points=\"615.75,-1127.98 616.07,-1117.39 609.22,-1125.48 615.75,-1127.98\"/>\n",
       "<text text-anchor=\"middle\" x=\"611.5\" y=\"-1138.8\" font-family=\"Times,serif\" font-size=\"14.00\">3</text>\n",
       "</g>\n",
       "<!-- 19&#45;&gt;28 -->\n",
       "<g id=\"edge43\" class=\"edge\">\n",
       "<title>19&#45;&gt;28</title>\n",
       "<path fill=\"none\" stroke=\"black\" d=\"M562.55,-1182.72C545.96,-1168.94 522.15,-1149.92 500,-1135 493.62,-1130.7 486.79,-1126.4 479.94,-1122.27\"/>\n",
       "<polygon fill=\"black\" stroke=\"black\" points=\"481.66,-1119.22 471.28,-1117.13 478.09,-1125.24 481.66,-1119.22\"/>\n",
       "<text text-anchor=\"middle\" x=\"522.5\" y=\"-1138.8\" font-family=\"Times,serif\" font-size=\"14.00\">3</text>\n",
       "</g>\n",
       "<!-- 25 -->\n",
       "<g id=\"node25\" class=\"node\">\n",
       "<title>25</title>\n",
       "<polygon fill=\"none\" stroke=\"black\" points=\"671,-1005.5 603,-1005.5 603,-952.5 671,-952.5 671,-1005.5\"/>\n",
       "<text text-anchor=\"middle\" x=\"637\" y=\"-990.3\" font-family=\"Times,serif\" font-size=\"14.00\">[25]</text>\n",
       "<text text-anchor=\"middle\" x=\"637\" y=\"-975.3\" font-family=\"Times,serif\" font-size=\"14.00\">Pre</text>\n",
       "<text text-anchor=\"middle\" x=\"637\" y=\"-960.3\" font-family=\"Times,serif\" font-size=\"14.00\">Compose</text>\n",
       "</g>\n",
       "<!-- 20&#45;&gt;25 -->\n",
       "<g id=\"edge44\" class=\"edge\">\n",
       "<title>20&#45;&gt;25</title>\n",
       "<path fill=\"none\" stroke=\"black\" d=\"M628.58,-1063.83C630.01,-1049.55 631.82,-1031.55 633.39,-1015.9\"/>\n",
       "<polygon fill=\"black\" stroke=\"black\" points=\"636.92,-1015.81 634.44,-1005.51 629.96,-1015.11 636.92,-1015.81\"/>\n",
       "<text text-anchor=\"middle\" x=\"634.5\" y=\"-1034.8\" font-family=\"Times,serif\" font-size=\"14.00\">2</text>\n",
       "</g>\n",
       "<!-- 21&#45;&gt;25 -->\n",
       "<g id=\"edge45\" class=\"edge\">\n",
       "<title>21&#45;&gt;25</title>\n",
       "<path fill=\"none\" stroke=\"black\" d=\"M725.89,-1390.99C735.74,-1369.77 746,-1341.26 746,-1314.5 746,-1314.5 746,-1314.5 746,-1089.5 746,-1050.32 710.51,-1020.2 680.03,-1001.55\"/>\n",
       "<polygon fill=\"black\" stroke=\"black\" points=\"681.59,-998.41 671.19,-996.37 678.05,-1004.45 681.59,-998.41\"/>\n",
       "<text text-anchor=\"middle\" x=\"749.5\" y=\"-1198.3\" font-family=\"Times,serif\" font-size=\"14.00\">1</text>\n",
       "</g>\n",
       "<!-- 29 -->\n",
       "<g id=\"node29\" class=\"node\">\n",
       "<title>29</title>\n",
       "<polygon fill=\"none\" stroke=\"black\" points=\"170,-1005.5 102,-1005.5 102,-952.5 170,-952.5 170,-1005.5\"/>\n",
       "<text text-anchor=\"middle\" x=\"136\" y=\"-990.3\" font-family=\"Times,serif\" font-size=\"14.00\">[29]</text>\n",
       "<text text-anchor=\"middle\" x=\"136\" y=\"-975.3\" font-family=\"Times,serif\" font-size=\"14.00\">Pre</text>\n",
       "<text text-anchor=\"middle\" x=\"136\" y=\"-960.3\" font-family=\"Times,serif\" font-size=\"14.00\">Compose</text>\n",
       "</g>\n",
       "<!-- 22&#45;&gt;29 -->\n",
       "<g id=\"edge46\" class=\"edge\">\n",
       "<title>22&#45;&gt;29</title>\n",
       "<path fill=\"none\" stroke=\"black\" d=\"M91.7,-1398.26C69.23,-1378.23 44,-1348.23 44,-1314.5 44,-1314.5 44,-1314.5 44,-1089.5 44,-1056.04 69.5,-1027.46 93.64,-1007.9\"/>\n",
       "<polygon fill=\"black\" stroke=\"black\" points=\"95.99,-1010.51 101.74,-1001.62 91.7,-1004.98 95.99,-1010.51\"/>\n",
       "<text text-anchor=\"middle\" x=\"47.5\" y=\"-1198.3\" font-family=\"Times,serif\" font-size=\"14.00\">2</text>\n",
       "</g>\n",
       "<!-- 23&#45;&gt;29 -->\n",
       "<g id=\"edge47\" class=\"edge\">\n",
       "<title>23&#45;&gt;29</title>\n",
       "<path fill=\"none\" stroke=\"black\" d=\"M136,-1063.83C136,-1049.55 136,-1031.55 136,-1015.9\"/>\n",
       "<polygon fill=\"black\" stroke=\"black\" points=\"139.5,-1015.51 136,-1005.51 132.5,-1015.51 139.5,-1015.51\"/>\n",
       "<text text-anchor=\"middle\" x=\"139.5\" y=\"-1034.8\" font-family=\"Times,serif\" font-size=\"14.00\">1</text>\n",
       "</g>\n",
       "<!-- 24&#45;&gt;26 -->\n",
       "<g id=\"edge48\" class=\"edge\">\n",
       "<title>24&#45;&gt;26</title>\n",
       "<path fill=\"none\" stroke=\"black\" d=\"M826.3,-1063.83C833.18,-1051.49 841.6,-1036.37 849.39,-1022.38\"/>\n",
       "<polygon fill=\"black\" stroke=\"black\" points=\"852.58,-1023.84 854.39,-1013.4 846.47,-1020.43 852.58,-1023.84\"/>\n",
       "<text text-anchor=\"middle\" x=\"847.5\" y=\"-1034.8\" font-family=\"Times,serif\" font-size=\"14.00\">2</text>\n",
       "</g>\n",
       "<!-- 31 -->\n",
       "<g id=\"node31\" class=\"node\">\n",
       "<title>31</title>\n",
       "<polygon fill=\"none\" stroke=\"black\" points=\"822,-927 748,-927 748,-874 822,-874 822,-927\"/>\n",
       "<text text-anchor=\"middle\" x=\"785\" y=\"-911.8\" font-family=\"Times,serif\" font-size=\"14.00\">[31]</text>\n",
       "<text text-anchor=\"middle\" x=\"785\" y=\"-896.8\" font-family=\"Times,serif\" font-size=\"14.00\">Identity</text>\n",
       "<text text-anchor=\"middle\" x=\"785\" y=\"-881.8\" font-family=\"Times,serif\" font-size=\"14.00\">Morphism</text>\n",
       "</g>\n",
       "<!-- 24&#45;&gt;31 -->\n",
       "<g id=\"edge49\" class=\"edge\">\n",
       "<title>24&#45;&gt;31</title>\n",
       "<path fill=\"none\" stroke=\"black\" d=\"M808.3,-1063.75C803.61,-1031.08 795.49,-974.53 790.18,-937.57\"/>\n",
       "<polygon fill=\"black\" stroke=\"black\" points=\"793.58,-936.64 788.7,-927.24 786.65,-937.63 793.58,-936.64\"/>\n",
       "</g>\n",
       "<!-- 27 -->\n",
       "<g id=\"node27\" class=\"node\">\n",
       "<title>27</title>\n",
       "<polygon fill=\"none\" stroke=\"black\" points=\"667,-848.5 607,-848.5 607,-810.5 667,-810.5 667,-848.5\"/>\n",
       "<text text-anchor=\"middle\" x=\"637\" y=\"-833.3\" font-family=\"Times,serif\" font-size=\"14.00\">[27]</text>\n",
       "<text text-anchor=\"middle\" x=\"637\" y=\"-818.3\" font-family=\"Times,serif\" font-size=\"14.00\">Pushout</text>\n",
       "</g>\n",
       "<!-- 25&#45;&gt;27 -->\n",
       "<g id=\"edge50\" class=\"edge\">\n",
       "<title>25&#45;&gt;27</title>\n",
       "<path fill=\"none\" stroke=\"black\" d=\"M637,-952.31C637,-926.34 637,-886.28 637,-859.27\"/>\n",
       "<polygon fill=\"black\" stroke=\"black\" points=\"640.5,-858.91 637,-848.91 633.5,-858.91 640.5,-858.91\"/>\n",
       "<text text-anchor=\"middle\" x=\"640.5\" y=\"-896.8\" font-family=\"Times,serif\" font-size=\"14.00\">1</text>\n",
       "</g>\n",
       "<!-- 30 -->\n",
       "<g id=\"node30\" class=\"node\">\n",
       "<title>30</title>\n",
       "<polygon fill=\"none\" stroke=\"black\" points=\"830,-752 646,-752 646,-699 830,-699 830,-752\"/>\n",
       "<text text-anchor=\"middle\" x=\"738\" y=\"-736.8\" font-family=\"Times,serif\" font-size=\"14.00\">[30]</text>\n",
       "<text text-anchor=\"middle\" x=\"738\" y=\"-721.8\" font-family=\"Times,serif\" font-size=\"14.00\">InjectionOfCofactorOfPushout</text>\n",
       "<text text-anchor=\"middle\" x=\"738\" y=\"-706.8\" font-family=\"Times,serif\" font-size=\"14.00\">WithGivenPushout( 2 )</text>\n",
       "</g>\n",
       "<!-- 25&#45;&gt;30 -->\n",
       "<g id=\"edge51\" class=\"edge\">\n",
       "<title>25&#45;&gt;30</title>\n",
       "<path fill=\"none\" stroke=\"black\" d=\"M647.43,-952.03C665.66,-906.64 703.33,-812.83 723.88,-761.66\"/>\n",
       "<polygon fill=\"black\" stroke=\"black\" points=\"727.15,-762.91 727.63,-752.33 720.65,-760.3 727.15,-762.91\"/>\n",
       "<text text-anchor=\"middle\" x=\"710.5\" y=\"-825.8\" font-family=\"Times,serif\" font-size=\"14.00\">1</text>\n",
       "</g>\n",
       "<!-- 32 -->\n",
       "<g id=\"node32\" class=\"node\">\n",
       "<title>32</title>\n",
       "<polygon fill=\"none\" stroke=\"black\" points=\"628,-752 444,-752 444,-699 628,-699 628,-752\"/>\n",
       "<text text-anchor=\"middle\" x=\"536\" y=\"-736.8\" font-family=\"Times,serif\" font-size=\"14.00\">[32]</text>\n",
       "<text text-anchor=\"middle\" x=\"536\" y=\"-721.8\" font-family=\"Times,serif\" font-size=\"14.00\">InjectionOfCofactorOfPushout</text>\n",
       "<text text-anchor=\"middle\" x=\"536\" y=\"-706.8\" font-family=\"Times,serif\" font-size=\"14.00\">WithGivenPushout( 1 )</text>\n",
       "</g>\n",
       "<!-- 25&#45;&gt;32 -->\n",
       "<g id=\"edge52\" class=\"edge\">\n",
       "<title>25&#45;&gt;32</title>\n",
       "<path fill=\"none\" stroke=\"black\" d=\"M626.57,-952.03C608.34,-906.64 570.67,-812.83 550.12,-761.66\"/>\n",
       "<polygon fill=\"black\" stroke=\"black\" points=\"553.35,-760.3 546.37,-752.33 546.85,-762.91 553.35,-760.3\"/>\n",
       "<text text-anchor=\"middle\" x=\"589.5\" y=\"-825.8\" font-family=\"Times,serif\" font-size=\"14.00\">1</text>\n",
       "</g>\n",
       "<!-- 26&#45;&gt;27 -->\n",
       "<g id=\"edge53\" class=\"edge\">\n",
       "<title>26&#45;&gt;27</title>\n",
       "<path fill=\"none\" stroke=\"black\" d=\"M811.91,-960.44C788.16,-952.19 761.35,-941.03 739,-927 708.06,-907.57 678.39,-877.82 659.11,-856.49\"/>\n",
       "<polygon fill=\"black\" stroke=\"black\" points=\"661.5,-853.92 652.25,-848.77 656.27,-858.57 661.5,-853.92\"/>\n",
       "<text text-anchor=\"middle\" x=\"742.5\" y=\"-896.8\" font-family=\"Times,serif\" font-size=\"14.00\">2</text>\n",
       "</g>\n",
       "<!-- 26&#45;&gt;30 -->\n",
       "<g id=\"edge54\" class=\"edge\">\n",
       "<title>26&#45;&gt;30</title>\n",
       "<path fill=\"none\" stroke=\"black\" d=\"M882.48,-944.72C892.99,-900.23 903.9,-821.07 866,-770 858.9,-760.43 849.58,-752.94 839.2,-747.09\"/>\n",
       "<polygon fill=\"black\" stroke=\"black\" points=\"840.75,-743.96 830.25,-742.55 837.58,-750.2 840.75,-743.96\"/>\n",
       "<text text-anchor=\"middle\" x=\"895.5\" y=\"-825.8\" font-family=\"Times,serif\" font-size=\"14.00\">2</text>\n",
       "</g>\n",
       "<!-- 26&#45;&gt;32 -->\n",
       "<g id=\"edge55\" class=\"edge\">\n",
       "<title>26&#45;&gt;32</title>\n",
       "<path fill=\"none\" stroke=\"black\" d=\"M861.52,-944.92C853.02,-923.34 839.96,-895.32 823,-874 776.93,-816.1 758.88,-803.68 693,-770 687.08,-766.98 664.36,-760.31 637.96,-753.09\"/>\n",
       "<polygon fill=\"black\" stroke=\"black\" points=\"638.67,-749.65 628.1,-750.41 636.83,-756.41 638.67,-749.65\"/>\n",
       "<text text-anchor=\"middle\" x=\"810.5\" y=\"-825.8\" font-family=\"Times,serif\" font-size=\"14.00\">2</text>\n",
       "</g>\n",
       "<!-- 27&#45;&gt;30 -->\n",
       "<g id=\"edge56\" class=\"edge\">\n",
       "<title>27&#45;&gt;30</title>\n",
       "<path fill=\"none\" stroke=\"black\" d=\"M649.1,-810.4C657.6,-798.32 669.62,-782.44 682,-770 685.85,-766.13 690.05,-762.29 694.37,-758.59\"/>\n",
       "<polygon fill=\"black\" stroke=\"black\" points=\"696.72,-761.19 702.19,-752.11 692.26,-755.79 696.72,-761.19\"/>\n",
       "<text text-anchor=\"middle\" x=\"685.5\" y=\"-773.8\" font-family=\"Times,serif\" font-size=\"14.00\">3</text>\n",
       "</g>\n",
       "<!-- 27&#45;&gt;32 -->\n",
       "<g id=\"edge57\" class=\"edge\">\n",
       "<title>27&#45;&gt;32</title>\n",
       "<path fill=\"none\" stroke=\"black\" d=\"M618.94,-810.26C605.07,-796.25 585.52,-776.52 568.89,-759.72\"/>\n",
       "<polygon fill=\"black\" stroke=\"black\" points=\"571.01,-756.88 561.49,-752.24 566.04,-761.81 571.01,-756.88\"/>\n",
       "<text text-anchor=\"middle\" x=\"595.5\" y=\"-773.8\" font-family=\"Times,serif\" font-size=\"14.00\">3</text>\n",
       "</g>\n",
       "<!-- 33 -->\n",
       "<g id=\"node33\" class=\"node\">\n",
       "<title>33</title>\n",
       "<polygon fill=\"none\" stroke=\"black\" points=\"453,-856 385,-856 385,-803 453,-803 453,-856\"/>\n",
       "<text text-anchor=\"middle\" x=\"419\" y=\"-840.8\" font-family=\"Times,serif\" font-size=\"14.00\">[33]</text>\n",
       "<text text-anchor=\"middle\" x=\"419\" y=\"-825.8\" font-family=\"Times,serif\" font-size=\"14.00\">Pre</text>\n",
       "<text text-anchor=\"middle\" x=\"419\" y=\"-810.8\" font-family=\"Times,serif\" font-size=\"14.00\">Compose</text>\n",
       "</g>\n",
       "<!-- 28&#45;&gt;33 -->\n",
       "<g id=\"edge58\" class=\"edge\">\n",
       "<title>28&#45;&gt;33</title>\n",
       "<path fill=\"none\" stroke=\"black\" d=\"M423.5,-1063.72C422.61,-1017.27 420.72,-919.46 419.69,-866.46\"/>\n",
       "<polygon fill=\"black\" stroke=\"black\" points=\"423.19,-866.11 419.5,-856.18 416.19,-866.24 423.19,-866.11\"/>\n",
       "<text text-anchor=\"middle\" x=\"425.5\" y=\"-975.3\" font-family=\"Times,serif\" font-size=\"14.00\">2</text>\n",
       "</g>\n",
       "<!-- 29&#45;&gt;33 -->\n",
       "<g id=\"edge59\" class=\"edge\">\n",
       "<title>29&#45;&gt;33</title>\n",
       "<path fill=\"none\" stroke=\"black\" d=\"M170.14,-960.21C221.66,-933.35 319.26,-882.48 375.71,-853.06\"/>\n",
       "<polygon fill=\"black\" stroke=\"black\" points=\"377.49,-856.08 384.74,-848.36 374.26,-849.87 377.49,-856.08\"/>\n",
       "<text text-anchor=\"middle\" x=\"338.5\" y=\"-896.8\" font-family=\"Times,serif\" font-size=\"14.00\">1</text>\n",
       "</g>\n",
       "<!-- 35 -->\n",
       "<g id=\"node35\" class=\"node\">\n",
       "<title>35</title>\n",
       "<polygon fill=\"none\" stroke=\"black\" points=\"772,-648 704,-648 704,-595 772,-595 772,-648\"/>\n",
       "<text text-anchor=\"middle\" x=\"738\" y=\"-632.8\" font-family=\"Times,serif\" font-size=\"14.00\">[35]</text>\n",
       "<text text-anchor=\"middle\" x=\"738\" y=\"-617.8\" font-family=\"Times,serif\" font-size=\"14.00\">Pre</text>\n",
       "<text text-anchor=\"middle\" x=\"738\" y=\"-602.8\" font-family=\"Times,serif\" font-size=\"14.00\">Compose</text>\n",
       "</g>\n",
       "<!-- 30&#45;&gt;35 -->\n",
       "<g id=\"edge60\" class=\"edge\">\n",
       "<title>30&#45;&gt;35</title>\n",
       "<path fill=\"none\" stroke=\"black\" d=\"M738,-698.76C738,-686.56 738,-671.78 738,-658.49\"/>\n",
       "<polygon fill=\"black\" stroke=\"black\" points=\"741.5,-658.23 738,-648.23 734.5,-658.23 741.5,-658.23\"/>\n",
       "<text text-anchor=\"middle\" x=\"741.5\" y=\"-669.8\" font-family=\"Times,serif\" font-size=\"14.00\">2</text>\n",
       "</g>\n",
       "<!-- 31&#45;&gt;35 -->\n",
       "<g id=\"edge61\" class=\"edge\">\n",
       "<title>31&#45;&gt;35</title>\n",
       "<path fill=\"none\" stroke=\"black\" d=\"M787.62,-873.71C790.28,-853.81 795.43,-825.89 805,-803 815.51,-777.87 831.11,-778.07 839,-752 845.83,-729.46 849.48,-720.09 839,-699 826.87,-674.59 802.81,-655.89 781.22,-643.08\"/>\n",
       "<polygon fill=\"black\" stroke=\"black\" points=\"782.9,-640.01 772.48,-638.13 779.45,-646.1 782.9,-640.01\"/>\n",
       "<text text-anchor=\"middle\" x=\"832.5\" y=\"-773.8\" font-family=\"Times,serif\" font-size=\"14.00\">1</text>\n",
       "</g>\n",
       "<!-- 34 -->\n",
       "<g id=\"node34\" class=\"node\">\n",
       "<title>34</title>\n",
       "<polygon fill=\"none\" stroke=\"black\" points=\"570,-648 502,-648 502,-595 570,-595 570,-648\"/>\n",
       "<text text-anchor=\"middle\" x=\"536\" y=\"-632.8\" font-family=\"Times,serif\" font-size=\"14.00\">[34]</text>\n",
       "<text text-anchor=\"middle\" x=\"536\" y=\"-617.8\" font-family=\"Times,serif\" font-size=\"14.00\">Pre</text>\n",
       "<text text-anchor=\"middle\" x=\"536\" y=\"-602.8\" font-family=\"Times,serif\" font-size=\"14.00\">Compose</text>\n",
       "</g>\n",
       "<!-- 32&#45;&gt;34 -->\n",
       "<g id=\"edge62\" class=\"edge\">\n",
       "<title>32&#45;&gt;34</title>\n",
       "<path fill=\"none\" stroke=\"black\" d=\"M536,-698.76C536,-686.56 536,-671.78 536,-658.49\"/>\n",
       "<polygon fill=\"black\" stroke=\"black\" points=\"539.5,-658.23 536,-648.23 532.5,-658.23 539.5,-658.23\"/>\n",
       "<text text-anchor=\"middle\" x=\"539.5\" y=\"-669.8\" font-family=\"Times,serif\" font-size=\"14.00\">2</text>\n",
       "</g>\n",
       "<!-- 33&#45;&gt;34 -->\n",
       "<g id=\"edge63\" class=\"edge\">\n",
       "<title>33&#45;&gt;34</title>\n",
       "<path fill=\"none\" stroke=\"black\" d=\"M414.64,-802.83C411.29,-775.31 409.89,-731.22 428,-699 442.41,-673.36 469.41,-654.23 492.81,-641.52\"/>\n",
       "<polygon fill=\"black\" stroke=\"black\" points=\"494.64,-644.51 501.9,-636.79 491.41,-638.3 494.64,-644.51\"/>\n",
       "<text text-anchor=\"middle\" x=\"431.5\" y=\"-721.8\" font-family=\"Times,serif\" font-size=\"14.00\">1</text>\n",
       "</g>\n",
       "<!-- 36 -->\n",
       "<g id=\"node36\" class=\"node\">\n",
       "<title>36</title>\n",
       "<polygon fill=\"none\" stroke=\"black\" points=\"614.5,-544 555.5,-544 555.5,-491 614.5,-491 614.5,-544\"/>\n",
       "<text text-anchor=\"middle\" x=\"585\" y=\"-528.8\" font-family=\"Times,serif\" font-size=\"14.00\">[36]</text>\n",
       "<text text-anchor=\"middle\" x=\"585\" y=\"-513.8\" font-family=\"Times,serif\" font-size=\"14.00\">Fiber</text>\n",
       "<text text-anchor=\"middle\" x=\"585\" y=\"-498.8\" font-family=\"Times,serif\" font-size=\"14.00\">Product</text>\n",
       "</g>\n",
       "<!-- 34&#45;&gt;36 -->\n",
       "<g id=\"edge64\" class=\"edge\">\n",
       "<title>34&#45;&gt;36</title>\n",
       "<path fill=\"none\" stroke=\"black\" d=\"M548.36,-594.76C554.4,-582.2 561.75,-566.9 568.28,-553.31\"/>\n",
       "<polygon fill=\"black\" stroke=\"black\" points=\"571.46,-554.76 572.64,-544.23 565.15,-551.73 571.46,-554.76\"/>\n",
       "<text text-anchor=\"middle\" x=\"566.5\" y=\"-565.8\" font-family=\"Times,serif\" font-size=\"14.00\">1</text>\n",
       "</g>\n",
       "<!-- 37 -->\n",
       "<g id=\"node37\" class=\"node\">\n",
       "<title>37</title>\n",
       "<polygon fill=\"none\" stroke=\"black\" points=\"621.5,-440 418.5,-440 418.5,-387 621.5,-387 621.5,-440\"/>\n",
       "<text text-anchor=\"middle\" x=\"520\" y=\"-424.8\" font-family=\"Times,serif\" font-size=\"14.00\">[37]</text>\n",
       "<text text-anchor=\"middle\" x=\"520\" y=\"-409.8\" font-family=\"Times,serif\" font-size=\"14.00\">ProjectionInFactorOfFiberProduct</text>\n",
       "<text text-anchor=\"middle\" x=\"520\" y=\"-394.8\" font-family=\"Times,serif\" font-size=\"14.00\">WithGivenFiberProduct( 1 )</text>\n",
       "</g>\n",
       "<!-- 34&#45;&gt;37 -->\n",
       "<g id=\"edge65\" class=\"edge\">\n",
       "<title>34&#45;&gt;37</title>\n",
       "<path fill=\"none\" stroke=\"black\" d=\"M534.01,-594.83C531.18,-558.41 525.99,-491.61 522.78,-450.34\"/>\n",
       "<polygon fill=\"black\" stroke=\"black\" points=\"526.26,-449.87 521.99,-440.17 519.28,-450.41 526.26,-449.87\"/>\n",
       "<text text-anchor=\"middle\" x=\"532.5\" y=\"-513.8\" font-family=\"Times,serif\" font-size=\"14.00\">1</text>\n",
       "</g>\n",
       "<!-- 38 -->\n",
       "<g id=\"node38\" class=\"node\">\n",
       "<title>38</title>\n",
       "<polygon fill=\"none\" stroke=\"black\" points=\"842.5,-440 639.5,-440 639.5,-387 842.5,-387 842.5,-440\"/>\n",
       "<text text-anchor=\"middle\" x=\"741\" y=\"-424.8\" font-family=\"Times,serif\" font-size=\"14.00\">[38]</text>\n",
       "<text text-anchor=\"middle\" x=\"741\" y=\"-409.8\" font-family=\"Times,serif\" font-size=\"14.00\">ProjectionInFactorOfFiberProduct</text>\n",
       "<text text-anchor=\"middle\" x=\"741\" y=\"-394.8\" font-family=\"Times,serif\" font-size=\"14.00\">WithGivenFiberProduct( 2 )</text>\n",
       "</g>\n",
       "<!-- 34&#45;&gt;38 -->\n",
       "<g id=\"edge66\" class=\"edge\">\n",
       "<title>34&#45;&gt;38</title>\n",
       "<path fill=\"none\" stroke=\"black\" d=\"M570.19,-612.45C592.74,-605.82 621.9,-594.6 643,-577 684.17,-542.67 712.59,-486.34 727.84,-449.84\"/>\n",
       "<polygon fill=\"black\" stroke=\"black\" points=\"731.27,-450.69 731.79,-440.1 724.79,-448.05 731.27,-450.69\"/>\n",
       "<text text-anchor=\"middle\" x=\"711.5\" y=\"-513.8\" font-family=\"Times,serif\" font-size=\"14.00\">1</text>\n",
       "</g>\n",
       "<!-- 35&#45;&gt;36 -->\n",
       "<g id=\"edge67\" class=\"edge\">\n",
       "<title>35&#45;&gt;36</title>\n",
       "<path fill=\"none\" stroke=\"black\" d=\"M703.76,-611.31C681.81,-604.29 653.51,-593.07 632,-577 622.81,-570.13 614.38,-561.07 607.28,-552.13\"/>\n",
       "<polygon fill=\"black\" stroke=\"black\" points=\"609.97,-549.89 601.14,-544.03 604.39,-554.12 609.97,-549.89\"/>\n",
       "<text text-anchor=\"middle\" x=\"635.5\" y=\"-565.8\" font-family=\"Times,serif\" font-size=\"14.00\">2</text>\n",
       "</g>\n",
       "<!-- 35&#45;&gt;37 -->\n",
       "<g id=\"edge68\" class=\"edge\">\n",
       "<title>35&#45;&gt;37</title>\n",
       "<path fill=\"none\" stroke=\"black\" d=\"M706.06,-594.69C691.06,-581.04 674.07,-563.17 663,-544 643.15,-509.64 665.94,-487.14 639,-458 634.84,-453.5 630.17,-449.46 625.16,-445.84\"/>\n",
       "<polygon fill=\"black\" stroke=\"black\" points=\"626.72,-442.68 616.43,-440.14 622.89,-448.54 626.72,-442.68\"/>\n",
       "<text text-anchor=\"middle\" x=\"666.5\" y=\"-513.8\" font-family=\"Times,serif\" font-size=\"14.00\">2</text>\n",
       "</g>\n",
       "<!-- 35&#45;&gt;38 -->\n",
       "<g id=\"edge69\" class=\"edge\">\n",
       "<title>35&#45;&gt;38</title>\n",
       "<path fill=\"none\" stroke=\"black\" d=\"M738.37,-594.83C738.9,-558.41 739.88,-491.61 740.48,-450.34\"/>\n",
       "<polygon fill=\"black\" stroke=\"black\" points=\"743.98,-450.22 740.63,-440.17 736.98,-450.12 743.98,-450.22\"/>\n",
       "<text text-anchor=\"middle\" x=\"742.5\" y=\"-513.8\" font-family=\"Times,serif\" font-size=\"14.00\">2</text>\n",
       "</g>\n",
       "<!-- 36&#45;&gt;37 -->\n",
       "<g id=\"edge70\" class=\"edge\">\n",
       "<title>36&#45;&gt;37</title>\n",
       "<path fill=\"none\" stroke=\"black\" d=\"M568.6,-490.76C560.51,-478.08 550.65,-462.6 541.93,-448.92\"/>\n",
       "<polygon fill=\"black\" stroke=\"black\" points=\"544.72,-446.78 536.4,-440.23 538.82,-450.54 544.72,-446.78\"/>\n",
       "<text text-anchor=\"middle\" x=\"559.5\" y=\"-461.8\" font-family=\"Times,serif\" font-size=\"14.00\">3</text>\n",
       "</g>\n",
       "<!-- 36&#45;&gt;38 -->\n",
       "<g id=\"edge71\" class=\"edge\">\n",
       "<title>36&#45;&gt;38</title>\n",
       "<path fill=\"none\" stroke=\"black\" d=\"M614.71,-497.07C636.95,-482.53 667.82,-462.35 693.48,-445.57\"/>\n",
       "<polygon fill=\"black\" stroke=\"black\" points=\"695.5,-448.43 701.96,-440.03 691.67,-442.57 695.5,-448.43\"/>\n",
       "<text text-anchor=\"middle\" x=\"675.5\" y=\"-461.8\" font-family=\"Times,serif\" font-size=\"14.00\">3</text>\n",
       "</g>\n",
       "<!-- 39 -->\n",
       "<g id=\"node39\" class=\"node\">\n",
       "<title>39</title>\n",
       "<polygon fill=\"none\" stroke=\"black\" points=\"615,-336 555,-336 555,-298 615,-298 615,-336\"/>\n",
       "<text text-anchor=\"middle\" x=\"585\" y=\"-320.8\" font-family=\"Times,serif\" font-size=\"14.00\">[39]</text>\n",
       "<text text-anchor=\"middle\" x=\"585\" y=\"-305.8\" font-family=\"Times,serif\" font-size=\"14.00\">Pushout</text>\n",
       "</g>\n",
       "<!-- 37&#45;&gt;39 -->\n",
       "<g id=\"edge72\" class=\"edge\">\n",
       "<title>37&#45;&gt;39</title>\n",
       "<path fill=\"none\" stroke=\"black\" d=\"M537.76,-386.68C546.83,-373.5 557.83,-357.5 566.94,-344.26\"/>\n",
       "<polygon fill=\"black\" stroke=\"black\" points=\"569.83,-346.23 572.61,-336.01 564.06,-342.27 569.83,-346.23\"/>\n",
       "<text text-anchor=\"middle\" x=\"563.5\" y=\"-357.8\" font-family=\"Times,serif\" font-size=\"14.00\">1</text>\n",
       "</g>\n",
       "<!-- 40 -->\n",
       "<g id=\"node40\" class=\"node\">\n",
       "<title>40</title>\n",
       "<polygon fill=\"none\" stroke=\"black\" points=\"827,-247 643,-247 643,-194 827,-194 827,-247\"/>\n",
       "<text text-anchor=\"middle\" x=\"735\" y=\"-231.8\" font-family=\"Times,serif\" font-size=\"14.00\">[40]</text>\n",
       "<text text-anchor=\"middle\" x=\"735\" y=\"-216.8\" font-family=\"Times,serif\" font-size=\"14.00\">InjectionOfCofactorOfPushout</text>\n",
       "<text text-anchor=\"middle\" x=\"735\" y=\"-201.8\" font-family=\"Times,serif\" font-size=\"14.00\">WithGivenPushout( 2 )</text>\n",
       "</g>\n",
       "<!-- 37&#45;&gt;40 -->\n",
       "<g id=\"edge73\" class=\"edge\">\n",
       "<title>37&#45;&gt;40</title>\n",
       "<path fill=\"none\" stroke=\"black\" d=\"M608.37,-386.87C620.43,-381.78 632.32,-375.85 643,-369 683.81,-342.82 709.63,-291.42 723.2,-256.75\"/>\n",
       "<polygon fill=\"black\" stroke=\"black\" points=\"726.62,-257.61 726.87,-247.02 720.07,-255.14 726.62,-257.61\"/>\n",
       "<text text-anchor=\"middle\" x=\"706.5\" y=\"-313.3\" font-family=\"Times,serif\" font-size=\"14.00\">1</text>\n",
       "</g>\n",
       "<!-- 42 -->\n",
       "<g id=\"node42\" class=\"node\">\n",
       "<title>42</title>\n",
       "<polygon fill=\"none\" stroke=\"black\" points=\"625,-247 441,-247 441,-194 625,-194 625,-247\"/>\n",
       "<text text-anchor=\"middle\" x=\"533\" y=\"-231.8\" font-family=\"Times,serif\" font-size=\"14.00\">[42]</text>\n",
       "<text text-anchor=\"middle\" x=\"533\" y=\"-216.8\" font-family=\"Times,serif\" font-size=\"14.00\">InjectionOfCofactorOfPushout</text>\n",
       "<text text-anchor=\"middle\" x=\"533\" y=\"-201.8\" font-family=\"Times,serif\" font-size=\"14.00\">WithGivenPushout( 1 )</text>\n",
       "</g>\n",
       "<!-- 37&#45;&gt;42 -->\n",
       "<g id=\"edge74\" class=\"edge\">\n",
       "<title>37&#45;&gt;42</title>\n",
       "<path fill=\"none\" stroke=\"black\" d=\"M521.75,-386.74C524.03,-353.33 528.01,-294.87 530.57,-257.19\"/>\n",
       "<polygon fill=\"black\" stroke=\"black\" points=\"534.07,-257.37 531.25,-247.16 527.08,-256.89 534.07,-257.37\"/>\n",
       "<text text-anchor=\"middle\" x=\"530.5\" y=\"-313.3\" font-family=\"Times,serif\" font-size=\"14.00\">1</text>\n",
       "</g>\n",
       "<!-- 38&#45;&gt;39 -->\n",
       "<g id=\"edge75\" class=\"edge\">\n",
       "<title>38&#45;&gt;39</title>\n",
       "<path fill=\"none\" stroke=\"black\" d=\"M664.29,-386.98C653.03,-381.8 641.9,-375.82 632,-369 622.13,-362.2 612.83,-352.98 605.15,-344.25\"/>\n",
       "<polygon fill=\"black\" stroke=\"black\" points=\"607.7,-341.85 598.58,-336.45 602.34,-346.35 607.7,-341.85\"/>\n",
       "<text text-anchor=\"middle\" x=\"635.5\" y=\"-357.8\" font-family=\"Times,serif\" font-size=\"14.00\">2</text>\n",
       "</g>\n",
       "<!-- 38&#45;&gt;40 -->\n",
       "<g id=\"edge76\" class=\"edge\">\n",
       "<title>38&#45;&gt;40</title>\n",
       "<path fill=\"none\" stroke=\"black\" d=\"M740.19,-386.74C739.14,-353.33 737.3,-294.87 736.12,-257.19\"/>\n",
       "<polygon fill=\"black\" stroke=\"black\" points=\"739.62,-257.04 735.81,-247.16 732.62,-257.26 739.62,-257.04\"/>\n",
       "<text text-anchor=\"middle\" x=\"741.5\" y=\"-313.3\" font-family=\"Times,serif\" font-size=\"14.00\">2</text>\n",
       "</g>\n",
       "<!-- 38&#45;&gt;42 -->\n",
       "<g id=\"edge77\" class=\"edge\">\n",
       "<title>38&#45;&gt;42</title>\n",
       "<path fill=\"none\" stroke=\"black\" d=\"M711.59,-386.67C697.05,-372.75 680.08,-354.64 668,-336 649.47,-307.39 663.08,-289.12 639,-265 634.43,-260.43 629.32,-256.31 623.87,-252.62\"/>\n",
       "<polygon fill=\"black\" stroke=\"black\" points=\"625.41,-249.45 615.06,-247.15 621.71,-255.4 625.41,-249.45\"/>\n",
       "<text text-anchor=\"middle\" x=\"671.5\" y=\"-313.3\" font-family=\"Times,serif\" font-size=\"14.00\">2</text>\n",
       "</g>\n",
       "<!-- 39&#45;&gt;40 -->\n",
       "<g id=\"edge78\" class=\"edge\">\n",
       "<title>39&#45;&gt;40</title>\n",
       "<path fill=\"none\" stroke=\"black\" d=\"M613.92,-297.78C634.24,-284.98 661.93,-267.53 685.7,-252.56\"/>\n",
       "<polygon fill=\"black\" stroke=\"black\" points=\"687.66,-255.46 694.26,-247.17 683.93,-249.54 687.66,-255.46\"/>\n",
       "<text text-anchor=\"middle\" x=\"667.5\" y=\"-268.8\" font-family=\"Times,serif\" font-size=\"14.00\">3</text>\n",
       "</g>\n",
       "<!-- 39&#45;&gt;42 -->\n",
       "<g id=\"edge79\" class=\"edge\">\n",
       "<title>39&#45;&gt;42</title>\n",
       "<path fill=\"none\" stroke=\"black\" d=\"M574.97,-297.78C568.49,-285.99 559.83,-270.26 552.07,-256.15\"/>\n",
       "<polygon fill=\"black\" stroke=\"black\" points=\"555.01,-254.24 547.12,-247.17 548.88,-257.62 555.01,-254.24\"/>\n",
       "<text text-anchor=\"middle\" x=\"568.5\" y=\"-268.8\" font-family=\"Times,serif\" font-size=\"14.00\">3</text>\n",
       "</g>\n",
       "<!-- 41 -->\n",
       "<g id=\"node41\" class=\"node\">\n",
       "<title>41</title>\n",
       "<polygon fill=\"none\" stroke=\"black\" points=\"738.5,-157 661.5,-157 661.5,-104 738.5,-104 738.5,-157\"/>\n",
       "<text text-anchor=\"middle\" x=\"700\" y=\"-141.8\" font-family=\"Times,serif\" font-size=\"14.00\">[41]</text>\n",
       "<text text-anchor=\"middle\" x=\"700\" y=\"-126.8\" font-family=\"Times,serif\" font-size=\"14.00\">Inverse</text>\n",
       "<text text-anchor=\"middle\" x=\"700\" y=\"-111.8\" font-family=\"Times,serif\" font-size=\"14.00\">Immutable</text>\n",
       "</g>\n",
       "<!-- 40&#45;&gt;41 -->\n",
       "<g id=\"edge80\" class=\"edge\">\n",
       "<title>40&#45;&gt;41</title>\n",
       "<path fill=\"none\" stroke=\"black\" d=\"M724.69,-193.57C721.34,-185.16 717.57,-175.68 714,-166.7\"/>\n",
       "<polygon fill=\"black\" stroke=\"black\" points=\"717.19,-165.24 710.24,-157.24 710.68,-167.83 717.19,-165.24\"/>\n",
       "</g>\n",
       "<!-- 43 -->\n",
       "<g id=\"node43\" class=\"node\">\n",
       "<title>43</title>\n",
       "<polygon fill=\"none\" stroke=\"black\" points=\"652,-53 584,-53 584,0 652,0 652,-53\"/>\n",
       "<text text-anchor=\"middle\" x=\"618\" y=\"-37.8\" font-family=\"Times,serif\" font-size=\"14.00\">[43]</text>\n",
       "<text text-anchor=\"middle\" x=\"618\" y=\"-22.8\" font-family=\"Times,serif\" font-size=\"14.00\">Pre</text>\n",
       "<text text-anchor=\"middle\" x=\"618\" y=\"-7.8\" font-family=\"Times,serif\" font-size=\"14.00\">Compose</text>\n",
       "</g>\n",
       "<!-- 41&#45;&gt;43 -->\n",
       "<g id=\"edge81\" class=\"edge\">\n",
       "<title>41&#45;&gt;43</title>\n",
       "<path fill=\"none\" stroke=\"black\" d=\"M679.31,-103.76C668.92,-90.84 656.2,-75.01 645.04,-61.14\"/>\n",
       "<polygon fill=\"black\" stroke=\"black\" points=\"647.68,-58.83 638.69,-53.23 642.22,-63.22 647.68,-58.83\"/>\n",
       "<text text-anchor=\"middle\" x=\"666.5\" y=\"-74.8\" font-family=\"Times,serif\" font-size=\"14.00\">2</text>\n",
       "</g>\n",
       "<!-- 42&#45;&gt;43 -->\n",
       "<g id=\"edge82\" class=\"edge\">\n",
       "<title>42&#45;&gt;43</title>\n",
       "<path fill=\"none\" stroke=\"black\" d=\"M544.46,-193.61C559.4,-159.87 585.57,-100.75 602.33,-62.89\"/>\n",
       "<polygon fill=\"black\" stroke=\"black\" points=\"605.73,-63.85 606.58,-53.29 599.33,-61.02 605.73,-63.85\"/>\n",
       "<text text-anchor=\"middle\" x=\"586.5\" y=\"-126.8\" font-family=\"Times,serif\" font-size=\"14.00\">1</text>\n",
       "</g>\n",
       "</g>\n",
       "</svg>\n"
      ]
     },
     "metadata": {},
     "output_type": "display_data"
    }
   ],
   "source": [
    "VisualizeInJulia( s )"
   ]
  },
  {
   "cell_type": "code",
   "execution_count": 32,
   "metadata": {},
   "outputs": [
    {
     "data": {
      "text/plain": [
       "GAP: <A morphism in LazyCategory( Adelman category( QuiverRows( (Q * q) / [ 1*(a*b*c) ] ) ) )>"
      ]
     },
     "execution_count": 32,
     "metadata": {},
     "output_type": "execute_result"
    }
   ],
   "source": [
    "j = KernelObjectFunctorial( b, d, e )"
   ]
  },
  {
   "cell_type": "code",
   "execution_count": 33,
   "metadata": {},
   "outputs": [
    {
     "data": {
      "text/plain": [
       "GAP: <A morphism in LazyCategory( Adelman category( QuiverRows( (Q * q) / [ 1*(a*b*c) ] ) ) )>"
      ]
     },
     "execution_count": 33,
     "metadata": {},
     "output_type": "execute_result"
    }
   ],
   "source": [
    "k = CokernelObjectFunctorial( h, g, b )"
   ]
  },
  {
   "cell_type": "code",
   "execution_count": 34,
   "metadata": {},
   "outputs": [
    {
     "data": {
      "text/plain": [
       "GAP: <An object in LazyCategory( Adelman category( QuiverRows( (Q * q) / [ 1*(a*b*c) ] ) ) )>"
      ]
     },
     "execution_count": 34,
     "metadata": {},
     "output_type": "execute_result"
    }
   ],
   "source": [
    "HK = HomologyObject( j, s )"
   ]
  },
  {
   "cell_type": "code",
   "execution_count": 35,
   "metadata": {},
   "outputs": [
    {
     "data": {
      "text/plain": [
       "GAP: <An object in LazyCategory( Adelman category( QuiverRows( (Q * q) / [ 1*(a*b*c) ] ) ) )>"
      ]
     },
     "execution_count": 35,
     "metadata": {},
     "output_type": "execute_result"
    }
   ],
   "source": [
    "HC = HomologyObject( s, k )"
   ]
  },
  {
   "cell_type": "code",
   "execution_count": null,
   "metadata": {},
   "outputs": [],
   "source": []
  }
 ],
 "metadata": {
  "@webio": {
   "lastCommId": null,
   "lastKernelId": null
  },
  "kernelspec": {
   "display_name": "Julia 1.4.1",
   "language": "julia",
   "name": "julia-1.4"
  },
  "language_info": {
   "file_extension": ".jl",
   "mimetype": "application/julia",
   "name": "julia",
   "version": "1.4.1"
  }
 },
 "nbformat": 4,
 "nbformat_minor": 2
}
