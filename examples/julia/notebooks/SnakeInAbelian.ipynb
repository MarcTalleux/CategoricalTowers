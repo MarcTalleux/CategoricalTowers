{
 "cells": [
  {
   "cell_type": "code",
   "execution_count": 1,
   "metadata": {},
   "outputs": [
    {
     "name": "stdout",
     "output_type": "stream",
     "text": [
      "HomalgProject v\u001b[32m0.4.11\u001b[39m\n",
      "Imported OSCAR's component GAP\n",
      "Type: ?HomalgProject for more information\n"
     ]
    }
   ],
   "source": [
    "using HomalgProject"
   ]
  },
  {
   "cell_type": "code",
   "execution_count": 2,
   "metadata": {},
   "outputs": [],
   "source": [
    "LoadPackage( \"RingsForHomalg\" )"
   ]
  },
  {
   "cell_type": "code",
   "execution_count": 3,
   "metadata": {},
   "outputs": [],
   "source": [
    "LoadPackage( \"LinearAlgebraForCAP\" )"
   ]
  },
  {
   "cell_type": "code",
   "execution_count": 4,
   "metadata": {},
   "outputs": [],
   "source": [
    "LoadPackage( \"GeneralizedMorphismsForCAP\" )"
   ]
  },
  {
   "cell_type": "code",
   "execution_count": 5,
   "metadata": {},
   "outputs": [],
   "source": [
    "LoadPackage( \"LazyCategories\" )"
   ]
  },
  {
   "cell_type": "code",
   "execution_count": 6,
   "metadata": {},
   "outputs": [
    {
     "data": {
      "text/plain": [
       "GAP: Q"
      ]
     },
     "execution_count": 6,
     "metadata": {},
     "output_type": "execute_result"
    }
   ],
   "source": [
    "ℚ = HomalgFieldOfRationals( )"
   ]
  },
  {
   "cell_type": "code",
   "execution_count": 7,
   "metadata": {},
   "outputs": [
    {
     "data": {
      "text/plain": [
       "GAP: <An unevaluated 8 x 8 identity matrix over an internal ring>"
      ]
     },
     "execution_count": 7,
     "metadata": {},
     "output_type": "execute_result"
    }
   ],
   "source": [
    "id = HomalgIdentityMatrix( 8, ℚ )"
   ]
  },
  {
   "cell_type": "code",
   "execution_count": 8,
   "metadata": {},
   "outputs": [
    {
     "data": {
      "text/plain": [
       "GAP: <An unevaluated non-zero 3 x 4 matrix over an internal ring>"
      ]
     },
     "execution_count": 8,
     "metadata": {},
     "output_type": "execute_result"
    }
   ],
   "source": [
    "a = CertainColumns( CertainRows( id, [ 1, 2, 3 ] ), [ 2, 3, 4, 5 ] )"
   ]
  },
  {
   "cell_type": "code",
   "execution_count": 9,
   "metadata": {},
   "outputs": [
    {
     "data": {
      "text/plain": [
       "GAP: <An unevaluated non-zero 4 x 5 matrix over an internal ring>"
      ]
     },
     "execution_count": 9,
     "metadata": {},
     "output_type": "execute_result"
    }
   ],
   "source": [
    "b = CertainColumns( CertainRows( id, [ 1, 2, 3, 4 ] ), [ 2, 3, 4, 5, 6 ] )"
   ]
  },
  {
   "cell_type": "code",
   "execution_count": 10,
   "metadata": {},
   "outputs": [
    {
     "data": {
      "text/plain": [
       "GAP: <An unevaluated non-zero 5 x 6 matrix over an internal ring>"
      ]
     },
     "execution_count": 10,
     "metadata": {},
     "output_type": "execute_result"
    }
   ],
   "source": [
    "c = CertainColumns( CertainRows( id, [ 1, 2, 3, 4, 5 ] ), [ 3, 4, 5, 6, 7, 8 ] )"
   ]
  },
  {
   "cell_type": "code",
   "execution_count": 11,
   "metadata": {},
   "outputs": [
    {
     "data": {
      "text/plain": [
       "false"
      ]
     },
     "execution_count": 11,
     "metadata": {},
     "output_type": "execute_result"
    }
   ],
   "source": [
    "IsZero( a * b )"
   ]
  },
  {
   "cell_type": "code",
   "execution_count": 12,
   "metadata": {},
   "outputs": [
    {
     "data": {
      "text/plain": [
       "false"
      ]
     },
     "execution_count": 12,
     "metadata": {},
     "output_type": "execute_result"
    }
   ],
   "source": [
    "IsZero( b * c )"
   ]
  },
  {
   "cell_type": "code",
   "execution_count": 13,
   "metadata": {
    "slideshow": {
     "slide_type": "slide"
    }
   },
   "outputs": [
    {
     "data": {
      "text/plain": [
       "true"
      ]
     },
     "execution_count": 13,
     "metadata": {},
     "output_type": "execute_result"
    }
   ],
   "source": [
    "IsZero( a * b * c )"
   ]
  },
  {
   "cell_type": "code",
   "execution_count": 14,
   "metadata": {},
   "outputs": [
    {
     "data": {
      "text/plain": [
       "GAP: Category of matrices over Q"
      ]
     },
     "execution_count": 14,
     "metadata": {},
     "output_type": "execute_result"
    }
   ],
   "source": [
    "ℚmat = MatrixCategory( ℚ )"
   ]
  },
  {
   "cell_type": "code",
   "execution_count": 15,
   "metadata": {},
   "outputs": [
    {
     "data": {
      "text/plain": [
       "GAP: LazyCategory( Category of matrices over Q )"
      ]
     },
     "execution_count": 15,
     "metadata": {},
     "output_type": "execute_result"
    }
   ],
   "source": [
    "Lazy = LazyCategory( ℚmat, show_evaluation = true )"
   ]
  },
  {
   "cell_type": "code",
   "execution_count": 16,
   "metadata": {},
   "outputs": [
    {
     "data": {
      "text/plain": [
       "GAP: <An evaluated morphism in LazyCategory( Category of matrices over Q )>"
      ]
     },
     "execution_count": 16,
     "metadata": {},
     "output_type": "execute_result"
    }
   ],
   "source": [
    "a = a / Lazy"
   ]
  },
  {
   "cell_type": "code",
   "execution_count": 17,
   "metadata": {},
   "outputs": [],
   "source": [
    "SetLabel( a, \"a\" )"
   ]
  },
  {
   "cell_type": "code",
   "execution_count": 18,
   "metadata": {},
   "outputs": [
    {
     "data": {
      "text/plain": [
       "GAP: <An evaluated morphism in LazyCategory( Category of matrices over Q )>"
      ]
     },
     "execution_count": 18,
     "metadata": {},
     "output_type": "execute_result"
    }
   ],
   "source": [
    "b = b / Lazy"
   ]
  },
  {
   "cell_type": "code",
   "execution_count": 19,
   "metadata": {},
   "outputs": [],
   "source": [
    "SetLabel( b, \"b\" ); SetLabel( Range( b ), \"C\" )"
   ]
  },
  {
   "cell_type": "code",
   "execution_count": 20,
   "metadata": {},
   "outputs": [
    {
     "data": {
      "text/plain": [
       "GAP: <An evaluated morphism in LazyCategory( Category of matrices over Q )>"
      ]
     },
     "execution_count": 20,
     "metadata": {},
     "output_type": "execute_result"
    }
   ],
   "source": [
    "c = c / Lazy"
   ]
  },
  {
   "cell_type": "code",
   "execution_count": 21,
   "metadata": {},
   "outputs": [],
   "source": [
    "SetLabel( c, \"c\" )"
   ]
  },
  {
   "cell_type": "code",
   "execution_count": 22,
   "metadata": {},
   "outputs": [
    {
     "data": {
      "text/plain": [
       "GAP: <An epimorphism in LazyCategory( Category of matrices over Q )>"
      ]
     },
     "execution_count": 22,
     "metadata": {},
     "output_type": "execute_result"
    }
   ],
   "source": [
    "d = CokernelProjection( a )"
   ]
  },
  {
   "cell_type": "code",
   "execution_count": 23,
   "metadata": {},
   "outputs": [
    {
     "data": {
      "text/plain": [
       "GAP: <A morphism in LazyCategory( Category of matrices over Q )>"
      ]
     },
     "execution_count": 23,
     "metadata": {},
     "output_type": "execute_result"
    }
   ],
   "source": [
    "e = CokernelColift( a, PreCompose( b, c ) )"
   ]
  },
  {
   "cell_type": "code",
   "execution_count": 24,
   "metadata": {},
   "outputs": [
    {
     "data": {
      "text/plain": [
       "GAP: <A monomorphism in LazyCategory( Category of matrices over Q )>"
      ]
     },
     "execution_count": 24,
     "metadata": {},
     "output_type": "execute_result"
    }
   ],
   "source": [
    "f = KernelEmbedding( e )"
   ]
  },
  {
   "cell_type": "code",
   "execution_count": 25,
   "metadata": {},
   "outputs": [
    {
     "data": {
      "text/plain": [
       "GAP: <A monomorphism in LazyCategory( Category of matrices over Q )>"
      ]
     },
     "execution_count": 25,
     "metadata": {},
     "output_type": "execute_result"
    }
   ],
   "source": [
    "g = KernelEmbedding( c )"
   ]
  },
  {
   "cell_type": "code",
   "execution_count": 26,
   "metadata": {},
   "outputs": [
    {
     "data": {
      "text/plain": [
       "GAP: <A morphism in LazyCategory( Category of matrices over Q )>"
      ]
     },
     "execution_count": 26,
     "metadata": {},
     "output_type": "execute_result"
    }
   ],
   "source": [
    "h = KernelLift( c, PreCompose( a, b ) )"
   ]
  },
  {
   "cell_type": "code",
   "execution_count": 27,
   "metadata": {},
   "outputs": [
    {
     "data": {
      "text/plain": [
       "GAP: <An epimorphism in LazyCategory( Category of matrices over Q )>"
      ]
     },
     "execution_count": 27,
     "metadata": {},
     "output_type": "execute_result"
    }
   ],
   "source": [
    "i = CokernelProjection( h )"
   ]
  },
  {
   "cell_type": "code",
   "execution_count": 28,
   "metadata": {},
   "outputs": [
    {
     "data": {
      "text/plain": [
       "GAP: <A morphism in Generalized morphism category of LazyCategory( Category of matrices over Q )>"
      ]
     },
     "execution_count": 28,
     "metadata": {},
     "output_type": "execute_result"
    }
   ],
   "source": [
    "ff = AsGeneralizedMorphism( f )"
   ]
  },
  {
   "cell_type": "code",
   "execution_count": 29,
   "metadata": {},
   "outputs": [
    {
     "data": {
      "text/plain": [
       "GAP: <A morphism in Generalized morphism category of LazyCategory( Category of matrices over Q )>"
      ]
     },
     "execution_count": 29,
     "metadata": {},
     "output_type": "execute_result"
    }
   ],
   "source": [
    "dd = AsGeneralizedMorphism( d )"
   ]
  },
  {
   "cell_type": "code",
   "execution_count": 30,
   "metadata": {},
   "outputs": [
    {
     "data": {
      "text/plain": [
       "GAP: <A morphism in Generalized morphism category of LazyCategory( Category of matrices over Q )>"
      ]
     },
     "execution_count": 30,
     "metadata": {},
     "output_type": "execute_result"
    }
   ],
   "source": [
    "bb = AsGeneralizedMorphism( b )"
   ]
  },
  {
   "cell_type": "code",
   "execution_count": 31,
   "metadata": {},
   "outputs": [
    {
     "data": {
      "text/plain": [
       "GAP: <A morphism in Generalized morphism category of LazyCategory( Category of matrices over Q )>"
      ]
     },
     "execution_count": 31,
     "metadata": {},
     "output_type": "execute_result"
    }
   ],
   "source": [
    "gg = AsGeneralizedMorphism( g )"
   ]
  },
  {
   "cell_type": "code",
   "execution_count": 32,
   "metadata": {},
   "outputs": [
    {
     "data": {
      "text/plain": [
       "GAP: <A morphism in Generalized morphism category of LazyCategory( Category of matrices over Q )>"
      ]
     },
     "execution_count": 32,
     "metadata": {},
     "output_type": "execute_result"
    }
   ],
   "source": [
    "ii = AsGeneralizedMorphism( i )"
   ]
  },
  {
   "cell_type": "code",
   "execution_count": 33,
   "metadata": {},
   "outputs": [
    {
     "data": {
      "text/plain": [
       "GAP: <A morphism in Generalized morphism category of LazyCategory( Category of matrices over Q )>"
      ]
     },
     "execution_count": 33,
     "metadata": {},
     "output_type": "execute_result"
    }
   ],
   "source": [
    "ss = PreCompose( [ ff, PseudoInverse( dd ), bb, PseudoInverse( gg ), ii ] )"
   ]
  },
  {
   "cell_type": "code",
   "execution_count": 34,
   "metadata": {},
   "outputs": [
    {
     "data": {
      "text/plain": [
       "GAP: <A morphism in LazyCategory( Category of matrices over Q )>"
      ]
     },
     "execution_count": 34,
     "metadata": {},
     "output_type": "execute_result"
    }
   ],
   "source": [
    "s = HonestRepresentative( ss )"
   ]
  },
  {
   "cell_type": "code",
   "execution_count": 35,
   "metadata": {
    "scrolled": false
   },
   "outputs": [
    {
     "data": {
      "image/svg+xml": [
       "<?xml version=\"1.0\" encoding=\"UTF-8\" standalone=\"no\"?>\n",
       "<!DOCTYPE svg PUBLIC \"-//W3C//DTD SVG 1.1//EN\"\n",
       " \"http://www.w3.org/Graphics/SVG/1.1/DTD/svg11.dtd\">\n",
       "<!-- Generated by graphviz version 2.44.0 (20200408.0750)\n",
       " -->\n",
       "<!-- Title: hgn Pages: 1 -->\n",
       "<svg width=\"1286pt\" height=\"2162pt\"\n",
       " viewBox=\"0.00 0.00 1285.50 2162.00\" xmlns=\"http://www.w3.org/2000/svg\" xmlns:xlink=\"http://www.w3.org/1999/xlink\">\n",
       "<g id=\"graph0\" class=\"graph\" transform=\"scale(1 1) rotate(0) translate(4 2158)\">\n",
       "<title>hgn</title>\n",
       "<polygon fill=\"white\" stroke=\"transparent\" points=\"-4,4 -4,-2158 1281.5,-2158 1281.5,4 -4,4\"/>\n",
       "<!-- 1 -->\n",
       "<g id=\"node1\" class=\"node\">\n",
       "<title>1</title>\n",
       "<polygon fill=\"none\" stroke=\"black\" points=\"502.5,-2154 429.5,-2154 429.5,-2086 502.5,-2086 502.5,-2154\"/>\n",
       "<text text-anchor=\"middle\" x=\"466\" y=\"-2138.8\" font-family=\"Times,serif\" font-size=\"14.00\">[1]</text>\n",
       "<text text-anchor=\"middle\" x=\"466\" y=\"-2123.8\" font-family=\"Times,serif\" font-size=\"14.00\">primitive</text>\n",
       "<text text-anchor=\"middle\" x=\"466\" y=\"-2108.8\" font-family=\"Times,serif\" font-size=\"14.00\">morphism</text>\n",
       "<text text-anchor=\"middle\" x=\"466\" y=\"-2093.8\" font-family=\"Times,serif\" font-size=\"14.00\">&lt;a&gt;</text>\n",
       "</g>\n",
       "<!-- 2 -->\n",
       "<g id=\"node2\" class=\"node\">\n",
       "<title>2</title>\n",
       "<polygon fill=\"none\" stroke=\"black\" points=\"323,-2049 257,-2049 257,-1996 323,-1996 323,-2049\"/>\n",
       "<text text-anchor=\"middle\" x=\"290\" y=\"-2033.8\" font-family=\"Times,serif\" font-size=\"14.00\">[2]</text>\n",
       "<text text-anchor=\"middle\" x=\"290\" y=\"-2018.8\" font-family=\"Times,serif\" font-size=\"14.00\">Cokernel</text>\n",
       "<text text-anchor=\"middle\" x=\"290\" y=\"-2003.8\" font-family=\"Times,serif\" font-size=\"14.00\">Object</text>\n",
       "</g>\n",
       "<!-- 1&#45;&gt;2 -->\n",
       "<g id=\"edge1\" class=\"edge\">\n",
       "<title>1&#45;&gt;2</title>\n",
       "<path fill=\"none\" stroke=\"black\" d=\"M429.1,-2098.98C400.79,-2083.61 361.66,-2062.39 332.12,-2046.35\"/>\n",
       "<polygon fill=\"black\" stroke=\"black\" points=\"333.74,-2043.25 323.28,-2041.56 330.4,-2049.4 333.74,-2043.25\"/>\n",
       "</g>\n",
       "<!-- 9 -->\n",
       "<g id=\"node9\" class=\"node\">\n",
       "<title>9</title>\n",
       "<polygon fill=\"none\" stroke=\"black\" points=\"589,-1945 467,-1945 467,-1877 589,-1877 589,-1945\"/>\n",
       "<text text-anchor=\"middle\" x=\"528\" y=\"-1929.8\" font-family=\"Times,serif\" font-size=\"14.00\">[9]</text>\n",
       "<text text-anchor=\"middle\" x=\"528\" y=\"-1914.8\" font-family=\"Times,serif\" font-size=\"14.00\">CokernelProjection</text>\n",
       "<text text-anchor=\"middle\" x=\"528\" y=\"-1899.8\" font-family=\"Times,serif\" font-size=\"14.00\">WithGiven</text>\n",
       "<text text-anchor=\"middle\" x=\"528\" y=\"-1884.8\" font-family=\"Times,serif\" font-size=\"14.00\">CokernelObject</text>\n",
       "</g>\n",
       "<!-- 1&#45;&gt;9 -->\n",
       "<g id=\"edge2\" class=\"edge\">\n",
       "<title>1&#45;&gt;9</title>\n",
       "<path fill=\"none\" stroke=\"black\" d=\"M475.96,-2085.74C486.58,-2050.28 503.44,-1993.99 515.08,-1955.15\"/>\n",
       "<polygon fill=\"black\" stroke=\"black\" points=\"518.55,-1955.76 518.06,-1945.18 511.84,-1953.75 518.55,-1955.76\"/>\n",
       "<text text-anchor=\"middle\" x=\"505.5\" y=\"-2018.8\" font-family=\"Times,serif\" font-size=\"14.00\">1</text>\n",
       "</g>\n",
       "<!-- 10 -->\n",
       "<g id=\"node10\" class=\"node\">\n",
       "<title>10</title>\n",
       "<polygon fill=\"none\" stroke=\"black\" points=\"379,-1409 277,-1409 277,-1341 379,-1341 379,-1409\"/>\n",
       "<text text-anchor=\"middle\" x=\"328\" y=\"-1393.8\" font-family=\"Times,serif\" font-size=\"14.00\">[10]</text>\n",
       "<text text-anchor=\"middle\" x=\"328\" y=\"-1378.8\" font-family=\"Times,serif\" font-size=\"14.00\">CokernelColift</text>\n",
       "<text text-anchor=\"middle\" x=\"328\" y=\"-1363.8\" font-family=\"Times,serif\" font-size=\"14.00\">WithGiven</text>\n",
       "<text text-anchor=\"middle\" x=\"328\" y=\"-1348.8\" font-family=\"Times,serif\" font-size=\"14.00\">CokernelObject</text>\n",
       "</g>\n",
       "<!-- 1&#45;&gt;10 -->\n",
       "<g id=\"edge3\" class=\"edge\">\n",
       "<title>1&#45;&gt;10</title>\n",
       "<path fill=\"none\" stroke=\"black\" d=\"M451.71,-2085.61C445.23,-2067.57 439,-2044.69 439,-2023.5 439,-2023.5 439,-2023.5 439,-1493 439,-1458.87 413.84,-1430.72 387.47,-1410.59\"/>\n",
       "<polygon fill=\"black\" stroke=\"black\" points=\"389.42,-1407.67 379.28,-1404.6 385.29,-1413.33 389.42,-1407.67\"/>\n",
       "<text text-anchor=\"middle\" x=\"442.5\" y=\"-1772.8\" font-family=\"Times,serif\" font-size=\"14.00\">1</text>\n",
       "</g>\n",
       "<!-- 17 -->\n",
       "<g id=\"node17\" class=\"node\">\n",
       "<title>17</title>\n",
       "<polygon fill=\"none\" stroke=\"black\" points=\"957,-1520.5 889,-1520.5 889,-1467.5 957,-1467.5 957,-1520.5\"/>\n",
       "<text text-anchor=\"middle\" x=\"923\" y=\"-1505.3\" font-family=\"Times,serif\" font-size=\"14.00\">[17]</text>\n",
       "<text text-anchor=\"middle\" x=\"923\" y=\"-1490.3\" font-family=\"Times,serif\" font-size=\"14.00\">Pre</text>\n",
       "<text text-anchor=\"middle\" x=\"923\" y=\"-1475.3\" font-family=\"Times,serif\" font-size=\"14.00\">Compose</text>\n",
       "</g>\n",
       "<!-- 1&#45;&gt;17 -->\n",
       "<g id=\"edge4\" class=\"edge\">\n",
       "<title>1&#45;&gt;17</title>\n",
       "<path fill=\"none\" stroke=\"black\" d=\"M502.63,-2118.71C607.26,-2116.9 900,-2104.6 900,-2023.5 900,-2023.5 900,-2023.5 900,-1612 900,-1584.23 906.32,-1553.44 912.33,-1530.41\"/>\n",
       "<polygon fill=\"black\" stroke=\"black\" points=\"915.71,-1531.31 914.96,-1520.74 908.96,-1529.47 915.71,-1531.31\"/>\n",
       "<text text-anchor=\"middle\" x=\"903.5\" y=\"-1817.3\" font-family=\"Times,serif\" font-size=\"14.00\">1</text>\n",
       "</g>\n",
       "<!-- 6 -->\n",
       "<g id=\"node6\" class=\"node\">\n",
       "<title>6</title>\n",
       "<polygon fill=\"none\" stroke=\"black\" points=\"252,-1937.5 178,-1937.5 178,-1884.5 252,-1884.5 252,-1937.5\"/>\n",
       "<text text-anchor=\"middle\" x=\"215\" y=\"-1922.3\" font-family=\"Times,serif\" font-size=\"14.00\">[6]</text>\n",
       "<text text-anchor=\"middle\" x=\"215\" y=\"-1907.3\" font-family=\"Times,serif\" font-size=\"14.00\">Identity</text>\n",
       "<text text-anchor=\"middle\" x=\"215\" y=\"-1892.3\" font-family=\"Times,serif\" font-size=\"14.00\">Morphism</text>\n",
       "</g>\n",
       "<!-- 2&#45;&gt;6 -->\n",
       "<g id=\"edge5\" class=\"edge\">\n",
       "<title>2&#45;&gt;6</title>\n",
       "<path fill=\"none\" stroke=\"black\" d=\"M272.42,-1995.83C262.26,-1981 249.36,-1962.16 238.36,-1946.11\"/>\n",
       "<polygon fill=\"black\" stroke=\"black\" points=\"241.01,-1943.78 232.47,-1937.51 235.24,-1947.74 241.01,-1943.78\"/>\n",
       "</g>\n",
       "<!-- 2&#45;&gt;9 -->\n",
       "<g id=\"edge6\" class=\"edge\">\n",
       "<title>2&#45;&gt;9</title>\n",
       "<path fill=\"none\" stroke=\"black\" d=\"M323.09,-2006.27C357.67,-1990.36 412.98,-1964.92 457.42,-1944.47\"/>\n",
       "<polygon fill=\"black\" stroke=\"black\" points=\"459.11,-1947.55 466.73,-1940.19 456.18,-1941.19 459.11,-1947.55\"/>\n",
       "<text text-anchor=\"middle\" x=\"419.5\" y=\"-1966.8\" font-family=\"Times,serif\" font-size=\"14.00\">2</text>\n",
       "</g>\n",
       "<!-- 2&#45;&gt;10 -->\n",
       "<g id=\"edge7\" class=\"edge\">\n",
       "<title>2&#45;&gt;10</title>\n",
       "<path fill=\"none\" stroke=\"black\" d=\"M256.73,-2016.19C180.56,-2003.11 0,-1966.35 0,-1912 0,-1912 0,-1912 0,-1671.5 0,-1529.23 172.45,-1437.91 267.27,-1398.46\"/>\n",
       "<polygon fill=\"black\" stroke=\"black\" points=\"268.82,-1401.61 276.75,-1394.58 266.17,-1395.13 268.82,-1401.61\"/>\n",
       "<text text-anchor=\"middle\" x=\"3.5\" y=\"-1720.8\" font-family=\"Times,serif\" font-size=\"14.00\">3</text>\n",
       "</g>\n",
       "<!-- 3 -->\n",
       "<g id=\"node3\" class=\"node\">\n",
       "<title>3</title>\n",
       "<polygon fill=\"none\" stroke=\"black\" points=\"744.5,-1647 671.5,-1647 671.5,-1579 744.5,-1579 744.5,-1647\"/>\n",
       "<text text-anchor=\"middle\" x=\"708\" y=\"-1631.8\" font-family=\"Times,serif\" font-size=\"14.00\">[3]</text>\n",
       "<text text-anchor=\"middle\" x=\"708\" y=\"-1616.8\" font-family=\"Times,serif\" font-size=\"14.00\">primitive</text>\n",
       "<text text-anchor=\"middle\" x=\"708\" y=\"-1601.8\" font-family=\"Times,serif\" font-size=\"14.00\">morphism</text>\n",
       "<text text-anchor=\"middle\" x=\"708\" y=\"-1586.8\" font-family=\"Times,serif\" font-size=\"14.00\">&lt;b&gt;</text>\n",
       "</g>\n",
       "<!-- 5 -->\n",
       "<g id=\"node5\" class=\"node\">\n",
       "<title>5</title>\n",
       "<polygon fill=\"none\" stroke=\"black\" points=\"742,-1520.5 674,-1520.5 674,-1467.5 742,-1467.5 742,-1520.5\"/>\n",
       "<text text-anchor=\"middle\" x=\"708\" y=\"-1505.3\" font-family=\"Times,serif\" font-size=\"14.00\">[5]</text>\n",
       "<text text-anchor=\"middle\" x=\"708\" y=\"-1490.3\" font-family=\"Times,serif\" font-size=\"14.00\">Pre</text>\n",
       "<text text-anchor=\"middle\" x=\"708\" y=\"-1475.3\" font-family=\"Times,serif\" font-size=\"14.00\">Compose</text>\n",
       "</g>\n",
       "<!-- 3&#45;&gt;5 -->\n",
       "<g id=\"edge8\" class=\"edge\">\n",
       "<title>3&#45;&gt;5</title>\n",
       "<path fill=\"none\" stroke=\"black\" d=\"M708,-1578.79C708,-1563.85 708,-1546.2 708,-1530.96\"/>\n",
       "<polygon fill=\"black\" stroke=\"black\" points=\"711.5,-1530.86 708,-1520.86 704.5,-1530.86 711.5,-1530.86\"/>\n",
       "<text text-anchor=\"middle\" x=\"711.5\" y=\"-1549.8\" font-family=\"Times,serif\" font-size=\"14.00\">1</text>\n",
       "</g>\n",
       "<!-- 14 -->\n",
       "<g id=\"node14\" class=\"node\">\n",
       "<title>14</title>\n",
       "<polygon fill=\"none\" stroke=\"black\" points=\"613,-1513 553,-1513 553,-1475 613,-1475 613,-1513\"/>\n",
       "<text text-anchor=\"middle\" x=\"583\" y=\"-1497.8\" font-family=\"Times,serif\" font-size=\"14.00\">[14]</text>\n",
       "<text text-anchor=\"middle\" x=\"583\" y=\"-1482.8\" font-family=\"Times,serif\" font-size=\"14.00\">Pushout</text>\n",
       "</g>\n",
       "<!-- 3&#45;&gt;14 -->\n",
       "<g id=\"edge9\" class=\"edge\">\n",
       "<title>3&#45;&gt;14</title>\n",
       "<path fill=\"none\" stroke=\"black\" d=\"M671.1,-1592.75C656.7,-1584.19 640.65,-1573.27 628,-1561 616.3,-1549.66 605.86,-1534.83 597.99,-1522.1\"/>\n",
       "<polygon fill=\"black\" stroke=\"black\" points=\"600.86,-1520.07 592.73,-1513.28 594.85,-1523.66 600.86,-1520.07\"/>\n",
       "<text text-anchor=\"middle\" x=\"631.5\" y=\"-1549.8\" font-family=\"Times,serif\" font-size=\"14.00\">2</text>\n",
       "</g>\n",
       "<!-- 3&#45;&gt;17 -->\n",
       "<g id=\"edge10\" class=\"edge\">\n",
       "<title>3&#45;&gt;17</title>\n",
       "<path fill=\"none\" stroke=\"black\" d=\"M744.69,-1596.65C780.3,-1581.16 835.36,-1555.64 880,-1528 880.92,-1527.43 881.84,-1526.85 882.77,-1526.25\"/>\n",
       "<polygon fill=\"black\" stroke=\"black\" points=\"884.79,-1529.1 891.1,-1520.59 880.86,-1523.31 884.79,-1529.1\"/>\n",
       "<text text-anchor=\"middle\" x=\"851.5\" y=\"-1549.8\" font-family=\"Times,serif\" font-size=\"14.00\">2</text>\n",
       "</g>\n",
       "<!-- 19 -->\n",
       "<g id=\"node19\" class=\"node\">\n",
       "<title>19</title>\n",
       "<polygon fill=\"none\" stroke=\"black\" points=\"783,-1401.5 599,-1401.5 599,-1348.5 783,-1348.5 783,-1401.5\"/>\n",
       "<text text-anchor=\"middle\" x=\"691\" y=\"-1386.3\" font-family=\"Times,serif\" font-size=\"14.00\">[19]</text>\n",
       "<text text-anchor=\"middle\" x=\"691\" y=\"-1371.3\" font-family=\"Times,serif\" font-size=\"14.00\">InjectionOfCofactorOfPushout</text>\n",
       "<text text-anchor=\"middle\" x=\"691\" y=\"-1356.3\" font-family=\"Times,serif\" font-size=\"14.00\">WithGivenPushout( 2 )</text>\n",
       "</g>\n",
       "<!-- 3&#45;&gt;19 -->\n",
       "<g id=\"edge11\" class=\"edge\">\n",
       "<title>3&#45;&gt;19</title>\n",
       "<path fill=\"none\" stroke=\"black\" d=\"M744.69,-1586.74C752.51,-1579.43 759.7,-1570.74 764,-1561 766.69,-1554.9 764.5,-1552.65 764,-1546 761.1,-1507.45 765.52,-1495.82 751,-1460 743.74,-1442.09 731.95,-1424.36 720.73,-1409.84\"/>\n",
       "<polygon fill=\"black\" stroke=\"black\" points=\"723.2,-1407.33 714.24,-1401.69 717.73,-1411.69 723.2,-1407.33\"/>\n",
       "<text text-anchor=\"middle\" x=\"766.5\" y=\"-1490.3\" font-family=\"Times,serif\" font-size=\"14.00\">2</text>\n",
       "</g>\n",
       "<!-- 22 -->\n",
       "<g id=\"node22\" class=\"node\">\n",
       "<title>22</title>\n",
       "<polygon fill=\"none\" stroke=\"black\" points=\"581,-1401.5 397,-1401.5 397,-1348.5 581,-1348.5 581,-1401.5\"/>\n",
       "<text text-anchor=\"middle\" x=\"489\" y=\"-1386.3\" font-family=\"Times,serif\" font-size=\"14.00\">[22]</text>\n",
       "<text text-anchor=\"middle\" x=\"489\" y=\"-1371.3\" font-family=\"Times,serif\" font-size=\"14.00\">InjectionOfCofactorOfPushout</text>\n",
       "<text text-anchor=\"middle\" x=\"489\" y=\"-1356.3\" font-family=\"Times,serif\" font-size=\"14.00\">WithGivenPushout( 1 )</text>\n",
       "</g>\n",
       "<!-- 3&#45;&gt;22 -->\n",
       "<g id=\"edge12\" class=\"edge\">\n",
       "<title>3&#45;&gt;22</title>\n",
       "<path fill=\"none\" stroke=\"black\" d=\"M687.66,-1578.71C678.43,-1563.37 667.48,-1544.87 658,-1528 641.25,-1498.19 645.24,-1485.09 622,-1460 621.14,-1459.07 576.19,-1430.75 538.79,-1407.24\"/>\n",
       "<polygon fill=\"black\" stroke=\"black\" points=\"540.3,-1404.06 529.97,-1401.7 536.57,-1409.98 540.3,-1404.06\"/>\n",
       "<text text-anchor=\"middle\" x=\"661.5\" y=\"-1490.3\" font-family=\"Times,serif\" font-size=\"14.00\">2</text>\n",
       "</g>\n",
       "<!-- 4 -->\n",
       "<g id=\"node4\" class=\"node\">\n",
       "<title>4</title>\n",
       "<polygon fill=\"none\" stroke=\"black\" points=\"1052.5,-1647 979.5,-1647 979.5,-1579 1052.5,-1579 1052.5,-1647\"/>\n",
       "<text text-anchor=\"middle\" x=\"1016\" y=\"-1631.8\" font-family=\"Times,serif\" font-size=\"14.00\">[4]</text>\n",
       "<text text-anchor=\"middle\" x=\"1016\" y=\"-1616.8\" font-family=\"Times,serif\" font-size=\"14.00\">primitive</text>\n",
       "<text text-anchor=\"middle\" x=\"1016\" y=\"-1601.8\" font-family=\"Times,serif\" font-size=\"14.00\">morphism</text>\n",
       "<text text-anchor=\"middle\" x=\"1016\" y=\"-1586.8\" font-family=\"Times,serif\" font-size=\"14.00\">&lt;c&gt;</text>\n",
       "</g>\n",
       "<!-- 4&#45;&gt;5 -->\n",
       "<g id=\"edge13\" class=\"edge\">\n",
       "<title>4&#45;&gt;5</title>\n",
       "<path fill=\"none\" stroke=\"black\" d=\"M979.47,-1606C938.07,-1598.48 869.06,-1583.75 813,-1561 785.88,-1549.99 780.75,-1543.64 756,-1528 754.3,-1526.93 752.58,-1525.82 750.84,-1524.69\"/>\n",
       "<polygon fill=\"black\" stroke=\"black\" points=\"752.41,-1521.53 742.13,-1518.94 748.55,-1527.37 752.41,-1521.53\"/>\n",
       "<text text-anchor=\"middle\" x=\"816.5\" y=\"-1549.8\" font-family=\"Times,serif\" font-size=\"14.00\">2</text>\n",
       "</g>\n",
       "<!-- 18 -->\n",
       "<g id=\"node18\" class=\"node\">\n",
       "<title>18</title>\n",
       "<polygon fill=\"none\" stroke=\"black\" points=\"1118,-1520.5 1064,-1520.5 1064,-1467.5 1118,-1467.5 1118,-1520.5\"/>\n",
       "<text text-anchor=\"middle\" x=\"1091\" y=\"-1505.3\" font-family=\"Times,serif\" font-size=\"14.00\">[18]</text>\n",
       "<text text-anchor=\"middle\" x=\"1091\" y=\"-1490.3\" font-family=\"Times,serif\" font-size=\"14.00\">Kernel</text>\n",
       "<text text-anchor=\"middle\" x=\"1091\" y=\"-1475.3\" font-family=\"Times,serif\" font-size=\"14.00\">Object</text>\n",
       "</g>\n",
       "<!-- 4&#45;&gt;18 -->\n",
       "<g id=\"edge14\" class=\"edge\">\n",
       "<title>4&#45;&gt;18</title>\n",
       "<path fill=\"none\" stroke=\"black\" d=\"M1040.79,-1578.88C1044.98,-1573 1049.19,-1566.88 1053,-1561 1059.51,-1550.96 1066.16,-1539.77 1072.05,-1529.5\"/>\n",
       "<polygon fill=\"black\" stroke=\"black\" points=\"1075.11,-1531.19 1077,-1520.76 1069.02,-1527.74 1075.11,-1531.19\"/>\n",
       "</g>\n",
       "<!-- 24 -->\n",
       "<g id=\"node24\" class=\"node\">\n",
       "<title>24</title>\n",
       "<polygon fill=\"none\" stroke=\"black\" points=\"1013.5,-1409 924.5,-1409 924.5,-1341 1013.5,-1341 1013.5,-1409\"/>\n",
       "<text text-anchor=\"middle\" x=\"969\" y=\"-1393.8\" font-family=\"Times,serif\" font-size=\"14.00\">[24]</text>\n",
       "<text text-anchor=\"middle\" x=\"969\" y=\"-1378.8\" font-family=\"Times,serif\" font-size=\"14.00\">KernelLift</text>\n",
       "<text text-anchor=\"middle\" x=\"969\" y=\"-1363.8\" font-family=\"Times,serif\" font-size=\"14.00\">WithGiven</text>\n",
       "<text text-anchor=\"middle\" x=\"969\" y=\"-1348.8\" font-family=\"Times,serif\" font-size=\"14.00\">KernelObject</text>\n",
       "</g>\n",
       "<!-- 4&#45;&gt;24 -->\n",
       "<g id=\"edge15\" class=\"edge\">\n",
       "<title>4&#45;&gt;24</title>\n",
       "<path fill=\"none\" stroke=\"black\" d=\"M1009.42,-1578.94C1001.1,-1537.19 986.78,-1465.26 977.6,-1419.2\"/>\n",
       "<polygon fill=\"black\" stroke=\"black\" points=\"981,-1418.34 975.62,-1409.22 974.14,-1419.71 981,-1418.34\"/>\n",
       "<text text-anchor=\"middle\" x=\"1001.5\" y=\"-1490.3\" font-family=\"Times,serif\" font-size=\"14.00\">1</text>\n",
       "</g>\n",
       "<!-- 27 -->\n",
       "<g id=\"node27\" class=\"node\">\n",
       "<title>27</title>\n",
       "<polygon fill=\"none\" stroke=\"black\" points=\"1148,-1409 1032,-1409 1032,-1341 1148,-1341 1148,-1409\"/>\n",
       "<text text-anchor=\"middle\" x=\"1090\" y=\"-1393.8\" font-family=\"Times,serif\" font-size=\"14.00\">[27]</text>\n",
       "<text text-anchor=\"middle\" x=\"1090\" y=\"-1378.8\" font-family=\"Times,serif\" font-size=\"14.00\">KernelEmbedding</text>\n",
       "<text text-anchor=\"middle\" x=\"1090\" y=\"-1363.8\" font-family=\"Times,serif\" font-size=\"14.00\">WithGiven</text>\n",
       "<text text-anchor=\"middle\" x=\"1090\" y=\"-1348.8\" font-family=\"Times,serif\" font-size=\"14.00\">KernelObject</text>\n",
       "</g>\n",
       "<!-- 4&#45;&gt;27 -->\n",
       "<g id=\"edge16\" class=\"edge\">\n",
       "<title>4&#45;&gt;27</title>\n",
       "<path fill=\"none\" stroke=\"black\" d=\"M1020.49,-1578.72C1025.29,-1547.48 1034.15,-1499.72 1048,-1460 1052.88,-1446 1059.6,-1431.35 1066.22,-1418.27\"/>\n",
       "<polygon fill=\"black\" stroke=\"black\" points=\"1069.5,-1419.55 1071,-1409.06 1063.29,-1416.33 1069.5,-1419.55\"/>\n",
       "<text text-anchor=\"middle\" x=\"1051.5\" y=\"-1490.3\" font-family=\"Times,serif\" font-size=\"14.00\">1</text>\n",
       "</g>\n",
       "<!-- 5&#45;&gt;10 -->\n",
       "<g id=\"edge17\" class=\"edge\">\n",
       "<title>5&#45;&gt;10</title>\n",
       "<path fill=\"none\" stroke=\"black\" d=\"M673.89,-1467.72C669.34,-1464.9 664.65,-1462.24 660,-1460 614.79,-1438.2 601.16,-1437.12 552,-1427 483.26,-1412.86 459.92,-1429.54 388.98,-1408.82\"/>\n",
       "<polygon fill=\"black\" stroke=\"black\" points=\"389.72,-1405.38 379.13,-1405.79 387.67,-1412.07 389.72,-1405.38\"/>\n",
       "<text text-anchor=\"middle\" x=\"619.5\" y=\"-1430.8\" font-family=\"Times,serif\" font-size=\"14.00\">2</text>\n",
       "</g>\n",
       "<!-- 7 -->\n",
       "<g id=\"node7\" class=\"node\">\n",
       "<title>7</title>\n",
       "<polygon fill=\"none\" stroke=\"black\" points=\"245,-1840 185,-1840 185,-1802 245,-1802 245,-1840\"/>\n",
       "<text text-anchor=\"middle\" x=\"215\" y=\"-1824.8\" font-family=\"Times,serif\" font-size=\"14.00\">[7]</text>\n",
       "<text text-anchor=\"middle\" x=\"215\" y=\"-1809.8\" font-family=\"Times,serif\" font-size=\"14.00\">Pushout</text>\n",
       "</g>\n",
       "<!-- 6&#45;&gt;7 -->\n",
       "<g id=\"edge18\" class=\"edge\">\n",
       "<title>6&#45;&gt;7</title>\n",
       "<path fill=\"none\" stroke=\"black\" d=\"M208.78,-1884.07C208.12,-1873.5 208.08,-1861.25 208.64,-1850.43\"/>\n",
       "<polygon fill=\"black\" stroke=\"black\" points=\"212.15,-1850.45 209.41,-1840.21 205.17,-1849.92 212.15,-1850.45\"/>\n",
       "</g>\n",
       "<!-- 6&#45;&gt;7 -->\n",
       "<g id=\"edge19\" class=\"edge\">\n",
       "<title>6&#45;&gt;7</title>\n",
       "<path fill=\"none\" stroke=\"black\" d=\"M221.22,-1884.07C221.88,-1873.5 221.92,-1861.25 221.36,-1850.43\"/>\n",
       "<polygon fill=\"black\" stroke=\"black\" points=\"224.83,-1849.92 220.59,-1840.21 217.85,-1850.45 224.83,-1849.92\"/>\n",
       "</g>\n",
       "<!-- 8 -->\n",
       "<g id=\"node8\" class=\"node\">\n",
       "<title>8</title>\n",
       "<polygon fill=\"none\" stroke=\"black\" points=\"411,-1751 227,-1751 227,-1698 411,-1698 411,-1751\"/>\n",
       "<text text-anchor=\"middle\" x=\"319\" y=\"-1735.8\" font-family=\"Times,serif\" font-size=\"14.00\">[8]</text>\n",
       "<text text-anchor=\"middle\" x=\"319\" y=\"-1720.8\" font-family=\"Times,serif\" font-size=\"14.00\">InjectionOfCofactorOfPushout</text>\n",
       "<text text-anchor=\"middle\" x=\"319\" y=\"-1705.8\" font-family=\"Times,serif\" font-size=\"14.00\">WithGivenPushout( 2 )</text>\n",
       "</g>\n",
       "<!-- 6&#45;&gt;8 -->\n",
       "<g id=\"edge20\" class=\"edge\">\n",
       "<title>6&#45;&gt;8</title>\n",
       "<path fill=\"none\" stroke=\"black\" d=\"M229.46,-1884.35C247.73,-1851.94 279.22,-1796.06 299.58,-1759.96\"/>\n",
       "<polygon fill=\"black\" stroke=\"black\" points=\"302.63,-1761.66 304.49,-1751.23 296.54,-1758.23 302.63,-1761.66\"/>\n",
       "<text text-anchor=\"middle\" x=\"279.5\" y=\"-1817.3\" font-family=\"Times,serif\" font-size=\"14.00\">2</text>\n",
       "</g>\n",
       "<!-- 6&#45;&gt;8 -->\n",
       "<g id=\"edge21\" class=\"edge\">\n",
       "<title>6&#45;&gt;8</title>\n",
       "<path fill=\"none\" stroke=\"black\" d=\"M247.94,-1884.22C261.64,-1872.07 276.71,-1856.59 287,-1840 301.88,-1816.01 309.99,-1784.98 314.32,-1761.27\"/>\n",
       "<polygon fill=\"black\" stroke=\"black\" points=\"317.8,-1761.71 316.01,-1751.27 310.9,-1760.55 317.8,-1761.71\"/>\n",
       "<text text-anchor=\"middle\" x=\"308.5\" y=\"-1817.3\" font-family=\"Times,serif\" font-size=\"14.00\">2</text>\n",
       "</g>\n",
       "<!-- 15 -->\n",
       "<g id=\"node15\" class=\"node\">\n",
       "<title>15</title>\n",
       "<polygon fill=\"none\" stroke=\"black\" points=\"209,-1751 25,-1751 25,-1698 209,-1698 209,-1751\"/>\n",
       "<text text-anchor=\"middle\" x=\"117\" y=\"-1735.8\" font-family=\"Times,serif\" font-size=\"14.00\">[15]</text>\n",
       "<text text-anchor=\"middle\" x=\"117\" y=\"-1720.8\" font-family=\"Times,serif\" font-size=\"14.00\">InjectionOfCofactorOfPushout</text>\n",
       "<text text-anchor=\"middle\" x=\"117\" y=\"-1705.8\" font-family=\"Times,serif\" font-size=\"14.00\">WithGivenPushout( 1 )</text>\n",
       "</g>\n",
       "<!-- 6&#45;&gt;15 -->\n",
       "<g id=\"edge22\" class=\"edge\">\n",
       "<title>6&#45;&gt;15</title>\n",
       "<path fill=\"none\" stroke=\"black\" d=\"M177.82,-1890.4C159.73,-1878.55 139.98,-1861.55 131,-1840 120.58,-1814.99 117.26,-1784.44 116.45,-1761.19\"/>\n",
       "<polygon fill=\"black\" stroke=\"black\" points=\"119.95,-1760.99 116.24,-1751.06 112.95,-1761.14 119.95,-1760.99\"/>\n",
       "<text text-anchor=\"middle\" x=\"134.5\" y=\"-1817.3\" font-family=\"Times,serif\" font-size=\"14.00\">2</text>\n",
       "</g>\n",
       "<!-- 6&#45;&gt;15 -->\n",
       "<g id=\"edge23\" class=\"edge\">\n",
       "<title>6&#45;&gt;15</title>\n",
       "<path fill=\"none\" stroke=\"black\" d=\"M196.76,-1884.34C187.88,-1871.35 177.35,-1855.15 169,-1840 154.7,-1814.07 140.96,-1783.48 131.2,-1760.44\"/>\n",
       "<polygon fill=\"black\" stroke=\"black\" points=\"134.36,-1758.93 127.27,-1751.07 127.91,-1761.64 134.36,-1758.93\"/>\n",
       "<text text-anchor=\"middle\" x=\"172.5\" y=\"-1817.3\" font-family=\"Times,serif\" font-size=\"14.00\">2</text>\n",
       "</g>\n",
       "<!-- 7&#45;&gt;8 -->\n",
       "<g id=\"edge24\" class=\"edge\">\n",
       "<title>7&#45;&gt;8</title>\n",
       "<path fill=\"none\" stroke=\"black\" d=\"M229.54,-1801.68C237.96,-1791.56 249.03,-1779.05 260,-1769 264.33,-1765.04 269.01,-1761.09 273.78,-1757.28\"/>\n",
       "<polygon fill=\"black\" stroke=\"black\" points=\"276.09,-1759.92 281.85,-1751.02 271.8,-1754.39 276.09,-1759.92\"/>\n",
       "<text text-anchor=\"middle\" x=\"263.5\" y=\"-1772.8\" font-family=\"Times,serif\" font-size=\"14.00\">3</text>\n",
       "</g>\n",
       "<!-- 7&#45;&gt;15 -->\n",
       "<g id=\"edge25\" class=\"edge\">\n",
       "<title>7&#45;&gt;15</title>\n",
       "<path fill=\"none\" stroke=\"black\" d=\"M201.95,-1801.63C194.34,-1791.5 184.25,-1778.99 174,-1769 170.04,-1765.14 165.75,-1761.32 161.35,-1757.63\"/>\n",
       "<polygon fill=\"black\" stroke=\"black\" points=\"163.34,-1754.73 153.36,-1751.15 158.93,-1760.17 163.34,-1754.73\"/>\n",
       "<text text-anchor=\"middle\" x=\"191.5\" y=\"-1772.8\" font-family=\"Times,serif\" font-size=\"14.00\">3</text>\n",
       "</g>\n",
       "<!-- 13 -->\n",
       "<g id=\"node13\" class=\"node\">\n",
       "<title>13</title>\n",
       "<polygon fill=\"none\" stroke=\"black\" points=\"562,-1639.5 494,-1639.5 494,-1586.5 562,-1586.5 562,-1639.5\"/>\n",
       "<text text-anchor=\"middle\" x=\"528\" y=\"-1624.3\" font-family=\"Times,serif\" font-size=\"14.00\">[13]</text>\n",
       "<text text-anchor=\"middle\" x=\"528\" y=\"-1609.3\" font-family=\"Times,serif\" font-size=\"14.00\">Pre</text>\n",
       "<text text-anchor=\"middle\" x=\"528\" y=\"-1594.3\" font-family=\"Times,serif\" font-size=\"14.00\">Compose</text>\n",
       "</g>\n",
       "<!-- 8&#45;&gt;13 -->\n",
       "<g id=\"edge26\" class=\"edge\">\n",
       "<title>8&#45;&gt;13</title>\n",
       "<path fill=\"none\" stroke=\"black\" d=\"M367.74,-1697.97C403.13,-1679.42 450.59,-1654.56 484.66,-1636.71\"/>\n",
       "<polygon fill=\"black\" stroke=\"black\" points=\"486.66,-1639.61 493.9,-1631.87 483.41,-1633.41 486.66,-1639.61\"/>\n",
       "<text text-anchor=\"middle\" x=\"432.5\" y=\"-1668.8\" font-family=\"Times,serif\" font-size=\"14.00\">2</text>\n",
       "</g>\n",
       "<!-- 9&#45;&gt;13 -->\n",
       "<g id=\"edge27\" class=\"edge\">\n",
       "<title>9&#45;&gt;13</title>\n",
       "<path fill=\"none\" stroke=\"black\" d=\"M528,-1876.91C528,-1820.81 528,-1707.52 528,-1649.7\"/>\n",
       "<polygon fill=\"black\" stroke=\"black\" points=\"531.5,-1649.58 528,-1639.58 524.5,-1649.58 531.5,-1649.58\"/>\n",
       "<text text-anchor=\"middle\" x=\"531.5\" y=\"-1772.8\" font-family=\"Times,serif\" font-size=\"14.00\">1</text>\n",
       "</g>\n",
       "<!-- 11 -->\n",
       "<g id=\"node11\" class=\"node\">\n",
       "<title>11</title>\n",
       "<polygon fill=\"none\" stroke=\"black\" points=\"395,-1290 341,-1290 341,-1237 395,-1237 395,-1290\"/>\n",
       "<text text-anchor=\"middle\" x=\"368\" y=\"-1274.8\" font-family=\"Times,serif\" font-size=\"14.00\">[11]</text>\n",
       "<text text-anchor=\"middle\" x=\"368\" y=\"-1259.8\" font-family=\"Times,serif\" font-size=\"14.00\">Kernel</text>\n",
       "<text text-anchor=\"middle\" x=\"368\" y=\"-1244.8\" font-family=\"Times,serif\" font-size=\"14.00\">Object</text>\n",
       "</g>\n",
       "<!-- 10&#45;&gt;11 -->\n",
       "<g id=\"edge28\" class=\"edge\">\n",
       "<title>10&#45;&gt;11</title>\n",
       "<path fill=\"none\" stroke=\"black\" d=\"M340.11,-1340.85C344.84,-1327.91 350.27,-1313.05 355.07,-1299.9\"/>\n",
       "<polygon fill=\"black\" stroke=\"black\" points=\"358.45,-1300.83 358.6,-1290.24 351.88,-1298.43 358.45,-1300.83\"/>\n",
       "</g>\n",
       "<!-- 16 -->\n",
       "<g id=\"node16\" class=\"node\">\n",
       "<title>16</title>\n",
       "<polygon fill=\"none\" stroke=\"black\" points=\"391,-1148 275,-1148 275,-1080 391,-1080 391,-1148\"/>\n",
       "<text text-anchor=\"middle\" x=\"333\" y=\"-1132.8\" font-family=\"Times,serif\" font-size=\"14.00\">[16]</text>\n",
       "<text text-anchor=\"middle\" x=\"333\" y=\"-1117.8\" font-family=\"Times,serif\" font-size=\"14.00\">KernelEmbedding</text>\n",
       "<text text-anchor=\"middle\" x=\"333\" y=\"-1102.8\" font-family=\"Times,serif\" font-size=\"14.00\">WithGiven</text>\n",
       "<text text-anchor=\"middle\" x=\"333\" y=\"-1087.8\" font-family=\"Times,serif\" font-size=\"14.00\">KernelObject</text>\n",
       "</g>\n",
       "<!-- 10&#45;&gt;16 -->\n",
       "<g id=\"edge29\" class=\"edge\">\n",
       "<title>10&#45;&gt;16</title>\n",
       "<path fill=\"none\" stroke=\"black\" d=\"M326.54,-1340.89C325.94,-1325.43 325.3,-1306.78 325,-1290 324.58,-1266.45 324.23,-1260.54 325,-1237 325.86,-1210.88 327.74,-1181.66 329.46,-1158.36\"/>\n",
       "<polygon fill=\"black\" stroke=\"black\" points=\"332.97,-1158.35 330.24,-1148.11 325.99,-1157.82 332.97,-1158.35\"/>\n",
       "<text text-anchor=\"middle\" x=\"328.5\" y=\"-1259.8\" font-family=\"Times,serif\" font-size=\"14.00\">1</text>\n",
       "</g>\n",
       "<!-- 11&#45;&gt;16 -->\n",
       "<g id=\"edge30\" class=\"edge\">\n",
       "<title>11&#45;&gt;16</title>\n",
       "<path fill=\"none\" stroke=\"black\" d=\"M361.9,-1236.81C356.75,-1215.09 349.26,-1183.53 343.2,-1157.98\"/>\n",
       "<polygon fill=\"black\" stroke=\"black\" points=\"346.58,-1157.08 340.87,-1148.16 339.77,-1158.7 346.58,-1157.08\"/>\n",
       "<text text-anchor=\"middle\" x=\"360.5\" y=\"-1188.8\" font-family=\"Times,serif\" font-size=\"14.00\">2</text>\n",
       "</g>\n",
       "<!-- 12 -->\n",
       "<g id=\"node12\" class=\"node\">\n",
       "<title>12</title>\n",
       "<polygon fill=\"none\" stroke=\"black\" points=\"870.5,-1528 803.5,-1528 803.5,-1460 870.5,-1460 870.5,-1528\"/>\n",
       "<text text-anchor=\"middle\" x=\"837\" y=\"-1512.8\" font-family=\"Times,serif\" font-size=\"14.00\">[12]</text>\n",
       "<text text-anchor=\"middle\" x=\"837\" y=\"-1497.8\" font-family=\"Times,serif\" font-size=\"14.00\">primitive</text>\n",
       "<text text-anchor=\"middle\" x=\"837\" y=\"-1482.8\" font-family=\"Times,serif\" font-size=\"14.00\">object</text>\n",
       "<text text-anchor=\"middle\" x=\"837\" y=\"-1467.8\" font-family=\"Times,serif\" font-size=\"14.00\">&lt;C&gt;</text>\n",
       "</g>\n",
       "<!-- 20 -->\n",
       "<g id=\"node20\" class=\"node\">\n",
       "<title>20</title>\n",
       "<polygon fill=\"none\" stroke=\"black\" points=\"875,-1401.5 801,-1401.5 801,-1348.5 875,-1348.5 875,-1401.5\"/>\n",
       "<text text-anchor=\"middle\" x=\"838\" y=\"-1386.3\" font-family=\"Times,serif\" font-size=\"14.00\">[20]</text>\n",
       "<text text-anchor=\"middle\" x=\"838\" y=\"-1371.3\" font-family=\"Times,serif\" font-size=\"14.00\">Identity</text>\n",
       "<text text-anchor=\"middle\" x=\"838\" y=\"-1356.3\" font-family=\"Times,serif\" font-size=\"14.00\">Morphism</text>\n",
       "</g>\n",
       "<!-- 12&#45;&gt;20 -->\n",
       "<g id=\"edge31\" class=\"edge\">\n",
       "<title>12&#45;&gt;20</title>\n",
       "<path fill=\"none\" stroke=\"black\" d=\"M837.28,-1459.79C837.41,-1444.85 837.56,-1427.2 837.69,-1411.96\"/>\n",
       "<polygon fill=\"black\" stroke=\"black\" points=\"841.19,-1411.89 837.78,-1401.86 834.19,-1411.83 841.19,-1411.89\"/>\n",
       "</g>\n",
       "<!-- 13&#45;&gt;14 -->\n",
       "<g id=\"edge32\" class=\"edge\">\n",
       "<title>13&#45;&gt;14</title>\n",
       "<path fill=\"none\" stroke=\"black\" d=\"M540.07,-1586.32C548.94,-1567.45 560.98,-1541.83 570.06,-1522.54\"/>\n",
       "<polygon fill=\"black\" stroke=\"black\" points=\"573.28,-1523.9 574.37,-1513.36 566.95,-1520.92 573.28,-1523.9\"/>\n",
       "<text text-anchor=\"middle\" x=\"561.5\" y=\"-1549.8\" font-family=\"Times,serif\" font-size=\"14.00\">1</text>\n",
       "</g>\n",
       "<!-- 13&#45;&gt;19 -->\n",
       "<g id=\"edge33\" class=\"edge\">\n",
       "<title>13&#45;&gt;19</title>\n",
       "<path fill=\"none\" stroke=\"black\" d=\"M521.02,-1586.23C513.69,-1552.91 506.95,-1495 537,-1460 561.87,-1431.03 587.2,-1459.75 621,-1442 636.68,-1433.77 651.37,-1421.04 663.21,-1408.95\"/>\n",
       "<polygon fill=\"black\" stroke=\"black\" points=\"665.88,-1411.22 670.2,-1401.55 660.79,-1406.41 665.88,-1411.22\"/>\n",
       "<text text-anchor=\"middle\" x=\"540.5\" y=\"-1490.3\" font-family=\"Times,serif\" font-size=\"14.00\">1</text>\n",
       "</g>\n",
       "<!-- 13&#45;&gt;22 -->\n",
       "<g id=\"edge34\" class=\"edge\">\n",
       "<title>13&#45;&gt;22</title>\n",
       "<path fill=\"none\" stroke=\"black\" d=\"M517.16,-1586.39C510.73,-1570 503.06,-1548.11 499,-1528 491.09,-1488.81 489.04,-1442.9 488.68,-1411.87\"/>\n",
       "<polygon fill=\"black\" stroke=\"black\" points=\"492.18,-1411.53 488.62,-1401.55 485.18,-1411.57 492.18,-1411.53\"/>\n",
       "<text text-anchor=\"middle\" x=\"502.5\" y=\"-1490.3\" font-family=\"Times,serif\" font-size=\"14.00\">1</text>\n",
       "</g>\n",
       "<!-- 14&#45;&gt;19 -->\n",
       "<g id=\"edge35\" class=\"edge\">\n",
       "<title>14&#45;&gt;19</title>\n",
       "<path fill=\"none\" stroke=\"black\" d=\"M607.47,-1474.74C624.76,-1461.72 645.46,-1445.88 649,-1442 657.66,-1432.52 665.65,-1421.04 672.28,-1410.33\"/>\n",
       "<polygon fill=\"black\" stroke=\"black\" points=\"675.39,-1411.96 677.52,-1401.58 669.38,-1408.36 675.39,-1411.96\"/>\n",
       "<text text-anchor=\"middle\" x=\"664.5\" y=\"-1430.8\" font-family=\"Times,serif\" font-size=\"14.00\">3</text>\n",
       "</g>\n",
       "<!-- 14&#45;&gt;22 -->\n",
       "<g id=\"edge36\" class=\"edge\">\n",
       "<title>14&#45;&gt;22</title>\n",
       "<path fill=\"none\" stroke=\"black\" d=\"M568.52,-1474.98C554.54,-1457.58 533.05,-1430.83 515.93,-1409.52\"/>\n",
       "<polygon fill=\"black\" stroke=\"black\" points=\"518.6,-1407.25 509.61,-1401.65 513.14,-1411.64 518.6,-1407.25\"/>\n",
       "<text text-anchor=\"middle\" x=\"544.5\" y=\"-1430.8\" font-family=\"Times,serif\" font-size=\"14.00\">3</text>\n",
       "</g>\n",
       "<!-- 23 -->\n",
       "<g id=\"node23\" class=\"node\">\n",
       "<title>23</title>\n",
       "<polygon fill=\"none\" stroke=\"black\" points=\"367,-1021.5 299,-1021.5 299,-968.5 367,-968.5 367,-1021.5\"/>\n",
       "<text text-anchor=\"middle\" x=\"333\" y=\"-1006.3\" font-family=\"Times,serif\" font-size=\"14.00\">[23]</text>\n",
       "<text text-anchor=\"middle\" x=\"333\" y=\"-991.3\" font-family=\"Times,serif\" font-size=\"14.00\">Pre</text>\n",
       "<text text-anchor=\"middle\" x=\"333\" y=\"-976.3\" font-family=\"Times,serif\" font-size=\"14.00\">Compose</text>\n",
       "</g>\n",
       "<!-- 15&#45;&gt;23 -->\n",
       "<g id=\"edge37\" class=\"edge\">\n",
       "<title>15&#45;&gt;23</title>\n",
       "<path fill=\"none\" stroke=\"black\" d=\"M84.41,-1697.92C62.65,-1677.76 38,-1647.52 38,-1614 38,-1614 38,-1614 38,-1113 38,-1059.7 206.5,-1020.14 288.8,-1003.99\"/>\n",
       "<polygon fill=\"black\" stroke=\"black\" points=\"289.72,-1007.38 298.87,-1002.05 288.39,-1000.51 289.72,-1007.38\"/>\n",
       "<text text-anchor=\"middle\" x=\"41.5\" y=\"-1371.3\" font-family=\"Times,serif\" font-size=\"14.00\">2</text>\n",
       "</g>\n",
       "<!-- 16&#45;&gt;23 -->\n",
       "<g id=\"edge38\" class=\"edge\">\n",
       "<title>16&#45;&gt;23</title>\n",
       "<path fill=\"none\" stroke=\"black\" d=\"M333,-1079.79C333,-1064.85 333,-1047.2 333,-1031.96\"/>\n",
       "<polygon fill=\"black\" stroke=\"black\" points=\"336.5,-1031.86 333,-1021.86 329.5,-1031.86 336.5,-1031.86\"/>\n",
       "<text text-anchor=\"middle\" x=\"336.5\" y=\"-1050.8\" font-family=\"Times,serif\" font-size=\"14.00\">1</text>\n",
       "</g>\n",
       "<!-- 17&#45;&gt;24 -->\n",
       "<g id=\"edge39\" class=\"edge\">\n",
       "<title>17&#45;&gt;24</title>\n",
       "<path fill=\"none\" stroke=\"black\" d=\"M933.09,-1467.32C938.71,-1453.04 945.84,-1434.9 952.27,-1418.55\"/>\n",
       "<polygon fill=\"black\" stroke=\"black\" points=\"955.55,-1419.77 955.95,-1409.18 949.04,-1417.21 955.55,-1419.77\"/>\n",
       "<text text-anchor=\"middle\" x=\"951.5\" y=\"-1430.8\" font-family=\"Times,serif\" font-size=\"14.00\">2</text>\n",
       "</g>\n",
       "<!-- 18&#45;&gt;24 -->\n",
       "<g id=\"edge40\" class=\"edge\">\n",
       "<title>18&#45;&gt;24</title>\n",
       "<path fill=\"none\" stroke=\"black\" d=\"M1064.23,-1467.32C1048.64,-1452.37 1028.64,-1433.19 1011,-1416.28\"/>\n",
       "<polygon fill=\"black\" stroke=\"black\" points=\"1013.24,-1413.58 1003.6,-1409.18 1008.39,-1418.63 1013.24,-1413.58\"/>\n",
       "<text text-anchor=\"middle\" x=\"1040.5\" y=\"-1430.8\" font-family=\"Times,serif\" font-size=\"14.00\">3</text>\n",
       "</g>\n",
       "<!-- 18&#45;&gt;27 -->\n",
       "<g id=\"edge41\" class=\"edge\">\n",
       "<title>18&#45;&gt;27</title>\n",
       "<path fill=\"none\" stroke=\"black\" d=\"M1090.78,-1467.32C1090.66,-1453.31 1090.51,-1435.58 1090.37,-1419.47\"/>\n",
       "<polygon fill=\"black\" stroke=\"black\" points=\"1093.87,-1419.15 1090.28,-1409.18 1086.87,-1419.21 1093.87,-1419.15\"/>\n",
       "<text text-anchor=\"middle\" x=\"1093.5\" y=\"-1430.8\" font-family=\"Times,serif\" font-size=\"14.00\">2</text>\n",
       "</g>\n",
       "<!-- 21 -->\n",
       "<g id=\"node21\" class=\"node\">\n",
       "<title>21</title>\n",
       "<polygon fill=\"none\" stroke=\"black\" points=\"778,-1282.5 718,-1282.5 718,-1244.5 778,-1244.5 778,-1282.5\"/>\n",
       "<text text-anchor=\"middle\" x=\"748\" y=\"-1267.3\" font-family=\"Times,serif\" font-size=\"14.00\">[21]</text>\n",
       "<text text-anchor=\"middle\" x=\"748\" y=\"-1252.3\" font-family=\"Times,serif\" font-size=\"14.00\">Pushout</text>\n",
       "</g>\n",
       "<!-- 19&#45;&gt;21 -->\n",
       "<g id=\"edge42\" class=\"edge\">\n",
       "<title>19&#45;&gt;21</title>\n",
       "<path fill=\"none\" stroke=\"black\" d=\"M704.36,-1348.33C713.19,-1331.37 724.75,-1309.16 733.75,-1291.87\"/>\n",
       "<polygon fill=\"black\" stroke=\"black\" points=\"736.95,-1293.31 738.46,-1282.83 730.74,-1290.08 736.95,-1293.31\"/>\n",
       "<text text-anchor=\"middle\" x=\"727.5\" y=\"-1311.8\" font-family=\"Times,serif\" font-size=\"14.00\">1</text>\n",
       "</g>\n",
       "<!-- 26 -->\n",
       "<g id=\"node26\" class=\"node\">\n",
       "<title>26</title>\n",
       "<polygon fill=\"none\" stroke=\"black\" points=\"940,-1140.5 756,-1140.5 756,-1087.5 940,-1087.5 940,-1140.5\"/>\n",
       "<text text-anchor=\"middle\" x=\"848\" y=\"-1125.3\" font-family=\"Times,serif\" font-size=\"14.00\">[26]</text>\n",
       "<text text-anchor=\"middle\" x=\"848\" y=\"-1110.3\" font-family=\"Times,serif\" font-size=\"14.00\">InjectionOfCofactorOfPushout</text>\n",
       "<text text-anchor=\"middle\" x=\"848\" y=\"-1095.3\" font-family=\"Times,serif\" font-size=\"14.00\">WithGivenPushout( 2 )</text>\n",
       "</g>\n",
       "<!-- 19&#45;&gt;26 -->\n",
       "<g id=\"edge43\" class=\"edge\">\n",
       "<title>19&#45;&gt;26</title>\n",
       "<path fill=\"none\" stroke=\"black\" d=\"M687.96,-1348.44C685.69,-1319.89 685.39,-1272.96 702,-1237 720.06,-1197.91 757.58,-1167 790.06,-1146.07\"/>\n",
       "<polygon fill=\"black\" stroke=\"black\" points=\"792.02,-1148.98 798.63,-1140.7 788.3,-1143.04 792.02,-1148.98\"/>\n",
       "<text text-anchor=\"middle\" x=\"705.5\" y=\"-1259.8\" font-family=\"Times,serif\" font-size=\"14.00\">1</text>\n",
       "</g>\n",
       "<!-- 28 -->\n",
       "<g id=\"node28\" class=\"node\">\n",
       "<title>28</title>\n",
       "<polygon fill=\"none\" stroke=\"black\" points=\"738,-1140.5 554,-1140.5 554,-1087.5 738,-1087.5 738,-1140.5\"/>\n",
       "<text text-anchor=\"middle\" x=\"646\" y=\"-1125.3\" font-family=\"Times,serif\" font-size=\"14.00\">[28]</text>\n",
       "<text text-anchor=\"middle\" x=\"646\" y=\"-1110.3\" font-family=\"Times,serif\" font-size=\"14.00\">InjectionOfCofactorOfPushout</text>\n",
       "<text text-anchor=\"middle\" x=\"646\" y=\"-1095.3\" font-family=\"Times,serif\" font-size=\"14.00\">WithGivenPushout( 1 )</text>\n",
       "</g>\n",
       "<!-- 19&#45;&gt;28 -->\n",
       "<g id=\"edge44\" class=\"edge\">\n",
       "<title>19&#45;&gt;28</title>\n",
       "<path fill=\"none\" stroke=\"black\" d=\"M681.19,-1348.27C675.31,-1331.83 668.18,-1309.94 664,-1290 654.06,-1242.59 649.53,-1186.76 647.52,-1151.14\"/>\n",
       "<polygon fill=\"black\" stroke=\"black\" points=\"650.99,-1150.56 646.97,-1140.76 644,-1150.93 650.99,-1150.56\"/>\n",
       "<text text-anchor=\"middle\" x=\"667.5\" y=\"-1259.8\" font-family=\"Times,serif\" font-size=\"14.00\">1</text>\n",
       "</g>\n",
       "<!-- 20&#45;&gt;21 -->\n",
       "<g id=\"edge45\" class=\"edge\">\n",
       "<title>20&#45;&gt;21</title>\n",
       "<path fill=\"none\" stroke=\"black\" d=\"M814.77,-1348.35C807.66,-1340.33 799.91,-1331.38 793,-1323 784.47,-1312.65 775.39,-1300.98 767.64,-1290.8\"/>\n",
       "<polygon fill=\"black\" stroke=\"black\" points=\"770.3,-1288.53 761.48,-1282.67 764.72,-1292.75 770.3,-1288.53\"/>\n",
       "<text text-anchor=\"middle\" x=\"796.5\" y=\"-1311.8\" font-family=\"Times,serif\" font-size=\"14.00\">2</text>\n",
       "</g>\n",
       "<!-- 20&#45;&gt;26 -->\n",
       "<g id=\"edge46\" class=\"edge\">\n",
       "<title>20&#45;&gt;26</title>\n",
       "<path fill=\"none\" stroke=\"black\" d=\"M839,-1348.22C840.79,-1301.77 844.57,-1203.96 846.61,-1150.96\"/>\n",
       "<polygon fill=\"black\" stroke=\"black\" points=\"850.12,-1150.8 847.01,-1140.68 843.13,-1150.53 850.12,-1150.8\"/>\n",
       "<text text-anchor=\"middle\" x=\"846.5\" y=\"-1259.8\" font-family=\"Times,serif\" font-size=\"14.00\">2</text>\n",
       "</g>\n",
       "<!-- 20&#45;&gt;28 -->\n",
       "<g id=\"edge47\" class=\"edge\">\n",
       "<title>20&#45;&gt;28</title>\n",
       "<path fill=\"none\" stroke=\"black\" d=\"M831.28,-1348.37C823.2,-1319.96 808.05,-1273.35 787,-1237 766.44,-1201.49 758.93,-1192.96 728,-1166 719.87,-1158.92 710.65,-1152.17 701.4,-1146.04\"/>\n",
       "<polygon fill=\"black\" stroke=\"black\" points=\"703.24,-1143.06 692.93,-1140.6 699.45,-1148.95 703.24,-1143.06\"/>\n",
       "<text text-anchor=\"middle\" x=\"814.5\" y=\"-1259.8\" font-family=\"Times,serif\" font-size=\"14.00\">2</text>\n",
       "</g>\n",
       "<!-- 21&#45;&gt;26 -->\n",
       "<g id=\"edge48\" class=\"edge\">\n",
       "<title>21&#45;&gt;26</title>\n",
       "<path fill=\"none\" stroke=\"black\" d=\"M760.26,-1244.41C776.31,-1220.75 804.75,-1178.8 824.89,-1149.08\"/>\n",
       "<polygon fill=\"black\" stroke=\"black\" points=\"827.88,-1150.91 830.6,-1140.67 822.09,-1146.98 827.88,-1150.91\"/>\n",
       "<text text-anchor=\"middle\" x=\"815.5\" y=\"-1188.8\" font-family=\"Times,serif\" font-size=\"14.00\">3</text>\n",
       "</g>\n",
       "<!-- 21&#45;&gt;28 -->\n",
       "<g id=\"edge49\" class=\"edge\">\n",
       "<title>21&#45;&gt;28</title>\n",
       "<path fill=\"none\" stroke=\"black\" d=\"M735.49,-1244.41C719.13,-1220.75 690.12,-1178.8 669.57,-1149.08\"/>\n",
       "<polygon fill=\"black\" stroke=\"black\" points=\"672.32,-1146.91 663.75,-1140.67 666.56,-1150.89 672.32,-1146.91\"/>\n",
       "<text text-anchor=\"middle\" x=\"720.5\" y=\"-1188.8\" font-family=\"Times,serif\" font-size=\"14.00\">3</text>\n",
       "</g>\n",
       "<!-- 29 -->\n",
       "<g id=\"node29\" class=\"node\">\n",
       "<title>29</title>\n",
       "<polygon fill=\"none\" stroke=\"black\" points=\"523,-910 455,-910 455,-857 523,-857 523,-910\"/>\n",
       "<text text-anchor=\"middle\" x=\"489\" y=\"-894.8\" font-family=\"Times,serif\" font-size=\"14.00\">[29]</text>\n",
       "<text text-anchor=\"middle\" x=\"489\" y=\"-879.8\" font-family=\"Times,serif\" font-size=\"14.00\">Pre</text>\n",
       "<text text-anchor=\"middle\" x=\"489\" y=\"-864.8\" font-family=\"Times,serif\" font-size=\"14.00\">Compose</text>\n",
       "</g>\n",
       "<!-- 22&#45;&gt;29 -->\n",
       "<g id=\"edge50\" class=\"edge\">\n",
       "<title>22&#45;&gt;29</title>\n",
       "<path fill=\"none\" stroke=\"black\" d=\"M489,-1348.34C489,-1326.14 489,-1293.21 489,-1264.5 489,-1264.5 489,-1264.5 489,-994 489,-969.44 489,-941.79 489,-920.41\"/>\n",
       "<polygon fill=\"black\" stroke=\"black\" points=\"492.5,-920.16 489,-910.16 485.5,-920.16 492.5,-920.16\"/>\n",
       "<text text-anchor=\"middle\" x=\"492.5\" y=\"-1110.3\" font-family=\"Times,serif\" font-size=\"14.00\">2</text>\n",
       "</g>\n",
       "<!-- 23&#45;&gt;29 -->\n",
       "<g id=\"edge51\" class=\"edge\">\n",
       "<title>23&#45;&gt;29</title>\n",
       "<path fill=\"none\" stroke=\"black\" d=\"M367.23,-969.97C390.6,-953.57 421.72,-931.73 446.65,-914.23\"/>\n",
       "<polygon fill=\"black\" stroke=\"black\" points=\"448.67,-917.08 454.84,-908.47 444.65,-911.35 448.67,-917.08\"/>\n",
       "<text text-anchor=\"middle\" x=\"427.5\" y=\"-931.8\" font-family=\"Times,serif\" font-size=\"14.00\">1</text>\n",
       "</g>\n",
       "<!-- 25 -->\n",
       "<g id=\"node25\" class=\"node\">\n",
       "<title>25</title>\n",
       "<polygon fill=\"none\" stroke=\"black\" points=\"992,-1219 926,-1219 926,-1166 992,-1166 992,-1219\"/>\n",
       "<text text-anchor=\"middle\" x=\"959\" y=\"-1203.8\" font-family=\"Times,serif\" font-size=\"14.00\">[25]</text>\n",
       "<text text-anchor=\"middle\" x=\"959\" y=\"-1188.8\" font-family=\"Times,serif\" font-size=\"14.00\">Cokernel</text>\n",
       "<text text-anchor=\"middle\" x=\"959\" y=\"-1173.8\" font-family=\"Times,serif\" font-size=\"14.00\">Object</text>\n",
       "</g>\n",
       "<!-- 24&#45;&gt;25 -->\n",
       "<g id=\"edge52\" class=\"edge\">\n",
       "<title>24&#45;&gt;25</title>\n",
       "<path fill=\"none\" stroke=\"black\" d=\"M967.17,-1340.89C965.42,-1309.35 962.79,-1261.98 960.99,-1229.5\"/>\n",
       "<polygon fill=\"black\" stroke=\"black\" points=\"964.47,-1228.9 960.42,-1219.11 957.48,-1229.29 964.47,-1228.9\"/>\n",
       "</g>\n",
       "<!-- 31 -->\n",
       "<g id=\"node31\" class=\"node\">\n",
       "<title>31</title>\n",
       "<polygon fill=\"none\" stroke=\"black\" points=\"1037,-1029 915,-1029 915,-961 1037,-961 1037,-1029\"/>\n",
       "<text text-anchor=\"middle\" x=\"976\" y=\"-1013.8\" font-family=\"Times,serif\" font-size=\"14.00\">[31]</text>\n",
       "<text text-anchor=\"middle\" x=\"976\" y=\"-998.8\" font-family=\"Times,serif\" font-size=\"14.00\">CokernelProjection</text>\n",
       "<text text-anchor=\"middle\" x=\"976\" y=\"-983.8\" font-family=\"Times,serif\" font-size=\"14.00\">WithGiven</text>\n",
       "<text text-anchor=\"middle\" x=\"976\" y=\"-968.8\" font-family=\"Times,serif\" font-size=\"14.00\">CokernelObject</text>\n",
       "</g>\n",
       "<!-- 24&#45;&gt;31 -->\n",
       "<g id=\"edge53\" class=\"edge\">\n",
       "<title>24&#45;&gt;31</title>\n",
       "<path fill=\"none\" stroke=\"black\" d=\"M975.8,-1340.86C976.93,-1334.92 978.04,-1328.79 979,-1323 986.6,-1276.98 989.88,-1265.53 993,-1219 998.12,-1142.62 992.82,-1123.04 984,-1047 983.71,-1044.47 983.38,-1041.87 983.03,-1039.25\"/>\n",
       "<polygon fill=\"black\" stroke=\"black\" points=\"986.47,-1038.55 981.59,-1029.14 979.53,-1039.54 986.47,-1038.55\"/>\n",
       "<text text-anchor=\"middle\" x=\"998.5\" y=\"-1188.8\" font-family=\"Times,serif\" font-size=\"14.00\">1</text>\n",
       "</g>\n",
       "<!-- 25&#45;&gt;31 -->\n",
       "<g id=\"edge54\" class=\"edge\">\n",
       "<title>25&#45;&gt;31</title>\n",
       "<path fill=\"none\" stroke=\"black\" d=\"M961.22,-1165.94C964.02,-1133.73 968.88,-1077.9 972.26,-1039.05\"/>\n",
       "<polygon fill=\"black\" stroke=\"black\" points=\"975.74,-1039.34 973.12,-1029.08 968.77,-1038.74 975.74,-1039.34\"/>\n",
       "<text text-anchor=\"middle\" x=\"971.5\" y=\"-1110.3\" font-family=\"Times,serif\" font-size=\"14.00\">2</text>\n",
       "</g>\n",
       "<!-- 30 -->\n",
       "<g id=\"node30\" class=\"node\">\n",
       "<title>30</title>\n",
       "<polygon fill=\"none\" stroke=\"black\" points=\"1123,-1021.5 1055,-1021.5 1055,-968.5 1123,-968.5 1123,-1021.5\"/>\n",
       "<text text-anchor=\"middle\" x=\"1089\" y=\"-1006.3\" font-family=\"Times,serif\" font-size=\"14.00\">[30]</text>\n",
       "<text text-anchor=\"middle\" x=\"1089\" y=\"-991.3\" font-family=\"Times,serif\" font-size=\"14.00\">Pre</text>\n",
       "<text text-anchor=\"middle\" x=\"1089\" y=\"-976.3\" font-family=\"Times,serif\" font-size=\"14.00\">Compose</text>\n",
       "</g>\n",
       "<!-- 26&#45;&gt;30 -->\n",
       "<g id=\"edge55\" class=\"edge\">\n",
       "<title>26&#45;&gt;30</title>\n",
       "<path fill=\"none\" stroke=\"black\" d=\"M920.2,-1087.45C958.68,-1072.6 1006.16,-1052.23 1046,-1029 1046.93,-1028.45 1047.87,-1027.89 1048.81,-1027.31\"/>\n",
       "<polygon fill=\"black\" stroke=\"black\" points=\"1050.79,-1030.21 1057.22,-1021.78 1046.94,-1024.36 1050.79,-1030.21\"/>\n",
       "<text text-anchor=\"middle\" x=\"1012.5\" y=\"-1050.8\" font-family=\"Times,serif\" font-size=\"14.00\">2</text>\n",
       "</g>\n",
       "<!-- 27&#45;&gt;30 -->\n",
       "<g id=\"edge56\" class=\"edge\">\n",
       "<title>27&#45;&gt;30</title>\n",
       "<path fill=\"none\" stroke=\"black\" d=\"M1089.91,-1340.79C1089.72,-1270.04 1089.29,-1105 1089.1,-1031.92\"/>\n",
       "<polygon fill=\"black\" stroke=\"black\" points=\"1092.59,-1031.82 1089.07,-1021.83 1085.59,-1031.83 1092.59,-1031.82\"/>\n",
       "<text text-anchor=\"middle\" x=\"1092.5\" y=\"-1188.8\" font-family=\"Times,serif\" font-size=\"14.00\">1</text>\n",
       "</g>\n",
       "<!-- 34 -->\n",
       "<g id=\"node34\" class=\"node\">\n",
       "<title>34</title>\n",
       "<polygon fill=\"none\" stroke=\"black\" points=\"680,-806 612,-806 612,-753 680,-753 680,-806\"/>\n",
       "<text text-anchor=\"middle\" x=\"646\" y=\"-790.8\" font-family=\"Times,serif\" font-size=\"14.00\">[34]</text>\n",
       "<text text-anchor=\"middle\" x=\"646\" y=\"-775.8\" font-family=\"Times,serif\" font-size=\"14.00\">Pre</text>\n",
       "<text text-anchor=\"middle\" x=\"646\" y=\"-760.8\" font-family=\"Times,serif\" font-size=\"14.00\">Compose</text>\n",
       "</g>\n",
       "<!-- 28&#45;&gt;34 -->\n",
       "<g id=\"edge57\" class=\"edge\">\n",
       "<title>28&#45;&gt;34</title>\n",
       "<path fill=\"none\" stroke=\"black\" d=\"M646,-1087.46C646,-1028.71 646,-883.85 646,-816.28\"/>\n",
       "<polygon fill=\"black\" stroke=\"black\" points=\"649.5,-816.13 646,-806.13 642.5,-816.13 649.5,-816.13\"/>\n",
       "<text text-anchor=\"middle\" x=\"649.5\" y=\"-931.8\" font-family=\"Times,serif\" font-size=\"14.00\">2</text>\n",
       "</g>\n",
       "<!-- 29&#45;&gt;34 -->\n",
       "<g id=\"edge58\" class=\"edge\">\n",
       "<title>29&#45;&gt;34</title>\n",
       "<path fill=\"none\" stroke=\"black\" d=\"M523.07,-860.37C546.62,-845.06 578.14,-824.59 603.36,-808.2\"/>\n",
       "<polygon fill=\"black\" stroke=\"black\" points=\"605.52,-810.97 612,-802.59 601.71,-805.1 605.52,-810.97\"/>\n",
       "<text text-anchor=\"middle\" x=\"579.5\" y=\"-827.8\" font-family=\"Times,serif\" font-size=\"14.00\">1</text>\n",
       "</g>\n",
       "<!-- 32 -->\n",
       "<g id=\"node32\" class=\"node\">\n",
       "<title>32</title>\n",
       "<polygon fill=\"none\" stroke=\"black\" points=\"1104,-902.5 1044,-902.5 1044,-864.5 1104,-864.5 1104,-902.5\"/>\n",
       "<text text-anchor=\"middle\" x=\"1074\" y=\"-887.3\" font-family=\"Times,serif\" font-size=\"14.00\">[32]</text>\n",
       "<text text-anchor=\"middle\" x=\"1074\" y=\"-872.3\" font-family=\"Times,serif\" font-size=\"14.00\">Pushout</text>\n",
       "</g>\n",
       "<!-- 30&#45;&gt;32 -->\n",
       "<g id=\"edge59\" class=\"edge\">\n",
       "<title>30&#45;&gt;32</title>\n",
       "<path fill=\"none\" stroke=\"black\" d=\"M1085.48,-968.33C1083.2,-951.68 1080.23,-929.98 1077.88,-912.83\"/>\n",
       "<polygon fill=\"black\" stroke=\"black\" points=\"1081.34,-912.26 1076.51,-902.83 1074.4,-913.21 1081.34,-912.26\"/>\n",
       "<text text-anchor=\"middle\" x=\"1084.5\" y=\"-931.8\" font-family=\"Times,serif\" font-size=\"14.00\">1</text>\n",
       "</g>\n",
       "<!-- 33 -->\n",
       "<g id=\"node33\" class=\"node\">\n",
       "<title>33</title>\n",
       "<polygon fill=\"none\" stroke=\"black\" points=\"1025,-806 841,-806 841,-753 1025,-753 1025,-806\"/>\n",
       "<text text-anchor=\"middle\" x=\"933\" y=\"-790.8\" font-family=\"Times,serif\" font-size=\"14.00\">[33]</text>\n",
       "<text text-anchor=\"middle\" x=\"933\" y=\"-775.8\" font-family=\"Times,serif\" font-size=\"14.00\">InjectionOfCofactorOfPushout</text>\n",
       "<text text-anchor=\"middle\" x=\"933\" y=\"-760.8\" font-family=\"Times,serif\" font-size=\"14.00\">WithGivenPushout( 1 )</text>\n",
       "</g>\n",
       "<!-- 30&#45;&gt;33 -->\n",
       "<g id=\"edge60\" class=\"edge\">\n",
       "<title>30&#45;&gt;33</title>\n",
       "<path fill=\"none\" stroke=\"black\" d=\"M1057.2,-968.47C1048.75,-960.81 1040.03,-952.03 1033,-943 1006.37,-908.8 1009.76,-893.89 987,-857 978.18,-842.7 967.67,-827.48 958.29,-814.41\"/>\n",
       "<polygon fill=\"black\" stroke=\"black\" points=\"961.01,-812.2 952.31,-806.16 955.35,-816.31 961.01,-812.2\"/>\n",
       "<text text-anchor=\"middle\" x=\"1015.5\" y=\"-879.8\" font-family=\"Times,serif\" font-size=\"14.00\">1</text>\n",
       "</g>\n",
       "<!-- 35 -->\n",
       "<g id=\"node35\" class=\"node\">\n",
       "<title>35</title>\n",
       "<polygon fill=\"none\" stroke=\"black\" points=\"1227,-806 1043,-806 1043,-753 1227,-753 1227,-806\"/>\n",
       "<text text-anchor=\"middle\" x=\"1135\" y=\"-790.8\" font-family=\"Times,serif\" font-size=\"14.00\">[35]</text>\n",
       "<text text-anchor=\"middle\" x=\"1135\" y=\"-775.8\" font-family=\"Times,serif\" font-size=\"14.00\">InjectionOfCofactorOfPushout</text>\n",
       "<text text-anchor=\"middle\" x=\"1135\" y=\"-760.8\" font-family=\"Times,serif\" font-size=\"14.00\">WithGivenPushout( 2 )</text>\n",
       "</g>\n",
       "<!-- 30&#45;&gt;35 -->\n",
       "<g id=\"edge61\" class=\"edge\">\n",
       "<title>30&#45;&gt;35</title>\n",
       "<path fill=\"none\" stroke=\"black\" d=\"M1097.09,-968.45C1102.13,-951.9 1108.5,-929.82 1113,-910 1120.1,-878.73 1126.04,-842.74 1129.95,-816.65\"/>\n",
       "<polygon fill=\"black\" stroke=\"black\" points=\"1133.45,-816.87 1131.45,-806.46 1126.53,-815.85 1133.45,-816.87\"/>\n",
       "<text text-anchor=\"middle\" x=\"1126.5\" y=\"-879.8\" font-family=\"Times,serif\" font-size=\"14.00\">1</text>\n",
       "</g>\n",
       "<!-- 31&#45;&gt;32 -->\n",
       "<g id=\"edge62\" class=\"edge\">\n",
       "<title>31&#45;&gt;32</title>\n",
       "<path fill=\"none\" stroke=\"black\" d=\"M1005.67,-960.85C1020.25,-944.55 1037.56,-925.22 1051.1,-910.08\"/>\n",
       "<polygon fill=\"black\" stroke=\"black\" points=\"1053.75,-912.38 1057.81,-902.59 1048.53,-907.71 1053.75,-912.38\"/>\n",
       "<text text-anchor=\"middle\" x=\"1036.5\" y=\"-931.8\" font-family=\"Times,serif\" font-size=\"14.00\">2</text>\n",
       "</g>\n",
       "<!-- 31&#45;&gt;33 -->\n",
       "<g id=\"edge63\" class=\"edge\">\n",
       "<title>31&#45;&gt;33</title>\n",
       "<path fill=\"none\" stroke=\"black\" d=\"M962.67,-960.98C957.01,-945.7 950.84,-927.16 947,-910 940.02,-878.77 936.47,-842.5 934.7,-816.3\"/>\n",
       "<polygon fill=\"black\" stroke=\"black\" points=\"938.18,-815.85 934.07,-806.09 931.2,-816.28 938.18,-815.85\"/>\n",
       "<text text-anchor=\"middle\" x=\"950.5\" y=\"-879.8\" font-family=\"Times,serif\" font-size=\"14.00\">2</text>\n",
       "</g>\n",
       "<!-- 31&#45;&gt;35 -->\n",
       "<g id=\"edge64\" class=\"edge\">\n",
       "<title>31&#45;&gt;35</title>\n",
       "<path fill=\"none\" stroke=\"black\" d=\"M968.52,-960.79C963.77,-931.57 961.4,-888.86 979,-857 990.99,-835.3 1011.35,-819.65 1033.48,-808.4\"/>\n",
       "<polygon fill=\"black\" stroke=\"black\" points=\"1035.19,-811.46 1042.71,-804 1032.18,-805.14 1035.19,-811.46\"/>\n",
       "<text text-anchor=\"middle\" x=\"982.5\" y=\"-879.8\" font-family=\"Times,serif\" font-size=\"14.00\">2</text>\n",
       "</g>\n",
       "<!-- 32&#45;&gt;33 -->\n",
       "<g id=\"edge65\" class=\"edge\">\n",
       "<title>32&#45;&gt;33</title>\n",
       "<path fill=\"none\" stroke=\"black\" d=\"M1064.81,-864.39C1057.61,-851.69 1046.54,-835.06 1033,-824 1027.25,-819.31 1020.92,-815.03 1014.32,-811.15\"/>\n",
       "<polygon fill=\"black\" stroke=\"black\" points=\"1015.63,-807.88 1005.18,-806.12 1012.25,-814.01 1015.63,-807.88\"/>\n",
       "<text text-anchor=\"middle\" x=\"1049.5\" y=\"-827.8\" font-family=\"Times,serif\" font-size=\"14.00\">3</text>\n",
       "</g>\n",
       "<!-- 32&#45;&gt;35 -->\n",
       "<g id=\"edge66\" class=\"edge\">\n",
       "<title>32&#45;&gt;35</title>\n",
       "<path fill=\"none\" stroke=\"black\" d=\"M1084.91,-864.26C1093.06,-850.63 1104.45,-831.58 1114.32,-815.09\"/>\n",
       "<polygon fill=\"black\" stroke=\"black\" points=\"1117.48,-816.62 1119.61,-806.24 1111.47,-813.03 1117.48,-816.62\"/>\n",
       "<text text-anchor=\"middle\" x=\"1111.5\" y=\"-827.8\" font-family=\"Times,serif\" font-size=\"14.00\">3</text>\n",
       "</g>\n",
       "<!-- 37 -->\n",
       "<g id=\"node37\" class=\"node\">\n",
       "<title>37</title>\n",
       "<polygon fill=\"none\" stroke=\"black\" points=\"951,-604.5 883,-604.5 883,-551.5 951,-551.5 951,-604.5\"/>\n",
       "<text text-anchor=\"middle\" x=\"917\" y=\"-589.3\" font-family=\"Times,serif\" font-size=\"14.00\">[37]</text>\n",
       "<text text-anchor=\"middle\" x=\"917\" y=\"-574.3\" font-family=\"Times,serif\" font-size=\"14.00\">Pre</text>\n",
       "<text text-anchor=\"middle\" x=\"917\" y=\"-559.3\" font-family=\"Times,serif\" font-size=\"14.00\">Compose</text>\n",
       "</g>\n",
       "<!-- 33&#45;&gt;37 -->\n",
       "<g id=\"edge67\" class=\"edge\">\n",
       "<title>33&#45;&gt;37</title>\n",
       "<path fill=\"none\" stroke=\"black\" d=\"M930.94,-752.83C928.12,-717.66 923.04,-654.36 919.86,-614.63\"/>\n",
       "<polygon fill=\"black\" stroke=\"black\" points=\"923.34,-614.26 919.05,-604.57 916.36,-614.82 923.34,-614.26\"/>\n",
       "<text text-anchor=\"middle\" x=\"930.5\" y=\"-685.8\" font-family=\"Times,serif\" font-size=\"14.00\">2</text>\n",
       "</g>\n",
       "<!-- 34&#45;&gt;37 -->\n",
       "<g id=\"edge68\" class=\"edge\">\n",
       "<title>34&#45;&gt;37</title>\n",
       "<path fill=\"none\" stroke=\"black\" d=\"M680.05,-753.44C729.44,-717.08 820.9,-649.75 874.6,-610.22\"/>\n",
       "<polygon fill=\"black\" stroke=\"black\" points=\"876.9,-612.87 882.88,-604.12 872.75,-607.23 876.9,-612.87\"/>\n",
       "<text text-anchor=\"middle\" x=\"804.5\" y=\"-685.8\" font-family=\"Times,serif\" font-size=\"14.00\">1</text>\n",
       "</g>\n",
       "<!-- 36 -->\n",
       "<g id=\"node36\" class=\"node\">\n",
       "<title>36</title>\n",
       "<polygon fill=\"none\" stroke=\"black\" points=\"1162,-716 1108,-716 1108,-663 1162,-663 1162,-716\"/>\n",
       "<text text-anchor=\"middle\" x=\"1135\" y=\"-700.8\" font-family=\"Times,serif\" font-size=\"14.00\">[36]</text>\n",
       "<text text-anchor=\"middle\" x=\"1135\" y=\"-685.8\" font-family=\"Times,serif\" font-size=\"14.00\">Image</text>\n",
       "<text text-anchor=\"middle\" x=\"1135\" y=\"-670.8\" font-family=\"Times,serif\" font-size=\"14.00\">Object</text>\n",
       "</g>\n",
       "<!-- 35&#45;&gt;36 -->\n",
       "<g id=\"edge69\" class=\"edge\">\n",
       "<title>35&#45;&gt;36</title>\n",
       "<path fill=\"none\" stroke=\"black\" d=\"M1135,-752.57C1135,-744.34 1135,-735.08 1135,-726.28\"/>\n",
       "<polygon fill=\"black\" stroke=\"black\" points=\"1138.5,-726.24 1135,-716.24 1131.5,-726.24 1138.5,-726.24\"/>\n",
       "</g>\n",
       "<!-- 38 -->\n",
       "<g id=\"node38\" class=\"node\">\n",
       "<title>38</title>\n",
       "<polygon fill=\"none\" stroke=\"black\" points=\"1112,-612 998,-612 998,-544 1112,-544 1112,-612\"/>\n",
       "<text text-anchor=\"middle\" x=\"1055\" y=\"-596.8\" font-family=\"Times,serif\" font-size=\"14.00\">[38]</text>\n",
       "<text text-anchor=\"middle\" x=\"1055\" y=\"-581.8\" font-family=\"Times,serif\" font-size=\"14.00\">ImageEmbedding</text>\n",
       "<text text-anchor=\"middle\" x=\"1055\" y=\"-566.8\" font-family=\"Times,serif\" font-size=\"14.00\">WithGiven</text>\n",
       "<text text-anchor=\"middle\" x=\"1055\" y=\"-551.8\" font-family=\"Times,serif\" font-size=\"14.00\">ImageObject</text>\n",
       "</g>\n",
       "<!-- 35&#45;&gt;38 -->\n",
       "<g id=\"edge70\" class=\"edge\">\n",
       "<title>35&#45;&gt;38</title>\n",
       "<path fill=\"none\" stroke=\"black\" d=\"M1114.49,-752.93C1106.56,-742.05 1097.97,-728.91 1092,-716 1078.15,-686.06 1068.67,-649.96 1062.77,-622.34\"/>\n",
       "<polygon fill=\"black\" stroke=\"black\" points=\"1066.13,-621.28 1060.69,-612.2 1059.27,-622.7 1066.13,-621.28\"/>\n",
       "<text text-anchor=\"middle\" x=\"1095.5\" y=\"-685.8\" font-family=\"Times,serif\" font-size=\"14.00\">1</text>\n",
       "</g>\n",
       "<!-- 41 -->\n",
       "<g id=\"node41\" class=\"node\">\n",
       "<title>41</title>\n",
       "<polygon fill=\"none\" stroke=\"black\" points=\"1277.5,-604.5 1130.5,-604.5 1130.5,-551.5 1277.5,-551.5 1277.5,-604.5\"/>\n",
       "<text text-anchor=\"middle\" x=\"1204\" y=\"-589.3\" font-family=\"Times,serif\" font-size=\"14.00\">[41]</text>\n",
       "<text text-anchor=\"middle\" x=\"1204\" y=\"-574.3\" font-family=\"Times,serif\" font-size=\"14.00\">CoastrictionToImage</text>\n",
       "<text text-anchor=\"middle\" x=\"1204\" y=\"-559.3\" font-family=\"Times,serif\" font-size=\"14.00\">WithGivenImageObject</text>\n",
       "</g>\n",
       "<!-- 35&#45;&gt;41 -->\n",
       "<g id=\"edge71\" class=\"edge\">\n",
       "<title>35&#45;&gt;41</title>\n",
       "<path fill=\"none\" stroke=\"black\" d=\"M1151.98,-752.88C1158.67,-741.89 1165.94,-728.68 1171,-716 1184.22,-682.85 1193.09,-643 1198.27,-614.85\"/>\n",
       "<polygon fill=\"black\" stroke=\"black\" points=\"1201.78,-615.13 1200.08,-604.67 1194.89,-613.9 1201.78,-615.13\"/>\n",
       "<text text-anchor=\"middle\" x=\"1190.5\" y=\"-685.8\" font-family=\"Times,serif\" font-size=\"14.00\">1</text>\n",
       "</g>\n",
       "<!-- 36&#45;&gt;38 -->\n",
       "<g id=\"edge72\" class=\"edge\">\n",
       "<title>36&#45;&gt;38</title>\n",
       "<path fill=\"none\" stroke=\"black\" d=\"M1116.24,-662.83C1107.06,-650.25 1095.76,-634.79 1085.38,-620.59\"/>\n",
       "<polygon fill=\"black\" stroke=\"black\" points=\"1088.13,-618.41 1079.4,-612.4 1082.48,-622.54 1088.13,-618.41\"/>\n",
       "<text text-anchor=\"middle\" x=\"1105.5\" y=\"-633.8\" font-family=\"Times,serif\" font-size=\"14.00\">2</text>\n",
       "</g>\n",
       "<!-- 36&#45;&gt;41 -->\n",
       "<g id=\"edge73\" class=\"edge\">\n",
       "<title>36&#45;&gt;41</title>\n",
       "<path fill=\"none\" stroke=\"black\" d=\"M1151.18,-662.83C1160.52,-648 1172.39,-629.16 1182.51,-613.11\"/>\n",
       "<polygon fill=\"black\" stroke=\"black\" points=\"1185.55,-614.84 1187.92,-604.51 1179.63,-611.11 1185.55,-614.84\"/>\n",
       "<text text-anchor=\"middle\" x=\"1174.5\" y=\"-633.8\" font-family=\"Times,serif\" font-size=\"14.00\">2</text>\n",
       "</g>\n",
       "<!-- 39 -->\n",
       "<g id=\"node39\" class=\"node\">\n",
       "<title>39</title>\n",
       "<polygon fill=\"none\" stroke=\"black\" points=\"1001.5,-493 942.5,-493 942.5,-440 1001.5,-440 1001.5,-493\"/>\n",
       "<text text-anchor=\"middle\" x=\"972\" y=\"-477.8\" font-family=\"Times,serif\" font-size=\"14.00\">[39]</text>\n",
       "<text text-anchor=\"middle\" x=\"972\" y=\"-462.8\" font-family=\"Times,serif\" font-size=\"14.00\">Fiber</text>\n",
       "<text text-anchor=\"middle\" x=\"972\" y=\"-447.8\" font-family=\"Times,serif\" font-size=\"14.00\">Product</text>\n",
       "</g>\n",
       "<!-- 37&#45;&gt;39 -->\n",
       "<g id=\"edge74\" class=\"edge\">\n",
       "<title>37&#45;&gt;39</title>\n",
       "<path fill=\"none\" stroke=\"black\" d=\"M929.9,-551.33C937.27,-536.64 946.63,-518.01 954.65,-502.05\"/>\n",
       "<polygon fill=\"black\" stroke=\"black\" points=\"957.82,-503.52 959.19,-493.01 951.57,-500.38 957.82,-503.52\"/>\n",
       "<text text-anchor=\"middle\" x=\"952.5\" y=\"-514.8\" font-family=\"Times,serif\" font-size=\"14.00\">1</text>\n",
       "</g>\n",
       "<!-- 40 -->\n",
       "<g id=\"node40\" class=\"node\">\n",
       "<title>40</title>\n",
       "<polygon fill=\"none\" stroke=\"black\" points=\"1184.5,-351 981.5,-351 981.5,-298 1184.5,-298 1184.5,-351\"/>\n",
       "<text text-anchor=\"middle\" x=\"1083\" y=\"-335.8\" font-family=\"Times,serif\" font-size=\"14.00\">[40]</text>\n",
       "<text text-anchor=\"middle\" x=\"1083\" y=\"-320.8\" font-family=\"Times,serif\" font-size=\"14.00\">ProjectionInFactorOfFiberProduct</text>\n",
       "<text text-anchor=\"middle\" x=\"1083\" y=\"-305.8\" font-family=\"Times,serif\" font-size=\"14.00\">WithGivenFiberProduct( 1 )</text>\n",
       "</g>\n",
       "<!-- 37&#45;&gt;40 -->\n",
       "<g id=\"edge75\" class=\"edge\">\n",
       "<title>37&#45;&gt;40</title>\n",
       "<path fill=\"none\" stroke=\"black\" d=\"M913.51,-551.35C910.79,-522.72 909.92,-475.71 927,-440 944.83,-402.72 981.54,-374.83 1014.88,-355.91\"/>\n",
       "<polygon fill=\"black\" stroke=\"black\" points=\"1016.64,-358.94 1023.71,-351.06 1013.27,-352.81 1016.64,-358.94\"/>\n",
       "<text text-anchor=\"middle\" x=\"930.5\" y=\"-462.8\" font-family=\"Times,serif\" font-size=\"14.00\">1</text>\n",
       "</g>\n",
       "<!-- 42 -->\n",
       "<g id=\"node42\" class=\"node\">\n",
       "<title>42</title>\n",
       "<polygon fill=\"none\" stroke=\"black\" points=\"963.5,-351 760.5,-351 760.5,-298 963.5,-298 963.5,-351\"/>\n",
       "<text text-anchor=\"middle\" x=\"862\" y=\"-335.8\" font-family=\"Times,serif\" font-size=\"14.00\">[42]</text>\n",
       "<text text-anchor=\"middle\" x=\"862\" y=\"-320.8\" font-family=\"Times,serif\" font-size=\"14.00\">ProjectionInFactorOfFiberProduct</text>\n",
       "<text text-anchor=\"middle\" x=\"862\" y=\"-305.8\" font-family=\"Times,serif\" font-size=\"14.00\">WithGivenFiberProduct( 2 )</text>\n",
       "</g>\n",
       "<!-- 37&#45;&gt;42 -->\n",
       "<g id=\"edge76\" class=\"edge\">\n",
       "<title>37&#45;&gt;42</title>\n",
       "<path fill=\"none\" stroke=\"black\" d=\"M906.77,-551.25C900.58,-534.81 892.94,-512.92 888,-493 876.86,-448.09 869.59,-395.16 865.65,-361\"/>\n",
       "<polygon fill=\"black\" stroke=\"black\" points=\"869.12,-360.58 864.53,-351.04 862.17,-361.36 869.12,-360.58\"/>\n",
       "<text text-anchor=\"middle\" x=\"891.5\" y=\"-462.8\" font-family=\"Times,serif\" font-size=\"14.00\">1</text>\n",
       "</g>\n",
       "<!-- 38&#45;&gt;39 -->\n",
       "<g id=\"edge77\" class=\"edge\">\n",
       "<title>38&#45;&gt;39</title>\n",
       "<path fill=\"none\" stroke=\"black\" d=\"M1029.87,-543.85C1019.68,-530.4 1007.91,-514.88 997.67,-501.36\"/>\n",
       "<polygon fill=\"black\" stroke=\"black\" points=\"1000.34,-499.09 991.51,-493.24 994.76,-503.32 1000.34,-499.09\"/>\n",
       "<text text-anchor=\"middle\" x=\"1018.5\" y=\"-514.8\" font-family=\"Times,serif\" font-size=\"14.00\">2</text>\n",
       "</g>\n",
       "<!-- 38&#45;&gt;40 -->\n",
       "<g id=\"edge78\" class=\"edge\">\n",
       "<title>38&#45;&gt;40</title>\n",
       "<path fill=\"none\" stroke=\"black\" d=\"M1058.69,-543.86C1063.96,-496.52 1073.61,-409.87 1079.03,-361.17\"/>\n",
       "<polygon fill=\"black\" stroke=\"black\" points=\"1082.52,-361.41 1080.15,-351.09 1075.57,-360.64 1082.52,-361.41\"/>\n",
       "<text text-anchor=\"middle\" x=\"1072.5\" y=\"-462.8\" font-family=\"Times,serif\" font-size=\"14.00\">2</text>\n",
       "</g>\n",
       "<!-- 38&#45;&gt;42 -->\n",
       "<g id=\"edge79\" class=\"edge\">\n",
       "<title>38&#45;&gt;42</title>\n",
       "<path fill=\"none\" stroke=\"black\" d=\"M1048.49,-543.83C1041.9,-515.04 1029.94,-472.91 1011,-440 989.81,-403.18 980.69,-394.88 947,-369 941.13,-364.49 934.71,-360.22 928.13,-356.26\"/>\n",
       "<polygon fill=\"black\" stroke=\"black\" points=\"929.49,-353.01 919.07,-351.05 925.99,-359.07 929.49,-353.01\"/>\n",
       "<text text-anchor=\"middle\" x=\"1036.5\" y=\"-462.8\" font-family=\"Times,serif\" font-size=\"14.00\">2</text>\n",
       "</g>\n",
       "<!-- 39&#45;&gt;40 -->\n",
       "<g id=\"edge80\" class=\"edge\">\n",
       "<title>39&#45;&gt;40</title>\n",
       "<path fill=\"none\" stroke=\"black\" d=\"M992.36,-439.82C1010.35,-417.13 1036.72,-383.87 1056.38,-359.07\"/>\n",
       "<polygon fill=\"black\" stroke=\"black\" points=\"1059.3,-361.03 1062.77,-351.02 1053.81,-356.68 1059.3,-361.03\"/>\n",
       "<text text-anchor=\"middle\" x=\"1050.5\" y=\"-391.8\" font-family=\"Times,serif\" font-size=\"14.00\">3</text>\n",
       "</g>\n",
       "<!-- 39&#45;&gt;42 -->\n",
       "<g id=\"edge81\" class=\"edge\">\n",
       "<title>39&#45;&gt;42</title>\n",
       "<path fill=\"none\" stroke=\"black\" d=\"M951.82,-439.82C933.99,-417.13 907.86,-383.87 888.38,-359.07\"/>\n",
       "<polygon fill=\"black\" stroke=\"black\" points=\"890.98,-356.72 882.05,-351.02 885.47,-361.04 890.98,-356.72\"/>\n",
       "<text text-anchor=\"middle\" x=\"939.5\" y=\"-391.8\" font-family=\"Times,serif\" font-size=\"14.00\">3</text>\n",
       "</g>\n",
       "<!-- 43 -->\n",
       "<g id=\"node43\" class=\"node\">\n",
       "<title>43</title>\n",
       "<polygon fill=\"none\" stroke=\"black\" points=\"1121.5,-261 1044.5,-261 1044.5,-208 1121.5,-208 1121.5,-261\"/>\n",
       "<text text-anchor=\"middle\" x=\"1083\" y=\"-245.8\" font-family=\"Times,serif\" font-size=\"14.00\">[43]</text>\n",
       "<text text-anchor=\"middle\" x=\"1083\" y=\"-230.8\" font-family=\"Times,serif\" font-size=\"14.00\">Inverse</text>\n",
       "<text text-anchor=\"middle\" x=\"1083\" y=\"-215.8\" font-family=\"Times,serif\" font-size=\"14.00\">Immutable</text>\n",
       "</g>\n",
       "<!-- 40&#45;&gt;43 -->\n",
       "<g id=\"edge82\" class=\"edge\">\n",
       "<title>40&#45;&gt;43</title>\n",
       "<path fill=\"none\" stroke=\"black\" d=\"M1083,-297.57C1083,-289.34 1083,-280.08 1083,-271.28\"/>\n",
       "<polygon fill=\"black\" stroke=\"black\" points=\"1086.5,-271.24 1083,-261.24 1079.5,-271.24 1086.5,-271.24\"/>\n",
       "</g>\n",
       "<!-- 44 -->\n",
       "<g id=\"node44\" class=\"node\">\n",
       "<title>44</title>\n",
       "<polygon fill=\"none\" stroke=\"black\" points=\"1250.5,-422 1173.5,-422 1173.5,-369 1250.5,-369 1250.5,-422\"/>\n",
       "<text text-anchor=\"middle\" x=\"1212\" y=\"-406.8\" font-family=\"Times,serif\" font-size=\"14.00\">[44]</text>\n",
       "<text text-anchor=\"middle\" x=\"1212\" y=\"-391.8\" font-family=\"Times,serif\" font-size=\"14.00\">Inverse</text>\n",
       "<text text-anchor=\"middle\" x=\"1212\" y=\"-376.8\" font-family=\"Times,serif\" font-size=\"14.00\">Immutable</text>\n",
       "</g>\n",
       "<!-- 41&#45;&gt;44 -->\n",
       "<g id=\"edge83\" class=\"edge\">\n",
       "<title>41&#45;&gt;44</title>\n",
       "<path fill=\"none\" stroke=\"black\" d=\"M1205.15,-551.14C1206.53,-519.95 1208.86,-467.37 1210.41,-432.3\"/>\n",
       "<polygon fill=\"black\" stroke=\"black\" points=\"1213.92,-432.17 1210.87,-422.02 1206.93,-431.86 1213.92,-432.17\"/>\n",
       "</g>\n",
       "<!-- 45 -->\n",
       "<g id=\"node45\" class=\"node\">\n",
       "<title>45</title>\n",
       "<polygon fill=\"none\" stroke=\"black\" points=\"1117,-157 1049,-157 1049,-104 1117,-104 1117,-157\"/>\n",
       "<text text-anchor=\"middle\" x=\"1083\" y=\"-141.8\" font-family=\"Times,serif\" font-size=\"14.00\">[45]</text>\n",
       "<text text-anchor=\"middle\" x=\"1083\" y=\"-126.8\" font-family=\"Times,serif\" font-size=\"14.00\">Pre</text>\n",
       "<text text-anchor=\"middle\" x=\"1083\" y=\"-111.8\" font-family=\"Times,serif\" font-size=\"14.00\">Compose</text>\n",
       "</g>\n",
       "<!-- 42&#45;&gt;45 -->\n",
       "<g id=\"edge84\" class=\"edge\">\n",
       "<title>42&#45;&gt;45</title>\n",
       "<path fill=\"none\" stroke=\"black\" d=\"M891.81,-297.61C931.62,-263.01 1002.18,-201.71 1045.55,-164.04\"/>\n",
       "<polygon fill=\"black\" stroke=\"black\" points=\"1048.06,-166.49 1053.32,-157.29 1043.47,-161.21 1048.06,-166.49\"/>\n",
       "<text text-anchor=\"middle\" x=\"997.5\" y=\"-230.8\" font-family=\"Times,serif\" font-size=\"14.00\">2</text>\n",
       "</g>\n",
       "<!-- 43&#45;&gt;45 -->\n",
       "<g id=\"edge85\" class=\"edge\">\n",
       "<title>43&#45;&gt;45</title>\n",
       "<path fill=\"none\" stroke=\"black\" d=\"M1083,-207.76C1083,-195.56 1083,-180.78 1083,-167.49\"/>\n",
       "<polygon fill=\"black\" stroke=\"black\" points=\"1086.5,-167.23 1083,-157.23 1079.5,-167.23 1086.5,-167.23\"/>\n",
       "<text text-anchor=\"middle\" x=\"1086.5\" y=\"-178.8\" font-family=\"Times,serif\" font-size=\"14.00\">1</text>\n",
       "</g>\n",
       "<!-- 46 -->\n",
       "<g id=\"node46\" class=\"node\">\n",
       "<title>46</title>\n",
       "<polygon fill=\"none\" stroke=\"black\" points=\"1182,-53 1114,-53 1114,0 1182,0 1182,-53\"/>\n",
       "<text text-anchor=\"middle\" x=\"1148\" y=\"-37.8\" font-family=\"Times,serif\" font-size=\"14.00\">[46]</text>\n",
       "<text text-anchor=\"middle\" x=\"1148\" y=\"-22.8\" font-family=\"Times,serif\" font-size=\"14.00\">Pre</text>\n",
       "<text text-anchor=\"middle\" x=\"1148\" y=\"-7.8\" font-family=\"Times,serif\" font-size=\"14.00\">Compose</text>\n",
       "</g>\n",
       "<!-- 44&#45;&gt;46 -->\n",
       "<g id=\"edge86\" class=\"edge\">\n",
       "<title>44&#45;&gt;46</title>\n",
       "<path fill=\"none\" stroke=\"black\" d=\"M1212.36,-368.58C1212.64,-345.37 1213,-310.42 1213,-280 1213,-280 1213,-280 1213,-129.5 1213,-103.78 1198.12,-79.32 1182.59,-60.8\"/>\n",
       "<polygon fill=\"black\" stroke=\"black\" points=\"1185.18,-58.44 1175.94,-53.24 1179.92,-63.06 1185.18,-58.44\"/>\n",
       "<text text-anchor=\"middle\" x=\"1216.5\" y=\"-230.8\" font-family=\"Times,serif\" font-size=\"14.00\">2</text>\n",
       "</g>\n",
       "<!-- 45&#45;&gt;46 -->\n",
       "<g id=\"edge87\" class=\"edge\">\n",
       "<title>45&#45;&gt;46</title>\n",
       "<path fill=\"none\" stroke=\"black\" d=\"M1099.4,-103.76C1107.49,-91.08 1117.35,-75.6 1126.07,-61.92\"/>\n",
       "<polygon fill=\"black\" stroke=\"black\" points=\"1129.18,-63.54 1131.6,-53.23 1123.28,-59.78 1129.18,-63.54\"/>\n",
       "<text text-anchor=\"middle\" x=\"1122.5\" y=\"-74.8\" font-family=\"Times,serif\" font-size=\"14.00\">1</text>\n",
       "</g>\n",
       "</g>\n",
       "</svg>\n"
      ]
     },
     "metadata": {},
     "output_type": "display_data"
    }
   ],
   "source": [
    "VisualizeInJulia( s )"
   ]
  },
  {
   "cell_type": "code",
   "execution_count": 36,
   "metadata": {},
   "outputs": [
    {
     "data": {
      "text/plain": [
       "GAP: <A morphism in LazyCategory( Category of matrices over Q )>"
      ]
     },
     "execution_count": 36,
     "metadata": {},
     "output_type": "execute_result"
    }
   ],
   "source": [
    "j = KernelObjectFunctorial( b, d, e )"
   ]
  },
  {
   "cell_type": "code",
   "execution_count": 37,
   "metadata": {},
   "outputs": [
    {
     "data": {
      "text/plain": [
       "GAP: <A morphism in LazyCategory( Category of matrices over Q )>"
      ]
     },
     "execution_count": 37,
     "metadata": {},
     "output_type": "execute_result"
    }
   ],
   "source": [
    "k = CokernelObjectFunctorial( h, g, b )"
   ]
  },
  {
   "cell_type": "code",
   "execution_count": 38,
   "metadata": {},
   "outputs": [
    {
     "data": {
      "text/plain": [
       "GAP: <An object in LazyCategory( Category of matrices over Q )>"
      ]
     },
     "execution_count": 38,
     "metadata": {},
     "output_type": "execute_result"
    }
   ],
   "source": [
    "HK = HomologyObject( j, s )"
   ]
  },
  {
   "cell_type": "code",
   "execution_count": 39,
   "metadata": {},
   "outputs": [
    {
     "data": {
      "text/plain": [
       "GAP: <An object in LazyCategory( Category of matrices over Q )>"
      ]
     },
     "execution_count": 39,
     "metadata": {},
     "output_type": "execute_result"
    }
   ],
   "source": [
    "HC = HomologyObject( s, k )"
   ]
  },
  {
   "cell_type": "code",
   "execution_count": null,
   "metadata": {},
   "outputs": [],
   "source": []
  }
 ],
 "metadata": {
  "@webio": {
   "lastCommId": null,
   "lastKernelId": null
  },
  "kernelspec": {
   "display_name": "Julia 1.4.1",
   "language": "julia",
   "name": "julia-1.4"
  },
  "language_info": {
   "file_extension": ".jl",
   "mimetype": "application/julia",
   "name": "julia",
   "version": "1.4.1"
  }
 },
 "nbformat": 4,
 "nbformat_minor": 2
}
