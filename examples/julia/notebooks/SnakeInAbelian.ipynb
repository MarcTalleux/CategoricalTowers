{
 "cells": [
  {
   "cell_type": "code",
   "execution_count": 1,
   "metadata": {},
   "outputs": [
    {
     "name": "stdout",
     "output_type": "stream",
     "text": [
      "HomalgProject v\u001b[32m0.4.11\u001b[39m\n",
      "Imported OSCAR's component GAP\n",
      "Type: ?HomalgProject for more information\n"
     ]
    }
   ],
   "source": [
    "using HomalgProject"
   ]
  },
  {
   "cell_type": "code",
   "execution_count": 2,
   "metadata": {},
   "outputs": [],
   "source": [
    "LoadPackage( \"FreydCategoriesForCAP\" )"
   ]
  },
  {
   "cell_type": "code",
   "execution_count": 3,
   "metadata": {},
   "outputs": [],
   "source": [
    "LoadPackage( \"LazyCategories\" )"
   ]
  },
  {
   "cell_type": "code",
   "execution_count": 4,
   "metadata": {},
   "outputs": [],
   "source": [
    "SwitchGeneralizedMorphismStandard( g\"cospan\" )"
   ]
  },
  {
   "cell_type": "code",
   "execution_count": 5,
   "metadata": {},
   "outputs": [
    {
     "data": {
      "text/plain": [
       "GAP: q(4)[a:1->2,b:2->3,c:3->4]"
      ]
     },
     "execution_count": 5,
     "metadata": {},
     "output_type": "execute_result"
    }
   ],
   "source": [
    "snake_quiver = RightQuiver( g\"q(4)[a:1->2,b:2->3,c:3->4]\" )"
   ]
  },
  {
   "cell_type": "code",
   "execution_count": 6,
   "metadata": {},
   "outputs": [
    {
     "data": {
      "text/plain": [
       "GAP: Q"
      ]
     },
     "execution_count": 6,
     "metadata": {},
     "output_type": "execute_result"
    }
   ],
   "source": [
    "ℚ = HomalgFieldOfRationals( )"
   ]
  },
  {
   "cell_type": "code",
   "execution_count": 7,
   "metadata": {},
   "outputs": [
    {
     "data": {
      "text/plain": [
       "GAP: Q * q"
      ]
     },
     "execution_count": 7,
     "metadata": {},
     "output_type": "execute_result"
    }
   ],
   "source": [
    "A = PathAlgebra( ℚ, snake_quiver )"
   ]
  },
  {
   "cell_type": "code",
   "execution_count": 8,
   "metadata": {},
   "outputs": [
    {
     "data": {
      "text/plain": [
       "GAP: (Q * q) / [ 1*(a*b*c) ]"
      ]
     },
     "execution_count": 8,
     "metadata": {},
     "output_type": "execute_result"
    }
   ],
   "source": [
    "A = A / [ A.abc ]"
   ]
  },
  {
   "cell_type": "code",
   "execution_count": 9,
   "metadata": {},
   "outputs": [
    {
     "data": {
      "text/plain": [
       "GAP: QuiverRows( (Q * q) / [ 1*(a*b*c) ] )"
      ]
     },
     "execution_count": 9,
     "metadata": {},
     "output_type": "execute_result"
    }
   ],
   "source": [
    "QRowsA = QuiverRows( A )"
   ]
  },
  {
   "cell_type": "code",
   "execution_count": 10,
   "metadata": {},
   "outputs": [
    {
     "data": {
      "text/plain": [
       "GAP: Adelman category( QuiverRows( (Q * q) / [ 1*(a*b*c) ] ) )"
      ]
     },
     "execution_count": 10,
     "metadata": {},
     "output_type": "execute_result"
    }
   ],
   "source": [
    "Adelman = AdelmanCategory( QRowsA )"
   ]
  },
  {
   "cell_type": "code",
   "execution_count": 11,
   "metadata": {},
   "outputs": [
    {
     "data": {
      "text/plain": [
       "GAP: LazyCategory( Adelman category( QuiverRows( (Q * q) / [ 1*(a*b*c) ] ) ) )"
      ]
     },
     "execution_count": 11,
     "metadata": {},
     "output_type": "execute_result"
    }
   ],
   "source": [
    "Lazy = LazyCategory( Adelman, show_evaluation = true )"
   ]
  },
  {
   "cell_type": "code",
   "execution_count": 12,
   "metadata": {},
   "outputs": [
    {
     "data": {
      "text/plain": [
       "GAP: <An evaluated morphism in LazyCategory( Adelman category( QuiverRows( (Q * q) / [ 1*(a*b*c) ] ) ) )>"
      ]
     },
     "execution_count": 12,
     "metadata": {},
     "output_type": "execute_result"
    }
   ],
   "source": [
    "a = A.a / QRowsA / Adelman / Lazy"
   ]
  },
  {
   "cell_type": "code",
   "execution_count": 13,
   "metadata": {},
   "outputs": [],
   "source": [
    "SetLabel( a, \"a\" )"
   ]
  },
  {
   "cell_type": "code",
   "execution_count": 14,
   "metadata": {},
   "outputs": [
    {
     "data": {
      "text/plain": [
       "GAP: <An evaluated morphism in LazyCategory( Adelman category( QuiverRows( (Q * q) / [ 1*(a*b*c) ] ) ) )>"
      ]
     },
     "execution_count": 14,
     "metadata": {},
     "output_type": "execute_result"
    }
   ],
   "source": [
    "b = A.b / QRowsA / Adelman / Lazy"
   ]
  },
  {
   "cell_type": "code",
   "execution_count": 15,
   "metadata": {},
   "outputs": [],
   "source": [
    "SetLabel( b, \"b\" )"
   ]
  },
  {
   "cell_type": "code",
   "execution_count": 16,
   "metadata": {},
   "outputs": [
    {
     "data": {
      "text/plain": [
       "GAP: <An evaluated morphism in LazyCategory( Adelman category( QuiverRows( (Q * q) / [ 1*(a*b*c) ] ) ) )>"
      ]
     },
     "execution_count": 16,
     "metadata": {},
     "output_type": "execute_result"
    }
   ],
   "source": [
    "c = A.c / QRowsA / Adelman / Lazy"
   ]
  },
  {
   "cell_type": "code",
   "execution_count": 17,
   "metadata": {},
   "outputs": [],
   "source": [
    "SetLabel( c, \"c\" )"
   ]
  },
  {
   "cell_type": "code",
   "execution_count": 18,
   "metadata": {},
   "outputs": [
    {
     "data": {
      "text/plain": [
       "GAP: <An epimorphism in LazyCategory( Adelman category( QuiverRows( (Q * q) / [ 1*(a*b*c) ] ) ) )>"
      ]
     },
     "execution_count": 18,
     "metadata": {},
     "output_type": "execute_result"
    }
   ],
   "source": [
    "d = CokernelProjection( a )"
   ]
  },
  {
   "cell_type": "code",
   "execution_count": 19,
   "metadata": {},
   "outputs": [
    {
     "data": {
      "text/plain": [
       "GAP: <A morphism in LazyCategory( Adelman category( QuiverRows( (Q * q) / [ 1*(a*b*c) ] ) ) )>"
      ]
     },
     "execution_count": 19,
     "metadata": {},
     "output_type": "execute_result"
    }
   ],
   "source": [
    "e = CokernelColift( a, PreCompose( b, c ) )"
   ]
  },
  {
   "cell_type": "code",
   "execution_count": 20,
   "metadata": {},
   "outputs": [
    {
     "data": {
      "text/plain": [
       "GAP: <A monomorphism in LazyCategory( Adelman category( QuiverRows( (Q * q) / [ 1*(a*b*c) ] ) ) )>"
      ]
     },
     "execution_count": 20,
     "metadata": {},
     "output_type": "execute_result"
    }
   ],
   "source": [
    "f = KernelEmbedding( e )"
   ]
  },
  {
   "cell_type": "code",
   "execution_count": 21,
   "metadata": {},
   "outputs": [
    {
     "data": {
      "text/plain": [
       "GAP: <A monomorphism in LazyCategory( Adelman category( QuiverRows( (Q * q) / [ 1*(a*b*c) ] ) ) )>"
      ]
     },
     "execution_count": 21,
     "metadata": {},
     "output_type": "execute_result"
    }
   ],
   "source": [
    "g = KernelEmbedding( c )"
   ]
  },
  {
   "cell_type": "code",
   "execution_count": 22,
   "metadata": {},
   "outputs": [
    {
     "data": {
      "text/plain": [
       "GAP: <A morphism in LazyCategory( Adelman category( QuiverRows( (Q * q) / [ 1*(a*b*c) ] ) ) )>"
      ]
     },
     "execution_count": 22,
     "metadata": {},
     "output_type": "execute_result"
    }
   ],
   "source": [
    "h = KernelLift( c, PreCompose( a, b ) )"
   ]
  },
  {
   "cell_type": "code",
   "execution_count": 23,
   "metadata": {},
   "outputs": [
    {
     "data": {
      "text/plain": [
       "GAP: <An epimorphism in LazyCategory( Adelman category( QuiverRows( (Q * q) / [ 1*(a*b*c) ] ) ) )>"
      ]
     },
     "execution_count": 23,
     "metadata": {},
     "output_type": "execute_result"
    }
   ],
   "source": [
    "i = CokernelProjection( h )"
   ]
  },
  {
   "cell_type": "code",
   "execution_count": 24,
   "metadata": {},
   "outputs": [
    {
     "data": {
      "text/plain": [
       "GAP: <A morphism in Generalized morphism category of LazyCategory( Adelman category( QuiverRows( (Q * q) / [ 1*(a*b*c) ] ) ) ) by cospan>"
      ]
     },
     "execution_count": 24,
     "metadata": {},
     "output_type": "execute_result"
    }
   ],
   "source": [
    "ff = AsGeneralizedMorphism( f )"
   ]
  },
  {
   "cell_type": "code",
   "execution_count": 25,
   "metadata": {},
   "outputs": [
    {
     "data": {
      "text/plain": [
       "GAP: <A morphism in Generalized morphism category of LazyCategory( Adelman category( QuiverRows( (Q * q) / [ 1*(a*b*c) ] ) ) ) by cospan>"
      ]
     },
     "execution_count": 25,
     "metadata": {},
     "output_type": "execute_result"
    }
   ],
   "source": [
    "dd = AsGeneralizedMorphism( d )"
   ]
  },
  {
   "cell_type": "code",
   "execution_count": 26,
   "metadata": {},
   "outputs": [
    {
     "data": {
      "text/plain": [
       "GAP: <A morphism in Generalized morphism category of LazyCategory( Adelman category( QuiverRows( (Q * q) / [ 1*(a*b*c) ] ) ) ) by cospan>"
      ]
     },
     "execution_count": 26,
     "metadata": {},
     "output_type": "execute_result"
    }
   ],
   "source": [
    "bb = AsGeneralizedMorphism( b )"
   ]
  },
  {
   "cell_type": "code",
   "execution_count": 27,
   "metadata": {},
   "outputs": [
    {
     "data": {
      "text/plain": [
       "GAP: <A morphism in Generalized morphism category of LazyCategory( Adelman category( QuiverRows( (Q * q) / [ 1*(a*b*c) ] ) ) ) by cospan>"
      ]
     },
     "execution_count": 27,
     "metadata": {},
     "output_type": "execute_result"
    }
   ],
   "source": [
    "gg = AsGeneralizedMorphism( g )"
   ]
  },
  {
   "cell_type": "code",
   "execution_count": 28,
   "metadata": {},
   "outputs": [
    {
     "data": {
      "text/plain": [
       "GAP: <A morphism in Generalized morphism category of LazyCategory( Adelman category( QuiverRows( (Q * q) / [ 1*(a*b*c) ] ) ) ) by cospan>"
      ]
     },
     "execution_count": 28,
     "metadata": {},
     "output_type": "execute_result"
    }
   ],
   "source": [
    "ii = AsGeneralizedMorphism( i )"
   ]
  },
  {
   "cell_type": "code",
   "execution_count": 29,
   "metadata": {},
   "outputs": [
    {
     "data": {
      "text/plain": [
       "GAP: <A morphism in Generalized morphism category of LazyCategory( Adelman category( QuiverRows( (Q * q) / [ 1*(a*b*c) ] ) ) ) by cospan>"
      ]
     },
     "execution_count": 29,
     "metadata": {},
     "output_type": "execute_result"
    }
   ],
   "source": [
    "ss = PreCompose( [ ff, PseudoInverse( dd ), bb, PseudoInverse( gg ), ii ] )"
   ]
  },
  {
   "cell_type": "code",
   "execution_count": 30,
   "metadata": {},
   "outputs": [
    {
     "data": {
      "text/plain": [
       "GAP: <A morphism in LazyCategory( Adelman category( QuiverRows( (Q * q) / [ 1*(a*b*c) ] ) ) )>"
      ]
     },
     "execution_count": 30,
     "metadata": {},
     "output_type": "execute_result"
    }
   ],
   "source": [
    "s = HonestRepresentative( ss )"
   ]
  },
  {
   "cell_type": "code",
   "execution_count": 31,
   "metadata": {
    "scrolled": false
   },
   "outputs": [
    {
     "data": {
      "image/svg+xml": [
       "<?xml version=\"1.0\" encoding=\"UTF-8\" standalone=\"no\"?>\n",
       "<!DOCTYPE svg PUBLIC \"-//W3C//DTD SVG 1.1//EN\"\n",
       " \"http://www.w3.org/Graphics/SVG/1.1/DTD/svg11.dtd\">\n",
       "<!-- Generated by graphviz version 2.44.0 (20200408.0750)\n",
       " -->\n",
       "<!-- Title: hgn Pages: 1 -->\n",
       "<svg width=\"902pt\" height=\"1634pt\"\n",
       " viewBox=\"0.00 0.00 902.00 1634.00\" xmlns=\"http://www.w3.org/2000/svg\" xmlns:xlink=\"http://www.w3.org/1999/xlink\">\n",
       "<g id=\"graph0\" class=\"graph\" transform=\"scale(1 1) rotate(0) translate(4 1630)\">\n",
       "<title>hgn</title>\n",
       "<polygon fill=\"white\" stroke=\"transparent\" points=\"-4,4 -4,-1630 898,-1630 898,4 -4,4\"/>\n",
       "<!-- 1 -->\n",
       "<g id=\"node1\" class=\"node\">\n",
       "<title>1</title>\n",
       "<polygon fill=\"none\" stroke=\"black\" points=\"516.5,-1433 443.5,-1433 443.5,-1365 516.5,-1365 516.5,-1433\"/>\n",
       "<text text-anchor=\"middle\" x=\"480\" y=\"-1417.8\" font-family=\"Times,serif\" font-size=\"14.00\">[1]</text>\n",
       "<text text-anchor=\"middle\" x=\"480\" y=\"-1402.8\" font-family=\"Times,serif\" font-size=\"14.00\">primitive</text>\n",
       "<text text-anchor=\"middle\" x=\"480\" y=\"-1387.8\" font-family=\"Times,serif\" font-size=\"14.00\">morphism</text>\n",
       "<text text-anchor=\"middle\" x=\"480\" y=\"-1372.8\" font-family=\"Times,serif\" font-size=\"14.00\">&lt;b&gt;</text>\n",
       "</g>\n",
       "<!-- 3 -->\n",
       "<g id=\"node3\" class=\"node\">\n",
       "<title>3</title>\n",
       "<polygon fill=\"none\" stroke=\"black\" points=\"452,-1329 384,-1329 384,-1276 452,-1276 452,-1329\"/>\n",
       "<text text-anchor=\"middle\" x=\"418\" y=\"-1313.8\" font-family=\"Times,serif\" font-size=\"14.00\">[3]</text>\n",
       "<text text-anchor=\"middle\" x=\"418\" y=\"-1298.8\" font-family=\"Times,serif\" font-size=\"14.00\">Pre</text>\n",
       "<text text-anchor=\"middle\" x=\"418\" y=\"-1283.8\" font-family=\"Times,serif\" font-size=\"14.00\">Compose</text>\n",
       "</g>\n",
       "<!-- 1&#45;&gt;3 -->\n",
       "<g id=\"edge1\" class=\"edge\">\n",
       "<title>1&#45;&gt;3</title>\n",
       "<path fill=\"none\" stroke=\"black\" d=\"M458.32,-1364.95C452.55,-1356.17 446.32,-1346.66 440.51,-1337.82\"/>\n",
       "<polygon fill=\"black\" stroke=\"black\" points=\"443.3,-1335.68 434.89,-1329.24 437.44,-1339.52 443.3,-1335.68\"/>\n",
       "</g>\n",
       "<!-- 8 -->\n",
       "<g id=\"node8\" class=\"node\">\n",
       "<title>8</title>\n",
       "<polygon fill=\"none\" stroke=\"black\" points=\"280,-1329 212,-1329 212,-1276 280,-1276 280,-1329\"/>\n",
       "<text text-anchor=\"middle\" x=\"246\" y=\"-1313.8\" font-family=\"Times,serif\" font-size=\"14.00\">[8]</text>\n",
       "<text text-anchor=\"middle\" x=\"246\" y=\"-1298.8\" font-family=\"Times,serif\" font-size=\"14.00\">Pre</text>\n",
       "<text text-anchor=\"middle\" x=\"246\" y=\"-1283.8\" font-family=\"Times,serif\" font-size=\"14.00\">Compose</text>\n",
       "</g>\n",
       "<!-- 1&#45;&gt;8 -->\n",
       "<g id=\"edge2\" class=\"edge\">\n",
       "<title>1&#45;&gt;8</title>\n",
       "<path fill=\"none\" stroke=\"black\" d=\"M443.27,-1387.01C406.18,-1375.42 347.33,-1355.67 289.67,-1329.01\"/>\n",
       "<polygon fill=\"black\" stroke=\"black\" points=\"290.97,-1325.75 280.43,-1324.67 287.99,-1332.09 290.97,-1325.75\"/>\n",
       "</g>\n",
       "<!-- 12 -->\n",
       "<g id=\"node12\" class=\"node\">\n",
       "<title>12</title>\n",
       "<polygon fill=\"none\" stroke=\"black\" points=\"606,-1321.5 546,-1321.5 546,-1283.5 606,-1283.5 606,-1321.5\"/>\n",
       "<text text-anchor=\"middle\" x=\"576\" y=\"-1306.3\" font-family=\"Times,serif\" font-size=\"14.00\">[12]</text>\n",
       "<text text-anchor=\"middle\" x=\"576\" y=\"-1291.3\" font-family=\"Times,serif\" font-size=\"14.00\">Pushout</text>\n",
       "</g>\n",
       "<!-- 1&#45;&gt;12 -->\n",
       "<g id=\"edge3\" class=\"edge\">\n",
       "<title>1&#45;&gt;12</title>\n",
       "<path fill=\"none\" stroke=\"black\" d=\"M513.58,-1364.95C525.61,-1353.1 538.98,-1339.94 550.25,-1328.84\"/>\n",
       "<polygon fill=\"black\" stroke=\"black\" points=\"553.01,-1331.04 557.68,-1321.54 548.1,-1326.06 553.01,-1331.04\"/>\n",
       "</g>\n",
       "<!-- 13 -->\n",
       "<g id=\"node13\" class=\"node\">\n",
       "<title>13</title>\n",
       "<polygon fill=\"none\" stroke=\"black\" points=\"534,-1232.5 350,-1232.5 350,-1179.5 534,-1179.5 534,-1232.5\"/>\n",
       "<text text-anchor=\"middle\" x=\"442\" y=\"-1217.3\" font-family=\"Times,serif\" font-size=\"14.00\">[13]</text>\n",
       "<text text-anchor=\"middle\" x=\"442\" y=\"-1202.3\" font-family=\"Times,serif\" font-size=\"14.00\">InjectionOfCofactorOfPushout</text>\n",
       "<text text-anchor=\"middle\" x=\"442\" y=\"-1187.3\" font-family=\"Times,serif\" font-size=\"14.00\">WithGivenPushout( 2 )</text>\n",
       "</g>\n",
       "<!-- 1&#45;&gt;13 -->\n",
       "<g id=\"edge4\" class=\"edge\">\n",
       "<title>1&#45;&gt;13</title>\n",
       "<path fill=\"none\" stroke=\"black\" d=\"M475.89,-1364.93C472.58,-1340.28 467.42,-1305.86 461,-1276 458.65,-1265.05 455.59,-1253.25 452.63,-1242.56\"/>\n",
       "<polygon fill=\"black\" stroke=\"black\" points=\"455.93,-1241.38 449.83,-1232.71 449.2,-1243.29 455.93,-1241.38\"/>\n",
       "</g>\n",
       "<!-- 22 -->\n",
       "<g id=\"node22\" class=\"node\">\n",
       "<title>22</title>\n",
       "<polygon fill=\"none\" stroke=\"black\" points=\"736,-1232.5 552,-1232.5 552,-1179.5 736,-1179.5 736,-1232.5\"/>\n",
       "<text text-anchor=\"middle\" x=\"644\" y=\"-1217.3\" font-family=\"Times,serif\" font-size=\"14.00\">[22]</text>\n",
       "<text text-anchor=\"middle\" x=\"644\" y=\"-1202.3\" font-family=\"Times,serif\" font-size=\"14.00\">InjectionOfCofactorOfPushout</text>\n",
       "<text text-anchor=\"middle\" x=\"644\" y=\"-1187.3\" font-family=\"Times,serif\" font-size=\"14.00\">WithGivenPushout( 1 )</text>\n",
       "</g>\n",
       "<!-- 1&#45;&gt;22 -->\n",
       "<g id=\"edge5\" class=\"edge\">\n",
       "<title>1&#45;&gt;22</title>\n",
       "<path fill=\"none\" stroke=\"black\" d=\"M516.5,-1388.67C547.33,-1378.89 590.29,-1360.46 615,-1329 634.27,-1304.47 641.05,-1269.19 643.29,-1242.87\"/>\n",
       "<polygon fill=\"black\" stroke=\"black\" points=\"646.8,-1242.77 643.98,-1232.56 639.82,-1242.3 646.8,-1242.77\"/>\n",
       "</g>\n",
       "<!-- 2 -->\n",
       "<g id=\"node2\" class=\"node\">\n",
       "<title>2</title>\n",
       "<polygon fill=\"none\" stroke=\"black\" points=\"193.5,-1433 120.5,-1433 120.5,-1365 193.5,-1365 193.5,-1433\"/>\n",
       "<text text-anchor=\"middle\" x=\"157\" y=\"-1417.8\" font-family=\"Times,serif\" font-size=\"14.00\">[2]</text>\n",
       "<text text-anchor=\"middle\" x=\"157\" y=\"-1402.8\" font-family=\"Times,serif\" font-size=\"14.00\">primitive</text>\n",
       "<text text-anchor=\"middle\" x=\"157\" y=\"-1387.8\" font-family=\"Times,serif\" font-size=\"14.00\">morphism</text>\n",
       "<text text-anchor=\"middle\" x=\"157\" y=\"-1372.8\" font-family=\"Times,serif\" font-size=\"14.00\">&lt;c&gt;</text>\n",
       "</g>\n",
       "<!-- 2&#45;&gt;3 -->\n",
       "<g id=\"edge6\" class=\"edge\">\n",
       "<title>2&#45;&gt;3</title>\n",
       "<path fill=\"none\" stroke=\"black\" d=\"M193.81,-1389.11C235.95,-1378.33 306.85,-1358.39 374.16,-1329.01\"/>\n",
       "<polygon fill=\"black\" stroke=\"black\" points=\"375.91,-1332.06 383.63,-1324.8 373.07,-1325.66 375.91,-1332.06\"/>\n",
       "</g>\n",
       "<!-- 9 -->\n",
       "<g id=\"node9\" class=\"node\">\n",
       "<title>9</title>\n",
       "<polygon fill=\"none\" stroke=\"black\" points=\"156,-1329 102,-1329 102,-1276 156,-1276 156,-1329\"/>\n",
       "<text text-anchor=\"middle\" x=\"129\" y=\"-1313.8\" font-family=\"Times,serif\" font-size=\"14.00\">[9]</text>\n",
       "<text text-anchor=\"middle\" x=\"129\" y=\"-1298.8\" font-family=\"Times,serif\" font-size=\"14.00\">Kernel</text>\n",
       "<text text-anchor=\"middle\" x=\"129\" y=\"-1283.8\" font-family=\"Times,serif\" font-size=\"14.00\">Object</text>\n",
       "</g>\n",
       "<!-- 2&#45;&gt;9 -->\n",
       "<g id=\"edge7\" class=\"edge\">\n",
       "<title>2&#45;&gt;9</title>\n",
       "<path fill=\"none\" stroke=\"black\" d=\"M147.21,-1364.95C144.71,-1356.53 142.02,-1347.45 139.5,-1338.92\"/>\n",
       "<polygon fill=\"black\" stroke=\"black\" points=\"142.82,-1337.83 136.63,-1329.24 136.11,-1339.82 142.82,-1337.83\"/>\n",
       "</g>\n",
       "<!-- 16 -->\n",
       "<g id=\"node16\" class=\"node\">\n",
       "<title>16</title>\n",
       "<polygon fill=\"none\" stroke=\"black\" points=\"235.5,-1240 146.5,-1240 146.5,-1172 235.5,-1172 235.5,-1240\"/>\n",
       "<text text-anchor=\"middle\" x=\"191\" y=\"-1224.8\" font-family=\"Times,serif\" font-size=\"14.00\">[16]</text>\n",
       "<text text-anchor=\"middle\" x=\"191\" y=\"-1209.8\" font-family=\"Times,serif\" font-size=\"14.00\">KernelLift</text>\n",
       "<text text-anchor=\"middle\" x=\"191\" y=\"-1194.8\" font-family=\"Times,serif\" font-size=\"14.00\">WithGiven</text>\n",
       "<text text-anchor=\"middle\" x=\"191\" y=\"-1179.8\" font-family=\"Times,serif\" font-size=\"14.00\">KernelObject</text>\n",
       "</g>\n",
       "<!-- 2&#45;&gt;16 -->\n",
       "<g id=\"edge8\" class=\"edge\">\n",
       "<title>2&#45;&gt;16</title>\n",
       "<path fill=\"none\" stroke=\"black\" d=\"M162.92,-1364.73C168.58,-1332.92 177.15,-1284.8 183.33,-1250.07\"/>\n",
       "<polygon fill=\"black\" stroke=\"black\" points=\"186.78,-1250.67 185.09,-1240.21 179.89,-1249.44 186.78,-1250.67\"/>\n",
       "</g>\n",
       "<!-- 21 -->\n",
       "<g id=\"node21\" class=\"node\">\n",
       "<title>21</title>\n",
       "<polygon fill=\"none\" stroke=\"black\" points=\"128,-1240 12,-1240 12,-1172 128,-1172 128,-1240\"/>\n",
       "<text text-anchor=\"middle\" x=\"70\" y=\"-1224.8\" font-family=\"Times,serif\" font-size=\"14.00\">[21]</text>\n",
       "<text text-anchor=\"middle\" x=\"70\" y=\"-1209.8\" font-family=\"Times,serif\" font-size=\"14.00\">KernelEmbedding</text>\n",
       "<text text-anchor=\"middle\" x=\"70\" y=\"-1194.8\" font-family=\"Times,serif\" font-size=\"14.00\">WithGiven</text>\n",
       "<text text-anchor=\"middle\" x=\"70\" y=\"-1179.8\" font-family=\"Times,serif\" font-size=\"14.00\">KernelObject</text>\n",
       "</g>\n",
       "<!-- 2&#45;&gt;21 -->\n",
       "<g id=\"edge9\" class=\"edge\">\n",
       "<title>2&#45;&gt;21</title>\n",
       "<path fill=\"none\" stroke=\"black\" d=\"M120.19,-1365.85C109.94,-1355.11 99.77,-1342.42 93,-1329 80.69,-1304.58 74.93,-1274.4 72.25,-1250.17\"/>\n",
       "<polygon fill=\"black\" stroke=\"black\" points=\"75.73,-1249.8 71.29,-1240.18 68.77,-1250.47 75.73,-1249.8\"/>\n",
       "</g>\n",
       "<!-- 6 -->\n",
       "<g id=\"node6\" class=\"node\">\n",
       "<title>6</title>\n",
       "<polygon fill=\"none\" stroke=\"black\" points=\"894,-1240 792,-1240 792,-1172 894,-1172 894,-1240\"/>\n",
       "<text text-anchor=\"middle\" x=\"843\" y=\"-1224.8\" font-family=\"Times,serif\" font-size=\"14.00\">[6]</text>\n",
       "<text text-anchor=\"middle\" x=\"843\" y=\"-1209.8\" font-family=\"Times,serif\" font-size=\"14.00\">CokernelColift</text>\n",
       "<text text-anchor=\"middle\" x=\"843\" y=\"-1194.8\" font-family=\"Times,serif\" font-size=\"14.00\">WithGiven</text>\n",
       "<text text-anchor=\"middle\" x=\"843\" y=\"-1179.8\" font-family=\"Times,serif\" font-size=\"14.00\">CokernelObject</text>\n",
       "</g>\n",
       "<!-- 3&#45;&gt;6 -->\n",
       "<g id=\"edge10\" class=\"edge\">\n",
       "<title>3&#45;&gt;6</title>\n",
       "<path fill=\"none\" stroke=\"black\" d=\"M452.04,-1293.83C475.8,-1288.57 508.27,-1281.56 537,-1276 629.11,-1258.17 654.05,-1263.04 745,-1240 757.15,-1236.92 769.97,-1233.07 782.18,-1229.09\"/>\n",
       "<polygon fill=\"black\" stroke=\"black\" points=\"783.43,-1232.36 791.82,-1225.88 781.23,-1225.72 783.43,-1232.36\"/>\n",
       "</g>\n",
       "<!-- 4 -->\n",
       "<g id=\"node4\" class=\"node\">\n",
       "<title>4</title>\n",
       "<polygon fill=\"none\" stroke=\"black\" points=\"746.5,-1626 673.5,-1626 673.5,-1558 746.5,-1558 746.5,-1626\"/>\n",
       "<text text-anchor=\"middle\" x=\"710\" y=\"-1610.8\" font-family=\"Times,serif\" font-size=\"14.00\">[4]</text>\n",
       "<text text-anchor=\"middle\" x=\"710\" y=\"-1595.8\" font-family=\"Times,serif\" font-size=\"14.00\">primitive</text>\n",
       "<text text-anchor=\"middle\" x=\"710\" y=\"-1580.8\" font-family=\"Times,serif\" font-size=\"14.00\">morphism</text>\n",
       "<text text-anchor=\"middle\" x=\"710\" y=\"-1565.8\" font-family=\"Times,serif\" font-size=\"14.00\">&lt;a&gt;</text>\n",
       "</g>\n",
       "<!-- 5 -->\n",
       "<g id=\"node5\" class=\"node\">\n",
       "<title>5</title>\n",
       "<polygon fill=\"none\" stroke=\"black\" points=\"788,-1522 722,-1522 722,-1469 788,-1469 788,-1522\"/>\n",
       "<text text-anchor=\"middle\" x=\"755\" y=\"-1506.8\" font-family=\"Times,serif\" font-size=\"14.00\">[5]</text>\n",
       "<text text-anchor=\"middle\" x=\"755\" y=\"-1491.8\" font-family=\"Times,serif\" font-size=\"14.00\">Cokernel</text>\n",
       "<text text-anchor=\"middle\" x=\"755\" y=\"-1476.8\" font-family=\"Times,serif\" font-size=\"14.00\">Object</text>\n",
       "</g>\n",
       "<!-- 4&#45;&gt;5 -->\n",
       "<g id=\"edge11\" class=\"edge\">\n",
       "<title>4&#45;&gt;5</title>\n",
       "<path fill=\"none\" stroke=\"black\" d=\"M725.74,-1557.95C729.83,-1549.35 734.26,-1540.06 738.4,-1531.37\"/>\n",
       "<polygon fill=\"black\" stroke=\"black\" points=\"741.61,-1532.77 742.74,-1522.24 735.29,-1529.76 741.61,-1532.77\"/>\n",
       "</g>\n",
       "<!-- 4&#45;&gt;6 -->\n",
       "<g id=\"edge12\" class=\"edge\">\n",
       "<title>4&#45;&gt;6</title>\n",
       "<path fill=\"none\" stroke=\"black\" d=\"M746.79,-1570.76C764.8,-1558.92 785.12,-1542.3 797,-1522 847.4,-1435.94 849.6,-1314.69 846.51,-1250.62\"/>\n",
       "<polygon fill=\"black\" stroke=\"black\" points=\"850,-1250.26 845.96,-1240.47 843.01,-1250.65 850,-1250.26\"/>\n",
       "</g>\n",
       "<!-- 4&#45;&gt;8 -->\n",
       "<g id=\"edge13\" class=\"edge\">\n",
       "<title>4&#45;&gt;8</title>\n",
       "<path fill=\"none\" stroke=\"black\" d=\"M673.42,-1571.19C620.21,-1542.11 518.68,-1485.59 435,-1433 383.65,-1400.73 326.43,-1360.96 288.54,-1334.08\"/>\n",
       "<polygon fill=\"black\" stroke=\"black\" points=\"290.46,-1331.15 280.28,-1328.2 286.41,-1336.85 290.46,-1331.15\"/>\n",
       "</g>\n",
       "<!-- 11 -->\n",
       "<g id=\"node11\" class=\"node\">\n",
       "<title>11</title>\n",
       "<polygon fill=\"none\" stroke=\"black\" points=\"733,-1433 611,-1433 611,-1365 733,-1365 733,-1433\"/>\n",
       "<text text-anchor=\"middle\" x=\"672\" y=\"-1417.8\" font-family=\"Times,serif\" font-size=\"14.00\">[11]</text>\n",
       "<text text-anchor=\"middle\" x=\"672\" y=\"-1402.8\" font-family=\"Times,serif\" font-size=\"14.00\">CokernelProjection</text>\n",
       "<text text-anchor=\"middle\" x=\"672\" y=\"-1387.8\" font-family=\"Times,serif\" font-size=\"14.00\">WithGiven</text>\n",
       "<text text-anchor=\"middle\" x=\"672\" y=\"-1372.8\" font-family=\"Times,serif\" font-size=\"14.00\">CokernelObject</text>\n",
       "</g>\n",
       "<!-- 4&#45;&gt;11 -->\n",
       "<g id=\"edge14\" class=\"edge\">\n",
       "<title>4&#45;&gt;11</title>\n",
       "<path fill=\"none\" stroke=\"black\" d=\"M703.38,-1557.73C697.05,-1525.92 687.48,-1477.8 680.57,-1443.07\"/>\n",
       "<polygon fill=\"black\" stroke=\"black\" points=\"683.99,-1442.33 678.61,-1433.21 677.13,-1443.7 683.99,-1442.33\"/>\n",
       "</g>\n",
       "<!-- 5&#45;&gt;6 -->\n",
       "<g id=\"edge15\" class=\"edge\">\n",
       "<title>5&#45;&gt;6</title>\n",
       "<path fill=\"none\" stroke=\"black\" d=\"M765.07,-1468.92C769.27,-1457.94 774.07,-1444.91 778,-1433 798.83,-1369.93 819.44,-1295.74 831.69,-1250.05\"/>\n",
       "<polygon fill=\"black\" stroke=\"black\" points=\"835.13,-1250.75 834.32,-1240.18 828.36,-1248.94 835.13,-1250.75\"/>\n",
       "</g>\n",
       "<!-- 5&#45;&gt;11 -->\n",
       "<g id=\"edge16\" class=\"edge\">\n",
       "<title>5&#45;&gt;11</title>\n",
       "<path fill=\"none\" stroke=\"black\" d=\"M732.32,-1468.68C724.82,-1460.14 716.28,-1450.42 708.03,-1441.03\"/>\n",
       "<polygon fill=\"black\" stroke=\"black\" points=\"710.43,-1438.45 701.2,-1433.25 705.17,-1443.07 710.43,-1438.45\"/>\n",
       "</g>\n",
       "<!-- 14 -->\n",
       "<g id=\"node14\" class=\"node\">\n",
       "<title>14</title>\n",
       "<polygon fill=\"none\" stroke=\"black\" points=\"762,-1136 688,-1136 688,-1083 762,-1083 762,-1136\"/>\n",
       "<text text-anchor=\"middle\" x=\"725\" y=\"-1120.8\" font-family=\"Times,serif\" font-size=\"14.00\">[14]</text>\n",
       "<text text-anchor=\"middle\" x=\"725\" y=\"-1105.8\" font-family=\"Times,serif\" font-size=\"14.00\">Identity</text>\n",
       "<text text-anchor=\"middle\" x=\"725\" y=\"-1090.8\" font-family=\"Times,serif\" font-size=\"14.00\">Morphism</text>\n",
       "</g>\n",
       "<!-- 5&#45;&gt;14 -->\n",
       "<g id=\"edge17\" class=\"edge\">\n",
       "<title>5&#45;&gt;14</title>\n",
       "<path fill=\"none\" stroke=\"black\" d=\"M756.65,-1468.75C759.64,-1413.76 764.01,-1280.99 745,-1172 743.49,-1163.33 741.03,-1154.21 738.34,-1145.73\"/>\n",
       "<polygon fill=\"black\" stroke=\"black\" points=\"741.62,-1144.49 735.13,-1136.12 734.98,-1146.71 741.62,-1144.49\"/>\n",
       "</g>\n",
       "<!-- 7 -->\n",
       "<g id=\"node7\" class=\"node\">\n",
       "<title>7</title>\n",
       "<polygon fill=\"none\" stroke=\"black\" points=\"876,-1136 822,-1136 822,-1083 876,-1083 876,-1136\"/>\n",
       "<text text-anchor=\"middle\" x=\"849\" y=\"-1120.8\" font-family=\"Times,serif\" font-size=\"14.00\">[7]</text>\n",
       "<text text-anchor=\"middle\" x=\"849\" y=\"-1105.8\" font-family=\"Times,serif\" font-size=\"14.00\">Kernel</text>\n",
       "<text text-anchor=\"middle\" x=\"849\" y=\"-1090.8\" font-family=\"Times,serif\" font-size=\"14.00\">Object</text>\n",
       "</g>\n",
       "<!-- 6&#45;&gt;7 -->\n",
       "<g id=\"edge18\" class=\"edge\">\n",
       "<title>6&#45;&gt;7</title>\n",
       "<path fill=\"none\" stroke=\"black\" d=\"M845.1,-1171.95C845.62,-1163.72 846.18,-1154.85 846.72,-1146.48\"/>\n",
       "<polygon fill=\"black\" stroke=\"black\" points=\"850.23,-1146.44 847.37,-1136.24 843.24,-1145.99 850.23,-1146.44\"/>\n",
       "</g>\n",
       "<!-- 15 -->\n",
       "<g id=\"node15\" class=\"node\">\n",
       "<title>15</title>\n",
       "<polygon fill=\"none\" stroke=\"black\" points=\"858,-1047 742,-1047 742,-979 858,-979 858,-1047\"/>\n",
       "<text text-anchor=\"middle\" x=\"800\" y=\"-1031.8\" font-family=\"Times,serif\" font-size=\"14.00\">[15]</text>\n",
       "<text text-anchor=\"middle\" x=\"800\" y=\"-1016.8\" font-family=\"Times,serif\" font-size=\"14.00\">KernelEmbedding</text>\n",
       "<text text-anchor=\"middle\" x=\"800\" y=\"-1001.8\" font-family=\"Times,serif\" font-size=\"14.00\">WithGiven</text>\n",
       "<text text-anchor=\"middle\" x=\"800\" y=\"-986.8\" font-family=\"Times,serif\" font-size=\"14.00\">KernelObject</text>\n",
       "</g>\n",
       "<!-- 6&#45;&gt;15 -->\n",
       "<g id=\"edge19\" class=\"edge\">\n",
       "<title>6&#45;&gt;15</title>\n",
       "<path fill=\"none\" stroke=\"black\" d=\"M826.09,-1171.69C821.12,-1160.59 816.17,-1148 813,-1136 806.23,-1110.35 802.97,-1080.77 801.41,-1057.17\"/>\n",
       "<polygon fill=\"black\" stroke=\"black\" points=\"804.9,-1056.89 800.82,-1047.11 797.91,-1057.3 804.9,-1056.89\"/>\n",
       "</g>\n",
       "<!-- 7&#45;&gt;15 -->\n",
       "<g id=\"edge20\" class=\"edge\">\n",
       "<title>7&#45;&gt;15</title>\n",
       "<path fill=\"none\" stroke=\"black\" d=\"M835.61,-1082.68C831.36,-1074.48 826.54,-1065.19 821.86,-1056.15\"/>\n",
       "<polygon fill=\"black\" stroke=\"black\" points=\"824.95,-1054.52 817.24,-1047.25 818.74,-1057.74 824.95,-1054.52\"/>\n",
       "</g>\n",
       "<!-- 8&#45;&gt;16 -->\n",
       "<g id=\"edge21\" class=\"edge\">\n",
       "<title>8&#45;&gt;16</title>\n",
       "<path fill=\"none\" stroke=\"black\" d=\"M230.97,-1275.68C226.2,-1267.48 220.79,-1258.19 215.53,-1249.15\"/>\n",
       "<polygon fill=\"black\" stroke=\"black\" points=\"218.41,-1247.13 210.35,-1240.25 212.36,-1250.65 218.41,-1247.13\"/>\n",
       "</g>\n",
       "<!-- 9&#45;&gt;16 -->\n",
       "<g id=\"edge22\" class=\"edge\">\n",
       "<title>9&#45;&gt;16</title>\n",
       "<path fill=\"none\" stroke=\"black\" d=\"M145.94,-1275.68C151.38,-1267.39 157.54,-1258 163.53,-1248.87\"/>\n",
       "<polygon fill=\"black\" stroke=\"black\" points=\"166.63,-1250.53 169.18,-1240.25 160.77,-1246.69 166.63,-1250.53\"/>\n",
       "</g>\n",
       "<!-- 9&#45;&gt;21 -->\n",
       "<g id=\"edge23\" class=\"edge\">\n",
       "<title>9&#45;&gt;21</title>\n",
       "<path fill=\"none\" stroke=\"black\" d=\"M112.88,-1275.68C107.71,-1267.39 101.84,-1258 96.14,-1248.87\"/>\n",
       "<polygon fill=\"black\" stroke=\"black\" points=\"99.02,-1246.88 90.76,-1240.25 93.09,-1250.59 99.02,-1246.88\"/>\n",
       "</g>\n",
       "<!-- 10 -->\n",
       "<g id=\"node10\" class=\"node\">\n",
       "<title>10</title>\n",
       "<polygon fill=\"none\" stroke=\"black\" points=\"365.5,-1329 298.5,-1329 298.5,-1276 365.5,-1276 365.5,-1329\"/>\n",
       "<text text-anchor=\"middle\" x=\"332\" y=\"-1313.8\" font-family=\"Times,serif\" font-size=\"14.00\">[10]</text>\n",
       "<text text-anchor=\"middle\" x=\"332\" y=\"-1298.8\" font-family=\"Times,serif\" font-size=\"14.00\">primitive</text>\n",
       "<text text-anchor=\"middle\" x=\"332\" y=\"-1283.8\" font-family=\"Times,serif\" font-size=\"14.00\">object</text>\n",
       "</g>\n",
       "<!-- 17 -->\n",
       "<g id=\"node17\" class=\"node\">\n",
       "<title>17</title>\n",
       "<polygon fill=\"none\" stroke=\"black\" points=\"332,-1232.5 258,-1232.5 258,-1179.5 332,-1179.5 332,-1232.5\"/>\n",
       "<text text-anchor=\"middle\" x=\"295\" y=\"-1217.3\" font-family=\"Times,serif\" font-size=\"14.00\">[17]</text>\n",
       "<text text-anchor=\"middle\" x=\"295\" y=\"-1202.3\" font-family=\"Times,serif\" font-size=\"14.00\">Identity</text>\n",
       "<text text-anchor=\"middle\" x=\"295\" y=\"-1187.3\" font-family=\"Times,serif\" font-size=\"14.00\">Morphism</text>\n",
       "</g>\n",
       "<!-- 10&#45;&gt;17 -->\n",
       "<g id=\"edge24\" class=\"edge\">\n",
       "<title>10&#45;&gt;17</title>\n",
       "<path fill=\"none\" stroke=\"black\" d=\"M321.89,-1275.68C317.85,-1265.36 313.14,-1253.32 308.79,-1242.23\"/>\n",
       "<polygon fill=\"black\" stroke=\"black\" points=\"312,-1240.83 305.1,-1232.79 305.49,-1243.38 312,-1240.83\"/>\n",
       "</g>\n",
       "<!-- 11&#45;&gt;12 -->\n",
       "<g id=\"edge25\" class=\"edge\">\n",
       "<title>11&#45;&gt;12</title>\n",
       "<path fill=\"none\" stroke=\"black\" d=\"M638.42,-1364.95C626.39,-1353.1 613.02,-1339.94 601.75,-1328.84\"/>\n",
       "<polygon fill=\"black\" stroke=\"black\" points=\"603.9,-1326.06 594.32,-1321.54 598.99,-1331.04 603.9,-1326.06\"/>\n",
       "</g>\n",
       "<!-- 11&#45;&gt;13 -->\n",
       "<g id=\"edge26\" class=\"edge\">\n",
       "<title>11&#45;&gt;13</title>\n",
       "<path fill=\"none\" stroke=\"black\" d=\"M610.78,-1373.64C586.36,-1362.22 558.91,-1347.11 537,-1329 506.7,-1303.95 479.98,-1267.64 462.66,-1241.14\"/>\n",
       "<polygon fill=\"black\" stroke=\"black\" points=\"465.5,-1239.09 457.15,-1232.57 459.61,-1242.87 465.5,-1239.09\"/>\n",
       "</g>\n",
       "<!-- 11&#45;&gt;22 -->\n",
       "<g id=\"edge27\" class=\"edge\">\n",
       "<title>11&#45;&gt;22</title>\n",
       "<path fill=\"none\" stroke=\"black\" d=\"M667.12,-1364.73C662.12,-1330.64 654.38,-1277.8 649.25,-1242.81\"/>\n",
       "<polygon fill=\"black\" stroke=\"black\" points=\"652.66,-1241.95 647.75,-1232.56 645.73,-1242.96 652.66,-1241.95\"/>\n",
       "</g>\n",
       "<!-- 12&#45;&gt;13 -->\n",
       "<g id=\"edge28\" class=\"edge\">\n",
       "<title>12&#45;&gt;13</title>\n",
       "<path fill=\"none\" stroke=\"black\" d=\"M550.16,-1283.28C532.17,-1270.59 507.71,-1253.34 486.6,-1238.45\"/>\n",
       "<polygon fill=\"black\" stroke=\"black\" points=\"488.58,-1235.57 478.39,-1232.67 484.55,-1241.29 488.58,-1235.57\"/>\n",
       "</g>\n",
       "<!-- 12&#45;&gt;22 -->\n",
       "<g id=\"edge29\" class=\"edge\">\n",
       "<title>12&#45;&gt;22</title>\n",
       "<path fill=\"none\" stroke=\"black\" d=\"M589.11,-1283.28C597.76,-1271.26 609.35,-1255.16 619.65,-1240.84\"/>\n",
       "<polygon fill=\"black\" stroke=\"black\" points=\"622.53,-1242.83 625.53,-1232.67 616.85,-1238.74 622.53,-1242.83\"/>\n",
       "</g>\n",
       "<!-- 18 -->\n",
       "<g id=\"node18\" class=\"node\">\n",
       "<title>18</title>\n",
       "<polygon fill=\"none\" stroke=\"black\" points=\"429,-1136 361,-1136 361,-1083 429,-1083 429,-1136\"/>\n",
       "<text text-anchor=\"middle\" x=\"395\" y=\"-1120.8\" font-family=\"Times,serif\" font-size=\"14.00\">[18]</text>\n",
       "<text text-anchor=\"middle\" x=\"395\" y=\"-1105.8\" font-family=\"Times,serif\" font-size=\"14.00\">Pre</text>\n",
       "<text text-anchor=\"middle\" x=\"395\" y=\"-1090.8\" font-family=\"Times,serif\" font-size=\"14.00\">Compose</text>\n",
       "</g>\n",
       "<!-- 13&#45;&gt;18 -->\n",
       "<g id=\"edge30\" class=\"edge\">\n",
       "<title>13&#45;&gt;18</title>\n",
       "<path fill=\"none\" stroke=\"black\" d=\"M429.16,-1179.18C423.98,-1168.76 417.92,-1156.58 412.35,-1145.39\"/>\n",
       "<polygon fill=\"black\" stroke=\"black\" points=\"415.41,-1143.69 407.83,-1136.29 409.15,-1146.8 415.41,-1143.69\"/>\n",
       "</g>\n",
       "<!-- 23 -->\n",
       "<g id=\"node23\" class=\"node\">\n",
       "<title>23</title>\n",
       "<polygon fill=\"none\" stroke=\"black\" points=\"748,-943 680,-943 680,-890 748,-890 748,-943\"/>\n",
       "<text text-anchor=\"middle\" x=\"714\" y=\"-927.8\" font-family=\"Times,serif\" font-size=\"14.00\">[23]</text>\n",
       "<text text-anchor=\"middle\" x=\"714\" y=\"-912.8\" font-family=\"Times,serif\" font-size=\"14.00\">Pre</text>\n",
       "<text text-anchor=\"middle\" x=\"714\" y=\"-897.8\" font-family=\"Times,serif\" font-size=\"14.00\">Compose</text>\n",
       "</g>\n",
       "<!-- 14&#45;&gt;23 -->\n",
       "<g id=\"edge31\" class=\"edge\">\n",
       "<title>14&#45;&gt;23</title>\n",
       "<path fill=\"none\" stroke=\"black\" d=\"M723.52,-1082.74C721.59,-1049.33 718.23,-990.87 716.06,-953.19\"/>\n",
       "<polygon fill=\"black\" stroke=\"black\" points=\"719.55,-952.94 715.48,-943.16 712.56,-953.34 719.55,-952.94\"/>\n",
       "</g>\n",
       "<!-- 15&#45;&gt;23 -->\n",
       "<g id=\"edge32\" class=\"edge\">\n",
       "<title>15&#45;&gt;23</title>\n",
       "<path fill=\"none\" stroke=\"black\" d=\"M769.92,-978.95C761.6,-969.8 752.56,-959.87 744.23,-950.71\"/>\n",
       "<polygon fill=\"black\" stroke=\"black\" points=\"746.74,-948.28 737.42,-943.24 741.56,-952.99 746.74,-948.28\"/>\n",
       "</g>\n",
       "<!-- 24 -->\n",
       "<g id=\"node24\" class=\"node\">\n",
       "<title>24</title>\n",
       "<polygon fill=\"none\" stroke=\"black\" points=\"164,-943 98,-943 98,-890 164,-890 164,-943\"/>\n",
       "<text text-anchor=\"middle\" x=\"131\" y=\"-927.8\" font-family=\"Times,serif\" font-size=\"14.00\">[24]</text>\n",
       "<text text-anchor=\"middle\" x=\"131\" y=\"-912.8\" font-family=\"Times,serif\" font-size=\"14.00\">Cokernel</text>\n",
       "<text text-anchor=\"middle\" x=\"131\" y=\"-897.8\" font-family=\"Times,serif\" font-size=\"14.00\">Object</text>\n",
       "</g>\n",
       "<!-- 16&#45;&gt;24 -->\n",
       "<g id=\"edge33\" class=\"edge\">\n",
       "<title>16&#45;&gt;24</title>\n",
       "<path fill=\"none\" stroke=\"black\" d=\"M184.06,-1171.74C172.67,-1117.19 150.14,-1009.2 138.44,-953.14\"/>\n",
       "<polygon fill=\"black\" stroke=\"black\" points=\"141.85,-952.38 136.38,-943.3 135,-953.81 141.85,-952.38\"/>\n",
       "</g>\n",
       "<!-- 26 -->\n",
       "<g id=\"node26\" class=\"node\">\n",
       "<title>26</title>\n",
       "<polygon fill=\"none\" stroke=\"black\" points=\"275,-854 153,-854 153,-786 275,-786 275,-854\"/>\n",
       "<text text-anchor=\"middle\" x=\"214\" y=\"-838.8\" font-family=\"Times,serif\" font-size=\"14.00\">[26]</text>\n",
       "<text text-anchor=\"middle\" x=\"214\" y=\"-823.8\" font-family=\"Times,serif\" font-size=\"14.00\">CokernelProjection</text>\n",
       "<text text-anchor=\"middle\" x=\"214\" y=\"-808.8\" font-family=\"Times,serif\" font-size=\"14.00\">WithGiven</text>\n",
       "<text text-anchor=\"middle\" x=\"214\" y=\"-793.8\" font-family=\"Times,serif\" font-size=\"14.00\">CokernelObject</text>\n",
       "</g>\n",
       "<!-- 16&#45;&gt;26 -->\n",
       "<g id=\"edge34\" class=\"edge\">\n",
       "<title>16&#45;&gt;26</title>\n",
       "<path fill=\"none\" stroke=\"black\" d=\"M192.98,-1171.93C197.13,-1102.6 206.75,-942.07 211.39,-864.5\"/>\n",
       "<polygon fill=\"black\" stroke=\"black\" points=\"214.91,-864.32 212.02,-854.13 207.92,-863.9 214.91,-864.32\"/>\n",
       "</g>\n",
       "<!-- 17&#45;&gt;18 -->\n",
       "<g id=\"edge35\" class=\"edge\">\n",
       "<title>17&#45;&gt;18</title>\n",
       "<path fill=\"none\" stroke=\"black\" d=\"M322.06,-1179.43C333.85,-1168.29 347.8,-1155.11 360.33,-1143.26\"/>\n",
       "<polygon fill=\"black\" stroke=\"black\" points=\"363.05,-1145.51 367.92,-1136.09 358.24,-1140.42 363.05,-1145.51\"/>\n",
       "</g>\n",
       "<!-- 19 -->\n",
       "<g id=\"node19\" class=\"node\">\n",
       "<title>19</title>\n",
       "<polygon fill=\"none\" stroke=\"black\" points=\"423,-1032 363,-1032 363,-994 423,-994 423,-1032\"/>\n",
       "<text text-anchor=\"middle\" x=\"393\" y=\"-1016.8\" font-family=\"Times,serif\" font-size=\"14.00\">[19]</text>\n",
       "<text text-anchor=\"middle\" x=\"393\" y=\"-1001.8\" font-family=\"Times,serif\" font-size=\"14.00\">Pushout</text>\n",
       "</g>\n",
       "<!-- 17&#45;&gt;19 -->\n",
       "<g id=\"edge36\" class=\"edge\">\n",
       "<title>17&#45;&gt;19</title>\n",
       "<path fill=\"none\" stroke=\"black\" d=\"M306.07,-1179.41C317.06,-1154.47 334.73,-1115.65 352,-1083 359.5,-1068.83 368.54,-1053.45 376.22,-1040.82\"/>\n",
       "<polygon fill=\"black\" stroke=\"black\" points=\"379.29,-1042.52 381.53,-1032.17 373.32,-1038.86 379.29,-1042.52\"/>\n",
       "</g>\n",
       "<!-- 20 -->\n",
       "<g id=\"node20\" class=\"node\">\n",
       "<title>20</title>\n",
       "<polygon fill=\"none\" stroke=\"black\" points=\"404,-943 220,-943 220,-890 404,-890 404,-943\"/>\n",
       "<text text-anchor=\"middle\" x=\"312\" y=\"-927.8\" font-family=\"Times,serif\" font-size=\"14.00\">[20]</text>\n",
       "<text text-anchor=\"middle\" x=\"312\" y=\"-912.8\" font-family=\"Times,serif\" font-size=\"14.00\">InjectionOfCofactorOfPushout</text>\n",
       "<text text-anchor=\"middle\" x=\"312\" y=\"-897.8\" font-family=\"Times,serif\" font-size=\"14.00\">WithGivenPushout( 2 )</text>\n",
       "</g>\n",
       "<!-- 17&#45;&gt;20 -->\n",
       "<g id=\"edge37\" class=\"edge\">\n",
       "<title>17&#45;&gt;20</title>\n",
       "<path fill=\"none\" stroke=\"black\" d=\"M296.51,-1179.49C299.54,-1128.25 306.37,-1012.73 309.86,-953.71\"/>\n",
       "<polygon fill=\"black\" stroke=\"black\" points=\"313.37,-953.56 310.47,-943.37 306.39,-953.15 313.37,-953.56\"/>\n",
       "</g>\n",
       "<!-- 28 -->\n",
       "<g id=\"node28\" class=\"node\">\n",
       "<title>28</title>\n",
       "<polygon fill=\"none\" stroke=\"black\" points=\"606,-943 422,-943 422,-890 606,-890 606,-943\"/>\n",
       "<text text-anchor=\"middle\" x=\"514\" y=\"-927.8\" font-family=\"Times,serif\" font-size=\"14.00\">[28]</text>\n",
       "<text text-anchor=\"middle\" x=\"514\" y=\"-912.8\" font-family=\"Times,serif\" font-size=\"14.00\">InjectionOfCofactorOfPushout</text>\n",
       "<text text-anchor=\"middle\" x=\"514\" y=\"-897.8\" font-family=\"Times,serif\" font-size=\"14.00\">WithGivenPushout( 1 )</text>\n",
       "</g>\n",
       "<!-- 17&#45;&gt;28 -->\n",
       "<g id=\"edge38\" class=\"edge\">\n",
       "<title>17&#45;&gt;28</title>\n",
       "<path fill=\"none\" stroke=\"black\" d=\"M328.51,-1179.43C332.61,-1176.76 336.83,-1174.22 341,-1172 381.6,-1150.41 405.82,-1168.85 438,-1136 487.51,-1085.45 504.87,-1001 510.88,-953.24\"/>\n",
       "<polygon fill=\"black\" stroke=\"black\" points=\"514.39,-953.4 512.06,-943.07 507.43,-952.6 514.39,-953.4\"/>\n",
       "</g>\n",
       "<!-- 18&#45;&gt;19 -->\n",
       "<g id=\"edge39\" class=\"edge\">\n",
       "<title>18&#45;&gt;19</title>\n",
       "<path fill=\"none\" stroke=\"black\" d=\"M394.45,-1082.68C394.19,-1070.13 393.87,-1055.01 393.6,-1042.17\"/>\n",
       "<polygon fill=\"black\" stroke=\"black\" points=\"397.09,-1041.93 393.38,-1032.01 390.09,-1042.08 397.09,-1041.93\"/>\n",
       "</g>\n",
       "<!-- 18&#45;&gt;20 -->\n",
       "<g id=\"edge40\" class=\"edge\">\n",
       "<title>18&#45;&gt;20</title>\n",
       "<path fill=\"none\" stroke=\"black\" d=\"M375.58,-1082.81C368.13,-1072.13 359.98,-1059.36 354,-1047 339.27,-1016.57 327.89,-979.73 320.72,-953.13\"/>\n",
       "<polygon fill=\"black\" stroke=\"black\" points=\"324.01,-951.9 318.08,-943.12 317.24,-953.68 324.01,-951.9\"/>\n",
       "</g>\n",
       "<!-- 18&#45;&gt;28 -->\n",
       "<g id=\"edge41\" class=\"edge\">\n",
       "<title>18&#45;&gt;28</title>\n",
       "<path fill=\"none\" stroke=\"black\" d=\"M411.05,-1082.74C432.13,-1048.9 469.23,-989.36 492.66,-951.75\"/>\n",
       "<polygon fill=\"black\" stroke=\"black\" points=\"495.7,-953.49 498.02,-943.16 489.76,-949.79 495.7,-953.49\"/>\n",
       "</g>\n",
       "<!-- 19&#45;&gt;20 -->\n",
       "<g id=\"edge42\" class=\"edge\">\n",
       "<title>19&#45;&gt;20</title>\n",
       "<path fill=\"none\" stroke=\"black\" d=\"M377.38,-993.78C366.99,-981.65 353.02,-965.36 340.67,-950.94\"/>\n",
       "<polygon fill=\"black\" stroke=\"black\" points=\"343.17,-948.48 334,-943.17 337.85,-953.04 343.17,-948.48\"/>\n",
       "</g>\n",
       "<!-- 19&#45;&gt;28 -->\n",
       "<g id=\"edge43\" class=\"edge\">\n",
       "<title>19&#45;&gt;28</title>\n",
       "<path fill=\"none\" stroke=\"black\" d=\"M416.33,-993.78C432.43,-981.2 454.27,-964.14 473.22,-949.35\"/>\n",
       "<polygon fill=\"black\" stroke=\"black\" points=\"475.41,-952.08 481.14,-943.17 471.1,-946.56 475.41,-952.08\"/>\n",
       "</g>\n",
       "<!-- 25 -->\n",
       "<g id=\"node25\" class=\"node\">\n",
       "<title>25</title>\n",
       "<polygon fill=\"none\" stroke=\"black\" points=\"135,-846.5 67,-846.5 67,-793.5 135,-793.5 135,-846.5\"/>\n",
       "<text text-anchor=\"middle\" x=\"101\" y=\"-831.3\" font-family=\"Times,serif\" font-size=\"14.00\">[25]</text>\n",
       "<text text-anchor=\"middle\" x=\"101\" y=\"-816.3\" font-family=\"Times,serif\" font-size=\"14.00\">Pre</text>\n",
       "<text text-anchor=\"middle\" x=\"101\" y=\"-801.3\" font-family=\"Times,serif\" font-size=\"14.00\">Compose</text>\n",
       "</g>\n",
       "<!-- 20&#45;&gt;25 -->\n",
       "<g id=\"edge44\" class=\"edge\">\n",
       "<title>20&#45;&gt;25</title>\n",
       "<path fill=\"none\" stroke=\"black\" d=\"M226.91,-889.99C199.66,-880.35 169.86,-868.22 144,-854 142.89,-853.39 141.77,-852.75 140.66,-852.09\"/>\n",
       "<polygon fill=\"black\" stroke=\"black\" points=\"142.5,-849.11 132.19,-846.64 138.71,-855 142.5,-849.11\"/>\n",
       "</g>\n",
       "<!-- 21&#45;&gt;25 -->\n",
       "<g id=\"edge45\" class=\"edge\">\n",
       "<title>21&#45;&gt;25</title>\n",
       "<path fill=\"none\" stroke=\"black\" d=\"M70.78,-1171.79C72.41,-1114.23 77.06,-992.3 89,-890 90.27,-879.11 92.14,-867.33 94.02,-856.64\"/>\n",
       "<polygon fill=\"black\" stroke=\"black\" points=\"97.46,-857.25 95.81,-846.78 90.58,-856 97.46,-857.25\"/>\n",
       "</g>\n",
       "<!-- 29 -->\n",
       "<g id=\"node29\" class=\"node\">\n",
       "<title>29</title>\n",
       "<polygon fill=\"none\" stroke=\"black\" points=\"678,-846.5 610,-846.5 610,-793.5 678,-793.5 678,-846.5\"/>\n",
       "<text text-anchor=\"middle\" x=\"644\" y=\"-831.3\" font-family=\"Times,serif\" font-size=\"14.00\">[29]</text>\n",
       "<text text-anchor=\"middle\" x=\"644\" y=\"-816.3\" font-family=\"Times,serif\" font-size=\"14.00\">Pre</text>\n",
       "<text text-anchor=\"middle\" x=\"644\" y=\"-801.3\" font-family=\"Times,serif\" font-size=\"14.00\">Compose</text>\n",
       "</g>\n",
       "<!-- 22&#45;&gt;29 -->\n",
       "<g id=\"edge46\" class=\"edge\">\n",
       "<title>22&#45;&gt;29</title>\n",
       "<path fill=\"none\" stroke=\"black\" d=\"M644,-1179.21C644,-1112.4 644,-933.57 644,-856.81\"/>\n",
       "<polygon fill=\"black\" stroke=\"black\" points=\"647.5,-856.68 644,-846.68 640.5,-856.68 647.5,-856.68\"/>\n",
       "</g>\n",
       "<!-- 23&#45;&gt;29 -->\n",
       "<g id=\"edge47\" class=\"edge\">\n",
       "<title>23&#45;&gt;29</title>\n",
       "<path fill=\"none\" stroke=\"black\" d=\"M694.87,-889.68C686.92,-878.95 677.59,-866.35 669.1,-854.89\"/>\n",
       "<polygon fill=\"black\" stroke=\"black\" points=\"671.87,-852.74 663.1,-846.79 666.24,-856.91 671.87,-852.74\"/>\n",
       "</g>\n",
       "<!-- 24&#45;&gt;26 -->\n",
       "<g id=\"edge48\" class=\"edge\">\n",
       "<title>24&#45;&gt;26</title>\n",
       "<path fill=\"none\" stroke=\"black\" d=\"M153.68,-889.68C161.18,-881.14 169.72,-871.42 177.97,-862.03\"/>\n",
       "<polygon fill=\"black\" stroke=\"black\" points=\"180.83,-864.07 184.8,-854.25 175.57,-859.45 180.83,-864.07\"/>\n",
       "</g>\n",
       "<!-- 31 -->\n",
       "<g id=\"node31\" class=\"node\">\n",
       "<title>31</title>\n",
       "<polygon fill=\"none\" stroke=\"black\" points=\"74,-750 0,-750 0,-697 74,-697 74,-750\"/>\n",
       "<text text-anchor=\"middle\" x=\"37\" y=\"-734.8\" font-family=\"Times,serif\" font-size=\"14.00\">[31]</text>\n",
       "<text text-anchor=\"middle\" x=\"37\" y=\"-719.8\" font-family=\"Times,serif\" font-size=\"14.00\">Identity</text>\n",
       "<text text-anchor=\"middle\" x=\"37\" y=\"-704.8\" font-family=\"Times,serif\" font-size=\"14.00\">Morphism</text>\n",
       "</g>\n",
       "<!-- 24&#45;&gt;31 -->\n",
       "<g id=\"edge49\" class=\"edge\">\n",
       "<title>24&#45;&gt;31</title>\n",
       "<path fill=\"none\" stroke=\"black\" d=\"M97.89,-895.44C83.36,-884.92 67.48,-870.72 58,-854 41.74,-825.31 37.15,-787.65 36.24,-760.35\"/>\n",
       "<polygon fill=\"black\" stroke=\"black\" points=\"39.73,-760 36.05,-750.06 32.73,-760.13 39.73,-760\"/>\n",
       "</g>\n",
       "<!-- 27 -->\n",
       "<g id=\"node27\" class=\"node\">\n",
       "<title>27</title>\n",
       "<polygon fill=\"none\" stroke=\"black\" points=\"242,-742.5 182,-742.5 182,-704.5 242,-704.5 242,-742.5\"/>\n",
       "<text text-anchor=\"middle\" x=\"212\" y=\"-727.3\" font-family=\"Times,serif\" font-size=\"14.00\">[27]</text>\n",
       "<text text-anchor=\"middle\" x=\"212\" y=\"-712.3\" font-family=\"Times,serif\" font-size=\"14.00\">Pushout</text>\n",
       "</g>\n",
       "<!-- 25&#45;&gt;27 -->\n",
       "<g id=\"edge50\" class=\"edge\">\n",
       "<title>25&#45;&gt;27</title>\n",
       "<path fill=\"none\" stroke=\"black\" d=\"M131.04,-793.43C147.11,-779.74 166.83,-762.96 182.77,-749.38\"/>\n",
       "<polygon fill=\"black\" stroke=\"black\" points=\"185.39,-751.75 190.73,-742.61 180.85,-746.42 185.39,-751.75\"/>\n",
       "</g>\n",
       "<!-- 30 -->\n",
       "<g id=\"node30\" class=\"node\">\n",
       "<title>30</title>\n",
       "<polygon fill=\"none\" stroke=\"black\" points=\"238,-661 54,-661 54,-608 238,-608 238,-661\"/>\n",
       "<text text-anchor=\"middle\" x=\"146\" y=\"-645.8\" font-family=\"Times,serif\" font-size=\"14.00\">[30]</text>\n",
       "<text text-anchor=\"middle\" x=\"146\" y=\"-630.8\" font-family=\"Times,serif\" font-size=\"14.00\">InjectionOfCofactorOfPushout</text>\n",
       "<text text-anchor=\"middle\" x=\"146\" y=\"-615.8\" font-family=\"Times,serif\" font-size=\"14.00\">WithGivenPushout( 2 )</text>\n",
       "</g>\n",
       "<!-- 25&#45;&gt;30 -->\n",
       "<g id=\"edge51\" class=\"edge\">\n",
       "<title>25&#45;&gt;30</title>\n",
       "<path fill=\"none\" stroke=\"black\" d=\"M107.26,-793.49C115.06,-761.67 128.44,-707.09 137.26,-671.15\"/>\n",
       "<polygon fill=\"black\" stroke=\"black\" points=\"140.74,-671.64 139.72,-661.09 133.94,-669.97 140.74,-671.64\"/>\n",
       "</g>\n",
       "<!-- 32 -->\n",
       "<g id=\"node32\" class=\"node\">\n",
       "<title>32</title>\n",
       "<polygon fill=\"none\" stroke=\"black\" points=\"440,-661 256,-661 256,-608 440,-608 440,-661\"/>\n",
       "<text text-anchor=\"middle\" x=\"348\" y=\"-645.8\" font-family=\"Times,serif\" font-size=\"14.00\">[32]</text>\n",
       "<text text-anchor=\"middle\" x=\"348\" y=\"-630.8\" font-family=\"Times,serif\" font-size=\"14.00\">InjectionOfCofactorOfPushout</text>\n",
       "<text text-anchor=\"middle\" x=\"348\" y=\"-615.8\" font-family=\"Times,serif\" font-size=\"14.00\">WithGivenPushout( 1 )</text>\n",
       "</g>\n",
       "<!-- 25&#45;&gt;32 -->\n",
       "<g id=\"edge52\" class=\"edge\">\n",
       "<title>25&#45;&gt;32</title>\n",
       "<path fill=\"none\" stroke=\"black\" d=\"M132.14,-793.25C136.01,-790.61 140.01,-788.12 144,-786 188.28,-762.41 210.47,-779.58 251,-750 274.62,-732.76 271.27,-719.46 290,-697 297.93,-687.49 306.94,-677.57 315.44,-668.54\"/>\n",
       "<polygon fill=\"black\" stroke=\"black\" points=\"318.08,-670.85 322.44,-661.19 313.01,-666.02 318.08,-670.85\"/>\n",
       "</g>\n",
       "<!-- 26&#45;&gt;27 -->\n",
       "<g id=\"edge53\" class=\"edge\">\n",
       "<title>26&#45;&gt;27</title>\n",
       "<path fill=\"none\" stroke=\"black\" d=\"M213.3,-785.95C213.07,-775.12 212.82,-763.21 212.6,-752.77\"/>\n",
       "<polygon fill=\"black\" stroke=\"black\" points=\"216.09,-752.46 212.38,-742.54 209.09,-752.61 216.09,-752.46\"/>\n",
       "</g>\n",
       "<!-- 26&#45;&gt;30 -->\n",
       "<g id=\"edge54\" class=\"edge\">\n",
       "<title>26&#45;&gt;30</title>\n",
       "<path fill=\"none\" stroke=\"black\" d=\"M191.42,-785.67C184.74,-774.67 177.91,-762.15 173,-750 162.72,-724.55 155.79,-694.26 151.53,-671.22\"/>\n",
       "<polygon fill=\"black\" stroke=\"black\" points=\"154.94,-670.44 149.76,-661.2 148.05,-671.65 154.94,-670.44\"/>\n",
       "</g>\n",
       "<!-- 26&#45;&gt;32 -->\n",
       "<g id=\"edge55\" class=\"edge\">\n",
       "<title>26&#45;&gt;32</title>\n",
       "<path fill=\"none\" stroke=\"black\" d=\"M256.16,-785.68C268,-775.07 280.28,-762.76 290,-750 308.64,-725.55 324.04,-694.19 334.27,-670.47\"/>\n",
       "<polygon fill=\"black\" stroke=\"black\" points=\"337.54,-671.72 338.2,-661.14 331.09,-669 337.54,-671.72\"/>\n",
       "</g>\n",
       "<!-- 27&#45;&gt;30 -->\n",
       "<g id=\"edge56\" class=\"edge\">\n",
       "<title>27&#45;&gt;30</title>\n",
       "<path fill=\"none\" stroke=\"black\" d=\"M198.32,-704.47C190.59,-694.28 180.68,-681.21 171.56,-669.2\"/>\n",
       "<polygon fill=\"black\" stroke=\"black\" points=\"174.25,-666.94 165.41,-661.09 168.67,-671.17 174.25,-666.94\"/>\n",
       "</g>\n",
       "<!-- 27&#45;&gt;32 -->\n",
       "<g id=\"edge57\" class=\"edge\">\n",
       "<title>27&#45;&gt;32</title>\n",
       "<path fill=\"none\" stroke=\"black\" d=\"M240.18,-704.47C257.26,-693.55 279.51,-679.31 299.36,-666.61\"/>\n",
       "<polygon fill=\"black\" stroke=\"black\" points=\"301.46,-669.43 307.99,-661.09 297.68,-663.53 301.46,-669.43\"/>\n",
       "</g>\n",
       "<!-- 33 -->\n",
       "<g id=\"node33\" class=\"node\">\n",
       "<title>33</title>\n",
       "<polygon fill=\"none\" stroke=\"black\" points=\"548,-750 480,-750 480,-697 548,-697 548,-750\"/>\n",
       "<text text-anchor=\"middle\" x=\"514\" y=\"-734.8\" font-family=\"Times,serif\" font-size=\"14.00\">[33]</text>\n",
       "<text text-anchor=\"middle\" x=\"514\" y=\"-719.8\" font-family=\"Times,serif\" font-size=\"14.00\">Pre</text>\n",
       "<text text-anchor=\"middle\" x=\"514\" y=\"-704.8\" font-family=\"Times,serif\" font-size=\"14.00\">Compose</text>\n",
       "</g>\n",
       "<!-- 28&#45;&gt;33 -->\n",
       "<g id=\"edge58\" class=\"edge\">\n",
       "<title>28&#45;&gt;33</title>\n",
       "<path fill=\"none\" stroke=\"black\" d=\"M514,-889.74C514,-856.33 514,-797.87 514,-760.19\"/>\n",
       "<polygon fill=\"black\" stroke=\"black\" points=\"517.5,-760.16 514,-750.16 510.5,-760.16 517.5,-760.16\"/>\n",
       "</g>\n",
       "<!-- 29&#45;&gt;33 -->\n",
       "<g id=\"edge59\" class=\"edge\">\n",
       "<title>29&#45;&gt;33</title>\n",
       "<path fill=\"none\" stroke=\"black\" d=\"M609.84,-794.17C593.55,-782.33 573.9,-768.04 556.63,-755.49\"/>\n",
       "<polygon fill=\"black\" stroke=\"black\" points=\"558.53,-752.54 548.38,-749.49 554.41,-758.2 558.53,-752.54\"/>\n",
       "</g>\n",
       "<!-- 35 -->\n",
       "<g id=\"node35\" class=\"node\">\n",
       "<title>35</title>\n",
       "<polygon fill=\"none\" stroke=\"black\" points=\"180,-572 112,-572 112,-519 180,-519 180,-572\"/>\n",
       "<text text-anchor=\"middle\" x=\"146\" y=\"-556.8\" font-family=\"Times,serif\" font-size=\"14.00\">[35]</text>\n",
       "<text text-anchor=\"middle\" x=\"146\" y=\"-541.8\" font-family=\"Times,serif\" font-size=\"14.00\">Pre</text>\n",
       "<text text-anchor=\"middle\" x=\"146\" y=\"-526.8\" font-family=\"Times,serif\" font-size=\"14.00\">Compose</text>\n",
       "</g>\n",
       "<!-- 30&#45;&gt;35 -->\n",
       "<g id=\"edge60\" class=\"edge\">\n",
       "<title>30&#45;&gt;35</title>\n",
       "<path fill=\"none\" stroke=\"black\" d=\"M146,-607.87C146,-599.89 146,-590.93 146,-582.38\"/>\n",
       "<polygon fill=\"black\" stroke=\"black\" points=\"149.5,-582.25 146,-572.25 142.5,-582.25 149.5,-582.25\"/>\n",
       "</g>\n",
       "<!-- 31&#45;&gt;35 -->\n",
       "<g id=\"edge61\" class=\"edge\">\n",
       "<title>31&#45;&gt;35</title>\n",
       "<path fill=\"none\" stroke=\"black\" d=\"M32.42,-696.83C29.42,-672.21 28.63,-634.89 45,-608 57.96,-586.71 81.34,-571.78 102.35,-561.97\"/>\n",
       "<polygon fill=\"black\" stroke=\"black\" points=\"104.04,-565.05 111.79,-557.82 101.22,-558.64 104.04,-565.05\"/>\n",
       "</g>\n",
       "<!-- 34 -->\n",
       "<g id=\"node34\" class=\"node\">\n",
       "<title>34</title>\n",
       "<polygon fill=\"none\" stroke=\"black\" points=\"382,-572 314,-572 314,-519 382,-519 382,-572\"/>\n",
       "<text text-anchor=\"middle\" x=\"348\" y=\"-556.8\" font-family=\"Times,serif\" font-size=\"14.00\">[34]</text>\n",
       "<text text-anchor=\"middle\" x=\"348\" y=\"-541.8\" font-family=\"Times,serif\" font-size=\"14.00\">Pre</text>\n",
       "<text text-anchor=\"middle\" x=\"348\" y=\"-526.8\" font-family=\"Times,serif\" font-size=\"14.00\">Compose</text>\n",
       "</g>\n",
       "<!-- 32&#45;&gt;34 -->\n",
       "<g id=\"edge62\" class=\"edge\">\n",
       "<title>32&#45;&gt;34</title>\n",
       "<path fill=\"none\" stroke=\"black\" d=\"M348,-607.87C348,-599.89 348,-590.93 348,-582.38\"/>\n",
       "<polygon fill=\"black\" stroke=\"black\" points=\"351.5,-582.25 348,-572.25 344.5,-582.25 351.5,-582.25\"/>\n",
       "</g>\n",
       "<!-- 33&#45;&gt;34 -->\n",
       "<g id=\"edge63\" class=\"edge\">\n",
       "<title>33&#45;&gt;34</title>\n",
       "<path fill=\"none\" stroke=\"black\" d=\"M503.97,-696.88C493.25,-671.94 474.3,-634.09 449,-608 432.59,-591.08 410.58,-576.97 391.3,-566.54\"/>\n",
       "<polygon fill=\"black\" stroke=\"black\" points=\"392.86,-563.41 382.38,-561.87 389.61,-569.61 392.86,-563.41\"/>\n",
       "</g>\n",
       "<!-- 36 -->\n",
       "<g id=\"node36\" class=\"node\">\n",
       "<title>36</title>\n",
       "<polygon fill=\"none\" stroke=\"black\" points=\"278.5,-483 219.5,-483 219.5,-430 278.5,-430 278.5,-483\"/>\n",
       "<text text-anchor=\"middle\" x=\"249\" y=\"-467.8\" font-family=\"Times,serif\" font-size=\"14.00\">[36]</text>\n",
       "<text text-anchor=\"middle\" x=\"249\" y=\"-452.8\" font-family=\"Times,serif\" font-size=\"14.00\">Fiber</text>\n",
       "<text text-anchor=\"middle\" x=\"249\" y=\"-437.8\" font-family=\"Times,serif\" font-size=\"14.00\">Product</text>\n",
       "</g>\n",
       "<!-- 34&#45;&gt;36 -->\n",
       "<g id=\"edge64\" class=\"edge\">\n",
       "<title>34&#45;&gt;36</title>\n",
       "<path fill=\"none\" stroke=\"black\" d=\"M318.83,-518.87C308.55,-509.83 296.85,-499.55 286.01,-490.03\"/>\n",
       "<polygon fill=\"black\" stroke=\"black\" points=\"288.12,-487.22 278.3,-483.25 283.5,-492.48 288.12,-487.22\"/>\n",
       "</g>\n",
       "<!-- 37 -->\n",
       "<g id=\"node37\" class=\"node\">\n",
       "<title>37</title>\n",
       "<polygon fill=\"none\" stroke=\"black\" points=\"233.5,-394 30.5,-394 30.5,-341 233.5,-341 233.5,-394\"/>\n",
       "<text text-anchor=\"middle\" x=\"132\" y=\"-378.8\" font-family=\"Times,serif\" font-size=\"14.00\">[37]</text>\n",
       "<text text-anchor=\"middle\" x=\"132\" y=\"-363.8\" font-family=\"Times,serif\" font-size=\"14.00\">ProjectionInFactorOfFiberProduct</text>\n",
       "<text text-anchor=\"middle\" x=\"132\" y=\"-348.8\" font-family=\"Times,serif\" font-size=\"14.00\">WithGivenFiberProduct( 1 )</text>\n",
       "</g>\n",
       "<!-- 34&#45;&gt;37 -->\n",
       "<g id=\"edge65\" class=\"edge\">\n",
       "<title>34&#45;&gt;37</title>\n",
       "<path fill=\"none\" stroke=\"black\" d=\"M313.91,-535.14C284.07,-525.67 240.8,-508.73 210,-483 183.81,-461.12 162.69,-428.33 149.07,-403.43\"/>\n",
       "<polygon fill=\"black\" stroke=\"black\" points=\"152.01,-401.5 144.22,-394.32 145.83,-404.79 152.01,-401.5\"/>\n",
       "</g>\n",
       "<!-- 38 -->\n",
       "<g id=\"node38\" class=\"node\">\n",
       "<title>38</title>\n",
       "<polygon fill=\"none\" stroke=\"black\" points=\"454.5,-394 251.5,-394 251.5,-341 454.5,-341 454.5,-394\"/>\n",
       "<text text-anchor=\"middle\" x=\"353\" y=\"-378.8\" font-family=\"Times,serif\" font-size=\"14.00\">[38]</text>\n",
       "<text text-anchor=\"middle\" x=\"353\" y=\"-363.8\" font-family=\"Times,serif\" font-size=\"14.00\">ProjectionInFactorOfFiberProduct</text>\n",
       "<text text-anchor=\"middle\" x=\"353\" y=\"-348.8\" font-family=\"Times,serif\" font-size=\"14.00\">WithGivenFiberProduct( 2 )</text>\n",
       "</g>\n",
       "<!-- 34&#45;&gt;38 -->\n",
       "<g id=\"edge66\" class=\"edge\">\n",
       "<title>34&#45;&gt;38</title>\n",
       "<path fill=\"none\" stroke=\"black\" d=\"M348.73,-518.91C349.59,-488.67 351.02,-438.17 351.99,-404.12\"/>\n",
       "<polygon fill=\"black\" stroke=\"black\" points=\"355.49,-404.22 352.27,-394.12 348.49,-404.02 355.49,-404.22\"/>\n",
       "</g>\n",
       "<!-- 35&#45;&gt;36 -->\n",
       "<g id=\"edge67\" class=\"edge\">\n",
       "<title>35&#45;&gt;36</title>\n",
       "<path fill=\"none\" stroke=\"black\" d=\"M176.35,-518.87C187.34,-509.58 199.89,-498.98 211.43,-489.23\"/>\n",
       "<polygon fill=\"black\" stroke=\"black\" points=\"213.84,-491.78 219.23,-482.65 209.33,-486.43 213.84,-491.78\"/>\n",
       "</g>\n",
       "<!-- 35&#45;&gt;37 -->\n",
       "<g id=\"edge68\" class=\"edge\">\n",
       "<title>35&#45;&gt;37</title>\n",
       "<path fill=\"none\" stroke=\"black\" d=\"M143.96,-518.91C141.56,-488.67 137.54,-438.17 134.83,-404.12\"/>\n",
       "<polygon fill=\"black\" stroke=\"black\" points=\"138.32,-403.81 134.04,-394.12 131.34,-404.37 138.32,-403.81\"/>\n",
       "</g>\n",
       "<!-- 35&#45;&gt;38 -->\n",
       "<g id=\"edge69\" class=\"edge\">\n",
       "<title>35&#45;&gt;38</title>\n",
       "<path fill=\"none\" stroke=\"black\" d=\"M180.11,-536.22C210.96,-527.32 256.14,-510.59 287,-483 311.16,-461.4 328.75,-428.78 339.67,-403.87\"/>\n",
       "<polygon fill=\"black\" stroke=\"black\" points=\"343,-404.98 343.66,-394.41 336.55,-402.26 343,-404.98\"/>\n",
       "</g>\n",
       "<!-- 36&#45;&gt;37 -->\n",
       "<g id=\"edge70\" class=\"edge\">\n",
       "<title>36&#45;&gt;37</title>\n",
       "<path fill=\"none\" stroke=\"black\" d=\"M219.48,-433.55C205.88,-423.44 189.49,-411.25 174.6,-400.17\"/>\n",
       "<polygon fill=\"black\" stroke=\"black\" points=\"176.61,-397.31 166.5,-394.15 172.44,-402.93 176.61,-397.31\"/>\n",
       "</g>\n",
       "<!-- 36&#45;&gt;38 -->\n",
       "<g id=\"edge71\" class=\"edge\">\n",
       "<title>36&#45;&gt;38</title>\n",
       "<path fill=\"none\" stroke=\"black\" d=\"M278.52,-430.8C289.65,-421.5 302.47,-410.77 314.31,-400.87\"/>\n",
       "<polygon fill=\"black\" stroke=\"black\" points=\"316.89,-403.27 322.32,-394.17 312.4,-397.9 316.89,-403.27\"/>\n",
       "</g>\n",
       "<!-- 39 -->\n",
       "<g id=\"node39\" class=\"node\">\n",
       "<title>39</title>\n",
       "<polygon fill=\"none\" stroke=\"black\" points=\"278,-305 218,-305 218,-267 278,-267 278,-305\"/>\n",
       "<text text-anchor=\"middle\" x=\"248\" y=\"-289.8\" font-family=\"Times,serif\" font-size=\"14.00\">[39]</text>\n",
       "<text text-anchor=\"middle\" x=\"248\" y=\"-274.8\" font-family=\"Times,serif\" font-size=\"14.00\">Pushout</text>\n",
       "</g>\n",
       "<!-- 37&#45;&gt;39 -->\n",
       "<g id=\"edge72\" class=\"edge\">\n",
       "<title>37&#45;&gt;39</title>\n",
       "<path fill=\"none\" stroke=\"black\" d=\"M169.34,-340.91C183.38,-331.29 199.28,-320.39 213.09,-310.92\"/>\n",
       "<polygon fill=\"black\" stroke=\"black\" points=\"215.12,-313.78 221.39,-305.24 211.16,-308.01 215.12,-313.78\"/>\n",
       "</g>\n",
       "<!-- 40 -->\n",
       "<g id=\"node40\" class=\"node\">\n",
       "<title>40</title>\n",
       "<polygon fill=\"none\" stroke=\"black\" points=\"238,-231 54,-231 54,-178 238,-178 238,-231\"/>\n",
       "<text text-anchor=\"middle\" x=\"146\" y=\"-215.8\" font-family=\"Times,serif\" font-size=\"14.00\">[40]</text>\n",
       "<text text-anchor=\"middle\" x=\"146\" y=\"-200.8\" font-family=\"Times,serif\" font-size=\"14.00\">InjectionOfCofactorOfPushout</text>\n",
       "<text text-anchor=\"middle\" x=\"146\" y=\"-185.8\" font-family=\"Times,serif\" font-size=\"14.00\">WithGivenPushout( 2 )</text>\n",
       "</g>\n",
       "<!-- 37&#45;&gt;40 -->\n",
       "<g id=\"edge73\" class=\"edge\">\n",
       "<title>37&#45;&gt;40</title>\n",
       "<path fill=\"none\" stroke=\"black\" d=\"M134.22,-340.99C136.56,-314.1 140.26,-271.53 142.89,-241.29\"/>\n",
       "<polygon fill=\"black\" stroke=\"black\" points=\"146.39,-241.42 143.77,-231.16 139.42,-240.82 146.39,-241.42\"/>\n",
       "</g>\n",
       "<!-- 42 -->\n",
       "<g id=\"node42\" class=\"node\">\n",
       "<title>42</title>\n",
       "<polygon fill=\"none\" stroke=\"black\" points=\"440,-231 256,-231 256,-178 440,-178 440,-231\"/>\n",
       "<text text-anchor=\"middle\" x=\"348\" y=\"-215.8\" font-family=\"Times,serif\" font-size=\"14.00\">[42]</text>\n",
       "<text text-anchor=\"middle\" x=\"348\" y=\"-200.8\" font-family=\"Times,serif\" font-size=\"14.00\">InjectionOfCofactorOfPushout</text>\n",
       "<text text-anchor=\"middle\" x=\"348\" y=\"-185.8\" font-family=\"Times,serif\" font-size=\"14.00\">WithGivenPushout( 1 )</text>\n",
       "</g>\n",
       "<!-- 37&#45;&gt;42 -->\n",
       "<g id=\"edge74\" class=\"edge\">\n",
       "<title>37&#45;&gt;42</title>\n",
       "<path fill=\"none\" stroke=\"black\" d=\"M224.7,-340.9C246.67,-331.94 268.94,-320.19 287,-305 307.57,-287.7 323.21,-261.6 333.5,-240.48\"/>\n",
       "<polygon fill=\"black\" stroke=\"black\" points=\"336.78,-241.71 337.84,-231.17 330.44,-238.75 336.78,-241.71\"/>\n",
       "</g>\n",
       "<!-- 38&#45;&gt;39 -->\n",
       "<g id=\"edge75\" class=\"edge\">\n",
       "<title>38&#45;&gt;39</title>\n",
       "<path fill=\"none\" stroke=\"black\" d=\"M319.2,-340.91C306.73,-331.47 292.64,-320.8 280.31,-311.46\"/>\n",
       "<polygon fill=\"black\" stroke=\"black\" points=\"282.17,-308.48 272.09,-305.24 277.95,-314.07 282.17,-308.48\"/>\n",
       "</g>\n",
       "<!-- 38&#45;&gt;40 -->\n",
       "<g id=\"edge76\" class=\"edge\">\n",
       "<title>38&#45;&gt;40</title>\n",
       "<path fill=\"none\" stroke=\"black\" d=\"M269.64,-340.88C248.39,-331.78 226.6,-319.97 209,-305 188.25,-287.34 172.03,-261.1 161.24,-240\"/>\n",
       "<polygon fill=\"black\" stroke=\"black\" points=\"164.38,-238.44 156.82,-231.02 158.1,-241.53 164.38,-238.44\"/>\n",
       "</g>\n",
       "<!-- 38&#45;&gt;42 -->\n",
       "<g id=\"edge77\" class=\"edge\">\n",
       "<title>38&#45;&gt;42</title>\n",
       "<path fill=\"none\" stroke=\"black\" d=\"M352.21,-340.99C351.37,-314.1 350.05,-271.53 349.11,-241.29\"/>\n",
       "<polygon fill=\"black\" stroke=\"black\" points=\"352.61,-241.04 348.8,-231.16 345.61,-241.26 352.61,-241.04\"/>\n",
       "</g>\n",
       "<!-- 39&#45;&gt;40 -->\n",
       "<g id=\"edge78\" class=\"edge\">\n",
       "<title>39&#45;&gt;40</title>\n",
       "<path fill=\"none\" stroke=\"black\" d=\"M224.85,-266.96C213.56,-258.16 199.64,-247.31 186.65,-237.19\"/>\n",
       "<polygon fill=\"black\" stroke=\"black\" points=\"188.76,-234.39 178.72,-231 184.46,-239.91 188.76,-234.39\"/>\n",
       "</g>\n",
       "<!-- 39&#45;&gt;42 -->\n",
       "<g id=\"edge79\" class=\"edge\">\n",
       "<title>39&#45;&gt;42</title>\n",
       "<path fill=\"none\" stroke=\"black\" d=\"M270.69,-266.96C281.66,-258.24 295.15,-247.51 307.78,-237.47\"/>\n",
       "<polygon fill=\"black\" stroke=\"black\" points=\"310.27,-239.97 315.92,-231 305.92,-234.49 310.27,-239.97\"/>\n",
       "</g>\n",
       "<!-- 41 -->\n",
       "<g id=\"node41\" class=\"node\">\n",
       "<title>41</title>\n",
       "<polygon fill=\"none\" stroke=\"black\" points=\"251.5,-142 174.5,-142 174.5,-89 251.5,-89 251.5,-142\"/>\n",
       "<text text-anchor=\"middle\" x=\"213\" y=\"-126.8\" font-family=\"Times,serif\" font-size=\"14.00\">[41]</text>\n",
       "<text text-anchor=\"middle\" x=\"213\" y=\"-111.8\" font-family=\"Times,serif\" font-size=\"14.00\">Inverse</text>\n",
       "<text text-anchor=\"middle\" x=\"213\" y=\"-96.8\" font-family=\"Times,serif\" font-size=\"14.00\">Immutable</text>\n",
       "</g>\n",
       "<!-- 40&#45;&gt;41 -->\n",
       "<g id=\"edge80\" class=\"edge\">\n",
       "<title>40&#45;&gt;41</title>\n",
       "<path fill=\"none\" stroke=\"black\" d=\"M165.74,-177.87C172.36,-169.27 179.85,-159.55 186.88,-150.42\"/>\n",
       "<polygon fill=\"black\" stroke=\"black\" points=\"189.84,-152.31 193.17,-142.25 184.3,-148.04 189.84,-152.31\"/>\n",
       "</g>\n",
       "<!-- 43 -->\n",
       "<g id=\"node43\" class=\"node\">\n",
       "<title>43</title>\n",
       "<polygon fill=\"none\" stroke=\"black\" points=\"280,-53 212,-53 212,0 280,0 280,-53\"/>\n",
       "<text text-anchor=\"middle\" x=\"246\" y=\"-37.8\" font-family=\"Times,serif\" font-size=\"14.00\">[43]</text>\n",
       "<text text-anchor=\"middle\" x=\"246\" y=\"-22.8\" font-family=\"Times,serif\" font-size=\"14.00\">Pre</text>\n",
       "<text text-anchor=\"middle\" x=\"246\" y=\"-7.8\" font-family=\"Times,serif\" font-size=\"14.00\">Compose</text>\n",
       "</g>\n",
       "<!-- 41&#45;&gt;43 -->\n",
       "<g id=\"edge81\" class=\"edge\">\n",
       "<title>41&#45;&gt;43</title>\n",
       "<path fill=\"none\" stroke=\"black\" d=\"M222.72,-88.87C225.82,-80.71 229.3,-71.54 232.6,-62.82\"/>\n",
       "<polygon fill=\"black\" stroke=\"black\" points=\"235.96,-63.84 236.23,-53.25 229.41,-61.36 235.96,-63.84\"/>\n",
       "</g>\n",
       "<!-- 42&#45;&gt;43 -->\n",
       "<g id=\"edge82\" class=\"edge\">\n",
       "<title>42&#45;&gt;43</title>\n",
       "<path fill=\"none\" stroke=\"black\" d=\"M333.17,-177.91C315.42,-147.28 285.62,-95.86 265.88,-61.81\"/>\n",
       "<polygon fill=\"black\" stroke=\"black\" points=\"268.89,-60.02 260.85,-53.12 262.84,-63.53 268.89,-60.02\"/>\n",
       "</g>\n",
       "</g>\n",
       "</svg>\n"
      ]
     },
     "metadata": {},
     "output_type": "display_data"
    }
   ],
   "source": [
    "VisualizeInJulia( s )"
   ]
  },
  {
   "cell_type": "code",
   "execution_count": 32,
   "metadata": {},
   "outputs": [
    {
     "data": {
      "text/plain": [
       "GAP: <A morphism in LazyCategory( Adelman category( QuiverRows( (Q * q) / [ 1*(a*b*c) ] ) ) )>"
      ]
     },
     "execution_count": 32,
     "metadata": {},
     "output_type": "execute_result"
    }
   ],
   "source": [
    "j = KernelObjectFunctorial( b, d, e )"
   ]
  },
  {
   "cell_type": "code",
   "execution_count": 33,
   "metadata": {},
   "outputs": [
    {
     "data": {
      "text/plain": [
       "GAP: <A morphism in LazyCategory( Adelman category( QuiverRows( (Q * q) / [ 1*(a*b*c) ] ) ) )>"
      ]
     },
     "execution_count": 33,
     "metadata": {},
     "output_type": "execute_result"
    }
   ],
   "source": [
    "k = CokernelObjectFunctorial( h, g, b )"
   ]
  },
  {
   "cell_type": "code",
   "execution_count": 34,
   "metadata": {},
   "outputs": [
    {
     "data": {
      "text/plain": [
       "GAP: <An object in LazyCategory( Adelman category( QuiverRows( (Q * q) / [ 1*(a*b*c) ] ) ) )>"
      ]
     },
     "execution_count": 34,
     "metadata": {},
     "output_type": "execute_result"
    }
   ],
   "source": [
    "HK = HomologyObject( j, s )"
   ]
  },
  {
   "cell_type": "code",
   "execution_count": 35,
   "metadata": {},
   "outputs": [
    {
     "data": {
      "text/plain": [
       "GAP: <An object in LazyCategory( Adelman category( QuiverRows( (Q * q) / [ 1*(a*b*c) ] ) ) )>"
      ]
     },
     "execution_count": 35,
     "metadata": {},
     "output_type": "execute_result"
    }
   ],
   "source": [
    "HC = HomologyObject( s, k )"
   ]
  },
  {
   "cell_type": "code",
   "execution_count": null,
   "metadata": {},
   "outputs": [],
   "source": []
  }
 ],
 "metadata": {
  "@webio": {
   "lastCommId": null,
   "lastKernelId": null
  },
  "kernelspec": {
   "display_name": "Julia 1.4.1",
   "language": "julia",
   "name": "julia-1.4"
  },
  "language_info": {
   "file_extension": ".jl",
   "mimetype": "application/julia",
   "name": "julia",
   "version": "1.4.1"
  }
 },
 "nbformat": 4,
 "nbformat_minor": 2
}
