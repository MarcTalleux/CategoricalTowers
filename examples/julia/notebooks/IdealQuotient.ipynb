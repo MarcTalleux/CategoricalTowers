{
 "cells": [
  {
   "cell_type": "code",
   "execution_count": 1,
   "metadata": {},
   "outputs": [
    {
     "name": "stdout",
     "output_type": "stream",
     "text": [
      "CapAndHomalg v\u001b[32m1.3.1\u001b[39m\n",
      "Imported OSCAR's components GAP and Singular_jll\n",
      "Type: ?CapAndHomalg for more information\n"
     ]
    }
   ],
   "source": [
    "using CapAndHomalg"
   ]
  },
  {
   "cell_type": "code",
   "execution_count": 2,
   "metadata": {},
   "outputs": [],
   "source": [
    "LoadPackage( \"FreydCategoriesForCAP\" )"
   ]
  },
  {
   "cell_type": "code",
   "execution_count": 3,
   "metadata": {},
   "outputs": [],
   "source": [
    "LoadPackage( \"SubcategoriesForCAP\" )"
   ]
  },
  {
   "cell_type": "code",
   "execution_count": 4,
   "metadata": {},
   "outputs": [],
   "source": [
    "LoadPackage( \"Locales\" )"
   ]
  },
  {
   "cell_type": "code",
   "execution_count": 5,
   "metadata": {},
   "outputs": [],
   "source": [
    "LoadPackage( \"LazyCategories\" )"
   ]
  },
  {
   "cell_type": "code",
   "execution_count": 6,
   "metadata": {},
   "outputs": [
    {
     "data": {
      "text/plain": [
       "GAP: Q"
      ]
     },
     "execution_count": 6,
     "metadata": {},
     "output_type": "execute_result"
    }
   ],
   "source": [
    "Q = HomalgFieldOfRationalsInSingular( )"
   ]
  },
  {
   "cell_type": "code",
   "execution_count": 7,
   "metadata": {},
   "outputs": [
    {
     "data": {
      "text/plain": [
       "GAP: Q[x,y]"
      ]
     },
     "execution_count": 7,
     "metadata": {},
     "output_type": "execute_result"
    }
   ],
   "source": [
    "R = Q[\"x,y\"]"
   ]
  },
  {
   "cell_type": "code",
   "execution_count": 8,
   "metadata": {},
   "outputs": [
    {
     "data": {
      "text/plain": [
       "GAP: <A 2 x 1 matrix over an external ring>"
      ]
     },
     "execution_count": 8,
     "metadata": {},
     "output_type": "execute_result"
    }
   ],
   "source": [
    "K = HomalgMatrix( \"[ x, -x ]\", 2, 1, R )"
   ]
  },
  {
   "cell_type": "code",
   "execution_count": 9,
   "metadata": {},
   "outputs": [
    {
     "data": {
      "text/plain": [
       "GAP: <A 2 x 1 matrix over an external ring>"
      ]
     },
     "execution_count": 9,
     "metadata": {},
     "output_type": "execute_result"
    }
   ],
   "source": [
    "J = HomalgMatrix( \"[ x, y ]\", 2, 1, R )"
   ]
  },
  {
   "cell_type": "code",
   "execution_count": 10,
   "metadata": {},
   "outputs": [
    {
     "data": {
      "text/plain": [
       "GAP: <An unevaluated 4 x 1 matrix over an external ring>"
      ]
     },
     "execution_count": 10,
     "metadata": {},
     "output_type": "execute_result"
    }
   ],
   "source": [
    "I = KroneckerMat( K, J )"
   ]
  },
  {
   "cell_type": "code",
   "execution_count": 11,
   "metadata": {},
   "outputs": [
    {
     "data": {
      "text/plain": [
       "GAP: Rows( Q[x,y] )"
      ]
     },
     "execution_count": 11,
     "metadata": {},
     "output_type": "execute_result"
    }
   ],
   "source": [
    "P = CategoryOfRows( R )"
   ]
  },
  {
   "cell_type": "code",
   "execution_count": 12,
   "metadata": {},
   "outputs": [
    {
     "data": {
      "text/plain": [
       "GAP: LazyCategory( Rows( Q[x,y] ) )"
      ]
     },
     "execution_count": 12,
     "metadata": {},
     "output_type": "execute_result"
    }
   ],
   "source": [
    "P = LazyCategory( P, show_evaluation = true )"
   ]
  },
  {
   "cell_type": "code",
   "execution_count": 13,
   "metadata": {},
   "outputs": [
    {
     "data": {
      "text/plain": [
       "GAP: <An evaluated morphism in LazyCategory( Rows( Q[x,y] ) )>"
      ]
     },
     "execution_count": 13,
     "metadata": {},
     "output_type": "execute_result"
    }
   ],
   "source": [
    "I = I / P"
   ]
  },
  {
   "cell_type": "code",
   "execution_count": 14,
   "metadata": {},
   "outputs": [],
   "source": [
    "SetLabel( I, \"I\" ); SetLabel( Source( I ), \"R^i\" )"
   ]
  },
  {
   "cell_type": "code",
   "execution_count": 15,
   "metadata": {},
   "outputs": [
    {
     "data": {
      "text/plain": [
       "GAP: <An evaluated object in LazyCategory( Rows( Q[x,y] ) )>"
      ]
     },
     "execution_count": 15,
     "metadata": {},
     "output_type": "execute_result"
    }
   ],
   "source": [
    "R = Range( I )"
   ]
  },
  {
   "cell_type": "code",
   "execution_count": 16,
   "metadata": {},
   "outputs": [],
   "source": [
    "SetLabel( R, \"R\" )"
   ]
  },
  {
   "cell_type": "code",
   "execution_count": 17,
   "metadata": {},
   "outputs": [
    {
     "data": {
      "text/plain": [
       "GAP: <An evaluated morphism in LazyCategory( Rows( Q[x,y] ) )>"
      ]
     },
     "execution_count": 17,
     "metadata": {},
     "output_type": "execute_result"
    }
   ],
   "source": [
    "J = J / P"
   ]
  },
  {
   "cell_type": "code",
   "execution_count": 18,
   "metadata": {},
   "outputs": [],
   "source": [
    "SetLabel( J, \"J\" ); SetLabel( Source( J ), \"R^j\" )"
   ]
  },
  {
   "cell_type": "code",
   "execution_count": 19,
   "metadata": {},
   "outputs": [
    {
     "data": {
      "text/plain": [
       "GAP: <An evaluated morphism in LazyCategory( Rows( Q[x,y] ) )>"
      ]
     },
     "execution_count": 19,
     "metadata": {},
     "output_type": "execute_result"
    }
   ],
   "source": [
    "K = K / P"
   ]
  },
  {
   "cell_type": "code",
   "execution_count": 20,
   "metadata": {},
   "outputs": [
    {
     "data": {
      "text/plain": [
       "GAP: SliceCategoryOverTensorUnit( LazyCategory( Rows( Q[x,y] ) ) )"
      ]
     },
     "execution_count": 20,
     "metadata": {},
     "output_type": "execute_result"
    }
   ],
   "source": [
    "S = SliceCategoryOverTensorUnit( P )"
   ]
  },
  {
   "cell_type": "code",
   "execution_count": 21,
   "metadata": {},
   "outputs": [
    {
     "data": {
      "text/plain": [
       "GAP: Poset( SliceCategoryOverTensorUnit( LazyCategory( Rows( Q[x,y] ) ) ) )"
      ]
     },
     "execution_count": 21,
     "metadata": {},
     "output_type": "execute_result"
    }
   ],
   "source": [
    "L = PosetOfCategory( S )"
   ]
  },
  {
   "cell_type": "code",
   "execution_count": 22,
   "metadata": {},
   "outputs": [
    {
     "data": {
      "text/plain": [
       "GAP: An object in the poset given by: An object in the slice category given by: <An evaluated morphism in LazyCategory( Rows( Q[x,y] ) )>"
      ]
     },
     "execution_count": 22,
     "metadata": {},
     "output_type": "execute_result"
    }
   ],
   "source": [
    "I = I / S / L"
   ]
  },
  {
   "cell_type": "code",
   "execution_count": 23,
   "metadata": {},
   "outputs": [
    {
     "data": {
      "text/plain": [
       "GAP: An object in the poset given by: An object in the slice category given by: <An evaluated morphism in LazyCategory( Rows( Q[x,y] ) )>"
      ]
     },
     "execution_count": 23,
     "metadata": {},
     "output_type": "execute_result"
    }
   ],
   "source": [
    "J = J / S / L"
   ]
  },
  {
   "cell_type": "code",
   "execution_count": 24,
   "metadata": {},
   "outputs": [
    {
     "data": {
      "text/plain": [
       "GAP: An object in the poset given by: An object in the slice category given by: <An evaluated morphism in LazyCategory( Rows( Q[x,y] ) )>"
      ]
     },
     "execution_count": 24,
     "metadata": {},
     "output_type": "execute_result"
    }
   ],
   "source": [
    "K = K / S / L"
   ]
  },
  {
   "cell_type": "code",
   "execution_count": 25,
   "metadata": {},
   "outputs": [
    {
     "data": {
      "text/plain": [
       "GAP: An object in the poset given by: An object in the slice category given by: <A morphism in LazyCategory( Rows( Q[x,y] ) )>"
      ]
     },
     "execution_count": 25,
     "metadata": {},
     "output_type": "execute_result"
    }
   ],
   "source": [
    "IqJ = InternalHom( J, I )"
   ]
  },
  {
   "cell_type": "code",
   "execution_count": 26,
   "metadata": {
    "scrolled": false
   },
   "outputs": [
    {
     "data": {
      "image/svg+xml": [
       "<?xml version=\"1.0\" encoding=\"UTF-8\" standalone=\"no\"?>\n",
       "<!DOCTYPE svg PUBLIC \"-//W3C//DTD SVG 1.1//EN\"\n",
       " \"http://www.w3.org/Graphics/SVG/1.1/DTD/svg11.dtd\">\n",
       "<!-- Generated by graphviz version 2.49.3 (20211023.0002)\n",
       " -->\n",
       "<!-- Title: hgn Pages: 1 -->\n",
       "<svg width=\"815pt\" height=\"974pt\"\n",
       " viewBox=\"0.00 0.00 815.42 973.80\" xmlns=\"http://www.w3.org/2000/svg\" xmlns:xlink=\"http://www.w3.org/1999/xlink\">\n",
       "<g id=\"graph0\" class=\"graph\" transform=\"scale(1 1) rotate(0) translate(4 969.8)\">\n",
       "<title>hgn</title>\n",
       "<polygon fill=\"white\" stroke=\"transparent\" points=\"-4,4 -4,-969.8 811.42,-969.8 811.42,4 -4,4\"/>\n",
       "<!-- 1 -->\n",
       "<g id=\"node1\" class=\"node\">\n",
       "<title>1</title>\n",
       "<polygon fill=\"none\" stroke=\"black\" points=\"179.32,-965.9 111.66,-965.9 111.66,-890.5 179.32,-890.5 179.32,-965.9\"/>\n",
       "<text text-anchor=\"middle\" x=\"145.49\" y=\"-949.2\" font-family=\"Times,serif\" font-size=\"14.00\">[1]</text>\n",
       "<text text-anchor=\"middle\" x=\"145.49\" y=\"-932.4\" font-family=\"Times,serif\" font-size=\"14.00\">primitive</text>\n",
       "<text text-anchor=\"middle\" x=\"145.49\" y=\"-915.6\" font-family=\"Times,serif\" font-size=\"14.00\">object</text>\n",
       "<text text-anchor=\"middle\" x=\"145.49\" y=\"-898.8\" font-family=\"Times,serif\" font-size=\"14.00\">&lt;R&gt;</text>\n",
       "</g>\n",
       "<!-- 2 -->\n",
       "<g id=\"node2\" class=\"node\">\n",
       "<title>2</title>\n",
       "<polygon fill=\"none\" stroke=\"black\" points=\"197.36,-829.6 93.63,-829.6 93.63,-770.8 197.36,-770.8 197.36,-829.6\"/>\n",
       "<text text-anchor=\"middle\" x=\"145.49\" y=\"-812.8\" font-family=\"Times,serif\" font-size=\"14.00\">[2]</text>\n",
       "<text text-anchor=\"middle\" x=\"145.49\" y=\"-796\" font-family=\"Times,serif\" font-size=\"14.00\">Internal</text>\n",
       "<text text-anchor=\"middle\" x=\"145.49\" y=\"-779.2\" font-family=\"Times,serif\" font-size=\"14.00\">HomOnObjects</text>\n",
       "</g>\n",
       "<!-- 1&#45;&gt;2 -->\n",
       "<g id=\"edge1\" class=\"edge\">\n",
       "<title>1&#45;&gt;2</title>\n",
       "<path fill=\"none\" stroke=\"black\" d=\"M139.29,-890.42C138.58,-874.45 138.56,-855.74 139.22,-839.6\"/>\n",
       "<polygon fill=\"black\" stroke=\"black\" points=\"142.73,-839.58 139.76,-829.41 135.74,-839.21 142.73,-839.58\"/>\n",
       "</g>\n",
       "<!-- 1&#45;&gt;2 -->\n",
       "<g id=\"edge2\" class=\"edge\">\n",
       "<title>1&#45;&gt;2</title>\n",
       "<path fill=\"none\" stroke=\"black\" d=\"M151.69,-890.42C152.4,-874.45 152.42,-855.74 151.76,-839.6\"/>\n",
       "<polygon fill=\"black\" stroke=\"black\" points=\"155.25,-839.21 151.23,-829.41 148.26,-839.58 155.25,-839.21\"/>\n",
       "</g>\n",
       "<!-- 3 -->\n",
       "<g id=\"node3\" class=\"node\">\n",
       "<title>3</title>\n",
       "<polygon fill=\"none\" stroke=\"black\" points=\"199.78,-701.2 41.2,-701.2 41.2,-660 199.78,-660 199.78,-701.2\"/>\n",
       "<text text-anchor=\"middle\" x=\"120.49\" y=\"-684.8\" font-family=\"Times,serif\" font-size=\"14.00\">[3]</text>\n",
       "<text text-anchor=\"middle\" x=\"120.49\" y=\"-668\" font-family=\"Times,serif\" font-size=\"14.00\">TensorProductOnObjects</text>\n",
       "</g>\n",
       "<!-- 1&#45;&gt;3 -->\n",
       "<g id=\"edge4\" class=\"edge\">\n",
       "<title>1&#45;&gt;3</title>\n",
       "<path fill=\"none\" stroke=\"black\" d=\"M111.77,-893.81C98.36,-878.19 84.47,-858.5 77.49,-837.8 66.82,-806.13 69.42,-795.03 77.49,-762.6 82.11,-744.05 91.86,-725.08 100.91,-710.17\"/>\n",
       "<polygon fill=\"black\" stroke=\"black\" points=\"104.03,-711.77 106.4,-701.44 98.11,-708.04 104.03,-711.77\"/>\n",
       "<text text-anchor=\"middle\" x=\"80.99\" y=\"-796\" font-family=\"Times,serif\" font-size=\"14.00\">2</text>\n",
       "</g>\n",
       "<!-- 4 -->\n",
       "<g id=\"node4\" class=\"node\">\n",
       "<title>4</title>\n",
       "<polygon fill=\"none\" stroke=\"black\" points=\"134.98,-590.4 0.01,-590.4 0.01,-531.6 134.98,-531.6 134.98,-590.4\"/>\n",
       "<text text-anchor=\"middle\" x=\"67.49\" y=\"-573.6\" font-family=\"Times,serif\" font-size=\"14.00\">[4]</text>\n",
       "<text text-anchor=\"middle\" x=\"67.49\" y=\"-556.8\" font-family=\"Times,serif\" font-size=\"14.00\">EvaluationMorphism</text>\n",
       "<text text-anchor=\"middle\" x=\"67.49\" y=\"-540\" font-family=\"Times,serif\" font-size=\"14.00\">WithGivenSource</text>\n",
       "</g>\n",
       "<!-- 1&#45;&gt;4 -->\n",
       "<g id=\"edge5\" class=\"edge\">\n",
       "<title>1&#45;&gt;4</title>\n",
       "<path fill=\"none\" stroke=\"black\" d=\"M111.66,-902.98C101.07,-894.25 89.95,-883.78 81.49,-872.6 50.12,-831.13 34.28,-723.88 32.49,-709.8 29.23,-684.05 27.68,-676.91 32.49,-651.4 35.8,-633.9 42.44,-615.44 49.05,-599.87\"/>\n",
       "<polygon fill=\"black\" stroke=\"black\" points=\"52.32,-601.14 53.14,-590.58 45.91,-598.32 52.32,-601.14\"/>\n",
       "<text text-anchor=\"middle\" x=\"41.99\" y=\"-732\" font-family=\"Times,serif\" font-size=\"14.00\">1</text>\n",
       "</g>\n",
       "<!-- 1&#45;&gt;4 -->\n",
       "<g id=\"edge6\" class=\"edge\">\n",
       "<title>1&#45;&gt;4</title>\n",
       "<path fill=\"none\" stroke=\"black\" d=\"M111.59,-910.1C85.94,-895.03 52.78,-870.39 38.49,-837.8 -1,-747.74 -4.03,-707.5 33.49,-616.6 35.92,-610.71 38.96,-604.73 42.22,-598.99\"/>\n",
       "<polygon fill=\"black\" stroke=\"black\" points=\"45.33,-600.61 47.45,-590.23 39.32,-597.02 45.33,-600.61\"/>\n",
       "<text text-anchor=\"middle\" x=\"11.99\" y=\"-732\" font-family=\"Times,serif\" font-size=\"14.00\">2</text>\n",
       "</g>\n",
       "<!-- 7 -->\n",
       "<g id=\"node7\" class=\"node\">\n",
       "<title>7</title>\n",
       "<polygon fill=\"none\" stroke=\"black\" points=\"289.82,-829.6 215.16,-829.6 215.16,-770.8 289.82,-770.8 289.82,-829.6\"/>\n",
       "<text text-anchor=\"middle\" x=\"252.49\" y=\"-812.8\" font-family=\"Times,serif\" font-size=\"14.00\">[7]</text>\n",
       "<text text-anchor=\"middle\" x=\"252.49\" y=\"-796\" font-family=\"Times,serif\" font-size=\"14.00\">Identity</text>\n",
       "<text text-anchor=\"middle\" x=\"252.49\" y=\"-779.2\" font-family=\"Times,serif\" font-size=\"14.00\">Morphism</text>\n",
       "</g>\n",
       "<!-- 1&#45;&gt;7 -->\n",
       "<g id=\"edge8\" class=\"edge\">\n",
       "<title>1&#45;&gt;7</title>\n",
       "<path fill=\"none\" stroke=\"black\" d=\"M176.73,-890.42C190.94,-873.69 207.69,-853.96 221.83,-837.31\"/>\n",
       "<polygon fill=\"black\" stroke=\"black\" points=\"224.73,-839.3 228.54,-829.41 219.39,-834.77 224.73,-839.3\"/>\n",
       "</g>\n",
       "<!-- 11 -->\n",
       "<g id=\"node11\" class=\"node\">\n",
       "<title>11</title>\n",
       "<polygon fill=\"none\" stroke=\"black\" points=\"502.36,-829.6 398.63,-829.6 398.63,-770.8 502.36,-770.8 502.36,-829.6\"/>\n",
       "<text text-anchor=\"middle\" x=\"450.49\" y=\"-812.8\" font-family=\"Times,serif\" font-size=\"14.00\">[11]</text>\n",
       "<text text-anchor=\"middle\" x=\"450.49\" y=\"-796\" font-family=\"Times,serif\" font-size=\"14.00\">Internal</text>\n",
       "<text text-anchor=\"middle\" x=\"450.49\" y=\"-779.2\" font-family=\"Times,serif\" font-size=\"14.00\">HomOnObjects</text>\n",
       "</g>\n",
       "<!-- 1&#45;&gt;11 -->\n",
       "<g id=\"edge13\" class=\"edge\">\n",
       "<title>1&#45;&gt;11</title>\n",
       "<path fill=\"none\" stroke=\"black\" d=\"M179.46,-917C227.38,-902.12 317.04,-872.43 389.49,-837.8 391.78,-836.7 394.1,-835.55 396.42,-834.35\"/>\n",
       "<polygon fill=\"black\" stroke=\"black\" points=\"398.22,-837.36 405.38,-829.55 394.91,-831.19 398.22,-837.36\"/>\n",
       "<text text-anchor=\"middle\" x=\"346.99\" y=\"-860\" font-family=\"Times,serif\" font-size=\"14.00\">2</text>\n",
       "</g>\n",
       "<!-- 2&#45;&gt;3 -->\n",
       "<g id=\"edge3\" class=\"edge\">\n",
       "<title>2&#45;&gt;3</title>\n",
       "<path fill=\"none\" stroke=\"black\" d=\"M139.44,-770.73C135.61,-752.69 130.66,-729.41 126.78,-711.16\"/>\n",
       "<polygon fill=\"black\" stroke=\"black\" points=\"130.19,-710.4 124.69,-701.34 123.35,-711.85 130.19,-710.4\"/>\n",
       "<text text-anchor=\"middle\" x=\"136.99\" y=\"-732\" font-family=\"Times,serif\" font-size=\"14.00\">1</text>\n",
       "</g>\n",
       "<!-- 9 -->\n",
       "<g id=\"node9\" class=\"node\">\n",
       "<title>9</title>\n",
       "<polygon fill=\"none\" stroke=\"black\" points=\"279.91,-598.7 181.07,-598.7 181.07,-523.3 279.91,-523.3 279.91,-598.7\"/>\n",
       "<text text-anchor=\"middle\" x=\"230.49\" y=\"-582\" font-family=\"Times,serif\" font-size=\"14.00\">[9]</text>\n",
       "<text text-anchor=\"middle\" x=\"230.49\" y=\"-565.2\" font-family=\"Times,serif\" font-size=\"14.00\">RightUnitor</text>\n",
       "<text text-anchor=\"middle\" x=\"230.49\" y=\"-548.4\" font-family=\"Times,serif\" font-size=\"14.00\">WithGiven</text>\n",
       "<text text-anchor=\"middle\" x=\"230.49\" y=\"-531.6\" font-family=\"Times,serif\" font-size=\"14.00\">TensorProduct</text>\n",
       "</g>\n",
       "<!-- 2&#45;&gt;9 -->\n",
       "<g id=\"edge9\" class=\"edge\">\n",
       "<title>2&#45;&gt;9</title>\n",
       "<path fill=\"none\" stroke=\"black\" d=\"M170.85,-770.63C184.2,-754.01 199.6,-732.01 208.49,-709.8 221.39,-677.59 226.81,-638.7 229.06,-608.9\"/>\n",
       "<polygon fill=\"black\" stroke=\"black\" points=\"232.56,-608.97 229.72,-598.76 225.57,-608.51 232.56,-608.97\"/>\n",
       "<text text-anchor=\"middle\" x=\"226.99\" y=\"-676.4\" font-family=\"Times,serif\" font-size=\"14.00\">1</text>\n",
       "</g>\n",
       "<!-- 15 -->\n",
       "<g id=\"node15\" class=\"node\">\n",
       "<title>15</title>\n",
       "<polygon fill=\"none\" stroke=\"black\" points=\"428.9,-710 260.08,-710 260.08,-651.2 428.9,-651.2 428.9,-710\"/>\n",
       "<text text-anchor=\"middle\" x=\"344.49\" y=\"-693.2\" font-family=\"Times,serif\" font-size=\"14.00\">[15]</text>\n",
       "<text text-anchor=\"middle\" x=\"344.49\" y=\"-676.4\" font-family=\"Times,serif\" font-size=\"14.00\">InternalHomOnMorphisms</text>\n",
       "<text text-anchor=\"middle\" x=\"344.49\" y=\"-659.6\" font-family=\"Times,serif\" font-size=\"14.00\">WithGivenInternalHoms</text>\n",
       "</g>\n",
       "<!-- 2&#45;&gt;15 -->\n",
       "<g id=\"edge17\" class=\"edge\">\n",
       "<title>2&#45;&gt;15</title>\n",
       "<path fill=\"none\" stroke=\"black\" d=\"M191.06,-770.9C196.21,-767.99 201.42,-765.16 206.49,-762.6 224.98,-753.25 231.22,-754.37 249.49,-744.6 265.39,-736.1 282.01,-725.67 296.82,-715.76\"/>\n",
       "<polygon fill=\"black\" stroke=\"black\" points=\"299,-718.51 305.31,-710 295.07,-712.72 299,-718.51\"/>\n",
       "<text text-anchor=\"middle\" x=\"279.99\" y=\"-732\" font-family=\"Times,serif\" font-size=\"14.00\">1</text>\n",
       "</g>\n",
       "<!-- 3&#45;&gt;4 -->\n",
       "<g id=\"edge7\" class=\"edge\">\n",
       "<title>3&#45;&gt;4</title>\n",
       "<path fill=\"none\" stroke=\"black\" d=\"M111.62,-659.92C104.24,-643.55 93.53,-619.77 84.51,-599.75\"/>\n",
       "<polygon fill=\"black\" stroke=\"black\" points=\"87.67,-598.25 80.37,-590.57 81.28,-601.12 87.67,-598.25\"/>\n",
       "<text text-anchor=\"middle\" x=\"101.99\" y=\"-620.8\" font-family=\"Times,serif\" font-size=\"14.00\">3</text>\n",
       "</g>\n",
       "<!-- 3&#45;&gt;9 -->\n",
       "<g id=\"edge10\" class=\"edge\">\n",
       "<title>3&#45;&gt;9</title>\n",
       "<path fill=\"none\" stroke=\"black\" d=\"M138.9,-659.92C152.5,-645.38 171.55,-625.02 188.75,-606.62\"/>\n",
       "<polygon fill=\"black\" stroke=\"black\" points=\"191.72,-608.57 196,-598.88 186.61,-603.79 191.72,-608.57\"/>\n",
       "<text text-anchor=\"middle\" x=\"181.99\" y=\"-620.8\" font-family=\"Times,serif\" font-size=\"14.00\">2</text>\n",
       "</g>\n",
       "<!-- 10 -->\n",
       "<g id=\"node10\" class=\"node\">\n",
       "<title>10</title>\n",
       "<polygon fill=\"none\" stroke=\"black\" points=\"179.21,-486.6 79.77,-486.6 79.77,-427.8 179.21,-427.8 179.21,-486.6\"/>\n",
       "<text text-anchor=\"middle\" x=\"129.49\" y=\"-469.8\" font-family=\"Times,serif\" font-size=\"14.00\">[10]</text>\n",
       "<text text-anchor=\"middle\" x=\"129.49\" y=\"-453\" font-family=\"Times,serif\" font-size=\"14.00\">Inverse</text>\n",
       "<text text-anchor=\"middle\" x=\"129.49\" y=\"-436.2\" font-family=\"Times,serif\" font-size=\"14.00\">ForMorphisms</text>\n",
       "</g>\n",
       "<!-- 4&#45;&gt;10 -->\n",
       "<g id=\"edge11\" class=\"edge\">\n",
       "<title>4&#45;&gt;10</title>\n",
       "<path fill=\"none\" stroke=\"black\" d=\"M84.76,-531.64C91.68,-520.28 99.75,-507.04 107.11,-494.96\"/>\n",
       "<polygon fill=\"black\" stroke=\"black\" points=\"110.1,-496.77 112.31,-486.4 104.12,-493.13 110.1,-496.77\"/>\n",
       "</g>\n",
       "<!-- 5 -->\n",
       "<g id=\"node5\" class=\"node\">\n",
       "<title>5</title>\n",
       "<polygon fill=\"none\" stroke=\"black\" points=\"789.32,-965.9 721.66,-965.9 721.66,-890.5 789.32,-890.5 789.32,-965.9\"/>\n",
       "<text text-anchor=\"middle\" x=\"755.49\" y=\"-949.2\" font-family=\"Times,serif\" font-size=\"14.00\">[5]</text>\n",
       "<text text-anchor=\"middle\" x=\"755.49\" y=\"-932.4\" font-family=\"Times,serif\" font-size=\"14.00\">primitive</text>\n",
       "<text text-anchor=\"middle\" x=\"755.49\" y=\"-915.6\" font-family=\"Times,serif\" font-size=\"14.00\">object</text>\n",
       "<text text-anchor=\"middle\" x=\"755.49\" y=\"-898.8\" font-family=\"Times,serif\" font-size=\"14.00\">&lt;R^i&gt;</text>\n",
       "</g>\n",
       "<!-- 14 -->\n",
       "<g id=\"node14\" class=\"node\">\n",
       "<title>14</title>\n",
       "<polygon fill=\"none\" stroke=\"black\" points=\"807.36,-829.6 703.63,-829.6 703.63,-770.8 807.36,-770.8 807.36,-829.6\"/>\n",
       "<text text-anchor=\"middle\" x=\"755.49\" y=\"-812.8\" font-family=\"Times,serif\" font-size=\"14.00\">[14]</text>\n",
       "<text text-anchor=\"middle\" x=\"755.49\" y=\"-796\" font-family=\"Times,serif\" font-size=\"14.00\">Internal</text>\n",
       "<text text-anchor=\"middle\" x=\"755.49\" y=\"-779.2\" font-family=\"Times,serif\" font-size=\"14.00\">HomOnObjects</text>\n",
       "</g>\n",
       "<!-- 5&#45;&gt;14 -->\n",
       "<g id=\"edge16\" class=\"edge\">\n",
       "<title>5&#45;&gt;14</title>\n",
       "<path fill=\"none\" stroke=\"black\" d=\"M755.49,-890.42C755.49,-874.45 755.49,-855.74 755.49,-839.6\"/>\n",
       "<polygon fill=\"black\" stroke=\"black\" points=\"758.99,-839.41 755.49,-829.41 751.99,-839.41 758.99,-839.41\"/>\n",
       "<text text-anchor=\"middle\" x=\"758.99\" y=\"-860\" font-family=\"Times,serif\" font-size=\"14.00\">2</text>\n",
       "</g>\n",
       "<!-- 6 -->\n",
       "<g id=\"node6\" class=\"node\">\n",
       "<title>6</title>\n",
       "<polygon fill=\"none\" stroke=\"black\" points=\"682.32,-965.9 614.66,-965.9 614.66,-890.5 682.32,-890.5 682.32,-965.9\"/>\n",
       "<text text-anchor=\"middle\" x=\"648.49\" y=\"-949.2\" font-family=\"Times,serif\" font-size=\"14.00\">[6]</text>\n",
       "<text text-anchor=\"middle\" x=\"648.49\" y=\"-932.4\" font-family=\"Times,serif\" font-size=\"14.00\">primitive</text>\n",
       "<text text-anchor=\"middle\" x=\"648.49\" y=\"-915.6\" font-family=\"Times,serif\" font-size=\"14.00\">object</text>\n",
       "<text text-anchor=\"middle\" x=\"648.49\" y=\"-898.8\" font-family=\"Times,serif\" font-size=\"14.00\">&lt;R^j&gt;</text>\n",
       "</g>\n",
       "<!-- 6&#45;&gt;11 -->\n",
       "<g id=\"edge12\" class=\"edge\">\n",
       "<title>6&#45;&gt;11</title>\n",
       "<path fill=\"none\" stroke=\"black\" d=\"M614.45,-905.54C583.98,-886.15 538.79,-857.39 503.57,-834.98\"/>\n",
       "<polygon fill=\"black\" stroke=\"black\" points=\"505.16,-831.84 494.85,-829.43 501.4,-837.75 505.16,-831.84\"/>\n",
       "<text text-anchor=\"middle\" x=\"563.99\" y=\"-860\" font-family=\"Times,serif\" font-size=\"14.00\">1</text>\n",
       "</g>\n",
       "<!-- 13 -->\n",
       "<g id=\"node13\" class=\"node\">\n",
       "<title>13</title>\n",
       "<polygon fill=\"none\" stroke=\"black\" points=\"685.82,-829.6 611.16,-829.6 611.16,-770.8 685.82,-770.8 685.82,-829.6\"/>\n",
       "<text text-anchor=\"middle\" x=\"648.49\" y=\"-812.8\" font-family=\"Times,serif\" font-size=\"14.00\">[13]</text>\n",
       "<text text-anchor=\"middle\" x=\"648.49\" y=\"-796\" font-family=\"Times,serif\" font-size=\"14.00\">Identity</text>\n",
       "<text text-anchor=\"middle\" x=\"648.49\" y=\"-779.2\" font-family=\"Times,serif\" font-size=\"14.00\">Morphism</text>\n",
       "</g>\n",
       "<!-- 6&#45;&gt;13 -->\n",
       "<g id=\"edge14\" class=\"edge\">\n",
       "<title>6&#45;&gt;13</title>\n",
       "<path fill=\"none\" stroke=\"black\" d=\"M648.49,-890.42C648.49,-874.45 648.49,-855.74 648.49,-839.6\"/>\n",
       "<polygon fill=\"black\" stroke=\"black\" points=\"651.99,-839.41 648.49,-829.41 644.99,-839.41 651.99,-839.41\"/>\n",
       "</g>\n",
       "<!-- 6&#45;&gt;14 -->\n",
       "<g id=\"edge15\" class=\"edge\">\n",
       "<title>6&#45;&gt;14</title>\n",
       "<path fill=\"none\" stroke=\"black\" d=\"M679.73,-890.42C693.94,-873.69 710.69,-853.96 724.83,-837.31\"/>\n",
       "<polygon fill=\"black\" stroke=\"black\" points=\"727.73,-839.3 731.54,-829.41 722.39,-834.77 727.73,-839.3\"/>\n",
       "<text text-anchor=\"middle\" x=\"710.99\" y=\"-860\" font-family=\"Times,serif\" font-size=\"14.00\">1</text>\n",
       "</g>\n",
       "<!-- 7&#45;&gt;15 -->\n",
       "<g id=\"edge19\" class=\"edge\">\n",
       "<title>7&#45;&gt;15</title>\n",
       "<path fill=\"none\" stroke=\"black\" d=\"M274.76,-770.73C287.19,-754.84 302.81,-734.88 316.11,-717.88\"/>\n",
       "<polygon fill=\"black\" stroke=\"black\" points=\"319.02,-719.84 322.43,-709.81 313.51,-715.53 319.02,-719.84\"/>\n",
       "<text text-anchor=\"middle\" x=\"309.99\" y=\"-732\" font-family=\"Times,serif\" font-size=\"14.00\">3</text>\n",
       "</g>\n",
       "<!-- 8 -->\n",
       "<g id=\"node8\" class=\"node\">\n",
       "<title>8</title>\n",
       "<polygon fill=\"none\" stroke=\"black\" points=\"380.77,-837.9 308.21,-837.9 308.21,-762.5 380.77,-762.5 380.77,-837.9\"/>\n",
       "<text text-anchor=\"middle\" x=\"344.49\" y=\"-821.2\" font-family=\"Times,serif\" font-size=\"14.00\">[8]</text>\n",
       "<text text-anchor=\"middle\" x=\"344.49\" y=\"-804.4\" font-family=\"Times,serif\" font-size=\"14.00\">primitive</text>\n",
       "<text text-anchor=\"middle\" x=\"344.49\" y=\"-787.6\" font-family=\"Times,serif\" font-size=\"14.00\">morphism</text>\n",
       "<text text-anchor=\"middle\" x=\"344.49\" y=\"-770.8\" font-family=\"Times,serif\" font-size=\"14.00\">&lt;J&gt;</text>\n",
       "</g>\n",
       "<!-- 8&#45;&gt;15 -->\n",
       "<g id=\"edge18\" class=\"edge\">\n",
       "<title>8&#45;&gt;15</title>\n",
       "<path fill=\"none\" stroke=\"black\" d=\"M344.49,-762.31C344.49,-749.03 344.49,-734 344.49,-720.54\"/>\n",
       "<polygon fill=\"black\" stroke=\"black\" points=\"347.99,-720.15 344.49,-710.15 340.99,-720.15 347.99,-720.15\"/>\n",
       "<text text-anchor=\"middle\" x=\"347.99\" y=\"-732\" font-family=\"Times,serif\" font-size=\"14.00\">2</text>\n",
       "</g>\n",
       "<!-- 16 -->\n",
       "<g id=\"node16\" class=\"node\">\n",
       "<title>16</title>\n",
       "<polygon fill=\"none\" stroke=\"black\" points=\"264.88,-375.4 196.11,-375.4 196.11,-316.6 264.88,-316.6 264.88,-375.4\"/>\n",
       "<text text-anchor=\"middle\" x=\"230.49\" y=\"-358.6\" font-family=\"Times,serif\" font-size=\"14.00\">[16]</text>\n",
       "<text text-anchor=\"middle\" x=\"230.49\" y=\"-341.8\" font-family=\"Times,serif\" font-size=\"14.00\">Pre</text>\n",
       "<text text-anchor=\"middle\" x=\"230.49\" y=\"-325\" font-family=\"Times,serif\" font-size=\"14.00\">Compose</text>\n",
       "</g>\n",
       "<!-- 9&#45;&gt;16 -->\n",
       "<g id=\"edge22\" class=\"edge\">\n",
       "<title>9&#45;&gt;16</title>\n",
       "<path fill=\"none\" stroke=\"black\" d=\"M230.49,-523.38C230.49,-484.92 230.49,-424.69 230.49,-385.53\"/>\n",
       "<polygon fill=\"black\" stroke=\"black\" points=\"233.99,-385.32 230.49,-375.32 226.99,-385.32 233.99,-385.32\"/>\n",
       "<text text-anchor=\"middle\" x=\"233.99\" y=\"-453\" font-family=\"Times,serif\" font-size=\"14.00\">2</text>\n",
       "</g>\n",
       "<!-- 10&#45;&gt;16 -->\n",
       "<g id=\"edge21\" class=\"edge\">\n",
       "<title>10&#45;&gt;16</title>\n",
       "<path fill=\"none\" stroke=\"black\" d=\"M155.77,-427.79C168.51,-414.02 183.95,-397.33 197.47,-382.7\"/>\n",
       "<polygon fill=\"black\" stroke=\"black\" points=\"200.13,-384.98 204.35,-375.26 194.99,-380.23 200.13,-384.98\"/>\n",
       "<text text-anchor=\"middle\" x=\"188.99\" y=\"-397.4\" font-family=\"Times,serif\" font-size=\"14.00\">1</text>\n",
       "</g>\n",
       "<!-- 11&#45;&gt;15 -->\n",
       "<g id=\"edge20\" class=\"edge\">\n",
       "<title>11&#45;&gt;15</title>\n",
       "<path fill=\"none\" stroke=\"black\" d=\"M424.83,-770.73C410.38,-754.7 392.19,-734.52 376.78,-717.42\"/>\n",
       "<polygon fill=\"black\" stroke=\"black\" points=\"379.21,-714.89 369.92,-709.81 374.01,-719.58 379.21,-714.89\"/>\n",
       "<text text-anchor=\"middle\" x=\"403.99\" y=\"-732\" font-family=\"Times,serif\" font-size=\"14.00\">4</text>\n",
       "</g>\n",
       "<!-- 18 -->\n",
       "<g id=\"node18\" class=\"node\">\n",
       "<title>18</title>\n",
       "<polygon fill=\"none\" stroke=\"black\" points=\"640.9,-710 472.08,-710 472.08,-651.2 640.9,-651.2 640.9,-710\"/>\n",
       "<text text-anchor=\"middle\" x=\"556.49\" y=\"-693.2\" font-family=\"Times,serif\" font-size=\"14.00\">[18]</text>\n",
       "<text text-anchor=\"middle\" x=\"556.49\" y=\"-676.4\" font-family=\"Times,serif\" font-size=\"14.00\">InternalHomOnMorphisms</text>\n",
       "<text text-anchor=\"middle\" x=\"556.49\" y=\"-659.6\" font-family=\"Times,serif\" font-size=\"14.00\">WithGivenInternalHoms</text>\n",
       "</g>\n",
       "<!-- 11&#45;&gt;18 -->\n",
       "<g id=\"edge28\" class=\"edge\">\n",
       "<title>11&#45;&gt;18</title>\n",
       "<path fill=\"none\" stroke=\"black\" d=\"M476.15,-770.73C490.6,-754.7 508.79,-734.52 524.21,-717.42\"/>\n",
       "<polygon fill=\"black\" stroke=\"black\" points=\"526.97,-719.58 531.07,-709.81 521.77,-714.89 526.97,-719.58\"/>\n",
       "<text text-anchor=\"middle\" x=\"515.99\" y=\"-732\" font-family=\"Times,serif\" font-size=\"14.00\">4</text>\n",
       "</g>\n",
       "<!-- 12 -->\n",
       "<g id=\"node12\" class=\"node\">\n",
       "<title>12</title>\n",
       "<polygon fill=\"none\" stroke=\"black\" points=\"592.77,-837.9 520.21,-837.9 520.21,-762.5 592.77,-762.5 592.77,-837.9\"/>\n",
       "<text text-anchor=\"middle\" x=\"556.49\" y=\"-821.2\" font-family=\"Times,serif\" font-size=\"14.00\">[12]</text>\n",
       "<text text-anchor=\"middle\" x=\"556.49\" y=\"-804.4\" font-family=\"Times,serif\" font-size=\"14.00\">primitive</text>\n",
       "<text text-anchor=\"middle\" x=\"556.49\" y=\"-787.6\" font-family=\"Times,serif\" font-size=\"14.00\">morphism</text>\n",
       "<text text-anchor=\"middle\" x=\"556.49\" y=\"-770.8\" font-family=\"Times,serif\" font-size=\"14.00\">&lt;I&gt;</text>\n",
       "</g>\n",
       "<!-- 12&#45;&gt;18 -->\n",
       "<g id=\"edge27\" class=\"edge\">\n",
       "<title>12&#45;&gt;18</title>\n",
       "<path fill=\"none\" stroke=\"black\" d=\"M556.49,-762.31C556.49,-749.03 556.49,-734 556.49,-720.54\"/>\n",
       "<polygon fill=\"black\" stroke=\"black\" points=\"559.99,-720.15 556.49,-710.15 552.99,-720.15 559.99,-720.15\"/>\n",
       "<text text-anchor=\"middle\" x=\"559.99\" y=\"-732\" font-family=\"Times,serif\" font-size=\"14.00\">3</text>\n",
       "</g>\n",
       "<!-- 13&#45;&gt;18 -->\n",
       "<g id=\"edge26\" class=\"edge\">\n",
       "<title>13&#45;&gt;18</title>\n",
       "<path fill=\"none\" stroke=\"black\" d=\"M626.22,-770.73C613.79,-754.84 598.18,-734.88 584.88,-717.88\"/>\n",
       "<polygon fill=\"black\" stroke=\"black\" points=\"587.48,-715.53 578.56,-709.81 581.96,-719.84 587.48,-715.53\"/>\n",
       "<text text-anchor=\"middle\" x=\"607.99\" y=\"-732\" font-family=\"Times,serif\" font-size=\"14.00\">2</text>\n",
       "</g>\n",
       "<!-- 14&#45;&gt;18 -->\n",
       "<g id=\"edge25\" class=\"edge\">\n",
       "<title>14&#45;&gt;18</title>\n",
       "<path fill=\"none\" stroke=\"black\" d=\"M708.56,-770.98C703.81,-768.14 699.06,-765.31 694.49,-762.6 668.11,-746.94 638.81,-729.72 614.01,-715.2\"/>\n",
       "<polygon fill=\"black\" stroke=\"black\" points=\"615.5,-712.01 605.1,-709.98 611.96,-718.05 615.5,-712.01\"/>\n",
       "<text text-anchor=\"middle\" x=\"662.99\" y=\"-732\" font-family=\"Times,serif\" font-size=\"14.00\">1</text>\n",
       "</g>\n",
       "<!-- 17 -->\n",
       "<g id=\"node17\" class=\"node\">\n",
       "<title>17</title>\n",
       "<polygon fill=\"none\" stroke=\"black\" points=\"377.88,-264.2 309.11,-264.2 309.11,-205.4 377.88,-205.4 377.88,-264.2\"/>\n",
       "<text text-anchor=\"middle\" x=\"343.49\" y=\"-247.4\" font-family=\"Times,serif\" font-size=\"14.00\">[17]</text>\n",
       "<text text-anchor=\"middle\" x=\"343.49\" y=\"-230.6\" font-family=\"Times,serif\" font-size=\"14.00\">Pre</text>\n",
       "<text text-anchor=\"middle\" x=\"343.49\" y=\"-213.8\" font-family=\"Times,serif\" font-size=\"14.00\">Compose</text>\n",
       "</g>\n",
       "<!-- 15&#45;&gt;17 -->\n",
       "<g id=\"edge24\" class=\"edge\">\n",
       "<title>15&#45;&gt;17</title>\n",
       "<path fill=\"none\" stroke=\"black\" d=\"M344.11,-651.08C343.83,-627.27 343.49,-592.42 343.49,-562 343.49,-562 343.49,-562 343.49,-345 343.49,-321.48 343.49,-295.12 343.49,-274.19\"/>\n",
       "<polygon fill=\"black\" stroke=\"black\" points=\"346.99,-274.08 343.49,-264.08 339.99,-274.08 346.99,-274.08\"/>\n",
       "<text text-anchor=\"middle\" x=\"346.99\" y=\"-453\" font-family=\"Times,serif\" font-size=\"14.00\">2</text>\n",
       "</g>\n",
       "<!-- 16&#45;&gt;17 -->\n",
       "<g id=\"edge23\" class=\"edge\">\n",
       "<title>16&#45;&gt;17</title>\n",
       "<path fill=\"none\" stroke=\"black\" d=\"M259.89,-316.59C274.27,-302.69 291.73,-285.82 306.97,-271.1\"/>\n",
       "<polygon fill=\"black\" stroke=\"black\" points=\"309.49,-273.53 314.25,-264.06 304.62,-268.5 309.49,-273.53\"/>\n",
       "<text text-anchor=\"middle\" x=\"296.99\" y=\"-286.2\" font-family=\"Times,serif\" font-size=\"14.00\">1</text>\n",
       "</g>\n",
       "<!-- 19 -->\n",
       "<g id=\"node19\" class=\"node\">\n",
       "<title>19</title>\n",
       "<polygon fill=\"none\" stroke=\"black\" points=\"528.33,-152.6 368.65,-152.6 368.65,-111.4 528.33,-111.4 528.33,-152.6\"/>\n",
       "<text text-anchor=\"middle\" x=\"448.49\" y=\"-136.2\" font-family=\"Times,serif\" font-size=\"14.00\">[19]</text>\n",
       "<text text-anchor=\"middle\" x=\"448.49\" y=\"-119.4\" font-family=\"Times,serif\" font-size=\"14.00\">BiasedWeakFiberProduct</text>\n",
       "</g>\n",
       "<!-- 17&#45;&gt;19 -->\n",
       "<g id=\"edge29\" class=\"edge\">\n",
       "<title>17&#45;&gt;19</title>\n",
       "<path fill=\"none\" stroke=\"black\" d=\"M373.02,-205.45C387.9,-191.17 405.84,-173.95 420.49,-159.88\"/>\n",
       "<polygon fill=\"black\" stroke=\"black\" points=\"423.04,-162.29 427.83,-152.84 418.19,-157.24 423.04,-162.29\"/>\n",
       "<text text-anchor=\"middle\" x=\"410.99\" y=\"-175\" font-family=\"Times,serif\" font-size=\"14.00\">1</text>\n",
       "</g>\n",
       "<!-- 20 -->\n",
       "<g id=\"node20\" class=\"node\">\n",
       "<title>20</title>\n",
       "<polygon fill=\"none\" stroke=\"black\" points=\"564.65,-58.6 332.34,-58.6 332.34,0.2 564.65,0.2 564.65,-58.6\"/>\n",
       "<text text-anchor=\"middle\" x=\"448.49\" y=\"-41.8\" font-family=\"Times,serif\" font-size=\"14.00\">[20]</text>\n",
       "<text text-anchor=\"middle\" x=\"448.49\" y=\"-25\" font-family=\"Times,serif\" font-size=\"14.00\">ProjectionOfBiasedWeakFiberProduct</text>\n",
       "<text text-anchor=\"middle\" x=\"448.49\" y=\"-8.2\" font-family=\"Times,serif\" font-size=\"14.00\">WithGivenBiasedWeakFiberProduct</text>\n",
       "</g>\n",
       "<!-- 17&#45;&gt;20 -->\n",
       "<g id=\"edge31\" class=\"edge\">\n",
       "<title>17&#45;&gt;20</title>\n",
       "<path fill=\"none\" stroke=\"black\" d=\"M339.57,-205.37C337.33,-179.4 337.46,-140.67 352.49,-111.2 361.73,-93.09 376.98,-77.42 392.63,-64.82\"/>\n",
       "<polygon fill=\"black\" stroke=\"black\" points=\"395.03,-67.39 400.82,-58.52 390.76,-61.85 395.03,-67.39\"/>\n",
       "<text text-anchor=\"middle\" x=\"355.99\" y=\"-127.8\" font-family=\"Times,serif\" font-size=\"14.00\">1</text>\n",
       "</g>\n",
       "<!-- 18&#45;&gt;19 -->\n",
       "<g id=\"edge30\" class=\"edge\">\n",
       "<title>18&#45;&gt;19</title>\n",
       "<path fill=\"none\" stroke=\"black\" d=\"M529.65,-651.13C511.38,-628.71 490.49,-595.71 490.49,-562 490.49,-562 490.49,-562 490.49,-233.8 490.49,-207.94 478.57,-181.02 467.43,-161.51\"/>\n",
       "<polygon fill=\"black\" stroke=\"black\" points=\"470.38,-159.63 462.24,-152.84 464.37,-163.22 470.38,-159.63\"/>\n",
       "<text text-anchor=\"middle\" x=\"493.99\" y=\"-397.4\" font-family=\"Times,serif\" font-size=\"14.00\">2</text>\n",
       "</g>\n",
       "<!-- 18&#45;&gt;20 -->\n",
       "<g id=\"edge32\" class=\"edge\">\n",
       "<title>18&#45;&gt;20</title>\n",
       "<path fill=\"none\" stroke=\"black\" d=\"M556.49,-651.08C556.49,-627.27 556.49,-592.42 556.49,-562 556.49,-562 556.49,-562 556.49,-131 556.49,-103.13 537.04,-80.76 514.64,-64.24\"/>\n",
       "<polygon fill=\"black\" stroke=\"black\" points=\"516.49,-61.27 506.29,-58.42 512.49,-67.01 516.49,-61.27\"/>\n",
       "<text text-anchor=\"middle\" x=\"559.99\" y=\"-341.8\" font-family=\"Times,serif\" font-size=\"14.00\">2</text>\n",
       "</g>\n",
       "<!-- 19&#45;&gt;20 -->\n",
       "<g id=\"edge33\" class=\"edge\">\n",
       "<title>19&#45;&gt;20</title>\n",
       "<path fill=\"none\" stroke=\"black\" d=\"M448.49,-111.09C448.49,-98.99 448.49,-83.14 448.49,-68.68\"/>\n",
       "<polygon fill=\"black\" stroke=\"black\" points=\"451.99,-68.47 448.49,-58.47 444.99,-68.47 451.99,-68.47\"/>\n",
       "<text text-anchor=\"middle\" x=\"451.99\" y=\"-80.6\" font-family=\"Times,serif\" font-size=\"14.00\">3</text>\n",
       "</g>\n",
       "</g>\n",
       "</svg>\n"
      ]
     },
     "metadata": {},
     "output_type": "display_data"
    }
   ],
   "source": [
    "Visualize( UnderlyingMorphism( UnderlyingCell( IqJ ) ) )"
   ]
  },
  {
   "cell_type": "code",
   "execution_count": 27,
   "metadata": {},
   "outputs": [
    {
     "name": "stdout",
     "output_type": "stream",
     "text": [
      "1.      -> evaluating in Rows( Q[x,y] ).........................: ProjectionOfBiasedWeakFiberProductWithGivenBiasedWeakFiberProduct\n",
      "2.       -> evaluating in Rows( Q[x,y] ).........................: PreCompose\n",
      "3.       -> evaluating in Rows( Q[x,y] ).........................: PreCompose\n",
      "4.        -> evaluating in Rows( Q[x,y] ).........................: InverseForMorphisms\n",
      "5.        -> evaluating in Rows( Q[x,y] ).........................: EvaluationMorphismWithGivenSource\n",
      "6.        -> evaluating in Rows( Q[x,y] ).........................: TensorProductOnObjects\n",
      "7.        -> evaluating in Rows( Q[x,y] ).........................: InternalHomOnObjects\n",
      "7.        <- evaluated in Rows( Q[x,y] ).........................: InternalHomOnObjects\n",
      "6.        <- evaluated in Rows( Q[x,y] ).........................: TensorProductOnObjects\n",
      "5.        <- evaluated in Rows( Q[x,y] ).........................: EvaluationMorphismWithGivenSource\n",
      "4.        <- evaluated in Rows( Q[x,y] ).........................: InverseForMorphisms\n",
      "8.         -> evaluating in Rows( Q[x,y] ).........................: RightUnitorWithGivenTensorProduct\n",
      "8.         <- evaluated in Rows( Q[x,y] ).........................: RightUnitorWithGivenTensorProduct\n",
      "3.       <- evaluated in Rows( Q[x,y] ).........................: PreCompose\n",
      "9.         -> evaluating in Rows( Q[x,y] ).........................: InternalHomOnMorphismsWithGivenInternalHoms\n",
      "10.        -> evaluating in Rows( Q[x,y] ).........................: IdentityMorphism\n",
      "10.        <- evaluated in Rows( Q[x,y] ).........................: IdentityMorphism\n",
      "11.        -> evaluating in Rows( Q[x,y] ).........................: InternalHomOnObjects\n",
      "11.        <- evaluated in Rows( Q[x,y] ).........................: InternalHomOnObjects\n",
      "9.         <- evaluated in Rows( Q[x,y] ).........................: InternalHomOnMorphismsWithGivenInternalHoms\n",
      "2.       <- evaluated in Rows( Q[x,y] ).........................: PreCompose\n",
      "12.        -> evaluating in Rows( Q[x,y] ).........................: InternalHomOnMorphismsWithGivenInternalHoms\n",
      "13.        -> evaluating in Rows( Q[x,y] ).........................: InternalHomOnObjects\n",
      "13.        <- evaluated in Rows( Q[x,y] ).........................: InternalHomOnObjects\n",
      "14.        -> evaluating in Rows( Q[x,y] ).........................: IdentityMorphism\n",
      "14.        <- evaluated in Rows( Q[x,y] ).........................: IdentityMorphism\n",
      "12.        <- evaluated in Rows( Q[x,y] ).........................: InternalHomOnMorphismsWithGivenInternalHoms\n",
      "15.        -> evaluating in Rows( Q[x,y] ).........................: BiasedWeakFiberProduct\n",
      "15.        <- evaluated in Rows( Q[x,y] ).........................: BiasedWeakFiberProduct\n",
      "1.      <- evaluated in Rows( Q[x,y] ).........................: ProjectionOfBiasedWeakFiberProductWithGivenBiasedWeakFiberProduct\n"
     ]
    },
    {
     "data": {
      "text/plain": [
       "true"
      ]
     },
     "execution_count": 27,
     "metadata": {},
     "output_type": "execute_result"
    }
   ],
   "source": [
    "K == IqJ"
   ]
  }
 ],
 "metadata": {
  "@webio": {
   "lastCommId": null,
   "lastKernelId": null
  },
  "kernelspec": {
   "display_name": "Julia 1.7.2",
   "language": "julia",
   "name": "julia-1.7"
  },
  "language_info": {
   "file_extension": ".jl",
   "mimetype": "application/julia",
   "name": "julia",
   "version": "1.7.2"
  }
 },
 "nbformat": 4,
 "nbformat_minor": 2
}
