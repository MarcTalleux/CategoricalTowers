{
 "cells": [
  {
   "cell_type": "code",
   "execution_count": 1,
   "metadata": {},
   "outputs": [
    {
     "name": "stdout",
     "output_type": "stream",
     "text": [
      "HomalgProject v\u001b[32m0.4.11\u001b[39m\n",
      "Imported OSCAR's components GAP, Nemo, and Singular\n",
      "Type: ?HomalgProject for more information\n"
     ]
    }
   ],
   "source": [
    "using HomalgProject"
   ]
  },
  {
   "cell_type": "code",
   "execution_count": 2,
   "metadata": {},
   "outputs": [],
   "source": [
    "LoadPackage( \"FreydCategoriesForCAP\" )"
   ]
  },
  {
   "cell_type": "code",
   "execution_count": 3,
   "metadata": {},
   "outputs": [],
   "source": [
    "LoadPackage( \"SubcategoriesForCAP\" )"
   ]
  },
  {
   "cell_type": "code",
   "execution_count": 4,
   "metadata": {},
   "outputs": [],
   "source": [
    "LoadPackage( \"Locales\" )"
   ]
  },
  {
   "cell_type": "code",
   "execution_count": 5,
   "metadata": {},
   "outputs": [],
   "source": [
    "LoadPackage( \"LazyCategories\" )"
   ]
  },
  {
   "cell_type": "code",
   "execution_count": 6,
   "metadata": {},
   "outputs": [
    {
     "data": {
      "text/plain": [
       "GAP: Q"
      ]
     },
     "execution_count": 6,
     "metadata": {},
     "output_type": "execute_result"
    }
   ],
   "source": [
    "Q = HomalgFieldOfRationalsInSingular( )"
   ]
  },
  {
   "cell_type": "code",
   "execution_count": 7,
   "metadata": {},
   "outputs": [
    {
     "data": {
      "text/plain": [
       "GAP: Q[x,y]"
      ]
     },
     "execution_count": 7,
     "metadata": {},
     "output_type": "execute_result"
    }
   ],
   "source": [
    "R = Q[\"x,y\"]"
   ]
  },
  {
   "cell_type": "code",
   "execution_count": 8,
   "metadata": {},
   "outputs": [
    {
     "data": {
      "text/plain": [
       "GAP: <A 2 x 1 matrix over an external ring>"
      ]
     },
     "execution_count": 8,
     "metadata": {},
     "output_type": "execute_result"
    }
   ],
   "source": [
    "K = HomalgMatrix( \"[ x, -x ]\", 2, 1, R )"
   ]
  },
  {
   "cell_type": "code",
   "execution_count": 9,
   "metadata": {},
   "outputs": [
    {
     "data": {
      "text/plain": [
       "GAP: <A 2 x 1 matrix over an external ring>"
      ]
     },
     "execution_count": 9,
     "metadata": {},
     "output_type": "execute_result"
    }
   ],
   "source": [
    "J = HomalgMatrix( \"[ x, y ]\", 2, 1, R )"
   ]
  },
  {
   "cell_type": "code",
   "execution_count": 10,
   "metadata": {},
   "outputs": [
    {
     "data": {
      "text/plain": [
       "GAP: <An unevaluated 4 x 1 matrix over an external ring>"
      ]
     },
     "execution_count": 10,
     "metadata": {},
     "output_type": "execute_result"
    }
   ],
   "source": [
    "I = KroneckerMat( K, J )"
   ]
  },
  {
   "cell_type": "code",
   "execution_count": 11,
   "metadata": {},
   "outputs": [
    {
     "data": {
      "text/plain": [
       "GAP: Rows( Q[x,y] )"
      ]
     },
     "execution_count": 11,
     "metadata": {},
     "output_type": "execute_result"
    }
   ],
   "source": [
    "P = CategoryOfRows( R )"
   ]
  },
  {
   "cell_type": "code",
   "execution_count": 12,
   "metadata": {},
   "outputs": [
    {
     "data": {
      "text/plain": [
       "GAP: LazyCategory( Rows( Q[x,y] ) )"
      ]
     },
     "execution_count": 12,
     "metadata": {},
     "output_type": "execute_result"
    }
   ],
   "source": [
    "P = LazyCategory( P, show_evaluation = true )"
   ]
  },
  {
   "cell_type": "code",
   "execution_count": 13,
   "metadata": {},
   "outputs": [
    {
     "data": {
      "text/plain": [
       "GAP: <An evaluated morphism in LazyCategory( Rows( Q[x,y] ) )>"
      ]
     },
     "execution_count": 13,
     "metadata": {},
     "output_type": "execute_result"
    }
   ],
   "source": [
    "I = I / P"
   ]
  },
  {
   "cell_type": "code",
   "execution_count": 14,
   "metadata": {},
   "outputs": [],
   "source": [
    "SetLabel( I, \"I\" ); SetLabel( Source( I ), \"R^i\" )"
   ]
  },
  {
   "cell_type": "code",
   "execution_count": 15,
   "metadata": {},
   "outputs": [
    {
     "data": {
      "text/plain": [
       "GAP: <An evaluated object in LazyCategory( Rows( Q[x,y] ) )>"
      ]
     },
     "execution_count": 15,
     "metadata": {},
     "output_type": "execute_result"
    }
   ],
   "source": [
    "R = Range( I )"
   ]
  },
  {
   "cell_type": "code",
   "execution_count": 16,
   "metadata": {},
   "outputs": [],
   "source": [
    "SetLabel( R, \"R\" )"
   ]
  },
  {
   "cell_type": "code",
   "execution_count": 17,
   "metadata": {},
   "outputs": [
    {
     "data": {
      "text/plain": [
       "GAP: <An evaluated morphism in LazyCategory( Rows( Q[x,y] ) )>"
      ]
     },
     "execution_count": 17,
     "metadata": {},
     "output_type": "execute_result"
    }
   ],
   "source": [
    "J = J / P"
   ]
  },
  {
   "cell_type": "code",
   "execution_count": 18,
   "metadata": {},
   "outputs": [],
   "source": [
    "SetLabel( J, \"J\" ); SetLabel( Source( J ), \"R^j\" )"
   ]
  },
  {
   "cell_type": "code",
   "execution_count": 19,
   "metadata": {},
   "outputs": [
    {
     "data": {
      "text/plain": [
       "GAP: <An evaluated morphism in LazyCategory( Rows( Q[x,y] ) )>"
      ]
     },
     "execution_count": 19,
     "metadata": {},
     "output_type": "execute_result"
    }
   ],
   "source": [
    "K = K / P"
   ]
  },
  {
   "cell_type": "code",
   "execution_count": 20,
   "metadata": {},
   "outputs": [
    {
     "data": {
      "text/plain": [
       "GAP: SliceCategoryOverTensorUnit( LazyCategory( Rows( Q[x,y] ) ) )"
      ]
     },
     "execution_count": 20,
     "metadata": {},
     "output_type": "execute_result"
    }
   ],
   "source": [
    "S = SliceCategoryOverTensorUnit( P )"
   ]
  },
  {
   "cell_type": "code",
   "execution_count": 21,
   "metadata": {},
   "outputs": [
    {
     "data": {
      "text/plain": [
       "GAP: Poset( SliceCategoryOverTensorUnit( LazyCategory( Rows( Q[x,y] ) ) ) )"
      ]
     },
     "execution_count": 21,
     "metadata": {},
     "output_type": "execute_result"
    }
   ],
   "source": [
    "L = PosetOfCategory( S )"
   ]
  },
  {
   "cell_type": "code",
   "execution_count": 22,
   "metadata": {},
   "outputs": [
    {
     "data": {
      "text/plain": [
       "GAP: An object in the poset given by: An object in the slice category given by: <An evaluated morphism in LazyCategory( Rows( Q[x,y] ) )>"
      ]
     },
     "execution_count": 22,
     "metadata": {},
     "output_type": "execute_result"
    }
   ],
   "source": [
    "I = I / S / L"
   ]
  },
  {
   "cell_type": "code",
   "execution_count": 23,
   "metadata": {},
   "outputs": [
    {
     "data": {
      "text/plain": [
       "GAP: An object in the poset given by: An object in the slice category given by: <An evaluated morphism in LazyCategory( Rows( Q[x,y] ) )>"
      ]
     },
     "execution_count": 23,
     "metadata": {},
     "output_type": "execute_result"
    }
   ],
   "source": [
    "J = J / S / L"
   ]
  },
  {
   "cell_type": "code",
   "execution_count": 24,
   "metadata": {},
   "outputs": [
    {
     "data": {
      "text/plain": [
       "GAP: An object in the poset given by: An object in the slice category given by: <An evaluated morphism in LazyCategory( Rows( Q[x,y] ) )>"
      ]
     },
     "execution_count": 24,
     "metadata": {},
     "output_type": "execute_result"
    }
   ],
   "source": [
    "K = K / S / L"
   ]
  },
  {
   "cell_type": "code",
   "execution_count": 25,
   "metadata": {},
   "outputs": [
    {
     "data": {
      "text/plain": [
       "GAP: An object in the poset given by: An object in the slice category given by: <A morphism in LazyCategory( Rows( Q[x,y] ) )>"
      ]
     },
     "execution_count": 25,
     "metadata": {},
     "output_type": "execute_result"
    }
   ],
   "source": [
    "IqJ = InternalHom( J, I )"
   ]
  },
  {
   "cell_type": "code",
   "execution_count": 26,
   "metadata": {
    "scrolled": false
   },
   "outputs": [
    {
     "data": {
      "image/svg+xml": [
       "<?xml version=\"1.0\" encoding=\"UTF-8\" standalone=\"no\"?>\n",
       "<!DOCTYPE svg PUBLIC \"-//W3C//DTD SVG 1.1//EN\"\n",
       " \"http://www.w3.org/Graphics/SVG/1.1/DTD/svg11.dtd\">\n",
       "<!-- Generated by graphviz version 2.44.0 (20200408.0750)\n",
       " -->\n",
       "<!-- Title: hgn Pages: 1 -->\n",
       "<svg width=\"838pt\" height=\"803pt\"\n",
       " viewBox=\"0.00 0.00 837.50 803.00\" xmlns=\"http://www.w3.org/2000/svg\" xmlns:xlink=\"http://www.w3.org/1999/xlink\">\n",
       "<g id=\"graph0\" class=\"graph\" transform=\"scale(1 1) rotate(0) translate(4 799)\">\n",
       "<title>hgn</title>\n",
       "<polygon fill=\"white\" stroke=\"transparent\" points=\"-4,4 -4,-799 833.5,-799 833.5,4 -4,4\"/>\n",
       "<!-- 1 -->\n",
       "<g id=\"node1\" class=\"node\">\n",
       "<title>1</title>\n",
       "<polygon fill=\"none\" stroke=\"black\" points=\"204,-795 137,-795 137,-727 204,-727 204,-795\"/>\n",
       "<text text-anchor=\"middle\" x=\"170.5\" y=\"-779.8\" font-family=\"Times,serif\" font-size=\"14.00\">[1]</text>\n",
       "<text text-anchor=\"middle\" x=\"170.5\" y=\"-764.8\" font-family=\"Times,serif\" font-size=\"14.00\">primitive</text>\n",
       "<text text-anchor=\"middle\" x=\"170.5\" y=\"-749.8\" font-family=\"Times,serif\" font-size=\"14.00\">object</text>\n",
       "<text text-anchor=\"middle\" x=\"170.5\" y=\"-734.8\" font-family=\"Times,serif\" font-size=\"14.00\">&lt;R&gt;</text>\n",
       "</g>\n",
       "<!-- 2 -->\n",
       "<g id=\"node2\" class=\"node\">\n",
       "<title>2</title>\n",
       "<polygon fill=\"none\" stroke=\"black\" points=\"221.5,-683.5 119.5,-683.5 119.5,-630.5 221.5,-630.5 221.5,-683.5\"/>\n",
       "<text text-anchor=\"middle\" x=\"170.5\" y=\"-668.3\" font-family=\"Times,serif\" font-size=\"14.00\">[2]</text>\n",
       "<text text-anchor=\"middle\" x=\"170.5\" y=\"-653.3\" font-family=\"Times,serif\" font-size=\"14.00\">Internal</text>\n",
       "<text text-anchor=\"middle\" x=\"170.5\" y=\"-638.3\" font-family=\"Times,serif\" font-size=\"14.00\">HomOnObjects</text>\n",
       "</g>\n",
       "<!-- 1&#45;&gt;2 -->\n",
       "<g id=\"edge1\" class=\"edge\">\n",
       "<title>1&#45;&gt;2</title>\n",
       "<path fill=\"none\" stroke=\"black\" d=\"M164.13,-726.88C163.66,-716.22 163.62,-704.35 164.03,-693.52\"/>\n",
       "<polygon fill=\"black\" stroke=\"black\" points=\"167.53,-693.69 164.56,-683.52 160.54,-693.32 167.53,-693.69\"/>\n",
       "</g>\n",
       "<!-- 1&#45;&gt;2 -->\n",
       "<g id=\"edge2\" class=\"edge\">\n",
       "<title>1&#45;&gt;2</title>\n",
       "<path fill=\"none\" stroke=\"black\" d=\"M176.87,-726.88C177.34,-716.22 177.38,-704.35 176.97,-693.52\"/>\n",
       "<polygon fill=\"black\" stroke=\"black\" points=\"180.46,-693.32 176.44,-683.52 173.47,-693.69 180.46,-693.32\"/>\n",
       "</g>\n",
       "<!-- 3 -->\n",
       "<g id=\"node3\" class=\"node\">\n",
       "<title>3</title>\n",
       "<polygon fill=\"none\" stroke=\"black\" points=\"235.5,-579.5 81.5,-579.5 81.5,-541.5 235.5,-541.5 235.5,-579.5\"/>\n",
       "<text text-anchor=\"middle\" x=\"158.5\" y=\"-564.3\" font-family=\"Times,serif\" font-size=\"14.00\">[3]</text>\n",
       "<text text-anchor=\"middle\" x=\"158.5\" y=\"-549.3\" font-family=\"Times,serif\" font-size=\"14.00\">TensorProductOnObjects</text>\n",
       "</g>\n",
       "<!-- 1&#45;&gt;3 -->\n",
       "<g id=\"edge3\" class=\"edge\">\n",
       "<title>1&#45;&gt;3</title>\n",
       "<path fill=\"none\" stroke=\"black\" d=\"M136.69,-730.59C126.23,-719.37 116.01,-705.72 110.5,-691 99.91,-662.69 100.67,-651.58 110.5,-623 114.99,-609.96 123.49,-597.57 132.11,-587.37\"/>\n",
       "<polygon fill=\"black\" stroke=\"black\" points=\"134.92,-589.48 138.98,-579.69 129.7,-584.82 134.92,-589.48\"/>\n",
       "</g>\n",
       "<!-- 4 -->\n",
       "<g id=\"node4\" class=\"node\">\n",
       "<title>4</title>\n",
       "<polygon fill=\"none\" stroke=\"black\" points=\"133,-490.5 0,-490.5 0,-437.5 133,-437.5 133,-490.5\"/>\n",
       "<text text-anchor=\"middle\" x=\"66.5\" y=\"-475.3\" font-family=\"Times,serif\" font-size=\"14.00\">[4]</text>\n",
       "<text text-anchor=\"middle\" x=\"66.5\" y=\"-460.3\" font-family=\"Times,serif\" font-size=\"14.00\">EvaluationMorphism</text>\n",
       "<text text-anchor=\"middle\" x=\"66.5\" y=\"-445.3\" font-family=\"Times,serif\" font-size=\"14.00\">WithGivenSource</text>\n",
       "</g>\n",
       "<!-- 1&#45;&gt;4 -->\n",
       "<g id=\"edge4\" class=\"edge\">\n",
       "<title>1&#45;&gt;4</title>\n",
       "<path fill=\"none\" stroke=\"black\" d=\"M136.87,-741.31C120.04,-728.76 101.06,-710.92 89.5,-691 54.74,-631.1 52.53,-547.64 57.49,-500.72\"/>\n",
       "<polygon fill=\"black\" stroke=\"black\" points=\"60.97,-501.08 58.72,-490.73 54.02,-500.22 60.97,-501.08\"/>\n",
       "</g>\n",
       "<!-- 1&#45;&gt;4 -->\n",
       "<g id=\"edge5\" class=\"edge\">\n",
       "<title>1&#45;&gt;4</title>\n",
       "<path fill=\"none\" stroke=\"black\" d=\"M136.69,-726.88C126.04,-716.45 115.15,-704.18 107.5,-691 72.81,-631.22 70.53,-547.99 69.76,-501.02\"/>\n",
       "<polygon fill=\"black\" stroke=\"black\" points=\"73.26,-500.67 69.59,-490.73 66.26,-500.78 73.26,-500.67\"/>\n",
       "</g>\n",
       "<!-- 7 -->\n",
       "<g id=\"node7\" class=\"node\">\n",
       "<title>7</title>\n",
       "<polygon fill=\"none\" stroke=\"black\" points=\"313.5,-683.5 239.5,-683.5 239.5,-630.5 313.5,-630.5 313.5,-683.5\"/>\n",
       "<text text-anchor=\"middle\" x=\"276.5\" y=\"-668.3\" font-family=\"Times,serif\" font-size=\"14.00\">[7]</text>\n",
       "<text text-anchor=\"middle\" x=\"276.5\" y=\"-653.3\" font-family=\"Times,serif\" font-size=\"14.00\">Identity</text>\n",
       "<text text-anchor=\"middle\" x=\"276.5\" y=\"-638.3\" font-family=\"Times,serif\" font-size=\"14.00\">Morphism</text>\n",
       "</g>\n",
       "<!-- 1&#45;&gt;7 -->\n",
       "<g id=\"edge6\" class=\"edge\">\n",
       "<title>1&#45;&gt;7</title>\n",
       "<path fill=\"none\" stroke=\"black\" d=\"M204.04,-727.73C216.29,-715.93 230.16,-702.59 242.46,-690.75\"/>\n",
       "<polygon fill=\"black\" stroke=\"black\" points=\"245.11,-693.06 249.89,-683.61 240.26,-688.02 245.11,-693.06\"/>\n",
       "</g>\n",
       "<!-- 11 -->\n",
       "<g id=\"node11\" class=\"node\">\n",
       "<title>11</title>\n",
       "<polygon fill=\"none\" stroke=\"black\" points=\"525.5,-683.5 423.5,-683.5 423.5,-630.5 525.5,-630.5 525.5,-683.5\"/>\n",
       "<text text-anchor=\"middle\" x=\"474.5\" y=\"-668.3\" font-family=\"Times,serif\" font-size=\"14.00\">[11]</text>\n",
       "<text text-anchor=\"middle\" x=\"474.5\" y=\"-653.3\" font-family=\"Times,serif\" font-size=\"14.00\">Internal</text>\n",
       "<text text-anchor=\"middle\" x=\"474.5\" y=\"-638.3\" font-family=\"Times,serif\" font-size=\"14.00\">HomOnObjects</text>\n",
       "</g>\n",
       "<!-- 1&#45;&gt;11 -->\n",
       "<g id=\"edge7\" class=\"edge\">\n",
       "<title>1&#45;&gt;11</title>\n",
       "<path fill=\"none\" stroke=\"black\" d=\"M204.06,-753.06C251.85,-742.6 341.8,-720.82 414.5,-691 416.86,-690.03 419.24,-689 421.63,-687.91\"/>\n",
       "<polygon fill=\"black\" stroke=\"black\" points=\"423.32,-690.98 430.82,-683.5 420.29,-684.67 423.32,-690.98\"/>\n",
       "</g>\n",
       "<!-- 2&#45;&gt;3 -->\n",
       "<g id=\"edge8\" class=\"edge\">\n",
       "<title>2&#45;&gt;3</title>\n",
       "<path fill=\"none\" stroke=\"black\" d=\"M167.22,-630.18C165.63,-617.63 163.71,-602.51 162.08,-589.67\"/>\n",
       "<polygon fill=\"black\" stroke=\"black\" points=\"165.52,-588.99 160.79,-579.51 158.57,-589.87 165.52,-588.99\"/>\n",
       "</g>\n",
       "<!-- 9 -->\n",
       "<g id=\"node9\" class=\"node\">\n",
       "<title>9</title>\n",
       "<polygon fill=\"none\" stroke=\"black\" points=\"268.5,-498 172.5,-498 172.5,-430 268.5,-430 268.5,-498\"/>\n",
       "<text text-anchor=\"middle\" x=\"220.5\" y=\"-482.8\" font-family=\"Times,serif\" font-size=\"14.00\">[9]</text>\n",
       "<text text-anchor=\"middle\" x=\"220.5\" y=\"-467.8\" font-family=\"Times,serif\" font-size=\"14.00\">RightUnitor</text>\n",
       "<text text-anchor=\"middle\" x=\"220.5\" y=\"-452.8\" font-family=\"Times,serif\" font-size=\"14.00\">WithGiven</text>\n",
       "<text text-anchor=\"middle\" x=\"220.5\" y=\"-437.8\" font-family=\"Times,serif\" font-size=\"14.00\">TensorProduct</text>\n",
       "</g>\n",
       "<!-- 2&#45;&gt;9 -->\n",
       "<g id=\"edge9\" class=\"edge\">\n",
       "<title>2&#45;&gt;9</title>\n",
       "<path fill=\"none\" stroke=\"black\" d=\"M209.3,-630.28C223.11,-618.84 237.08,-604.08 244.5,-587 255.39,-561.95 249.65,-531.85 241.06,-507.81\"/>\n",
       "<polygon fill=\"black\" stroke=\"black\" points=\"244.24,-506.33 237.38,-498.25 237.7,-508.84 244.24,-506.33\"/>\n",
       "</g>\n",
       "<!-- 15 -->\n",
       "<g id=\"node15\" class=\"node\">\n",
       "<title>15</title>\n",
       "<polygon fill=\"none\" stroke=\"black\" points=\"457.5,-587 291.5,-587 291.5,-534 457.5,-534 457.5,-587\"/>\n",
       "<text text-anchor=\"middle\" x=\"374.5\" y=\"-571.8\" font-family=\"Times,serif\" font-size=\"14.00\">[15]</text>\n",
       "<text text-anchor=\"middle\" x=\"374.5\" y=\"-556.8\" font-family=\"Times,serif\" font-size=\"14.00\">InternalHomOnMorphisms</text>\n",
       "<text text-anchor=\"middle\" x=\"374.5\" y=\"-541.8\" font-family=\"Times,serif\" font-size=\"14.00\">WithGivenInternalHoms</text>\n",
       "</g>\n",
       "<!-- 2&#45;&gt;15 -->\n",
       "<g id=\"edge10\" class=\"edge\">\n",
       "<title>2&#45;&gt;15</title>\n",
       "<path fill=\"none\" stroke=\"black\" d=\"M215.79,-630.47C220.72,-627.88 225.69,-625.34 230.5,-623 253.27,-611.91 278.54,-600.75 301.47,-591.03\"/>\n",
       "<polygon fill=\"black\" stroke=\"black\" points=\"302.94,-594.21 310.8,-587.1 300.23,-587.76 302.94,-594.21\"/>\n",
       "</g>\n",
       "<!-- 3&#45;&gt;4 -->\n",
       "<g id=\"edge11\" class=\"edge\">\n",
       "<title>3&#45;&gt;4</title>\n",
       "<path fill=\"none\" stroke=\"black\" d=\"M140.76,-541.28C128.85,-529.04 112.8,-512.56 98.67,-498.04\"/>\n",
       "<polygon fill=\"black\" stroke=\"black\" points=\"100.97,-495.39 91.49,-490.67 95.96,-500.27 100.97,-495.39\"/>\n",
       "</g>\n",
       "<!-- 3&#45;&gt;9 -->\n",
       "<g id=\"edge12\" class=\"edge\">\n",
       "<title>3&#45;&gt;9</title>\n",
       "<path fill=\"none\" stroke=\"black\" d=\"M170.45,-541.28C176.91,-531.44 185.17,-518.86 193.1,-506.76\"/>\n",
       "<polygon fill=\"black\" stroke=\"black\" points=\"196.23,-508.37 198.79,-498.08 190.38,-504.53 196.23,-508.37\"/>\n",
       "</g>\n",
       "<!-- 10 -->\n",
       "<g id=\"node10\" class=\"node\">\n",
       "<title>10</title>\n",
       "<polygon fill=\"none\" stroke=\"black\" points=\"159,-394 82,-394 82,-341 159,-341 159,-394\"/>\n",
       "<text text-anchor=\"middle\" x=\"120.5\" y=\"-378.8\" font-family=\"Times,serif\" font-size=\"14.00\">[10]</text>\n",
       "<text text-anchor=\"middle\" x=\"120.5\" y=\"-363.8\" font-family=\"Times,serif\" font-size=\"14.00\">Inverse</text>\n",
       "<text text-anchor=\"middle\" x=\"120.5\" y=\"-348.8\" font-family=\"Times,serif\" font-size=\"14.00\">Immutable</text>\n",
       "</g>\n",
       "<!-- 4&#45;&gt;10 -->\n",
       "<g id=\"edge13\" class=\"edge\">\n",
       "<title>4&#45;&gt;10</title>\n",
       "<path fill=\"none\" stroke=\"black\" d=\"M81.26,-437.18C87.27,-426.66 94.31,-414.34 100.75,-403.06\"/>\n",
       "<polygon fill=\"black\" stroke=\"black\" points=\"103.84,-404.71 105.76,-394.29 97.76,-401.24 103.84,-404.71\"/>\n",
       "</g>\n",
       "<!-- 5 -->\n",
       "<g id=\"node5\" class=\"node\">\n",
       "<title>5</title>\n",
       "<polygon fill=\"none\" stroke=\"black\" points=\"812,-795 745,-795 745,-727 812,-727 812,-795\"/>\n",
       "<text text-anchor=\"middle\" x=\"778.5\" y=\"-779.8\" font-family=\"Times,serif\" font-size=\"14.00\">[5]</text>\n",
       "<text text-anchor=\"middle\" x=\"778.5\" y=\"-764.8\" font-family=\"Times,serif\" font-size=\"14.00\">primitive</text>\n",
       "<text text-anchor=\"middle\" x=\"778.5\" y=\"-749.8\" font-family=\"Times,serif\" font-size=\"14.00\">object</text>\n",
       "<text text-anchor=\"middle\" x=\"778.5\" y=\"-734.8\" font-family=\"Times,serif\" font-size=\"14.00\">&lt;R^i&gt;</text>\n",
       "</g>\n",
       "<!-- 14 -->\n",
       "<g id=\"node14\" class=\"node\">\n",
       "<title>14</title>\n",
       "<polygon fill=\"none\" stroke=\"black\" points=\"829.5,-683.5 727.5,-683.5 727.5,-630.5 829.5,-630.5 829.5,-683.5\"/>\n",
       "<text text-anchor=\"middle\" x=\"778.5\" y=\"-668.3\" font-family=\"Times,serif\" font-size=\"14.00\">[14]</text>\n",
       "<text text-anchor=\"middle\" x=\"778.5\" y=\"-653.3\" font-family=\"Times,serif\" font-size=\"14.00\">Internal</text>\n",
       "<text text-anchor=\"middle\" x=\"778.5\" y=\"-638.3\" font-family=\"Times,serif\" font-size=\"14.00\">HomOnObjects</text>\n",
       "</g>\n",
       "<!-- 5&#45;&gt;14 -->\n",
       "<g id=\"edge14\" class=\"edge\">\n",
       "<title>5&#45;&gt;14</title>\n",
       "<path fill=\"none\" stroke=\"black\" d=\"M778.5,-726.88C778.5,-716.33 778.5,-704.6 778.5,-693.85\"/>\n",
       "<polygon fill=\"black\" stroke=\"black\" points=\"782,-693.52 778.5,-683.52 775,-693.52 782,-693.52\"/>\n",
       "</g>\n",
       "<!-- 6 -->\n",
       "<g id=\"node6\" class=\"node\">\n",
       "<title>6</title>\n",
       "<polygon fill=\"none\" stroke=\"black\" points=\"706,-795 639,-795 639,-727 706,-727 706,-795\"/>\n",
       "<text text-anchor=\"middle\" x=\"672.5\" y=\"-779.8\" font-family=\"Times,serif\" font-size=\"14.00\">[6]</text>\n",
       "<text text-anchor=\"middle\" x=\"672.5\" y=\"-764.8\" font-family=\"Times,serif\" font-size=\"14.00\">primitive</text>\n",
       "<text text-anchor=\"middle\" x=\"672.5\" y=\"-749.8\" font-family=\"Times,serif\" font-size=\"14.00\">object</text>\n",
       "<text text-anchor=\"middle\" x=\"672.5\" y=\"-734.8\" font-family=\"Times,serif\" font-size=\"14.00\">&lt;R^j&gt;</text>\n",
       "</g>\n",
       "<!-- 6&#45;&gt;11 -->\n",
       "<g id=\"edge15\" class=\"edge\">\n",
       "<title>6&#45;&gt;11</title>\n",
       "<path fill=\"none\" stroke=\"black\" d=\"M638.86,-743.4C611.04,-729.59 570.56,-709.31 535.5,-691 533.78,-690.1 532.03,-689.18 530.27,-688.26\"/>\n",
       "<polygon fill=\"black\" stroke=\"black\" points=\"531.86,-685.14 521.38,-683.54 528.58,-691.32 531.86,-685.14\"/>\n",
       "</g>\n",
       "<!-- 13 -->\n",
       "<g id=\"node13\" class=\"node\">\n",
       "<title>13</title>\n",
       "<polygon fill=\"none\" stroke=\"black\" points=\"709.5,-683.5 635.5,-683.5 635.5,-630.5 709.5,-630.5 709.5,-683.5\"/>\n",
       "<text text-anchor=\"middle\" x=\"672.5\" y=\"-668.3\" font-family=\"Times,serif\" font-size=\"14.00\">[13]</text>\n",
       "<text text-anchor=\"middle\" x=\"672.5\" y=\"-653.3\" font-family=\"Times,serif\" font-size=\"14.00\">Identity</text>\n",
       "<text text-anchor=\"middle\" x=\"672.5\" y=\"-638.3\" font-family=\"Times,serif\" font-size=\"14.00\">Morphism</text>\n",
       "</g>\n",
       "<!-- 6&#45;&gt;13 -->\n",
       "<g id=\"edge16\" class=\"edge\">\n",
       "<title>6&#45;&gt;13</title>\n",
       "<path fill=\"none\" stroke=\"black\" d=\"M672.5,-726.88C672.5,-716.33 672.5,-704.6 672.5,-693.85\"/>\n",
       "<polygon fill=\"black\" stroke=\"black\" points=\"676,-693.52 672.5,-683.52 669,-693.52 676,-693.52\"/>\n",
       "</g>\n",
       "<!-- 6&#45;&gt;14 -->\n",
       "<g id=\"edge17\" class=\"edge\">\n",
       "<title>6&#45;&gt;14</title>\n",
       "<path fill=\"none\" stroke=\"black\" d=\"M706.04,-727.73C718.29,-715.93 732.16,-702.59 744.46,-690.75\"/>\n",
       "<polygon fill=\"black\" stroke=\"black\" points=\"747.11,-693.06 751.89,-683.61 742.26,-688.02 747.11,-693.06\"/>\n",
       "</g>\n",
       "<!-- 7&#45;&gt;15 -->\n",
       "<g id=\"edge18\" class=\"edge\">\n",
       "<title>7&#45;&gt;15</title>\n",
       "<path fill=\"none\" stroke=\"black\" d=\"M303.02,-630.43C314.57,-619.29 328.24,-606.11 340.52,-594.26\"/>\n",
       "<polygon fill=\"black\" stroke=\"black\" points=\"343.19,-596.55 347.96,-587.09 338.33,-591.52 343.19,-596.55\"/>\n",
       "</g>\n",
       "<!-- 8 -->\n",
       "<g id=\"node8\" class=\"node\">\n",
       "<title>8</title>\n",
       "<polygon fill=\"none\" stroke=\"black\" points=\"405,-691 332,-691 332,-623 405,-623 405,-691\"/>\n",
       "<text text-anchor=\"middle\" x=\"368.5\" y=\"-675.8\" font-family=\"Times,serif\" font-size=\"14.00\">[8]</text>\n",
       "<text text-anchor=\"middle\" x=\"368.5\" y=\"-660.8\" font-family=\"Times,serif\" font-size=\"14.00\">primitive</text>\n",
       "<text text-anchor=\"middle\" x=\"368.5\" y=\"-645.8\" font-family=\"Times,serif\" font-size=\"14.00\">morphism</text>\n",
       "<text text-anchor=\"middle\" x=\"368.5\" y=\"-630.8\" font-family=\"Times,serif\" font-size=\"14.00\">&lt;J&gt;</text>\n",
       "</g>\n",
       "<!-- 8&#45;&gt;15 -->\n",
       "<g id=\"edge19\" class=\"edge\">\n",
       "<title>8&#45;&gt;15</title>\n",
       "<path fill=\"none\" stroke=\"black\" d=\"M370.6,-622.95C371.12,-614.72 371.68,-605.85 372.22,-597.48\"/>\n",
       "<polygon fill=\"black\" stroke=\"black\" points=\"375.73,-597.44 372.87,-587.24 368.74,-596.99 375.73,-597.44\"/>\n",
       "</g>\n",
       "<!-- 16 -->\n",
       "<g id=\"node16\" class=\"node\">\n",
       "<title>16</title>\n",
       "<polygon fill=\"none\" stroke=\"black\" points=\"254.5,-305 186.5,-305 186.5,-252 254.5,-252 254.5,-305\"/>\n",
       "<text text-anchor=\"middle\" x=\"220.5\" y=\"-289.8\" font-family=\"Times,serif\" font-size=\"14.00\">[16]</text>\n",
       "<text text-anchor=\"middle\" x=\"220.5\" y=\"-274.8\" font-family=\"Times,serif\" font-size=\"14.00\">Pre</text>\n",
       "<text text-anchor=\"middle\" x=\"220.5\" y=\"-259.8\" font-family=\"Times,serif\" font-size=\"14.00\">Compose</text>\n",
       "</g>\n",
       "<!-- 9&#45;&gt;16 -->\n",
       "<g id=\"edge20\" class=\"edge\">\n",
       "<title>9&#45;&gt;16</title>\n",
       "<path fill=\"none\" stroke=\"black\" d=\"M220.5,-429.77C220.5,-397.43 220.5,-348.45 220.5,-315.27\"/>\n",
       "<polygon fill=\"black\" stroke=\"black\" points=\"224,-315.09 220.5,-305.09 217,-315.09 224,-315.09\"/>\n",
       "</g>\n",
       "<!-- 10&#45;&gt;16 -->\n",
       "<g id=\"edge21\" class=\"edge\">\n",
       "<title>10&#45;&gt;16</title>\n",
       "<path fill=\"none\" stroke=\"black\" d=\"M149.96,-340.87C160.35,-331.83 172.16,-321.55 183.11,-312.03\"/>\n",
       "<polygon fill=\"black\" stroke=\"black\" points=\"185.66,-314.45 190.9,-305.25 181.06,-309.17 185.66,-314.45\"/>\n",
       "</g>\n",
       "<!-- 11&#45;&gt;15 -->\n",
       "<g id=\"edge22\" class=\"edge\">\n",
       "<title>11&#45;&gt;15</title>\n",
       "<path fill=\"none\" stroke=\"black\" d=\"M447.44,-630.43C435.65,-619.29 421.7,-606.11 409.17,-594.26\"/>\n",
       "<polygon fill=\"black\" stroke=\"black\" points=\"411.26,-591.42 401.58,-587.09 406.45,-596.51 411.26,-591.42\"/>\n",
       "</g>\n",
       "<!-- 18 -->\n",
       "<g id=\"node18\" class=\"node\">\n",
       "<title>18</title>\n",
       "<polygon fill=\"none\" stroke=\"black\" points=\"662.5,-587 496.5,-587 496.5,-534 662.5,-534 662.5,-587\"/>\n",
       "<text text-anchor=\"middle\" x=\"579.5\" y=\"-571.8\" font-family=\"Times,serif\" font-size=\"14.00\">[18]</text>\n",
       "<text text-anchor=\"middle\" x=\"579.5\" y=\"-556.8\" font-family=\"Times,serif\" font-size=\"14.00\">InternalHomOnMorphisms</text>\n",
       "<text text-anchor=\"middle\" x=\"579.5\" y=\"-541.8\" font-family=\"Times,serif\" font-size=\"14.00\">WithGivenInternalHoms</text>\n",
       "</g>\n",
       "<!-- 11&#45;&gt;18 -->\n",
       "<g id=\"edge23\" class=\"edge\">\n",
       "<title>11&#45;&gt;18</title>\n",
       "<path fill=\"none\" stroke=\"black\" d=\"M502.91,-630.43C515.4,-619.19 530.22,-605.86 543.47,-593.93\"/>\n",
       "<polygon fill=\"black\" stroke=\"black\" points=\"545.97,-596.38 551.06,-587.09 541.29,-591.18 545.97,-596.38\"/>\n",
       "</g>\n",
       "<!-- 12 -->\n",
       "<g id=\"node12\" class=\"node\">\n",
       "<title>12</title>\n",
       "<polygon fill=\"none\" stroke=\"black\" points=\"617,-691 544,-691 544,-623 617,-623 617,-691\"/>\n",
       "<text text-anchor=\"middle\" x=\"580.5\" y=\"-675.8\" font-family=\"Times,serif\" font-size=\"14.00\">[12]</text>\n",
       "<text text-anchor=\"middle\" x=\"580.5\" y=\"-660.8\" font-family=\"Times,serif\" font-size=\"14.00\">primitive</text>\n",
       "<text text-anchor=\"middle\" x=\"580.5\" y=\"-645.8\" font-family=\"Times,serif\" font-size=\"14.00\">morphism</text>\n",
       "<text text-anchor=\"middle\" x=\"580.5\" y=\"-630.8\" font-family=\"Times,serif\" font-size=\"14.00\">&lt;I&gt;</text>\n",
       "</g>\n",
       "<!-- 12&#45;&gt;18 -->\n",
       "<g id=\"edge24\" class=\"edge\">\n",
       "<title>12&#45;&gt;18</title>\n",
       "<path fill=\"none\" stroke=\"black\" d=\"M580.15,-622.95C580.06,-614.72 579.97,-605.85 579.88,-597.48\"/>\n",
       "<polygon fill=\"black\" stroke=\"black\" points=\"583.38,-597.2 579.77,-587.24 576.38,-597.27 583.38,-597.2\"/>\n",
       "</g>\n",
       "<!-- 13&#45;&gt;18 -->\n",
       "<g id=\"edge25\" class=\"edge\">\n",
       "<title>13&#45;&gt;18</title>\n",
       "<path fill=\"none\" stroke=\"black\" d=\"M647.09,-630.18C636.32,-619.24 623.65,-606.36 612.2,-594.72\"/>\n",
       "<polygon fill=\"black\" stroke=\"black\" points=\"614.39,-591.96 604.88,-587.29 609.4,-596.87 614.39,-591.96\"/>\n",
       "</g>\n",
       "<!-- 14&#45;&gt;18 -->\n",
       "<g id=\"edge26\" class=\"edge\">\n",
       "<title>14&#45;&gt;18</title>\n",
       "<path fill=\"none\" stroke=\"black\" d=\"M732.85,-630.36C728.04,-627.82 723.19,-625.32 718.5,-623 696.36,-612.04 671.82,-600.87 649.6,-591.11\"/>\n",
       "<polygon fill=\"black\" stroke=\"black\" points=\"650.8,-587.81 640.23,-587.02 648,-594.23 650.8,-587.81\"/>\n",
       "</g>\n",
       "<!-- 17 -->\n",
       "<g id=\"node17\" class=\"node\">\n",
       "<title>17</title>\n",
       "<polygon fill=\"none\" stroke=\"black\" points=\"409.5,-216 341.5,-216 341.5,-163 409.5,-163 409.5,-216\"/>\n",
       "<text text-anchor=\"middle\" x=\"375.5\" y=\"-200.8\" font-family=\"Times,serif\" font-size=\"14.00\">[17]</text>\n",
       "<text text-anchor=\"middle\" x=\"375.5\" y=\"-185.8\" font-family=\"Times,serif\" font-size=\"14.00\">Pre</text>\n",
       "<text text-anchor=\"middle\" x=\"375.5\" y=\"-170.8\" font-family=\"Times,serif\" font-size=\"14.00\">Compose</text>\n",
       "</g>\n",
       "<!-- 15&#45;&gt;17 -->\n",
       "<g id=\"edge27\" class=\"edge\">\n",
       "<title>15&#45;&gt;17</title>\n",
       "<path fill=\"none\" stroke=\"black\" d=\"M374.57,-533.85C374.74,-469.51 375.2,-301.15 375.4,-226.75\"/>\n",
       "<polygon fill=\"black\" stroke=\"black\" points=\"378.9,-226.48 375.43,-216.48 371.9,-226.47 378.9,-226.48\"/>\n",
       "</g>\n",
       "<!-- 16&#45;&gt;17 -->\n",
       "<g id=\"edge28\" class=\"edge\">\n",
       "<title>16&#45;&gt;17</title>\n",
       "<path fill=\"none\" stroke=\"black\" d=\"M254.52,-258.41C277.45,-245.53 307.9,-228.44 332.52,-214.63\"/>\n",
       "<polygon fill=\"black\" stroke=\"black\" points=\"334.29,-217.64 341.3,-209.7 330.86,-211.54 334.29,-217.64\"/>\n",
       "</g>\n",
       "<!-- 19 -->\n",
       "<g id=\"node19\" class=\"node\">\n",
       "<title>19</title>\n",
       "<polygon fill=\"none\" stroke=\"black\" points=\"548,-127 417,-127 417,-89 548,-89 548,-127\"/>\n",
       "<text text-anchor=\"middle\" x=\"482.5\" y=\"-111.8\" font-family=\"Times,serif\" font-size=\"14.00\">[19]</text>\n",
       "<text text-anchor=\"middle\" x=\"482.5\" y=\"-96.8\" font-family=\"Times,serif\" font-size=\"14.00\">WeakBiFiberProduct</text>\n",
       "</g>\n",
       "<!-- 17&#45;&gt;19 -->\n",
       "<g id=\"edge29\" class=\"edge\">\n",
       "<title>17&#45;&gt;19</title>\n",
       "<path fill=\"none\" stroke=\"black\" d=\"M409.65,-163.13C422.59,-153.51 437.28,-142.59 450.07,-133.1\"/>\n",
       "<polygon fill=\"black\" stroke=\"black\" points=\"452.21,-135.86 458.15,-127.09 448.04,-130.24 452.21,-135.86\"/>\n",
       "</g>\n",
       "<!-- 20 -->\n",
       "<g id=\"node20\" class=\"node\">\n",
       "<title>20</title>\n",
       "<polygon fill=\"none\" stroke=\"black\" points=\"618.5,-53 346.5,-53 346.5,0 618.5,0 618.5,-53\"/>\n",
       "<text text-anchor=\"middle\" x=\"482.5\" y=\"-37.8\" font-family=\"Times,serif\" font-size=\"14.00\">[20]</text>\n",
       "<text text-anchor=\"middle\" x=\"482.5\" y=\"-22.8\" font-family=\"Times,serif\" font-size=\"14.00\">ProjectionInFirstFactorOfWeakBiFiberProduct</text>\n",
       "<text text-anchor=\"middle\" x=\"482.5\" y=\"-7.8\" font-family=\"Times,serif\" font-size=\"14.00\">WithGivenWeakBiFiberProduct</text>\n",
       "</g>\n",
       "<!-- 17&#45;&gt;20 -->\n",
       "<g id=\"edge30\" class=\"edge\">\n",
       "<title>17&#45;&gt;20</title>\n",
       "<path fill=\"none\" stroke=\"black\" d=\"M379.97,-162.62C384.54,-141.43 393.21,-111.4 408.5,-89 415.93,-78.11 425.81,-68.1 435.92,-59.45\"/>\n",
       "<polygon fill=\"black\" stroke=\"black\" points=\"438.14,-62.15 443.66,-53.11 433.7,-56.74 438.14,-62.15\"/>\n",
       "</g>\n",
       "<!-- 18&#45;&gt;19 -->\n",
       "<g id=\"edge31\" class=\"edge\">\n",
       "<title>18&#45;&gt;19</title>\n",
       "<path fill=\"none\" stroke=\"black\" d=\"M563.84,-533.99C543.48,-498.32 510.5,-430.91 510.5,-368.5 510.5,-368.5 510.5,-368.5 510.5,-277.5 510.5,-227.46 498.34,-170.18 490.04,-136.95\"/>\n",
       "<polygon fill=\"black\" stroke=\"black\" points=\"493.38,-135.86 487.51,-127.04 486.6,-137.59 493.38,-135.86\"/>\n",
       "</g>\n",
       "<!-- 18&#45;&gt;20 -->\n",
       "<g id=\"edge32\" class=\"edge\">\n",
       "<title>18&#45;&gt;20</title>\n",
       "<path fill=\"none\" stroke=\"black\" d=\"M579.28,-533.86C578.99,-497.2 578.5,-427.69 578.5,-368.5 578.5,-368.5 578.5,-368.5 578.5,-188.5 578.5,-143.3 580.97,-127.63 557.5,-89 550.81,-77.99 541.41,-68.06 531.53,-59.56\"/>\n",
       "<polygon fill=\"black\" stroke=\"black\" points=\"533.5,-56.65 523.54,-53.05 529.08,-62.08 533.5,-56.65\"/>\n",
       "</g>\n",
       "<!-- 19&#45;&gt;20 -->\n",
       "<g id=\"edge33\" class=\"edge\">\n",
       "<title>19&#45;&gt;20</title>\n",
       "<path fill=\"none\" stroke=\"black\" d=\"M482.5,-88.96C482.5,-81.32 482.5,-72.14 482.5,-63.23\"/>\n",
       "<polygon fill=\"black\" stroke=\"black\" points=\"486,-63 482.5,-53 479,-63 486,-63\"/>\n",
       "</g>\n",
       "</g>\n",
       "</svg>\n"
      ]
     },
     "metadata": {},
     "output_type": "display_data"
    }
   ],
   "source": [
    "VisualizeInJulia( UnderlyingMorphism( UnderlyingCell( IqJ ) ) )"
   ]
  },
  {
   "cell_type": "code",
   "execution_count": 27,
   "metadata": {},
   "outputs": [
    {
     "name": "stdout",
     "output_type": "stream",
     "text": [
      "1.\t-> evaluating in Rows( Q[x,y] ).........................: ProjectionInFirstFactorOfWeakBiFiberProductWithGivenWeakBiFiberProduct\n",
      "2.\t -> evaluating in Rows( Q[x,y] ).........................: PreCompose\n",
      "3.\t -> evaluating in Rows( Q[x,y] ).........................: PreCompose\n",
      "4.\t  -> evaluating in Rows( Q[x,y] ).........................: InverseImmutable\n",
      "5.\t  -> evaluating in Rows( Q[x,y] ).........................: EvaluationMorphismWithGivenSource\n",
      "6.\t  -> evaluating in Rows( Q[x,y] ).........................: TensorProductOnObjects\n",
      "7.\t  -> evaluating in Rows( Q[x,y] ).........................: InternalHomOnObjects\n",
      "7.\t  <- evaluated  in Rows( Q[x,y] ).........................: InternalHomOnObjects\n",
      "6.\t  <- evaluated  in Rows( Q[x,y] ).........................: TensorProductOnObjects\n",
      "5.\t  <- evaluated  in Rows( Q[x,y] ).........................: EvaluationMorphismWithGivenSource\n",
      "4.\t  <- evaluated  in Rows( Q[x,y] ).........................: InverseImmutable\n",
      "8.\t   -> evaluating in Rows( Q[x,y] ).........................: RightUnitorWithGivenTensorProduct\n",
      "8.\t   <- evaluated  in Rows( Q[x,y] ).........................: RightUnitorWithGivenTensorProduct\n",
      "3.\t <- evaluated  in Rows( Q[x,y] ).........................: PreCompose\n",
      "9.\t   -> evaluating in Rows( Q[x,y] ).........................: InternalHomOnMorphismsWithGivenInternalHoms\n",
      "10.\t   -> evaluating in Rows( Q[x,y] ).........................: IdentityMorphism\n",
      "10.\t   <- evaluated  in Rows( Q[x,y] ).........................: IdentityMorphism\n",
      "11.\t   -> evaluating in Rows( Q[x,y] ).........................: InternalHomOnObjects\n",
      "11.\t   <- evaluated  in Rows( Q[x,y] ).........................: InternalHomOnObjects\n",
      "9.\t   <- evaluated  in Rows( Q[x,y] ).........................: InternalHomOnMorphismsWithGivenInternalHoms\n",
      "2.\t <- evaluated  in Rows( Q[x,y] ).........................: PreCompose\n",
      "12.\t   -> evaluating in Rows( Q[x,y] ).........................: InternalHomOnMorphismsWithGivenInternalHoms\n",
      "13.\t   -> evaluating in Rows( Q[x,y] ).........................: InternalHomOnObjects\n",
      "13.\t   <- evaluated  in Rows( Q[x,y] ).........................: InternalHomOnObjects\n",
      "14.\t   -> evaluating in Rows( Q[x,y] ).........................: IdentityMorphism\n",
      "14.\t   <- evaluated  in Rows( Q[x,y] ).........................: IdentityMorphism\n",
      "12.\t   <- evaluated  in Rows( Q[x,y] ).........................: InternalHomOnMorphismsWithGivenInternalHoms\n",
      "15.\t   -> evaluating in Rows( Q[x,y] ).........................: WeakBiFiberProduct\n",
      "15.\t   <- evaluated  in Rows( Q[x,y] ).........................: WeakBiFiberProduct\n",
      "1.\t<- evaluated  in Rows( Q[x,y] ).........................: ProjectionInFirstFactorOfWeakBiFiberProductWithGivenWeakBiFiberProduct\n"
     ]
    },
    {
     "data": {
      "text/plain": [
       "true"
      ]
     },
     "execution_count": 27,
     "metadata": {},
     "output_type": "execute_result"
    }
   ],
   "source": [
    "K == IqJ"
   ]
  },
  {
   "cell_type": "code",
   "execution_count": null,
   "metadata": {},
   "outputs": [],
   "source": []
  }
 ],
 "metadata": {
  "@webio": {
   "lastCommId": null,
   "lastKernelId": null
  },
  "kernelspec": {
   "display_name": "Julia 1.4.1",
   "language": "julia",
   "name": "julia-1.4"
  },
  "language_info": {
   "file_extension": ".jl",
   "mimetype": "application/julia",
   "name": "julia",
   "version": "1.4.1"
  }
 },
 "nbformat": 4,
 "nbformat_minor": 2
}
