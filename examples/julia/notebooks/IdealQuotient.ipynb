{
 "cells": [
  {
   "cell_type": "code",
   "execution_count": 1,
   "metadata": {},
   "outputs": [
    {
     "name": "stdout",
     "output_type": "stream",
     "text": [
      "HomalgProject v\u001b[32m0.4.11\u001b[39m\n",
      "Imported OSCAR's components GAP, Nemo, and Singular\n",
      "Type: ?HomalgProject for more information\n"
     ]
    }
   ],
   "source": [
    "using HomalgProject"
   ]
  },
  {
   "cell_type": "code",
   "execution_count": 2,
   "metadata": {},
   "outputs": [],
   "source": [
    "LoadPackage( \"FreydCategoriesForCAP\" )"
   ]
  },
  {
   "cell_type": "code",
   "execution_count": 3,
   "metadata": {},
   "outputs": [],
   "source": [
    "LoadPackage( \"SubcategoriesForCAP\" )"
   ]
  },
  {
   "cell_type": "code",
   "execution_count": 4,
   "metadata": {},
   "outputs": [],
   "source": [
    "LoadPackage( \"Locales\" )"
   ]
  },
  {
   "cell_type": "code",
   "execution_count": 5,
   "metadata": {},
   "outputs": [],
   "source": [
    "LoadPackage( \"LazyCategories\" )"
   ]
  },
  {
   "cell_type": "code",
   "execution_count": 6,
   "metadata": {},
   "outputs": [
    {
     "data": {
      "text/plain": [
       "GAP: Q"
      ]
     },
     "execution_count": 6,
     "metadata": {},
     "output_type": "execute_result"
    }
   ],
   "source": [
    "Q = HomalgFieldOfRationalsInSingular( )"
   ]
  },
  {
   "cell_type": "code",
   "execution_count": 7,
   "metadata": {},
   "outputs": [
    {
     "data": {
      "text/plain": [
       "GAP: Q[x,y]"
      ]
     },
     "execution_count": 7,
     "metadata": {},
     "output_type": "execute_result"
    }
   ],
   "source": [
    "R = Q[\"x,y\"]"
   ]
  },
  {
   "cell_type": "code",
   "execution_count": 8,
   "metadata": {},
   "outputs": [
    {
     "data": {
      "text/plain": [
       "GAP: <A 2 x 1 matrix over an external ring>"
      ]
     },
     "execution_count": 8,
     "metadata": {},
     "output_type": "execute_result"
    }
   ],
   "source": [
    "K = HomalgMatrix( \"[ x, -x ]\", 2, 1, R )"
   ]
  },
  {
   "cell_type": "code",
   "execution_count": 9,
   "metadata": {},
   "outputs": [
    {
     "data": {
      "text/plain": [
       "GAP: <A 2 x 1 matrix over an external ring>"
      ]
     },
     "execution_count": 9,
     "metadata": {},
     "output_type": "execute_result"
    }
   ],
   "source": [
    "J = HomalgMatrix( \"[ x, y ]\", 2, 1, R )"
   ]
  },
  {
   "cell_type": "code",
   "execution_count": 10,
   "metadata": {},
   "outputs": [
    {
     "data": {
      "text/plain": [
       "GAP: <An unevaluated 4 x 1 matrix over an external ring>"
      ]
     },
     "execution_count": 10,
     "metadata": {},
     "output_type": "execute_result"
    }
   ],
   "source": [
    "I = KroneckerMat( K, J )"
   ]
  },
  {
   "cell_type": "code",
   "execution_count": 11,
   "metadata": {},
   "outputs": [
    {
     "data": {
      "text/plain": [
       "GAP: Rows( Q[x,y] )"
      ]
     },
     "execution_count": 11,
     "metadata": {},
     "output_type": "execute_result"
    }
   ],
   "source": [
    "P = CategoryOfRows( R )"
   ]
  },
  {
   "cell_type": "code",
   "execution_count": 12,
   "metadata": {},
   "outputs": [
    {
     "data": {
      "text/plain": [
       "GAP: LazyCategory( Rows( Q[x,y] ) )"
      ]
     },
     "execution_count": 12,
     "metadata": {},
     "output_type": "execute_result"
    }
   ],
   "source": [
    "P = LazyCategory( P, show_evaluation = true )"
   ]
  },
  {
   "cell_type": "code",
   "execution_count": 13,
   "metadata": {},
   "outputs": [
    {
     "data": {
      "text/plain": [
       "GAP: <An evaluated morphism in LazyCategory( Rows( Q[x,y] ) )>"
      ]
     },
     "execution_count": 13,
     "metadata": {},
     "output_type": "execute_result"
    }
   ],
   "source": [
    "I = I / P"
   ]
  },
  {
   "cell_type": "code",
   "execution_count": 14,
   "metadata": {},
   "outputs": [],
   "source": [
    "SetLabel( I, \"I\" ); SetLabel( Source( I ), \"R^i\" )"
   ]
  },
  {
   "cell_type": "code",
   "execution_count": 15,
   "metadata": {},
   "outputs": [
    {
     "data": {
      "text/plain": [
       "GAP: <An evaluated object in LazyCategory( Rows( Q[x,y] ) )>"
      ]
     },
     "execution_count": 15,
     "metadata": {},
     "output_type": "execute_result"
    }
   ],
   "source": [
    "R = Range( I )"
   ]
  },
  {
   "cell_type": "code",
   "execution_count": 16,
   "metadata": {},
   "outputs": [],
   "source": [
    "SetLabel( R, \"R\" )"
   ]
  },
  {
   "cell_type": "code",
   "execution_count": 17,
   "metadata": {},
   "outputs": [
    {
     "data": {
      "text/plain": [
       "GAP: <An evaluated morphism in LazyCategory( Rows( Q[x,y] ) )>"
      ]
     },
     "execution_count": 17,
     "metadata": {},
     "output_type": "execute_result"
    }
   ],
   "source": [
    "J = J / P"
   ]
  },
  {
   "cell_type": "code",
   "execution_count": 18,
   "metadata": {},
   "outputs": [],
   "source": [
    "SetLabel( J, \"J\" ); SetLabel( Source( J ), \"R^j\" )"
   ]
  },
  {
   "cell_type": "code",
   "execution_count": 19,
   "metadata": {},
   "outputs": [
    {
     "data": {
      "text/plain": [
       "GAP: <An evaluated morphism in LazyCategory( Rows( Q[x,y] ) )>"
      ]
     },
     "execution_count": 19,
     "metadata": {},
     "output_type": "execute_result"
    }
   ],
   "source": [
    "K = K / P"
   ]
  },
  {
   "cell_type": "code",
   "execution_count": 20,
   "metadata": {},
   "outputs": [
    {
     "data": {
      "text/plain": [
       "GAP: SliceCategoryOverTensorUnit( LazyCategory( Rows( Q[x,y] ) ) )"
      ]
     },
     "execution_count": 20,
     "metadata": {},
     "output_type": "execute_result"
    }
   ],
   "source": [
    "S = SliceCategoryOverTensorUnit( P )"
   ]
  },
  {
   "cell_type": "code",
   "execution_count": 21,
   "metadata": {},
   "outputs": [
    {
     "data": {
      "text/plain": [
       "GAP: Poset( SliceCategoryOverTensorUnit( LazyCategory( Rows( Q[x,y] ) ) ) )"
      ]
     },
     "execution_count": 21,
     "metadata": {},
     "output_type": "execute_result"
    }
   ],
   "source": [
    "L = PosetOfCategory( S )"
   ]
  },
  {
   "cell_type": "code",
   "execution_count": 22,
   "metadata": {},
   "outputs": [
    {
     "data": {
      "text/plain": [
       "GAP: An object in the poset given by: An object in the slice category given by: <An evaluated morphism in LazyCategory( Rows( Q[x,y] ) )>"
      ]
     },
     "execution_count": 22,
     "metadata": {},
     "output_type": "execute_result"
    }
   ],
   "source": [
    "I = I / S / L"
   ]
  },
  {
   "cell_type": "code",
   "execution_count": 23,
   "metadata": {},
   "outputs": [
    {
     "data": {
      "text/plain": [
       "GAP: An object in the poset given by: An object in the slice category given by: <An evaluated morphism in LazyCategory( Rows( Q[x,y] ) )>"
      ]
     },
     "execution_count": 23,
     "metadata": {},
     "output_type": "execute_result"
    }
   ],
   "source": [
    "J = J / S / L"
   ]
  },
  {
   "cell_type": "code",
   "execution_count": 24,
   "metadata": {},
   "outputs": [
    {
     "data": {
      "text/plain": [
       "GAP: An object in the poset given by: An object in the slice category given by: <An evaluated morphism in LazyCategory( Rows( Q[x,y] ) )>"
      ]
     },
     "execution_count": 24,
     "metadata": {},
     "output_type": "execute_result"
    }
   ],
   "source": [
    "K = K / S / L"
   ]
  },
  {
   "cell_type": "code",
   "execution_count": 25,
   "metadata": {},
   "outputs": [
    {
     "data": {
      "text/plain": [
       "GAP: An object in the poset given by: An object in the slice category given by: <A morphism in LazyCategory( Rows( Q[x,y] ) )>"
      ]
     },
     "execution_count": 25,
     "metadata": {},
     "output_type": "execute_result"
    }
   ],
   "source": [
    "IqJ = InternalHom( J, I )"
   ]
  },
  {
   "cell_type": "code",
   "execution_count": 26,
   "metadata": {
    "scrolled": false
   },
   "outputs": [
    {
     "data": {
      "image/svg+xml": [
       "<?xml version=\"1.0\" encoding=\"UTF-8\" standalone=\"no\"?>\n",
       "<!DOCTYPE svg PUBLIC \"-//W3C//DTD SVG 1.1//EN\"\n",
       " \"http://www.w3.org/Graphics/SVG/1.1/DTD/svg11.dtd\">\n",
       "<!-- Generated by graphviz version 2.44.0 (20200408.0750)\n",
       " -->\n",
       "<!-- Title: hgn Pages: 1 -->\n",
       "<svg width=\"821pt\" height=\"909pt\"\n",
       " viewBox=\"0.00 0.00 820.50 909.00\" xmlns=\"http://www.w3.org/2000/svg\" xmlns:xlink=\"http://www.w3.org/1999/xlink\">\n",
       "<g id=\"graph0\" class=\"graph\" transform=\"scale(1 1) rotate(0) translate(4 905)\">\n",
       "<title>hgn</title>\n",
       "<polygon fill=\"white\" stroke=\"transparent\" points=\"-4,4 -4,-905 816.5,-905 816.5,4 -4,4\"/>\n",
       "<!-- 1 -->\n",
       "<g id=\"node1\" class=\"node\">\n",
       "<title>1</title>\n",
       "<polygon fill=\"none\" stroke=\"black\" points=\"187,-901 120,-901 120,-833 187,-833 187,-901\"/>\n",
       "<text text-anchor=\"middle\" x=\"153.5\" y=\"-885.8\" font-family=\"Times,serif\" font-size=\"14.00\">[1]</text>\n",
       "<text text-anchor=\"middle\" x=\"153.5\" y=\"-870.8\" font-family=\"Times,serif\" font-size=\"14.00\">primitive</text>\n",
       "<text text-anchor=\"middle\" x=\"153.5\" y=\"-855.8\" font-family=\"Times,serif\" font-size=\"14.00\">object</text>\n",
       "<text text-anchor=\"middle\" x=\"153.5\" y=\"-840.8\" font-family=\"Times,serif\" font-size=\"14.00\">&lt;R&gt;</text>\n",
       "</g>\n",
       "<!-- 2 -->\n",
       "<g id=\"node2\" class=\"node\">\n",
       "<title>2</title>\n",
       "<polygon fill=\"none\" stroke=\"black\" points=\"204.5,-774.5 102.5,-774.5 102.5,-721.5 204.5,-721.5 204.5,-774.5\"/>\n",
       "<text text-anchor=\"middle\" x=\"153.5\" y=\"-759.3\" font-family=\"Times,serif\" font-size=\"14.00\">[2]</text>\n",
       "<text text-anchor=\"middle\" x=\"153.5\" y=\"-744.3\" font-family=\"Times,serif\" font-size=\"14.00\">Internal</text>\n",
       "<text text-anchor=\"middle\" x=\"153.5\" y=\"-729.3\" font-family=\"Times,serif\" font-size=\"14.00\">HomOnObjects</text>\n",
       "</g>\n",
       "<!-- 1&#45;&gt;2 -->\n",
       "<g id=\"edge1\" class=\"edge\">\n",
       "<title>1&#45;&gt;2</title>\n",
       "<path fill=\"none\" stroke=\"black\" d=\"M147.34,-832.79C146.6,-817.85 146.55,-800.2 147.22,-784.96\"/>\n",
       "<polygon fill=\"black\" stroke=\"black\" points=\"150.72,-785.04 147.79,-774.86 143.73,-784.64 150.72,-785.04\"/>\n",
       "</g>\n",
       "<!-- 1&#45;&gt;2 -->\n",
       "<g id=\"edge2\" class=\"edge\">\n",
       "<title>1&#45;&gt;2</title>\n",
       "<path fill=\"none\" stroke=\"black\" d=\"M159.66,-832.79C160.4,-817.85 160.45,-800.2 159.78,-784.96\"/>\n",
       "<polygon fill=\"black\" stroke=\"black\" points=\"163.27,-784.64 159.21,-774.86 156.28,-785.04 163.27,-784.64\"/>\n",
       "</g>\n",
       "<!-- 3 -->\n",
       "<g id=\"node3\" class=\"node\">\n",
       "<title>3</title>\n",
       "<polygon fill=\"none\" stroke=\"black\" points=\"213.5,-655.5 59.5,-655.5 59.5,-617.5 213.5,-617.5 213.5,-655.5\"/>\n",
       "<text text-anchor=\"middle\" x=\"136.5\" y=\"-640.3\" font-family=\"Times,serif\" font-size=\"14.00\">[3]</text>\n",
       "<text text-anchor=\"middle\" x=\"136.5\" y=\"-625.3\" font-family=\"Times,serif\" font-size=\"14.00\">TensorProductOnObjects</text>\n",
       "</g>\n",
       "<!-- 1&#45;&gt;3 -->\n",
       "<g id=\"edge3\" class=\"edge\">\n",
       "<title>1&#45;&gt;3</title>\n",
       "<path fill=\"none\" stroke=\"black\" d=\"M119.95,-834.49C106.84,-819.93 93.34,-801.54 86.5,-782 76.52,-753.47 77.87,-742.97 86.5,-714 91.94,-695.74 103.28,-677.78 113.78,-663.85\"/>\n",
       "<polygon fill=\"black\" stroke=\"black\" points=\"116.73,-665.76 120.15,-655.74 111.23,-661.44 116.73,-665.76\"/>\n",
       "<text text-anchor=\"middle\" x=\"90\" y=\"-744.3\" font-family=\"Times,serif\" font-size=\"14.00\">2</text>\n",
       "</g>\n",
       "<!-- 4 -->\n",
       "<g id=\"node4\" class=\"node\">\n",
       "<title>4</title>\n",
       "<polygon fill=\"none\" stroke=\"black\" points=\"133,-551.5 0,-551.5 0,-498.5 133,-498.5 133,-551.5\"/>\n",
       "<text text-anchor=\"middle\" x=\"66.5\" y=\"-536.3\" font-family=\"Times,serif\" font-size=\"14.00\">[4]</text>\n",
       "<text text-anchor=\"middle\" x=\"66.5\" y=\"-521.3\" font-family=\"Times,serif\" font-size=\"14.00\">EvaluationMorphism</text>\n",
       "<text text-anchor=\"middle\" x=\"66.5\" y=\"-506.3\" font-family=\"Times,serif\" font-size=\"14.00\">WithGivenSource</text>\n",
       "</g>\n",
       "<!-- 1&#45;&gt;4 -->\n",
       "<g id=\"edge4\" class=\"edge\">\n",
       "<title>1&#45;&gt;4</title>\n",
       "<path fill=\"none\" stroke=\"black\" d=\"M119.79,-843.4C109.46,-835.32 98.68,-825.57 90.5,-815 80.64,-802.26 80.52,-797.31 75.5,-782 51.43,-708.6 43.24,-686.91 50.5,-610 52.02,-593.91 55.14,-576.31 58.23,-561.4\"/>\n",
       "<polygon fill=\"black\" stroke=\"black\" points=\"61.66,-562.07 60.34,-551.56 54.82,-560.6 61.66,-562.07\"/>\n",
       "<text text-anchor=\"middle\" x=\"55\" y=\"-684.8\" font-family=\"Times,serif\" font-size=\"14.00\">2</text>\n",
       "</g>\n",
       "<!-- 1&#45;&gt;4 -->\n",
       "<g id=\"edge5\" class=\"edge\">\n",
       "<title>1&#45;&gt;4</title>\n",
       "<path fill=\"none\" stroke=\"black\" d=\"M119.89,-849.6C95.43,-835.53 64.43,-812.65 51.5,-782 16.09,-698.05 28.19,-665.59 49.5,-577 50.72,-571.91 52.23,-566.61 53.83,-561.42\"/>\n",
       "<polygon fill=\"black\" stroke=\"black\" points=\"57.23,-562.29 56.98,-551.7 50.57,-560.13 57.23,-562.29\"/>\n",
       "<text text-anchor=\"middle\" x=\"33\" y=\"-684.8\" font-family=\"Times,serif\" font-size=\"14.00\">2</text>\n",
       "</g>\n",
       "<!-- 7 -->\n",
       "<g id=\"node7\" class=\"node\">\n",
       "<title>7</title>\n",
       "<polygon fill=\"none\" stroke=\"black\" points=\"296.5,-774.5 222.5,-774.5 222.5,-721.5 296.5,-721.5 296.5,-774.5\"/>\n",
       "<text text-anchor=\"middle\" x=\"259.5\" y=\"-759.3\" font-family=\"Times,serif\" font-size=\"14.00\">[7]</text>\n",
       "<text text-anchor=\"middle\" x=\"259.5\" y=\"-744.3\" font-family=\"Times,serif\" font-size=\"14.00\">Identity</text>\n",
       "<text text-anchor=\"middle\" x=\"259.5\" y=\"-729.3\" font-family=\"Times,serif\" font-size=\"14.00\">Morphism</text>\n",
       "</g>\n",
       "<!-- 1&#45;&gt;7 -->\n",
       "<g id=\"edge6\" class=\"edge\">\n",
       "<title>1&#45;&gt;7</title>\n",
       "<path fill=\"none\" stroke=\"black\" d=\"M183.59,-832.79C197.9,-816.99 214.96,-798.16 229.29,-782.35\"/>\n",
       "<polygon fill=\"black\" stroke=\"black\" points=\"231.95,-784.62 236.07,-774.86 226.77,-779.92 231.95,-784.62\"/>\n",
       "</g>\n",
       "<!-- 11 -->\n",
       "<g id=\"node11\" class=\"node\">\n",
       "<title>11</title>\n",
       "<polygon fill=\"none\" stroke=\"black\" points=\"508.5,-774.5 406.5,-774.5 406.5,-721.5 508.5,-721.5 508.5,-774.5\"/>\n",
       "<text text-anchor=\"middle\" x=\"457.5\" y=\"-759.3\" font-family=\"Times,serif\" font-size=\"14.00\">[11]</text>\n",
       "<text text-anchor=\"middle\" x=\"457.5\" y=\"-744.3\" font-family=\"Times,serif\" font-size=\"14.00\">Internal</text>\n",
       "<text text-anchor=\"middle\" x=\"457.5\" y=\"-729.3\" font-family=\"Times,serif\" font-size=\"14.00\">HomOnObjects</text>\n",
       "</g>\n",
       "<!-- 1&#45;&gt;11 -->\n",
       "<g id=\"edge7\" class=\"edge\">\n",
       "<title>1&#45;&gt;11</title>\n",
       "<path fill=\"none\" stroke=\"black\" d=\"M187.35,-856.36C235.11,-842.3 324.59,-814.31 397.5,-782 399.58,-781.08 401.67,-780.11 403.78,-779.11\"/>\n",
       "<polygon fill=\"black\" stroke=\"black\" points=\"405.62,-782.11 413.04,-774.54 402.52,-775.83 405.62,-782.11\"/>\n",
       "<text text-anchor=\"middle\" x=\"355\" y=\"-803.8\" font-family=\"Times,serif\" font-size=\"14.00\">2</text>\n",
       "</g>\n",
       "<!-- 2&#45;&gt;3 -->\n",
       "<g id=\"edge8\" class=\"edge\">\n",
       "<title>2&#45;&gt;3</title>\n",
       "<path fill=\"none\" stroke=\"black\" d=\"M149.51,-721.33C146.93,-704.68 143.56,-682.98 140.9,-665.83\"/>\n",
       "<polygon fill=\"black\" stroke=\"black\" points=\"144.34,-665.17 139.35,-655.83 137.42,-666.25 144.34,-665.17\"/>\n",
       "<text text-anchor=\"middle\" x=\"149\" y=\"-684.8\" font-family=\"Times,serif\" font-size=\"14.00\">1</text>\n",
       "</g>\n",
       "<!-- 9 -->\n",
       "<g id=\"node9\" class=\"node\">\n",
       "<title>9</title>\n",
       "<polygon fill=\"none\" stroke=\"black\" points=\"278.5,-559 182.5,-559 182.5,-491 278.5,-491 278.5,-559\"/>\n",
       "<text text-anchor=\"middle\" x=\"230.5\" y=\"-543.8\" font-family=\"Times,serif\" font-size=\"14.00\">[9]</text>\n",
       "<text text-anchor=\"middle\" x=\"230.5\" y=\"-528.8\" font-family=\"Times,serif\" font-size=\"14.00\">RightUnitor</text>\n",
       "<text text-anchor=\"middle\" x=\"230.5\" y=\"-513.8\" font-family=\"Times,serif\" font-size=\"14.00\">WithGiven</text>\n",
       "<text text-anchor=\"middle\" x=\"230.5\" y=\"-498.8\" font-family=\"Times,serif\" font-size=\"14.00\">TensorProduct</text>\n",
       "</g>\n",
       "<!-- 2&#45;&gt;9 -->\n",
       "<g id=\"edge9\" class=\"edge\">\n",
       "<title>2&#45;&gt;9</title>\n",
       "<path fill=\"none\" stroke=\"black\" d=\"M182.1,-721.15C196.98,-705.84 213.83,-685.14 222.5,-663 234.16,-633.19 235.79,-596.94 234.7,-569.22\"/>\n",
       "<polygon fill=\"black\" stroke=\"black\" points=\"238.18,-568.85 234.16,-559.04 231.19,-569.21 238.18,-568.85\"/>\n",
       "<text text-anchor=\"middle\" x=\"237\" y=\"-632.8\" font-family=\"Times,serif\" font-size=\"14.00\">1</text>\n",
       "</g>\n",
       "<!-- 15 -->\n",
       "<g id=\"node15\" class=\"node\">\n",
       "<title>15</title>\n",
       "<polygon fill=\"none\" stroke=\"black\" points=\"440.5,-663 274.5,-663 274.5,-610 440.5,-610 440.5,-663\"/>\n",
       "<text text-anchor=\"middle\" x=\"357.5\" y=\"-647.8\" font-family=\"Times,serif\" font-size=\"14.00\">[15]</text>\n",
       "<text text-anchor=\"middle\" x=\"357.5\" y=\"-632.8\" font-family=\"Times,serif\" font-size=\"14.00\">InternalHomOnMorphisms</text>\n",
       "<text text-anchor=\"middle\" x=\"357.5\" y=\"-617.8\" font-family=\"Times,serif\" font-size=\"14.00\">WithGivenInternalHoms</text>\n",
       "</g>\n",
       "<!-- 2&#45;&gt;15 -->\n",
       "<g id=\"edge10\" class=\"edge\">\n",
       "<title>2&#45;&gt;15</title>\n",
       "<path fill=\"none\" stroke=\"black\" d=\"M198.32,-721.36C203.39,-718.76 208.52,-716.25 213.5,-714 235.03,-704.28 242.24,-706.3 263.5,-696 279.84,-688.08 296.92,-678.04 311.97,-668.53\"/>\n",
       "<polygon fill=\"black\" stroke=\"black\" points=\"314.05,-671.35 320.57,-663 310.27,-665.46 314.05,-671.35\"/>\n",
       "<text text-anchor=\"middle\" x=\"293\" y=\"-684.8\" font-family=\"Times,serif\" font-size=\"14.00\">1</text>\n",
       "</g>\n",
       "<!-- 3&#45;&gt;4 -->\n",
       "<g id=\"edge11\" class=\"edge\">\n",
       "<title>3&#45;&gt;4</title>\n",
       "<path fill=\"none\" stroke=\"black\" d=\"M124.94,-617.42C115.09,-602 100.64,-579.4 88.58,-560.54\"/>\n",
       "<polygon fill=\"black\" stroke=\"black\" points=\"91.39,-558.43 83.05,-551.89 85.49,-562.2 91.39,-558.43\"/>\n",
       "<text text-anchor=\"middle\" x=\"111\" y=\"-580.8\" font-family=\"Times,serif\" font-size=\"14.00\">3</text>\n",
       "</g>\n",
       "<!-- 3&#45;&gt;9 -->\n",
       "<g id=\"edge12\" class=\"edge\">\n",
       "<title>3&#45;&gt;9</title>\n",
       "<path fill=\"none\" stroke=\"black\" d=\"M152.02,-617.42C163.78,-603.72 180.4,-584.36 195.32,-566.98\"/>\n",
       "<polygon fill=\"black\" stroke=\"black\" points=\"198.18,-569.03 202.03,-559.16 192.86,-564.47 198.18,-569.03\"/>\n",
       "<text text-anchor=\"middle\" x=\"189\" y=\"-580.8\" font-family=\"Times,serif\" font-size=\"14.00\">2</text>\n",
       "</g>\n",
       "<!-- 10 -->\n",
       "<g id=\"node10\" class=\"node\">\n",
       "<title>10</title>\n",
       "<polygon fill=\"none\" stroke=\"black\" points=\"148,-454 71,-454 71,-401 148,-401 148,-454\"/>\n",
       "<text text-anchor=\"middle\" x=\"109.5\" y=\"-438.8\" font-family=\"Times,serif\" font-size=\"14.00\">[10]</text>\n",
       "<text text-anchor=\"middle\" x=\"109.5\" y=\"-423.8\" font-family=\"Times,serif\" font-size=\"14.00\">Inverse</text>\n",
       "<text text-anchor=\"middle\" x=\"109.5\" y=\"-408.8\" font-family=\"Times,serif\" font-size=\"14.00\">Immutable</text>\n",
       "</g>\n",
       "<!-- 4&#45;&gt;10 -->\n",
       "<g id=\"edge13\" class=\"edge\">\n",
       "<title>4&#45;&gt;10</title>\n",
       "<path fill=\"none\" stroke=\"black\" d=\"M78.02,-498.41C82.84,-487.7 88.52,-475.09 93.72,-463.54\"/>\n",
       "<polygon fill=\"black\" stroke=\"black\" points=\"97.03,-464.72 97.94,-454.16 90.65,-461.84 97.03,-464.72\"/>\n",
       "</g>\n",
       "<!-- 5 -->\n",
       "<g id=\"node5\" class=\"node\">\n",
       "<title>5</title>\n",
       "<polygon fill=\"none\" stroke=\"black\" points=\"795,-901 728,-901 728,-833 795,-833 795,-901\"/>\n",
       "<text text-anchor=\"middle\" x=\"761.5\" y=\"-885.8\" font-family=\"Times,serif\" font-size=\"14.00\">[5]</text>\n",
       "<text text-anchor=\"middle\" x=\"761.5\" y=\"-870.8\" font-family=\"Times,serif\" font-size=\"14.00\">primitive</text>\n",
       "<text text-anchor=\"middle\" x=\"761.5\" y=\"-855.8\" font-family=\"Times,serif\" font-size=\"14.00\">object</text>\n",
       "<text text-anchor=\"middle\" x=\"761.5\" y=\"-840.8\" font-family=\"Times,serif\" font-size=\"14.00\">&lt;R^i&gt;</text>\n",
       "</g>\n",
       "<!-- 14 -->\n",
       "<g id=\"node14\" class=\"node\">\n",
       "<title>14</title>\n",
       "<polygon fill=\"none\" stroke=\"black\" points=\"812.5,-774.5 710.5,-774.5 710.5,-721.5 812.5,-721.5 812.5,-774.5\"/>\n",
       "<text text-anchor=\"middle\" x=\"761.5\" y=\"-759.3\" font-family=\"Times,serif\" font-size=\"14.00\">[14]</text>\n",
       "<text text-anchor=\"middle\" x=\"761.5\" y=\"-744.3\" font-family=\"Times,serif\" font-size=\"14.00\">Internal</text>\n",
       "<text text-anchor=\"middle\" x=\"761.5\" y=\"-729.3\" font-family=\"Times,serif\" font-size=\"14.00\">HomOnObjects</text>\n",
       "</g>\n",
       "<!-- 5&#45;&gt;14 -->\n",
       "<g id=\"edge14\" class=\"edge\">\n",
       "<title>5&#45;&gt;14</title>\n",
       "<path fill=\"none\" stroke=\"black\" d=\"M761.5,-832.79C761.5,-817.85 761.5,-800.2 761.5,-784.96\"/>\n",
       "<polygon fill=\"black\" stroke=\"black\" points=\"765,-784.86 761.5,-774.86 758,-784.86 765,-784.86\"/>\n",
       "<text text-anchor=\"middle\" x=\"765\" y=\"-803.8\" font-family=\"Times,serif\" font-size=\"14.00\">2</text>\n",
       "</g>\n",
       "<!-- 6 -->\n",
       "<g id=\"node6\" class=\"node\">\n",
       "<title>6</title>\n",
       "<polygon fill=\"none\" stroke=\"black\" points=\"689,-901 622,-901 622,-833 689,-833 689,-901\"/>\n",
       "<text text-anchor=\"middle\" x=\"655.5\" y=\"-885.8\" font-family=\"Times,serif\" font-size=\"14.00\">[6]</text>\n",
       "<text text-anchor=\"middle\" x=\"655.5\" y=\"-870.8\" font-family=\"Times,serif\" font-size=\"14.00\">primitive</text>\n",
       "<text text-anchor=\"middle\" x=\"655.5\" y=\"-855.8\" font-family=\"Times,serif\" font-size=\"14.00\">object</text>\n",
       "<text text-anchor=\"middle\" x=\"655.5\" y=\"-840.8\" font-family=\"Times,serif\" font-size=\"14.00\">&lt;R^j&gt;</text>\n",
       "</g>\n",
       "<!-- 6&#45;&gt;11 -->\n",
       "<g id=\"edge15\" class=\"edge\">\n",
       "<title>6&#45;&gt;11</title>\n",
       "<path fill=\"none\" stroke=\"black\" d=\"M621.91,-846.15C591.19,-828 545.27,-800.86 509.76,-779.88\"/>\n",
       "<polygon fill=\"black\" stroke=\"black\" points=\"511.36,-776.76 500.97,-774.69 507.8,-782.79 511.36,-776.76\"/>\n",
       "<text text-anchor=\"middle\" x=\"571\" y=\"-803.8\" font-family=\"Times,serif\" font-size=\"14.00\">1</text>\n",
       "</g>\n",
       "<!-- 13 -->\n",
       "<g id=\"node13\" class=\"node\">\n",
       "<title>13</title>\n",
       "<polygon fill=\"none\" stroke=\"black\" points=\"692.5,-774.5 618.5,-774.5 618.5,-721.5 692.5,-721.5 692.5,-774.5\"/>\n",
       "<text text-anchor=\"middle\" x=\"655.5\" y=\"-759.3\" font-family=\"Times,serif\" font-size=\"14.00\">[13]</text>\n",
       "<text text-anchor=\"middle\" x=\"655.5\" y=\"-744.3\" font-family=\"Times,serif\" font-size=\"14.00\">Identity</text>\n",
       "<text text-anchor=\"middle\" x=\"655.5\" y=\"-729.3\" font-family=\"Times,serif\" font-size=\"14.00\">Morphism</text>\n",
       "</g>\n",
       "<!-- 6&#45;&gt;13 -->\n",
       "<g id=\"edge16\" class=\"edge\">\n",
       "<title>6&#45;&gt;13</title>\n",
       "<path fill=\"none\" stroke=\"black\" d=\"M655.5,-832.79C655.5,-817.85 655.5,-800.2 655.5,-784.96\"/>\n",
       "<polygon fill=\"black\" stroke=\"black\" points=\"659,-784.86 655.5,-774.86 652,-784.86 659,-784.86\"/>\n",
       "</g>\n",
       "<!-- 6&#45;&gt;14 -->\n",
       "<g id=\"edge17\" class=\"edge\">\n",
       "<title>6&#45;&gt;14</title>\n",
       "<path fill=\"none\" stroke=\"black\" d=\"M685.59,-832.79C699.9,-816.99 716.96,-798.16 731.29,-782.35\"/>\n",
       "<polygon fill=\"black\" stroke=\"black\" points=\"733.95,-784.62 738.07,-774.86 728.77,-779.92 733.95,-784.62\"/>\n",
       "<text text-anchor=\"middle\" x=\"718\" y=\"-803.8\" font-family=\"Times,serif\" font-size=\"14.00\">1</text>\n",
       "</g>\n",
       "<!-- 7&#45;&gt;15 -->\n",
       "<g id=\"edge18\" class=\"edge\">\n",
       "<title>7&#45;&gt;15</title>\n",
       "<path fill=\"none\" stroke=\"black\" d=\"M282.48,-721.33C295.99,-706.23 313.23,-686.97 327.77,-670.72\"/>\n",
       "<polygon fill=\"black\" stroke=\"black\" points=\"330.61,-672.8 334.67,-663.01 325.39,-668.13 330.61,-672.8\"/>\n",
       "<text text-anchor=\"middle\" x=\"320\" y=\"-684.8\" font-family=\"Times,serif\" font-size=\"14.00\">3</text>\n",
       "</g>\n",
       "<!-- 8 -->\n",
       "<g id=\"node8\" class=\"node\">\n",
       "<title>8</title>\n",
       "<polygon fill=\"none\" stroke=\"black\" points=\"388,-782 315,-782 315,-714 388,-714 388,-782\"/>\n",
       "<text text-anchor=\"middle\" x=\"351.5\" y=\"-766.8\" font-family=\"Times,serif\" font-size=\"14.00\">[8]</text>\n",
       "<text text-anchor=\"middle\" x=\"351.5\" y=\"-751.8\" font-family=\"Times,serif\" font-size=\"14.00\">primitive</text>\n",
       "<text text-anchor=\"middle\" x=\"351.5\" y=\"-736.8\" font-family=\"Times,serif\" font-size=\"14.00\">morphism</text>\n",
       "<text text-anchor=\"middle\" x=\"351.5\" y=\"-721.8\" font-family=\"Times,serif\" font-size=\"14.00\">&lt;J&gt;</text>\n",
       "</g>\n",
       "<!-- 8&#45;&gt;15 -->\n",
       "<g id=\"edge19\" class=\"edge\">\n",
       "<title>8&#45;&gt;15</title>\n",
       "<path fill=\"none\" stroke=\"black\" d=\"M353.32,-713.85C354.02,-701.03 354.82,-686.34 355.54,-673.29\"/>\n",
       "<polygon fill=\"black\" stroke=\"black\" points=\"359.04,-673.41 356.09,-663.24 352.05,-673.03 359.04,-673.41\"/>\n",
       "<text text-anchor=\"middle\" x=\"358\" y=\"-684.8\" font-family=\"Times,serif\" font-size=\"14.00\">2</text>\n",
       "</g>\n",
       "<!-- 16 -->\n",
       "<g id=\"node16\" class=\"node\">\n",
       "<title>16</title>\n",
       "<polygon fill=\"none\" stroke=\"black\" points=\"264.5,-350 196.5,-350 196.5,-297 264.5,-297 264.5,-350\"/>\n",
       "<text text-anchor=\"middle\" x=\"230.5\" y=\"-334.8\" font-family=\"Times,serif\" font-size=\"14.00\">[16]</text>\n",
       "<text text-anchor=\"middle\" x=\"230.5\" y=\"-319.8\" font-family=\"Times,serif\" font-size=\"14.00\">Pre</text>\n",
       "<text text-anchor=\"middle\" x=\"230.5\" y=\"-304.8\" font-family=\"Times,serif\" font-size=\"14.00\">Compose</text>\n",
       "</g>\n",
       "<!-- 9&#45;&gt;16 -->\n",
       "<g id=\"edge20\" class=\"edge\">\n",
       "<title>9&#45;&gt;16</title>\n",
       "<path fill=\"none\" stroke=\"black\" d=\"M230.5,-490.61C230.5,-454.57 230.5,-397.37 230.5,-360.39\"/>\n",
       "<polygon fill=\"black\" stroke=\"black\" points=\"234,-360.07 230.5,-350.07 227,-360.07 234,-360.07\"/>\n",
       "<text text-anchor=\"middle\" x=\"234\" y=\"-423.8\" font-family=\"Times,serif\" font-size=\"14.00\">2</text>\n",
       "</g>\n",
       "<!-- 10&#45;&gt;16 -->\n",
       "<g id=\"edge21\" class=\"edge\">\n",
       "<title>10&#45;&gt;16</title>\n",
       "<path fill=\"none\" stroke=\"black\" d=\"M140.03,-400.76C155.8,-387.47 175.19,-371.12 191.97,-356.98\"/>\n",
       "<polygon fill=\"black\" stroke=\"black\" points=\"194.59,-359.35 199.98,-350.23 190.07,-354 194.59,-359.35\"/>\n",
       "<text text-anchor=\"middle\" x=\"180\" y=\"-371.8\" font-family=\"Times,serif\" font-size=\"14.00\">1</text>\n",
       "</g>\n",
       "<!-- 11&#45;&gt;15 -->\n",
       "<g id=\"edge22\" class=\"edge\">\n",
       "<title>11&#45;&gt;15</title>\n",
       "<path fill=\"none\" stroke=\"black\" d=\"M434.05,-721.33C420.26,-706.23 402.67,-686.97 387.83,-670.72\"/>\n",
       "<polygon fill=\"black\" stroke=\"black\" points=\"390.13,-668.04 380.8,-663.01 384.96,-672.76 390.13,-668.04\"/>\n",
       "<text text-anchor=\"middle\" x=\"413\" y=\"-684.8\" font-family=\"Times,serif\" font-size=\"14.00\">4</text>\n",
       "</g>\n",
       "<!-- 18 -->\n",
       "<g id=\"node18\" class=\"node\">\n",
       "<title>18</title>\n",
       "<polygon fill=\"none\" stroke=\"black\" points=\"646.5,-663 480.5,-663 480.5,-610 646.5,-610 646.5,-663\"/>\n",
       "<text text-anchor=\"middle\" x=\"563.5\" y=\"-647.8\" font-family=\"Times,serif\" font-size=\"14.00\">[18]</text>\n",
       "<text text-anchor=\"middle\" x=\"563.5\" y=\"-632.8\" font-family=\"Times,serif\" font-size=\"14.00\">InternalHomOnMorphisms</text>\n",
       "<text text-anchor=\"middle\" x=\"563.5\" y=\"-617.8\" font-family=\"Times,serif\" font-size=\"14.00\">WithGivenInternalHoms</text>\n",
       "</g>\n",
       "<!-- 11&#45;&gt;18 -->\n",
       "<g id=\"edge23\" class=\"edge\">\n",
       "<title>11&#45;&gt;18</title>\n",
       "<path fill=\"none\" stroke=\"black\" d=\"M482.35,-721.33C497.1,-706.09 515.96,-686.61 531.77,-670.27\"/>\n",
       "<polygon fill=\"black\" stroke=\"black\" points=\"534.36,-672.63 538.8,-663.01 529.33,-667.76 534.36,-672.63\"/>\n",
       "<text text-anchor=\"middle\" x=\"523\" y=\"-684.8\" font-family=\"Times,serif\" font-size=\"14.00\">4</text>\n",
       "</g>\n",
       "<!-- 12 -->\n",
       "<g id=\"node12\" class=\"node\">\n",
       "<title>12</title>\n",
       "<polygon fill=\"none\" stroke=\"black\" points=\"600,-782 527,-782 527,-714 600,-714 600,-782\"/>\n",
       "<text text-anchor=\"middle\" x=\"563.5\" y=\"-766.8\" font-family=\"Times,serif\" font-size=\"14.00\">[12]</text>\n",
       "<text text-anchor=\"middle\" x=\"563.5\" y=\"-751.8\" font-family=\"Times,serif\" font-size=\"14.00\">primitive</text>\n",
       "<text text-anchor=\"middle\" x=\"563.5\" y=\"-736.8\" font-family=\"Times,serif\" font-size=\"14.00\">morphism</text>\n",
       "<text text-anchor=\"middle\" x=\"563.5\" y=\"-721.8\" font-family=\"Times,serif\" font-size=\"14.00\">&lt;I&gt;</text>\n",
       "</g>\n",
       "<!-- 12&#45;&gt;18 -->\n",
       "<g id=\"edge24\" class=\"edge\">\n",
       "<title>12&#45;&gt;18</title>\n",
       "<path fill=\"none\" stroke=\"black\" d=\"M563.5,-713.85C563.5,-701.03 563.5,-686.34 563.5,-673.29\"/>\n",
       "<polygon fill=\"black\" stroke=\"black\" points=\"567,-673.24 563.5,-663.24 560,-673.24 567,-673.24\"/>\n",
       "<text text-anchor=\"middle\" x=\"567\" y=\"-684.8\" font-family=\"Times,serif\" font-size=\"14.00\">3</text>\n",
       "</g>\n",
       "<!-- 13&#45;&gt;18 -->\n",
       "<g id=\"edge25\" class=\"edge\">\n",
       "<title>13&#45;&gt;18</title>\n",
       "<path fill=\"none\" stroke=\"black\" d=\"M633.93,-721.33C621.24,-706.23 605.06,-686.97 591.41,-670.72\"/>\n",
       "<polygon fill=\"black\" stroke=\"black\" points=\"594.05,-668.42 584.93,-663.01 588.69,-672.92 594.05,-668.42\"/>\n",
       "<text text-anchor=\"middle\" x=\"615\" y=\"-684.8\" font-family=\"Times,serif\" font-size=\"14.00\">2</text>\n",
       "</g>\n",
       "<!-- 14&#45;&gt;18 -->\n",
       "<g id=\"edge26\" class=\"edge\">\n",
       "<title>14&#45;&gt;18</title>\n",
       "<path fill=\"none\" stroke=\"black\" d=\"M715.33,-721.47C686.41,-705.48 649,-684.78 618.55,-667.94\"/>\n",
       "<polygon fill=\"black\" stroke=\"black\" points=\"620.19,-664.85 609.75,-663.08 616.8,-670.98 620.19,-664.85\"/>\n",
       "<text text-anchor=\"middle\" x=\"671\" y=\"-684.8\" font-family=\"Times,serif\" font-size=\"14.00\">1</text>\n",
       "</g>\n",
       "<!-- 17 -->\n",
       "<g id=\"node17\" class=\"node\">\n",
       "<title>17</title>\n",
       "<polygon fill=\"none\" stroke=\"black\" points=\"395.5,-246 327.5,-246 327.5,-193 395.5,-193 395.5,-246\"/>\n",
       "<text text-anchor=\"middle\" x=\"361.5\" y=\"-230.8\" font-family=\"Times,serif\" font-size=\"14.00\">[17]</text>\n",
       "<text text-anchor=\"middle\" x=\"361.5\" y=\"-215.8\" font-family=\"Times,serif\" font-size=\"14.00\">Pre</text>\n",
       "<text text-anchor=\"middle\" x=\"361.5\" y=\"-200.8\" font-family=\"Times,serif\" font-size=\"14.00\">Compose</text>\n",
       "</g>\n",
       "<!-- 15&#45;&gt;17 -->\n",
       "<g id=\"edge27\" class=\"edge\">\n",
       "<title>15&#45;&gt;17</title>\n",
       "<path fill=\"none\" stroke=\"black\" d=\"M357.87,-609.84C358.15,-587.65 358.5,-554.71 358.5,-526 358.5,-526 358.5,-526 358.5,-322.5 358.5,-300.42 359.21,-275.67 359.94,-256.08\"/>\n",
       "<polygon fill=\"black\" stroke=\"black\" points=\"363.44,-256.19 360.33,-246.06 356.44,-255.92 363.44,-256.19\"/>\n",
       "<text text-anchor=\"middle\" x=\"362\" y=\"-423.8\" font-family=\"Times,serif\" font-size=\"14.00\">2</text>\n",
       "</g>\n",
       "<!-- 16&#45;&gt;17 -->\n",
       "<g id=\"edge28\" class=\"edge\">\n",
       "<title>16&#45;&gt;17</title>\n",
       "<path fill=\"none\" stroke=\"black\" d=\"M263.56,-296.76C280.78,-283.35 302,-266.83 320.29,-252.59\"/>\n",
       "<polygon fill=\"black\" stroke=\"black\" points=\"322.71,-255.14 328.45,-246.23 318.41,-249.61 322.71,-255.14\"/>\n",
       "<text text-anchor=\"middle\" x=\"307\" y=\"-267.8\" font-family=\"Times,serif\" font-size=\"14.00\">1</text>\n",
       "</g>\n",
       "<!-- 19 -->\n",
       "<g id=\"node19\" class=\"node\">\n",
       "<title>19</title>\n",
       "<polygon fill=\"none\" stroke=\"black\" points=\"529,-142 398,-142 398,-104 529,-104 529,-142\"/>\n",
       "<text text-anchor=\"middle\" x=\"463.5\" y=\"-126.8\" font-family=\"Times,serif\" font-size=\"14.00\">[19]</text>\n",
       "<text text-anchor=\"middle\" x=\"463.5\" y=\"-111.8\" font-family=\"Times,serif\" font-size=\"14.00\">WeakBiFiberProduct</text>\n",
       "</g>\n",
       "<!-- 17&#45;&gt;19 -->\n",
       "<g id=\"edge29\" class=\"edge\">\n",
       "<title>17&#45;&gt;19</title>\n",
       "<path fill=\"none\" stroke=\"black\" d=\"M389.1,-192.93C403.74,-179.37 421.66,-162.77 436.24,-149.26\"/>\n",
       "<polygon fill=\"black\" stroke=\"black\" points=\"439,-151.47 443.96,-142.11 434.24,-146.33 439,-151.47\"/>\n",
       "<text text-anchor=\"middle\" x=\"428\" y=\"-163.8\" font-family=\"Times,serif\" font-size=\"14.00\">1</text>\n",
       "</g>\n",
       "<!-- 20 -->\n",
       "<g id=\"node20\" class=\"node\">\n",
       "<title>20</title>\n",
       "<polygon fill=\"none\" stroke=\"black\" points=\"599.5,-53 327.5,-53 327.5,0 599.5,0 599.5,-53\"/>\n",
       "<text text-anchor=\"middle\" x=\"463.5\" y=\"-37.8\" font-family=\"Times,serif\" font-size=\"14.00\">[20]</text>\n",
       "<text text-anchor=\"middle\" x=\"463.5\" y=\"-22.8\" font-family=\"Times,serif\" font-size=\"14.00\">ProjectionInFirstFactorOfWeakBiFiberProduct</text>\n",
       "<text text-anchor=\"middle\" x=\"463.5\" y=\"-7.8\" font-family=\"Times,serif\" font-size=\"14.00\">WithGivenWeakBiFiberProduct</text>\n",
       "</g>\n",
       "<!-- 17&#45;&gt;20 -->\n",
       "<g id=\"edge30\" class=\"edge\">\n",
       "<title>17&#45;&gt;20</title>\n",
       "<path fill=\"none\" stroke=\"black\" d=\"M361.7,-192.88C362.89,-168.63 367.35,-131.88 382.5,-104 391.62,-87.22 405.75,-72.01 419.67,-59.65\"/>\n",
       "<polygon fill=\"black\" stroke=\"black\" points=\"422.02,-62.24 427.35,-53.08 417.47,-56.92 422.02,-62.24\"/>\n",
       "<text text-anchor=\"middle\" x=\"386\" y=\"-119.3\" font-family=\"Times,serif\" font-size=\"14.00\">1</text>\n",
       "</g>\n",
       "<!-- 18&#45;&gt;19 -->\n",
       "<g id=\"edge31\" class=\"edge\">\n",
       "<title>18&#45;&gt;19</title>\n",
       "<path fill=\"none\" stroke=\"black\" d=\"M531.32,-609.84C509.84,-589.63 485.5,-559.38 485.5,-526 485.5,-526 485.5,-526 485.5,-218.5 485.5,-195.62 479.31,-170.41 473.49,-151.79\"/>\n",
       "<polygon fill=\"black\" stroke=\"black\" points=\"476.78,-150.59 470.34,-142.18 470.13,-152.77 476.78,-150.59\"/>\n",
       "<text text-anchor=\"middle\" x=\"489\" y=\"-371.8\" font-family=\"Times,serif\" font-size=\"14.00\">2</text>\n",
       "</g>\n",
       "<!-- 18&#45;&gt;20 -->\n",
       "<g id=\"edge32\" class=\"edge\">\n",
       "<title>18&#45;&gt;20</title>\n",
       "<path fill=\"none\" stroke=\"black\" d=\"M563.13,-609.84C562.85,-587.65 562.5,-554.71 562.5,-526 562.5,-526 562.5,-526 562.5,-122 562.5,-95.78 544.1,-74.61 523.17,-59\"/>\n",
       "<polygon fill=\"black\" stroke=\"black\" points=\"524.94,-55.96 514.74,-53.08 520.91,-61.69 524.94,-55.96\"/>\n",
       "<text text-anchor=\"middle\" x=\"566\" y=\"-319.8\" font-family=\"Times,serif\" font-size=\"14.00\">2</text>\n",
       "</g>\n",
       "<!-- 19&#45;&gt;20 -->\n",
       "<g id=\"edge33\" class=\"edge\">\n",
       "<title>19&#45;&gt;20</title>\n",
       "<path fill=\"none\" stroke=\"black\" d=\"M463.5,-103.78C463.5,-92.33 463.5,-77.16 463.5,-63.36\"/>\n",
       "<polygon fill=\"black\" stroke=\"black\" points=\"467,-63.17 463.5,-53.17 460,-63.17 467,-63.17\"/>\n",
       "<text text-anchor=\"middle\" x=\"467\" y=\"-74.8\" font-family=\"Times,serif\" font-size=\"14.00\">3</text>\n",
       "</g>\n",
       "</g>\n",
       "</svg>\n"
      ]
     },
     "metadata": {},
     "output_type": "display_data"
    }
   ],
   "source": [
    "VisualizeInJulia( UnderlyingMorphism( UnderlyingCell( IqJ ) ) )"
   ]
  },
  {
   "cell_type": "code",
   "execution_count": 27,
   "metadata": {},
   "outputs": [
    {
     "name": "stdout",
     "output_type": "stream",
     "text": [
      "1.\t-> evaluating in Rows( Q[x,y] ).........................: ProjectionInFirstFactorOfWeakBiFiberProductWithGivenWeakBiFiberProduct\n",
      "2.\t -> evaluating in Rows( Q[x,y] ).........................: PreCompose\n",
      "3.\t -> evaluating in Rows( Q[x,y] ).........................: PreCompose\n",
      "4.\t  -> evaluating in Rows( Q[x,y] ).........................: InverseImmutable\n",
      "5.\t  -> evaluating in Rows( Q[x,y] ).........................: EvaluationMorphismWithGivenSource\n",
      "6.\t  -> evaluating in Rows( Q[x,y] ).........................: TensorProductOnObjects\n",
      "7.\t  -> evaluating in Rows( Q[x,y] ).........................: InternalHomOnObjects\n",
      "7.\t  <- evaluated  in Rows( Q[x,y] ).........................: InternalHomOnObjects\n",
      "6.\t  <- evaluated  in Rows( Q[x,y] ).........................: TensorProductOnObjects\n",
      "5.\t  <- evaluated  in Rows( Q[x,y] ).........................: EvaluationMorphismWithGivenSource\n",
      "4.\t  <- evaluated  in Rows( Q[x,y] ).........................: InverseImmutable\n",
      "8.\t   -> evaluating in Rows( Q[x,y] ).........................: RightUnitorWithGivenTensorProduct\n",
      "8.\t   <- evaluated  in Rows( Q[x,y] ).........................: RightUnitorWithGivenTensorProduct\n",
      "3.\t <- evaluated  in Rows( Q[x,y] ).........................: PreCompose\n",
      "9.\t   -> evaluating in Rows( Q[x,y] ).........................: InternalHomOnMorphismsWithGivenInternalHoms\n",
      "10.\t   -> evaluating in Rows( Q[x,y] ).........................: IdentityMorphism\n",
      "10.\t   <- evaluated  in Rows( Q[x,y] ).........................: IdentityMorphism\n",
      "11.\t   -> evaluating in Rows( Q[x,y] ).........................: InternalHomOnObjects\n",
      "11.\t   <- evaluated  in Rows( Q[x,y] ).........................: InternalHomOnObjects\n",
      "9.\t   <- evaluated  in Rows( Q[x,y] ).........................: InternalHomOnMorphismsWithGivenInternalHoms\n",
      "2.\t <- evaluated  in Rows( Q[x,y] ).........................: PreCompose\n",
      "12.\t   -> evaluating in Rows( Q[x,y] ).........................: InternalHomOnMorphismsWithGivenInternalHoms\n",
      "13.\t   -> evaluating in Rows( Q[x,y] ).........................: InternalHomOnObjects\n",
      "13.\t   <- evaluated  in Rows( Q[x,y] ).........................: InternalHomOnObjects\n",
      "14.\t   -> evaluating in Rows( Q[x,y] ).........................: IdentityMorphism\n",
      "14.\t   <- evaluated  in Rows( Q[x,y] ).........................: IdentityMorphism\n",
      "12.\t   <- evaluated  in Rows( Q[x,y] ).........................: InternalHomOnMorphismsWithGivenInternalHoms\n",
      "15.\t   -> evaluating in Rows( Q[x,y] ).........................: WeakBiFiberProduct\n",
      "15.\t   <- evaluated  in Rows( Q[x,y] ).........................: WeakBiFiberProduct\n",
      "1.\t<- evaluated  in Rows( Q[x,y] ).........................: ProjectionInFirstFactorOfWeakBiFiberProductWithGivenWeakBiFiberProduct\n"
     ]
    },
    {
     "data": {
      "text/plain": [
       "true"
      ]
     },
     "execution_count": 27,
     "metadata": {},
     "output_type": "execute_result"
    }
   ],
   "source": [
    "K == IqJ"
   ]
  },
  {
   "cell_type": "code",
   "execution_count": null,
   "metadata": {},
   "outputs": [],
   "source": []
  }
 ],
 "metadata": {
  "@webio": {
   "lastCommId": null,
   "lastKernelId": null
  },
  "kernelspec": {
   "display_name": "Julia 1.4.1",
   "language": "julia",
   "name": "julia-1.4"
  },
  "language_info": {
   "file_extension": ".jl",
   "mimetype": "application/julia",
   "name": "julia",
   "version": "1.4.1"
  }
 },
 "nbformat": 4,
 "nbformat_minor": 2
}
