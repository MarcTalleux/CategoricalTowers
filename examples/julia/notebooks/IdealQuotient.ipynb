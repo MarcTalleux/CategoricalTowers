{
 "cells": [
  {
   "cell_type": "code",
   "execution_count": 1,
   "metadata": {},
   "outputs": [
    {
     "name": "stdout",
     "output_type": "stream",
     "text": [
      "HomalgProject v\u001b[32m0.3.2-dev\u001b[39m\n",
      "Imported OSCAR's components GAP, Nemo, and Singular\n",
      "Type: ?HomalgProject for more information\n"
     ]
    }
   ],
   "source": [
    "using HomalgProject"
   ]
  },
  {
   "cell_type": "code",
   "execution_count": 2,
   "metadata": {},
   "outputs": [],
   "source": [
    "LoadPackage( \"Locales\" )"
   ]
  },
  {
   "cell_type": "code",
   "execution_count": 3,
   "metadata": {},
   "outputs": [],
   "source": [
    "LoadPackage( \"SubcategoriesForCAP\" )"
   ]
  },
  {
   "cell_type": "code",
   "execution_count": 4,
   "metadata": {},
   "outputs": [],
   "source": [
    "LoadPackage( \"LazyCategories\" )"
   ]
  },
  {
   "cell_type": "code",
   "execution_count": 5,
   "metadata": {},
   "outputs": [
    {
     "data": {
      "text/plain": [
       "GAP: Q"
      ]
     },
     "execution_count": 5,
     "metadata": {},
     "output_type": "execute_result"
    }
   ],
   "source": [
    "Q = HomalgFieldOfRationalsInSingular( )"
   ]
  },
  {
   "cell_type": "code",
   "execution_count": 6,
   "metadata": {},
   "outputs": [
    {
     "data": {
      "text/plain": [
       "GAP: Q[x,y]"
      ]
     },
     "execution_count": 6,
     "metadata": {},
     "output_type": "execute_result"
    }
   ],
   "source": [
    "R = Q[\"x,y\"]"
   ]
  },
  {
   "cell_type": "code",
   "execution_count": 7,
   "metadata": {},
   "outputs": [
    {
     "data": {
      "text/plain": [
       "GAP: Rows( Q[x,y] )"
      ]
     },
     "execution_count": 7,
     "metadata": {},
     "output_type": "execute_result"
    }
   ],
   "source": [
    "P = CategoryOfRows( R )"
   ]
  },
  {
   "cell_type": "code",
   "execution_count": 8,
   "metadata": {},
   "outputs": [
    {
     "data": {
      "text/plain": [
       "GAP: LazyCategory( Rows( Q[x,y] ) )"
      ]
     },
     "execution_count": 8,
     "metadata": {},
     "output_type": "execute_result"
    }
   ],
   "source": [
    "P = LazyCategory( P, show_evaluation = true )"
   ]
  },
  {
   "cell_type": "code",
   "execution_count": 9,
   "metadata": {},
   "outputs": [
    {
     "data": {
      "text/plain": [
       "GAP: <An evaluated morphism in LazyCategory( Rows( Q[x,y] ) )>"
      ]
     },
     "execution_count": 9,
     "metadata": {},
     "output_type": "execute_result"
    }
   ],
   "source": [
    "I = HomalgMatrix( \"[ x ]\", 2, 1, R ) / P"
   ]
  },
  {
   "cell_type": "code",
   "execution_count": 10,
   "metadata": {},
   "outputs": [],
   "source": [
    "SetLabel( Range( I ), \"R\" )"
   ]
  },
  {
   "cell_type": "code",
   "execution_count": 11,
   "metadata": {},
   "outputs": [
    {
     "data": {
      "text/plain": [
       "GAP: <An evaluated morphism in LazyCategory( Rows( Q[x,y] ) )>"
      ]
     },
     "execution_count": 11,
     "metadata": {},
     "output_type": "execute_result"
    }
   ],
   "source": [
    "J = HomalgMatrix( \"[ x, y ]\", 2, 1, R ) / P"
   ]
  },
  {
   "cell_type": "code",
   "execution_count": 12,
   "metadata": {},
   "outputs": [],
   "source": [
    "SetLabel( J, \"J\" ); SetLabel( Source( J ), \"R^j\" )"
   ]
  },
  {
   "cell_type": "code",
   "execution_count": 13,
   "metadata": {},
   "outputs": [
    {
     "data": {
      "text/plain": [
       "GAP: <An evaluated morphism in LazyCategory( Rows( Q[x,y] ) )>"
      ]
     },
     "execution_count": 13,
     "metadata": {},
     "output_type": "execute_result"
    }
   ],
   "source": [
    "IJ = HomalgMatrix( \"[ x^2, x*y ]\", 2, 1, R ) / P"
   ]
  },
  {
   "cell_type": "code",
   "execution_count": 14,
   "metadata": {},
   "outputs": [],
   "source": [
    "SetLabel( IJ, \"IJ\" ); SetLabel( Source( IJ ), \"R^ij\" )"
   ]
  },
  {
   "cell_type": "code",
   "execution_count": 15,
   "metadata": {},
   "outputs": [
    {
     "data": {
      "text/plain": [
       "GAP: SliceCategoryOverTensorUnit( LazyCategory( Rows( Q[x,y] ) ) )"
      ]
     },
     "execution_count": 15,
     "metadata": {},
     "output_type": "execute_result"
    }
   ],
   "source": [
    "S = SliceCategoryOverTensorUnit( P )"
   ]
  },
  {
   "cell_type": "code",
   "execution_count": 16,
   "metadata": {},
   "outputs": [
    {
     "data": {
      "text/plain": [
       "GAP: Poset( SliceCategoryOverTensorUnit( LazyCategory( Rows( Q[x,y] ) ) ) )"
      ]
     },
     "execution_count": 16,
     "metadata": {},
     "output_type": "execute_result"
    }
   ],
   "source": [
    "L = PosetOfCategory( S )"
   ]
  },
  {
   "cell_type": "code",
   "execution_count": 17,
   "metadata": {},
   "outputs": [
    {
     "data": {
      "text/plain": [
       "GAP: An object in the poset given by: An object in the slice category given by: <An\\\n",
       " evaluated morphism in LazyCategory( Rows( Q[x,y] ) )>"
      ]
     },
     "execution_count": 17,
     "metadata": {},
     "output_type": "execute_result"
    }
   ],
   "source": [
    "I = I / S / L"
   ]
  },
  {
   "cell_type": "code",
   "execution_count": 18,
   "metadata": {},
   "outputs": [
    {
     "data": {
      "text/plain": [
       "GAP: An object in the poset given by: An object in the slice category given by: <An\\\n",
       " evaluated morphism in LazyCategory( Rows( Q[x,y] ) )>"
      ]
     },
     "execution_count": 18,
     "metadata": {},
     "output_type": "execute_result"
    }
   ],
   "source": [
    "J = J / S / L"
   ]
  },
  {
   "cell_type": "code",
   "execution_count": 19,
   "metadata": {},
   "outputs": [
    {
     "data": {
      "text/plain": [
       "GAP: An object in the poset given by: An object in the slice category given by: <An\\\n",
       " evaluated morphism in LazyCategory( Rows( Q[x,y] ) )>"
      ]
     },
     "execution_count": 19,
     "metadata": {},
     "output_type": "execute_result"
    }
   ],
   "source": [
    "IJ = IJ / S / L"
   ]
  },
  {
   "cell_type": "code",
   "execution_count": 20,
   "metadata": {},
   "outputs": [
    {
     "data": {
      "text/plain": [
       "GAP: An object in the poset given by: An object in the slice category given by: <A \\\n",
       "morphism in LazyCategory( Rows( Q[x,y] ) )>"
      ]
     },
     "execution_count": 20,
     "metadata": {},
     "output_type": "execute_result"
    }
   ],
   "source": [
    "IJqJ = InternalHom( J, IJ )"
   ]
  },
  {
   "cell_type": "code",
   "execution_count": 21,
   "metadata": {
    "scrolled": false
   },
   "outputs": [
    {
     "data": {
      "image/svg+xml": [
       "<?xml version=\"1.0\" encoding=\"UTF-8\" standalone=\"no\"?>\n",
       "<!DOCTYPE svg PUBLIC \"-//W3C//DTD SVG 1.1//EN\"\n",
       " \"http://www.w3.org/Graphics/SVG/1.1/DTD/svg11.dtd\">\n",
       "<!-- Generated by graphviz version 2.42.3 (20191010.1750)\n",
       " -->\n",
       "<!-- Title: hgn Pages: 1 -->\n",
       "<svg width=\"989pt\" height=\"1985pt\"\n",
       " viewBox=\"0.00 0.00 988.93 1985.27\" xmlns=\"http://www.w3.org/2000/svg\" xmlns:xlink=\"http://www.w3.org/1999/xlink\">\n",
       "<g id=\"graph0\" class=\"graph\" transform=\"scale(1 1) rotate(0) translate(4 1981.27)\">\n",
       "<title>hgn</title>\n",
       "<polygon fill=\"white\" stroke=\"transparent\" points=\"-4,4 -4,-1981.27 984.93,-1981.27 984.93,4 -4,4\"/>\n",
       "<!-- 1 -->\n",
       "<g id=\"node1\" class=\"node\">\n",
       "<title>1</title>\n",
       "<ellipse fill=\"none\" stroke=\"black\" cx=\"395.46\" cy=\"-47.61\" rx=\"47.71\" ry=\"47.71\"/>\n",
       "<text text-anchor=\"middle\" x=\"395.46\" y=\"-64.41\" font-family=\"Times,serif\" font-size=\"14.00\">[1]</text>\n",
       "<text text-anchor=\"middle\" x=\"395.46\" y=\"-50.41\" font-family=\"Times,serif\" font-size=\"14.00\">primitive</text>\n",
       "<text text-anchor=\"middle\" x=\"395.46\" y=\"-36.41\" font-family=\"Times,serif\" font-size=\"14.00\">object</text>\n",
       "<text text-anchor=\"middle\" x=\"395.46\" y=\"-22.41\" font-family=\"Times,serif\" font-size=\"14.00\">&lt;R&gt;</text>\n",
       "</g>\n",
       "<!-- 2 -->\n",
       "<g id=\"node2\" class=\"node\">\n",
       "<title>2</title>\n",
       "<ellipse fill=\"none\" stroke=\"black\" cx=\"294.46\" cy=\"-204.66\" rx=\"73.4\" ry=\"73.4\"/>\n",
       "<text text-anchor=\"middle\" x=\"294.46\" y=\"-214.46\" font-family=\"Times,serif\" font-size=\"14.00\">[2]</text>\n",
       "<text text-anchor=\"middle\" x=\"294.46\" y=\"-200.46\" font-family=\"Times,serif\" font-size=\"14.00\">Internal</text>\n",
       "<text text-anchor=\"middle\" x=\"294.46\" y=\"-186.46\" font-family=\"Times,serif\" font-size=\"14.00\">HomOnObjects</text>\n",
       "</g>\n",
       "<!-- 2&#45;&gt;1 -->\n",
       "<g id=\"edge1\" class=\"edge\">\n",
       "<title>2&#45;&gt;1</title>\n",
       "<path fill=\"none\" stroke=\"black\" d=\"M329.47,-139.7C339.34,-124.22 350.06,-107.99 359.97,-93.59\"/>\n",
       "<polygon fill=\"black\" stroke=\"black\" points=\"362.86,-95.56 365.69,-85.35 357.11,-91.57 362.86,-95.56\"/>\n",
       "</g>\n",
       "<!-- 2&#45;&gt;1 -->\n",
       "<g id=\"edge2\" class=\"edge\">\n",
       "<title>2&#45;&gt;1</title>\n",
       "<path fill=\"none\" stroke=\"black\" d=\"M338.62,-145.92C348.97,-130.52 359.67,-114 368.99,-99.03\"/>\n",
       "<polygon fill=\"black\" stroke=\"black\" points=\"372.03,-100.76 374.3,-90.41 366.08,-97.08 372.03,-100.76\"/>\n",
       "</g>\n",
       "<!-- 3 -->\n",
       "<g id=\"node3\" class=\"node\">\n",
       "<title>3</title>\n",
       "<ellipse fill=\"none\" stroke=\"black\" cx=\"345.46\" cy=\"-425.36\" rx=\"111.49\" ry=\"111.49\"/>\n",
       "<text text-anchor=\"middle\" x=\"345.46\" y=\"-428.16\" font-family=\"Times,serif\" font-size=\"14.00\">[3]</text>\n",
       "<text text-anchor=\"middle\" x=\"345.46\" y=\"-414.16\" font-family=\"Times,serif\" font-size=\"14.00\">TensorProductOnObjects</text>\n",
       "</g>\n",
       "<!-- 3&#45;&gt;1 -->\n",
       "<g id=\"edge4\" class=\"edge\">\n",
       "<title>3&#45;&gt;1</title>\n",
       "<path fill=\"none\" stroke=\"black\" d=\"M369.87,-316.82C372.34,-303.82 374.62,-290.7 376.46,-278.11 385.05,-219.64 390.05,-152.17 392.75,-105.59\"/>\n",
       "<polygon fill=\"black\" stroke=\"black\" points=\"396.26,-105.58 393.32,-95.4 389.27,-105.18 396.26,-105.58\"/>\n",
       "</g>\n",
       "<!-- 3&#45;&gt;2 -->\n",
       "<g id=\"edge3\" class=\"edge\">\n",
       "<title>3&#45;&gt;2</title>\n",
       "<path fill=\"none\" stroke=\"black\" d=\"M320.41,-316.93C318.01,-306.64 315.61,-296.33 313.28,-286.36\"/>\n",
       "<polygon fill=\"black\" stroke=\"black\" points=\"316.67,-285.46 310.99,-276.52 309.85,-287.05 316.67,-285.46\"/>\n",
       "</g>\n",
       "<!-- 4 -->\n",
       "<g id=\"node4\" class=\"node\">\n",
       "<title>4</title>\n",
       "<ellipse fill=\"none\" stroke=\"black\" cx=\"447.46\" cy=\"-668.06\" rx=\"95.4\" ry=\"95.4\"/>\n",
       "<text text-anchor=\"middle\" x=\"447.46\" y=\"-677.86\" font-family=\"Times,serif\" font-size=\"14.00\">[4]</text>\n",
       "<text text-anchor=\"middle\" x=\"447.46\" y=\"-663.86\" font-family=\"Times,serif\" font-size=\"14.00\">EvaluationMorphism</text>\n",
       "<text text-anchor=\"middle\" x=\"447.46\" y=\"-649.86\" font-family=\"Times,serif\" font-size=\"14.00\">WithGivenSource</text>\n",
       "</g>\n",
       "<!-- 4&#45;&gt;1 -->\n",
       "<g id=\"edge5\" class=\"edge\">\n",
       "<title>4&#45;&gt;1</title>\n",
       "<path fill=\"none\" stroke=\"black\" d=\"M453.14,-572.45C454.47,-560.41 455.66,-548.24 456.46,-536.61 463.24,-437.95 469.17,-412.18 456.46,-314.11 446.88,-240.17 422.87,-157.46 407.7,-104.31\"/>\n",
       "<polygon fill=\"black\" stroke=\"black\" points=\"410.99,-103.07 404.88,-94.41 404.25,-104.98 410.99,-103.07\"/>\n",
       "</g>\n",
       "<!-- 4&#45;&gt;1 -->\n",
       "<g id=\"edge6\" class=\"edge\">\n",
       "<title>4&#45;&gt;1</title>\n",
       "<path fill=\"none\" stroke=\"black\" d=\"M470.64,-575.28C472.28,-562.33 473.6,-549.15 474.46,-536.61 481.24,-437.95 487.17,-412.18 474.46,-314.11 464.63,-238.23 439.61,-153.13 420.09,-100.2\"/>\n",
       "<polygon fill=\"black\" stroke=\"black\" points=\"423.31,-98.82 416.52,-90.7 416.76,-101.29 423.31,-98.82\"/>\n",
       "</g>\n",
       "<!-- 4&#45;&gt;3 -->\n",
       "<g id=\"edge7\" class=\"edge\">\n",
       "<title>4&#45;&gt;3</title>\n",
       "<path fill=\"none\" stroke=\"black\" d=\"M410.49,-579.82C404.65,-566.02 398.54,-551.6 392.5,-537.35\"/>\n",
       "<polygon fill=\"black\" stroke=\"black\" points=\"395.67,-535.86 388.54,-528.02 389.22,-538.59 395.67,-535.86\"/>\n",
       "</g>\n",
       "<!-- 5 -->\n",
       "<g id=\"node5\" class=\"node\">\n",
       "<title>5</title>\n",
       "<ellipse fill=\"none\" stroke=\"black\" cx=\"663.46\" cy=\"-668.06\" rx=\"47.71\" ry=\"47.71\"/>\n",
       "<text text-anchor=\"middle\" x=\"663.46\" y=\"-684.86\" font-family=\"Times,serif\" font-size=\"14.00\">[5]</text>\n",
       "<text text-anchor=\"middle\" x=\"663.46\" y=\"-670.86\" font-family=\"Times,serif\" font-size=\"14.00\">primitive</text>\n",
       "<text text-anchor=\"middle\" x=\"663.46\" y=\"-656.86\" font-family=\"Times,serif\" font-size=\"14.00\">object</text>\n",
       "<text text-anchor=\"middle\" x=\"663.46\" y=\"-642.86\" font-family=\"Times,serif\" font-size=\"14.00\">&lt;R^ij&gt;</text>\n",
       "</g>\n",
       "<!-- 6 -->\n",
       "<g id=\"node6\" class=\"node\">\n",
       "<title>6</title>\n",
       "<ellipse fill=\"none\" stroke=\"black\" cx=\"87.46\" cy=\"-425.36\" rx=\"52.63\" ry=\"52.63\"/>\n",
       "<text text-anchor=\"middle\" x=\"87.46\" y=\"-435.16\" font-family=\"Times,serif\" font-size=\"14.00\">[6]</text>\n",
       "<text text-anchor=\"middle\" x=\"87.46\" y=\"-421.16\" font-family=\"Times,serif\" font-size=\"14.00\">Identity</text>\n",
       "<text text-anchor=\"middle\" x=\"87.46\" y=\"-407.16\" font-family=\"Times,serif\" font-size=\"14.00\">Morphism</text>\n",
       "</g>\n",
       "<!-- 6&#45;&gt;1 -->\n",
       "<g id=\"edge8\" class=\"edge\">\n",
       "<title>6&#45;&gt;1</title>\n",
       "<path fill=\"none\" stroke=\"black\" d=\"M97.24,-373.46C111.95,-309.43 145.49,-199.6 212.46,-131.21 247.05,-95.89 299.47,-74.36 339.36,-62.17\"/>\n",
       "<polygon fill=\"black\" stroke=\"black\" points=\"340.35,-65.53 348.95,-59.34 338.37,-58.81 340.35,-65.53\"/>\n",
       "</g>\n",
       "<!-- 7 -->\n",
       "<g id=\"node7\" class=\"node\">\n",
       "<title>7</title>\n",
       "<ellipse fill=\"none\" stroke=\"black\" cx=\"51.46\" cy=\"-872.96\" rx=\"51.43\" ry=\"51.43\"/>\n",
       "<text text-anchor=\"middle\" x=\"51.46\" y=\"-889.76\" font-family=\"Times,serif\" font-size=\"14.00\">[7]</text>\n",
       "<text text-anchor=\"middle\" x=\"51.46\" y=\"-875.76\" font-family=\"Times,serif\" font-size=\"14.00\">primitive</text>\n",
       "<text text-anchor=\"middle\" x=\"51.46\" y=\"-861.76\" font-family=\"Times,serif\" font-size=\"14.00\">morphism</text>\n",
       "<text text-anchor=\"middle\" x=\"51.46\" y=\"-847.76\" font-family=\"Times,serif\" font-size=\"14.00\">&lt;J&gt;</text>\n",
       "</g>\n",
       "<!-- 8 -->\n",
       "<g id=\"node8\" class=\"node\">\n",
       "<title>8</title>\n",
       "<ellipse fill=\"none\" stroke=\"black\" cx=\"265.46\" cy=\"-668.06\" rx=\"68.82\" ry=\"68.82\"/>\n",
       "<text text-anchor=\"middle\" x=\"265.46\" y=\"-684.86\" font-family=\"Times,serif\" font-size=\"14.00\">[8]</text>\n",
       "<text text-anchor=\"middle\" x=\"265.46\" y=\"-670.86\" font-family=\"Times,serif\" font-size=\"14.00\">RightUnitor</text>\n",
       "<text text-anchor=\"middle\" x=\"265.46\" y=\"-656.86\" font-family=\"Times,serif\" font-size=\"14.00\">WithGiven</text>\n",
       "<text text-anchor=\"middle\" x=\"265.46\" y=\"-642.86\" font-family=\"Times,serif\" font-size=\"14.00\">TensorProduct</text>\n",
       "</g>\n",
       "<!-- 8&#45;&gt;2 -->\n",
       "<g id=\"edge9\" class=\"edge\">\n",
       "<title>8&#45;&gt;2</title>\n",
       "<path fill=\"none\" stroke=\"black\" d=\"M241.75,-603.24C235.1,-582.31 228.78,-558.74 225.46,-536.61 210.81,-438.81 197.82,-409.06 225.46,-314.11 229.71,-299.53 236.58,-285.03 244.37,-271.6\"/>\n",
       "<polygon fill=\"black\" stroke=\"black\" points=\"247.43,-273.31 249.61,-262.94 241.44,-269.68 247.43,-273.31\"/>\n",
       "</g>\n",
       "<!-- 8&#45;&gt;3 -->\n",
       "<g id=\"edge10\" class=\"edge\">\n",
       "<title>8&#45;&gt;3</title>\n",
       "<path fill=\"none\" stroke=\"black\" d=\"M286.9,-602.55C293.2,-583.6 300.29,-562.26 307.31,-541.15\"/>\n",
       "<polygon fill=\"black\" stroke=\"black\" points=\"310.69,-542.08 310.52,-531.48 304.05,-539.87 310.69,-542.08\"/>\n",
       "</g>\n",
       "<!-- 9 -->\n",
       "<g id=\"node9\" class=\"node\">\n",
       "<title>9</title>\n",
       "<ellipse fill=\"none\" stroke=\"black\" cx=\"352.46\" cy=\"-872.96\" rx=\"54.4\" ry=\"54.4\"/>\n",
       "<text text-anchor=\"middle\" x=\"352.46\" y=\"-882.76\" font-family=\"Times,serif\" font-size=\"14.00\">[9]</text>\n",
       "<text text-anchor=\"middle\" x=\"352.46\" y=\"-868.76\" font-family=\"Times,serif\" font-size=\"14.00\">Inverse</text>\n",
       "<text text-anchor=\"middle\" x=\"352.46\" y=\"-854.76\" font-family=\"Times,serif\" font-size=\"14.00\">Immutable</text>\n",
       "</g>\n",
       "<!-- 9&#45;&gt;4 -->\n",
       "<g id=\"edge11\" class=\"edge\">\n",
       "<title>9&#45;&gt;4</title>\n",
       "<path fill=\"none\" stroke=\"black\" d=\"M375.1,-823.62C383.51,-805.64 393.37,-784.58 403.07,-763.88\"/>\n",
       "<polygon fill=\"black\" stroke=\"black\" points=\"406.28,-765.27 407.35,-754.73 399.94,-762.3 406.28,-765.27\"/>\n",
       "</g>\n",
       "<!-- 10 -->\n",
       "<g id=\"node10\" class=\"node\">\n",
       "<title>10</title>\n",
       "<ellipse fill=\"none\" stroke=\"black\" cx=\"498.46\" cy=\"-872.96\" rx=\"73.4\" ry=\"73.4\"/>\n",
       "<text text-anchor=\"middle\" x=\"498.46\" y=\"-882.76\" font-family=\"Times,serif\" font-size=\"14.00\">[10]</text>\n",
       "<text text-anchor=\"middle\" x=\"498.46\" y=\"-868.76\" font-family=\"Times,serif\" font-size=\"14.00\">Internal</text>\n",
       "<text text-anchor=\"middle\" x=\"498.46\" y=\"-854.76\" font-family=\"Times,serif\" font-size=\"14.00\">HomOnObjects</text>\n",
       "</g>\n",
       "<!-- 10&#45;&gt;1 -->\n",
       "<g id=\"edge13\" class=\"edge\">\n",
       "<title>10&#45;&gt;1</title>\n",
       "<path fill=\"none\" stroke=\"black\" d=\"M535.04,-809.23C541.83,-794.68 547.9,-778.92 551.46,-763.51 570.58,-680.84 559.61,-657.06 551.46,-572.61 532.26,-373.67 551.98,-311.38 465.46,-131.21 458.18,-116.06 447.45,-101.41 436.56,-88.76\"/>\n",
       "<polygon fill=\"black\" stroke=\"black\" points=\"439.05,-86.3 429.79,-81.16 433.82,-90.95 439.05,-86.3\"/>\n",
       "</g>\n",
       "<!-- 10&#45;&gt;5 -->\n",
       "<g id=\"edge12\" class=\"edge\">\n",
       "<title>10&#45;&gt;5</title>\n",
       "<path fill=\"none\" stroke=\"black\" d=\"M544.42,-815.44C570.68,-783.15 603.13,-743.24 627.52,-713.26\"/>\n",
       "<polygon fill=\"black\" stroke=\"black\" points=\"630.26,-715.44 633.85,-705.47 624.83,-711.02 630.26,-715.44\"/>\n",
       "</g>\n",
       "<!-- 11 -->\n",
       "<g id=\"node11\" class=\"node\">\n",
       "<title>11</title>\n",
       "<ellipse fill=\"none\" stroke=\"black\" cx=\"929.46\" cy=\"-872.96\" rx=\"51.43\" ry=\"51.43\"/>\n",
       "<text text-anchor=\"middle\" x=\"929.46\" y=\"-889.76\" font-family=\"Times,serif\" font-size=\"14.00\">[11]</text>\n",
       "<text text-anchor=\"middle\" x=\"929.46\" y=\"-875.76\" font-family=\"Times,serif\" font-size=\"14.00\">primitive</text>\n",
       "<text text-anchor=\"middle\" x=\"929.46\" y=\"-861.76\" font-family=\"Times,serif\" font-size=\"14.00\">morphism</text>\n",
       "<text text-anchor=\"middle\" x=\"929.46\" y=\"-847.76\" font-family=\"Times,serif\" font-size=\"14.00\">&lt;IJ&gt;</text>\n",
       "</g>\n",
       "<!-- 12 -->\n",
       "<g id=\"node12\" class=\"node\">\n",
       "<title>12</title>\n",
       "<ellipse fill=\"none\" stroke=\"black\" cx=\"807.46\" cy=\"-872.96\" rx=\"52.63\" ry=\"52.63\"/>\n",
       "<text text-anchor=\"middle\" x=\"807.46\" y=\"-882.76\" font-family=\"Times,serif\" font-size=\"14.00\">[12]</text>\n",
       "<text text-anchor=\"middle\" x=\"807.46\" y=\"-868.76\" font-family=\"Times,serif\" font-size=\"14.00\">Identity</text>\n",
       "<text text-anchor=\"middle\" x=\"807.46\" y=\"-854.76\" font-family=\"Times,serif\" font-size=\"14.00\">Morphism</text>\n",
       "</g>\n",
       "<!-- 12&#45;&gt;5 -->\n",
       "<g id=\"edge14\" class=\"edge\">\n",
       "<title>12&#45;&gt;5</title>\n",
       "<path fill=\"none\" stroke=\"black\" d=\"M777.28,-829.42C753.71,-796.21 720.99,-750.11 696.68,-715.86\"/>\n",
       "<polygon fill=\"black\" stroke=\"black\" points=\"699.33,-713.55 690.69,-707.42 693.63,-717.6 699.33,-713.55\"/>\n",
       "</g>\n",
       "<!-- 13 -->\n",
       "<g id=\"node13\" class=\"node\">\n",
       "<title>13</title>\n",
       "<ellipse fill=\"none\" stroke=\"black\" cx=\"663.46\" cy=\"-872.96\" rx=\"73.4\" ry=\"73.4\"/>\n",
       "<text text-anchor=\"middle\" x=\"663.46\" y=\"-882.76\" font-family=\"Times,serif\" font-size=\"14.00\">[13]</text>\n",
       "<text text-anchor=\"middle\" x=\"663.46\" y=\"-868.76\" font-family=\"Times,serif\" font-size=\"14.00\">Internal</text>\n",
       "<text text-anchor=\"middle\" x=\"663.46\" y=\"-854.76\" font-family=\"Times,serif\" font-size=\"14.00\">HomOnObjects</text>\n",
       "</g>\n",
       "<!-- 13&#45;&gt;5 -->\n",
       "<g id=\"edge15\" class=\"edge\">\n",
       "<title>13&#45;&gt;5</title>\n",
       "<path fill=\"none\" stroke=\"black\" d=\"M656.97,-799.56C656.53,-775.29 656.66,-748.58 657.34,-725.69\"/>\n",
       "<polygon fill=\"black\" stroke=\"black\" points=\"660.84,-725.58 657.69,-715.46 653.85,-725.34 660.84,-725.58\"/>\n",
       "</g>\n",
       "<!-- 13&#45;&gt;5 -->\n",
       "<g id=\"edge16\" class=\"edge\">\n",
       "<title>13&#45;&gt;5</title>\n",
       "<path fill=\"none\" stroke=\"black\" d=\"M669.96,-799.56C670.39,-775.29 670.27,-748.58 669.59,-725.69\"/>\n",
       "<polygon fill=\"black\" stroke=\"black\" points=\"673.08,-725.34 669.24,-715.46 666.08,-725.58 673.08,-725.34\"/>\n",
       "</g>\n",
       "<!-- 14 -->\n",
       "<g id=\"node14\" class=\"node\">\n",
       "<title>14</title>\n",
       "<ellipse fill=\"none\" stroke=\"black\" cx=\"166.46\" cy=\"-1101.51\" rx=\"119.19\" ry=\"119.19\"/>\n",
       "<text text-anchor=\"middle\" x=\"166.46\" y=\"-1111.31\" font-family=\"Times,serif\" font-size=\"14.00\">[14]</text>\n",
       "<text text-anchor=\"middle\" x=\"166.46\" y=\"-1097.31\" font-family=\"Times,serif\" font-size=\"14.00\">InternalHomOnMorphisms</text>\n",
       "<text text-anchor=\"middle\" x=\"166.46\" y=\"-1083.31\" font-family=\"Times,serif\" font-size=\"14.00\">WithGivenInternalHoms</text>\n",
       "</g>\n",
       "<!-- 14&#45;&gt;2 -->\n",
       "<g id=\"edge17\" class=\"edge\">\n",
       "<title>14&#45;&gt;2</title>\n",
       "<path fill=\"none\" stroke=\"black\" d=\"M163.07,-982.39C159.19,-793.36 158.53,-432.17 205.46,-314.11 212.55,-296.28 223.7,-279.16 235.75,-263.99\"/>\n",
       "<polygon fill=\"black\" stroke=\"black\" points=\"238.47,-266.2 242.11,-256.25 233.06,-261.75 238.47,-266.2\"/>\n",
       "</g>\n",
       "<!-- 14&#45;&gt;6 -->\n",
       "<g id=\"edge19\" class=\"edge\">\n",
       "<title>14&#45;&gt;6</title>\n",
       "<path fill=\"none\" stroke=\"black\" d=\"M152.7,-983.08C135.81,-838.94 107.8,-599.91 94.67,-487.87\"/>\n",
       "<polygon fill=\"black\" stroke=\"black\" points=\"98.13,-487.28 93.49,-477.76 91.17,-488.1 98.13,-487.28\"/>\n",
       "</g>\n",
       "<!-- 14&#45;&gt;7 -->\n",
       "<g id=\"edge18\" class=\"edge\">\n",
       "<title>14&#45;&gt;7</title>\n",
       "<path fill=\"none\" stroke=\"black\" d=\"M112.83,-994.86C101.1,-971.75 89.16,-948.22 78.96,-928.13\"/>\n",
       "<polygon fill=\"black\" stroke=\"black\" points=\"82.05,-926.49 74.41,-919.16 75.81,-929.66 82.05,-926.49\"/>\n",
       "</g>\n",
       "<!-- 14&#45;&gt;10 -->\n",
       "<g id=\"edge20\" class=\"edge\">\n",
       "<title>14&#45;&gt;10</title>\n",
       "<path fill=\"none\" stroke=\"black\" d=\"M248.58,-1014.9C263.03,-1002.82 278.56,-991.45 294.46,-982.41 343.23,-954.67 366.32,-973.48 415.46,-946.41 423.34,-942.07 431.12,-936.89 438.57,-931.31\"/>\n",
       "<polygon fill=\"black\" stroke=\"black\" points=\"440.78,-934.02 446.53,-925.12 436.48,-928.5 440.78,-934.02\"/>\n",
       "</g>\n",
       "<!-- 15 -->\n",
       "<g id=\"node15\" class=\"node\">\n",
       "<title>15</title>\n",
       "<ellipse fill=\"none\" stroke=\"black\" cx=\"352.46\" cy=\"-1101.51\" rx=\"48.93\" ry=\"48.93\"/>\n",
       "<text text-anchor=\"middle\" x=\"352.46\" y=\"-1111.31\" font-family=\"Times,serif\" font-size=\"14.00\">[15]</text>\n",
       "<text text-anchor=\"middle\" x=\"352.46\" y=\"-1097.31\" font-family=\"Times,serif\" font-size=\"14.00\">Pre</text>\n",
       "<text text-anchor=\"middle\" x=\"352.46\" y=\"-1083.31\" font-family=\"Times,serif\" font-size=\"14.00\">Compose</text>\n",
       "</g>\n",
       "<!-- 15&#45;&gt;8 -->\n",
       "<g id=\"edge22\" class=\"edge\">\n",
       "<title>15&#45;&gt;8</title>\n",
       "<path fill=\"none\" stroke=\"black\" d=\"M330.77,-1057.51C316.54,-1027.23 298.87,-985.32 289.46,-946.41 273.53,-880.51 267.85,-803.56 265.98,-747.45\"/>\n",
       "<polygon fill=\"black\" stroke=\"black\" points=\"269.47,-747.12 265.67,-737.23 262.47,-747.33 269.47,-747.12\"/>\n",
       "</g>\n",
       "<!-- 15&#45;&gt;9 -->\n",
       "<g id=\"edge21\" class=\"edge\">\n",
       "<title>15&#45;&gt;9</title>\n",
       "<path fill=\"none\" stroke=\"black\" d=\"M352.46,-1052.74C352.46,-1019.16 352.46,-973.87 352.46,-937.28\"/>\n",
       "<polygon fill=\"black\" stroke=\"black\" points=\"355.96,-937.21 352.46,-927.21 348.96,-937.21 355.96,-937.21\"/>\n",
       "</g>\n",
       "<!-- 16 -->\n",
       "<g id=\"node16\" class=\"node\">\n",
       "<title>16</title>\n",
       "<ellipse fill=\"none\" stroke=\"black\" cx=\"353.46\" cy=\"-1305.31\" rx=\"48.93\" ry=\"48.93\"/>\n",
       "<text text-anchor=\"middle\" x=\"353.46\" y=\"-1315.11\" font-family=\"Times,serif\" font-size=\"14.00\">[16]</text>\n",
       "<text text-anchor=\"middle\" x=\"353.46\" y=\"-1301.11\" font-family=\"Times,serif\" font-size=\"14.00\">Pre</text>\n",
       "<text text-anchor=\"middle\" x=\"353.46\" y=\"-1287.11\" font-family=\"Times,serif\" font-size=\"14.00\">Compose</text>\n",
       "</g>\n",
       "<!-- 16&#45;&gt;14 -->\n",
       "<g id=\"edge24\" class=\"edge\">\n",
       "<title>16&#45;&gt;14</title>\n",
       "<path fill=\"none\" stroke=\"black\" d=\"M320.46,-1268.7C301.85,-1248.62 277.64,-1222.49 253.95,-1196.92\"/>\n",
       "<polygon fill=\"black\" stroke=\"black\" points=\"256.31,-1194.32 246.95,-1189.37 251.18,-1199.08 256.31,-1194.32\"/>\n",
       "</g>\n",
       "<!-- 16&#45;&gt;15 -->\n",
       "<g id=\"edge23\" class=\"edge\">\n",
       "<title>16&#45;&gt;15</title>\n",
       "<path fill=\"none\" stroke=\"black\" d=\"M353.23,-1256.49C353.08,-1227.69 352.9,-1190.83 352.75,-1160.39\"/>\n",
       "<polygon fill=\"black\" stroke=\"black\" points=\"356.25,-1160.32 352.7,-1150.34 349.25,-1160.35 356.25,-1160.32\"/>\n",
       "</g>\n",
       "<!-- 17 -->\n",
       "<g id=\"node17\" class=\"node\">\n",
       "<title>17</title>\n",
       "<ellipse fill=\"none\" stroke=\"black\" cx=\"662.46\" cy=\"-1101.51\" rx=\"119.19\" ry=\"119.19\"/>\n",
       "<text text-anchor=\"middle\" x=\"662.46\" y=\"-1111.31\" font-family=\"Times,serif\" font-size=\"14.00\">[17]</text>\n",
       "<text text-anchor=\"middle\" x=\"662.46\" y=\"-1097.31\" font-family=\"Times,serif\" font-size=\"14.00\">InternalHomOnMorphisms</text>\n",
       "<text text-anchor=\"middle\" x=\"662.46\" y=\"-1083.31\" font-family=\"Times,serif\" font-size=\"14.00\">WithGivenInternalHoms</text>\n",
       "</g>\n",
       "<!-- 17&#45;&gt;10 -->\n",
       "<g id=\"edge28\" class=\"edge\">\n",
       "<title>17&#45;&gt;10</title>\n",
       "<path fill=\"none\" stroke=\"black\" d=\"M592.91,-1004.43C577.56,-983.22 561.61,-961.18 547.28,-941.4\"/>\n",
       "<polygon fill=\"black\" stroke=\"black\" points=\"549.95,-939.11 541.25,-933.06 544.28,-943.21 549.95,-939.11\"/>\n",
       "</g>\n",
       "<!-- 17&#45;&gt;11 -->\n",
       "<g id=\"edge27\" class=\"edge\">\n",
       "<title>17&#45;&gt;11</title>\n",
       "<path fill=\"none\" stroke=\"black\" d=\"M761.09,-1034.47C796.73,-1008.73 836.32,-977.88 869.46,-946.41 877.26,-939 885.02,-930.62 892.24,-922.24\"/>\n",
       "<polygon fill=\"black\" stroke=\"black\" points=\"894.93,-924.48 898.7,-914.58 889.58,-919.96 894.93,-924.48\"/>\n",
       "</g>\n",
       "<!-- 17&#45;&gt;12 -->\n",
       "<g id=\"edge26\" class=\"edge\">\n",
       "<title>17&#45;&gt;12</title>\n",
       "<path fill=\"none\" stroke=\"black\" d=\"M726.27,-1000.81C742.71,-975.13 759.74,-948.51 773.94,-926.33\"/>\n",
       "<polygon fill=\"black\" stroke=\"black\" points=\"777,-928.05 779.44,-917.74 771.1,-924.28 777,-928.05\"/>\n",
       "</g>\n",
       "<!-- 17&#45;&gt;13 -->\n",
       "<g id=\"edge25\" class=\"edge\">\n",
       "<title>17&#45;&gt;13</title>\n",
       "<path fill=\"none\" stroke=\"black\" d=\"M662.98,-982.25C663.02,-973.64 663.06,-965.06 663.1,-956.71\"/>\n",
       "<polygon fill=\"black\" stroke=\"black\" points=\"666.6,-956.69 663.14,-946.67 659.6,-956.65 666.6,-956.69\"/>\n",
       "</g>\n",
       "<!-- 18 -->\n",
       "<g id=\"node18\" class=\"node\">\n",
       "<title>18</title>\n",
       "<ellipse fill=\"none\" stroke=\"black\" cx=\"516.46\" cy=\"-1502.27\" rx=\"112.48\" ry=\"112.48\"/>\n",
       "<text text-anchor=\"middle\" x=\"516.46\" y=\"-1505.07\" font-family=\"Times,serif\" font-size=\"14.00\">[18]</text>\n",
       "<text text-anchor=\"middle\" x=\"516.46\" y=\"-1491.07\" font-family=\"Times,serif\" font-size=\"14.00\">BiasedWeakFiberProduct</text>\n",
       "</g>\n",
       "<!-- 18&#45;&gt;16 -->\n",
       "<g id=\"edge29\" class=\"edge\">\n",
       "<title>18&#45;&gt;16</title>\n",
       "<path fill=\"none\" stroke=\"black\" d=\"M444.73,-1415.47C426.11,-1393.21 406.81,-1370.12 390.77,-1350.94\"/>\n",
       "<polygon fill=\"black\" stroke=\"black\" points=\"393.44,-1348.67 384.34,-1343.24 388.07,-1353.16 393.44,-1348.67\"/>\n",
       "</g>\n",
       "<!-- 18&#45;&gt;17 -->\n",
       "<g id=\"edge30\" class=\"edge\">\n",
       "<title>18&#45;&gt;17</title>\n",
       "<path fill=\"none\" stroke=\"black\" d=\"M554.82,-1396.5C574.31,-1343.27 598.08,-1278.34 618.33,-1223.05\"/>\n",
       "<polygon fill=\"black\" stroke=\"black\" points=\"621.65,-1224.14 621.81,-1213.55 615.08,-1221.74 621.65,-1224.14\"/>\n",
       "</g>\n",
       "<!-- 19 -->\n",
       "<g id=\"node19\" class=\"node\">\n",
       "<title>19</title>\n",
       "<ellipse fill=\"none\" stroke=\"black\" cx=\"516.46\" cy=\"-1813.89\" rx=\"163.26\" ry=\"163.26\"/>\n",
       "<text text-anchor=\"middle\" x=\"516.46\" y=\"-1823.69\" font-family=\"Times,serif\" font-size=\"14.00\">[19]</text>\n",
       "<text text-anchor=\"middle\" x=\"516.46\" y=\"-1809.69\" font-family=\"Times,serif\" font-size=\"14.00\">ProjectionOfBiasedWeakFiberProduct</text>\n",
       "<text text-anchor=\"middle\" x=\"516.46\" y=\"-1795.69\" font-family=\"Times,serif\" font-size=\"14.00\">WithGivenBiasedWeakFiberProduct</text>\n",
       "</g>\n",
       "<!-- 19&#45;&gt;16 -->\n",
       "<g id=\"edge31\" class=\"edge\">\n",
       "<title>19&#45;&gt;16</title>\n",
       "<path fill=\"none\" stroke=\"black\" d=\"M424.6,-1678.64C413.35,-1657.84 403.13,-1636.08 395.46,-1614.51 365.73,-1530.89 356.87,-1427.61 354.33,-1364.38\"/>\n",
       "<polygon fill=\"black\" stroke=\"black\" points=\"357.82,-1364.07 353.96,-1354.2 350.82,-1364.32 357.82,-1364.07\"/>\n",
       "</g>\n",
       "<!-- 19&#45;&gt;17 -->\n",
       "<g id=\"edge32\" class=\"edge\">\n",
       "<title>19&#45;&gt;17</title>\n",
       "<path fill=\"none\" stroke=\"black\" d=\"M609.74,-1679.76C620.87,-1658.71 630.68,-1636.59 637.46,-1614.51 676.35,-1488.01 678.5,-1335.72 673.46,-1230.27\"/>\n",
       "<polygon fill=\"black\" stroke=\"black\" points=\"676.95,-1230.03 672.95,-1220.22 669.96,-1230.38 676.95,-1230.03\"/>\n",
       "</g>\n",
       "<!-- 19&#45;&gt;18 -->\n",
       "<g id=\"edge33\" class=\"edge\">\n",
       "<title>19&#45;&gt;18</title>\n",
       "<path fill=\"none\" stroke=\"black\" d=\"M516.46,-1650.37C516.46,-1641.86 516.46,-1633.38 516.46,-1625.03\"/>\n",
       "<polygon fill=\"black\" stroke=\"black\" points=\"519.96,-1624.93 516.46,-1614.93 512.96,-1624.93 519.96,-1624.93\"/>\n",
       "</g>\n",
       "</g>\n",
       "</svg>\n"
      ]
     },
     "metadata": {},
     "output_type": "display_data"
    }
   ],
   "source": [
    "VisualizeInJulia( UnderlyingMorphism( UnderlyingCell( IJqJ ) ) )"
   ]
  },
  {
   "cell_type": "code",
   "execution_count": 22,
   "metadata": {},
   "outputs": [
    {
     "name": "stdout",
     "output_type": "stream",
     "text": [
      "1.\t-> evaluting in Rows( Q[x,y] ).........................: ProjectionOfBiased\\\n",
      "WeakFiberProductWithGivenBiasedWeakFiberProduct\n",
      "2.\t -> evaluting in Rows( Q[x,y] ).........................: PreCompose\n",
      "3.\t -> evaluting in Rows( Q[x,y] ).........................: PreCompose\n",
      "4.\t  -> evaluting in Rows( Q[x,y] ).........................: InverseImmutable\n",
      "5.\t  -> evaluting in Rows( Q[x,y] ).........................: EvaluationMorphi\\\n",
      "smWithGivenSource\n",
      "6.\t  -> evaluting in Rows( Q[x,y] ).........................: TensorProductOnO\\\n",
      "bjects\n",
      "7.\t  -> evaluting in Rows( Q[x,y] ).........................: InternalHomOnObj\\\n",
      "ects\n",
      "7.\t  <- evaluted  in Rows( Q[x,y] ).........................: InternalHomOnObj\\\n",
      "ects\n",
      "6.\t  <- evaluted  in Rows( Q[x,y] ).........................: TensorProductOnO\\\n",
      "bjects\n",
      "5.\t  <- evaluted  in Rows( Q[x,y] ).........................: EvaluationMorphi\\\n",
      "smWithGivenSource\n",
      "4.\t  <- evaluted  in Rows( Q[x,y] ).........................: InverseImmutable\n",
      "8.\t   -> evaluting in Rows( Q[x,y] ).........................: RightUnitorWith\\\n",
      "GivenTensorProduct\n",
      "8.\t   <- evaluted  in Rows( Q[x,y] ).........................: RightUnitorWith\\\n",
      "GivenTensorProduct\n",
      "3.\t <- evaluted  in Rows( Q[x,y] ).........................: PreCompose\n",
      "9.\t   -> evaluting in Rows( Q[x,y] ).........................: InternalHomOnMo\\\n",
      "rphismsWithGivenInternalHoms\n",
      "10\n",
      " .\t   -> evaluting in Rows( Q[x,y] ).........................: IdentityMorphis\\\n",
      "m\n",
      "10\n",
      " .\t   <- evaluted  in Rows( Q[x,y] ).........................: IdentityMorphis\\\n",
      "m\n",
      "11\n",
      " .\t   -> evaluting in Rows( Q[x,y] ).........................: InternalHomOnOb\\\n",
      "jects\n",
      "11\n",
      " .\t   <- evaluted  in Rows( Q[x,y] ).........................: InternalHomOnOb\\\n",
      "jects\n",
      "9.\t   <- evaluted  in Rows( Q[x,y] ).........................: InternalHomOnMo\\\n",
      "rphismsWithGivenInternalHoms\n",
      "2.\t <- evaluted  in Rows( Q[x,y] ).........................: PreCompose\n",
      "12\n",
      " .\t   -> evaluting in Rows( Q[x,y] ).........................: InternalHomOnMo\\\n",
      "rphismsWithGivenInternalHoms\n",
      "13\n",
      " .\t   -> evaluting in Rows( Q[x,y] ).........................: InternalHomOnOb\\\n",
      "jects\n",
      "13\n",
      " .\t   <- evaluted  in Rows( Q[x,y] ).........................: InternalHomOnOb\\\n",
      "jects\n",
      "14\n",
      " .\t   -> evaluting in Rows( Q[x,y] ).........................: IdentityMorphis\\\n",
      "m\n",
      "14\n",
      " .\t   <- evaluted  in Rows( Q[x,y] ).........................: IdentityMorphis\\\n",
      "m\n",
      "12\n",
      " .\t   <- evaluted  in Rows( Q[x,y] ).........................: InternalHomOnMo\\\n",
      "rphismsWithGivenInternalHoms\n",
      "15\n",
      " .\t   -> evaluting in Rows( Q[x,y] ).........................: BiasedWeakFiber\\\n",
      "Product\n",
      "15\n",
      " .\t   <- evaluted  in Rows( Q[x,y] ).........................: BiasedWeakFiber\\\n",
      "Product\n",
      "1.\t<- evaluted  in Rows( Q[x,y] ).........................: ProjectionOfBiased\\\n",
      "WeakFiberProductWithGivenBiasedWeakFiberProduct\n"
     ]
    },
    {
     "data": {
      "text/plain": [
       "true"
      ]
     },
     "execution_count": 22,
     "metadata": {},
     "output_type": "execute_result"
    }
   ],
   "source": [
    "I == IJqJ"
   ]
  },
  {
   "cell_type": "code",
   "execution_count": null,
   "metadata": {},
   "outputs": [],
   "source": []
  }
 ],
 "metadata": {
  "@webio": {
   "lastCommId": null,
   "lastKernelId": null
  },
  "kernelspec": {
   "display_name": "Julia 1.4.0",
   "language": "julia",
   "name": "julia-1.4"
  },
  "language_info": {
   "file_extension": ".jl",
   "mimetype": "application/julia",
   "name": "julia",
   "version": "1.4.1"
  }
 },
 "nbformat": 4,
 "nbformat_minor": 2
}
