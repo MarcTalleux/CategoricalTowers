{
 "cells": [
  {
   "cell_type": "code",
   "execution_count": 1,
   "metadata": {},
   "outputs": [
    {
     "name": "stdout",
     "output_type": "stream",
     "text": [
      "HomalgProject v\u001b[32m0.4.7\u001b[39m\n",
      "Imported OSCAR's components GAP, Nemo, and Singular\n",
      "Type: ?HomalgProject for more information\n"
     ]
    }
   ],
   "source": [
    "using HomalgProject"
   ]
  },
  {
   "cell_type": "code",
   "execution_count": 2,
   "metadata": {},
   "outputs": [],
   "source": [
    "LoadPackage( \"FreydCategoriesForCAP\" )"
   ]
  },
  {
   "cell_type": "code",
   "execution_count": 3,
   "metadata": {},
   "outputs": [],
   "source": [
    "LoadPackage( \"SubcategoriesForCAP\" )"
   ]
  },
  {
   "cell_type": "code",
   "execution_count": 4,
   "metadata": {},
   "outputs": [],
   "source": [
    "LoadPackage( \"Locales\" )"
   ]
  },
  {
   "cell_type": "code",
   "execution_count": 5,
   "metadata": {},
   "outputs": [],
   "source": [
    "LoadPackage( \"LazyCategories\" )"
   ]
  },
  {
   "cell_type": "code",
   "execution_count": 6,
   "metadata": {},
   "outputs": [
    {
     "data": {
      "text/plain": [
       "GAP: Q"
      ]
     },
     "execution_count": 6,
     "metadata": {},
     "output_type": "execute_result"
    }
   ],
   "source": [
    "Q = HomalgFieldOfRationalsInSingular( )"
   ]
  },
  {
   "cell_type": "code",
   "execution_count": 7,
   "metadata": {},
   "outputs": [
    {
     "data": {
      "text/plain": [
       "GAP: Q[x,y]"
      ]
     },
     "execution_count": 7,
     "metadata": {},
     "output_type": "execute_result"
    }
   ],
   "source": [
    "R = Q[\"x,y\"]"
   ]
  },
  {
   "cell_type": "code",
   "execution_count": 8,
   "metadata": {},
   "outputs": [
    {
     "data": {
      "text/plain": [
       "GAP: <A 2 x 1 matrix over an external ring>"
      ]
     },
     "execution_count": 8,
     "metadata": {},
     "output_type": "execute_result"
    }
   ],
   "source": [
    "K = HomalgMatrix( \"[ x, -x ]\", 2, 1, R )"
   ]
  },
  {
   "cell_type": "code",
   "execution_count": 9,
   "metadata": {},
   "outputs": [
    {
     "data": {
      "text/plain": [
       "GAP: <A 2 x 1 matrix over an external ring>"
      ]
     },
     "execution_count": 9,
     "metadata": {},
     "output_type": "execute_result"
    }
   ],
   "source": [
    "J = HomalgMatrix( \"[ x, y ]\", 2, 1, R )"
   ]
  },
  {
   "cell_type": "code",
   "execution_count": 10,
   "metadata": {},
   "outputs": [
    {
     "data": {
      "text/plain": [
       "GAP: <An unevaluated 4 x 1 matrix over an external ring>"
      ]
     },
     "execution_count": 10,
     "metadata": {},
     "output_type": "execute_result"
    }
   ],
   "source": [
    "I = KroneckerMat( K, J )"
   ]
  },
  {
   "cell_type": "code",
   "execution_count": 11,
   "metadata": {},
   "outputs": [
    {
     "data": {
      "text/plain": [
       "GAP: Rows( Q[x,y] )"
      ]
     },
     "execution_count": 11,
     "metadata": {},
     "output_type": "execute_result"
    }
   ],
   "source": [
    "P = CategoryOfRows( R )"
   ]
  },
  {
   "cell_type": "code",
   "execution_count": 12,
   "metadata": {},
   "outputs": [
    {
     "data": {
      "text/plain": [
       "GAP: LazyCategory( Rows( Q[x,y] ) )"
      ]
     },
     "execution_count": 12,
     "metadata": {},
     "output_type": "execute_result"
    }
   ],
   "source": [
    "P = LazyCategory( P, show_evaluation = true )"
   ]
  },
  {
   "cell_type": "code",
   "execution_count": 13,
   "metadata": {},
   "outputs": [
    {
     "data": {
      "text/plain": [
       "GAP: <An evaluated morphism in LazyCategory( Rows( Q[x,y] ) )>"
      ]
     },
     "execution_count": 13,
     "metadata": {},
     "output_type": "execute_result"
    }
   ],
   "source": [
    "I = I / P"
   ]
  },
  {
   "cell_type": "code",
   "execution_count": 14,
   "metadata": {},
   "outputs": [],
   "source": [
    "SetLabel( I, \"I\" ); SetLabel( Source( I ), \"R^i\" )"
   ]
  },
  {
   "cell_type": "code",
   "execution_count": 15,
   "metadata": {},
   "outputs": [
    {
     "data": {
      "text/plain": [
       "GAP: <An evaluated object in LazyCategory( Rows( Q[x,y] ) )>"
      ]
     },
     "execution_count": 15,
     "metadata": {},
     "output_type": "execute_result"
    }
   ],
   "source": [
    "R = Range( I )"
   ]
  },
  {
   "cell_type": "code",
   "execution_count": 16,
   "metadata": {},
   "outputs": [],
   "source": [
    "SetLabel( R, \"R\" )"
   ]
  },
  {
   "cell_type": "code",
   "execution_count": 17,
   "metadata": {},
   "outputs": [
    {
     "data": {
      "text/plain": [
       "GAP: <An evaluated morphism in LazyCategory( Rows( Q[x,y] ) )>"
      ]
     },
     "execution_count": 17,
     "metadata": {},
     "output_type": "execute_result"
    }
   ],
   "source": [
    "J = J / P"
   ]
  },
  {
   "cell_type": "code",
   "execution_count": 18,
   "metadata": {},
   "outputs": [],
   "source": [
    "SetLabel( J, \"J\" ); SetLabel( Source( J ), \"R^j\" )"
   ]
  },
  {
   "cell_type": "code",
   "execution_count": 19,
   "metadata": {},
   "outputs": [
    {
     "data": {
      "text/plain": [
       "GAP: <An evaluated morphism in LazyCategory( Rows( Q[x,y] ) )>"
      ]
     },
     "execution_count": 19,
     "metadata": {},
     "output_type": "execute_result"
    }
   ],
   "source": [
    "K = K / P"
   ]
  },
  {
   "cell_type": "code",
   "execution_count": 20,
   "metadata": {},
   "outputs": [
    {
     "data": {
      "text/plain": [
       "GAP: SliceCategoryOverTensorUnit( LazyCategory( Rows( Q[x,y] ) ) )"
      ]
     },
     "execution_count": 20,
     "metadata": {},
     "output_type": "execute_result"
    }
   ],
   "source": [
    "S = SliceCategoryOverTensorUnit( P )"
   ]
  },
  {
   "cell_type": "code",
   "execution_count": 21,
   "metadata": {},
   "outputs": [
    {
     "data": {
      "text/plain": [
       "GAP: Poset( SliceCategoryOverTensorUnit( LazyCategory( Rows( Q[x,y] ) ) ) )"
      ]
     },
     "execution_count": 21,
     "metadata": {},
     "output_type": "execute_result"
    }
   ],
   "source": [
    "L = PosetOfCategory( S )"
   ]
  },
  {
   "cell_type": "code",
   "execution_count": 22,
   "metadata": {},
   "outputs": [
    {
     "data": {
      "text/plain": [
       "GAP: An object in the poset given by: An object in the slice category given by: <An\\\n",
       " evaluated morphism in LazyCategory( Rows( Q[x,y] ) )>"
      ]
     },
     "execution_count": 22,
     "metadata": {},
     "output_type": "execute_result"
    }
   ],
   "source": [
    "I = I / S / L"
   ]
  },
  {
   "cell_type": "code",
   "execution_count": 23,
   "metadata": {},
   "outputs": [
    {
     "data": {
      "text/plain": [
       "GAP: An object in the poset given by: An object in the slice category given by: <An\\\n",
       " evaluated morphism in LazyCategory( Rows( Q[x,y] ) )>"
      ]
     },
     "execution_count": 23,
     "metadata": {},
     "output_type": "execute_result"
    }
   ],
   "source": [
    "J = J / S / L"
   ]
  },
  {
   "cell_type": "code",
   "execution_count": 24,
   "metadata": {},
   "outputs": [
    {
     "data": {
      "text/plain": [
       "GAP: An object in the poset given by: An object in the slice category given by: <An\\\n",
       " evaluated morphism in LazyCategory( Rows( Q[x,y] ) )>"
      ]
     },
     "execution_count": 24,
     "metadata": {},
     "output_type": "execute_result"
    }
   ],
   "source": [
    "K = K / S / L"
   ]
  },
  {
   "cell_type": "code",
   "execution_count": 25,
   "metadata": {},
   "outputs": [
    {
     "data": {
      "text/plain": [
       "GAP: An object in the poset given by: An object in the slice category given by: <A \\\n",
       "morphism in LazyCategory( Rows( Q[x,y] ) )>"
      ]
     },
     "execution_count": 25,
     "metadata": {},
     "output_type": "execute_result"
    }
   ],
   "source": [
    "IqJ = InternalHom( J, I )"
   ]
  },
  {
   "cell_type": "code",
   "execution_count": 26,
   "metadata": {
    "scrolled": false
   },
   "outputs": [
    {
     "data": {
      "image/svg+xml": [
       "<?xml version=\"1.0\" encoding=\"UTF-8\" standalone=\"no\"?>\n",
       "<!DOCTYPE svg PUBLIC \"-//W3C//DTD SVG 1.1//EN\"\n",
       " \"http://www.w3.org/Graphics/SVG/1.1/DTD/svg11.dtd\">\n",
       "<!-- Generated by graphviz version 2.44.0 (20200408.0750)\n",
       " -->\n",
       "<!-- Title: hgn Pages: 1 -->\n",
       "<svg width=\"1116pt\" height=\"1798pt\"\n",
       " viewBox=\"0.00 0.00 1116.17 1797.89\" xmlns=\"http://www.w3.org/2000/svg\" xmlns:xlink=\"http://www.w3.org/1999/xlink\">\n",
       "<g id=\"graph0\" class=\"graph\" transform=\"scale(1 1) rotate(0) translate(4 1793.89)\">\n",
       "<title>hgn</title>\n",
       "<polygon fill=\"white\" stroke=\"transparent\" points=\"-4,4 -4,-1793.89 1112.17,-1793.89 1112.17,4 -4,4\"/>\n",
       "<!-- 1 -->\n",
       "<g id=\"node1\" class=\"node\">\n",
       "<title>1</title>\n",
       "<ellipse fill=\"none\" stroke=\"black\" cx=\"224.05\" cy=\"-1741.81\" rx=\"48.17\" ry=\"48.17\"/>\n",
       "<text text-anchor=\"middle\" x=\"224.05\" y=\"-1760.61\" font-family=\"Times,serif\" font-size=\"14.00\">[1]</text>\n",
       "<text text-anchor=\"middle\" x=\"224.05\" y=\"-1745.61\" font-family=\"Times,serif\" font-size=\"14.00\">primitive</text>\n",
       "<text text-anchor=\"middle\" x=\"224.05\" y=\"-1730.61\" font-family=\"Times,serif\" font-size=\"14.00\">object</text>\n",
       "<text text-anchor=\"middle\" x=\"224.05\" y=\"-1715.61\" font-family=\"Times,serif\" font-size=\"14.00\">&lt;R&gt;</text>\n",
       "</g>\n",
       "<!-- 2 -->\n",
       "<g id=\"node2\" class=\"node\">\n",
       "<title>2</title>\n",
       "<ellipse fill=\"none\" stroke=\"black\" cx=\"224.05\" cy=\"-1585.6\" rx=\"72.25\" ry=\"72.25\"/>\n",
       "<text text-anchor=\"middle\" x=\"224.05\" y=\"-1596.9\" font-family=\"Times,serif\" font-size=\"14.00\">[2]</text>\n",
       "<text text-anchor=\"middle\" x=\"224.05\" y=\"-1581.9\" font-family=\"Times,serif\" font-size=\"14.00\">Internal</text>\n",
       "<text text-anchor=\"middle\" x=\"224.05\" y=\"-1566.9\" font-family=\"Times,serif\" font-size=\"14.00\">HomOnObjects</text>\n",
       "</g>\n",
       "<!-- 1&#45;&gt;2 -->\n",
       "<g id=\"edge1\" class=\"edge\">\n",
       "<title>1&#45;&gt;2</title>\n",
       "<path fill=\"none\" stroke=\"black\" d=\"M217.79,-1694.13C217.5,-1685.75 217.34,-1676.81 217.3,-1667.79\"/>\n",
       "<polygon fill=\"black\" stroke=\"black\" points=\"220.8,-1667.61 217.31,-1657.61 213.8,-1667.6 220.8,-1667.61\"/>\n",
       "</g>\n",
       "<!-- 1&#45;&gt;2 -->\n",
       "<g id=\"edge2\" class=\"edge\">\n",
       "<title>1&#45;&gt;2</title>\n",
       "<path fill=\"none\" stroke=\"black\" d=\"M230.3,-1694.13C230.59,-1685.75 230.75,-1676.81 230.79,-1667.79\"/>\n",
       "<polygon fill=\"black\" stroke=\"black\" points=\"234.29,-1667.6 230.78,-1657.61 227.29,-1667.61 234.29,-1667.6\"/>\n",
       "</g>\n",
       "<!-- 3 -->\n",
       "<g id=\"node3\" class=\"node\">\n",
       "<title>3</title>\n",
       "<ellipse fill=\"none\" stroke=\"black\" cx=\"214.05\" cy=\"-1360.1\" rx=\"108.79\" ry=\"108.79\"/>\n",
       "<text text-anchor=\"middle\" x=\"214.05\" y=\"-1363.9\" font-family=\"Times,serif\" font-size=\"14.00\">[3]</text>\n",
       "<text text-anchor=\"middle\" x=\"214.05\" y=\"-1348.9\" font-family=\"Times,serif\" font-size=\"14.00\">TensorProductOnObjects</text>\n",
       "</g>\n",
       "<!-- 1&#45;&gt;3 -->\n",
       "<g id=\"edge3\" class=\"edge\">\n",
       "<title>1&#45;&gt;3</title>\n",
       "<path fill=\"none\" stroke=\"black\" d=\"M185.34,-1712.49C169.01,-1698.13 151.77,-1679.19 143.05,-1657.73 117.95,-1596.05 134.64,-1523.39 158.12,-1465.42\"/>\n",
       "<polygon fill=\"black\" stroke=\"black\" points=\"161.48,-1466.46 162.1,-1455.88 155.02,-1463.77 161.48,-1466.46\"/>\n",
       "</g>\n",
       "<!-- 4 -->\n",
       "<g id=\"node4\" class=\"node\">\n",
       "<title>4</title>\n",
       "<ellipse fill=\"none\" stroke=\"black\" cx=\"94.05\" cy=\"-1112.67\" rx=\"94.09\" ry=\"94.09\"/>\n",
       "<text text-anchor=\"middle\" x=\"94.05\" y=\"-1123.97\" font-family=\"Times,serif\" font-size=\"14.00\">[4]</text>\n",
       "<text text-anchor=\"middle\" x=\"94.05\" y=\"-1108.97\" font-family=\"Times,serif\" font-size=\"14.00\">EvaluationMorphism</text>\n",
       "<text text-anchor=\"middle\" x=\"94.05\" y=\"-1093.97\" font-family=\"Times,serif\" font-size=\"14.00\">WithGivenSource</text>\n",
       "</g>\n",
       "<!-- 1&#45;&gt;4 -->\n",
       "<g id=\"edge4\" class=\"edge\">\n",
       "<title>1&#45;&gt;4</title>\n",
       "<path fill=\"none\" stroke=\"black\" d=\"M181.09,-1720.06C158.15,-1705.43 131.85,-1683.82 117.05,-1657.73 38.65,-1519.6 49.3,-1328.71 68.47,-1213.63\"/>\n",
       "<polygon fill=\"black\" stroke=\"black\" points=\"71.92,-1214.21 70.16,-1203.76 65.02,-1213.02 71.92,-1214.21\"/>\n",
       "</g>\n",
       "<!-- 1&#45;&gt;4 -->\n",
       "<g id=\"edge5\" class=\"edge\">\n",
       "<title>1&#45;&gt;4</title>\n",
       "<path fill=\"none\" stroke=\"black\" d=\"M185.86,-1712.14C167.68,-1698.07 147.38,-1679.45 135.05,-1657.73 57.29,-1520.74 67.13,-1331.85 81.05,-1216.48\"/>\n",
       "<polygon fill=\"black\" stroke=\"black\" points=\"84.56,-1216.6 82.32,-1206.24 77.61,-1215.74 84.56,-1216.6\"/>\n",
       "</g>\n",
       "<!-- 7 -->\n",
       "<g id=\"node7\" class=\"node\">\n",
       "<title>7</title>\n",
       "<ellipse fill=\"none\" stroke=\"black\" cx=\"366.05\" cy=\"-1585.6\" rx=\"52.15\" ry=\"52.15\"/>\n",
       "<text text-anchor=\"middle\" x=\"366.05\" y=\"-1596.9\" font-family=\"Times,serif\" font-size=\"14.00\">[7]</text>\n",
       "<text text-anchor=\"middle\" x=\"366.05\" y=\"-1581.9\" font-family=\"Times,serif\" font-size=\"14.00\">Identity</text>\n",
       "<text text-anchor=\"middle\" x=\"366.05\" y=\"-1566.9\" font-family=\"Times,serif\" font-size=\"14.00\">Morphism</text>\n",
       "</g>\n",
       "<!-- 1&#45;&gt;7 -->\n",
       "<g id=\"edge6\" class=\"edge\">\n",
       "<title>1&#45;&gt;7</title>\n",
       "<path fill=\"none\" stroke=\"black\" d=\"M257.65,-1707.33C272.41,-1692.36 289.82,-1674.38 305.05,-1657.73 311.96,-1650.17 319.17,-1642.02 326.1,-1634.03\"/>\n",
       "<polygon fill=\"black\" stroke=\"black\" points=\"329.04,-1635.98 332.93,-1626.12 323.74,-1631.41 329.04,-1635.98\"/>\n",
       "</g>\n",
       "<!-- 11 -->\n",
       "<g id=\"node11\" class=\"node\">\n",
       "<title>11</title>\n",
       "<ellipse fill=\"none\" stroke=\"black\" cx=\"630.05\" cy=\"-1585.6\" rx=\"72.25\" ry=\"72.25\"/>\n",
       "<text text-anchor=\"middle\" x=\"630.05\" y=\"-1596.9\" font-family=\"Times,serif\" font-size=\"14.00\">[11]</text>\n",
       "<text text-anchor=\"middle\" x=\"630.05\" y=\"-1581.9\" font-family=\"Times,serif\" font-size=\"14.00\">Internal</text>\n",
       "<text text-anchor=\"middle\" x=\"630.05\" y=\"-1566.9\" font-family=\"Times,serif\" font-size=\"14.00\">HomOnObjects</text>\n",
       "</g>\n",
       "<!-- 1&#45;&gt;11 -->\n",
       "<g id=\"edge7\" class=\"edge\">\n",
       "<title>1&#45;&gt;11</title>\n",
       "<path fill=\"none\" stroke=\"black\" d=\"M271.75,-1735.7C337.41,-1727.13 457.87,-1705.82 549.05,-1657.73 556.66,-1653.71 564.15,-1648.84 571.32,-1643.56\"/>\n",
       "<polygon fill=\"black\" stroke=\"black\" points=\"573.8,-1646.06 579.58,-1637.18 569.52,-1640.52 573.8,-1646.06\"/>\n",
       "</g>\n",
       "<!-- 2&#45;&gt;3 -->\n",
       "<g id=\"edge8\" class=\"edge\">\n",
       "<title>2&#45;&gt;3</title>\n",
       "<path fill=\"none\" stroke=\"black\" d=\"M220.85,-1513.27C220.37,-1502.4 219.85,-1490.94 219.34,-1479.39\"/>\n",
       "<polygon fill=\"black\" stroke=\"black\" points=\"222.83,-1479.06 218.88,-1469.23 215.83,-1479.37 222.83,-1479.06\"/>\n",
       "</g>\n",
       "<!-- 9 -->\n",
       "<g id=\"node9\" class=\"node\">\n",
       "<title>9</title>\n",
       "<ellipse fill=\"none\" stroke=\"black\" cx=\"300.05\" cy=\"-1112.67\" rx=\"67.76\" ry=\"67.76\"/>\n",
       "<text text-anchor=\"middle\" x=\"300.05\" y=\"-1131.47\" font-family=\"Times,serif\" font-size=\"14.00\">[9]</text>\n",
       "<text text-anchor=\"middle\" x=\"300.05\" y=\"-1116.47\" font-family=\"Times,serif\" font-size=\"14.00\">RightUnitor</text>\n",
       "<text text-anchor=\"middle\" x=\"300.05\" y=\"-1101.47\" font-family=\"Times,serif\" font-size=\"14.00\">WithGiven</text>\n",
       "<text text-anchor=\"middle\" x=\"300.05\" y=\"-1086.47\" font-family=\"Times,serif\" font-size=\"14.00\">TensorProduct</text>\n",
       "</g>\n",
       "<!-- 2&#45;&gt;9 -->\n",
       "<g id=\"edge9\" class=\"edge\">\n",
       "<title>2&#45;&gt;9</title>\n",
       "<path fill=\"none\" stroke=\"black\" d=\"M278.54,-1537.86C302.24,-1516.15 326,-1491.98 332.05,-1477.48 371.48,-1382.82 348.31,-1262.55 325.91,-1186.82\"/>\n",
       "<polygon fill=\"black\" stroke=\"black\" points=\"329.15,-1185.45 322.9,-1176.9 322.45,-1187.48 329.15,-1185.45\"/>\n",
       "</g>\n",
       "<!-- 15 -->\n",
       "<g id=\"node15\" class=\"node\">\n",
       "<title>15</title>\n",
       "<ellipse fill=\"none\" stroke=\"black\" cx=\"496.05\" cy=\"-1360.1\" rx=\"117.26\" ry=\"117.26\"/>\n",
       "<text text-anchor=\"middle\" x=\"496.05\" y=\"-1371.4\" font-family=\"Times,serif\" font-size=\"14.00\">[15]</text>\n",
       "<text text-anchor=\"middle\" x=\"496.05\" y=\"-1356.4\" font-family=\"Times,serif\" font-size=\"14.00\">InternalHomOnMorphisms</text>\n",
       "<text text-anchor=\"middle\" x=\"496.05\" y=\"-1341.4\" font-family=\"Times,serif\" font-size=\"14.00\">WithGivenInternalHoms</text>\n",
       "</g>\n",
       "<!-- 2&#45;&gt;15 -->\n",
       "<g id=\"edge10\" class=\"edge\">\n",
       "<title>2&#45;&gt;15</title>\n",
       "<path fill=\"none\" stroke=\"black\" d=\"M276.95,-1535.76C286.09,-1528.02 295.67,-1520.32 305.05,-1513.48 330.16,-1495.14 339.98,-1495.89 365.05,-1477.48 377.64,-1468.23 390.44,-1458.02 402.88,-1447.59\"/>\n",
       "<polygon fill=\"black\" stroke=\"black\" points=\"405.2,-1450.21 410.57,-1441.07 400.67,-1444.87 405.2,-1450.21\"/>\n",
       "</g>\n",
       "<!-- 3&#45;&gt;4 -->\n",
       "<g id=\"edge11\" class=\"edge\">\n",
       "<title>3&#45;&gt;4</title>\n",
       "<path fill=\"none\" stroke=\"black\" d=\"M166.45,-1261.75C157.59,-1243.63 148.35,-1224.74 139.55,-1206.75\"/>\n",
       "<polygon fill=\"black\" stroke=\"black\" points=\"142.54,-1204.88 135,-1197.43 136.25,-1207.95 142.54,-1204.88\"/>\n",
       "</g>\n",
       "<!-- 3&#45;&gt;9 -->\n",
       "<g id=\"edge12\" class=\"edge\">\n",
       "<title>3&#45;&gt;9</title>\n",
       "<path fill=\"none\" stroke=\"black\" d=\"M249.77,-1257.15C258.05,-1233.52 266.7,-1208.82 274.45,-1186.72\"/>\n",
       "<polygon fill=\"black\" stroke=\"black\" points=\"277.82,-1187.68 277.82,-1177.09 271.21,-1185.37 277.82,-1187.68\"/>\n",
       "</g>\n",
       "<!-- 10 -->\n",
       "<g id=\"node10\" class=\"node\">\n",
       "<title>10</title>\n",
       "<ellipse fill=\"none\" stroke=\"black\" cx=\"169.05\" cy=\"-928.18\" rx=\"54.39\" ry=\"54.39\"/>\n",
       "<text text-anchor=\"middle\" x=\"169.05\" y=\"-939.48\" font-family=\"Times,serif\" font-size=\"14.00\">[10]</text>\n",
       "<text text-anchor=\"middle\" x=\"169.05\" y=\"-924.48\" font-family=\"Times,serif\" font-size=\"14.00\">Inverse</text>\n",
       "<text text-anchor=\"middle\" x=\"169.05\" y=\"-909.48\" font-family=\"Times,serif\" font-size=\"14.00\">Immutable</text>\n",
       "</g>\n",
       "<!-- 4&#45;&gt;10 -->\n",
       "<g id=\"edge13\" class=\"edge\">\n",
       "<title>4&#45;&gt;10</title>\n",
       "<path fill=\"none\" stroke=\"black\" d=\"M129.46,-1025.5C134.67,-1012.83 139.93,-1000.03 144.84,-988.08\"/>\n",
       "<polygon fill=\"black\" stroke=\"black\" points=\"148.13,-989.28 148.7,-978.7 141.66,-986.62 148.13,-989.28\"/>\n",
       "</g>\n",
       "<!-- 5 -->\n",
       "<g id=\"node5\" class=\"node\">\n",
       "<title>5</title>\n",
       "<ellipse fill=\"none\" stroke=\"black\" cx=\"1036.05\" cy=\"-1741.81\" rx=\"48.17\" ry=\"48.17\"/>\n",
       "<text text-anchor=\"middle\" x=\"1036.05\" y=\"-1760.61\" font-family=\"Times,serif\" font-size=\"14.00\">[5]</text>\n",
       "<text text-anchor=\"middle\" x=\"1036.05\" y=\"-1745.61\" font-family=\"Times,serif\" font-size=\"14.00\">primitive</text>\n",
       "<text text-anchor=\"middle\" x=\"1036.05\" y=\"-1730.61\" font-family=\"Times,serif\" font-size=\"14.00\">object</text>\n",
       "<text text-anchor=\"middle\" x=\"1036.05\" y=\"-1715.61\" font-family=\"Times,serif\" font-size=\"14.00\">&lt;R^i&gt;</text>\n",
       "</g>\n",
       "<!-- 14 -->\n",
       "<g id=\"node14\" class=\"node\">\n",
       "<title>14</title>\n",
       "<ellipse fill=\"none\" stroke=\"black\" cx=\"1036.05\" cy=\"-1585.6\" rx=\"72.25\" ry=\"72.25\"/>\n",
       "<text text-anchor=\"middle\" x=\"1036.05\" y=\"-1596.9\" font-family=\"Times,serif\" font-size=\"14.00\">[14]</text>\n",
       "<text text-anchor=\"middle\" x=\"1036.05\" y=\"-1581.9\" font-family=\"Times,serif\" font-size=\"14.00\">Internal</text>\n",
       "<text text-anchor=\"middle\" x=\"1036.05\" y=\"-1566.9\" font-family=\"Times,serif\" font-size=\"14.00\">HomOnObjects</text>\n",
       "</g>\n",
       "<!-- 5&#45;&gt;14 -->\n",
       "<g id=\"edge14\" class=\"edge\">\n",
       "<title>5&#45;&gt;14</title>\n",
       "<path fill=\"none\" stroke=\"black\" d=\"M1036.05,-1693.71C1036.05,-1685.56 1036.05,-1676.88 1036.05,-1668.12\"/>\n",
       "<polygon fill=\"black\" stroke=\"black\" points=\"1039.55,-1667.84 1036.05,-1657.84 1032.55,-1667.84 1039.55,-1667.84\"/>\n",
       "</g>\n",
       "<!-- 6 -->\n",
       "<g id=\"node6\" class=\"node\">\n",
       "<title>6</title>\n",
       "<ellipse fill=\"none\" stroke=\"black\" cx=\"894.05\" cy=\"-1741.81\" rx=\"48.17\" ry=\"48.17\"/>\n",
       "<text text-anchor=\"middle\" x=\"894.05\" y=\"-1760.61\" font-family=\"Times,serif\" font-size=\"14.00\">[6]</text>\n",
       "<text text-anchor=\"middle\" x=\"894.05\" y=\"-1745.61\" font-family=\"Times,serif\" font-size=\"14.00\">primitive</text>\n",
       "<text text-anchor=\"middle\" x=\"894.05\" y=\"-1730.61\" font-family=\"Times,serif\" font-size=\"14.00\">object</text>\n",
       "<text text-anchor=\"middle\" x=\"894.05\" y=\"-1715.61\" font-family=\"Times,serif\" font-size=\"14.00\">&lt;R^j&gt;</text>\n",
       "</g>\n",
       "<!-- 6&#45;&gt;11 -->\n",
       "<g id=\"edge15\" class=\"edge\">\n",
       "<title>6&#45;&gt;11</title>\n",
       "<path fill=\"none\" stroke=\"black\" d=\"M848.9,-1724.62C810.65,-1709.92 755.16,-1686.21 711.05,-1657.73 703.93,-1653.13 696.79,-1647.94 689.87,-1642.5\"/>\n",
       "<polygon fill=\"black\" stroke=\"black\" points=\"691.83,-1639.58 681.85,-1636.02 687.43,-1645.03 691.83,-1639.58\"/>\n",
       "</g>\n",
       "<!-- 13 -->\n",
       "<g id=\"node13\" class=\"node\">\n",
       "<title>13</title>\n",
       "<ellipse fill=\"none\" stroke=\"black\" cx=\"894.05\" cy=\"-1585.6\" rx=\"52.15\" ry=\"52.15\"/>\n",
       "<text text-anchor=\"middle\" x=\"894.05\" y=\"-1596.9\" font-family=\"Times,serif\" font-size=\"14.00\">[13]</text>\n",
       "<text text-anchor=\"middle\" x=\"894.05\" y=\"-1581.9\" font-family=\"Times,serif\" font-size=\"14.00\">Identity</text>\n",
       "<text text-anchor=\"middle\" x=\"894.05\" y=\"-1566.9\" font-family=\"Times,serif\" font-size=\"14.00\">Morphism</text>\n",
       "</g>\n",
       "<!-- 6&#45;&gt;13 -->\n",
       "<g id=\"edge16\" class=\"edge\">\n",
       "<title>6&#45;&gt;13</title>\n",
       "<path fill=\"none\" stroke=\"black\" d=\"M894.05,-1693.71C894.05,-1679.38 894.05,-1663.43 894.05,-1648.3\"/>\n",
       "<polygon fill=\"black\" stroke=\"black\" points=\"897.55,-1647.98 894.05,-1637.98 890.55,-1647.98 897.55,-1647.98\"/>\n",
       "</g>\n",
       "<!-- 6&#45;&gt;14 -->\n",
       "<g id=\"edge17\" class=\"edge\">\n",
       "<title>6&#45;&gt;14</title>\n",
       "<path fill=\"none\" stroke=\"black\" d=\"M926.27,-1705.82C942.3,-1688.41 962.14,-1666.86 980.53,-1646.89\"/>\n",
       "<polygon fill=\"black\" stroke=\"black\" points=\"983.3,-1649.05 987.49,-1639.33 978.15,-1644.31 983.3,-1649.05\"/>\n",
       "</g>\n",
       "<!-- 7&#45;&gt;15 -->\n",
       "<g id=\"edge18\" class=\"edge\">\n",
       "<title>7&#45;&gt;15</title>\n",
       "<path fill=\"none\" stroke=\"black\" d=\"M392.04,-1539.91C403.71,-1519.85 418.03,-1495.23 432.28,-1470.73\"/>\n",
       "<polygon fill=\"black\" stroke=\"black\" points=\"435.31,-1472.49 437.31,-1462.08 429.26,-1468.97 435.31,-1472.49\"/>\n",
       "</g>\n",
       "<!-- 8 -->\n",
       "<g id=\"node8\" class=\"node\">\n",
       "<title>8</title>\n",
       "<ellipse fill=\"none\" stroke=\"black\" cx=\"488.05\" cy=\"-1585.6\" rx=\"51.74\" ry=\"51.74\"/>\n",
       "<text text-anchor=\"middle\" x=\"488.05\" y=\"-1604.4\" font-family=\"Times,serif\" font-size=\"14.00\">[8]</text>\n",
       "<text text-anchor=\"middle\" x=\"488.05\" y=\"-1589.4\" font-family=\"Times,serif\" font-size=\"14.00\">primitive</text>\n",
       "<text text-anchor=\"middle\" x=\"488.05\" y=\"-1574.4\" font-family=\"Times,serif\" font-size=\"14.00\">morphism</text>\n",
       "<text text-anchor=\"middle\" x=\"488.05\" y=\"-1559.4\" font-family=\"Times,serif\" font-size=\"14.00\">&lt;J&gt;</text>\n",
       "</g>\n",
       "<!-- 8&#45;&gt;15 -->\n",
       "<g id=\"edge19\" class=\"edge\">\n",
       "<title>8&#45;&gt;15</title>\n",
       "<path fill=\"none\" stroke=\"black\" d=\"M489.86,-1533.89C490.36,-1519.91 490.93,-1504.11 491.51,-1487.87\"/>\n",
       "<polygon fill=\"black\" stroke=\"black\" points=\"495.01,-1487.83 491.87,-1477.71 488.02,-1487.58 495.01,-1487.83\"/>\n",
       "</g>\n",
       "<!-- 16 -->\n",
       "<g id=\"node16\" class=\"node\">\n",
       "<title>16</title>\n",
       "<ellipse fill=\"none\" stroke=\"black\" cx=\"300.05\" cy=\"-789.65\" rx=\"48.17\" ry=\"48.17\"/>\n",
       "<text text-anchor=\"middle\" x=\"300.05\" y=\"-800.95\" font-family=\"Times,serif\" font-size=\"14.00\">[16]</text>\n",
       "<text text-anchor=\"middle\" x=\"300.05\" y=\"-785.95\" font-family=\"Times,serif\" font-size=\"14.00\">Pre</text>\n",
       "<text text-anchor=\"middle\" x=\"300.05\" y=\"-770.95\" font-family=\"Times,serif\" font-size=\"14.00\">Compose</text>\n",
       "</g>\n",
       "<!-- 9&#45;&gt;16 -->\n",
       "<g id=\"edge20\" class=\"edge\">\n",
       "<title>9&#45;&gt;16</title>\n",
       "<path fill=\"none\" stroke=\"black\" d=\"M300.05,-1044.77C300.05,-986.76 300.05,-903.69 300.05,-848.51\"/>\n",
       "<polygon fill=\"black\" stroke=\"black\" points=\"303.55,-848.2 300.05,-838.2 296.55,-848.2 303.55,-848.2\"/>\n",
       "</g>\n",
       "<!-- 10&#45;&gt;16 -->\n",
       "<g id=\"edge21\" class=\"edge\">\n",
       "<title>10&#45;&gt;16</title>\n",
       "<path fill=\"none\" stroke=\"black\" d=\"M206.58,-888.06C223.26,-870.68 242.9,-850.21 259.87,-832.52\"/>\n",
       "<polygon fill=\"black\" stroke=\"black\" points=\"262.56,-834.77 266.96,-825.13 257.51,-829.93 262.56,-834.77\"/>\n",
       "</g>\n",
       "<!-- 11&#45;&gt;15 -->\n",
       "<g id=\"edge22\" class=\"edge\">\n",
       "<title>11&#45;&gt;15</title>\n",
       "<path fill=\"none\" stroke=\"black\" d=\"M593.25,-1523.23C583.4,-1506.8 572.44,-1488.52 561.54,-1470.34\"/>\n",
       "<polygon fill=\"black\" stroke=\"black\" points=\"564.34,-1468.2 556.19,-1461.42 558.33,-1471.8 564.34,-1468.2\"/>\n",
       "</g>\n",
       "<!-- 18 -->\n",
       "<g id=\"node18\" class=\"node\">\n",
       "<title>18</title>\n",
       "<ellipse fill=\"none\" stroke=\"black\" cx=\"772.05\" cy=\"-1360.1\" rx=\"117.26\" ry=\"117.26\"/>\n",
       "<text text-anchor=\"middle\" x=\"772.05\" y=\"-1371.4\" font-family=\"Times,serif\" font-size=\"14.00\">[18]</text>\n",
       "<text text-anchor=\"middle\" x=\"772.05\" y=\"-1356.4\" font-family=\"Times,serif\" font-size=\"14.00\">InternalHomOnMorphisms</text>\n",
       "<text text-anchor=\"middle\" x=\"772.05\" y=\"-1341.4\" font-family=\"Times,serif\" font-size=\"14.00\">WithGivenInternalHoms</text>\n",
       "</g>\n",
       "<!-- 11&#45;&gt;18 -->\n",
       "<g id=\"edge23\" class=\"edge\">\n",
       "<title>11&#45;&gt;18</title>\n",
       "<path fill=\"none\" stroke=\"black\" d=\"M668.29,-1524.41C679.31,-1507.07 691.67,-1487.6 703.93,-1468.32\"/>\n",
       "<polygon fill=\"black\" stroke=\"black\" points=\"706.95,-1470.09 709.35,-1459.77 701.04,-1466.34 706.95,-1470.09\"/>\n",
       "</g>\n",
       "<!-- 12 -->\n",
       "<g id=\"node12\" class=\"node\">\n",
       "<title>12</title>\n",
       "<ellipse fill=\"none\" stroke=\"black\" cx=\"772.05\" cy=\"-1585.6\" rx=\"51.74\" ry=\"51.74\"/>\n",
       "<text text-anchor=\"middle\" x=\"772.05\" y=\"-1604.4\" font-family=\"Times,serif\" font-size=\"14.00\">[12]</text>\n",
       "<text text-anchor=\"middle\" x=\"772.05\" y=\"-1589.4\" font-family=\"Times,serif\" font-size=\"14.00\">primitive</text>\n",
       "<text text-anchor=\"middle\" x=\"772.05\" y=\"-1574.4\" font-family=\"Times,serif\" font-size=\"14.00\">morphism</text>\n",
       "<text text-anchor=\"middle\" x=\"772.05\" y=\"-1559.4\" font-family=\"Times,serif\" font-size=\"14.00\">&lt;I&gt;</text>\n",
       "</g>\n",
       "<!-- 12&#45;&gt;18 -->\n",
       "<g id=\"edge24\" class=\"edge\">\n",
       "<title>12&#45;&gt;18</title>\n",
       "<path fill=\"none\" stroke=\"black\" d=\"M772.05,-1533.89C772.05,-1519.91 772.05,-1504.11 772.05,-1487.87\"/>\n",
       "<polygon fill=\"black\" stroke=\"black\" points=\"775.55,-1487.71 772.05,-1477.71 768.55,-1487.71 775.55,-1487.71\"/>\n",
       "</g>\n",
       "<!-- 13&#45;&gt;18 -->\n",
       "<g id=\"edge25\" class=\"edge\">\n",
       "<title>13&#45;&gt;18</title>\n",
       "<path fill=\"none\" stroke=\"black\" d=\"M869.36,-1539.37C858.74,-1519.92 845.81,-1496.24 832.89,-1472.57\"/>\n",
       "<polygon fill=\"black\" stroke=\"black\" points=\"835.81,-1470.61 827.95,-1463.51 829.67,-1473.96 835.81,-1470.61\"/>\n",
       "</g>\n",
       "<!-- 14&#45;&gt;18 -->\n",
       "<g id=\"edge26\" class=\"edge\">\n",
       "<title>14&#45;&gt;18</title>\n",
       "<path fill=\"none\" stroke=\"black\" d=\"M982.19,-1536.96C973.16,-1529.08 963.86,-1521.02 955.05,-1513.48 927.62,-1490.02 897.62,-1464.85 869.99,-1441.85\"/>\n",
       "<polygon fill=\"black\" stroke=\"black\" points=\"872.19,-1439.13 862.26,-1435.42 867.71,-1444.51 872.19,-1439.13\"/>\n",
       "</g>\n",
       "<!-- 17 -->\n",
       "<g id=\"node17\" class=\"node\">\n",
       "<title>17</title>\n",
       "<ellipse fill=\"none\" stroke=\"black\" cx=\"496.05\" cy=\"-657.48\" rx=\"48.17\" ry=\"48.17\"/>\n",
       "<text text-anchor=\"middle\" x=\"496.05\" y=\"-668.78\" font-family=\"Times,serif\" font-size=\"14.00\">[17]</text>\n",
       "<text text-anchor=\"middle\" x=\"496.05\" y=\"-653.78\" font-family=\"Times,serif\" font-size=\"14.00\">Pre</text>\n",
       "<text text-anchor=\"middle\" x=\"496.05\" y=\"-638.78\" font-family=\"Times,serif\" font-size=\"14.00\">Compose</text>\n",
       "</g>\n",
       "<!-- 15&#45;&gt;17 -->\n",
       "<g id=\"edge27\" class=\"edge\">\n",
       "<title>15&#45;&gt;17</title>\n",
       "<path fill=\"none\" stroke=\"black\" d=\"M496.05,-1242.62C496.05,-1090.75 496.05,-830.96 496.05,-716.05\"/>\n",
       "<polygon fill=\"black\" stroke=\"black\" points=\"499.55,-715.72 496.05,-705.72 492.55,-715.72 499.55,-715.72\"/>\n",
       "</g>\n",
       "<!-- 16&#45;&gt;17 -->\n",
       "<g id=\"edge28\" class=\"edge\">\n",
       "<title>16&#45;&gt;17</title>\n",
       "<path fill=\"none\" stroke=\"black\" d=\"M339.71,-762.31C370.92,-741.58 414.56,-712.6 447.79,-690.53\"/>\n",
       "<polygon fill=\"black\" stroke=\"black\" points=\"450.05,-693.23 456.44,-684.79 446.17,-687.4 450.05,-693.23\"/>\n",
       "</g>\n",
       "<!-- 19 -->\n",
       "<g id=\"node19\" class=\"node\">\n",
       "<title>19</title>\n",
       "<ellipse fill=\"none\" stroke=\"black\" cx=\"634.05\" cy=\"-463.8\" rx=\"109.7\" ry=\"109.7\"/>\n",
       "<text text-anchor=\"middle\" x=\"634.05\" y=\"-467.6\" font-family=\"Times,serif\" font-size=\"14.00\">[19]</text>\n",
       "<text text-anchor=\"middle\" x=\"634.05\" y=\"-452.6\" font-family=\"Times,serif\" font-size=\"14.00\">BiasedWeakFiberProduct</text>\n",
       "</g>\n",
       "<!-- 17&#45;&gt;19 -->\n",
       "<g id=\"edge29\" class=\"edge\">\n",
       "<title>17&#45;&gt;19</title>\n",
       "<path fill=\"none\" stroke=\"black\" d=\"M523.97,-617.69C535.74,-601.35 550.01,-581.52 564.33,-561.64\"/>\n",
       "<polygon fill=\"black\" stroke=\"black\" points=\"567.24,-563.59 570.24,-553.43 561.56,-559.5 567.24,-563.59\"/>\n",
       "</g>\n",
       "<!-- 20 -->\n",
       "<g id=\"node20\" class=\"node\">\n",
       "<title>20</title>\n",
       "<ellipse fill=\"none\" stroke=\"black\" cx=\"634.05\" cy=\"-159.1\" rx=\"159.2\" ry=\"159.2\"/>\n",
       "<text text-anchor=\"middle\" x=\"634.05\" y=\"-170.4\" font-family=\"Times,serif\" font-size=\"14.00\">[20]</text>\n",
       "<text text-anchor=\"middle\" x=\"634.05\" y=\"-155.4\" font-family=\"Times,serif\" font-size=\"14.00\">ProjectionOfBiasedWeakFiberProduct</text>\n",
       "<text text-anchor=\"middle\" x=\"634.05\" y=\"-140.4\" font-family=\"Times,serif\" font-size=\"14.00\">WithGivenBiasedWeakFiberProduct</text>\n",
       "</g>\n",
       "<!-- 17&#45;&gt;20 -->\n",
       "<g id=\"edge30\" class=\"edge\">\n",
       "<title>17&#45;&gt;20</title>\n",
       "<path fill=\"none\" stroke=\"black\" d=\"M492.1,-609.38C488.58,-548.8 487.57,-441.06 515.05,-354.2 520.93,-335.58 528.98,-316.93 538.13,-298.94\"/>\n",
       "<polygon fill=\"black\" stroke=\"black\" points=\"541.48,-300.08 543.01,-289.6 535.28,-296.84 541.48,-300.08\"/>\n",
       "</g>\n",
       "<!-- 18&#45;&gt;19 -->\n",
       "<g id=\"edge31\" class=\"edge\">\n",
       "<title>18&#45;&gt;19</title>\n",
       "<path fill=\"none\" stroke=\"black\" d=\"M736.51,-1248.13C712.08,-1162.05 684.05,-1039.27 684.05,-929.18 684.05,-929.18 684.05,-929.18 684.05,-788.65 684.05,-719.13 672.65,-642.19 660.74,-580.76\"/>\n",
       "<polygon fill=\"black\" stroke=\"black\" points=\"664.12,-579.78 658.75,-570.64 657.25,-581.13 664.12,-579.78\"/>\n",
       "</g>\n",
       "<!-- 18&#45;&gt;20 -->\n",
       "<g id=\"edge32\" class=\"edge\">\n",
       "<title>18&#45;&gt;20</title>\n",
       "<path fill=\"none\" stroke=\"black\" d=\"M772.05,-1242.32C772.05,-1155.85 772.05,-1035.17 772.05,-929.18 772.05,-929.18 772.05,-929.18 772.05,-656.48 772.05,-521.87 793.65,-482.54 753.05,-354.2 747.16,-335.58 739.11,-316.93 729.96,-298.94\"/>\n",
       "<polygon fill=\"black\" stroke=\"black\" points=\"732.81,-296.84 725.08,-289.6 726.61,-300.08 732.81,-296.84\"/>\n",
       "</g>\n",
       "<!-- 19&#45;&gt;20 -->\n",
       "<g id=\"edge33\" class=\"edge\">\n",
       "<title>19&#45;&gt;20</title>\n",
       "<path fill=\"none\" stroke=\"black\" d=\"M634.05,-353.95C634.05,-345.6 634.05,-337.07 634.05,-328.46\"/>\n",
       "<polygon fill=\"black\" stroke=\"black\" points=\"637.55,-328.33 634.05,-318.33 630.55,-328.33 637.55,-328.33\"/>\n",
       "</g>\n",
       "</g>\n",
       "</svg>\n"
      ]
     },
     "metadata": {},
     "output_type": "display_data"
    }
   ],
   "source": [
    "VisualizeInJulia( UnderlyingMorphism( UnderlyingCell( IqJ ) ) )"
   ]
  },
  {
   "cell_type": "code",
   "execution_count": 27,
   "metadata": {},
   "outputs": [
    {
     "name": "stdout",
     "output_type": "stream",
     "text": [
      "1.\t-> evaluting in Rows( Q[x,y] ).........................: ProjectionOfBiased\\\n",
      "WeakFiberProductWithGivenBiasedWeakFiberProduct\n",
      "2.\t -> evaluting in Rows( Q[x,y] ).........................: PreCompose\n",
      "3.\t -> evaluting in Rows( Q[x,y] ).........................: PreCompose\n",
      "4.\t  -> evaluting in Rows( Q[x,y] ).........................: InverseImmutable\n",
      "5.\t  -> evaluting in Rows( Q[x,y] ).........................: EvaluationMorphi\\\n",
      "smWithGivenSource\n",
      "6.\t  -> evaluting in Rows( Q[x,y] ).........................: TensorProductOnO\\\n",
      "bjects\n",
      "7.\t  -> evaluting in Rows( Q[x,y] ).........................: InternalHomOnObj\\\n",
      "ects\n",
      "7.\t  <- evaluted  in Rows( Q[x,y] ).........................: InternalHomOnObj\\\n",
      "ects\n",
      "6.\t  <- evaluted  in Rows( Q[x,y] ).........................: TensorProductOnO\\\n",
      "bjects\n",
      "5.\t  <- evaluted  in Rows( Q[x,y] ).........................: EvaluationMorphi\\\n",
      "smWithGivenSource\n",
      "4.\t  <- evaluted  in Rows( Q[x,y] ).........................: InverseImmutable\n",
      "8.\t   -> evaluting in Rows( Q[x,y] ).........................: RightUnitorWith\\\n",
      "GivenTensorProduct\n",
      "8.\t   <- evaluted  in Rows( Q[x,y] ).........................: RightUnitorWith\\\n",
      "GivenTensorProduct\n",
      "3.\t <- evaluted  in Rows( Q[x,y] ).........................: PreCompose\n",
      "9.\t   -> evaluting in Rows( Q[x,y] ).........................: InternalHomOnMo\\\n",
      "rphismsWithGivenInternalHoms\n",
      "10\n",
      " .\t   -> evaluting in Rows( Q[x,y] ).........................: IdentityMorphis\\\n",
      "m\n",
      "10\n",
      " .\t   <- evaluted  in Rows( Q[x,y] ).........................: IdentityMorphis\\\n",
      "m\n",
      "11\n",
      " .\t   -> evaluting in Rows( Q[x,y] ).........................: InternalHomOnOb\\\n",
      "jects\n",
      "11\n",
      " .\t   <- evaluted  in Rows( Q[x,y] ).........................: InternalHomOnOb\\\n",
      "jects\n",
      "9.\t   <- evaluted  in Rows( Q[x,y] ).........................: InternalHomOnMo\\\n",
      "rphismsWithGivenInternalHoms\n",
      "2.\t <- evaluted  in Rows( Q[x,y] ).........................: PreCompose\n",
      "12\n",
      " .\t   -> evaluting in Rows( Q[x,y] ).........................: InternalHomOnMo\\\n",
      "rphismsWithGivenInternalHoms\n",
      "13\n",
      " .\t   -> evaluting in Rows( Q[x,y] ).........................: InternalHomOnOb\\\n",
      "jects\n",
      "13\n",
      " .\t   <- evaluted  in Rows( Q[x,y] ).........................: InternalHomOnOb\\\n",
      "jects\n",
      "14\n",
      " .\t   -> evaluting in Rows( Q[x,y] ).........................: IdentityMorphis\\\n",
      "m\n",
      "14\n",
      " .\t   <- evaluted  in Rows( Q[x,y] ).........................: IdentityMorphis\\\n",
      "m\n",
      "12\n",
      " .\t   <- evaluted  in Rows( Q[x,y] ).........................: InternalHomOnMo\\\n",
      "rphismsWithGivenInternalHoms\n",
      "15\n",
      " .\t   -> evaluting in Rows( Q[x,y] ).........................: BiasedWeakFiber\\\n",
      "Product\n",
      "15\n",
      " .\t   <- evaluted  in Rows( Q[x,y] ).........................: BiasedWeakFiber\\\n",
      "Product\n",
      "1.\t<- evaluted  in Rows( Q[x,y] ).........................: ProjectionOfBiased\\\n",
      "WeakFiberProductWithGivenBiasedWeakFiberProduct\n"
     ]
    },
    {
     "data": {
      "text/plain": [
       "true"
      ]
     },
     "execution_count": 27,
     "metadata": {},
     "output_type": "execute_result"
    }
   ],
   "source": [
    "K == IqJ"
   ]
  },
  {
   "cell_type": "code",
   "execution_count": null,
   "metadata": {},
   "outputs": [],
   "source": []
  }
 ],
 "metadata": {
  "@webio": {
   "lastCommId": null,
   "lastKernelId": null
  },
  "kernelspec": {
   "display_name": "Julia 1.4.1",
   "language": "julia",
   "name": "julia-1.4"
  },
  "language_info": {
   "file_extension": ".jl",
   "mimetype": "application/julia",
   "name": "julia",
   "version": "1.4.1"
  }
 },
 "nbformat": 4,
 "nbformat_minor": 2
}
