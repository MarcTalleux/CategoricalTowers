{
 "cells": [
  {
   "cell_type": "code",
   "execution_count": 1,
   "metadata": {},
   "outputs": [
    {
     "name": "stdout",
     "output_type": "stream",
     "text": [
      "HomalgProject v\u001b[32m0.4.7\u001b[39m\n",
      "Imported OSCAR's components GAP, Nemo, and Singular\n",
      "Type: ?HomalgProject for more information\n"
     ]
    }
   ],
   "source": [
    "using HomalgProject"
   ]
  },
  {
   "cell_type": "code",
   "execution_count": 2,
   "metadata": {},
   "outputs": [],
   "source": [
    "LoadPackage( \"Locales\" )"
   ]
  },
  {
   "cell_type": "code",
   "execution_count": 3,
   "metadata": {},
   "outputs": [],
   "source": [
    "LoadPackage( \"SubcategoriesForCAP\" )"
   ]
  },
  {
   "cell_type": "code",
   "execution_count": 4,
   "metadata": {},
   "outputs": [],
   "source": [
    "LoadPackage( \"LazyCategories\" )"
   ]
  },
  {
   "cell_type": "code",
   "execution_count": 5,
   "metadata": {},
   "outputs": [
    {
     "data": {
      "text/plain": [
       "GAP: Q"
      ]
     },
     "execution_count": 5,
     "metadata": {},
     "output_type": "execute_result"
    }
   ],
   "source": [
    "Q = HomalgFieldOfRationalsInSingular( )"
   ]
  },
  {
   "cell_type": "code",
   "execution_count": 6,
   "metadata": {},
   "outputs": [
    {
     "data": {
      "text/plain": [
       "GAP: Q[x,y]"
      ]
     },
     "execution_count": 6,
     "metadata": {},
     "output_type": "execute_result"
    }
   ],
   "source": [
    "R = Q[\"x,y\"]"
   ]
  },
  {
   "cell_type": "code",
   "execution_count": 7,
   "metadata": {},
   "outputs": [
    {
     "data": {
      "text/plain": [
       "GAP: Rows( Q[x,y] )"
      ]
     },
     "execution_count": 7,
     "metadata": {},
     "output_type": "execute_result"
    }
   ],
   "source": [
    "P = CategoryOfRows( R )"
   ]
  },
  {
   "cell_type": "code",
   "execution_count": 8,
   "metadata": {},
   "outputs": [
    {
     "data": {
      "text/plain": [
       "GAP: LazyCategory( Rows( Q[x,y] ) )"
      ]
     },
     "execution_count": 8,
     "metadata": {},
     "output_type": "execute_result"
    }
   ],
   "source": [
    "P = LazyCategory( P, show_evaluation = true )"
   ]
  },
  {
   "cell_type": "code",
   "execution_count": 9,
   "metadata": {},
   "outputs": [
    {
     "data": {
      "text/plain": [
       "GAP: <An evaluated morphism in LazyCategory( Rows( Q[x,y] ) )>"
      ]
     },
     "execution_count": 9,
     "metadata": {},
     "output_type": "execute_result"
    }
   ],
   "source": [
    "I = HomalgMatrix( \"[ x ]\", 2, 1, R ) / P"
   ]
  },
  {
   "cell_type": "code",
   "execution_count": 10,
   "metadata": {},
   "outputs": [],
   "source": [
    "SetLabel( Range( I ), \"R\" )"
   ]
  },
  {
   "cell_type": "code",
   "execution_count": 11,
   "metadata": {},
   "outputs": [
    {
     "data": {
      "text/plain": [
       "GAP: <An evaluated morphism in LazyCategory( Rows( Q[x,y] ) )>"
      ]
     },
     "execution_count": 11,
     "metadata": {},
     "output_type": "execute_result"
    }
   ],
   "source": [
    "J = HomalgMatrix( \"[ x, y ]\", 2, 1, R ) / P"
   ]
  },
  {
   "cell_type": "code",
   "execution_count": 12,
   "metadata": {},
   "outputs": [],
   "source": [
    "SetLabel( J, \"J\" ); SetLabel( Source( J ), \"R^j\" )"
   ]
  },
  {
   "cell_type": "code",
   "execution_count": 13,
   "metadata": {},
   "outputs": [
    {
     "data": {
      "text/plain": [
       "GAP: <An evaluated morphism in LazyCategory( Rows( Q[x,y] ) )>"
      ]
     },
     "execution_count": 13,
     "metadata": {},
     "output_type": "execute_result"
    }
   ],
   "source": [
    "IJ = HomalgMatrix( \"[ x^2, x*y ]\", 2, 1, R ) / P"
   ]
  },
  {
   "cell_type": "code",
   "execution_count": 14,
   "metadata": {},
   "outputs": [],
   "source": [
    "SetLabel( IJ, \"IJ\" ); SetLabel( Source( IJ ), \"R^ij\" )"
   ]
  },
  {
   "cell_type": "code",
   "execution_count": 15,
   "metadata": {},
   "outputs": [
    {
     "data": {
      "text/plain": [
       "GAP: SliceCategoryOverTensorUnit( LazyCategory( Rows( Q[x,y] ) ) )"
      ]
     },
     "execution_count": 15,
     "metadata": {},
     "output_type": "execute_result"
    }
   ],
   "source": [
    "S = SliceCategoryOverTensorUnit( P )"
   ]
  },
  {
   "cell_type": "code",
   "execution_count": 16,
   "metadata": {},
   "outputs": [
    {
     "data": {
      "text/plain": [
       "GAP: Poset( SliceCategoryOverTensorUnit( LazyCategory( Rows( Q[x,y] ) ) ) )"
      ]
     },
     "execution_count": 16,
     "metadata": {},
     "output_type": "execute_result"
    }
   ],
   "source": [
    "L = PosetOfCategory( S )"
   ]
  },
  {
   "cell_type": "code",
   "execution_count": 17,
   "metadata": {},
   "outputs": [
    {
     "data": {
      "text/plain": [
       "GAP: An object in the poset given by: An object in the slice category given by: <An\\\n",
       " evaluated morphism in LazyCategory( Rows( Q[x,y] ) )>"
      ]
     },
     "execution_count": 17,
     "metadata": {},
     "output_type": "execute_result"
    }
   ],
   "source": [
    "I = I / S / L"
   ]
  },
  {
   "cell_type": "code",
   "execution_count": 18,
   "metadata": {},
   "outputs": [
    {
     "data": {
      "text/plain": [
       "GAP: An object in the poset given by: An object in the slice category given by: <An\\\n",
       " evaluated morphism in LazyCategory( Rows( Q[x,y] ) )>"
      ]
     },
     "execution_count": 18,
     "metadata": {},
     "output_type": "execute_result"
    }
   ],
   "source": [
    "J = J / S / L"
   ]
  },
  {
   "cell_type": "code",
   "execution_count": 19,
   "metadata": {},
   "outputs": [
    {
     "data": {
      "text/plain": [
       "GAP: An object in the poset given by: An object in the slice category given by: <An\\\n",
       " evaluated morphism in LazyCategory( Rows( Q[x,y] ) )>"
      ]
     },
     "execution_count": 19,
     "metadata": {},
     "output_type": "execute_result"
    }
   ],
   "source": [
    "IJ = IJ / S / L"
   ]
  },
  {
   "cell_type": "code",
   "execution_count": 20,
   "metadata": {},
   "outputs": [
    {
     "data": {
      "text/plain": [
       "GAP: An object in the poset given by: An object in the slice category given by: <A \\\n",
       "morphism in LazyCategory( Rows( Q[x,y] ) )>"
      ]
     },
     "execution_count": 20,
     "metadata": {},
     "output_type": "execute_result"
    }
   ],
   "source": [
    "IJqJ = InternalHom( J, IJ )"
   ]
  },
  {
   "cell_type": "code",
   "execution_count": 21,
   "metadata": {
    "scrolled": false
   },
   "outputs": [
    {
     "data": {
      "image/svg+xml": [
       "<?xml version=\"1.0\" encoding=\"UTF-8\" standalone=\"no\"?>\n",
       "<!DOCTYPE svg PUBLIC \"-//W3C//DTD SVG 1.1//EN\"\n",
       " \"http://www.w3.org/Graphics/SVG/1.1/DTD/svg11.dtd\">\n",
       "<!-- Generated by graphviz version 2.44.0 (20200408.0750)\n",
       " -->\n",
       "<!-- Title: hgn Pages: 1 -->\n",
       "<svg width=\"981pt\" height=\"1955pt\"\n",
       " viewBox=\"0.00 0.00 981.24 1954.87\" xmlns=\"http://www.w3.org/2000/svg\" xmlns:xlink=\"http://www.w3.org/1999/xlink\">\n",
       "<g id=\"graph0\" class=\"graph\" transform=\"scale(1 1) rotate(0) translate(4 1950.87)\">\n",
       "<title>hgn</title>\n",
       "<polygon fill=\"white\" stroke=\"transparent\" points=\"-4,4 -4,-1950.87 977.24,-1950.87 977.24,4 -4,4\"/>\n",
       "<!-- 1 -->\n",
       "<g id=\"node1\" class=\"node\">\n",
       "<title>1</title>\n",
       "<ellipse fill=\"none\" stroke=\"black\" cx=\"393.62\" cy=\"-48.08\" rx=\"48.17\" ry=\"48.17\"/>\n",
       "<text text-anchor=\"middle\" x=\"393.62\" y=\"-66.88\" font-family=\"Times,serif\" font-size=\"14.00\">[1]</text>\n",
       "<text text-anchor=\"middle\" x=\"393.62\" y=\"-51.88\" font-family=\"Times,serif\" font-size=\"14.00\">primitive</text>\n",
       "<text text-anchor=\"middle\" x=\"393.62\" y=\"-36.88\" font-family=\"Times,serif\" font-size=\"14.00\">object</text>\n",
       "<text text-anchor=\"middle\" x=\"393.62\" y=\"-21.88\" font-family=\"Times,serif\" font-size=\"14.00\">&lt;R&gt;</text>\n",
       "</g>\n",
       "<!-- 2 -->\n",
       "<g id=\"node2\" class=\"node\">\n",
       "<title>2</title>\n",
       "<ellipse fill=\"none\" stroke=\"black\" cx=\"293.62\" cy=\"-204.29\" rx=\"72.25\" ry=\"72.25\"/>\n",
       "<text text-anchor=\"middle\" x=\"293.62\" y=\"-215.59\" font-family=\"Times,serif\" font-size=\"14.00\">[2]</text>\n",
       "<text text-anchor=\"middle\" x=\"293.62\" y=\"-200.59\" font-family=\"Times,serif\" font-size=\"14.00\">Internal</text>\n",
       "<text text-anchor=\"middle\" x=\"293.62\" y=\"-185.59\" font-family=\"Times,serif\" font-size=\"14.00\">HomOnObjects</text>\n",
       "</g>\n",
       "<!-- 2&#45;&gt;1 -->\n",
       "<g id=\"edge1\" class=\"edge\">\n",
       "<title>2&#45;&gt;1</title>\n",
       "<path fill=\"none\" stroke=\"black\" d=\"M327.65,-140.57C337.45,-125.09 348.15,-108.82 358.05,-94.36\"/>\n",
       "<polygon fill=\"black\" stroke=\"black\" points=\"360.97,-96.29 363.77,-86.07 355.21,-92.31 360.97,-96.29\"/>\n",
       "</g>\n",
       "<!-- 2&#45;&gt;1 -->\n",
       "<g id=\"edge2\" class=\"edge\">\n",
       "<title>2&#45;&gt;1</title>\n",
       "<path fill=\"none\" stroke=\"black\" d=\"M337.11,-146.31C347.29,-131.1 357.83,-114.78 367.04,-99.92\"/>\n",
       "<polygon fill=\"black\" stroke=\"black\" points=\"370.04,-101.72 372.29,-91.37 364.08,-98.06 370.04,-101.72\"/>\n",
       "</g>\n",
       "<!-- 3 -->\n",
       "<g id=\"node3\" class=\"node\">\n",
       "<title>3</title>\n",
       "<ellipse fill=\"none\" stroke=\"black\" cx=\"344.62\" cy=\"-421.31\" rx=\"108.79\" ry=\"108.79\"/>\n",
       "<text text-anchor=\"middle\" x=\"344.62\" y=\"-425.11\" font-family=\"Times,serif\" font-size=\"14.00\">[3]</text>\n",
       "<text text-anchor=\"middle\" x=\"344.62\" y=\"-410.11\" font-family=\"Times,serif\" font-size=\"14.00\">TensorProductOnObjects</text>\n",
       "</g>\n",
       "<!-- 3&#45;&gt;1 -->\n",
       "<g id=\"edge4\" class=\"edge\">\n",
       "<title>3&#45;&gt;1</title>\n",
       "<path fill=\"none\" stroke=\"black\" d=\"M368.14,-314.88C370.56,-301.96 372.8,-288.92 374.62,-276.42 382.99,-218.85 388.01,-152.5 390.77,-106.4\"/>\n",
       "<polygon fill=\"black\" stroke=\"black\" points=\"394.27,-106.48 391.36,-96.3 387.28,-106.08 394.27,-106.48\"/>\n",
       "</g>\n",
       "<!-- 3&#45;&gt;2 -->\n",
       "<g id=\"edge3\" class=\"edge\">\n",
       "<title>3&#45;&gt;2</title>\n",
       "<path fill=\"none\" stroke=\"black\" d=\"M319.64,-315.01C317.2,-304.71 314.75,-294.39 312.39,-284.42\"/>\n",
       "<polygon fill=\"black\" stroke=\"black\" points=\"315.77,-283.5 310.05,-274.58 308.96,-285.12 315.77,-283.5\"/>\n",
       "</g>\n",
       "<!-- 4 -->\n",
       "<g id=\"node4\" class=\"node\">\n",
       "<title>4</title>\n",
       "<ellipse fill=\"none\" stroke=\"black\" cx=\"445.62\" cy=\"-660.25\" rx=\"94.09\" ry=\"94.09\"/>\n",
       "<text text-anchor=\"middle\" x=\"445.62\" y=\"-671.55\" font-family=\"Times,serif\" font-size=\"14.00\">[4]</text>\n",
       "<text text-anchor=\"middle\" x=\"445.62\" y=\"-656.55\" font-family=\"Times,serif\" font-size=\"14.00\">EvaluationMorphism</text>\n",
       "<text text-anchor=\"middle\" x=\"445.62\" y=\"-641.55\" font-family=\"Times,serif\" font-size=\"14.00\">WithGivenSource</text>\n",
       "</g>\n",
       "<!-- 4&#45;&gt;1 -->\n",
       "<g id=\"edge5\" class=\"edge\">\n",
       "<title>4&#45;&gt;1</title>\n",
       "<path fill=\"none\" stroke=\"black\" d=\"M450.45,-566C451.71,-553.98 452.86,-541.82 453.62,-530.21 459.95,-433.62 465.99,-408.42 453.62,-312.42 444.23,-239.54 420.79,-158.05 405.85,-105.29\"/>\n",
       "<polygon fill=\"black\" stroke=\"black\" points=\"409.16,-104.13 403.08,-95.46 402.43,-106.03 409.16,-104.13\"/>\n",
       "</g>\n",
       "<!-- 4&#45;&gt;1 -->\n",
       "<g id=\"edge6\" class=\"edge\">\n",
       "<title>4&#45;&gt;1</title>\n",
       "<path fill=\"none\" stroke=\"black\" d=\"M467.97,-568.8C469.53,-555.87 470.8,-542.72 471.62,-530.21 477.95,-433.62 483.99,-408.42 471.62,-312.42 461.98,-237.62 437.55,-153.76 418.33,-101.19\"/>\n",
       "<polygon fill=\"black\" stroke=\"black\" points=\"421.59,-99.89 414.81,-91.75 415.03,-102.34 421.59,-99.89\"/>\n",
       "</g>\n",
       "<!-- 4&#45;&gt;3 -->\n",
       "<g id=\"edge7\" class=\"edge\">\n",
       "<title>4&#45;&gt;3</title>\n",
       "<path fill=\"none\" stroke=\"black\" d=\"M409.01,-573.37C403.18,-559.69 397.07,-545.37 391.05,-531.23\"/>\n",
       "<polygon fill=\"black\" stroke=\"black\" points=\"394.24,-529.8 387.1,-521.98 387.81,-532.55 394.24,-529.8\"/>\n",
       "</g>\n",
       "<!-- 5 -->\n",
       "<g id=\"node5\" class=\"node\">\n",
       "<title>5</title>\n",
       "<ellipse fill=\"none\" stroke=\"black\" cx=\"657.62\" cy=\"-660.25\" rx=\"48.17\" ry=\"48.17\"/>\n",
       "<text text-anchor=\"middle\" x=\"657.62\" y=\"-679.05\" font-family=\"Times,serif\" font-size=\"14.00\">[5]</text>\n",
       "<text text-anchor=\"middle\" x=\"657.62\" y=\"-664.05\" font-family=\"Times,serif\" font-size=\"14.00\">primitive</text>\n",
       "<text text-anchor=\"middle\" x=\"657.62\" y=\"-649.05\" font-family=\"Times,serif\" font-size=\"14.00\">object</text>\n",
       "<text text-anchor=\"middle\" x=\"657.62\" y=\"-634.05\" font-family=\"Times,serif\" font-size=\"14.00\">&lt;R^ij&gt;</text>\n",
       "</g>\n",
       "<!-- 6 -->\n",
       "<g id=\"node6\" class=\"node\">\n",
       "<title>6</title>\n",
       "<ellipse fill=\"none\" stroke=\"black\" cx=\"89.62\" cy=\"-421.31\" rx=\"52.15\" ry=\"52.15\"/>\n",
       "<text text-anchor=\"middle\" x=\"89.62\" y=\"-432.61\" font-family=\"Times,serif\" font-size=\"14.00\">[6]</text>\n",
       "<text text-anchor=\"middle\" x=\"89.62\" y=\"-417.61\" font-family=\"Times,serif\" font-size=\"14.00\">Identity</text>\n",
       "<text text-anchor=\"middle\" x=\"89.62\" y=\"-402.61\" font-family=\"Times,serif\" font-size=\"14.00\">Morphism</text>\n",
       "</g>\n",
       "<!-- 6&#45;&gt;1 -->\n",
       "<g id=\"edge8\" class=\"edge\">\n",
       "<title>6&#45;&gt;1</title>\n",
       "<path fill=\"none\" stroke=\"black\" d=\"M99.45,-369.8C114.08,-306.85 147.17,-199.4 212.62,-132.17 246.53,-97.34 297.78,-75.7 337.1,-63.28\"/>\n",
       "<polygon fill=\"black\" stroke=\"black\" points=\"338.28,-66.58 346.82,-60.32 336.23,-59.88 338.28,-66.58\"/>\n",
       "</g>\n",
       "<!-- 7 -->\n",
       "<g id=\"node7\" class=\"node\">\n",
       "<title>7</title>\n",
       "<ellipse fill=\"none\" stroke=\"black\" cx=\"51.62\" cy=\"-862.42\" rx=\"51.74\" ry=\"51.74\"/>\n",
       "<text text-anchor=\"middle\" x=\"51.62\" y=\"-881.22\" font-family=\"Times,serif\" font-size=\"14.00\">[7]</text>\n",
       "<text text-anchor=\"middle\" x=\"51.62\" y=\"-866.22\" font-family=\"Times,serif\" font-size=\"14.00\">primitive</text>\n",
       "<text text-anchor=\"middle\" x=\"51.62\" y=\"-851.22\" font-family=\"Times,serif\" font-size=\"14.00\">morphism</text>\n",
       "<text text-anchor=\"middle\" x=\"51.62\" y=\"-836.22\" font-family=\"Times,serif\" font-size=\"14.00\">&lt;J&gt;</text>\n",
       "</g>\n",
       "<!-- 8 -->\n",
       "<g id=\"node8\" class=\"node\">\n",
       "<title>8</title>\n",
       "<ellipse fill=\"none\" stroke=\"black\" cx=\"265.62\" cy=\"-660.25\" rx=\"67.76\" ry=\"67.76\"/>\n",
       "<text text-anchor=\"middle\" x=\"265.62\" y=\"-679.05\" font-family=\"Times,serif\" font-size=\"14.00\">[8]</text>\n",
       "<text text-anchor=\"middle\" x=\"265.62\" y=\"-664.05\" font-family=\"Times,serif\" font-size=\"14.00\">RightUnitor</text>\n",
       "<text text-anchor=\"middle\" x=\"265.62\" y=\"-649.05\" font-family=\"Times,serif\" font-size=\"14.00\">WithGiven</text>\n",
       "<text text-anchor=\"middle\" x=\"265.62\" y=\"-634.05\" font-family=\"Times,serif\" font-size=\"14.00\">TensorProduct</text>\n",
       "</g>\n",
       "<!-- 8&#45;&gt;2 -->\n",
       "<g id=\"edge9\" class=\"edge\">\n",
       "<title>8&#45;&gt;2</title>\n",
       "<path fill=\"none\" stroke=\"black\" d=\"M242.5,-596.1C236.01,-575.4 229.85,-552.08 226.62,-530.21 212.47,-434.45 199.92,-405.46 226.62,-312.42 230.7,-298.2 237.28,-284.04 244.76,-270.89\"/>\n",
       "<polygon fill=\"black\" stroke=\"black\" points=\"247.96,-272.34 250.06,-261.96 241.95,-268.77 247.96,-272.34\"/>\n",
       "</g>\n",
       "<!-- 8&#45;&gt;3 -->\n",
       "<g id=\"edge10\" class=\"edge\">\n",
       "<title>8&#45;&gt;3</title>\n",
       "<path fill=\"none\" stroke=\"black\" d=\"M286.89,-595.44C293.15,-576.66 300.2,-555.54 307.16,-534.66\"/>\n",
       "<polygon fill=\"black\" stroke=\"black\" points=\"310.5,-535.69 310.35,-525.1 303.86,-533.48 310.5,-535.69\"/>\n",
       "</g>\n",
       "<!-- 9 -->\n",
       "<g id=\"node9\" class=\"node\">\n",
       "<title>9</title>\n",
       "<ellipse fill=\"none\" stroke=\"black\" cx=\"350.62\" cy=\"-862.42\" rx=\"54.39\" ry=\"54.39\"/>\n",
       "<text text-anchor=\"middle\" x=\"350.62\" y=\"-873.72\" font-family=\"Times,serif\" font-size=\"14.00\">[9]</text>\n",
       "<text text-anchor=\"middle\" x=\"350.62\" y=\"-858.72\" font-family=\"Times,serif\" font-size=\"14.00\">Inverse</text>\n",
       "<text text-anchor=\"middle\" x=\"350.62\" y=\"-843.72\" font-family=\"Times,serif\" font-size=\"14.00\">Immutable</text>\n",
       "</g>\n",
       "<!-- 9&#45;&gt;4 -->\n",
       "<g id=\"edge11\" class=\"edge\">\n",
       "<title>9&#45;&gt;4</title>\n",
       "<path fill=\"none\" stroke=\"black\" d=\"M373.62,-812.96C381.95,-795.41 391.67,-774.93 401.22,-754.8\"/>\n",
       "<polygon fill=\"black\" stroke=\"black\" points=\"404.46,-756.13 405.59,-745.59 398.14,-753.13 404.46,-756.13\"/>\n",
       "</g>\n",
       "<!-- 10 -->\n",
       "<g id=\"node10\" class=\"node\">\n",
       "<title>10</title>\n",
       "<ellipse fill=\"none\" stroke=\"black\" cx=\"495.62\" cy=\"-862.42\" rx=\"72.25\" ry=\"72.25\"/>\n",
       "<text text-anchor=\"middle\" x=\"495.62\" y=\"-873.72\" font-family=\"Times,serif\" font-size=\"14.00\">[10]</text>\n",
       "<text text-anchor=\"middle\" x=\"495.62\" y=\"-858.72\" font-family=\"Times,serif\" font-size=\"14.00\">Internal</text>\n",
       "<text text-anchor=\"middle\" x=\"495.62\" y=\"-843.72\" font-family=\"Times,serif\" font-size=\"14.00\">HomOnObjects</text>\n",
       "</g>\n",
       "<!-- 10&#45;&gt;1 -->\n",
       "<g id=\"edge13\" class=\"edge\">\n",
       "<title>10&#45;&gt;1</title>\n",
       "<path fill=\"none\" stroke=\"black\" d=\"M531.92,-800.07C538.82,-785.54 545,-769.75 548.62,-754.3 567.65,-672.9 556.69,-649.41 548.62,-566.21 529.64,-370.55 548.55,-309.44 463.62,-132.17 456.33,-116.95 445.59,-102.23 434.7,-89.51\"/>\n",
       "<polygon fill=\"black\" stroke=\"black\" points=\"437.18,-87.03 427.93,-81.86 431.94,-91.67 437.18,-87.03\"/>\n",
       "</g>\n",
       "<!-- 10&#45;&gt;5 -->\n",
       "<g id=\"edge12\" class=\"edge\">\n",
       "<title>10&#45;&gt;5</title>\n",
       "<path fill=\"none\" stroke=\"black\" d=\"M540.53,-805.93C565.95,-774.52 597.33,-735.74 621.21,-706.24\"/>\n",
       "<polygon fill=\"black\" stroke=\"black\" points=\"624.16,-708.16 627.73,-698.18 618.72,-703.75 624.16,-708.16\"/>\n",
       "</g>\n",
       "<!-- 11 -->\n",
       "<g id=\"node11\" class=\"node\">\n",
       "<title>11</title>\n",
       "<ellipse fill=\"none\" stroke=\"black\" cx=\"921.62\" cy=\"-862.42\" rx=\"51.74\" ry=\"51.74\"/>\n",
       "<text text-anchor=\"middle\" x=\"921.62\" y=\"-881.22\" font-family=\"Times,serif\" font-size=\"14.00\">[11]</text>\n",
       "<text text-anchor=\"middle\" x=\"921.62\" y=\"-866.22\" font-family=\"Times,serif\" font-size=\"14.00\">primitive</text>\n",
       "<text text-anchor=\"middle\" x=\"921.62\" y=\"-851.22\" font-family=\"Times,serif\" font-size=\"14.00\">morphism</text>\n",
       "<text text-anchor=\"middle\" x=\"921.62\" y=\"-836.22\" font-family=\"Times,serif\" font-size=\"14.00\">&lt;IJ&gt;</text>\n",
       "</g>\n",
       "<!-- 12 -->\n",
       "<g id=\"node12\" class=\"node\">\n",
       "<title>12</title>\n",
       "<ellipse fill=\"none\" stroke=\"black\" cx=\"799.62\" cy=\"-862.42\" rx=\"52.15\" ry=\"52.15\"/>\n",
       "<text text-anchor=\"middle\" x=\"799.62\" y=\"-873.72\" font-family=\"Times,serif\" font-size=\"14.00\">[12]</text>\n",
       "<text text-anchor=\"middle\" x=\"799.62\" y=\"-858.72\" font-family=\"Times,serif\" font-size=\"14.00\">Identity</text>\n",
       "<text text-anchor=\"middle\" x=\"799.62\" y=\"-843.72\" font-family=\"Times,serif\" font-size=\"14.00\">Morphism</text>\n",
       "</g>\n",
       "<!-- 12&#45;&gt;5 -->\n",
       "<g id=\"edge14\" class=\"edge\">\n",
       "<title>12&#45;&gt;5</title>\n",
       "<path fill=\"none\" stroke=\"black\" d=\"M769.5,-818.97C746.46,-786.49 714.71,-741.73 690.91,-708.18\"/>\n",
       "<polygon fill=\"black\" stroke=\"black\" points=\"693.69,-706.04 685.05,-699.91 687.98,-710.09 693.69,-706.04\"/>\n",
       "</g>\n",
       "<!-- 13 -->\n",
       "<g id=\"node13\" class=\"node\">\n",
       "<title>13</title>\n",
       "<ellipse fill=\"none\" stroke=\"black\" cx=\"657.62\" cy=\"-862.42\" rx=\"72.25\" ry=\"72.25\"/>\n",
       "<text text-anchor=\"middle\" x=\"657.62\" y=\"-873.72\" font-family=\"Times,serif\" font-size=\"14.00\">[13]</text>\n",
       "<text text-anchor=\"middle\" x=\"657.62\" y=\"-858.72\" font-family=\"Times,serif\" font-size=\"14.00\">Internal</text>\n",
       "<text text-anchor=\"middle\" x=\"657.62\" y=\"-843.72\" font-family=\"Times,serif\" font-size=\"14.00\">HomOnObjects</text>\n",
       "</g>\n",
       "<!-- 13&#45;&gt;5 -->\n",
       "<g id=\"edge15\" class=\"edge\">\n",
       "<title>13&#45;&gt;5</title>\n",
       "<path fill=\"none\" stroke=\"black\" d=\"M651.13,-790.57C650.69,-766.87 650.8,-740.77 651.46,-718.26\"/>\n",
       "<polygon fill=\"black\" stroke=\"black\" points=\"654.96,-718.31 651.8,-708.2 647.96,-718.07 654.96,-718.31\"/>\n",
       "</g>\n",
       "<!-- 13&#45;&gt;5 -->\n",
       "<g id=\"edge16\" class=\"edge\">\n",
       "<title>13&#45;&gt;5</title>\n",
       "<path fill=\"none\" stroke=\"black\" d=\"M664.11,-790.57C664.54,-766.87 664.43,-740.77 663.78,-718.26\"/>\n",
       "<polygon fill=\"black\" stroke=\"black\" points=\"667.28,-718.07 663.44,-708.2 660.28,-718.31 667.28,-718.07\"/>\n",
       "</g>\n",
       "<!-- 14 -->\n",
       "<g id=\"node14\" class=\"node\">\n",
       "<title>14</title>\n",
       "<ellipse fill=\"none\" stroke=\"black\" cx=\"167.62\" cy=\"-1087.93\" rx=\"117.26\" ry=\"117.26\"/>\n",
       "<text text-anchor=\"middle\" x=\"167.62\" y=\"-1099.23\" font-family=\"Times,serif\" font-size=\"14.00\">[14]</text>\n",
       "<text text-anchor=\"middle\" x=\"167.62\" y=\"-1084.23\" font-family=\"Times,serif\" font-size=\"14.00\">InternalHomOnMorphisms</text>\n",
       "<text text-anchor=\"middle\" x=\"167.62\" y=\"-1069.23\" font-family=\"Times,serif\" font-size=\"14.00\">WithGivenInternalHoms</text>\n",
       "</g>\n",
       "<!-- 14&#45;&gt;2 -->\n",
       "<g id=\"edge17\" class=\"edge\">\n",
       "<title>14&#45;&gt;2</title>\n",
       "<path fill=\"none\" stroke=\"black\" d=\"M164.64,-970.25C161.38,-784.02 161.75,-428.75 207.62,-312.42 214.41,-295.19 224.99,-278.57 236.44,-263.76\"/>\n",
       "<polygon fill=\"black\" stroke=\"black\" points=\"239.35,-265.72 242.87,-255.72 233.88,-261.34 239.35,-265.72\"/>\n",
       "</g>\n",
       "<!-- 14&#45;&gt;6 -->\n",
       "<g id=\"edge19\" class=\"edge\">\n",
       "<title>14&#45;&gt;6</title>\n",
       "<path fill=\"none\" stroke=\"black\" d=\"M154.03,-971.16C137.38,-829.24 109.77,-594 96.79,-483.37\"/>\n",
       "<polygon fill=\"black\" stroke=\"black\" points=\"100.25,-482.91 95.61,-473.38 93.3,-483.72 100.25,-482.91\"/>\n",
       "</g>\n",
       "<!-- 14&#45;&gt;7 -->\n",
       "<g id=\"edge18\" class=\"edge\">\n",
       "<title>14&#45;&gt;7</title>\n",
       "<path fill=\"none\" stroke=\"black\" d=\"M113.86,-983.35C102.04,-960.58 89.99,-937.35 79.67,-917.47\"/>\n",
       "<polygon fill=\"black\" stroke=\"black\" points=\"82.77,-915.85 75.06,-908.59 76.56,-919.08 82.77,-915.85\"/>\n",
       "</g>\n",
       "<!-- 14&#45;&gt;10 -->\n",
       "<g id=\"edge20\" class=\"edge\">\n",
       "<title>14&#45;&gt;10</title>\n",
       "<path fill=\"none\" stroke=\"black\" d=\"M248.46,-1002.6C262.68,-990.68 277.97,-979.48 293.62,-970.55 341.98,-942.95 364.83,-961.39 413.62,-934.55 421.21,-930.37 428.73,-925.39 435.94,-920.05\"/>\n",
       "<polygon fill=\"black\" stroke=\"black\" points=\"438.49,-922.5 444.26,-913.62 434.21,-916.96 438.49,-922.5\"/>\n",
       "</g>\n",
       "<!-- 15 -->\n",
       "<g id=\"node15\" class=\"node\">\n",
       "<title>15</title>\n",
       "<ellipse fill=\"none\" stroke=\"black\" cx=\"350.62\" cy=\"-1087.93\" rx=\"48.17\" ry=\"48.17\"/>\n",
       "<text text-anchor=\"middle\" x=\"350.62\" y=\"-1099.23\" font-family=\"Times,serif\" font-size=\"14.00\">[15]</text>\n",
       "<text text-anchor=\"middle\" x=\"350.62\" y=\"-1084.23\" font-family=\"Times,serif\" font-size=\"14.00\">Pre</text>\n",
       "<text text-anchor=\"middle\" x=\"350.62\" y=\"-1069.23\" font-family=\"Times,serif\" font-size=\"14.00\">Compose</text>\n",
       "</g>\n",
       "<!-- 15&#45;&gt;8 -->\n",
       "<g id=\"edge22\" class=\"edge\">\n",
       "<title>15&#45;&gt;8</title>\n",
       "<path fill=\"none\" stroke=\"black\" d=\"M329,-1044.77C314.7,-1014.83 296.93,-973.23 287.62,-934.55 271.97,-869.52 266.87,-793.55 265.46,-738.23\"/>\n",
       "<polygon fill=\"black\" stroke=\"black\" points=\"268.95,-738.07 265.23,-728.15 261.96,-738.23 268.95,-738.07\"/>\n",
       "</g>\n",
       "<!-- 15&#45;&gt;9 -->\n",
       "<g id=\"edge21\" class=\"edge\">\n",
       "<title>15&#45;&gt;9</title>\n",
       "<path fill=\"none\" stroke=\"black\" d=\"M350.62,-1039.8C350.62,-1007.16 350.62,-963.32 350.62,-927.51\"/>\n",
       "<polygon fill=\"black\" stroke=\"black\" points=\"354.12,-927.16 350.62,-917.16 347.12,-927.16 354.12,-927.16\"/>\n",
       "</g>\n",
       "<!-- 16 -->\n",
       "<g id=\"node16\" class=\"node\">\n",
       "<title>16</title>\n",
       "<ellipse fill=\"none\" stroke=\"black\" cx=\"351.62\" cy=\"-1289.39\" rx=\"48.17\" ry=\"48.17\"/>\n",
       "<text text-anchor=\"middle\" x=\"351.62\" y=\"-1300.69\" font-family=\"Times,serif\" font-size=\"14.00\">[16]</text>\n",
       "<text text-anchor=\"middle\" x=\"351.62\" y=\"-1285.69\" font-family=\"Times,serif\" font-size=\"14.00\">Pre</text>\n",
       "<text text-anchor=\"middle\" x=\"351.62\" y=\"-1270.69\" font-family=\"Times,serif\" font-size=\"14.00\">Compose</text>\n",
       "</g>\n",
       "<!-- 16&#45;&gt;14 -->\n",
       "<g id=\"edge24\" class=\"edge\">\n",
       "<title>16&#45;&gt;14</title>\n",
       "<path fill=\"none\" stroke=\"black\" d=\"M319.15,-1253.19C300.84,-1233.34 277.01,-1207.51 253.7,-1182.24\"/>\n",
       "<polygon fill=\"black\" stroke=\"black\" points=\"256.17,-1179.75 246.81,-1174.78 251.02,-1184.5 256.17,-1179.75\"/>\n",
       "</g>\n",
       "<!-- 16&#45;&gt;15 -->\n",
       "<g id=\"edge23\" class=\"edge\">\n",
       "<title>16&#45;&gt;15</title>\n",
       "<path fill=\"none\" stroke=\"black\" d=\"M351.38,-1241.12C351.24,-1212.78 351.06,-1176.54 350.91,-1146.53\"/>\n",
       "<polygon fill=\"black\" stroke=\"black\" points=\"354.41,-1146.18 350.86,-1136.2 347.41,-1146.22 354.41,-1146.18\"/>\n",
       "</g>\n",
       "<!-- 17 -->\n",
       "<g id=\"node17\" class=\"node\">\n",
       "<title>17</title>\n",
       "<ellipse fill=\"none\" stroke=\"black\" cx=\"656.62\" cy=\"-1087.93\" rx=\"117.26\" ry=\"117.26\"/>\n",
       "<text text-anchor=\"middle\" x=\"656.62\" y=\"-1099.23\" font-family=\"Times,serif\" font-size=\"14.00\">[17]</text>\n",
       "<text text-anchor=\"middle\" x=\"656.62\" y=\"-1084.23\" font-family=\"Times,serif\" font-size=\"14.00\">InternalHomOnMorphisms</text>\n",
       "<text text-anchor=\"middle\" x=\"656.62\" y=\"-1069.23\" font-family=\"Times,serif\" font-size=\"14.00\">WithGivenInternalHoms</text>\n",
       "</g>\n",
       "<!-- 17&#45;&gt;10 -->\n",
       "<g id=\"edge28\" class=\"edge\">\n",
       "<title>17&#45;&gt;10</title>\n",
       "<path fill=\"none\" stroke=\"black\" d=\"M588.34,-992.14C573.19,-971.11 557.45,-949.26 543.34,-929.66\"/>\n",
       "<polygon fill=\"black\" stroke=\"black\" points=\"546.08,-927.48 537.39,-921.41 540.4,-931.57 546.08,-927.48\"/>\n",
       "</g>\n",
       "<!-- 17&#45;&gt;11 -->\n",
       "<g id=\"edge27\" class=\"edge\">\n",
       "<title>17&#45;&gt;11</title>\n",
       "<path fill=\"none\" stroke=\"black\" d=\"M753.51,-1021.27C788.6,-995.78 827.68,-965.34 860.62,-934.55 868.19,-927.46 875.78,-919.5 882.9,-911.53\"/>\n",
       "<polygon fill=\"black\" stroke=\"black\" points=\"885.9,-913.42 889.85,-903.59 880.63,-908.81 885.9,-913.42\"/>\n",
       "</g>\n",
       "<!-- 17&#45;&gt;12 -->\n",
       "<g id=\"edge26\" class=\"edge\">\n",
       "<title>17&#45;&gt;12</title>\n",
       "<path fill=\"none\" stroke=\"black\" d=\"M719.55,-988.57C735.69,-963.34 752.42,-937.19 766.39,-915.36\"/>\n",
       "<polygon fill=\"black\" stroke=\"black\" points=\"769.36,-917.21 771.8,-906.9 763.46,-913.44 769.36,-917.21\"/>\n",
       "</g>\n",
       "<!-- 17&#45;&gt;13 -->\n",
       "<g id=\"edge25\" class=\"edge\">\n",
       "<title>17&#45;&gt;13</title>\n",
       "<path fill=\"none\" stroke=\"black\" d=\"M657.14,-970.26C657.18,-961.61 657.22,-953 657.26,-944.63\"/>\n",
       "<polygon fill=\"black\" stroke=\"black\" points=\"660.76,-944.57 657.3,-934.56 653.76,-944.54 660.76,-944.57\"/>\n",
       "</g>\n",
       "<!-- 18 -->\n",
       "<g id=\"node18\" class=\"node\">\n",
       "<title>18</title>\n",
       "<ellipse fill=\"none\" stroke=\"black\" cx=\"512.62\" cy=\"-1483.07\" rx=\"109.7\" ry=\"109.7\"/>\n",
       "<text text-anchor=\"middle\" x=\"512.62\" y=\"-1486.87\" font-family=\"Times,serif\" font-size=\"14.00\">[18]</text>\n",
       "<text text-anchor=\"middle\" x=\"512.62\" y=\"-1471.87\" font-family=\"Times,serif\" font-size=\"14.00\">BiasedWeakFiberProduct</text>\n",
       "</g>\n",
       "<!-- 18&#45;&gt;16 -->\n",
       "<g id=\"edge29\" class=\"edge\">\n",
       "<title>18&#45;&gt;16</title>\n",
       "<path fill=\"none\" stroke=\"black\" d=\"M442.47,-1398.55C424.08,-1376.66 404.96,-1353.9 389.03,-1334.93\"/>\n",
       "<polygon fill=\"black\" stroke=\"black\" points=\"391.52,-1332.46 382.41,-1327.05 386.16,-1336.96 391.52,-1332.46\"/>\n",
       "</g>\n",
       "<!-- 18&#45;&gt;17 -->\n",
       "<g id=\"edge30\" class=\"edge\">\n",
       "<title>18&#45;&gt;17</title>\n",
       "<path fill=\"none\" stroke=\"black\" d=\"M550.08,-1379.8C569.34,-1327.22 592.92,-1262.83 613,-1208.02\"/>\n",
       "<polygon fill=\"black\" stroke=\"black\" points=\"616.29,-1209.2 616.45,-1198.61 609.72,-1206.79 616.29,-1209.2\"/>\n",
       "</g>\n",
       "<!-- 19 -->\n",
       "<g id=\"node19\" class=\"node\">\n",
       "<title>19</title>\n",
       "<ellipse fill=\"none\" stroke=\"black\" cx=\"512.62\" cy=\"-1787.77\" rx=\"159.2\" ry=\"159.2\"/>\n",
       "<text text-anchor=\"middle\" x=\"512.62\" y=\"-1799.07\" font-family=\"Times,serif\" font-size=\"14.00\">[19]</text>\n",
       "<text text-anchor=\"middle\" x=\"512.62\" y=\"-1784.07\" font-family=\"Times,serif\" font-size=\"14.00\">ProjectionOfBiasedWeakFiberProduct</text>\n",
       "<text text-anchor=\"middle\" x=\"512.62\" y=\"-1769.07\" font-family=\"Times,serif\" font-size=\"14.00\">WithGivenBiasedWeakFiberProduct</text>\n",
       "</g>\n",
       "<!-- 19&#45;&gt;16 -->\n",
       "<g id=\"edge31\" class=\"edge\">\n",
       "<title>19&#45;&gt;16</title>\n",
       "<path fill=\"none\" stroke=\"black\" d=\"M422.76,-1656.24C411.51,-1635.65 401.28,-1614.07 393.62,-1592.67 364.35,-1510.98 355.34,-1410.1 352.65,-1348.01\"/>\n",
       "<polygon fill=\"black\" stroke=\"black\" points=\"356.13,-1347.49 352.24,-1337.63 349.14,-1347.76 356.13,-1347.49\"/>\n",
       "</g>\n",
       "<!-- 19&#45;&gt;17 -->\n",
       "<g id=\"edge32\" class=\"edge\">\n",
       "<title>19&#45;&gt;17</title>\n",
       "<path fill=\"none\" stroke=\"black\" d=\"M603.91,-1657.36C615.04,-1636.52 624.85,-1614.58 631.62,-1592.67 670,-1468.5 672.28,-1318.97 667.42,-1215.23\"/>\n",
       "<polygon fill=\"black\" stroke=\"black\" points=\"670.9,-1214.84 666.91,-1205.02 663.91,-1215.18 670.9,-1214.84\"/>\n",
       "</g>\n",
       "<!-- 19&#45;&gt;18 -->\n",
       "<g id=\"edge33\" class=\"edge\">\n",
       "<title>19&#45;&gt;18</title>\n",
       "<path fill=\"none\" stroke=\"black\" d=\"M512.62,-1628.33C512.62,-1619.79 512.62,-1611.28 512.62,-1602.9\"/>\n",
       "<polygon fill=\"black\" stroke=\"black\" points=\"516.12,-1602.77 512.62,-1592.77 509.12,-1602.77 516.12,-1602.77\"/>\n",
       "</g>\n",
       "</g>\n",
       "</svg>\n"
      ]
     },
     "metadata": {},
     "output_type": "display_data"
    }
   ],
   "source": [
    "VisualizeInJulia( UnderlyingMorphism( UnderlyingCell( IJqJ ) ) )"
   ]
  },
  {
   "cell_type": "code",
   "execution_count": 22,
   "metadata": {},
   "outputs": [
    {
     "name": "stdout",
     "output_type": "stream",
     "text": [
      "1.\t-> evaluting in Rows( Q[x,y] ).........................: ProjectionOfBiased\\\n",
      "WeakFiberProductWithGivenBiasedWeakFiberProduct\n",
      "2.\t -> evaluting in Rows( Q[x,y] ).........................: PreCompose\n",
      "3.\t -> evaluting in Rows( Q[x,y] ).........................: PreCompose\n",
      "4.\t  -> evaluting in Rows( Q[x,y] ).........................: InverseImmutable\n",
      "5.\t  -> evaluting in Rows( Q[x,y] ).........................: EvaluationMorphi\\\n",
      "smWithGivenSource\n",
      "6.\t  -> evaluting in Rows( Q[x,y] ).........................: TensorProductOnO\\\n",
      "bjects\n",
      "7.\t  -> evaluting in Rows( Q[x,y] ).........................: InternalHomOnObj\\\n",
      "ects\n",
      "7.\t  <- evaluted  in Rows( Q[x,y] ).........................: InternalHomOnObj\\\n",
      "ects\n",
      "6.\t  <- evaluted  in Rows( Q[x,y] ).........................: TensorProductOnO\\\n",
      "bjects\n",
      "5.\t  <- evaluted  in Rows( Q[x,y] ).........................: EvaluationMorphi\\\n",
      "smWithGivenSource\n",
      "4.\t  <- evaluted  in Rows( Q[x,y] ).........................: InverseImmutable\n",
      "8.\t   -> evaluting in Rows( Q[x,y] ).........................: RightUnitorWith\\\n",
      "GivenTensorProduct\n",
      "8.\t   <- evaluted  in Rows( Q[x,y] ).........................: RightUnitorWith\\\n",
      "GivenTensorProduct\n",
      "3.\t <- evaluted  in Rows( Q[x,y] ).........................: PreCompose\n",
      "9.\t   -> evaluting in Rows( Q[x,y] ).........................: InternalHomOnMo\\\n",
      "rphismsWithGivenInternalHoms\n",
      "10\n",
      " .\t   -> evaluting in Rows( Q[x,y] ).........................: IdentityMorphis\\\n",
      "m\n",
      "10\n",
      " .\t   <- evaluted  in Rows( Q[x,y] ).........................: IdentityMorphis\\\n",
      "m\n",
      "11\n",
      " .\t   -> evaluting in Rows( Q[x,y] ).........................: InternalHomOnOb\\\n",
      "jects\n",
      "11\n",
      " .\t   <- evaluted  in Rows( Q[x,y] ).........................: InternalHomOnOb\\\n",
      "jects\n",
      "9.\t   <- evaluted  in Rows( Q[x,y] ).........................: InternalHomOnMo\\\n",
      "rphismsWithGivenInternalHoms\n",
      "2.\t <- evaluted  in Rows( Q[x,y] ).........................: PreCompose\n",
      "12\n",
      " .\t   -> evaluting in Rows( Q[x,y] ).........................: InternalHomOnMo\\\n",
      "rphismsWithGivenInternalHoms\n",
      "13\n",
      " .\t   -> evaluting in Rows( Q[x,y] ).........................: InternalHomOnOb\\\n",
      "jects\n",
      "13\n",
      " .\t   <- evaluted  in Rows( Q[x,y] ).........................: InternalHomOnOb\\\n",
      "jects\n",
      "14\n",
      " .\t   -> evaluting in Rows( Q[x,y] ).........................: IdentityMorphis\\\n",
      "m\n",
      "14\n",
      " .\t   <- evaluted  in Rows( Q[x,y] ).........................: IdentityMorphis\\\n",
      "m\n",
      "12\n",
      " .\t   <- evaluted  in Rows( Q[x,y] ).........................: InternalHomOnMo\\\n",
      "rphismsWithGivenInternalHoms\n",
      "15\n",
      " .\t   -> evaluting in Rows( Q[x,y] ).........................: BiasedWeakFiber\\\n",
      "Product\n",
      "15\n",
      " .\t   <- evaluted  in Rows( Q[x,y] ).........................: BiasedWeakFiber\\\n",
      "Product\n",
      "1.\t<- evaluted  in Rows( Q[x,y] ).........................: ProjectionOfBiased\\\n",
      "WeakFiberProductWithGivenBiasedWeakFiberProduct\n"
     ]
    },
    {
     "data": {
      "text/plain": [
       "true"
      ]
     },
     "execution_count": 22,
     "metadata": {},
     "output_type": "execute_result"
    }
   ],
   "source": [
    "I == IJqJ"
   ]
  },
  {
   "cell_type": "code",
   "execution_count": null,
   "metadata": {},
   "outputs": [],
   "source": []
  }
 ],
 "metadata": {
  "@webio": {
   "lastCommId": null,
   "lastKernelId": null
  },
  "kernelspec": {
   "display_name": "Julia 1.4.1",
   "language": "julia",
   "name": "julia-1.4"
  },
  "language_info": {
   "file_extension": ".jl",
   "mimetype": "application/julia",
   "name": "julia",
   "version": "1.4.1"
  }
 },
 "nbformat": 4,
 "nbformat_minor": 2
}
