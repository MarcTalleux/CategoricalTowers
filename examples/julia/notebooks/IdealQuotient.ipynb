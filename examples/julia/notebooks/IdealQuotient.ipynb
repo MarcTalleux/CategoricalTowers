{
 "cells": [
  {
   "cell_type": "code",
   "execution_count": 1,
   "metadata": {},
   "outputs": [
    {
     "name": "stdout",
     "output_type": "stream",
     "text": [
      "HomalgProject v\u001b[32m0.4.7\u001b[39m\n",
      "Imported OSCAR's components GAP, Nemo, and Singular\n",
      "Type: ?HomalgProject for more information\n"
     ]
    }
   ],
   "source": [
    "using HomalgProject"
   ]
  },
  {
   "cell_type": "code",
   "execution_count": 2,
   "metadata": {},
   "outputs": [],
   "source": [
    "LoadPackage( \"SubcategoriesForCAP\" )"
   ]
  },
  {
   "cell_type": "code",
   "execution_count": 3,
   "metadata": {},
   "outputs": [],
   "source": [
    "LoadPackage( \"Locales\" )"
   ]
  },
  {
   "cell_type": "code",
   "execution_count": 4,
   "metadata": {},
   "outputs": [],
   "source": [
    "LoadPackage( \"LazyCategories\" )"
   ]
  },
  {
   "cell_type": "code",
   "execution_count": 5,
   "metadata": {},
   "outputs": [
    {
     "data": {
      "text/plain": [
       "GAP: Q"
      ]
     },
     "execution_count": 5,
     "metadata": {},
     "output_type": "execute_result"
    }
   ],
   "source": [
    "Q = HomalgFieldOfRationalsInSingular( )"
   ]
  },
  {
   "cell_type": "code",
   "execution_count": 6,
   "metadata": {},
   "outputs": [
    {
     "data": {
      "text/plain": [
       "GAP: Q[x,y]"
      ]
     },
     "execution_count": 6,
     "metadata": {},
     "output_type": "execute_result"
    }
   ],
   "source": [
    "R = Q[\"x,y\"]"
   ]
  },
  {
   "cell_type": "code",
   "execution_count": 7,
   "metadata": {},
   "outputs": [
    {
     "data": {
      "text/plain": [
       "GAP: <A 2 x 1 matrix over an external ring>"
      ]
     },
     "execution_count": 7,
     "metadata": {},
     "output_type": "execute_result"
    }
   ],
   "source": [
    "K = HomalgMatrix( \"[ x, -x ]\", 2, 1, R )"
   ]
  },
  {
   "cell_type": "code",
   "execution_count": 8,
   "metadata": {},
   "outputs": [
    {
     "data": {
      "text/plain": [
       "GAP: <A 2 x 1 matrix over an external ring>"
      ]
     },
     "execution_count": 8,
     "metadata": {},
     "output_type": "execute_result"
    }
   ],
   "source": [
    "J = HomalgMatrix( \"[ x, y ]\", 2, 1, R )"
   ]
  },
  {
   "cell_type": "code",
   "execution_count": 9,
   "metadata": {},
   "outputs": [
    {
     "data": {
      "text/plain": [
       "GAP: <An unevaluated 4 x 1 matrix over an external ring>"
      ]
     },
     "execution_count": 9,
     "metadata": {},
     "output_type": "execute_result"
    }
   ],
   "source": [
    "I = KroneckerMat( K, J )"
   ]
  },
  {
   "cell_type": "code",
   "execution_count": 10,
   "metadata": {},
   "outputs": [
    {
     "data": {
      "text/plain": [
       "GAP: Rows( Q[x,y] )"
      ]
     },
     "execution_count": 10,
     "metadata": {},
     "output_type": "execute_result"
    }
   ],
   "source": [
    "P = CategoryOfRows( R )"
   ]
  },
  {
   "cell_type": "code",
   "execution_count": 11,
   "metadata": {},
   "outputs": [
    {
     "data": {
      "text/plain": [
       "GAP: LazyCategory( Rows( Q[x,y] ) )"
      ]
     },
     "execution_count": 11,
     "metadata": {},
     "output_type": "execute_result"
    }
   ],
   "source": [
    "P = LazyCategory( P, show_evaluation = true )"
   ]
  },
  {
   "cell_type": "code",
   "execution_count": 12,
   "metadata": {},
   "outputs": [
    {
     "data": {
      "text/plain": [
       "GAP: <An evaluated morphism in LazyCategory( Rows( Q[x,y] ) )>"
      ]
     },
     "execution_count": 12,
     "metadata": {},
     "output_type": "execute_result"
    }
   ],
   "source": [
    "I = I / P"
   ]
  },
  {
   "cell_type": "code",
   "execution_count": 13,
   "metadata": {},
   "outputs": [],
   "source": [
    "SetLabel( Source( I ), \"R^i\" )"
   ]
  },
  {
   "cell_type": "code",
   "execution_count": 14,
   "metadata": {},
   "outputs": [
    {
     "data": {
      "text/plain": [
       "GAP: <An evaluated object in LazyCategory( Rows( Q[x,y] ) )>"
      ]
     },
     "execution_count": 14,
     "metadata": {},
     "output_type": "execute_result"
    }
   ],
   "source": [
    "R = Range( I )"
   ]
  },
  {
   "cell_type": "code",
   "execution_count": 15,
   "metadata": {},
   "outputs": [],
   "source": [
    "SetLabel( R, \"R\" )"
   ]
  },
  {
   "cell_type": "code",
   "execution_count": 16,
   "metadata": {},
   "outputs": [
    {
     "data": {
      "text/plain": [
       "GAP: <An evaluated morphism in LazyCategory( Rows( Q[x,y] ) )>"
      ]
     },
     "execution_count": 16,
     "metadata": {},
     "output_type": "execute_result"
    }
   ],
   "source": [
    "J = J / P"
   ]
  },
  {
   "cell_type": "code",
   "execution_count": 17,
   "metadata": {},
   "outputs": [],
   "source": [
    "SetLabel( J, \"J\" ); SetLabel( Source( J ), \"R^j\" )"
   ]
  },
  {
   "cell_type": "code",
   "execution_count": 18,
   "metadata": {},
   "outputs": [
    {
     "data": {
      "text/plain": [
       "GAP: <An evaluated morphism in LazyCategory( Rows( Q[x,y] ) )>"
      ]
     },
     "execution_count": 18,
     "metadata": {},
     "output_type": "execute_result"
    }
   ],
   "source": [
    "K = K / P"
   ]
  },
  {
   "cell_type": "code",
   "execution_count": 19,
   "metadata": {},
   "outputs": [
    {
     "data": {
      "text/plain": [
       "GAP: SliceCategoryOverTensorUnit( LazyCategory( Rows( Q[x,y] ) ) )"
      ]
     },
     "execution_count": 19,
     "metadata": {},
     "output_type": "execute_result"
    }
   ],
   "source": [
    "S = SliceCategoryOverTensorUnit( P )"
   ]
  },
  {
   "cell_type": "code",
   "execution_count": 20,
   "metadata": {},
   "outputs": [
    {
     "data": {
      "text/plain": [
       "GAP: Poset( SliceCategoryOverTensorUnit( LazyCategory( Rows( Q[x,y] ) ) ) )"
      ]
     },
     "execution_count": 20,
     "metadata": {},
     "output_type": "execute_result"
    }
   ],
   "source": [
    "L = PosetOfCategory( S )"
   ]
  },
  {
   "cell_type": "code",
   "execution_count": 21,
   "metadata": {},
   "outputs": [
    {
     "data": {
      "text/plain": [
       "GAP: An object in the poset given by: An object in the slice category given by: <An\\\n",
       " evaluated morphism in LazyCategory( Rows( Q[x,y] ) )>"
      ]
     },
     "execution_count": 21,
     "metadata": {},
     "output_type": "execute_result"
    }
   ],
   "source": [
    "I = I / S / L"
   ]
  },
  {
   "cell_type": "code",
   "execution_count": 22,
   "metadata": {},
   "outputs": [
    {
     "data": {
      "text/plain": [
       "GAP: An object in the poset given by: An object in the slice category given by: <An\\\n",
       " evaluated morphism in LazyCategory( Rows( Q[x,y] ) )>"
      ]
     },
     "execution_count": 22,
     "metadata": {},
     "output_type": "execute_result"
    }
   ],
   "source": [
    "J = J / S / L"
   ]
  },
  {
   "cell_type": "code",
   "execution_count": 23,
   "metadata": {},
   "outputs": [
    {
     "data": {
      "text/plain": [
       "GAP: An object in the poset given by: An object in the slice category given by: <An\\\n",
       " evaluated morphism in LazyCategory( Rows( Q[x,y] ) )>"
      ]
     },
     "execution_count": 23,
     "metadata": {},
     "output_type": "execute_result"
    }
   ],
   "source": [
    "K = K / S / L"
   ]
  },
  {
   "cell_type": "code",
   "execution_count": 24,
   "metadata": {},
   "outputs": [
    {
     "data": {
      "text/plain": [
       "GAP: An object in the poset given by: An object in the slice category given by: <A \\\n",
       "morphism in LazyCategory( Rows( Q[x,y] ) )>"
      ]
     },
     "execution_count": 24,
     "metadata": {},
     "output_type": "execute_result"
    }
   ],
   "source": [
    "IqJ = InternalHom( J, I )"
   ]
  },
  {
   "cell_type": "code",
   "execution_count": 25,
   "metadata": {
    "scrolled": false
   },
   "outputs": [
    {
     "data": {
      "image/svg+xml": [
       "<?xml version=\"1.0\" encoding=\"UTF-8\" standalone=\"no\"?>\n",
       "<!DOCTYPE svg PUBLIC \"-//W3C//DTD SVG 1.1//EN\"\n",
       " \"http://www.w3.org/Graphics/SVG/1.1/DTD/svg11.dtd\">\n",
       "<!-- Generated by graphviz version 2.44.0 (20200408.0750)\n",
       " -->\n",
       "<!-- Title: hgn Pages: 1 -->\n",
       "<svg width=\"985pt\" height=\"1955pt\"\n",
       " viewBox=\"0.00 0.00 985.24 1954.87\" xmlns=\"http://www.w3.org/2000/svg\" xmlns:xlink=\"http://www.w3.org/1999/xlink\">\n",
       "<g id=\"graph0\" class=\"graph\" transform=\"scale(1 1) rotate(0) translate(4 1950.87)\">\n",
       "<title>hgn</title>\n",
       "<polygon fill=\"white\" stroke=\"transparent\" points=\"-4,4 -4,-1950.87 981.24,-1950.87 981.24,4 -4,4\"/>\n",
       "<!-- 1 -->\n",
       "<g id=\"node1\" class=\"node\">\n",
       "<title>1</title>\n",
       "<ellipse fill=\"none\" stroke=\"black\" cx=\"393.62\" cy=\"-48.08\" rx=\"48.17\" ry=\"48.17\"/>\n",
       "<text text-anchor=\"middle\" x=\"393.62\" y=\"-66.88\" font-family=\"Times,serif\" font-size=\"14.00\">[1]</text>\n",
       "<text text-anchor=\"middle\" x=\"393.62\" y=\"-51.88\" font-family=\"Times,serif\" font-size=\"14.00\">primitive</text>\n",
       "<text text-anchor=\"middle\" x=\"393.62\" y=\"-36.88\" font-family=\"Times,serif\" font-size=\"14.00\">object</text>\n",
       "<text text-anchor=\"middle\" x=\"393.62\" y=\"-21.88\" font-family=\"Times,serif\" font-size=\"14.00\">&lt;R&gt;</text>\n",
       "</g>\n",
       "<!-- 2 -->\n",
       "<g id=\"node2\" class=\"node\">\n",
       "<title>2</title>\n",
       "<ellipse fill=\"none\" stroke=\"black\" cx=\"293.62\" cy=\"-204.29\" rx=\"72.25\" ry=\"72.25\"/>\n",
       "<text text-anchor=\"middle\" x=\"293.62\" y=\"-215.59\" font-family=\"Times,serif\" font-size=\"14.00\">[2]</text>\n",
       "<text text-anchor=\"middle\" x=\"293.62\" y=\"-200.59\" font-family=\"Times,serif\" font-size=\"14.00\">Internal</text>\n",
       "<text text-anchor=\"middle\" x=\"293.62\" y=\"-185.59\" font-family=\"Times,serif\" font-size=\"14.00\">HomOnObjects</text>\n",
       "</g>\n",
       "<!-- 2&#45;&gt;1 -->\n",
       "<g id=\"edge1\" class=\"edge\">\n",
       "<title>2&#45;&gt;1</title>\n",
       "<path fill=\"none\" stroke=\"black\" d=\"M327.65,-140.57C337.45,-125.09 348.15,-108.82 358.05,-94.36\"/>\n",
       "<polygon fill=\"black\" stroke=\"black\" points=\"360.97,-96.29 363.77,-86.07 355.21,-92.31 360.97,-96.29\"/>\n",
       "</g>\n",
       "<!-- 2&#45;&gt;1 -->\n",
       "<g id=\"edge2\" class=\"edge\">\n",
       "<title>2&#45;&gt;1</title>\n",
       "<path fill=\"none\" stroke=\"black\" d=\"M337.11,-146.31C347.29,-131.1 357.83,-114.78 367.04,-99.92\"/>\n",
       "<polygon fill=\"black\" stroke=\"black\" points=\"370.04,-101.72 372.29,-91.37 364.08,-98.06 370.04,-101.72\"/>\n",
       "</g>\n",
       "<!-- 3 -->\n",
       "<g id=\"node3\" class=\"node\">\n",
       "<title>3</title>\n",
       "<ellipse fill=\"none\" stroke=\"black\" cx=\"344.62\" cy=\"-421.31\" rx=\"108.79\" ry=\"108.79\"/>\n",
       "<text text-anchor=\"middle\" x=\"344.62\" y=\"-425.11\" font-family=\"Times,serif\" font-size=\"14.00\">[3]</text>\n",
       "<text text-anchor=\"middle\" x=\"344.62\" y=\"-410.11\" font-family=\"Times,serif\" font-size=\"14.00\">TensorProductOnObjects</text>\n",
       "</g>\n",
       "<!-- 3&#45;&gt;1 -->\n",
       "<g id=\"edge4\" class=\"edge\">\n",
       "<title>3&#45;&gt;1</title>\n",
       "<path fill=\"none\" stroke=\"black\" d=\"M368.14,-314.88C370.56,-301.96 372.8,-288.92 374.62,-276.42 382.99,-218.85 388.01,-152.5 390.77,-106.4\"/>\n",
       "<polygon fill=\"black\" stroke=\"black\" points=\"394.27,-106.48 391.36,-96.3 387.28,-106.08 394.27,-106.48\"/>\n",
       "</g>\n",
       "<!-- 3&#45;&gt;2 -->\n",
       "<g id=\"edge3\" class=\"edge\">\n",
       "<title>3&#45;&gt;2</title>\n",
       "<path fill=\"none\" stroke=\"black\" d=\"M319.64,-315.01C317.2,-304.71 314.75,-294.39 312.39,-284.42\"/>\n",
       "<polygon fill=\"black\" stroke=\"black\" points=\"315.77,-283.5 310.05,-274.58 308.96,-285.12 315.77,-283.5\"/>\n",
       "</g>\n",
       "<!-- 4 -->\n",
       "<g id=\"node4\" class=\"node\">\n",
       "<title>4</title>\n",
       "<ellipse fill=\"none\" stroke=\"black\" cx=\"445.62\" cy=\"-660.25\" rx=\"94.09\" ry=\"94.09\"/>\n",
       "<text text-anchor=\"middle\" x=\"445.62\" y=\"-671.55\" font-family=\"Times,serif\" font-size=\"14.00\">[4]</text>\n",
       "<text text-anchor=\"middle\" x=\"445.62\" y=\"-656.55\" font-family=\"Times,serif\" font-size=\"14.00\">EvaluationMorphism</text>\n",
       "<text text-anchor=\"middle\" x=\"445.62\" y=\"-641.55\" font-family=\"Times,serif\" font-size=\"14.00\">WithGivenSource</text>\n",
       "</g>\n",
       "<!-- 4&#45;&gt;1 -->\n",
       "<g id=\"edge5\" class=\"edge\">\n",
       "<title>4&#45;&gt;1</title>\n",
       "<path fill=\"none\" stroke=\"black\" d=\"M450.45,-566C451.71,-553.98 452.86,-541.82 453.62,-530.21 459.95,-433.62 465.99,-408.42 453.62,-312.42 444.23,-239.54 420.79,-158.05 405.85,-105.29\"/>\n",
       "<polygon fill=\"black\" stroke=\"black\" points=\"409.16,-104.13 403.08,-95.46 402.43,-106.03 409.16,-104.13\"/>\n",
       "</g>\n",
       "<!-- 4&#45;&gt;1 -->\n",
       "<g id=\"edge6\" class=\"edge\">\n",
       "<title>4&#45;&gt;1</title>\n",
       "<path fill=\"none\" stroke=\"black\" d=\"M467.97,-568.8C469.53,-555.87 470.8,-542.72 471.62,-530.21 477.95,-433.62 483.99,-408.42 471.62,-312.42 461.98,-237.62 437.55,-153.76 418.33,-101.19\"/>\n",
       "<polygon fill=\"black\" stroke=\"black\" points=\"421.59,-99.89 414.81,-91.75 415.03,-102.34 421.59,-99.89\"/>\n",
       "</g>\n",
       "<!-- 4&#45;&gt;3 -->\n",
       "<g id=\"edge7\" class=\"edge\">\n",
       "<title>4&#45;&gt;3</title>\n",
       "<path fill=\"none\" stroke=\"black\" d=\"M409.01,-573.37C403.18,-559.69 397.07,-545.37 391.05,-531.23\"/>\n",
       "<polygon fill=\"black\" stroke=\"black\" points=\"394.24,-529.8 387.1,-521.98 387.81,-532.55 394.24,-529.8\"/>\n",
       "</g>\n",
       "<!-- 5 -->\n",
       "<g id=\"node5\" class=\"node\">\n",
       "<title>5</title>\n",
       "<ellipse fill=\"none\" stroke=\"black\" cx=\"783.62\" cy=\"-660.25\" rx=\"48.17\" ry=\"48.17\"/>\n",
       "<text text-anchor=\"middle\" x=\"783.62\" y=\"-679.05\" font-family=\"Times,serif\" font-size=\"14.00\">[5]</text>\n",
       "<text text-anchor=\"middle\" x=\"783.62\" y=\"-664.05\" font-family=\"Times,serif\" font-size=\"14.00\">primitive</text>\n",
       "<text text-anchor=\"middle\" x=\"783.62\" y=\"-649.05\" font-family=\"Times,serif\" font-size=\"14.00\">object</text>\n",
       "<text text-anchor=\"middle\" x=\"783.62\" y=\"-634.05\" font-family=\"Times,serif\" font-size=\"14.00\">&lt;R^i&gt;</text>\n",
       "</g>\n",
       "<!-- 6 -->\n",
       "<g id=\"node6\" class=\"node\">\n",
       "<title>6</title>\n",
       "<ellipse fill=\"none\" stroke=\"black\" cx=\"643.62\" cy=\"-660.25\" rx=\"48.17\" ry=\"48.17\"/>\n",
       "<text text-anchor=\"middle\" x=\"643.62\" y=\"-679.05\" font-family=\"Times,serif\" font-size=\"14.00\">[6]</text>\n",
       "<text text-anchor=\"middle\" x=\"643.62\" y=\"-664.05\" font-family=\"Times,serif\" font-size=\"14.00\">primitive</text>\n",
       "<text text-anchor=\"middle\" x=\"643.62\" y=\"-649.05\" font-family=\"Times,serif\" font-size=\"14.00\">object</text>\n",
       "<text text-anchor=\"middle\" x=\"643.62\" y=\"-634.05\" font-family=\"Times,serif\" font-size=\"14.00\">&lt;R^j&gt;</text>\n",
       "</g>\n",
       "<!-- 7 -->\n",
       "<g id=\"node7\" class=\"node\">\n",
       "<title>7</title>\n",
       "<ellipse fill=\"none\" stroke=\"black\" cx=\"89.62\" cy=\"-421.31\" rx=\"52.15\" ry=\"52.15\"/>\n",
       "<text text-anchor=\"middle\" x=\"89.62\" y=\"-432.61\" font-family=\"Times,serif\" font-size=\"14.00\">[7]</text>\n",
       "<text text-anchor=\"middle\" x=\"89.62\" y=\"-417.61\" font-family=\"Times,serif\" font-size=\"14.00\">Identity</text>\n",
       "<text text-anchor=\"middle\" x=\"89.62\" y=\"-402.61\" font-family=\"Times,serif\" font-size=\"14.00\">Morphism</text>\n",
       "</g>\n",
       "<!-- 7&#45;&gt;1 -->\n",
       "<g id=\"edge8\" class=\"edge\">\n",
       "<title>7&#45;&gt;1</title>\n",
       "<path fill=\"none\" stroke=\"black\" d=\"M99.45,-369.8C114.08,-306.85 147.17,-199.4 212.62,-132.17 246.53,-97.34 297.78,-75.7 337.1,-63.28\"/>\n",
       "<polygon fill=\"black\" stroke=\"black\" points=\"338.28,-66.58 346.82,-60.32 336.23,-59.88 338.28,-66.58\"/>\n",
       "</g>\n",
       "<!-- 8 -->\n",
       "<g id=\"node8\" class=\"node\">\n",
       "<title>8</title>\n",
       "<ellipse fill=\"none\" stroke=\"black\" cx=\"51.62\" cy=\"-862.42\" rx=\"51.74\" ry=\"51.74\"/>\n",
       "<text text-anchor=\"middle\" x=\"51.62\" y=\"-881.22\" font-family=\"Times,serif\" font-size=\"14.00\">[8]</text>\n",
       "<text text-anchor=\"middle\" x=\"51.62\" y=\"-866.22\" font-family=\"Times,serif\" font-size=\"14.00\">primitive</text>\n",
       "<text text-anchor=\"middle\" x=\"51.62\" y=\"-851.22\" font-family=\"Times,serif\" font-size=\"14.00\">morphism</text>\n",
       "<text text-anchor=\"middle\" x=\"51.62\" y=\"-836.22\" font-family=\"Times,serif\" font-size=\"14.00\">&lt;J&gt;</text>\n",
       "</g>\n",
       "<!-- 9 -->\n",
       "<g id=\"node9\" class=\"node\">\n",
       "<title>9</title>\n",
       "<ellipse fill=\"none\" stroke=\"black\" cx=\"265.62\" cy=\"-660.25\" rx=\"67.76\" ry=\"67.76\"/>\n",
       "<text text-anchor=\"middle\" x=\"265.62\" y=\"-679.05\" font-family=\"Times,serif\" font-size=\"14.00\">[9]</text>\n",
       "<text text-anchor=\"middle\" x=\"265.62\" y=\"-664.05\" font-family=\"Times,serif\" font-size=\"14.00\">RightUnitor</text>\n",
       "<text text-anchor=\"middle\" x=\"265.62\" y=\"-649.05\" font-family=\"Times,serif\" font-size=\"14.00\">WithGiven</text>\n",
       "<text text-anchor=\"middle\" x=\"265.62\" y=\"-634.05\" font-family=\"Times,serif\" font-size=\"14.00\">TensorProduct</text>\n",
       "</g>\n",
       "<!-- 9&#45;&gt;2 -->\n",
       "<g id=\"edge9\" class=\"edge\">\n",
       "<title>9&#45;&gt;2</title>\n",
       "<path fill=\"none\" stroke=\"black\" d=\"M242.5,-596.1C236.01,-575.4 229.85,-552.08 226.62,-530.21 212.47,-434.45 199.92,-405.46 226.62,-312.42 230.7,-298.2 237.28,-284.04 244.76,-270.89\"/>\n",
       "<polygon fill=\"black\" stroke=\"black\" points=\"247.96,-272.34 250.06,-261.96 241.95,-268.77 247.96,-272.34\"/>\n",
       "</g>\n",
       "<!-- 9&#45;&gt;3 -->\n",
       "<g id=\"edge10\" class=\"edge\">\n",
       "<title>9&#45;&gt;3</title>\n",
       "<path fill=\"none\" stroke=\"black\" d=\"M286.89,-595.44C293.15,-576.66 300.2,-555.54 307.16,-534.66\"/>\n",
       "<polygon fill=\"black\" stroke=\"black\" points=\"310.5,-535.69 310.35,-525.1 303.86,-533.48 310.5,-535.69\"/>\n",
       "</g>\n",
       "<!-- 10 -->\n",
       "<g id=\"node10\" class=\"node\">\n",
       "<title>10</title>\n",
       "<ellipse fill=\"none\" stroke=\"black\" cx=\"354.62\" cy=\"-862.42\" rx=\"54.39\" ry=\"54.39\"/>\n",
       "<text text-anchor=\"middle\" x=\"354.62\" y=\"-873.72\" font-family=\"Times,serif\" font-size=\"14.00\">[10]</text>\n",
       "<text text-anchor=\"middle\" x=\"354.62\" y=\"-858.72\" font-family=\"Times,serif\" font-size=\"14.00\">Inverse</text>\n",
       "<text text-anchor=\"middle\" x=\"354.62\" y=\"-843.72\" font-family=\"Times,serif\" font-size=\"14.00\">Immutable</text>\n",
       "</g>\n",
       "<!-- 10&#45;&gt;4 -->\n",
       "<g id=\"edge11\" class=\"edge\">\n",
       "<title>10&#45;&gt;4</title>\n",
       "<path fill=\"none\" stroke=\"black\" d=\"M376.88,-812.45C384.69,-795.27 393.76,-775.33 402.69,-755.69\"/>\n",
       "<polygon fill=\"black\" stroke=\"black\" points=\"405.96,-756.94 406.91,-746.39 399.59,-754.04 405.96,-756.94\"/>\n",
       "</g>\n",
       "<!-- 11 -->\n",
       "<g id=\"node11\" class=\"node\">\n",
       "<title>11</title>\n",
       "<ellipse fill=\"none\" stroke=\"black\" cx=\"499.62\" cy=\"-862.42\" rx=\"72.25\" ry=\"72.25\"/>\n",
       "<text text-anchor=\"middle\" x=\"499.62\" y=\"-873.72\" font-family=\"Times,serif\" font-size=\"14.00\">[11]</text>\n",
       "<text text-anchor=\"middle\" x=\"499.62\" y=\"-858.72\" font-family=\"Times,serif\" font-size=\"14.00\">Internal</text>\n",
       "<text text-anchor=\"middle\" x=\"499.62\" y=\"-843.72\" font-family=\"Times,serif\" font-size=\"14.00\">HomOnObjects</text>\n",
       "</g>\n",
       "<!-- 11&#45;&gt;1 -->\n",
       "<g id=\"edge13\" class=\"edge\">\n",
       "<title>11&#45;&gt;1</title>\n",
       "<path fill=\"none\" stroke=\"black\" d=\"M533.69,-798.68C539.87,-784.48 545.38,-769.18 548.62,-754.3 566.41,-672.62 556.69,-649.41 548.62,-566.21 529.64,-370.55 548.55,-309.44 463.62,-132.17 456.33,-116.95 445.59,-102.23 434.7,-89.51\"/>\n",
       "<polygon fill=\"black\" stroke=\"black\" points=\"437.18,-87.03 427.93,-81.86 431.94,-91.67 437.18,-87.03\"/>\n",
       "</g>\n",
       "<!-- 11&#45;&gt;6 -->\n",
       "<g id=\"edge12\" class=\"edge\">\n",
       "<title>11&#45;&gt;6</title>\n",
       "<path fill=\"none\" stroke=\"black\" d=\"M543.73,-805.23C556.2,-788.96 569.63,-771.06 581.62,-754.3 591.9,-739.91 602.72,-723.97 612.39,-709.42\"/>\n",
       "<polygon fill=\"black\" stroke=\"black\" points=\"615.34,-711.3 617.94,-701.03 609.5,-707.44 615.34,-711.3\"/>\n",
       "</g>\n",
       "<!-- 12 -->\n",
       "<g id=\"node12\" class=\"node\">\n",
       "<title>12</title>\n",
       "<ellipse fill=\"none\" stroke=\"black\" cx=\"925.62\" cy=\"-862.42\" rx=\"51.74\" ry=\"51.74\"/>\n",
       "<text text-anchor=\"middle\" x=\"925.62\" y=\"-873.72\" font-family=\"Times,serif\" font-size=\"14.00\">[12]</text>\n",
       "<text text-anchor=\"middle\" x=\"925.62\" y=\"-858.72\" font-family=\"Times,serif\" font-size=\"14.00\">primitive</text>\n",
       "<text text-anchor=\"middle\" x=\"925.62\" y=\"-843.72\" font-family=\"Times,serif\" font-size=\"14.00\">morphism</text>\n",
       "</g>\n",
       "<!-- 13 -->\n",
       "<g id=\"node13\" class=\"node\">\n",
       "<title>13</title>\n",
       "<ellipse fill=\"none\" stroke=\"black\" cx=\"641.62\" cy=\"-862.42\" rx=\"52.15\" ry=\"52.15\"/>\n",
       "<text text-anchor=\"middle\" x=\"641.62\" y=\"-873.72\" font-family=\"Times,serif\" font-size=\"14.00\">[13]</text>\n",
       "<text text-anchor=\"middle\" x=\"641.62\" y=\"-858.72\" font-family=\"Times,serif\" font-size=\"14.00\">Identity</text>\n",
       "<text text-anchor=\"middle\" x=\"641.62\" y=\"-843.72\" font-family=\"Times,serif\" font-size=\"14.00\">Morphism</text>\n",
       "</g>\n",
       "<!-- 13&#45;&gt;6 -->\n",
       "<g id=\"edge14\" class=\"edge\">\n",
       "<title>13&#45;&gt;6</title>\n",
       "<path fill=\"none\" stroke=\"black\" d=\"M642.13,-809.87C642.41,-782.02 642.76,-747.54 643.04,-718.81\"/>\n",
       "<polygon fill=\"black\" stroke=\"black\" points=\"646.55,-718.54 643.15,-708.51 639.55,-718.47 646.55,-718.54\"/>\n",
       "</g>\n",
       "<!-- 14 -->\n",
       "<g id=\"node14\" class=\"node\">\n",
       "<title>14</title>\n",
       "<ellipse fill=\"none\" stroke=\"black\" cx=\"783.62\" cy=\"-862.42\" rx=\"72.25\" ry=\"72.25\"/>\n",
       "<text text-anchor=\"middle\" x=\"783.62\" y=\"-873.72\" font-family=\"Times,serif\" font-size=\"14.00\">[14]</text>\n",
       "<text text-anchor=\"middle\" x=\"783.62\" y=\"-858.72\" font-family=\"Times,serif\" font-size=\"14.00\">Internal</text>\n",
       "<text text-anchor=\"middle\" x=\"783.62\" y=\"-843.72\" font-family=\"Times,serif\" font-size=\"14.00\">HomOnObjects</text>\n",
       "</g>\n",
       "<!-- 14&#45;&gt;5 -->\n",
       "<g id=\"edge16\" class=\"edge\">\n",
       "<title>14&#45;&gt;5</title>\n",
       "<path fill=\"none\" stroke=\"black\" d=\"M783.62,-790.28C783.62,-766.7 783.62,-740.77 783.62,-718.38\"/>\n",
       "<polygon fill=\"black\" stroke=\"black\" points=\"787.12,-718.37 783.62,-708.37 780.12,-718.37 787.12,-718.37\"/>\n",
       "</g>\n",
       "<!-- 14&#45;&gt;6 -->\n",
       "<g id=\"edge15\" class=\"edge\">\n",
       "<title>14&#45;&gt;6</title>\n",
       "<path fill=\"none\" stroke=\"black\" d=\"M742.75,-802.98C721.76,-772.97 696.51,-736.88 676.75,-708.62\"/>\n",
       "<polygon fill=\"black\" stroke=\"black\" points=\"679.4,-706.31 670.8,-700.12 673.67,-710.32 679.4,-706.31\"/>\n",
       "</g>\n",
       "<!-- 15 -->\n",
       "<g id=\"node15\" class=\"node\">\n",
       "<title>15</title>\n",
       "<ellipse fill=\"none\" stroke=\"black\" cx=\"169.62\" cy=\"-1087.93\" rx=\"117.26\" ry=\"117.26\"/>\n",
       "<text text-anchor=\"middle\" x=\"169.62\" y=\"-1099.23\" font-family=\"Times,serif\" font-size=\"14.00\">[15]</text>\n",
       "<text text-anchor=\"middle\" x=\"169.62\" y=\"-1084.23\" font-family=\"Times,serif\" font-size=\"14.00\">InternalHomOnMorphisms</text>\n",
       "<text text-anchor=\"middle\" x=\"169.62\" y=\"-1069.23\" font-family=\"Times,serif\" font-size=\"14.00\">WithGivenInternalHoms</text>\n",
       "</g>\n",
       "<!-- 15&#45;&gt;2 -->\n",
       "<g id=\"edge17\" class=\"edge\">\n",
       "<title>15&#45;&gt;2</title>\n",
       "<path fill=\"none\" stroke=\"black\" d=\"M166.27,-970.24C162.44,-784.01 161.75,-428.73 207.62,-312.42 214.41,-295.19 224.99,-278.57 236.44,-263.76\"/>\n",
       "<polygon fill=\"black\" stroke=\"black\" points=\"239.35,-265.72 242.87,-255.72 233.88,-261.34 239.35,-265.72\"/>\n",
       "</g>\n",
       "<!-- 15&#45;&gt;7 -->\n",
       "<g id=\"edge19\" class=\"edge\">\n",
       "<title>15&#45;&gt;7</title>\n",
       "<path fill=\"none\" stroke=\"black\" d=\"M155.68,-971.16C138.6,-829.24 110.29,-594 96.97,-483.37\"/>\n",
       "<polygon fill=\"black\" stroke=\"black\" points=\"100.44,-482.89 95.77,-473.38 93.49,-483.73 100.44,-482.89\"/>\n",
       "</g>\n",
       "<!-- 15&#45;&gt;8 -->\n",
       "<g id=\"edge18\" class=\"edge\">\n",
       "<title>15&#45;&gt;8</title>\n",
       "<path fill=\"none\" stroke=\"black\" d=\"M115.11,-983.68C103.01,-960.77 90.66,-937.37 80.11,-917.38\"/>\n",
       "<polygon fill=\"black\" stroke=\"black\" points=\"83.16,-915.66 75.39,-908.45 76.97,-918.93 83.16,-915.66\"/>\n",
       "</g>\n",
       "<!-- 15&#45;&gt;11 -->\n",
       "<g id=\"edge20\" class=\"edge\">\n",
       "<title>15&#45;&gt;11</title>\n",
       "<path fill=\"none\" stroke=\"black\" d=\"M251.16,-1003.21C265.8,-991.08 281.54,-979.64 297.62,-970.55 346.09,-943.14 368.83,-961.39 417.62,-934.55 425.21,-930.37 432.73,-925.39 439.94,-920.05\"/>\n",
       "<polygon fill=\"black\" stroke=\"black\" points=\"442.49,-922.5 448.26,-913.62 438.21,-916.96 442.49,-922.5\"/>\n",
       "</g>\n",
       "<!-- 16 -->\n",
       "<g id=\"node16\" class=\"node\">\n",
       "<title>16</title>\n",
       "<ellipse fill=\"none\" stroke=\"black\" cx=\"354.62\" cy=\"-1087.93\" rx=\"48.17\" ry=\"48.17\"/>\n",
       "<text text-anchor=\"middle\" x=\"354.62\" y=\"-1099.23\" font-family=\"Times,serif\" font-size=\"14.00\">[16]</text>\n",
       "<text text-anchor=\"middle\" x=\"354.62\" y=\"-1084.23\" font-family=\"Times,serif\" font-size=\"14.00\">Pre</text>\n",
       "<text text-anchor=\"middle\" x=\"354.62\" y=\"-1069.23\" font-family=\"Times,serif\" font-size=\"14.00\">Compose</text>\n",
       "</g>\n",
       "<!-- 16&#45;&gt;9 -->\n",
       "<g id=\"edge22\" class=\"edge\">\n",
       "<title>16&#45;&gt;9</title>\n",
       "<path fill=\"none\" stroke=\"black\" d=\"M333.18,-1044.73C318.96,-1014.77 301.21,-973.16 291.62,-934.55 275.48,-869.55 269.22,-793.58 266.86,-738.25\"/>\n",
       "<polygon fill=\"black\" stroke=\"black\" points=\"270.36,-738.02 266.47,-728.17 263.36,-738.3 270.36,-738.02\"/>\n",
       "</g>\n",
       "<!-- 16&#45;&gt;10 -->\n",
       "<g id=\"edge21\" class=\"edge\">\n",
       "<title>16&#45;&gt;10</title>\n",
       "<path fill=\"none\" stroke=\"black\" d=\"M354.62,-1039.8C354.62,-1007.16 354.62,-963.32 354.62,-927.51\"/>\n",
       "<polygon fill=\"black\" stroke=\"black\" points=\"358.12,-927.16 354.62,-917.16 351.12,-927.16 358.12,-927.16\"/>\n",
       "</g>\n",
       "<!-- 17 -->\n",
       "<g id=\"node17\" class=\"node\">\n",
       "<title>17</title>\n",
       "<ellipse fill=\"none\" stroke=\"black\" cx=\"354.62\" cy=\"-1289.39\" rx=\"48.17\" ry=\"48.17\"/>\n",
       "<text text-anchor=\"middle\" x=\"354.62\" y=\"-1300.69\" font-family=\"Times,serif\" font-size=\"14.00\">[17]</text>\n",
       "<text text-anchor=\"middle\" x=\"354.62\" y=\"-1285.69\" font-family=\"Times,serif\" font-size=\"14.00\">Pre</text>\n",
       "<text text-anchor=\"middle\" x=\"354.62\" y=\"-1270.69\" font-family=\"Times,serif\" font-size=\"14.00\">Compose</text>\n",
       "</g>\n",
       "<!-- 17&#45;&gt;15 -->\n",
       "<g id=\"edge24\" class=\"edge\">\n",
       "<title>17&#45;&gt;15</title>\n",
       "<path fill=\"none\" stroke=\"black\" d=\"M322.39,-1253.64C303.93,-1233.73 279.78,-1207.7 256.16,-1182.23\"/>\n",
       "<polygon fill=\"black\" stroke=\"black\" points=\"258.55,-1179.66 249.18,-1174.71 253.42,-1184.42 258.55,-1179.66\"/>\n",
       "</g>\n",
       "<!-- 17&#45;&gt;16 -->\n",
       "<g id=\"edge23\" class=\"edge\">\n",
       "<title>17&#45;&gt;16</title>\n",
       "<path fill=\"none\" stroke=\"black\" d=\"M354.62,-1241.12C354.62,-1212.78 354.62,-1176.54 354.62,-1146.53\"/>\n",
       "<polygon fill=\"black\" stroke=\"black\" points=\"358.12,-1146.2 354.62,-1136.2 351.12,-1146.2 358.12,-1146.2\"/>\n",
       "</g>\n",
       "<!-- 18 -->\n",
       "<g id=\"node18\" class=\"node\">\n",
       "<title>18</title>\n",
       "<ellipse fill=\"none\" stroke=\"black\" cx=\"640.62\" cy=\"-1087.93\" rx=\"117.26\" ry=\"117.26\"/>\n",
       "<text text-anchor=\"middle\" x=\"640.62\" y=\"-1099.23\" font-family=\"Times,serif\" font-size=\"14.00\">[18]</text>\n",
       "<text text-anchor=\"middle\" x=\"640.62\" y=\"-1084.23\" font-family=\"Times,serif\" font-size=\"14.00\">InternalHomOnMorphisms</text>\n",
       "<text text-anchor=\"middle\" x=\"640.62\" y=\"-1069.23\" font-family=\"Times,serif\" font-size=\"14.00\">WithGivenInternalHoms</text>\n",
       "</g>\n",
       "<!-- 18&#45;&gt;11 -->\n",
       "<g id=\"edge28\" class=\"edge\">\n",
       "<title>18&#45;&gt;11</title>\n",
       "<path fill=\"none\" stroke=\"black\" d=\"M578.36,-988.24C566.51,-969.45 554.34,-950.16 543.22,-932.53\"/>\n",
       "<polygon fill=\"black\" stroke=\"black\" points=\"546.14,-930.61 537.85,-924.02 540.22,-934.34 546.14,-930.61\"/>\n",
       "</g>\n",
       "<!-- 18&#45;&gt;12 -->\n",
       "<g id=\"edge27\" class=\"edge\">\n",
       "<title>18&#45;&gt;12</title>\n",
       "<path fill=\"none\" stroke=\"black\" d=\"M740.97,-1026.79C781.18,-1000.67 826.84,-968.33 864.62,-934.55 872.35,-927.63 880.01,-919.75 887.16,-911.81\"/>\n",
       "<polygon fill=\"black\" stroke=\"black\" points=\"890.15,-913.71 894.12,-903.89 884.89,-909.09 890.15,-913.71\"/>\n",
       "</g>\n",
       "<!-- 18&#45;&gt;13 -->\n",
       "<g id=\"edge26\" class=\"edge\">\n",
       "<title>18&#45;&gt;13</title>\n",
       "<path fill=\"none\" stroke=\"black\" d=\"M641.14,-970.26C641.21,-954.59 641.28,-939.05 641.34,-924.87\"/>\n",
       "<polygon fill=\"black\" stroke=\"black\" points=\"644.84,-924.82 641.39,-914.81 637.84,-924.79 644.84,-924.82\"/>\n",
       "</g>\n",
       "<!-- 18&#45;&gt;14 -->\n",
       "<g id=\"edge25\" class=\"edge\">\n",
       "<title>18&#45;&gt;14</title>\n",
       "<path fill=\"none\" stroke=\"black\" d=\"M703.55,-988.57C715.72,-969.55 728.23,-950 739.63,-932.17\"/>\n",
       "<polygon fill=\"black\" stroke=\"black\" points=\"742.69,-933.88 745.13,-923.57 736.8,-930.11 742.69,-933.88\"/>\n",
       "</g>\n",
       "<!-- 19 -->\n",
       "<g id=\"node19\" class=\"node\">\n",
       "<title>19</title>\n",
       "<ellipse fill=\"none\" stroke=\"black\" cx=\"500.62\" cy=\"-1483.07\" rx=\"109.7\" ry=\"109.7\"/>\n",
       "<text text-anchor=\"middle\" x=\"500.62\" y=\"-1486.87\" font-family=\"Times,serif\" font-size=\"14.00\">[19]</text>\n",
       "<text text-anchor=\"middle\" x=\"500.62\" y=\"-1471.87\" font-family=\"Times,serif\" font-size=\"14.00\">BiasedWeakFiberProduct</text>\n",
       "</g>\n",
       "<!-- 19&#45;&gt;17 -->\n",
       "<g id=\"edge29\" class=\"edge\">\n",
       "<title>19&#45;&gt;17</title>\n",
       "<path fill=\"none\" stroke=\"black\" d=\"M434.67,-1395.48C419.21,-1375.19 403.33,-1354.34 389.83,-1336.62\"/>\n",
       "<polygon fill=\"black\" stroke=\"black\" points=\"392.25,-1334.02 383.4,-1328.18 386.68,-1338.26 392.25,-1334.02\"/>\n",
       "</g>\n",
       "<!-- 19&#45;&gt;18 -->\n",
       "<g id=\"edge30\" class=\"edge\">\n",
       "<title>19&#45;&gt;18</title>\n",
       "<path fill=\"none\" stroke=\"black\" d=\"M537.13,-1379.55C555.78,-1327.18 578.57,-1263.16 598.02,-1208.55\"/>\n",
       "<polygon fill=\"black\" stroke=\"black\" points=\"601.43,-1209.41 601.49,-1198.82 594.83,-1207.06 601.43,-1209.41\"/>\n",
       "</g>\n",
       "<!-- 20 -->\n",
       "<g id=\"node20\" class=\"node\">\n",
       "<title>20</title>\n",
       "<ellipse fill=\"none\" stroke=\"black\" cx=\"500.62\" cy=\"-1787.77\" rx=\"159.2\" ry=\"159.2\"/>\n",
       "<text text-anchor=\"middle\" x=\"500.62\" y=\"-1799.07\" font-family=\"Times,serif\" font-size=\"14.00\">[20]</text>\n",
       "<text text-anchor=\"middle\" x=\"500.62\" y=\"-1784.07\" font-family=\"Times,serif\" font-size=\"14.00\">ProjectionOfBiasedWeakFiberProduct</text>\n",
       "<text text-anchor=\"middle\" x=\"500.62\" y=\"-1769.07\" font-family=\"Times,serif\" font-size=\"14.00\">WithGivenBiasedWeakFiberProduct</text>\n",
       "</g>\n",
       "<!-- 20&#45;&gt;17 -->\n",
       "<g id=\"edge31\" class=\"edge\">\n",
       "<title>20&#45;&gt;17</title>\n",
       "<path fill=\"none\" stroke=\"black\" d=\"M409.95,-1656.84C398.78,-1636.12 388.79,-1614.35 381.62,-1592.67 354.51,-1510.75 351.04,-1409.93 352.05,-1347.92\"/>\n",
       "<polygon fill=\"black\" stroke=\"black\" points=\"355.56,-1347.63 352.27,-1337.56 348.56,-1347.48 355.56,-1347.63\"/>\n",
       "</g>\n",
       "<!-- 20&#45;&gt;18 -->\n",
       "<g id=\"edge32\" class=\"edge\">\n",
       "<title>20&#45;&gt;18</title>\n",
       "<path fill=\"none\" stroke=\"black\" d=\"M592.07,-1657.4C603.17,-1636.56 612.94,-1614.6 619.62,-1592.67 657.5,-1468.39 658.51,-1318.88 652.67,-1215.17\"/>\n",
       "<polygon fill=\"black\" stroke=\"black\" points=\"656.15,-1214.74 652.07,-1204.97 649.17,-1215.16 656.15,-1214.74\"/>\n",
       "</g>\n",
       "<!-- 20&#45;&gt;19 -->\n",
       "<g id=\"edge33\" class=\"edge\">\n",
       "<title>20&#45;&gt;19</title>\n",
       "<path fill=\"none\" stroke=\"black\" d=\"M500.62,-1628.33C500.62,-1619.79 500.62,-1611.28 500.62,-1602.9\"/>\n",
       "<polygon fill=\"black\" stroke=\"black\" points=\"504.12,-1602.77 500.62,-1592.77 497.12,-1602.77 504.12,-1602.77\"/>\n",
       "</g>\n",
       "</g>\n",
       "</svg>\n"
      ]
     },
     "metadata": {},
     "output_type": "display_data"
    }
   ],
   "source": [
    "VisualizeInJulia( UnderlyingMorphism( UnderlyingCell( IqJ ) ) )"
   ]
  },
  {
   "cell_type": "code",
   "execution_count": 26,
   "metadata": {},
   "outputs": [
    {
     "name": "stdout",
     "output_type": "stream",
     "text": [
      "1.\t-> evaluting in Rows( Q[x,y] ).........................: ProjectionOfBiased\\\n",
      "WeakFiberProductWithGivenBiasedWeakFiberProduct\n",
      "2.\t -> evaluting in Rows( Q[x,y] ).........................: PreCompose\n",
      "3.\t -> evaluting in Rows( Q[x,y] ).........................: PreCompose\n",
      "4.\t  -> evaluting in Rows( Q[x,y] ).........................: InverseImmutable\n",
      "5.\t  -> evaluting in Rows( Q[x,y] ).........................: EvaluationMorphi\\\n",
      "smWithGivenSource\n",
      "6.\t  -> evaluting in Rows( Q[x,y] ).........................: TensorProductOnO\\\n",
      "bjects\n",
      "7.\t  -> evaluting in Rows( Q[x,y] ).........................: InternalHomOnObj\\\n",
      "ects\n",
      "7.\t  <- evaluted  in Rows( Q[x,y] ).........................: InternalHomOnObj\\\n",
      "ects\n",
      "6.\t  <- evaluted  in Rows( Q[x,y] ).........................: TensorProductOnO\\\n",
      "bjects\n",
      "5.\t  <- evaluted  in Rows( Q[x,y] ).........................: EvaluationMorphi\\\n",
      "smWithGivenSource\n",
      "4.\t  <- evaluted  in Rows( Q[x,y] ).........................: InverseImmutable\n",
      "8.\t   -> evaluting in Rows( Q[x,y] ).........................: RightUnitorWith\\\n",
      "GivenTensorProduct\n",
      "8.\t   <- evaluted  in Rows( Q[x,y] ).........................: RightUnitorWith\\\n",
      "GivenTensorProduct\n",
      "3.\t <- evaluted  in Rows( Q[x,y] ).........................: PreCompose\n",
      "9.\t   -> evaluting in Rows( Q[x,y] ).........................: InternalHomOnMo\\\n",
      "rphismsWithGivenInternalHoms\n",
      "10\n",
      " .\t   -> evaluting in Rows( Q[x,y] ).........................: IdentityMorphis\\\n",
      "m\n",
      "10\n",
      " .\t   <- evaluted  in Rows( Q[x,y] ).........................: IdentityMorphis\\\n",
      "m\n",
      "11\n",
      " .\t   -> evaluting in Rows( Q[x,y] ).........................: InternalHomOnOb\\\n",
      "jects\n",
      "11\n",
      " .\t   <- evaluted  in Rows( Q[x,y] ).........................: InternalHomOnOb\\\n",
      "jects\n",
      "9.\t   <- evaluted  in Rows( Q[x,y] ).........................: InternalHomOnMo\\\n",
      "rphismsWithGivenInternalHoms\n",
      "2.\t <- evaluted  in Rows( Q[x,y] ).........................: PreCompose\n",
      "12\n",
      " .\t   -> evaluting in Rows( Q[x,y] ).........................: InternalHomOnMo\\\n",
      "rphismsWithGivenInternalHoms\n",
      "13\n",
      " .\t   -> evaluting in Rows( Q[x,y] ).........................: InternalHomOnOb\\\n",
      "jects\n",
      "13\n",
      " .\t   <- evaluted  in Rows( Q[x,y] ).........................: InternalHomOnOb\\\n",
      "jects\n",
      "14\n",
      " .\t   -> evaluting in Rows( Q[x,y] ).........................: IdentityMorphis\\\n",
      "m\n",
      "14\n",
      " .\t   <- evaluted  in Rows( Q[x,y] ).........................: IdentityMorphis\\\n",
      "m\n",
      "12\n",
      " .\t   <- evaluted  in Rows( Q[x,y] ).........................: InternalHomOnMo\\\n",
      "rphismsWithGivenInternalHoms\n",
      "15\n",
      " .\t   -> evaluting in Rows( Q[x,y] ).........................: BiasedWeakFiber\\\n",
      "Product\n",
      "15\n",
      " .\t   <- evaluted  in Rows( Q[x,y] ).........................: BiasedWeakFiber\\\n",
      "Product\n",
      "1.\t<- evaluted  in Rows( Q[x,y] ).........................: ProjectionOfBiased\\\n",
      "WeakFiberProductWithGivenBiasedWeakFiberProduct\n"
     ]
    },
    {
     "data": {
      "text/plain": [
       "true"
      ]
     },
     "execution_count": 26,
     "metadata": {},
     "output_type": "execute_result"
    }
   ],
   "source": [
    "K == IqJ"
   ]
  },
  {
   "cell_type": "code",
   "execution_count": null,
   "metadata": {},
   "outputs": [],
   "source": []
  }
 ],
 "metadata": {
  "@webio": {
   "lastCommId": null,
   "lastKernelId": null
  },
  "kernelspec": {
   "display_name": "Julia 1.4.1",
   "language": "julia",
   "name": "julia-1.4"
  },
  "language_info": {
   "file_extension": ".jl",
   "mimetype": "application/julia",
   "name": "julia",
   "version": "1.4.1"
  }
 },
 "nbformat": 4,
 "nbformat_minor": 2
}
