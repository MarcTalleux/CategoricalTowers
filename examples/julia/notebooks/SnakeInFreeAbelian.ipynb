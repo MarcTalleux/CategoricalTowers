{
 "cells": [
  {
   "cell_type": "code",
   "execution_count": 1,
   "metadata": {},
   "outputs": [
    {
     "name": "stdout",
     "output_type": "stream",
     "text": [
      "CapAndHomalg v\u001b[32m1.4.1\u001b[39m\n",
      "Imported OSCAR's components GAP and Singular_jll\n",
      "Type: ?CapAndHomalg for more information\n"
     ]
    }
   ],
   "source": [
    "using CapAndHomalg"
   ]
  },
  {
   "cell_type": "code",
   "execution_count": 2,
   "metadata": {},
   "outputs": [],
   "source": [
    "LoadPackage( \"Algebroid\" )"
   ]
  },
  {
   "cell_type": "code",
   "execution_count": 3,
   "metadata": {},
   "outputs": [
    {
     "data": {
      "text/plain": [
       "GAP: q(4)[a:1->2,b:2->3,c:3->4]"
      ]
     },
     "execution_count": 3,
     "metadata": {},
     "output_type": "execute_result"
    }
   ],
   "source": [
    "q = RightQuiver( \"q(4)[a:1->2,b:2->3,c:3->4]\" )"
   ]
  },
  {
   "cell_type": "code",
   "execution_count": 4,
   "metadata": {},
   "outputs": [
    {
     "data": {
      "text/plain": [
       "GAP: FreeCategory( RightQuiver( \"q(4)[a:1->2,b:2->3,c:3->4]\" ) )"
      ]
     },
     "execution_count": 4,
     "metadata": {},
     "output_type": "execute_result"
    }
   ],
   "source": [
    "Fq = FreeCategory( q )"
   ]
  },
  {
   "cell_type": "code",
   "execution_count": 5,
   "metadata": {},
   "outputs": [
    {
     "data": {
      "text/plain": [
       "GAP: Z"
      ]
     },
     "execution_count": 5,
     "metadata": {},
     "output_type": "execute_result"
    }
   ],
   "source": [
    "ℤ = HomalgRingOfIntegers( )"
   ]
  },
  {
   "cell_type": "code",
   "execution_count": 6,
   "metadata": {},
   "outputs": [
    {
     "data": {
      "text/plain": [
       "GAP: Algebroid( Z, FreeCategory( RightQuiver( \"q(4)[a:1->2,b:2->3,c:3->4]\" ) ) )"
      ]
     },
     "execution_count": 6,
     "metadata": {},
     "output_type": "execute_result"
    }
   ],
   "source": [
    "ℤq = ℤ[Fq]"
   ]
  },
  {
   "cell_type": "code",
   "execution_count": 7,
   "metadata": {},
   "outputs": [
    {
     "data": {
      "text/plain": [
       "GAP: Algebroid( Z, FreeCategory( RightQuiver( \"q(4)[a:1->2,b:2->3,c:3->4]\" ) ) ) / relations"
      ]
     },
     "execution_count": 7,
     "metadata": {},
     "output_type": "execute_result"
    }
   ],
   "source": [
    "A = ℤq / [ ℤq.abc ]"
   ]
  },
  {
   "cell_type": "code",
   "execution_count": 8,
   "metadata": {},
   "outputs": [],
   "source": [
    "LoadPackage( \"FreydCategoriesForCAP\" )"
   ]
  },
  {
   "cell_type": "code",
   "execution_count": 9,
   "metadata": {},
   "outputs": [
    {
     "data": {
      "text/plain": [
       "GAP: Additive closure( Algebroid( Z, FreeCategory( RightQuiver( \"q(4)[a:1->2,b:2->3,c:3->4]\" ) ) ) / relations )"
      ]
     },
     "execution_count": 9,
     "metadata": {},
     "output_type": "execute_result"
    }
   ],
   "source": [
    "A_add = AdditiveClosure( A )"
   ]
  },
  {
   "cell_type": "code",
   "execution_count": 10,
   "metadata": {},
   "outputs": [
    {
     "data": {
      "text/plain": [
       "GAP: Adelman category( Additive closure( Algebroid( Z, FreeCategory( RightQuiver( \"q(4)[a:1->2,b:2->3,c:3->4]\" ) ) ) / relations ) )"
      ]
     },
     "execution_count": 10,
     "metadata": {},
     "output_type": "execute_result"
    }
   ],
   "source": [
    "A_abel = AdelmanCategory( A_add )"
   ]
  },
  {
   "cell_type": "code",
   "execution_count": 11,
   "metadata": {},
   "outputs": [],
   "source": [
    "LoadPackage( \"LazyCategories\" )"
   ]
  },
  {
   "cell_type": "code",
   "execution_count": 12,
   "metadata": {},
   "outputs": [
    {
     "data": {
      "text/plain": [
       "GAP: LazyCategory( Adelman category( Additive closure( Algebroid( Z, FreeCategory( RightQuiver( \"q(4)[a:1->2,b:2->3,c:3->4]\" ) ) ) / relations ) ) )"
      ]
     },
     "execution_count": 12,
     "metadata": {},
     "output_type": "execute_result"
    }
   ],
   "source": [
    "Lazy = LazyCategory( A_abel, show_evaluation = true )"
   ]
  },
  {
   "cell_type": "code",
   "execution_count": 13,
   "metadata": {},
   "outputs": [
    {
     "data": {
      "text/plain": [
       "GAP: <An evaluated morphism in LazyCategory( Adelman category( Additive closure( Algebroid( Z, FreeCategory( RightQuiver( \"q(4)[a:1->2,b:2->3,c:3->4]\" ) ) ) / relations ) ) )>"
      ]
     },
     "execution_count": 13,
     "metadata": {},
     "output_type": "execute_result"
    }
   ],
   "source": [
    "a = A.a / A_add / A_abel / Lazy"
   ]
  },
  {
   "cell_type": "code",
   "execution_count": 14,
   "metadata": {},
   "outputs": [
    {
     "data": {
      "text/plain": [
       "GAP: <An evaluated morphism in LazyCategory( Adelman category( Additive closure( Algebroid( Z, FreeCategory( RightQuiver( \"q(4)[a:1->2,b:2->3,c:3->4]\" ) ) ) / relations ) ) )>"
      ]
     },
     "execution_count": 14,
     "metadata": {},
     "output_type": "execute_result"
    }
   ],
   "source": [
    "b = A.b / A_add / A_abel / Lazy"
   ]
  },
  {
   "cell_type": "code",
   "execution_count": 15,
   "metadata": {},
   "outputs": [
    {
     "data": {
      "text/plain": [
       "GAP: <An evaluated morphism in LazyCategory( Adelman category( Additive closure( Algebroid( Z, FreeCategory( RightQuiver( \"q(4)[a:1->2,b:2->3,c:3->4]\" ) ) ) / relations ) ) )>"
      ]
     },
     "execution_count": 15,
     "metadata": {},
     "output_type": "execute_result"
    }
   ],
   "source": [
    "c = A.c / A_add / A_abel / Lazy"
   ]
  },
  {
   "cell_type": "code",
   "execution_count": 16,
   "metadata": {},
   "outputs": [],
   "source": [
    "SetLabel( a, \"a\" )\n",
    "SetLabel( b, \"b\" )\n",
    "SetLabel( c, \"c\" )"
   ]
  },
  {
   "cell_type": "code",
   "execution_count": 17,
   "metadata": {},
   "outputs": [],
   "source": [
    "SetLabel( Source( a ), \"1\" )\n",
    "SetLabel( Source( b ), \"2\" )\n",
    "SetLabel( Range( b ), \"3\" )\n",
    "SetLabel( Range( c ), \"4\" )"
   ]
  },
  {
   "cell_type": "code",
   "execution_count": 18,
   "metadata": {},
   "outputs": [
    {
     "data": {
      "text/plain": [
       "GAP: <An epimorphism in LazyCategory( Adelman category( Additive closure( Algebroid( Z, FreeCategory( RightQuiver( \"q(4)[a:1->2,b:2->3,c:3->4]\" ) ) ) / relations ) ) )>"
      ]
     },
     "execution_count": 18,
     "metadata": {},
     "output_type": "execute_result"
    }
   ],
   "source": [
    "d = CokernelProjection( a )"
   ]
  },
  {
   "cell_type": "code",
   "execution_count": 19,
   "metadata": {},
   "outputs": [
    {
     "data": {
      "text/plain": [
       "GAP: <A morphism in LazyCategory( Adelman category( Additive closure( Algebroid( Z, FreeCategory( RightQuiver( \"q(4)[a:1->2,b:2->3,c:3->4]\" ) ) ) / relations ) ) )>"
      ]
     },
     "execution_count": 19,
     "metadata": {},
     "output_type": "execute_result"
    }
   ],
   "source": [
    "e = CokernelColift( a, PreCompose( b, c ) )"
   ]
  },
  {
   "cell_type": "code",
   "execution_count": 20,
   "metadata": {},
   "outputs": [
    {
     "data": {
      "text/plain": [
       "GAP: <A monomorphism in LazyCategory( Adelman category( Additive closure( Algebroid( Z, FreeCategory( RightQuiver( \"q(4)[a:1->2,b:2->3,c:3->4]\" ) ) ) / relations ) ) )>"
      ]
     },
     "execution_count": 20,
     "metadata": {},
     "output_type": "execute_result"
    }
   ],
   "source": [
    "f = KernelEmbedding( e )"
   ]
  },
  {
   "cell_type": "code",
   "execution_count": 21,
   "metadata": {},
   "outputs": [
    {
     "data": {
      "text/plain": [
       "GAP: <A monomorphism in LazyCategory( Adelman category( Additive closure( Algebroid( Z, FreeCategory( RightQuiver( \"q(4)[a:1->2,b:2->3,c:3->4]\" ) ) ) / relations ) ) )>"
      ]
     },
     "execution_count": 21,
     "metadata": {},
     "output_type": "execute_result"
    }
   ],
   "source": [
    "g = KernelEmbedding( c )"
   ]
  },
  {
   "cell_type": "code",
   "execution_count": 22,
   "metadata": {},
   "outputs": [
    {
     "data": {
      "text/plain": [
       "GAP: <A morphism in LazyCategory( Adelman category( Additive closure( Algebroid( Z, FreeCategory( RightQuiver( \"q(4)[a:1->2,b:2->3,c:3->4]\" ) ) ) / relations ) ) )>"
      ]
     },
     "execution_count": 22,
     "metadata": {},
     "output_type": "execute_result"
    }
   ],
   "source": [
    "h = KernelLift( c, PreCompose( a, b ) )"
   ]
  },
  {
   "cell_type": "code",
   "execution_count": 23,
   "metadata": {},
   "outputs": [
    {
     "data": {
      "text/plain": [
       "GAP: <An epimorphism in LazyCategory( Adelman category( Additive closure( Algebroid( Z, FreeCategory( RightQuiver( \"q(4)[a:1->2,b:2->3,c:3->4]\" ) ) ) / relations ) ) )>"
      ]
     },
     "execution_count": 23,
     "metadata": {},
     "output_type": "execute_result"
    }
   ],
   "source": [
    "i = CokernelProjection( h )"
   ]
  },
  {
   "cell_type": "code",
   "execution_count": 24,
   "metadata": {},
   "outputs": [],
   "source": [
    "LoadPackage( \"GeneralizedMorphismsForCAP\" )"
   ]
  },
  {
   "cell_type": "code",
   "execution_count": 25,
   "metadata": {},
   "outputs": [],
   "source": [
    "SwitchGeneralizedMorphismStandard( g\"cospan\" )"
   ]
  },
  {
   "cell_type": "code",
   "execution_count": 26,
   "metadata": {},
   "outputs": [
    {
     "data": {
      "text/plain": [
       "GAP: <A morphism in Generalized morphism category of LazyCategory( Adelman category( Additive closure( Algebroid( Z, FreeCategory( RightQuiver( \"q(4)[a:1->2,b:2->3,c:3->4]\" ) ) ) / relations ) ) ) by cospan>"
      ]
     },
     "execution_count": 26,
     "metadata": {},
     "output_type": "execute_result"
    }
   ],
   "source": [
    "ff = AsGeneralizedMorphism( f )"
   ]
  },
  {
   "cell_type": "code",
   "execution_count": 27,
   "metadata": {},
   "outputs": [
    {
     "data": {
      "text/plain": [
       "GAP: <A morphism in Generalized morphism category of LazyCategory( Adelman category( Additive closure( Algebroid( Z, FreeCategory( RightQuiver( \"q(4)[a:1->2,b:2->3,c:3->4]\" ) ) ) / relations ) ) ) by cospan>"
      ]
     },
     "execution_count": 27,
     "metadata": {},
     "output_type": "execute_result"
    }
   ],
   "source": [
    "dd = AsGeneralizedMorphism( d )"
   ]
  },
  {
   "cell_type": "code",
   "execution_count": 28,
   "metadata": {},
   "outputs": [
    {
     "data": {
      "text/plain": [
       "GAP: <A morphism in Generalized morphism category of LazyCategory( Adelman category( Additive closure( Algebroid( Z, FreeCategory( RightQuiver( \"q(4)[a:1->2,b:2->3,c:3->4]\" ) ) ) / relations ) ) ) by cospan>"
      ]
     },
     "execution_count": 28,
     "metadata": {},
     "output_type": "execute_result"
    }
   ],
   "source": [
    "bb = AsGeneralizedMorphism( b )"
   ]
  },
  {
   "cell_type": "code",
   "execution_count": 29,
   "metadata": {},
   "outputs": [
    {
     "data": {
      "text/plain": [
       "GAP: <A morphism in Generalized morphism category of LazyCategory( Adelman category( Additive closure( Algebroid( Z, FreeCategory( RightQuiver( \"q(4)[a:1->2,b:2->3,c:3->4]\" ) ) ) / relations ) ) ) by cospan>"
      ]
     },
     "execution_count": 29,
     "metadata": {},
     "output_type": "execute_result"
    }
   ],
   "source": [
    "gg = AsGeneralizedMorphism( g )"
   ]
  },
  {
   "cell_type": "code",
   "execution_count": 30,
   "metadata": {},
   "outputs": [
    {
     "data": {
      "text/plain": [
       "GAP: <A morphism in Generalized morphism category of LazyCategory( Adelman category( Additive closure( Algebroid( Z, FreeCategory( RightQuiver( \"q(4)[a:1->2,b:2->3,c:3->4]\" ) ) ) / relations ) ) ) by cospan>"
      ]
     },
     "execution_count": 30,
     "metadata": {},
     "output_type": "execute_result"
    }
   ],
   "source": [
    "ii = AsGeneralizedMorphism( i )"
   ]
  },
  {
   "cell_type": "code",
   "execution_count": 31,
   "metadata": {},
   "outputs": [
    {
     "data": {
      "text/plain": [
       "GAP: <A morphism in Generalized morphism category of LazyCategory( Adelman category( Additive closure( Algebroid( Z, FreeCategory( RightQuiver( \"q(4)[a:1->2,b:2->3,c:3->4]\" ) ) ) / relations ) ) ) by cospan>"
      ]
     },
     "execution_count": 31,
     "metadata": {},
     "output_type": "execute_result"
    }
   ],
   "source": [
    "ss = PreCompose( [ ff, PseudoInverse( dd ), bb, PseudoInverse( gg ), ii ] )"
   ]
  },
  {
   "cell_type": "code",
   "execution_count": 32,
   "metadata": {},
   "outputs": [
    {
     "data": {
      "text/plain": [
       "GAP: <A morphism in LazyCategory( Adelman category( Additive closure( Algebroid( Z, FreeCategory( RightQuiver( \"q(4)[a:1->2,b:2->3,c:3->4]\" ) ) ) / relations ) ) )>"
      ]
     },
     "execution_count": 32,
     "metadata": {},
     "output_type": "execute_result"
    }
   ],
   "source": [
    "s = HonestRepresentative( ss )"
   ]
  },
  {
   "cell_type": "code",
   "execution_count": 33,
   "metadata": {
    "scrolled": false
   },
   "outputs": [
    {
     "data": {
      "image/svg+xml": [
       "<?xml version=\"1.0\" encoding=\"UTF-8\" standalone=\"no\"?>\n",
       "<!DOCTYPE svg PUBLIC \"-//W3C//DTD SVG 1.1//EN\"\n",
       " \"http://www.w3.org/Graphics/SVG/1.1/DTD/svg11.dtd\">\n",
       "<!-- Generated by graphviz version 3.0.0 (20220226.1711)\n",
       " -->\n",
       "<!-- Title: hgn Pages: 1 -->\n",
       "<svg width=\"831pt\" height=\"1587pt\"\n",
       " viewBox=\"0.00 0.00 831.00 1587.00\" xmlns=\"http://www.w3.org/2000/svg\" xmlns:xlink=\"http://www.w3.org/1999/xlink\">\n",
       "<g id=\"graph0\" class=\"graph\" transform=\"scale(1 1) rotate(0) translate(4 1583)\">\n",
       "<title>hgn</title>\n",
       "<polygon fill=\"white\" stroke=\"transparent\" points=\"-4,4 -4,-1583 827,-1583 827,4 -4,4\"/>\n",
       "<!-- 1 -->\n",
       "<g id=\"node1\" class=\"node\">\n",
       "<title>1</title>\n",
       "<polygon fill=\"none\" stroke=\"black\" points=\"661,-1579 588,-1579 588,-1511 661,-1511 661,-1579\"/>\n",
       "<text text-anchor=\"middle\" x=\"624.5\" y=\"-1563.8\" font-family=\"Times,serif\" font-size=\"14.00\">[1]</text>\n",
       "<text text-anchor=\"middle\" x=\"624.5\" y=\"-1548.8\" font-family=\"Times,serif\" font-size=\"14.00\">primitive</text>\n",
       "<text text-anchor=\"middle\" x=\"624.5\" y=\"-1533.8\" font-family=\"Times,serif\" font-size=\"14.00\">morphism</text>\n",
       "<text text-anchor=\"middle\" x=\"624.5\" y=\"-1518.8\" font-family=\"Times,serif\" font-size=\"14.00\">&lt;a&gt;</text>\n",
       "</g>\n",
       "<!-- 2 -->\n",
       "<g id=\"node2\" class=\"node\">\n",
       "<title>2</title>\n",
       "<polygon fill=\"none\" stroke=\"black\" points=\"686.5,-1466.5 620.5,-1466.5 620.5,-1413.5 686.5,-1413.5 686.5,-1466.5\"/>\n",
       "<text text-anchor=\"middle\" x=\"653.5\" y=\"-1451.3\" font-family=\"Times,serif\" font-size=\"14.00\">[2]</text>\n",
       "<text text-anchor=\"middle\" x=\"653.5\" y=\"-1436.3\" font-family=\"Times,serif\" font-size=\"14.00\">Cokernel</text>\n",
       "<text text-anchor=\"middle\" x=\"653.5\" y=\"-1421.3\" font-family=\"Times,serif\" font-size=\"14.00\">Object</text>\n",
       "</g>\n",
       "<!-- 1&#45;&gt;2 -->\n",
       "<g id=\"edge1\" class=\"edge\">\n",
       "<title>1&#45;&gt;2</title>\n",
       "<path fill=\"none\" stroke=\"black\" d=\"M633.84,-1510.84C636.93,-1499.86 640.38,-1487.59 643.52,-1476.44\"/>\n",
       "<polygon fill=\"black\" stroke=\"black\" points=\"646.96,-1477.15 646.3,-1466.58 640.22,-1475.26 646.96,-1477.15\"/>\n",
       "</g>\n",
       "<!-- 7 -->\n",
       "<g id=\"node7\" class=\"node\">\n",
       "<title>7</title>\n",
       "<polygon fill=\"none\" stroke=\"black\" points=\"311.5,-1347.5 243.5,-1347.5 243.5,-1294.5 311.5,-1294.5 311.5,-1347.5\"/>\n",
       "<text text-anchor=\"middle\" x=\"277.5\" y=\"-1332.3\" font-family=\"Times,serif\" font-size=\"14.00\">[7]</text>\n",
       "<text text-anchor=\"middle\" x=\"277.5\" y=\"-1317.3\" font-family=\"Times,serif\" font-size=\"14.00\">Pre</text>\n",
       "<text text-anchor=\"middle\" x=\"277.5\" y=\"-1302.3\" font-family=\"Times,serif\" font-size=\"14.00\">Compose</text>\n",
       "</g>\n",
       "<!-- 1&#45;&gt;7 -->\n",
       "<g id=\"edge4\" class=\"edge\">\n",
       "<title>1&#45;&gt;7</title>\n",
       "<path fill=\"none\" stroke=\"black\" d=\"M587.54,-1543.65C530.65,-1541.29 420.73,-1529.27 349.5,-1474 312.44,-1445.24 293.54,-1392.72 284.6,-1357.59\"/>\n",
       "<polygon fill=\"black\" stroke=\"black\" points=\"287.97,-1356.64 282.24,-1347.73 281.17,-1358.27 287.97,-1356.64\"/>\n",
       "<text text-anchor=\"middle\" x=\"353\" y=\"-1436.3\" font-family=\"Times,serif\" font-size=\"14.00\">1</text>\n",
       "</g>\n",
       "<!-- 10 -->\n",
       "<g id=\"node10\" class=\"node\">\n",
       "<title>10</title>\n",
       "<polygon fill=\"none\" stroke=\"black\" points=\"656.5,-1355 534.5,-1355 534.5,-1287 656.5,-1287 656.5,-1355\"/>\n",
       "<text text-anchor=\"middle\" x=\"595.5\" y=\"-1339.8\" font-family=\"Times,serif\" font-size=\"14.00\">[10]</text>\n",
       "<text text-anchor=\"middle\" x=\"595.5\" y=\"-1324.8\" font-family=\"Times,serif\" font-size=\"14.00\">CokernelProjection</text>\n",
       "<text text-anchor=\"middle\" x=\"595.5\" y=\"-1309.8\" font-family=\"Times,serif\" font-size=\"14.00\">WithGiven</text>\n",
       "<text text-anchor=\"middle\" x=\"595.5\" y=\"-1294.8\" font-family=\"Times,serif\" font-size=\"14.00\">CokernelObject</text>\n",
       "</g>\n",
       "<!-- 1&#45;&gt;10 -->\n",
       "<g id=\"edge7\" class=\"edge\">\n",
       "<title>1&#45;&gt;10</title>\n",
       "<path fill=\"none\" stroke=\"black\" d=\"M613.43,-1510.87C610,-1499.33 606.58,-1486.21 604.5,-1474 598.33,-1437.75 596.2,-1396.02 595.55,-1365.46\"/>\n",
       "<polygon fill=\"black\" stroke=\"black\" points=\"599.05,-1365.09 595.38,-1355.15 592.05,-1365.21 599.05,-1365.09\"/>\n",
       "<text text-anchor=\"middle\" x=\"608\" y=\"-1436.3\" font-family=\"Times,serif\" font-size=\"14.00\">1</text>\n",
       "</g>\n",
       "<!-- 12 -->\n",
       "<g id=\"node12\" class=\"node\">\n",
       "<title>12</title>\n",
       "<polygon fill=\"none\" stroke=\"black\" points=\"777.5,-1236 675.5,-1236 675.5,-1168 777.5,-1168 777.5,-1236\"/>\n",
       "<text text-anchor=\"middle\" x=\"726.5\" y=\"-1220.8\" font-family=\"Times,serif\" font-size=\"14.00\">[12]</text>\n",
       "<text text-anchor=\"middle\" x=\"726.5\" y=\"-1205.8\" font-family=\"Times,serif\" font-size=\"14.00\">CokernelColift</text>\n",
       "<text text-anchor=\"middle\" x=\"726.5\" y=\"-1190.8\" font-family=\"Times,serif\" font-size=\"14.00\">WithGiven</text>\n",
       "<text text-anchor=\"middle\" x=\"726.5\" y=\"-1175.8\" font-family=\"Times,serif\" font-size=\"14.00\">CokernelObject</text>\n",
       "</g>\n",
       "<!-- 1&#45;&gt;12 -->\n",
       "<g id=\"edge11\" class=\"edge\">\n",
       "<title>1&#45;&gt;12</title>\n",
       "<path fill=\"none\" stroke=\"black\" d=\"M661.36,-1516.31C674.23,-1504.68 687.46,-1490.11 695.5,-1474 732.17,-1400.56 733.39,-1302.34 730.36,-1246.56\"/>\n",
       "<polygon fill=\"black\" stroke=\"black\" points=\"733.84,-1246.08 729.73,-1236.32 726.85,-1246.51 733.84,-1246.08\"/>\n",
       "<text text-anchor=\"middle\" x=\"728\" y=\"-1376.8\" font-family=\"Times,serif\" font-size=\"14.00\">1</text>\n",
       "</g>\n",
       "<!-- 2&#45;&gt;10 -->\n",
       "<g id=\"edge8\" class=\"edge\">\n",
       "<title>2&#45;&gt;10</title>\n",
       "<path fill=\"none\" stroke=\"black\" d=\"M640.77,-1413.32C633.69,-1399.04 624.7,-1380.9 616.6,-1364.55\"/>\n",
       "<polygon fill=\"black\" stroke=\"black\" points=\"619.53,-1362.59 611.95,-1355.18 613.25,-1365.7 619.53,-1362.59\"/>\n",
       "<text text-anchor=\"middle\" x=\"632\" y=\"-1376.8\" font-family=\"Times,serif\" font-size=\"14.00\">2</text>\n",
       "</g>\n",
       "<!-- 2&#45;&gt;12 -->\n",
       "<g id=\"edge14\" class=\"edge\">\n",
       "<title>2&#45;&gt;12</title>\n",
       "<path fill=\"none\" stroke=\"black\" d=\"M661.45,-1413.29C673.9,-1373.06 698.12,-1294.76 713.23,-1245.89\"/>\n",
       "<polygon fill=\"black\" stroke=\"black\" points=\"716.61,-1246.81 716.22,-1236.23 709.92,-1244.75 716.61,-1246.81\"/>\n",
       "<text text-anchor=\"middle\" x=\"704\" y=\"-1317.3\" font-family=\"Times,serif\" font-size=\"14.00\">4</text>\n",
       "</g>\n",
       "<!-- 3 -->\n",
       "<g id=\"node3\" class=\"node\">\n",
       "<title>3</title>\n",
       "<polygon fill=\"none\" stroke=\"black\" points=\"439,-1474 366,-1474 366,-1406 439,-1406 439,-1474\"/>\n",
       "<text text-anchor=\"middle\" x=\"402.5\" y=\"-1458.8\" font-family=\"Times,serif\" font-size=\"14.00\">[3]</text>\n",
       "<text text-anchor=\"middle\" x=\"402.5\" y=\"-1443.8\" font-family=\"Times,serif\" font-size=\"14.00\">primitive</text>\n",
       "<text text-anchor=\"middle\" x=\"402.5\" y=\"-1428.8\" font-family=\"Times,serif\" font-size=\"14.00\">morphism</text>\n",
       "<text text-anchor=\"middle\" x=\"402.5\" y=\"-1413.8\" font-family=\"Times,serif\" font-size=\"14.00\">&lt;b&gt;</text>\n",
       "</g>\n",
       "<!-- 5 -->\n",
       "<g id=\"node5\" class=\"node\">\n",
       "<title>5</title>\n",
       "<polygon fill=\"none\" stroke=\"black\" points=\"435.5,-1347.5 367.5,-1347.5 367.5,-1294.5 435.5,-1294.5 435.5,-1347.5\"/>\n",
       "<text text-anchor=\"middle\" x=\"401.5\" y=\"-1332.3\" font-family=\"Times,serif\" font-size=\"14.00\">[5]</text>\n",
       "<text text-anchor=\"middle\" x=\"401.5\" y=\"-1317.3\" font-family=\"Times,serif\" font-size=\"14.00\">Pre</text>\n",
       "<text text-anchor=\"middle\" x=\"401.5\" y=\"-1302.3\" font-family=\"Times,serif\" font-size=\"14.00\">Compose</text>\n",
       "</g>\n",
       "<!-- 3&#45;&gt;5 -->\n",
       "<g id=\"edge2\" class=\"edge\">\n",
       "<title>3&#45;&gt;5</title>\n",
       "<path fill=\"none\" stroke=\"black\" d=\"M402.22,-1405.79C402.09,-1390.85 401.94,-1373.2 401.81,-1357.96\"/>\n",
       "<polygon fill=\"black\" stroke=\"black\" points=\"405.31,-1357.83 401.72,-1347.86 398.31,-1357.89 405.31,-1357.83\"/>\n",
       "<text text-anchor=\"middle\" x=\"406\" y=\"-1376.8\" font-family=\"Times,serif\" font-size=\"14.00\">1</text>\n",
       "</g>\n",
       "<!-- 3&#45;&gt;7 -->\n",
       "<g id=\"edge5\" class=\"edge\">\n",
       "<title>3&#45;&gt;7</title>\n",
       "<path fill=\"none\" stroke=\"black\" d=\"M365.98,-1421.73C350.17,-1413.09 332.2,-1401.56 318.5,-1388 309.36,-1378.96 301.35,-1367.5 294.88,-1356.68\"/>\n",
       "<polygon fill=\"black\" stroke=\"black\" points=\"297.82,-1354.76 289.83,-1347.8 291.74,-1358.22 297.82,-1354.76\"/>\n",
       "<text text-anchor=\"middle\" x=\"322\" y=\"-1376.8\" font-family=\"Times,serif\" font-size=\"14.00\">2</text>\n",
       "</g>\n",
       "<!-- 11 -->\n",
       "<g id=\"node11\" class=\"node\">\n",
       "<title>11</title>\n",
       "<polygon fill=\"none\" stroke=\"black\" points=\"545.5,-1221 485.5,-1221 485.5,-1183 545.5,-1183 545.5,-1221\"/>\n",
       "<text text-anchor=\"middle\" x=\"515.5\" y=\"-1205.8\" font-family=\"Times,serif\" font-size=\"14.00\">[11]</text>\n",
       "<text text-anchor=\"middle\" x=\"515.5\" y=\"-1190.8\" font-family=\"Times,serif\" font-size=\"14.00\">Pushout</text>\n",
       "</g>\n",
       "<!-- 3&#45;&gt;11 -->\n",
       "<g id=\"edge10\" class=\"edge\">\n",
       "<title>3&#45;&gt;11</title>\n",
       "<path fill=\"none\" stroke=\"black\" d=\"M439.26,-1421.76C453.24,-1413.44 468.07,-1402.15 477.5,-1388 509.67,-1339.75 515.53,-1269.86 516.07,-1231.27\"/>\n",
       "<polygon fill=\"black\" stroke=\"black\" points=\"519.57,-1231.27 516.11,-1221.26 512.57,-1231.25 519.57,-1231.27\"/>\n",
       "<text text-anchor=\"middle\" x=\"516\" y=\"-1317.3\" font-family=\"Times,serif\" font-size=\"14.00\">2</text>\n",
       "</g>\n",
       "<!-- 16 -->\n",
       "<g id=\"node16\" class=\"node\">\n",
       "<title>16</title>\n",
       "<polygon fill=\"none\" stroke=\"black\" points=\"463.5,-1117 279.5,-1117 279.5,-1064 463.5,-1064 463.5,-1117\"/>\n",
       "<text text-anchor=\"middle\" x=\"371.5\" y=\"-1101.8\" font-family=\"Times,serif\" font-size=\"14.00\">[16]</text>\n",
       "<text text-anchor=\"middle\" x=\"371.5\" y=\"-1086.8\" font-family=\"Times,serif\" font-size=\"14.00\">InjectionOfCofactorOfPushout</text>\n",
       "<text text-anchor=\"middle\" x=\"371.5\" y=\"-1071.8\" font-family=\"Times,serif\" font-size=\"14.00\">WithGivenPushout( 2 )</text>\n",
       "</g>\n",
       "<!-- 3&#45;&gt;16 -->\n",
       "<g id=\"edge22\" class=\"edge\">\n",
       "<title>3&#45;&gt;16</title>\n",
       "<path fill=\"none\" stroke=\"black\" d=\"M365.87,-1407.98C360.82,-1401.91 356.39,-1395.18 353.5,-1388 317.89,-1299.54 343.11,-1184.19 359.87,-1126.94\"/>\n",
       "<polygon fill=\"black\" stroke=\"black\" points=\"363.24,-1127.86 362.78,-1117.27 356.54,-1125.84 363.24,-1127.86\"/>\n",
       "<text text-anchor=\"middle\" x=\"340\" y=\"-1257.8\" font-family=\"Times,serif\" font-size=\"14.00\">2</text>\n",
       "</g>\n",
       "<!-- 18 -->\n",
       "<g id=\"node18\" class=\"node\">\n",
       "<title>18</title>\n",
       "<polygon fill=\"none\" stroke=\"black\" points=\"666.5,-1117 482.5,-1117 482.5,-1064 666.5,-1064 666.5,-1117\"/>\n",
       "<text text-anchor=\"middle\" x=\"574.5\" y=\"-1101.8\" font-family=\"Times,serif\" font-size=\"14.00\">[18]</text>\n",
       "<text text-anchor=\"middle\" x=\"574.5\" y=\"-1086.8\" font-family=\"Times,serif\" font-size=\"14.00\">InjectionOfCofactorOfPushout</text>\n",
       "<text text-anchor=\"middle\" x=\"574.5\" y=\"-1071.8\" font-family=\"Times,serif\" font-size=\"14.00\">WithGivenPushout( 1 )</text>\n",
       "</g>\n",
       "<!-- 3&#45;&gt;18 -->\n",
       "<g id=\"edge27\" class=\"edge\">\n",
       "<title>3&#45;&gt;18</title>\n",
       "<path fill=\"none\" stroke=\"black\" d=\"M422.02,-1405.64C430.07,-1390.6 438.82,-1372.35 444.5,-1355 470.75,-1274.87 433.24,-1240.38 476.5,-1168 487.11,-1150.25 503.5,-1135.07 519.86,-1123.03\"/>\n",
       "<polygon fill=\"black\" stroke=\"black\" points=\"522.23,-1125.64 528.39,-1117.02 518.2,-1119.92 522.23,-1125.64\"/>\n",
       "<text text-anchor=\"middle\" x=\"458\" y=\"-1257.8\" font-family=\"Times,serif\" font-size=\"14.00\">2</text>\n",
       "</g>\n",
       "<!-- 4 -->\n",
       "<g id=\"node4\" class=\"node\">\n",
       "<title>4</title>\n",
       "<polygon fill=\"none\" stroke=\"black\" points=\"231,-1474 158,-1474 158,-1406 231,-1406 231,-1474\"/>\n",
       "<text text-anchor=\"middle\" x=\"194.5\" y=\"-1458.8\" font-family=\"Times,serif\" font-size=\"14.00\">[4]</text>\n",
       "<text text-anchor=\"middle\" x=\"194.5\" y=\"-1443.8\" font-family=\"Times,serif\" font-size=\"14.00\">primitive</text>\n",
       "<text text-anchor=\"middle\" x=\"194.5\" y=\"-1428.8\" font-family=\"Times,serif\" font-size=\"14.00\">morphism</text>\n",
       "<text text-anchor=\"middle\" x=\"194.5\" y=\"-1413.8\" font-family=\"Times,serif\" font-size=\"14.00\">&lt;c&gt;</text>\n",
       "</g>\n",
       "<!-- 4&#45;&gt;5 -->\n",
       "<g id=\"edge3\" class=\"edge\">\n",
       "<title>4&#45;&gt;5</title>\n",
       "<path fill=\"none\" stroke=\"black\" d=\"M231.13,-1417.95C239.61,-1413.6 248.73,-1409.34 257.5,-1406 288.33,-1394.26 300.45,-1403.62 329.5,-1388 345.21,-1379.55 360.16,-1366.91 372.33,-1354.94\"/>\n",
       "<polygon fill=\"black\" stroke=\"black\" points=\"375.01,-1357.2 379.53,-1347.62 370.02,-1352.29 375.01,-1357.2\"/>\n",
       "<text text-anchor=\"middle\" x=\"356\" y=\"-1376.8\" font-family=\"Times,serif\" font-size=\"14.00\">2</text>\n",
       "</g>\n",
       "<!-- 9 -->\n",
       "<g id=\"node9\" class=\"node\">\n",
       "<title>9</title>\n",
       "<polygon fill=\"none\" stroke=\"black\" points=\"182.5,-1347.5 128.5,-1347.5 128.5,-1294.5 182.5,-1294.5 182.5,-1347.5\"/>\n",
       "<text text-anchor=\"middle\" x=\"155.5\" y=\"-1332.3\" font-family=\"Times,serif\" font-size=\"14.00\">[9]</text>\n",
       "<text text-anchor=\"middle\" x=\"155.5\" y=\"-1317.3\" font-family=\"Times,serif\" font-size=\"14.00\">Kernel</text>\n",
       "<text text-anchor=\"middle\" x=\"155.5\" y=\"-1302.3\" font-family=\"Times,serif\" font-size=\"14.00\">Object</text>\n",
       "</g>\n",
       "<!-- 4&#45;&gt;9 -->\n",
       "<g id=\"edge6\" class=\"edge\">\n",
       "<title>4&#45;&gt;9</title>\n",
       "<path fill=\"none\" stroke=\"black\" d=\"M183.43,-1405.79C178.4,-1390.71 172.45,-1372.86 167.34,-1357.52\"/>\n",
       "<polygon fill=\"black\" stroke=\"black\" points=\"170.6,-1356.24 164.12,-1347.86 163.96,-1358.45 170.6,-1356.24\"/>\n",
       "</g>\n",
       "<!-- 14 -->\n",
       "<g id=\"node14\" class=\"node\">\n",
       "<title>14</title>\n",
       "<polygon fill=\"none\" stroke=\"black\" points=\"162,-1236 73,-1236 73,-1168 162,-1168 162,-1236\"/>\n",
       "<text text-anchor=\"middle\" x=\"117.5\" y=\"-1220.8\" font-family=\"Times,serif\" font-size=\"14.00\">[14]</text>\n",
       "<text text-anchor=\"middle\" x=\"117.5\" y=\"-1205.8\" font-family=\"Times,serif\" font-size=\"14.00\">KernelLift</text>\n",
       "<text text-anchor=\"middle\" x=\"117.5\" y=\"-1190.8\" font-family=\"Times,serif\" font-size=\"14.00\">WithGiven</text>\n",
       "<text text-anchor=\"middle\" x=\"117.5\" y=\"-1175.8\" font-family=\"Times,serif\" font-size=\"14.00\">KernelObject</text>\n",
       "</g>\n",
       "<!-- 4&#45;&gt;14 -->\n",
       "<g id=\"edge16\" class=\"edge\">\n",
       "<title>4&#45;&gt;14</title>\n",
       "<path fill=\"none\" stroke=\"black\" d=\"M157.9,-1412.61C140.63,-1397.85 121.8,-1377.84 112.5,-1355 98.41,-1320.4 101.42,-1277.61 106.94,-1246.25\"/>\n",
       "<polygon fill=\"black\" stroke=\"black\" points=\"110.44,-1246.57 108.88,-1236.09 103.57,-1245.25 110.44,-1246.57\"/>\n",
       "<text text-anchor=\"middle\" x=\"116\" y=\"-1317.3\" font-family=\"Times,serif\" font-size=\"14.00\">1</text>\n",
       "</g>\n",
       "<!-- 17 -->\n",
       "<g id=\"node17\" class=\"node\">\n",
       "<title>17</title>\n",
       "<polygon fill=\"none\" stroke=\"black\" points=\"296.5,-1236 180.5,-1236 180.5,-1168 296.5,-1168 296.5,-1236\"/>\n",
       "<text text-anchor=\"middle\" x=\"238.5\" y=\"-1220.8\" font-family=\"Times,serif\" font-size=\"14.00\">[17]</text>\n",
       "<text text-anchor=\"middle\" x=\"238.5\" y=\"-1205.8\" font-family=\"Times,serif\" font-size=\"14.00\">KernelEmbedding</text>\n",
       "<text text-anchor=\"middle\" x=\"238.5\" y=\"-1190.8\" font-family=\"Times,serif\" font-size=\"14.00\">WithGiven</text>\n",
       "<text text-anchor=\"middle\" x=\"238.5\" y=\"-1175.8\" font-family=\"Times,serif\" font-size=\"14.00\">KernelObject</text>\n",
       "</g>\n",
       "<!-- 4&#45;&gt;17 -->\n",
       "<g id=\"edge24\" class=\"edge\">\n",
       "<title>4&#45;&gt;17</title>\n",
       "<path fill=\"none\" stroke=\"black\" d=\"M200.66,-1405.94C208.45,-1364.19 221.86,-1292.26 230.45,-1246.2\"/>\n",
       "<polygon fill=\"black\" stroke=\"black\" points=\"233.91,-1246.69 232.31,-1236.22 227.03,-1245.41 233.91,-1246.69\"/>\n",
       "<text text-anchor=\"middle\" x=\"226\" y=\"-1317.3\" font-family=\"Times,serif\" font-size=\"14.00\">1</text>\n",
       "</g>\n",
       "<!-- 5&#45;&gt;12 -->\n",
       "<g id=\"edge13\" class=\"edge\">\n",
       "<title>5&#45;&gt;12</title>\n",
       "<path fill=\"none\" stroke=\"black\" d=\"M435.62,-1300.77C463.15,-1286 503.29,-1266.14 540.5,-1254 581.36,-1240.67 594.06,-1247.36 635.5,-1236 645.45,-1233.27 655.86,-1229.96 665.94,-1226.49\"/>\n",
       "<polygon fill=\"black\" stroke=\"black\" points=\"667.2,-1229.76 675.47,-1223.13 664.87,-1223.15 667.2,-1229.76\"/>\n",
       "<text text-anchor=\"middle\" x=\"544\" y=\"-1257.8\" font-family=\"Times,serif\" font-size=\"14.00\">3</text>\n",
       "</g>\n",
       "<!-- 6 -->\n",
       "<g id=\"node6\" class=\"node\">\n",
       "<title>6</title>\n",
       "<polygon fill=\"none\" stroke=\"black\" points=\"823,-1355 756,-1355 756,-1287 823,-1287 823,-1355\"/>\n",
       "<text text-anchor=\"middle\" x=\"789.5\" y=\"-1339.8\" font-family=\"Times,serif\" font-size=\"14.00\">[6]</text>\n",
       "<text text-anchor=\"middle\" x=\"789.5\" y=\"-1324.8\" font-family=\"Times,serif\" font-size=\"14.00\">primitive</text>\n",
       "<text text-anchor=\"middle\" x=\"789.5\" y=\"-1309.8\" font-family=\"Times,serif\" font-size=\"14.00\">object</text>\n",
       "<text text-anchor=\"middle\" x=\"789.5\" y=\"-1294.8\" font-family=\"Times,serif\" font-size=\"14.00\">&lt;4&gt;</text>\n",
       "</g>\n",
       "<!-- 6&#45;&gt;12 -->\n",
       "<g id=\"edge12\" class=\"edge\">\n",
       "<title>6&#45;&gt;12</title>\n",
       "<path fill=\"none\" stroke=\"black\" d=\"M771.62,-1286.79C764.7,-1273.94 756.7,-1259.08 749.37,-1245.48\"/>\n",
       "<polygon fill=\"black\" stroke=\"black\" points=\"752.25,-1243.44 744.43,-1236.3 746.09,-1246.76 752.25,-1243.44\"/>\n",
       "<text text-anchor=\"middle\" x=\"765\" y=\"-1257.8\" font-family=\"Times,serif\" font-size=\"14.00\">2</text>\n",
       "</g>\n",
       "<!-- 7&#45;&gt;14 -->\n",
       "<g id=\"edge18\" class=\"edge\">\n",
       "<title>7&#45;&gt;14</title>\n",
       "<path fill=\"none\" stroke=\"black\" d=\"M254.53,-1294.5C241.82,-1281.34 225.24,-1265.65 208.5,-1254 193.49,-1243.55 187.54,-1244.78 171.5,-1236 171.31,-1235.89 171.11,-1235.79 170.92,-1235.68\"/>\n",
       "<polygon fill=\"black\" stroke=\"black\" points=\"172.53,-1232.57 162.1,-1230.71 169.09,-1238.67 172.53,-1232.57\"/>\n",
       "<text text-anchor=\"middle\" x=\"231\" y=\"-1257.8\" font-family=\"Times,serif\" font-size=\"14.00\">3</text>\n",
       "</g>\n",
       "<!-- 8 -->\n",
       "<g id=\"node8\" class=\"node\">\n",
       "<title>8</title>\n",
       "<polygon fill=\"none\" stroke=\"black\" points=\"67,-1355 0,-1355 0,-1287 67,-1287 67,-1355\"/>\n",
       "<text text-anchor=\"middle\" x=\"33.5\" y=\"-1339.8\" font-family=\"Times,serif\" font-size=\"14.00\">[8]</text>\n",
       "<text text-anchor=\"middle\" x=\"33.5\" y=\"-1324.8\" font-family=\"Times,serif\" font-size=\"14.00\">primitive</text>\n",
       "<text text-anchor=\"middle\" x=\"33.5\" y=\"-1309.8\" font-family=\"Times,serif\" font-size=\"14.00\">object</text>\n",
       "<text text-anchor=\"middle\" x=\"33.5\" y=\"-1294.8\" font-family=\"Times,serif\" font-size=\"14.00\">&lt;1&gt;</text>\n",
       "</g>\n",
       "<!-- 8&#45;&gt;14 -->\n",
       "<g id=\"edge17\" class=\"edge\">\n",
       "<title>8&#45;&gt;14</title>\n",
       "<path fill=\"none\" stroke=\"black\" d=\"M57.35,-1286.79C66.75,-1273.69 77.65,-1258.51 87.57,-1244.69\"/>\n",
       "<polygon fill=\"black\" stroke=\"black\" points=\"90.61,-1246.46 93.59,-1236.3 84.92,-1242.38 90.61,-1246.46\"/>\n",
       "<text text-anchor=\"middle\" x=\"85\" y=\"-1257.8\" font-family=\"Times,serif\" font-size=\"14.00\">2</text>\n",
       "</g>\n",
       "<!-- 9&#45;&gt;14 -->\n",
       "<g id=\"edge19\" class=\"edge\">\n",
       "<title>9&#45;&gt;14</title>\n",
       "<path fill=\"none\" stroke=\"black\" d=\"M147.16,-1294.32C142.57,-1280.17 136.74,-1262.24 131.47,-1246.01\"/>\n",
       "<polygon fill=\"black\" stroke=\"black\" points=\"134.69,-1244.61 128.28,-1236.18 128.04,-1246.77 134.69,-1244.61\"/>\n",
       "<text text-anchor=\"middle\" x=\"143\" y=\"-1257.8\" font-family=\"Times,serif\" font-size=\"14.00\">4</text>\n",
       "</g>\n",
       "<!-- 9&#45;&gt;17 -->\n",
       "<g id=\"edge25\" class=\"edge\">\n",
       "<title>9&#45;&gt;17</title>\n",
       "<path fill=\"none\" stroke=\"black\" d=\"M170.82,-1294.5C178.51,-1282.07 188.16,-1267.03 197.5,-1254 199.82,-1250.77 202.27,-1247.47 204.77,-1244.18\"/>\n",
       "<polygon fill=\"black\" stroke=\"black\" points=\"207.7,-1246.11 211.05,-1236.06 202.16,-1241.82 207.7,-1246.11\"/>\n",
       "<text text-anchor=\"middle\" x=\"201\" y=\"-1257.8\" font-family=\"Times,serif\" font-size=\"14.00\">2</text>\n",
       "</g>\n",
       "<!-- 10&#45;&gt;11 -->\n",
       "<g id=\"edge9\" class=\"edge\">\n",
       "<title>10&#45;&gt;11</title>\n",
       "<path fill=\"none\" stroke=\"black\" d=\"M572.7,-1286.82C568.64,-1280.88 564.44,-1274.76 560.5,-1269 551.62,-1256.01 541.77,-1241.57 533.55,-1229.52\"/>\n",
       "<polygon fill=\"black\" stroke=\"black\" points=\"536.42,-1227.51 527.9,-1221.22 530.64,-1231.45 536.42,-1227.51\"/>\n",
       "<text text-anchor=\"middle\" x=\"564\" y=\"-1257.8\" font-family=\"Times,serif\" font-size=\"14.00\">1</text>\n",
       "</g>\n",
       "<!-- 10&#45;&gt;16 -->\n",
       "<g id=\"edge21\" class=\"edge\">\n",
       "<title>10&#45;&gt;16</title>\n",
       "<path fill=\"none\" stroke=\"black\" d=\"M590.03,-1286.67C583.02,-1247.5 569.89,-1185.58 554.5,-1168 541.01,-1152.59 500.54,-1134.98 461.08,-1120.55\"/>\n",
       "<polygon fill=\"black\" stroke=\"black\" points=\"462.21,-1117.24 451.62,-1117.14 459.84,-1123.82 462.21,-1117.24\"/>\n",
       "<text text-anchor=\"middle\" x=\"583\" y=\"-1198.3\" font-family=\"Times,serif\" font-size=\"14.00\">1</text>\n",
       "</g>\n",
       "<!-- 10&#45;&gt;18 -->\n",
       "<g id=\"edge26\" class=\"edge\">\n",
       "<title>10&#45;&gt;18</title>\n",
       "<path fill=\"none\" stroke=\"black\" d=\"M595.73,-1286.76C595.74,-1276.28 595.69,-1264.65 595.5,-1254 594.83,-1215.76 597.57,-1205.91 592.5,-1168 590.69,-1154.45 587.54,-1139.78 584.37,-1126.95\"/>\n",
       "<polygon fill=\"black\" stroke=\"black\" points=\"587.72,-1125.94 581.86,-1117.12 580.94,-1127.67 587.72,-1125.94\"/>\n",
       "<text text-anchor=\"middle\" x=\"600\" y=\"-1198.3\" font-family=\"Times,serif\" font-size=\"14.00\">1</text>\n",
       "</g>\n",
       "<!-- 11&#45;&gt;16 -->\n",
       "<g id=\"edge23\" class=\"edge\">\n",
       "<title>11&#45;&gt;16</title>\n",
       "<path fill=\"none\" stroke=\"black\" d=\"M491.72,-1182.92C470.46,-1166.75 438.81,-1142.68 413.32,-1123.3\"/>\n",
       "<polygon fill=\"black\" stroke=\"black\" points=\"415.36,-1120.45 405.28,-1117.19 411.12,-1126.03 415.36,-1120.45\"/>\n",
       "<text text-anchor=\"middle\" x=\"452\" y=\"-1138.8\" font-family=\"Times,serif\" font-size=\"14.00\">3</text>\n",
       "</g>\n",
       "<!-- 11&#45;&gt;18 -->\n",
       "<g id=\"edge28\" class=\"edge\">\n",
       "<title>11&#45;&gt;18</title>\n",
       "<path fill=\"none\" stroke=\"black\" d=\"M525.24,-1182.92C533.51,-1167.57 545.61,-1145.11 555.75,-1126.29\"/>\n",
       "<polygon fill=\"black\" stroke=\"black\" points=\"558.89,-1127.86 560.55,-1117.39 552.72,-1124.54 558.89,-1127.86\"/>\n",
       "<text text-anchor=\"middle\" x=\"554\" y=\"-1138.8\" font-family=\"Times,serif\" font-size=\"14.00\">3</text>\n",
       "</g>\n",
       "<!-- 13 -->\n",
       "<g id=\"node13\" class=\"node\">\n",
       "<title>13</title>\n",
       "<polygon fill=\"none\" stroke=\"black\" points=\"738.5,-1117 684.5,-1117 684.5,-1064 738.5,-1064 738.5,-1117\"/>\n",
       "<text text-anchor=\"middle\" x=\"711.5\" y=\"-1101.8\" font-family=\"Times,serif\" font-size=\"14.00\">[13]</text>\n",
       "<text text-anchor=\"middle\" x=\"711.5\" y=\"-1086.8\" font-family=\"Times,serif\" font-size=\"14.00\">Kernel</text>\n",
       "<text text-anchor=\"middle\" x=\"711.5\" y=\"-1071.8\" font-family=\"Times,serif\" font-size=\"14.00\">Object</text>\n",
       "</g>\n",
       "<!-- 12&#45;&gt;13 -->\n",
       "<g id=\"edge15\" class=\"edge\">\n",
       "<title>12&#45;&gt;13</title>\n",
       "<path fill=\"none\" stroke=\"black\" d=\"M721.96,-1167.85C720.2,-1155.03 718.19,-1140.34 716.4,-1127.29\"/>\n",
       "<polygon fill=\"black\" stroke=\"black\" points=\"719.85,-1126.67 715.03,-1117.24 712.92,-1127.62 719.85,-1126.67\"/>\n",
       "</g>\n",
       "<!-- 19 -->\n",
       "<g id=\"node19\" class=\"node\">\n",
       "<title>19</title>\n",
       "<polygon fill=\"none\" stroke=\"black\" points=\"769.5,-1013 653.5,-1013 653.5,-945 769.5,-945 769.5,-1013\"/>\n",
       "<text text-anchor=\"middle\" x=\"711.5\" y=\"-997.8\" font-family=\"Times,serif\" font-size=\"14.00\">[19]</text>\n",
       "<text text-anchor=\"middle\" x=\"711.5\" y=\"-982.8\" font-family=\"Times,serif\" font-size=\"14.00\">KernelEmbedding</text>\n",
       "<text text-anchor=\"middle\" x=\"711.5\" y=\"-967.8\" font-family=\"Times,serif\" font-size=\"14.00\">WithGiven</text>\n",
       "<text text-anchor=\"middle\" x=\"711.5\" y=\"-952.8\" font-family=\"Times,serif\" font-size=\"14.00\">KernelObject</text>\n",
       "</g>\n",
       "<!-- 12&#45;&gt;19 -->\n",
       "<g id=\"edge29\" class=\"edge\">\n",
       "<title>12&#45;&gt;19</title>\n",
       "<path fill=\"none\" stroke=\"black\" d=\"M738.13,-1167.89C746.36,-1140.04 754.73,-1099.24 747.5,-1064 744.62,-1049.99 739.31,-1035.44 733.63,-1022.46\"/>\n",
       "<polygon fill=\"black\" stroke=\"black\" points=\"736.8,-1020.96 729.47,-1013.31 730.43,-1023.86 736.8,-1020.96\"/>\n",
       "<text text-anchor=\"middle\" x=\"753\" y=\"-1086.8\" font-family=\"Times,serif\" font-size=\"14.00\">1</text>\n",
       "</g>\n",
       "<!-- 13&#45;&gt;19 -->\n",
       "<g id=\"edge30\" class=\"edge\">\n",
       "<title>13&#45;&gt;19</title>\n",
       "<path fill=\"none\" stroke=\"black\" d=\"M711.5,-1063.83C711.5,-1051.84 711.5,-1037.23 711.5,-1023.59\"/>\n",
       "<polygon fill=\"black\" stroke=\"black\" points=\"715,-1023.4 711.5,-1013.4 708,-1023.4 715,-1023.4\"/>\n",
       "<text text-anchor=\"middle\" x=\"715\" y=\"-1034.8\" font-family=\"Times,serif\" font-size=\"14.00\">2</text>\n",
       "</g>\n",
       "<!-- 15 -->\n",
       "<g id=\"node15\" class=\"node\">\n",
       "<title>15</title>\n",
       "<polygon fill=\"none\" stroke=\"black\" points=\"150.5,-1117 84.5,-1117 84.5,-1064 150.5,-1064 150.5,-1117\"/>\n",
       "<text text-anchor=\"middle\" x=\"117.5\" y=\"-1101.8\" font-family=\"Times,serif\" font-size=\"14.00\">[15]</text>\n",
       "<text text-anchor=\"middle\" x=\"117.5\" y=\"-1086.8\" font-family=\"Times,serif\" font-size=\"14.00\">Cokernel</text>\n",
       "<text text-anchor=\"middle\" x=\"117.5\" y=\"-1071.8\" font-family=\"Times,serif\" font-size=\"14.00\">Object</text>\n",
       "</g>\n",
       "<!-- 14&#45;&gt;15 -->\n",
       "<g id=\"edge20\" class=\"edge\">\n",
       "<title>14&#45;&gt;15</title>\n",
       "<path fill=\"none\" stroke=\"black\" d=\"M117.5,-1167.85C117.5,-1155.03 117.5,-1140.34 117.5,-1127.29\"/>\n",
       "<polygon fill=\"black\" stroke=\"black\" points=\"121,-1127.24 117.5,-1117.24 114,-1127.24 121,-1127.24\"/>\n",
       "</g>\n",
       "<!-- 21 -->\n",
       "<g id=\"node21\" class=\"node\">\n",
       "<title>21</title>\n",
       "<polygon fill=\"none\" stroke=\"black\" points=\"247.5,-1013 125.5,-1013 125.5,-945 247.5,-945 247.5,-1013\"/>\n",
       "<text text-anchor=\"middle\" x=\"186.5\" y=\"-997.8\" font-family=\"Times,serif\" font-size=\"14.00\">[21]</text>\n",
       "<text text-anchor=\"middle\" x=\"186.5\" y=\"-982.8\" font-family=\"Times,serif\" font-size=\"14.00\">CokernelProjection</text>\n",
       "<text text-anchor=\"middle\" x=\"186.5\" y=\"-967.8\" font-family=\"Times,serif\" font-size=\"14.00\">WithGiven</text>\n",
       "<text text-anchor=\"middle\" x=\"186.5\" y=\"-952.8\" font-family=\"Times,serif\" font-size=\"14.00\">CokernelObject</text>\n",
       "</g>\n",
       "<!-- 14&#45;&gt;21 -->\n",
       "<g id=\"edge33\" class=\"edge\">\n",
       "<title>14&#45;&gt;21</title>\n",
       "<path fill=\"none\" stroke=\"black\" d=\"M136.6,-1167.97C144.66,-1152.85 153.55,-1134.44 159.5,-1117 169.96,-1086.38 176.85,-1050.46 181.05,-1023.08\"/>\n",
       "<polygon fill=\"black\" stroke=\"black\" points=\"184.54,-1023.44 182.53,-1013.03 177.61,-1022.42 184.54,-1023.44\"/>\n",
       "<text text-anchor=\"middle\" x=\"177\" y=\"-1086.8\" font-family=\"Times,serif\" font-size=\"14.00\">1</text>\n",
       "</g>\n",
       "<!-- 15&#45;&gt;21 -->\n",
       "<g id=\"edge34\" class=\"edge\">\n",
       "<title>15&#45;&gt;21</title>\n",
       "<path fill=\"none\" stroke=\"black\" d=\"M133.68,-1063.83C141.53,-1051.37 151.16,-1036.08 160.04,-1021.99\"/>\n",
       "<polygon fill=\"black\" stroke=\"black\" points=\"163.08,-1023.73 165.45,-1013.4 157.16,-1020 163.08,-1023.73\"/>\n",
       "<text text-anchor=\"middle\" x=\"158\" y=\"-1034.8\" font-family=\"Times,serif\" font-size=\"14.00\">2</text>\n",
       "</g>\n",
       "<!-- 20 -->\n",
       "<g id=\"node20\" class=\"node\">\n",
       "<title>20</title>\n",
       "<polygon fill=\"none\" stroke=\"black\" points=\"395.5,-1005.5 327.5,-1005.5 327.5,-952.5 395.5,-952.5 395.5,-1005.5\"/>\n",
       "<text text-anchor=\"middle\" x=\"361.5\" y=\"-990.3\" font-family=\"Times,serif\" font-size=\"14.00\">[20]</text>\n",
       "<text text-anchor=\"middle\" x=\"361.5\" y=\"-975.3\" font-family=\"Times,serif\" font-size=\"14.00\">Pre</text>\n",
       "<text text-anchor=\"middle\" x=\"361.5\" y=\"-960.3\" font-family=\"Times,serif\" font-size=\"14.00\">Compose</text>\n",
       "</g>\n",
       "<!-- 16&#45;&gt;20 -->\n",
       "<g id=\"edge32\" class=\"edge\">\n",
       "<title>16&#45;&gt;20</title>\n",
       "<path fill=\"none\" stroke=\"black\" d=\"M369.16,-1063.83C367.85,-1049.55 366.21,-1031.55 364.78,-1015.9\"/>\n",
       "<polygon fill=\"black\" stroke=\"black\" points=\"368.22,-1015.15 363.83,-1005.51 361.25,-1015.79 368.22,-1015.15\"/>\n",
       "<text text-anchor=\"middle\" x=\"371\" y=\"-1034.8\" font-family=\"Times,serif\" font-size=\"14.00\">2</text>\n",
       "</g>\n",
       "<!-- 17&#45;&gt;20 -->\n",
       "<g id=\"edge31\" class=\"edge\">\n",
       "<title>17&#45;&gt;20</title>\n",
       "<path fill=\"none\" stroke=\"black\" d=\"M238.44,-1167.89C239.75,-1138.75 245.08,-1096.08 263.5,-1064 276.78,-1040.88 298.89,-1021.1 318.75,-1006.55\"/>\n",
       "<polygon fill=\"black\" stroke=\"black\" points=\"320.95,-1009.28 327.09,-1000.65 316.91,-1003.57 320.95,-1009.28\"/>\n",
       "<text text-anchor=\"middle\" x=\"267\" y=\"-1086.8\" font-family=\"Times,serif\" font-size=\"14.00\">1</text>\n",
       "</g>\n",
       "<!-- 24 -->\n",
       "<g id=\"node24\" class=\"node\">\n",
       "<title>24</title>\n",
       "<polygon fill=\"none\" stroke=\"black\" points=\"608.5,-894 540.5,-894 540.5,-841 608.5,-841 608.5,-894\"/>\n",
       "<text text-anchor=\"middle\" x=\"574.5\" y=\"-878.8\" font-family=\"Times,serif\" font-size=\"14.00\">[24]</text>\n",
       "<text text-anchor=\"middle\" x=\"574.5\" y=\"-863.8\" font-family=\"Times,serif\" font-size=\"14.00\">Pre</text>\n",
       "<text text-anchor=\"middle\" x=\"574.5\" y=\"-848.8\" font-family=\"Times,serif\" font-size=\"14.00\">Compose</text>\n",
       "</g>\n",
       "<!-- 18&#45;&gt;24 -->\n",
       "<g id=\"edge41\" class=\"edge\">\n",
       "<title>18&#45;&gt;24</title>\n",
       "<path fill=\"none\" stroke=\"black\" d=\"M574.5,-1063.72C574.5,-1024.29 574.5,-948.91 574.5,-904.24\"/>\n",
       "<polygon fill=\"black\" stroke=\"black\" points=\"578,-904.12 574.5,-894.12 571,-904.12 578,-904.12\"/>\n",
       "<text text-anchor=\"middle\" x=\"578\" y=\"-975.3\" font-family=\"Times,serif\" font-size=\"14.00\">2</text>\n",
       "</g>\n",
       "<!-- 19&#45;&gt;24 -->\n",
       "<g id=\"edge40\" class=\"edge\">\n",
       "<title>19&#45;&gt;24</title>\n",
       "<path fill=\"none\" stroke=\"black\" d=\"M670.02,-944.85C652.56,-930.89 632.31,-914.71 614.96,-900.84\"/>\n",
       "<polygon fill=\"black\" stroke=\"black\" points=\"616.7,-897.75 606.7,-894.24 612.33,-903.21 616.7,-897.75\"/>\n",
       "<text text-anchor=\"middle\" x=\"651\" y=\"-915.8\" font-family=\"Times,serif\" font-size=\"14.00\">1</text>\n",
       "</g>\n",
       "<!-- 22 -->\n",
       "<g id=\"node22\" class=\"node\">\n",
       "<title>22</title>\n",
       "<polygon fill=\"none\" stroke=\"black\" points=\"325.5,-886.5 265.5,-886.5 265.5,-848.5 325.5,-848.5 325.5,-886.5\"/>\n",
       "<text text-anchor=\"middle\" x=\"295.5\" y=\"-871.3\" font-family=\"Times,serif\" font-size=\"14.00\">[22]</text>\n",
       "<text text-anchor=\"middle\" x=\"295.5\" y=\"-856.3\" font-family=\"Times,serif\" font-size=\"14.00\">Pushout</text>\n",
       "</g>\n",
       "<!-- 20&#45;&gt;22 -->\n",
       "<g id=\"edge35\" class=\"edge\">\n",
       "<title>20&#45;&gt;22</title>\n",
       "<path fill=\"none\" stroke=\"black\" d=\"M346.03,-952.33C335.8,-935.37 322.42,-913.16 311.99,-895.87\"/>\n",
       "<polygon fill=\"black\" stroke=\"black\" points=\"314.71,-893.58 306.55,-886.83 308.71,-897.2 314.71,-893.58\"/>\n",
       "<text text-anchor=\"middle\" x=\"334\" y=\"-915.8\" font-family=\"Times,serif\" font-size=\"14.00\">1</text>\n",
       "</g>\n",
       "<!-- 23 -->\n",
       "<g id=\"node23\" class=\"node\">\n",
       "<title>23</title>\n",
       "<polygon fill=\"none\" stroke=\"black\" points=\"430.5,-790 246.5,-790 246.5,-737 430.5,-737 430.5,-790\"/>\n",
       "<text text-anchor=\"middle\" x=\"338.5\" y=\"-774.8\" font-family=\"Times,serif\" font-size=\"14.00\">[23]</text>\n",
       "<text text-anchor=\"middle\" x=\"338.5\" y=\"-759.8\" font-family=\"Times,serif\" font-size=\"14.00\">InjectionOfCofactorOfPushout</text>\n",
       "<text text-anchor=\"middle\" x=\"338.5\" y=\"-744.8\" font-family=\"Times,serif\" font-size=\"14.00\">WithGivenPushout( 1 )</text>\n",
       "</g>\n",
       "<!-- 20&#45;&gt;23 -->\n",
       "<g id=\"edge37\" class=\"edge\">\n",
       "<title>20&#45;&gt;23</title>\n",
       "<path fill=\"none\" stroke=\"black\" d=\"M358.73,-952.25C354.63,-914.23 346.95,-842.98 342.33,-800.03\"/>\n",
       "<polygon fill=\"black\" stroke=\"black\" points=\"345.8,-799.58 341.25,-790.01 338.84,-800.33 345.8,-799.58\"/>\n",
       "<text text-anchor=\"middle\" x=\"356\" y=\"-863.8\" font-family=\"Times,serif\" font-size=\"14.00\">1</text>\n",
       "</g>\n",
       "<!-- 26 -->\n",
       "<g id=\"node26\" class=\"node\">\n",
       "<title>26</title>\n",
       "<polygon fill=\"none\" stroke=\"black\" points=\"310.5,-719 126.5,-719 126.5,-666 310.5,-666 310.5,-719\"/>\n",
       "<text text-anchor=\"middle\" x=\"218.5\" y=\"-703.8\" font-family=\"Times,serif\" font-size=\"14.00\">[26]</text>\n",
       "<text text-anchor=\"middle\" x=\"218.5\" y=\"-688.8\" font-family=\"Times,serif\" font-size=\"14.00\">InjectionOfCofactorOfPushout</text>\n",
       "<text text-anchor=\"middle\" x=\"218.5\" y=\"-673.8\" font-family=\"Times,serif\" font-size=\"14.00\">WithGivenPushout( 2 )</text>\n",
       "</g>\n",
       "<!-- 20&#45;&gt;26 -->\n",
       "<g id=\"edge44\" class=\"edge\">\n",
       "<title>20&#45;&gt;26</title>\n",
       "<path fill=\"none\" stroke=\"black\" d=\"M383.87,-952.46C422.79,-904.88 493.82,-801.64 439.5,-737 424.55,-719.21 359.3,-723.45 336.5,-719 331.23,-717.97 325.83,-716.89 320.38,-715.78\"/>\n",
       "<polygon fill=\"black\" stroke=\"black\" points=\"321.04,-712.35 310.54,-713.76 319.63,-719.2 321.04,-712.35\"/>\n",
       "<text text-anchor=\"middle\" x=\"454\" y=\"-863.8\" font-family=\"Times,serif\" font-size=\"14.00\">1</text>\n",
       "</g>\n",
       "<!-- 21&#45;&gt;22 -->\n",
       "<g id=\"edge36\" class=\"edge\">\n",
       "<title>21&#45;&gt;22</title>\n",
       "<path fill=\"none\" stroke=\"black\" d=\"M234.57,-944.99C241.57,-939.34 248.44,-933.25 254.5,-927 263.73,-917.46 272.41,-905.68 279.39,-895.19\"/>\n",
       "<polygon fill=\"black\" stroke=\"black\" points=\"282.34,-897.06 284.82,-886.76 276.46,-893.27 282.34,-897.06\"/>\n",
       "<text text-anchor=\"middle\" x=\"271\" y=\"-915.8\" font-family=\"Times,serif\" font-size=\"14.00\">2</text>\n",
       "</g>\n",
       "<!-- 21&#45;&gt;23 -->\n",
       "<g id=\"edge38\" class=\"edge\">\n",
       "<title>21&#45;&gt;23</title>\n",
       "<path fill=\"none\" stroke=\"black\" d=\"M197.18,-944.85C207.6,-915.67 225.39,-872.99 249.5,-841 261.93,-824.51 278.46,-809.09 293.9,-796.47\"/>\n",
       "<polygon fill=\"black\" stroke=\"black\" points=\"296.21,-799.11 301.85,-790.14 291.85,-793.64 296.21,-799.11\"/>\n",
       "<text text-anchor=\"middle\" x=\"253\" y=\"-863.8\" font-family=\"Times,serif\" font-size=\"14.00\">2</text>\n",
       "</g>\n",
       "<!-- 21&#45;&gt;26 -->\n",
       "<g id=\"edge45\" class=\"edge\">\n",
       "<title>21&#45;&gt;26</title>\n",
       "<path fill=\"none\" stroke=\"black\" d=\"M190.23,-944.81C196.29,-890.97 208.21,-785.03 214.46,-729.46\"/>\n",
       "<polygon fill=\"black\" stroke=\"black\" points=\"217.95,-729.7 215.59,-719.37 210.99,-728.92 217.95,-729.7\"/>\n",
       "<text text-anchor=\"middle\" x=\"206\" y=\"-863.8\" font-family=\"Times,serif\" font-size=\"14.00\">2</text>\n",
       "</g>\n",
       "<!-- 22&#45;&gt;23 -->\n",
       "<g id=\"edge39\" class=\"edge\">\n",
       "<title>22&#45;&gt;23</title>\n",
       "<path fill=\"none\" stroke=\"black\" d=\"M303.19,-848.26C308.88,-834.76 316.82,-815.93 323.73,-799.55\"/>\n",
       "<polygon fill=\"black\" stroke=\"black\" points=\"326.99,-800.82 327.65,-790.24 320.54,-798.1 326.99,-800.82\"/>\n",
       "<text text-anchor=\"middle\" x=\"324\" y=\"-811.8\" font-family=\"Times,serif\" font-size=\"14.00\">3</text>\n",
       "</g>\n",
       "<!-- 22&#45;&gt;26 -->\n",
       "<g id=\"edge46\" class=\"edge\">\n",
       "<title>22&#45;&gt;26</title>\n",
       "<path fill=\"none\" stroke=\"black\" d=\"M277.82,-848.26C264.68,-833.66 247.39,-812.05 237.5,-790 228.89,-770.81 224.17,-747.74 221.59,-728.97\"/>\n",
       "<polygon fill=\"black\" stroke=\"black\" points=\"225.06,-728.54 220.36,-719.04 218.11,-729.39 225.06,-728.54\"/>\n",
       "<text text-anchor=\"middle\" x=\"261\" y=\"-811.8\" font-family=\"Times,serif\" font-size=\"14.00\">3</text>\n",
       "</g>\n",
       "<!-- 25 -->\n",
       "<g id=\"node25\" class=\"node\">\n",
       "<title>25</title>\n",
       "<polygon fill=\"none\" stroke=\"black\" points=\"376.5,-648 308.5,-648 308.5,-595 376.5,-595 376.5,-648\"/>\n",
       "<text text-anchor=\"middle\" x=\"342.5\" y=\"-632.8\" font-family=\"Times,serif\" font-size=\"14.00\">[25]</text>\n",
       "<text text-anchor=\"middle\" x=\"342.5\" y=\"-617.8\" font-family=\"Times,serif\" font-size=\"14.00\">Pre</text>\n",
       "<text text-anchor=\"middle\" x=\"342.5\" y=\"-602.8\" font-family=\"Times,serif\" font-size=\"14.00\">Compose</text>\n",
       "</g>\n",
       "<!-- 23&#45;&gt;25 -->\n",
       "<g id=\"edge43\" class=\"edge\">\n",
       "<title>23&#45;&gt;25</title>\n",
       "<path fill=\"none\" stroke=\"black\" d=\"M339.23,-736.82C339.87,-714.72 340.78,-682.6 341.48,-658.03\"/>\n",
       "<polygon fill=\"black\" stroke=\"black\" points=\"344.98,-658.11 341.77,-648.02 337.99,-657.91 344.98,-658.11\"/>\n",
       "<text text-anchor=\"middle\" x=\"345\" y=\"-688.8\" font-family=\"Times,serif\" font-size=\"14.00\">2</text>\n",
       "</g>\n",
       "<!-- 24&#45;&gt;25 -->\n",
       "<g id=\"edge42\" class=\"edge\">\n",
       "<title>24&#45;&gt;25</title>\n",
       "<path fill=\"none\" stroke=\"black\" d=\"M556.23,-840.56C536.75,-813.59 504.37,-770.67 472.5,-737 444.3,-707.21 409.25,-676.66 382.65,-654.62\"/>\n",
       "<polygon fill=\"black\" stroke=\"black\" points=\"384.63,-651.71 374.68,-648.06 380.18,-657.12 384.63,-651.71\"/>\n",
       "<text text-anchor=\"middle\" x=\"521\" y=\"-759.8\" font-family=\"Times,serif\" font-size=\"14.00\">1</text>\n",
       "</g>\n",
       "<!-- 27 -->\n",
       "<g id=\"node27\" class=\"node\">\n",
       "<title>27</title>\n",
       "<polygon fill=\"none\" stroke=\"black\" points=\"306,-544 247,-544 247,-491 306,-491 306,-544\"/>\n",
       "<text text-anchor=\"middle\" x=\"276.5\" y=\"-528.8\" font-family=\"Times,serif\" font-size=\"14.00\">[27]</text>\n",
       "<text text-anchor=\"middle\" x=\"276.5\" y=\"-513.8\" font-family=\"Times,serif\" font-size=\"14.00\">Fiber</text>\n",
       "<text text-anchor=\"middle\" x=\"276.5\" y=\"-498.8\" font-family=\"Times,serif\" font-size=\"14.00\">Product</text>\n",
       "</g>\n",
       "<!-- 25&#45;&gt;27 -->\n",
       "<g id=\"edge47\" class=\"edge\">\n",
       "<title>25&#45;&gt;27</title>\n",
       "<path fill=\"none\" stroke=\"black\" d=\"M325.85,-594.76C317.64,-582.08 307.63,-566.6 298.77,-552.92\"/>\n",
       "<polygon fill=\"black\" stroke=\"black\" points=\"301.52,-550.72 293.15,-544.23 295.64,-554.53 301.52,-550.72\"/>\n",
       "<text text-anchor=\"middle\" x=\"317\" y=\"-565.8\" font-family=\"Times,serif\" font-size=\"14.00\">1</text>\n",
       "</g>\n",
       "<!-- 28 -->\n",
       "<g id=\"node28\" class=\"node\">\n",
       "<title>28</title>\n",
       "<polygon fill=\"none\" stroke=\"black\" points=\"271,-440 68,-440 68,-387 271,-387 271,-440\"/>\n",
       "<text text-anchor=\"middle\" x=\"169.5\" y=\"-424.8\" font-family=\"Times,serif\" font-size=\"14.00\">[28]</text>\n",
       "<text text-anchor=\"middle\" x=\"169.5\" y=\"-409.8\" font-family=\"Times,serif\" font-size=\"14.00\">ProjectionInFactorOfFiberProduct</text>\n",
       "<text text-anchor=\"middle\" x=\"169.5\" y=\"-394.8\" font-family=\"Times,serif\" font-size=\"14.00\">WithGivenFiberProduct( 1 )</text>\n",
       "</g>\n",
       "<!-- 25&#45;&gt;28 -->\n",
       "<g id=\"edge49\" class=\"edge\">\n",
       "<title>25&#45;&gt;28</title>\n",
       "<path fill=\"none\" stroke=\"black\" d=\"M343.1,-594.76C342.47,-566.56 337.51,-521.33 314.5,-491 299.45,-471.17 277.77,-455.96 255.73,-444.53\"/>\n",
       "<polygon fill=\"black\" stroke=\"black\" points=\"257.13,-441.32 246.62,-440.02 254.03,-447.59 257.13,-441.32\"/>\n",
       "<text text-anchor=\"middle\" x=\"341\" y=\"-513.8\" font-family=\"Times,serif\" font-size=\"14.00\">1</text>\n",
       "</g>\n",
       "<!-- 29 -->\n",
       "<g id=\"node29\" class=\"node\">\n",
       "<title>29</title>\n",
       "<polygon fill=\"none\" stroke=\"black\" points=\"492,-440 289,-440 289,-387 492,-387 492,-440\"/>\n",
       "<text text-anchor=\"middle\" x=\"390.5\" y=\"-424.8\" font-family=\"Times,serif\" font-size=\"14.00\">[29]</text>\n",
       "<text text-anchor=\"middle\" x=\"390.5\" y=\"-409.8\" font-family=\"Times,serif\" font-size=\"14.00\">ProjectionInFactorOfFiberProduct</text>\n",
       "<text text-anchor=\"middle\" x=\"390.5\" y=\"-394.8\" font-family=\"Times,serif\" font-size=\"14.00\">WithGivenFiberProduct( 2 )</text>\n",
       "</g>\n",
       "<!-- 25&#45;&gt;29 -->\n",
       "<g id=\"edge52\" class=\"edge\">\n",
       "<title>25&#45;&gt;29</title>\n",
       "<path fill=\"none\" stroke=\"black\" d=\"M351.24,-594.87C353.1,-589.03 354.96,-582.83 356.5,-577 367.95,-533.76 378.01,-483.22 384.16,-450.13\"/>\n",
       "<polygon fill=\"black\" stroke=\"black\" points=\"387.65,-450.49 386.02,-440.03 380.77,-449.23 387.65,-450.49\"/>\n",
       "<text text-anchor=\"middle\" x=\"380\" y=\"-513.8\" font-family=\"Times,serif\" font-size=\"14.00\">1</text>\n",
       "</g>\n",
       "<!-- 26&#45;&gt;27 -->\n",
       "<g id=\"edge48\" class=\"edge\">\n",
       "<title>26&#45;&gt;27</title>\n",
       "<path fill=\"none\" stroke=\"black\" d=\"M227.06,-665.97C237,-636.33 253.45,-587.25 264.62,-553.93\"/>\n",
       "<polygon fill=\"black\" stroke=\"black\" points=\"268.05,-554.73 267.91,-544.13 261.41,-552.5 268.05,-554.73\"/>\n",
       "<text text-anchor=\"middle\" x=\"254\" y=\"-617.8\" font-family=\"Times,serif\" font-size=\"14.00\">2</text>\n",
       "</g>\n",
       "<!-- 26&#45;&gt;28 -->\n",
       "<g id=\"edge50\" class=\"edge\">\n",
       "<title>26&#45;&gt;28</title>\n",
       "<path fill=\"none\" stroke=\"black\" d=\"M209.77,-665.87C207.91,-660.03 206.05,-653.83 204.5,-648 186.23,-579.27 176.65,-496.46 172.37,-450.22\"/>\n",
       "<polygon fill=\"black\" stroke=\"black\" points=\"175.84,-449.75 171.47,-440.1 168.87,-450.37 175.84,-449.75\"/>\n",
       "<text text-anchor=\"middle\" x=\"193\" y=\"-565.8\" font-family=\"Times,serif\" font-size=\"14.00\">2</text>\n",
       "</g>\n",
       "<!-- 26&#45;&gt;29 -->\n",
       "<g id=\"edge53\" class=\"edge\">\n",
       "<title>26&#45;&gt;29</title>\n",
       "<path fill=\"none\" stroke=\"black\" d=\"M213.58,-665.77C207.26,-624.87 201.03,-544.21 237.5,-491 251.3,-470.87 272,-455.78 293.76,-444.57\"/>\n",
       "<polygon fill=\"black\" stroke=\"black\" points=\"295.35,-447.69 302.79,-440.15 292.27,-441.4 295.35,-447.69\"/>\n",
       "<text text-anchor=\"middle\" x=\"215\" y=\"-565.8\" font-family=\"Times,serif\" font-size=\"14.00\">2</text>\n",
       "</g>\n",
       "<!-- 27&#45;&gt;28 -->\n",
       "<g id=\"edge51\" class=\"edge\">\n",
       "<title>27&#45;&gt;28</title>\n",
       "<path fill=\"none\" stroke=\"black\" d=\"M249.5,-490.76C235.69,-477.59 218.72,-461.42 203.97,-447.36\"/>\n",
       "<polygon fill=\"black\" stroke=\"black\" points=\"206.15,-444.6 196.49,-440.23 201.32,-449.66 206.15,-444.6\"/>\n",
       "<text text-anchor=\"middle\" x=\"233\" y=\"-461.8\" font-family=\"Times,serif\" font-size=\"14.00\">3</text>\n",
       "</g>\n",
       "<!-- 27&#45;&gt;29 -->\n",
       "<g id=\"edge54\" class=\"edge\">\n",
       "<title>27&#45;&gt;29</title>\n",
       "<path fill=\"none\" stroke=\"black\" d=\"M305.27,-490.76C320.12,-477.47 338.39,-461.12 354.2,-446.98\"/>\n",
       "<polygon fill=\"black\" stroke=\"black\" points=\"356.62,-449.51 361.74,-440.23 351.96,-444.29 356.62,-449.51\"/>\n",
       "<text text-anchor=\"middle\" x=\"344\" y=\"-461.8\" font-family=\"Times,serif\" font-size=\"14.00\">3</text>\n",
       "</g>\n",
       "<!-- 30 -->\n",
       "<g id=\"node30\" class=\"node\">\n",
       "<title>30</title>\n",
       "<polygon fill=\"none\" stroke=\"black\" points=\"304.5,-336 244.5,-336 244.5,-298 304.5,-298 304.5,-336\"/>\n",
       "<text text-anchor=\"middle\" x=\"274.5\" y=\"-320.8\" font-family=\"Times,serif\" font-size=\"14.00\">[30]</text>\n",
       "<text text-anchor=\"middle\" x=\"274.5\" y=\"-305.8\" font-family=\"Times,serif\" font-size=\"14.00\">Pushout</text>\n",
       "</g>\n",
       "<!-- 28&#45;&gt;30 -->\n",
       "<g id=\"edge55\" class=\"edge\">\n",
       "<title>28&#45;&gt;30</title>\n",
       "<path fill=\"none\" stroke=\"black\" d=\"M211.15,-386.84C218.9,-381.34 226.69,-375.29 233.5,-369 241.51,-361.6 249.28,-352.58 255.86,-344.2\"/>\n",
       "<polygon fill=\"black\" stroke=\"black\" points=\"258.75,-346.18 262.01,-336.1 253.18,-341.95 258.75,-346.18\"/>\n",
       "<text text-anchor=\"middle\" x=\"251\" y=\"-357.8\" font-family=\"Times,serif\" font-size=\"14.00\">1</text>\n",
       "</g>\n",
       "<!-- 31 -->\n",
       "<g id=\"node31\" class=\"node\">\n",
       "<title>31</title>\n",
       "<polygon fill=\"none\" stroke=\"black\" points=\"476.5,-247 292.5,-247 292.5,-194 476.5,-194 476.5,-247\"/>\n",
       "<text text-anchor=\"middle\" x=\"384.5\" y=\"-231.8\" font-family=\"Times,serif\" font-size=\"14.00\">[31]</text>\n",
       "<text text-anchor=\"middle\" x=\"384.5\" y=\"-216.8\" font-family=\"Times,serif\" font-size=\"14.00\">InjectionOfCofactorOfPushout</text>\n",
       "<text text-anchor=\"middle\" x=\"384.5\" y=\"-201.8\" font-family=\"Times,serif\" font-size=\"14.00\">WithGivenPushout( 2 )</text>\n",
       "</g>\n",
       "<!-- 28&#45;&gt;31 -->\n",
       "<g id=\"edge57\" class=\"edge\">\n",
       "<title>28&#45;&gt;31</title>\n",
       "<path fill=\"none\" stroke=\"black\" d=\"M180.41,-386.92C193.36,-357.43 214.93,-311.31 228.5,-298 248.45,-278.44 274.39,-263.02 299.37,-251.3\"/>\n",
       "<polygon fill=\"black\" stroke=\"black\" points=\"300.85,-254.47 308.51,-247.16 297.96,-248.1 300.85,-254.47\"/>\n",
       "<text text-anchor=\"middle\" x=\"232\" y=\"-313.3\" font-family=\"Times,serif\" font-size=\"14.00\">1</text>\n",
       "</g>\n",
       "<!-- 33 -->\n",
       "<g id=\"node33\" class=\"node\">\n",
       "<title>33</title>\n",
       "<polygon fill=\"none\" stroke=\"black\" points=\"274.5,-247 90.5,-247 90.5,-194 274.5,-194 274.5,-247\"/>\n",
       "<text text-anchor=\"middle\" x=\"182.5\" y=\"-231.8\" font-family=\"Times,serif\" font-size=\"14.00\">[33]</text>\n",
       "<text text-anchor=\"middle\" x=\"182.5\" y=\"-216.8\" font-family=\"Times,serif\" font-size=\"14.00\">InjectionOfCofactorOfPushout</text>\n",
       "<text text-anchor=\"middle\" x=\"182.5\" y=\"-201.8\" font-family=\"Times,serif\" font-size=\"14.00\">WithGivenPushout( 1 )</text>\n",
       "</g>\n",
       "<!-- 28&#45;&gt;33 -->\n",
       "<g id=\"edge61\" class=\"edge\">\n",
       "<title>28&#45;&gt;33</title>\n",
       "<path fill=\"none\" stroke=\"black\" d=\"M171.25,-386.74C173.53,-353.33 177.51,-294.87 180.07,-257.19\"/>\n",
       "<polygon fill=\"black\" stroke=\"black\" points=\"183.57,-257.37 180.75,-247.16 176.58,-256.89 183.57,-257.37\"/>\n",
       "<text text-anchor=\"middle\" x=\"181\" y=\"-313.3\" font-family=\"Times,serif\" font-size=\"14.00\">1</text>\n",
       "</g>\n",
       "<!-- 29&#45;&gt;30 -->\n",
       "<g id=\"edge56\" class=\"edge\">\n",
       "<title>29&#45;&gt;30</title>\n",
       "<path fill=\"none\" stroke=\"black\" d=\"M344.04,-386.81C335.56,-381.36 327.03,-375.32 319.5,-369 310.73,-361.63 302.15,-352.53 294.87,-344.06\"/>\n",
       "<polygon fill=\"black\" stroke=\"black\" points=\"297.41,-341.65 288.32,-336.21 292.04,-346.13 297.41,-341.65\"/>\n",
       "<text text-anchor=\"middle\" x=\"323\" y=\"-357.8\" font-family=\"Times,serif\" font-size=\"14.00\">2</text>\n",
       "</g>\n",
       "<!-- 29&#45;&gt;31 -->\n",
       "<g id=\"edge58\" class=\"edge\">\n",
       "<title>29&#45;&gt;31</title>\n",
       "<path fill=\"none\" stroke=\"black\" d=\"M389.69,-386.74C388.64,-353.33 386.8,-294.87 385.62,-257.19\"/>\n",
       "<polygon fill=\"black\" stroke=\"black\" points=\"389.12,-257.04 385.31,-247.16 382.12,-257.26 389.12,-257.04\"/>\n",
       "<text text-anchor=\"middle\" x=\"392\" y=\"-313.3\" font-family=\"Times,serif\" font-size=\"14.00\">2</text>\n",
       "</g>\n",
       "<!-- 29&#45;&gt;33 -->\n",
       "<g id=\"edge62\" class=\"edge\">\n",
       "<title>29&#45;&gt;33</title>\n",
       "<path fill=\"none\" stroke=\"black\" d=\"M377.68,-386.87C364.25,-361.92 341.27,-324.06 313.5,-298 294.17,-279.86 269.8,-264.16 247.33,-251.79\"/>\n",
       "<polygon fill=\"black\" stroke=\"black\" points=\"248.96,-248.69 238.49,-247.04 245.64,-254.86 248.96,-248.69\"/>\n",
       "<text text-anchor=\"middle\" x=\"349\" y=\"-313.3\" font-family=\"Times,serif\" font-size=\"14.00\">2</text>\n",
       "</g>\n",
       "<!-- 30&#45;&gt;31 -->\n",
       "<g id=\"edge59\" class=\"edge\">\n",
       "<title>30&#45;&gt;31</title>\n",
       "<path fill=\"none\" stroke=\"black\" d=\"M295.71,-297.78C310.22,-285.31 329.85,-268.45 346.96,-253.75\"/>\n",
       "<polygon fill=\"black\" stroke=\"black\" points=\"349.32,-256.34 354.62,-247.17 344.76,-251.03 349.32,-256.34\"/>\n",
       "<text text-anchor=\"middle\" x=\"337\" y=\"-268.8\" font-family=\"Times,serif\" font-size=\"14.00\">3</text>\n",
       "</g>\n",
       "<!-- 30&#45;&gt;33 -->\n",
       "<g id=\"edge63\" class=\"edge\">\n",
       "<title>30&#45;&gt;33</title>\n",
       "<path fill=\"none\" stroke=\"black\" d=\"M256.76,-297.78C244.85,-285.54 228.8,-269.06 214.67,-254.54\"/>\n",
       "<polygon fill=\"black\" stroke=\"black\" points=\"216.97,-251.89 207.49,-247.17 211.96,-256.77 216.97,-251.89\"/>\n",
       "<text text-anchor=\"middle\" x=\"243\" y=\"-268.8\" font-family=\"Times,serif\" font-size=\"14.00\">3</text>\n",
       "</g>\n",
       "<!-- 32 -->\n",
       "<g id=\"node32\" class=\"node\">\n",
       "<title>32</title>\n",
       "<polygon fill=\"none\" stroke=\"black\" points=\"401.5,-157 303.5,-157 303.5,-104 401.5,-104 401.5,-157\"/>\n",
       "<text text-anchor=\"middle\" x=\"352.5\" y=\"-141.8\" font-family=\"Times,serif\" font-size=\"14.00\">[32]</text>\n",
       "<text text-anchor=\"middle\" x=\"352.5\" y=\"-126.8\" font-family=\"Times,serif\" font-size=\"14.00\">Inverse</text>\n",
       "<text text-anchor=\"middle\" x=\"352.5\" y=\"-111.8\" font-family=\"Times,serif\" font-size=\"14.00\">ForMorphisms</text>\n",
       "</g>\n",
       "<!-- 31&#45;&gt;32 -->\n",
       "<g id=\"edge60\" class=\"edge\">\n",
       "<title>31&#45;&gt;32</title>\n",
       "<path fill=\"none\" stroke=\"black\" d=\"M375.07,-193.57C372.01,-185.16 368.56,-175.68 365.3,-166.7\"/>\n",
       "<polygon fill=\"black\" stroke=\"black\" points=\"368.57,-165.44 361.86,-157.24 361.99,-167.84 368.57,-165.44\"/>\n",
       "</g>\n",
       "<!-- 34 -->\n",
       "<g id=\"node34\" class=\"node\">\n",
       "<title>34</title>\n",
       "<polygon fill=\"none\" stroke=\"black\" points=\"296.5,-53 228.5,-53 228.5,0 296.5,0 296.5,-53\"/>\n",
       "<text text-anchor=\"middle\" x=\"262.5\" y=\"-37.8\" font-family=\"Times,serif\" font-size=\"14.00\">[34]</text>\n",
       "<text text-anchor=\"middle\" x=\"262.5\" y=\"-22.8\" font-family=\"Times,serif\" font-size=\"14.00\">Pre</text>\n",
       "<text text-anchor=\"middle\" x=\"262.5\" y=\"-7.8\" font-family=\"Times,serif\" font-size=\"14.00\">Compose</text>\n",
       "</g>\n",
       "<!-- 32&#45;&gt;34 -->\n",
       "<g id=\"edge65\" class=\"edge\">\n",
       "<title>32&#45;&gt;34</title>\n",
       "<path fill=\"none\" stroke=\"black\" d=\"M329.79,-103.76C318.28,-90.71 304.16,-74.72 291.84,-60.75\"/>\n",
       "<polygon fill=\"black\" stroke=\"black\" points=\"294.44,-58.41 285.2,-53.23 289.2,-63.04 294.44,-58.41\"/>\n",
       "<text text-anchor=\"middle\" x=\"317\" y=\"-74.8\" font-family=\"Times,serif\" font-size=\"14.00\">2</text>\n",
       "</g>\n",
       "<!-- 33&#45;&gt;34 -->\n",
       "<g id=\"edge64\" class=\"edge\">\n",
       "<title>33&#45;&gt;34</title>\n",
       "<path fill=\"none\" stroke=\"black\" d=\"M193.29,-193.61C207.34,-159.87 231.98,-100.75 247.75,-62.89\"/>\n",
       "<polygon fill=\"black\" stroke=\"black\" points=\"251.14,-63.87 251.75,-53.29 244.68,-61.17 251.14,-63.87\"/>\n",
       "<text text-anchor=\"middle\" x=\"234\" y=\"-126.8\" font-family=\"Times,serif\" font-size=\"14.00\">1</text>\n",
       "</g>\n",
       "</g>\n",
       "</svg>\n"
      ]
     },
     "metadata": {},
     "output_type": "display_data"
    }
   ],
   "source": [
    "Visualize( s )"
   ]
  },
  {
   "cell_type": "code",
   "execution_count": 34,
   "metadata": {},
   "outputs": [
    {
     "data": {
      "text/plain": [
       "GAP: \"PreCompose\""
      ]
     },
     "execution_count": 34,
     "metadata": {},
     "output_type": "execute_result"
    }
   ],
   "source": [
    "sO = GenesisOfCellOperation( s )"
   ]
  },
  {
   "cell_type": "code",
   "execution_count": 35,
   "metadata": {},
   "outputs": [
    {
     "data": {
      "text/plain": [
       "GAP: [ <A morphism in LazyCategory( Adelman category( Additive closure( Algebroid( Z, FreeCategory( RightQuiver( \"q(4)[a:1->2,b:2->3,c:3->4]\" ) ) ) / relations ) ) )>, <A morphism in LazyCategory( Adelman category( Additive closure( Algebroid( Z, FreeCategory( RightQuiver( \"q(4)[a:1->2,b:2->3,c:3->4]\" ) ) ) / relations ) ) )> ]"
      ]
     },
     "execution_count": 35,
     "metadata": {},
     "output_type": "execute_result"
    }
   ],
   "source": [
    "sA = GenesisOfCellArguments( s )"
   ]
  },
  {
   "cell_type": "code",
   "execution_count": 36,
   "metadata": {},
   "outputs": [
    {
     "data": {
      "text/plain": [
       "GAP: \"InjectionOfCofactorOfPushoutWithGivenPushout\""
      ]
     },
     "execution_count": 36,
     "metadata": {},
     "output_type": "execute_result"
    }
   ],
   "source": [
    "GenesisOfCellOperation( sA[1] )"
   ]
  },
  {
   "cell_type": "code",
   "execution_count": 37,
   "metadata": {},
   "outputs": [
    {
     "data": {
      "text/plain": [
       "GAP: [ [ <A morphism in LazyCategory( Adelman category( Additive closure( Algebroid( Z, FreeCategory( RightQuiver( \"q(4)[a:1->2,b:2->3,c:3->4]\" ) ) ) / relations ) ) )>, <A morphism in LazyCategory( Adelman category( Additive closure( Algebroid( Z, FreeCategory( RightQuiver( \"q(4)[a:1->2,b:2->3,c:3->4]\" ) ) ) / relations ) ) )> ], 1, <An object in LazyCategory( Adelman category( Additive closure( Algebroid( Z, FreeCategory( RightQuiver( \"q(4)[a:1->2,b:2->3,c:3->4]\" ) ) ) / relations ) ) )> ]"
      ]
     },
     "execution_count": 37,
     "metadata": {},
     "output_type": "execute_result"
    }
   ],
   "source": [
    "GenesisOfCellArguments( sA[1] )"
   ]
  },
  {
   "cell_type": "code",
   "execution_count": 38,
   "metadata": {},
   "outputs": [
    {
     "data": {
      "text/plain": [
       "GAP: \"InverseForMorphisms\""
      ]
     },
     "execution_count": 38,
     "metadata": {},
     "output_type": "execute_result"
    }
   ],
   "source": [
    "GenesisOfCellOperation( sA[2] )"
   ]
  },
  {
   "cell_type": "code",
   "execution_count": 39,
   "metadata": {},
   "outputs": [
    {
     "data": {
      "text/plain": [
       "GAP: [ <A morphism in LazyCategory( Adelman category( Additive closure( Algebroid( Z, FreeCategory( RightQuiver( \"q(4)[a:1->2,b:2->3,c:3->4]\" ) ) ) / relations ) ) )> ]"
      ]
     },
     "execution_count": 39,
     "metadata": {},
     "output_type": "execute_result"
    }
   ],
   "source": [
    "GenesisOfCellArguments( sA[2] )"
   ]
  },
  {
   "cell_type": "code",
   "execution_count": 40,
   "metadata": {},
   "outputs": [
    {
     "data": {
      "text/plain": [
       "false"
      ]
     },
     "execution_count": 40,
     "metadata": {},
     "output_type": "execute_result"
    }
   ],
   "source": [
    "HasGenesisOfCellOperation( a )"
   ]
  },
  {
   "cell_type": "code",
   "execution_count": 41,
   "metadata": {},
   "outputs": [
    {
     "data": {
      "text/plain": [
       "false"
      ]
     },
     "execution_count": 41,
     "metadata": {},
     "output_type": "execute_result"
    }
   ],
   "source": [
    "HasGenesisOfCellArguments( a )"
   ]
  },
  {
   "cell_type": "code",
   "execution_count": 42,
   "metadata": {},
   "outputs": [
    {
     "data": {
      "text/plain": [
       "GAP: <A morphism in LazyCategory( Adelman category( Additive closure( Algebroid( Z, FreeCategory( RightQuiver( \"q(4)[a:1->2,b:2->3,c:3->4]\" ) ) ) / relations ) ) )>"
      ]
     },
     "execution_count": 42,
     "metadata": {},
     "output_type": "execute_result"
    }
   ],
   "source": [
    "j = KernelObjectFunctorial( b, d, e )"
   ]
  },
  {
   "cell_type": "code",
   "execution_count": 43,
   "metadata": {},
   "outputs": [
    {
     "data": {
      "text/plain": [
       "GAP: <A morphism in LazyCategory( Adelman category( Additive closure( Algebroid( Z, FreeCategory( RightQuiver( \"q(4)[a:1->2,b:2->3,c:3->4]\" ) ) ) / relations ) ) )>"
      ]
     },
     "execution_count": 43,
     "metadata": {},
     "output_type": "execute_result"
    }
   ],
   "source": [
    "k = CokernelObjectFunctorial( h, g, b )"
   ]
  },
  {
   "cell_type": "code",
   "execution_count": 44,
   "metadata": {},
   "outputs": [
    {
     "data": {
      "text/plain": [
       "GAP: <An object in LazyCategory( Adelman category( Additive closure( Algebroid( Z, FreeCategory( RightQuiver( \"q(4)[a:1->2,b:2->3,c:3->4]\" ) ) ) / relations ) ) )>"
      ]
     },
     "execution_count": 44,
     "metadata": {},
     "output_type": "execute_result"
    }
   ],
   "source": [
    "HK = HomologyObject( j, s )"
   ]
  },
  {
   "cell_type": "code",
   "execution_count": 45,
   "metadata": {},
   "outputs": [
    {
     "data": {
      "text/plain": [
       "GAP: <An object in LazyCategory( Adelman category( Additive closure( Algebroid( Z, FreeCategory( RightQuiver( \"q(4)[a:1->2,b:2->3,c:3->4]\" ) ) ) / relations ) ) )>"
      ]
     },
     "execution_count": 45,
     "metadata": {},
     "output_type": "execute_result"
    }
   ],
   "source": [
    "HC = HomologyObject( s, k )"
   ]
  }
 ],
 "metadata": {
  "@webio": {
   "lastCommId": null,
   "lastKernelId": null
  },
  "kernelspec": {
   "display_name": "Julia 1.7.2",
   "language": "julia",
   "name": "julia-1.7"
  },
  "language_info": {
   "file_extension": ".jl",
   "mimetype": "application/julia",
   "name": "julia",
   "version": "1.7.2"
  }
 },
 "nbformat": 4,
 "nbformat_minor": 2
}
