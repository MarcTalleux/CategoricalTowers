{
 "cells": [
  {
   "cell_type": "code",
   "execution_count": 1,
   "metadata": {},
   "outputs": [
    {
     "name": "stdout",
     "output_type": "stream",
     "text": [
      "HomalgProject v\u001b[32m0.4.11\u001b[39m\n",
      "Imported OSCAR's component GAP\n",
      "Type: ?HomalgProject for more information\n"
     ]
    }
   ],
   "source": [
    "using HomalgProject"
   ]
  },
  {
   "cell_type": "code",
   "execution_count": 2,
   "metadata": {},
   "outputs": [],
   "source": [
    "LoadPackage( \"FreydCategoriesForCAP\" )"
   ]
  },
  {
   "cell_type": "code",
   "execution_count": 3,
   "metadata": {},
   "outputs": [],
   "source": [
    "LoadPackage( \"LazyCategories\" )"
   ]
  },
  {
   "cell_type": "code",
   "execution_count": 4,
   "metadata": {},
   "outputs": [],
   "source": [
    "SwitchGeneralizedMorphismStandard( g\"cospan\" )"
   ]
  },
  {
   "cell_type": "code",
   "execution_count": 5,
   "metadata": {},
   "outputs": [
    {
     "data": {
      "text/plain": [
       "GAP: q(4)[a:1->2,b:2->3,c:3->4]"
      ]
     },
     "execution_count": 5,
     "metadata": {},
     "output_type": "execute_result"
    }
   ],
   "source": [
    "snake_quiver = RightQuiver( g\"q(4)[a:1->2,b:2->3,c:3->4]\" )"
   ]
  },
  {
   "cell_type": "code",
   "execution_count": 6,
   "metadata": {},
   "outputs": [
    {
     "data": {
      "text/plain": [
       "GAP: Q"
      ]
     },
     "execution_count": 6,
     "metadata": {},
     "output_type": "execute_result"
    }
   ],
   "source": [
    "ℚ = HomalgFieldOfRationals( )"
   ]
  },
  {
   "cell_type": "code",
   "execution_count": 7,
   "metadata": {},
   "outputs": [
    {
     "data": {
      "text/plain": [
       "GAP: Q * q"
      ]
     },
     "execution_count": 7,
     "metadata": {},
     "output_type": "execute_result"
    }
   ],
   "source": [
    "A = PathAlgebra( ℚ, snake_quiver )"
   ]
  },
  {
   "cell_type": "code",
   "execution_count": 8,
   "metadata": {},
   "outputs": [
    {
     "data": {
      "text/plain": [
       "GAP: (Q * q) / [ 1*(a*b*c) ]"
      ]
     },
     "execution_count": 8,
     "metadata": {},
     "output_type": "execute_result"
    }
   ],
   "source": [
    "A = A / [ A.abc ]"
   ]
  },
  {
   "cell_type": "code",
   "execution_count": 9,
   "metadata": {},
   "outputs": [
    {
     "data": {
      "text/plain": [
       "GAP: QuiverRows( (Q * q) / [ 1*(a*b*c) ] )"
      ]
     },
     "execution_count": 9,
     "metadata": {},
     "output_type": "execute_result"
    }
   ],
   "source": [
    "QRowsA = QuiverRows( A )"
   ]
  },
  {
   "cell_type": "code",
   "execution_count": 10,
   "metadata": {},
   "outputs": [
    {
     "data": {
      "text/plain": [
       "GAP: Adelman category( QuiverRows( (Q * q) / [ 1*(a*b*c) ] ) )"
      ]
     },
     "execution_count": 10,
     "metadata": {},
     "output_type": "execute_result"
    }
   ],
   "source": [
    "Adelman = AdelmanCategory( QRowsA )"
   ]
  },
  {
   "cell_type": "code",
   "execution_count": 11,
   "metadata": {},
   "outputs": [
    {
     "data": {
      "text/plain": [
       "GAP: LazyCategory( Adelman category( QuiverRows( (Q * q) / [ 1*(a*b*c) ] ) ) )"
      ]
     },
     "execution_count": 11,
     "metadata": {},
     "output_type": "execute_result"
    }
   ],
   "source": [
    "Lazy = LazyCategory( Adelman, show_evaluation = true )"
   ]
  },
  {
   "cell_type": "code",
   "execution_count": 12,
   "metadata": {},
   "outputs": [
    {
     "data": {
      "text/plain": [
       "GAP: <An evaluated morphism in LazyCategory( Adelman category( QuiverRows( (Q * q) / [ 1*(a*b*c) ] ) ) )>"
      ]
     },
     "execution_count": 12,
     "metadata": {},
     "output_type": "execute_result"
    }
   ],
   "source": [
    "a = A.a / QRowsA / Adelman / Lazy"
   ]
  },
  {
   "cell_type": "code",
   "execution_count": 13,
   "metadata": {},
   "outputs": [],
   "source": [
    "SetLabel( a, \"a\" )"
   ]
  },
  {
   "cell_type": "code",
   "execution_count": 14,
   "metadata": {},
   "outputs": [
    {
     "data": {
      "text/plain": [
       "GAP: <An evaluated morphism in LazyCategory( Adelman category( QuiverRows( (Q * q) / [ 1*(a*b*c) ] ) ) )>"
      ]
     },
     "execution_count": 14,
     "metadata": {},
     "output_type": "execute_result"
    }
   ],
   "source": [
    "b = A.b / QRowsA / Adelman / Lazy"
   ]
  },
  {
   "cell_type": "code",
   "execution_count": 15,
   "metadata": {},
   "outputs": [],
   "source": [
    "SetLabel( b, \"b\" )"
   ]
  },
  {
   "cell_type": "code",
   "execution_count": 16,
   "metadata": {},
   "outputs": [
    {
     "data": {
      "text/plain": [
       "GAP: <An evaluated morphism in LazyCategory( Adelman category( QuiverRows( (Q * q) / [ 1*(a*b*c) ] ) ) )>"
      ]
     },
     "execution_count": 16,
     "metadata": {},
     "output_type": "execute_result"
    }
   ],
   "source": [
    "c = A.c / QRowsA / Adelman / Lazy"
   ]
  },
  {
   "cell_type": "code",
   "execution_count": 17,
   "metadata": {},
   "outputs": [],
   "source": [
    "SetLabel( c, \"c\" )"
   ]
  },
  {
   "cell_type": "code",
   "execution_count": 18,
   "metadata": {},
   "outputs": [
    {
     "data": {
      "text/plain": [
       "GAP: <An epimorphism in LazyCategory( Adelman category( QuiverRows( (Q * q) / [ 1*(a*b*c) ] ) ) )>"
      ]
     },
     "execution_count": 18,
     "metadata": {},
     "output_type": "execute_result"
    }
   ],
   "source": [
    "d = CokernelProjection( a )"
   ]
  },
  {
   "cell_type": "code",
   "execution_count": 19,
   "metadata": {},
   "outputs": [
    {
     "data": {
      "text/plain": [
       "GAP: <A morphism in LazyCategory( Adelman category( QuiverRows( (Q * q) / [ 1*(a*b*c) ] ) ) )>"
      ]
     },
     "execution_count": 19,
     "metadata": {},
     "output_type": "execute_result"
    }
   ],
   "source": [
    "e = CokernelColift( a, PreCompose( b, c ) )"
   ]
  },
  {
   "cell_type": "code",
   "execution_count": 20,
   "metadata": {},
   "outputs": [
    {
     "data": {
      "text/plain": [
       "GAP: <A monomorphism in LazyCategory( Adelman category( QuiverRows( (Q * q) / [ 1*(a*b*c) ] ) ) )>"
      ]
     },
     "execution_count": 20,
     "metadata": {},
     "output_type": "execute_result"
    }
   ],
   "source": [
    "f = KernelEmbedding( e )"
   ]
  },
  {
   "cell_type": "code",
   "execution_count": 21,
   "metadata": {},
   "outputs": [
    {
     "data": {
      "text/plain": [
       "GAP: <A monomorphism in LazyCategory( Adelman category( QuiverRows( (Q * q) / [ 1*(a*b*c) ] ) ) )>"
      ]
     },
     "execution_count": 21,
     "metadata": {},
     "output_type": "execute_result"
    }
   ],
   "source": [
    "g = KernelEmbedding( c )"
   ]
  },
  {
   "cell_type": "code",
   "execution_count": 22,
   "metadata": {},
   "outputs": [
    {
     "data": {
      "text/plain": [
       "GAP: <A morphism in LazyCategory( Adelman category( QuiverRows( (Q * q) / [ 1*(a*b*c) ] ) ) )>"
      ]
     },
     "execution_count": 22,
     "metadata": {},
     "output_type": "execute_result"
    }
   ],
   "source": [
    "h = KernelLift( c, PreCompose( a, b ) )"
   ]
  },
  {
   "cell_type": "code",
   "execution_count": 23,
   "metadata": {},
   "outputs": [
    {
     "data": {
      "text/plain": [
       "GAP: <An epimorphism in LazyCategory( Adelman category( QuiverRows( (Q * q) / [ 1*(a*b*c) ] ) ) )>"
      ]
     },
     "execution_count": 23,
     "metadata": {},
     "output_type": "execute_result"
    }
   ],
   "source": [
    "i = CokernelProjection( h )"
   ]
  },
  {
   "cell_type": "code",
   "execution_count": 24,
   "metadata": {},
   "outputs": [
    {
     "data": {
      "text/plain": [
       "GAP: <A morphism in Generalized morphism category of LazyCategory( Adelman category( QuiverRows( (Q * q) / [ 1*(a*b*c) ] ) ) ) by cospan>"
      ]
     },
     "execution_count": 24,
     "metadata": {},
     "output_type": "execute_result"
    }
   ],
   "source": [
    "ff = AsGeneralizedMorphism( f )"
   ]
  },
  {
   "cell_type": "code",
   "execution_count": 25,
   "metadata": {},
   "outputs": [
    {
     "data": {
      "text/plain": [
       "GAP: <A morphism in Generalized morphism category of LazyCategory( Adelman category( QuiverRows( (Q * q) / [ 1*(a*b*c) ] ) ) ) by cospan>"
      ]
     },
     "execution_count": 25,
     "metadata": {},
     "output_type": "execute_result"
    }
   ],
   "source": [
    "dd = AsGeneralizedMorphism( d )"
   ]
  },
  {
   "cell_type": "code",
   "execution_count": 26,
   "metadata": {},
   "outputs": [
    {
     "data": {
      "text/plain": [
       "GAP: <A morphism in Generalized morphism category of LazyCategory( Adelman category( QuiverRows( (Q * q) / [ 1*(a*b*c) ] ) ) ) by cospan>"
      ]
     },
     "execution_count": 26,
     "metadata": {},
     "output_type": "execute_result"
    }
   ],
   "source": [
    "bb = AsGeneralizedMorphism( b )"
   ]
  },
  {
   "cell_type": "code",
   "execution_count": 27,
   "metadata": {},
   "outputs": [
    {
     "data": {
      "text/plain": [
       "GAP: <A morphism in Generalized morphism category of LazyCategory( Adelman category( QuiverRows( (Q * q) / [ 1*(a*b*c) ] ) ) ) by cospan>"
      ]
     },
     "execution_count": 27,
     "metadata": {},
     "output_type": "execute_result"
    }
   ],
   "source": [
    "gg = AsGeneralizedMorphism( g )"
   ]
  },
  {
   "cell_type": "code",
   "execution_count": 28,
   "metadata": {},
   "outputs": [
    {
     "data": {
      "text/plain": [
       "GAP: <A morphism in Generalized morphism category of LazyCategory( Adelman category( QuiverRows( (Q * q) / [ 1*(a*b*c) ] ) ) ) by cospan>"
      ]
     },
     "execution_count": 28,
     "metadata": {},
     "output_type": "execute_result"
    }
   ],
   "source": [
    "ii = AsGeneralizedMorphism( i )"
   ]
  },
  {
   "cell_type": "code",
   "execution_count": 29,
   "metadata": {},
   "outputs": [
    {
     "data": {
      "text/plain": [
       "GAP: <A morphism in Generalized morphism category of LazyCategory( Adelman category( QuiverRows( (Q * q) / [ 1*(a*b*c) ] ) ) ) by cospan>"
      ]
     },
     "execution_count": 29,
     "metadata": {},
     "output_type": "execute_result"
    }
   ],
   "source": [
    "ss = PreCompose( [ ff, PseudoInverse( dd ), bb, PseudoInverse( gg ), ii ] )"
   ]
  },
  {
   "cell_type": "code",
   "execution_count": 30,
   "metadata": {},
   "outputs": [
    {
     "data": {
      "text/plain": [
       "GAP: <A morphism in LazyCategory( Adelman category( QuiverRows( (Q * q) / [ 1*(a*b*c) ] ) ) )>"
      ]
     },
     "execution_count": 30,
     "metadata": {},
     "output_type": "execute_result"
    }
   ],
   "source": [
    "s = HonestRepresentative( ss )"
   ]
  },
  {
   "cell_type": "code",
   "execution_count": 31,
   "metadata": {
    "scrolled": false
   },
   "outputs": [
    {
     "data": {
      "image/svg+xml": [
       "<?xml version=\"1.0\" encoding=\"UTF-8\" standalone=\"no\"?>\n",
       "<!DOCTYPE svg PUBLIC \"-//W3C//DTD SVG 1.1//EN\"\n",
       " \"http://www.w3.org/Graphics/SVG/1.1/DTD/svg11.dtd\">\n",
       "<!-- Generated by graphviz version 2.44.0 (20200408.0750)\n",
       " -->\n",
       "<!-- Title: hgn Pages: 1 -->\n",
       "<svg width=\"825pt\" height=\"1587pt\"\n",
       " viewBox=\"0.00 0.00 824.50 1587.00\" xmlns=\"http://www.w3.org/2000/svg\" xmlns:xlink=\"http://www.w3.org/1999/xlink\">\n",
       "<g id=\"graph0\" class=\"graph\" transform=\"scale(1 1) rotate(0) translate(4 1583)\">\n",
       "<title>hgn</title>\n",
       "<polygon fill=\"white\" stroke=\"transparent\" points=\"-4,4 -4,-1583 820.5,-1583 820.5,4 -4,4\"/>\n",
       "<!-- 1 -->\n",
       "<g id=\"node1\" class=\"node\">\n",
       "<title>1</title>\n",
       "<polygon fill=\"none\" stroke=\"black\" points=\"689,-1579 616,-1579 616,-1511 689,-1511 689,-1579\"/>\n",
       "<text text-anchor=\"middle\" x=\"652.5\" y=\"-1563.8\" font-family=\"Times,serif\" font-size=\"14.00\">[1]</text>\n",
       "<text text-anchor=\"middle\" x=\"652.5\" y=\"-1548.8\" font-family=\"Times,serif\" font-size=\"14.00\">primitive</text>\n",
       "<text text-anchor=\"middle\" x=\"652.5\" y=\"-1533.8\" font-family=\"Times,serif\" font-size=\"14.00\">morphism</text>\n",
       "<text text-anchor=\"middle\" x=\"652.5\" y=\"-1518.8\" font-family=\"Times,serif\" font-size=\"14.00\">&lt;a&gt;</text>\n",
       "</g>\n",
       "<!-- 2 -->\n",
       "<g id=\"node2\" class=\"node\">\n",
       "<title>2</title>\n",
       "<polygon fill=\"none\" stroke=\"black\" points=\"731.5,-1466.5 665.5,-1466.5 665.5,-1413.5 731.5,-1413.5 731.5,-1466.5\"/>\n",
       "<text text-anchor=\"middle\" x=\"698.5\" y=\"-1451.3\" font-family=\"Times,serif\" font-size=\"14.00\">[2]</text>\n",
       "<text text-anchor=\"middle\" x=\"698.5\" y=\"-1436.3\" font-family=\"Times,serif\" font-size=\"14.00\">Cokernel</text>\n",
       "<text text-anchor=\"middle\" x=\"698.5\" y=\"-1421.3\" font-family=\"Times,serif\" font-size=\"14.00\">Object</text>\n",
       "</g>\n",
       "<!-- 1&#45;&gt;2 -->\n",
       "<g id=\"edge1\" class=\"edge\">\n",
       "<title>1&#45;&gt;2</title>\n",
       "<path fill=\"none\" stroke=\"black\" d=\"M667.31,-1510.84C672.31,-1499.63 677.92,-1487.09 682.98,-1475.76\"/>\n",
       "<polygon fill=\"black\" stroke=\"black\" points=\"686.19,-1477.14 687.08,-1466.58 679.8,-1474.28 686.19,-1477.14\"/>\n",
       "</g>\n",
       "<!-- 6 -->\n",
       "<g id=\"node6\" class=\"node\">\n",
       "<title>6</title>\n",
       "<polygon fill=\"none\" stroke=\"black\" points=\"394.5,-1347.5 326.5,-1347.5 326.5,-1294.5 394.5,-1294.5 394.5,-1347.5\"/>\n",
       "<text text-anchor=\"middle\" x=\"360.5\" y=\"-1332.3\" font-family=\"Times,serif\" font-size=\"14.00\">[6]</text>\n",
       "<text text-anchor=\"middle\" x=\"360.5\" y=\"-1317.3\" font-family=\"Times,serif\" font-size=\"14.00\">Pre</text>\n",
       "<text text-anchor=\"middle\" x=\"360.5\" y=\"-1302.3\" font-family=\"Times,serif\" font-size=\"14.00\">Compose</text>\n",
       "</g>\n",
       "<!-- 1&#45;&gt;6 -->\n",
       "<g id=\"edge4\" class=\"edge\">\n",
       "<title>1&#45;&gt;6</title>\n",
       "<path fill=\"none\" stroke=\"black\" d=\"M615.6,-1544.57C560.86,-1543.33 458.38,-1532.67 400.5,-1474 370.02,-1443.1 361.97,-1391.93 360.25,-1357.6\"/>\n",
       "<polygon fill=\"black\" stroke=\"black\" points=\"363.75,-1357.4 359.9,-1347.52 356.75,-1357.64 363.75,-1357.4\"/>\n",
       "<text text-anchor=\"middle\" x=\"404\" y=\"-1436.3\" font-family=\"Times,serif\" font-size=\"14.00\">1</text>\n",
       "</g>\n",
       "<!-- 8 -->\n",
       "<g id=\"node8\" class=\"node\">\n",
       "<title>8</title>\n",
       "<polygon fill=\"none\" stroke=\"black\" points=\"701.5,-1355 579.5,-1355 579.5,-1287 701.5,-1287 701.5,-1355\"/>\n",
       "<text text-anchor=\"middle\" x=\"640.5\" y=\"-1339.8\" font-family=\"Times,serif\" font-size=\"14.00\">[8]</text>\n",
       "<text text-anchor=\"middle\" x=\"640.5\" y=\"-1324.8\" font-family=\"Times,serif\" font-size=\"14.00\">CokernelProjection</text>\n",
       "<text text-anchor=\"middle\" x=\"640.5\" y=\"-1309.8\" font-family=\"Times,serif\" font-size=\"14.00\">WithGiven</text>\n",
       "<text text-anchor=\"middle\" x=\"640.5\" y=\"-1294.8\" font-family=\"Times,serif\" font-size=\"14.00\">CokernelObject</text>\n",
       "</g>\n",
       "<!-- 1&#45;&gt;8 -->\n",
       "<g id=\"edge7\" class=\"edge\">\n",
       "<title>1&#45;&gt;8</title>\n",
       "<path fill=\"none\" stroke=\"black\" d=\"M650.7,-1510.76C648.61,-1471.99 645.14,-1407.77 642.83,-1365.17\"/>\n",
       "<polygon fill=\"black\" stroke=\"black\" points=\"646.32,-1364.9 642.29,-1355.1 639.33,-1365.27 646.32,-1364.9\"/>\n",
       "<text text-anchor=\"middle\" x=\"653\" y=\"-1436.3\" font-family=\"Times,serif\" font-size=\"14.00\">1</text>\n",
       "</g>\n",
       "<!-- 10 -->\n",
       "<g id=\"node10\" class=\"node\">\n",
       "<title>10</title>\n",
       "<polygon fill=\"none\" stroke=\"black\" points=\"809.5,-1236 707.5,-1236 707.5,-1168 809.5,-1168 809.5,-1236\"/>\n",
       "<text text-anchor=\"middle\" x=\"758.5\" y=\"-1220.8\" font-family=\"Times,serif\" font-size=\"14.00\">[10]</text>\n",
       "<text text-anchor=\"middle\" x=\"758.5\" y=\"-1205.8\" font-family=\"Times,serif\" font-size=\"14.00\">CokernelColift</text>\n",
       "<text text-anchor=\"middle\" x=\"758.5\" y=\"-1190.8\" font-family=\"Times,serif\" font-size=\"14.00\">WithGiven</text>\n",
       "<text text-anchor=\"middle\" x=\"758.5\" y=\"-1175.8\" font-family=\"Times,serif\" font-size=\"14.00\">CokernelObject</text>\n",
       "</g>\n",
       "<!-- 1&#45;&gt;10 -->\n",
       "<g id=\"edge11\" class=\"edge\">\n",
       "<title>1&#45;&gt;10</title>\n",
       "<path fill=\"none\" stroke=\"black\" d=\"M689.01,-1524.68C707.75,-1512.72 729,-1495.52 740.5,-1474 779.2,-1401.57 773.58,-1302.27 766.02,-1246.17\"/>\n",
       "<polygon fill=\"black\" stroke=\"black\" points=\"769.48,-1245.62 764.6,-1236.22 762.55,-1246.61 769.48,-1245.62\"/>\n",
       "<text text-anchor=\"middle\" x=\"772\" y=\"-1376.8\" font-family=\"Times,serif\" font-size=\"14.00\">1</text>\n",
       "</g>\n",
       "<!-- 2&#45;&gt;8 -->\n",
       "<g id=\"edge8\" class=\"edge\">\n",
       "<title>2&#45;&gt;8</title>\n",
       "<path fill=\"none\" stroke=\"black\" d=\"M685.77,-1413.32C678.69,-1399.04 669.7,-1380.9 661.6,-1364.55\"/>\n",
       "<polygon fill=\"black\" stroke=\"black\" points=\"664.53,-1362.59 656.95,-1355.18 658.25,-1365.7 664.53,-1362.59\"/>\n",
       "<text text-anchor=\"middle\" x=\"677\" y=\"-1376.8\" font-family=\"Times,serif\" font-size=\"14.00\">2</text>\n",
       "</g>\n",
       "<!-- 2&#45;&gt;10 -->\n",
       "<g id=\"edge13\" class=\"edge\">\n",
       "<title>2&#45;&gt;10</title>\n",
       "<path fill=\"none\" stroke=\"black\" d=\"M705.04,-1413.29C715.24,-1373.14 735.09,-1295.09 747.52,-1246.19\"/>\n",
       "<polygon fill=\"black\" stroke=\"black\" points=\"750.98,-1246.78 750.05,-1236.23 744.2,-1245.06 750.98,-1246.78\"/>\n",
       "<text text-anchor=\"middle\" x=\"740\" y=\"-1317.3\" font-family=\"Times,serif\" font-size=\"14.00\">3</text>\n",
       "</g>\n",
       "<!-- 3 -->\n",
       "<g id=\"node3\" class=\"node\">\n",
       "<title>3</title>\n",
       "<polygon fill=\"none\" stroke=\"black\" points=\"490,-1474 417,-1474 417,-1406 490,-1406 490,-1474\"/>\n",
       "<text text-anchor=\"middle\" x=\"453.5\" y=\"-1458.8\" font-family=\"Times,serif\" font-size=\"14.00\">[3]</text>\n",
       "<text text-anchor=\"middle\" x=\"453.5\" y=\"-1443.8\" font-family=\"Times,serif\" font-size=\"14.00\">primitive</text>\n",
       "<text text-anchor=\"middle\" x=\"453.5\" y=\"-1428.8\" font-family=\"Times,serif\" font-size=\"14.00\">morphism</text>\n",
       "<text text-anchor=\"middle\" x=\"453.5\" y=\"-1413.8\" font-family=\"Times,serif\" font-size=\"14.00\">&lt;b&gt;</text>\n",
       "</g>\n",
       "<!-- 5 -->\n",
       "<g id=\"node5\" class=\"node\">\n",
       "<title>5</title>\n",
       "<polygon fill=\"none\" stroke=\"black\" points=\"480.5,-1347.5 412.5,-1347.5 412.5,-1294.5 480.5,-1294.5 480.5,-1347.5\"/>\n",
       "<text text-anchor=\"middle\" x=\"446.5\" y=\"-1332.3\" font-family=\"Times,serif\" font-size=\"14.00\">[5]</text>\n",
       "<text text-anchor=\"middle\" x=\"446.5\" y=\"-1317.3\" font-family=\"Times,serif\" font-size=\"14.00\">Pre</text>\n",
       "<text text-anchor=\"middle\" x=\"446.5\" y=\"-1302.3\" font-family=\"Times,serif\" font-size=\"14.00\">Compose</text>\n",
       "</g>\n",
       "<!-- 3&#45;&gt;5 -->\n",
       "<g id=\"edge2\" class=\"edge\">\n",
       "<title>3&#45;&gt;5</title>\n",
       "<path fill=\"none\" stroke=\"black\" d=\"M451.51,-1405.79C450.62,-1390.85 449.56,-1373.2 448.65,-1357.96\"/>\n",
       "<polygon fill=\"black\" stroke=\"black\" points=\"452.14,-1357.63 448.05,-1347.86 445.15,-1358.05 452.14,-1357.63\"/>\n",
       "<text text-anchor=\"middle\" x=\"454\" y=\"-1376.8\" font-family=\"Times,serif\" font-size=\"14.00\">1</text>\n",
       "</g>\n",
       "<!-- 3&#45;&gt;6 -->\n",
       "<g id=\"edge5\" class=\"edge\">\n",
       "<title>3&#45;&gt;6</title>\n",
       "<path fill=\"none\" stroke=\"black\" d=\"M416.99,-1409.72C409.74,-1403.01 402.52,-1395.6 396.5,-1388 388.98,-1378.51 382.18,-1367.22 376.56,-1356.69\"/>\n",
       "<polygon fill=\"black\" stroke=\"black\" points=\"379.63,-1355 371.95,-1347.7 373.4,-1358.19 379.63,-1355\"/>\n",
       "<text text-anchor=\"middle\" x=\"400\" y=\"-1376.8\" font-family=\"Times,serif\" font-size=\"14.00\">2</text>\n",
       "</g>\n",
       "<!-- 9 -->\n",
       "<g id=\"node9\" class=\"node\">\n",
       "<title>9</title>\n",
       "<polygon fill=\"none\" stroke=\"black\" points=\"590.5,-1221 530.5,-1221 530.5,-1183 590.5,-1183 590.5,-1221\"/>\n",
       "<text text-anchor=\"middle\" x=\"560.5\" y=\"-1205.8\" font-family=\"Times,serif\" font-size=\"14.00\">[9]</text>\n",
       "<text text-anchor=\"middle\" x=\"560.5\" y=\"-1190.8\" font-family=\"Times,serif\" font-size=\"14.00\">Pushout</text>\n",
       "</g>\n",
       "<!-- 3&#45;&gt;9 -->\n",
       "<g id=\"edge10\" class=\"edge\">\n",
       "<title>3&#45;&gt;9</title>\n",
       "<path fill=\"none\" stroke=\"black\" d=\"M490.21,-1419.25C502.2,-1411.08 514.48,-1400.55 522.5,-1388 553.59,-1339.34 559.88,-1270.07 560.79,-1231.58\"/>\n",
       "<polygon fill=\"black\" stroke=\"black\" points=\"564.29,-1231.18 560.92,-1221.14 557.3,-1231.09 564.29,-1231.18\"/>\n",
       "<text text-anchor=\"middle\" x=\"560\" y=\"-1317.3\" font-family=\"Times,serif\" font-size=\"14.00\">2</text>\n",
       "</g>\n",
       "<!-- 14 -->\n",
       "<g id=\"node14\" class=\"node\">\n",
       "<title>14</title>\n",
       "<polygon fill=\"none\" stroke=\"black\" points=\"511.5,-1117 327.5,-1117 327.5,-1064 511.5,-1064 511.5,-1117\"/>\n",
       "<text text-anchor=\"middle\" x=\"419.5\" y=\"-1101.8\" font-family=\"Times,serif\" font-size=\"14.00\">[14]</text>\n",
       "<text text-anchor=\"middle\" x=\"419.5\" y=\"-1086.8\" font-family=\"Times,serif\" font-size=\"14.00\">InjectionOfCofactorOfPushout</text>\n",
       "<text text-anchor=\"middle\" x=\"419.5\" y=\"-1071.8\" font-family=\"Times,serif\" font-size=\"14.00\">WithGivenPushout( 2 )</text>\n",
       "</g>\n",
       "<!-- 3&#45;&gt;14 -->\n",
       "<g id=\"edge20\" class=\"edge\">\n",
       "<title>3&#45;&gt;14</title>\n",
       "<path fill=\"none\" stroke=\"black\" d=\"M416.65,-1409.5C414.93,-1408.29 413.2,-1407.12 411.5,-1406 371.78,-1379.89 341.81,-1395.84 317.5,-1355 271.56,-1277.82 343.52,-1176.24 388.22,-1124.66\"/>\n",
       "<polygon fill=\"black\" stroke=\"black\" points=\"390.88,-1126.93 394.87,-1117.12 385.63,-1122.3 390.88,-1126.93\"/>\n",
       "<text text-anchor=\"middle\" x=\"314\" y=\"-1257.8\" font-family=\"Times,serif\" font-size=\"14.00\">2</text>\n",
       "</g>\n",
       "<!-- 16 -->\n",
       "<g id=\"node16\" class=\"node\">\n",
       "<title>16</title>\n",
       "<polygon fill=\"none\" stroke=\"black\" points=\"713.5,-1117 529.5,-1117 529.5,-1064 713.5,-1064 713.5,-1117\"/>\n",
       "<text text-anchor=\"middle\" x=\"621.5\" y=\"-1101.8\" font-family=\"Times,serif\" font-size=\"14.00\">[16]</text>\n",
       "<text text-anchor=\"middle\" x=\"621.5\" y=\"-1086.8\" font-family=\"Times,serif\" font-size=\"14.00\">InjectionOfCofactorOfPushout</text>\n",
       "<text text-anchor=\"middle\" x=\"621.5\" y=\"-1071.8\" font-family=\"Times,serif\" font-size=\"14.00\">WithGivenPushout( 1 )</text>\n",
       "</g>\n",
       "<!-- 3&#45;&gt;16 -->\n",
       "<g id=\"edge25\" class=\"edge\">\n",
       "<title>3&#45;&gt;16</title>\n",
       "<path fill=\"none\" stroke=\"black\" d=\"M469.9,-1405.75C476.81,-1390.58 484.42,-1372.19 489.5,-1355 513.38,-1274.13 477.89,-1240.16 521.5,-1168 532.24,-1150.24 548.76,-1135.13 565.31,-1123.15\"/>\n",
       "<polygon fill=\"black\" stroke=\"black\" points=\"567.71,-1125.74 573.94,-1117.17 563.72,-1119.99 567.71,-1125.74\"/>\n",
       "<text text-anchor=\"middle\" x=\"502\" y=\"-1257.8\" font-family=\"Times,serif\" font-size=\"14.00\">2</text>\n",
       "</g>\n",
       "<!-- 4 -->\n",
       "<g id=\"node4\" class=\"node\">\n",
       "<title>4</title>\n",
       "<polygon fill=\"none\" stroke=\"black\" points=\"255,-1474 182,-1474 182,-1406 255,-1406 255,-1474\"/>\n",
       "<text text-anchor=\"middle\" x=\"218.5\" y=\"-1458.8\" font-family=\"Times,serif\" font-size=\"14.00\">[4]</text>\n",
       "<text text-anchor=\"middle\" x=\"218.5\" y=\"-1443.8\" font-family=\"Times,serif\" font-size=\"14.00\">primitive</text>\n",
       "<text text-anchor=\"middle\" x=\"218.5\" y=\"-1428.8\" font-family=\"Times,serif\" font-size=\"14.00\">morphism</text>\n",
       "<text text-anchor=\"middle\" x=\"218.5\" y=\"-1413.8\" font-family=\"Times,serif\" font-size=\"14.00\">&lt;c&gt;</text>\n",
       "</g>\n",
       "<!-- 4&#45;&gt;5 -->\n",
       "<g id=\"edge3\" class=\"edge\">\n",
       "<title>4&#45;&gt;5</title>\n",
       "<path fill=\"none\" stroke=\"black\" d=\"M255.15,-1428.95C308.12,-1414.41 399.98,-1389.09 401.5,-1388 412.91,-1379.82 422.33,-1367.79 429.55,-1356.24\"/>\n",
       "<polygon fill=\"black\" stroke=\"black\" points=\"432.6,-1357.96 434.64,-1347.57 426.56,-1354.42 432.6,-1357.96\"/>\n",
       "<text text-anchor=\"middle\" x=\"421\" y=\"-1376.8\" font-family=\"Times,serif\" font-size=\"14.00\">2</text>\n",
       "</g>\n",
       "<!-- 7 -->\n",
       "<g id=\"node7\" class=\"node\">\n",
       "<title>7</title>\n",
       "<polygon fill=\"none\" stroke=\"black\" points=\"204.5,-1347.5 150.5,-1347.5 150.5,-1294.5 204.5,-1294.5 204.5,-1347.5\"/>\n",
       "<text text-anchor=\"middle\" x=\"177.5\" y=\"-1332.3\" font-family=\"Times,serif\" font-size=\"14.00\">[7]</text>\n",
       "<text text-anchor=\"middle\" x=\"177.5\" y=\"-1317.3\" font-family=\"Times,serif\" font-size=\"14.00\">Kernel</text>\n",
       "<text text-anchor=\"middle\" x=\"177.5\" y=\"-1302.3\" font-family=\"Times,serif\" font-size=\"14.00\">Object</text>\n",
       "</g>\n",
       "<!-- 4&#45;&gt;7 -->\n",
       "<g id=\"edge6\" class=\"edge\">\n",
       "<title>4&#45;&gt;7</title>\n",
       "<path fill=\"none\" stroke=\"black\" d=\"M206.86,-1405.79C201.58,-1390.71 195.32,-1372.86 189.95,-1357.52\"/>\n",
       "<polygon fill=\"black\" stroke=\"black\" points=\"193.17,-1356.14 186.56,-1347.86 186.57,-1358.45 193.17,-1356.14\"/>\n",
       "</g>\n",
       "<!-- 12 -->\n",
       "<g id=\"node12\" class=\"node\">\n",
       "<title>12</title>\n",
       "<polygon fill=\"none\" stroke=\"black\" points=\"285,-1236 196,-1236 196,-1168 285,-1168 285,-1236\"/>\n",
       "<text text-anchor=\"middle\" x=\"240.5\" y=\"-1220.8\" font-family=\"Times,serif\" font-size=\"14.00\">[12]</text>\n",
       "<text text-anchor=\"middle\" x=\"240.5\" y=\"-1205.8\" font-family=\"Times,serif\" font-size=\"14.00\">KernelLift</text>\n",
       "<text text-anchor=\"middle\" x=\"240.5\" y=\"-1190.8\" font-family=\"Times,serif\" font-size=\"14.00\">WithGiven</text>\n",
       "<text text-anchor=\"middle\" x=\"240.5\" y=\"-1175.8\" font-family=\"Times,serif\" font-size=\"14.00\">KernelObject</text>\n",
       "</g>\n",
       "<!-- 4&#45;&gt;12 -->\n",
       "<g id=\"edge15\" class=\"edge\">\n",
       "<title>4&#45;&gt;12</title>\n",
       "<path fill=\"none\" stroke=\"black\" d=\"M221.58,-1405.94C225.47,-1364.19 232.18,-1292.26 236.47,-1246.2\"/>\n",
       "<polygon fill=\"black\" stroke=\"black\" points=\"239.96,-1246.5 237.4,-1236.22 232.99,-1245.85 239.96,-1246.5\"/>\n",
       "<text text-anchor=\"middle\" x=\"236\" y=\"-1317.3\" font-family=\"Times,serif\" font-size=\"14.00\">1</text>\n",
       "</g>\n",
       "<!-- 15 -->\n",
       "<g id=\"node15\" class=\"node\">\n",
       "<title>15</title>\n",
       "<polygon fill=\"none\" stroke=\"black\" points=\"177.5,-1236 61.5,-1236 61.5,-1168 177.5,-1168 177.5,-1236\"/>\n",
       "<text text-anchor=\"middle\" x=\"119.5\" y=\"-1220.8\" font-family=\"Times,serif\" font-size=\"14.00\">[15]</text>\n",
       "<text text-anchor=\"middle\" x=\"119.5\" y=\"-1205.8\" font-family=\"Times,serif\" font-size=\"14.00\">KernelEmbedding</text>\n",
       "<text text-anchor=\"middle\" x=\"119.5\" y=\"-1190.8\" font-family=\"Times,serif\" font-size=\"14.00\">WithGiven</text>\n",
       "<text text-anchor=\"middle\" x=\"119.5\" y=\"-1175.8\" font-family=\"Times,serif\" font-size=\"14.00\">KernelObject</text>\n",
       "</g>\n",
       "<!-- 4&#45;&gt;15 -->\n",
       "<g id=\"edge22\" class=\"edge\">\n",
       "<title>4&#45;&gt;15</title>\n",
       "<path fill=\"none\" stroke=\"black\" d=\"M181.96,-1412.38C164.52,-1397.56 145.17,-1377.56 134.5,-1355 118.4,-1320.97 115.55,-1277.95 116.19,-1246.36\"/>\n",
       "<polygon fill=\"black\" stroke=\"black\" points=\"119.7,-1246.23 116.53,-1236.12 112.7,-1246 119.7,-1246.23\"/>\n",
       "<text text-anchor=\"middle\" x=\"138\" y=\"-1317.3\" font-family=\"Times,serif\" font-size=\"14.00\">1</text>\n",
       "</g>\n",
       "<!-- 5&#45;&gt;10 -->\n",
       "<g id=\"edge12\" class=\"edge\">\n",
       "<title>5&#45;&gt;10</title>\n",
       "<path fill=\"none\" stroke=\"black\" d=\"M480.62,-1300.77C508.15,-1286 548.29,-1266.14 585.5,-1254 626.36,-1240.67 639.37,-1248.44 680.5,-1236 686.18,-1234.28 692.01,-1232.29 697.8,-1230.14\"/>\n",
       "<polygon fill=\"black\" stroke=\"black\" points=\"699.39,-1233.28 707.47,-1226.41 696.88,-1226.74 699.39,-1233.28\"/>\n",
       "<text text-anchor=\"middle\" x=\"589\" y=\"-1257.8\" font-family=\"Times,serif\" font-size=\"14.00\">2</text>\n",
       "</g>\n",
       "<!-- 6&#45;&gt;12 -->\n",
       "<g id=\"edge16\" class=\"edge\">\n",
       "<title>6&#45;&gt;12</title>\n",
       "<path fill=\"none\" stroke=\"black\" d=\"M326.31,-1301.98C311.76,-1293.27 295.23,-1281.89 282.5,-1269 275.41,-1261.83 268.9,-1253.26 263.23,-1244.72\"/>\n",
       "<polygon fill=\"black\" stroke=\"black\" points=\"266.16,-1242.8 257.85,-1236.23 260.25,-1246.55 266.16,-1242.8\"/>\n",
       "<text text-anchor=\"middle\" x=\"286\" y=\"-1257.8\" font-family=\"Times,serif\" font-size=\"14.00\">2</text>\n",
       "</g>\n",
       "<!-- 7&#45;&gt;12 -->\n",
       "<g id=\"edge17\" class=\"edge\">\n",
       "<title>7&#45;&gt;12</title>\n",
       "<path fill=\"none\" stroke=\"black\" d=\"M191.33,-1294.32C199.09,-1279.91 208.97,-1261.56 217.83,-1245.1\"/>\n",
       "<polygon fill=\"black\" stroke=\"black\" points=\"220.97,-1246.65 222.63,-1236.18 214.81,-1243.33 220.97,-1246.65\"/>\n",
       "<text text-anchor=\"middle\" x=\"217\" y=\"-1257.8\" font-family=\"Times,serif\" font-size=\"14.00\">3</text>\n",
       "</g>\n",
       "<!-- 7&#45;&gt;15 -->\n",
       "<g id=\"edge23\" class=\"edge\">\n",
       "<title>7&#45;&gt;15</title>\n",
       "<path fill=\"none\" stroke=\"black\" d=\"M164.77,-1294.32C157.69,-1280.04 148.7,-1261.9 140.6,-1245.55\"/>\n",
       "<polygon fill=\"black\" stroke=\"black\" points=\"143.53,-1243.59 135.95,-1236.18 137.25,-1246.7 143.53,-1243.59\"/>\n",
       "<text text-anchor=\"middle\" x=\"156\" y=\"-1257.8\" font-family=\"Times,serif\" font-size=\"14.00\">2</text>\n",
       "</g>\n",
       "<!-- 8&#45;&gt;9 -->\n",
       "<g id=\"edge9\" class=\"edge\">\n",
       "<title>8&#45;&gt;9</title>\n",
       "<path fill=\"none\" stroke=\"black\" d=\"M617.7,-1286.82C613.64,-1280.88 609.44,-1274.76 605.5,-1269 596.62,-1256.01 586.77,-1241.57 578.55,-1229.52\"/>\n",
       "<polygon fill=\"black\" stroke=\"black\" points=\"581.42,-1227.51 572.9,-1221.22 575.64,-1231.45 581.42,-1227.51\"/>\n",
       "<text text-anchor=\"middle\" x=\"609\" y=\"-1257.8\" font-family=\"Times,serif\" font-size=\"14.00\">1</text>\n",
       "</g>\n",
       "<!-- 8&#45;&gt;14 -->\n",
       "<g id=\"edge19\" class=\"edge\">\n",
       "<title>8&#45;&gt;14</title>\n",
       "<path fill=\"none\" stroke=\"black\" d=\"M635.02,-1286.69C627.98,-1247.53 614.84,-1185.63 599.5,-1168 586.24,-1152.77 546.46,-1135.18 507.66,-1120.71\"/>\n",
       "<polygon fill=\"black\" stroke=\"black\" points=\"508.42,-1117.27 497.83,-1117.1 506.01,-1123.84 508.42,-1117.27\"/>\n",
       "<text text-anchor=\"middle\" x=\"628\" y=\"-1198.3\" font-family=\"Times,serif\" font-size=\"14.00\">1</text>\n",
       "</g>\n",
       "<!-- 8&#45;&gt;16 -->\n",
       "<g id=\"edge24\" class=\"edge\">\n",
       "<title>8&#45;&gt;16</title>\n",
       "<path fill=\"none\" stroke=\"black\" d=\"M640.73,-1286.76C640.74,-1276.28 640.69,-1264.65 640.5,-1254 639.83,-1215.76 642.1,-1205.97 637.5,-1168 635.87,-1154.5 633.06,-1139.85 630.25,-1127.01\"/>\n",
       "<polygon fill=\"black\" stroke=\"black\" points=\"633.64,-1126.15 628.02,-1117.17 626.81,-1127.69 633.64,-1126.15\"/>\n",
       "<text text-anchor=\"middle\" x=\"644\" y=\"-1198.3\" font-family=\"Times,serif\" font-size=\"14.00\">1</text>\n",
       "</g>\n",
       "<!-- 9&#45;&gt;14 -->\n",
       "<g id=\"edge21\" class=\"edge\">\n",
       "<title>9&#45;&gt;14</title>\n",
       "<path fill=\"none\" stroke=\"black\" d=\"M537.22,-1182.92C516.49,-1166.82 485.67,-1142.89 460.77,-1123.55\"/>\n",
       "<polygon fill=\"black\" stroke=\"black\" points=\"462.62,-1120.56 452.58,-1117.19 458.33,-1126.09 462.62,-1120.56\"/>\n",
       "<text text-anchor=\"middle\" x=\"498\" y=\"-1138.8\" font-family=\"Times,serif\" font-size=\"14.00\">3</text>\n",
       "</g>\n",
       "<!-- 9&#45;&gt;16 -->\n",
       "<g id=\"edge26\" class=\"edge\">\n",
       "<title>9&#45;&gt;16</title>\n",
       "<path fill=\"none\" stroke=\"black\" d=\"M570.57,-1182.92C579.12,-1167.57 591.64,-1145.11 602.12,-1126.29\"/>\n",
       "<polygon fill=\"black\" stroke=\"black\" points=\"605.27,-1127.83 607.08,-1117.39 599.15,-1124.43 605.27,-1127.83\"/>\n",
       "<text text-anchor=\"middle\" x=\"600\" y=\"-1138.8\" font-family=\"Times,serif\" font-size=\"14.00\">3</text>\n",
       "</g>\n",
       "<!-- 11 -->\n",
       "<g id=\"node11\" class=\"node\">\n",
       "<title>11</title>\n",
       "<polygon fill=\"none\" stroke=\"black\" points=\"785.5,-1117 731.5,-1117 731.5,-1064 785.5,-1064 785.5,-1117\"/>\n",
       "<text text-anchor=\"middle\" x=\"758.5\" y=\"-1101.8\" font-family=\"Times,serif\" font-size=\"14.00\">[11]</text>\n",
       "<text text-anchor=\"middle\" x=\"758.5\" y=\"-1086.8\" font-family=\"Times,serif\" font-size=\"14.00\">Kernel</text>\n",
       "<text text-anchor=\"middle\" x=\"758.5\" y=\"-1071.8\" font-family=\"Times,serif\" font-size=\"14.00\">Object</text>\n",
       "</g>\n",
       "<!-- 10&#45;&gt;11 -->\n",
       "<g id=\"edge14\" class=\"edge\">\n",
       "<title>10&#45;&gt;11</title>\n",
       "<path fill=\"none\" stroke=\"black\" d=\"M758.5,-1167.85C758.5,-1155.03 758.5,-1140.34 758.5,-1127.29\"/>\n",
       "<polygon fill=\"black\" stroke=\"black\" points=\"762,-1127.24 758.5,-1117.24 755,-1127.24 762,-1127.24\"/>\n",
       "</g>\n",
       "<!-- 17 -->\n",
       "<g id=\"node17\" class=\"node\">\n",
       "<title>17</title>\n",
       "<polygon fill=\"none\" stroke=\"black\" points=\"816.5,-1013 700.5,-1013 700.5,-945 816.5,-945 816.5,-1013\"/>\n",
       "<text text-anchor=\"middle\" x=\"758.5\" y=\"-997.8\" font-family=\"Times,serif\" font-size=\"14.00\">[17]</text>\n",
       "<text text-anchor=\"middle\" x=\"758.5\" y=\"-982.8\" font-family=\"Times,serif\" font-size=\"14.00\">KernelEmbedding</text>\n",
       "<text text-anchor=\"middle\" x=\"758.5\" y=\"-967.8\" font-family=\"Times,serif\" font-size=\"14.00\">WithGiven</text>\n",
       "<text text-anchor=\"middle\" x=\"758.5\" y=\"-952.8\" font-family=\"Times,serif\" font-size=\"14.00\">KernelObject</text>\n",
       "</g>\n",
       "<!-- 10&#45;&gt;17 -->\n",
       "<g id=\"edge27\" class=\"edge\">\n",
       "<title>10&#45;&gt;17</title>\n",
       "<path fill=\"none\" stroke=\"black\" d=\"M776.47,-1167.69C783.59,-1152.66 790.93,-1134.41 794.5,-1117 799.24,-1093.93 799.24,-1087.07 794.5,-1064 791.62,-1049.99 786.31,-1035.44 780.63,-1022.46\"/>\n",
       "<polygon fill=\"black\" stroke=\"black\" points=\"783.8,-1020.96 776.47,-1013.31 777.43,-1023.86 783.8,-1020.96\"/>\n",
       "<text text-anchor=\"middle\" x=\"801\" y=\"-1086.8\" font-family=\"Times,serif\" font-size=\"14.00\">1</text>\n",
       "</g>\n",
       "<!-- 11&#45;&gt;17 -->\n",
       "<g id=\"edge28\" class=\"edge\">\n",
       "<title>11&#45;&gt;17</title>\n",
       "<path fill=\"none\" stroke=\"black\" d=\"M758.5,-1063.83C758.5,-1051.84 758.5,-1037.23 758.5,-1023.59\"/>\n",
       "<polygon fill=\"black\" stroke=\"black\" points=\"762,-1023.4 758.5,-1013.4 755,-1023.4 762,-1023.4\"/>\n",
       "<text text-anchor=\"middle\" x=\"762\" y=\"-1034.8\" font-family=\"Times,serif\" font-size=\"14.00\">2</text>\n",
       "</g>\n",
       "<!-- 13 -->\n",
       "<g id=\"node13\" class=\"node\">\n",
       "<title>13</title>\n",
       "<polygon fill=\"none\" stroke=\"black\" points=\"309.5,-1117 243.5,-1117 243.5,-1064 309.5,-1064 309.5,-1117\"/>\n",
       "<text text-anchor=\"middle\" x=\"276.5\" y=\"-1101.8\" font-family=\"Times,serif\" font-size=\"14.00\">[13]</text>\n",
       "<text text-anchor=\"middle\" x=\"276.5\" y=\"-1086.8\" font-family=\"Times,serif\" font-size=\"14.00\">Cokernel</text>\n",
       "<text text-anchor=\"middle\" x=\"276.5\" y=\"-1071.8\" font-family=\"Times,serif\" font-size=\"14.00\">Object</text>\n",
       "</g>\n",
       "<!-- 12&#45;&gt;13 -->\n",
       "<g id=\"edge18\" class=\"edge\">\n",
       "<title>12&#45;&gt;13</title>\n",
       "<path fill=\"none\" stroke=\"black\" d=\"M251.4,-1167.85C255.65,-1154.91 260.54,-1140.05 264.86,-1126.9\"/>\n",
       "<polygon fill=\"black\" stroke=\"black\" points=\"268.24,-1127.83 268.04,-1117.24 261.59,-1125.64 268.24,-1127.83\"/>\n",
       "</g>\n",
       "<!-- 19 -->\n",
       "<g id=\"node19\" class=\"node\">\n",
       "<title>19</title>\n",
       "<polygon fill=\"none\" stroke=\"black\" points=\"337.5,-1013 215.5,-1013 215.5,-945 337.5,-945 337.5,-1013\"/>\n",
       "<text text-anchor=\"middle\" x=\"276.5\" y=\"-997.8\" font-family=\"Times,serif\" font-size=\"14.00\">[19]</text>\n",
       "<text text-anchor=\"middle\" x=\"276.5\" y=\"-982.8\" font-family=\"Times,serif\" font-size=\"14.00\">CokernelProjection</text>\n",
       "<text text-anchor=\"middle\" x=\"276.5\" y=\"-967.8\" font-family=\"Times,serif\" font-size=\"14.00\">WithGiven</text>\n",
       "<text text-anchor=\"middle\" x=\"276.5\" y=\"-952.8\" font-family=\"Times,serif\" font-size=\"14.00\">CokernelObject</text>\n",
       "</g>\n",
       "<!-- 12&#45;&gt;19 -->\n",
       "<g id=\"edge31\" class=\"edge\">\n",
       "<title>12&#45;&gt;19</title>\n",
       "<path fill=\"none\" stroke=\"black\" d=\"M230.85,-1167.78C224.22,-1139.68 218.15,-1098.6 227.5,-1064 231.44,-1049.43 238.6,-1034.8 246.25,-1021.92\"/>\n",
       "<polygon fill=\"black\" stroke=\"black\" points=\"249.3,-1023.65 251.6,-1013.31 243.35,-1019.96 249.3,-1023.65\"/>\n",
       "<text text-anchor=\"middle\" x=\"231\" y=\"-1086.8\" font-family=\"Times,serif\" font-size=\"14.00\">1</text>\n",
       "</g>\n",
       "<!-- 13&#45;&gt;19 -->\n",
       "<g id=\"edge32\" class=\"edge\">\n",
       "<title>13&#45;&gt;19</title>\n",
       "<path fill=\"none\" stroke=\"black\" d=\"M276.5,-1063.83C276.5,-1051.84 276.5,-1037.23 276.5,-1023.59\"/>\n",
       "<polygon fill=\"black\" stroke=\"black\" points=\"280,-1023.4 276.5,-1013.4 273,-1023.4 280,-1023.4\"/>\n",
       "<text text-anchor=\"middle\" x=\"280\" y=\"-1034.8\" font-family=\"Times,serif\" font-size=\"14.00\">2</text>\n",
       "</g>\n",
       "<!-- 18 -->\n",
       "<g id=\"node18\" class=\"node\">\n",
       "<title>18</title>\n",
       "<polygon fill=\"none\" stroke=\"black\" points=\"197.5,-1005.5 129.5,-1005.5 129.5,-952.5 197.5,-952.5 197.5,-1005.5\"/>\n",
       "<text text-anchor=\"middle\" x=\"163.5\" y=\"-990.3\" font-family=\"Times,serif\" font-size=\"14.00\">[18]</text>\n",
       "<text text-anchor=\"middle\" x=\"163.5\" y=\"-975.3\" font-family=\"Times,serif\" font-size=\"14.00\">Pre</text>\n",
       "<text text-anchor=\"middle\" x=\"163.5\" y=\"-960.3\" font-family=\"Times,serif\" font-size=\"14.00\">Compose</text>\n",
       "</g>\n",
       "<!-- 14&#45;&gt;18 -->\n",
       "<g id=\"edge30\" class=\"edge\">\n",
       "<title>14&#45;&gt;18</title>\n",
       "<path fill=\"none\" stroke=\"black\" d=\"M327.44,-1065.4C301.79,-1058.26 277.63,-1051.02 265.5,-1046 237.74,-1034.5 231.59,-1029.52 206.5,-1013 205.74,-1012.5 204.98,-1011.99 204.22,-1011.48\"/>\n",
       "<polygon fill=\"black\" stroke=\"black\" points=\"206.21,-1008.6 196.01,-1005.73 202.19,-1014.33 206.21,-1008.6\"/>\n",
       "<text text-anchor=\"middle\" x=\"269\" y=\"-1034.8\" font-family=\"Times,serif\" font-size=\"14.00\">2</text>\n",
       "</g>\n",
       "<!-- 15&#45;&gt;18 -->\n",
       "<g id=\"edge29\" class=\"edge\">\n",
       "<title>15&#45;&gt;18</title>\n",
       "<path fill=\"none\" stroke=\"black\" d=\"M126.09,-1167.91C134.22,-1127.06 148,-1057.85 156.37,-1015.79\"/>\n",
       "<polygon fill=\"black\" stroke=\"black\" points=\"159.86,-1016.21 158.38,-1005.72 152.99,-1014.84 159.86,-1016.21\"/>\n",
       "<text text-anchor=\"middle\" x=\"151\" y=\"-1086.8\" font-family=\"Times,serif\" font-size=\"14.00\">1</text>\n",
       "</g>\n",
       "<!-- 22 -->\n",
       "<g id=\"node22\" class=\"node\">\n",
       "<title>22</title>\n",
       "<polygon fill=\"none\" stroke=\"black\" points=\"655.5,-894 587.5,-894 587.5,-841 655.5,-841 655.5,-894\"/>\n",
       "<text text-anchor=\"middle\" x=\"621.5\" y=\"-878.8\" font-family=\"Times,serif\" font-size=\"14.00\">[22]</text>\n",
       "<text text-anchor=\"middle\" x=\"621.5\" y=\"-863.8\" font-family=\"Times,serif\" font-size=\"14.00\">Pre</text>\n",
       "<text text-anchor=\"middle\" x=\"621.5\" y=\"-848.8\" font-family=\"Times,serif\" font-size=\"14.00\">Compose</text>\n",
       "</g>\n",
       "<!-- 16&#45;&gt;22 -->\n",
       "<g id=\"edge39\" class=\"edge\">\n",
       "<title>16&#45;&gt;22</title>\n",
       "<path fill=\"none\" stroke=\"black\" d=\"M621.5,-1063.72C621.5,-1024.29 621.5,-948.91 621.5,-904.24\"/>\n",
       "<polygon fill=\"black\" stroke=\"black\" points=\"625,-904.12 621.5,-894.12 618,-904.12 625,-904.12\"/>\n",
       "<text text-anchor=\"middle\" x=\"625\" y=\"-975.3\" font-family=\"Times,serif\" font-size=\"14.00\">2</text>\n",
       "</g>\n",
       "<!-- 17&#45;&gt;22 -->\n",
       "<g id=\"edge38\" class=\"edge\">\n",
       "<title>17&#45;&gt;22</title>\n",
       "<path fill=\"none\" stroke=\"black\" d=\"M717.02,-944.85C699.56,-930.89 679.31,-914.71 661.96,-900.84\"/>\n",
       "<polygon fill=\"black\" stroke=\"black\" points=\"663.7,-897.75 653.7,-894.24 659.33,-903.21 663.7,-897.75\"/>\n",
       "<text text-anchor=\"middle\" x=\"698\" y=\"-915.8\" font-family=\"Times,serif\" font-size=\"14.00\">1</text>\n",
       "</g>\n",
       "<!-- 20 -->\n",
       "<g id=\"node20\" class=\"node\">\n",
       "<title>20</title>\n",
       "<polygon fill=\"none\" stroke=\"black\" points=\"197.5,-886.5 137.5,-886.5 137.5,-848.5 197.5,-848.5 197.5,-886.5\"/>\n",
       "<text text-anchor=\"middle\" x=\"167.5\" y=\"-871.3\" font-family=\"Times,serif\" font-size=\"14.00\">[20]</text>\n",
       "<text text-anchor=\"middle\" x=\"167.5\" y=\"-856.3\" font-family=\"Times,serif\" font-size=\"14.00\">Pushout</text>\n",
       "</g>\n",
       "<!-- 18&#45;&gt;20 -->\n",
       "<g id=\"edge33\" class=\"edge\">\n",
       "<title>18&#45;&gt;20</title>\n",
       "<path fill=\"none\" stroke=\"black\" d=\"M164.44,-952.33C165.05,-935.68 165.84,-913.98 166.47,-896.83\"/>\n",
       "<polygon fill=\"black\" stroke=\"black\" points=\"169.96,-896.95 166.83,-886.83 162.97,-896.69 169.96,-896.95\"/>\n",
       "<text text-anchor=\"middle\" x=\"170\" y=\"-915.8\" font-family=\"Times,serif\" font-size=\"14.00\">1</text>\n",
       "</g>\n",
       "<!-- 21 -->\n",
       "<g id=\"node21\" class=\"node\">\n",
       "<title>21</title>\n",
       "<polygon fill=\"none\" stroke=\"black\" points=\"362.5,-790 178.5,-790 178.5,-737 362.5,-737 362.5,-790\"/>\n",
       "<text text-anchor=\"middle\" x=\"270.5\" y=\"-774.8\" font-family=\"Times,serif\" font-size=\"14.00\">[21]</text>\n",
       "<text text-anchor=\"middle\" x=\"270.5\" y=\"-759.8\" font-family=\"Times,serif\" font-size=\"14.00\">InjectionOfCofactorOfPushout</text>\n",
       "<text text-anchor=\"middle\" x=\"270.5\" y=\"-744.8\" font-family=\"Times,serif\" font-size=\"14.00\">WithGivenPushout( 1 )</text>\n",
       "</g>\n",
       "<!-- 18&#45;&gt;21 -->\n",
       "<g id=\"edge35\" class=\"edge\">\n",
       "<title>18&#45;&gt;21</title>\n",
       "<path fill=\"none\" stroke=\"black\" d=\"M197.32,-952.48C205.48,-945 213.56,-936.31 219.5,-927 244.66,-887.58 258.2,-834.86 264.87,-800.3\"/>\n",
       "<polygon fill=\"black\" stroke=\"black\" points=\"268.36,-800.67 266.73,-790.2 261.48,-799.4 268.36,-800.67\"/>\n",
       "<text text-anchor=\"middle\" x=\"259\" y=\"-863.8\" font-family=\"Times,serif\" font-size=\"14.00\">1</text>\n",
       "</g>\n",
       "<!-- 24 -->\n",
       "<g id=\"node24\" class=\"node\">\n",
       "<title>24</title>\n",
       "<polygon fill=\"none\" stroke=\"black\" points=\"242.5,-719 58.5,-719 58.5,-666 242.5,-666 242.5,-719\"/>\n",
       "<text text-anchor=\"middle\" x=\"150.5\" y=\"-703.8\" font-family=\"Times,serif\" font-size=\"14.00\">[24]</text>\n",
       "<text text-anchor=\"middle\" x=\"150.5\" y=\"-688.8\" font-family=\"Times,serif\" font-size=\"14.00\">InjectionOfCofactorOfPushout</text>\n",
       "<text text-anchor=\"middle\" x=\"150.5\" y=\"-673.8\" font-family=\"Times,serif\" font-size=\"14.00\">WithGivenPushout( 2 )</text>\n",
       "</g>\n",
       "<!-- 18&#45;&gt;24 -->\n",
       "<g id=\"edge42\" class=\"edge\">\n",
       "<title>18&#45;&gt;24</title>\n",
       "<path fill=\"none\" stroke=\"black\" d=\"M146.75,-952.34C137.29,-936.3 126.41,-914.79 121.5,-894 108.02,-836.88 124.43,-769.04 137.5,-728.72\"/>\n",
       "<polygon fill=\"black\" stroke=\"black\" points=\"140.87,-729.68 140.73,-719.09 134.23,-727.46 140.87,-729.68\"/>\n",
       "<text text-anchor=\"middle\" x=\"125\" y=\"-863.8\" font-family=\"Times,serif\" font-size=\"14.00\">1</text>\n",
       "</g>\n",
       "<!-- 19&#45;&gt;20 -->\n",
       "<g id=\"edge34\" class=\"edge\">\n",
       "<title>19&#45;&gt;20</title>\n",
       "<path fill=\"none\" stroke=\"black\" d=\"M243.5,-944.85C227.28,-928.55 208.03,-909.22 192.97,-894.08\"/>\n",
       "<polygon fill=\"black\" stroke=\"black\" points=\"195.04,-891.21 185.51,-886.59 190.08,-896.15 195.04,-891.21\"/>\n",
       "<text text-anchor=\"middle\" x=\"229\" y=\"-915.8\" font-family=\"Times,serif\" font-size=\"14.00\">2</text>\n",
       "</g>\n",
       "<!-- 19&#45;&gt;21 -->\n",
       "<g id=\"edge36\" class=\"edge\">\n",
       "<title>19&#45;&gt;21</title>\n",
       "<path fill=\"none\" stroke=\"black\" d=\"M275.56,-944.64C274.46,-905.45 272.64,-840.69 271.51,-800.43\"/>\n",
       "<polygon fill=\"black\" stroke=\"black\" points=\"275,-800.15 271.22,-790.25 268.01,-800.35 275,-800.15\"/>\n",
       "<text text-anchor=\"middle\" x=\"278\" y=\"-863.8\" font-family=\"Times,serif\" font-size=\"14.00\">2</text>\n",
       "</g>\n",
       "<!-- 19&#45;&gt;24 -->\n",
       "<g id=\"edge43\" class=\"edge\">\n",
       "<title>19&#45;&gt;24</title>\n",
       "<path fill=\"none\" stroke=\"black\" d=\"M308.93,-944.94C353.93,-895.04 424.16,-799.66 371.5,-737 356.55,-719.21 291.3,-723.45 268.5,-719 263.23,-717.97 257.83,-716.89 252.38,-715.78\"/>\n",
       "<polygon fill=\"black\" stroke=\"black\" points=\"253.04,-712.35 242.54,-713.76 251.63,-719.2 253.04,-712.35\"/>\n",
       "<text text-anchor=\"middle\" x=\"382\" y=\"-863.8\" font-family=\"Times,serif\" font-size=\"14.00\">2</text>\n",
       "</g>\n",
       "<!-- 20&#45;&gt;21 -->\n",
       "<g id=\"edge37\" class=\"edge\">\n",
       "<title>20&#45;&gt;21</title>\n",
       "<path fill=\"none\" stroke=\"black\" d=\"M179.54,-848.33C188,-836.22 200.01,-820.34 212.5,-808 216.42,-804.13 220.69,-800.31 225.08,-796.64\"/>\n",
       "<polygon fill=\"black\" stroke=\"black\" points=\"227.47,-799.21 233.06,-790.22 223.08,-793.76 227.47,-799.21\"/>\n",
       "<text text-anchor=\"middle\" x=\"216\" y=\"-811.8\" font-family=\"Times,serif\" font-size=\"14.00\">3</text>\n",
       "</g>\n",
       "<!-- 20&#45;&gt;24 -->\n",
       "<g id=\"edge44\" class=\"edge\">\n",
       "<title>20&#45;&gt;24</title>\n",
       "<path fill=\"none\" stroke=\"black\" d=\"M165.71,-848.31C162.95,-820.2 157.59,-765.67 154.03,-729.42\"/>\n",
       "<polygon fill=\"black\" stroke=\"black\" points=\"157.49,-728.87 153.03,-719.26 150.53,-729.55 157.49,-728.87\"/>\n",
       "<text text-anchor=\"middle\" x=\"167\" y=\"-811.8\" font-family=\"Times,serif\" font-size=\"14.00\">3</text>\n",
       "</g>\n",
       "<!-- 23 -->\n",
       "<g id=\"node23\" class=\"node\">\n",
       "<title>23</title>\n",
       "<polygon fill=\"none\" stroke=\"black\" points=\"308.5,-648 240.5,-648 240.5,-595 308.5,-595 308.5,-648\"/>\n",
       "<text text-anchor=\"middle\" x=\"274.5\" y=\"-632.8\" font-family=\"Times,serif\" font-size=\"14.00\">[23]</text>\n",
       "<text text-anchor=\"middle\" x=\"274.5\" y=\"-617.8\" font-family=\"Times,serif\" font-size=\"14.00\">Pre</text>\n",
       "<text text-anchor=\"middle\" x=\"274.5\" y=\"-602.8\" font-family=\"Times,serif\" font-size=\"14.00\">Compose</text>\n",
       "</g>\n",
       "<!-- 21&#45;&gt;23 -->\n",
       "<g id=\"edge41\" class=\"edge\">\n",
       "<title>21&#45;&gt;23</title>\n",
       "<path fill=\"none\" stroke=\"black\" d=\"M271.23,-736.82C271.87,-714.72 272.78,-682.6 273.48,-658.03\"/>\n",
       "<polygon fill=\"black\" stroke=\"black\" points=\"276.98,-658.11 273.77,-648.02 269.99,-657.91 276.98,-658.11\"/>\n",
       "<text text-anchor=\"middle\" x=\"277\" y=\"-688.8\" font-family=\"Times,serif\" font-size=\"14.00\">2</text>\n",
       "</g>\n",
       "<!-- 22&#45;&gt;23 -->\n",
       "<g id=\"edge40\" class=\"edge\">\n",
       "<title>22&#45;&gt;23</title>\n",
       "<path fill=\"none\" stroke=\"black\" d=\"M587.28,-842.44C523.58,-797.64 386.97,-701.58 317.28,-652.58\"/>\n",
       "<polygon fill=\"black\" stroke=\"black\" points=\"318.91,-649.45 308.72,-646.56 314.89,-655.18 318.91,-649.45\"/>\n",
       "<text text-anchor=\"middle\" x=\"514\" y=\"-759.8\" font-family=\"Times,serif\" font-size=\"14.00\">1</text>\n",
       "</g>\n",
       "<!-- 25 -->\n",
       "<g id=\"node25\" class=\"node\">\n",
       "<title>25</title>\n",
       "<polygon fill=\"none\" stroke=\"black\" points=\"238,-544 179,-544 179,-491 238,-491 238,-544\"/>\n",
       "<text text-anchor=\"middle\" x=\"208.5\" y=\"-528.8\" font-family=\"Times,serif\" font-size=\"14.00\">[25]</text>\n",
       "<text text-anchor=\"middle\" x=\"208.5\" y=\"-513.8\" font-family=\"Times,serif\" font-size=\"14.00\">Fiber</text>\n",
       "<text text-anchor=\"middle\" x=\"208.5\" y=\"-498.8\" font-family=\"Times,serif\" font-size=\"14.00\">Product</text>\n",
       "</g>\n",
       "<!-- 23&#45;&gt;25 -->\n",
       "<g id=\"edge45\" class=\"edge\">\n",
       "<title>23&#45;&gt;25</title>\n",
       "<path fill=\"none\" stroke=\"black\" d=\"M257.85,-594.76C249.64,-582.08 239.63,-566.6 230.77,-552.92\"/>\n",
       "<polygon fill=\"black\" stroke=\"black\" points=\"233.52,-550.72 225.15,-544.23 227.64,-554.53 233.52,-550.72\"/>\n",
       "<text text-anchor=\"middle\" x=\"249\" y=\"-565.8\" font-family=\"Times,serif\" font-size=\"14.00\">1</text>\n",
       "</g>\n",
       "<!-- 26 -->\n",
       "<g id=\"node26\" class=\"node\">\n",
       "<title>26</title>\n",
       "<polygon fill=\"none\" stroke=\"black\" points=\"203,-440 0,-440 0,-387 203,-387 203,-440\"/>\n",
       "<text text-anchor=\"middle\" x=\"101.5\" y=\"-424.8\" font-family=\"Times,serif\" font-size=\"14.00\">[26]</text>\n",
       "<text text-anchor=\"middle\" x=\"101.5\" y=\"-409.8\" font-family=\"Times,serif\" font-size=\"14.00\">ProjectionInFactorOfFiberProduct</text>\n",
       "<text text-anchor=\"middle\" x=\"101.5\" y=\"-394.8\" font-family=\"Times,serif\" font-size=\"14.00\">WithGivenFiberProduct( 1 )</text>\n",
       "</g>\n",
       "<!-- 23&#45;&gt;26 -->\n",
       "<g id=\"edge47\" class=\"edge\">\n",
       "<title>23&#45;&gt;26</title>\n",
       "<path fill=\"none\" stroke=\"black\" d=\"M275.1,-594.76C274.47,-566.56 269.51,-521.33 246.5,-491 231.45,-471.17 209.77,-455.96 187.73,-444.53\"/>\n",
       "<polygon fill=\"black\" stroke=\"black\" points=\"189.13,-441.32 178.62,-440.02 186.03,-447.59 189.13,-441.32\"/>\n",
       "<text text-anchor=\"middle\" x=\"273\" y=\"-513.8\" font-family=\"Times,serif\" font-size=\"14.00\">1</text>\n",
       "</g>\n",
       "<!-- 27 -->\n",
       "<g id=\"node27\" class=\"node\">\n",
       "<title>27</title>\n",
       "<polygon fill=\"none\" stroke=\"black\" points=\"424,-440 221,-440 221,-387 424,-387 424,-440\"/>\n",
       "<text text-anchor=\"middle\" x=\"322.5\" y=\"-424.8\" font-family=\"Times,serif\" font-size=\"14.00\">[27]</text>\n",
       "<text text-anchor=\"middle\" x=\"322.5\" y=\"-409.8\" font-family=\"Times,serif\" font-size=\"14.00\">ProjectionInFactorOfFiberProduct</text>\n",
       "<text text-anchor=\"middle\" x=\"322.5\" y=\"-394.8\" font-family=\"Times,serif\" font-size=\"14.00\">WithGivenFiberProduct( 2 )</text>\n",
       "</g>\n",
       "<!-- 23&#45;&gt;27 -->\n",
       "<g id=\"edge50\" class=\"edge\">\n",
       "<title>23&#45;&gt;27</title>\n",
       "<path fill=\"none\" stroke=\"black\" d=\"M283.24,-594.87C285.1,-589.03 286.96,-582.83 288.5,-577 299.95,-533.76 310.01,-483.22 316.16,-450.13\"/>\n",
       "<polygon fill=\"black\" stroke=\"black\" points=\"319.65,-450.49 318.02,-440.03 312.77,-449.23 319.65,-450.49\"/>\n",
       "<text text-anchor=\"middle\" x=\"312\" y=\"-513.8\" font-family=\"Times,serif\" font-size=\"14.00\">1</text>\n",
       "</g>\n",
       "<!-- 24&#45;&gt;25 -->\n",
       "<g id=\"edge46\" class=\"edge\">\n",
       "<title>24&#45;&gt;25</title>\n",
       "<path fill=\"none\" stroke=\"black\" d=\"M159.06,-665.97C169,-636.33 185.45,-587.25 196.62,-553.93\"/>\n",
       "<polygon fill=\"black\" stroke=\"black\" points=\"200.05,-554.73 199.91,-544.13 193.41,-552.5 200.05,-554.73\"/>\n",
       "<text text-anchor=\"middle\" x=\"186\" y=\"-617.8\" font-family=\"Times,serif\" font-size=\"14.00\">2</text>\n",
       "</g>\n",
       "<!-- 24&#45;&gt;26 -->\n",
       "<g id=\"edge48\" class=\"edge\">\n",
       "<title>24&#45;&gt;26</title>\n",
       "<path fill=\"none\" stroke=\"black\" d=\"M141.77,-665.87C139.91,-660.03 138.05,-653.83 136.5,-648 118.23,-579.27 108.65,-496.46 104.37,-450.22\"/>\n",
       "<polygon fill=\"black\" stroke=\"black\" points=\"107.84,-449.75 103.47,-440.1 100.87,-450.37 107.84,-449.75\"/>\n",
       "<text text-anchor=\"middle\" x=\"125\" y=\"-565.8\" font-family=\"Times,serif\" font-size=\"14.00\">2</text>\n",
       "</g>\n",
       "<!-- 24&#45;&gt;27 -->\n",
       "<g id=\"edge51\" class=\"edge\">\n",
       "<title>24&#45;&gt;27</title>\n",
       "<path fill=\"none\" stroke=\"black\" d=\"M145.58,-665.77C139.26,-624.87 133.03,-544.21 169.5,-491 183.3,-470.87 204,-455.78 225.76,-444.57\"/>\n",
       "<polygon fill=\"black\" stroke=\"black\" points=\"227.35,-447.69 234.79,-440.15 224.27,-441.4 227.35,-447.69\"/>\n",
       "<text text-anchor=\"middle\" x=\"147\" y=\"-565.8\" font-family=\"Times,serif\" font-size=\"14.00\">2</text>\n",
       "</g>\n",
       "<!-- 25&#45;&gt;26 -->\n",
       "<g id=\"edge49\" class=\"edge\">\n",
       "<title>25&#45;&gt;26</title>\n",
       "<path fill=\"none\" stroke=\"black\" d=\"M181.5,-490.76C167.69,-477.59 150.72,-461.42 135.97,-447.36\"/>\n",
       "<polygon fill=\"black\" stroke=\"black\" points=\"138.15,-444.6 128.49,-440.23 133.32,-449.66 138.15,-444.6\"/>\n",
       "<text text-anchor=\"middle\" x=\"165\" y=\"-461.8\" font-family=\"Times,serif\" font-size=\"14.00\">3</text>\n",
       "</g>\n",
       "<!-- 25&#45;&gt;27 -->\n",
       "<g id=\"edge52\" class=\"edge\">\n",
       "<title>25&#45;&gt;27</title>\n",
       "<path fill=\"none\" stroke=\"black\" d=\"M237.27,-490.76C252.12,-477.47 270.39,-461.12 286.2,-446.98\"/>\n",
       "<polygon fill=\"black\" stroke=\"black\" points=\"288.62,-449.51 293.74,-440.23 283.96,-444.29 288.62,-449.51\"/>\n",
       "<text text-anchor=\"middle\" x=\"276\" y=\"-461.8\" font-family=\"Times,serif\" font-size=\"14.00\">3</text>\n",
       "</g>\n",
       "<!-- 28 -->\n",
       "<g id=\"node28\" class=\"node\">\n",
       "<title>28</title>\n",
       "<polygon fill=\"none\" stroke=\"black\" points=\"236.5,-336 176.5,-336 176.5,-298 236.5,-298 236.5,-336\"/>\n",
       "<text text-anchor=\"middle\" x=\"206.5\" y=\"-320.8\" font-family=\"Times,serif\" font-size=\"14.00\">[28]</text>\n",
       "<text text-anchor=\"middle\" x=\"206.5\" y=\"-305.8\" font-family=\"Times,serif\" font-size=\"14.00\">Pushout</text>\n",
       "</g>\n",
       "<!-- 26&#45;&gt;28 -->\n",
       "<g id=\"edge53\" class=\"edge\">\n",
       "<title>26&#45;&gt;28</title>\n",
       "<path fill=\"none\" stroke=\"black\" d=\"M143.15,-386.84C150.9,-381.34 158.69,-375.29 165.5,-369 173.51,-361.6 181.28,-352.58 187.86,-344.2\"/>\n",
       "<polygon fill=\"black\" stroke=\"black\" points=\"190.75,-346.18 194.01,-336.1 185.18,-341.95 190.75,-346.18\"/>\n",
       "<text text-anchor=\"middle\" x=\"183\" y=\"-357.8\" font-family=\"Times,serif\" font-size=\"14.00\">1</text>\n",
       "</g>\n",
       "<!-- 29 -->\n",
       "<g id=\"node29\" class=\"node\">\n",
       "<title>29</title>\n",
       "<polygon fill=\"none\" stroke=\"black\" points=\"408.5,-247 224.5,-247 224.5,-194 408.5,-194 408.5,-247\"/>\n",
       "<text text-anchor=\"middle\" x=\"316.5\" y=\"-231.8\" font-family=\"Times,serif\" font-size=\"14.00\">[29]</text>\n",
       "<text text-anchor=\"middle\" x=\"316.5\" y=\"-216.8\" font-family=\"Times,serif\" font-size=\"14.00\">InjectionOfCofactorOfPushout</text>\n",
       "<text text-anchor=\"middle\" x=\"316.5\" y=\"-201.8\" font-family=\"Times,serif\" font-size=\"14.00\">WithGivenPushout( 2 )</text>\n",
       "</g>\n",
       "<!-- 26&#45;&gt;29 -->\n",
       "<g id=\"edge55\" class=\"edge\">\n",
       "<title>26&#45;&gt;29</title>\n",
       "<path fill=\"none\" stroke=\"black\" d=\"M112.41,-386.92C125.36,-357.43 146.93,-311.31 160.5,-298 180.45,-278.44 206.39,-263.02 231.37,-251.3\"/>\n",
       "<polygon fill=\"black\" stroke=\"black\" points=\"232.85,-254.47 240.51,-247.16 229.96,-248.1 232.85,-254.47\"/>\n",
       "<text text-anchor=\"middle\" x=\"164\" y=\"-313.3\" font-family=\"Times,serif\" font-size=\"14.00\">1</text>\n",
       "</g>\n",
       "<!-- 31 -->\n",
       "<g id=\"node31\" class=\"node\">\n",
       "<title>31</title>\n",
       "<polygon fill=\"none\" stroke=\"black\" points=\"206.5,-247 22.5,-247 22.5,-194 206.5,-194 206.5,-247\"/>\n",
       "<text text-anchor=\"middle\" x=\"114.5\" y=\"-231.8\" font-family=\"Times,serif\" font-size=\"14.00\">[31]</text>\n",
       "<text text-anchor=\"middle\" x=\"114.5\" y=\"-216.8\" font-family=\"Times,serif\" font-size=\"14.00\">InjectionOfCofactorOfPushout</text>\n",
       "<text text-anchor=\"middle\" x=\"114.5\" y=\"-201.8\" font-family=\"Times,serif\" font-size=\"14.00\">WithGivenPushout( 1 )</text>\n",
       "</g>\n",
       "<!-- 26&#45;&gt;31 -->\n",
       "<g id=\"edge59\" class=\"edge\">\n",
       "<title>26&#45;&gt;31</title>\n",
       "<path fill=\"none\" stroke=\"black\" d=\"M103.25,-386.74C105.53,-353.33 109.51,-294.87 112.07,-257.19\"/>\n",
       "<polygon fill=\"black\" stroke=\"black\" points=\"115.57,-257.37 112.75,-247.16 108.58,-256.89 115.57,-257.37\"/>\n",
       "<text text-anchor=\"middle\" x=\"113\" y=\"-313.3\" font-family=\"Times,serif\" font-size=\"14.00\">1</text>\n",
       "</g>\n",
       "<!-- 27&#45;&gt;28 -->\n",
       "<g id=\"edge54\" class=\"edge\">\n",
       "<title>27&#45;&gt;28</title>\n",
       "<path fill=\"none\" stroke=\"black\" d=\"M276.04,-386.81C267.56,-381.36 259.03,-375.32 251.5,-369 242.73,-361.63 234.15,-352.53 226.87,-344.06\"/>\n",
       "<polygon fill=\"black\" stroke=\"black\" points=\"229.41,-341.65 220.32,-336.21 224.04,-346.13 229.41,-341.65\"/>\n",
       "<text text-anchor=\"middle\" x=\"255\" y=\"-357.8\" font-family=\"Times,serif\" font-size=\"14.00\">2</text>\n",
       "</g>\n",
       "<!-- 27&#45;&gt;29 -->\n",
       "<g id=\"edge56\" class=\"edge\">\n",
       "<title>27&#45;&gt;29</title>\n",
       "<path fill=\"none\" stroke=\"black\" d=\"M321.69,-386.74C320.64,-353.33 318.8,-294.87 317.62,-257.19\"/>\n",
       "<polygon fill=\"black\" stroke=\"black\" points=\"321.12,-257.04 317.31,-247.16 314.12,-257.26 321.12,-257.04\"/>\n",
       "<text text-anchor=\"middle\" x=\"324\" y=\"-313.3\" font-family=\"Times,serif\" font-size=\"14.00\">2</text>\n",
       "</g>\n",
       "<!-- 27&#45;&gt;31 -->\n",
       "<g id=\"edge60\" class=\"edge\">\n",
       "<title>27&#45;&gt;31</title>\n",
       "<path fill=\"none\" stroke=\"black\" d=\"M309.68,-386.87C296.25,-361.92 273.27,-324.06 245.5,-298 226.17,-279.86 201.8,-264.16 179.33,-251.79\"/>\n",
       "<polygon fill=\"black\" stroke=\"black\" points=\"180.96,-248.69 170.49,-247.04 177.64,-254.86 180.96,-248.69\"/>\n",
       "<text text-anchor=\"middle\" x=\"281\" y=\"-313.3\" font-family=\"Times,serif\" font-size=\"14.00\">2</text>\n",
       "</g>\n",
       "<!-- 28&#45;&gt;29 -->\n",
       "<g id=\"edge57\" class=\"edge\">\n",
       "<title>28&#45;&gt;29</title>\n",
       "<path fill=\"none\" stroke=\"black\" d=\"M227.71,-297.78C242.22,-285.31 261.85,-268.45 278.96,-253.75\"/>\n",
       "<polygon fill=\"black\" stroke=\"black\" points=\"281.32,-256.34 286.62,-247.17 276.76,-251.03 281.32,-256.34\"/>\n",
       "<text text-anchor=\"middle\" x=\"269\" y=\"-268.8\" font-family=\"Times,serif\" font-size=\"14.00\">3</text>\n",
       "</g>\n",
       "<!-- 28&#45;&gt;31 -->\n",
       "<g id=\"edge61\" class=\"edge\">\n",
       "<title>28&#45;&gt;31</title>\n",
       "<path fill=\"none\" stroke=\"black\" d=\"M188.76,-297.78C176.85,-285.54 160.8,-269.06 146.67,-254.54\"/>\n",
       "<polygon fill=\"black\" stroke=\"black\" points=\"148.97,-251.89 139.49,-247.17 143.96,-256.77 148.97,-251.89\"/>\n",
       "<text text-anchor=\"middle\" x=\"175\" y=\"-268.8\" font-family=\"Times,serif\" font-size=\"14.00\">3</text>\n",
       "</g>\n",
       "<!-- 30 -->\n",
       "<g id=\"node30\" class=\"node\">\n",
       "<title>30</title>\n",
       "<polygon fill=\"none\" stroke=\"black\" points=\"320,-157 243,-157 243,-104 320,-104 320,-157\"/>\n",
       "<text text-anchor=\"middle\" x=\"281.5\" y=\"-141.8\" font-family=\"Times,serif\" font-size=\"14.00\">[30]</text>\n",
       "<text text-anchor=\"middle\" x=\"281.5\" y=\"-126.8\" font-family=\"Times,serif\" font-size=\"14.00\">Inverse</text>\n",
       "<text text-anchor=\"middle\" x=\"281.5\" y=\"-111.8\" font-family=\"Times,serif\" font-size=\"14.00\">Immutable</text>\n",
       "</g>\n",
       "<!-- 29&#45;&gt;30 -->\n",
       "<g id=\"edge58\" class=\"edge\">\n",
       "<title>29&#45;&gt;30</title>\n",
       "<path fill=\"none\" stroke=\"black\" d=\"M306.19,-193.57C302.84,-185.16 299.07,-175.68 295.5,-166.7\"/>\n",
       "<polygon fill=\"black\" stroke=\"black\" points=\"298.69,-165.24 291.74,-157.24 292.18,-167.83 298.69,-165.24\"/>\n",
       "</g>\n",
       "<!-- 32 -->\n",
       "<g id=\"node32\" class=\"node\">\n",
       "<title>32</title>\n",
       "<polygon fill=\"none\" stroke=\"black\" points=\"233.5,-53 165.5,-53 165.5,0 233.5,0 233.5,-53\"/>\n",
       "<text text-anchor=\"middle\" x=\"199.5\" y=\"-37.8\" font-family=\"Times,serif\" font-size=\"14.00\">[32]</text>\n",
       "<text text-anchor=\"middle\" x=\"199.5\" y=\"-22.8\" font-family=\"Times,serif\" font-size=\"14.00\">Pre</text>\n",
       "<text text-anchor=\"middle\" x=\"199.5\" y=\"-7.8\" font-family=\"Times,serif\" font-size=\"14.00\">Compose</text>\n",
       "</g>\n",
       "<!-- 30&#45;&gt;32 -->\n",
       "<g id=\"edge63\" class=\"edge\">\n",
       "<title>30&#45;&gt;32</title>\n",
       "<path fill=\"none\" stroke=\"black\" d=\"M260.81,-103.76C250.42,-90.84 237.7,-75.01 226.54,-61.14\"/>\n",
       "<polygon fill=\"black\" stroke=\"black\" points=\"229.18,-58.83 220.19,-53.23 223.72,-63.22 229.18,-58.83\"/>\n",
       "<text text-anchor=\"middle\" x=\"249\" y=\"-74.8\" font-family=\"Times,serif\" font-size=\"14.00\">2</text>\n",
       "</g>\n",
       "<!-- 31&#45;&gt;32 -->\n",
       "<g id=\"edge62\" class=\"edge\">\n",
       "<title>31&#45;&gt;32</title>\n",
       "<path fill=\"none\" stroke=\"black\" d=\"M125.96,-193.61C140.9,-159.87 167.07,-100.75 183.83,-62.89\"/>\n",
       "<polygon fill=\"black\" stroke=\"black\" points=\"187.23,-63.85 188.08,-53.29 180.83,-61.02 187.23,-63.85\"/>\n",
       "<text text-anchor=\"middle\" x=\"169\" y=\"-126.8\" font-family=\"Times,serif\" font-size=\"14.00\">1</text>\n",
       "</g>\n",
       "</g>\n",
       "</svg>\n"
      ]
     },
     "metadata": {},
     "output_type": "display_data"
    }
   ],
   "source": [
    "VisualizeInJulia( s )"
   ]
  },
  {
   "cell_type": "code",
   "execution_count": 32,
   "metadata": {},
   "outputs": [
    {
     "data": {
      "text/plain": [
       "GAP: <A morphism in LazyCategory( Adelman category( QuiverRows( (Q * q) / [ 1*(a*b*c) ] ) ) )>"
      ]
     },
     "execution_count": 32,
     "metadata": {},
     "output_type": "execute_result"
    }
   ],
   "source": [
    "j = KernelObjectFunctorial( b, d, e )"
   ]
  },
  {
   "cell_type": "code",
   "execution_count": 33,
   "metadata": {},
   "outputs": [
    {
     "data": {
      "text/plain": [
       "GAP: <A morphism in LazyCategory( Adelman category( QuiverRows( (Q * q) / [ 1*(a*b*c) ] ) ) )>"
      ]
     },
     "execution_count": 33,
     "metadata": {},
     "output_type": "execute_result"
    }
   ],
   "source": [
    "k = CokernelObjectFunctorial( h, g, b )"
   ]
  },
  {
   "cell_type": "code",
   "execution_count": 34,
   "metadata": {},
   "outputs": [
    {
     "data": {
      "text/plain": [
       "GAP: <An object in LazyCategory( Adelman category( QuiverRows( (Q * q) / [ 1*(a*b*c) ] ) ) )>"
      ]
     },
     "execution_count": 34,
     "metadata": {},
     "output_type": "execute_result"
    }
   ],
   "source": [
    "HK = HomologyObject( j, s )"
   ]
  },
  {
   "cell_type": "code",
   "execution_count": 35,
   "metadata": {},
   "outputs": [
    {
     "data": {
      "text/plain": [
       "GAP: <An object in LazyCategory( Adelman category( QuiverRows( (Q * q) / [ 1*(a*b*c) ] ) ) )>"
      ]
     },
     "execution_count": 35,
     "metadata": {},
     "output_type": "execute_result"
    }
   ],
   "source": [
    "HC = HomologyObject( s, k )"
   ]
  },
  {
   "cell_type": "code",
   "execution_count": null,
   "metadata": {},
   "outputs": [],
   "source": []
  }
 ],
 "metadata": {
  "@webio": {
   "lastCommId": null,
   "lastKernelId": null
  },
  "kernelspec": {
   "display_name": "Julia 1.4.1",
   "language": "julia",
   "name": "julia-1.4"
  },
  "language_info": {
   "file_extension": ".jl",
   "mimetype": "application/julia",
   "name": "julia",
   "version": "1.4.1"
  }
 },
 "nbformat": 4,
 "nbformat_minor": 2
}
