{
 "cells": [
  {
   "cell_type": "markdown",
   "metadata": {},
   "source": [
    "This notebook can be run interactively on binder: <a href=\"https://mybinder.org/v2/gh/homalg-project/InternalModules/master?filepath=examples/julia/notebooks/SymmetricAlgebraInternalToS4rep.ipynb\" target=\"_blank\"><img src=\"https://mybinder.org/badge_logo.svg\" alt=\"binder\"></a>\n",
    "\n"
   ]
  },
  {
   "cell_type": "markdown",
   "metadata": {},
   "source": [
    "This is an example for explicit computations in the symmetric algebra $\\mathrm{S}W$ internal to the positively graded closure $\\mathrm{srep}_k(G)_+$ of the tensor category $\\mathrm{srep}_k(G)$, where $G := S_4$ is the symmetric group on four points and $k = \\mathbb{Q}$, its minimal splitting field.\n",
    "The natural permutation character on four points is the sum of the irreducible characters $1+\\nu$, where $1$ denotes the trivial character.\n",
    "Denote the irreducible degree $2$ character by $\\rho$, the sign-character by $\\sigma$, and set $\\chi := \\sigma \\nu$.\n",
    "The character table of $S_4$\n",
    "$$\n",
    "\\begin{array}{c|rrrrr}\n",
    "  & (1) & (12) & (12)(34) & (123) & (1234) \\\\\n",
    "  \\hline\n",
    "  1 & 1 & 1 & 1 & 1 & 1 \\\\\n",
    "  \\sigma & 1 & -1 & 1 & 1 & -1 \\\\\n",
    "  \\rho & 2 & \\cdot & 2 & -1 & \\cdot \\\\\n",
    "  \\nu & 3 & 1 & -1 & \\cdot & -1 \\\\\n",
    "  \\chi & 3 & -1 & -1 & \\cdot & 1\n",
    "\\end{array}\n",
    "$$\n",
    "\n",
    "with componentwise addition and multiplication determines the structure of $\\mathrm{srep}_k(S_4)$ as a skeletal semisimple $\\mathbb{Q}$-linear Abelian category with bifunctor $\\otimes$.\n",
    "Using the package [$\\mathtt{GroupRepresentationsForCAP}$](https://github.com/homalg-project/CAP_project/tree/master/GroupRepresentationsForCAP) we now turn $\\mathrm{srep}_k(S_4)$ into a skeletal semisimple tensor category over $\\mathbb{Q}$.\n",
    "However, regardless of which choices we make, the associator and braiding cannot be given by identities.\n",
    "Using the package, we compute\n",
    "\n",
    "$$\n",
    "  \\alpha_{\\rho,\\sigma,\\rho}: \\rho \\otimes (\\sigma \\otimes \\rho) = 1 \\oplus \\sigma \\oplus \\rho \\xrightarrow{\\operatorname{diag}(-1,-1,1)} 1 \\oplus \\sigma \\oplus \\rho = (\\rho \\otimes \\sigma) \\otimes \\rho\n",
    "$$\n",
    "and\n",
    "$$\n",
    "  \\gamma_{\\rho,\\rho}: \\rho \\otimes \\rho = 1 \\oplus \\sigma \\oplus \\rho \\xrightarrow{\\operatorname{diag}(1,-1,1)} 1 \\oplus \\sigma \\oplus \\rho = \\rho \\otimes \\rho \\mbox{.}\n",
    "$$\n",
    "\n",
    "Taking $W = \\chi^{\\{1\\}} \\in \\mathrm{srep}_k(S_4)_+$, the objects in $\\mathrm{S}^i W$ can be computed using the character table of $S_4$ augmented with the power maps:\n",
    "\n",
    "\\begin{align*}\n",
    "  \\mathrm{S}W &= \\underbrace{1^{\\{0\\}}}_{\\mathrm{S}^0 W} \\oplus \\underbrace{\\chi^{\\{1\\}}}_{\\mathrm{S}^1 W} \\oplus \\underbrace{\\left( 1^{\\{2\\}} \\oplus \\rho^{\\{2\\}} \\oplus \\nu^{\\{2\\}} \\right)}_{\\mathrm{S}^2 W} \\oplus \\underbrace{\\left( \\sigma^{\\{3\\}} \\oplus \\nu^{\\{3\\}} \\oplus 2 \\chi^{\\{3\\}} \\right)}_{\\mathrm{S}^3 W} \\\\\n",
    "  & \\oplus \\underbrace{\\left( 2 \\cdot 1^{\\{4\\}} \\oplus 2 \\rho^{\\{4\\}} \\oplus 2 \\nu^{\\{4\\}} \\oplus \\chi^{\\{4\\}} \\right)}_{\\mathrm{S}^4 W} \\oplus \\cdots\n",
    "\\end{align*}\n",
    "\n",
    "However, computing the multiplications $\\mu^{i,j}: \\mathrm{S}^i W \\otimes \\mathrm{S}^j W \\to \\mathrm{S}^{i+j} W$ goes beyond the augmented character table and needs the associator and braiding of $\\mathrm{srep}_k(S_4)_+$.\n",
    "For computing them we currently still need an explicit irreducible representation affording each irreducible character.\n",
    "Computing products of elements in $(\\mathrm{S}W)^\\in$ with [$\\mathtt{InternalModules}$](https://github.com/homalg-project/InternalModules) utilizing [$\\mathtt{GroupRepresentationsForCAP}$](https://github.com/homalg-project/CAP_project/tree/master/GroupRepresentationsForCAP) we get in primitive decomposition\n",
    "\n",
    "\\begin{align*}\n",
    "  (1)\\chi^{\\{1\\}} \\cdot (1)\\chi^{\\{1\\}}\n",
    "  &=\n",
    "  (1) 1^{\\{2\\}} + (1) \\rho^{\\{2\\}} + (1) \\nu^{\\{2\\}},\n",
    "  \\\\\n",
    "  \\hline\n",
    "  (1)\\chi^{\\{1\\}} \\cdot \\left( (1)\\chi^{\\{1\\}} \\cdot (1)\\chi^{\\{1\\}} \\right)\n",
    "  &=\n",
    "  (1) \\sigma^{\\{3\\}} + (3) \\nu^{\\{3\\}} + (5,3) \\chi^{\\{3\\}}\n",
    "  =\n",
    "  \\left( (1)\\chi^{\\{1\\}} \\cdot (1)\\chi^{\\{1\\}} \\right) \\cdot (1)\\chi^{\\{1\\}},\n",
    "  \\\\\n",
    "  (1)\\chi^{\\{1\\}} \\cdot (1)\\rho^{\\{2\\}}\n",
    "  &=\n",
    "  (0) \\sigma^{\\{3\\}} + (1) \\nu^{\\{3\\}} + (0,2) \\chi^{\\{3\\}}\n",
    "  =\n",
    "  (1)\\rho^{\\{2\\}} \\cdot (1)\\chi^{\\{1\\}},\n",
    "  \\\\\n",
    "  (1)\\chi^{\\{1\\}} \\cdot (1)\\nu^{\\{2\\}}\n",
    "  &=\n",
    "  (1) \\sigma^{\\{3\\}} + (2) \\nu^{\\{3\\}} + (8,0) \\chi^{\\{3\\}}\n",
    "  =\n",
    "  (1)\\nu^{\\{2\\}} \\cdot (1)\\chi^{\\{1\\}},\n",
    "  \\\\\n",
    "  \\hline\n",
    "  (1)\\chi^{\\{1\\}} \\cdot \\left( (1)\\chi^{\\{1\\}} \\cdot \\left( (1)\\chi^{\\{1\\}} \\cdot (1)\\chi^{\\{1\\}} \\right) \\right)\n",
    "  &=\n",
    "  (5,3) \\cdot 1^{\\{4\\}} + (3,-31) \\rho^{\\{4\\}} + (5,6) \\nu^{\\{4\\}} + (-2) \\chi^{\\{4\\}},\n",
    "  \\\\\n",
    "  \\left( \\left( (1)\\chi^{\\{1\\}} \\cdot (1)\\chi^{\\{1\\}} \\right) \\cdot (1)\\chi^{\\{1\\}} \\right) \\cdot (1)\\chi^{\\{1\\}}\n",
    "  &=\n",
    "  (5,3) \\cdot 1^{\\{4\\}} + (3,-31) \\rho^{\\{4\\}} + (5,6) \\nu^{\\{4\\}} + (26) \\chi^{\\{4\\}},\n",
    "  \\\\\n",
    "  \\left( (1)\\chi^{\\{1\\}} \\cdot (1)\\chi^{\\{1\\}} \\right) \\cdot \\left( (1)\\chi^{\\{1\\}}  \\cdot (1)\\chi^{\\{1\\}} \\right)\n",
    "  &=\n",
    "  \\left(-7,\\frac{9}{8}\\right) \\cdot 1^{\\{4\\}} + \\left(\\frac{9}{4},\\frac{43}{4}\\right) \\rho^{\\{4\\}} + (-16,-6) \\nu^{\\{4\\}} + (8) \\chi^{\\{4\\}},\n",
    "  \\\\\n",
    "  \\left( (1)\\chi^{\\{1\\}} \\cdot (1)\\chi^{\\{1\\}} \\right) \\cdot (1)\\rho^{\\{2\\}}\n",
    "  &=\n",
    "  \\left(0,\\frac{1}{8}\\right) \\cdot 1^{\\{4\\}} + \\left(\\frac{5}{4},\\frac{-9}{4}\\right) \\rho^{\\{4\\}} + (-4,-4) \\nu^{\\{4\\}} + (4) \\chi^{\\{4\\}},\n",
    "  \\\\\n",
    "  (1)\\chi^{\\{1\\}} \\cdot \\left( (1)\\chi^{\\{1\\}} \\cdot (1)\\rho^{\\{2\\}} \\right)\n",
    "  &=\n",
    "  (0,2) \\cdot 1^{\\{4\\}} + (2,-12) \\rho^{\\{4\\}} + (-1,-1) \\nu^{\\{4\\}} + (-2) \\chi^{\\{4\\}},\n",
    "  \\\\\n",
    "  \\left( (1)\\chi^{\\{1\\}} \\cdot (1)\\chi^{\\{1\\}} \\right) \\cdot (1)\\nu^{\\{2\\}}\n",
    "  &=\n",
    "  (-4,0) \\cdot 1^{\\{4\\}} + (0,16) \\rho^{\\{4\\}} + (-8,-1) \\nu^{\\{4\\}} + (4) \\chi^{\\{4\\}},\n",
    "  \\\\\n",
    "  (1)\\chi^{\\{1\\}} \\cdot (1)\\nu^{\\{3\\}}\n",
    "  &=\n",
    "  (0,0) \\cdot 1^{\\{4\\}} + (0,-12) \\rho^{\\{4\\}} + (1,1) \\nu^{\\{4\\}} + (4) \\chi^{\\{4\\}}\n",
    "  =\n",
    "  (1)\\nu^{\\{3\\}} \\cdot (1)\\chi^{\\{1\\}}\n",
    "  \\mbox{.}\n",
    "\\end{align*}\n",
    "\n",
    "We see from the above computations that\n",
    "\n",
    "$$\n",
    "\t(1)\\chi^{\\{1\\}} \\cdot \\left( (1)\\chi^{\\{1\\}} \\cdot \\left( (1)\\chi^{\\{1\\}} \\cdot (1)\\chi^{\\{1\\}} \\right) \\right)\n",
    "\t\\neq\n",
    "\t\\left( \\left( (1)\\chi^{\\{1\\}} \\cdot (1)\\chi^{\\{1\\}} \\right) \\cdot (1)\\chi^{\\{1\\}} \\right) \\cdot (1)\\chi^{\\{1\\}} \\mbox{,}\n",
    "$$\n",
    "\n",
    "so, as expected, the product is neither associative nor commutative as each of the two properties would imply equality.\n"
   ]
  },
  {
   "cell_type": "code",
   "execution_count": 1,
   "metadata": {},
   "outputs": [
    {
     "name": "stdout",
     "output_type": "stream",
     "text": [
      "HomalgProject v\u001b[32m0.4.11-dev\u001b[39m\n",
      "Imported OSCAR's component GAP\n",
      "Type: ?HomalgProject for more information\n"
     ]
    }
   ],
   "source": [
    "using HomalgProject"
   ]
  },
  {
   "cell_type": "code",
   "execution_count": 2,
   "metadata": {},
   "outputs": [],
   "source": [
    "LoadPackage( \"GroupRepresentationsForCAP\" )"
   ]
  },
  {
   "cell_type": "code",
   "execution_count": 3,
   "metadata": {},
   "outputs": [
    {
     "data": {
      "text/plain": [
       "GAP: The representation category of SymmetricGroup( [ 1 .. 4 ] )"
      ]
     },
     "execution_count": 3,
     "metadata": {},
     "output_type": "execute_result"
    }
   ],
   "source": [
    "srepG = RepresentationCategory( SymmetricGroup( 4 ) )"
   ]
  },
  {
   "cell_type": "code",
   "execution_count": 4,
   "metadata": {},
   "outputs": [
    {
     "data": {
      "text/plain": [
       "GAP: Sym( [ 1 .. 4 ] )"
      ]
     },
     "execution_count": 4,
     "metadata": {},
     "output_type": "execute_result"
    }
   ],
   "source": [
    "G = UnderlyingGroupForRepresentationCategory( srepG )"
   ]
  },
  {
   "cell_type": "code",
   "execution_count": 5,
   "metadata": {},
   "outputs": [],
   "source": [
    "irr = Irr( G );"
   ]
  },
  {
   "cell_type": "code",
   "execution_count": 6,
   "metadata": {},
   "outputs": [
    {
     "data": {
      "text/plain": [
       "GAP: <x_1>"
      ]
     },
     "execution_count": 6,
     "metadata": {},
     "output_type": "execute_result"
    }
   ],
   "source": [
    "one = GIrreducibleObject( irr[5] ); SetString( one, g\"1\" ); one"
   ]
  },
  {
   "cell_type": "code",
   "execution_count": 7,
   "metadata": {},
   "outputs": [
    {
     "data": {
      "text/plain": [
       "GAP: <x_sigma>"
      ]
     },
     "execution_count": 7,
     "metadata": {},
     "output_type": "execute_result"
    }
   ],
   "source": [
    "sigma = GIrreducibleObject( irr[1] ); SetString( sigma, g\"sigma\" ); sigma"
   ]
  },
  {
   "cell_type": "code",
   "execution_count": 8,
   "metadata": {},
   "outputs": [
    {
     "data": {
      "text/plain": [
       "GAP: <x_rho>"
      ]
     },
     "execution_count": 8,
     "metadata": {},
     "output_type": "execute_result"
    }
   ],
   "source": [
    "rho = GIrreducibleObject( irr[3] ); SetString( rho, g\"rho\" ); rho"
   ]
  },
  {
   "cell_type": "code",
   "execution_count": 9,
   "metadata": {},
   "outputs": [
    {
     "data": {
      "text/plain": [
       "GAP: <x_nu>"
      ]
     },
     "execution_count": 9,
     "metadata": {},
     "output_type": "execute_result"
    }
   ],
   "source": [
    "nu = GIrreducibleObject( irr[4] ); SetString( nu, g\"nu\" ); nu"
   ]
  },
  {
   "cell_type": "code",
   "execution_count": 10,
   "metadata": {},
   "outputs": [
    {
     "data": {
      "text/plain": [
       "GAP: <x_chi>"
      ]
     },
     "execution_count": 10,
     "metadata": {},
     "output_type": "execute_result"
    }
   ],
   "source": [
    "chi = GIrreducibleObject( irr[2] ); SetString( chi, g\"chi\" ); chi"
   ]
  },
  {
   "cell_type": "code",
   "execution_count": 11,
   "metadata": {},
   "outputs": [
    {
     "data": {
      "text/plain": [
       "GAP: 1*(x_chi)"
      ]
     },
     "execution_count": 11,
     "metadata": {},
     "output_type": "execute_result"
    }
   ],
   "source": [
    "W = RepresentationCategoryObject( irr[2], srepG )"
   ]
  },
  {
   "cell_type": "code",
   "execution_count": 12,
   "metadata": {},
   "outputs": [],
   "source": [
    "LoadPackage( \"GradedCategories\" )"
   ]
  },
  {
   "cell_type": "code",
   "execution_count": 13,
   "metadata": {},
   "outputs": [
    {
     "data": {
      "text/plain": [
       "GAP: The positively graded category of The representation category of SymmetricGroup( [ 1 .. 4 ] )"
      ]
     },
     "execution_count": 13,
     "metadata": {},
     "output_type": "execute_result"
    }
   ],
   "source": [
    "ZsrepG = PositivelyZGradedCategory( srepG )"
   ]
  },
  {
   "cell_type": "code",
   "execution_count": 14,
   "metadata": {},
   "outputs": [],
   "source": [
    "LoadPackage( \"InternalModules\" )"
   ]
  },
  {
   "cell_type": "code",
   "execution_count": 15,
   "metadata": {},
   "outputs": [
    {
     "data": {
      "text/plain": [
       "GAP: Abelian category of left modules over the internal symmetric algebra of 1*(x_chi) with undecidable (mathematical) equality of morphisms and uncomputable lifts and colifts"
      ]
     },
     "execution_count": 15,
     "metadata": {},
     "output_type": "execute_result"
    }
   ],
   "source": [
    "SWMod = CategoryOfLeftSModules( W )"
   ]
  },
  {
   "cell_type": "code",
   "execution_count": 16,
   "metadata": {},
   "outputs": [],
   "source": [
    "SW = UnderlyingActingObject( SWMod );"
   ]
  },
  {
   "cell_type": "code",
   "execution_count": 17,
   "metadata": {
    "scrolled": true
   },
   "outputs": [
    {
     "data": {
      "text/plain": [
       "GAP: degree: 1\n",
       "\n",
       "Component: (x_chi)\n",
       "\n",
       "1\n",
       "\n",
       "A morphism in Category of matrices over Q\n",
       "\n",
       "------------------------\n"
      ]
     },
     "execution_count": 17,
     "metadata": {},
     "output_type": "execute_result"
    }
   ],
   "source": [
    "χ¹ = InternalElement( SW, GIrreducibleObject( irr[2] ), 1, 1 )"
   ]
  },
  {
   "cell_type": "code",
   "execution_count": 18,
   "metadata": {},
   "outputs": [
    {
     "data": {
      "text/plain": [
       "GAP: degree: 2\n",
       "\n",
       "Component: (x_rho)\n",
       "\n",
       "1\n",
       "\n",
       "A morphism in Category of matrices over Q\n",
       "\n",
       "------------------------\n"
      ]
     },
     "execution_count": 18,
     "metadata": {},
     "output_type": "execute_result"
    }
   ],
   "source": [
    "ρ² = InternalElement( SW, GIrreducibleObject( irr[3] ), 2, 1 )"
   ]
  },
  {
   "cell_type": "code",
   "execution_count": 19,
   "metadata": {},
   "outputs": [
    {
     "data": {
      "text/plain": [
       "GAP: degree: 2\n",
       "\n",
       "Component: (x_nu)\n",
       "\n",
       "1\n",
       "\n",
       "A morphism in Category of matrices over Q\n",
       "\n",
       "------------------------\n"
      ]
     },
     "execution_count": 19,
     "metadata": {},
     "output_type": "execute_result"
    }
   ],
   "source": [
    "ν² = InternalElement( SW, GIrreducibleObject( irr[4] ), 2, 1 )"
   ]
  },
  {
   "cell_type": "code",
   "execution_count": 20,
   "metadata": {},
   "outputs": [
    {
     "data": {
      "text/plain": [
       "GAP: degree: 3\n",
       "\n",
       "Component: (x_nu)\n",
       "\n",
       "1\n",
       "\n",
       "A morphism in Category of matrices over Q\n",
       "\n",
       "------------------------\n"
      ]
     },
     "execution_count": 20,
     "metadata": {},
     "output_type": "execute_result"
    }
   ],
   "source": [
    "ν³ = InternalElement( SW, GIrreducibleObject( irr[4] ), 3, 1 )"
   ]
  },
  {
   "cell_type": "code",
   "execution_count": 21,
   "metadata": {},
   "outputs": [
    {
     "data": {
      "text/plain": [
       "GAP: degree: 2\n",
       "\n",
       "Component: (x_rho)\n",
       "\n",
       "1\n",
       "\n",
       "A morphism in Category of matrices over Q\n",
       "\n",
       "------------------------\n",
       "Component: (x_nu)\n",
       "\n",
       "1\n",
       "\n",
       "A morphism in Category of matrices over Q\n",
       "\n",
       "------------------------\n",
       "Component: (x_1)\n",
       "\n",
       "1\n",
       "\n",
       "A morphism in Category of matrices over Q\n",
       "\n",
       "------------------------\n"
      ]
     },
     "execution_count": 21,
     "metadata": {},
     "output_type": "execute_result"
    }
   ],
   "source": [
    "χ¹ * χ¹"
   ]
  },
  {
   "cell_type": "code",
   "execution_count": 22,
   "metadata": {},
   "outputs": [
    {
     "data": {
      "text/plain": [
       "GAP: degree: 3\n",
       "\n",
       "Component: (x_sigma)\n",
       "\n",
       "1\n",
       "\n",
       "A morphism in Category of matrices over Q\n",
       "\n",
       "------------------------\n",
       "Component: (x_chi)\n",
       "\n",
       "5,3\n",
       "\n",
       "A morphism in Category of matrices over Q\n",
       "\n",
       "------------------------\n",
       "Component: (x_nu)\n",
       "\n",
       "3\n",
       "\n",
       "A morphism in Category of matrices over Q\n",
       "\n",
       "------------------------\n"
      ]
     },
     "execution_count": 22,
     "metadata": {},
     "output_type": "execute_result"
    }
   ],
   "source": [
    "χ¹ * (χ¹ * χ¹)"
   ]
  },
  {
   "cell_type": "code",
   "execution_count": 23,
   "metadata": {},
   "outputs": [
    {
     "data": {
      "text/plain": [
       "true"
      ]
     },
     "execution_count": 23,
     "metadata": {},
     "output_type": "execute_result"
    }
   ],
   "source": [
    "χ¹ * (χ¹ * χ¹) == (χ¹ * χ¹) * χ¹"
   ]
  },
  {
   "cell_type": "code",
   "execution_count": 24,
   "metadata": {},
   "outputs": [
    {
     "data": {
      "text/plain": [
       "GAP: degree: 3\n",
       "\n",
       "Component: (x_chi)\n",
       "\n",
       "0,2\n",
       "\n",
       "A morphism in Category of matrices over Q\n",
       "\n",
       "------------------------\n",
       "Component: (x_nu)\n",
       "\n",
       "1\n",
       "\n",
       "A morphism in Category of matrices over Q\n",
       "\n",
       "------------------------\n"
      ]
     },
     "execution_count": 24,
     "metadata": {},
     "output_type": "execute_result"
    }
   ],
   "source": [
    "χ¹ * ρ²"
   ]
  },
  {
   "cell_type": "code",
   "execution_count": 25,
   "metadata": {},
   "outputs": [
    {
     "data": {
      "text/plain": [
       "true"
      ]
     },
     "execution_count": 25,
     "metadata": {},
     "output_type": "execute_result"
    }
   ],
   "source": [
    "χ¹ * ρ² == ρ² * χ¹"
   ]
  },
  {
   "cell_type": "code",
   "execution_count": 26,
   "metadata": {},
   "outputs": [
    {
     "data": {
      "text/plain": [
       "GAP: degree: 3\n",
       "\n",
       "Component: (x_sigma)\n",
       "\n",
       "1\n",
       "\n",
       "A morphism in Category of matrices over Q\n",
       "\n",
       "------------------------\n",
       "Component: (x_chi)\n",
       "\n",
       "8,0\n",
       "\n",
       "A morphism in Category of matrices over Q\n",
       "\n",
       "------------------------\n",
       "Component: (x_nu)\n",
       "\n",
       "2\n",
       "\n",
       "A morphism in Category of matrices over Q\n",
       "\n",
       "------------------------\n"
      ]
     },
     "execution_count": 26,
     "metadata": {},
     "output_type": "execute_result"
    }
   ],
   "source": [
    "χ¹ * ν²"
   ]
  },
  {
   "cell_type": "code",
   "execution_count": 27,
   "metadata": {},
   "outputs": [
    {
     "data": {
      "text/plain": [
       "true"
      ]
     },
     "execution_count": 27,
     "metadata": {},
     "output_type": "execute_result"
    }
   ],
   "source": [
    "χ¹ * ν² == ν² * χ¹"
   ]
  },
  {
   "cell_type": "code",
   "execution_count": 28,
   "metadata": {},
   "outputs": [
    {
     "data": {
      "text/plain": [
       "GAP: degree: 4\n",
       "\n",
       "Component: (x_chi)\n",
       "\n",
       "-2\n",
       "\n",
       "A morphism in Category of matrices over Q\n",
       "\n",
       "------------------------\n",
       "Component: (x_rho)\n",
       "\n",
       "3,-31\n",
       "\n",
       "A morphism in Category of matrices over Q\n",
       "\n",
       "------------------------\n",
       "Component: (x_nu)\n",
       "\n",
       "5,6\n",
       "\n",
       "A morphism in Category of matrices over Q\n",
       "\n",
       "------------------------\n",
       "Component: (x_1)\n",
       "\n",
       "5,3\n",
       "\n",
       "A morphism in Category of matrices over Q\n",
       "\n",
       "------------------------\n"
      ]
     },
     "execution_count": 28,
     "metadata": {},
     "output_type": "execute_result"
    }
   ],
   "source": [
    "χ¹ * (χ¹ * (χ¹ * χ¹))"
   ]
  },
  {
   "cell_type": "code",
   "execution_count": 29,
   "metadata": {},
   "outputs": [
    {
     "data": {
      "text/plain": [
       "GAP: degree: 4\n",
       "\n",
       "Component: (x_chi)\n",
       "\n",
       "8\n",
       "\n",
       "A morphism in Category of matrices over Q\n",
       "\n",
       "------------------------\n",
       "Component: (x_rho)\n",
       "\n",
       "9/4,43/4\n",
       "\n",
       "A morphism in Category of matrices over Q\n",
       "\n",
       "------------------------\n",
       "Component: (x_nu)\n",
       "\n",
       "-16,-6\n",
       "\n",
       "A morphism in Category of matrices over Q\n",
       "\n",
       "------------------------\n",
       "Component: (x_1)\n",
       "\n",
       "-7,9/8\n",
       "\n",
       "A morphism in Category of matrices over Q\n",
       "\n",
       "------------------------\n"
      ]
     },
     "execution_count": 29,
     "metadata": {},
     "output_type": "execute_result"
    }
   ],
   "source": [
    "(χ¹ * χ¹) * (χ¹ * χ¹)"
   ]
  },
  {
   "cell_type": "code",
   "execution_count": 30,
   "metadata": {},
   "outputs": [
    {
     "data": {
      "text/plain": [
       "GAP: degree: 4\n",
       "\n",
       "Component: (x_chi)\n",
       "\n",
       "26\n",
       "\n",
       "A morphism in Category of matrices over Q\n",
       "\n",
       "------------------------\n",
       "Component: (x_rho)\n",
       "\n",
       "3,-31\n",
       "\n",
       "A morphism in Category of matrices over Q\n",
       "\n",
       "------------------------\n",
       "Component: (x_nu)\n",
       "\n",
       "5,6\n",
       "\n",
       "A morphism in Category of matrices over Q\n",
       "\n",
       "------------------------\n",
       "Component: (x_1)\n",
       "\n",
       "5,3\n",
       "\n",
       "A morphism in Category of matrices over Q\n",
       "\n",
       "------------------------\n"
      ]
     },
     "execution_count": 30,
     "metadata": {},
     "output_type": "execute_result"
    }
   ],
   "source": [
    "((χ¹ * χ¹) * χ¹) * χ¹"
   ]
  },
  {
   "cell_type": "code",
   "execution_count": 31,
   "metadata": {},
   "outputs": [
    {
     "data": {
      "text/plain": [
       "GAP: degree: 4\n",
       "\n",
       "Component: (x_chi)\n",
       "\n",
       "4\n",
       "\n",
       "A morphism in Category of matrices over Q\n",
       "\n",
       "------------------------\n",
       "Component: (x_rho)\n",
       "\n",
       "5/4,-9/4\n",
       "\n",
       "A morphism in Category of matrices over Q\n",
       "\n",
       "------------------------\n",
       "Component: (x_nu)\n",
       "\n",
       "-4,-4\n",
       "\n",
       "A morphism in Category of matrices over Q\n",
       "\n",
       "------------------------\n",
       "Component: (x_1)\n",
       "\n",
       "0,1/8\n",
       "\n",
       "A morphism in Category of matrices over Q\n",
       "\n",
       "------------------------\n"
      ]
     },
     "execution_count": 31,
     "metadata": {},
     "output_type": "execute_result"
    }
   ],
   "source": [
    "(χ¹ * χ¹) * ρ²"
   ]
  },
  {
   "cell_type": "code",
   "execution_count": 32,
   "metadata": {},
   "outputs": [
    {
     "data": {
      "text/plain": [
       "GAP: degree: 4\n",
       "\n",
       "Component: (x_chi)\n",
       "\n",
       "-2\n",
       "\n",
       "A morphism in Category of matrices over Q\n",
       "\n",
       "------------------------\n",
       "Component: (x_rho)\n",
       "\n",
       "2,-12\n",
       "\n",
       "A morphism in Category of matrices over Q\n",
       "\n",
       "------------------------\n",
       "Component: (x_nu)\n",
       "\n",
       "-1,-1\n",
       "\n",
       "A morphism in Category of matrices over Q\n",
       "\n",
       "------------------------\n",
       "Component: (x_1)\n",
       "\n",
       "0,2\n",
       "\n",
       "A morphism in Category of matrices over Q\n",
       "\n",
       "------------------------\n"
      ]
     },
     "execution_count": 32,
     "metadata": {},
     "output_type": "execute_result"
    }
   ],
   "source": [
    "χ¹ * (χ¹ * ρ²)"
   ]
  },
  {
   "cell_type": "code",
   "execution_count": 33,
   "metadata": {},
   "outputs": [
    {
     "data": {
      "text/plain": [
       "GAP: degree: 4\n",
       "\n",
       "Component: (x_chi)\n",
       "\n",
       "4\n",
       "\n",
       "A morphism in Category of matrices over Q\n",
       "\n",
       "------------------------\n",
       "Component: (x_rho)\n",
       "\n",
       "0,16\n",
       "\n",
       "A morphism in Category of matrices over Q\n",
       "\n",
       "------------------------\n",
       "Component: (x_nu)\n",
       "\n",
       "-8,-1\n",
       "\n",
       "A morphism in Category of matrices over Q\n",
       "\n",
       "------------------------\n",
       "Component: (x_1)\n",
       "\n",
       "-4,0\n",
       "\n",
       "A morphism in Category of matrices over Q\n",
       "\n",
       "------------------------\n"
      ]
     },
     "execution_count": 33,
     "metadata": {},
     "output_type": "execute_result"
    }
   ],
   "source": [
    "(χ¹ * χ¹) * ν²"
   ]
  },
  {
   "cell_type": "code",
   "execution_count": 34,
   "metadata": {},
   "outputs": [
    {
     "data": {
      "text/plain": [
       "GAP: degree: 4\n",
       "\n",
       "Component: (x_chi)\n",
       "\n",
       "4\n",
       "\n",
       "A morphism in Category of matrices over Q\n",
       "\n",
       "------------------------\n",
       "Component: (x_rho)\n",
       "\n",
       "0,-12\n",
       "\n",
       "A morphism in Category of matrices over Q\n",
       "\n",
       "------------------------\n",
       "Component: (x_nu)\n",
       "\n",
       "1,1\n",
       "\n",
       "A morphism in Category of matrices over Q\n",
       "\n",
       "------------------------\n"
      ]
     },
     "execution_count": 34,
     "metadata": {},
     "output_type": "execute_result"
    }
   ],
   "source": [
    "χ¹ * ν³"
   ]
  },
  {
   "cell_type": "code",
   "execution_count": 35,
   "metadata": {},
   "outputs": [
    {
     "data": {
      "text/plain": [
       "true"
      ]
     },
     "execution_count": 35,
     "metadata": {},
     "output_type": "execute_result"
    }
   ],
   "source": [
    "χ¹ * ν³ == ν³ * χ¹"
   ]
  },
  {
   "cell_type": "markdown",
   "metadata": {},
   "source": [
    "As expected, the product is neither associative nor commutative as in both cases we would have:"
   ]
  },
  {
   "cell_type": "code",
   "execution_count": 36,
   "metadata": {},
   "outputs": [
    {
     "data": {
      "text/plain": [
       "false"
      ]
     },
     "execution_count": 36,
     "metadata": {},
     "output_type": "execute_result"
    }
   ],
   "source": [
    "χ¹ * (χ¹ * (χ¹ * χ¹)) == ((χ¹ * χ¹) * χ¹) * χ¹"
   ]
  },
  {
   "cell_type": "code",
   "execution_count": null,
   "metadata": {},
   "outputs": [],
   "source": []
  }
 ],
 "metadata": {
  "@webio": {
   "lastCommId": null,
   "lastKernelId": null
  },
  "kernelspec": {
   "display_name": "Julia 1.4.1",
   "language": "julia",
   "name": "julia-1.4"
  },
  "language_info": {
   "file_extension": ".jl",
   "mimetype": "application/julia",
   "name": "julia",
   "version": "1.4.1"
  }
 },
 "nbformat": 4,
 "nbformat_minor": 2
}
