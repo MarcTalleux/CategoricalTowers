{
 "cells": [
  {
   "cell_type": "markdown",
   "metadata": {
    "slideshow": {
     "slide_type": "slide"
    }
   },
   "source": [
    "## The locus $uMPS(D,d,N)$ of uniform matrix product states is defined as the constructible image of the polynomial map $$ (\\mathbb{C}^{D \\times D})^d \\to (\\mathbb{C}^d)^{\\otimes N}, (M_0, \\ldots, M_{d-1}) \\mapsto \\sum_{0 \\leq i_1, \\ldots, i_N \\leq d-1} tr(M_{i_1} \\cdots M_{i_N}) e_{i_1} \\otimes \\cdots \\otimes e_{i_N} \\mbox{.}$$\n",
    "## Here we consider the case $(D,d,N) = (2,2,4)$.\n",
    "\n",
    "Our implementation $\\mathtt{ConstructibleImage}$ finishes in less than 15 seconds and outperforms\n",
    "* $\\mathtt{totalImage}$ (Macaulay2 package $\\mathtt{TotalImage}$ [HMS18,CMS])\n",
    "* $\\mathtt{grobcov}$ (Singular package $\\mathtt{grobcov.lib}$ [MW10])\n",
    "* $\\mathtt{PolynomialMapImage}$ ($\\mathsf{Maple}$ package $\\mathtt{RegularChains}$ [CGL+07])\n",
    "* $\\mathtt{Comprehensive}$ ($\\mathsf{Maple}$ package $\\mathtt{AlgebraicThomas}$ [BGLHR12])\n",
    "\n",
    "which did not finish after a day.\n",
    "\n",
    "\n",
    "[HMS18] Corey Harris, Mateusz Michałek, and Emre Can Sertöz, Computing images of polynomial maps, (arXiv:1801.00827), 2018.\n",
    "\n",
    "[CMS] Adam Czaplin ́ski, Mateusz Michałek, and Tim Seynnaeve, Uniform matrix product states from an algebraic geometer’s point of view.\n",
    "\n",
    "[MW10] Antonio Montes and Michael Wibmer, Gröbner bases for polynomial systems with parameters, J. Symbolic Comput. 45 (2010), no. 12, 1391–1425. MR 2733386\n",
    "\n",
    "[CGL+07] Changbo Chen, Oleg Golubitsky, François Lemaire, Marc Moreno Maza, and Wei Pan, Com- prehensive triangular decomposition, Computer Algebra in Scientific Computing (Berlin, Hei- delberg) (Victor G. Ganzha, Ernst W. Mayr, and Evgenii V. Vorozhtsov, eds.), Springer Berlin Heidelberg, 2007, pp. 73–101.\n",
    "\n",
    "[BGLHR12] Thomas Bächler, Vladimir Gerdt, Markus Lange-Hegermann, and Daniel Robertz, Algorithmic Thomas decomposition of algebraic and differential systems, J. Symbolic Comput. 47 (2012), no. 10, 1233–1266, (arXiv:1108.0817). MR 2926124"
   ]
  },
  {
   "cell_type": "code",
   "execution_count": 1,
   "metadata": {
    "slideshow": {
     "slide_type": "slide"
    }
   },
   "outputs": [
    {
     "name": "stdout",
     "output_type": "stream",
     "text": [
      "Adding path /Users/mo/.julia/dev/GAP/gap/.libs to DL_LOAD_PATH\n",
      " ┌───────┐   GAP 4.10dev-2263-g9f330be of today\n",
      " │  GAP  │   https://www.gap-system.org\n",
      " └───────┘   Architecture: x86_64-apple-darwin18.6.0-julia64-kv7\n",
      " Configuration:  gmp 6.1.2, Julia GC, Julia 1.2.0\n",
      " Loading the library and packages ...\n",
      " Packages:   GAPDoc 1.6.3, PrimGrp 3.3.2, SmallGrp 1.3, TransGrp 2.0.4\n",
      " Try '??help' for help. See also '?copyright', '?cite' and '?authors'\n"
     ]
    }
   ],
   "source": [
    "using HomalgProject"
   ]
  },
  {
   "cell_type": "code",
   "execution_count": 2,
   "metadata": {
    "slideshow": {
     "slide_type": "-"
    }
   },
   "outputs": [
    {
     "name": "stdout",
     "output_type": "stream",
     "text": [
      "\r"
     ]
    }
   ],
   "source": [
    "LoadPackageAndExposeGlobals( \"ZariskiFrames\", Main, all_globals = true )"
   ]
  },
  {
   "cell_type": "code",
   "execution_count": 3,
   "metadata": {},
   "outputs": [
    {
     "name": "stdout",
     "output_type": "stream",
     "text": [
      "================================================================\n",
      "                     SINGULAR                                 /  Development\n",
      " A Computer Algebra System for Polynomial Computations       /   version 4.1.1\n",
      "                                                           0<\n",
      " by: W. Decker, G.-M. Greuel, G. Pfister, H. Schoenemann     \\   Feb 2018\n",
      "FB Mathematik der Universitaet, D-67653 Kaiserslautern        \\\u001b[0m\n",
      "================================================================\n"
     ]
    },
    {
     "data": {
      "text/plain": [
       "GAP: Q"
      ]
     },
     "execution_count": 3,
     "metadata": {},
     "output_type": "execute_result"
    }
   ],
   "source": [
    "ℚ = HomalgFieldOfRationalsInSingular( )"
   ]
  },
  {
   "cell_type": "code",
   "execution_count": 4,
   "metadata": {},
   "outputs": [
    {
     "data": {
      "text/plain": [
       "GAP: Q[t0000,t0001,t0011,t0111,t1111,t0101]"
      ]
     },
     "execution_count": 4,
     "metadata": {},
     "output_type": "execute_result"
    }
   ],
   "source": [
    "B = ℚ[\"t0000,t0001,t0011,t0111,t1111,t0101\"]"
   ]
  },
  {
   "cell_type": "code",
   "execution_count": 5,
   "metadata": {},
   "outputs": [
    {
     "data": {
      "text/plain": [
       "GAP: Q[s_0,s_1,s_2,s_3,s_4]"
      ]
     },
     "execution_count": 5,
     "metadata": {},
     "output_type": "execute_result"
    }
   ],
   "source": [
    "T = ℚ[\"s_0..4\"]"
   ]
  },
  {
   "cell_type": "code",
   "execution_count": 6,
   "metadata": {
    "slideshow": {
     "slide_type": "slide"
    }
   },
   "outputs": [],
   "source": [
    "ϕ = RingMap( HomalgMatrix( \"-(1/2)*s_0^4+s_0^2*s_2+(1/2)*s_2^2,-(1/2)*s_0^3*s_1+(1/2)*s_0*s_1*s_2+(1/2)*s_0^2*s_3+(1/2)*s_2*s_3,-(1/2)*s_0^2*s_1^2+s_0*s_1*s_3+(1/2)*s_2*s_4,-(1/2)*s_0*s_1^3+(1/2)*s_1^2*s_3+(1/2)*s_0*s_1*s_4+(1/2)*s_3*s_4,-(1/2)*s_1^4+s_1^2*s_4+(1/2)*s_4^2,-(1/2)*s_0^2*s_1^2+(1/2)*s_1^2*s_2+(1/2)*s_0^2*s_4+s_3^2-(1/2)*s_2*s_4\", 6, 1, T ),  B, T );"
   ]
  },
  {
   "cell_type": "code",
   "execution_count": 7,
   "metadata": {},
   "outputs": [
    {
     "name": "stdout",
     "output_type": "stream",
     "text": [
      "Q[s_0,s_1,s_2,s_3,s_4]\n",
      "  ^\n",
      "  |\n",
      "[ -1/2*s_0^4+s_0^2*s_2+1/2*s_2^2, \n",
      "  -1/2*s_0^3*s_1+1/2*s_0*s_1*s_2+1/2*s_0^2*s_3+1/2*s_2*s_3, \n",
      "  -1/2*s_0^2*s_1^2+s_0*s_1*s_3+1/2*s_2*s_4, \n",
      "  -1/2*s_0*s_1^3+1/2*s_1^2*s_3+1/2*s_0*s_1*s_4+1/2*s_3*s_4, \n",
      "  -1/2*s_1^4+s_1^2*s_4+1/2*s_4^2, \n",
      "  -1/2*s_0^2*s_1^2+1/2*s_1^2*s_2+1/2*s_0^2*s_4+s_3^2-1/2*s_2*s_4 ]\n",
      "  |\n",
      "  |\n",
      "Q[t0000,t0001,t0011,t0111,t1111,t0101]\n"
     ]
    }
   ],
   "source": [
    "Display( ϕ )"
   ]
  },
  {
   "cell_type": "code",
   "execution_count": 8,
   "metadata": {},
   "outputs": [
    {
     "data": {
      "text/plain": [
       "GAP: ( V_{Q[t0000,t0001,t0011,t0111,t1111,t0101]}( I1 ) \\ V_{Q[t0000,t0001,t0011,t0\\\n",
       "111,t1111,t0101]}( J1_1 ) \\ V_{Q[t0000,t0001,t0011,t0111,t1111,t0101]}( J1_2 )\\\n",
       " ) ∪ ( V_{Q[t0000,t0001,t0011,t0111,t1111,t0101]}( I2 ) \\ V_{Q[t0000,t0001,t\\\n",
       "0011,t0111,t1111,t0101]}( J2_1 ) )"
      ]
     },
     "execution_count": 8,
     "metadata": {},
     "output_type": "execute_result"
    }
   ],
   "source": [
    "im = ConstructibleImage( ϕ )"
   ]
  },
  {
   "cell_type": "code",
   "execution_count": 9,
   "metadata": {
    "scrolled": false
   },
   "outputs": [
    {
     "name": "stdout",
     "output_type": "stream",
     "text": [
      "V( <2*t0011^6-12*t0001*t0011^4*t0111+16*t0001^2*t0011^2*t0111^2+4*t0000*t0011^\\\n",
      "3*t0111^2-8*t0000*t0001*t0011*t0111^3+t0000^2*t0111^4+4*t0001^2*t0011^3*t1111-\\\n",
      "t0000*t0011^4*t1111-8*t0001^3*t0011*t0111*t1111+2*t0000*t0001^2*t0111^2*t1111+\\\n",
      "t0001^4*t1111^2+8*t0001*t0011^3*t0111*t0101-16*t0001^2*t0011*t0111^2*t0101-4*t\\\n",
      "0000*t0011^2*t0111^2*t0101+4*t0000*t0001*t0111^3*t0101-4*t0001^2*t0011^2*t1111\\\n",
      "*t0101+4*t0001^3*t0111*t1111*t0101+8*t0000*t0001*t0011*t0111*t1111*t0101-2*t00\\\n",
      "00^2*t0111^2*t1111*t0101-2*t0000*t0001^2*t1111^2*t0101-t0011^4*t0101^2+4*t0001\\\n",
      "^2*t0111^2*t0101^2+4*t0000*t0011*t0111^2*t0101^2+4*t0001^2*t0011*t1111*t0101^2\\\n",
      "-2*t0000*t0011^2*t1111*t0101^2-4*t0000*t0001*t0111*t1111*t0101^2+t0000^2*t1111\\\n",
      "^2*t0101^2-2*t0000*t0111^2*t0101^3-2*t0001^2*t1111*t0101^3+t0000*t1111*t0101^4\\\n",
      "> ) \\ V( <t0011-t0101,4*t0001*t0111^3+t0001^2*t1111^2-6*t0001*t0111*t1111*t010\\\n",
      "1-3*t0111^2*t0101^2+4*t1111*t0101^3,-4*t0001*t0111+t0000*t1111+3*t0101^2,t0000\\\n",
      "*t0111^2+t0001^2*t1111-6*t0001*t0111*t0101+4*t0101^3> ) \\ V( <-2*t0111^4+t0011\\\n",
      "^2*t1111^2+4*t0111^2*t1111*t0101-2*t0011*t1111^2*t0101-t1111^2*t0101^2,2*t0111\\\n",
      "^3-2*t0011*t0111*t1111+t0001*t1111^2-t0111*t1111*t0101,-2*t0011*t0111^2+t0011^\\\n",
      "2*t1111+t0001*t0111*t1111+3*t0111^2*t0101-2*t0011*t1111*t0101-t1111*t0101^2,2*\\\n",
      "t0011^2*t0111^2+2*t0001*t0111^3-2*t0011^3*t1111-12*t0011*t0111^2*t0101+7*t0011\\\n",
      "^2*t1111*t0101+10*t0111^2*t0101^2-4*t0011*t1111*t0101^2-3*t1111*t0101^3,-2*t00\\\n",
      "11^2*t0111+2*t0001*t0111^2+2*t0001*t0011*t1111-3*t0001*t1111*t0101+t0111*t0101\\\n",
      "^2,-2*t0011^4+4*t0001*t0011^2*t0111+2*t0001^2*t0111^2+4*t0011^3*t0101-16*t0001\\\n",
      "*t0011*t0111*t0101+3*t0011^2*t0101^2+8*t0001*t0111*t0101^2-2*t0011*t0101^3-t01\\\n",
      "01^4,-16*t0011^3+48*t0001*t0011*t0111-16*t0001^2*t1111-6*t0011^2*t0101-28*t000\\\n",
      "1*t0111*t0101+7*t0000*t1111*t0101+8*t0011*t0101^2+3*t0101^3,8*t0011*t0111^2-6*\\\n",
      "t0011^2*t1111+t0000*t1111^2-4*t0111^2*t0101+t1111*t0101^2,-4*t0001*t0011^3+12*\\\n",
      "t0001^2*t0011*t0111-4*t0001^3*t1111+2*t0001*t0011^2*t0101-14*t0001^2*t0111*t01\\\n",
      "01+2*t0001*t0011*t0101^2+7*t0000*t0111*t0101^2-t0001*t0101^3,-2*t0011^2*t0111+\\\n",
      "4*t0001*t0111^2+t0000*t0111*t1111-4*t0001*t1111*t0101+t0111*t0101^2,t0000*t011\\\n",
      "1^2-t0001^2*t1111,-38*t0011^3+100*t0001*t0011*t0111-24*t0001^2*t1111+7*t0000*t\\\n",
      "0011*t1111-16*t0011^2*t0101-56*t0001*t0111*t0101+19*t0011*t0101^2+8*t0101^3,-2\\\n",
      "*t0001*t0011^2+2*t0001^2*t0111+2*t0000*t0011*t0111-3*t0000*t0111*t0101+t0001*t\\\n",
      "0101^2,4*t0001^2*t0011^3-12*t0001^3*t0011*t0111+4*t0001^4*t1111-2*t0001^2*t001\\\n",
      "1^2*t0101+14*t0001^3*t0111*t0101-16*t0001^2*t0011*t0101^2+7*t0000*t0011^2*t010\\\n",
      "1^2+22*t0001^2*t0101^3-14*t0000*t0011*t0101^3-7*t0000*t0101^4,-2*t0001^2*t0011\\\n",
      "^2+2*t0000*t0011^3-2*t0001^3*t0111+12*t0001^2*t0011*t0101-7*t0000*t0011^2*t010\\\n",
      "1-10*t0001^2*t0101^2+4*t0000*t0011*t0101^2+3*t0000*t0101^3,-2*t0001*t0011^2+4*\\\n",
      "t0001^2*t0111+t0000*t0001*t1111-4*t0000*t0111*t0101+t0001*t0101^2,-2*t0001^2*t\\\n",
      "0011+t0000*t0011^2+t0000*t0001*t0111+3*t0001^2*t0101-2*t0000*t0011*t0101-t0000\\\n",
      "*t0101^2,8*t0001^2*t0011-6*t0000*t0011^2+t0000^2*t1111-4*t0001^2*t0101+t0000*t\\\n",
      "0101^2,2*t0001^3-2*t0000*t0001*t0011+t0000^2*t0111-t0000*t0001*t0101,-2*t0001^\\\n",
      "4+t0000^2*t0011^2+4*t0000*t0001^2*t0101-2*t0000^2*t0011*t0101-t0000^2*t0101^2>\\\n",
      " )\n",
      "\n",
      "∪\n",
      "\n",
      "V( <t0011-t0101,t0001*t1111-t0111*t0101,t0000*t1111-t0101^2,t0111^2-t1111*t010\\\n",
      "1,t0001*t0111-t0101^2,t0000*t0111-t0001*t0101,t0001^2-t0000*t0101> ) \\ ∅\n"
     ]
    }
   ],
   "source": [
    "Display( im )"
   ]
  },
  {
   "cell_type": "code",
   "execution_count": 10,
   "metadata": {
    "slideshow": {
     "slide_type": "slide"
    }
   },
   "outputs": [
    {
     "data": {
      "image/svg+xml": [
       "<?xml version=\"1.0\" encoding=\"UTF-8\" standalone=\"no\"?>\n",
       "<!DOCTYPE svg PUBLIC \"-//W3C//DTD SVG 1.1//EN\"\n",
       " \"http://www.w3.org/Graphics/SVG/1.1/DTD/svg11.dtd\">\n",
       "<!-- Generated by graphviz version 2.40.1 (20161225.0304)\n",
       " -->\n",
       "<!-- Title: hgn Pages: 1 -->\n",
       "<svg width=\"146pt\" height=\"268pt\"\n",
       " viewBox=\"0.00 0.00 145.99 268.15\" xmlns=\"http://www.w3.org/2000/svg\" xmlns:xlink=\"http://www.w3.org/1999/xlink\">\n",
       "<g id=\"graph0\" class=\"graph\" transform=\"scale(1 1) rotate(0) translate(4 264.1457)\">\n",
       "<title>hgn</title>\n",
       "<polygon fill=\"#ffffff\" stroke=\"transparent\" points=\"-4,4 -4,-264.1457 141.992,-264.1457 141.992,4 -4,4\"/>\n",
       "<!-- 1 -->\n",
       "<g id=\"node1\" class=\"node\">\n",
       "<title>1</title>\n",
       "<ellipse fill=\"none\" stroke=\"#000000\" cx=\"68.996\" cy=\"-32.0384\" rx=\"32.0769\" ry=\"32.0769\"/>\n",
       "<text text-anchor=\"middle\" x=\"68.996\" y=\"-27.8384\" font-family=\"Times,serif\" font-size=\"14.00\" fill=\"#000000\">1 (+5)</text>\n",
       "</g>\n",
       "<!-- 2 -->\n",
       "<g id=\"node2\" class=\"node\">\n",
       "<title>2</title>\n",
       "<ellipse fill=\"none\" stroke=\"#000000\" cx=\"68.996\" cy=\"-228.1073\" rx=\"32.0769\" ry=\"32.0769\"/>\n",
       "<text text-anchor=\"middle\" x=\"68.996\" y=\"-223.9073\" font-family=\"Times,serif\" font-size=\"14.00\" fill=\"#000000\">6 (+2)</text>\n",
       "</g>\n",
       "<!-- 3 -->\n",
       "<g id=\"node3\" class=\"node\">\n",
       "<title>3</title>\n",
       "<ellipse fill=\"none\" stroke=\"#000000\" cx=\"29.996\" cy=\"-130.0729\" rx=\"29.992\" ry=\"29.992\"/>\n",
       "<text text-anchor=\"middle\" x=\"29.996\" y=\"-125.8729\" font-family=\"Times,serif\" font-size=\"14.00\" fill=\"#000000\">4 (&#45;3)</text>\n",
       "</g>\n",
       "<!-- 2&#45;&gt;3 -->\n",
       "<g id=\"edge1\" class=\"edge\">\n",
       "<title>2&#45;&gt;3</title>\n",
       "<path fill=\"none\" stroke=\"#000000\" d=\"M57.0828,-198.161C53.2463,-188.5173 48.9456,-177.7067 44.9206,-167.589\"/>\n",
       "<polygon fill=\"#000000\" stroke=\"#000000\" points=\"48.1188,-166.1595 41.1702,-158.1615 41.6146,-168.747 48.1188,-166.1595\"/>\n",
       "</g>\n",
       "<!-- 4 -->\n",
       "<g id=\"node4\" class=\"node\">\n",
       "<title>4</title>\n",
       "<ellipse fill=\"none\" stroke=\"#000000\" cx=\"107.996\" cy=\"-130.0729\" rx=\"29.992\" ry=\"29.992\"/>\n",
       "<text text-anchor=\"middle\" x=\"107.996\" y=\"-125.8729\" font-family=\"Times,serif\" font-size=\"14.00\" fill=\"#000000\">5 (&#45;3)</text>\n",
       "</g>\n",
       "<!-- 2&#45;&gt;4 -->\n",
       "<g id=\"edge2\" class=\"edge\">\n",
       "<title>2&#45;&gt;4</title>\n",
       "<path fill=\"none\" stroke=\"#000000\" d=\"M80.9092,-198.161C84.7457,-188.5173 89.0463,-177.7067 93.0713,-167.589\"/>\n",
       "<polygon fill=\"#000000\" stroke=\"#000000\" points=\"96.3774,-168.747 96.8218,-158.1615 89.8732,-166.1595 96.3774,-168.747\"/>\n",
       "</g>\n",
       "<!-- 3&#45;&gt;1 -->\n",
       "<g id=\"edge3\" class=\"edge\">\n",
       "<title>3&#45;&gt;1</title>\n",
       "<path fill=\"none\" stroke=\"#000000\" d=\"M41.1718,-101.9801C44.9585,-92.4614 49.2608,-81.6467 53.3311,-71.4154\"/>\n",
       "<polygon fill=\"#000000\" stroke=\"#000000\" points=\"56.6935,-72.4316 57.1379,-61.8461 50.1893,-69.8441 56.6935,-72.4316\"/>\n",
       "</g>\n",
       "<!-- 4&#45;&gt;1 -->\n",
       "<g id=\"edge4\" class=\"edge\">\n",
       "<title>4&#45;&gt;1</title>\n",
       "<path fill=\"none\" stroke=\"#000000\" d=\"M96.8201,-101.9801C93.0334,-92.4614 88.7311,-81.6467 84.6609,-71.4154\"/>\n",
       "<polygon fill=\"#000000\" stroke=\"#000000\" points=\"87.8026,-69.8441 80.854,-61.8461 81.2984,-72.4316 87.8026,-69.8441\"/>\n",
       "</g>\n",
       "</g>\n",
       "</svg>\n"
      ]
     },
     "metadata": {},
     "output_type": "display_data"
    }
   ],
   "source": [
    "VisualizeInJulia( im )"
   ]
  },
  {
   "cell_type": "code",
   "execution_count": 11,
   "metadata": {
    "slideshow": {
     "slide_type": "slide"
    }
   },
   "outputs": [
    {
     "data": {
      "image/svg+xml": [
       "<?xml version=\"1.0\" encoding=\"UTF-8\" standalone=\"no\"?>\n",
       "<!DOCTYPE svg PUBLIC \"-//W3C//DTD SVG 1.1//EN\"\n",
       " \"http://www.w3.org/Graphics/SVG/1.1/DTD/svg11.dtd\">\n",
       "<!-- Generated by graphviz version 2.40.1 (20161225.0304)\n",
       " -->\n",
       "<!-- Title: hgn Pages: 1 -->\n",
       "<svg width=\"178pt\" height=\"914pt\"\n",
       " viewBox=\"0.00 0.00 178.28 914.06\" xmlns=\"http://www.w3.org/2000/svg\" xmlns:xlink=\"http://www.w3.org/1999/xlink\">\n",
       "<g id=\"graph0\" class=\"graph\" transform=\"scale(1 1) rotate(0) translate(4 910.0593)\">\n",
       "<title>hgn</title>\n",
       "<polygon fill=\"#ffffff\" stroke=\"transparent\" points=\"-4,4 -4,-910.0593 174.2798,-910.0593 174.2798,4 -4,4\"/>\n",
       "<!-- 1 -->\n",
       "<g id=\"node1\" class=\"node\">\n",
       "<title>1</title>\n",
       "<ellipse fill=\"none\" stroke=\"#000000\" cx=\"85.1399\" cy=\"-40.1824\" rx=\"40.3656\" ry=\"40.3656\"/>\n",
       "<text text-anchor=\"middle\" x=\"85.1399\" y=\"-35.9824\" font-family=\"Times,serif\" font-size=\"14.00\" fill=\"#000000\">@1 (+5)</text>\n",
       "</g>\n",
       "<!-- 2 -->\n",
       "<g id=\"node2\" class=\"node\">\n",
       "<title>2</title>\n",
       "<ellipse fill=\"none\" stroke=\"#000000\" cx=\"85.1399\" cy=\"-146.3607\" rx=\"29.992\" ry=\"29.992\"/>\n",
       "<text text-anchor=\"middle\" x=\"85.1399\" y=\"-142.1607\" font-family=\"Times,serif\" font-size=\"14.00\" fill=\"#000000\">2 (&#45;4)</text>\n",
       "</g>\n",
       "<!-- 2&#45;&gt;1 -->\n",
       "<g id=\"edge1\" class=\"edge\">\n",
       "<title>2&#45;&gt;1</title>\n",
       "<path fill=\"none\" stroke=\"#000000\" d=\"M85.1399,-116.2183C85.1399,-108.2862 85.1399,-99.5079 85.1399,-90.8175\"/>\n",
       "<polygon fill=\"#000000\" stroke=\"#000000\" points=\"88.64,-90.712 85.1399,-80.712 81.64,-90.712 88.64,-90.712\"/>\n",
       "</g>\n",
       "<!-- 3 -->\n",
       "<g id=\"node3\" class=\"node\">\n",
       "<title>3</title>\n",
       "<ellipse fill=\"none\" stroke=\"#000000\" cx=\"85.1399\" cy=\"-244.3952\" rx=\"32.0769\" ry=\"32.0769\"/>\n",
       "<text text-anchor=\"middle\" x=\"85.1399\" y=\"-240.1952\" font-family=\"Times,serif\" font-size=\"14.00\" fill=\"#000000\">3 (+4)</text>\n",
       "</g>\n",
       "<!-- 3&#45;&gt;2 -->\n",
       "<g id=\"edge2\" class=\"edge\">\n",
       "<title>3&#45;&gt;2</title>\n",
       "<path fill=\"none\" stroke=\"#000000\" d=\"M78.7858,-212.8368C78.3829,-204.3078 78.2875,-194.9676 78.4996,-186.0544\"/>\n",
       "<polygon fill=\"#000000\" stroke=\"#000000\" points=\"82.0046,-185.9881 78.8899,-175.8615 75.0098,-185.7203 82.0046,-185.9881\"/>\n",
       "</g>\n",
       "<!-- 3&#45;&gt;2 -->\n",
       "<g id=\"edge3\" class=\"edge\">\n",
       "<title>3&#45;&gt;2</title>\n",
       "<path fill=\"none\" stroke=\"#000000\" d=\"M91.494,-212.8368C91.8969,-204.3078 91.9923,-194.9676 91.7802,-186.0544\"/>\n",
       "<polygon fill=\"#000000\" stroke=\"#000000\" points=\"95.2701,-185.7203 91.39,-175.8615 88.2752,-185.9881 95.2701,-185.7203\"/>\n",
       "</g>\n",
       "<!-- 4 -->\n",
       "<g id=\"node4\" class=\"node\">\n",
       "<title>4</title>\n",
       "<ellipse fill=\"none\" stroke=\"#000000\" cx=\"38.1399\" cy=\"-350.5735\" rx=\"38.2803\" ry=\"38.2803\"/>\n",
       "<text text-anchor=\"middle\" x=\"38.1399\" y=\"-346.3735\" font-family=\"Times,serif\" font-size=\"14.00\" fill=\"#000000\">@4 (&#45;3)</text>\n",
       "</g>\n",
       "<!-- 4&#45;&gt;3 -->\n",
       "<g id=\"edge4\" class=\"edge\">\n",
       "<title>4&#45;&gt;3</title>\n",
       "<path fill=\"none\" stroke=\"#000000\" d=\"M53.6597,-315.5125C58.2454,-305.153 63.291,-293.7543 67.974,-283.1749\"/>\n",
       "<polygon fill=\"#000000\" stroke=\"#000000\" points=\"71.3019,-284.3036 72.1492,-273.7427 64.901,-281.4702 71.3019,-284.3036\"/>\n",
       "</g>\n",
       "<!-- 5 -->\n",
       "<g id=\"node5\" class=\"node\">\n",
       "<title>5</title>\n",
       "<ellipse fill=\"none\" stroke=\"#000000\" cx=\"132.1399\" cy=\"-350.5735\" rx=\"38.2803\" ry=\"38.2803\"/>\n",
       "<text text-anchor=\"middle\" x=\"132.1399\" y=\"-346.3735\" font-family=\"Times,serif\" font-size=\"14.00\" fill=\"#000000\">@5 (&#45;3)</text>\n",
       "</g>\n",
       "<!-- 5&#45;&gt;3 -->\n",
       "<g id=\"edge5\" class=\"edge\">\n",
       "<title>5&#45;&gt;3</title>\n",
       "<path fill=\"none\" stroke=\"#000000\" d=\"M116.6201,-315.5125C112.0345,-305.153 106.9888,-293.7543 102.3058,-283.1749\"/>\n",
       "<polygon fill=\"#000000\" stroke=\"#000000\" points=\"105.3789,-281.4702 98.1307,-273.7427 98.9779,-284.3036 105.3789,-281.4702\"/>\n",
       "</g>\n",
       "<!-- 6 -->\n",
       "<g id=\"node6\" class=\"node\">\n",
       "<title>6</title>\n",
       "<ellipse fill=\"none\" stroke=\"#000000\" cx=\"85.1399\" cy=\"-464.8958\" rx=\"40.3656\" ry=\"40.3656\"/>\n",
       "<text text-anchor=\"middle\" x=\"85.1399\" y=\"-460.6958\" font-family=\"Times,serif\" font-size=\"14.00\" fill=\"#000000\">@6 (+2)</text>\n",
       "</g>\n",
       "<!-- 6&#45;&gt;4 -->\n",
       "<g id=\"edge6\" class=\"edge\">\n",
       "<title>6&#45;&gt;4</title>\n",
       "<path fill=\"none\" stroke=\"#000000\" d=\"M69.7504,-427.4624C65.5689,-417.2916 60.997,-406.1709 56.662,-395.6264\"/>\n",
       "<polygon fill=\"#000000\" stroke=\"#000000\" points=\"59.805,-394.0665 52.7654,-386.1485 53.3308,-396.7282 59.805,-394.0665\"/>\n",
       "</g>\n",
       "<!-- 6&#45;&gt;5 -->\n",
       "<g id=\"edge7\" class=\"edge\">\n",
       "<title>6&#45;&gt;5</title>\n",
       "<path fill=\"none\" stroke=\"#000000\" d=\"M100.5295,-427.4624C104.7109,-417.2916 109.2828,-406.1709 113.6178,-395.6264\"/>\n",
       "<polygon fill=\"#000000\" stroke=\"#000000\" points=\"116.9491,-396.7282 117.5144,-386.1485 110.4748,-394.0665 116.9491,-396.7282\"/>\n",
       "</g>\n",
       "<!-- 7 -->\n",
       "<g id=\"node7\" class=\"node\">\n",
       "<title>7</title>\n",
       "<ellipse fill=\"none\" stroke=\"#000000\" cx=\"85.1399\" cy=\"-571.0742\" rx=\"29.992\" ry=\"29.992\"/>\n",
       "<text text-anchor=\"middle\" x=\"85.1399\" y=\"-566.8742\" font-family=\"Times,serif\" font-size=\"14.00\" fill=\"#000000\">7 (&#45;1)</text>\n",
       "</g>\n",
       "<!-- 7&#45;&gt;6 -->\n",
       "<g id=\"edge8\" class=\"edge\">\n",
       "<title>7&#45;&gt;6</title>\n",
       "<path fill=\"none\" stroke=\"#000000\" d=\"M85.1399,-540.9317C85.1399,-532.9997 85.1399,-524.2214 85.1399,-515.5309\"/>\n",
       "<polygon fill=\"#000000\" stroke=\"#000000\" points=\"88.64,-515.4254 85.1399,-505.4254 81.64,-515.4255 88.64,-515.4254\"/>\n",
       "</g>\n",
       "<!-- 8 -->\n",
       "<g id=\"node8\" class=\"node\">\n",
       "<title>8</title>\n",
       "<ellipse fill=\"none\" stroke=\"#000000\" cx=\"85.1399\" cy=\"-669.1086\" rx=\"32.0769\" ry=\"32.0769\"/>\n",
       "<text text-anchor=\"middle\" x=\"85.1399\" y=\"-664.9086\" font-family=\"Times,serif\" font-size=\"14.00\" fill=\"#000000\">8 (+1)</text>\n",
       "</g>\n",
       "<!-- 8&#45;&gt;7 -->\n",
       "<g id=\"edge9\" class=\"edge\">\n",
       "<title>8&#45;&gt;7</title>\n",
       "<path fill=\"none\" stroke=\"#000000\" d=\"M78.7858,-637.5503C78.3829,-629.0213 78.2875,-619.681 78.4996,-610.7679\"/>\n",
       "<polygon fill=\"#000000\" stroke=\"#000000\" points=\"82.0046,-610.7016 78.8899,-600.575 75.0098,-610.4337 82.0046,-610.7016\"/>\n",
       "</g>\n",
       "<!-- 8&#45;&gt;7 -->\n",
       "<g id=\"edge10\" class=\"edge\">\n",
       "<title>8&#45;&gt;7</title>\n",
       "<path fill=\"none\" stroke=\"#000000\" d=\"M91.494,-637.5503C91.8969,-629.0213 91.9923,-619.681 91.7802,-610.7679\"/>\n",
       "<polygon fill=\"#000000\" stroke=\"#000000\" points=\"95.2701,-610.4337 91.39,-600.575 88.2752,-610.7016 95.2701,-610.4337\"/>\n",
       "</g>\n",
       "<!-- 9 -->\n",
       "<g id=\"node9\" class=\"node\">\n",
       "<title>9</title>\n",
       "<ellipse fill=\"none\" stroke=\"#000000\" cx=\"85.1399\" cy=\"-767.143\" rx=\"29.992\" ry=\"29.992\"/>\n",
       "<text text-anchor=\"middle\" x=\"85.1399\" y=\"-762.943\" font-family=\"Times,serif\" font-size=\"14.00\" fill=\"#000000\">9 (&#45;0)</text>\n",
       "</g>\n",
       "<!-- 9&#45;&gt;8 -->\n",
       "<g id=\"edge11\" class=\"edge\">\n",
       "<title>9&#45;&gt;8</title>\n",
       "<path fill=\"none\" stroke=\"#000000\" d=\"M85.1399,-736.9295C85.1399,-728.9301 85.1399,-720.1432 85.1399,-711.6231\"/>\n",
       "<polygon fill=\"#000000\" stroke=\"#000000\" points=\"88.64,-711.4337 85.1399,-701.4337 81.64,-711.4337 88.64,-711.4337\"/>\n",
       "</g>\n",
       "<!-- 10 -->\n",
       "<g id=\"node10\" class=\"node\">\n",
       "<title>10</title>\n",
       "<ellipse fill=\"none\" stroke=\"#000000\" cx=\"85.1399\" cy=\"-869.5992\" rx=\"36.4204\" ry=\"36.4204\"/>\n",
       "<text text-anchor=\"middle\" x=\"85.1399\" y=\"-865.3992\" font-family=\"Times,serif\" font-size=\"14.00\" fill=\"#000000\">10 (+0)</text>\n",
       "</g>\n",
       "<!-- 10&#45;&gt;9 -->\n",
       "<g id=\"edge12\" class=\"edge\">\n",
       "<title>10&#45;&gt;9</title>\n",
       "<path fill=\"none\" stroke=\"#000000\" d=\"M78.6578,-833.477C78.3409,-824.781 78.3052,-815.4473 78.5506,-806.6077\"/>\n",
       "<polygon fill=\"#000000\" stroke=\"#000000\" points=\"82.0513,-806.6616 78.968,-796.5254 75.0573,-806.372 82.0513,-806.6616\"/>\n",
       "</g>\n",
       "<!-- 10&#45;&gt;9 -->\n",
       "<g id=\"edge13\" class=\"edge\">\n",
       "<title>10&#45;&gt;9</title>\n",
       "<path fill=\"none\" stroke=\"#000000\" d=\"M91.622,-833.477C91.939,-824.781 91.9747,-815.4473 91.7292,-806.6077\"/>\n",
       "<polygon fill=\"#000000\" stroke=\"#000000\" points=\"95.2225,-806.372 91.3118,-796.5254 88.2285,-806.6616 95.2225,-806.372\"/>\n",
       "</g>\n",
       "</g>\n",
       "</svg>\n"
      ]
     },
     "metadata": {},
     "output_type": "display_data"
    }
   ],
   "source": [
    "VisualizeInJulia( im, all = true )"
   ]
  },
  {
   "cell_type": "code",
   "execution_count": null,
   "metadata": {},
   "outputs": [],
   "source": []
  }
 ],
 "metadata": {
  "@webio": {
   "lastCommId": null,
   "lastKernelId": null
  },
  "celltoolbar": "Slideshow",
  "kernelspec": {
   "display_name": "Julia 1.2.0",
   "language": "julia",
   "name": "julia-1.2"
  },
  "language_info": {
   "file_extension": ".jl",
   "mimetype": "application/julia",
   "name": "julia",
   "version": "1.2.0"
  }
 },
 "nbformat": 4,
 "nbformat_minor": 2
}
