{
 "cells": [
  {
   "cell_type": "markdown",
   "id": "5dd5d895",
   "metadata": {},
   "source": [
    "[![Binder](https://mybinder.org/badge_logo.svg)](https://gesis.mybinder.org/v2/gh/homalg-project/CapAndHomalgNotebooks/master?urlpath=git-pull%3Frepo%3Dhttps%253A%252F%252Fgithub.com%252Fhomalg-project%252FFunctorCategories%26urlpath%3Dtree%252FFunctorCategories%252Fexamples%252F%252Fnotebooks%252FLogicInToposOfFinQuivers.ipynb%26branch%3Dmaster)"
   ]
  },
  {
   "cell_type": "markdown",
   "id": "cf91b7e3",
   "metadata": {},
   "source": [
    "## The topos of finite quivers\n",
    "\n",
    "This notebook demonstrates computations in the (elementary) topos of finite quivers which is modeled here as a presheaf topos.\n",
    "\n",
    "The code is far from optimized and not yet compiled.\n",
    "\n",
    "Any presheaf topos is a bi-Heyting topos. We did not yet implement the co-Heyting structure on the subobject lattices. In particular, the notebook does not treat complements $S \\setminus T$, Lawvere's non-$S$ operation $\\sim\\!\\! S$, or modalities. These are treated in the nice blog post of Myers and Patterson cited below.\n",
    "\n",
    "1. Marie La Palme Reyes, Gonzalo E. Reyes, and Houman Zolfaghari, [Generic figures and their glueings: A constructive approach to functor categories](https://marieetgonzalo.files.wordpress.com/2004/06/generic-figures.pdf), 2004.\n",
    "2. Blog post by David Jaz Myers and Evan Patterson, [Graphs and C-sets IV: The propositional logic of subgraphs and sub-C-sets](https://www.algebraicjulia.org/blog/post/2021/09/cset-graphs-4/), September 23, 2021."
   ]
  },
  {
   "cell_type": "code",
   "execution_count": 1,
   "id": "bf2d1770",
   "metadata": {},
   "outputs": [
    {
     "name": "stdout",
     "output_type": "stream",
     "text": [
      "CapAndHomalg v\u001b[32m1.4.2\u001b[39m\n",
      "Imported OSCAR's components GAP and Singular_jll\n",
      "Type: ?CapAndHomalg for more information\n"
     ]
    }
   ],
   "source": [
    "using CapAndHomalg"
   ]
  },
  {
   "cell_type": "code",
   "execution_count": 2,
   "id": "2bde6e16",
   "metadata": {},
   "outputs": [],
   "source": [
    "LoadPackage( \"FunctorCategories\" )"
   ]
  },
  {
   "cell_type": "markdown",
   "id": "ae0ba593",
   "metadata": {},
   "source": [
    "The category $\\mathbf{FinQuivers}$ of finite quivers:"
   ]
  },
  {
   "cell_type": "code",
   "execution_count": 3,
   "id": "34b2dbcc",
   "metadata": {},
   "outputs": [
    {
     "data": {
      "text/plain": [
       "GAP: CategoryOfQuiversEnrichedOver( SkeletalFinSets )"
      ]
     },
     "execution_count": 3,
     "metadata": {},
     "output_type": "execute_result"
    }
   ],
   "source": [
    "FinQuivers"
   ]
  },
  {
   "cell_type": "markdown",
   "id": "a46fd2fc",
   "metadata": {},
   "source": [
    "The category $\\mathbf{FinQuivers}$ is modeled as the finite (colimit) cocompletion of the category 𝐂 of **abstract generic figures**:"
   ]
  },
  {
   "cell_type": "code",
   "execution_count": 4,
   "id": "fb924b49",
   "metadata": {},
   "outputs": [
    {
     "data": {
      "text/plain": [
       "GAP: FreeCategory( RightQuiver( \"q(V,A)[s:V->A,t:V->A]\" ) )"
      ]
     },
     "execution_count": 4,
     "metadata": {},
     "output_type": "execute_result"
    }
   ],
   "source": [
    "C = UnderlyingCategory( FinQuivers )"
   ]
  },
  {
   "cell_type": "markdown",
   "id": "30244ff0",
   "metadata": {},
   "source": [
    "The category $\\mathbf{FinQuivers}$ is as a finite (colimit) cocompletion of $\\mathbf{C}$, itself modeled as the **presheaf topos** with values in $\\mathbf{SkeletalFinSets}$:\n",
    "\n",
    "$$\\mathbf{PreSheaves}(\\mathbf{C},\\mathbf{SkeletalFinSets}) = \\mathbf{FunctorCategory}(\\mathbf{C}^\\mathrm{op},\\mathbf{SkeletalFinSets})$$"
   ]
  },
  {
   "cell_type": "code",
   "execution_count": 5,
   "id": "f76dac9b",
   "metadata": {},
   "outputs": [
    {
     "data": {
      "text/plain": [
       "GAP: PreSheaves( FreeCategory( RightQuiver( \"q(V,A)[s:V->A,t:V->A]\" ) ), SkeletalFinSets )"
      ]
     },
     "execution_count": 5,
     "metadata": {},
     "output_type": "execute_result"
    }
   ],
   "source": [
    "ModelingCategory( FinQuivers )"
   ]
  },
  {
   "cell_type": "markdown",
   "id": "8a369fcd",
   "metadata": {},
   "source": [
    "We call the objects of $\\mathbf{C}$ the **abstract generic figures**:"
   ]
  },
  {
   "cell_type": "markdown",
   "id": "fee06d65",
   "metadata": {},
   "source": [
    "The object $V \\in \\mathbf{C}$ is referred to as the abstract generic figure named \"*the vertex*\":"
   ]
  },
  {
   "cell_type": "code",
   "execution_count": 6,
   "id": "44a7ac99",
   "metadata": {},
   "outputs": [
    {
     "data": {
      "text/plain": [
       "GAP: <(V)>"
      ]
     },
     "execution_count": 6,
     "metadata": {},
     "output_type": "execute_result"
    }
   ],
   "source": [
    "C.V"
   ]
  },
  {
   "cell_type": "markdown",
   "id": "585babeb",
   "metadata": {},
   "source": [
    "The object $A \\in \\mathbf{C}$ is referred to as the abstract generic figure named \"*the arrow*\":"
   ]
  },
  {
   "cell_type": "code",
   "execution_count": 7,
   "id": "b52d79da",
   "metadata": {},
   "outputs": [
    {
     "data": {
      "text/plain": [
       "GAP: <(A)>"
      ]
     },
     "execution_count": 7,
     "metadata": {},
     "output_type": "execute_result"
    }
   ],
   "source": [
    "C.A"
   ]
  },
  {
   "cell_type": "markdown",
   "id": "57ce4bef",
   "metadata": {},
   "source": [
    "We call the morphisms of $\\mathbf{C}$ the **abstract actions** (or the **abstract change of figures**):"
   ]
  },
  {
   "cell_type": "markdown",
   "id": "f8bd5913",
   "metadata": {},
   "source": [
    "The morphsim $s \\in \\mathbf{C}$ is referred to as the abstract action named \"*source*\":"
   ]
  },
  {
   "cell_type": "code",
   "execution_count": 8,
   "id": "cd36075d",
   "metadata": {},
   "outputs": [
    {
     "data": {
      "text/plain": [
       "GAP: (V)-[(s)]->(A)"
      ]
     },
     "execution_count": 8,
     "metadata": {},
     "output_type": "execute_result"
    }
   ],
   "source": [
    "C.s"
   ]
  },
  {
   "cell_type": "markdown",
   "id": "77760eba",
   "metadata": {},
   "source": [
    "The morphsim $t \\in \\mathbf{C}$ is referred to as the abstract action named \"*target*\":"
   ]
  },
  {
   "cell_type": "code",
   "execution_count": 9,
   "id": "2e2dc391",
   "metadata": {},
   "outputs": [
    {
     "data": {
      "text/plain": [
       "GAP: (V)-[(t)]->(A)"
      ]
     },
     "execution_count": 9,
     "metadata": {},
     "output_type": "execute_result"
    }
   ],
   "source": [
    "C.t"
   ]
  },
  {
   "cell_type": "markdown",
   "id": "33b1f157",
   "metadata": {},
   "source": [
    "---\n",
    "The Yoneda functor $Y$ is a full embedding of the category $\\mathbf{C}$ of abstract generic figures into the presheaf topos $\\mathbf{FinQuivers}$.\n",
    "The images of the objects in $\\mathbf{C}$ under $Y$ are called the **generic figures** of the presheaf topos:"
   ]
  },
  {
   "cell_type": "markdown",
   "id": "06ebdd35",
   "metadata": {},
   "source": [
    "The image of the abstract generic figure $V \\in \\mathbf{C}$ under $Y$ is the generic figure $V \\in \\mathbf{FinQuivers}$, again called \"*the vertex*\":"
   ]
  },
  {
   "cell_type": "code",
   "execution_count": 10,
   "id": "17b1cbfe",
   "metadata": {},
   "outputs": [
    {
     "data": {
      "image/svg+xml": [
       "<?xml version=\"1.0\" encoding=\"UTF-8\" standalone=\"no\"?>\n",
       "<!DOCTYPE svg PUBLIC \"-//W3C//DTD SVG 1.1//EN\"\n",
       " \"http://www.w3.org/Graphics/SVG/1.1/DTD/svg11.dtd\">\n",
       "<!-- Generated by graphviz version 2.50.0 (20211204.2007)\n",
       " -->\n",
       "<!-- Title: quiver Pages: 1 -->\n",
       "<svg width=\"29pt\" height=\"29pt\"\n",
       " viewBox=\"0.00 0.00 29.21 29.21\" xmlns=\"http://www.w3.org/2000/svg\" xmlns:xlink=\"http://www.w3.org/1999/xlink\">\n",
       "<g id=\"graph0\" class=\"graph\" transform=\"scale(1 1) rotate(0) translate(4 25.21)\">\n",
       "<title>quiver</title>\n",
       "<polygon fill=\"white\" stroke=\"transparent\" points=\"-4,4 -4,-25.21 25.21,-25.21 25.21,4 -4,4\"/>\n",
       "<!-- 0 -->\n",
       "<g id=\"node1\" class=\"node\">\n",
       "<title>0</title>\n",
       "<ellipse fill=\"none\" stroke=\"black\" cx=\"10.61\" cy=\"-10.61\" rx=\"10.71\" ry=\"10.71\"/>\n",
       "<text text-anchor=\"middle\" x=\"10.61\" y=\"-7.51\" font-family=\"DejaVu Serif,serif\" font-size=\"12.00\">0</text>\n",
       "</g>\n",
       "</g>\n",
       "</svg>\n"
      ],
      "text/plain": [
       "GAP: <A projective object in CategoryOfQuiversEnrichedOver( SkeletalFinSets )>"
      ]
     },
     "execution_count": 10,
     "metadata": {},
     "output_type": "execute_result"
    }
   ],
   "source": [
    "V = FinQuivers.V"
   ]
  },
  {
   "cell_type": "markdown",
   "id": "e46f6f11",
   "metadata": {},
   "source": [
    "The image of the abstract generic figure $A \\in \\mathbf{C}$ under $Y$ is the generic figure $A \\in \\mathbf{FinQuivers}$, again called \"*the arrow*\":"
   ]
  },
  {
   "cell_type": "code",
   "execution_count": 11,
   "id": "aac1a6ab",
   "metadata": {},
   "outputs": [
    {
     "data": {
      "image/svg+xml": [
       "<?xml version=\"1.0\" encoding=\"UTF-8\" standalone=\"no\"?>\n",
       "<!DOCTYPE svg PUBLIC \"-//W3C//DTD SVG 1.1//EN\"\n",
       " \"http://www.w3.org/Graphics/SVG/1.1/DTD/svg11.dtd\">\n",
       "<!-- Generated by graphviz version 2.50.0 (20211204.2007)\n",
       " -->\n",
       "<!-- Title: quiver Pages: 1 -->\n",
       "<svg width=\"93pt\" height=\"30pt\"\n",
       " viewBox=\"0.00 0.00 93.43 29.61\" xmlns=\"http://www.w3.org/2000/svg\" xmlns:xlink=\"http://www.w3.org/1999/xlink\">\n",
       "<g id=\"graph0\" class=\"graph\" transform=\"scale(1 1) rotate(0) translate(4 25.61)\">\n",
       "<title>quiver</title>\n",
       "<polygon fill=\"white\" stroke=\"transparent\" points=\"-4,4 -4,-25.61 89.43,-25.61 89.43,4 -4,4\"/>\n",
       "<!-- 0 -->\n",
       "<g id=\"node1\" class=\"node\">\n",
       "<title>0</title>\n",
       "<ellipse fill=\"none\" stroke=\"black\" cx=\"10.61\" cy=\"-10.61\" rx=\"10.71\" ry=\"10.71\"/>\n",
       "<text text-anchor=\"middle\" x=\"10.61\" y=\"-7.51\" font-family=\"DejaVu Serif,serif\" font-size=\"12.00\">0</text>\n",
       "</g>\n",
       "<!-- 1 -->\n",
       "<g id=\"node2\" class=\"node\">\n",
       "<title>1</title>\n",
       "<ellipse fill=\"none\" stroke=\"black\" cx=\"74.82\" cy=\"-10.61\" rx=\"10.71\" ry=\"10.71\"/>\n",
       "<text text-anchor=\"middle\" x=\"74.82\" y=\"-7.51\" font-family=\"DejaVu Serif,serif\" font-size=\"12.00\">1</text>\n",
       "</g>\n",
       "<!-- 0&#45;&gt;1 -->\n",
       "<g id=\"edge1\" class=\"edge\">\n",
       "<title>0&#45;&gt;1</title>\n",
       "<path fill=\"none\" stroke=\"black\" d=\"M21.33,-10.61C31.4,-10.61 47.28,-10.61 58.94,-10.61\"/>\n",
       "<polygon fill=\"black\" stroke=\"black\" points=\"58.96,-12.36 63.96,-10.61 58.96,-8.86 58.96,-12.36\"/>\n",
       "<text text-anchor=\"middle\" x=\"42.71\" y=\"-13.61\" font-family=\"DejaVu Serif,serif\" font-size=\"10.00\">0</text>\n",
       "</g>\n",
       "</g>\n",
       "</svg>\n"
      ],
      "text/plain": [
       "GAP: <A projective object in CategoryOfQuiversEnrichedOver( SkeletalFinSets )>"
      ]
     },
     "execution_count": 11,
     "metadata": {},
     "output_type": "execute_result"
    }
   ],
   "source": [
    "A = FinQuivers.A"
   ]
  },
  {
   "cell_type": "markdown",
   "id": "c74e96a3",
   "metadata": {},
   "source": [
    "The images of of the abstract actions in $\\mathbf{C}$ under the Yoneda embedding $Y$ are called the **actions** of the presheaf topos:"
   ]
  },
  {
   "cell_type": "markdown",
   "id": "156e0fc6",
   "metadata": {},
   "source": [
    "The image of the abstract action $s \\in C$ under $Y$ is the action $s \\in \\mathbf{FinQuivers}$, again called \"*source*\":"
   ]
  },
  {
   "cell_type": "code",
   "execution_count": 12,
   "id": "44c4db27",
   "metadata": {},
   "outputs": [
    {
     "data": {
      "image/svg+xml": [
       "<?xml version=\"1.0\" encoding=\"UTF-8\" standalone=\"no\"?>\n",
       "<!DOCTYPE svg PUBLIC \"-//W3C//DTD SVG 1.1//EN\"\n",
       " \"http://www.w3.org/Graphics/SVG/1.1/DTD/svg11.dtd\">\n",
       "<!-- Generated by graphviz version 2.50.0 (20211204.2007)\n",
       " -->\n",
       "<!-- Title: subquiver Pages: 1 -->\n",
       "<svg width=\"93pt\" height=\"30pt\"\n",
       " viewBox=\"0.00 0.00 93.43 29.61\" xmlns=\"http://www.w3.org/2000/svg\" xmlns:xlink=\"http://www.w3.org/1999/xlink\">\n",
       "<g id=\"graph0\" class=\"graph\" transform=\"scale(1 1) rotate(0) translate(4 25.61)\">\n",
       "<title>subquiver</title>\n",
       "<polygon fill=\"white\" stroke=\"transparent\" points=\"-4,4 -4,-25.61 89.43,-25.61 89.43,4 -4,4\"/>\n",
       "<!-- 0 -->\n",
       "<g id=\"node1\" class=\"node\">\n",
       "<title>0</title>\n",
       "<ellipse fill=\"none\" stroke=\"black\" cx=\"10.61\" cy=\"-10.61\" rx=\"10.71\" ry=\"10.71\"/>\n",
       "<text text-anchor=\"middle\" x=\"10.61\" y=\"-7.51\" font-family=\"DejaVu Serif,serif\" font-size=\"12.00\">0</text>\n",
       "</g>\n",
       "<!-- 1 -->\n",
       "<g id=\"node2\" class=\"node\">\n",
       "<title>1</title>\n",
       "<ellipse fill=\"none\" stroke=\"#c1cdcd\" cx=\"74.82\" cy=\"-10.61\" rx=\"10.71\" ry=\"10.71\"/>\n",
       "<text text-anchor=\"middle\" x=\"74.82\" y=\"-7.51\" font-family=\"DejaVu Serif,serif\" font-size=\"12.00\" fill=\"#c1cdcd\">1</text>\n",
       "</g>\n",
       "<!-- 0&#45;&gt;1 -->\n",
       "<g id=\"edge1\" class=\"edge\">\n",
       "<title>0&#45;&gt;1</title>\n",
       "<path fill=\"none\" stroke=\"#c1cdcd\" d=\"M21.33,-10.61C31.4,-10.61 47.28,-10.61 58.94,-10.61\"/>\n",
       "<polygon fill=\"#c1cdcd\" stroke=\"#c1cdcd\" points=\"58.96,-12.36 63.96,-10.61 58.96,-8.86 58.96,-12.36\"/>\n",
       "<text text-anchor=\"middle\" x=\"42.71\" y=\"-13.61\" font-family=\"DejaVu Serif,serif\" font-size=\"10.00\" fill=\"#c1cdcd\">0</text>\n",
       "</g>\n",
       "</g>\n",
       "</svg>\n"
      ],
      "text/plain": [
       "GAP: <A monomorphism in CategoryOfQuiversEnrichedOver( SkeletalFinSets )>"
      ]
     },
     "execution_count": 12,
     "metadata": {},
     "output_type": "execute_result"
    }
   ],
   "source": [
    "s = FinQuivers.s"
   ]
  },
  {
   "cell_type": "markdown",
   "id": "ecc914a0",
   "metadata": {},
   "source": [
    "The image of the abstract action $t \\in C$ under $Y$ is the action $t \\in \\mathbf{FinQuivers}$, again called \"*target*\":"
   ]
  },
  {
   "cell_type": "code",
   "execution_count": 13,
   "id": "cf4e4072",
   "metadata": {},
   "outputs": [
    {
     "data": {
      "image/svg+xml": [
       "<?xml version=\"1.0\" encoding=\"UTF-8\" standalone=\"no\"?>\n",
       "<!DOCTYPE svg PUBLIC \"-//W3C//DTD SVG 1.1//EN\"\n",
       " \"http://www.w3.org/Graphics/SVG/1.1/DTD/svg11.dtd\">\n",
       "<!-- Generated by graphviz version 2.50.0 (20211204.2007)\n",
       " -->\n",
       "<!-- Title: subquiver Pages: 1 -->\n",
       "<svg width=\"93pt\" height=\"30pt\"\n",
       " viewBox=\"0.00 0.00 93.43 29.61\" xmlns=\"http://www.w3.org/2000/svg\" xmlns:xlink=\"http://www.w3.org/1999/xlink\">\n",
       "<g id=\"graph0\" class=\"graph\" transform=\"scale(1 1) rotate(0) translate(4 25.61)\">\n",
       "<title>subquiver</title>\n",
       "<polygon fill=\"white\" stroke=\"transparent\" points=\"-4,4 -4,-25.61 89.43,-25.61 89.43,4 -4,4\"/>\n",
       "<!-- 0 -->\n",
       "<g id=\"node1\" class=\"node\">\n",
       "<title>0</title>\n",
       "<ellipse fill=\"none\" stroke=\"#c1cdcd\" cx=\"10.61\" cy=\"-10.61\" rx=\"10.71\" ry=\"10.71\"/>\n",
       "<text text-anchor=\"middle\" x=\"10.61\" y=\"-7.51\" font-family=\"DejaVu Serif,serif\" font-size=\"12.00\" fill=\"#c1cdcd\">0</text>\n",
       "</g>\n",
       "<!-- 1 -->\n",
       "<g id=\"node2\" class=\"node\">\n",
       "<title>1</title>\n",
       "<ellipse fill=\"none\" stroke=\"black\" cx=\"74.82\" cy=\"-10.61\" rx=\"10.71\" ry=\"10.71\"/>\n",
       "<text text-anchor=\"middle\" x=\"74.82\" y=\"-7.51\" font-family=\"DejaVu Serif,serif\" font-size=\"12.00\">1</text>\n",
       "</g>\n",
       "<!-- 0&#45;&gt;1 -->\n",
       "<g id=\"edge1\" class=\"edge\">\n",
       "<title>0&#45;&gt;1</title>\n",
       "<path fill=\"none\" stroke=\"#c1cdcd\" d=\"M21.33,-10.61C31.4,-10.61 47.28,-10.61 58.94,-10.61\"/>\n",
       "<polygon fill=\"#c1cdcd\" stroke=\"#c1cdcd\" points=\"58.96,-12.36 63.96,-10.61 58.96,-8.86 58.96,-12.36\"/>\n",
       "<text text-anchor=\"middle\" x=\"42.71\" y=\"-13.61\" font-family=\"DejaVu Serif,serif\" font-size=\"10.00\" fill=\"#c1cdcd\">0</text>\n",
       "</g>\n",
       "</g>\n",
       "</svg>\n"
      ],
      "text/plain": [
       "GAP: <A monomorphism in CategoryOfQuiversEnrichedOver( SkeletalFinSets )>"
      ]
     },
     "execution_count": 13,
     "metadata": {},
     "output_type": "execute_result"
    }
   ],
   "source": [
    "t = FinQuivers.t"
   ]
  },
  {
   "cell_type": "markdown",
   "id": "5a4994f0",
   "metadata": {},
   "source": [
    "The generic figures $V$ and $A$ are constructed as *presheaves* $\\mathbf{C}^\\mathrm{op} \\to \\mathbf{SkeletalFinSets}$ with the following internal data:"
   ]
  },
  {
   "cell_type": "code",
   "execution_count": 14,
   "id": "8759cab6",
   "metadata": {},
   "outputs": [
    {
     "name": "stdout",
     "output_type": "stream",
     "text": [
      "Image of <(V)>:\n",
      "{ 0 }\n",
      "\n",
      "Image of <(A)>:\n",
      "∅\n",
      "\n",
      "Image of (A)-[(s)]->(V):\n",
      "∅ ⱶ[  ]→ { 0 }\n",
      "\n",
      "Image of (A)-[(t)]->(V):\n",
      "∅ ⱶ[  ]→ { 0 }\n",
      "\n",
      "An object in PreSheaves( FreeCategory( RightQuiver( \"q(V,A)[s:V->A,t:V->A]\" ) ), SkeletalFinSets ) given by the above data\n",
      "\n",
      "An object in CategoryOfQuiversEnrichedOver( SkeletalFinSets ) given by the above data\n"
     ]
    }
   ],
   "source": [
    "Display( V )"
   ]
  },
  {
   "cell_type": "code",
   "execution_count": 15,
   "id": "8ce4511c",
   "metadata": {},
   "outputs": [
    {
     "name": "stdout",
     "output_type": "stream",
     "text": [
      "Image of <(V)>:\n",
      "{ 0, 1 }\n",
      "\n",
      "Image of <(A)>:\n",
      "{ 0 }\n",
      "\n",
      "Image of (A)-[(s)]->(V):\n",
      "{ 0 } ⱶ[ 0 ]→ { 0, 1 }\n",
      "\n",
      "Image of (A)-[(t)]->(V):\n",
      "{ 0 } ⱶ[ 1 ]→ { 0, 1 }\n",
      "\n",
      "An object in PreSheaves( FreeCategory( RightQuiver( \"q(V,A)[s:V->A,t:V->A]\" ) ), SkeletalFinSets ) given by the above data\n",
      "\n",
      "An object in CategoryOfQuiversEnrichedOver( SkeletalFinSets ) given by the above data\n"
     ]
    }
   ],
   "source": [
    "Display( A )"
   ]
  },
  {
   "cell_type": "markdown",
   "id": "330af1ef",
   "metadata": {},
   "source": [
    "The actions $s$ and $t$ are constructed as *natural transformation* between the presheaves $V$ and $A$ with the following internal data:"
   ]
  },
  {
   "cell_type": "code",
   "execution_count": 16,
   "id": "16b21215",
   "metadata": {},
   "outputs": [
    {
     "name": "stdout",
     "output_type": "stream",
     "text": [
      "Image of <(V)>:\n",
      "{ 0 } ⱶ[ 0 ]→ { 0, 1 }\n",
      "\n",
      "Image of <(A)>:\n",
      "∅ ⱶ[  ]→ { 0 }\n",
      "\n",
      "A morphism in PreSheaves( FreeCategory( RightQuiver( \"q(V,A)[s:V->A,t:V->A]\" ) ), SkeletalFinSets ) given by the above data\n",
      "\n",
      "A morphism in CategoryOfQuiversEnrichedOver( SkeletalFinSets ) given by the above data\n"
     ]
    }
   ],
   "source": [
    "Display( s )"
   ]
  },
  {
   "cell_type": "code",
   "execution_count": 17,
   "id": "8fe248f3",
   "metadata": {},
   "outputs": [
    {
     "name": "stdout",
     "output_type": "stream",
     "text": [
      "Image of <(V)>:\n",
      "{ 0 } ⱶ[ 1 ]→ { 0, 1 }\n",
      "\n",
      "Image of <(A)>:\n",
      "∅ ⱶ[  ]→ { 0 }\n",
      "\n",
      "A morphism in PreSheaves( FreeCategory( RightQuiver( \"q(V,A)[s:V->A,t:V->A]\" ) ), SkeletalFinSets ) given by the above data\n",
      "\n",
      "A morphism in CategoryOfQuiversEnrichedOver( SkeletalFinSets ) given by the above data\n"
     ]
    }
   ],
   "source": [
    "Display( t )"
   ]
  },
  {
   "cell_type": "markdown",
   "id": "3bdbbc29",
   "metadata": {},
   "source": [
    "---\n",
    "As mentioned above, the topos $\\mathbf{FinQuivers}$ is the finite (colimit) cocompletion of $\\mathbf{C}$. Hence, all objects in $\\mathbf{FinQuivers}$ are colimits of diagrams in $\\mathbf{FinQuivers}$ only involving (copies of) the generic figures and the actions. One says, all objects in $\\mathbf{FinQuivers}$ can be constructed out of copies of generic figures glued togehter using the actions:"
   ]
  },
  {
   "cell_type": "markdown",
   "id": "1ab73a79",
   "metadata": {},
   "source": [
    "One can recover the loop by gluing the ends of the arrow $A$ to the same vertex $V$:"
   ]
  },
  {
   "cell_type": "code",
   "execution_count": 18,
   "id": "13f7c896",
   "metadata": {},
   "outputs": [
    {
     "data": {
      "image/svg+xml": [
       "<?xml version=\"1.0\" encoding=\"UTF-8\" standalone=\"no\"?>\n",
       "<!DOCTYPE svg PUBLIC \"-//W3C//DTD SVG 1.1//EN\"\n",
       " \"http://www.w3.org/Graphics/SVG/1.1/DTD/svg11.dtd\">\n",
       "<!-- Generated by graphviz version 2.50.0 (20211204.2007)\n",
       " -->\n",
       "<!-- Title: quiver Pages: 1 -->\n",
       "<svg width=\"29pt\" height=\"58pt\"\n",
       " viewBox=\"0.00 0.00 29.21 58.21\" xmlns=\"http://www.w3.org/2000/svg\" xmlns:xlink=\"http://www.w3.org/1999/xlink\">\n",
       "<g id=\"graph0\" class=\"graph\" transform=\"scale(1 1) rotate(0) translate(4 54.21)\">\n",
       "<title>quiver</title>\n",
       "<polygon fill=\"white\" stroke=\"transparent\" points=\"-4,4 -4,-54.21 25.21,-54.21 25.21,4 -4,4\"/>\n",
       "<!-- 0 -->\n",
       "<g id=\"node1\" class=\"node\">\n",
       "<title>0</title>\n",
       "<ellipse fill=\"none\" stroke=\"black\" cx=\"10.61\" cy=\"-10.61\" rx=\"10.71\" ry=\"10.71\"/>\n",
       "<text text-anchor=\"middle\" x=\"10.61\" y=\"-7.51\" font-family=\"DejaVu Serif,serif\" font-size=\"12.00\">0</text>\n",
       "</g>\n",
       "<!-- 0&#45;&gt;0 -->\n",
       "<g id=\"edge1\" class=\"edge\">\n",
       "<title>0&#45;&gt;0</title>\n",
       "<path fill=\"none\" stroke=\"black\" d=\"M7.48,-20.87C6.05,-29.78 7.09,-39.21 10.61,-39.21 13.46,-39.21 14.69,-32.99 14.28,-25.87\"/>\n",
       "<polygon fill=\"black\" stroke=\"black\" points=\"16.02,-25.65 13.74,-20.87 12.54,-26.03 16.02,-25.65\"/>\n",
       "<text text-anchor=\"middle\" x=\"10.61\" y=\"-42.21\" font-family=\"DejaVu Serif,serif\" font-size=\"10.00\">0</text>\n",
       "</g>\n",
       "</g>\n",
       "</svg>\n"
      ],
      "text/plain": [
       "GAP: <An object in CategoryOfQuiversEnrichedOver( SkeletalFinSets )>"
      ]
     },
     "execution_count": 18,
     "metadata": {},
     "output_type": "execute_result"
    }
   ],
   "source": [
    "Colimit( [ V,   # the 1st object is the generic figure V (\"the vertex\")\n",
    "           A ], # the 2nd object is the generic figure A (\"the arrow\")\n",
    "         [ [ 1, s, 2 ], [ 1, t, 2 ] # 1=V is the source and target of 2=A\n",
    "         ] )"
   ]
  },
  {
   "cell_type": "code",
   "execution_count": 19,
   "id": "65b9823f",
   "metadata": {},
   "outputs": [
    {
     "data": {
      "image/svg+xml": [
       "<?xml version=\"1.0\" encoding=\"UTF-8\" standalone=\"no\"?>\n",
       "<!DOCTYPE svg PUBLIC \"-//W3C//DTD SVG 1.1//EN\"\n",
       " \"http://www.w3.org/Graphics/SVG/1.1/DTD/svg11.dtd\">\n",
       "<!-- Generated by graphviz version 2.50.0 (20211204.2007)\n",
       " -->\n",
       "<!-- Title: quiver Pages: 1 -->\n",
       "<svg width=\"158pt\" height=\"30pt\"\n",
       " viewBox=\"0.00 0.00 157.64 29.61\" xmlns=\"http://www.w3.org/2000/svg\" xmlns:xlink=\"http://www.w3.org/1999/xlink\">\n",
       "<g id=\"graph0\" class=\"graph\" transform=\"scale(1 1) rotate(0) translate(4 25.61)\">\n",
       "<title>quiver</title>\n",
       "<polygon fill=\"white\" stroke=\"transparent\" points=\"-4,4 -4,-25.61 153.64,-25.61 153.64,4 -4,4\"/>\n",
       "<!-- 0 -->\n",
       "<g id=\"node1\" class=\"node\">\n",
       "<title>0</title>\n",
       "<ellipse fill=\"none\" stroke=\"black\" cx=\"10.61\" cy=\"-10.61\" rx=\"10.71\" ry=\"10.71\"/>\n",
       "<text text-anchor=\"middle\" x=\"10.61\" y=\"-7.51\" font-family=\"DejaVu Serif,serif\" font-size=\"12.00\">0</text>\n",
       "</g>\n",
       "<!-- 1 -->\n",
       "<g id=\"node2\" class=\"node\">\n",
       "<title>1</title>\n",
       "<ellipse fill=\"none\" stroke=\"black\" cx=\"74.82\" cy=\"-10.61\" rx=\"10.71\" ry=\"10.71\"/>\n",
       "<text text-anchor=\"middle\" x=\"74.82\" y=\"-7.51\" font-family=\"DejaVu Serif,serif\" font-size=\"12.00\">1</text>\n",
       "</g>\n",
       "<!-- 0&#45;&gt;1 -->\n",
       "<g id=\"edge1\" class=\"edge\">\n",
       "<title>0&#45;&gt;1</title>\n",
       "<path fill=\"none\" stroke=\"black\" d=\"M21.33,-10.61C31.4,-10.61 47.28,-10.61 58.94,-10.61\"/>\n",
       "<polygon fill=\"black\" stroke=\"black\" points=\"58.96,-12.36 63.96,-10.61 58.96,-8.86 58.96,-12.36\"/>\n",
       "<text text-anchor=\"middle\" x=\"42.71\" y=\"-13.61\" font-family=\"DejaVu Serif,serif\" font-size=\"10.00\">0</text>\n",
       "</g>\n",
       "<!-- 2 -->\n",
       "<g id=\"node3\" class=\"node\">\n",
       "<title>2</title>\n",
       "<ellipse fill=\"none\" stroke=\"black\" cx=\"139.03\" cy=\"-10.61\" rx=\"10.71\" ry=\"10.71\"/>\n",
       "<text text-anchor=\"middle\" x=\"139.03\" y=\"-7.51\" font-family=\"DejaVu Serif,serif\" font-size=\"12.00\">2</text>\n",
       "</g>\n",
       "<!-- 1&#45;&gt;2 -->\n",
       "<g id=\"edge2\" class=\"edge\">\n",
       "<title>1&#45;&gt;2</title>\n",
       "<path fill=\"none\" stroke=\"black\" d=\"M85.54,-10.61C95.62,-10.61 111.5,-10.61 123.15,-10.61\"/>\n",
       "<polygon fill=\"black\" stroke=\"black\" points=\"123.18,-12.36 128.18,-10.61 123.18,-8.86 123.18,-12.36\"/>\n",
       "<text text-anchor=\"middle\" x=\"106.93\" y=\"-13.61\" font-family=\"DejaVu Serif,serif\" font-size=\"10.00\">1</text>\n",
       "</g>\n",
       "</g>\n",
       "</svg>\n"
      ],
      "text/plain": [
       "GAP: <An object in CategoryOfQuiversEnrichedOver( SkeletalFinSets )>"
      ]
     },
     "execution_count": 19,
     "metadata": {},
     "output_type": "execute_result"
    }
   ],
   "source": [
    "Colimit( [ V, V, V, # the objects 1,2,3 are copies of the generic figure V\n",
    "           A, A ],  # the objects 4,5 are copies the generic figure A\n",
    "         [ [ 1, s, 4 ], [ 2, t, 4 ], # 1=V is the source of 4=A and 2=V is the target of 4=A\n",
    "           [ 2, s, 5 ], [ 3, t, 5 ]  # 2=V is the source of 5=A and 3=V is the target of 5=A\n",
    "         ] )"
   ]
  },
  {
   "cell_type": "markdown",
   "id": "c3296d0d",
   "metadata": {},
   "source": [
    "One can recover the above figure using less gluings of less generic figures:"
   ]
  },
  {
   "cell_type": "code",
   "execution_count": 20,
   "id": "dccccaff",
   "metadata": {},
   "outputs": [
    {
     "data": {
      "image/svg+xml": [
       "<?xml version=\"1.0\" encoding=\"UTF-8\" standalone=\"no\"?>\n",
       "<!DOCTYPE svg PUBLIC \"-//W3C//DTD SVG 1.1//EN\"\n",
       " \"http://www.w3.org/Graphics/SVG/1.1/DTD/svg11.dtd\">\n",
       "<!-- Generated by graphviz version 2.50.0 (20211204.2007)\n",
       " -->\n",
       "<!-- Title: quiver Pages: 1 -->\n",
       "<svg width=\"158pt\" height=\"30pt\"\n",
       " viewBox=\"0.00 0.00 157.64 29.61\" xmlns=\"http://www.w3.org/2000/svg\" xmlns:xlink=\"http://www.w3.org/1999/xlink\">\n",
       "<g id=\"graph0\" class=\"graph\" transform=\"scale(1 1) rotate(0) translate(4 25.61)\">\n",
       "<title>quiver</title>\n",
       "<polygon fill=\"white\" stroke=\"transparent\" points=\"-4,4 -4,-25.61 153.64,-25.61 153.64,4 -4,4\"/>\n",
       "<!-- 0 -->\n",
       "<g id=\"node1\" class=\"node\">\n",
       "<title>0</title>\n",
       "<ellipse fill=\"none\" stroke=\"black\" cx=\"10.61\" cy=\"-10.61\" rx=\"10.71\" ry=\"10.71\"/>\n",
       "<text text-anchor=\"middle\" x=\"10.61\" y=\"-7.51\" font-family=\"DejaVu Serif,serif\" font-size=\"12.00\">0</text>\n",
       "</g>\n",
       "<!-- 1 -->\n",
       "<g id=\"node2\" class=\"node\">\n",
       "<title>1</title>\n",
       "<ellipse fill=\"none\" stroke=\"black\" cx=\"74.82\" cy=\"-10.61\" rx=\"10.71\" ry=\"10.71\"/>\n",
       "<text text-anchor=\"middle\" x=\"74.82\" y=\"-7.51\" font-family=\"DejaVu Serif,serif\" font-size=\"12.00\">1</text>\n",
       "</g>\n",
       "<!-- 0&#45;&gt;1 -->\n",
       "<g id=\"edge1\" class=\"edge\">\n",
       "<title>0&#45;&gt;1</title>\n",
       "<path fill=\"none\" stroke=\"black\" d=\"M21.33,-10.61C31.4,-10.61 47.28,-10.61 58.94,-10.61\"/>\n",
       "<polygon fill=\"black\" stroke=\"black\" points=\"58.96,-12.36 63.96,-10.61 58.96,-8.86 58.96,-12.36\"/>\n",
       "<text text-anchor=\"middle\" x=\"42.71\" y=\"-13.61\" font-family=\"DejaVu Serif,serif\" font-size=\"10.00\">0</text>\n",
       "</g>\n",
       "<!-- 2 -->\n",
       "<g id=\"node3\" class=\"node\">\n",
       "<title>2</title>\n",
       "<ellipse fill=\"none\" stroke=\"black\" cx=\"139.03\" cy=\"-10.61\" rx=\"10.71\" ry=\"10.71\"/>\n",
       "<text text-anchor=\"middle\" x=\"139.03\" y=\"-7.51\" font-family=\"DejaVu Serif,serif\" font-size=\"12.00\">2</text>\n",
       "</g>\n",
       "<!-- 1&#45;&gt;2 -->\n",
       "<g id=\"edge2\" class=\"edge\">\n",
       "<title>1&#45;&gt;2</title>\n",
       "<path fill=\"none\" stroke=\"black\" d=\"M85.54,-10.61C95.62,-10.61 111.5,-10.61 123.15,-10.61\"/>\n",
       "<polygon fill=\"black\" stroke=\"black\" points=\"123.18,-12.36 128.18,-10.61 123.18,-8.86 123.18,-12.36\"/>\n",
       "<text text-anchor=\"middle\" x=\"106.93\" y=\"-13.61\" font-family=\"DejaVu Serif,serif\" font-size=\"10.00\">1</text>\n",
       "</g>\n",
       "</g>\n",
       "</svg>\n"
      ],
      "text/plain": [
       "GAP: <An object in CategoryOfQuiversEnrichedOver( SkeletalFinSets )>"
      ]
     },
     "execution_count": 20,
     "metadata": {},
     "output_type": "execute_result"
    }
   ],
   "source": [
    "Colimit( [ A, V, A ],\n",
    "         [ [ 2, t, 1 ], # 2=V is the target of 1=A\n",
    "           [ 2, s, 3 ]  # 2=V is the source of 3=A\n",
    "         ] )"
   ]
  },
  {
   "cell_type": "markdown",
   "id": "1a9fec18",
   "metadata": {},
   "source": [
    "More figures through gluings:"
   ]
  },
  {
   "cell_type": "code",
   "execution_count": 21,
   "id": "63cec8b9",
   "metadata": {},
   "outputs": [
    {
     "data": {
      "image/svg+xml": [
       "<?xml version=\"1.0\" encoding=\"UTF-8\" standalone=\"no\"?>\n",
       "<!DOCTYPE svg PUBLIC \"-//W3C//DTD SVG 1.1//EN\"\n",
       " \"http://www.w3.org/Graphics/SVG/1.1/DTD/svg11.dtd\">\n",
       "<!-- Generated by graphviz version 2.50.0 (20211204.2007)\n",
       " -->\n",
       "<!-- Title: quiver Pages: 1 -->\n",
       "<svg width=\"93pt\" height=\"68pt\"\n",
       " viewBox=\"0.00 0.00 93.43 68.21\" xmlns=\"http://www.w3.org/2000/svg\" xmlns:xlink=\"http://www.w3.org/1999/xlink\">\n",
       "<g id=\"graph0\" class=\"graph\" transform=\"scale(1 1) rotate(0) translate(4 64.21)\">\n",
       "<title>quiver</title>\n",
       "<polygon fill=\"white\" stroke=\"transparent\" points=\"-4,4 -4,-64.21 89.43,-64.21 89.43,4 -4,4\"/>\n",
       "<!-- 0 -->\n",
       "<g id=\"node1\" class=\"node\">\n",
       "<title>0</title>\n",
       "<ellipse fill=\"none\" stroke=\"black\" cx=\"10.61\" cy=\"-29.61\" rx=\"10.71\" ry=\"10.71\"/>\n",
       "<text text-anchor=\"middle\" x=\"10.61\" y=\"-26.51\" font-family=\"DejaVu Serif,serif\" font-size=\"12.00\">0</text>\n",
       "</g>\n",
       "<!-- 1 -->\n",
       "<g id=\"node2\" class=\"node\">\n",
       "<title>1</title>\n",
       "<ellipse fill=\"none\" stroke=\"black\" cx=\"74.82\" cy=\"-49.61\" rx=\"10.71\" ry=\"10.71\"/>\n",
       "<text text-anchor=\"middle\" x=\"74.82\" y=\"-46.51\" font-family=\"DejaVu Serif,serif\" font-size=\"12.00\">1</text>\n",
       "</g>\n",
       "<!-- 0&#45;&gt;1 -->\n",
       "<g id=\"edge1\" class=\"edge\">\n",
       "<title>0&#45;&gt;1</title>\n",
       "<path fill=\"none\" stroke=\"black\" d=\"M21.06,-32.64C31.2,-35.9 47.43,-41.12 59.22,-44.91\"/>\n",
       "<polygon fill=\"black\" stroke=\"black\" points=\"58.99,-46.68 64.28,-46.54 60.06,-43.34 58.99,-46.68\"/>\n",
       "<text text-anchor=\"middle\" x=\"42.71\" y=\"-42.61\" font-family=\"DejaVu Serif,serif\" font-size=\"10.00\">0</text>\n",
       "</g>\n",
       "<!-- 2 -->\n",
       "<g id=\"node3\" class=\"node\">\n",
       "<title>2</title>\n",
       "<ellipse fill=\"none\" stroke=\"black\" cx=\"74.82\" cy=\"-10.61\" rx=\"10.71\" ry=\"10.71\"/>\n",
       "<text text-anchor=\"middle\" x=\"74.82\" y=\"-7.51\" font-family=\"DejaVu Serif,serif\" font-size=\"12.00\">2</text>\n",
       "</g>\n",
       "<!-- 0&#45;&gt;2 -->\n",
       "<g id=\"edge2\" class=\"edge\">\n",
       "<title>0&#45;&gt;2</title>\n",
       "<path fill=\"none\" stroke=\"black\" d=\"M20.56,-24.64C25.85,-21.9 32.75,-18.65 39.21,-16.61 45.66,-14.57 53.02,-13.17 59.29,-12.24\"/>\n",
       "<polygon fill=\"black\" stroke=\"black\" points=\"59.54,-13.97 64.26,-11.57 59.07,-10.51 59.54,-13.97\"/>\n",
       "<text text-anchor=\"middle\" x=\"42.71\" y=\"-19.61\" font-family=\"DejaVu Serif,serif\" font-size=\"10.00\">1</text>\n",
       "</g>\n",
       "</g>\n",
       "</svg>\n"
      ],
      "text/plain": [
       "GAP: <An object in CategoryOfQuiversEnrichedOver( SkeletalFinSets )>"
      ]
     },
     "execution_count": 21,
     "metadata": {},
     "output_type": "execute_result"
    }
   ],
   "source": [
    "Colimit( [ V, A, A ],\n",
    "         [ [ 1, s, 2 ], [ 1, s, 3 ] ] )"
   ]
  },
  {
   "cell_type": "code",
   "execution_count": 22,
   "id": "f82a36a5",
   "metadata": {},
   "outputs": [
    {
     "data": {
      "image/svg+xml": [
       "<?xml version=\"1.0\" encoding=\"UTF-8\" standalone=\"no\"?>\n",
       "<!DOCTYPE svg PUBLIC \"-//W3C//DTD SVG 1.1//EN\"\n",
       " \"http://www.w3.org/Graphics/SVG/1.1/DTD/svg11.dtd\">\n",
       "<!-- Generated by graphviz version 2.50.0 (20211204.2007)\n",
       " -->\n",
       "<!-- Title: quiver Pages: 1 -->\n",
       "<svg width=\"93pt\" height=\"68pt\"\n",
       " viewBox=\"0.00 0.00 93.43 68.21\" xmlns=\"http://www.w3.org/2000/svg\" xmlns:xlink=\"http://www.w3.org/1999/xlink\">\n",
       "<g id=\"graph0\" class=\"graph\" transform=\"scale(1 1) rotate(0) translate(4 64.21)\">\n",
       "<title>quiver</title>\n",
       "<polygon fill=\"white\" stroke=\"transparent\" points=\"-4,4 -4,-64.21 89.43,-64.21 89.43,4 -4,4\"/>\n",
       "<!-- 0 -->\n",
       "<g id=\"node1\" class=\"node\">\n",
       "<title>0</title>\n",
       "<ellipse fill=\"none\" stroke=\"black\" cx=\"74.82\" cy=\"-29.61\" rx=\"10.71\" ry=\"10.71\"/>\n",
       "<text text-anchor=\"middle\" x=\"74.82\" y=\"-26.51\" font-family=\"DejaVu Serif,serif\" font-size=\"12.00\">0</text>\n",
       "</g>\n",
       "<!-- 1 -->\n",
       "<g id=\"node2\" class=\"node\">\n",
       "<title>1</title>\n",
       "<ellipse fill=\"none\" stroke=\"black\" cx=\"10.61\" cy=\"-49.61\" rx=\"10.71\" ry=\"10.71\"/>\n",
       "<text text-anchor=\"middle\" x=\"10.61\" y=\"-46.51\" font-family=\"DejaVu Serif,serif\" font-size=\"12.00\">1</text>\n",
       "</g>\n",
       "<!-- 1&#45;&gt;0 -->\n",
       "<g id=\"edge1\" class=\"edge\">\n",
       "<title>1&#45;&gt;0</title>\n",
       "<path fill=\"none\" stroke=\"black\" d=\"M21.06,-46.57C31.2,-43.31 47.43,-38.09 59.22,-34.3\"/>\n",
       "<polygon fill=\"black\" stroke=\"black\" points=\"60.06,-35.87 64.28,-32.67 58.99,-32.54 60.06,-35.87\"/>\n",
       "<text text-anchor=\"middle\" x=\"42.71\" y=\"-42.61\" font-family=\"DejaVu Serif,serif\" font-size=\"10.00\">0</text>\n",
       "</g>\n",
       "<!-- 2 -->\n",
       "<g id=\"node3\" class=\"node\">\n",
       "<title>2</title>\n",
       "<ellipse fill=\"none\" stroke=\"black\" cx=\"10.61\" cy=\"-10.61\" rx=\"10.71\" ry=\"10.71\"/>\n",
       "<text text-anchor=\"middle\" x=\"10.61\" y=\"-7.51\" font-family=\"DejaVu Serif,serif\" font-size=\"12.00\">2</text>\n",
       "</g>\n",
       "<!-- 2&#45;&gt;0 -->\n",
       "<g id=\"edge2\" class=\"edge\">\n",
       "<title>2&#45;&gt;0</title>\n",
       "<path fill=\"none\" stroke=\"black\" d=\"M21.17,-11.57C28.21,-12.44 37.96,-14 46.21,-16.61 50.96,-18.11 55.95,-20.26 60.35,-22.38\"/>\n",
       "<polygon fill=\"black\" stroke=\"black\" points=\"59.61,-23.97 64.87,-24.64 61.18,-20.84 59.61,-23.97\"/>\n",
       "<text text-anchor=\"middle\" x=\"42.71\" y=\"-19.61\" font-family=\"DejaVu Serif,serif\" font-size=\"10.00\">1</text>\n",
       "</g>\n",
       "</g>\n",
       "</svg>\n"
      ],
      "text/plain": [
       "GAP: <An object in CategoryOfQuiversEnrichedOver( SkeletalFinSets )>"
      ]
     },
     "execution_count": 22,
     "metadata": {},
     "output_type": "execute_result"
    }
   ],
   "source": [
    "Colimit( [ V, A, A ],\n",
    "         [ [ 1, t, 2 ], [ 1, t, 3 ] ] )"
   ]
  },
  {
   "cell_type": "markdown",
   "id": "4bc5a90a",
   "metadata": {},
   "source": [
    "Now we construct a quiver $G$ using the standard object constructor of the category $\\mathbf{FinQuivers}$:"
   ]
  },
  {
   "cell_type": "code",
   "execution_count": 23,
   "id": "7324ac7b",
   "metadata": {},
   "outputs": [
    {
     "data": {
      "image/svg+xml": [
       "<?xml version=\"1.0\" encoding=\"UTF-8\" standalone=\"no\"?>\n",
       "<!DOCTYPE svg PUBLIC \"-//W3C//DTD SVG 1.1//EN\"\n",
       " \"http://www.w3.org/Graphics/SVG/1.1/DTD/svg11.dtd\">\n",
       "<!-- Generated by graphviz version 2.50.0 (20211204.2007)\n",
       " -->\n",
       "<!-- Title: quiver Pages: 1 -->\n",
       "<svg width=\"222pt\" height=\"161pt\"\n",
       " viewBox=\"0.00 0.00 221.85 161.21\" xmlns=\"http://www.w3.org/2000/svg\" xmlns:xlink=\"http://www.w3.org/1999/xlink\">\n",
       "<g id=\"graph0\" class=\"graph\" transform=\"scale(1 1) rotate(0) translate(4 157.21)\">\n",
       "<title>quiver</title>\n",
       "<polygon fill=\"white\" stroke=\"transparent\" points=\"-4,4 -4,-157.21 217.85,-157.21 217.85,4 -4,4\"/>\n",
       "<!-- 0 -->\n",
       "<g id=\"node1\" class=\"node\">\n",
       "<title>0</title>\n",
       "<ellipse fill=\"none\" stroke=\"black\" cx=\"10.61\" cy=\"-14.61\" rx=\"10.71\" ry=\"10.71\"/>\n",
       "<text text-anchor=\"middle\" x=\"10.61\" y=\"-11.51\" font-family=\"DejaVu Serif,serif\" font-size=\"12.00\">0</text>\n",
       "</g>\n",
       "<!-- 1 -->\n",
       "<g id=\"node2\" class=\"node\">\n",
       "<title>1</title>\n",
       "<ellipse fill=\"none\" stroke=\"black\" cx=\"74.82\" cy=\"-35.61\" rx=\"10.71\" ry=\"10.71\"/>\n",
       "<text text-anchor=\"middle\" x=\"74.82\" y=\"-32.51\" font-family=\"DejaVu Serif,serif\" font-size=\"12.00\">1</text>\n",
       "</g>\n",
       "<!-- 0&#45;&gt;1 -->\n",
       "<g id=\"edge1\" class=\"edge\">\n",
       "<title>0&#45;&gt;1</title>\n",
       "<path fill=\"none\" stroke=\"black\" d=\"M20.79,-17.71C31.08,-21.18 47.89,-26.85 59.82,-30.88\"/>\n",
       "<polygon fill=\"black\" stroke=\"black\" points=\"59.31,-32.55 64.6,-32.5 60.42,-29.24 59.31,-32.55\"/>\n",
       "<text text-anchor=\"middle\" x=\"42.71\" y=\"-29.61\" font-family=\"DejaVu Serif,serif\" font-size=\"10.00\">0</text>\n",
       "</g>\n",
       "<!-- 2 -->\n",
       "<g id=\"node3\" class=\"node\">\n",
       "<title>2</title>\n",
       "<ellipse fill=\"none\" stroke=\"black\" cx=\"139.03\" cy=\"-35.61\" rx=\"10.71\" ry=\"10.71\"/>\n",
       "<text text-anchor=\"middle\" x=\"139.03\" y=\"-32.51\" font-family=\"DejaVu Serif,serif\" font-size=\"12.00\">2</text>\n",
       "</g>\n",
       "<!-- 1&#45;&gt;2 -->\n",
       "<g id=\"edge2\" class=\"edge\">\n",
       "<title>1&#45;&gt;2</title>\n",
       "<path fill=\"none\" stroke=\"black\" d=\"M85.54,-35.61C95.62,-35.61 111.5,-35.61 123.15,-35.61\"/>\n",
       "<polygon fill=\"black\" stroke=\"black\" points=\"123.18,-37.36 128.18,-35.61 123.18,-33.86 123.18,-37.36\"/>\n",
       "<text text-anchor=\"middle\" x=\"106.93\" y=\"-38.61\" font-family=\"DejaVu Serif,serif\" font-size=\"10.00\">1</text>\n",
       "</g>\n",
       "<!-- 3 -->\n",
       "<g id=\"node4\" class=\"node\">\n",
       "<title>3</title>\n",
       "<ellipse fill=\"none\" stroke=\"black\" cx=\"203.25\" cy=\"-10.61\" rx=\"10.71\" ry=\"10.71\"/>\n",
       "<text text-anchor=\"middle\" x=\"203.25\" y=\"-7.51\" font-family=\"DejaVu Serif,serif\" font-size=\"12.00\">3</text>\n",
       "</g>\n",
       "<!-- 2&#45;&gt;3 -->\n",
       "<g id=\"edge3\" class=\"edge\">\n",
       "<title>2&#45;&gt;3</title>\n",
       "<path fill=\"none\" stroke=\"black\" d=\"M149.21,-31.92C159.5,-27.78 176.31,-21.03 188.25,-16.23\"/>\n",
       "<polygon fill=\"black\" stroke=\"black\" points=\"189.04,-17.8 193.03,-14.31 187.74,-14.55 189.04,-17.8\"/>\n",
       "<text text-anchor=\"middle\" x=\"171.14\" y=\"-27.61\" font-family=\"DejaVu Serif,serif\" font-size=\"10.00\">2</text>\n",
       "</g>\n",
       "<!-- 7 -->\n",
       "<g id=\"node8\" class=\"node\">\n",
       "<title>7</title>\n",
       "<ellipse fill=\"none\" stroke=\"black\" cx=\"203.25\" cy=\"-63.61\" rx=\"10.71\" ry=\"10.71\"/>\n",
       "<text text-anchor=\"middle\" x=\"203.25\" y=\"-60.51\" font-family=\"DejaVu Serif,serif\" font-size=\"12.00\">7</text>\n",
       "</g>\n",
       "<!-- 2&#45;&gt;7 -->\n",
       "<g id=\"edge7\" class=\"edge\">\n",
       "<title>2&#45;&gt;7</title>\n",
       "<path fill=\"none\" stroke=\"black\" d=\"M148.95,-39.62C159.3,-44.28 176.48,-52.01 188.53,-57.43\"/>\n",
       "<polygon fill=\"black\" stroke=\"black\" points=\"188.07,-59.15 193.35,-59.6 189.51,-55.95 188.07,-59.15\"/>\n",
       "<text text-anchor=\"middle\" x=\"171.14\" y=\"-52.61\" font-family=\"DejaVu Serif,serif\" font-size=\"10.00\">6</text>\n",
       "</g>\n",
       "<!-- 3&#45;&gt;0 -->\n",
       "<g id=\"edge4\" class=\"edge\">\n",
       "<title>3&#45;&gt;0</title>\n",
       "<path fill=\"none\" stroke=\"black\" d=\"M192.32,-10.81C160.93,-11.47 63.67,-13.51 26.38,-14.3\"/>\n",
       "<polygon fill=\"black\" stroke=\"black\" points=\"26.28,-12.55 21.32,-14.4 26.36,-16.05 26.28,-12.55\"/>\n",
       "<text text-anchor=\"middle\" x=\"106.93\" y=\"-16.61\" font-family=\"DejaVu Serif,serif\" font-size=\"10.00\">3</text>\n",
       "</g>\n",
       "<!-- 4 -->\n",
       "<g id=\"node5\" class=\"node\">\n",
       "<title>4</title>\n",
       "<ellipse fill=\"none\" stroke=\"black\" cx=\"10.61\" cy=\"-74.61\" rx=\"10.71\" ry=\"10.71\"/>\n",
       "<text text-anchor=\"middle\" x=\"10.61\" y=\"-71.51\" font-family=\"DejaVu Serif,serif\" font-size=\"12.00\">4</text>\n",
       "</g>\n",
       "<!-- 5 -->\n",
       "<g id=\"node6\" class=\"node\">\n",
       "<title>5</title>\n",
       "<ellipse fill=\"none\" stroke=\"black\" cx=\"74.82\" cy=\"-74.61\" rx=\"10.71\" ry=\"10.71\"/>\n",
       "<text text-anchor=\"middle\" x=\"74.82\" y=\"-71.51\" font-family=\"DejaVu Serif,serif\" font-size=\"12.00\">5</text>\n",
       "</g>\n",
       "<!-- 4&#45;&gt;5 -->\n",
       "<g id=\"edge5\" class=\"edge\">\n",
       "<title>4&#45;&gt;5</title>\n",
       "<path fill=\"none\" stroke=\"black\" d=\"M21.33,-74.61C31.4,-74.61 47.28,-74.61 58.94,-74.61\"/>\n",
       "<polygon fill=\"black\" stroke=\"black\" points=\"58.96,-76.36 63.96,-74.61 58.96,-72.86 58.96,-76.36\"/>\n",
       "<text text-anchor=\"middle\" x=\"42.71\" y=\"-77.61\" font-family=\"DejaVu Serif,serif\" font-size=\"10.00\">4</text>\n",
       "</g>\n",
       "<!-- 6 -->\n",
       "<g id=\"node7\" class=\"node\">\n",
       "<title>6</title>\n",
       "<ellipse fill=\"none\" stroke=\"black\" cx=\"10.61\" cy=\"-113.61\" rx=\"10.71\" ry=\"10.71\"/>\n",
       "<text text-anchor=\"middle\" x=\"10.61\" y=\"-110.51\" font-family=\"DejaVu Serif,serif\" font-size=\"12.00\">6</text>\n",
       "</g>\n",
       "<!-- 6&#45;&gt;6 -->\n",
       "<g id=\"edge6\" class=\"edge\">\n",
       "<title>6&#45;&gt;6</title>\n",
       "<path fill=\"none\" stroke=\"black\" d=\"M5.76,-123.28C3.24,-132.36 4.86,-142.21 10.61,-142.21 15.28,-142.21 17.22,-135.71 16.44,-128.4\"/>\n",
       "<polygon fill=\"black\" stroke=\"black\" points=\"18.12,-127.86 15.46,-123.28 14.68,-128.52 18.12,-127.86\"/>\n",
       "<text text-anchor=\"middle\" x=\"10.61\" y=\"-145.21\" font-family=\"DejaVu Serif,serif\" font-size=\"10.00\">5</text>\n",
       "</g>\n",
       "</g>\n",
       "</svg>\n"
      ],
      "text/plain": [
       "GAP: <An object in CategoryOfQuiversEnrichedOver( SkeletalFinSets )>"
      ]
     },
     "execution_count": 23,
     "metadata": {},
     "output_type": "execute_result"
    }
   ],
   "source": [
    "G = CreateQuiver( 8, [ 0,1,  1,2,  2,3,  3,0,  4,5,  6,6,  2,7 ] )"
   ]
  },
  {
   "cell_type": "markdown",
   "id": "f545f24a",
   "metadata": {},
   "source": [
    "One can (re)construct any figure (here $G \\in \\mathbf{FinQuivers}$) by gluing together copies of the generic figures (here $V,A$) using the actions (here $s,t$).\n",
    "\n",
    "The objects $1,\\ldots,8$ are $8$ copies of the generic figure $V$ and the objects $9,\\ldots,15$ are $7$ copies of the generic figure $A$:"
   ]
  },
  {
   "cell_type": "code",
   "execution_count": 24,
   "id": "57f944be",
   "metadata": {},
   "outputs": [
    {
     "data": {
      "image/svg+xml": [
       "<?xml version=\"1.0\" encoding=\"UTF-8\" standalone=\"no\"?>\n",
       "<!DOCTYPE svg PUBLIC \"-//W3C//DTD SVG 1.1//EN\"\n",
       " \"http://www.w3.org/Graphics/SVG/1.1/DTD/svg11.dtd\">\n",
       "<!-- Generated by graphviz version 2.50.0 (20211204.2007)\n",
       " -->\n",
       "<!-- Title: quiver Pages: 1 -->\n",
       "<svg width=\"222pt\" height=\"161pt\"\n",
       " viewBox=\"0.00 0.00 221.85 161.21\" xmlns=\"http://www.w3.org/2000/svg\" xmlns:xlink=\"http://www.w3.org/1999/xlink\">\n",
       "<g id=\"graph0\" class=\"graph\" transform=\"scale(1 1) rotate(0) translate(4 157.21)\">\n",
       "<title>quiver</title>\n",
       "<polygon fill=\"white\" stroke=\"transparent\" points=\"-4,4 -4,-157.21 217.85,-157.21 217.85,4 -4,4\"/>\n",
       "<!-- 0 -->\n",
       "<g id=\"node1\" class=\"node\">\n",
       "<title>0</title>\n",
       "<ellipse fill=\"none\" stroke=\"black\" cx=\"10.61\" cy=\"-14.61\" rx=\"10.71\" ry=\"10.71\"/>\n",
       "<text text-anchor=\"middle\" x=\"10.61\" y=\"-11.51\" font-family=\"DejaVu Serif,serif\" font-size=\"12.00\">0</text>\n",
       "</g>\n",
       "<!-- 1 -->\n",
       "<g id=\"node2\" class=\"node\">\n",
       "<title>1</title>\n",
       "<ellipse fill=\"none\" stroke=\"black\" cx=\"74.82\" cy=\"-35.61\" rx=\"10.71\" ry=\"10.71\"/>\n",
       "<text text-anchor=\"middle\" x=\"74.82\" y=\"-32.51\" font-family=\"DejaVu Serif,serif\" font-size=\"12.00\">1</text>\n",
       "</g>\n",
       "<!-- 0&#45;&gt;1 -->\n",
       "<g id=\"edge1\" class=\"edge\">\n",
       "<title>0&#45;&gt;1</title>\n",
       "<path fill=\"none\" stroke=\"black\" d=\"M20.79,-17.71C31.08,-21.18 47.89,-26.85 59.82,-30.88\"/>\n",
       "<polygon fill=\"black\" stroke=\"black\" points=\"59.31,-32.55 64.6,-32.5 60.42,-29.24 59.31,-32.55\"/>\n",
       "<text text-anchor=\"middle\" x=\"42.71\" y=\"-29.61\" font-family=\"DejaVu Serif,serif\" font-size=\"10.00\">0</text>\n",
       "</g>\n",
       "<!-- 2 -->\n",
       "<g id=\"node3\" class=\"node\">\n",
       "<title>2</title>\n",
       "<ellipse fill=\"none\" stroke=\"black\" cx=\"139.03\" cy=\"-35.61\" rx=\"10.71\" ry=\"10.71\"/>\n",
       "<text text-anchor=\"middle\" x=\"139.03\" y=\"-32.51\" font-family=\"DejaVu Serif,serif\" font-size=\"12.00\">2</text>\n",
       "</g>\n",
       "<!-- 1&#45;&gt;2 -->\n",
       "<g id=\"edge2\" class=\"edge\">\n",
       "<title>1&#45;&gt;2</title>\n",
       "<path fill=\"none\" stroke=\"black\" d=\"M85.54,-35.61C95.62,-35.61 111.5,-35.61 123.15,-35.61\"/>\n",
       "<polygon fill=\"black\" stroke=\"black\" points=\"123.18,-37.36 128.18,-35.61 123.18,-33.86 123.18,-37.36\"/>\n",
       "<text text-anchor=\"middle\" x=\"106.93\" y=\"-38.61\" font-family=\"DejaVu Serif,serif\" font-size=\"10.00\">1</text>\n",
       "</g>\n",
       "<!-- 3 -->\n",
       "<g id=\"node4\" class=\"node\">\n",
       "<title>3</title>\n",
       "<ellipse fill=\"none\" stroke=\"black\" cx=\"203.25\" cy=\"-10.61\" rx=\"10.71\" ry=\"10.71\"/>\n",
       "<text text-anchor=\"middle\" x=\"203.25\" y=\"-7.51\" font-family=\"DejaVu Serif,serif\" font-size=\"12.00\">3</text>\n",
       "</g>\n",
       "<!-- 2&#45;&gt;3 -->\n",
       "<g id=\"edge3\" class=\"edge\">\n",
       "<title>2&#45;&gt;3</title>\n",
       "<path fill=\"none\" stroke=\"black\" d=\"M149.21,-31.92C159.5,-27.78 176.31,-21.03 188.25,-16.23\"/>\n",
       "<polygon fill=\"black\" stroke=\"black\" points=\"189.04,-17.8 193.03,-14.31 187.74,-14.55 189.04,-17.8\"/>\n",
       "<text text-anchor=\"middle\" x=\"171.14\" y=\"-27.61\" font-family=\"DejaVu Serif,serif\" font-size=\"10.00\">2</text>\n",
       "</g>\n",
       "<!-- 7 -->\n",
       "<g id=\"node8\" class=\"node\">\n",
       "<title>7</title>\n",
       "<ellipse fill=\"none\" stroke=\"black\" cx=\"203.25\" cy=\"-63.61\" rx=\"10.71\" ry=\"10.71\"/>\n",
       "<text text-anchor=\"middle\" x=\"203.25\" y=\"-60.51\" font-family=\"DejaVu Serif,serif\" font-size=\"12.00\">7</text>\n",
       "</g>\n",
       "<!-- 2&#45;&gt;7 -->\n",
       "<g id=\"edge7\" class=\"edge\">\n",
       "<title>2&#45;&gt;7</title>\n",
       "<path fill=\"none\" stroke=\"black\" d=\"M148.95,-39.62C159.3,-44.28 176.48,-52.01 188.53,-57.43\"/>\n",
       "<polygon fill=\"black\" stroke=\"black\" points=\"188.07,-59.15 193.35,-59.6 189.51,-55.95 188.07,-59.15\"/>\n",
       "<text text-anchor=\"middle\" x=\"171.14\" y=\"-52.61\" font-family=\"DejaVu Serif,serif\" font-size=\"10.00\">6</text>\n",
       "</g>\n",
       "<!-- 3&#45;&gt;0 -->\n",
       "<g id=\"edge4\" class=\"edge\">\n",
       "<title>3&#45;&gt;0</title>\n",
       "<path fill=\"none\" stroke=\"black\" d=\"M192.32,-10.81C160.93,-11.47 63.67,-13.51 26.38,-14.3\"/>\n",
       "<polygon fill=\"black\" stroke=\"black\" points=\"26.28,-12.55 21.32,-14.4 26.36,-16.05 26.28,-12.55\"/>\n",
       "<text text-anchor=\"middle\" x=\"106.93\" y=\"-16.61\" font-family=\"DejaVu Serif,serif\" font-size=\"10.00\">3</text>\n",
       "</g>\n",
       "<!-- 4 -->\n",
       "<g id=\"node5\" class=\"node\">\n",
       "<title>4</title>\n",
       "<ellipse fill=\"none\" stroke=\"black\" cx=\"10.61\" cy=\"-74.61\" rx=\"10.71\" ry=\"10.71\"/>\n",
       "<text text-anchor=\"middle\" x=\"10.61\" y=\"-71.51\" font-family=\"DejaVu Serif,serif\" font-size=\"12.00\">4</text>\n",
       "</g>\n",
       "<!-- 5 -->\n",
       "<g id=\"node6\" class=\"node\">\n",
       "<title>5</title>\n",
       "<ellipse fill=\"none\" stroke=\"black\" cx=\"74.82\" cy=\"-74.61\" rx=\"10.71\" ry=\"10.71\"/>\n",
       "<text text-anchor=\"middle\" x=\"74.82\" y=\"-71.51\" font-family=\"DejaVu Serif,serif\" font-size=\"12.00\">5</text>\n",
       "</g>\n",
       "<!-- 4&#45;&gt;5 -->\n",
       "<g id=\"edge5\" class=\"edge\">\n",
       "<title>4&#45;&gt;5</title>\n",
       "<path fill=\"none\" stroke=\"black\" d=\"M21.33,-74.61C31.4,-74.61 47.28,-74.61 58.94,-74.61\"/>\n",
       "<polygon fill=\"black\" stroke=\"black\" points=\"58.96,-76.36 63.96,-74.61 58.96,-72.86 58.96,-76.36\"/>\n",
       "<text text-anchor=\"middle\" x=\"42.71\" y=\"-77.61\" font-family=\"DejaVu Serif,serif\" font-size=\"10.00\">4</text>\n",
       "</g>\n",
       "<!-- 6 -->\n",
       "<g id=\"node7\" class=\"node\">\n",
       "<title>6</title>\n",
       "<ellipse fill=\"none\" stroke=\"black\" cx=\"10.61\" cy=\"-113.61\" rx=\"10.71\" ry=\"10.71\"/>\n",
       "<text text-anchor=\"middle\" x=\"10.61\" y=\"-110.51\" font-family=\"DejaVu Serif,serif\" font-size=\"12.00\">6</text>\n",
       "</g>\n",
       "<!-- 6&#45;&gt;6 -->\n",
       "<g id=\"edge6\" class=\"edge\">\n",
       "<title>6&#45;&gt;6</title>\n",
       "<path fill=\"none\" stroke=\"black\" d=\"M5.76,-123.28C3.24,-132.36 4.86,-142.21 10.61,-142.21 15.28,-142.21 17.22,-135.71 16.44,-128.4\"/>\n",
       "<polygon fill=\"black\" stroke=\"black\" points=\"18.12,-127.86 15.46,-123.28 14.68,-128.52 18.12,-127.86\"/>\n",
       "<text text-anchor=\"middle\" x=\"10.61\" y=\"-145.21\" font-family=\"DejaVu Serif,serif\" font-size=\"10.00\">5</text>\n",
       "</g>\n",
       "</g>\n",
       "</svg>\n"
      ],
      "text/plain": [
       "GAP: <An object in CategoryOfQuiversEnrichedOver( SkeletalFinSets )>"
      ]
     },
     "execution_count": 24,
     "metadata": {},
     "output_type": "execute_result"
    }
   ],
   "source": [
    "H = Colimit( [ V, V, V, V, V, V, V, V,\n",
    "               A, A, A, A, A, A, A ],\n",
    "             [ [ 1, s,  9 ], [ 2, t,  9 ],\n",
    "               [ 2, s, 10 ], [ 3, t, 10 ],\n",
    "               [ 3, s, 11 ], [ 4, t, 11 ],\n",
    "               [ 4, s, 12 ], [ 1, t, 12 ],\n",
    "               [ 5, s, 13 ], [ 6, t, 13 ],\n",
    "               [ 7, s, 14 ], [ 7, t, 14 ],\n",
    "               [ 3, s, 15 ], [ 8, t, 15 ]\n",
    "             ] )"
   ]
  },
  {
   "cell_type": "code",
   "execution_count": 25,
   "id": "75b8c042",
   "metadata": {},
   "outputs": [
    {
     "data": {
      "text/plain": [
       "true"
      ]
     },
     "execution_count": 25,
     "metadata": {},
     "output_type": "execute_result"
    }
   ],
   "source": [
    "G == H"
   ]
  },
  {
   "cell_type": "markdown",
   "id": "bc9c6aab",
   "metadata": {},
   "source": [
    "Here is the data structure of the presheaf $\\mathbf{C}^\\mathrm{op} \\to \\mathbf{SkeletalFinSets}$ underlying $G$:"
   ]
  },
  {
   "cell_type": "code",
   "execution_count": 26,
   "id": "f806d7fd",
   "metadata": {},
   "outputs": [
    {
     "name": "stdout",
     "output_type": "stream",
     "text": [
      "Image of <(V)>:\n",
      "{ 0,..., 7 }\n",
      "\n",
      "Image of <(A)>:\n",
      "{ 0,..., 6 }\n",
      "\n",
      "Image of (A)-[(s)]->(V):\n",
      "{ 0,..., 6 } ⱶ[ 0, 1, 2, 3, 4, 6, 2 ]→ { 0,..., 7 }\n",
      "\n",
      "Image of (A)-[(t)]->(V):\n",
      "{ 0,..., 6 } ⱶ[ 1, 2, 3, 0, 5, 6, 7 ]→ { 0,..., 7 }\n",
      "\n",
      "An object in PreSheaves( FreeCategory( RightQuiver( \"q(V,A)[s:V->A,t:V->A]\" ) ), SkeletalFinSets ) given by the above data\n",
      "\n",
      "An object in CategoryOfQuiversEnrichedOver( SkeletalFinSets ) given by the above data\n"
     ]
    }
   ],
   "source": [
    "Display( G )"
   ]
  },
  {
   "cell_type": "markdown",
   "id": "4494333f",
   "metadata": {},
   "source": [
    "---\n",
    "The subobject classifier $\\Omega$ is a quiver with two vertices $0,1$ and five arrows $0,\\ldots,4$. Subquivers of a quiver $G$ are in 1-1 correspondence to natural transformations $\\chi: G \\to \\Omega$, called classifying morphisms:\n",
    "\n",
    "##### Table of truth values for the vertex membership in a subquiver:\n",
    "\n",
    "| $\\chi$(vertex) | vertex    |\n",
    "| -------------- | --------- |\n",
    "| $0$            | **false** |\n",
    "| $1$            | **true**  |\n",
    "\n",
    "##### Table of truth values for the arrow membership in a subquiver:\n",
    "\n",
    "| $\\chi$(arrow)  | source | target | arrow     |\n",
    "| -------------- | -----  | ------ | --------- |\n",
    "| $0$            | false  | false  | **false** |\n",
    "| $1$            | true   | false  | **false** |\n",
    "| $2$            | false  | true   | **false** |\n",
    "| $3$            | true   | true   | **false** |\n",
    "| $4$            | true   | true   | **true**  |"
   ]
  },
  {
   "cell_type": "code",
   "execution_count": 27,
   "id": "f3e29912",
   "metadata": {},
   "outputs": [
    {
     "data": {
      "image/svg+xml": [
       "<?xml version=\"1.0\" encoding=\"UTF-8\" standalone=\"no\"?>\n",
       "<!DOCTYPE svg PUBLIC \"-//W3C//DTD SVG 1.1//EN\"\n",
       " \"http://www.w3.org/Graphics/SVG/1.1/DTD/svg11.dtd\">\n",
       "<!-- Generated by graphviz version 2.50.0 (20211204.2007)\n",
       " -->\n",
       "<!-- Title: quiver Pages: 1 -->\n",
       "<svg width=\"93pt\" height=\"94pt\"\n",
       " viewBox=\"0.00 0.00 93.43 93.68\" xmlns=\"http://www.w3.org/2000/svg\" xmlns:xlink=\"http://www.w3.org/1999/xlink\">\n",
       "<g id=\"graph0\" class=\"graph\" transform=\"scale(1 1) rotate(0) translate(4 89.68)\">\n",
       "<title>quiver</title>\n",
       "<polygon fill=\"white\" stroke=\"transparent\" points=\"-4,4 -4,-89.68 89.43,-89.68 89.43,4 -4,4\"/>\n",
       "<!-- 0 -->\n",
       "<g id=\"node1\" class=\"node\">\n",
       "<title>0</title>\n",
       "<ellipse fill=\"none\" stroke=\"black\" cx=\"10.61\" cy=\"-17.08\" rx=\"10.71\" ry=\"10.71\"/>\n",
       "<text text-anchor=\"middle\" x=\"10.61\" y=\"-13.98\" font-family=\"DejaVu Serif,serif\" font-size=\"12.00\">0</text>\n",
       "</g>\n",
       "<!-- 0&#45;&gt;0 -->\n",
       "<g id=\"edge1\" class=\"edge\">\n",
       "<title>0&#45;&gt;0</title>\n",
       "<path fill=\"none\" stroke=\"black\" d=\"M5.76,-26.75C3.24,-35.83 4.86,-45.68 10.61,-45.68 15.28,-45.68 17.22,-39.18 16.44,-31.87\"/>\n",
       "<polygon fill=\"black\" stroke=\"black\" points=\"18.12,-31.33 15.46,-26.75 14.68,-31.99 18.12,-31.33\"/>\n",
       "<text text-anchor=\"middle\" x=\"10.61\" y=\"-48.68\" font-family=\"DejaVu Serif,serif\" font-size=\"10.00\">0</text>\n",
       "</g>\n",
       "<!-- 1 -->\n",
       "<g id=\"node2\" class=\"node\">\n",
       "<title>1</title>\n",
       "<ellipse fill=\"none\" stroke=\"black\" cx=\"74.82\" cy=\"-17.08\" rx=\"10.71\" ry=\"10.71\"/>\n",
       "<text text-anchor=\"middle\" x=\"74.82\" y=\"-13.98\" font-family=\"DejaVu Serif,serif\" font-size=\"12.00\">1</text>\n",
       "</g>\n",
       "<!-- 0&#45;&gt;1 -->\n",
       "<g id=\"edge3\" class=\"edge\">\n",
       "<title>0&#45;&gt;1</title>\n",
       "<path fill=\"none\" stroke=\"black\" d=\"M21.33,-17.08C31.4,-17.08 47.28,-17.08 58.94,-17.08\"/>\n",
       "<polygon fill=\"black\" stroke=\"black\" points=\"58.96,-18.83 63.96,-17.08 58.96,-15.33 58.96,-18.83\"/>\n",
       "<text text-anchor=\"middle\" x=\"42.71\" y=\"-20.08\" font-family=\"DejaVu Serif,serif\" font-size=\"10.00\">2</text>\n",
       "</g>\n",
       "<!-- 1&#45;&gt;0 -->\n",
       "<g id=\"edge2\" class=\"edge\">\n",
       "<title>1&#45;&gt;0</title>\n",
       "<path fill=\"none\" stroke=\"black\" d=\"M65.63,-10.79C60.39,-7.17 53.27,-2.97 46.21,-1.08 38.21,1.08 29.77,-2.7 23.22,-7.12\"/>\n",
       "<polygon fill=\"black\" stroke=\"black\" points=\"22.01,-5.84 19.02,-10.22 24.08,-8.66 22.01,-5.84\"/>\n",
       "<text text-anchor=\"middle\" x=\"42.71\" y=\"-4.08\" font-family=\"DejaVu Serif,serif\" font-size=\"10.00\">1</text>\n",
       "</g>\n",
       "<!-- 1&#45;&gt;1 -->\n",
       "<g id=\"edge4\" class=\"edge\">\n",
       "<title>1&#45;&gt;1</title>\n",
       "<path fill=\"none\" stroke=\"black\" d=\"M72.28,-27.64C71.19,-36.46 72.04,-45.68 74.82,-45.68 77.04,-45.68 78.02,-39.83 77.78,-32.98\"/>\n",
       "<polygon fill=\"black\" stroke=\"black\" points=\"79.5,-32.48 77.36,-27.64 76.01,-32.76 79.5,-32.48\"/>\n",
       "<text text-anchor=\"middle\" x=\"74.82\" y=\"-48.68\" font-family=\"DejaVu Serif,serif\" font-size=\"10.00\">3</text>\n",
       "</g>\n",
       "<!-- 1&#45;&gt;1 -->\n",
       "<g id=\"edge5\" class=\"edge\">\n",
       "<title>1&#45;&gt;1</title>\n",
       "<path fill=\"none\" stroke=\"black\" d=\"M71.16,-27.15C67.1,-43.17 68.32,-63.68 74.82,-63.68 80.66,-63.68 82.24,-47.12 79.55,-32.14\"/>\n",
       "<polygon fill=\"black\" stroke=\"black\" points=\"81.24,-31.67 78.48,-27.15 77.82,-32.4 81.24,-31.67\"/>\n",
       "<text text-anchor=\"middle\" x=\"74.82\" y=\"-66.68\" font-family=\"DejaVu Serif,serif\" font-size=\"10.00\">4</text>\n",
       "</g>\n",
       "</g>\n",
       "</svg>\n"
      ],
      "text/plain": [
       "GAP: <An object in CategoryOfQuiversEnrichedOver( SkeletalFinSets )>"
      ]
     },
     "execution_count": 27,
     "metadata": {},
     "output_type": "execute_result"
    }
   ],
   "source": [
    "Ω = SubobjectClassifier( FinQuivers )"
   ]
  },
  {
   "cell_type": "code",
   "execution_count": 28,
   "id": "3e0d5f00",
   "metadata": {},
   "outputs": [
    {
     "name": "stdout",
     "output_type": "stream",
     "text": [
      "Image of <(V)>:\n",
      "{ 0, 1 } ⱶ[ 0 .. 1 ]→ { 0, 1 }\n",
      "\n",
      "Image of <(A)>:\n",
      "{ 0,..., 4 } ⱶ[ 0 .. 4 ]→ { 0,..., 4 }\n",
      "\n",
      "A morphism in PreSheaves( FreeCategory( RightQuiver( \"q(V,A)[s:V->A,t:V->A]\" ) ), SkeletalFinSets ) given by the above data\n",
      "\n",
      "A morphism in CategoryOfQuiversEnrichedOver( SkeletalFinSets ) given by the above data\n"
     ]
    }
   ],
   "source": [
    "Display( IdentityMorphism( Ω ) )"
   ]
  },
  {
   "cell_type": "markdown",
   "id": "51cf43ae",
   "metadata": {},
   "source": [
    "Next we compute the list of subobjects of $\\Omega$:"
   ]
  },
  {
   "cell_type": "code",
   "execution_count": 29,
   "id": "81b3bef6",
   "metadata": {},
   "outputs": [],
   "source": [
    "subobjects = ListOfSubobjects( Ω );"
   ]
  },
  {
   "cell_type": "markdown",
   "id": "6f290f77",
   "metadata": {},
   "source": [
    "The bi-Heyting algebra of subobjects of $\\Omega$:"
   ]
  },
  {
   "cell_type": "code",
   "execution_count": 30,
   "id": "3c483873",
   "metadata": {
    "scrolled": false
   },
   "outputs": [],
   "source": [
    "#Visualize( DotVertexLabelledDigraph( DigraphOfSubobjects( Ω ) ) )"
   ]
  },
  {
   "cell_type": "markdown",
   "id": "3ad78cbd",
   "metadata": {},
   "source": [
    "<img src=\"SubobjectClassifierOfToposOfFinQuivers.svg\" alt=\"drawing\" width=\"500\"/>"
   ]
  },
  {
   "cell_type": "code",
   "execution_count": 31,
   "id": "97196caf",
   "metadata": {},
   "outputs": [
    {
     "data": {
      "image/svg+xml": [
       "<?xml version=\"1.0\" encoding=\"UTF-8\" standalone=\"no\"?>\n",
       "<!DOCTYPE svg PUBLIC \"-//W3C//DTD SVG 1.1//EN\"\n",
       " \"http://www.w3.org/Graphics/SVG/1.1/DTD/svg11.dtd\">\n",
       "<!-- Generated by graphviz version 2.50.0 (20211204.2007)\n",
       " -->\n",
       "<!-- Title: subquiver Pages: 1 -->\n",
       "<svg width=\"93pt\" height=\"94pt\"\n",
       " viewBox=\"0.00 0.00 93.43 93.68\" xmlns=\"http://www.w3.org/2000/svg\" xmlns:xlink=\"http://www.w3.org/1999/xlink\">\n",
       "<g id=\"graph0\" class=\"graph\" transform=\"scale(1 1) rotate(0) translate(4 89.68)\">\n",
       "<title>subquiver</title>\n",
       "<polygon fill=\"white\" stroke=\"transparent\" points=\"-4,4 -4,-89.68 89.43,-89.68 89.43,4 -4,4\"/>\n",
       "<!-- 0 -->\n",
       "<g id=\"node1\" class=\"node\">\n",
       "<title>0</title>\n",
       "<ellipse fill=\"none\" stroke=\"#c1cdcd\" cx=\"10.61\" cy=\"-17.08\" rx=\"10.71\" ry=\"10.71\"/>\n",
       "<text text-anchor=\"middle\" x=\"10.61\" y=\"-13.98\" font-family=\"DejaVu Serif,serif\" font-size=\"12.00\" fill=\"#c1cdcd\">0</text>\n",
       "</g>\n",
       "<!-- 0&#45;&gt;0 -->\n",
       "<g id=\"edge1\" class=\"edge\">\n",
       "<title>0&#45;&gt;0</title>\n",
       "<path fill=\"none\" stroke=\"#c1cdcd\" d=\"M5.76,-26.75C3.24,-35.83 4.86,-45.68 10.61,-45.68 15.28,-45.68 17.22,-39.18 16.44,-31.87\"/>\n",
       "<polygon fill=\"#c1cdcd\" stroke=\"#c1cdcd\" points=\"18.12,-31.33 15.46,-26.75 14.68,-31.99 18.12,-31.33\"/>\n",
       "<text text-anchor=\"middle\" x=\"10.61\" y=\"-48.68\" font-family=\"DejaVu Serif,serif\" font-size=\"10.00\" fill=\"#c1cdcd\">0</text>\n",
       "</g>\n",
       "<!-- 1 -->\n",
       "<g id=\"node2\" class=\"node\">\n",
       "<title>1</title>\n",
       "<ellipse fill=\"none\" stroke=\"#c1cdcd\" cx=\"74.82\" cy=\"-17.08\" rx=\"10.71\" ry=\"10.71\"/>\n",
       "<text text-anchor=\"middle\" x=\"74.82\" y=\"-13.98\" font-family=\"DejaVu Serif,serif\" font-size=\"12.00\" fill=\"#c1cdcd\">1</text>\n",
       "</g>\n",
       "<!-- 0&#45;&gt;1 -->\n",
       "<g id=\"edge3\" class=\"edge\">\n",
       "<title>0&#45;&gt;1</title>\n",
       "<path fill=\"none\" stroke=\"#c1cdcd\" d=\"M21.33,-17.08C31.4,-17.08 47.28,-17.08 58.94,-17.08\"/>\n",
       "<polygon fill=\"#c1cdcd\" stroke=\"#c1cdcd\" points=\"58.96,-18.83 63.96,-17.08 58.96,-15.33 58.96,-18.83\"/>\n",
       "<text text-anchor=\"middle\" x=\"42.71\" y=\"-20.08\" font-family=\"DejaVu Serif,serif\" font-size=\"10.00\" fill=\"#c1cdcd\">2</text>\n",
       "</g>\n",
       "<!-- 1&#45;&gt;0 -->\n",
       "<g id=\"edge2\" class=\"edge\">\n",
       "<title>1&#45;&gt;0</title>\n",
       "<path fill=\"none\" stroke=\"#c1cdcd\" d=\"M65.63,-10.79C60.39,-7.17 53.27,-2.97 46.21,-1.08 38.21,1.08 29.77,-2.7 23.22,-7.12\"/>\n",
       "<polygon fill=\"#c1cdcd\" stroke=\"#c1cdcd\" points=\"22.01,-5.84 19.02,-10.22 24.08,-8.66 22.01,-5.84\"/>\n",
       "<text text-anchor=\"middle\" x=\"42.71\" y=\"-4.08\" font-family=\"DejaVu Serif,serif\" font-size=\"10.00\" fill=\"#c1cdcd\">1</text>\n",
       "</g>\n",
       "<!-- 1&#45;&gt;1 -->\n",
       "<g id=\"edge4\" class=\"edge\">\n",
       "<title>1&#45;&gt;1</title>\n",
       "<path fill=\"none\" stroke=\"#c1cdcd\" d=\"M72.28,-27.64C71.19,-36.46 72.04,-45.68 74.82,-45.68 77.04,-45.68 78.02,-39.83 77.78,-32.98\"/>\n",
       "<polygon fill=\"#c1cdcd\" stroke=\"#c1cdcd\" points=\"79.5,-32.48 77.36,-27.64 76.01,-32.76 79.5,-32.48\"/>\n",
       "<text text-anchor=\"middle\" x=\"74.82\" y=\"-48.68\" font-family=\"DejaVu Serif,serif\" font-size=\"10.00\" fill=\"#c1cdcd\">3</text>\n",
       "</g>\n",
       "<!-- 1&#45;&gt;1 -->\n",
       "<g id=\"edge5\" class=\"edge\">\n",
       "<title>1&#45;&gt;1</title>\n",
       "<path fill=\"none\" stroke=\"#c1cdcd\" d=\"M71.16,-27.15C67.1,-43.17 68.32,-63.68 74.82,-63.68 80.66,-63.68 82.24,-47.12 79.55,-32.14\"/>\n",
       "<polygon fill=\"#c1cdcd\" stroke=\"#c1cdcd\" points=\"81.24,-31.67 78.48,-27.15 77.82,-32.4 81.24,-31.67\"/>\n",
       "<text text-anchor=\"middle\" x=\"74.82\" y=\"-66.68\" font-family=\"DejaVu Serif,serif\" font-size=\"10.00\" fill=\"#c1cdcd\">4</text>\n",
       "</g>\n",
       "</g>\n",
       "</svg>\n"
      ],
      "text/plain": [
       "GAP: <A monomorphism in CategoryOfQuiversEnrichedOver( SkeletalFinSets )>"
      ]
     },
     "execution_count": 31,
     "metadata": {},
     "output_type": "execute_result"
    }
   ],
   "source": [
    "f = subobjects[1]"
   ]
  },
  {
   "cell_type": "markdown",
   "id": "3354d43d",
   "metadata": {},
   "source": [
    "Specify a subquiver $S$ with no dangling vertices by specfying its arrows:"
   ]
  },
  {
   "cell_type": "code",
   "execution_count": 32,
   "id": "1ca4eb29",
   "metadata": {},
   "outputs": [
    {
     "data": {
      "image/svg+xml": [
       "<?xml version=\"1.0\" encoding=\"UTF-8\" standalone=\"no\"?>\n",
       "<!DOCTYPE svg PUBLIC \"-//W3C//DTD SVG 1.1//EN\"\n",
       " \"http://www.w3.org/Graphics/SVG/1.1/DTD/svg11.dtd\">\n",
       "<!-- Generated by graphviz version 2.50.0 (20211204.2007)\n",
       " -->\n",
       "<!-- Title: subquiver Pages: 1 -->\n",
       "<svg width=\"93pt\" height=\"94pt\"\n",
       " viewBox=\"0.00 0.00 93.43 93.68\" xmlns=\"http://www.w3.org/2000/svg\" xmlns:xlink=\"http://www.w3.org/1999/xlink\">\n",
       "<g id=\"graph0\" class=\"graph\" transform=\"scale(1 1) rotate(0) translate(4 89.68)\">\n",
       "<title>subquiver</title>\n",
       "<polygon fill=\"white\" stroke=\"transparent\" points=\"-4,4 -4,-89.68 89.43,-89.68 89.43,4 -4,4\"/>\n",
       "<!-- 0 -->\n",
       "<g id=\"node1\" class=\"node\">\n",
       "<title>0</title>\n",
       "<ellipse fill=\"none\" stroke=\"#c1cdcd\" cx=\"10.61\" cy=\"-17.08\" rx=\"10.71\" ry=\"10.71\"/>\n",
       "<text text-anchor=\"middle\" x=\"10.61\" y=\"-13.98\" font-family=\"DejaVu Serif,serif\" font-size=\"12.00\" fill=\"#c1cdcd\">0</text>\n",
       "</g>\n",
       "<!-- 0&#45;&gt;0 -->\n",
       "<g id=\"edge1\" class=\"edge\">\n",
       "<title>0&#45;&gt;0</title>\n",
       "<path fill=\"none\" stroke=\"#c1cdcd\" d=\"M5.76,-26.75C3.24,-35.83 4.86,-45.68 10.61,-45.68 15.28,-45.68 17.22,-39.18 16.44,-31.87\"/>\n",
       "<polygon fill=\"#c1cdcd\" stroke=\"#c1cdcd\" points=\"18.12,-31.33 15.46,-26.75 14.68,-31.99 18.12,-31.33\"/>\n",
       "<text text-anchor=\"middle\" x=\"10.61\" y=\"-48.68\" font-family=\"DejaVu Serif,serif\" font-size=\"10.00\" fill=\"#c1cdcd\">0</text>\n",
       "</g>\n",
       "<!-- 1 -->\n",
       "<g id=\"node2\" class=\"node\">\n",
       "<title>1</title>\n",
       "<ellipse fill=\"none\" stroke=\"black\" cx=\"74.82\" cy=\"-17.08\" rx=\"10.71\" ry=\"10.71\"/>\n",
       "<text text-anchor=\"middle\" x=\"74.82\" y=\"-13.98\" font-family=\"DejaVu Serif,serif\" font-size=\"12.00\">1</text>\n",
       "</g>\n",
       "<!-- 0&#45;&gt;1 -->\n",
       "<g id=\"edge3\" class=\"edge\">\n",
       "<title>0&#45;&gt;1</title>\n",
       "<path fill=\"none\" stroke=\"#c1cdcd\" d=\"M21.33,-17.08C31.4,-17.08 47.28,-17.08 58.94,-17.08\"/>\n",
       "<polygon fill=\"#c1cdcd\" stroke=\"#c1cdcd\" points=\"58.96,-18.83 63.96,-17.08 58.96,-15.33 58.96,-18.83\"/>\n",
       "<text text-anchor=\"middle\" x=\"42.71\" y=\"-20.08\" font-family=\"DejaVu Serif,serif\" font-size=\"10.00\" fill=\"#c1cdcd\">2</text>\n",
       "</g>\n",
       "<!-- 1&#45;&gt;0 -->\n",
       "<g id=\"edge2\" class=\"edge\">\n",
       "<title>1&#45;&gt;0</title>\n",
       "<path fill=\"none\" stroke=\"#c1cdcd\" d=\"M65.63,-10.79C60.39,-7.17 53.27,-2.97 46.21,-1.08 38.21,1.08 29.77,-2.7 23.22,-7.12\"/>\n",
       "<polygon fill=\"#c1cdcd\" stroke=\"#c1cdcd\" points=\"22.01,-5.84 19.02,-10.22 24.08,-8.66 22.01,-5.84\"/>\n",
       "<text text-anchor=\"middle\" x=\"42.71\" y=\"-4.08\" font-family=\"DejaVu Serif,serif\" font-size=\"10.00\" fill=\"#c1cdcd\">1</text>\n",
       "</g>\n",
       "<!-- 1&#45;&gt;1 -->\n",
       "<g id=\"edge4\" class=\"edge\">\n",
       "<title>1&#45;&gt;1</title>\n",
       "<path fill=\"none\" stroke=\"black\" d=\"M72.28,-27.64C71.19,-36.46 72.04,-45.68 74.82,-45.68 77.04,-45.68 78.02,-39.83 77.78,-32.98\"/>\n",
       "<polygon fill=\"black\" stroke=\"black\" points=\"79.5,-32.48 77.36,-27.64 76.01,-32.76 79.5,-32.48\"/>\n",
       "<text text-anchor=\"middle\" x=\"74.82\" y=\"-48.68\" font-family=\"DejaVu Serif,serif\" font-size=\"10.00\">3</text>\n",
       "</g>\n",
       "<!-- 1&#45;&gt;1 -->\n",
       "<g id=\"edge5\" class=\"edge\">\n",
       "<title>1&#45;&gt;1</title>\n",
       "<path fill=\"none\" stroke=\"#c1cdcd\" d=\"M71.16,-27.15C67.1,-43.17 68.32,-63.68 74.82,-63.68 80.66,-63.68 82.24,-47.12 79.55,-32.14\"/>\n",
       "<polygon fill=\"#c1cdcd\" stroke=\"#c1cdcd\" points=\"81.24,-31.67 78.48,-27.15 77.82,-32.4 81.24,-31.67\"/>\n",
       "<text text-anchor=\"middle\" x=\"74.82\" y=\"-66.68\" font-family=\"DejaVu Serif,serif\" font-size=\"10.00\" fill=\"#c1cdcd\">4</text>\n",
       "</g>\n",
       "</g>\n",
       "</svg>\n"
      ],
      "text/plain": [
       "GAP: <A monomorphism in CategoryOfQuiversEnrichedOver( SkeletalFinSets )>"
      ]
     },
     "execution_count": 32,
     "metadata": {},
     "output_type": "execute_result"
    }
   ],
   "source": [
    "S = Subobject( Ω, [ 3 ] )"
   ]
  },
  {
   "cell_type": "code",
   "execution_count": 33,
   "id": "02628de8",
   "metadata": {},
   "outputs": [
    {
     "data": {
      "text/plain": [
       "5"
      ]
     },
     "execution_count": 33,
     "metadata": {},
     "output_type": "execute_result"
    }
   ],
   "source": [
    "posS = Position( subobjects, S )"
   ]
  },
  {
   "cell_type": "code",
   "execution_count": 34,
   "id": "8f7b3070",
   "metadata": {},
   "outputs": [
    {
     "data": {
      "text/plain": [
       "true"
      ]
     },
     "execution_count": 34,
     "metadata": {},
     "output_type": "execute_result"
    }
   ],
   "source": [
    "S == subobjects[posS]"
   ]
  },
  {
   "cell_type": "code",
   "execution_count": 35,
   "id": "3fee1ae5",
   "metadata": {},
   "outputs": [
    {
     "data": {
      "image/svg+xml": [
       "<?xml version=\"1.0\" encoding=\"UTF-8\" standalone=\"no\"?>\n",
       "<!DOCTYPE svg PUBLIC \"-//W3C//DTD SVG 1.1//EN\"\n",
       " \"http://www.w3.org/Graphics/SVG/1.1/DTD/svg11.dtd\">\n",
       "<!-- Generated by graphviz version 2.50.0 (20211204.2007)\n",
       " -->\n",
       "<!-- Title: subquiver Pages: 1 -->\n",
       "<svg width=\"93pt\" height=\"94pt\"\n",
       " viewBox=\"0.00 0.00 93.43 93.68\" xmlns=\"http://www.w3.org/2000/svg\" xmlns:xlink=\"http://www.w3.org/1999/xlink\">\n",
       "<g id=\"graph0\" class=\"graph\" transform=\"scale(1 1) rotate(0) translate(4 89.68)\">\n",
       "<title>subquiver</title>\n",
       "<polygon fill=\"white\" stroke=\"transparent\" points=\"-4,4 -4,-89.68 89.43,-89.68 89.43,4 -4,4\"/>\n",
       "<!-- 0 -->\n",
       "<g id=\"node1\" class=\"node\">\n",
       "<title>0</title>\n",
       "<ellipse fill=\"none\" stroke=\"black\" cx=\"10.61\" cy=\"-17.08\" rx=\"10.71\" ry=\"10.71\"/>\n",
       "<text text-anchor=\"middle\" x=\"10.61\" y=\"-13.98\" font-family=\"DejaVu Serif,serif\" font-size=\"12.00\">0</text>\n",
       "</g>\n",
       "<!-- 0&#45;&gt;0 -->\n",
       "<g id=\"edge1\" class=\"edge\">\n",
       "<title>0&#45;&gt;0</title>\n",
       "<path fill=\"none\" stroke=\"black\" d=\"M5.76,-26.75C3.24,-35.83 4.86,-45.68 10.61,-45.68 15.28,-45.68 17.22,-39.18 16.44,-31.87\"/>\n",
       "<polygon fill=\"black\" stroke=\"black\" points=\"18.12,-31.33 15.46,-26.75 14.68,-31.99 18.12,-31.33\"/>\n",
       "<text text-anchor=\"middle\" x=\"10.61\" y=\"-48.68\" font-family=\"DejaVu Serif,serif\" font-size=\"10.00\">0</text>\n",
       "</g>\n",
       "<!-- 1 -->\n",
       "<g id=\"node2\" class=\"node\">\n",
       "<title>1</title>\n",
       "<ellipse fill=\"none\" stroke=\"#c1cdcd\" cx=\"74.82\" cy=\"-17.08\" rx=\"10.71\" ry=\"10.71\"/>\n",
       "<text text-anchor=\"middle\" x=\"74.82\" y=\"-13.98\" font-family=\"DejaVu Serif,serif\" font-size=\"12.00\" fill=\"#c1cdcd\">1</text>\n",
       "</g>\n",
       "<!-- 0&#45;&gt;1 -->\n",
       "<g id=\"edge3\" class=\"edge\">\n",
       "<title>0&#45;&gt;1</title>\n",
       "<path fill=\"none\" stroke=\"#c1cdcd\" d=\"M21.33,-17.08C31.4,-17.08 47.28,-17.08 58.94,-17.08\"/>\n",
       "<polygon fill=\"#c1cdcd\" stroke=\"#c1cdcd\" points=\"58.96,-18.83 63.96,-17.08 58.96,-15.33 58.96,-18.83\"/>\n",
       "<text text-anchor=\"middle\" x=\"42.71\" y=\"-20.08\" font-family=\"DejaVu Serif,serif\" font-size=\"10.00\" fill=\"#c1cdcd\">2</text>\n",
       "</g>\n",
       "<!-- 1&#45;&gt;0 -->\n",
       "<g id=\"edge2\" class=\"edge\">\n",
       "<title>1&#45;&gt;0</title>\n",
       "<path fill=\"none\" stroke=\"#c1cdcd\" d=\"M65.63,-10.79C60.39,-7.17 53.27,-2.97 46.21,-1.08 38.21,1.08 29.77,-2.7 23.22,-7.12\"/>\n",
       "<polygon fill=\"#c1cdcd\" stroke=\"#c1cdcd\" points=\"22.01,-5.84 19.02,-10.22 24.08,-8.66 22.01,-5.84\"/>\n",
       "<text text-anchor=\"middle\" x=\"42.71\" y=\"-4.08\" font-family=\"DejaVu Serif,serif\" font-size=\"10.00\" fill=\"#c1cdcd\">1</text>\n",
       "</g>\n",
       "<!-- 1&#45;&gt;1 -->\n",
       "<g id=\"edge4\" class=\"edge\">\n",
       "<title>1&#45;&gt;1</title>\n",
       "<path fill=\"none\" stroke=\"#c1cdcd\" d=\"M72.28,-27.64C71.19,-36.46 72.04,-45.68 74.82,-45.68 77.04,-45.68 78.02,-39.83 77.78,-32.98\"/>\n",
       "<polygon fill=\"#c1cdcd\" stroke=\"#c1cdcd\" points=\"79.5,-32.48 77.36,-27.64 76.01,-32.76 79.5,-32.48\"/>\n",
       "<text text-anchor=\"middle\" x=\"74.82\" y=\"-48.68\" font-family=\"DejaVu Serif,serif\" font-size=\"10.00\" fill=\"#c1cdcd\">3</text>\n",
       "</g>\n",
       "<!-- 1&#45;&gt;1 -->\n",
       "<g id=\"edge5\" class=\"edge\">\n",
       "<title>1&#45;&gt;1</title>\n",
       "<path fill=\"none\" stroke=\"#c1cdcd\" d=\"M71.16,-27.15C67.1,-43.17 68.32,-63.68 74.82,-63.68 80.66,-63.68 82.24,-47.12 79.55,-32.14\"/>\n",
       "<polygon fill=\"#c1cdcd\" stroke=\"#c1cdcd\" points=\"81.24,-31.67 78.48,-27.15 77.82,-32.4 81.24,-31.67\"/>\n",
       "<text text-anchor=\"middle\" x=\"74.82\" y=\"-66.68\" font-family=\"DejaVu Serif,serif\" font-size=\"10.00\" fill=\"#c1cdcd\">4</text>\n",
       "</g>\n",
       "</g>\n",
       "</svg>\n"
      ],
      "text/plain": [
       "GAP: <A monomorphism in CategoryOfQuiversEnrichedOver( SkeletalFinSets )>"
      ]
     },
     "execution_count": 35,
     "metadata": {},
     "output_type": "execute_result"
    }
   ],
   "source": [
    "notS = EmbeddingOfPseudoComplementSubobject( S )"
   ]
  },
  {
   "cell_type": "code",
   "execution_count": 36,
   "id": "f8b7c407",
   "metadata": {},
   "outputs": [
    {
     "data": {
      "text/plain": [
       "3"
      ]
     },
     "execution_count": 36,
     "metadata": {},
     "output_type": "execute_result"
    }
   ],
   "source": [
    "pos = Position( subobjects, notS )"
   ]
  },
  {
   "cell_type": "code",
   "execution_count": 37,
   "id": "e496f163",
   "metadata": {},
   "outputs": [
    {
     "data": {
      "text/plain": [
       "true"
      ]
     },
     "execution_count": 37,
     "metadata": {},
     "output_type": "execute_result"
    }
   ],
   "source": [
    "notS == subobjects[pos]"
   ]
  },
  {
   "cell_type": "code",
   "execution_count": 38,
   "id": "b99d393a",
   "metadata": {},
   "outputs": [
    {
     "data": {
      "image/svg+xml": [
       "<?xml version=\"1.0\" encoding=\"UTF-8\" standalone=\"no\"?>\n",
       "<!DOCTYPE svg PUBLIC \"-//W3C//DTD SVG 1.1//EN\"\n",
       " \"http://www.w3.org/Graphics/SVG/1.1/DTD/svg11.dtd\">\n",
       "<!-- Generated by graphviz version 2.50.0 (20211204.2007)\n",
       " -->\n",
       "<!-- Title: subquiver Pages: 1 -->\n",
       "<svg width=\"93pt\" height=\"94pt\"\n",
       " viewBox=\"0.00 0.00 93.43 93.68\" xmlns=\"http://www.w3.org/2000/svg\" xmlns:xlink=\"http://www.w3.org/1999/xlink\">\n",
       "<g id=\"graph0\" class=\"graph\" transform=\"scale(1 1) rotate(0) translate(4 89.68)\">\n",
       "<title>subquiver</title>\n",
       "<polygon fill=\"white\" stroke=\"transparent\" points=\"-4,4 -4,-89.68 89.43,-89.68 89.43,4 -4,4\"/>\n",
       "<!-- 0 -->\n",
       "<g id=\"node1\" class=\"node\">\n",
       "<title>0</title>\n",
       "<ellipse fill=\"none\" stroke=\"#c1cdcd\" cx=\"10.61\" cy=\"-17.08\" rx=\"10.71\" ry=\"10.71\"/>\n",
       "<text text-anchor=\"middle\" x=\"10.61\" y=\"-13.98\" font-family=\"DejaVu Serif,serif\" font-size=\"12.00\" fill=\"#c1cdcd\">0</text>\n",
       "</g>\n",
       "<!-- 0&#45;&gt;0 -->\n",
       "<g id=\"edge1\" class=\"edge\">\n",
       "<title>0&#45;&gt;0</title>\n",
       "<path fill=\"none\" stroke=\"#c1cdcd\" d=\"M5.76,-26.75C3.24,-35.83 4.86,-45.68 10.61,-45.68 15.28,-45.68 17.22,-39.18 16.44,-31.87\"/>\n",
       "<polygon fill=\"#c1cdcd\" stroke=\"#c1cdcd\" points=\"18.12,-31.33 15.46,-26.75 14.68,-31.99 18.12,-31.33\"/>\n",
       "<text text-anchor=\"middle\" x=\"10.61\" y=\"-48.68\" font-family=\"DejaVu Serif,serif\" font-size=\"10.00\" fill=\"#c1cdcd\">0</text>\n",
       "</g>\n",
       "<!-- 1 -->\n",
       "<g id=\"node2\" class=\"node\">\n",
       "<title>1</title>\n",
       "<ellipse fill=\"none\" stroke=\"black\" cx=\"74.82\" cy=\"-17.08\" rx=\"10.71\" ry=\"10.71\"/>\n",
       "<text text-anchor=\"middle\" x=\"74.82\" y=\"-13.98\" font-family=\"DejaVu Serif,serif\" font-size=\"12.00\">1</text>\n",
       "</g>\n",
       "<!-- 0&#45;&gt;1 -->\n",
       "<g id=\"edge3\" class=\"edge\">\n",
       "<title>0&#45;&gt;1</title>\n",
       "<path fill=\"none\" stroke=\"#c1cdcd\" d=\"M21.33,-17.08C31.4,-17.08 47.28,-17.08 58.94,-17.08\"/>\n",
       "<polygon fill=\"#c1cdcd\" stroke=\"#c1cdcd\" points=\"58.96,-18.83 63.96,-17.08 58.96,-15.33 58.96,-18.83\"/>\n",
       "<text text-anchor=\"middle\" x=\"42.71\" y=\"-20.08\" font-family=\"DejaVu Serif,serif\" font-size=\"10.00\" fill=\"#c1cdcd\">2</text>\n",
       "</g>\n",
       "<!-- 1&#45;&gt;0 -->\n",
       "<g id=\"edge2\" class=\"edge\">\n",
       "<title>1&#45;&gt;0</title>\n",
       "<path fill=\"none\" stroke=\"#c1cdcd\" d=\"M65.63,-10.79C60.39,-7.17 53.27,-2.97 46.21,-1.08 38.21,1.08 29.77,-2.7 23.22,-7.12\"/>\n",
       "<polygon fill=\"#c1cdcd\" stroke=\"#c1cdcd\" points=\"22.01,-5.84 19.02,-10.22 24.08,-8.66 22.01,-5.84\"/>\n",
       "<text text-anchor=\"middle\" x=\"42.71\" y=\"-4.08\" font-family=\"DejaVu Serif,serif\" font-size=\"10.00\" fill=\"#c1cdcd\">1</text>\n",
       "</g>\n",
       "<!-- 1&#45;&gt;1 -->\n",
       "<g id=\"edge4\" class=\"edge\">\n",
       "<title>1&#45;&gt;1</title>\n",
       "<path fill=\"none\" stroke=\"black\" d=\"M72.28,-27.64C71.19,-36.46 72.04,-45.68 74.82,-45.68 77.04,-45.68 78.02,-39.83 77.78,-32.98\"/>\n",
       "<polygon fill=\"black\" stroke=\"black\" points=\"79.5,-32.48 77.36,-27.64 76.01,-32.76 79.5,-32.48\"/>\n",
       "<text text-anchor=\"middle\" x=\"74.82\" y=\"-48.68\" font-family=\"DejaVu Serif,serif\" font-size=\"10.00\">3</text>\n",
       "</g>\n",
       "<!-- 1&#45;&gt;1 -->\n",
       "<g id=\"edge5\" class=\"edge\">\n",
       "<title>1&#45;&gt;1</title>\n",
       "<path fill=\"none\" stroke=\"black\" d=\"M71.16,-27.15C67.1,-43.17 68.32,-63.68 74.82,-63.68 80.66,-63.68 82.24,-47.12 79.55,-32.14\"/>\n",
       "<polygon fill=\"black\" stroke=\"black\" points=\"81.24,-31.67 78.48,-27.15 77.82,-32.4 81.24,-31.67\"/>\n",
       "<text text-anchor=\"middle\" x=\"74.82\" y=\"-66.68\" font-family=\"DejaVu Serif,serif\" font-size=\"10.00\">4</text>\n",
       "</g>\n",
       "</g>\n",
       "</svg>\n"
      ],
      "text/plain": [
       "GAP: <A monomorphism in CategoryOfQuiversEnrichedOver( SkeletalFinSets )>"
      ]
     },
     "execution_count": 38,
     "metadata": {},
     "output_type": "execute_result"
    }
   ],
   "source": [
    "notnotS = EmbeddingOfPseudoComplementSubobject( notS )"
   ]
  },
  {
   "cell_type": "code",
   "execution_count": 39,
   "id": "7cd01f3f",
   "metadata": {},
   "outputs": [
    {
     "data": {
      "text/plain": [
       "7"
      ]
     },
     "execution_count": 39,
     "metadata": {},
     "output_type": "execute_result"
    }
   ],
   "source": [
    "Position( subobjects, notnotS )"
   ]
  },
  {
   "cell_type": "code",
   "execution_count": 40,
   "id": "0381ef14",
   "metadata": {},
   "outputs": [
    {
     "data": {
      "text/plain": [
       "true"
      ]
     },
     "execution_count": 40,
     "metadata": {},
     "output_type": "execute_result"
    }
   ],
   "source": [
    "IsLiftableAlongMonomorphism( notnotS, S )"
   ]
  },
  {
   "cell_type": "code",
   "execution_count": 41,
   "id": "4a31c90f",
   "metadata": {},
   "outputs": [
    {
     "data": {
      "text/plain": [
       "false"
      ]
     },
     "execution_count": 41,
     "metadata": {},
     "output_type": "execute_result"
    }
   ],
   "source": [
    "IsLiftableAlongMonomorphism( S, notnotS )"
   ]
  },
  {
   "cell_type": "code",
   "execution_count": 42,
   "id": "2cf9889d",
   "metadata": {},
   "outputs": [
    {
     "data": {
      "image/svg+xml": [
       "<?xml version=\"1.0\" encoding=\"UTF-8\" standalone=\"no\"?>\n",
       "<!DOCTYPE svg PUBLIC \"-//W3C//DTD SVG 1.1//EN\"\n",
       " \"http://www.w3.org/Graphics/SVG/1.1/DTD/svg11.dtd\">\n",
       "<!-- Generated by graphviz version 2.50.0 (20211204.2007)\n",
       " -->\n",
       "<!-- Title: subquiver Pages: 1 -->\n",
       "<svg width=\"93pt\" height=\"94pt\"\n",
       " viewBox=\"0.00 0.00 93.43 93.68\" xmlns=\"http://www.w3.org/2000/svg\" xmlns:xlink=\"http://www.w3.org/1999/xlink\">\n",
       "<g id=\"graph0\" class=\"graph\" transform=\"scale(1 1) rotate(0) translate(4 89.68)\">\n",
       "<title>subquiver</title>\n",
       "<polygon fill=\"white\" stroke=\"transparent\" points=\"-4,4 -4,-89.68 89.43,-89.68 89.43,4 -4,4\"/>\n",
       "<!-- 0 -->\n",
       "<g id=\"node1\" class=\"node\">\n",
       "<title>0</title>\n",
       "<ellipse fill=\"none\" stroke=\"black\" cx=\"10.61\" cy=\"-17.08\" rx=\"10.71\" ry=\"10.71\"/>\n",
       "<text text-anchor=\"middle\" x=\"10.61\" y=\"-13.98\" font-family=\"DejaVu Serif,serif\" font-size=\"12.00\">0</text>\n",
       "</g>\n",
       "<!-- 0&#45;&gt;0 -->\n",
       "<g id=\"edge1\" class=\"edge\">\n",
       "<title>0&#45;&gt;0</title>\n",
       "<path fill=\"none\" stroke=\"black\" d=\"M5.76,-26.75C3.24,-35.83 4.86,-45.68 10.61,-45.68 15.28,-45.68 17.22,-39.18 16.44,-31.87\"/>\n",
       "<polygon fill=\"black\" stroke=\"black\" points=\"18.12,-31.33 15.46,-26.75 14.68,-31.99 18.12,-31.33\"/>\n",
       "<text text-anchor=\"middle\" x=\"10.61\" y=\"-48.68\" font-family=\"DejaVu Serif,serif\" font-size=\"10.00\">0</text>\n",
       "</g>\n",
       "<!-- 1 -->\n",
       "<g id=\"node2\" class=\"node\">\n",
       "<title>1</title>\n",
       "<ellipse fill=\"none\" stroke=\"#c1cdcd\" cx=\"74.82\" cy=\"-17.08\" rx=\"10.71\" ry=\"10.71\"/>\n",
       "<text text-anchor=\"middle\" x=\"74.82\" y=\"-13.98\" font-family=\"DejaVu Serif,serif\" font-size=\"12.00\" fill=\"#c1cdcd\">1</text>\n",
       "</g>\n",
       "<!-- 0&#45;&gt;1 -->\n",
       "<g id=\"edge3\" class=\"edge\">\n",
       "<title>0&#45;&gt;1</title>\n",
       "<path fill=\"none\" stroke=\"#c1cdcd\" d=\"M21.33,-17.08C31.4,-17.08 47.28,-17.08 58.94,-17.08\"/>\n",
       "<polygon fill=\"#c1cdcd\" stroke=\"#c1cdcd\" points=\"58.96,-18.83 63.96,-17.08 58.96,-15.33 58.96,-18.83\"/>\n",
       "<text text-anchor=\"middle\" x=\"42.71\" y=\"-20.08\" font-family=\"DejaVu Serif,serif\" font-size=\"10.00\" fill=\"#c1cdcd\">2</text>\n",
       "</g>\n",
       "<!-- 1&#45;&gt;0 -->\n",
       "<g id=\"edge2\" class=\"edge\">\n",
       "<title>1&#45;&gt;0</title>\n",
       "<path fill=\"none\" stroke=\"#c1cdcd\" d=\"M65.63,-10.79C60.39,-7.17 53.27,-2.97 46.21,-1.08 38.21,1.08 29.77,-2.7 23.22,-7.12\"/>\n",
       "<polygon fill=\"#c1cdcd\" stroke=\"#c1cdcd\" points=\"22.01,-5.84 19.02,-10.22 24.08,-8.66 22.01,-5.84\"/>\n",
       "<text text-anchor=\"middle\" x=\"42.71\" y=\"-4.08\" font-family=\"DejaVu Serif,serif\" font-size=\"10.00\" fill=\"#c1cdcd\">1</text>\n",
       "</g>\n",
       "<!-- 1&#45;&gt;1 -->\n",
       "<g id=\"edge4\" class=\"edge\">\n",
       "<title>1&#45;&gt;1</title>\n",
       "<path fill=\"none\" stroke=\"#c1cdcd\" d=\"M72.28,-27.64C71.19,-36.46 72.04,-45.68 74.82,-45.68 77.04,-45.68 78.02,-39.83 77.78,-32.98\"/>\n",
       "<polygon fill=\"#c1cdcd\" stroke=\"#c1cdcd\" points=\"79.5,-32.48 77.36,-27.64 76.01,-32.76 79.5,-32.48\"/>\n",
       "<text text-anchor=\"middle\" x=\"74.82\" y=\"-48.68\" font-family=\"DejaVu Serif,serif\" font-size=\"10.00\" fill=\"#c1cdcd\">3</text>\n",
       "</g>\n",
       "<!-- 1&#45;&gt;1 -->\n",
       "<g id=\"edge5\" class=\"edge\">\n",
       "<title>1&#45;&gt;1</title>\n",
       "<path fill=\"none\" stroke=\"#c1cdcd\" d=\"M71.16,-27.15C67.1,-43.17 68.32,-63.68 74.82,-63.68 80.66,-63.68 82.24,-47.12 79.55,-32.14\"/>\n",
       "<polygon fill=\"#c1cdcd\" stroke=\"#c1cdcd\" points=\"81.24,-31.67 78.48,-27.15 77.82,-32.4 81.24,-31.67\"/>\n",
       "<text text-anchor=\"middle\" x=\"74.82\" y=\"-66.68\" font-family=\"DejaVu Serif,serif\" font-size=\"10.00\" fill=\"#c1cdcd\">4</text>\n",
       "</g>\n",
       "</g>\n",
       "</svg>\n"
      ],
      "text/plain": [
       "GAP: <A monomorphism in CategoryOfQuiversEnrichedOver( SkeletalFinSets )>"
      ]
     },
     "execution_count": 42,
     "metadata": {},
     "output_type": "execute_result"
    }
   ],
   "source": [
    "notnotnotS = EmbeddingOfPseudoComplementSubobject( notnotS )"
   ]
  },
  {
   "cell_type": "code",
   "execution_count": 43,
   "id": "e94a6836",
   "metadata": {},
   "outputs": [
    {
     "data": {
      "text/plain": [
       "true"
      ]
     },
     "execution_count": 43,
     "metadata": {},
     "output_type": "execute_result"
    }
   ],
   "source": [
    "IsEqualAsSubobjects( notS, notnotnotS )"
   ]
  },
  {
   "cell_type": "code",
   "execution_count": 44,
   "id": "12640d12",
   "metadata": {},
   "outputs": [
    {
     "data": {
      "image/svg+xml": [
       "<?xml version=\"1.0\" encoding=\"UTF-8\" standalone=\"no\"?>\n",
       "<!DOCTYPE svg PUBLIC \"-//W3C//DTD SVG 1.1//EN\"\n",
       " \"http://www.w3.org/Graphics/SVG/1.1/DTD/svg11.dtd\">\n",
       "<!-- Generated by graphviz version 2.50.0 (20211204.2007)\n",
       " -->\n",
       "<!-- Title: subquiver Pages: 1 -->\n",
       "<svg width=\"93pt\" height=\"94pt\"\n",
       " viewBox=\"0.00 0.00 93.43 93.68\" xmlns=\"http://www.w3.org/2000/svg\" xmlns:xlink=\"http://www.w3.org/1999/xlink\">\n",
       "<g id=\"graph0\" class=\"graph\" transform=\"scale(1 1) rotate(0) translate(4 89.68)\">\n",
       "<title>subquiver</title>\n",
       "<polygon fill=\"white\" stroke=\"transparent\" points=\"-4,4 -4,-89.68 89.43,-89.68 89.43,4 -4,4\"/>\n",
       "<!-- 0 -->\n",
       "<g id=\"node1\" class=\"node\">\n",
       "<title>0</title>\n",
       "<ellipse fill=\"none\" stroke=\"black\" cx=\"10.61\" cy=\"-17.08\" rx=\"10.71\" ry=\"10.71\"/>\n",
       "<text text-anchor=\"middle\" x=\"10.61\" y=\"-13.98\" font-family=\"DejaVu Serif,serif\" font-size=\"12.00\">0</text>\n",
       "</g>\n",
       "<!-- 0&#45;&gt;0 -->\n",
       "<g id=\"edge1\" class=\"edge\">\n",
       "<title>0&#45;&gt;0</title>\n",
       "<path fill=\"none\" stroke=\"black\" d=\"M5.76,-26.75C3.24,-35.83 4.86,-45.68 10.61,-45.68 15.28,-45.68 17.22,-39.18 16.44,-31.87\"/>\n",
       "<polygon fill=\"black\" stroke=\"black\" points=\"18.12,-31.33 15.46,-26.75 14.68,-31.99 18.12,-31.33\"/>\n",
       "<text text-anchor=\"middle\" x=\"10.61\" y=\"-48.68\" font-family=\"DejaVu Serif,serif\" font-size=\"10.00\">0</text>\n",
       "</g>\n",
       "<!-- 1 -->\n",
       "<g id=\"node2\" class=\"node\">\n",
       "<title>1</title>\n",
       "<ellipse fill=\"none\" stroke=\"black\" cx=\"74.82\" cy=\"-17.08\" rx=\"10.71\" ry=\"10.71\"/>\n",
       "<text text-anchor=\"middle\" x=\"74.82\" y=\"-13.98\" font-family=\"DejaVu Serif,serif\" font-size=\"12.00\">1</text>\n",
       "</g>\n",
       "<!-- 0&#45;&gt;1 -->\n",
       "<g id=\"edge3\" class=\"edge\">\n",
       "<title>0&#45;&gt;1</title>\n",
       "<path fill=\"none\" stroke=\"#c1cdcd\" d=\"M21.33,-17.08C31.4,-17.08 47.28,-17.08 58.94,-17.08\"/>\n",
       "<polygon fill=\"#c1cdcd\" stroke=\"#c1cdcd\" points=\"58.96,-18.83 63.96,-17.08 58.96,-15.33 58.96,-18.83\"/>\n",
       "<text text-anchor=\"middle\" x=\"42.71\" y=\"-20.08\" font-family=\"DejaVu Serif,serif\" font-size=\"10.00\" fill=\"#c1cdcd\">2</text>\n",
       "</g>\n",
       "<!-- 1&#45;&gt;0 -->\n",
       "<g id=\"edge2\" class=\"edge\">\n",
       "<title>1&#45;&gt;0</title>\n",
       "<path fill=\"none\" stroke=\"#c1cdcd\" d=\"M65.63,-10.79C60.39,-7.17 53.27,-2.97 46.21,-1.08 38.21,1.08 29.77,-2.7 23.22,-7.12\"/>\n",
       "<polygon fill=\"#c1cdcd\" stroke=\"#c1cdcd\" points=\"22.01,-5.84 19.02,-10.22 24.08,-8.66 22.01,-5.84\"/>\n",
       "<text text-anchor=\"middle\" x=\"42.71\" y=\"-4.08\" font-family=\"DejaVu Serif,serif\" font-size=\"10.00\" fill=\"#c1cdcd\">1</text>\n",
       "</g>\n",
       "<!-- 1&#45;&gt;1 -->\n",
       "<g id=\"edge4\" class=\"edge\">\n",
       "<title>1&#45;&gt;1</title>\n",
       "<path fill=\"none\" stroke=\"black\" d=\"M72.28,-27.64C71.19,-36.46 72.04,-45.68 74.82,-45.68 77.04,-45.68 78.02,-39.83 77.78,-32.98\"/>\n",
       "<polygon fill=\"black\" stroke=\"black\" points=\"79.5,-32.48 77.36,-27.64 76.01,-32.76 79.5,-32.48\"/>\n",
       "<text text-anchor=\"middle\" x=\"74.82\" y=\"-48.68\" font-family=\"DejaVu Serif,serif\" font-size=\"10.00\">3</text>\n",
       "</g>\n",
       "<!-- 1&#45;&gt;1 -->\n",
       "<g id=\"edge5\" class=\"edge\">\n",
       "<title>1&#45;&gt;1</title>\n",
       "<path fill=\"none\" stroke=\"#c1cdcd\" d=\"M71.16,-27.15C67.1,-43.17 68.32,-63.68 74.82,-63.68 80.66,-63.68 82.24,-47.12 79.55,-32.14\"/>\n",
       "<polygon fill=\"#c1cdcd\" stroke=\"#c1cdcd\" points=\"81.24,-31.67 78.48,-27.15 77.82,-32.4 81.24,-31.67\"/>\n",
       "<text text-anchor=\"middle\" x=\"74.82\" y=\"-66.68\" font-family=\"DejaVu Serif,serif\" font-size=\"10.00\" fill=\"#c1cdcd\">4</text>\n",
       "</g>\n",
       "</g>\n",
       "</svg>\n"
      ],
      "text/plain": [
       "GAP: <A monomorphism in CategoryOfQuiversEnrichedOver( SkeletalFinSets )>"
      ]
     },
     "execution_count": 44,
     "metadata": {},
     "output_type": "execute_result"
    }
   ],
   "source": [
    "S_or_notS = EmbeddingOfUnionSubobject( S, notS )"
   ]
  },
  {
   "cell_type": "code",
   "execution_count": 45,
   "id": "5ea02378",
   "metadata": {},
   "outputs": [
    {
     "data": {
      "text/plain": [
       "17"
      ]
     },
     "execution_count": 45,
     "metadata": {},
     "output_type": "execute_result"
    }
   ],
   "source": [
    "Position( subobjects, S_or_notS )"
   ]
  },
  {
   "cell_type": "code",
   "execution_count": 46,
   "id": "3d198ac0",
   "metadata": {},
   "outputs": [
    {
     "data": {
      "image/svg+xml": [
       "<?xml version=\"1.0\" encoding=\"UTF-8\" standalone=\"no\"?>\n",
       "<!DOCTYPE svg PUBLIC \"-//W3C//DTD SVG 1.1//EN\"\n",
       " \"http://www.w3.org/Graphics/SVG/1.1/DTD/svg11.dtd\">\n",
       "<!-- Generated by graphviz version 2.50.0 (20211204.2007)\n",
       " -->\n",
       "<!-- Title: subquiver Pages: 1 -->\n",
       "<svg width=\"93pt\" height=\"94pt\"\n",
       " viewBox=\"0.00 0.00 93.43 93.68\" xmlns=\"http://www.w3.org/2000/svg\" xmlns:xlink=\"http://www.w3.org/1999/xlink\">\n",
       "<g id=\"graph0\" class=\"graph\" transform=\"scale(1 1) rotate(0) translate(4 89.68)\">\n",
       "<title>subquiver</title>\n",
       "<polygon fill=\"white\" stroke=\"transparent\" points=\"-4,4 -4,-89.68 89.43,-89.68 89.43,4 -4,4\"/>\n",
       "<!-- 0 -->\n",
       "<g id=\"node1\" class=\"node\">\n",
       "<title>0</title>\n",
       "<ellipse fill=\"none\" stroke=\"black\" cx=\"10.61\" cy=\"-17.08\" rx=\"10.71\" ry=\"10.71\"/>\n",
       "<text text-anchor=\"middle\" x=\"10.61\" y=\"-13.98\" font-family=\"DejaVu Serif,serif\" font-size=\"12.00\">0</text>\n",
       "</g>\n",
       "<!-- 0&#45;&gt;0 -->\n",
       "<g id=\"edge1\" class=\"edge\">\n",
       "<title>0&#45;&gt;0</title>\n",
       "<path fill=\"none\" stroke=\"black\" d=\"M5.76,-26.75C3.24,-35.83 4.86,-45.68 10.61,-45.68 15.28,-45.68 17.22,-39.18 16.44,-31.87\"/>\n",
       "<polygon fill=\"black\" stroke=\"black\" points=\"18.12,-31.33 15.46,-26.75 14.68,-31.99 18.12,-31.33\"/>\n",
       "<text text-anchor=\"middle\" x=\"10.61\" y=\"-48.68\" font-family=\"DejaVu Serif,serif\" font-size=\"10.00\">0</text>\n",
       "</g>\n",
       "<!-- 1 -->\n",
       "<g id=\"node2\" class=\"node\">\n",
       "<title>1</title>\n",
       "<ellipse fill=\"none\" stroke=\"black\" cx=\"74.82\" cy=\"-17.08\" rx=\"10.71\" ry=\"10.71\"/>\n",
       "<text text-anchor=\"middle\" x=\"74.82\" y=\"-13.98\" font-family=\"DejaVu Serif,serif\" font-size=\"12.00\">1</text>\n",
       "</g>\n",
       "<!-- 0&#45;&gt;1 -->\n",
       "<g id=\"edge3\" class=\"edge\">\n",
       "<title>0&#45;&gt;1</title>\n",
       "<path fill=\"none\" stroke=\"#c1cdcd\" d=\"M21.33,-17.08C31.4,-17.08 47.28,-17.08 58.94,-17.08\"/>\n",
       "<polygon fill=\"#c1cdcd\" stroke=\"#c1cdcd\" points=\"58.96,-18.83 63.96,-17.08 58.96,-15.33 58.96,-18.83\"/>\n",
       "<text text-anchor=\"middle\" x=\"42.71\" y=\"-20.08\" font-family=\"DejaVu Serif,serif\" font-size=\"10.00\" fill=\"#c1cdcd\">2</text>\n",
       "</g>\n",
       "<!-- 1&#45;&gt;0 -->\n",
       "<g id=\"edge2\" class=\"edge\">\n",
       "<title>1&#45;&gt;0</title>\n",
       "<path fill=\"none\" stroke=\"#c1cdcd\" d=\"M65.63,-10.79C60.39,-7.17 53.27,-2.97 46.21,-1.08 38.21,1.08 29.77,-2.7 23.22,-7.12\"/>\n",
       "<polygon fill=\"#c1cdcd\" stroke=\"#c1cdcd\" points=\"22.01,-5.84 19.02,-10.22 24.08,-8.66 22.01,-5.84\"/>\n",
       "<text text-anchor=\"middle\" x=\"42.71\" y=\"-4.08\" font-family=\"DejaVu Serif,serif\" font-size=\"10.00\" fill=\"#c1cdcd\">1</text>\n",
       "</g>\n",
       "<!-- 1&#45;&gt;1 -->\n",
       "<g id=\"edge4\" class=\"edge\">\n",
       "<title>1&#45;&gt;1</title>\n",
       "<path fill=\"none\" stroke=\"black\" d=\"M72.28,-27.64C71.19,-36.46 72.04,-45.68 74.82,-45.68 77.04,-45.68 78.02,-39.83 77.78,-32.98\"/>\n",
       "<polygon fill=\"black\" stroke=\"black\" points=\"79.5,-32.48 77.36,-27.64 76.01,-32.76 79.5,-32.48\"/>\n",
       "<text text-anchor=\"middle\" x=\"74.82\" y=\"-48.68\" font-family=\"DejaVu Serif,serif\" font-size=\"10.00\">3</text>\n",
       "</g>\n",
       "<!-- 1&#45;&gt;1 -->\n",
       "<g id=\"edge5\" class=\"edge\">\n",
       "<title>1&#45;&gt;1</title>\n",
       "<path fill=\"none\" stroke=\"black\" d=\"M71.16,-27.15C67.1,-43.17 68.32,-63.68 74.82,-63.68 80.66,-63.68 82.24,-47.12 79.55,-32.14\"/>\n",
       "<polygon fill=\"black\" stroke=\"black\" points=\"81.24,-31.67 78.48,-27.15 77.82,-32.4 81.24,-31.67\"/>\n",
       "<text text-anchor=\"middle\" x=\"74.82\" y=\"-66.68\" font-family=\"DejaVu Serif,serif\" font-size=\"10.00\">4</text>\n",
       "</g>\n",
       "</g>\n",
       "</svg>\n"
      ],
      "text/plain": [
       "GAP: <A monomorphism in CategoryOfQuiversEnrichedOver( SkeletalFinSets )>"
      ]
     },
     "execution_count": 46,
     "metadata": {},
     "output_type": "execute_result"
    }
   ],
   "source": [
    "notS_or_notnotS = EmbeddingOfUnionSubobject( notS, notnotS )"
   ]
  },
  {
   "cell_type": "code",
   "execution_count": 47,
   "id": "11dbb81c",
   "metadata": {},
   "outputs": [
    {
     "data": {
      "text/plain": [
       "33"
      ]
     },
     "execution_count": 47,
     "metadata": {},
     "output_type": "execute_result"
    }
   ],
   "source": [
    "Position( subobjects, notS_or_notnotS )"
   ]
  },
  {
   "cell_type": "code",
   "execution_count": 48,
   "id": "4a6e42a0",
   "metadata": {},
   "outputs": [
    {
     "data": {
      "image/svg+xml": [
       "<?xml version=\"1.0\" encoding=\"UTF-8\" standalone=\"no\"?>\n",
       "<!DOCTYPE svg PUBLIC \"-//W3C//DTD SVG 1.1//EN\"\n",
       " \"http://www.w3.org/Graphics/SVG/1.1/DTD/svg11.dtd\">\n",
       "<!-- Generated by graphviz version 2.50.0 (20211204.2007)\n",
       " -->\n",
       "<!-- Title: subquiver Pages: 1 -->\n",
       "<svg width=\"93pt\" height=\"94pt\"\n",
       " viewBox=\"0.00 0.00 93.43 93.68\" xmlns=\"http://www.w3.org/2000/svg\" xmlns:xlink=\"http://www.w3.org/1999/xlink\">\n",
       "<g id=\"graph0\" class=\"graph\" transform=\"scale(1 1) rotate(0) translate(4 89.68)\">\n",
       "<title>subquiver</title>\n",
       "<polygon fill=\"white\" stroke=\"transparent\" points=\"-4,4 -4,-89.68 89.43,-89.68 89.43,4 -4,4\"/>\n",
       "<!-- 0 -->\n",
       "<g id=\"node1\" class=\"node\">\n",
       "<title>0</title>\n",
       "<ellipse fill=\"none\" stroke=\"black\" cx=\"10.61\" cy=\"-17.08\" rx=\"10.71\" ry=\"10.71\"/>\n",
       "<text text-anchor=\"middle\" x=\"10.61\" y=\"-13.98\" font-family=\"DejaVu Serif,serif\" font-size=\"12.00\">0</text>\n",
       "</g>\n",
       "<!-- 0&#45;&gt;0 -->\n",
       "<g id=\"edge1\" class=\"edge\">\n",
       "<title>0&#45;&gt;0</title>\n",
       "<path fill=\"none\" stroke=\"black\" d=\"M5.76,-26.75C3.24,-35.83 4.86,-45.68 10.61,-45.68 15.28,-45.68 17.22,-39.18 16.44,-31.87\"/>\n",
       "<polygon fill=\"black\" stroke=\"black\" points=\"18.12,-31.33 15.46,-26.75 14.68,-31.99 18.12,-31.33\"/>\n",
       "<text text-anchor=\"middle\" x=\"10.61\" y=\"-48.68\" font-family=\"DejaVu Serif,serif\" font-size=\"10.00\">0</text>\n",
       "</g>\n",
       "<!-- 1 -->\n",
       "<g id=\"node2\" class=\"node\">\n",
       "<title>1</title>\n",
       "<ellipse fill=\"none\" stroke=\"black\" cx=\"74.82\" cy=\"-17.08\" rx=\"10.71\" ry=\"10.71\"/>\n",
       "<text text-anchor=\"middle\" x=\"74.82\" y=\"-13.98\" font-family=\"DejaVu Serif,serif\" font-size=\"12.00\">1</text>\n",
       "</g>\n",
       "<!-- 0&#45;&gt;1 -->\n",
       "<g id=\"edge3\" class=\"edge\">\n",
       "<title>0&#45;&gt;1</title>\n",
       "<path fill=\"none\" stroke=\"#c1cdcd\" d=\"M21.33,-17.08C31.4,-17.08 47.28,-17.08 58.94,-17.08\"/>\n",
       "<polygon fill=\"#c1cdcd\" stroke=\"#c1cdcd\" points=\"58.96,-18.83 63.96,-17.08 58.96,-15.33 58.96,-18.83\"/>\n",
       "<text text-anchor=\"middle\" x=\"42.71\" y=\"-20.08\" font-family=\"DejaVu Serif,serif\" font-size=\"10.00\" fill=\"#c1cdcd\">2</text>\n",
       "</g>\n",
       "<!-- 1&#45;&gt;0 -->\n",
       "<g id=\"edge2\" class=\"edge\">\n",
       "<title>1&#45;&gt;0</title>\n",
       "<path fill=\"none\" stroke=\"#c1cdcd\" d=\"M65.63,-10.79C60.39,-7.17 53.27,-2.97 46.21,-1.08 38.21,1.08 29.77,-2.7 23.22,-7.12\"/>\n",
       "<polygon fill=\"#c1cdcd\" stroke=\"#c1cdcd\" points=\"22.01,-5.84 19.02,-10.22 24.08,-8.66 22.01,-5.84\"/>\n",
       "<text text-anchor=\"middle\" x=\"42.71\" y=\"-4.08\" font-family=\"DejaVu Serif,serif\" font-size=\"10.00\" fill=\"#c1cdcd\">1</text>\n",
       "</g>\n",
       "<!-- 1&#45;&gt;1 -->\n",
       "<g id=\"edge4\" class=\"edge\">\n",
       "<title>1&#45;&gt;1</title>\n",
       "<path fill=\"none\" stroke=\"black\" d=\"M72.28,-27.64C71.19,-36.46 72.04,-45.68 74.82,-45.68 77.04,-45.68 78.02,-39.83 77.78,-32.98\"/>\n",
       "<polygon fill=\"black\" stroke=\"black\" points=\"79.5,-32.48 77.36,-27.64 76.01,-32.76 79.5,-32.48\"/>\n",
       "<text text-anchor=\"middle\" x=\"74.82\" y=\"-48.68\" font-family=\"DejaVu Serif,serif\" font-size=\"10.00\">3</text>\n",
       "</g>\n",
       "<!-- 1&#45;&gt;1 -->\n",
       "<g id=\"edge5\" class=\"edge\">\n",
       "<title>1&#45;&gt;1</title>\n",
       "<path fill=\"none\" stroke=\"black\" d=\"M71.16,-27.15C67.1,-43.17 68.32,-63.68 74.82,-63.68 80.66,-63.68 82.24,-47.12 79.55,-32.14\"/>\n",
       "<polygon fill=\"black\" stroke=\"black\" points=\"81.24,-31.67 78.48,-27.15 77.82,-32.4 81.24,-31.67\"/>\n",
       "<text text-anchor=\"middle\" x=\"74.82\" y=\"-66.68\" font-family=\"DejaVu Serif,serif\" font-size=\"10.00\">4</text>\n",
       "</g>\n",
       "</g>\n",
       "</svg>\n"
      ],
      "text/plain": [
       "GAP: <A monomorphism in CategoryOfQuiversEnrichedOver( SkeletalFinSets )>"
      ]
     },
     "execution_count": 48,
     "metadata": {},
     "output_type": "execute_result"
    }
   ],
   "source": [
    "notnotS_or_notnotnotS = EmbeddingOfUnionSubobject( notS, notnotS )"
   ]
  },
  {
   "cell_type": "code",
   "execution_count": 49,
   "id": "d7d3ae6e",
   "metadata": {},
   "outputs": [
    {
     "data": {
      "text/plain": [
       "true"
      ]
     },
     "execution_count": 49,
     "metadata": {},
     "output_type": "execute_result"
    }
   ],
   "source": [
    "IsEqualAsSubobjects( notS_or_notnotS, notnotS_or_notnotnotS )"
   ]
  },
  {
   "cell_type": "markdown",
   "id": "11f8a9ed",
   "metadata": {},
   "source": [
    "Specify a subquiver $T$ with no dangling vertices by specfying its arrows:"
   ]
  },
  {
   "cell_type": "code",
   "execution_count": 50,
   "id": "7fad99db",
   "metadata": {},
   "outputs": [
    {
     "data": {
      "image/svg+xml": [
       "<?xml version=\"1.0\" encoding=\"UTF-8\" standalone=\"no\"?>\n",
       "<!DOCTYPE svg PUBLIC \"-//W3C//DTD SVG 1.1//EN\"\n",
       " \"http://www.w3.org/Graphics/SVG/1.1/DTD/svg11.dtd\">\n",
       "<!-- Generated by graphviz version 2.50.0 (20211204.2007)\n",
       " -->\n",
       "<!-- Title: subquiver Pages: 1 -->\n",
       "<svg width=\"93pt\" height=\"94pt\"\n",
       " viewBox=\"0.00 0.00 93.43 93.68\" xmlns=\"http://www.w3.org/2000/svg\" xmlns:xlink=\"http://www.w3.org/1999/xlink\">\n",
       "<g id=\"graph0\" class=\"graph\" transform=\"scale(1 1) rotate(0) translate(4 89.68)\">\n",
       "<title>subquiver</title>\n",
       "<polygon fill=\"white\" stroke=\"transparent\" points=\"-4,4 -4,-89.68 89.43,-89.68 89.43,4 -4,4\"/>\n",
       "<!-- 0 -->\n",
       "<g id=\"node1\" class=\"node\">\n",
       "<title>0</title>\n",
       "<ellipse fill=\"none\" stroke=\"black\" cx=\"10.61\" cy=\"-17.08\" rx=\"10.71\" ry=\"10.71\"/>\n",
       "<text text-anchor=\"middle\" x=\"10.61\" y=\"-13.98\" font-family=\"DejaVu Serif,serif\" font-size=\"12.00\">0</text>\n",
       "</g>\n",
       "<!-- 0&#45;&gt;0 -->\n",
       "<g id=\"edge1\" class=\"edge\">\n",
       "<title>0&#45;&gt;0</title>\n",
       "<path fill=\"none\" stroke=\"#c1cdcd\" d=\"M5.76,-26.75C3.24,-35.83 4.86,-45.68 10.61,-45.68 15.28,-45.68 17.22,-39.18 16.44,-31.87\"/>\n",
       "<polygon fill=\"#c1cdcd\" stroke=\"#c1cdcd\" points=\"18.12,-31.33 15.46,-26.75 14.68,-31.99 18.12,-31.33\"/>\n",
       "<text text-anchor=\"middle\" x=\"10.61\" y=\"-48.68\" font-family=\"DejaVu Serif,serif\" font-size=\"10.00\" fill=\"#c1cdcd\">0</text>\n",
       "</g>\n",
       "<!-- 1 -->\n",
       "<g id=\"node2\" class=\"node\">\n",
       "<title>1</title>\n",
       "<ellipse fill=\"none\" stroke=\"black\" cx=\"74.82\" cy=\"-17.08\" rx=\"10.71\" ry=\"10.71\"/>\n",
       "<text text-anchor=\"middle\" x=\"74.82\" y=\"-13.98\" font-family=\"DejaVu Serif,serif\" font-size=\"12.00\">1</text>\n",
       "</g>\n",
       "<!-- 0&#45;&gt;1 -->\n",
       "<g id=\"edge3\" class=\"edge\">\n",
       "<title>0&#45;&gt;1</title>\n",
       "<path fill=\"none\" stroke=\"black\" d=\"M21.33,-17.08C31.4,-17.08 47.28,-17.08 58.94,-17.08\"/>\n",
       "<polygon fill=\"black\" stroke=\"black\" points=\"58.96,-18.83 63.96,-17.08 58.96,-15.33 58.96,-18.83\"/>\n",
       "<text text-anchor=\"middle\" x=\"42.71\" y=\"-20.08\" font-family=\"DejaVu Serif,serif\" font-size=\"10.00\">2</text>\n",
       "</g>\n",
       "<!-- 1&#45;&gt;0 -->\n",
       "<g id=\"edge2\" class=\"edge\">\n",
       "<title>1&#45;&gt;0</title>\n",
       "<path fill=\"none\" stroke=\"#c1cdcd\" d=\"M65.63,-10.79C60.39,-7.17 53.27,-2.97 46.21,-1.08 38.21,1.08 29.77,-2.7 23.22,-7.12\"/>\n",
       "<polygon fill=\"#c1cdcd\" stroke=\"#c1cdcd\" points=\"22.01,-5.84 19.02,-10.22 24.08,-8.66 22.01,-5.84\"/>\n",
       "<text text-anchor=\"middle\" x=\"42.71\" y=\"-4.08\" font-family=\"DejaVu Serif,serif\" font-size=\"10.00\" fill=\"#c1cdcd\">1</text>\n",
       "</g>\n",
       "<!-- 1&#45;&gt;1 -->\n",
       "<g id=\"edge4\" class=\"edge\">\n",
       "<title>1&#45;&gt;1</title>\n",
       "<path fill=\"none\" stroke=\"black\" d=\"M72.28,-27.64C71.19,-36.46 72.04,-45.68 74.82,-45.68 77.04,-45.68 78.02,-39.83 77.78,-32.98\"/>\n",
       "<polygon fill=\"black\" stroke=\"black\" points=\"79.5,-32.48 77.36,-27.64 76.01,-32.76 79.5,-32.48\"/>\n",
       "<text text-anchor=\"middle\" x=\"74.82\" y=\"-48.68\" font-family=\"DejaVu Serif,serif\" font-size=\"10.00\">3</text>\n",
       "</g>\n",
       "<!-- 1&#45;&gt;1 -->\n",
       "<g id=\"edge5\" class=\"edge\">\n",
       "<title>1&#45;&gt;1</title>\n",
       "<path fill=\"none\" stroke=\"black\" d=\"M71.16,-27.15C67.1,-43.17 68.32,-63.68 74.82,-63.68 80.66,-63.68 82.24,-47.12 79.55,-32.14\"/>\n",
       "<polygon fill=\"black\" stroke=\"black\" points=\"81.24,-31.67 78.48,-27.15 77.82,-32.4 81.24,-31.67\"/>\n",
       "<text text-anchor=\"middle\" x=\"74.82\" y=\"-66.68\" font-family=\"DejaVu Serif,serif\" font-size=\"10.00\">4</text>\n",
       "</g>\n",
       "</g>\n",
       "</svg>\n"
      ],
      "text/plain": [
       "GAP: <A monomorphism in CategoryOfQuiversEnrichedOver( SkeletalFinSets )>"
      ]
     },
     "execution_count": 50,
     "metadata": {},
     "output_type": "execute_result"
    }
   ],
   "source": [
    "T = Subobject( Ω, [ 2, 3, 4 ] )"
   ]
  },
  {
   "cell_type": "code",
   "execution_count": 51,
   "id": "2fd20d03",
   "metadata": {},
   "outputs": [
    {
     "data": {
      "text/plain": [
       "36"
      ]
     },
     "execution_count": 51,
     "metadata": {},
     "output_type": "execute_result"
    }
   ],
   "source": [
    "Position( subobjects, T )"
   ]
  },
  {
   "cell_type": "markdown",
   "id": "a2022371",
   "metadata": {},
   "source": [
    "Specify a subquiver $U$ by specifying the dangling object and the arrows:"
   ]
  },
  {
   "cell_type": "code",
   "execution_count": 52,
   "id": "3c4b9780",
   "metadata": {},
   "outputs": [
    {
     "data": {
      "image/svg+xml": [
       "<?xml version=\"1.0\" encoding=\"UTF-8\" standalone=\"no\"?>\n",
       "<!DOCTYPE svg PUBLIC \"-//W3C//DTD SVG 1.1//EN\"\n",
       " \"http://www.w3.org/Graphics/SVG/1.1/DTD/svg11.dtd\">\n",
       "<!-- Generated by graphviz version 2.50.0 (20211204.2007)\n",
       " -->\n",
       "<!-- Title: subquiver Pages: 1 -->\n",
       "<svg width=\"93pt\" height=\"94pt\"\n",
       " viewBox=\"0.00 0.00 93.43 93.68\" xmlns=\"http://www.w3.org/2000/svg\" xmlns:xlink=\"http://www.w3.org/1999/xlink\">\n",
       "<g id=\"graph0\" class=\"graph\" transform=\"scale(1 1) rotate(0) translate(4 89.68)\">\n",
       "<title>subquiver</title>\n",
       "<polygon fill=\"white\" stroke=\"transparent\" points=\"-4,4 -4,-89.68 89.43,-89.68 89.43,4 -4,4\"/>\n",
       "<!-- 0 -->\n",
       "<g id=\"node1\" class=\"node\">\n",
       "<title>0</title>\n",
       "<ellipse fill=\"none\" stroke=\"black\" cx=\"10.61\" cy=\"-17.08\" rx=\"10.71\" ry=\"10.71\"/>\n",
       "<text text-anchor=\"middle\" x=\"10.61\" y=\"-13.98\" font-family=\"DejaVu Serif,serif\" font-size=\"12.00\">0</text>\n",
       "</g>\n",
       "<!-- 0&#45;&gt;0 -->\n",
       "<g id=\"edge1\" class=\"edge\">\n",
       "<title>0&#45;&gt;0</title>\n",
       "<path fill=\"none\" stroke=\"#c1cdcd\" d=\"M5.76,-26.75C3.24,-35.83 4.86,-45.68 10.61,-45.68 15.28,-45.68 17.22,-39.18 16.44,-31.87\"/>\n",
       "<polygon fill=\"#c1cdcd\" stroke=\"#c1cdcd\" points=\"18.12,-31.33 15.46,-26.75 14.68,-31.99 18.12,-31.33\"/>\n",
       "<text text-anchor=\"middle\" x=\"10.61\" y=\"-48.68\" font-family=\"DejaVu Serif,serif\" font-size=\"10.00\" fill=\"#c1cdcd\">0</text>\n",
       "</g>\n",
       "<!-- 1 -->\n",
       "<g id=\"node2\" class=\"node\">\n",
       "<title>1</title>\n",
       "<ellipse fill=\"none\" stroke=\"black\" cx=\"74.82\" cy=\"-17.08\" rx=\"10.71\" ry=\"10.71\"/>\n",
       "<text text-anchor=\"middle\" x=\"74.82\" y=\"-13.98\" font-family=\"DejaVu Serif,serif\" font-size=\"12.00\">1</text>\n",
       "</g>\n",
       "<!-- 0&#45;&gt;1 -->\n",
       "<g id=\"edge3\" class=\"edge\">\n",
       "<title>0&#45;&gt;1</title>\n",
       "<path fill=\"none\" stroke=\"#c1cdcd\" d=\"M21.33,-17.08C31.4,-17.08 47.28,-17.08 58.94,-17.08\"/>\n",
       "<polygon fill=\"#c1cdcd\" stroke=\"#c1cdcd\" points=\"58.96,-18.83 63.96,-17.08 58.96,-15.33 58.96,-18.83\"/>\n",
       "<text text-anchor=\"middle\" x=\"42.71\" y=\"-20.08\" font-family=\"DejaVu Serif,serif\" font-size=\"10.00\" fill=\"#c1cdcd\">2</text>\n",
       "</g>\n",
       "<!-- 1&#45;&gt;0 -->\n",
       "<g id=\"edge2\" class=\"edge\">\n",
       "<title>1&#45;&gt;0</title>\n",
       "<path fill=\"none\" stroke=\"#c1cdcd\" d=\"M65.63,-10.79C60.39,-7.17 53.27,-2.97 46.21,-1.08 38.21,1.08 29.77,-2.7 23.22,-7.12\"/>\n",
       "<polygon fill=\"#c1cdcd\" stroke=\"#c1cdcd\" points=\"22.01,-5.84 19.02,-10.22 24.08,-8.66 22.01,-5.84\"/>\n",
       "<text text-anchor=\"middle\" x=\"42.71\" y=\"-4.08\" font-family=\"DejaVu Serif,serif\" font-size=\"10.00\" fill=\"#c1cdcd\">1</text>\n",
       "</g>\n",
       "<!-- 1&#45;&gt;1 -->\n",
       "<g id=\"edge4\" class=\"edge\">\n",
       "<title>1&#45;&gt;1</title>\n",
       "<path fill=\"none\" stroke=\"black\" d=\"M72.28,-27.64C71.19,-36.46 72.04,-45.68 74.82,-45.68 77.04,-45.68 78.02,-39.83 77.78,-32.98\"/>\n",
       "<polygon fill=\"black\" stroke=\"black\" points=\"79.5,-32.48 77.36,-27.64 76.01,-32.76 79.5,-32.48\"/>\n",
       "<text text-anchor=\"middle\" x=\"74.82\" y=\"-48.68\" font-family=\"DejaVu Serif,serif\" font-size=\"10.00\">3</text>\n",
       "</g>\n",
       "<!-- 1&#45;&gt;1 -->\n",
       "<g id=\"edge5\" class=\"edge\">\n",
       "<title>1&#45;&gt;1</title>\n",
       "<path fill=\"none\" stroke=\"black\" d=\"M71.16,-27.15C67.1,-43.17 68.32,-63.68 74.82,-63.68 80.66,-63.68 82.24,-47.12 79.55,-32.14\"/>\n",
       "<polygon fill=\"black\" stroke=\"black\" points=\"81.24,-31.67 78.48,-27.15 77.82,-32.4 81.24,-31.67\"/>\n",
       "<text text-anchor=\"middle\" x=\"74.82\" y=\"-66.68\" font-family=\"DejaVu Serif,serif\" font-size=\"10.00\">4</text>\n",
       "</g>\n",
       "</g>\n",
       "</svg>\n"
      ],
      "text/plain": [
       "GAP: <A monomorphism in CategoryOfQuiversEnrichedOver( SkeletalFinSets )>"
      ]
     },
     "execution_count": 52,
     "metadata": {},
     "output_type": "execute_result"
    }
   ],
   "source": [
    "U = Subobject( Ω, [ 0 ], [ 3, 4 ])"
   ]
  },
  {
   "cell_type": "code",
   "execution_count": 53,
   "id": "19c3b453",
   "metadata": {},
   "outputs": [
    {
     "data": {
      "text/plain": [
       "32"
      ]
     },
     "execution_count": 53,
     "metadata": {},
     "output_type": "execute_result"
    }
   ],
   "source": [
    "Position( subobjects, U )"
   ]
  },
  {
   "cell_type": "code",
   "execution_count": 54,
   "id": "e33d3ab1",
   "metadata": {},
   "outputs": [
    {
     "data": {
      "image/svg+xml": [
       "<?xml version=\"1.0\" encoding=\"UTF-8\" standalone=\"no\"?>\n",
       "<!DOCTYPE svg PUBLIC \"-//W3C//DTD SVG 1.1//EN\"\n",
       " \"http://www.w3.org/Graphics/SVG/1.1/DTD/svg11.dtd\">\n",
       "<!-- Generated by graphviz version 2.50.0 (20211204.2007)\n",
       " -->\n",
       "<!-- Title: subquiver Pages: 1 -->\n",
       "<svg width=\"93pt\" height=\"94pt\"\n",
       " viewBox=\"0.00 0.00 93.43 93.68\" xmlns=\"http://www.w3.org/2000/svg\" xmlns:xlink=\"http://www.w3.org/1999/xlink\">\n",
       "<g id=\"graph0\" class=\"graph\" transform=\"scale(1 1) rotate(0) translate(4 89.68)\">\n",
       "<title>subquiver</title>\n",
       "<polygon fill=\"white\" stroke=\"transparent\" points=\"-4,4 -4,-89.68 89.43,-89.68 89.43,4 -4,4\"/>\n",
       "<!-- 0 -->\n",
       "<g id=\"node1\" class=\"node\">\n",
       "<title>0</title>\n",
       "<ellipse fill=\"none\" stroke=\"black\" cx=\"10.61\" cy=\"-17.08\" rx=\"10.71\" ry=\"10.71\"/>\n",
       "<text text-anchor=\"middle\" x=\"10.61\" y=\"-13.98\" font-family=\"DejaVu Serif,serif\" font-size=\"12.00\">0</text>\n",
       "</g>\n",
       "<!-- 0&#45;&gt;0 -->\n",
       "<g id=\"edge1\" class=\"edge\">\n",
       "<title>0&#45;&gt;0</title>\n",
       "<path fill=\"none\" stroke=\"#c1cdcd\" d=\"M5.76,-26.75C3.24,-35.83 4.86,-45.68 10.61,-45.68 15.28,-45.68 17.22,-39.18 16.44,-31.87\"/>\n",
       "<polygon fill=\"#c1cdcd\" stroke=\"#c1cdcd\" points=\"18.12,-31.33 15.46,-26.75 14.68,-31.99 18.12,-31.33\"/>\n",
       "<text text-anchor=\"middle\" x=\"10.61\" y=\"-48.68\" font-family=\"DejaVu Serif,serif\" font-size=\"10.00\" fill=\"#c1cdcd\">0</text>\n",
       "</g>\n",
       "<!-- 1 -->\n",
       "<g id=\"node2\" class=\"node\">\n",
       "<title>1</title>\n",
       "<ellipse fill=\"none\" stroke=\"black\" cx=\"74.82\" cy=\"-17.08\" rx=\"10.71\" ry=\"10.71\"/>\n",
       "<text text-anchor=\"middle\" x=\"74.82\" y=\"-13.98\" font-family=\"DejaVu Serif,serif\" font-size=\"12.00\">1</text>\n",
       "</g>\n",
       "<!-- 0&#45;&gt;1 -->\n",
       "<g id=\"edge3\" class=\"edge\">\n",
       "<title>0&#45;&gt;1</title>\n",
       "<path fill=\"none\" stroke=\"#c1cdcd\" d=\"M21.33,-17.08C31.4,-17.08 47.28,-17.08 58.94,-17.08\"/>\n",
       "<polygon fill=\"#c1cdcd\" stroke=\"#c1cdcd\" points=\"58.96,-18.83 63.96,-17.08 58.96,-15.33 58.96,-18.83\"/>\n",
       "<text text-anchor=\"middle\" x=\"42.71\" y=\"-20.08\" font-family=\"DejaVu Serif,serif\" font-size=\"10.00\" fill=\"#c1cdcd\">2</text>\n",
       "</g>\n",
       "<!-- 1&#45;&gt;0 -->\n",
       "<g id=\"edge2\" class=\"edge\">\n",
       "<title>1&#45;&gt;0</title>\n",
       "<path fill=\"none\" stroke=\"#c1cdcd\" d=\"M65.63,-10.79C60.39,-7.17 53.27,-2.97 46.21,-1.08 38.21,1.08 29.77,-2.7 23.22,-7.12\"/>\n",
       "<polygon fill=\"#c1cdcd\" stroke=\"#c1cdcd\" points=\"22.01,-5.84 19.02,-10.22 24.08,-8.66 22.01,-5.84\"/>\n",
       "<text text-anchor=\"middle\" x=\"42.71\" y=\"-4.08\" font-family=\"DejaVu Serif,serif\" font-size=\"10.00\" fill=\"#c1cdcd\">1</text>\n",
       "</g>\n",
       "<!-- 1&#45;&gt;1 -->\n",
       "<g id=\"edge4\" class=\"edge\">\n",
       "<title>1&#45;&gt;1</title>\n",
       "<path fill=\"none\" stroke=\"black\" d=\"M72.28,-27.64C71.19,-36.46 72.04,-45.68 74.82,-45.68 77.04,-45.68 78.02,-39.83 77.78,-32.98\"/>\n",
       "<polygon fill=\"black\" stroke=\"black\" points=\"79.5,-32.48 77.36,-27.64 76.01,-32.76 79.5,-32.48\"/>\n",
       "<text text-anchor=\"middle\" x=\"74.82\" y=\"-48.68\" font-family=\"DejaVu Serif,serif\" font-size=\"10.00\">3</text>\n",
       "</g>\n",
       "<!-- 1&#45;&gt;1 -->\n",
       "<g id=\"edge5\" class=\"edge\">\n",
       "<title>1&#45;&gt;1</title>\n",
       "<path fill=\"none\" stroke=\"black\" d=\"M71.16,-27.15C67.1,-43.17 68.32,-63.68 74.82,-63.68 80.66,-63.68 82.24,-47.12 79.55,-32.14\"/>\n",
       "<polygon fill=\"black\" stroke=\"black\" points=\"81.24,-31.67 78.48,-27.15 77.82,-32.4 81.24,-31.67\"/>\n",
       "<text text-anchor=\"middle\" x=\"74.82\" y=\"-66.68\" font-family=\"DejaVu Serif,serif\" font-size=\"10.00\">4</text>\n",
       "</g>\n",
       "</g>\n",
       "</svg>\n"
      ],
      "text/plain": [
       "GAP: <A monomorphism in CategoryOfQuiversEnrichedOver( SkeletalFinSets )>"
      ]
     },
     "execution_count": 54,
     "metadata": {},
     "output_type": "execute_result"
    }
   ],
   "source": [
    "T_and_U = EmbeddingOfIntersectionSubobject( T, U )"
   ]
  },
  {
   "cell_type": "code",
   "execution_count": 55,
   "id": "f88b261f",
   "metadata": {},
   "outputs": [
    {
     "data": {
      "image/svg+xml": [
       "<?xml version=\"1.0\" encoding=\"UTF-8\" standalone=\"no\"?>\n",
       "<!DOCTYPE svg PUBLIC \"-//W3C//DTD SVG 1.1//EN\"\n",
       " \"http://www.w3.org/Graphics/SVG/1.1/DTD/svg11.dtd\">\n",
       "<!-- Generated by graphviz version 2.50.0 (20211204.2007)\n",
       " -->\n",
       "<!-- Title: subquiver Pages: 1 -->\n",
       "<svg width=\"93pt\" height=\"94pt\"\n",
       " viewBox=\"0.00 0.00 93.43 93.68\" xmlns=\"http://www.w3.org/2000/svg\" xmlns:xlink=\"http://www.w3.org/1999/xlink\">\n",
       "<g id=\"graph0\" class=\"graph\" transform=\"scale(1 1) rotate(0) translate(4 89.68)\">\n",
       "<title>subquiver</title>\n",
       "<polygon fill=\"white\" stroke=\"transparent\" points=\"-4,4 -4,-89.68 89.43,-89.68 89.43,4 -4,4\"/>\n",
       "<!-- 0 -->\n",
       "<g id=\"node1\" class=\"node\">\n",
       "<title>0</title>\n",
       "<ellipse fill=\"none\" stroke=\"black\" cx=\"10.61\" cy=\"-17.08\" rx=\"10.71\" ry=\"10.71\"/>\n",
       "<text text-anchor=\"middle\" x=\"10.61\" y=\"-13.98\" font-family=\"DejaVu Serif,serif\" font-size=\"12.00\">0</text>\n",
       "</g>\n",
       "<!-- 0&#45;&gt;0 -->\n",
       "<g id=\"edge1\" class=\"edge\">\n",
       "<title>0&#45;&gt;0</title>\n",
       "<path fill=\"none\" stroke=\"black\" d=\"M5.76,-26.75C3.24,-35.83 4.86,-45.68 10.61,-45.68 15.28,-45.68 17.22,-39.18 16.44,-31.87\"/>\n",
       "<polygon fill=\"black\" stroke=\"black\" points=\"18.12,-31.33 15.46,-26.75 14.68,-31.99 18.12,-31.33\"/>\n",
       "<text text-anchor=\"middle\" x=\"10.61\" y=\"-48.68\" font-family=\"DejaVu Serif,serif\" font-size=\"10.00\">0</text>\n",
       "</g>\n",
       "<!-- 1 -->\n",
       "<g id=\"node2\" class=\"node\">\n",
       "<title>1</title>\n",
       "<ellipse fill=\"none\" stroke=\"black\" cx=\"74.82\" cy=\"-17.08\" rx=\"10.71\" ry=\"10.71\"/>\n",
       "<text text-anchor=\"middle\" x=\"74.82\" y=\"-13.98\" font-family=\"DejaVu Serif,serif\" font-size=\"12.00\">1</text>\n",
       "</g>\n",
       "<!-- 0&#45;&gt;1 -->\n",
       "<g id=\"edge3\" class=\"edge\">\n",
       "<title>0&#45;&gt;1</title>\n",
       "<path fill=\"none\" stroke=\"#c1cdcd\" d=\"M21.33,-17.08C31.4,-17.08 47.28,-17.08 58.94,-17.08\"/>\n",
       "<polygon fill=\"#c1cdcd\" stroke=\"#c1cdcd\" points=\"58.96,-18.83 63.96,-17.08 58.96,-15.33 58.96,-18.83\"/>\n",
       "<text text-anchor=\"middle\" x=\"42.71\" y=\"-20.08\" font-family=\"DejaVu Serif,serif\" font-size=\"10.00\" fill=\"#c1cdcd\">2</text>\n",
       "</g>\n",
       "<!-- 1&#45;&gt;0 -->\n",
       "<g id=\"edge2\" class=\"edge\">\n",
       "<title>1&#45;&gt;0</title>\n",
       "<path fill=\"none\" stroke=\"black\" d=\"M65.63,-10.79C60.39,-7.17 53.27,-2.97 46.21,-1.08 38.21,1.08 29.77,-2.7 23.22,-7.12\"/>\n",
       "<polygon fill=\"black\" stroke=\"black\" points=\"22.01,-5.84 19.02,-10.22 24.08,-8.66 22.01,-5.84\"/>\n",
       "<text text-anchor=\"middle\" x=\"42.71\" y=\"-4.08\" font-family=\"DejaVu Serif,serif\" font-size=\"10.00\">1</text>\n",
       "</g>\n",
       "<!-- 1&#45;&gt;1 -->\n",
       "<g id=\"edge4\" class=\"edge\">\n",
       "<title>1&#45;&gt;1</title>\n",
       "<path fill=\"none\" stroke=\"black\" d=\"M72.28,-27.64C71.19,-36.46 72.04,-45.68 74.82,-45.68 77.04,-45.68 78.02,-39.83 77.78,-32.98\"/>\n",
       "<polygon fill=\"black\" stroke=\"black\" points=\"79.5,-32.48 77.36,-27.64 76.01,-32.76 79.5,-32.48\"/>\n",
       "<text text-anchor=\"middle\" x=\"74.82\" y=\"-48.68\" font-family=\"DejaVu Serif,serif\" font-size=\"10.00\">3</text>\n",
       "</g>\n",
       "<!-- 1&#45;&gt;1 -->\n",
       "<g id=\"edge5\" class=\"edge\">\n",
       "<title>1&#45;&gt;1</title>\n",
       "<path fill=\"none\" stroke=\"black\" d=\"M71.16,-27.15C67.1,-43.17 68.32,-63.68 74.82,-63.68 80.66,-63.68 82.24,-47.12 79.55,-32.14\"/>\n",
       "<polygon fill=\"black\" stroke=\"black\" points=\"81.24,-31.67 78.48,-27.15 77.82,-32.4 81.24,-31.67\"/>\n",
       "<text text-anchor=\"middle\" x=\"74.82\" y=\"-66.68\" font-family=\"DejaVu Serif,serif\" font-size=\"10.00\">4</text>\n",
       "</g>\n",
       "</g>\n",
       "</svg>\n"
      ],
      "text/plain": [
       "GAP: <A monomorphism in CategoryOfQuiversEnrichedOver( SkeletalFinSets )>"
      ]
     },
     "execution_count": 55,
     "metadata": {},
     "output_type": "execute_result"
    }
   ],
   "source": [
    "T_implies_U = EmbeddingOfRelativePseudoComplementSubobject( T, U )"
   ]
  },
  {
   "cell_type": "code",
   "execution_count": 56,
   "id": "ae3c527d",
   "metadata": {},
   "outputs": [
    {
     "data": {
      "text/plain": [
       "false"
      ]
     },
     "execution_count": 56,
     "metadata": {},
     "output_type": "execute_result"
    }
   ],
   "source": [
    "T_implies_U == U"
   ]
  }
 ],
 "metadata": {
  "@webio": {
   "lastCommId": null,
   "lastKernelId": null
  },
  "kernelspec": {
   "display_name": "Julia 1.7.3",
   "language": "julia",
   "name": "julia-1.7"
  },
  "language_info": {
   "file_extension": ".jl",
   "mimetype": "application/julia",
   "name": "julia",
   "version": "1.7.3"
  }
 },
 "nbformat": 4,
 "nbformat_minor": 5
}
