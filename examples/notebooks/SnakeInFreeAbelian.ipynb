{
 "cells": [
  {
   "cell_type": "markdown",
   "id": "532cc31b",
   "metadata": {},
   "source": [
    "[![Binder](https://mybinder.org/badge_logo.svg)](https://gesis.mybinder.org/v2/gh/homalg-project/CapAndHomalgNotebooks/master?urlpath=git-pull%3Frepo%3Dhttps%253A%252F%252Fgithub.com%252Fhomalg-project%252FFunctorCategories%26urlpath%3Dtree%252FFunctorCategories%252Fexamples%252F%252Fnotebooks%252FSnakeInFreeAbelian.ipynb%26branch%3Dmaster)"
   ]
  },
  {
   "cell_type": "markdown",
   "id": "c4f9d4e5",
   "metadata": {},
   "source": [
    "## Proving the snake lemma through a computation in a _free_ $\\mathbb{Q}$-linear Abelian category"
   ]
  },
  {
   "cell_type": "markdown",
   "id": "fa0bdd83",
   "metadata": {},
   "source": [
    "<img src=\"svg/snake.svg\" alt=\"drawing\" width=\"300\"/>"
   ]
  },
  {
   "cell_type": "code",
   "execution_count": 1,
   "id": "9f881cdc",
   "metadata": {},
   "outputs": [
    {
     "name": "stdout",
     "output_type": "stream",
     "text": [
      "CapAndHomalg v\u001b[32m1.4.2\u001b[39m\n",
      "Imported OSCAR's components GAP and Singular_jll\n",
      "Type: ?CapAndHomalg for more information\n"
     ]
    }
   ],
   "source": [
    "using CapAndHomalg"
   ]
  },
  {
   "cell_type": "code",
   "execution_count": 2,
   "id": "84239055",
   "metadata": {},
   "outputs": [],
   "source": [
    "LoadPackage( \"FunctorCategories\" )"
   ]
  },
  {
   "cell_type": "markdown",
   "id": "3ca5bdd4",
   "metadata": {},
   "source": [
    "<img src=\"svg/snake_abc.svg\" alt=\"drawing\" width=\"300\"/>"
   ]
  },
  {
   "cell_type": "code",
   "execution_count": 3,
   "id": "13da9ab0",
   "metadata": {},
   "outputs": [
    {
     "data": {
      "text/plain": [
       "GAP: q(A,B,C,D)[a:A->B,b:B->C,c:C->D]"
      ]
     },
     "execution_count": 3,
     "metadata": {},
     "output_type": "execute_result"
    }
   ],
   "source": [
    "q = RightQuiver( \"q(A,B,C,D)[a:A->B,b:B->C,c:C->D]\" )"
   ]
  },
  {
   "cell_type": "code",
   "execution_count": 4,
   "id": "e9adf382",
   "metadata": {},
   "outputs": [
    {
     "data": {
      "text/plain": [
       "GAP: FreeCategory( RightQuiver( \"q(A,B,C,D)[a:A->B,b:B->C,c:C->D]\" ) )"
      ]
     },
     "execution_count": 4,
     "metadata": {},
     "output_type": "execute_result"
    }
   ],
   "source": [
    "Fq = FreeCategory( q )"
   ]
  },
  {
   "cell_type": "code",
   "execution_count": 5,
   "id": "f642f047",
   "metadata": {},
   "outputs": [
    {
     "data": {
      "text/plain": [
       "GAP: Q"
      ]
     },
     "execution_count": 5,
     "metadata": {},
     "output_type": "execute_result"
    }
   ],
   "source": [
    "ℚ = HomalgFieldOfRationals( )"
   ]
  },
  {
   "cell_type": "code",
   "execution_count": 6,
   "id": "ddadd480",
   "metadata": {},
   "outputs": [
    {
     "data": {
      "text/plain": [
       "GAP: Algebroid( Q, FreeCategory( RightQuiver( \"q(A,B,C,D)[a:A->B,b:B->C,c:C->D]\" ) ) )"
      ]
     },
     "execution_count": 6,
     "metadata": {},
     "output_type": "execute_result"
    }
   ],
   "source": [
    "ℚq = ℚ[Fq]"
   ]
  },
  {
   "cell_type": "code",
   "execution_count": 7,
   "id": "f6f94a74",
   "metadata": {},
   "outputs": [
    {
     "data": {
      "text/plain": [
       "GAP: Algebroid( Q, FreeCategory( RightQuiver( \"q(A,B,C,D)[a:A->B,b:B->C,c:C->D]\" ) ) ) / relations"
      ]
     },
     "execution_count": 7,
     "metadata": {},
     "output_type": "execute_result"
    }
   ],
   "source": [
    "L = ℚq / [ ℚq.abc ]"
   ]
  },
  {
   "cell_type": "code",
   "execution_count": 8,
   "id": "f01468e7",
   "metadata": {},
   "outputs": [
    {
     "data": {
      "text/plain": [
       "GAP: AbelianClosure( Algebroid( Q, FreeCategory( RightQuiver( \"q(A,B,C,D)[a:A->B,b:B->C,c:C->D]\" ) ) ) / relations )"
      ]
     },
     "execution_count": 8,
     "metadata": {},
     "output_type": "execute_result"
    }
   ],
   "source": [
    "A = AbelianClosure( L )"
   ]
  },
  {
   "cell_type": "markdown",
   "id": "45421faf",
   "metadata": {},
   "source": [
    "<img src=\"svg/snake_abc.svg\" alt=\"drawing\" width=\"300\"/>"
   ]
  },
  {
   "cell_type": "code",
   "execution_count": 9,
   "id": "8ff8310c",
   "metadata": {},
   "outputs": [
    {
     "data": {
      "text/plain": [
       "GAP: Freyd( FiniteCompletion( Algebroid( Q, FreeCategory( RightQuiver( \"q(A,B,C,D)[a:A->B,b:B->C,c:C->D]\" ) ) ) / relations ) )"
      ]
     },
     "execution_count": 9,
     "metadata": {},
     "output_type": "execute_result"
    }
   ],
   "source": [
    "Freyd = ModelingCategory( A )"
   ]
  },
  {
   "cell_type": "code",
   "execution_count": 10,
   "id": "0816684f",
   "metadata": {},
   "outputs": [
    {
     "data": {
      "text/plain": [
       "GAP: Opposite of FunctorCategory( Algebroid( Q, FreeCategory( RightQuiver( \"q(A,B,C,D)[a:A->B,b:B->C,c:C->D]\" ) ) ) / relations, Category of matrices over Q )"
      ]
     },
     "execution_count": 10,
     "metadata": {},
     "output_type": "execute_result"
    }
   ],
   "source": [
    "ModelingCategory( UnderlyingCategory( Freyd ) )"
   ]
  },
  {
   "cell_type": "code",
   "execution_count": 11,
   "id": "fea336d4",
   "metadata": {},
   "outputs": [
    {
     "data": {
      "text/plain": [
       "GAP: <A morphism in AbelianClosure( Algebroid( Q, FreeCategory( RightQuiver( \"q(A,B,C,D)[a:A->B,b:B->C,c:C->D]\" ) ) ) / relations )>"
      ]
     },
     "execution_count": 11,
     "metadata": {},
     "output_type": "execute_result"
    }
   ],
   "source": [
    "a = A.a"
   ]
  },
  {
   "cell_type": "code",
   "execution_count": 12,
   "id": "4c0ca7f2",
   "metadata": {},
   "outputs": [
    {
     "data": {
      "text/plain": [
       "GAP: <A morphism in AbelianClosure( Algebroid( Q, FreeCategory( RightQuiver( \"q(A,B,C,D)[a:A->B,b:B->C,c:C->D]\" ) ) ) / relations )>"
      ]
     },
     "execution_count": 12,
     "metadata": {},
     "output_type": "execute_result"
    }
   ],
   "source": [
    "b = A.b"
   ]
  },
  {
   "cell_type": "code",
   "execution_count": 13,
   "id": "81f9b58e",
   "metadata": {},
   "outputs": [
    {
     "data": {
      "text/plain": [
       "GAP: <A morphism in AbelianClosure( Algebroid( Q, FreeCategory( RightQuiver( \"q(A,B,C,D)[a:A->B,b:B->C,c:C->D]\" ) ) ) / relations )>"
      ]
     },
     "execution_count": 13,
     "metadata": {},
     "output_type": "execute_result"
    }
   ],
   "source": [
    "c = A.c"
   ]
  },
  {
   "cell_type": "code",
   "execution_count": 14,
   "id": "16067065",
   "metadata": {},
   "outputs": [
    {
     "data": {
      "text/plain": [
       "true"
      ]
     },
     "execution_count": 14,
     "metadata": {},
     "output_type": "execute_result"
    }
   ],
   "source": [
    "IsZero( PreCompose( [ a, b, c ] ) )"
   ]
  },
  {
   "cell_type": "markdown",
   "id": "19e4054a",
   "metadata": {},
   "source": [
    "<img src=\"svg/snake_d.svg\" alt=\"drawing\" width=\"300\"/>"
   ]
  },
  {
   "cell_type": "code",
   "execution_count": 15,
   "id": "e691fc41",
   "metadata": {},
   "outputs": [
    {
     "data": {
      "text/plain": [
       "GAP: <An epimorphism in AbelianClosure( Algebroid( Q, FreeCategory( RightQuiver( \"q(A,B,C,D)[a:A->B,b:B->C,c:C->D]\" ) ) ) / relations )>"
      ]
     },
     "execution_count": 15,
     "metadata": {},
     "output_type": "execute_result"
    }
   ],
   "source": [
    "d = CokernelProjection( a )"
   ]
  },
  {
   "cell_type": "markdown",
   "id": "cedd1f44",
   "metadata": {},
   "source": [
    "<img src=\"svg/snake_e.svg\" alt=\"drawing\" width=\"300\"/>"
   ]
  },
  {
   "cell_type": "code",
   "execution_count": 16,
   "id": "3267e741",
   "metadata": {},
   "outputs": [
    {
     "data": {
      "text/plain": [
       "GAP: <A morphism in AbelianClosure( Algebroid( Q, FreeCategory( RightQuiver( \"q(A,B,C,D)[a:A->B,b:B->C,c:C->D]\" ) ) ) / relations )>"
      ]
     },
     "execution_count": 16,
     "metadata": {},
     "output_type": "execute_result"
    }
   ],
   "source": [
    "e = CokernelColift( a, PreCompose( b, c ) )"
   ]
  },
  {
   "cell_type": "markdown",
   "id": "9a16f87a",
   "metadata": {},
   "source": [
    "<img src=\"svg/snake_f.svg\" alt=\"drawing\" width=\"300\"/>"
   ]
  },
  {
   "cell_type": "code",
   "execution_count": 17,
   "id": "4c1d4e52",
   "metadata": {},
   "outputs": [
    {
     "data": {
      "text/plain": [
       "GAP: <A monomorphism in AbelianClosure( Algebroid( Q, FreeCategory( RightQuiver( \"q(A,B,C,D)[a:A->B,b:B->C,c:C->D]\" ) ) ) / relations )>"
      ]
     },
     "execution_count": 17,
     "metadata": {},
     "output_type": "execute_result"
    }
   ],
   "source": [
    "f = KernelEmbedding( e )"
   ]
  },
  {
   "cell_type": "markdown",
   "id": "a50d4ef4",
   "metadata": {},
   "source": [
    "<img src=\"svg/snake_g.svg\" alt=\"drawing\" width=\"300\"/>"
   ]
  },
  {
   "cell_type": "code",
   "execution_count": 18,
   "id": "7c02387f",
   "metadata": {},
   "outputs": [
    {
     "data": {
      "text/plain": [
       "GAP: <A monomorphism in AbelianClosure( Algebroid( Q, FreeCategory( RightQuiver( \"q(A,B,C,D)[a:A->B,b:B->C,c:C->D]\" ) ) ) / relations )>"
      ]
     },
     "execution_count": 18,
     "metadata": {},
     "output_type": "execute_result"
    }
   ],
   "source": [
    "g = KernelEmbedding( c )"
   ]
  },
  {
   "cell_type": "markdown",
   "id": "496e284f",
   "metadata": {},
   "source": [
    "<img src=\"svg/snake_h.svg\" alt=\"drawing\" width=\"300\"/>"
   ]
  },
  {
   "cell_type": "code",
   "execution_count": 19,
   "id": "6b930cc1",
   "metadata": {},
   "outputs": [
    {
     "data": {
      "text/plain": [
       "GAP: <A morphism in AbelianClosure( Algebroid( Q, FreeCategory( RightQuiver( \"q(A,B,C,D)[a:A->B,b:B->C,c:C->D]\" ) ) ) / relations )>"
      ]
     },
     "execution_count": 19,
     "metadata": {},
     "output_type": "execute_result"
    }
   ],
   "source": [
    "h = KernelLift( c, PreCompose( a, b ) )"
   ]
  },
  {
   "cell_type": "markdown",
   "id": "9824fd9c",
   "metadata": {},
   "source": [
    "<img src=\"svg/snake_i.svg\" alt=\"drawing\" width=\"300\"/>"
   ]
  },
  {
   "cell_type": "code",
   "execution_count": 20,
   "id": "ba84286b",
   "metadata": {},
   "outputs": [
    {
     "data": {
      "text/plain": [
       "GAP: <An epimorphism in AbelianClosure( Algebroid( Q, FreeCategory( RightQuiver( \"q(A,B,C,D)[a:A->B,b:B->C,c:C->D]\" ) ) ) / relations )>"
      ]
     },
     "execution_count": 20,
     "metadata": {},
     "output_type": "execute_result"
    }
   ],
   "source": [
    "i = CokernelProjection( h )"
   ]
  },
  {
   "cell_type": "markdown",
   "id": "d01c54bf",
   "metadata": {},
   "source": [
    "<img src=\"svg/snake_s.svg\" alt=\"drawing\" width=\"300\"/>"
   ]
  },
  {
   "cell_type": "code",
   "execution_count": 21,
   "id": "11ffbe4e",
   "metadata": {},
   "outputs": [
    {
     "data": {
      "text/plain": [
       "GAP: <A morphism in Generalized morphism category of AbelianClosure( Algebroid( Q, FreeCategory( RightQuiver( \"q(A,B,C,D)[a:A->B,b:B->C,c:C->D]\" ) ) ) / relations )>"
      ]
     },
     "execution_count": 21,
     "metadata": {},
     "output_type": "execute_result"
    }
   ],
   "source": [
    "ff = AsGeneralizedMorphism( f )"
   ]
  },
  {
   "cell_type": "code",
   "execution_count": 22,
   "id": "38fa2a01",
   "metadata": {},
   "outputs": [
    {
     "data": {
      "text/plain": [
       "GAP: <A morphism in Generalized morphism category of AbelianClosure( Algebroid( Q, FreeCategory( RightQuiver( \"q(A,B,C,D)[a:A->B,b:B->C,c:C->D]\" ) ) ) / relations )>"
      ]
     },
     "execution_count": 22,
     "metadata": {},
     "output_type": "execute_result"
    }
   ],
   "source": [
    "dd = AsGeneralizedMorphism( d )"
   ]
  },
  {
   "cell_type": "code",
   "execution_count": 23,
   "id": "36437000",
   "metadata": {},
   "outputs": [
    {
     "data": {
      "text/plain": [
       "GAP: <A morphism in Generalized morphism category of AbelianClosure( Algebroid( Q, FreeCategory( RightQuiver( \"q(A,B,C,D)[a:A->B,b:B->C,c:C->D]\" ) ) ) / relations )>"
      ]
     },
     "execution_count": 23,
     "metadata": {},
     "output_type": "execute_result"
    }
   ],
   "source": [
    "bb = AsGeneralizedMorphism( b )"
   ]
  },
  {
   "cell_type": "code",
   "execution_count": 24,
   "id": "d24fa57e",
   "metadata": {},
   "outputs": [
    {
     "data": {
      "text/plain": [
       "GAP: <A morphism in Generalized morphism category of AbelianClosure( Algebroid( Q, FreeCategory( RightQuiver( \"q(A,B,C,D)[a:A->B,b:B->C,c:C->D]\" ) ) ) / relations )>"
      ]
     },
     "execution_count": 24,
     "metadata": {},
     "output_type": "execute_result"
    }
   ],
   "source": [
    "gg = AsGeneralizedMorphism( g )"
   ]
  },
  {
   "cell_type": "code",
   "execution_count": 25,
   "id": "18116588",
   "metadata": {},
   "outputs": [
    {
     "data": {
      "text/plain": [
       "GAP: <A morphism in Generalized morphism category of AbelianClosure( Algebroid( Q, FreeCategory( RightQuiver( \"q(A,B,C,D)[a:A->B,b:B->C,c:C->D]\" ) ) ) / relations )>"
      ]
     },
     "execution_count": 25,
     "metadata": {},
     "output_type": "execute_result"
    }
   ],
   "source": [
    "ii = AsGeneralizedMorphism( i )"
   ]
  },
  {
   "cell_type": "code",
   "execution_count": 26,
   "id": "fda33dd5",
   "metadata": {},
   "outputs": [
    {
     "data": {
      "text/plain": [
       "GAP: <A morphism in Generalized morphism category of AbelianClosure( Algebroid( Q, FreeCategory( RightQuiver( \"q(A,B,C,D)[a:A->B,b:B->C,c:C->D]\" ) ) ) / relations )>"
      ]
     },
     "execution_count": 26,
     "metadata": {},
     "output_type": "execute_result"
    }
   ],
   "source": [
    "ss = PreCompose( [ ff, PseudoInverse( dd ), bb, PseudoInverse( gg ), ii ] )"
   ]
  },
  {
   "cell_type": "code",
   "execution_count": 27,
   "id": "bcd37b69",
   "metadata": {},
   "outputs": [
    {
     "data": {
      "text/plain": [
       "true"
      ]
     },
     "execution_count": 27,
     "metadata": {},
     "output_type": "execute_result"
    }
   ],
   "source": [
    "IsHonest( ss )"
   ]
  },
  {
   "cell_type": "markdown",
   "id": "c9b334f6",
   "metadata": {},
   "source": [
    "<img src=\"svg/snake_s.svg\" alt=\"drawing\" width=\"300\"/>"
   ]
  },
  {
   "cell_type": "code",
   "execution_count": 28,
   "id": "33b8ae22",
   "metadata": {},
   "outputs": [
    {
     "data": {
      "text/plain": [
       "GAP: <A morphism in AbelianClosure( Algebroid( Q, FreeCategory( RightQuiver( \"q(A,B,C,D)[a:A->B,b:B->C,c:C->D]\" ) ) ) / relations )>"
      ]
     },
     "execution_count": 28,
     "metadata": {},
     "output_type": "execute_result"
    }
   ],
   "source": [
    "s = HonestRepresentative( ss )"
   ]
  },
  {
   "cell_type": "markdown",
   "id": "e9021f72",
   "metadata": {},
   "source": [
    "<img src=\"svg/snake_j.svg\" alt=\"drawing\" width=\"300\"/>"
   ]
  },
  {
   "cell_type": "code",
   "execution_count": 29,
   "id": "bfecf1d7",
   "metadata": {},
   "outputs": [
    {
     "data": {
      "text/plain": [
       "GAP: <A morphism in AbelianClosure( Algebroid( Q, FreeCategory( RightQuiver( \"q(A,B,C,D)[a:A->B,b:B->C,c:C->D]\" ) ) ) / relations )>"
      ]
     },
     "execution_count": 29,
     "metadata": {},
     "output_type": "execute_result"
    }
   ],
   "source": [
    "j = KernelObjectFunctorial( b, d, e )"
   ]
  },
  {
   "cell_type": "code",
   "execution_count": 30,
   "id": "5f07f4c6",
   "metadata": {},
   "outputs": [
    {
     "data": {
      "text/plain": [
       "GAP: <An object in AbelianClosure( Algebroid( Q, FreeCategory( RightQuiver( \"q(A,B,C,D)[a:A->B,b:B->C,c:C->D]\" ) ) ) / relations )>"
      ]
     },
     "execution_count": 30,
     "metadata": {},
     "output_type": "execute_result"
    }
   ],
   "source": [
    "HK = HomologyObject( j, s )"
   ]
  },
  {
   "cell_type": "code",
   "execution_count": 31,
   "id": "e22313df",
   "metadata": {},
   "outputs": [
    {
     "data": {
      "text/plain": [
       "true"
      ]
     },
     "execution_count": 31,
     "metadata": {},
     "output_type": "execute_result"
    }
   ],
   "source": [
    "IsZero( HK )"
   ]
  },
  {
   "cell_type": "markdown",
   "id": "afc971fd",
   "metadata": {},
   "source": [
    "<img src=\"svg/snake_k.svg\" alt=\"drawing\" width=\"300\"/>"
   ]
  },
  {
   "cell_type": "code",
   "execution_count": 32,
   "id": "4facbeb1",
   "metadata": {},
   "outputs": [
    {
     "data": {
      "text/plain": [
       "GAP: <A morphism in AbelianClosure( Algebroid( Q, FreeCategory( RightQuiver( \"q(A,B,C,D)[a:A->B,b:B->C,c:C->D]\" ) ) ) / relations )>"
      ]
     },
     "execution_count": 32,
     "metadata": {},
     "output_type": "execute_result"
    }
   ],
   "source": [
    "k = CokernelObjectFunctorial( h, g, b )"
   ]
  },
  {
   "cell_type": "code",
   "execution_count": 33,
   "id": "367b28a5",
   "metadata": {},
   "outputs": [
    {
     "data": {
      "text/plain": [
       "GAP: <An object in AbelianClosure( Algebroid( Q, FreeCategory( RightQuiver( \"q(A,B,C,D)[a:A->B,b:B->C,c:C->D]\" ) ) ) / relations )>"
      ]
     },
     "execution_count": 33,
     "metadata": {},
     "output_type": "execute_result"
    }
   ],
   "source": [
    "HC = HomologyObject( s, k )"
   ]
  },
  {
   "cell_type": "code",
   "execution_count": 34,
   "id": "713a90b3",
   "metadata": {},
   "outputs": [
    {
     "data": {
      "text/plain": [
       "true"
      ]
     },
     "execution_count": 34,
     "metadata": {},
     "output_type": "execute_result"
    }
   ],
   "source": [
    "IsZero( HC )"
   ]
  },
  {
   "cell_type": "markdown",
   "id": "c7881710",
   "metadata": {},
   "source": [
    "<img src=\"svg/snake.svg\" alt=\"drawing\" width=\"300\"/>"
   ]
  }
 ],
 "metadata": {
  "@webio": {
   "lastCommId": null,
   "lastKernelId": null
  },
  "celltoolbar": "Slideshow",
  "kernelspec": {
   "display_name": "Julia 1.7.3",
   "language": "julia",
   "name": "julia-1.7"
  },
  "language_info": {
   "file_extension": ".jl",
   "mimetype": "application/julia",
   "name": "julia",
   "version": "1.7.3"
  }
 },
 "nbformat": 4,
 "nbformat_minor": 5
}
