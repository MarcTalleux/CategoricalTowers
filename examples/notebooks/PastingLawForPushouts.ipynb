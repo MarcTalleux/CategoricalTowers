{
 "cells": [
  {
   "cell_type": "markdown",
   "metadata": {},
   "source": [
    "[![Binder](https://mybinder.org/badge_logo.svg)](https://gesis.mybinder.org/v2/gh/homalg-project/CapAndHomalgNotebooks/master?urlpath=git-pull%3Frepo%3Dhttps%253A%252F%252Fgithub.com%252Fhomalg-project%252FFunctorCategories%26urlpath%3Dtree%252FFunctorCategories%252Fexamples%252F%252Fnotebooks%252FPastingLawForPushouts.ipynb%26branch%3Dmaster)"
   ]
  },
  {
   "cell_type": "markdown",
   "metadata": {},
   "source": [
    "## Proving one direction of the  [pasting law for pushouts](https://ncatlab.org/nlab/show/pasting+law+for+pullbacks) by a computation in a suitable *free* finitely cocomplete category:"
   ]
  },
  {
   "cell_type": "code",
   "execution_count": 1,
   "metadata": {},
   "outputs": [
    {
     "name": "stdout",
     "output_type": "stream",
     "text": [
      "CapAndHomalg v\u001b[32m1.4.2\u001b[39m\n",
      "Imported OSCAR's components GAP and Singular_jll\n",
      "Type: ?CapAndHomalg for more information\n"
     ]
    }
   ],
   "source": [
    "using CapAndHomalg"
   ]
  },
  {
   "cell_type": "code",
   "execution_count": 2,
   "metadata": {},
   "outputs": [],
   "source": [
    "LoadPackage( \"FunctorCategories\" )"
   ]
  },
  {
   "cell_type": "code",
   "execution_count": 3,
   "metadata": {},
   "outputs": [
    {
     "data": {
      "text/plain": [
       "GAP: q(A1,A2,A3,B1)[a1:A1->A2,a2:A2->A3,v1:A1->B1]"
      ]
     },
     "execution_count": 3,
     "metadata": {},
     "output_type": "execute_result"
    }
   ],
   "source": [
    "q = RightQuiver( \"q(A1,A2,A3,B1)[a1:A1->A2,a2:A2->A3,v1:A1->B1]\" )"
   ]
  },
  {
   "cell_type": "code",
   "execution_count": 4,
   "metadata": {},
   "outputs": [
    {
     "data": {
      "text/plain": [
       "GAP: FreeCategory( RightQuiver( \"q(A1,A2,A3,B1)[a1:A1->A2,a2:A2->A3,v1:A1->B1]\" ) )"
      ]
     },
     "execution_count": 4,
     "metadata": {},
     "output_type": "execute_result"
    }
   ],
   "source": [
    "C = FreeCategory( q )"
   ]
  },
  {
   "cell_type": "code",
   "execution_count": 5,
   "metadata": {},
   "outputs": [
    {
     "data": {
      "text/plain": [
       "GAP: FiniteCocompletion( FreeCategory( RightQuiver( \"q(A1,A2,A3,B1)[a1:A1->A2,a2:A2->A3,v1:A1->B1]\" ) ) )"
      ]
     },
     "execution_count": 5,
     "metadata": {},
     "output_type": "execute_result"
    }
   ],
   "source": [
    "Ĉ = FiniteCocompletion( C )"
   ]
  },
  {
   "cell_type": "code",
   "execution_count": 6,
   "metadata": {},
   "outputs": [
    {
     "data": {
      "text/plain": [
       "GAP: PreSheaves( FreeCategory( RightQuiver( \"q(A1,A2,A3,B1)[a1:A1->A2,a2:A2->A3,v1:A1->B1]\" ) ), SkeletalFinSets )"
      ]
     },
     "execution_count": 6,
     "metadata": {},
     "output_type": "execute_result"
    }
   ],
   "source": [
    "ModelingCategory( Ĉ )"
   ]
  },
  {
   "cell_type": "code",
   "execution_count": 7,
   "metadata": {},
   "outputs": [
    {
     "data": {
      "text/plain": [
       "GAP: <A monomorphism in FiniteCocompletion( FreeCategory( RightQuiver( \"q(A1,A2,A3,B1)[a1:A1->A2,a2:A2->A3,v1:A1->B1]\" ) ) )>"
      ]
     },
     "execution_count": 7,
     "metadata": {},
     "output_type": "execute_result"
    }
   ],
   "source": [
    "a1 = Ĉ.a1"
   ]
  },
  {
   "cell_type": "code",
   "execution_count": 8,
   "metadata": {},
   "outputs": [
    {
     "data": {
      "text/plain": [
       "GAP: <A monomorphism in FiniteCocompletion( FreeCategory( RightQuiver( \"q(A1,A2,A3,B1)[a1:A1->A2,a2:A2->A3,v1:A1->B1]\" ) ) )>"
      ]
     },
     "execution_count": 8,
     "metadata": {},
     "output_type": "execute_result"
    }
   ],
   "source": [
    "a2 = Ĉ.a2"
   ]
  },
  {
   "cell_type": "code",
   "execution_count": 9,
   "metadata": {},
   "outputs": [
    {
     "data": {
      "text/plain": [
       "GAP: <A monomorphism in FiniteCocompletion( FreeCategory( RightQuiver( \"q(A1,A2,A3,B1)[a1:A1->A2,a2:A2->A3,v1:A1->B1]\" ) ) )>"
      ]
     },
     "execution_count": 9,
     "metadata": {},
     "output_type": "execute_result"
    }
   ],
   "source": [
    "v1 = Ĉ.v1"
   ]
  },
  {
   "cell_type": "code",
   "execution_count": 10,
   "metadata": {},
   "outputs": [
    {
     "data": {
      "text/plain": [
       "GAP: <A morphism in FiniteCocompletion( FreeCategory( RightQuiver( \"q(A1,A2,A3,B1)[a1:A1->A2,a2:A2->A3,v1:A1->B1]\" ) ) )>"
      ]
     },
     "execution_count": 10,
     "metadata": {},
     "output_type": "execute_result"
    }
   ],
   "source": [
    "v2 = InjectionOfCofactorOfPushout( [ a1, v1 ], 1 )"
   ]
  },
  {
   "cell_type": "code",
   "execution_count": 11,
   "metadata": {},
   "outputs": [
    {
     "data": {
      "text/plain": [
       "GAP: <A morphism in FiniteCocompletion( FreeCategory( RightQuiver( \"q(A1,A2,A3,B1)[a1:A1->A2,a2:A2->A3,v1:A1->B1]\" ) ) )>"
      ]
     },
     "execution_count": 11,
     "metadata": {},
     "output_type": "execute_result"
    }
   ],
   "source": [
    "b1 = InjectionOfCofactorOfPushout( [ a1, v1 ], 2 )"
   ]
  },
  {
   "cell_type": "code",
   "execution_count": 12,
   "metadata": {},
   "outputs": [
    {
     "data": {
      "text/plain": [
       "GAP: <A morphism in FiniteCocompletion( FreeCategory( RightQuiver( \"q(A1,A2,A3,B1)[a1:A1->A2,a2:A2->A3,v1:A1->B1]\" ) ) )>"
      ]
     },
     "execution_count": 12,
     "metadata": {},
     "output_type": "execute_result"
    }
   ],
   "source": [
    "v3 = InjectionOfCofactorOfPushout( [ a2, v2 ], 1 )"
   ]
  },
  {
   "cell_type": "code",
   "execution_count": 13,
   "metadata": {},
   "outputs": [
    {
     "data": {
      "text/plain": [
       "GAP: <A morphism in FiniteCocompletion( FreeCategory( RightQuiver( \"q(A1,A2,A3,B1)[a1:A1->A2,a2:A2->A3,v1:A1->B1]\" ) ) )>"
      ]
     },
     "execution_count": 13,
     "metadata": {},
     "output_type": "execute_result"
    }
   ],
   "source": [
    "b2 = InjectionOfCofactorOfPushout( [ a2, v2 ], 2 )"
   ]
  },
  {
   "cell_type": "code",
   "execution_count": 14,
   "metadata": {},
   "outputs": [
    {
     "data": {
      "text/plain": [
       "GAP: <A monomorphism in FiniteCocompletion( FreeCategory( RightQuiver( \"q(A1,A2,A3,B1)[a1:A1->A2,a2:A2->A3,v1:A1->B1]\" ) ) )>"
      ]
     },
     "execution_count": 14,
     "metadata": {},
     "output_type": "execute_result"
    }
   ],
   "source": [
    "a1a2 = PreCompose( a1, a2 )"
   ]
  },
  {
   "cell_type": "code",
   "execution_count": 15,
   "metadata": {},
   "outputs": [
    {
     "data": {
      "text/plain": [
       "GAP: <A morphism in FiniteCocompletion( FreeCategory( RightQuiver( \"q(A1,A2,A3,B1)[a1:A1->A2,a2:A2->A3,v1:A1->B1]\" ) ) )>"
      ]
     },
     "execution_count": 15,
     "metadata": {},
     "output_type": "execute_result"
    }
   ],
   "source": [
    "b1b2 = PreCompose( b1, b2 )"
   ]
  },
  {
   "cell_type": "code",
   "execution_count": 16,
   "metadata": {},
   "outputs": [
    {
     "data": {
      "text/plain": [
       "GAP: <A morphism in FiniteCocompletion( FreeCategory( RightQuiver( \"q(A1,A2,A3,B1)[a1:A1->A2,a2:A2->A3,v1:A1->B1]\" ) ) )>"
      ]
     },
     "execution_count": 16,
     "metadata": {},
     "output_type": "execute_result"
    }
   ],
   "source": [
    "u = UniversalMorphismFromPushout( [ a1a2, v1 ], [ v3, b1b2 ] )"
   ]
  },
  {
   "cell_type": "code",
   "execution_count": 17,
   "metadata": {},
   "outputs": [
    {
     "data": {
      "text/plain": [
       "true"
      ]
     },
     "execution_count": 17,
     "metadata": {},
     "output_type": "execute_result"
    }
   ],
   "source": [
    "IsIsomorphism( u )"
   ]
  }
 ],
 "metadata": {
  "@webio": {
   "lastCommId": null,
   "lastKernelId": null
  },
  "kernelspec": {
   "display_name": "Julia 1.7.3",
   "language": "julia",
   "name": "julia-1.7"
  },
  "language_info": {
   "file_extension": ".jl",
   "mimetype": "application/julia",
   "name": "julia",
   "version": "1.7.3"
  }
 },
 "nbformat": 4,
 "nbformat_minor": 2
}
