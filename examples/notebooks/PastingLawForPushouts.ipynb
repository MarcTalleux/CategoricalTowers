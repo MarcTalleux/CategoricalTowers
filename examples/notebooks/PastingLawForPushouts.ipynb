{
 "cells": [
  {
   "cell_type": "markdown",
   "id": "dff4974f",
   "metadata": {},
   "source": [
    "## [Pasting law for pushouts](https://ncatlab.org/nlab/show/pasting+law+for+pullbacks)"
   ]
  },
  {
   "cell_type": "code",
   "execution_count": 1,
   "id": "23290568",
   "metadata": {},
   "outputs": [
    {
     "name": "stdout",
     "output_type": "stream",
     "text": [
      "CapAndHomalg v\u001b[32m1.4.2\u001b[39m\n",
      "Imported OSCAR's components GAP and Singular_jll\n",
      "Type: ?CapAndHomalg for more information\n"
     ]
    }
   ],
   "source": [
    "using CapAndHomalg"
   ]
  },
  {
   "cell_type": "code",
   "execution_count": 2,
   "id": "db051365",
   "metadata": {},
   "outputs": [],
   "source": [
    "LoadPackage( \"FunctorCategories\" )"
   ]
  },
  {
   "cell_type": "code",
   "execution_count": 3,
   "id": "9128d5f7",
   "metadata": {},
   "outputs": [
    {
     "data": {
      "text/plain": [
       "GAP: q(A1,A2,A3,B1)[a1:A1->A2,a2:A2->A3,v1:A1->B1]"
      ]
     },
     "execution_count": 3,
     "metadata": {},
     "output_type": "execute_result"
    }
   ],
   "source": [
    "q = RightQuiver( \"q(A1,A2,A3,B1)[a1:A1->A2,a2:A2->A3,v1:A1->B1]\" )"
   ]
  },
  {
   "cell_type": "code",
   "execution_count": 4,
   "id": "140d0883",
   "metadata": {},
   "outputs": [
    {
     "data": {
      "text/plain": [
       "GAP: FreeCategory( RightQuiver( \"q(A1,A2,A3,B1)[a1:A1->A2,a2:A2->A3,v1:A1->B1]\" ) )"
      ]
     },
     "execution_count": 4,
     "metadata": {},
     "output_type": "execute_result"
    }
   ],
   "source": [
    "F = FreeCategory( q )"
   ]
  },
  {
   "cell_type": "code",
   "execution_count": 5,
   "id": "8699d5b4",
   "metadata": {},
   "outputs": [
    {
     "data": {
      "text/plain": [
       "GAP: FiniteCocompletion( FreeCategory( RightQuiver( \"q(A1,A2,A3,B1)[a1:A1->A2,a2:A2->A3,v1:A1->B1]\" ) ) )"
      ]
     },
     "execution_count": 5,
     "metadata": {},
     "output_type": "execute_result"
    }
   ],
   "source": [
    "F̂ = FiniteCocompletion( F )"
   ]
  },
  {
   "cell_type": "code",
   "execution_count": 6,
   "id": "0bf1801f",
   "metadata": {},
   "outputs": [
    {
     "data": {
      "text/plain": [
       "GAP: PreSheaves( FreeCategory( RightQuiver( \"q(A1,A2,A3,B1)[a1:A1->A2,a2:A2->A3,v1:A1->B1]\" ) ), SkeletalFinSets )"
      ]
     },
     "execution_count": 6,
     "metadata": {},
     "output_type": "execute_result"
    }
   ],
   "source": [
    "ModelingCategory( F̂ )"
   ]
  },
  {
   "cell_type": "code",
   "execution_count": 7,
   "id": "4dff8527",
   "metadata": {},
   "outputs": [
    {
     "data": {
      "text/plain": [
       "GAP: <A monomorphism in FiniteCocompletion( FreeCategory( RightQuiver( \"q(A1,A2,A3,B1)[a1:A1->A2,a2:A2->A3,v1:A1->B1]\" ) ) )>"
      ]
     },
     "execution_count": 7,
     "metadata": {},
     "output_type": "execute_result"
    }
   ],
   "source": [
    "a1 = F̂.a1"
   ]
  },
  {
   "cell_type": "code",
   "execution_count": 8,
   "id": "8694d29e",
   "metadata": {},
   "outputs": [
    {
     "data": {
      "text/plain": [
       "GAP: <A monomorphism in FiniteCocompletion( FreeCategory( RightQuiver( \"q(A1,A2,A3,B1)[a1:A1->A2,a2:A2->A3,v1:A1->B1]\" ) ) )>"
      ]
     },
     "execution_count": 8,
     "metadata": {},
     "output_type": "execute_result"
    }
   ],
   "source": [
    "a2 = F̂.a2"
   ]
  },
  {
   "cell_type": "code",
   "execution_count": 9,
   "id": "acaf8045",
   "metadata": {},
   "outputs": [
    {
     "data": {
      "text/plain": [
       "GAP: <A monomorphism in FiniteCocompletion( FreeCategory( RightQuiver( \"q(A1,A2,A3,B1)[a1:A1->A2,a2:A2->A3,v1:A1->B1]\" ) ) )>"
      ]
     },
     "execution_count": 9,
     "metadata": {},
     "output_type": "execute_result"
    }
   ],
   "source": [
    "v1 = F̂.v1"
   ]
  },
  {
   "cell_type": "code",
   "execution_count": 10,
   "id": "b15b1130",
   "metadata": {},
   "outputs": [
    {
     "name": "stdout",
     "output_type": "stream",
     "text": [
      "Image of <(A1)>:\n",
      "{ 0 } ⱶ[ 0 ]→ { 0 }\n",
      "\n",
      "Image of <(A2)>:\n",
      "∅ ⱶ[  ]→ ∅\n",
      "\n",
      "Image of <(A3)>:\n",
      "∅ ⱶ[  ]→ ∅\n",
      "\n",
      "Image of <(B1)>:\n",
      "∅ ⱶ[  ]→ { 0 }\n",
      "\n",
      "A morphism in PreSheaves( FreeCategory( RightQuiver( \"q(A1,A2,A3,B1)[a1:A1->A2,a2:A2->A3,v1:A1->B1]\" ) ), SkeletalFinSets ) given by the above data\n",
      "\n",
      "A morphism in FiniteCocompletion( FreeCategory( RightQuiver( \"q(A1,A2,A3,B1)[a1:A1->A2,a2:A2->A3,v1:A1->B1]\" ) ) ) given by the above data\n"
     ]
    }
   ],
   "source": [
    "Display( v1 )"
   ]
  },
  {
   "cell_type": "code",
   "execution_count": 11,
   "id": "71388908",
   "metadata": {},
   "outputs": [
    {
     "data": {
      "text/plain": [
       "GAP: <A morphism in FiniteCocompletion( FreeCategory( RightQuiver( \"q(A1,A2,A3,B1)[a1:A1->A2,a2:A2->A3,v1:A1->B1]\" ) ) )>"
      ]
     },
     "execution_count": 11,
     "metadata": {},
     "output_type": "execute_result"
    }
   ],
   "source": [
    "v2 = InjectionOfCofactorOfPushout( [ a1, v1 ], 1 )"
   ]
  },
  {
   "cell_type": "code",
   "execution_count": 12,
   "id": "b96d814c",
   "metadata": {},
   "outputs": [
    {
     "data": {
      "text/plain": [
       "GAP: <A morphism in FiniteCocompletion( FreeCategory( RightQuiver( \"q(A1,A2,A3,B1)[a1:A1->A2,a2:A2->A3,v1:A1->B1]\" ) ) )>"
      ]
     },
     "execution_count": 12,
     "metadata": {},
     "output_type": "execute_result"
    }
   ],
   "source": [
    "b1 = InjectionOfCofactorOfPushout( [ a1, v1 ], 2 )"
   ]
  },
  {
   "cell_type": "code",
   "execution_count": 13,
   "id": "12137ade",
   "metadata": {},
   "outputs": [
    {
     "data": {
      "text/plain": [
       "GAP: <A morphism in FiniteCocompletion( FreeCategory( RightQuiver( \"q(A1,A2,A3,B1)[a1:A1->A2,a2:A2->A3,v1:A1->B1]\" ) ) )>"
      ]
     },
     "execution_count": 13,
     "metadata": {},
     "output_type": "execute_result"
    }
   ],
   "source": [
    "v3 = InjectionOfCofactorOfPushout( [ a2, v2 ], 1 )"
   ]
  },
  {
   "cell_type": "code",
   "execution_count": 14,
   "id": "6ef9fd3b",
   "metadata": {},
   "outputs": [
    {
     "data": {
      "text/plain": [
       "GAP: <A morphism in FiniteCocompletion( FreeCategory( RightQuiver( \"q(A1,A2,A3,B1)[a1:A1->A2,a2:A2->A3,v1:A1->B1]\" ) ) )>"
      ]
     },
     "execution_count": 14,
     "metadata": {},
     "output_type": "execute_result"
    }
   ],
   "source": [
    "b2 = InjectionOfCofactorOfPushout( [ a2, v2 ], 2 )"
   ]
  },
  {
   "cell_type": "code",
   "execution_count": 15,
   "id": "c2e507a2",
   "metadata": {},
   "outputs": [
    {
     "data": {
      "text/plain": [
       "GAP: <A monomorphism in FiniteCocompletion( FreeCategory( RightQuiver( \"q(A1,A2,A3,B1)[a1:A1->A2,a2:A2->A3,v1:A1->B1]\" ) ) )>"
      ]
     },
     "execution_count": 15,
     "metadata": {},
     "output_type": "execute_result"
    }
   ],
   "source": [
    "a1a2 = PreCompose( a1, a2 )"
   ]
  },
  {
   "cell_type": "code",
   "execution_count": 16,
   "id": "5a797f96",
   "metadata": {},
   "outputs": [
    {
     "data": {
      "text/plain": [
       "GAP: <A morphism in FiniteCocompletion( FreeCategory( RightQuiver( \"q(A1,A2,A3,B1)[a1:A1->A2,a2:A2->A3,v1:A1->B1]\" ) ) )>"
      ]
     },
     "execution_count": 16,
     "metadata": {},
     "output_type": "execute_result"
    }
   ],
   "source": [
    "b1b2 = PreCompose( b1, b2 )"
   ]
  },
  {
   "cell_type": "code",
   "execution_count": 17,
   "id": "daed601b",
   "metadata": {},
   "outputs": [
    {
     "data": {
      "text/plain": [
       "GAP: <A morphism in FiniteCocompletion( FreeCategory( RightQuiver( \"q(A1,A2,A3,B1)[a1:A1->A2,a2:A2->A3,v1:A1->B1]\" ) ) )>"
      ]
     },
     "execution_count": 17,
     "metadata": {},
     "output_type": "execute_result"
    }
   ],
   "source": [
    "u = UniversalMorphismFromPushout( [ a1a2, v1 ], [ v3, b1b2 ] )"
   ]
  },
  {
   "cell_type": "code",
   "execution_count": 18,
   "id": "3f2d500e",
   "metadata": {},
   "outputs": [
    {
     "data": {
      "text/plain": [
       "true"
      ]
     },
     "execution_count": 18,
     "metadata": {},
     "output_type": "execute_result"
    }
   ],
   "source": [
    "IsIsomorphism( u )"
   ]
  }
 ],
 "metadata": {
  "@webio": {
   "lastCommId": null,
   "lastKernelId": null
  },
  "kernelspec": {
   "display_name": "Julia 1.7.3",
   "language": "julia",
   "name": "julia-1.7"
  },
  "language_info": {
   "file_extension": ".jl",
   "mimetype": "application/julia",
   "name": "julia",
   "version": "1.7.3"
  }
 },
 "nbformat": 4,
 "nbformat_minor": 5
}
