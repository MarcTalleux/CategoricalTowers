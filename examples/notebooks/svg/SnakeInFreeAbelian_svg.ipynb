{
 "cells": [
  {
   "cell_type": "code",
   "execution_count": 2,
   "id": "4d674c37",
   "metadata": {},
   "outputs": [],
   "source": [
    "using TikzPictures"
   ]
  },
  {
   "cell_type": "code",
   "execution_count": 35,
   "id": "0f8c42d9",
   "metadata": {},
   "outputs": [
    {
     "name": "stderr",
     "output_type": "stream",
     "text": [
      "┌ Warning: snake_abc.svg already exists, overwriting!\n",
      "└ @ TikzPictures /Users/mo/.julia/packages/TikzPictures/4zjh8/src/TikzPictures.jl:418\n"
     ]
    }
   ],
   "source": [
    "tp = TikzPicture(L\"\"\"\n",
    "    \\coordinate(r) at (2.5,0);\n",
    "    \\coordinate(d) at (0,-1.5);\n",
    "    \n",
    "    \\node(A) {$\\boldsymbol{A}$};\n",
    "    \\node(B) at ($(A)+(r)$) {$\\boldsymbol{B}$};\n",
    "    \\node(C) at ($(B)+(d)$) {$\\boldsymbol{C}$};\n",
    "    \\node(D) at ($(C)+(r)$) {$\\boldsymbol{D}$};\n",
    "    \\draw[->,very thick] (A) -- node[above]{$\\boldsymbol{a}$} (B);\n",
    "    \\draw[->,very thick] (B) -- node[left]{$\\boldsymbol{b}$} (C);\n",
    "    \\draw[->,very thick] (C) -- node[above]{$\\boldsymbol{c}$} (D);\n",
    "    \"\"\"\n",
    ", options=\"scale=1\", preamble=\"\\\\usepackage{amssymb,bm}\\\\usetikzlibrary{arrows,calc}\");\n",
    "\n",
    "save(SVG(\"snake_abc\"),tp)"
   ]
  },
  {
   "cell_type": "markdown",
   "id": "dd8b3347",
   "metadata": {},
   "source": [
    "<img src=\"snake_abc.svg\" alt=\"drawing\" width=\"300\"/>"
   ]
  },
  {
   "cell_type": "code",
   "execution_count": 36,
   "id": "9146078b",
   "metadata": {},
   "outputs": [
    {
     "name": "stderr",
     "output_type": "stream",
     "text": [
      "┌ Warning: snake_d.svg already exists, overwriting!\n",
      "└ @ TikzPictures /Users/mo/.julia/packages/TikzPictures/4zjh8/src/TikzPictures.jl:418\n"
     ]
    }
   ],
   "source": [
    "tp = TikzPicture(L\"\"\"\n",
    "    \\coordinate(r) at (2.5,0);\n",
    "    \\coordinate(d) at (0,-1.5);\n",
    "    \n",
    "    \\node(A) {$\\boldsymbol{A}$};\n",
    "    \\node(B) at ($(A)+(r)$) {$\\boldsymbol{B}$};\n",
    "    \\node(C) at ($(B)+(d)$) {$\\boldsymbol{C}$};\n",
    "    \\node(D) at ($(C)+(r)$) {$\\boldsymbol{D}$};\n",
    "    \\draw[->,very thick] (A) -- node[above]{$\\boldsymbol{a}$} (B);\n",
    "    \\draw[->,very thick] (B) -- node[left]{$\\boldsymbol{b}$} (C);\n",
    "    \\draw[->,very thick] (C) -- node[above]{$\\boldsymbol{c}$} (D);\n",
    "    \n",
    "    \\node(coker_a) at ($(B)+(r)$) {\\color{blue} $\\mathrm{coker}(a)$};\n",
    "    \\draw[->>,thick,blue] (B) -- node[above]{$d$} (coker_a);\n",
    "    \"\"\"\n",
    ", options=\"scale=1\", preamble=\"\\\\usepackage{amssymb,bm}\\\\usetikzlibrary{arrows,calc}\");\n",
    "\n",
    "save(SVG(\"snake_d\"),tp)"
   ]
  },
  {
   "cell_type": "markdown",
   "id": "d2939ef2",
   "metadata": {},
   "source": [
    "<img src=\"snake_d.svg\" alt=\"drawing\" width=\"300\"/>"
   ]
  },
  {
   "cell_type": "code",
   "execution_count": 37,
   "id": "a1e2cb11",
   "metadata": {},
   "outputs": [
    {
     "name": "stderr",
     "output_type": "stream",
     "text": [
      "┌ Warning: snake_e.svg already exists, overwriting!\n",
      "└ @ TikzPictures /Users/mo/.julia/packages/TikzPictures/4zjh8/src/TikzPictures.jl:418\n"
     ]
    }
   ],
   "source": [
    "tp = TikzPicture(L\"\"\"\n",
    "    \\coordinate(r) at (2.5,0);\n",
    "    \\coordinate(d) at (0,-1.5);\n",
    "    \n",
    "    \\node(A) {$\\boldsymbol{A}$};\n",
    "    \\node(B) at ($(A)+(r)$) {$\\boldsymbol{B}$};\n",
    "    \\node(C) at ($(B)+(d)$) {$\\boldsymbol{C}$};\n",
    "    \\node(D) at ($(C)+(r)$) {$\\boldsymbol{D}$};\n",
    "    \\draw[->,very thick] (A) -- node[above]{$\\boldsymbol{a}$} (B);\n",
    "    \\draw[->,very thick] (B) -- node[left]{$\\boldsymbol{b}$} (C);\n",
    "    \\draw[->,very thick] (C) -- node[above]{$\\boldsymbol{c}$} (D);\n",
    "    \n",
    "    \\node(coker_a) at ($(B)+(r)$) {$\\mathrm{coker}(a)$};\n",
    "    \\draw[->>] (B) -- node[above]{$d$} (coker_a);\n",
    "    \\draw[->,thick,blue] (coker_a) -- node[left]{$e$} (D);\n",
    "    \"\"\"\n",
    ", options=\"scale=1\", preamble=\"\\\\usepackage{amssymb,bm}\\\\usetikzlibrary{arrows,calc}\");\n",
    "\n",
    "save(SVG(\"snake_e\"),tp)"
   ]
  },
  {
   "cell_type": "markdown",
   "id": "5eef0706",
   "metadata": {},
   "source": [
    "<img src=\"snake_e.svg\" alt=\"drawing\" width=\"300\"/>"
   ]
  },
  {
   "cell_type": "code",
   "execution_count": 38,
   "id": "008c1f4e",
   "metadata": {},
   "outputs": [
    {
     "name": "stderr",
     "output_type": "stream",
     "text": [
      "┌ Warning: snake_f.svg already exists, overwriting!\n",
      "└ @ TikzPictures /Users/mo/.julia/packages/TikzPictures/4zjh8/src/TikzPictures.jl:418\n"
     ]
    }
   ],
   "source": [
    "tp = TikzPicture(L\"\"\"\n",
    "    \\coordinate(r) at (2.5,0);\n",
    "    \\coordinate(d) at (0,-1.5);\n",
    "    \n",
    "    \\node(A) {$\\boldsymbol{A}$};\n",
    "    \\node(B) at ($(A)+(r)$) {$\\boldsymbol{B}$};\n",
    "    \\node(C) at ($(B)+(d)$) {$\\boldsymbol{C}$};\n",
    "    \\node(D) at ($(C)+(r)$) {$\\boldsymbol{D}$};\n",
    "    \\draw[->,very thick] (A) -- node[above]{$\\boldsymbol{a}$} (B);\n",
    "    \\draw[->,very thick] (B) -- node[left]{$\\boldsymbol{b}$} (C);\n",
    "    \\draw[->,very thick] (C) -- node[above]{$\\boldsymbol{c}$} (D);\n",
    "    \n",
    "    \\node(coker_a) at ($(B)+(r)$) {$\\mathrm{coker}(a)$};\n",
    "    \\draw[->>] (B) -- node[above]{$d$} (coker_a);\n",
    "    \\draw[->] (coker_a) -- node[left]{$e$} (D);\n",
    "    \n",
    "    \\node(ker_e) at ($(coker_a)-(d)$) {\\color{blue} $\\mathrm{ker}(e)$};\n",
    "    \\draw[right hook->,thick,blue] (ker_e) -- node[left]{$f$} (coker_a);\n",
    "    \"\"\"\n",
    ", options=\"scale=1\", preamble=\"\\\\usepackage{amssymb,bm}\\\\usetikzlibrary{arrows,calc}\");\n",
    "\n",
    "save(SVG(\"snake_f\"),tp)"
   ]
  },
  {
   "cell_type": "markdown",
   "id": "7654a1bc",
   "metadata": {},
   "source": [
    "<img src=\"snake_f.svg\" alt=\"drawing\" width=\"300\"/>"
   ]
  },
  {
   "cell_type": "code",
   "execution_count": 39,
   "id": "6f46f5ab",
   "metadata": {},
   "outputs": [
    {
     "name": "stderr",
     "output_type": "stream",
     "text": [
      "┌ Warning: snake_g.svg already exists, overwriting!\n",
      "└ @ TikzPictures /Users/mo/.julia/packages/TikzPictures/4zjh8/src/TikzPictures.jl:418\n"
     ]
    }
   ],
   "source": [
    "tp = TikzPicture(L\"\"\"\n",
    "    \\coordinate(r) at (2.5,0);\n",
    "    \\coordinate(d) at (0,-1.5);\n",
    "    \n",
    "    \\node(A) {$\\boldsymbol{A}$};\n",
    "    \\node(B) at ($(A)+(r)$) {$\\boldsymbol{B}$};\n",
    "    \\node(C) at ($(B)+(d)$) {$\\boldsymbol{C}$};\n",
    "    \\node(D) at ($(C)+(r)$) {$\\boldsymbol{D}$};\n",
    "    \\draw[->,very thick] (A) -- node[above]{$\\boldsymbol{a}$} (B);\n",
    "    \\draw[->,very thick] (B) -- node[left]{$\\boldsymbol{b}$} (C);\n",
    "    \\draw[->,very thick] (C) -- node[above]{$\\boldsymbol{c}$} (D);\n",
    "    \n",
    "    \\node(coker_a) at ($(B)+(r)$) {$\\mathrm{coker}(a)$};\n",
    "    \\draw[->>] (B) -- node[above]{$d$} (coker_a);\n",
    "    \\draw[->] (coker_a) -- node[left]{$e$} (D);\n",
    "    \n",
    "    \\node(ker_e) at ($(coker_a)-(d)$) {$\\mathrm{ker}(e)$};\n",
    "    \\draw[right hook->] (ker_e) -- node[left]{$f$} (coker_a);\n",
    "    \n",
    "    \\node(ker_c) at ($(A)+(d)$) {\\color{blue} $\\mathrm{ker}(c)$};\n",
    "    \\draw[right hook->,thick,blue] (ker_c) -- node[above]{$g$} (C);\n",
    "    \"\"\"\n",
    ", options=\"scale=1\", preamble=\"\\\\usepackage{amssymb,bm}\\\\usetikzlibrary{arrows,calc}\");\n",
    "\n",
    "save(SVG(\"snake_g\"),tp)"
   ]
  },
  {
   "cell_type": "markdown",
   "id": "2b8ce44d",
   "metadata": {},
   "source": [
    "<img src=\"snake_g.svg\" alt=\"drawing\" width=\"300\"/>"
   ]
  },
  {
   "cell_type": "code",
   "execution_count": 40,
   "id": "154f0725",
   "metadata": {},
   "outputs": [
    {
     "name": "stderr",
     "output_type": "stream",
     "text": [
      "┌ Warning: snake_h.svg already exists, overwriting!\n",
      "└ @ TikzPictures /Users/mo/.julia/packages/TikzPictures/4zjh8/src/TikzPictures.jl:418\n"
     ]
    }
   ],
   "source": [
    "tp = TikzPicture(L\"\"\"\n",
    "    \\coordinate(r) at (2.5,0);\n",
    "    \\coordinate(d) at (0,-1.5);\n",
    "    \n",
    "    \\node(A) {$\\boldsymbol{A}$};\n",
    "    \\node(B) at ($(A)+(r)$) {$\\boldsymbol{B}$};\n",
    "    \\node(C) at ($(B)+(d)$) {$\\boldsymbol{C}$};\n",
    "    \\node(D) at ($(C)+(r)$) {$\\boldsymbol{D}$};\n",
    "    \\draw[->,very thick] (A) -- node[above]{$\\boldsymbol{a}$} (B);\n",
    "    \\draw[->,very thick] (B) -- node[left]{$\\boldsymbol{b}$} (C);\n",
    "    \\draw[->,very thick] (C) -- node[above]{$\\boldsymbol{c}$} (D);\n",
    "    \n",
    "    \\node(coker_a) at ($(B)+(r)$) {$\\mathrm{coker}(a)$};\n",
    "    \\draw[->>] (B) -- node[above]{$d$} (coker_a);\n",
    "    \\draw[->] (coker_a) -- node[left]{$e$} (D);\n",
    "    \n",
    "    \\node(ker_e) at ($(coker_a)-(d)$) {$\\mathrm{ker}(e)$};\n",
    "    \\draw[right hook->] (ker_e) -- node[left]{$f$} (coker_a);\n",
    "    \n",
    "    \\node(ker_c) at ($(A)+(d)$) {$\\mathrm{ker}(c)$};\n",
    "    \\draw[right hook->] (ker_c) -- node[above]{$g$} (C);\n",
    "    \\draw[->,thick,blue] (A) -- node[left]{$h$} (ker_c);\n",
    "    \"\"\"\n",
    ", options=\"scale=1\", preamble=\"\\\\usepackage{amssymb,bm}\\\\usetikzlibrary{arrows,calc}\");\n",
    "\n",
    "save(SVG(\"snake_h\"),tp)"
   ]
  },
  {
   "cell_type": "markdown",
   "id": "271d59b5",
   "metadata": {},
   "source": [
    "<img src=\"snake_h.svg\" alt=\"drawing\" width=\"300\"/>"
   ]
  },
  {
   "cell_type": "code",
   "execution_count": null,
   "id": "a4e57a54",
   "metadata": {},
   "outputs": [],
   "source": [
    "tp = TikzPicture(L\"\"\"\n",
    "    \\coordinate(r) at (2.5,0);\n",
    "    \\coordinate(d) at (0,-1.5);\n",
    "    \n",
    "    \\node(A) {$\\boldsymbol{A}$};\n",
    "    \\node(B) at ($(A)+(r)$) {$\\boldsymbol{B}$};\n",
    "    \\node(C) at ($(B)+(d)$) {$\\boldsymbol{C}$};\n",
    "    \\node(D) at ($(C)+(r)$) {$\\boldsymbol{D}$};\n",
    "    \\draw[->,very thick] (A) -- node[above]{$\\boldsymbol{a}$} (B);\n",
    "    \\draw[->,very thick] (B) -- node[left]{$\\boldsymbol{b}$} (C);\n",
    "    \\draw[->,very thick] (C) -- node[above]{$\\boldsymbol{c}$} (D);\n",
    "    \n",
    "    \\node(coker_a) at ($(B)+(r)$) {$\\mathrm{coker}(a)$};\n",
    "    \\draw[->>] (B) -- node[above]{$d$} (coker_a);\n",
    "    \\draw[->] (coker_a) -- node[left]{$e$} (D);\n",
    "    \n",
    "    \\node(ker_e) at ($(coker_a)-(d)$) {$\\mathrm{ker}(e)$};\n",
    "    \\draw[right hook->] (ker_e) -- node[left]{$f$} (coker_a);\n",
    "    \n",
    "    \\node(ker_c) at ($(A)+(d)$) {$\\mathrm{ker}(c)$};\n",
    "    \\draw[right hook->] (ker_c) -- node[above]{$g$} (C);\n",
    "    \\draw[->] (A) -- node[left]{$h$} (ker_c);\n",
    "    \n",
    "    \\node(coker_h) at ($(ker_c)+(d)$) {\\color{blue} $\\mathrm{coker}(h)$};\n",
    "    \\draw[->>,thick,blue] (ker_c) -- node[left]{$i$} (coker_h);\n",
    "    \"\"\"\n",
    ", options=\"scale=1\", preamble=\"\\\\usepackage{amssymb,bm}\\\\usetikzlibrary{arrows,calc}\");\n",
    "\n",
    "save(SVG(\"snake_i\"),tp)"
   ]
  },
  {
   "cell_type": "markdown",
   "id": "d80b0e43",
   "metadata": {},
   "source": [
    "<img src=\"snake_i.svg\" alt=\"drawing\" width=\"300\"/>"
   ]
  },
  {
   "cell_type": "code",
   "execution_count": null,
   "id": "29d48ae4",
   "metadata": {},
   "outputs": [],
   "source": [
    "tp = TikzPicture(L\"\"\"\n",
    "    \\coordinate(r) at (2.5,0);\n",
    "    \\coordinate(d) at (0,-1.5);\n",
    "    \n",
    "    \\node(A) {$\\boldsymbol{A}$};\n",
    "    \\node(B) at ($(A)+(r)$) {$\\boldsymbol{B}$};\n",
    "    \\node(C) at ($(B)+(d)$) {$\\boldsymbol{C}$};\n",
    "    \\node(D) at ($(C)+(r)$) {$\\boldsymbol{D}$};\n",
    "    \\draw[->,very thick] (A) -- node[above]{$\\boldsymbol{a}$} (B);\n",
    "    \\draw[->,very thick] (B) -- node[left]{$\\boldsymbol{b}$} (C);\n",
    "    \\draw[->,very thick] (C) -- node[above]{$\\boldsymbol{c}$} (D);\n",
    "    \n",
    "    \\node(coker_a) at ($(B)+(r)$) {$\\mathrm{coker}(a)$};\n",
    "    \\draw[->>] (B) -- node[above]{$d$} (coker_a);\n",
    "    \\draw[->] (coker_a) -- node[left]{$e$} (D);\n",
    "    \n",
    "    \\node(ker_e) at ($(coker_a)-(d)$) {$\\mathrm{ker}(e)$};\n",
    "    \\draw[right hook->] (ker_e) -- node[left]{$f$} (coker_a);\n",
    "    \n",
    "    \\node(ker_c) at ($(A)+(d)$) {$\\mathrm{ker}(c)$};\n",
    "    \\draw[right hook->] (ker_c) -- node[above]{$g$} (C);\n",
    "    \\draw[->] (A) -- node[left]{$h$} (ker_c);\n",
    "    \n",
    "    \\node(coker_h) at ($(ker_c)+(d)$) {$\\mathrm{coker}(h)$};\n",
    "    \\draw[->>] (ker_c) -- node[left]{$i$} (coker_h);\n",
    "    \n",
    "    \\draw[->,red,thick,rounded corners] ($(ker_e)+0.3*(r)$) -- ($(ker_e)+0.4*(r)$) -- ($(coker_a)+0.4*(r)+0.25*(d)$) -- ($(B)+0.2*(r)+0.25*(d)$) -- ($(C)+0.2*(r)+0.25*(d)$) --  node[below]{$s$} ($(ker_c)+0.1*(r)+0.25*(d)$) -- ($(coker_h)+0.1*(r)-0.2*(d)$);\n",
    "    \"\"\"\n",
    ", options=\"scale=1\", preamble=\"\\\\usepackage{amssymb,bm}\\\\usetikzlibrary{arrows,calc}\");\n",
    "\n",
    "save(SVG(\"snake_s\"),tp)"
   ]
  },
  {
   "cell_type": "markdown",
   "id": "2237b750",
   "metadata": {},
   "source": [
    "<img src=\"snake_s.svg\" alt=\"drawing\" width=\"300\"/>"
   ]
  },
  {
   "cell_type": "code",
   "execution_count": 46,
   "id": "5a0d0cd3",
   "metadata": {},
   "outputs": [
    {
     "name": "stderr",
     "output_type": "stream",
     "text": [
      "┌ Warning: snake_j.svg already exists, overwriting!\n",
      "└ @ TikzPictures /Users/mo/.julia/packages/TikzPictures/4zjh8/src/TikzPictures.jl:418\n"
     ]
    }
   ],
   "source": [
    "tp = TikzPicture(L\"\"\"\n",
    "    \\coordinate(r) at (2.5,0);\n",
    "    \\coordinate(d) at (0,-1.5);\n",
    "    \n",
    "    \\node(A) {$\\boldsymbol{A}$};\n",
    "    \\node(B) at ($(A)+(r)$) {$\\boldsymbol{B}$};\n",
    "    \\node(C) at ($(B)+(d)$) {$\\boldsymbol{C}$};\n",
    "    \\node(D) at ($(C)+(r)$) {$\\boldsymbol{D}$};\n",
    "    \\draw[->,very thick] (A) -- node[above]{$\\boldsymbol{a}$} (B);\n",
    "    \\draw[->,very thick] (B) -- node[left]{$\\boldsymbol{b}$} (C);\n",
    "    \\draw[->,very thick] (C) -- node[above]{$\\boldsymbol{c}$} (D);\n",
    "    \n",
    "    \\node(coker_a) at ($(B)+(r)$) {$\\mathrm{coker}(a)$};\n",
    "    \\draw[->>] (B) -- node[above]{$d$} (coker_a);\n",
    "    \\draw[->] (coker_a) -- node[left]{$e$} (D);\n",
    "    \n",
    "    \\node(ker_e) at ($(coker_a)-(d)$) {$\\mathrm{ker}(e)$};\n",
    "    \\draw[right hook->] (ker_e) -- node[left]{$f$} (coker_a);\n",
    "    \n",
    "    \\node(ker_c) at ($(A)+(d)$) {$\\mathrm{ker}(c)$};\n",
    "    \\draw[right hook->] (ker_c) -- node[above]{$g$} (C);\n",
    "    \\draw[->] (A) -- node[left]{$h$} (ker_c);\n",
    "    \n",
    "    \\node(coker_h) at ($(ker_c)+(d)$) {$\\mathrm{coker}(h)$};\n",
    "    \\draw[->>] (ker_c) -- node[left]{$i$} (coker_h);\n",
    "    \n",
    "    \\node(ker_b) at ($(B)-(d)$) {\\color{blue} $\\mathrm{ker}(b)$};\n",
    "    \\draw[right hook->,dashed] (ker_b) -- (B);\n",
    "    \\draw[->,thick,blue] (ker_b) -- node[above]{\\color{blue} $j$} (ker_e);\n",
    "    \n",
    "    \n",
    "    \\draw[->,red,thick,rounded corners] ($(ker_e)+0.3*(r)$) -- ($(ker_e)+0.4*(r)$) -- ($(coker_a)+0.4*(r)+0.25*(d)$) -- ($(B)+0.2*(r)+0.25*(d)$) -- ($(C)+0.2*(r)+0.25*(d)$) --  node[below]{$s$} ($(ker_c)+0.1*(r)+0.25*(d)$) -- ($(coker_h)+0.1*(r)-0.2*(d)$);\n",
    "    \"\"\"\n",
    ", options=\"scale=1\", preamble=\"\\\\usepackage{amssymb,bm}\\\\usetikzlibrary{arrows,calc}\");\n",
    "\n",
    "save(SVG(\"snake_j\"),tp)"
   ]
  },
  {
   "cell_type": "markdown",
   "id": "388c9cde",
   "metadata": {},
   "source": [
    "<img src=\"snake_j.svg\" alt=\"drawing\" width=\"300\"/>"
   ]
  },
  {
   "cell_type": "code",
   "execution_count": 45,
   "id": "45bbdad1",
   "metadata": {},
   "outputs": [
    {
     "name": "stderr",
     "output_type": "stream",
     "text": [
      "┌ Warning: snake_k.svg already exists, overwriting!\n",
      "└ @ TikzPictures /Users/mo/.julia/packages/TikzPictures/4zjh8/src/TikzPictures.jl:418\n"
     ]
    }
   ],
   "source": [
    "tp = TikzPicture(L\"\"\"\n",
    "    \\coordinate(r) at (2.5,0);\n",
    "    \\coordinate(d) at (0,-1.5);\n",
    "    \n",
    "    \\node(A) {$\\boldsymbol{A}$};\n",
    "    \\node(B) at ($(A)+(r)$) {$\\boldsymbol{B}$};\n",
    "    \\node(C) at ($(B)+(d)$) {$\\boldsymbol{C}$};\n",
    "    \\node(D) at ($(C)+(r)$) {$\\boldsymbol{D}$};\n",
    "    \\draw[->,very thick] (A) -- node[above]{$\\boldsymbol{a}$} (B);\n",
    "    \\draw[->,very thick] (B) -- node[left]{$\\boldsymbol{b}$} (C);\n",
    "    \\draw[->,very thick] (C) -- node[above]{$\\boldsymbol{c}$} (D);\n",
    "    \n",
    "    \\node(coker_a) at ($(B)+(r)$) {$\\mathrm{coker}(a)$};\n",
    "    \\draw[->>] (B) -- node[above]{$d$} (coker_a);\n",
    "    \\draw[->] (coker_a) -- node[left]{$e$} (D);\n",
    "    \n",
    "    \\node(ker_e) at ($(coker_a)-(d)$) {$\\mathrm{ker}(e)$};\n",
    "    \\draw[right hook->] (ker_e) -- node[left]{$f$} (coker_a);\n",
    "    \n",
    "    \\node(ker_c) at ($(A)+(d)$) {$\\mathrm{ker}(c)$};\n",
    "    \\draw[right hook->] (ker_c) -- node[above]{$g$} (C);\n",
    "    \\draw[->] (A) -- node[left]{$h$} (ker_c);\n",
    "    \n",
    "    \\node(coker_h) at ($(ker_c)+(d)$) {$\\mathrm{coker}(h)$};\n",
    "    \\draw[->>] (ker_c) -- node[left]{$i$} (coker_h);\n",
    "    \n",
    "    \\node(ker_b) at ($(B)-(d)$) {$\\mathrm{ker}(b)$};\n",
    "    \\draw[right hook->,dashed] (ker_b) -- (B);\n",
    "    \\draw[->] (ker_b) -- node[above]{$j$} (ker_e);\n",
    "    \n",
    "    \n",
    "    \\node(coker_b) at ($(C)+(d)$) {\\color{blue} $\\mathrm{coker}(b)$};\n",
    "    \\draw[->>,dashed] (C) -- (coker_b);\n",
    "    \\draw[->,thick,blue] (coker_h) -- node[above]{\\color{blue} $k$} (coker_b);\n",
    "    \n",
    "    \n",
    "    \\draw[->,red,thick,rounded corners] ($(ker_e)+0.3*(r)$) -- ($(ker_e)+0.4*(r)$) -- ($(coker_a)+0.4*(r)+0.25*(d)$) -- ($(B)+0.2*(r)+0.25*(d)$) -- ($(C)+0.2*(r)+0.25*(d)$) --  node[below]{$s$} ($(ker_c)+0.1*(r)+0.25*(d)$) -- ($(coker_h)+0.1*(r)-0.2*(d)$);\n",
    "    \"\"\"\n",
    ", options=\"scale=1\", preamble=\"\\\\usepackage{amssymb,bm}\\\\usetikzlibrary{arrows,calc}\");\n",
    "\n",
    "save(SVG(\"snake_k\"),tp)"
   ]
  },
  {
   "cell_type": "markdown",
   "id": "f1ae13a7",
   "metadata": {},
   "source": [
    "<img src=\"snake_k.svg\" alt=\"drawing\" width=\"300\"/>"
   ]
  },
  {
   "cell_type": "code",
   "execution_count": 51,
   "id": "27e1ec01",
   "metadata": {},
   "outputs": [
    {
     "name": "stderr",
     "output_type": "stream",
     "text": [
      "┌ Warning: snake.svg already exists, overwriting!\n",
      "└ @ TikzPictures /Users/mo/.julia/packages/TikzPictures/4zjh8/src/TikzPictures.jl:418\n"
     ]
    }
   ],
   "source": [
    "tp = TikzPicture(L\"\"\"\n",
    "    \\coordinate(r) at (2.5,0);\n",
    "    \\coordinate(d) at (0,-1.5);\n",
    "    \n",
    "    \\node(A) {$\\boldsymbol{A}$};\n",
    "    \\node(B) at ($(A)+(r)$) {$\\boldsymbol{B}$};\n",
    "    \\node(C) at ($(B)+(d)$) {$\\boldsymbol{C}$};\n",
    "    \\node(D) at ($(C)+(r)$) {$\\boldsymbol{D}$};\n",
    "    \\draw[->,very thick] (A) -- node[above]{$\\boldsymbol{a}$} (B);\n",
    "    \\draw[->,very thick] (B) -- node[left]{$\\boldsymbol{b}$} (C);\n",
    "    \\draw[->,very thick] (C) -- node[above]{$\\boldsymbol{c}$} (D);\n",
    "    \n",
    "    \\node(coker_a) at ($(B)+(r)$) {$\\mathrm{coker}(a)$};\n",
    "    \\draw[->>] (B) -- node[above]{$d$} (coker_a);\n",
    "    \\draw[->] (coker_a) -- node[left]{$e$} (D);\n",
    "    \n",
    "    \\node(ker_e) at ($(coker_a)-(d)$) {$\\mathrm{ker}(e)$};\n",
    "    \\draw[right hook->] (ker_e) -- node[left]{$f$} (coker_a);\n",
    "    \n",
    "    \\node(ker_c) at ($(A)+(d)$) {$\\mathrm{ker}(c)$};\n",
    "    \\draw[right hook->] (ker_c) -- node[above]{$g$} (C);\n",
    "    \\draw[->] (A) -- node[left]{$h$} (ker_c);\n",
    "    \n",
    "    \\node(coker_h) at ($(ker_c)+(d)$) {$\\mathrm{coker}(h)$};\n",
    "    \\draw[->>] (ker_c) -- node[left]{$i$} (coker_h);\n",
    "    \n",
    "    \\node(ker_b) at ($(B)-(d)$) {$\\mathrm{ker}(b)$};\n",
    "    \\draw[right hook->,dashed] (ker_b) -- (B);\n",
    "    \\draw[->] (ker_b) -- node[above]{$j$} (ker_e);\n",
    "    \n",
    "    \n",
    "    \\node(coker_b) at ($(C)+(d)$) {$\\mathrm{coker}(b)$};\n",
    "    \\draw[->>,dashed] (C) -- (coker_b);\n",
    "    \\draw[->,thick] (coker_h) -- node[above]{$k$} (coker_b);\n",
    "    \n",
    "    \n",
    "    \\draw[->,red,thick,rounded corners] ($(ker_e)+0.3*(r)$) -- ($(ker_e)+0.4*(r)$) -- ($(coker_a)+0.4*(r)+0.25*(d)$) -- ($(B)+0.2*(r)+0.25*(d)$) -- ($(C)+0.2*(r)+0.25*(d)$) --  node[below]{$s$} ($(ker_c)+0.1*(r)+0.25*(d)$) -- ($(coker_h)+0.1*(r)-0.2*(d)$);\n",
    "    \"\"\"\n",
    ", options=\"scale=1\", preamble=\"\\\\usepackage{amssymb,bm}\\\\usetikzlibrary{arrows,calc}\");\n",
    "\n",
    "save(SVG(\"snake\"),tp)"
   ]
  },
  {
   "cell_type": "markdown",
   "id": "d09b5d26",
   "metadata": {},
   "source": [
    "<img src=\"snake.svg\" alt=\"drawing\" width=\"300\"/>"
   ]
  },
  {
   "cell_type": "code",
   "execution_count": null,
   "id": "b2d9671f",
   "metadata": {},
   "outputs": [],
   "source": []
  }
 ],
 "metadata": {
  "@webio": {
   "lastCommId": null,
   "lastKernelId": null
  },
  "celltoolbar": "Slideshow",
  "kernelspec": {
   "display_name": "Julia 1.7.3",
   "language": "julia",
   "name": "julia-1.7"
  },
  "language_info": {
   "file_extension": ".jl",
   "mimetype": "application/julia",
   "name": "julia",
   "version": "1.7.3"
  }
 },
 "nbformat": 4,
 "nbformat_minor": 5
}
