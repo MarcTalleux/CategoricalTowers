{
 "cells": [
  {
   "cell_type": "markdown",
   "id": "5dd5d895",
   "metadata": {},
   "source": [
    "[![Binder](https://mybinder.org/badge_logo.svg)](https://gesis.mybinder.org/v2/gh/homalg-project/CapAndHomalgNotebooks/master?urlpath=git-pull%3Frepo%3Dhttps%253A%252F%252Fgithub.com%252Fhomalg-project%252FCategoricalTowers%26urlpath%3Dtree%252FCategoricalTowers%252FFunctorCategories%252Fexamples%252F%252Fnotebooks%252FLogicInToposOfFinQuivers.ipynb%26branch%3Dmaster)"
   ]
  },
  {
   "cell_type": "markdown",
   "id": "e044784f",
   "metadata": {},
   "source": [
    "## The topos of finite quivers\n",
    "\n",
    "This notebook demonstrates computations in the (elementary) topos of finite quivers which is modeled here as a finite (colimit) cocompletion, itself modeled as a presheaf topos.\n",
    "\n",
    "The code is far from optimized and not yet compiled.\n",
    "\n",
    "Any presheaf topos is a bi-Heyting topos. We did not yet implement the co-Heyting structure on the subobject lattices. In particular, the notebook does not yet treat complements $S \\setminus T$, Lawvere's non-$S$ operation $\\sim\\!\\! S$, nor modalities. These are treated in the nice blog post of Myers and Patterson cited below.\n",
    "\n",
    "1. Marie La Palme Reyes, Gonzalo E. Reyes, and Houman Zolfaghari, [Generic figures and their glueings: A constructive approach to functor categories](https://marieetgonzalo.files.wordpress.com/2004/06/generic-figures.pdf), 2004.\n",
    "2. Blog post by David Jaz Myers and Evan Patterson, [Graphs and C-sets IV: The propositional logic of subgraphs and sub-C-sets](https://www.algebraicjulia.org/blog/post/2021/09/cset-graphs-4/), September 23, 2021."
   ]
  },
  {
   "cell_type": "code",
   "execution_count": 1,
   "id": "ca02fe8d",
   "metadata": {},
   "outputs": [
    {
     "name": "stdout",
     "output_type": "stream",
     "text": [
      "CapAndHomalg v\u001b[32m1.5.7\u001b[39m\n",
      "Imported OSCAR's components GAP and Singular_jll\n",
      "Type: ?CapAndHomalg for more information\n"
     ]
    }
   ],
   "source": [
    "using CapAndHomalg"
   ]
  },
  {
   "cell_type": "code",
   "execution_count": 2,
   "id": "c110995e",
   "metadata": {},
   "outputs": [],
   "source": [
    "LoadPackage( \"FunctorCategories\" )"
   ]
  },
  {
   "cell_type": "markdown",
   "id": "1b45d107",
   "metadata": {},
   "source": [
    "The category $\\mathbf{FinQuivers}$ of finite quivers:"
   ]
  },
  {
   "cell_type": "code",
   "execution_count": 3,
   "id": "a0723787",
   "metadata": {},
   "outputs": [
    {
     "data": {
      "text/plain": [
       "GAP: FinQuivers"
      ]
     },
     "execution_count": 3,
     "metadata": {},
     "output_type": "execute_result"
    }
   ],
   "source": [
    "FinQuivers"
   ]
  },
  {
   "cell_type": "markdown",
   "id": "a736b769",
   "metadata": {},
   "source": [
    "The category $\\mathbf{FinQuivers}$ is modeled as the finite (colimit) cocompletion $\\hat{\\mathbf{C}}$ of the finitely presented category $\\mathbf{C}$, where $\\mathbf{C}$ is called the categoy of **abstract generic figures**:"
   ]
  },
  {
   "cell_type": "code",
   "execution_count": 4,
   "id": "33ca91db",
   "metadata": {},
   "outputs": [
    {
     "name": "stdout",
     "output_type": "stream",
     "text": [
      "A CAP category with name FinQuivers:\n",
      "\n",
      "70 primitive operations were used to derive 313 operations for this category which algorithmically\n",
      "* IsEquippedWithHomomorphismStructure\n",
      "* IsElementaryTopos\n"
     ]
    }
   ],
   "source": [
    "Display( FinQuivers )"
   ]
  },
  {
   "cell_type": "code",
   "execution_count": 5,
   "id": "b2166932",
   "metadata": {},
   "outputs": [
    {
     "data": {
      "text/plain": [
       "GAP: FreeCategory( RightQuiver( \"q(V,A)[s:V->A,t:V->A]\" ) )"
      ]
     },
     "execution_count": 5,
     "metadata": {},
     "output_type": "execute_result"
    }
   ],
   "source": [
    "C = UnderlyingCategory( FinQuivers )"
   ]
  },
  {
   "cell_type": "code",
   "execution_count": 6,
   "id": "9fd016ae",
   "metadata": {},
   "outputs": [
    {
     "data": {
      "text/plain": [
       "GAP: FiniteCocompletion( FreeCategory( RightQuiver( \"q(V,A)[s:V->A,t:V->A]\" ) ) )"
      ]
     },
     "execution_count": 6,
     "metadata": {},
     "output_type": "execute_result"
    }
   ],
   "source": [
    "Ĉ = ModelingCategory( FinQuivers )"
   ]
  },
  {
   "cell_type": "markdown",
   "id": "e6673dca",
   "metadata": {},
   "source": [
    "The finite (colimit) cocompletion $\\hat{\\mathbf{C}}$ is itself modeled as the **presheaf topos** with values in $\\mathbf{SkeletalFinSets}$:\n",
    "\n",
    "$$\\hat{\\mathbf{C}} := \\mathbf{PreSheaves}(\\mathbf{C},\\mathbf{SkeletalFinSets}) := \\mathbf{FunctorCategory}(\\mathbf{C}^\\mathrm{op},\\mathbf{SkeletalFinSets})$$"
   ]
  },
  {
   "cell_type": "code",
   "execution_count": 7,
   "id": "dee3c66d",
   "metadata": {},
   "outputs": [
    {
     "data": {
      "text/plain": [
       "GAP: PreSheaves( FreeCategory( RightQuiver( \"q(V,A)[s:V->A,t:V->A]\" ) ), SkeletalFinSets )"
      ]
     },
     "execution_count": 7,
     "metadata": {},
     "output_type": "execute_result"
    }
   ],
   "source": [
    "PSh = ModelingCategory( Ĉ )"
   ]
  },
  {
   "cell_type": "markdown",
   "id": "6484fd87",
   "metadata": {},
   "source": [
    "We call the objects of $\\mathbf{C}$ the **abstract generic figures**:"
   ]
  },
  {
   "cell_type": "markdown",
   "id": "105f8aef",
   "metadata": {},
   "source": [
    "The object $V \\in \\mathbf{C}$ is referred to as the abstract generic figure named \"*the vertex*\":"
   ]
  },
  {
   "cell_type": "code",
   "execution_count": 8,
   "id": "09b9fdf0",
   "metadata": {},
   "outputs": [
    {
     "data": {
      "text/plain": [
       "GAP: <(V)>"
      ]
     },
     "execution_count": 8,
     "metadata": {},
     "output_type": "execute_result"
    }
   ],
   "source": [
    "C.V"
   ]
  },
  {
   "cell_type": "markdown",
   "id": "7b0d5122",
   "metadata": {},
   "source": [
    "The object $A \\in \\mathbf{C}$ is referred to as the abstract generic figure named \"*the arrow*\":"
   ]
  },
  {
   "cell_type": "code",
   "execution_count": 9,
   "id": "09a563a2",
   "metadata": {},
   "outputs": [
    {
     "data": {
      "text/plain": [
       "GAP: <(A)>"
      ]
     },
     "execution_count": 9,
     "metadata": {},
     "output_type": "execute_result"
    }
   ],
   "source": [
    "C.A"
   ]
  },
  {
   "cell_type": "markdown",
   "id": "2b9ebc94",
   "metadata": {},
   "source": [
    "We call the morphisms of $\\mathbf{C}$ the **abstract actions** (or the **abstract change of figures**):"
   ]
  },
  {
   "cell_type": "markdown",
   "id": "3887c984",
   "metadata": {},
   "source": [
    "The morphsim $s \\in \\mathbf{C}$ is referred to as the abstract action named \"*source*\":"
   ]
  },
  {
   "cell_type": "code",
   "execution_count": 10,
   "id": "f0a0df11",
   "metadata": {},
   "outputs": [
    {
     "data": {
      "text/plain": [
       "GAP: (V)-[(s)]->(A)"
      ]
     },
     "execution_count": 10,
     "metadata": {},
     "output_type": "execute_result"
    }
   ],
   "source": [
    "C.s"
   ]
  },
  {
   "cell_type": "markdown",
   "id": "29e681d9",
   "metadata": {},
   "source": [
    "The morphsim $t \\in \\mathbf{C}$ is referred to as the abstract action named \"*target*\":"
   ]
  },
  {
   "cell_type": "code",
   "execution_count": 11,
   "id": "13cb99f9",
   "metadata": {},
   "outputs": [
    {
     "data": {
      "text/plain": [
       "GAP: (V)-[(t)]->(A)"
      ]
     },
     "execution_count": 11,
     "metadata": {},
     "output_type": "execute_result"
    }
   ],
   "source": [
    "C.t"
   ]
  },
  {
   "cell_type": "markdown",
   "id": "32e6db49",
   "metadata": {},
   "source": [
    "---\n",
    "The Yoneda functor $Y$ is a full embedding of the category $\\mathbf{C}$ of abstract generic figures into the presheaf topos $\\mathbf{FinQuivers}$.\n",
    "The images of the objects in $\\mathbf{C}$ under $Y$ are called the **generic figures** of the presheaf topos:"
   ]
  },
  {
   "cell_type": "markdown",
   "id": "3f4cae0f",
   "metadata": {},
   "source": [
    "The image of the abstract generic figure $V \\in \\mathbf{C}$ under $Y$ is the generic figure $V \\in \\mathbf{FinQuivers}$, again called \"*the vertex*\":"
   ]
  },
  {
   "cell_type": "code",
   "execution_count": 12,
   "id": "c82e940b",
   "metadata": {},
   "outputs": [
    {
     "data": {
      "image/svg+xml": [
       "<?xml version=\"1.0\" encoding=\"UTF-8\" standalone=\"no\"?>\n",
       "<!DOCTYPE svg PUBLIC \"-//W3C//DTD SVG 1.1//EN\"\n",
       " \"http://www.w3.org/Graphics/SVG/1.1/DTD/svg11.dtd\">\n",
       "<!-- Generated by graphviz version 2.50.0 (20211204.2007)\n",
       " -->\n",
       "<!-- Title: quiver Pages: 1 -->\n",
       "<svg width=\"29pt\" height=\"29pt\"\n",
       " viewBox=\"0.00 0.00 29.21 29.21\" xmlns=\"http://www.w3.org/2000/svg\" xmlns:xlink=\"http://www.w3.org/1999/xlink\">\n",
       "<g id=\"graph0\" class=\"graph\" transform=\"scale(1 1) rotate(0) translate(4 25.21)\">\n",
       "<title>quiver</title>\n",
       "<polygon fill=\"white\" stroke=\"transparent\" points=\"-4,4 -4,-25.21 25.21,-25.21 25.21,4 -4,4\"/>\n",
       "<!-- 0 -->\n",
       "<g id=\"node1\" class=\"node\">\n",
       "<title>0</title>\n",
       "<ellipse fill=\"none\" stroke=\"black\" cx=\"10.61\" cy=\"-10.61\" rx=\"10.71\" ry=\"10.71\"/>\n",
       "<text text-anchor=\"middle\" x=\"10.61\" y=\"-7.51\" font-family=\"DejaVu Serif,serif\" font-size=\"12.00\">0</text>\n",
       "</g>\n",
       "</g>\n",
       "</svg>\n"
      ],
      "text/plain": [
       "GAP: <A projective object in FinQuivers>"
      ]
     },
     "execution_count": 12,
     "metadata": {},
     "output_type": "execute_result"
    }
   ],
   "source": [
    "V = FinQuivers.V"
   ]
  },
  {
   "cell_type": "code",
   "execution_count": 13,
   "id": "8adb2ebe",
   "metadata": {},
   "outputs": [
    {
     "name": "stdout",
     "output_type": "stream",
     "text": [
      "( { 0 }, { } )\n"
     ]
    }
   ],
   "source": [
    "Display( V )"
   ]
  },
  {
   "cell_type": "markdown",
   "id": "45693c0a",
   "metadata": {},
   "source": [
    "The image of the abstract generic figure $A \\in \\mathbf{C}$ under $Y$ is the generic figure $A \\in \\mathbf{FinQuivers}$, again called \"*the arrow*\":"
   ]
  },
  {
   "cell_type": "code",
   "execution_count": 14,
   "id": "27dce462",
   "metadata": {},
   "outputs": [
    {
     "data": {
      "image/svg+xml": [
       "<?xml version=\"1.0\" encoding=\"UTF-8\" standalone=\"no\"?>\n",
       "<!DOCTYPE svg PUBLIC \"-//W3C//DTD SVG 1.1//EN\"\n",
       " \"http://www.w3.org/Graphics/SVG/1.1/DTD/svg11.dtd\">\n",
       "<!-- Generated by graphviz version 2.50.0 (20211204.2007)\n",
       " -->\n",
       "<!-- Title: quiver Pages: 1 -->\n",
       "<svg width=\"93pt\" height=\"30pt\"\n",
       " viewBox=\"0.00 0.00 93.43 29.61\" xmlns=\"http://www.w3.org/2000/svg\" xmlns:xlink=\"http://www.w3.org/1999/xlink\">\n",
       "<g id=\"graph0\" class=\"graph\" transform=\"scale(1 1) rotate(0) translate(4 25.61)\">\n",
       "<title>quiver</title>\n",
       "<polygon fill=\"white\" stroke=\"transparent\" points=\"-4,4 -4,-25.61 89.43,-25.61 89.43,4 -4,4\"/>\n",
       "<!-- 0 -->\n",
       "<g id=\"node1\" class=\"node\">\n",
       "<title>0</title>\n",
       "<ellipse fill=\"none\" stroke=\"black\" cx=\"10.61\" cy=\"-10.61\" rx=\"10.71\" ry=\"10.71\"/>\n",
       "<text text-anchor=\"middle\" x=\"10.61\" y=\"-7.51\" font-family=\"DejaVu Serif,serif\" font-size=\"12.00\">0</text>\n",
       "</g>\n",
       "<!-- 1 -->\n",
       "<g id=\"node2\" class=\"node\">\n",
       "<title>1</title>\n",
       "<ellipse fill=\"none\" stroke=\"black\" cx=\"74.82\" cy=\"-10.61\" rx=\"10.71\" ry=\"10.71\"/>\n",
       "<text text-anchor=\"middle\" x=\"74.82\" y=\"-7.51\" font-family=\"DejaVu Serif,serif\" font-size=\"12.00\">1</text>\n",
       "</g>\n",
       "<!-- 0&#45;&gt;1 -->\n",
       "<g id=\"edge1\" class=\"edge\">\n",
       "<title>0&#45;&gt;1</title>\n",
       "<path fill=\"none\" stroke=\"black\" d=\"M21.33,-10.61C31.4,-10.61 47.28,-10.61 58.94,-10.61\"/>\n",
       "<polygon fill=\"black\" stroke=\"black\" points=\"58.96,-12.36 63.96,-10.61 58.96,-8.86 58.96,-12.36\"/>\n",
       "<text text-anchor=\"middle\" x=\"42.71\" y=\"-13.61\" font-family=\"DejaVu Serif,serif\" font-size=\"10.00\">0</text>\n",
       "</g>\n",
       "</g>\n",
       "</svg>\n"
      ],
      "text/plain": [
       "GAP: <A projective object in FinQuivers>"
      ]
     },
     "execution_count": 14,
     "metadata": {},
     "output_type": "execute_result"
    }
   ],
   "source": [
    "A = FinQuivers.A"
   ]
  },
  {
   "cell_type": "code",
   "execution_count": 15,
   "id": "c96edb70",
   "metadata": {},
   "outputs": [
    {
     "name": "stdout",
     "output_type": "stream",
     "text": [
      "( { 0, 1 }, { 0 := [ 0, 1 ] } )\n"
     ]
    }
   ],
   "source": [
    "Display( A )"
   ]
  },
  {
   "cell_type": "markdown",
   "id": "b7f5def9",
   "metadata": {},
   "source": [
    "The images of of the abstract actions in $\\mathbf{C}$ under the Yoneda embedding are called the **actions** of the presheaf topos:"
   ]
  },
  {
   "cell_type": "markdown",
   "id": "2dfec3bf",
   "metadata": {},
   "source": [
    "The image of the abstract action $s \\in C$ under $Y$ is the action $s \\in \\mathbf{FinQuivers}$, again called \"*source*\":"
   ]
  },
  {
   "cell_type": "code",
   "execution_count": 16,
   "id": "3a28c016",
   "metadata": {},
   "outputs": [
    {
     "data": {
      "image/svg+xml": [
       "<?xml version=\"1.0\" encoding=\"UTF-8\" standalone=\"no\"?>\n",
       "<!DOCTYPE svg PUBLIC \"-//W3C//DTD SVG 1.1//EN\"\n",
       " \"http://www.w3.org/Graphics/SVG/1.1/DTD/svg11.dtd\">\n",
       "<!-- Generated by graphviz version 2.50.0 (20211204.2007)\n",
       " -->\n",
       "<!-- Title: subquiver Pages: 1 -->\n",
       "<svg width=\"93pt\" height=\"30pt\"\n",
       " viewBox=\"0.00 0.00 93.43 29.61\" xmlns=\"http://www.w3.org/2000/svg\" xmlns:xlink=\"http://www.w3.org/1999/xlink\">\n",
       "<g id=\"graph0\" class=\"graph\" transform=\"scale(1 1) rotate(0) translate(4 25.61)\">\n",
       "<title>subquiver</title>\n",
       "<polygon fill=\"white\" stroke=\"transparent\" points=\"-4,4 -4,-25.61 89.43,-25.61 89.43,4 -4,4\"/>\n",
       "<!-- 0 -->\n",
       "<g id=\"node1\" class=\"node\">\n",
       "<title>0</title>\n",
       "<ellipse fill=\"none\" stroke=\"black\" cx=\"10.61\" cy=\"-10.61\" rx=\"10.71\" ry=\"10.71\"/>\n",
       "<text text-anchor=\"middle\" x=\"10.61\" y=\"-7.51\" font-family=\"DejaVu Serif,serif\" font-size=\"12.00\">0</text>\n",
       "</g>\n",
       "<!-- 1 -->\n",
       "<g id=\"node2\" class=\"node\">\n",
       "<title>1</title>\n",
       "<ellipse fill=\"none\" stroke=\"#c1cdcd\" cx=\"74.82\" cy=\"-10.61\" rx=\"10.71\" ry=\"10.71\"/>\n",
       "<text text-anchor=\"middle\" x=\"74.82\" y=\"-7.51\" font-family=\"DejaVu Serif,serif\" font-size=\"12.00\" fill=\"#c1cdcd\">1</text>\n",
       "</g>\n",
       "<!-- 0&#45;&gt;1 -->\n",
       "<g id=\"edge1\" class=\"edge\">\n",
       "<title>0&#45;&gt;1</title>\n",
       "<path fill=\"none\" stroke=\"#c1cdcd\" d=\"M21.33,-10.61C31.4,-10.61 47.28,-10.61 58.94,-10.61\"/>\n",
       "<polygon fill=\"#c1cdcd\" stroke=\"#c1cdcd\" points=\"58.96,-12.36 63.96,-10.61 58.96,-8.86 58.96,-12.36\"/>\n",
       "<text text-anchor=\"middle\" x=\"42.71\" y=\"-13.61\" font-family=\"DejaVu Serif,serif\" font-size=\"10.00\" fill=\"#c1cdcd\">0</text>\n",
       "</g>\n",
       "</g>\n",
       "</svg>\n"
      ],
      "text/plain": [
       "GAP: <A monomorphism in FinQuivers>"
      ]
     },
     "execution_count": 16,
     "metadata": {},
     "output_type": "execute_result"
    }
   ],
   "source": [
    "s = FinQuivers.s"
   ]
  },
  {
   "cell_type": "code",
   "execution_count": 17,
   "id": "4f16a1cc",
   "metadata": {},
   "outputs": [
    {
     "name": "stdout",
     "output_type": "stream",
     "text": [
      "Image of <(V)>:\n",
      "{ 0 } ⱶ[ 0 ]→ { 0, 1 }\n",
      "\n",
      "Image of <(A)>:\n",
      "∅ ⱶ[ ]→ { 0 }\n",
      "\n",
      "A morphism in FinQuivers given by the above data\n"
     ]
    }
   ],
   "source": [
    "Display( s )"
   ]
  },
  {
   "cell_type": "markdown",
   "id": "9d0f3fa6",
   "metadata": {},
   "source": [
    "The image of the abstract action $t \\in C$ under $Y$ is the action $t \\in \\mathbf{FinQuivers}$, again called \"*target*\":"
   ]
  },
  {
   "cell_type": "code",
   "execution_count": 18,
   "id": "8e6f62e2",
   "metadata": {},
   "outputs": [
    {
     "data": {
      "image/svg+xml": [
       "<?xml version=\"1.0\" encoding=\"UTF-8\" standalone=\"no\"?>\n",
       "<!DOCTYPE svg PUBLIC \"-//W3C//DTD SVG 1.1//EN\"\n",
       " \"http://www.w3.org/Graphics/SVG/1.1/DTD/svg11.dtd\">\n",
       "<!-- Generated by graphviz version 2.50.0 (20211204.2007)\n",
       " -->\n",
       "<!-- Title: subquiver Pages: 1 -->\n",
       "<svg width=\"93pt\" height=\"30pt\"\n",
       " viewBox=\"0.00 0.00 93.43 29.61\" xmlns=\"http://www.w3.org/2000/svg\" xmlns:xlink=\"http://www.w3.org/1999/xlink\">\n",
       "<g id=\"graph0\" class=\"graph\" transform=\"scale(1 1) rotate(0) translate(4 25.61)\">\n",
       "<title>subquiver</title>\n",
       "<polygon fill=\"white\" stroke=\"transparent\" points=\"-4,4 -4,-25.61 89.43,-25.61 89.43,4 -4,4\"/>\n",
       "<!-- 0 -->\n",
       "<g id=\"node1\" class=\"node\">\n",
       "<title>0</title>\n",
       "<ellipse fill=\"none\" stroke=\"#c1cdcd\" cx=\"10.61\" cy=\"-10.61\" rx=\"10.71\" ry=\"10.71\"/>\n",
       "<text text-anchor=\"middle\" x=\"10.61\" y=\"-7.51\" font-family=\"DejaVu Serif,serif\" font-size=\"12.00\" fill=\"#c1cdcd\">0</text>\n",
       "</g>\n",
       "<!-- 1 -->\n",
       "<g id=\"node2\" class=\"node\">\n",
       "<title>1</title>\n",
       "<ellipse fill=\"none\" stroke=\"black\" cx=\"74.82\" cy=\"-10.61\" rx=\"10.71\" ry=\"10.71\"/>\n",
       "<text text-anchor=\"middle\" x=\"74.82\" y=\"-7.51\" font-family=\"DejaVu Serif,serif\" font-size=\"12.00\">1</text>\n",
       "</g>\n",
       "<!-- 0&#45;&gt;1 -->\n",
       "<g id=\"edge1\" class=\"edge\">\n",
       "<title>0&#45;&gt;1</title>\n",
       "<path fill=\"none\" stroke=\"#c1cdcd\" d=\"M21.33,-10.61C31.4,-10.61 47.28,-10.61 58.94,-10.61\"/>\n",
       "<polygon fill=\"#c1cdcd\" stroke=\"#c1cdcd\" points=\"58.96,-12.36 63.96,-10.61 58.96,-8.86 58.96,-12.36\"/>\n",
       "<text text-anchor=\"middle\" x=\"42.71\" y=\"-13.61\" font-family=\"DejaVu Serif,serif\" font-size=\"10.00\" fill=\"#c1cdcd\">0</text>\n",
       "</g>\n",
       "</g>\n",
       "</svg>\n"
      ],
      "text/plain": [
       "GAP: <A monomorphism in FinQuivers>"
      ]
     },
     "execution_count": 18,
     "metadata": {},
     "output_type": "execute_result"
    }
   ],
   "source": [
    "t = FinQuivers.t"
   ]
  },
  {
   "cell_type": "code",
   "execution_count": 19,
   "id": "ee488e32",
   "metadata": {},
   "outputs": [
    {
     "name": "stdout",
     "output_type": "stream",
     "text": [
      "Image of <(V)>:\n",
      "{ 0 } ⱶ[ 1 ]→ { 0, 1 }\n",
      "\n",
      "Image of <(A)>:\n",
      "∅ ⱶ[ ]→ { 0 }\n",
      "\n",
      "A morphism in FinQuivers given by the above data\n"
     ]
    }
   ],
   "source": [
    "Display( t )"
   ]
  },
  {
   "cell_type": "markdown",
   "id": "be685114",
   "metadata": {},
   "source": [
    "---\n",
    "The generic figures $V$ and $A$ were prior to the compilation modeled as *presheaves* $\\mathbf{C}^\\mathrm{op} \\to \\mathbf{SkeletalFinSets}$ with the following internal data:"
   ]
  },
  {
   "cell_type": "code",
   "execution_count": 20,
   "id": "9ce8c9b7",
   "metadata": {},
   "outputs": [
    {
     "name": "stdout",
     "output_type": "stream",
     "text": [
      "Image of <(V)>:\n",
      "{ 0 }\n",
      "\n",
      "Image of <(A)>:\n",
      "∅\n",
      "\n",
      "Image of (V)-[(s)]->(A):\n",
      "∅ ⱶ[ ]→ { 0 }\n",
      "\n",
      "Image of (V)-[(t)]->(A):\n",
      "∅ ⱶ[ ]→ { 0 }\n",
      "\n",
      "An object in PreSheaves( FreeCategory( RightQuiver( \"q(V,A)[s:V->A,t:V->A]\" ) ), SkeletalFinSets ) given by the above data\n",
      "\n",
      "An object in FiniteCocompletion( FreeCategory( RightQuiver( \"q(V,A)[s:V->A,t:V->A]\" ) ) ) given by the above data\n"
     ]
    }
   ],
   "source": [
    "Display( ModelingObject( FinQuivers, V ) )"
   ]
  },
  {
   "cell_type": "code",
   "execution_count": 21,
   "id": "2cfc9615",
   "metadata": {},
   "outputs": [
    {
     "name": "stdout",
     "output_type": "stream",
     "text": [
      "Image of <(V)>:\n",
      "{ 0, 1 }\n",
      "\n",
      "Image of <(A)>:\n",
      "{ 0 }\n",
      "\n",
      "Image of (V)-[(s)]->(A):\n",
      "{ 0 } ⱶ[ 0 ]→ { 0, 1 }\n",
      "\n",
      "Image of (V)-[(t)]->(A):\n",
      "{ 0 } ⱶ[ 1 ]→ { 0, 1 }\n",
      "\n",
      "An object in PreSheaves( FreeCategory( RightQuiver( \"q(V,A)[s:V->A,t:V->A]\" ) ), SkeletalFinSets ) given by the above data\n",
      "\n",
      "An object in FiniteCocompletion( FreeCategory( RightQuiver( \"q(V,A)[s:V->A,t:V->A]\" ) ) ) given by the above data\n"
     ]
    }
   ],
   "source": [
    "Display( ModelingObject( FinQuivers, A ) )"
   ]
  },
  {
   "cell_type": "markdown",
   "id": "962c3e58",
   "metadata": {},
   "source": [
    "---\n",
    "The actions $s$ and $t$ were were prior to the compilation modeled as *natural transformation* between the presheaves $V$ and $A$ with the following internal data:"
   ]
  },
  {
   "cell_type": "code",
   "execution_count": 22,
   "id": "8e9b2e46",
   "metadata": {},
   "outputs": [
    {
     "name": "stdout",
     "output_type": "stream",
     "text": [
      "Image of <(V)>:\n",
      "{ 0 } ⱶ[ 0 ]→ { 0, 1 }\n",
      "\n",
      "Image of <(A)>:\n",
      "∅ ⱶ[ ]→ { 0 }\n",
      "\n",
      "A morphism in PreSheaves( FreeCategory( RightQuiver( \"q(V,A)[s:V->A,t:V->A]\" ) ), SkeletalFinSets ) given by the above data\n",
      "\n",
      "A morphism in FiniteCocompletion( FreeCategory( RightQuiver( \"q(V,A)[s:V->A,t:V->A]\" ) ) ) given by the above data\n"
     ]
    }
   ],
   "source": [
    "Display( ModelingMorphism( FinQuivers, s ) )"
   ]
  },
  {
   "cell_type": "code",
   "execution_count": 23,
   "id": "2f950845",
   "metadata": {},
   "outputs": [
    {
     "name": "stdout",
     "output_type": "stream",
     "text": [
      "Image of <(V)>:\n",
      "{ 0 } ⱶ[ 1 ]→ { 0, 1 }\n",
      "\n",
      "Image of <(A)>:\n",
      "∅ ⱶ[ ]→ { 0 }\n",
      "\n",
      "A morphism in PreSheaves( FreeCategory( RightQuiver( \"q(V,A)[s:V->A,t:V->A]\" ) ), SkeletalFinSets ) given by the above data\n",
      "\n",
      "A morphism in FiniteCocompletion( FreeCategory( RightQuiver( \"q(V,A)[s:V->A,t:V->A]\" ) ) ) given by the above data\n"
     ]
    }
   ],
   "source": [
    "Display( ModelingMorphism( FinQuivers, t ) )"
   ]
  },
  {
   "cell_type": "markdown",
   "id": "c6f4b605",
   "metadata": {},
   "source": [
    "---\n",
    "As mentioned above, the topos $\\mathbf{FinQuivers}$ is the finite (colimit) cocompletion of $\\mathbf{C}$. Hence, all objects in $\\mathbf{FinQuivers}$ are colimits of diagrams in $\\mathbf{FinQuivers}$ only involving (copies of) the generic figures and the actions. One says, all objects in $\\mathbf{FinQuivers}$ can be constructed out of copies of generic figures glued togehter using the actions:"
   ]
  },
  {
   "cell_type": "markdown",
   "id": "244743c4",
   "metadata": {},
   "source": [
    "One can recover the loop by gluing the ends of the arrow $A$ to the same vertex $V$:"
   ]
  },
  {
   "cell_type": "code",
   "execution_count": 24,
   "id": "b3775d8d",
   "metadata": {},
   "outputs": [
    {
     "data": {
      "image/svg+xml": [
       "<?xml version=\"1.0\" encoding=\"UTF-8\" standalone=\"no\"?>\n",
       "<!DOCTYPE svg PUBLIC \"-//W3C//DTD SVG 1.1//EN\"\n",
       " \"http://www.w3.org/Graphics/SVG/1.1/DTD/svg11.dtd\">\n",
       "<!-- Generated by graphviz version 2.50.0 (20211204.2007)\n",
       " -->\n",
       "<!-- Title: quiver Pages: 1 -->\n",
       "<svg width=\"29pt\" height=\"58pt\"\n",
       " viewBox=\"0.00 0.00 29.21 58.21\" xmlns=\"http://www.w3.org/2000/svg\" xmlns:xlink=\"http://www.w3.org/1999/xlink\">\n",
       "<g id=\"graph0\" class=\"graph\" transform=\"scale(1 1) rotate(0) translate(4 54.21)\">\n",
       "<title>quiver</title>\n",
       "<polygon fill=\"white\" stroke=\"transparent\" points=\"-4,4 -4,-54.21 25.21,-54.21 25.21,4 -4,4\"/>\n",
       "<!-- 0 -->\n",
       "<g id=\"node1\" class=\"node\">\n",
       "<title>0</title>\n",
       "<ellipse fill=\"none\" stroke=\"black\" cx=\"10.61\" cy=\"-10.61\" rx=\"10.71\" ry=\"10.71\"/>\n",
       "<text text-anchor=\"middle\" x=\"10.61\" y=\"-7.51\" font-family=\"DejaVu Serif,serif\" font-size=\"12.00\">0</text>\n",
       "</g>\n",
       "<!-- 0&#45;&gt;0 -->\n",
       "<g id=\"edge1\" class=\"edge\">\n",
       "<title>0&#45;&gt;0</title>\n",
       "<path fill=\"none\" stroke=\"black\" d=\"M7.48,-20.87C6.05,-29.78 7.09,-39.21 10.61,-39.21 13.46,-39.21 14.69,-32.99 14.28,-25.87\"/>\n",
       "<polygon fill=\"black\" stroke=\"black\" points=\"16.02,-25.65 13.74,-20.87 12.54,-26.03 16.02,-25.65\"/>\n",
       "<text text-anchor=\"middle\" x=\"10.61\" y=\"-42.21\" font-family=\"DejaVu Serif,serif\" font-size=\"10.00\">0</text>\n",
       "</g>\n",
       "</g>\n",
       "</svg>\n"
      ],
      "text/plain": [
       "GAP: <An object in FinQuivers>"
      ]
     },
     "execution_count": 24,
     "metadata": {},
     "output_type": "execute_result"
    }
   ],
   "source": [
    "Colimit( [ V,   # the object named 0 is the generic figure V (\"the vertex\")\n",
    "           A ], # the object named 1 is the generic figure A (\"the arrow\")\n",
    "         [ [ 0, s, 1 ], [ 0, t, 1 ] # 0=V is the source and target of 1=A\n",
    "         ] )"
   ]
  },
  {
   "cell_type": "code",
   "execution_count": 25,
   "id": "71e31ba9",
   "metadata": {},
   "outputs": [
    {
     "data": {
      "image/svg+xml": [
       "<?xml version=\"1.0\" encoding=\"UTF-8\" standalone=\"no\"?>\n",
       "<!DOCTYPE svg PUBLIC \"-//W3C//DTD SVG 1.1//EN\"\n",
       " \"http://www.w3.org/Graphics/SVG/1.1/DTD/svg11.dtd\">\n",
       "<!-- Generated by graphviz version 2.50.0 (20211204.2007)\n",
       " -->\n",
       "<!-- Title: quiver Pages: 1 -->\n",
       "<svg width=\"158pt\" height=\"30pt\"\n",
       " viewBox=\"0.00 0.00 157.64 29.61\" xmlns=\"http://www.w3.org/2000/svg\" xmlns:xlink=\"http://www.w3.org/1999/xlink\">\n",
       "<g id=\"graph0\" class=\"graph\" transform=\"scale(1 1) rotate(0) translate(4 25.61)\">\n",
       "<title>quiver</title>\n",
       "<polygon fill=\"white\" stroke=\"transparent\" points=\"-4,4 -4,-25.61 153.64,-25.61 153.64,4 -4,4\"/>\n",
       "<!-- 0 -->\n",
       "<g id=\"node1\" class=\"node\">\n",
       "<title>0</title>\n",
       "<ellipse fill=\"none\" stroke=\"black\" cx=\"10.61\" cy=\"-10.61\" rx=\"10.71\" ry=\"10.71\"/>\n",
       "<text text-anchor=\"middle\" x=\"10.61\" y=\"-7.51\" font-family=\"DejaVu Serif,serif\" font-size=\"12.00\">0</text>\n",
       "</g>\n",
       "<!-- 1 -->\n",
       "<g id=\"node2\" class=\"node\">\n",
       "<title>1</title>\n",
       "<ellipse fill=\"none\" stroke=\"black\" cx=\"74.82\" cy=\"-10.61\" rx=\"10.71\" ry=\"10.71\"/>\n",
       "<text text-anchor=\"middle\" x=\"74.82\" y=\"-7.51\" font-family=\"DejaVu Serif,serif\" font-size=\"12.00\">1</text>\n",
       "</g>\n",
       "<!-- 0&#45;&gt;1 -->\n",
       "<g id=\"edge1\" class=\"edge\">\n",
       "<title>0&#45;&gt;1</title>\n",
       "<path fill=\"none\" stroke=\"black\" d=\"M21.33,-10.61C31.4,-10.61 47.28,-10.61 58.94,-10.61\"/>\n",
       "<polygon fill=\"black\" stroke=\"black\" points=\"58.96,-12.36 63.96,-10.61 58.96,-8.86 58.96,-12.36\"/>\n",
       "<text text-anchor=\"middle\" x=\"42.71\" y=\"-13.61\" font-family=\"DejaVu Serif,serif\" font-size=\"10.00\">0</text>\n",
       "</g>\n",
       "<!-- 2 -->\n",
       "<g id=\"node3\" class=\"node\">\n",
       "<title>2</title>\n",
       "<ellipse fill=\"none\" stroke=\"black\" cx=\"139.03\" cy=\"-10.61\" rx=\"10.71\" ry=\"10.71\"/>\n",
       "<text text-anchor=\"middle\" x=\"139.03\" y=\"-7.51\" font-family=\"DejaVu Serif,serif\" font-size=\"12.00\">2</text>\n",
       "</g>\n",
       "<!-- 1&#45;&gt;2 -->\n",
       "<g id=\"edge2\" class=\"edge\">\n",
       "<title>1&#45;&gt;2</title>\n",
       "<path fill=\"none\" stroke=\"black\" d=\"M85.54,-10.61C95.62,-10.61 111.5,-10.61 123.15,-10.61\"/>\n",
       "<polygon fill=\"black\" stroke=\"black\" points=\"123.18,-12.36 128.18,-10.61 123.18,-8.86 123.18,-12.36\"/>\n",
       "<text text-anchor=\"middle\" x=\"106.93\" y=\"-13.61\" font-family=\"DejaVu Serif,serif\" font-size=\"10.00\">1</text>\n",
       "</g>\n",
       "</g>\n",
       "</svg>\n"
      ],
      "text/plain": [
       "GAP: <An object in FinQuivers>"
      ]
     },
     "execution_count": 25,
     "metadata": {},
     "output_type": "execute_result"
    }
   ],
   "source": [
    "Colimit( [ V, V, V, # the objects named 0,1,2 are copies of the generic figure V\n",
    "           A, A ],  # the objects named 3,4 are copies the generic figure A\n",
    "         [ [ 0, s, 3 ], [ 1, t, 3 ], # 0=V is the source of 3=A and 1=V is the target of 3=A\n",
    "           [ 1, s, 4 ], [ 2, t, 4 ]  # 1=V is the source of 4=A and 2=V is the target of 4=A\n",
    "         ] )"
   ]
  },
  {
   "cell_type": "markdown",
   "id": "fc4caccc",
   "metadata": {},
   "source": [
    "One can recover the above figure using less gluings of less generic figures:"
   ]
  },
  {
   "cell_type": "code",
   "execution_count": 26,
   "id": "981194a9",
   "metadata": {},
   "outputs": [
    {
     "data": {
      "image/svg+xml": [
       "<?xml version=\"1.0\" encoding=\"UTF-8\" standalone=\"no\"?>\n",
       "<!DOCTYPE svg PUBLIC \"-//W3C//DTD SVG 1.1//EN\"\n",
       " \"http://www.w3.org/Graphics/SVG/1.1/DTD/svg11.dtd\">\n",
       "<!-- Generated by graphviz version 2.50.0 (20211204.2007)\n",
       " -->\n",
       "<!-- Title: quiver Pages: 1 -->\n",
       "<svg width=\"158pt\" height=\"30pt\"\n",
       " viewBox=\"0.00 0.00 157.64 29.61\" xmlns=\"http://www.w3.org/2000/svg\" xmlns:xlink=\"http://www.w3.org/1999/xlink\">\n",
       "<g id=\"graph0\" class=\"graph\" transform=\"scale(1 1) rotate(0) translate(4 25.61)\">\n",
       "<title>quiver</title>\n",
       "<polygon fill=\"white\" stroke=\"transparent\" points=\"-4,4 -4,-25.61 153.64,-25.61 153.64,4 -4,4\"/>\n",
       "<!-- 0 -->\n",
       "<g id=\"node1\" class=\"node\">\n",
       "<title>0</title>\n",
       "<ellipse fill=\"none\" stroke=\"black\" cx=\"10.61\" cy=\"-10.61\" rx=\"10.71\" ry=\"10.71\"/>\n",
       "<text text-anchor=\"middle\" x=\"10.61\" y=\"-7.51\" font-family=\"DejaVu Serif,serif\" font-size=\"12.00\">0</text>\n",
       "</g>\n",
       "<!-- 1 -->\n",
       "<g id=\"node2\" class=\"node\">\n",
       "<title>1</title>\n",
       "<ellipse fill=\"none\" stroke=\"black\" cx=\"74.82\" cy=\"-10.61\" rx=\"10.71\" ry=\"10.71\"/>\n",
       "<text text-anchor=\"middle\" x=\"74.82\" y=\"-7.51\" font-family=\"DejaVu Serif,serif\" font-size=\"12.00\">1</text>\n",
       "</g>\n",
       "<!-- 0&#45;&gt;1 -->\n",
       "<g id=\"edge1\" class=\"edge\">\n",
       "<title>0&#45;&gt;1</title>\n",
       "<path fill=\"none\" stroke=\"black\" d=\"M21.33,-10.61C31.4,-10.61 47.28,-10.61 58.94,-10.61\"/>\n",
       "<polygon fill=\"black\" stroke=\"black\" points=\"58.96,-12.36 63.96,-10.61 58.96,-8.86 58.96,-12.36\"/>\n",
       "<text text-anchor=\"middle\" x=\"42.71\" y=\"-13.61\" font-family=\"DejaVu Serif,serif\" font-size=\"10.00\">0</text>\n",
       "</g>\n",
       "<!-- 2 -->\n",
       "<g id=\"node3\" class=\"node\">\n",
       "<title>2</title>\n",
       "<ellipse fill=\"none\" stroke=\"black\" cx=\"139.03\" cy=\"-10.61\" rx=\"10.71\" ry=\"10.71\"/>\n",
       "<text text-anchor=\"middle\" x=\"139.03\" y=\"-7.51\" font-family=\"DejaVu Serif,serif\" font-size=\"12.00\">2</text>\n",
       "</g>\n",
       "<!-- 1&#45;&gt;2 -->\n",
       "<g id=\"edge2\" class=\"edge\">\n",
       "<title>1&#45;&gt;2</title>\n",
       "<path fill=\"none\" stroke=\"black\" d=\"M85.54,-10.61C95.62,-10.61 111.5,-10.61 123.15,-10.61\"/>\n",
       "<polygon fill=\"black\" stroke=\"black\" points=\"123.18,-12.36 128.18,-10.61 123.18,-8.86 123.18,-12.36\"/>\n",
       "<text text-anchor=\"middle\" x=\"106.93\" y=\"-13.61\" font-family=\"DejaVu Serif,serif\" font-size=\"10.00\">1</text>\n",
       "</g>\n",
       "</g>\n",
       "</svg>\n"
      ],
      "text/plain": [
       "GAP: <An object in FinQuivers>"
      ]
     },
     "execution_count": 26,
     "metadata": {},
     "output_type": "execute_result"
    }
   ],
   "source": [
    "Colimit( [ A, V, A ],\n",
    "         [ [ 1, t, 0 ], # 1=V is the target of 0=A\n",
    "           [ 1, s, 2 ]  # 1=V is the source of 2=A\n",
    "         ] )"
   ]
  },
  {
   "cell_type": "markdown",
   "id": "105a78dc",
   "metadata": {},
   "source": [
    "More figures through gluings:"
   ]
  },
  {
   "cell_type": "code",
   "execution_count": 27,
   "id": "c30dc766",
   "metadata": {},
   "outputs": [
    {
     "data": {
      "image/svg+xml": [
       "<?xml version=\"1.0\" encoding=\"UTF-8\" standalone=\"no\"?>\n",
       "<!DOCTYPE svg PUBLIC \"-//W3C//DTD SVG 1.1//EN\"\n",
       " \"http://www.w3.org/Graphics/SVG/1.1/DTD/svg11.dtd\">\n",
       "<!-- Generated by graphviz version 2.50.0 (20211204.2007)\n",
       " -->\n",
       "<!-- Title: quiver Pages: 1 -->\n",
       "<svg width=\"93pt\" height=\"68pt\"\n",
       " viewBox=\"0.00 0.00 93.43 68.21\" xmlns=\"http://www.w3.org/2000/svg\" xmlns:xlink=\"http://www.w3.org/1999/xlink\">\n",
       "<g id=\"graph0\" class=\"graph\" transform=\"scale(1 1) rotate(0) translate(4 64.21)\">\n",
       "<title>quiver</title>\n",
       "<polygon fill=\"white\" stroke=\"transparent\" points=\"-4,4 -4,-64.21 89.43,-64.21 89.43,4 -4,4\"/>\n",
       "<!-- 0 -->\n",
       "<g id=\"node1\" class=\"node\">\n",
       "<title>0</title>\n",
       "<ellipse fill=\"none\" stroke=\"black\" cx=\"10.61\" cy=\"-29.61\" rx=\"10.71\" ry=\"10.71\"/>\n",
       "<text text-anchor=\"middle\" x=\"10.61\" y=\"-26.51\" font-family=\"DejaVu Serif,serif\" font-size=\"12.00\">0</text>\n",
       "</g>\n",
       "<!-- 1 -->\n",
       "<g id=\"node2\" class=\"node\">\n",
       "<title>1</title>\n",
       "<ellipse fill=\"none\" stroke=\"black\" cx=\"74.82\" cy=\"-49.61\" rx=\"10.71\" ry=\"10.71\"/>\n",
       "<text text-anchor=\"middle\" x=\"74.82\" y=\"-46.51\" font-family=\"DejaVu Serif,serif\" font-size=\"12.00\">1</text>\n",
       "</g>\n",
       "<!-- 0&#45;&gt;1 -->\n",
       "<g id=\"edge1\" class=\"edge\">\n",
       "<title>0&#45;&gt;1</title>\n",
       "<path fill=\"none\" stroke=\"black\" d=\"M21.06,-32.64C31.2,-35.9 47.43,-41.12 59.22,-44.91\"/>\n",
       "<polygon fill=\"black\" stroke=\"black\" points=\"58.99,-46.68 64.28,-46.54 60.06,-43.34 58.99,-46.68\"/>\n",
       "<text text-anchor=\"middle\" x=\"42.71\" y=\"-42.61\" font-family=\"DejaVu Serif,serif\" font-size=\"10.00\">0</text>\n",
       "</g>\n",
       "<!-- 2 -->\n",
       "<g id=\"node3\" class=\"node\">\n",
       "<title>2</title>\n",
       "<ellipse fill=\"none\" stroke=\"black\" cx=\"74.82\" cy=\"-10.61\" rx=\"10.71\" ry=\"10.71\"/>\n",
       "<text text-anchor=\"middle\" x=\"74.82\" y=\"-7.51\" font-family=\"DejaVu Serif,serif\" font-size=\"12.00\">2</text>\n",
       "</g>\n",
       "<!-- 0&#45;&gt;2 -->\n",
       "<g id=\"edge2\" class=\"edge\">\n",
       "<title>0&#45;&gt;2</title>\n",
       "<path fill=\"none\" stroke=\"black\" d=\"M20.56,-24.64C25.85,-21.9 32.75,-18.65 39.21,-16.61 45.66,-14.57 53.02,-13.17 59.29,-12.24\"/>\n",
       "<polygon fill=\"black\" stroke=\"black\" points=\"59.54,-13.97 64.26,-11.57 59.07,-10.51 59.54,-13.97\"/>\n",
       "<text text-anchor=\"middle\" x=\"42.71\" y=\"-19.61\" font-family=\"DejaVu Serif,serif\" font-size=\"10.00\">1</text>\n",
       "</g>\n",
       "</g>\n",
       "</svg>\n"
      ],
      "text/plain": [
       "GAP: <An object in FinQuivers>"
      ]
     },
     "execution_count": 27,
     "metadata": {},
     "output_type": "execute_result"
    }
   ],
   "source": [
    "Colimit( [ V, A, A ],\n",
    "         [ [ 0, s, 1 ], [ 0, s, 2 ] ] )"
   ]
  },
  {
   "cell_type": "code",
   "execution_count": 28,
   "id": "a18f32cb",
   "metadata": {},
   "outputs": [
    {
     "data": {
      "image/svg+xml": [
       "<?xml version=\"1.0\" encoding=\"UTF-8\" standalone=\"no\"?>\n",
       "<!DOCTYPE svg PUBLIC \"-//W3C//DTD SVG 1.1//EN\"\n",
       " \"http://www.w3.org/Graphics/SVG/1.1/DTD/svg11.dtd\">\n",
       "<!-- Generated by graphviz version 2.50.0 (20211204.2007)\n",
       " -->\n",
       "<!-- Title: quiver Pages: 1 -->\n",
       "<svg width=\"93pt\" height=\"68pt\"\n",
       " viewBox=\"0.00 0.00 93.43 68.21\" xmlns=\"http://www.w3.org/2000/svg\" xmlns:xlink=\"http://www.w3.org/1999/xlink\">\n",
       "<g id=\"graph0\" class=\"graph\" transform=\"scale(1 1) rotate(0) translate(4 64.21)\">\n",
       "<title>quiver</title>\n",
       "<polygon fill=\"white\" stroke=\"transparent\" points=\"-4,4 -4,-64.21 89.43,-64.21 89.43,4 -4,4\"/>\n",
       "<!-- 0 -->\n",
       "<g id=\"node1\" class=\"node\">\n",
       "<title>0</title>\n",
       "<ellipse fill=\"none\" stroke=\"black\" cx=\"74.82\" cy=\"-29.61\" rx=\"10.71\" ry=\"10.71\"/>\n",
       "<text text-anchor=\"middle\" x=\"74.82\" y=\"-26.51\" font-family=\"DejaVu Serif,serif\" font-size=\"12.00\">0</text>\n",
       "</g>\n",
       "<!-- 1 -->\n",
       "<g id=\"node2\" class=\"node\">\n",
       "<title>1</title>\n",
       "<ellipse fill=\"none\" stroke=\"black\" cx=\"10.61\" cy=\"-49.61\" rx=\"10.71\" ry=\"10.71\"/>\n",
       "<text text-anchor=\"middle\" x=\"10.61\" y=\"-46.51\" font-family=\"DejaVu Serif,serif\" font-size=\"12.00\">1</text>\n",
       "</g>\n",
       "<!-- 1&#45;&gt;0 -->\n",
       "<g id=\"edge1\" class=\"edge\">\n",
       "<title>1&#45;&gt;0</title>\n",
       "<path fill=\"none\" stroke=\"black\" d=\"M21.06,-46.57C31.2,-43.31 47.43,-38.09 59.22,-34.3\"/>\n",
       "<polygon fill=\"black\" stroke=\"black\" points=\"60.06,-35.87 64.28,-32.67 58.99,-32.54 60.06,-35.87\"/>\n",
       "<text text-anchor=\"middle\" x=\"42.71\" y=\"-42.61\" font-family=\"DejaVu Serif,serif\" font-size=\"10.00\">0</text>\n",
       "</g>\n",
       "<!-- 2 -->\n",
       "<g id=\"node3\" class=\"node\">\n",
       "<title>2</title>\n",
       "<ellipse fill=\"none\" stroke=\"black\" cx=\"10.61\" cy=\"-10.61\" rx=\"10.71\" ry=\"10.71\"/>\n",
       "<text text-anchor=\"middle\" x=\"10.61\" y=\"-7.51\" font-family=\"DejaVu Serif,serif\" font-size=\"12.00\">2</text>\n",
       "</g>\n",
       "<!-- 2&#45;&gt;0 -->\n",
       "<g id=\"edge2\" class=\"edge\">\n",
       "<title>2&#45;&gt;0</title>\n",
       "<path fill=\"none\" stroke=\"black\" d=\"M21.17,-11.57C28.21,-12.44 37.96,-14 46.21,-16.61 50.96,-18.11 55.95,-20.26 60.35,-22.38\"/>\n",
       "<polygon fill=\"black\" stroke=\"black\" points=\"59.61,-23.97 64.87,-24.64 61.18,-20.84 59.61,-23.97\"/>\n",
       "<text text-anchor=\"middle\" x=\"42.71\" y=\"-19.61\" font-family=\"DejaVu Serif,serif\" font-size=\"10.00\">1</text>\n",
       "</g>\n",
       "</g>\n",
       "</svg>\n"
      ],
      "text/plain": [
       "GAP: <An object in FinQuivers>"
      ]
     },
     "execution_count": 28,
     "metadata": {},
     "output_type": "execute_result"
    }
   ],
   "source": [
    "Colimit( [ V, A, A ],\n",
    "         [ [ 0, t, 1 ], [ 0, t, 2 ] ] )"
   ]
  },
  {
   "cell_type": "markdown",
   "id": "19faa962",
   "metadata": {},
   "source": [
    "Now we construct a quiver $G$ using the standard object constructor of the category $\\mathbf{FinQuivers}$:"
   ]
  },
  {
   "cell_type": "code",
   "execution_count": 29,
   "id": "a6267c9d",
   "metadata": {},
   "outputs": [
    {
     "data": {
      "image/svg+xml": [
       "<?xml version=\"1.0\" encoding=\"UTF-8\" standalone=\"no\"?>\n",
       "<!DOCTYPE svg PUBLIC \"-//W3C//DTD SVG 1.1//EN\"\n",
       " \"http://www.w3.org/Graphics/SVG/1.1/DTD/svg11.dtd\">\n",
       "<!-- Generated by graphviz version 2.50.0 (20211204.2007)\n",
       " -->\n",
       "<!-- Title: quiver Pages: 1 -->\n",
       "<svg width=\"222pt\" height=\"131pt\"\n",
       " viewBox=\"0.00 0.00 221.85 131.21\" xmlns=\"http://www.w3.org/2000/svg\" xmlns:xlink=\"http://www.w3.org/1999/xlink\">\n",
       "<g id=\"graph0\" class=\"graph\" transform=\"scale(1 1) rotate(0) translate(4 127.21)\">\n",
       "<title>quiver</title>\n",
       "<polygon fill=\"white\" stroke=\"transparent\" points=\"-4,4 -4,-127.21 217.85,-127.21 217.85,4 -4,4\"/>\n",
       "<!-- 0 -->\n",
       "<g id=\"node1\" class=\"node\">\n",
       "<title>0</title>\n",
       "<ellipse fill=\"none\" stroke=\"black\" cx=\"10.61\" cy=\"-15.61\" rx=\"10.71\" ry=\"10.71\"/>\n",
       "<text text-anchor=\"middle\" x=\"10.61\" y=\"-12.51\" font-family=\"DejaVu Serif,serif\" font-size=\"12.00\">0</text>\n",
       "</g>\n",
       "<!-- 1 -->\n",
       "<g id=\"node2\" class=\"node\">\n",
       "<title>1</title>\n",
       "<ellipse fill=\"none\" stroke=\"black\" cx=\"74.82\" cy=\"-33.61\" rx=\"10.71\" ry=\"10.71\"/>\n",
       "<text text-anchor=\"middle\" x=\"74.82\" y=\"-30.51\" font-family=\"DejaVu Serif,serif\" font-size=\"12.00\">1</text>\n",
       "</g>\n",
       "<!-- 0&#45;&gt;1 -->\n",
       "<g id=\"edge1\" class=\"edge\">\n",
       "<title>0&#45;&gt;1</title>\n",
       "<path fill=\"none\" stroke=\"black\" d=\"M21.06,-18.34C31.2,-21.27 47.43,-25.97 59.22,-29.38\"/>\n",
       "<polygon fill=\"black\" stroke=\"black\" points=\"58.99,-31.14 64.28,-30.85 59.97,-27.78 58.99,-31.14\"/>\n",
       "<text text-anchor=\"middle\" x=\"42.71\" y=\"-28.61\" font-family=\"DejaVu Serif,serif\" font-size=\"10.00\">0</text>\n",
       "</g>\n",
       "<!-- 2 -->\n",
       "<g id=\"node3\" class=\"node\">\n",
       "<title>2</title>\n",
       "<ellipse fill=\"none\" stroke=\"black\" cx=\"139.03\" cy=\"-40.61\" rx=\"10.71\" ry=\"10.71\"/>\n",
       "<text text-anchor=\"middle\" x=\"139.03\" y=\"-37.51\" font-family=\"DejaVu Serif,serif\" font-size=\"12.00\">2</text>\n",
       "</g>\n",
       "<!-- 1&#45;&gt;2 -->\n",
       "<g id=\"edge2\" class=\"edge\">\n",
       "<title>1&#45;&gt;2</title>\n",
       "<path fill=\"none\" stroke=\"black\" d=\"M85.54,-34.7C95.62,-35.83 111.5,-37.62 123.15,-38.93\"/>\n",
       "<polygon fill=\"black\" stroke=\"black\" points=\"123.01,-40.68 128.18,-39.5 123.4,-37.2 123.01,-40.68\"/>\n",
       "<text text-anchor=\"middle\" x=\"106.93\" y=\"-40.61\" font-family=\"DejaVu Serif,serif\" font-size=\"10.00\">1</text>\n",
       "</g>\n",
       "<!-- 3 -->\n",
       "<g id=\"node4\" class=\"node\">\n",
       "<title>3</title>\n",
       "<ellipse fill=\"none\" stroke=\"black\" cx=\"203.25\" cy=\"-10.61\" rx=\"10.71\" ry=\"10.71\"/>\n",
       "<text text-anchor=\"middle\" x=\"203.25\" y=\"-7.51\" font-family=\"DejaVu Serif,serif\" font-size=\"12.00\">3</text>\n",
       "</g>\n",
       "<!-- 2&#45;&gt;3 -->\n",
       "<g id=\"edge3\" class=\"edge\">\n",
       "<title>2&#45;&gt;3</title>\n",
       "<path fill=\"none\" stroke=\"black\" d=\"M148.95,-36.31C159.3,-31.32 176.48,-23.03 188.53,-17.22\"/>\n",
       "<polygon fill=\"black\" stroke=\"black\" points=\"189.61,-18.65 193.35,-14.9 188.09,-15.49 189.61,-18.65\"/>\n",
       "<text text-anchor=\"middle\" x=\"171.14\" y=\"-29.61\" font-family=\"DejaVu Serif,serif\" font-size=\"10.00\">2</text>\n",
       "</g>\n",
       "<!-- 7 -->\n",
       "<g id=\"node8\" class=\"node\">\n",
       "<title>7</title>\n",
       "<ellipse fill=\"none\" stroke=\"black\" cx=\"203.25\" cy=\"-63.61\" rx=\"10.71\" ry=\"10.71\"/>\n",
       "<text text-anchor=\"middle\" x=\"203.25\" y=\"-60.51\" font-family=\"DejaVu Serif,serif\" font-size=\"12.00\">7</text>\n",
       "</g>\n",
       "<!-- 2&#45;&gt;7 -->\n",
       "<g id=\"edge7\" class=\"edge\">\n",
       "<title>2&#45;&gt;7</title>\n",
       "<path fill=\"none\" stroke=\"black\" d=\"M149.21,-44C159.5,-47.81 176.31,-54.02 188.25,-58.43\"/>\n",
       "<polygon fill=\"black\" stroke=\"black\" points=\"187.73,-60.11 193.03,-60.2 188.95,-56.82 187.73,-60.11\"/>\n",
       "<text text-anchor=\"middle\" x=\"171.14\" y=\"-56.61\" font-family=\"DejaVu Serif,serif\" font-size=\"10.00\">6</text>\n",
       "</g>\n",
       "<!-- 2&#45;&gt;7 -->\n",
       "<g id=\"edge9\" class=\"edge\">\n",
       "<title>2&#45;&gt;7</title>\n",
       "<path fill=\"none\" stroke=\"black\" d=\"M146.2,-49.17C151.19,-55.32 158.83,-63.11 167.64,-66.61 173.95,-69.11 181.39,-68.83 187.76,-67.74\"/>\n",
       "<polygon fill=\"black\" stroke=\"black\" points=\"188.28,-69.42 192.81,-66.67 187.55,-65.99 188.28,-69.42\"/>\n",
       "<text text-anchor=\"middle\" x=\"171.14\" y=\"-71.61\" font-family=\"DejaVu Serif,serif\" font-size=\"10.00\">8</text>\n",
       "</g>\n",
       "<!-- 3&#45;&gt;0 -->\n",
       "<g id=\"edge4\" class=\"edge\">\n",
       "<title>3&#45;&gt;0</title>\n",
       "<path fill=\"none\" stroke=\"black\" d=\"M192.54,-10.76C170,-11.14 112.37,-12.17 64.21,-13.61 51.45,-13.99 36.96,-14.55 26.42,-14.98\"/>\n",
       "<polygon fill=\"black\" stroke=\"black\" points=\"26.22,-13.24 21.3,-15.19 26.37,-16.73 26.22,-13.24\"/>\n",
       "<text text-anchor=\"middle\" x=\"106.93\" y=\"-15.61\" font-family=\"DejaVu Serif,serif\" font-size=\"10.00\">3</text>\n",
       "</g>\n",
       "<!-- 4 -->\n",
       "<g id=\"node5\" class=\"node\">\n",
       "<title>4</title>\n",
       "<ellipse fill=\"none\" stroke=\"black\" cx=\"10.61\" cy=\"-68.61\" rx=\"10.71\" ry=\"10.71\"/>\n",
       "<text text-anchor=\"middle\" x=\"10.61\" y=\"-65.51\" font-family=\"DejaVu Serif,serif\" font-size=\"12.00\">4</text>\n",
       "</g>\n",
       "<!-- 5 -->\n",
       "<g id=\"node6\" class=\"node\">\n",
       "<title>5</title>\n",
       "<ellipse fill=\"none\" stroke=\"black\" cx=\"74.82\" cy=\"-83.61\" rx=\"10.71\" ry=\"10.71\"/>\n",
       "<text text-anchor=\"middle\" x=\"74.82\" y=\"-80.51\" font-family=\"DejaVu Serif,serif\" font-size=\"12.00\">5</text>\n",
       "</g>\n",
       "<!-- 4&#45;&gt;5 -->\n",
       "<g id=\"edge5\" class=\"edge\">\n",
       "<title>4&#45;&gt;5</title>\n",
       "<path fill=\"none\" stroke=\"black\" d=\"M21.06,-70.88C31.2,-73.33 47.43,-77.24 59.22,-80.09\"/>\n",
       "<polygon fill=\"black\" stroke=\"black\" points=\"59.01,-81.84 64.28,-81.31 59.83,-78.43 59.01,-81.84\"/>\n",
       "<text text-anchor=\"middle\" x=\"42.71\" y=\"-78.61\" font-family=\"DejaVu Serif,serif\" font-size=\"10.00\">4</text>\n",
       "</g>\n",
       "<!-- 5&#45;&gt;4 -->\n",
       "<g id=\"edge8\" class=\"edge\">\n",
       "<title>5&#45;&gt;4</title>\n",
       "<path fill=\"none\" stroke=\"black\" d=\"M67.01,-75.55C61.91,-70.18 54.43,-63.58 46.21,-60.61 39.37,-58.13 31.49,-59.63 24.98,-61.98\"/>\n",
       "<polygon fill=\"black\" stroke=\"black\" points=\"24.28,-60.37 20.31,-63.88 25.6,-63.61 24.28,-60.37\"/>\n",
       "<text text-anchor=\"middle\" x=\"42.71\" y=\"-63.61\" font-family=\"DejaVu Serif,serif\" font-size=\"10.00\">7</text>\n",
       "</g>\n",
       "<!-- 5&#45;&gt;5 -->\n",
       "<g id=\"edge6\" class=\"edge\">\n",
       "<title>5&#45;&gt;5</title>\n",
       "<path fill=\"none\" stroke=\"black\" d=\"M69.97,-93.28C67.45,-102.36 69.07,-112.21 74.82,-112.21 79.49,-112.21 81.44,-105.71 80.65,-98.4\"/>\n",
       "<polygon fill=\"black\" stroke=\"black\" points=\"82.33,-97.86 79.67,-93.28 78.89,-98.52 82.33,-97.86\"/>\n",
       "<text text-anchor=\"middle\" x=\"74.82\" y=\"-115.21\" font-family=\"DejaVu Serif,serif\" font-size=\"10.00\">5</text>\n",
       "</g>\n",
       "<!-- 6 -->\n",
       "<g id=\"node7\" class=\"node\">\n",
       "<title>6</title>\n",
       "<ellipse fill=\"none\" stroke=\"black\" cx=\"10.61\" cy=\"-107.61\" rx=\"10.71\" ry=\"10.71\"/>\n",
       "<text text-anchor=\"middle\" x=\"10.61\" y=\"-104.51\" font-family=\"DejaVu Serif,serif\" font-size=\"12.00\">6</text>\n",
       "</g>\n",
       "</g>\n",
       "</svg>\n"
      ],
      "text/plain": [
       "GAP: <An object in FinQuivers>"
      ]
     },
     "execution_count": 29,
     "metadata": {},
     "output_type": "execute_result"
    }
   ],
   "source": [
    "G = CreateQuiver( 8, [ 0,1,  1,2,  2,3,  3,0,  4,5,  5,5,  2,7,  5,4,  2,7 ] )"
   ]
  },
  {
   "cell_type": "markdown",
   "id": "527f263b",
   "metadata": {},
   "source": [
    "One can (re)construct any figure (here $G \\in \\mathbf{FinQuivers}$) by gluing together copies of the generic figures (here $V,A$) using the actions (here $s,t$).\n",
    "\n",
    "The objects $0,\\ldots,7$ are $8$ copies of the generic figure $V$ and the objects $8,\\ldots,16$ are $9$ copies of the generic figure $A$:"
   ]
  },
  {
   "cell_type": "code",
   "execution_count": 30,
   "id": "9ca777e7",
   "metadata": {},
   "outputs": [
    {
     "data": {
      "image/svg+xml": [
       "<?xml version=\"1.0\" encoding=\"UTF-8\" standalone=\"no\"?>\n",
       "<!DOCTYPE svg PUBLIC \"-//W3C//DTD SVG 1.1//EN\"\n",
       " \"http://www.w3.org/Graphics/SVG/1.1/DTD/svg11.dtd\">\n",
       "<!-- Generated by graphviz version 2.50.0 (20211204.2007)\n",
       " -->\n",
       "<!-- Title: quiver Pages: 1 -->\n",
       "<svg width=\"222pt\" height=\"131pt\"\n",
       " viewBox=\"0.00 0.00 221.85 131.21\" xmlns=\"http://www.w3.org/2000/svg\" xmlns:xlink=\"http://www.w3.org/1999/xlink\">\n",
       "<g id=\"graph0\" class=\"graph\" transform=\"scale(1 1) rotate(0) translate(4 127.21)\">\n",
       "<title>quiver</title>\n",
       "<polygon fill=\"white\" stroke=\"transparent\" points=\"-4,4 -4,-127.21 217.85,-127.21 217.85,4 -4,4\"/>\n",
       "<!-- 0 -->\n",
       "<g id=\"node1\" class=\"node\">\n",
       "<title>0</title>\n",
       "<ellipse fill=\"none\" stroke=\"black\" cx=\"10.61\" cy=\"-15.61\" rx=\"10.71\" ry=\"10.71\"/>\n",
       "<text text-anchor=\"middle\" x=\"10.61\" y=\"-12.51\" font-family=\"DejaVu Serif,serif\" font-size=\"12.00\">0</text>\n",
       "</g>\n",
       "<!-- 1 -->\n",
       "<g id=\"node2\" class=\"node\">\n",
       "<title>1</title>\n",
       "<ellipse fill=\"none\" stroke=\"black\" cx=\"74.82\" cy=\"-33.61\" rx=\"10.71\" ry=\"10.71\"/>\n",
       "<text text-anchor=\"middle\" x=\"74.82\" y=\"-30.51\" font-family=\"DejaVu Serif,serif\" font-size=\"12.00\">1</text>\n",
       "</g>\n",
       "<!-- 0&#45;&gt;1 -->\n",
       "<g id=\"edge1\" class=\"edge\">\n",
       "<title>0&#45;&gt;1</title>\n",
       "<path fill=\"none\" stroke=\"black\" d=\"M21.06,-18.34C31.2,-21.27 47.43,-25.97 59.22,-29.38\"/>\n",
       "<polygon fill=\"black\" stroke=\"black\" points=\"58.99,-31.14 64.28,-30.85 59.97,-27.78 58.99,-31.14\"/>\n",
       "<text text-anchor=\"middle\" x=\"42.71\" y=\"-28.61\" font-family=\"DejaVu Serif,serif\" font-size=\"10.00\">0</text>\n",
       "</g>\n",
       "<!-- 2 -->\n",
       "<g id=\"node3\" class=\"node\">\n",
       "<title>2</title>\n",
       "<ellipse fill=\"none\" stroke=\"black\" cx=\"139.03\" cy=\"-40.61\" rx=\"10.71\" ry=\"10.71\"/>\n",
       "<text text-anchor=\"middle\" x=\"139.03\" y=\"-37.51\" font-family=\"DejaVu Serif,serif\" font-size=\"12.00\">2</text>\n",
       "</g>\n",
       "<!-- 1&#45;&gt;2 -->\n",
       "<g id=\"edge2\" class=\"edge\">\n",
       "<title>1&#45;&gt;2</title>\n",
       "<path fill=\"none\" stroke=\"black\" d=\"M85.54,-34.7C95.62,-35.83 111.5,-37.62 123.15,-38.93\"/>\n",
       "<polygon fill=\"black\" stroke=\"black\" points=\"123.01,-40.68 128.18,-39.5 123.4,-37.2 123.01,-40.68\"/>\n",
       "<text text-anchor=\"middle\" x=\"106.93\" y=\"-40.61\" font-family=\"DejaVu Serif,serif\" font-size=\"10.00\">1</text>\n",
       "</g>\n",
       "<!-- 3 -->\n",
       "<g id=\"node4\" class=\"node\">\n",
       "<title>3</title>\n",
       "<ellipse fill=\"none\" stroke=\"black\" cx=\"203.25\" cy=\"-10.61\" rx=\"10.71\" ry=\"10.71\"/>\n",
       "<text text-anchor=\"middle\" x=\"203.25\" y=\"-7.51\" font-family=\"DejaVu Serif,serif\" font-size=\"12.00\">3</text>\n",
       "</g>\n",
       "<!-- 2&#45;&gt;3 -->\n",
       "<g id=\"edge3\" class=\"edge\">\n",
       "<title>2&#45;&gt;3</title>\n",
       "<path fill=\"none\" stroke=\"black\" d=\"M148.95,-36.31C159.3,-31.32 176.48,-23.03 188.53,-17.22\"/>\n",
       "<polygon fill=\"black\" stroke=\"black\" points=\"189.61,-18.65 193.35,-14.9 188.09,-15.49 189.61,-18.65\"/>\n",
       "<text text-anchor=\"middle\" x=\"171.14\" y=\"-29.61\" font-family=\"DejaVu Serif,serif\" font-size=\"10.00\">2</text>\n",
       "</g>\n",
       "<!-- 7 -->\n",
       "<g id=\"node8\" class=\"node\">\n",
       "<title>7</title>\n",
       "<ellipse fill=\"none\" stroke=\"black\" cx=\"203.25\" cy=\"-63.61\" rx=\"10.71\" ry=\"10.71\"/>\n",
       "<text text-anchor=\"middle\" x=\"203.25\" y=\"-60.51\" font-family=\"DejaVu Serif,serif\" font-size=\"12.00\">7</text>\n",
       "</g>\n",
       "<!-- 2&#45;&gt;7 -->\n",
       "<g id=\"edge7\" class=\"edge\">\n",
       "<title>2&#45;&gt;7</title>\n",
       "<path fill=\"none\" stroke=\"black\" d=\"M149.21,-44C159.5,-47.81 176.31,-54.02 188.25,-58.43\"/>\n",
       "<polygon fill=\"black\" stroke=\"black\" points=\"187.73,-60.11 193.03,-60.2 188.95,-56.82 187.73,-60.11\"/>\n",
       "<text text-anchor=\"middle\" x=\"171.14\" y=\"-56.61\" font-family=\"DejaVu Serif,serif\" font-size=\"10.00\">6</text>\n",
       "</g>\n",
       "<!-- 2&#45;&gt;7 -->\n",
       "<g id=\"edge9\" class=\"edge\">\n",
       "<title>2&#45;&gt;7</title>\n",
       "<path fill=\"none\" stroke=\"black\" d=\"M146.2,-49.17C151.19,-55.32 158.83,-63.11 167.64,-66.61 173.95,-69.11 181.39,-68.83 187.76,-67.74\"/>\n",
       "<polygon fill=\"black\" stroke=\"black\" points=\"188.28,-69.42 192.81,-66.67 187.55,-65.99 188.28,-69.42\"/>\n",
       "<text text-anchor=\"middle\" x=\"171.14\" y=\"-71.61\" font-family=\"DejaVu Serif,serif\" font-size=\"10.00\">8</text>\n",
       "</g>\n",
       "<!-- 3&#45;&gt;0 -->\n",
       "<g id=\"edge4\" class=\"edge\">\n",
       "<title>3&#45;&gt;0</title>\n",
       "<path fill=\"none\" stroke=\"black\" d=\"M192.54,-10.76C170,-11.14 112.37,-12.17 64.21,-13.61 51.45,-13.99 36.96,-14.55 26.42,-14.98\"/>\n",
       "<polygon fill=\"black\" stroke=\"black\" points=\"26.22,-13.24 21.3,-15.19 26.37,-16.73 26.22,-13.24\"/>\n",
       "<text text-anchor=\"middle\" x=\"106.93\" y=\"-15.61\" font-family=\"DejaVu Serif,serif\" font-size=\"10.00\">3</text>\n",
       "</g>\n",
       "<!-- 4 -->\n",
       "<g id=\"node5\" class=\"node\">\n",
       "<title>4</title>\n",
       "<ellipse fill=\"none\" stroke=\"black\" cx=\"10.61\" cy=\"-68.61\" rx=\"10.71\" ry=\"10.71\"/>\n",
       "<text text-anchor=\"middle\" x=\"10.61\" y=\"-65.51\" font-family=\"DejaVu Serif,serif\" font-size=\"12.00\">4</text>\n",
       "</g>\n",
       "<!-- 5 -->\n",
       "<g id=\"node6\" class=\"node\">\n",
       "<title>5</title>\n",
       "<ellipse fill=\"none\" stroke=\"black\" cx=\"74.82\" cy=\"-83.61\" rx=\"10.71\" ry=\"10.71\"/>\n",
       "<text text-anchor=\"middle\" x=\"74.82\" y=\"-80.51\" font-family=\"DejaVu Serif,serif\" font-size=\"12.00\">5</text>\n",
       "</g>\n",
       "<!-- 4&#45;&gt;5 -->\n",
       "<g id=\"edge5\" class=\"edge\">\n",
       "<title>4&#45;&gt;5</title>\n",
       "<path fill=\"none\" stroke=\"black\" d=\"M21.06,-70.88C31.2,-73.33 47.43,-77.24 59.22,-80.09\"/>\n",
       "<polygon fill=\"black\" stroke=\"black\" points=\"59.01,-81.84 64.28,-81.31 59.83,-78.43 59.01,-81.84\"/>\n",
       "<text text-anchor=\"middle\" x=\"42.71\" y=\"-78.61\" font-family=\"DejaVu Serif,serif\" font-size=\"10.00\">4</text>\n",
       "</g>\n",
       "<!-- 5&#45;&gt;4 -->\n",
       "<g id=\"edge8\" class=\"edge\">\n",
       "<title>5&#45;&gt;4</title>\n",
       "<path fill=\"none\" stroke=\"black\" d=\"M67.01,-75.55C61.91,-70.18 54.43,-63.58 46.21,-60.61 39.37,-58.13 31.49,-59.63 24.98,-61.98\"/>\n",
       "<polygon fill=\"black\" stroke=\"black\" points=\"24.28,-60.37 20.31,-63.88 25.6,-63.61 24.28,-60.37\"/>\n",
       "<text text-anchor=\"middle\" x=\"42.71\" y=\"-63.61\" font-family=\"DejaVu Serif,serif\" font-size=\"10.00\">7</text>\n",
       "</g>\n",
       "<!-- 5&#45;&gt;5 -->\n",
       "<g id=\"edge6\" class=\"edge\">\n",
       "<title>5&#45;&gt;5</title>\n",
       "<path fill=\"none\" stroke=\"black\" d=\"M69.97,-93.28C67.45,-102.36 69.07,-112.21 74.82,-112.21 79.49,-112.21 81.44,-105.71 80.65,-98.4\"/>\n",
       "<polygon fill=\"black\" stroke=\"black\" points=\"82.33,-97.86 79.67,-93.28 78.89,-98.52 82.33,-97.86\"/>\n",
       "<text text-anchor=\"middle\" x=\"74.82\" y=\"-115.21\" font-family=\"DejaVu Serif,serif\" font-size=\"10.00\">5</text>\n",
       "</g>\n",
       "<!-- 6 -->\n",
       "<g id=\"node7\" class=\"node\">\n",
       "<title>6</title>\n",
       "<ellipse fill=\"none\" stroke=\"black\" cx=\"10.61\" cy=\"-107.61\" rx=\"10.71\" ry=\"10.71\"/>\n",
       "<text text-anchor=\"middle\" x=\"10.61\" y=\"-104.51\" font-family=\"DejaVu Serif,serif\" font-size=\"12.00\">6</text>\n",
       "</g>\n",
       "</g>\n",
       "</svg>\n"
      ],
      "text/plain": [
       "GAP: <An object in FinQuivers>"
      ]
     },
     "execution_count": 30,
     "metadata": {},
     "output_type": "execute_result"
    }
   ],
   "source": [
    "H = Colimit( [ V, V, V, V, V, V, V, V,\n",
    "               A, A, A, A, A, A, A, A, A ],\n",
    "             [ [ 0, s, 8 ],  [ 1, t, 8 ],\n",
    "               [ 1, s, 9 ],  [ 2, t, 9 ],\n",
    "               [ 2, s, 10 ], [ 3, t, 10 ],\n",
    "               [ 3, s, 11 ], [ 0, t, 11 ],\n",
    "               [ 4, s, 12 ], [ 5, t, 12 ],\n",
    "               [ 5, s, 13 ], [ 5, t, 13 ],\n",
    "               [ 2, s, 14 ], [ 7, t, 14 ],\n",
    "               [ 5, s, 15 ], [ 4, t, 15 ],\n",
    "               [ 2, s, 16 ], [ 7, t, 16 ],\n",
    "             ] )"
   ]
  },
  {
   "cell_type": "code",
   "execution_count": 31,
   "id": "a5f8c8db",
   "metadata": {},
   "outputs": [
    {
     "data": {
      "text/plain": [
       "true"
      ]
     },
     "execution_count": 31,
     "metadata": {},
     "output_type": "execute_result"
    }
   ],
   "source": [
    "G == H"
   ]
  },
  {
   "cell_type": "code",
   "execution_count": 32,
   "id": "9dba8891",
   "metadata": {},
   "outputs": [
    {
     "name": "stdout",
     "output_type": "stream",
     "text": [
      "( { 0,..., 7 }, { 0 := [ 0, 1 ], 1 := [ 1, 2 ], 2 := [ 2, 3 ], 3 := [ 3, 0 ], 4 := [ 4, 5 ], 5 := [ 5, 5 ], 6 := [ 2, 7 ], 7 := [ 5, 4 ], 8 := [ 2, 7 ] } )\n"
     ]
    }
   ],
   "source": [
    "Display( G )"
   ]
  },
  {
   "cell_type": "markdown",
   "id": "555ba4b9",
   "metadata": {},
   "source": [
    "Here is the data structure of the presheaf $\\mathbf{C}^\\mathrm{op} \\to \\mathbf{SkeletalFinSets}$ underlying $G$:"
   ]
  },
  {
   "cell_type": "code",
   "execution_count": 33,
   "id": "ba72eb81",
   "metadata": {},
   "outputs": [
    {
     "name": "stdout",
     "output_type": "stream",
     "text": [
      "Image of <(V)>:\n",
      "{ 0,..., 7 }\n",
      "\n",
      "Image of <(A)>:\n",
      "{ 0,..., 8 }\n",
      "\n",
      "Image of (V)-[(s)]->(A):\n",
      "{ 0,..., 8 } ⱶ[ 0, 1, 2, 3, 4, 5, 2, 5, 2 ]→ { 0,..., 7 }\n",
      "\n",
      "Image of (V)-[(t)]->(A):\n",
      "{ 0,..., 8 } ⱶ[ 1, 2, 3, 0, 5, 5, 7, 4, 7 ]→ { 0,..., 7 }\n",
      "\n",
      "An object in PreSheaves( FreeCategory( RightQuiver( \"q(V,A)[s:V->A,t:V->A]\" ) ), SkeletalFinSets ) given by the above data\n",
      "\n",
      "An object in FiniteCocompletion( FreeCategory( RightQuiver( \"q(V,A)[s:V->A,t:V->A]\" ) ) ) given by the above data\n"
     ]
    }
   ],
   "source": [
    "Display( ModelingObject( FinQuivers, G ) )"
   ]
  },
  {
   "cell_type": "markdown",
   "id": "cfdf41cc",
   "metadata": {},
   "source": [
    "---\n",
    "The subobject classifier $\\Omega$ is a quiver with two vertices $0,1$ and five arrows $0,\\ldots,4$. Subquivers of a quiver $G$ are in 1-1 correspondence to natural transformations $\\chi: G \\to \\Omega$, called classifying morphisms:\n",
    "\n",
    "##### Table of truth values for the vertex membership in a subquiver:\n",
    "\n",
    "| $\\chi$(vertex) | vertex    |\n",
    "| -------------- | --------- |\n",
    "| $0$            | **false** |\n",
    "| $1$            | **true**  |\n",
    "\n",
    "##### Table of truth values for the arrow membership in a subquiver:\n",
    "\n",
    "| $\\chi$(arrow)  | source | target | arrow     |\n",
    "| -------------- | -----  | ------ | --------- |\n",
    "| $0$            | false  | false  | **false** |\n",
    "| $1$            | true   | false  | **false** |\n",
    "| $2$            | false  | true   | **false** |\n",
    "| $3$            | true   | true   | **false** |\n",
    "| $4$            | true   | true   | **true**  |"
   ]
  },
  {
   "cell_type": "markdown",
   "id": "37bac243",
   "metadata": {},
   "source": [
    "---\n",
    "As we will see below, the law of excluded middle is not valid in $\\mathbf{FinQuivers}$. Consequently, the (external) axiom of choice cannot be valid in $\\mathbf{FinQuivers}$ either:"
   ]
  },
  {
   "cell_type": "code",
   "execution_count": 34,
   "id": "839c84cd",
   "metadata": {},
   "outputs": [
    {
     "data": {
      "text/plain": [
       "GAP: <A morphism in FinQuivers>"
      ]
     },
     "execution_count": 34,
     "metadata": {},
     "output_type": "execute_result"
    }
   ],
   "source": [
    "τ = UniversalMorphismIntoTerminalObject( A )"
   ]
  },
  {
   "cell_type": "code",
   "execution_count": 35,
   "id": "e57e606b",
   "metadata": {},
   "outputs": [
    {
     "data": {
      "text/plain": [
       "true"
      ]
     },
     "execution_count": 35,
     "metadata": {},
     "output_type": "execute_result"
    }
   ],
   "source": [
    "IsEpimorphism( τ )"
   ]
  },
  {
   "cell_type": "code",
   "execution_count": 36,
   "id": "79426f4c",
   "metadata": {},
   "outputs": [
    {
     "data": {
      "text/plain": [
       "false"
      ]
     },
     "execution_count": 36,
     "metadata": {},
     "output_type": "execute_result"
    }
   ],
   "source": [
    "IsSplitEpimorphism( τ )"
   ]
  },
  {
   "cell_type": "code",
   "execution_count": 37,
   "id": "a17b1685",
   "metadata": {},
   "outputs": [
    {
     "data": {
      "image/svg+xml": [
       "<?xml version=\"1.0\" encoding=\"UTF-8\" standalone=\"no\"?>\n",
       "<!DOCTYPE svg PUBLIC \"-//W3C//DTD SVG 1.1//EN\"\n",
       " \"http://www.w3.org/Graphics/SVG/1.1/DTD/svg11.dtd\">\n",
       "<!-- Generated by graphviz version 2.50.0 (20211204.2007)\n",
       " -->\n",
       "<!-- Title: quiver Pages: 1 -->\n",
       "<svg width=\"93pt\" height=\"94pt\"\n",
       " viewBox=\"0.00 0.00 93.43 93.68\" xmlns=\"http://www.w3.org/2000/svg\" xmlns:xlink=\"http://www.w3.org/1999/xlink\">\n",
       "<g id=\"graph0\" class=\"graph\" transform=\"scale(1 1) rotate(0) translate(4 89.68)\">\n",
       "<title>quiver</title>\n",
       "<polygon fill=\"white\" stroke=\"transparent\" points=\"-4,4 -4,-89.68 89.43,-89.68 89.43,4 -4,4\"/>\n",
       "<!-- 0 -->\n",
       "<g id=\"node1\" class=\"node\">\n",
       "<title>0</title>\n",
       "<ellipse fill=\"none\" stroke=\"black\" cx=\"10.61\" cy=\"-17.08\" rx=\"10.71\" ry=\"10.71\"/>\n",
       "<text text-anchor=\"middle\" x=\"10.61\" y=\"-13.98\" font-family=\"DejaVu Serif,serif\" font-size=\"12.00\">0</text>\n",
       "</g>\n",
       "<!-- 0&#45;&gt;0 -->\n",
       "<g id=\"edge1\" class=\"edge\">\n",
       "<title>0&#45;&gt;0</title>\n",
       "<path fill=\"none\" stroke=\"black\" d=\"M5.76,-26.75C3.24,-35.83 4.86,-45.68 10.61,-45.68 15.28,-45.68 17.22,-39.18 16.44,-31.87\"/>\n",
       "<polygon fill=\"black\" stroke=\"black\" points=\"18.12,-31.33 15.46,-26.75 14.68,-31.99 18.12,-31.33\"/>\n",
       "<text text-anchor=\"middle\" x=\"10.61\" y=\"-48.68\" font-family=\"DejaVu Serif,serif\" font-size=\"10.00\">0</text>\n",
       "</g>\n",
       "<!-- 1 -->\n",
       "<g id=\"node2\" class=\"node\">\n",
       "<title>1</title>\n",
       "<ellipse fill=\"none\" stroke=\"black\" cx=\"74.82\" cy=\"-17.08\" rx=\"10.71\" ry=\"10.71\"/>\n",
       "<text text-anchor=\"middle\" x=\"74.82\" y=\"-13.98\" font-family=\"DejaVu Serif,serif\" font-size=\"12.00\">1</text>\n",
       "</g>\n",
       "<!-- 0&#45;&gt;1 -->\n",
       "<g id=\"edge3\" class=\"edge\">\n",
       "<title>0&#45;&gt;1</title>\n",
       "<path fill=\"none\" stroke=\"black\" d=\"M21.33,-17.08C31.4,-17.08 47.28,-17.08 58.94,-17.08\"/>\n",
       "<polygon fill=\"black\" stroke=\"black\" points=\"58.96,-18.83 63.96,-17.08 58.96,-15.33 58.96,-18.83\"/>\n",
       "<text text-anchor=\"middle\" x=\"42.71\" y=\"-20.08\" font-family=\"DejaVu Serif,serif\" font-size=\"10.00\">2</text>\n",
       "</g>\n",
       "<!-- 1&#45;&gt;0 -->\n",
       "<g id=\"edge2\" class=\"edge\">\n",
       "<title>1&#45;&gt;0</title>\n",
       "<path fill=\"none\" stroke=\"black\" d=\"M65.63,-10.79C60.39,-7.17 53.27,-2.97 46.21,-1.08 38.21,1.08 29.77,-2.7 23.22,-7.12\"/>\n",
       "<polygon fill=\"black\" stroke=\"black\" points=\"22.01,-5.84 19.02,-10.22 24.08,-8.66 22.01,-5.84\"/>\n",
       "<text text-anchor=\"middle\" x=\"42.71\" y=\"-4.08\" font-family=\"DejaVu Serif,serif\" font-size=\"10.00\">1</text>\n",
       "</g>\n",
       "<!-- 1&#45;&gt;1 -->\n",
       "<g id=\"edge4\" class=\"edge\">\n",
       "<title>1&#45;&gt;1</title>\n",
       "<path fill=\"none\" stroke=\"black\" d=\"M72.28,-27.64C71.19,-36.46 72.04,-45.68 74.82,-45.68 77.04,-45.68 78.02,-39.83 77.78,-32.98\"/>\n",
       "<polygon fill=\"black\" stroke=\"black\" points=\"79.5,-32.48 77.36,-27.64 76.01,-32.76 79.5,-32.48\"/>\n",
       "<text text-anchor=\"middle\" x=\"74.82\" y=\"-48.68\" font-family=\"DejaVu Serif,serif\" font-size=\"10.00\">3</text>\n",
       "</g>\n",
       "<!-- 1&#45;&gt;1 -->\n",
       "<g id=\"edge5\" class=\"edge\">\n",
       "<title>1&#45;&gt;1</title>\n",
       "<path fill=\"none\" stroke=\"black\" d=\"M71.16,-27.15C67.1,-43.17 68.32,-63.68 74.82,-63.68 80.66,-63.68 82.24,-47.12 79.55,-32.14\"/>\n",
       "<polygon fill=\"black\" stroke=\"black\" points=\"81.24,-31.67 78.48,-27.15 77.82,-32.4 81.24,-31.67\"/>\n",
       "<text text-anchor=\"middle\" x=\"74.82\" y=\"-66.68\" font-family=\"DejaVu Serif,serif\" font-size=\"10.00\">4</text>\n",
       "</g>\n",
       "</g>\n",
       "</svg>\n"
      ],
      "text/plain": [
       "GAP: <An object in FinQuivers>"
      ]
     },
     "execution_count": 37,
     "metadata": {},
     "output_type": "execute_result"
    }
   ],
   "source": [
    "Ω = SubobjectClassifier( FinQuivers )"
   ]
  },
  {
   "cell_type": "markdown",
   "id": "0452b02e",
   "metadata": {},
   "source": [
    "There are oviously $39 = 2^0+2^1+2^2+2^5$ subobjects of $\\Omega$, which we now compute:"
   ]
  },
  {
   "cell_type": "code",
   "execution_count": 38,
   "id": "2e89a89e",
   "metadata": {},
   "outputs": [],
   "source": [
    "subobjects = ListOfSubobjects( Ω );"
   ]
  },
  {
   "cell_type": "markdown",
   "id": "95df4ec7",
   "metadata": {},
   "source": [
    "The bi-Heyting algebra of subobjects of $\\Omega$:"
   ]
  },
  {
   "cell_type": "code",
   "execution_count": 39,
   "id": "4e0f64c0",
   "metadata": {
    "scrolled": false
   },
   "outputs": [],
   "source": [
    "#Visualize( DotVertexLabelledDigraph( DigraphOfSubobjects( Ω ) ) )"
   ]
  },
  {
   "cell_type": "markdown",
   "id": "66d57d8a",
   "metadata": {},
   "source": [
    "<img src=\"svg/SubobjectClassifierOfToposOfFinQuivers.svg\" alt=\"drawing\" width=\"500\"/>"
   ]
  },
  {
   "cell_type": "code",
   "execution_count": 40,
   "id": "db071748",
   "metadata": {},
   "outputs": [
    {
     "data": {
      "image/svg+xml": [
       "<?xml version=\"1.0\" encoding=\"UTF-8\" standalone=\"no\"?>\n",
       "<!DOCTYPE svg PUBLIC \"-//W3C//DTD SVG 1.1//EN\"\n",
       " \"http://www.w3.org/Graphics/SVG/1.1/DTD/svg11.dtd\">\n",
       "<!-- Generated by graphviz version 2.50.0 (20211204.2007)\n",
       " -->\n",
       "<!-- Title: subquiver Pages: 1 -->\n",
       "<svg width=\"93pt\" height=\"94pt\"\n",
       " viewBox=\"0.00 0.00 93.43 93.68\" xmlns=\"http://www.w3.org/2000/svg\" xmlns:xlink=\"http://www.w3.org/1999/xlink\">\n",
       "<g id=\"graph0\" class=\"graph\" transform=\"scale(1 1) rotate(0) translate(4 89.68)\">\n",
       "<title>subquiver</title>\n",
       "<polygon fill=\"white\" stroke=\"transparent\" points=\"-4,4 -4,-89.68 89.43,-89.68 89.43,4 -4,4\"/>\n",
       "<!-- 0 -->\n",
       "<g id=\"node1\" class=\"node\">\n",
       "<title>0</title>\n",
       "<ellipse fill=\"none\" stroke=\"#c1cdcd\" cx=\"10.61\" cy=\"-17.08\" rx=\"10.71\" ry=\"10.71\"/>\n",
       "<text text-anchor=\"middle\" x=\"10.61\" y=\"-13.98\" font-family=\"DejaVu Serif,serif\" font-size=\"12.00\" fill=\"#c1cdcd\">0</text>\n",
       "</g>\n",
       "<!-- 0&#45;&gt;0 -->\n",
       "<g id=\"edge1\" class=\"edge\">\n",
       "<title>0&#45;&gt;0</title>\n",
       "<path fill=\"none\" stroke=\"#c1cdcd\" d=\"M5.76,-26.75C3.24,-35.83 4.86,-45.68 10.61,-45.68 15.28,-45.68 17.22,-39.18 16.44,-31.87\"/>\n",
       "<polygon fill=\"#c1cdcd\" stroke=\"#c1cdcd\" points=\"18.12,-31.33 15.46,-26.75 14.68,-31.99 18.12,-31.33\"/>\n",
       "<text text-anchor=\"middle\" x=\"10.61\" y=\"-48.68\" font-family=\"DejaVu Serif,serif\" font-size=\"10.00\" fill=\"#c1cdcd\">0</text>\n",
       "</g>\n",
       "<!-- 1 -->\n",
       "<g id=\"node2\" class=\"node\">\n",
       "<title>1</title>\n",
       "<ellipse fill=\"none\" stroke=\"black\" cx=\"74.82\" cy=\"-17.08\" rx=\"10.71\" ry=\"10.71\"/>\n",
       "<text text-anchor=\"middle\" x=\"74.82\" y=\"-13.98\" font-family=\"DejaVu Serif,serif\" font-size=\"12.00\">1</text>\n",
       "</g>\n",
       "<!-- 0&#45;&gt;1 -->\n",
       "<g id=\"edge3\" class=\"edge\">\n",
       "<title>0&#45;&gt;1</title>\n",
       "<path fill=\"none\" stroke=\"#c1cdcd\" d=\"M21.33,-17.08C31.4,-17.08 47.28,-17.08 58.94,-17.08\"/>\n",
       "<polygon fill=\"#c1cdcd\" stroke=\"#c1cdcd\" points=\"58.96,-18.83 63.96,-17.08 58.96,-15.33 58.96,-18.83\"/>\n",
       "<text text-anchor=\"middle\" x=\"42.71\" y=\"-20.08\" font-family=\"DejaVu Serif,serif\" font-size=\"10.00\" fill=\"#c1cdcd\">2</text>\n",
       "</g>\n",
       "<!-- 1&#45;&gt;0 -->\n",
       "<g id=\"edge2\" class=\"edge\">\n",
       "<title>1&#45;&gt;0</title>\n",
       "<path fill=\"none\" stroke=\"#c1cdcd\" d=\"M65.63,-10.79C60.39,-7.17 53.27,-2.97 46.21,-1.08 38.21,1.08 29.77,-2.7 23.22,-7.12\"/>\n",
       "<polygon fill=\"#c1cdcd\" stroke=\"#c1cdcd\" points=\"22.01,-5.84 19.02,-10.22 24.08,-8.66 22.01,-5.84\"/>\n",
       "<text text-anchor=\"middle\" x=\"42.71\" y=\"-4.08\" font-family=\"DejaVu Serif,serif\" font-size=\"10.00\" fill=\"#c1cdcd\">1</text>\n",
       "</g>\n",
       "<!-- 1&#45;&gt;1 -->\n",
       "<g id=\"edge4\" class=\"edge\">\n",
       "<title>1&#45;&gt;1</title>\n",
       "<path fill=\"none\" stroke=\"black\" d=\"M72.28,-27.64C71.19,-36.46 72.04,-45.68 74.82,-45.68 77.04,-45.68 78.02,-39.83 77.78,-32.98\"/>\n",
       "<polygon fill=\"black\" stroke=\"black\" points=\"79.5,-32.48 77.36,-27.64 76.01,-32.76 79.5,-32.48\"/>\n",
       "<text text-anchor=\"middle\" x=\"74.82\" y=\"-48.68\" font-family=\"DejaVu Serif,serif\" font-size=\"10.00\">3</text>\n",
       "</g>\n",
       "<!-- 1&#45;&gt;1 -->\n",
       "<g id=\"edge5\" class=\"edge\">\n",
       "<title>1&#45;&gt;1</title>\n",
       "<path fill=\"none\" stroke=\"black\" d=\"M71.16,-27.15C67.1,-43.17 68.32,-63.68 74.82,-63.68 80.66,-63.68 82.24,-47.12 79.55,-32.14\"/>\n",
       "<polygon fill=\"black\" stroke=\"black\" points=\"81.24,-31.67 78.48,-27.15 77.82,-32.4 81.24,-31.67\"/>\n",
       "<text text-anchor=\"middle\" x=\"74.82\" y=\"-66.68\" font-family=\"DejaVu Serif,serif\" font-size=\"10.00\">4</text>\n",
       "</g>\n",
       "</g>\n",
       "</svg>\n"
      ],
      "text/plain": [
       "GAP: <A monomorphism in FinQuivers>"
      ]
     },
     "execution_count": 40,
     "metadata": {},
     "output_type": "execute_result"
    }
   ],
   "source": [
    "¬ = TruthMorphismOfNot( FinQuivers ); SubobjectOfClassifyingMorphism( PreCompose( ¬, ¬ ) )"
   ]
  },
  {
   "cell_type": "code",
   "execution_count": 41,
   "id": "7cc5a196",
   "metadata": {},
   "outputs": [
    {
     "data": {
      "text/plain": [
       "4"
      ]
     },
     "execution_count": 41,
     "metadata": {},
     "output_type": "execute_result"
    }
   ],
   "source": [
    "LT = LawvereTierneySubobjects( FinQuivers ); Length( LT )"
   ]
  },
  {
   "cell_type": "code",
   "execution_count": 42,
   "id": "91719b49",
   "metadata": {},
   "outputs": [
    {
     "data": {
      "image/svg+xml": [
       "<?xml version=\"1.0\" encoding=\"UTF-8\" standalone=\"no\"?>\n",
       "<!DOCTYPE svg PUBLIC \"-//W3C//DTD SVG 1.1//EN\"\n",
       " \"http://www.w3.org/Graphics/SVG/1.1/DTD/svg11.dtd\">\n",
       "<!-- Generated by graphviz version 2.50.0 (20211204.2007)\n",
       " -->\n",
       "<!-- Title: subquiver Pages: 1 -->\n",
       "<svg width=\"93pt\" height=\"94pt\"\n",
       " viewBox=\"0.00 0.00 93.43 93.68\" xmlns=\"http://www.w3.org/2000/svg\" xmlns:xlink=\"http://www.w3.org/1999/xlink\">\n",
       "<g id=\"graph0\" class=\"graph\" transform=\"scale(1 1) rotate(0) translate(4 89.68)\">\n",
       "<title>subquiver</title>\n",
       "<polygon fill=\"white\" stroke=\"transparent\" points=\"-4,4 -4,-89.68 89.43,-89.68 89.43,4 -4,4\"/>\n",
       "<!-- 0 -->\n",
       "<g id=\"node1\" class=\"node\">\n",
       "<title>0</title>\n",
       "<ellipse fill=\"none\" stroke=\"#c1cdcd\" cx=\"10.61\" cy=\"-17.08\" rx=\"10.71\" ry=\"10.71\"/>\n",
       "<text text-anchor=\"middle\" x=\"10.61\" y=\"-13.98\" font-family=\"DejaVu Serif,serif\" font-size=\"12.00\" fill=\"#c1cdcd\">0</text>\n",
       "</g>\n",
       "<!-- 0&#45;&gt;0 -->\n",
       "<g id=\"edge1\" class=\"edge\">\n",
       "<title>0&#45;&gt;0</title>\n",
       "<path fill=\"none\" stroke=\"#c1cdcd\" d=\"M5.76,-26.75C3.24,-35.83 4.86,-45.68 10.61,-45.68 15.28,-45.68 17.22,-39.18 16.44,-31.87\"/>\n",
       "<polygon fill=\"#c1cdcd\" stroke=\"#c1cdcd\" points=\"18.12,-31.33 15.46,-26.75 14.68,-31.99 18.12,-31.33\"/>\n",
       "<text text-anchor=\"middle\" x=\"10.61\" y=\"-48.68\" font-family=\"DejaVu Serif,serif\" font-size=\"10.00\" fill=\"#c1cdcd\">0</text>\n",
       "</g>\n",
       "<!-- 1 -->\n",
       "<g id=\"node2\" class=\"node\">\n",
       "<title>1</title>\n",
       "<ellipse fill=\"none\" stroke=\"black\" cx=\"74.82\" cy=\"-17.08\" rx=\"10.71\" ry=\"10.71\"/>\n",
       "<text text-anchor=\"middle\" x=\"74.82\" y=\"-13.98\" font-family=\"DejaVu Serif,serif\" font-size=\"12.00\">1</text>\n",
       "</g>\n",
       "<!-- 0&#45;&gt;1 -->\n",
       "<g id=\"edge3\" class=\"edge\">\n",
       "<title>0&#45;&gt;1</title>\n",
       "<path fill=\"none\" stroke=\"#c1cdcd\" d=\"M21.33,-17.08C31.4,-17.08 47.28,-17.08 58.94,-17.08\"/>\n",
       "<polygon fill=\"#c1cdcd\" stroke=\"#c1cdcd\" points=\"58.96,-18.83 63.96,-17.08 58.96,-15.33 58.96,-18.83\"/>\n",
       "<text text-anchor=\"middle\" x=\"42.71\" y=\"-20.08\" font-family=\"DejaVu Serif,serif\" font-size=\"10.00\" fill=\"#c1cdcd\">2</text>\n",
       "</g>\n",
       "<!-- 1&#45;&gt;0 -->\n",
       "<g id=\"edge2\" class=\"edge\">\n",
       "<title>1&#45;&gt;0</title>\n",
       "<path fill=\"none\" stroke=\"#c1cdcd\" d=\"M65.63,-10.79C60.39,-7.17 53.27,-2.97 46.21,-1.08 38.21,1.08 29.77,-2.7 23.22,-7.12\"/>\n",
       "<polygon fill=\"#c1cdcd\" stroke=\"#c1cdcd\" points=\"22.01,-5.84 19.02,-10.22 24.08,-8.66 22.01,-5.84\"/>\n",
       "<text text-anchor=\"middle\" x=\"42.71\" y=\"-4.08\" font-family=\"DejaVu Serif,serif\" font-size=\"10.00\" fill=\"#c1cdcd\">1</text>\n",
       "</g>\n",
       "<!-- 1&#45;&gt;1 -->\n",
       "<g id=\"edge4\" class=\"edge\">\n",
       "<title>1&#45;&gt;1</title>\n",
       "<path fill=\"none\" stroke=\"#c1cdcd\" d=\"M72.28,-27.64C71.19,-36.46 72.04,-45.68 74.82,-45.68 77.04,-45.68 78.02,-39.83 77.78,-32.98\"/>\n",
       "<polygon fill=\"#c1cdcd\" stroke=\"#c1cdcd\" points=\"79.5,-32.48 77.36,-27.64 76.01,-32.76 79.5,-32.48\"/>\n",
       "<text text-anchor=\"middle\" x=\"74.82\" y=\"-48.68\" font-family=\"DejaVu Serif,serif\" font-size=\"10.00\" fill=\"#c1cdcd\">3</text>\n",
       "</g>\n",
       "<!-- 1&#45;&gt;1 -->\n",
       "<g id=\"edge5\" class=\"edge\">\n",
       "<title>1&#45;&gt;1</title>\n",
       "<path fill=\"none\" stroke=\"black\" d=\"M71.16,-27.15C67.1,-43.17 68.32,-63.68 74.82,-63.68 80.66,-63.68 82.24,-47.12 79.55,-32.14\"/>\n",
       "<polygon fill=\"black\" stroke=\"black\" points=\"81.24,-31.67 78.48,-27.15 77.82,-32.4 81.24,-31.67\"/>\n",
       "<text text-anchor=\"middle\" x=\"74.82\" y=\"-66.68\" font-family=\"DejaVu Serif,serif\" font-size=\"10.00\">4</text>\n",
       "</g>\n",
       "</g>\n",
       "</svg>\n"
      ],
      "text/plain": [
       "GAP: <A monomorphism in FinQuivers>"
      ]
     },
     "execution_count": 42,
     "metadata": {},
     "output_type": "execute_result"
    }
   ],
   "source": [
    "LT[1]"
   ]
  },
  {
   "cell_type": "code",
   "execution_count": 43,
   "id": "e51bf15e",
   "metadata": {},
   "outputs": [
    {
     "data": {
      "image/svg+xml": [
       "<?xml version=\"1.0\" encoding=\"UTF-8\" standalone=\"no\"?>\n",
       "<!DOCTYPE svg PUBLIC \"-//W3C//DTD SVG 1.1//EN\"\n",
       " \"http://www.w3.org/Graphics/SVG/1.1/DTD/svg11.dtd\">\n",
       "<!-- Generated by graphviz version 2.50.0 (20211204.2007)\n",
       " -->\n",
       "<!-- Title: subquiver Pages: 1 -->\n",
       "<svg width=\"93pt\" height=\"94pt\"\n",
       " viewBox=\"0.00 0.00 93.43 93.68\" xmlns=\"http://www.w3.org/2000/svg\" xmlns:xlink=\"http://www.w3.org/1999/xlink\">\n",
       "<g id=\"graph0\" class=\"graph\" transform=\"scale(1 1) rotate(0) translate(4 89.68)\">\n",
       "<title>subquiver</title>\n",
       "<polygon fill=\"white\" stroke=\"transparent\" points=\"-4,4 -4,-89.68 89.43,-89.68 89.43,4 -4,4\"/>\n",
       "<!-- 0 -->\n",
       "<g id=\"node1\" class=\"node\">\n",
       "<title>0</title>\n",
       "<ellipse fill=\"none\" stroke=\"black\" cx=\"10.61\" cy=\"-17.08\" rx=\"10.71\" ry=\"10.71\"/>\n",
       "<text text-anchor=\"middle\" x=\"10.61\" y=\"-13.98\" font-family=\"DejaVu Serif,serif\" font-size=\"12.00\">0</text>\n",
       "</g>\n",
       "<!-- 0&#45;&gt;0 -->\n",
       "<g id=\"edge1\" class=\"edge\">\n",
       "<title>0&#45;&gt;0</title>\n",
       "<path fill=\"none\" stroke=\"#c1cdcd\" d=\"M5.76,-26.75C3.24,-35.83 4.86,-45.68 10.61,-45.68 15.28,-45.68 17.22,-39.18 16.44,-31.87\"/>\n",
       "<polygon fill=\"#c1cdcd\" stroke=\"#c1cdcd\" points=\"18.12,-31.33 15.46,-26.75 14.68,-31.99 18.12,-31.33\"/>\n",
       "<text text-anchor=\"middle\" x=\"10.61\" y=\"-48.68\" font-family=\"DejaVu Serif,serif\" font-size=\"10.00\" fill=\"#c1cdcd\">0</text>\n",
       "</g>\n",
       "<!-- 1 -->\n",
       "<g id=\"node2\" class=\"node\">\n",
       "<title>1</title>\n",
       "<ellipse fill=\"none\" stroke=\"black\" cx=\"74.82\" cy=\"-17.08\" rx=\"10.71\" ry=\"10.71\"/>\n",
       "<text text-anchor=\"middle\" x=\"74.82\" y=\"-13.98\" font-family=\"DejaVu Serif,serif\" font-size=\"12.00\">1</text>\n",
       "</g>\n",
       "<!-- 0&#45;&gt;1 -->\n",
       "<g id=\"edge3\" class=\"edge\">\n",
       "<title>0&#45;&gt;1</title>\n",
       "<path fill=\"none\" stroke=\"#c1cdcd\" d=\"M21.33,-17.08C31.4,-17.08 47.28,-17.08 58.94,-17.08\"/>\n",
       "<polygon fill=\"#c1cdcd\" stroke=\"#c1cdcd\" points=\"58.96,-18.83 63.96,-17.08 58.96,-15.33 58.96,-18.83\"/>\n",
       "<text text-anchor=\"middle\" x=\"42.71\" y=\"-20.08\" font-family=\"DejaVu Serif,serif\" font-size=\"10.00\" fill=\"#c1cdcd\">2</text>\n",
       "</g>\n",
       "<!-- 1&#45;&gt;0 -->\n",
       "<g id=\"edge2\" class=\"edge\">\n",
       "<title>1&#45;&gt;0</title>\n",
       "<path fill=\"none\" stroke=\"#c1cdcd\" d=\"M65.63,-10.79C60.39,-7.17 53.27,-2.97 46.21,-1.08 38.21,1.08 29.77,-2.7 23.22,-7.12\"/>\n",
       "<polygon fill=\"#c1cdcd\" stroke=\"#c1cdcd\" points=\"22.01,-5.84 19.02,-10.22 24.08,-8.66 22.01,-5.84\"/>\n",
       "<text text-anchor=\"middle\" x=\"42.71\" y=\"-4.08\" font-family=\"DejaVu Serif,serif\" font-size=\"10.00\" fill=\"#c1cdcd\">1</text>\n",
       "</g>\n",
       "<!-- 1&#45;&gt;1 -->\n",
       "<g id=\"edge4\" class=\"edge\">\n",
       "<title>1&#45;&gt;1</title>\n",
       "<path fill=\"none\" stroke=\"#c1cdcd\" d=\"M72.28,-27.64C71.19,-36.46 72.04,-45.68 74.82,-45.68 77.04,-45.68 78.02,-39.83 77.78,-32.98\"/>\n",
       "<polygon fill=\"#c1cdcd\" stroke=\"#c1cdcd\" points=\"79.5,-32.48 77.36,-27.64 76.01,-32.76 79.5,-32.48\"/>\n",
       "<text text-anchor=\"middle\" x=\"74.82\" y=\"-48.68\" font-family=\"DejaVu Serif,serif\" font-size=\"10.00\" fill=\"#c1cdcd\">3</text>\n",
       "</g>\n",
       "<!-- 1&#45;&gt;1 -->\n",
       "<g id=\"edge5\" class=\"edge\">\n",
       "<title>1&#45;&gt;1</title>\n",
       "<path fill=\"none\" stroke=\"black\" d=\"M71.16,-27.15C67.1,-43.17 68.32,-63.68 74.82,-63.68 80.66,-63.68 82.24,-47.12 79.55,-32.14\"/>\n",
       "<polygon fill=\"black\" stroke=\"black\" points=\"81.24,-31.67 78.48,-27.15 77.82,-32.4 81.24,-31.67\"/>\n",
       "<text text-anchor=\"middle\" x=\"74.82\" y=\"-66.68\" font-family=\"DejaVu Serif,serif\" font-size=\"10.00\">4</text>\n",
       "</g>\n",
       "</g>\n",
       "</svg>\n"
      ],
      "text/plain": [
       "GAP: <A monomorphism in FinQuivers>"
      ]
     },
     "execution_count": 43,
     "metadata": {},
     "output_type": "execute_result"
    }
   ],
   "source": [
    "LT[2]"
   ]
  },
  {
   "cell_type": "code",
   "execution_count": 44,
   "id": "4d8e8d1d",
   "metadata": {},
   "outputs": [
    {
     "data": {
      "image/svg+xml": [
       "<?xml version=\"1.0\" encoding=\"UTF-8\" standalone=\"no\"?>\n",
       "<!DOCTYPE svg PUBLIC \"-//W3C//DTD SVG 1.1//EN\"\n",
       " \"http://www.w3.org/Graphics/SVG/1.1/DTD/svg11.dtd\">\n",
       "<!-- Generated by graphviz version 2.50.0 (20211204.2007)\n",
       " -->\n",
       "<!-- Title: subquiver Pages: 1 -->\n",
       "<svg width=\"93pt\" height=\"94pt\"\n",
       " viewBox=\"0.00 0.00 93.43 93.68\" xmlns=\"http://www.w3.org/2000/svg\" xmlns:xlink=\"http://www.w3.org/1999/xlink\">\n",
       "<g id=\"graph0\" class=\"graph\" transform=\"scale(1 1) rotate(0) translate(4 89.68)\">\n",
       "<title>subquiver</title>\n",
       "<polygon fill=\"white\" stroke=\"transparent\" points=\"-4,4 -4,-89.68 89.43,-89.68 89.43,4 -4,4\"/>\n",
       "<!-- 0 -->\n",
       "<g id=\"node1\" class=\"node\">\n",
       "<title>0</title>\n",
       "<ellipse fill=\"none\" stroke=\"#c1cdcd\" cx=\"10.61\" cy=\"-17.08\" rx=\"10.71\" ry=\"10.71\"/>\n",
       "<text text-anchor=\"middle\" x=\"10.61\" y=\"-13.98\" font-family=\"DejaVu Serif,serif\" font-size=\"12.00\" fill=\"#c1cdcd\">0</text>\n",
       "</g>\n",
       "<!-- 0&#45;&gt;0 -->\n",
       "<g id=\"edge1\" class=\"edge\">\n",
       "<title>0&#45;&gt;0</title>\n",
       "<path fill=\"none\" stroke=\"#c1cdcd\" d=\"M5.76,-26.75C3.24,-35.83 4.86,-45.68 10.61,-45.68 15.28,-45.68 17.22,-39.18 16.44,-31.87\"/>\n",
       "<polygon fill=\"#c1cdcd\" stroke=\"#c1cdcd\" points=\"18.12,-31.33 15.46,-26.75 14.68,-31.99 18.12,-31.33\"/>\n",
       "<text text-anchor=\"middle\" x=\"10.61\" y=\"-48.68\" font-family=\"DejaVu Serif,serif\" font-size=\"10.00\" fill=\"#c1cdcd\">0</text>\n",
       "</g>\n",
       "<!-- 1 -->\n",
       "<g id=\"node2\" class=\"node\">\n",
       "<title>1</title>\n",
       "<ellipse fill=\"none\" stroke=\"black\" cx=\"74.82\" cy=\"-17.08\" rx=\"10.71\" ry=\"10.71\"/>\n",
       "<text text-anchor=\"middle\" x=\"74.82\" y=\"-13.98\" font-family=\"DejaVu Serif,serif\" font-size=\"12.00\">1</text>\n",
       "</g>\n",
       "<!-- 0&#45;&gt;1 -->\n",
       "<g id=\"edge3\" class=\"edge\">\n",
       "<title>0&#45;&gt;1</title>\n",
       "<path fill=\"none\" stroke=\"#c1cdcd\" d=\"M21.33,-17.08C31.4,-17.08 47.28,-17.08 58.94,-17.08\"/>\n",
       "<polygon fill=\"#c1cdcd\" stroke=\"#c1cdcd\" points=\"58.96,-18.83 63.96,-17.08 58.96,-15.33 58.96,-18.83\"/>\n",
       "<text text-anchor=\"middle\" x=\"42.71\" y=\"-20.08\" font-family=\"DejaVu Serif,serif\" font-size=\"10.00\" fill=\"#c1cdcd\">2</text>\n",
       "</g>\n",
       "<!-- 1&#45;&gt;0 -->\n",
       "<g id=\"edge2\" class=\"edge\">\n",
       "<title>1&#45;&gt;0</title>\n",
       "<path fill=\"none\" stroke=\"#c1cdcd\" d=\"M65.63,-10.79C60.39,-7.17 53.27,-2.97 46.21,-1.08 38.21,1.08 29.77,-2.7 23.22,-7.12\"/>\n",
       "<polygon fill=\"#c1cdcd\" stroke=\"#c1cdcd\" points=\"22.01,-5.84 19.02,-10.22 24.08,-8.66 22.01,-5.84\"/>\n",
       "<text text-anchor=\"middle\" x=\"42.71\" y=\"-4.08\" font-family=\"DejaVu Serif,serif\" font-size=\"10.00\" fill=\"#c1cdcd\">1</text>\n",
       "</g>\n",
       "<!-- 1&#45;&gt;1 -->\n",
       "<g id=\"edge4\" class=\"edge\">\n",
       "<title>1&#45;&gt;1</title>\n",
       "<path fill=\"none\" stroke=\"black\" d=\"M72.28,-27.64C71.19,-36.46 72.04,-45.68 74.82,-45.68 77.04,-45.68 78.02,-39.83 77.78,-32.98\"/>\n",
       "<polygon fill=\"black\" stroke=\"black\" points=\"79.5,-32.48 77.36,-27.64 76.01,-32.76 79.5,-32.48\"/>\n",
       "<text text-anchor=\"middle\" x=\"74.82\" y=\"-48.68\" font-family=\"DejaVu Serif,serif\" font-size=\"10.00\">3</text>\n",
       "</g>\n",
       "<!-- 1&#45;&gt;1 -->\n",
       "<g id=\"edge5\" class=\"edge\">\n",
       "<title>1&#45;&gt;1</title>\n",
       "<path fill=\"none\" stroke=\"black\" d=\"M71.16,-27.15C67.1,-43.17 68.32,-63.68 74.82,-63.68 80.66,-63.68 82.24,-47.12 79.55,-32.14\"/>\n",
       "<polygon fill=\"black\" stroke=\"black\" points=\"81.24,-31.67 78.48,-27.15 77.82,-32.4 81.24,-31.67\"/>\n",
       "<text text-anchor=\"middle\" x=\"74.82\" y=\"-66.68\" font-family=\"DejaVu Serif,serif\" font-size=\"10.00\">4</text>\n",
       "</g>\n",
       "</g>\n",
       "</svg>\n"
      ],
      "text/plain": [
       "GAP: <A monomorphism in FinQuivers>"
      ]
     },
     "execution_count": 44,
     "metadata": {},
     "output_type": "execute_result"
    }
   ],
   "source": [
    "LT[3]"
   ]
  },
  {
   "cell_type": "code",
   "execution_count": 45,
   "id": "5b1afe95",
   "metadata": {},
   "outputs": [
    {
     "data": {
      "image/svg+xml": [
       "<?xml version=\"1.0\" encoding=\"UTF-8\" standalone=\"no\"?>\n",
       "<!DOCTYPE svg PUBLIC \"-//W3C//DTD SVG 1.1//EN\"\n",
       " \"http://www.w3.org/Graphics/SVG/1.1/DTD/svg11.dtd\">\n",
       "<!-- Generated by graphviz version 2.50.0 (20211204.2007)\n",
       " -->\n",
       "<!-- Title: subquiver Pages: 1 -->\n",
       "<svg width=\"93pt\" height=\"94pt\"\n",
       " viewBox=\"0.00 0.00 93.43 93.68\" xmlns=\"http://www.w3.org/2000/svg\" xmlns:xlink=\"http://www.w3.org/1999/xlink\">\n",
       "<g id=\"graph0\" class=\"graph\" transform=\"scale(1 1) rotate(0) translate(4 89.68)\">\n",
       "<title>subquiver</title>\n",
       "<polygon fill=\"white\" stroke=\"transparent\" points=\"-4,4 -4,-89.68 89.43,-89.68 89.43,4 -4,4\"/>\n",
       "<!-- 0 -->\n",
       "<g id=\"node1\" class=\"node\">\n",
       "<title>0</title>\n",
       "<ellipse fill=\"none\" stroke=\"black\" cx=\"10.61\" cy=\"-17.08\" rx=\"10.71\" ry=\"10.71\"/>\n",
       "<text text-anchor=\"middle\" x=\"10.61\" y=\"-13.98\" font-family=\"DejaVu Serif,serif\" font-size=\"12.00\">0</text>\n",
       "</g>\n",
       "<!-- 0&#45;&gt;0 -->\n",
       "<g id=\"edge1\" class=\"edge\">\n",
       "<title>0&#45;&gt;0</title>\n",
       "<path fill=\"none\" stroke=\"black\" d=\"M5.76,-26.75C3.24,-35.83 4.86,-45.68 10.61,-45.68 15.28,-45.68 17.22,-39.18 16.44,-31.87\"/>\n",
       "<polygon fill=\"black\" stroke=\"black\" points=\"18.12,-31.33 15.46,-26.75 14.68,-31.99 18.12,-31.33\"/>\n",
       "<text text-anchor=\"middle\" x=\"10.61\" y=\"-48.68\" font-family=\"DejaVu Serif,serif\" font-size=\"10.00\">0</text>\n",
       "</g>\n",
       "<!-- 1 -->\n",
       "<g id=\"node2\" class=\"node\">\n",
       "<title>1</title>\n",
       "<ellipse fill=\"none\" stroke=\"black\" cx=\"74.82\" cy=\"-17.08\" rx=\"10.71\" ry=\"10.71\"/>\n",
       "<text text-anchor=\"middle\" x=\"74.82\" y=\"-13.98\" font-family=\"DejaVu Serif,serif\" font-size=\"12.00\">1</text>\n",
       "</g>\n",
       "<!-- 0&#45;&gt;1 -->\n",
       "<g id=\"edge3\" class=\"edge\">\n",
       "<title>0&#45;&gt;1</title>\n",
       "<path fill=\"none\" stroke=\"black\" d=\"M21.33,-17.08C31.4,-17.08 47.28,-17.08 58.94,-17.08\"/>\n",
       "<polygon fill=\"black\" stroke=\"black\" points=\"58.96,-18.83 63.96,-17.08 58.96,-15.33 58.96,-18.83\"/>\n",
       "<text text-anchor=\"middle\" x=\"42.71\" y=\"-20.08\" font-family=\"DejaVu Serif,serif\" font-size=\"10.00\">2</text>\n",
       "</g>\n",
       "<!-- 1&#45;&gt;0 -->\n",
       "<g id=\"edge2\" class=\"edge\">\n",
       "<title>1&#45;&gt;0</title>\n",
       "<path fill=\"none\" stroke=\"black\" d=\"M65.63,-10.79C60.39,-7.17 53.27,-2.97 46.21,-1.08 38.21,1.08 29.77,-2.7 23.22,-7.12\"/>\n",
       "<polygon fill=\"black\" stroke=\"black\" points=\"22.01,-5.84 19.02,-10.22 24.08,-8.66 22.01,-5.84\"/>\n",
       "<text text-anchor=\"middle\" x=\"42.71\" y=\"-4.08\" font-family=\"DejaVu Serif,serif\" font-size=\"10.00\">1</text>\n",
       "</g>\n",
       "<!-- 1&#45;&gt;1 -->\n",
       "<g id=\"edge4\" class=\"edge\">\n",
       "<title>1&#45;&gt;1</title>\n",
       "<path fill=\"none\" stroke=\"black\" d=\"M72.28,-27.64C71.19,-36.46 72.04,-45.68 74.82,-45.68 77.04,-45.68 78.02,-39.83 77.78,-32.98\"/>\n",
       "<polygon fill=\"black\" stroke=\"black\" points=\"79.5,-32.48 77.36,-27.64 76.01,-32.76 79.5,-32.48\"/>\n",
       "<text text-anchor=\"middle\" x=\"74.82\" y=\"-48.68\" font-family=\"DejaVu Serif,serif\" font-size=\"10.00\">3</text>\n",
       "</g>\n",
       "<!-- 1&#45;&gt;1 -->\n",
       "<g id=\"edge5\" class=\"edge\">\n",
       "<title>1&#45;&gt;1</title>\n",
       "<path fill=\"none\" stroke=\"black\" d=\"M71.16,-27.15C67.1,-43.17 68.32,-63.68 74.82,-63.68 80.66,-63.68 82.24,-47.12 79.55,-32.14\"/>\n",
       "<polygon fill=\"black\" stroke=\"black\" points=\"81.24,-31.67 78.48,-27.15 77.82,-32.4 81.24,-31.67\"/>\n",
       "<text text-anchor=\"middle\" x=\"74.82\" y=\"-66.68\" font-family=\"DejaVu Serif,serif\" font-size=\"10.00\">4</text>\n",
       "</g>\n",
       "</g>\n",
       "</svg>\n"
      ],
      "text/plain": [
       "GAP: <A monomorphism in FinQuivers>"
      ]
     },
     "execution_count": 45,
     "metadata": {},
     "output_type": "execute_result"
    }
   ],
   "source": [
    "LT[4]"
   ]
  },
  {
   "cell_type": "code",
   "execution_count": 46,
   "id": "f55d490c",
   "metadata": {},
   "outputs": [],
   "source": [
    "Ωs = LawvereTierneyEmbeddingsOfSubobjectClassifiers( FinQuivers );"
   ]
  },
  {
   "cell_type": "code",
   "execution_count": 47,
   "id": "ace8a4cb",
   "metadata": {},
   "outputs": [
    {
     "data": {
      "image/svg+xml": [
       "<?xml version=\"1.0\" encoding=\"UTF-8\" standalone=\"no\"?>\n",
       "<!DOCTYPE svg PUBLIC \"-//W3C//DTD SVG 1.1//EN\"\n",
       " \"http://www.w3.org/Graphics/SVG/1.1/DTD/svg11.dtd\">\n",
       "<!-- Generated by graphviz version 2.50.0 (20211204.2007)\n",
       " -->\n",
       "<!-- Title: subquiver Pages: 1 -->\n",
       "<svg width=\"93pt\" height=\"94pt\"\n",
       " viewBox=\"0.00 0.00 93.43 93.68\" xmlns=\"http://www.w3.org/2000/svg\" xmlns:xlink=\"http://www.w3.org/1999/xlink\">\n",
       "<g id=\"graph0\" class=\"graph\" transform=\"scale(1 1) rotate(0) translate(4 89.68)\">\n",
       "<title>subquiver</title>\n",
       "<polygon fill=\"white\" stroke=\"transparent\" points=\"-4,4 -4,-89.68 89.43,-89.68 89.43,4 -4,4\"/>\n",
       "<!-- 0 -->\n",
       "<g id=\"node1\" class=\"node\">\n",
       "<title>0</title>\n",
       "<ellipse fill=\"none\" stroke=\"black\" cx=\"10.61\" cy=\"-17.08\" rx=\"10.71\" ry=\"10.71\"/>\n",
       "<text text-anchor=\"middle\" x=\"10.61\" y=\"-13.98\" font-family=\"DejaVu Serif,serif\" font-size=\"12.00\">0</text>\n",
       "</g>\n",
       "<!-- 0&#45;&gt;0 -->\n",
       "<g id=\"edge1\" class=\"edge\">\n",
       "<title>0&#45;&gt;0</title>\n",
       "<path fill=\"none\" stroke=\"black\" d=\"M5.76,-26.75C3.24,-35.83 4.86,-45.68 10.61,-45.68 15.28,-45.68 17.22,-39.18 16.44,-31.87\"/>\n",
       "<polygon fill=\"black\" stroke=\"black\" points=\"18.12,-31.33 15.46,-26.75 14.68,-31.99 18.12,-31.33\"/>\n",
       "<text text-anchor=\"middle\" x=\"10.61\" y=\"-48.68\" font-family=\"DejaVu Serif,serif\" font-size=\"10.00\">0</text>\n",
       "</g>\n",
       "<!-- 1 -->\n",
       "<g id=\"node2\" class=\"node\">\n",
       "<title>1</title>\n",
       "<ellipse fill=\"none\" stroke=\"black\" cx=\"74.82\" cy=\"-17.08\" rx=\"10.71\" ry=\"10.71\"/>\n",
       "<text text-anchor=\"middle\" x=\"74.82\" y=\"-13.98\" font-family=\"DejaVu Serif,serif\" font-size=\"12.00\">1</text>\n",
       "</g>\n",
       "<!-- 0&#45;&gt;1 -->\n",
       "<g id=\"edge3\" class=\"edge\">\n",
       "<title>0&#45;&gt;1</title>\n",
       "<path fill=\"none\" stroke=\"black\" d=\"M21.33,-17.08C31.4,-17.08 47.28,-17.08 58.94,-17.08\"/>\n",
       "<polygon fill=\"black\" stroke=\"black\" points=\"58.96,-18.83 63.96,-17.08 58.96,-15.33 58.96,-18.83\"/>\n",
       "<text text-anchor=\"middle\" x=\"42.71\" y=\"-20.08\" font-family=\"DejaVu Serif,serif\" font-size=\"10.00\">2</text>\n",
       "</g>\n",
       "<!-- 1&#45;&gt;0 -->\n",
       "<g id=\"edge2\" class=\"edge\">\n",
       "<title>1&#45;&gt;0</title>\n",
       "<path fill=\"none\" stroke=\"black\" d=\"M65.63,-10.79C60.39,-7.17 53.27,-2.97 46.21,-1.08 38.21,1.08 29.77,-2.7 23.22,-7.12\"/>\n",
       "<polygon fill=\"black\" stroke=\"black\" points=\"22.01,-5.84 19.02,-10.22 24.08,-8.66 22.01,-5.84\"/>\n",
       "<text text-anchor=\"middle\" x=\"42.71\" y=\"-4.08\" font-family=\"DejaVu Serif,serif\" font-size=\"10.00\">1</text>\n",
       "</g>\n",
       "<!-- 1&#45;&gt;1 -->\n",
       "<g id=\"edge4\" class=\"edge\">\n",
       "<title>1&#45;&gt;1</title>\n",
       "<path fill=\"none\" stroke=\"black\" d=\"M72.28,-27.64C71.19,-36.46 72.04,-45.68 74.82,-45.68 77.04,-45.68 78.02,-39.83 77.78,-32.98\"/>\n",
       "<polygon fill=\"black\" stroke=\"black\" points=\"79.5,-32.48 77.36,-27.64 76.01,-32.76 79.5,-32.48\"/>\n",
       "<text text-anchor=\"middle\" x=\"74.82\" y=\"-48.68\" font-family=\"DejaVu Serif,serif\" font-size=\"10.00\">3</text>\n",
       "</g>\n",
       "<!-- 1&#45;&gt;1 -->\n",
       "<g id=\"edge5\" class=\"edge\">\n",
       "<title>1&#45;&gt;1</title>\n",
       "<path fill=\"none\" stroke=\"black\" d=\"M71.16,-27.15C67.1,-43.17 68.32,-63.68 74.82,-63.68 80.66,-63.68 82.24,-47.12 79.55,-32.14\"/>\n",
       "<polygon fill=\"black\" stroke=\"black\" points=\"81.24,-31.67 78.48,-27.15 77.82,-32.4 81.24,-31.67\"/>\n",
       "<text text-anchor=\"middle\" x=\"74.82\" y=\"-66.68\" font-family=\"DejaVu Serif,serif\" font-size=\"10.00\">4</text>\n",
       "</g>\n",
       "</g>\n",
       "</svg>\n"
      ],
      "text/plain": [
       "GAP: <A monomorphism in FinQuivers>"
      ]
     },
     "execution_count": 47,
     "metadata": {},
     "output_type": "execute_result"
    }
   ],
   "source": [
    "Ωs[1]"
   ]
  },
  {
   "cell_type": "code",
   "execution_count": 48,
   "id": "c209060e",
   "metadata": {},
   "outputs": [
    {
     "data": {
      "image/svg+xml": [
       "<?xml version=\"1.0\" encoding=\"UTF-8\" standalone=\"no\"?>\n",
       "<!DOCTYPE svg PUBLIC \"-//W3C//DTD SVG 1.1//EN\"\n",
       " \"http://www.w3.org/Graphics/SVG/1.1/DTD/svg11.dtd\">\n",
       "<!-- Generated by graphviz version 2.50.0 (20211204.2007)\n",
       " -->\n",
       "<!-- Title: subquiver Pages: 1 -->\n",
       "<svg width=\"93pt\" height=\"94pt\"\n",
       " viewBox=\"0.00 0.00 93.43 93.68\" xmlns=\"http://www.w3.org/2000/svg\" xmlns:xlink=\"http://www.w3.org/1999/xlink\">\n",
       "<g id=\"graph0\" class=\"graph\" transform=\"scale(1 1) rotate(0) translate(4 89.68)\">\n",
       "<title>subquiver</title>\n",
       "<polygon fill=\"white\" stroke=\"transparent\" points=\"-4,4 -4,-89.68 89.43,-89.68 89.43,4 -4,4\"/>\n",
       "<!-- 0 -->\n",
       "<g id=\"node1\" class=\"node\">\n",
       "<title>0</title>\n",
       "<ellipse fill=\"none\" stroke=\"#c1cdcd\" cx=\"10.61\" cy=\"-17.08\" rx=\"10.71\" ry=\"10.71\"/>\n",
       "<text text-anchor=\"middle\" x=\"10.61\" y=\"-13.98\" font-family=\"DejaVu Serif,serif\" font-size=\"12.00\" fill=\"#c1cdcd\">0</text>\n",
       "</g>\n",
       "<!-- 0&#45;&gt;0 -->\n",
       "<g id=\"edge1\" class=\"edge\">\n",
       "<title>0&#45;&gt;0</title>\n",
       "<path fill=\"none\" stroke=\"#c1cdcd\" d=\"M5.76,-26.75C3.24,-35.83 4.86,-45.68 10.61,-45.68 15.28,-45.68 17.22,-39.18 16.44,-31.87\"/>\n",
       "<polygon fill=\"#c1cdcd\" stroke=\"#c1cdcd\" points=\"18.12,-31.33 15.46,-26.75 14.68,-31.99 18.12,-31.33\"/>\n",
       "<text text-anchor=\"middle\" x=\"10.61\" y=\"-48.68\" font-family=\"DejaVu Serif,serif\" font-size=\"10.00\" fill=\"#c1cdcd\">0</text>\n",
       "</g>\n",
       "<!-- 1 -->\n",
       "<g id=\"node2\" class=\"node\">\n",
       "<title>1</title>\n",
       "<ellipse fill=\"none\" stroke=\"black\" cx=\"74.82\" cy=\"-17.08\" rx=\"10.71\" ry=\"10.71\"/>\n",
       "<text text-anchor=\"middle\" x=\"74.82\" y=\"-13.98\" font-family=\"DejaVu Serif,serif\" font-size=\"12.00\">1</text>\n",
       "</g>\n",
       "<!-- 0&#45;&gt;1 -->\n",
       "<g id=\"edge3\" class=\"edge\">\n",
       "<title>0&#45;&gt;1</title>\n",
       "<path fill=\"none\" stroke=\"#c1cdcd\" d=\"M21.33,-17.08C31.4,-17.08 47.28,-17.08 58.94,-17.08\"/>\n",
       "<polygon fill=\"#c1cdcd\" stroke=\"#c1cdcd\" points=\"58.96,-18.83 63.96,-17.08 58.96,-15.33 58.96,-18.83\"/>\n",
       "<text text-anchor=\"middle\" x=\"42.71\" y=\"-20.08\" font-family=\"DejaVu Serif,serif\" font-size=\"10.00\" fill=\"#c1cdcd\">2</text>\n",
       "</g>\n",
       "<!-- 1&#45;&gt;0 -->\n",
       "<g id=\"edge2\" class=\"edge\">\n",
       "<title>1&#45;&gt;0</title>\n",
       "<path fill=\"none\" stroke=\"#c1cdcd\" d=\"M65.63,-10.79C60.39,-7.17 53.27,-2.97 46.21,-1.08 38.21,1.08 29.77,-2.7 23.22,-7.12\"/>\n",
       "<polygon fill=\"#c1cdcd\" stroke=\"#c1cdcd\" points=\"22.01,-5.84 19.02,-10.22 24.08,-8.66 22.01,-5.84\"/>\n",
       "<text text-anchor=\"middle\" x=\"42.71\" y=\"-4.08\" font-family=\"DejaVu Serif,serif\" font-size=\"10.00\" fill=\"#c1cdcd\">1</text>\n",
       "</g>\n",
       "<!-- 1&#45;&gt;1 -->\n",
       "<g id=\"edge4\" class=\"edge\">\n",
       "<title>1&#45;&gt;1</title>\n",
       "<path fill=\"none\" stroke=\"black\" d=\"M72.28,-27.64C71.19,-36.46 72.04,-45.68 74.82,-45.68 77.04,-45.68 78.02,-39.83 77.78,-32.98\"/>\n",
       "<polygon fill=\"black\" stroke=\"black\" points=\"79.5,-32.48 77.36,-27.64 76.01,-32.76 79.5,-32.48\"/>\n",
       "<text text-anchor=\"middle\" x=\"74.82\" y=\"-48.68\" font-family=\"DejaVu Serif,serif\" font-size=\"10.00\">3</text>\n",
       "</g>\n",
       "<!-- 1&#45;&gt;1 -->\n",
       "<g id=\"edge5\" class=\"edge\">\n",
       "<title>1&#45;&gt;1</title>\n",
       "<path fill=\"none\" stroke=\"black\" d=\"M71.16,-27.15C67.1,-43.17 68.32,-63.68 74.82,-63.68 80.66,-63.68 82.24,-47.12 79.55,-32.14\"/>\n",
       "<polygon fill=\"black\" stroke=\"black\" points=\"81.24,-31.67 78.48,-27.15 77.82,-32.4 81.24,-31.67\"/>\n",
       "<text text-anchor=\"middle\" x=\"74.82\" y=\"-66.68\" font-family=\"DejaVu Serif,serif\" font-size=\"10.00\">4</text>\n",
       "</g>\n",
       "</g>\n",
       "</svg>\n"
      ],
      "text/plain": [
       "GAP: <A monomorphism in FinQuivers>"
      ]
     },
     "execution_count": 48,
     "metadata": {},
     "output_type": "execute_result"
    }
   ],
   "source": [
    "Ωs[2]"
   ]
  },
  {
   "cell_type": "code",
   "execution_count": 49,
   "id": "fc140dbe",
   "metadata": {},
   "outputs": [
    {
     "data": {
      "image/svg+xml": [
       "<?xml version=\"1.0\" encoding=\"UTF-8\" standalone=\"no\"?>\n",
       "<!DOCTYPE svg PUBLIC \"-//W3C//DTD SVG 1.1//EN\"\n",
       " \"http://www.w3.org/Graphics/SVG/1.1/DTD/svg11.dtd\">\n",
       "<!-- Generated by graphviz version 2.50.0 (20211204.2007)\n",
       " -->\n",
       "<!-- Title: subquiver Pages: 1 -->\n",
       "<svg width=\"93pt\" height=\"94pt\"\n",
       " viewBox=\"0.00 0.00 93.43 93.68\" xmlns=\"http://www.w3.org/2000/svg\" xmlns:xlink=\"http://www.w3.org/1999/xlink\">\n",
       "<g id=\"graph0\" class=\"graph\" transform=\"scale(1 1) rotate(0) translate(4 89.68)\">\n",
       "<title>subquiver</title>\n",
       "<polygon fill=\"white\" stroke=\"transparent\" points=\"-4,4 -4,-89.68 89.43,-89.68 89.43,4 -4,4\"/>\n",
       "<!-- 0 -->\n",
       "<g id=\"node1\" class=\"node\">\n",
       "<title>0</title>\n",
       "<ellipse fill=\"none\" stroke=\"black\" cx=\"10.61\" cy=\"-17.08\" rx=\"10.71\" ry=\"10.71\"/>\n",
       "<text text-anchor=\"middle\" x=\"10.61\" y=\"-13.98\" font-family=\"DejaVu Serif,serif\" font-size=\"12.00\">0</text>\n",
       "</g>\n",
       "<!-- 0&#45;&gt;0 -->\n",
       "<g id=\"edge1\" class=\"edge\">\n",
       "<title>0&#45;&gt;0</title>\n",
       "<path fill=\"none\" stroke=\"black\" d=\"M5.76,-26.75C3.24,-35.83 4.86,-45.68 10.61,-45.68 15.28,-45.68 17.22,-39.18 16.44,-31.87\"/>\n",
       "<polygon fill=\"black\" stroke=\"black\" points=\"18.12,-31.33 15.46,-26.75 14.68,-31.99 18.12,-31.33\"/>\n",
       "<text text-anchor=\"middle\" x=\"10.61\" y=\"-48.68\" font-family=\"DejaVu Serif,serif\" font-size=\"10.00\">0</text>\n",
       "</g>\n",
       "<!-- 1 -->\n",
       "<g id=\"node2\" class=\"node\">\n",
       "<title>1</title>\n",
       "<ellipse fill=\"none\" stroke=\"black\" cx=\"74.82\" cy=\"-17.08\" rx=\"10.71\" ry=\"10.71\"/>\n",
       "<text text-anchor=\"middle\" x=\"74.82\" y=\"-13.98\" font-family=\"DejaVu Serif,serif\" font-size=\"12.00\">1</text>\n",
       "</g>\n",
       "<!-- 0&#45;&gt;1 -->\n",
       "<g id=\"edge3\" class=\"edge\">\n",
       "<title>0&#45;&gt;1</title>\n",
       "<path fill=\"none\" stroke=\"black\" d=\"M21.33,-17.08C31.4,-17.08 47.28,-17.08 58.94,-17.08\"/>\n",
       "<polygon fill=\"black\" stroke=\"black\" points=\"58.96,-18.83 63.96,-17.08 58.96,-15.33 58.96,-18.83\"/>\n",
       "<text text-anchor=\"middle\" x=\"42.71\" y=\"-20.08\" font-family=\"DejaVu Serif,serif\" font-size=\"10.00\">2</text>\n",
       "</g>\n",
       "<!-- 1&#45;&gt;0 -->\n",
       "<g id=\"edge2\" class=\"edge\">\n",
       "<title>1&#45;&gt;0</title>\n",
       "<path fill=\"none\" stroke=\"black\" d=\"M65.63,-10.79C60.39,-7.17 53.27,-2.97 46.21,-1.08 38.21,1.08 29.77,-2.7 23.22,-7.12\"/>\n",
       "<polygon fill=\"black\" stroke=\"black\" points=\"22.01,-5.84 19.02,-10.22 24.08,-8.66 22.01,-5.84\"/>\n",
       "<text text-anchor=\"middle\" x=\"42.71\" y=\"-4.08\" font-family=\"DejaVu Serif,serif\" font-size=\"10.00\">1</text>\n",
       "</g>\n",
       "<!-- 1&#45;&gt;1 -->\n",
       "<g id=\"edge4\" class=\"edge\">\n",
       "<title>1&#45;&gt;1</title>\n",
       "<path fill=\"none\" stroke=\"#c1cdcd\" d=\"M72.28,-27.64C71.19,-36.46 72.04,-45.68 74.82,-45.68 77.04,-45.68 78.02,-39.83 77.78,-32.98\"/>\n",
       "<polygon fill=\"#c1cdcd\" stroke=\"#c1cdcd\" points=\"79.5,-32.48 77.36,-27.64 76.01,-32.76 79.5,-32.48\"/>\n",
       "<text text-anchor=\"middle\" x=\"74.82\" y=\"-48.68\" font-family=\"DejaVu Serif,serif\" font-size=\"10.00\" fill=\"#c1cdcd\">3</text>\n",
       "</g>\n",
       "<!-- 1&#45;&gt;1 -->\n",
       "<g id=\"edge5\" class=\"edge\">\n",
       "<title>1&#45;&gt;1</title>\n",
       "<path fill=\"none\" stroke=\"black\" d=\"M71.16,-27.15C67.1,-43.17 68.32,-63.68 74.82,-63.68 80.66,-63.68 82.24,-47.12 79.55,-32.14\"/>\n",
       "<polygon fill=\"black\" stroke=\"black\" points=\"81.24,-31.67 78.48,-27.15 77.82,-32.4 81.24,-31.67\"/>\n",
       "<text text-anchor=\"middle\" x=\"74.82\" y=\"-66.68\" font-family=\"DejaVu Serif,serif\" font-size=\"10.00\">4</text>\n",
       "</g>\n",
       "</g>\n",
       "</svg>\n"
      ],
      "text/plain": [
       "GAP: <A monomorphism in FinQuivers>"
      ]
     },
     "execution_count": 49,
     "metadata": {},
     "output_type": "execute_result"
    }
   ],
   "source": [
    "Ωs[3]"
   ]
  },
  {
   "cell_type": "code",
   "execution_count": 50,
   "id": "80264bfa",
   "metadata": {},
   "outputs": [
    {
     "data": {
      "image/svg+xml": [
       "<?xml version=\"1.0\" encoding=\"UTF-8\" standalone=\"no\"?>\n",
       "<!DOCTYPE svg PUBLIC \"-//W3C//DTD SVG 1.1//EN\"\n",
       " \"http://www.w3.org/Graphics/SVG/1.1/DTD/svg11.dtd\">\n",
       "<!-- Generated by graphviz version 2.50.0 (20211204.2007)\n",
       " -->\n",
       "<!-- Title: subquiver Pages: 1 -->\n",
       "<svg width=\"93pt\" height=\"94pt\"\n",
       " viewBox=\"0.00 0.00 93.43 93.68\" xmlns=\"http://www.w3.org/2000/svg\" xmlns:xlink=\"http://www.w3.org/1999/xlink\">\n",
       "<g id=\"graph0\" class=\"graph\" transform=\"scale(1 1) rotate(0) translate(4 89.68)\">\n",
       "<title>subquiver</title>\n",
       "<polygon fill=\"white\" stroke=\"transparent\" points=\"-4,4 -4,-89.68 89.43,-89.68 89.43,4 -4,4\"/>\n",
       "<!-- 0 -->\n",
       "<g id=\"node1\" class=\"node\">\n",
       "<title>0</title>\n",
       "<ellipse fill=\"none\" stroke=\"#c1cdcd\" cx=\"10.61\" cy=\"-17.08\" rx=\"10.71\" ry=\"10.71\"/>\n",
       "<text text-anchor=\"middle\" x=\"10.61\" y=\"-13.98\" font-family=\"DejaVu Serif,serif\" font-size=\"12.00\" fill=\"#c1cdcd\">0</text>\n",
       "</g>\n",
       "<!-- 0&#45;&gt;0 -->\n",
       "<g id=\"edge1\" class=\"edge\">\n",
       "<title>0&#45;&gt;0</title>\n",
       "<path fill=\"none\" stroke=\"#c1cdcd\" d=\"M5.76,-26.75C3.24,-35.83 4.86,-45.68 10.61,-45.68 15.28,-45.68 17.22,-39.18 16.44,-31.87\"/>\n",
       "<polygon fill=\"#c1cdcd\" stroke=\"#c1cdcd\" points=\"18.12,-31.33 15.46,-26.75 14.68,-31.99 18.12,-31.33\"/>\n",
       "<text text-anchor=\"middle\" x=\"10.61\" y=\"-48.68\" font-family=\"DejaVu Serif,serif\" font-size=\"10.00\" fill=\"#c1cdcd\">0</text>\n",
       "</g>\n",
       "<!-- 1 -->\n",
       "<g id=\"node2\" class=\"node\">\n",
       "<title>1</title>\n",
       "<ellipse fill=\"none\" stroke=\"black\" cx=\"74.82\" cy=\"-17.08\" rx=\"10.71\" ry=\"10.71\"/>\n",
       "<text text-anchor=\"middle\" x=\"74.82\" y=\"-13.98\" font-family=\"DejaVu Serif,serif\" font-size=\"12.00\">1</text>\n",
       "</g>\n",
       "<!-- 0&#45;&gt;1 -->\n",
       "<g id=\"edge3\" class=\"edge\">\n",
       "<title>0&#45;&gt;1</title>\n",
       "<path fill=\"none\" stroke=\"#c1cdcd\" d=\"M21.33,-17.08C31.4,-17.08 47.28,-17.08 58.94,-17.08\"/>\n",
       "<polygon fill=\"#c1cdcd\" stroke=\"#c1cdcd\" points=\"58.96,-18.83 63.96,-17.08 58.96,-15.33 58.96,-18.83\"/>\n",
       "<text text-anchor=\"middle\" x=\"42.71\" y=\"-20.08\" font-family=\"DejaVu Serif,serif\" font-size=\"10.00\" fill=\"#c1cdcd\">2</text>\n",
       "</g>\n",
       "<!-- 1&#45;&gt;0 -->\n",
       "<g id=\"edge2\" class=\"edge\">\n",
       "<title>1&#45;&gt;0</title>\n",
       "<path fill=\"none\" stroke=\"#c1cdcd\" d=\"M65.63,-10.79C60.39,-7.17 53.27,-2.97 46.21,-1.08 38.21,1.08 29.77,-2.7 23.22,-7.12\"/>\n",
       "<polygon fill=\"#c1cdcd\" stroke=\"#c1cdcd\" points=\"22.01,-5.84 19.02,-10.22 24.08,-8.66 22.01,-5.84\"/>\n",
       "<text text-anchor=\"middle\" x=\"42.71\" y=\"-4.08\" font-family=\"DejaVu Serif,serif\" font-size=\"10.00\" fill=\"#c1cdcd\">1</text>\n",
       "</g>\n",
       "<!-- 1&#45;&gt;1 -->\n",
       "<g id=\"edge4\" class=\"edge\">\n",
       "<title>1&#45;&gt;1</title>\n",
       "<path fill=\"none\" stroke=\"#c1cdcd\" d=\"M72.28,-27.64C71.19,-36.46 72.04,-45.68 74.82,-45.68 77.04,-45.68 78.02,-39.83 77.78,-32.98\"/>\n",
       "<polygon fill=\"#c1cdcd\" stroke=\"#c1cdcd\" points=\"79.5,-32.48 77.36,-27.64 76.01,-32.76 79.5,-32.48\"/>\n",
       "<text text-anchor=\"middle\" x=\"74.82\" y=\"-48.68\" font-family=\"DejaVu Serif,serif\" font-size=\"10.00\" fill=\"#c1cdcd\">3</text>\n",
       "</g>\n",
       "<!-- 1&#45;&gt;1 -->\n",
       "<g id=\"edge5\" class=\"edge\">\n",
       "<title>1&#45;&gt;1</title>\n",
       "<path fill=\"none\" stroke=\"black\" d=\"M71.16,-27.15C67.1,-43.17 68.32,-63.68 74.82,-63.68 80.66,-63.68 82.24,-47.12 79.55,-32.14\"/>\n",
       "<polygon fill=\"black\" stroke=\"black\" points=\"81.24,-31.67 78.48,-27.15 77.82,-32.4 81.24,-31.67\"/>\n",
       "<text text-anchor=\"middle\" x=\"74.82\" y=\"-66.68\" font-family=\"DejaVu Serif,serif\" font-size=\"10.00\">4</text>\n",
       "</g>\n",
       "</g>\n",
       "</svg>\n"
      ],
      "text/plain": [
       "GAP: <A monomorphism in FinQuivers>"
      ]
     },
     "execution_count": 50,
     "metadata": {},
     "output_type": "execute_result"
    }
   ],
   "source": [
    "Ωs[4]"
   ]
  },
  {
   "cell_type": "code",
   "execution_count": 51,
   "id": "2ab59ec5",
   "metadata": {},
   "outputs": [
    {
     "data": {
      "text/plain": [
       "GAP: [ <A morphism in FinQuivers>, <A morphism in FinQuivers>, <A morphism in FinQuivers>, <A morphism in FinQuivers> ]"
      ]
     },
     "execution_count": 51,
     "metadata": {},
     "output_type": "execute_result"
    }
   ],
   "source": [
    "js = LawvereTierneyLocalModalityOperators( FinQuivers )"
   ]
  },
  {
   "cell_type": "code",
   "execution_count": 52,
   "id": "865fd0b8",
   "metadata": {},
   "outputs": [
    {
     "data": {
      "image/svg+xml": [
       "<?xml version=\"1.0\" encoding=\"UTF-8\" standalone=\"no\"?>\n",
       "<!DOCTYPE svg PUBLIC \"-//W3C//DTD SVG 1.1//EN\"\n",
       " \"http://www.w3.org/Graphics/SVG/1.1/DTD/svg11.dtd\">\n",
       "<!-- Generated by graphviz version 2.50.0 (20211204.2007)\n",
       " -->\n",
       "<!-- Title: quiver Pages: 1 -->\n",
       "<svg width=\"93pt\" height=\"35pt\"\n",
       " viewBox=\"0.00 0.00 93.43 35.01\" xmlns=\"http://www.w3.org/2000/svg\" xmlns:xlink=\"http://www.w3.org/1999/xlink\">\n",
       "<g id=\"graph0\" class=\"graph\" transform=\"scale(1 1) rotate(0) translate(4 31.01)\">\n",
       "<title>quiver</title>\n",
       "<polygon fill=\"white\" stroke=\"transparent\" points=\"-4,4 -4,-31.01 89.43,-31.01 89.43,4 -4,4\"/>\n",
       "<!-- 0 -->\n",
       "<g id=\"node1\" class=\"node\">\n",
       "<title>0</title>\n",
       "<ellipse fill=\"none\" stroke=\"black\" cx=\"10.61\" cy=\"-16.01\" rx=\"10.71\" ry=\"10.71\"/>\n",
       "<text text-anchor=\"middle\" x=\"10.61\" y=\"-12.91\" font-family=\"DejaVu Serif,serif\" font-size=\"12.00\">0</text>\n",
       "</g>\n",
       "<!-- 1 -->\n",
       "<g id=\"node2\" class=\"node\">\n",
       "<title>1</title>\n",
       "<ellipse fill=\"none\" stroke=\"black\" cx=\"74.82\" cy=\"-16.01\" rx=\"10.71\" ry=\"10.71\"/>\n",
       "<text text-anchor=\"middle\" x=\"74.82\" y=\"-12.91\" font-family=\"DejaVu Serif,serif\" font-size=\"12.00\">1</text>\n",
       "</g>\n",
       "<!-- 0&#45;&gt;1 -->\n",
       "<g id=\"edge1\" class=\"edge\">\n",
       "<title>0&#45;&gt;1</title>\n",
       "<path fill=\"none\" stroke=\"black\" d=\"M21.33,-16.01C31.4,-16.01 47.28,-16.01 58.94,-16.01\"/>\n",
       "<polygon fill=\"black\" stroke=\"black\" points=\"58.96,-17.76 63.96,-16.01 58.96,-14.26 58.96,-17.76\"/>\n",
       "<text text-anchor=\"middle\" x=\"42.71\" y=\"-19.01\" font-family=\"DejaVu Serif,serif\" font-size=\"10.00\">0</text>\n",
       "</g>\n",
       "<!-- 0&#45;&gt;1 -->\n",
       "<g id=\"edge2\" class=\"edge\">\n",
       "<title>0&#45;&gt;1</title>\n",
       "<path fill=\"none\" stroke=\"black\" d=\"M19.85,-10.11C25.11,-6.72 32.23,-2.78 39.21,-1.01 47.15,1.01 55.6,-2.53 62.16,-6.67\"/>\n",
       "<polygon fill=\"black\" stroke=\"black\" points=\"61.26,-8.18 66.37,-9.58 63.25,-5.3 61.26,-8.18\"/>\n",
       "<text text-anchor=\"middle\" x=\"42.71\" y=\"-4.01\" font-family=\"DejaVu Serif,serif\" font-size=\"10.00\">1</text>\n",
       "</g>\n",
       "</g>\n",
       "</svg>\n"
      ],
      "text/plain": [
       "GAP: <An object in FinQuivers>"
      ]
     },
     "execution_count": 52,
     "metadata": {},
     "output_type": "execute_result"
    }
   ],
   "source": [
    "CreateQuiver( 2, [ 0,1, 0,1 ] )"
   ]
  },
  {
   "cell_type": "code",
   "execution_count": 53,
   "id": "831d0303",
   "metadata": {},
   "outputs": [
    {
     "data": {
      "image/svg+xml": [
       "<?xml version=\"1.0\" encoding=\"UTF-8\" standalone=\"no\"?>\n",
       "<!DOCTYPE svg PUBLIC \"-//W3C//DTD SVG 1.1//EN\"\n",
       " \"http://www.w3.org/Graphics/SVG/1.1/DTD/svg11.dtd\">\n",
       "<!-- Generated by graphviz version 2.50.0 (20211204.2007)\n",
       " -->\n",
       "<!-- Title: subquiver Pages: 1 -->\n",
       "<svg width=\"521pt\" height=\"1124pt\"\n",
       " viewBox=\"0.00 0.00 520.71 1124.00\" xmlns=\"http://www.w3.org/2000/svg\" xmlns:xlink=\"http://www.w3.org/1999/xlink\">\n",
       "<g id=\"graph0\" class=\"graph\" transform=\"scale(1 1) rotate(0) translate(4 1120)\">\n",
       "<title>subquiver</title>\n",
       "<polygon fill=\"white\" stroke=\"transparent\" points=\"-4,4 -4,-1120 516.71,-1120 516.71,4 -4,4\"/>\n",
       "<!-- 0 -->\n",
       "<g id=\"node1\" class=\"node\">\n",
       "<title>0</title>\n",
       "<ellipse fill=\"none\" stroke=\"#c1cdcd\" cx=\"10.61\" cy=\"-610\" rx=\"10.71\" ry=\"10.71\"/>\n",
       "<text text-anchor=\"middle\" x=\"10.61\" y=\"-606.9\" font-family=\"DejaVu Serif,serif\" font-size=\"12.00\" fill=\"#c1cdcd\">0</text>\n",
       "</g>\n",
       "<!-- 0&#45;&gt;0 -->\n",
       "<g id=\"edge1\" class=\"edge\">\n",
       "<title>0&#45;&gt;0</title>\n",
       "<path fill=\"none\" stroke=\"#c1cdcd\" d=\"M5.54,-619.38C2.74,-628.54 4.43,-638.61 10.61,-638.61 15.62,-638.61 17.68,-631.96 16.77,-624.55\"/>\n",
       "<polygon fill=\"#c1cdcd\" stroke=\"#c1cdcd\" points=\"18.42,-623.9 15.67,-619.38 15,-624.63 18.42,-623.9\"/>\n",
       "<text text-anchor=\"middle\" x=\"10.61\" y=\"-641.61\" font-family=\"DejaVu Serif,serif\" font-size=\"10.00\" fill=\"#c1cdcd\">0</text>\n",
       "</g>\n",
       "<!-- 1 -->\n",
       "<g id=\"node2\" class=\"node\">\n",
       "<title>1</title>\n",
       "<ellipse fill=\"none\" stroke=\"black\" cx=\"80.82\" cy=\"-610\" rx=\"10.71\" ry=\"10.71\"/>\n",
       "<text text-anchor=\"middle\" x=\"80.82\" y=\"-606.9\" font-family=\"DejaVu Serif,serif\" font-size=\"12.00\">1</text>\n",
       "</g>\n",
       "<!-- 0&#45;&gt;1 -->\n",
       "<g id=\"edge2\" class=\"edge\">\n",
       "<title>0&#45;&gt;1</title>\n",
       "<path fill=\"none\" stroke=\"#c1cdcd\" d=\"M19.79,-603.71C25.03,-600.09 32.15,-595.9 39.21,-594 44.79,-592.5 46.63,-592.5 52.21,-594 57.51,-595.42 62.84,-598.14 67.38,-600.93\"/>\n",
       "<polygon fill=\"#c1cdcd\" stroke=\"#c1cdcd\" points=\"66.49,-602.44 71.63,-603.71 68.4,-599.51 66.49,-602.44\"/>\n",
       "<text text-anchor=\"middle\" x=\"45.71\" y=\"-597\" font-family=\"DejaVu Serif,serif\" font-size=\"10.00\" fill=\"#c1cdcd\">1</text>\n",
       "</g>\n",
       "<!-- 2 -->\n",
       "<g id=\"node3\" class=\"node\">\n",
       "<title>2</title>\n",
       "<ellipse fill=\"none\" stroke=\"black\" cx=\"502.1\" cy=\"-668\" rx=\"10.71\" ry=\"10.71\"/>\n",
       "<text text-anchor=\"middle\" x=\"502.1\" y=\"-664.9\" font-family=\"DejaVu Serif,serif\" font-size=\"12.00\">2</text>\n",
       "</g>\n",
       "<!-- 0&#45;&gt;2 -->\n",
       "<g id=\"edge33\" class=\"edge\">\n",
       "<title>0&#45;&gt;2</title>\n",
       "<path fill=\"none\" stroke=\"#c1cdcd\" d=\"M11.58,-620.65C11.52,-678.9 12.64,-959.36 39.21,-1041 49.64,-1073.03 46.13,-1105 79.82,-1105 79.82,-1105 79.82,-1105 432.89,-1105 465.09,-1105 462.94,-1075.42 473.49,-1045 497.2,-976.69 500.55,-746.67 501.02,-683.92\"/>\n",
       "<polygon fill=\"#c1cdcd\" stroke=\"#c1cdcd\" points=\"502.77,-683.72 501.06,-678.71 499.27,-683.7 502.77,-683.72\"/>\n",
       "<text text-anchor=\"middle\" x=\"256.35\" y=\"-1108\" font-family=\"DejaVu Serif,serif\" font-size=\"10.00\" fill=\"#c1cdcd\">32</text>\n",
       "</g>\n",
       "<!-- 3 -->\n",
       "<g id=\"node4\" class=\"node\">\n",
       "<title>3</title>\n",
       "<ellipse fill=\"none\" stroke=\"#c1cdcd\" cx=\"431.89\" cy=\"-404\" rx=\"10.71\" ry=\"10.71\"/>\n",
       "<text text-anchor=\"middle\" x=\"431.89\" y=\"-400.9\" font-family=\"DejaVu Serif,serif\" font-size=\"12.00\" fill=\"#c1cdcd\">3</text>\n",
       "</g>\n",
       "<!-- 0&#45;&gt;3 -->\n",
       "<g id=\"edge34\" class=\"edge\">\n",
       "<title>0&#45;&gt;3</title>\n",
       "<path fill=\"none\" stroke=\"#c1cdcd\" d=\"M11.74,-599.26C12.85,-521.42 21.98,-47 79.82,-47 79.82,-47 79.82,-47 362.67,-47 433.1,-47 432.57,-318.44 431.28,-387.94\"/>\n",
       "<polygon fill=\"#c1cdcd\" stroke=\"#c1cdcd\" points=\"429.52,-388.28 431.17,-393.32 433.02,-388.35 429.52,-388.28\"/>\n",
       "<text text-anchor=\"middle\" x=\"221.25\" y=\"-50\" font-family=\"DejaVu Serif,serif\" font-size=\"10.00\" fill=\"#c1cdcd\">33</text>\n",
       "</g>\n",
       "<!-- 4 -->\n",
       "<g id=\"node5\" class=\"node\">\n",
       "<title>4</title>\n",
       "<ellipse fill=\"none\" stroke=\"black\" cx=\"361.67\" cy=\"-653\" rx=\"10.71\" ry=\"10.71\"/>\n",
       "<text text-anchor=\"middle\" x=\"361.67\" y=\"-649.9\" font-family=\"DejaVu Serif,serif\" font-size=\"12.00\">4</text>\n",
       "</g>\n",
       "<!-- 0&#45;&gt;4 -->\n",
       "<g id=\"edge9\" class=\"edge\">\n",
       "<title>0&#45;&gt;4</title>\n",
       "<path fill=\"none\" stroke=\"#c1cdcd\" d=\"M11.3,-620.8C9.85,-680.87 6.63,-971 79.82,-971 79.82,-971 79.82,-971 187.14,-971 243.02,-971 266.73,-963.29 302.07,-920 318.31,-900.1 349.01,-722.8 358.09,-668.64\"/>\n",
       "<polygon fill=\"#c1cdcd\" stroke=\"#c1cdcd\" points=\"359.84,-668.73 358.94,-663.51 356.39,-668.15 359.84,-668.73\"/>\n",
       "<text text-anchor=\"middle\" x=\"186.14\" y=\"-974\" font-family=\"DejaVu Serif,serif\" font-size=\"10.00\" fill=\"#c1cdcd\">8</text>\n",
       "</g>\n",
       "<!-- 5 -->\n",
       "<g id=\"node6\" class=\"node\">\n",
       "<title>5</title>\n",
       "<ellipse fill=\"none\" stroke=\"#c1cdcd\" cx=\"291.46\" cy=\"-425\" rx=\"10.71\" ry=\"10.71\"/>\n",
       "<text text-anchor=\"middle\" x=\"291.46\" y=\"-421.9\" font-family=\"DejaVu Serif,serif\" font-size=\"12.00\" fill=\"#c1cdcd\">5</text>\n",
       "</g>\n",
       "<!-- 0&#45;&gt;5 -->\n",
       "<g id=\"edge10\" class=\"edge\">\n",
       "<title>0&#45;&gt;5</title>\n",
       "<path fill=\"none\" stroke=\"#c1cdcd\" d=\"M11.57,-599.34C11.66,-562.39 13.9,-440.51 39.21,-413 102.14,-344.63 234.06,-398.21 276.79,-418.25\"/>\n",
       "<polygon fill=\"#c1cdcd\" stroke=\"#c1cdcd\" points=\"276.05,-419.84 281.32,-420.41 277.56,-416.68 276.05,-419.84\"/>\n",
       "<text text-anchor=\"middle\" x=\"151.03\" y=\"-385\" font-family=\"DejaVu Serif,serif\" font-size=\"10.00\" fill=\"#c1cdcd\">9</text>\n",
       "</g>\n",
       "<!-- 6 -->\n",
       "<g id=\"node7\" class=\"node\">\n",
       "<title>6</title>\n",
       "<ellipse fill=\"none\" stroke=\"#c1cdcd\" cx=\"221.25\" cy=\"-640\" rx=\"10.71\" ry=\"10.71\"/>\n",
       "<text text-anchor=\"middle\" x=\"221.25\" y=\"-636.9\" font-family=\"DejaVu Serif,serif\" font-size=\"12.00\" fill=\"#c1cdcd\">6</text>\n",
       "</g>\n",
       "<!-- 0&#45;&gt;6 -->\n",
       "<g id=\"edge41\" class=\"edge\">\n",
       "<title>0&#45;&gt;6</title>\n",
       "<path fill=\"none\" stroke=\"#c1cdcd\" d=\"M15.58,-619.51C20.16,-629.66 28.47,-645.8 39.21,-657 63.21,-682.02 75.26,-685.08 109.43,-691 146.13,-697.36 162.88,-703.4 192.64,-681 201.9,-674.03 209.07,-663.01 213.78,-654.15\"/>\n",
       "<polygon fill=\"#c1cdcd\" stroke=\"#c1cdcd\" points=\"215.44,-654.74 216.14,-649.49 212.32,-653.16 215.44,-654.74\"/>\n",
       "<text text-anchor=\"middle\" x=\"115.93\" y=\"-696\" font-family=\"DejaVu Serif,serif\" font-size=\"10.00\" fill=\"#c1cdcd\">40</text>\n",
       "</g>\n",
       "<!-- 7 -->\n",
       "<g id=\"node8\" class=\"node\">\n",
       "<title>7</title>\n",
       "<ellipse fill=\"none\" stroke=\"#c1cdcd\" cx=\"151.03\" cy=\"-445\" rx=\"10.71\" ry=\"10.71\"/>\n",
       "<text text-anchor=\"middle\" x=\"151.03\" y=\"-441.9\" font-family=\"DejaVu Serif,serif\" font-size=\"12.00\" fill=\"#c1cdcd\">7</text>\n",
       "</g>\n",
       "<!-- 0&#45;&gt;7 -->\n",
       "<g id=\"edge42\" class=\"edge\">\n",
       "<title>0&#45;&gt;7</title>\n",
       "<path fill=\"none\" stroke=\"#c1cdcd\" d=\"M15.52,-600.15C26.44,-573.89 59.72,-501.41 109.43,-461 117.02,-454.83 127.29,-450.81 135.6,-448.34\"/>\n",
       "<polygon fill=\"#c1cdcd\" stroke=\"#c1cdcd\" points=\"136.13,-450.01 140.48,-447 135.2,-446.64 136.13,-450.01\"/>\n",
       "<text text-anchor=\"middle\" x=\"80.82\" y=\"-506\" font-family=\"DejaVu Serif,serif\" font-size=\"10.00\" fill=\"#c1cdcd\">41</text>\n",
       "</g>\n",
       "<!-- 1&#45;&gt;0 -->\n",
       "<g id=\"edge17\" class=\"edge\">\n",
       "<title>1&#45;&gt;0</title>\n",
       "<path fill=\"none\" stroke=\"#c1cdcd\" d=\"M70.06,-610C58.73,-610 39.88,-610 26.66,-610\"/>\n",
       "<polygon fill=\"#c1cdcd\" stroke=\"#c1cdcd\" points=\"26.38,-608.25 21.38,-610 26.38,-611.75 26.38,-608.25\"/>\n",
       "<text text-anchor=\"middle\" x=\"45.71\" y=\"-613\" font-family=\"DejaVu Serif,serif\" font-size=\"10.00\" fill=\"#c1cdcd\">16</text>\n",
       "</g>\n",
       "<!-- 1&#45;&gt;1 -->\n",
       "<g id=\"edge18\" class=\"edge\">\n",
       "<title>1&#45;&gt;1</title>\n",
       "<path fill=\"none\" stroke=\"#c1cdcd\" d=\"M75.75,-619.38C72.96,-628.54 74.64,-638.61 80.82,-638.61 85.84,-638.61 87.89,-631.96 86.99,-624.55\"/>\n",
       "<polygon fill=\"#c1cdcd\" stroke=\"#c1cdcd\" points=\"88.64,-623.9 85.89,-619.38 85.21,-624.63 88.64,-623.9\"/>\n",
       "<text text-anchor=\"middle\" x=\"80.82\" y=\"-641.61\" font-family=\"DejaVu Serif,serif\" font-size=\"10.00\" fill=\"#c1cdcd\">17</text>\n",
       "</g>\n",
       "<!-- 1&#45;&gt;2 -->\n",
       "<g id=\"edge49\" class=\"edge\">\n",
       "<title>1&#45;&gt;2</title>\n",
       "<path fill=\"none\" stroke=\"black\" d=\"M83.28,-620.54C86.44,-641.77 94.8,-690.96 109.43,-730 155.02,-851.69 317.23,-1028 325.57,-1028 325.57,-1028 325.57,-1028 432.89,-1028 503.88,-1028 502.93,-754.28 501.52,-684.19\"/>\n",
       "<polygon fill=\"black\" stroke=\"black\" points=\"503.26,-683.73 501.4,-678.77 499.76,-683.81 503.26,-683.73\"/>\n",
       "<text text-anchor=\"middle\" x=\"291.46\" y=\"-1009\" font-family=\"DejaVu Serif,serif\" font-size=\"10.00\">48</text>\n",
       "</g>\n",
       "<!-- 1&#45;&gt;3 -->\n",
       "<g id=\"edge50\" class=\"edge\">\n",
       "<title>1&#45;&gt;3</title>\n",
       "<path fill=\"none\" stroke=\"#c1cdcd\" d=\"M83.37,-599.44C87.06,-574.94 96.97,-512.39 109.43,-461 142.78,-323.38 122.09,-236.07 249.85,-175 268,-166.33 268.17,-132.96 333.07,-177 370.85,-202.64 413.41,-342.5 426.7,-388.98\"/>\n",
       "<polygon fill=\"#c1cdcd\" stroke=\"#c1cdcd\" points=\"425.05,-389.59 428.1,-393.92 428.42,-388.64 425.05,-389.59\"/>\n",
       "<text text-anchor=\"middle\" x=\"256.35\" y=\"-178\" font-family=\"DejaVu Serif,serif\" font-size=\"10.00\" fill=\"#c1cdcd\">49</text>\n",
       "</g>\n",
       "<!-- 1&#45;&gt;4 -->\n",
       "<g id=\"edge25\" class=\"edge\">\n",
       "<title>1&#45;&gt;4</title>\n",
       "<path fill=\"none\" stroke=\"#c1cdcd\" d=\"M85.07,-619.87C89.65,-633.24 98.66,-657.65 109.43,-677 149.2,-748.49 168.57,-786.79 249.85,-796 273.18,-798.64 282.05,-800.28 302.07,-788 320.94,-776.42 322.92,-768.68 333.07,-749 346.79,-722.37 354.56,-687.96 358.17,-668.4\"/>\n",
       "<polygon fill=\"#c1cdcd\" stroke=\"#c1cdcd\" points=\"359.92,-668.53 359.07,-663.3 356.48,-667.91 359.92,-668.53\"/>\n",
       "<text text-anchor=\"middle\" x=\"221.25\" y=\"-796\" font-family=\"DejaVu Serif,serif\" font-size=\"10.00\" fill=\"#c1cdcd\">24</text>\n",
       "</g>\n",
       "<!-- 1&#45;&gt;5 -->\n",
       "<g id=\"edge26\" class=\"edge\">\n",
       "<title>1&#45;&gt;5</title>\n",
       "<path fill=\"none\" stroke=\"#c1cdcd\" d=\"M89.74,-603.91C115.63,-583.87 199.71,-517.73 262.85,-456 269.05,-449.94 275.52,-442.74 280.63,-436.8\"/>\n",
       "<polygon fill=\"#c1cdcd\" stroke=\"#c1cdcd\" points=\"282.03,-437.86 283.94,-432.92 279.36,-435.59 282.03,-437.86\"/>\n",
       "<text text-anchor=\"middle\" x=\"186.14\" y=\"-533\" font-family=\"DejaVu Serif,serif\" font-size=\"10.00\" fill=\"#c1cdcd\">25</text>\n",
       "</g>\n",
       "<!-- 1&#45;&gt;6 -->\n",
       "<g id=\"edge57\" class=\"edge\">\n",
       "<title>1&#45;&gt;6</title>\n",
       "<path fill=\"none\" stroke=\"#c1cdcd\" d=\"M88.44,-617.67C93.67,-623.35 101.41,-630.94 109.43,-636 121.93,-643.88 126.02,-644.73 140.43,-648 163.1,-653.14 169.81,-655.38 192.64,-651 197.3,-650.11 202.18,-648.43 206.51,-646.66\"/>\n",
       "<polygon fill=\"#c1cdcd\" stroke=\"#c1cdcd\" points=\"207.42,-648.17 211.31,-644.57 206.02,-644.96 207.42,-648.17\"/>\n",
       "<text text-anchor=\"middle\" x=\"151.03\" y=\"-655\" font-family=\"DejaVu Serif,serif\" font-size=\"10.00\" fill=\"#c1cdcd\">56</text>\n",
       "</g>\n",
       "<!-- 1&#45;&gt;7 -->\n",
       "<g id=\"edge58\" class=\"edge\">\n",
       "<title>1&#45;&gt;7</title>\n",
       "<path fill=\"none\" stroke=\"#c1cdcd\" d=\"M83.81,-599.79C87.51,-581.77 96.3,-543.38 109.43,-513 111.88,-507.33 130.91,-476.09 142.03,-457.99\"/>\n",
       "<polygon fill=\"#c1cdcd\" stroke=\"#c1cdcd\" points=\"143.54,-458.87 144.67,-453.69 140.56,-457.04 143.54,-458.87\"/>\n",
       "<text text-anchor=\"middle\" x=\"115.93\" y=\"-516\" font-family=\"DejaVu Serif,serif\" font-size=\"10.00\" fill=\"#c1cdcd\">57</text>\n",
       "</g>\n",
       "<!-- 2&#45;&gt;0 -->\n",
       "<g id=\"edge3\" class=\"edge\">\n",
       "<title>2&#45;&gt;0</title>\n",
       "<path fill=\"none\" stroke=\"#c1cdcd\" d=\"M501.04,-678.83C500.63,-730.21 497.5,-949.65 473.49,-1013 462.85,-1041.08 462.91,-1067 432.89,-1067 79.82,-1067 79.82,-1067 79.82,-1067 47.25,-1067 49.72,-1036.83 39.21,-1006 14.62,-933.83 11.92,-690.56 11.63,-625.89\"/>\n",
       "<polygon fill=\"#c1cdcd\" stroke=\"#c1cdcd\" points=\"13.38,-625.87 11.62,-620.87 9.88,-625.88 13.38,-625.87\"/>\n",
       "<text text-anchor=\"middle\" x=\"256.35\" y=\"-1070\" font-family=\"DejaVu Serif,serif\" font-size=\"10.00\" fill=\"#c1cdcd\">2</text>\n",
       "</g>\n",
       "<!-- 2&#45;&gt;1 -->\n",
       "<g id=\"edge4\" class=\"edge\">\n",
       "<title>2&#45;&gt;1</title>\n",
       "<path fill=\"none\" stroke=\"#c1cdcd\" d=\"M501.2,-678.77C500.85,-700.26 497.29,-749.04 473.49,-780 401.89,-873.14 323.27,-841.43 210.64,-808 148.19,-789.47 134.94,-761.94 109.43,-702 98.36,-676 89.85,-644.1 85.36,-625.52\"/>\n",
       "<polygon fill=\"#c1cdcd\" stroke=\"#c1cdcd\" points=\"86.95,-624.66 84.09,-620.19 83.55,-625.46 86.95,-624.66\"/>\n",
       "<text text-anchor=\"middle\" x=\"291.46\" y=\"-836\" font-family=\"DejaVu Serif,serif\" font-size=\"10.00\" fill=\"#c1cdcd\">3</text>\n",
       "</g>\n",
       "<!-- 2&#45;&gt;2 -->\n",
       "<g id=\"edge35\" class=\"edge\">\n",
       "<title>2&#45;&gt;2</title>\n",
       "<path fill=\"none\" stroke=\"#c1cdcd\" d=\"M497.03,-677.38C494.23,-686.54 495.92,-696.61 502.1,-696.61 507.12,-696.61 509.17,-689.96 508.27,-682.55\"/>\n",
       "<polygon fill=\"#c1cdcd\" stroke=\"#c1cdcd\" points=\"509.92,-681.9 507.17,-677.38 506.49,-682.63 509.92,-681.9\"/>\n",
       "<text text-anchor=\"middle\" x=\"502.1\" y=\"-699.61\" font-family=\"DejaVu Serif,serif\" font-size=\"10.00\" fill=\"#c1cdcd\">34</text>\n",
       "</g>\n",
       "<!-- 2&#45;&gt;3 -->\n",
       "<g id=\"edge36\" class=\"edge\">\n",
       "<title>2&#45;&gt;3</title>\n",
       "<path fill=\"none\" stroke=\"#c1cdcd\" d=\"M500.74,-657.23C499.52,-628.22 494.34,-546.28 473.49,-482 465.64,-457.78 450.79,-432.02 441.39,-417\"/>\n",
       "<polygon fill=\"#c1cdcd\" stroke=\"#c1cdcd\" points=\"442.81,-415.98 438.66,-412.7 439.86,-417.86 442.81,-415.98\"/>\n",
       "<text text-anchor=\"middle\" x=\"466.99\" y=\"-485\" font-family=\"DejaVu Serif,serif\" font-size=\"10.00\" fill=\"#c1cdcd\">35</text>\n",
       "</g>\n",
       "<!-- 2&#45;&gt;4 -->\n",
       "<g id=\"edge11\" class=\"edge\">\n",
       "<title>2&#45;&gt;4</title>\n",
       "<path fill=\"none\" stroke=\"#c1cdcd\" d=\"M491.59,-666.31C480.02,-664.3 459.88,-660.99 442.49,-659 419.79,-656.41 393.33,-654.67 377.29,-653.76\"/>\n",
       "<polygon fill=\"#c1cdcd\" stroke=\"#c1cdcd\" points=\"377.37,-652.01 372.28,-653.48 377.17,-655.51 377.37,-652.01\"/>\n",
       "<text text-anchor=\"middle\" x=\"431.89\" y=\"-662\" font-family=\"DejaVu Serif,serif\" font-size=\"10.00\" fill=\"#c1cdcd\">10</text>\n",
       "</g>\n",
       "<!-- 2&#45;&gt;5 -->\n",
       "<g id=\"edge12\" class=\"edge\">\n",
       "<title>2&#45;&gt;5</title>\n",
       "<path fill=\"none\" stroke=\"#c1cdcd\" d=\"M500.92,-657.33C500.14,-625.27 495.93,-527.3 473.49,-450 464.46,-418.88 457.4,-412.78 442.49,-384 426.27,-352.68 433.77,-332.74 403.28,-315 355.27,-287.06 313.11,-374.33 298.2,-410.27\"/>\n",
       "<polygon fill=\"#c1cdcd\" stroke=\"#c1cdcd\" points=\"296.47,-409.89 296.2,-415.18 299.71,-411.21 296.47,-409.89\"/>\n",
       "<text text-anchor=\"middle\" x=\"396.78\" y=\"-318\" font-family=\"DejaVu Serif,serif\" font-size=\"10.00\" fill=\"#c1cdcd\">11</text>\n",
       "</g>\n",
       "<!-- 2&#45;&gt;6 -->\n",
       "<g id=\"edge43\" class=\"edge\">\n",
       "<title>2&#45;&gt;6</title>\n",
       "<path fill=\"none\" stroke=\"#c1cdcd\" d=\"M494.1,-675.4C488.91,-680.39 481.39,-686.66 473.49,-690 241.42,-788.16 259.19,-723.57 249.85,-717 230.28,-703.22 224.51,-674.2 222.86,-655.99\"/>\n",
       "<polygon fill=\"#c1cdcd\" stroke=\"#c1cdcd\" points=\"224.58,-655.57 222.46,-650.71 221.09,-655.83 224.58,-655.57\"/>\n",
       "<text text-anchor=\"middle\" x=\"361.67\" y=\"-736\" font-family=\"DejaVu Serif,serif\" font-size=\"10.00\" fill=\"#c1cdcd\">42</text>\n",
       "</g>\n",
       "<!-- 2&#45;&gt;7 -->\n",
       "<g id=\"edge44\" class=\"edge\">\n",
       "<title>2&#45;&gt;7</title>\n",
       "<path fill=\"none\" stroke=\"#c1cdcd\" d=\"M500.9,-657.45C499.57,-590.02 491.5,-220.57 473.49,-174 463.17,-147.3 461.51,-124 432.89,-124 325.57,-124 325.57,-124 325.57,-124 236.3,-124 211.92,-178.78 179.64,-262 157.75,-318.43 171.58,-337.29 161.64,-397 159.8,-408.03 157.31,-420.41 155.33,-429.83\"/>\n",
       "<polygon fill=\"#c1cdcd\" stroke=\"#c1cdcd\" points=\"153.62,-429.48 154.29,-434.74 157.04,-430.21 153.62,-429.48\"/>\n",
       "<text text-anchor=\"middle\" x=\"326.57\" y=\"-128\" font-family=\"DejaVu Serif,serif\" font-size=\"10.00\" fill=\"#c1cdcd\">43</text>\n",
       "</g>\n",
       "<!-- 3&#45;&gt;0 -->\n",
       "<g id=\"edge19\" class=\"edge\">\n",
       "<title>3&#45;&gt;0</title>\n",
       "<path fill=\"none\" stroke=\"#c1cdcd\" d=\"M430.59,-393.21C428.94,-335.6 420.36,-65.7 403.28,-33 392.51,-12.39 385.93,0 362.67,0 79.82,0 79.82,0 79.82,0 56.56,0 49.71,-12.25 39.21,-33 13.29,-84.28 11.66,-506.26 11.6,-594.04\"/>\n",
       "<polygon fill=\"#c1cdcd\" stroke=\"#c1cdcd\" points=\"9.85,-594.11 11.6,-599.11 13.35,-594.11 9.85,-594.11\"/>\n",
       "<text text-anchor=\"middle\" x=\"221.25\" y=\"-3\" font-family=\"DejaVu Serif,serif\" font-size=\"10.00\" fill=\"#c1cdcd\">18</text>\n",
       "</g>\n",
       "<!-- 3&#45;&gt;1 -->\n",
       "<g id=\"edge20\" class=\"edge\">\n",
       "<title>3&#45;&gt;1</title>\n",
       "<path fill=\"none\" stroke=\"#c1cdcd\" d=\"M429.82,-393.42C424,-338.24 393.74,-86 327.57,-86 185.14,-86 185.14,-86 185.14,-86 162.59,-86 154.08,-92.05 140.43,-110 85.14,-182.68 99.2,-427.01 91.43,-518 89.14,-544.83 85.73,-575.97 83.64,-594.28\"/>\n",
       "<polygon fill=\"#c1cdcd\" stroke=\"#c1cdcd\" points=\"81.87,-594.36 83.04,-599.53 85.35,-594.76 81.87,-594.36\"/>\n",
       "<text text-anchor=\"middle\" x=\"256.35\" y=\"-89\" font-family=\"DejaVu Serif,serif\" font-size=\"10.00\" fill=\"#c1cdcd\">19</text>\n",
       "</g>\n",
       "<!-- 3&#45;&gt;2 -->\n",
       "<g id=\"edge51\" class=\"edge\">\n",
       "<title>3&#45;&gt;2</title>\n",
       "<path fill=\"none\" stroke=\"#c1cdcd\" d=\"M435.77,-413.95C442.61,-437.62 460.23,-499.19 473.49,-551 482.79,-587.31 492.63,-630.26 497.67,-652.66\"/>\n",
       "<polygon fill=\"#c1cdcd\" stroke=\"#c1cdcd\" points=\"495.99,-653.14 498.79,-657.64 499.4,-652.38 495.99,-653.14\"/>\n",
       "<text text-anchor=\"middle\" x=\"466.99\" y=\"-554\" font-family=\"DejaVu Serif,serif\" font-size=\"10.00\" fill=\"#c1cdcd\">50</text>\n",
       "</g>\n",
       "<!-- 3&#45;&gt;3 -->\n",
       "<g id=\"edge52\" class=\"edge\">\n",
       "<title>3&#45;&gt;3</title>\n",
       "<path fill=\"none\" stroke=\"#c1cdcd\" d=\"M426.82,-413.38C424.02,-422.54 425.71,-432.61 431.89,-432.61 436.9,-432.61 438.96,-425.96 438.05,-418.55\"/>\n",
       "<polygon fill=\"#c1cdcd\" stroke=\"#c1cdcd\" points=\"439.7,-417.9 436.95,-413.38 436.28,-418.63 439.7,-417.9\"/>\n",
       "<text text-anchor=\"middle\" x=\"431.89\" y=\"-435.61\" font-family=\"DejaVu Serif,serif\" font-size=\"10.00\" fill=\"#c1cdcd\">51</text>\n",
       "</g>\n",
       "<!-- 3&#45;&gt;4 -->\n",
       "<g id=\"edge27\" class=\"edge\">\n",
       "<title>3&#45;&gt;4</title>\n",
       "<path fill=\"none\" stroke=\"#c1cdcd\" d=\"M429.39,-414.54C426.24,-435.28 417.95,-482.62 403.28,-520 398.99,-530.93 394.64,-532.1 390.28,-543 377.28,-575.53 369.01,-615.98 365.18,-637.62\"/>\n",
       "<polygon fill=\"#c1cdcd\" stroke=\"#c1cdcd\" points=\"363.43,-637.48 364.3,-642.7 366.88,-638.08 363.43,-637.48\"/>\n",
       "<text text-anchor=\"middle\" x=\"396.78\" y=\"-546\" font-family=\"DejaVu Serif,serif\" font-size=\"10.00\" fill=\"#c1cdcd\">26</text>\n",
       "</g>\n",
       "<!-- 3&#45;&gt;5 -->\n",
       "<g id=\"edge28\" class=\"edge\">\n",
       "<title>3&#45;&gt;5</title>\n",
       "<path fill=\"none\" stroke=\"#c1cdcd\" d=\"M421.2,-402.12C401.3,-398.73 354.79,-393.23 320.07,-408 314.94,-410.18 309.65,-413.22 305.09,-416.12\"/>\n",
       "<polygon fill=\"#c1cdcd\" stroke=\"#c1cdcd\" points=\"304.02,-414.73 300.8,-418.95 305.94,-417.66 304.02,-414.73\"/>\n",
       "<text text-anchor=\"middle\" x=\"361.67\" y=\"-403\" font-family=\"DejaVu Serif,serif\" font-size=\"10.00\" fill=\"#c1cdcd\">27</text>\n",
       "</g>\n",
       "<!-- 3&#45;&gt;6 -->\n",
       "<g id=\"edge59\" class=\"edge\">\n",
       "<title>3&#45;&gt;6</title>\n",
       "<path fill=\"none\" stroke=\"#c1cdcd\" d=\"M424.01,-411.31C418.65,-416.79 410.86,-424.31 403.28,-430 368.95,-455.76 349.78,-448.03 320.07,-479 282.73,-517.91 291.86,-540.54 262.85,-586 253.16,-601.19 240.48,-617.59 231.89,-628.28\"/>\n",
       "<polygon fill=\"#c1cdcd\" stroke=\"#c1cdcd\" points=\"230.48,-627.24 228.7,-632.22 233.2,-629.44 230.48,-627.24\"/>\n",
       "<text text-anchor=\"middle\" x=\"326.57\" y=\"-482\" font-family=\"DejaVu Serif,serif\" font-size=\"10.00\" fill=\"#c1cdcd\">58</text>\n",
       "</g>\n",
       "<!-- 3&#45;&gt;7 -->\n",
       "<g id=\"edge60\" class=\"edge\">\n",
       "<title>3&#45;&gt;7</title>\n",
       "<path fill=\"none\" stroke=\"#c1cdcd\" d=\"M422.48,-398.87C417.15,-395.85 410.02,-392.2 403.28,-390 351.2,-373.05 335.04,-368.07 280.85,-376 233.76,-382.89 217.34,-381.95 179.64,-411 172.2,-416.73 165.51,-424.85 160.59,-431.71\"/>\n",
       "<polygon fill=\"#c1cdcd\" stroke=\"#c1cdcd\" points=\"158.87,-431.11 157.47,-436.22 161.75,-433.1 158.87,-431.11\"/>\n",
       "<text text-anchor=\"middle\" x=\"291.46\" y=\"-379\" font-family=\"DejaVu Serif,serif\" font-size=\"10.00\" fill=\"#c1cdcd\">59</text>\n",
       "</g>\n",
       "<!-- 4&#45;&gt;0 -->\n",
       "<g id=\"edge5\" class=\"edge\">\n",
       "<title>4&#45;&gt;0</title>\n",
       "<path fill=\"none\" stroke=\"#c1cdcd\" d=\"M359.06,-663.56C356.98,-677.41 353.37,-702.48 351.07,-724 348.37,-749.16 347.83,-930.45 333.07,-951 292.34,-1007.68 256.93,-1009 187.14,-1009 79.82,-1009 79.82,-1009 79.82,-1009 58.86,-1009 50.26,-1002.81 39.21,-985 20.05,-954.11 13.33,-693.09 11.91,-625.78\"/>\n",
       "<polygon fill=\"#c1cdcd\" stroke=\"#c1cdcd\" points=\"13.66,-625.54 11.81,-620.57 10.16,-625.61 13.66,-625.54\"/>\n",
       "<text text-anchor=\"middle\" x=\"186.14\" y=\"-1012\" font-family=\"DejaVu Serif,serif\" font-size=\"10.00\" fill=\"#c1cdcd\">4</text>\n",
       "</g>\n",
       "<!-- 4&#45;&gt;1 -->\n",
       "<g id=\"edge6\" class=\"edge\">\n",
       "<title>4&#45;&gt;1</title>\n",
       "<path fill=\"none\" stroke=\"#c1cdcd\" d=\"M357.74,-663.08C347.25,-697.04 309.06,-803.93 249.85,-781 169.95,-750.05 109.89,-658.29 89.43,-623.54\"/>\n",
       "<polygon fill=\"#c1cdcd\" stroke=\"#c1cdcd\" points=\"90.73,-622.29 86.7,-618.84 87.7,-624.04 90.73,-622.29\"/>\n",
       "<text text-anchor=\"middle\" x=\"221.25\" y=\"-775\" font-family=\"DejaVu Serif,serif\" font-size=\"10.00\" fill=\"#c1cdcd\">5</text>\n",
       "</g>\n",
       "<!-- 4&#45;&gt;2 -->\n",
       "<g id=\"edge37\" class=\"edge\">\n",
       "<title>4&#45;&gt;2</title>\n",
       "<path fill=\"none\" stroke=\"#c1cdcd\" d=\"M371,-658.62C376.29,-661.91 383.41,-665.83 390.28,-668 425.71,-679.18 436.71,-681.22 473.49,-676 477.87,-675.38 482.52,-674.23 486.74,-672.99\"/>\n",
       "<polygon fill=\"#c1cdcd\" stroke=\"#c1cdcd\" points=\"487.54,-674.57 491.79,-671.41 486.49,-671.23 487.54,-674.57\"/>\n",
       "<text text-anchor=\"middle\" x=\"431.89\" y=\"-681\" font-family=\"DejaVu Serif,serif\" font-size=\"10.00\" fill=\"#c1cdcd\">36</text>\n",
       "</g>\n",
       "<!-- 4&#45;&gt;3 -->\n",
       "<g id=\"edge38\" class=\"edge\">\n",
       "<title>4&#45;&gt;3</title>\n",
       "<path fill=\"none\" stroke=\"#c1cdcd\" d=\"M369.42,-645.2C378.69,-634.02 395.14,-612.41 403.28,-591 426.09,-530.97 430.16,-453.45 430.81,-420.26\"/>\n",
       "<polygon fill=\"#c1cdcd\" stroke=\"#c1cdcd\" points=\"432.56,-419.98 430.89,-414.95 429.06,-419.92 432.56,-419.98\"/>\n",
       "<text text-anchor=\"middle\" x=\"396.78\" y=\"-620\" font-family=\"DejaVu Serif,serif\" font-size=\"10.00\" fill=\"#c1cdcd\">37</text>\n",
       "</g>\n",
       "<!-- 4&#45;&gt;4 -->\n",
       "<g id=\"edge13\" class=\"edge\">\n",
       "<title>4&#45;&gt;4</title>\n",
       "<path fill=\"none\" stroke=\"#c1cdcd\" d=\"M356.61,-662.38C353.81,-671.54 355.5,-681.61 361.67,-681.61 366.69,-681.61 368.75,-674.96 367.84,-667.55\"/>\n",
       "<polygon fill=\"#c1cdcd\" stroke=\"#c1cdcd\" points=\"369.49,-666.9 366.74,-662.38 366.07,-667.63 369.49,-666.9\"/>\n",
       "<text text-anchor=\"middle\" x=\"361.67\" y=\"-684.61\" font-family=\"DejaVu Serif,serif\" font-size=\"10.00\" fill=\"#c1cdcd\">12</text>\n",
       "</g>\n",
       "<!-- 4&#45;&gt;5 -->\n",
       "<g id=\"edge14\" class=\"edge\">\n",
       "<title>4&#45;&gt;5</title>\n",
       "<path fill=\"none\" stroke=\"#c1cdcd\" d=\"M359.7,-642.3C357.29,-618.68 350.01,-560.57 333.07,-515 328.97,-503.99 325.2,-502.56 320.07,-492 311.44,-474.27 303.03,-453.13 297.8,-439.41\"/>\n",
       "<polygon fill=\"#c1cdcd\" stroke=\"#c1cdcd\" points=\"299.43,-438.76 296.03,-434.71 296.16,-440 299.43,-438.76\"/>\n",
       "<text text-anchor=\"middle\" x=\"326.57\" y=\"-518\" font-family=\"DejaVu Serif,serif\" font-size=\"10.00\" fill=\"#c1cdcd\">13</text>\n",
       "</g>\n",
       "<!-- 4&#45;&gt;6 -->\n",
       "<g id=\"edge45\" class=\"edge\">\n",
       "<title>4&#45;&gt;6</title>\n",
       "<path fill=\"none\" stroke=\"#c1cdcd\" d=\"M350.81,-652.07C326.96,-649.83 266.03,-644.11 237.46,-641.43\"/>\n",
       "<polygon fill=\"#c1cdcd\" stroke=\"#c1cdcd\" points=\"237.34,-639.66 232.2,-640.93 237.02,-643.14 237.34,-639.66\"/>\n",
       "<text text-anchor=\"middle\" x=\"291.46\" y=\"-650\" font-family=\"DejaVu Serif,serif\" font-size=\"10.00\" fill=\"#c1cdcd\">44</text>\n",
       "</g>\n",
       "<!-- 4&#45;&gt;7 -->\n",
       "<g id=\"edge46\" class=\"edge\">\n",
       "<title>4&#45;&gt;7</title>\n",
       "<path fill=\"none\" stroke=\"#c1cdcd\" d=\"M353.7,-660.66C348.53,-665.84 341.01,-672.38 333.07,-676 283.27,-698.67 258.22,-716.03 210.64,-689 187.24,-675.71 188.62,-662.36 179.64,-637 157.55,-574.58 153.1,-494.78 152.23,-461.12\"/>\n",
       "<polygon fill=\"#c1cdcd\" stroke=\"#c1cdcd\" points=\"153.98,-460.71 152.12,-455.75 150.48,-460.79 153.98,-460.71\"/>\n",
       "<text text-anchor=\"middle\" x=\"256.35\" y=\"-705\" font-family=\"DejaVu Serif,serif\" font-size=\"10.00\" fill=\"#c1cdcd\">45</text>\n",
       "</g>\n",
       "<!-- 5&#45;&gt;0 -->\n",
       "<g id=\"edge21\" class=\"edge\">\n",
       "<title>5&#45;&gt;0</title>\n",
       "<path fill=\"none\" stroke=\"#c1cdcd\" d=\"M283.14,-418.24C277.8,-413.54 270.23,-407.37 262.85,-403 221.52,-378.5 208.99,-373.18 161.64,-365 106.11,-355.41 70.43,-351.08 39.21,-398 17.77,-430.23 12.94,-550.67 11.89,-594.19\"/>\n",
       "<polygon fill=\"#c1cdcd\" stroke=\"#c1cdcd\" points=\"10.14,-594.3 11.77,-599.34 13.64,-594.38 10.14,-594.3\"/>\n",
       "<text text-anchor=\"middle\" x=\"151.03\" y=\"-368\" font-family=\"DejaVu Serif,serif\" font-size=\"10.00\" fill=\"#c1cdcd\">20</text>\n",
       "</g>\n",
       "<!-- 5&#45;&gt;1 -->\n",
       "<g id=\"edge22\" class=\"edge\">\n",
       "<title>5&#45;&gt;1</title>\n",
       "<path fill=\"none\" stroke=\"#c1cdcd\" d=\"M281.32,-429.26C252.48,-443.1 162.21,-489.54 109.43,-552 98.59,-564.82 90.96,-582.61 86.5,-595.1\"/>\n",
       "<polygon fill=\"#c1cdcd\" stroke=\"#c1cdcd\" points=\"84.75,-594.8 84.79,-600.1 88.06,-595.93 84.75,-594.8\"/>\n",
       "<text text-anchor=\"middle\" x=\"186.14\" y=\"-492\" font-family=\"DejaVu Serif,serif\" font-size=\"10.00\" fill=\"#c1cdcd\">21</text>\n",
       "</g>\n",
       "<!-- 5&#45;&gt;2 -->\n",
       "<g id=\"edge53\" class=\"edge\">\n",
       "<title>5&#45;&gt;2</title>\n",
       "<path fill=\"none\" stroke=\"#c1cdcd\" d=\"M300.18,-431.42C308.77,-438.77 322.79,-451.44 333.07,-464 363.09,-500.68 360.89,-516.81 390.28,-554 423.01,-595.42 468.69,-638.58 489.7,-657.76\"/>\n",
       "<polygon fill=\"#c1cdcd\" stroke=\"#c1cdcd\" points=\"488.68,-659.2 493.56,-661.27 491.04,-656.61 488.68,-659.2\"/>\n",
       "<text text-anchor=\"middle\" x=\"396.78\" y=\"-573\" font-family=\"DejaVu Serif,serif\" font-size=\"10.00\" fill=\"#c1cdcd\">52</text>\n",
       "</g>\n",
       "<!-- 5&#45;&gt;3 -->\n",
       "<g id=\"edge54\" class=\"edge\">\n",
       "<title>5&#45;&gt;3</title>\n",
       "<path fill=\"none\" stroke=\"#c1cdcd\" d=\"M302.07,-424.85C321.46,-424.36 366.51,-422.35 403.28,-414 407.85,-412.96 412.7,-411.38 417.04,-409.78\"/>\n",
       "<polygon fill=\"#c1cdcd\" stroke=\"#c1cdcd\" points=\"417.82,-411.35 421.85,-407.92 416.56,-408.09 417.82,-411.35\"/>\n",
       "<text text-anchor=\"middle\" x=\"361.67\" y=\"-425\" font-family=\"DejaVu Serif,serif\" font-size=\"10.00\" fill=\"#c1cdcd\">53</text>\n",
       "</g>\n",
       "<!-- 5&#45;&gt;4 -->\n",
       "<g id=\"edge29\" class=\"edge\">\n",
       "<title>5&#45;&gt;4</title>\n",
       "<path fill=\"none\" stroke=\"#c1cdcd\" d=\"M293.47,-435.47C295.95,-458.57 303.38,-515.41 320.07,-560 324.18,-571 328.01,-572.4 333.07,-583 341.98,-601.69 350.44,-624.08 355.59,-638.41\"/>\n",
       "<polygon fill=\"#c1cdcd\" stroke=\"#c1cdcd\" points=\"354.01,-639.19 357.33,-643.31 357.31,-638.01 354.01,-639.19\"/>\n",
       "<text text-anchor=\"middle\" x=\"326.57\" y=\"-586\" font-family=\"DejaVu Serif,serif\" font-size=\"10.00\" fill=\"#c1cdcd\">28</text>\n",
       "</g>\n",
       "<!-- 5&#45;&gt;5 -->\n",
       "<g id=\"edge30\" class=\"edge\">\n",
       "<title>5&#45;&gt;5</title>\n",
       "<path fill=\"none\" stroke=\"#c1cdcd\" d=\"M286.39,-434.38C283.59,-443.54 285.28,-453.61 291.46,-453.61 296.48,-453.61 298.53,-446.96 297.63,-439.55\"/>\n",
       "<polygon fill=\"#c1cdcd\" stroke=\"#c1cdcd\" points=\"299.28,-438.9 296.53,-434.38 295.85,-439.63 299.28,-438.9\"/>\n",
       "<text text-anchor=\"middle\" x=\"291.46\" y=\"-456.61\" font-family=\"DejaVu Serif,serif\" font-size=\"10.00\" fill=\"#c1cdcd\">29</text>\n",
       "</g>\n",
       "<!-- 5&#45;&gt;6 -->\n",
       "<g id=\"edge61\" class=\"edge\">\n",
       "<title>5&#45;&gt;6</title>\n",
       "<path fill=\"none\" stroke=\"#c1cdcd\" d=\"M288.33,-435.36C284.53,-452.88 275.74,-489.26 262.85,-518 258.36,-528.02 254.23,-528.94 249.85,-539 237.2,-568.07 228.97,-604.41 225.02,-624.62\"/>\n",
       "<polygon fill=\"#c1cdcd\" stroke=\"#c1cdcd\" points=\"223.28,-624.4 224.06,-629.64 226.71,-625.05 223.28,-624.4\"/>\n",
       "<text text-anchor=\"middle\" x=\"256.35\" y=\"-542\" font-family=\"DejaVu Serif,serif\" font-size=\"10.00\" fill=\"#c1cdcd\">60</text>\n",
       "</g>\n",
       "<!-- 5&#45;&gt;7 -->\n",
       "<g id=\"edge62\" class=\"edge\">\n",
       "<title>5&#45;&gt;7</title>\n",
       "<path fill=\"none\" stroke=\"#c1cdcd\" d=\"M281.01,-422.59C265.95,-419.12 235.65,-413.7 210.64,-419 194.06,-422.51 176.47,-431.04 164.94,-437.38\"/>\n",
       "<polygon fill=\"#c1cdcd\" stroke=\"#c1cdcd\" points=\"163.89,-435.96 160.39,-439.94 165.6,-439.02 163.89,-435.96\"/>\n",
       "<text text-anchor=\"middle\" x=\"221.25\" y=\"-422\" font-family=\"DejaVu Serif,serif\" font-size=\"10.00\" fill=\"#c1cdcd\">61</text>\n",
       "</g>\n",
       "<!-- 6&#45;&gt;0 -->\n",
       "<g id=\"edge7\" class=\"edge\">\n",
       "<title>6&#45;&gt;0</title>\n",
       "<path fill=\"none\" stroke=\"#c1cdcd\" d=\"M213.94,-648.09C208.88,-653.92 201.22,-661.37 192.64,-665 142.47,-686.22 120.29,-680.46 70.21,-659 50.67,-650.62 32.62,-633.52 21.86,-621.91\"/>\n",
       "<polygon fill=\"#c1cdcd\" stroke=\"#c1cdcd\" points=\"22.89,-620.44 18.23,-617.91 20.29,-622.79 22.89,-620.44\"/>\n",
       "<text text-anchor=\"middle\" x=\"115.93\" y=\"-679\" font-family=\"DejaVu Serif,serif\" font-size=\"10.00\" fill=\"#c1cdcd\">6</text>\n",
       "</g>\n",
       "<!-- 6&#45;&gt;1 -->\n",
       "<g id=\"edge8\" class=\"edge\">\n",
       "<title>6&#45;&gt;1</title>\n",
       "<path fill=\"none\" stroke=\"#c1cdcd\" d=\"M210.5,-639.81C202.23,-639.53 190.09,-638.81 179.64,-637 149.33,-631.75 114.87,-621.1 96.01,-614.86\"/>\n",
       "<polygon fill=\"#c1cdcd\" stroke=\"#c1cdcd\" points=\"96.42,-613.15 91.12,-613.23 95.31,-616.47 96.42,-613.15\"/>\n",
       "<text text-anchor=\"middle\" x=\"151.03\" y=\"-636\" font-family=\"DejaVu Serif,serif\" font-size=\"10.00\" fill=\"#c1cdcd\">7</text>\n",
       "</g>\n",
       "<!-- 6&#45;&gt;2 -->\n",
       "<g id=\"edge39\" class=\"edge\">\n",
       "<title>6&#45;&gt;2</title>\n",
       "<path fill=\"none\" stroke=\"#c1cdcd\" d=\"M222.41,-650.75C223.56,-684 231.87,-783 290.46,-783 290.46,-783 290.46,-783 432.89,-783 478.53,-783 494.3,-715.16 499.16,-683.69\"/>\n",
       "<polygon fill=\"#c1cdcd\" stroke=\"#c1cdcd\" points=\"500.91,-683.81 499.9,-678.61 497.45,-683.31 500.91,-683.81\"/>\n",
       "<text text-anchor=\"middle\" x=\"361.67\" y=\"-786\" font-family=\"DejaVu Serif,serif\" font-size=\"10.00\" fill=\"#c1cdcd\">38</text>\n",
       "</g>\n",
       "<!-- 6&#45;&gt;3 -->\n",
       "<g id=\"edge40\" class=\"edge\">\n",
       "<title>6&#45;&gt;3</title>\n",
       "<path fill=\"none\" stroke=\"#c1cdcd\" d=\"M230.74,-634.73C239.25,-629.27 252.53,-620.25 262.85,-611 291.26,-585.54 291.81,-572.64 320.07,-547 354.02,-516.18 376.21,-523.01 403.28,-486 418.07,-465.78 425.3,-437.11 428.55,-419.58\"/>\n",
       "<polygon fill=\"#c1cdcd\" stroke=\"#c1cdcd\" points=\"430.3,-419.74 429.44,-414.52 426.85,-419.14 430.3,-419.74\"/>\n",
       "<text text-anchor=\"middle\" x=\"326.57\" y=\"-550\" font-family=\"DejaVu Serif,serif\" font-size=\"10.00\" fill=\"#c1cdcd\">39</text>\n",
       "</g>\n",
       "<!-- 6&#45;&gt;4 -->\n",
       "<g id=\"edge15\" class=\"edge\">\n",
       "<title>6&#45;&gt;4</title>\n",
       "<path fill=\"none\" stroke=\"#c1cdcd\" d=\"M229.19,-647.37C234.36,-652.28 241.86,-658.31 249.85,-661 283.05,-672.19 324.92,-663.48 346.45,-657.47\"/>\n",
       "<polygon fill=\"#c1cdcd\" stroke=\"#c1cdcd\" points=\"347.15,-659.09 351.46,-656.01 346.18,-655.73 347.15,-659.09\"/>\n",
       "<text text-anchor=\"middle\" x=\"291.46\" y=\"-669\" font-family=\"DejaVu Serif,serif\" font-size=\"10.00\" fill=\"#c1cdcd\">14</text>\n",
       "</g>\n",
       "<!-- 6&#45;&gt;5 -->\n",
       "<g id=\"edge16\" class=\"edge\">\n",
       "<title>6&#45;&gt;5</title>\n",
       "<path fill=\"none\" stroke=\"#c1cdcd\" d=\"M226.03,-630.15C231.06,-617.29 240.42,-594.13 249.85,-575 255.05,-564.47 258.67,-562.97 262.85,-552 270.61,-531.66 282.36,-469.81 287.67,-440.6\"/>\n",
       "<polygon fill=\"#c1cdcd\" stroke=\"#c1cdcd\" points=\"289.42,-440.77 288.59,-435.54 285.98,-440.15 289.42,-440.77\"/>\n",
       "<text text-anchor=\"middle\" x=\"256.35\" y=\"-578\" font-family=\"DejaVu Serif,serif\" font-size=\"10.00\" fill=\"#c1cdcd\">15</text>\n",
       "</g>\n",
       "<!-- 6&#45;&gt;6 -->\n",
       "<g id=\"edge47\" class=\"edge\">\n",
       "<title>6&#45;&gt;6</title>\n",
       "<path fill=\"none\" stroke=\"#c1cdcd\" d=\"M216.18,-649.38C213.38,-658.54 215.07,-668.61 221.25,-668.61 226.26,-668.61 228.32,-661.96 227.41,-654.55\"/>\n",
       "<polygon fill=\"#c1cdcd\" stroke=\"#c1cdcd\" points=\"229.06,-653.9 226.31,-649.38 225.64,-654.63 229.06,-653.9\"/>\n",
       "<text text-anchor=\"middle\" x=\"221.25\" y=\"-671.61\" font-family=\"DejaVu Serif,serif\" font-size=\"10.00\" fill=\"#c1cdcd\">46</text>\n",
       "</g>\n",
       "<!-- 6&#45;&gt;7 -->\n",
       "<g id=\"edge48\" class=\"edge\">\n",
       "<title>6&#45;&gt;7</title>\n",
       "<path fill=\"none\" stroke=\"#c1cdcd\" d=\"M214.85,-631.32C204.37,-614.43 182.1,-578.23 179.64,-572 164.46,-533.56 156.87,-485.12 153.78,-460.66\"/>\n",
       "<polygon fill=\"#c1cdcd\" stroke=\"#c1cdcd\" points=\"155.5,-460.29 153.15,-455.54 152.02,-460.72 155.5,-460.29\"/>\n",
       "<text text-anchor=\"middle\" x=\"186.14\" y=\"-597\" font-family=\"DejaVu Serif,serif\" font-size=\"10.00\" fill=\"#c1cdcd\">47</text>\n",
       "</g>\n",
       "<!-- 7&#45;&gt;0 -->\n",
       "<g id=\"edge23\" class=\"edge\">\n",
       "<title>7&#45;&gt;0</title>\n",
       "<path fill=\"none\" stroke=\"#c1cdcd\" d=\"M142.26,-438.87C131.55,-430.86 111.31,-417.21 91.43,-412 67.54,-405.74 52.89,-410.44 39.21,-431 21.45,-457.7 14.47,-555.49 12.36,-594.13\"/>\n",
       "<polygon fill=\"#c1cdcd\" stroke=\"#c1cdcd\" points=\"10.6,-594.3 12.09,-599.39 14.1,-594.49 10.6,-594.3\"/>\n",
       "<text text-anchor=\"middle\" x=\"80.82\" y=\"-415\" font-family=\"DejaVu Serif,serif\" font-size=\"10.00\" fill=\"#c1cdcd\">22</text>\n",
       "</g>\n",
       "<!-- 7&#45;&gt;1 -->\n",
       "<g id=\"edge24\" class=\"edge\">\n",
       "<title>7&#45;&gt;1</title>\n",
       "<path fill=\"none\" stroke=\"#c1cdcd\" d=\"M141.42,-449.8C132.02,-455.5 117.28,-465.91 109.43,-479 87.2,-516.02 82.69,-568.3 81.89,-594.2\"/>\n",
       "<polygon fill=\"#c1cdcd\" stroke=\"#c1cdcd\" points=\"80.14,-594.27 81.78,-599.31 83.64,-594.35 80.14,-594.27\"/>\n",
       "<text text-anchor=\"middle\" x=\"115.93\" y=\"-482\" font-family=\"DejaVu Serif,serif\" font-size=\"10.00\" fill=\"#c1cdcd\">23</text>\n",
       "</g>\n",
       "<!-- 7&#45;&gt;2 -->\n",
       "<g id=\"edge55\" class=\"edge\">\n",
       "<title>7&#45;&gt;2</title>\n",
       "<path fill=\"none\" stroke=\"#c1cdcd\" d=\"M155.9,-435.39C160.4,-425.16 168.64,-408.95 179.64,-398 190.93,-386.76 196.64,-387.6 210.64,-380 303.55,-329.59 372.59,-247.71 442.49,-327 486.07,-376.42 498,-591.56 500.52,-652.1\"/>\n",
       "<polygon fill=\"#c1cdcd\" stroke=\"#c1cdcd\" points=\"498.77,-652.22 500.72,-657.15 502.27,-652.08 498.77,-652.22\"/>\n",
       "<text text-anchor=\"middle\" x=\"326.57\" y=\"-315\" font-family=\"DejaVu Serif,serif\" font-size=\"10.00\" fill=\"#c1cdcd\">54</text>\n",
       "</g>\n",
       "<!-- 7&#45;&gt;3 -->\n",
       "<g id=\"edge56\" class=\"edge\">\n",
       "<title>7&#45;&gt;3</title>\n",
       "<path fill=\"none\" stroke=\"#c1cdcd\" d=\"M159.06,-437.25C164.27,-431.96 171.79,-425.17 179.64,-421 220.76,-399.16 234.69,-400.05 280.85,-394 305.77,-390.73 316.93,-380.84 403.28,-395 407.86,-395.75 412.71,-397.12 417.05,-398.58\"/>\n",
       "<polygon fill=\"#c1cdcd\" stroke=\"#c1cdcd\" points=\"416.56,-400.26 421.86,-400.28 417.73,-396.96 416.56,-400.26\"/>\n",
       "<text text-anchor=\"middle\" x=\"291.46\" y=\"-397\" font-family=\"DejaVu Serif,serif\" font-size=\"10.00\" fill=\"#c1cdcd\">55</text>\n",
       "</g>\n",
       "<!-- 7&#45;&gt;4 -->\n",
       "<g id=\"edge31\" class=\"edge\">\n",
       "<title>7&#45;&gt;4</title>\n",
       "<path fill=\"none\" stroke=\"#c1cdcd\" d=\"M161.32,-448.2C181.67,-455.56 230.93,-475.39 262.85,-505 297.33,-536.98 294.02,-554.85 320.07,-594 330.77,-610.09 343.44,-628.38 351.74,-640.28\"/>\n",
       "<polygon fill=\"#c1cdcd\" stroke=\"#c1cdcd\" points=\"350.51,-641.56 354.81,-644.65 353.37,-639.55 350.51,-641.56\"/>\n",
       "<text text-anchor=\"middle\" x=\"256.35\" y=\"-508\" font-family=\"DejaVu Serif,serif\" font-size=\"10.00\" fill=\"#c1cdcd\">30</text>\n",
       "</g>\n",
       "<!-- 7&#45;&gt;5 -->\n",
       "<g id=\"edge32\" class=\"edge\">\n",
       "<title>7&#45;&gt;5</title>\n",
       "<path fill=\"none\" stroke=\"#c1cdcd\" d=\"M161.99,-443.56C185.93,-440.1 246.86,-431.3 275.35,-427.18\"/>\n",
       "<polygon fill=\"#c1cdcd\" stroke=\"#c1cdcd\" points=\"275.9,-428.87 280.59,-426.43 275.4,-425.41 275.9,-428.87\"/>\n",
       "<text text-anchor=\"middle\" x=\"221.25\" y=\"-440\" font-family=\"DejaVu Serif,serif\" font-size=\"10.00\" fill=\"#c1cdcd\">31</text>\n",
       "</g>\n",
       "<!-- 7&#45;&gt;6 -->\n",
       "<g id=\"edge63\" class=\"edge\">\n",
       "<title>7&#45;&gt;6</title>\n",
       "<path fill=\"none\" stroke=\"#c1cdcd\" d=\"M151.43,-455.62C150.39,-482.68 150.66,-555.6 179.64,-606 186.18,-617.37 198.04,-626.63 207.26,-632.59\"/>\n",
       "<polygon fill=\"#c1cdcd\" stroke=\"#c1cdcd\" points=\"206.37,-634.1 211.54,-635.25 208.22,-631.13 206.37,-634.1\"/>\n",
       "<text text-anchor=\"middle\" x=\"186.14\" y=\"-625\" font-family=\"DejaVu Serif,serif\" font-size=\"10.00\" fill=\"#c1cdcd\">62</text>\n",
       "</g>\n",
       "<!-- 7&#45;&gt;7 -->\n",
       "<g id=\"edge64\" class=\"edge\">\n",
       "<title>7&#45;&gt;7</title>\n",
       "<path fill=\"none\" stroke=\"#c1cdcd\" d=\"M145.97,-454.38C143.17,-463.54 144.86,-473.61 151.03,-473.61 156.05,-473.61 158.11,-466.96 157.2,-459.55\"/>\n",
       "<polygon fill=\"#c1cdcd\" stroke=\"#c1cdcd\" points=\"158.85,-458.9 156.1,-454.38 155.43,-459.63 158.85,-458.9\"/>\n",
       "<text text-anchor=\"middle\" x=\"151.03\" y=\"-476.61\" font-family=\"DejaVu Serif,serif\" font-size=\"10.00\" fill=\"#c1cdcd\">63</text>\n",
       "</g>\n",
       "</g>\n",
       "</svg>\n"
      ],
      "text/plain": [
       "GAP: <A monomorphism in FinQuivers>"
      ]
     },
     "execution_count": 53,
     "metadata": {},
     "output_type": "execute_result"
    }
   ],
   "source": [
    "j = js[3];\n",
    "emb = ImageEmbedding( ClosureOfSingletonMorphism( CreateQuiver( 3, [ 0,1, 0,1 ] ), j ) )"
   ]
  },
  {
   "cell_type": "code",
   "execution_count": 54,
   "id": "6cc98d73",
   "metadata": {},
   "outputs": [
    {
     "data": {
      "image/svg+xml": [
       "<?xml version=\"1.0\" encoding=\"UTF-8\" standalone=\"no\"?>\n",
       "<!DOCTYPE svg PUBLIC \"-//W3C//DTD SVG 1.1//EN\"\n",
       " \"http://www.w3.org/Graphics/SVG/1.1/DTD/svg11.dtd\">\n",
       "<!-- Generated by graphviz version 2.50.0 (20211204.2007)\n",
       " -->\n",
       "<!-- Title: subquiver Pages: 1 -->\n",
       "<svg width=\"521pt\" height=\"1124pt\"\n",
       " viewBox=\"0.00 0.00 520.71 1124.00\" xmlns=\"http://www.w3.org/2000/svg\" xmlns:xlink=\"http://www.w3.org/1999/xlink\">\n",
       "<g id=\"graph0\" class=\"graph\" transform=\"scale(1 1) rotate(0) translate(4 1120)\">\n",
       "<title>subquiver</title>\n",
       "<polygon fill=\"white\" stroke=\"transparent\" points=\"-4,4 -4,-1120 516.71,-1120 516.71,4 -4,4\"/>\n",
       "<!-- 0 -->\n",
       "<g id=\"node1\" class=\"node\">\n",
       "<title>0</title>\n",
       "<ellipse fill=\"none\" stroke=\"#c1cdcd\" cx=\"10.61\" cy=\"-610\" rx=\"10.71\" ry=\"10.71\"/>\n",
       "<text text-anchor=\"middle\" x=\"10.61\" y=\"-606.9\" font-family=\"DejaVu Serif,serif\" font-size=\"12.00\" fill=\"#c1cdcd\">0</text>\n",
       "</g>\n",
       "<!-- 0&#45;&gt;0 -->\n",
       "<g id=\"edge1\" class=\"edge\">\n",
       "<title>0&#45;&gt;0</title>\n",
       "<path fill=\"none\" stroke=\"#c1cdcd\" d=\"M5.54,-619.38C2.74,-628.54 4.43,-638.61 10.61,-638.61 15.62,-638.61 17.68,-631.96 16.77,-624.55\"/>\n",
       "<polygon fill=\"#c1cdcd\" stroke=\"#c1cdcd\" points=\"18.42,-623.9 15.67,-619.38 15,-624.63 18.42,-623.9\"/>\n",
       "<text text-anchor=\"middle\" x=\"10.61\" y=\"-641.61\" font-family=\"DejaVu Serif,serif\" font-size=\"10.00\" fill=\"#c1cdcd\">0</text>\n",
       "</g>\n",
       "<!-- 1 -->\n",
       "<g id=\"node2\" class=\"node\">\n",
       "<title>1</title>\n",
       "<ellipse fill=\"none\" stroke=\"black\" cx=\"80.82\" cy=\"-610\" rx=\"10.71\" ry=\"10.71\"/>\n",
       "<text text-anchor=\"middle\" x=\"80.82\" y=\"-606.9\" font-family=\"DejaVu Serif,serif\" font-size=\"12.00\">1</text>\n",
       "</g>\n",
       "<!-- 0&#45;&gt;1 -->\n",
       "<g id=\"edge2\" class=\"edge\">\n",
       "<title>0&#45;&gt;1</title>\n",
       "<path fill=\"none\" stroke=\"#c1cdcd\" d=\"M19.79,-603.71C25.03,-600.09 32.15,-595.9 39.21,-594 44.79,-592.5 46.63,-592.5 52.21,-594 57.51,-595.42 62.84,-598.14 67.38,-600.93\"/>\n",
       "<polygon fill=\"#c1cdcd\" stroke=\"#c1cdcd\" points=\"66.49,-602.44 71.63,-603.71 68.4,-599.51 66.49,-602.44\"/>\n",
       "<text text-anchor=\"middle\" x=\"45.71\" y=\"-597\" font-family=\"DejaVu Serif,serif\" font-size=\"10.00\" fill=\"#c1cdcd\">1</text>\n",
       "</g>\n",
       "<!-- 2 -->\n",
       "<g id=\"node3\" class=\"node\">\n",
       "<title>2</title>\n",
       "<ellipse fill=\"none\" stroke=\"black\" cx=\"502.1\" cy=\"-668\" rx=\"10.71\" ry=\"10.71\"/>\n",
       "<text text-anchor=\"middle\" x=\"502.1\" y=\"-664.9\" font-family=\"DejaVu Serif,serif\" font-size=\"12.00\">2</text>\n",
       "</g>\n",
       "<!-- 0&#45;&gt;2 -->\n",
       "<g id=\"edge33\" class=\"edge\">\n",
       "<title>0&#45;&gt;2</title>\n",
       "<path fill=\"none\" stroke=\"#c1cdcd\" d=\"M11.58,-620.65C11.52,-678.9 12.64,-959.36 39.21,-1041 49.64,-1073.03 46.13,-1105 79.82,-1105 79.82,-1105 79.82,-1105 432.89,-1105 465.09,-1105 462.94,-1075.42 473.49,-1045 497.2,-976.69 500.55,-746.67 501.02,-683.92\"/>\n",
       "<polygon fill=\"#c1cdcd\" stroke=\"#c1cdcd\" points=\"502.77,-683.72 501.06,-678.71 499.27,-683.7 502.77,-683.72\"/>\n",
       "<text text-anchor=\"middle\" x=\"256.35\" y=\"-1108\" font-family=\"DejaVu Serif,serif\" font-size=\"10.00\" fill=\"#c1cdcd\">32</text>\n",
       "</g>\n",
       "<!-- 3 -->\n",
       "<g id=\"node4\" class=\"node\">\n",
       "<title>3</title>\n",
       "<ellipse fill=\"none\" stroke=\"#c1cdcd\" cx=\"431.89\" cy=\"-404\" rx=\"10.71\" ry=\"10.71\"/>\n",
       "<text text-anchor=\"middle\" x=\"431.89\" y=\"-400.9\" font-family=\"DejaVu Serif,serif\" font-size=\"12.00\" fill=\"#c1cdcd\">3</text>\n",
       "</g>\n",
       "<!-- 0&#45;&gt;3 -->\n",
       "<g id=\"edge34\" class=\"edge\">\n",
       "<title>0&#45;&gt;3</title>\n",
       "<path fill=\"none\" stroke=\"#c1cdcd\" d=\"M11.74,-599.26C12.85,-521.42 21.98,-47 79.82,-47 79.82,-47 79.82,-47 362.67,-47 433.1,-47 432.57,-318.44 431.28,-387.94\"/>\n",
       "<polygon fill=\"#c1cdcd\" stroke=\"#c1cdcd\" points=\"429.52,-388.28 431.17,-393.32 433.02,-388.35 429.52,-388.28\"/>\n",
       "<text text-anchor=\"middle\" x=\"221.25\" y=\"-50\" font-family=\"DejaVu Serif,serif\" font-size=\"10.00\" fill=\"#c1cdcd\">33</text>\n",
       "</g>\n",
       "<!-- 4 -->\n",
       "<g id=\"node5\" class=\"node\">\n",
       "<title>4</title>\n",
       "<ellipse fill=\"none\" stroke=\"black\" cx=\"361.67\" cy=\"-653\" rx=\"10.71\" ry=\"10.71\"/>\n",
       "<text text-anchor=\"middle\" x=\"361.67\" y=\"-649.9\" font-family=\"DejaVu Serif,serif\" font-size=\"12.00\">4</text>\n",
       "</g>\n",
       "<!-- 0&#45;&gt;4 -->\n",
       "<g id=\"edge9\" class=\"edge\">\n",
       "<title>0&#45;&gt;4</title>\n",
       "<path fill=\"none\" stroke=\"#c1cdcd\" d=\"M11.3,-620.8C9.85,-680.87 6.63,-971 79.82,-971 79.82,-971 79.82,-971 187.14,-971 243.02,-971 266.73,-963.29 302.07,-920 318.31,-900.1 349.01,-722.8 358.09,-668.64\"/>\n",
       "<polygon fill=\"#c1cdcd\" stroke=\"#c1cdcd\" points=\"359.84,-668.73 358.94,-663.51 356.39,-668.15 359.84,-668.73\"/>\n",
       "<text text-anchor=\"middle\" x=\"186.14\" y=\"-974\" font-family=\"DejaVu Serif,serif\" font-size=\"10.00\" fill=\"#c1cdcd\">8</text>\n",
       "</g>\n",
       "<!-- 5 -->\n",
       "<g id=\"node6\" class=\"node\">\n",
       "<title>5</title>\n",
       "<ellipse fill=\"none\" stroke=\"#c1cdcd\" cx=\"291.46\" cy=\"-425\" rx=\"10.71\" ry=\"10.71\"/>\n",
       "<text text-anchor=\"middle\" x=\"291.46\" y=\"-421.9\" font-family=\"DejaVu Serif,serif\" font-size=\"12.00\" fill=\"#c1cdcd\">5</text>\n",
       "</g>\n",
       "<!-- 0&#45;&gt;5 -->\n",
       "<g id=\"edge10\" class=\"edge\">\n",
       "<title>0&#45;&gt;5</title>\n",
       "<path fill=\"none\" stroke=\"#c1cdcd\" d=\"M11.57,-599.34C11.66,-562.39 13.9,-440.51 39.21,-413 102.14,-344.63 234.06,-398.21 276.79,-418.25\"/>\n",
       "<polygon fill=\"#c1cdcd\" stroke=\"#c1cdcd\" points=\"276.05,-419.84 281.32,-420.41 277.56,-416.68 276.05,-419.84\"/>\n",
       "<text text-anchor=\"middle\" x=\"151.03\" y=\"-385\" font-family=\"DejaVu Serif,serif\" font-size=\"10.00\" fill=\"#c1cdcd\">9</text>\n",
       "</g>\n",
       "<!-- 6 -->\n",
       "<g id=\"node7\" class=\"node\">\n",
       "<title>6</title>\n",
       "<ellipse fill=\"none\" stroke=\"#c1cdcd\" cx=\"221.25\" cy=\"-640\" rx=\"10.71\" ry=\"10.71\"/>\n",
       "<text text-anchor=\"middle\" x=\"221.25\" y=\"-636.9\" font-family=\"DejaVu Serif,serif\" font-size=\"12.00\" fill=\"#c1cdcd\">6</text>\n",
       "</g>\n",
       "<!-- 0&#45;&gt;6 -->\n",
       "<g id=\"edge41\" class=\"edge\">\n",
       "<title>0&#45;&gt;6</title>\n",
       "<path fill=\"none\" stroke=\"#c1cdcd\" d=\"M15.58,-619.51C20.16,-629.66 28.47,-645.8 39.21,-657 63.21,-682.02 75.26,-685.08 109.43,-691 146.13,-697.36 162.88,-703.4 192.64,-681 201.9,-674.03 209.07,-663.01 213.78,-654.15\"/>\n",
       "<polygon fill=\"#c1cdcd\" stroke=\"#c1cdcd\" points=\"215.44,-654.74 216.14,-649.49 212.32,-653.16 215.44,-654.74\"/>\n",
       "<text text-anchor=\"middle\" x=\"115.93\" y=\"-696\" font-family=\"DejaVu Serif,serif\" font-size=\"10.00\" fill=\"#c1cdcd\">40</text>\n",
       "</g>\n",
       "<!-- 7 -->\n",
       "<g id=\"node8\" class=\"node\">\n",
       "<title>7</title>\n",
       "<ellipse fill=\"none\" stroke=\"#c1cdcd\" cx=\"151.03\" cy=\"-445\" rx=\"10.71\" ry=\"10.71\"/>\n",
       "<text text-anchor=\"middle\" x=\"151.03\" y=\"-441.9\" font-family=\"DejaVu Serif,serif\" font-size=\"12.00\" fill=\"#c1cdcd\">7</text>\n",
       "</g>\n",
       "<!-- 0&#45;&gt;7 -->\n",
       "<g id=\"edge42\" class=\"edge\">\n",
       "<title>0&#45;&gt;7</title>\n",
       "<path fill=\"none\" stroke=\"#c1cdcd\" d=\"M15.52,-600.15C26.44,-573.89 59.72,-501.41 109.43,-461 117.02,-454.83 127.29,-450.81 135.6,-448.34\"/>\n",
       "<polygon fill=\"#c1cdcd\" stroke=\"#c1cdcd\" points=\"136.13,-450.01 140.48,-447 135.2,-446.64 136.13,-450.01\"/>\n",
       "<text text-anchor=\"middle\" x=\"80.82\" y=\"-506\" font-family=\"DejaVu Serif,serif\" font-size=\"10.00\" fill=\"#c1cdcd\">41</text>\n",
       "</g>\n",
       "<!-- 1&#45;&gt;0 -->\n",
       "<g id=\"edge17\" class=\"edge\">\n",
       "<title>1&#45;&gt;0</title>\n",
       "<path fill=\"none\" stroke=\"#c1cdcd\" d=\"M70.06,-610C58.73,-610 39.88,-610 26.66,-610\"/>\n",
       "<polygon fill=\"#c1cdcd\" stroke=\"#c1cdcd\" points=\"26.38,-608.25 21.38,-610 26.38,-611.75 26.38,-608.25\"/>\n",
       "<text text-anchor=\"middle\" x=\"45.71\" y=\"-613\" font-family=\"DejaVu Serif,serif\" font-size=\"10.00\" fill=\"#c1cdcd\">16</text>\n",
       "</g>\n",
       "<!-- 1&#45;&gt;1 -->\n",
       "<g id=\"edge18\" class=\"edge\">\n",
       "<title>1&#45;&gt;1</title>\n",
       "<path fill=\"none\" stroke=\"black\" d=\"M75.75,-619.38C72.96,-628.54 74.64,-638.61 80.82,-638.61 85.84,-638.61 87.89,-631.96 86.99,-624.55\"/>\n",
       "<polygon fill=\"black\" stroke=\"black\" points=\"88.64,-623.9 85.89,-619.38 85.21,-624.63 88.64,-623.9\"/>\n",
       "<text text-anchor=\"middle\" x=\"80.82\" y=\"-641.61\" font-family=\"DejaVu Serif,serif\" font-size=\"10.00\">17</text>\n",
       "</g>\n",
       "<!-- 1&#45;&gt;2 -->\n",
       "<g id=\"edge49\" class=\"edge\">\n",
       "<title>1&#45;&gt;2</title>\n",
       "<path fill=\"none\" stroke=\"black\" d=\"M83.28,-620.54C86.44,-641.77 94.8,-690.96 109.43,-730 155.02,-851.69 317.23,-1028 325.57,-1028 325.57,-1028 325.57,-1028 432.89,-1028 503.88,-1028 502.93,-754.28 501.52,-684.19\"/>\n",
       "<polygon fill=\"black\" stroke=\"black\" points=\"503.26,-683.73 501.4,-678.77 499.76,-683.81 503.26,-683.73\"/>\n",
       "<text text-anchor=\"middle\" x=\"291.46\" y=\"-1009\" font-family=\"DejaVu Serif,serif\" font-size=\"10.00\">48</text>\n",
       "</g>\n",
       "<!-- 1&#45;&gt;3 -->\n",
       "<g id=\"edge50\" class=\"edge\">\n",
       "<title>1&#45;&gt;3</title>\n",
       "<path fill=\"none\" stroke=\"#c1cdcd\" d=\"M83.37,-599.44C87.06,-574.94 96.97,-512.39 109.43,-461 142.78,-323.38 122.09,-236.07 249.85,-175 268,-166.33 268.17,-132.96 333.07,-177 370.85,-202.64 413.41,-342.5 426.7,-388.98\"/>\n",
       "<polygon fill=\"#c1cdcd\" stroke=\"#c1cdcd\" points=\"425.05,-389.59 428.1,-393.92 428.42,-388.64 425.05,-389.59\"/>\n",
       "<text text-anchor=\"middle\" x=\"256.35\" y=\"-178\" font-family=\"DejaVu Serif,serif\" font-size=\"10.00\" fill=\"#c1cdcd\">49</text>\n",
       "</g>\n",
       "<!-- 1&#45;&gt;4 -->\n",
       "<g id=\"edge25\" class=\"edge\">\n",
       "<title>1&#45;&gt;4</title>\n",
       "<path fill=\"none\" stroke=\"black\" d=\"M85.07,-619.87C89.65,-633.24 98.66,-657.65 109.43,-677 149.2,-748.49 168.57,-786.79 249.85,-796 273.18,-798.64 282.05,-800.28 302.07,-788 320.94,-776.42 322.92,-768.68 333.07,-749 346.79,-722.37 354.56,-687.96 358.17,-668.4\"/>\n",
       "<polygon fill=\"black\" stroke=\"black\" points=\"359.92,-668.53 359.07,-663.3 356.48,-667.91 359.92,-668.53\"/>\n",
       "<text text-anchor=\"middle\" x=\"221.25\" y=\"-796\" font-family=\"DejaVu Serif,serif\" font-size=\"10.00\">24</text>\n",
       "</g>\n",
       "<!-- 1&#45;&gt;5 -->\n",
       "<g id=\"edge26\" class=\"edge\">\n",
       "<title>1&#45;&gt;5</title>\n",
       "<path fill=\"none\" stroke=\"#c1cdcd\" d=\"M89.74,-603.91C115.63,-583.87 199.71,-517.73 262.85,-456 269.05,-449.94 275.52,-442.74 280.63,-436.8\"/>\n",
       "<polygon fill=\"#c1cdcd\" stroke=\"#c1cdcd\" points=\"282.03,-437.86 283.94,-432.92 279.36,-435.59 282.03,-437.86\"/>\n",
       "<text text-anchor=\"middle\" x=\"186.14\" y=\"-533\" font-family=\"DejaVu Serif,serif\" font-size=\"10.00\" fill=\"#c1cdcd\">25</text>\n",
       "</g>\n",
       "<!-- 1&#45;&gt;6 -->\n",
       "<g id=\"edge57\" class=\"edge\">\n",
       "<title>1&#45;&gt;6</title>\n",
       "<path fill=\"none\" stroke=\"#c1cdcd\" d=\"M88.44,-617.67C93.67,-623.35 101.41,-630.94 109.43,-636 121.93,-643.88 126.02,-644.73 140.43,-648 163.1,-653.14 169.81,-655.38 192.64,-651 197.3,-650.11 202.18,-648.43 206.51,-646.66\"/>\n",
       "<polygon fill=\"#c1cdcd\" stroke=\"#c1cdcd\" points=\"207.42,-648.17 211.31,-644.57 206.02,-644.96 207.42,-648.17\"/>\n",
       "<text text-anchor=\"middle\" x=\"151.03\" y=\"-655\" font-family=\"DejaVu Serif,serif\" font-size=\"10.00\" fill=\"#c1cdcd\">56</text>\n",
       "</g>\n",
       "<!-- 1&#45;&gt;7 -->\n",
       "<g id=\"edge58\" class=\"edge\">\n",
       "<title>1&#45;&gt;7</title>\n",
       "<path fill=\"none\" stroke=\"#c1cdcd\" d=\"M83.81,-599.79C87.51,-581.77 96.3,-543.38 109.43,-513 111.88,-507.33 130.91,-476.09 142.03,-457.99\"/>\n",
       "<polygon fill=\"#c1cdcd\" stroke=\"#c1cdcd\" points=\"143.54,-458.87 144.67,-453.69 140.56,-457.04 143.54,-458.87\"/>\n",
       "<text text-anchor=\"middle\" x=\"115.93\" y=\"-516\" font-family=\"DejaVu Serif,serif\" font-size=\"10.00\" fill=\"#c1cdcd\">57</text>\n",
       "</g>\n",
       "<!-- 2&#45;&gt;0 -->\n",
       "<g id=\"edge3\" class=\"edge\">\n",
       "<title>2&#45;&gt;0</title>\n",
       "<path fill=\"none\" stroke=\"#c1cdcd\" d=\"M501.04,-678.83C500.63,-730.21 497.5,-949.65 473.49,-1013 462.85,-1041.08 462.91,-1067 432.89,-1067 79.82,-1067 79.82,-1067 79.82,-1067 47.25,-1067 49.72,-1036.83 39.21,-1006 14.62,-933.83 11.92,-690.56 11.63,-625.89\"/>\n",
       "<polygon fill=\"#c1cdcd\" stroke=\"#c1cdcd\" points=\"13.38,-625.87 11.62,-620.87 9.88,-625.88 13.38,-625.87\"/>\n",
       "<text text-anchor=\"middle\" x=\"256.35\" y=\"-1070\" font-family=\"DejaVu Serif,serif\" font-size=\"10.00\" fill=\"#c1cdcd\">2</text>\n",
       "</g>\n",
       "<!-- 2&#45;&gt;1 -->\n",
       "<g id=\"edge4\" class=\"edge\">\n",
       "<title>2&#45;&gt;1</title>\n",
       "<path fill=\"none\" stroke=\"black\" d=\"M501.2,-678.77C500.85,-700.26 497.29,-749.04 473.49,-780 401.89,-873.14 323.27,-841.43 210.64,-808 148.19,-789.47 134.94,-761.94 109.43,-702 98.36,-676 89.85,-644.1 85.36,-625.52\"/>\n",
       "<polygon fill=\"black\" stroke=\"black\" points=\"86.95,-624.66 84.09,-620.19 83.55,-625.46 86.95,-624.66\"/>\n",
       "<text text-anchor=\"middle\" x=\"291.46\" y=\"-836\" font-family=\"DejaVu Serif,serif\" font-size=\"10.00\">3</text>\n",
       "</g>\n",
       "<!-- 2&#45;&gt;2 -->\n",
       "<g id=\"edge35\" class=\"edge\">\n",
       "<title>2&#45;&gt;2</title>\n",
       "<path fill=\"none\" stroke=\"black\" d=\"M497.03,-677.38C494.23,-686.54 495.92,-696.61 502.1,-696.61 507.12,-696.61 509.17,-689.96 508.27,-682.55\"/>\n",
       "<polygon fill=\"black\" stroke=\"black\" points=\"509.92,-681.9 507.17,-677.38 506.49,-682.63 509.92,-681.9\"/>\n",
       "<text text-anchor=\"middle\" x=\"502.1\" y=\"-699.61\" font-family=\"DejaVu Serif,serif\" font-size=\"10.00\">34</text>\n",
       "</g>\n",
       "<!-- 2&#45;&gt;3 -->\n",
       "<g id=\"edge36\" class=\"edge\">\n",
       "<title>2&#45;&gt;3</title>\n",
       "<path fill=\"none\" stroke=\"#c1cdcd\" d=\"M500.74,-657.23C499.52,-628.22 494.34,-546.28 473.49,-482 465.64,-457.78 450.79,-432.02 441.39,-417\"/>\n",
       "<polygon fill=\"#c1cdcd\" stroke=\"#c1cdcd\" points=\"442.81,-415.98 438.66,-412.7 439.86,-417.86 442.81,-415.98\"/>\n",
       "<text text-anchor=\"middle\" x=\"466.99\" y=\"-485\" font-family=\"DejaVu Serif,serif\" font-size=\"10.00\" fill=\"#c1cdcd\">35</text>\n",
       "</g>\n",
       "<!-- 2&#45;&gt;4 -->\n",
       "<g id=\"edge11\" class=\"edge\">\n",
       "<title>2&#45;&gt;4</title>\n",
       "<path fill=\"none\" stroke=\"black\" d=\"M491.59,-666.31C480.02,-664.3 459.88,-660.99 442.49,-659 419.79,-656.41 393.33,-654.67 377.29,-653.76\"/>\n",
       "<polygon fill=\"black\" stroke=\"black\" points=\"377.37,-652.01 372.28,-653.48 377.17,-655.51 377.37,-652.01\"/>\n",
       "<text text-anchor=\"middle\" x=\"431.89\" y=\"-662\" font-family=\"DejaVu Serif,serif\" font-size=\"10.00\">10</text>\n",
       "</g>\n",
       "<!-- 2&#45;&gt;5 -->\n",
       "<g id=\"edge12\" class=\"edge\">\n",
       "<title>2&#45;&gt;5</title>\n",
       "<path fill=\"none\" stroke=\"#c1cdcd\" d=\"M500.92,-657.33C500.14,-625.27 495.93,-527.3 473.49,-450 464.46,-418.88 457.4,-412.78 442.49,-384 426.27,-352.68 433.77,-332.74 403.28,-315 355.27,-287.06 313.11,-374.33 298.2,-410.27\"/>\n",
       "<polygon fill=\"#c1cdcd\" stroke=\"#c1cdcd\" points=\"296.47,-409.89 296.2,-415.18 299.71,-411.21 296.47,-409.89\"/>\n",
       "<text text-anchor=\"middle\" x=\"396.78\" y=\"-318\" font-family=\"DejaVu Serif,serif\" font-size=\"10.00\" fill=\"#c1cdcd\">11</text>\n",
       "</g>\n",
       "<!-- 2&#45;&gt;6 -->\n",
       "<g id=\"edge43\" class=\"edge\">\n",
       "<title>2&#45;&gt;6</title>\n",
       "<path fill=\"none\" stroke=\"#c1cdcd\" d=\"M494.1,-675.4C488.91,-680.39 481.39,-686.66 473.49,-690 241.42,-788.16 259.19,-723.57 249.85,-717 230.28,-703.22 224.51,-674.2 222.86,-655.99\"/>\n",
       "<polygon fill=\"#c1cdcd\" stroke=\"#c1cdcd\" points=\"224.58,-655.57 222.46,-650.71 221.09,-655.83 224.58,-655.57\"/>\n",
       "<text text-anchor=\"middle\" x=\"361.67\" y=\"-736\" font-family=\"DejaVu Serif,serif\" font-size=\"10.00\" fill=\"#c1cdcd\">42</text>\n",
       "</g>\n",
       "<!-- 2&#45;&gt;7 -->\n",
       "<g id=\"edge44\" class=\"edge\">\n",
       "<title>2&#45;&gt;7</title>\n",
       "<path fill=\"none\" stroke=\"#c1cdcd\" d=\"M500.9,-657.45C499.57,-590.02 491.5,-220.57 473.49,-174 463.17,-147.3 461.51,-124 432.89,-124 325.57,-124 325.57,-124 325.57,-124 236.3,-124 211.92,-178.78 179.64,-262 157.75,-318.43 171.58,-337.29 161.64,-397 159.8,-408.03 157.31,-420.41 155.33,-429.83\"/>\n",
       "<polygon fill=\"#c1cdcd\" stroke=\"#c1cdcd\" points=\"153.62,-429.48 154.29,-434.74 157.04,-430.21 153.62,-429.48\"/>\n",
       "<text text-anchor=\"middle\" x=\"326.57\" y=\"-128\" font-family=\"DejaVu Serif,serif\" font-size=\"10.00\" fill=\"#c1cdcd\">43</text>\n",
       "</g>\n",
       "<!-- 3&#45;&gt;0 -->\n",
       "<g id=\"edge19\" class=\"edge\">\n",
       "<title>3&#45;&gt;0</title>\n",
       "<path fill=\"none\" stroke=\"#c1cdcd\" d=\"M430.59,-393.21C428.94,-335.6 420.36,-65.7 403.28,-33 392.51,-12.39 385.93,0 362.67,0 79.82,0 79.82,0 79.82,0 56.56,0 49.71,-12.25 39.21,-33 13.29,-84.28 11.66,-506.26 11.6,-594.04\"/>\n",
       "<polygon fill=\"#c1cdcd\" stroke=\"#c1cdcd\" points=\"9.85,-594.11 11.6,-599.11 13.35,-594.11 9.85,-594.11\"/>\n",
       "<text text-anchor=\"middle\" x=\"221.25\" y=\"-3\" font-family=\"DejaVu Serif,serif\" font-size=\"10.00\" fill=\"#c1cdcd\">18</text>\n",
       "</g>\n",
       "<!-- 3&#45;&gt;1 -->\n",
       "<g id=\"edge20\" class=\"edge\">\n",
       "<title>3&#45;&gt;1</title>\n",
       "<path fill=\"none\" stroke=\"#c1cdcd\" d=\"M429.82,-393.42C424,-338.24 393.74,-86 327.57,-86 185.14,-86 185.14,-86 185.14,-86 162.59,-86 154.08,-92.05 140.43,-110 85.14,-182.68 99.2,-427.01 91.43,-518 89.14,-544.83 85.73,-575.97 83.64,-594.28\"/>\n",
       "<polygon fill=\"#c1cdcd\" stroke=\"#c1cdcd\" points=\"81.87,-594.36 83.04,-599.53 85.35,-594.76 81.87,-594.36\"/>\n",
       "<text text-anchor=\"middle\" x=\"256.35\" y=\"-89\" font-family=\"DejaVu Serif,serif\" font-size=\"10.00\" fill=\"#c1cdcd\">19</text>\n",
       "</g>\n",
       "<!-- 3&#45;&gt;2 -->\n",
       "<g id=\"edge51\" class=\"edge\">\n",
       "<title>3&#45;&gt;2</title>\n",
       "<path fill=\"none\" stroke=\"#c1cdcd\" d=\"M435.77,-413.95C442.61,-437.62 460.23,-499.19 473.49,-551 482.79,-587.31 492.63,-630.26 497.67,-652.66\"/>\n",
       "<polygon fill=\"#c1cdcd\" stroke=\"#c1cdcd\" points=\"495.99,-653.14 498.79,-657.64 499.4,-652.38 495.99,-653.14\"/>\n",
       "<text text-anchor=\"middle\" x=\"466.99\" y=\"-554\" font-family=\"DejaVu Serif,serif\" font-size=\"10.00\" fill=\"#c1cdcd\">50</text>\n",
       "</g>\n",
       "<!-- 3&#45;&gt;3 -->\n",
       "<g id=\"edge52\" class=\"edge\">\n",
       "<title>3&#45;&gt;3</title>\n",
       "<path fill=\"none\" stroke=\"#c1cdcd\" d=\"M426.82,-413.38C424.02,-422.54 425.71,-432.61 431.89,-432.61 436.9,-432.61 438.96,-425.96 438.05,-418.55\"/>\n",
       "<polygon fill=\"#c1cdcd\" stroke=\"#c1cdcd\" points=\"439.7,-417.9 436.95,-413.38 436.28,-418.63 439.7,-417.9\"/>\n",
       "<text text-anchor=\"middle\" x=\"431.89\" y=\"-435.61\" font-family=\"DejaVu Serif,serif\" font-size=\"10.00\" fill=\"#c1cdcd\">51</text>\n",
       "</g>\n",
       "<!-- 3&#45;&gt;4 -->\n",
       "<g id=\"edge27\" class=\"edge\">\n",
       "<title>3&#45;&gt;4</title>\n",
       "<path fill=\"none\" stroke=\"#c1cdcd\" d=\"M429.39,-414.54C426.24,-435.28 417.95,-482.62 403.28,-520 398.99,-530.93 394.64,-532.1 390.28,-543 377.28,-575.53 369.01,-615.98 365.18,-637.62\"/>\n",
       "<polygon fill=\"#c1cdcd\" stroke=\"#c1cdcd\" points=\"363.43,-637.48 364.3,-642.7 366.88,-638.08 363.43,-637.48\"/>\n",
       "<text text-anchor=\"middle\" x=\"396.78\" y=\"-546\" font-family=\"DejaVu Serif,serif\" font-size=\"10.00\" fill=\"#c1cdcd\">26</text>\n",
       "</g>\n",
       "<!-- 3&#45;&gt;5 -->\n",
       "<g id=\"edge28\" class=\"edge\">\n",
       "<title>3&#45;&gt;5</title>\n",
       "<path fill=\"none\" stroke=\"#c1cdcd\" d=\"M421.2,-402.12C401.3,-398.73 354.79,-393.23 320.07,-408 314.94,-410.18 309.65,-413.22 305.09,-416.12\"/>\n",
       "<polygon fill=\"#c1cdcd\" stroke=\"#c1cdcd\" points=\"304.02,-414.73 300.8,-418.95 305.94,-417.66 304.02,-414.73\"/>\n",
       "<text text-anchor=\"middle\" x=\"361.67\" y=\"-403\" font-family=\"DejaVu Serif,serif\" font-size=\"10.00\" fill=\"#c1cdcd\">27</text>\n",
       "</g>\n",
       "<!-- 3&#45;&gt;6 -->\n",
       "<g id=\"edge59\" class=\"edge\">\n",
       "<title>3&#45;&gt;6</title>\n",
       "<path fill=\"none\" stroke=\"#c1cdcd\" d=\"M424.01,-411.31C418.65,-416.79 410.86,-424.31 403.28,-430 368.95,-455.76 349.78,-448.03 320.07,-479 282.73,-517.91 291.86,-540.54 262.85,-586 253.16,-601.19 240.48,-617.59 231.89,-628.28\"/>\n",
       "<polygon fill=\"#c1cdcd\" stroke=\"#c1cdcd\" points=\"230.48,-627.24 228.7,-632.22 233.2,-629.44 230.48,-627.24\"/>\n",
       "<text text-anchor=\"middle\" x=\"326.57\" y=\"-482\" font-family=\"DejaVu Serif,serif\" font-size=\"10.00\" fill=\"#c1cdcd\">58</text>\n",
       "</g>\n",
       "<!-- 3&#45;&gt;7 -->\n",
       "<g id=\"edge60\" class=\"edge\">\n",
       "<title>3&#45;&gt;7</title>\n",
       "<path fill=\"none\" stroke=\"#c1cdcd\" d=\"M422.48,-398.87C417.15,-395.85 410.02,-392.2 403.28,-390 351.2,-373.05 335.04,-368.07 280.85,-376 233.76,-382.89 217.34,-381.95 179.64,-411 172.2,-416.73 165.51,-424.85 160.59,-431.71\"/>\n",
       "<polygon fill=\"#c1cdcd\" stroke=\"#c1cdcd\" points=\"158.87,-431.11 157.47,-436.22 161.75,-433.1 158.87,-431.11\"/>\n",
       "<text text-anchor=\"middle\" x=\"291.46\" y=\"-379\" font-family=\"DejaVu Serif,serif\" font-size=\"10.00\" fill=\"#c1cdcd\">59</text>\n",
       "</g>\n",
       "<!-- 4&#45;&gt;0 -->\n",
       "<g id=\"edge5\" class=\"edge\">\n",
       "<title>4&#45;&gt;0</title>\n",
       "<path fill=\"none\" stroke=\"#c1cdcd\" d=\"M359.06,-663.56C356.98,-677.41 353.37,-702.48 351.07,-724 348.37,-749.16 347.83,-930.45 333.07,-951 292.34,-1007.68 256.93,-1009 187.14,-1009 79.82,-1009 79.82,-1009 79.82,-1009 58.86,-1009 50.26,-1002.81 39.21,-985 20.05,-954.11 13.33,-693.09 11.91,-625.78\"/>\n",
       "<polygon fill=\"#c1cdcd\" stroke=\"#c1cdcd\" points=\"13.66,-625.54 11.81,-620.57 10.16,-625.61 13.66,-625.54\"/>\n",
       "<text text-anchor=\"middle\" x=\"186.14\" y=\"-1012\" font-family=\"DejaVu Serif,serif\" font-size=\"10.00\" fill=\"#c1cdcd\">4</text>\n",
       "</g>\n",
       "<!-- 4&#45;&gt;1 -->\n",
       "<g id=\"edge6\" class=\"edge\">\n",
       "<title>4&#45;&gt;1</title>\n",
       "<path fill=\"none\" stroke=\"black\" d=\"M357.74,-663.08C347.25,-697.04 309.06,-803.93 249.85,-781 169.95,-750.05 109.89,-658.29 89.43,-623.54\"/>\n",
       "<polygon fill=\"black\" stroke=\"black\" points=\"90.73,-622.29 86.7,-618.84 87.7,-624.04 90.73,-622.29\"/>\n",
       "<text text-anchor=\"middle\" x=\"221.25\" y=\"-775\" font-family=\"DejaVu Serif,serif\" font-size=\"10.00\">5</text>\n",
       "</g>\n",
       "<!-- 4&#45;&gt;2 -->\n",
       "<g id=\"edge37\" class=\"edge\">\n",
       "<title>4&#45;&gt;2</title>\n",
       "<path fill=\"none\" stroke=\"black\" d=\"M371,-658.62C376.29,-661.91 383.41,-665.83 390.28,-668 425.71,-679.18 436.71,-681.22 473.49,-676 477.87,-675.38 482.52,-674.23 486.74,-672.99\"/>\n",
       "<polygon fill=\"black\" stroke=\"black\" points=\"487.54,-674.57 491.79,-671.41 486.49,-671.23 487.54,-674.57\"/>\n",
       "<text text-anchor=\"middle\" x=\"431.89\" y=\"-681\" font-family=\"DejaVu Serif,serif\" font-size=\"10.00\">36</text>\n",
       "</g>\n",
       "<!-- 4&#45;&gt;3 -->\n",
       "<g id=\"edge38\" class=\"edge\">\n",
       "<title>4&#45;&gt;3</title>\n",
       "<path fill=\"none\" stroke=\"#c1cdcd\" d=\"M369.42,-645.2C378.69,-634.02 395.14,-612.41 403.28,-591 426.09,-530.97 430.16,-453.45 430.81,-420.26\"/>\n",
       "<polygon fill=\"#c1cdcd\" stroke=\"#c1cdcd\" points=\"432.56,-419.98 430.89,-414.95 429.06,-419.92 432.56,-419.98\"/>\n",
       "<text text-anchor=\"middle\" x=\"396.78\" y=\"-620\" font-family=\"DejaVu Serif,serif\" font-size=\"10.00\" fill=\"#c1cdcd\">37</text>\n",
       "</g>\n",
       "<!-- 4&#45;&gt;4 -->\n",
       "<g id=\"edge13\" class=\"edge\">\n",
       "<title>4&#45;&gt;4</title>\n",
       "<path fill=\"none\" stroke=\"black\" d=\"M356.61,-662.38C353.81,-671.54 355.5,-681.61 361.67,-681.61 366.69,-681.61 368.75,-674.96 367.84,-667.55\"/>\n",
       "<polygon fill=\"black\" stroke=\"black\" points=\"369.49,-666.9 366.74,-662.38 366.07,-667.63 369.49,-666.9\"/>\n",
       "<text text-anchor=\"middle\" x=\"361.67\" y=\"-684.61\" font-family=\"DejaVu Serif,serif\" font-size=\"10.00\">12</text>\n",
       "</g>\n",
       "<!-- 4&#45;&gt;5 -->\n",
       "<g id=\"edge14\" class=\"edge\">\n",
       "<title>4&#45;&gt;5</title>\n",
       "<path fill=\"none\" stroke=\"#c1cdcd\" d=\"M359.7,-642.3C357.29,-618.68 350.01,-560.57 333.07,-515 328.97,-503.99 325.2,-502.56 320.07,-492 311.44,-474.27 303.03,-453.13 297.8,-439.41\"/>\n",
       "<polygon fill=\"#c1cdcd\" stroke=\"#c1cdcd\" points=\"299.43,-438.76 296.03,-434.71 296.16,-440 299.43,-438.76\"/>\n",
       "<text text-anchor=\"middle\" x=\"326.57\" y=\"-518\" font-family=\"DejaVu Serif,serif\" font-size=\"10.00\" fill=\"#c1cdcd\">13</text>\n",
       "</g>\n",
       "<!-- 4&#45;&gt;6 -->\n",
       "<g id=\"edge45\" class=\"edge\">\n",
       "<title>4&#45;&gt;6</title>\n",
       "<path fill=\"none\" stroke=\"#c1cdcd\" d=\"M350.81,-652.07C326.96,-649.83 266.03,-644.11 237.46,-641.43\"/>\n",
       "<polygon fill=\"#c1cdcd\" stroke=\"#c1cdcd\" points=\"237.34,-639.66 232.2,-640.93 237.02,-643.14 237.34,-639.66\"/>\n",
       "<text text-anchor=\"middle\" x=\"291.46\" y=\"-650\" font-family=\"DejaVu Serif,serif\" font-size=\"10.00\" fill=\"#c1cdcd\">44</text>\n",
       "</g>\n",
       "<!-- 4&#45;&gt;7 -->\n",
       "<g id=\"edge46\" class=\"edge\">\n",
       "<title>4&#45;&gt;7</title>\n",
       "<path fill=\"none\" stroke=\"#c1cdcd\" d=\"M353.7,-660.66C348.53,-665.84 341.01,-672.38 333.07,-676 283.27,-698.67 258.22,-716.03 210.64,-689 187.24,-675.71 188.62,-662.36 179.64,-637 157.55,-574.58 153.1,-494.78 152.23,-461.12\"/>\n",
       "<polygon fill=\"#c1cdcd\" stroke=\"#c1cdcd\" points=\"153.98,-460.71 152.12,-455.75 150.48,-460.79 153.98,-460.71\"/>\n",
       "<text text-anchor=\"middle\" x=\"256.35\" y=\"-705\" font-family=\"DejaVu Serif,serif\" font-size=\"10.00\" fill=\"#c1cdcd\">45</text>\n",
       "</g>\n",
       "<!-- 5&#45;&gt;0 -->\n",
       "<g id=\"edge21\" class=\"edge\">\n",
       "<title>5&#45;&gt;0</title>\n",
       "<path fill=\"none\" stroke=\"#c1cdcd\" d=\"M283.14,-418.24C277.8,-413.54 270.23,-407.37 262.85,-403 221.52,-378.5 208.99,-373.18 161.64,-365 106.11,-355.41 70.43,-351.08 39.21,-398 17.77,-430.23 12.94,-550.67 11.89,-594.19\"/>\n",
       "<polygon fill=\"#c1cdcd\" stroke=\"#c1cdcd\" points=\"10.14,-594.3 11.77,-599.34 13.64,-594.38 10.14,-594.3\"/>\n",
       "<text text-anchor=\"middle\" x=\"151.03\" y=\"-368\" font-family=\"DejaVu Serif,serif\" font-size=\"10.00\" fill=\"#c1cdcd\">20</text>\n",
       "</g>\n",
       "<!-- 5&#45;&gt;1 -->\n",
       "<g id=\"edge22\" class=\"edge\">\n",
       "<title>5&#45;&gt;1</title>\n",
       "<path fill=\"none\" stroke=\"#c1cdcd\" d=\"M281.32,-429.26C252.48,-443.1 162.21,-489.54 109.43,-552 98.59,-564.82 90.96,-582.61 86.5,-595.1\"/>\n",
       "<polygon fill=\"#c1cdcd\" stroke=\"#c1cdcd\" points=\"84.75,-594.8 84.79,-600.1 88.06,-595.93 84.75,-594.8\"/>\n",
       "<text text-anchor=\"middle\" x=\"186.14\" y=\"-492\" font-family=\"DejaVu Serif,serif\" font-size=\"10.00\" fill=\"#c1cdcd\">21</text>\n",
       "</g>\n",
       "<!-- 5&#45;&gt;2 -->\n",
       "<g id=\"edge53\" class=\"edge\">\n",
       "<title>5&#45;&gt;2</title>\n",
       "<path fill=\"none\" stroke=\"#c1cdcd\" d=\"M300.18,-431.42C308.77,-438.77 322.79,-451.44 333.07,-464 363.09,-500.68 360.89,-516.81 390.28,-554 423.01,-595.42 468.69,-638.58 489.7,-657.76\"/>\n",
       "<polygon fill=\"#c1cdcd\" stroke=\"#c1cdcd\" points=\"488.68,-659.2 493.56,-661.27 491.04,-656.61 488.68,-659.2\"/>\n",
       "<text text-anchor=\"middle\" x=\"396.78\" y=\"-573\" font-family=\"DejaVu Serif,serif\" font-size=\"10.00\" fill=\"#c1cdcd\">52</text>\n",
       "</g>\n",
       "<!-- 5&#45;&gt;3 -->\n",
       "<g id=\"edge54\" class=\"edge\">\n",
       "<title>5&#45;&gt;3</title>\n",
       "<path fill=\"none\" stroke=\"#c1cdcd\" d=\"M302.07,-424.85C321.46,-424.36 366.51,-422.35 403.28,-414 407.85,-412.96 412.7,-411.38 417.04,-409.78\"/>\n",
       "<polygon fill=\"#c1cdcd\" stroke=\"#c1cdcd\" points=\"417.82,-411.35 421.85,-407.92 416.56,-408.09 417.82,-411.35\"/>\n",
       "<text text-anchor=\"middle\" x=\"361.67\" y=\"-425\" font-family=\"DejaVu Serif,serif\" font-size=\"10.00\" fill=\"#c1cdcd\">53</text>\n",
       "</g>\n",
       "<!-- 5&#45;&gt;4 -->\n",
       "<g id=\"edge29\" class=\"edge\">\n",
       "<title>5&#45;&gt;4</title>\n",
       "<path fill=\"none\" stroke=\"#c1cdcd\" d=\"M293.47,-435.47C295.95,-458.57 303.38,-515.41 320.07,-560 324.18,-571 328.01,-572.4 333.07,-583 341.98,-601.69 350.44,-624.08 355.59,-638.41\"/>\n",
       "<polygon fill=\"#c1cdcd\" stroke=\"#c1cdcd\" points=\"354.01,-639.19 357.33,-643.31 357.31,-638.01 354.01,-639.19\"/>\n",
       "<text text-anchor=\"middle\" x=\"326.57\" y=\"-586\" font-family=\"DejaVu Serif,serif\" font-size=\"10.00\" fill=\"#c1cdcd\">28</text>\n",
       "</g>\n",
       "<!-- 5&#45;&gt;5 -->\n",
       "<g id=\"edge30\" class=\"edge\">\n",
       "<title>5&#45;&gt;5</title>\n",
       "<path fill=\"none\" stroke=\"#c1cdcd\" d=\"M286.39,-434.38C283.59,-443.54 285.28,-453.61 291.46,-453.61 296.48,-453.61 298.53,-446.96 297.63,-439.55\"/>\n",
       "<polygon fill=\"#c1cdcd\" stroke=\"#c1cdcd\" points=\"299.28,-438.9 296.53,-434.38 295.85,-439.63 299.28,-438.9\"/>\n",
       "<text text-anchor=\"middle\" x=\"291.46\" y=\"-456.61\" font-family=\"DejaVu Serif,serif\" font-size=\"10.00\" fill=\"#c1cdcd\">29</text>\n",
       "</g>\n",
       "<!-- 5&#45;&gt;6 -->\n",
       "<g id=\"edge61\" class=\"edge\">\n",
       "<title>5&#45;&gt;6</title>\n",
       "<path fill=\"none\" stroke=\"#c1cdcd\" d=\"M288.33,-435.36C284.53,-452.88 275.74,-489.26 262.85,-518 258.36,-528.02 254.23,-528.94 249.85,-539 237.2,-568.07 228.97,-604.41 225.02,-624.62\"/>\n",
       "<polygon fill=\"#c1cdcd\" stroke=\"#c1cdcd\" points=\"223.28,-624.4 224.06,-629.64 226.71,-625.05 223.28,-624.4\"/>\n",
       "<text text-anchor=\"middle\" x=\"256.35\" y=\"-542\" font-family=\"DejaVu Serif,serif\" font-size=\"10.00\" fill=\"#c1cdcd\">60</text>\n",
       "</g>\n",
       "<!-- 5&#45;&gt;7 -->\n",
       "<g id=\"edge62\" class=\"edge\">\n",
       "<title>5&#45;&gt;7</title>\n",
       "<path fill=\"none\" stroke=\"#c1cdcd\" d=\"M281.01,-422.59C265.95,-419.12 235.65,-413.7 210.64,-419 194.06,-422.51 176.47,-431.04 164.94,-437.38\"/>\n",
       "<polygon fill=\"#c1cdcd\" stroke=\"#c1cdcd\" points=\"163.89,-435.96 160.39,-439.94 165.6,-439.02 163.89,-435.96\"/>\n",
       "<text text-anchor=\"middle\" x=\"221.25\" y=\"-422\" font-family=\"DejaVu Serif,serif\" font-size=\"10.00\" fill=\"#c1cdcd\">61</text>\n",
       "</g>\n",
       "<!-- 6&#45;&gt;0 -->\n",
       "<g id=\"edge7\" class=\"edge\">\n",
       "<title>6&#45;&gt;0</title>\n",
       "<path fill=\"none\" stroke=\"#c1cdcd\" d=\"M213.94,-648.09C208.88,-653.92 201.22,-661.37 192.64,-665 142.47,-686.22 120.29,-680.46 70.21,-659 50.67,-650.62 32.62,-633.52 21.86,-621.91\"/>\n",
       "<polygon fill=\"#c1cdcd\" stroke=\"#c1cdcd\" points=\"22.89,-620.44 18.23,-617.91 20.29,-622.79 22.89,-620.44\"/>\n",
       "<text text-anchor=\"middle\" x=\"115.93\" y=\"-679\" font-family=\"DejaVu Serif,serif\" font-size=\"10.00\" fill=\"#c1cdcd\">6</text>\n",
       "</g>\n",
       "<!-- 6&#45;&gt;1 -->\n",
       "<g id=\"edge8\" class=\"edge\">\n",
       "<title>6&#45;&gt;1</title>\n",
       "<path fill=\"none\" stroke=\"#c1cdcd\" d=\"M210.5,-639.81C202.23,-639.53 190.09,-638.81 179.64,-637 149.33,-631.75 114.87,-621.1 96.01,-614.86\"/>\n",
       "<polygon fill=\"#c1cdcd\" stroke=\"#c1cdcd\" points=\"96.42,-613.15 91.12,-613.23 95.31,-616.47 96.42,-613.15\"/>\n",
       "<text text-anchor=\"middle\" x=\"151.03\" y=\"-636\" font-family=\"DejaVu Serif,serif\" font-size=\"10.00\" fill=\"#c1cdcd\">7</text>\n",
       "</g>\n",
       "<!-- 6&#45;&gt;2 -->\n",
       "<g id=\"edge39\" class=\"edge\">\n",
       "<title>6&#45;&gt;2</title>\n",
       "<path fill=\"none\" stroke=\"#c1cdcd\" d=\"M222.41,-650.75C223.56,-684 231.87,-783 290.46,-783 290.46,-783 290.46,-783 432.89,-783 478.53,-783 494.3,-715.16 499.16,-683.69\"/>\n",
       "<polygon fill=\"#c1cdcd\" stroke=\"#c1cdcd\" points=\"500.91,-683.81 499.9,-678.61 497.45,-683.31 500.91,-683.81\"/>\n",
       "<text text-anchor=\"middle\" x=\"361.67\" y=\"-786\" font-family=\"DejaVu Serif,serif\" font-size=\"10.00\" fill=\"#c1cdcd\">38</text>\n",
       "</g>\n",
       "<!-- 6&#45;&gt;3 -->\n",
       "<g id=\"edge40\" class=\"edge\">\n",
       "<title>6&#45;&gt;3</title>\n",
       "<path fill=\"none\" stroke=\"#c1cdcd\" d=\"M230.74,-634.73C239.25,-629.27 252.53,-620.25 262.85,-611 291.26,-585.54 291.81,-572.64 320.07,-547 354.02,-516.18 376.21,-523.01 403.28,-486 418.07,-465.78 425.3,-437.11 428.55,-419.58\"/>\n",
       "<polygon fill=\"#c1cdcd\" stroke=\"#c1cdcd\" points=\"430.3,-419.74 429.44,-414.52 426.85,-419.14 430.3,-419.74\"/>\n",
       "<text text-anchor=\"middle\" x=\"326.57\" y=\"-550\" font-family=\"DejaVu Serif,serif\" font-size=\"10.00\" fill=\"#c1cdcd\">39</text>\n",
       "</g>\n",
       "<!-- 6&#45;&gt;4 -->\n",
       "<g id=\"edge15\" class=\"edge\">\n",
       "<title>6&#45;&gt;4</title>\n",
       "<path fill=\"none\" stroke=\"#c1cdcd\" d=\"M229.19,-647.37C234.36,-652.28 241.86,-658.31 249.85,-661 283.05,-672.19 324.92,-663.48 346.45,-657.47\"/>\n",
       "<polygon fill=\"#c1cdcd\" stroke=\"#c1cdcd\" points=\"347.15,-659.09 351.46,-656.01 346.18,-655.73 347.15,-659.09\"/>\n",
       "<text text-anchor=\"middle\" x=\"291.46\" y=\"-669\" font-family=\"DejaVu Serif,serif\" font-size=\"10.00\" fill=\"#c1cdcd\">14</text>\n",
       "</g>\n",
       "<!-- 6&#45;&gt;5 -->\n",
       "<g id=\"edge16\" class=\"edge\">\n",
       "<title>6&#45;&gt;5</title>\n",
       "<path fill=\"none\" stroke=\"#c1cdcd\" d=\"M226.03,-630.15C231.06,-617.29 240.42,-594.13 249.85,-575 255.05,-564.47 258.67,-562.97 262.85,-552 270.61,-531.66 282.36,-469.81 287.67,-440.6\"/>\n",
       "<polygon fill=\"#c1cdcd\" stroke=\"#c1cdcd\" points=\"289.42,-440.77 288.59,-435.54 285.98,-440.15 289.42,-440.77\"/>\n",
       "<text text-anchor=\"middle\" x=\"256.35\" y=\"-578\" font-family=\"DejaVu Serif,serif\" font-size=\"10.00\" fill=\"#c1cdcd\">15</text>\n",
       "</g>\n",
       "<!-- 6&#45;&gt;6 -->\n",
       "<g id=\"edge47\" class=\"edge\">\n",
       "<title>6&#45;&gt;6</title>\n",
       "<path fill=\"none\" stroke=\"#c1cdcd\" d=\"M216.18,-649.38C213.38,-658.54 215.07,-668.61 221.25,-668.61 226.26,-668.61 228.32,-661.96 227.41,-654.55\"/>\n",
       "<polygon fill=\"#c1cdcd\" stroke=\"#c1cdcd\" points=\"229.06,-653.9 226.31,-649.38 225.64,-654.63 229.06,-653.9\"/>\n",
       "<text text-anchor=\"middle\" x=\"221.25\" y=\"-671.61\" font-family=\"DejaVu Serif,serif\" font-size=\"10.00\" fill=\"#c1cdcd\">46</text>\n",
       "</g>\n",
       "<!-- 6&#45;&gt;7 -->\n",
       "<g id=\"edge48\" class=\"edge\">\n",
       "<title>6&#45;&gt;7</title>\n",
       "<path fill=\"none\" stroke=\"#c1cdcd\" d=\"M214.85,-631.32C204.37,-614.43 182.1,-578.23 179.64,-572 164.46,-533.56 156.87,-485.12 153.78,-460.66\"/>\n",
       "<polygon fill=\"#c1cdcd\" stroke=\"#c1cdcd\" points=\"155.5,-460.29 153.15,-455.54 152.02,-460.72 155.5,-460.29\"/>\n",
       "<text text-anchor=\"middle\" x=\"186.14\" y=\"-597\" font-family=\"DejaVu Serif,serif\" font-size=\"10.00\" fill=\"#c1cdcd\">47</text>\n",
       "</g>\n",
       "<!-- 7&#45;&gt;0 -->\n",
       "<g id=\"edge23\" class=\"edge\">\n",
       "<title>7&#45;&gt;0</title>\n",
       "<path fill=\"none\" stroke=\"#c1cdcd\" d=\"M142.26,-438.87C131.55,-430.86 111.31,-417.21 91.43,-412 67.54,-405.74 52.89,-410.44 39.21,-431 21.45,-457.7 14.47,-555.49 12.36,-594.13\"/>\n",
       "<polygon fill=\"#c1cdcd\" stroke=\"#c1cdcd\" points=\"10.6,-594.3 12.09,-599.39 14.1,-594.49 10.6,-594.3\"/>\n",
       "<text text-anchor=\"middle\" x=\"80.82\" y=\"-415\" font-family=\"DejaVu Serif,serif\" font-size=\"10.00\" fill=\"#c1cdcd\">22</text>\n",
       "</g>\n",
       "<!-- 7&#45;&gt;1 -->\n",
       "<g id=\"edge24\" class=\"edge\">\n",
       "<title>7&#45;&gt;1</title>\n",
       "<path fill=\"none\" stroke=\"#c1cdcd\" d=\"M141.42,-449.8C132.02,-455.5 117.28,-465.91 109.43,-479 87.2,-516.02 82.69,-568.3 81.89,-594.2\"/>\n",
       "<polygon fill=\"#c1cdcd\" stroke=\"#c1cdcd\" points=\"80.14,-594.27 81.78,-599.31 83.64,-594.35 80.14,-594.27\"/>\n",
       "<text text-anchor=\"middle\" x=\"115.93\" y=\"-482\" font-family=\"DejaVu Serif,serif\" font-size=\"10.00\" fill=\"#c1cdcd\">23</text>\n",
       "</g>\n",
       "<!-- 7&#45;&gt;2 -->\n",
       "<g id=\"edge55\" class=\"edge\">\n",
       "<title>7&#45;&gt;2</title>\n",
       "<path fill=\"none\" stroke=\"#c1cdcd\" d=\"M155.9,-435.39C160.4,-425.16 168.64,-408.95 179.64,-398 190.93,-386.76 196.64,-387.6 210.64,-380 303.55,-329.59 372.59,-247.71 442.49,-327 486.07,-376.42 498,-591.56 500.52,-652.1\"/>\n",
       "<polygon fill=\"#c1cdcd\" stroke=\"#c1cdcd\" points=\"498.77,-652.22 500.72,-657.15 502.27,-652.08 498.77,-652.22\"/>\n",
       "<text text-anchor=\"middle\" x=\"326.57\" y=\"-315\" font-family=\"DejaVu Serif,serif\" font-size=\"10.00\" fill=\"#c1cdcd\">54</text>\n",
       "</g>\n",
       "<!-- 7&#45;&gt;3 -->\n",
       "<g id=\"edge56\" class=\"edge\">\n",
       "<title>7&#45;&gt;3</title>\n",
       "<path fill=\"none\" stroke=\"#c1cdcd\" d=\"M159.06,-437.25C164.27,-431.96 171.79,-425.17 179.64,-421 220.76,-399.16 234.69,-400.05 280.85,-394 305.77,-390.73 316.93,-380.84 403.28,-395 407.86,-395.75 412.71,-397.12 417.05,-398.58\"/>\n",
       "<polygon fill=\"#c1cdcd\" stroke=\"#c1cdcd\" points=\"416.56,-400.26 421.86,-400.28 417.73,-396.96 416.56,-400.26\"/>\n",
       "<text text-anchor=\"middle\" x=\"291.46\" y=\"-397\" font-family=\"DejaVu Serif,serif\" font-size=\"10.00\" fill=\"#c1cdcd\">55</text>\n",
       "</g>\n",
       "<!-- 7&#45;&gt;4 -->\n",
       "<g id=\"edge31\" class=\"edge\">\n",
       "<title>7&#45;&gt;4</title>\n",
       "<path fill=\"none\" stroke=\"#c1cdcd\" d=\"M161.32,-448.2C181.67,-455.56 230.93,-475.39 262.85,-505 297.33,-536.98 294.02,-554.85 320.07,-594 330.77,-610.09 343.44,-628.38 351.74,-640.28\"/>\n",
       "<polygon fill=\"#c1cdcd\" stroke=\"#c1cdcd\" points=\"350.51,-641.56 354.81,-644.65 353.37,-639.55 350.51,-641.56\"/>\n",
       "<text text-anchor=\"middle\" x=\"256.35\" y=\"-508\" font-family=\"DejaVu Serif,serif\" font-size=\"10.00\" fill=\"#c1cdcd\">30</text>\n",
       "</g>\n",
       "<!-- 7&#45;&gt;5 -->\n",
       "<g id=\"edge32\" class=\"edge\">\n",
       "<title>7&#45;&gt;5</title>\n",
       "<path fill=\"none\" stroke=\"#c1cdcd\" d=\"M161.99,-443.56C185.93,-440.1 246.86,-431.3 275.35,-427.18\"/>\n",
       "<polygon fill=\"#c1cdcd\" stroke=\"#c1cdcd\" points=\"275.9,-428.87 280.59,-426.43 275.4,-425.41 275.9,-428.87\"/>\n",
       "<text text-anchor=\"middle\" x=\"221.25\" y=\"-440\" font-family=\"DejaVu Serif,serif\" font-size=\"10.00\" fill=\"#c1cdcd\">31</text>\n",
       "</g>\n",
       "<!-- 7&#45;&gt;6 -->\n",
       "<g id=\"edge63\" class=\"edge\">\n",
       "<title>7&#45;&gt;6</title>\n",
       "<path fill=\"none\" stroke=\"#c1cdcd\" d=\"M151.43,-455.62C150.39,-482.68 150.66,-555.6 179.64,-606 186.18,-617.37 198.04,-626.63 207.26,-632.59\"/>\n",
       "<polygon fill=\"#c1cdcd\" stroke=\"#c1cdcd\" points=\"206.37,-634.1 211.54,-635.25 208.22,-631.13 206.37,-634.1\"/>\n",
       "<text text-anchor=\"middle\" x=\"186.14\" y=\"-625\" font-family=\"DejaVu Serif,serif\" font-size=\"10.00\" fill=\"#c1cdcd\">62</text>\n",
       "</g>\n",
       "<!-- 7&#45;&gt;7 -->\n",
       "<g id=\"edge64\" class=\"edge\">\n",
       "<title>7&#45;&gt;7</title>\n",
       "<path fill=\"none\" stroke=\"#c1cdcd\" d=\"M145.97,-454.38C143.17,-463.54 144.86,-473.61 151.03,-473.61 156.05,-473.61 158.11,-466.96 157.2,-459.55\"/>\n",
       "<polygon fill=\"#c1cdcd\" stroke=\"#c1cdcd\" points=\"158.85,-458.9 156.1,-454.38 155.43,-459.63 158.85,-458.9\"/>\n",
       "<text text-anchor=\"middle\" x=\"151.03\" y=\"-476.61\" font-family=\"DejaVu Serif,serif\" font-size=\"10.00\" fill=\"#c1cdcd\">63</text>\n",
       "</g>\n",
       "</g>\n",
       "</svg>\n"
      ],
      "text/plain": [
       "GAP: <A monomorphism in FinQuivers>"
      ]
     },
     "execution_count": 54,
     "metadata": {},
     "output_type": "execute_result"
    }
   ],
   "source": [
    "SubobjectOfClassifyingMorphism( PreCompose( ClassifyingMorphismOfSubobject( emb ), j ) )"
   ]
  },
  {
   "cell_type": "code",
   "execution_count": null,
   "id": "51a26daa",
   "metadata": {},
   "outputs": [],
   "source": []
  },
  {
   "cell_type": "code",
   "execution_count": null,
   "id": "c7ecf122",
   "metadata": {},
   "outputs": [],
   "source": []
  },
  {
   "cell_type": "code",
   "execution_count": 55,
   "id": "fb1e4a8c",
   "metadata": {},
   "outputs": [
    {
     "data": {
      "image/svg+xml": [
       "<?xml version=\"1.0\" encoding=\"UTF-8\" standalone=\"no\"?>\n",
       "<!DOCTYPE svg PUBLIC \"-//W3C//DTD SVG 1.1//EN\"\n",
       " \"http://www.w3.org/Graphics/SVG/1.1/DTD/svg11.dtd\">\n",
       "<!-- Generated by graphviz version 2.50.0 (20211204.2007)\n",
       " -->\n",
       "<!-- Title: subquiver Pages: 1 -->\n",
       "<svg width=\"93pt\" height=\"94pt\"\n",
       " viewBox=\"0.00 0.00 93.43 93.68\" xmlns=\"http://www.w3.org/2000/svg\" xmlns:xlink=\"http://www.w3.org/1999/xlink\">\n",
       "<g id=\"graph0\" class=\"graph\" transform=\"scale(1 1) rotate(0) translate(4 89.68)\">\n",
       "<title>subquiver</title>\n",
       "<polygon fill=\"white\" stroke=\"transparent\" points=\"-4,4 -4,-89.68 89.43,-89.68 89.43,4 -4,4\"/>\n",
       "<!-- 0 -->\n",
       "<g id=\"node1\" class=\"node\">\n",
       "<title>0</title>\n",
       "<ellipse fill=\"none\" stroke=\"#c1cdcd\" cx=\"10.61\" cy=\"-17.08\" rx=\"10.71\" ry=\"10.71\"/>\n",
       "<text text-anchor=\"middle\" x=\"10.61\" y=\"-13.98\" font-family=\"DejaVu Serif,serif\" font-size=\"12.00\" fill=\"#c1cdcd\">0</text>\n",
       "</g>\n",
       "<!-- 0&#45;&gt;0 -->\n",
       "<g id=\"edge1\" class=\"edge\">\n",
       "<title>0&#45;&gt;0</title>\n",
       "<path fill=\"none\" stroke=\"#c1cdcd\" d=\"M5.76,-26.75C3.24,-35.83 4.86,-45.68 10.61,-45.68 15.28,-45.68 17.22,-39.18 16.44,-31.87\"/>\n",
       "<polygon fill=\"#c1cdcd\" stroke=\"#c1cdcd\" points=\"18.12,-31.33 15.46,-26.75 14.68,-31.99 18.12,-31.33\"/>\n",
       "<text text-anchor=\"middle\" x=\"10.61\" y=\"-48.68\" font-family=\"DejaVu Serif,serif\" font-size=\"10.00\" fill=\"#c1cdcd\">0</text>\n",
       "</g>\n",
       "<!-- 1 -->\n",
       "<g id=\"node2\" class=\"node\">\n",
       "<title>1</title>\n",
       "<ellipse fill=\"none\" stroke=\"#c1cdcd\" cx=\"74.82\" cy=\"-17.08\" rx=\"10.71\" ry=\"10.71\"/>\n",
       "<text text-anchor=\"middle\" x=\"74.82\" y=\"-13.98\" font-family=\"DejaVu Serif,serif\" font-size=\"12.00\" fill=\"#c1cdcd\">1</text>\n",
       "</g>\n",
       "<!-- 0&#45;&gt;1 -->\n",
       "<g id=\"edge3\" class=\"edge\">\n",
       "<title>0&#45;&gt;1</title>\n",
       "<path fill=\"none\" stroke=\"#c1cdcd\" d=\"M21.33,-17.08C31.4,-17.08 47.28,-17.08 58.94,-17.08\"/>\n",
       "<polygon fill=\"#c1cdcd\" stroke=\"#c1cdcd\" points=\"58.96,-18.83 63.96,-17.08 58.96,-15.33 58.96,-18.83\"/>\n",
       "<text text-anchor=\"middle\" x=\"42.71\" y=\"-20.08\" font-family=\"DejaVu Serif,serif\" font-size=\"10.00\" fill=\"#c1cdcd\">2</text>\n",
       "</g>\n",
       "<!-- 1&#45;&gt;0 -->\n",
       "<g id=\"edge2\" class=\"edge\">\n",
       "<title>1&#45;&gt;0</title>\n",
       "<path fill=\"none\" stroke=\"#c1cdcd\" d=\"M65.63,-10.79C60.39,-7.17 53.27,-2.97 46.21,-1.08 38.21,1.08 29.77,-2.7 23.22,-7.12\"/>\n",
       "<polygon fill=\"#c1cdcd\" stroke=\"#c1cdcd\" points=\"22.01,-5.84 19.02,-10.22 24.08,-8.66 22.01,-5.84\"/>\n",
       "<text text-anchor=\"middle\" x=\"42.71\" y=\"-4.08\" font-family=\"DejaVu Serif,serif\" font-size=\"10.00\" fill=\"#c1cdcd\">1</text>\n",
       "</g>\n",
       "<!-- 1&#45;&gt;1 -->\n",
       "<g id=\"edge4\" class=\"edge\">\n",
       "<title>1&#45;&gt;1</title>\n",
       "<path fill=\"none\" stroke=\"#c1cdcd\" d=\"M72.28,-27.64C71.19,-36.46 72.04,-45.68 74.82,-45.68 77.04,-45.68 78.02,-39.83 77.78,-32.98\"/>\n",
       "<polygon fill=\"#c1cdcd\" stroke=\"#c1cdcd\" points=\"79.5,-32.48 77.36,-27.64 76.01,-32.76 79.5,-32.48\"/>\n",
       "<text text-anchor=\"middle\" x=\"74.82\" y=\"-48.68\" font-family=\"DejaVu Serif,serif\" font-size=\"10.00\" fill=\"#c1cdcd\">3</text>\n",
       "</g>\n",
       "<!-- 1&#45;&gt;1 -->\n",
       "<g id=\"edge5\" class=\"edge\">\n",
       "<title>1&#45;&gt;1</title>\n",
       "<path fill=\"none\" stroke=\"#c1cdcd\" d=\"M71.16,-27.15C67.1,-43.17 68.32,-63.68 74.82,-63.68 80.66,-63.68 82.24,-47.12 79.55,-32.14\"/>\n",
       "<polygon fill=\"#c1cdcd\" stroke=\"#c1cdcd\" points=\"81.24,-31.67 78.48,-27.15 77.82,-32.4 81.24,-31.67\"/>\n",
       "<text text-anchor=\"middle\" x=\"74.82\" y=\"-66.68\" font-family=\"DejaVu Serif,serif\" font-size=\"10.00\" fill=\"#c1cdcd\">4</text>\n",
       "</g>\n",
       "</g>\n",
       "</svg>\n"
      ],
      "text/plain": [
       "GAP: <A monomorphism in FinQuivers>"
      ]
     },
     "execution_count": 55,
     "metadata": {},
     "output_type": "execute_result"
    }
   ],
   "source": [
    "f = subobjects[1]"
   ]
  },
  {
   "cell_type": "markdown",
   "id": "657ff49b",
   "metadata": {},
   "source": [
    "Specify a subquiver $S$ with no dangling vertices by specfying its arrows:"
   ]
  },
  {
   "cell_type": "code",
   "execution_count": 56,
   "id": "ad9d4b7d",
   "metadata": {},
   "outputs": [
    {
     "data": {
      "image/svg+xml": [
       "<?xml version=\"1.0\" encoding=\"UTF-8\" standalone=\"no\"?>\n",
       "<!DOCTYPE svg PUBLIC \"-//W3C//DTD SVG 1.1//EN\"\n",
       " \"http://www.w3.org/Graphics/SVG/1.1/DTD/svg11.dtd\">\n",
       "<!-- Generated by graphviz version 2.50.0 (20211204.2007)\n",
       " -->\n",
       "<!-- Title: subquiver Pages: 1 -->\n",
       "<svg width=\"93pt\" height=\"94pt\"\n",
       " viewBox=\"0.00 0.00 93.43 93.68\" xmlns=\"http://www.w3.org/2000/svg\" xmlns:xlink=\"http://www.w3.org/1999/xlink\">\n",
       "<g id=\"graph0\" class=\"graph\" transform=\"scale(1 1) rotate(0) translate(4 89.68)\">\n",
       "<title>subquiver</title>\n",
       "<polygon fill=\"white\" stroke=\"transparent\" points=\"-4,4 -4,-89.68 89.43,-89.68 89.43,4 -4,4\"/>\n",
       "<!-- 0 -->\n",
       "<g id=\"node1\" class=\"node\">\n",
       "<title>0</title>\n",
       "<ellipse fill=\"none\" stroke=\"#c1cdcd\" cx=\"10.61\" cy=\"-17.08\" rx=\"10.71\" ry=\"10.71\"/>\n",
       "<text text-anchor=\"middle\" x=\"10.61\" y=\"-13.98\" font-family=\"DejaVu Serif,serif\" font-size=\"12.00\" fill=\"#c1cdcd\">0</text>\n",
       "</g>\n",
       "<!-- 0&#45;&gt;0 -->\n",
       "<g id=\"edge1\" class=\"edge\">\n",
       "<title>0&#45;&gt;0</title>\n",
       "<path fill=\"none\" stroke=\"#c1cdcd\" d=\"M5.76,-26.75C3.24,-35.83 4.86,-45.68 10.61,-45.68 15.28,-45.68 17.22,-39.18 16.44,-31.87\"/>\n",
       "<polygon fill=\"#c1cdcd\" stroke=\"#c1cdcd\" points=\"18.12,-31.33 15.46,-26.75 14.68,-31.99 18.12,-31.33\"/>\n",
       "<text text-anchor=\"middle\" x=\"10.61\" y=\"-48.68\" font-family=\"DejaVu Serif,serif\" font-size=\"10.00\" fill=\"#c1cdcd\">0</text>\n",
       "</g>\n",
       "<!-- 1 -->\n",
       "<g id=\"node2\" class=\"node\">\n",
       "<title>1</title>\n",
       "<ellipse fill=\"none\" stroke=\"black\" cx=\"74.82\" cy=\"-17.08\" rx=\"10.71\" ry=\"10.71\"/>\n",
       "<text text-anchor=\"middle\" x=\"74.82\" y=\"-13.98\" font-family=\"DejaVu Serif,serif\" font-size=\"12.00\">1</text>\n",
       "</g>\n",
       "<!-- 0&#45;&gt;1 -->\n",
       "<g id=\"edge3\" class=\"edge\">\n",
       "<title>0&#45;&gt;1</title>\n",
       "<path fill=\"none\" stroke=\"#c1cdcd\" d=\"M21.33,-17.08C31.4,-17.08 47.28,-17.08 58.94,-17.08\"/>\n",
       "<polygon fill=\"#c1cdcd\" stroke=\"#c1cdcd\" points=\"58.96,-18.83 63.96,-17.08 58.96,-15.33 58.96,-18.83\"/>\n",
       "<text text-anchor=\"middle\" x=\"42.71\" y=\"-20.08\" font-family=\"DejaVu Serif,serif\" font-size=\"10.00\" fill=\"#c1cdcd\">2</text>\n",
       "</g>\n",
       "<!-- 1&#45;&gt;0 -->\n",
       "<g id=\"edge2\" class=\"edge\">\n",
       "<title>1&#45;&gt;0</title>\n",
       "<path fill=\"none\" stroke=\"#c1cdcd\" d=\"M65.63,-10.79C60.39,-7.17 53.27,-2.97 46.21,-1.08 38.21,1.08 29.77,-2.7 23.22,-7.12\"/>\n",
       "<polygon fill=\"#c1cdcd\" stroke=\"#c1cdcd\" points=\"22.01,-5.84 19.02,-10.22 24.08,-8.66 22.01,-5.84\"/>\n",
       "<text text-anchor=\"middle\" x=\"42.71\" y=\"-4.08\" font-family=\"DejaVu Serif,serif\" font-size=\"10.00\" fill=\"#c1cdcd\">1</text>\n",
       "</g>\n",
       "<!-- 1&#45;&gt;1 -->\n",
       "<g id=\"edge4\" class=\"edge\">\n",
       "<title>1&#45;&gt;1</title>\n",
       "<path fill=\"none\" stroke=\"black\" d=\"M72.28,-27.64C71.19,-36.46 72.04,-45.68 74.82,-45.68 77.04,-45.68 78.02,-39.83 77.78,-32.98\"/>\n",
       "<polygon fill=\"black\" stroke=\"black\" points=\"79.5,-32.48 77.36,-27.64 76.01,-32.76 79.5,-32.48\"/>\n",
       "<text text-anchor=\"middle\" x=\"74.82\" y=\"-48.68\" font-family=\"DejaVu Serif,serif\" font-size=\"10.00\">3</text>\n",
       "</g>\n",
       "<!-- 1&#45;&gt;1 -->\n",
       "<g id=\"edge5\" class=\"edge\">\n",
       "<title>1&#45;&gt;1</title>\n",
       "<path fill=\"none\" stroke=\"#c1cdcd\" d=\"M71.16,-27.15C67.1,-43.17 68.32,-63.68 74.82,-63.68 80.66,-63.68 82.24,-47.12 79.55,-32.14\"/>\n",
       "<polygon fill=\"#c1cdcd\" stroke=\"#c1cdcd\" points=\"81.24,-31.67 78.48,-27.15 77.82,-32.4 81.24,-31.67\"/>\n",
       "<text text-anchor=\"middle\" x=\"74.82\" y=\"-66.68\" font-family=\"DejaVu Serif,serif\" font-size=\"10.00\" fill=\"#c1cdcd\">4</text>\n",
       "</g>\n",
       "</g>\n",
       "</svg>\n"
      ],
      "text/plain": [
       "GAP: <A monomorphism in FinQuivers>"
      ]
     },
     "execution_count": 56,
     "metadata": {},
     "output_type": "execute_result"
    }
   ],
   "source": [
    "S = Subobject( Ω, [ 3 ] )"
   ]
  },
  {
   "cell_type": "code",
   "execution_count": 57,
   "id": "2f95f829",
   "metadata": {},
   "outputs": [
    {
     "data": {
      "text/plain": [
       "13"
      ]
     },
     "execution_count": 57,
     "metadata": {},
     "output_type": "execute_result"
    }
   ],
   "source": [
    "posS = Position( subobjects, S )"
   ]
  },
  {
   "cell_type": "code",
   "execution_count": 58,
   "id": "1d912924",
   "metadata": {},
   "outputs": [
    {
     "data": {
      "text/plain": [
       "true"
      ]
     },
     "execution_count": 58,
     "metadata": {},
     "output_type": "execute_result"
    }
   ],
   "source": [
    "S == subobjects[posS]"
   ]
  },
  {
   "cell_type": "code",
   "execution_count": 59,
   "id": "b36856f8",
   "metadata": {},
   "outputs": [
    {
     "data": {
      "image/svg+xml": [
       "<?xml version=\"1.0\" encoding=\"UTF-8\" standalone=\"no\"?>\n",
       "<!DOCTYPE svg PUBLIC \"-//W3C//DTD SVG 1.1//EN\"\n",
       " \"http://www.w3.org/Graphics/SVG/1.1/DTD/svg11.dtd\">\n",
       "<!-- Generated by graphviz version 2.50.0 (20211204.2007)\n",
       " -->\n",
       "<!-- Title: subquiver Pages: 1 -->\n",
       "<svg width=\"93pt\" height=\"94pt\"\n",
       " viewBox=\"0.00 0.00 93.43 93.68\" xmlns=\"http://www.w3.org/2000/svg\" xmlns:xlink=\"http://www.w3.org/1999/xlink\">\n",
       "<g id=\"graph0\" class=\"graph\" transform=\"scale(1 1) rotate(0) translate(4 89.68)\">\n",
       "<title>subquiver</title>\n",
       "<polygon fill=\"white\" stroke=\"transparent\" points=\"-4,4 -4,-89.68 89.43,-89.68 89.43,4 -4,4\"/>\n",
       "<!-- 0 -->\n",
       "<g id=\"node1\" class=\"node\">\n",
       "<title>0</title>\n",
       "<ellipse fill=\"none\" stroke=\"black\" cx=\"10.61\" cy=\"-17.08\" rx=\"10.71\" ry=\"10.71\"/>\n",
       "<text text-anchor=\"middle\" x=\"10.61\" y=\"-13.98\" font-family=\"DejaVu Serif,serif\" font-size=\"12.00\">0</text>\n",
       "</g>\n",
       "<!-- 0&#45;&gt;0 -->\n",
       "<g id=\"edge1\" class=\"edge\">\n",
       "<title>0&#45;&gt;0</title>\n",
       "<path fill=\"none\" stroke=\"black\" d=\"M5.76,-26.75C3.24,-35.83 4.86,-45.68 10.61,-45.68 15.28,-45.68 17.22,-39.18 16.44,-31.87\"/>\n",
       "<polygon fill=\"black\" stroke=\"black\" points=\"18.12,-31.33 15.46,-26.75 14.68,-31.99 18.12,-31.33\"/>\n",
       "<text text-anchor=\"middle\" x=\"10.61\" y=\"-48.68\" font-family=\"DejaVu Serif,serif\" font-size=\"10.00\">0</text>\n",
       "</g>\n",
       "<!-- 1 -->\n",
       "<g id=\"node2\" class=\"node\">\n",
       "<title>1</title>\n",
       "<ellipse fill=\"none\" stroke=\"#c1cdcd\" cx=\"74.82\" cy=\"-17.08\" rx=\"10.71\" ry=\"10.71\"/>\n",
       "<text text-anchor=\"middle\" x=\"74.82\" y=\"-13.98\" font-family=\"DejaVu Serif,serif\" font-size=\"12.00\" fill=\"#c1cdcd\">1</text>\n",
       "</g>\n",
       "<!-- 0&#45;&gt;1 -->\n",
       "<g id=\"edge3\" class=\"edge\">\n",
       "<title>0&#45;&gt;1</title>\n",
       "<path fill=\"none\" stroke=\"#c1cdcd\" d=\"M21.33,-17.08C31.4,-17.08 47.28,-17.08 58.94,-17.08\"/>\n",
       "<polygon fill=\"#c1cdcd\" stroke=\"#c1cdcd\" points=\"58.96,-18.83 63.96,-17.08 58.96,-15.33 58.96,-18.83\"/>\n",
       "<text text-anchor=\"middle\" x=\"42.71\" y=\"-20.08\" font-family=\"DejaVu Serif,serif\" font-size=\"10.00\" fill=\"#c1cdcd\">2</text>\n",
       "</g>\n",
       "<!-- 1&#45;&gt;0 -->\n",
       "<g id=\"edge2\" class=\"edge\">\n",
       "<title>1&#45;&gt;0</title>\n",
       "<path fill=\"none\" stroke=\"#c1cdcd\" d=\"M65.63,-10.79C60.39,-7.17 53.27,-2.97 46.21,-1.08 38.21,1.08 29.77,-2.7 23.22,-7.12\"/>\n",
       "<polygon fill=\"#c1cdcd\" stroke=\"#c1cdcd\" points=\"22.01,-5.84 19.02,-10.22 24.08,-8.66 22.01,-5.84\"/>\n",
       "<text text-anchor=\"middle\" x=\"42.71\" y=\"-4.08\" font-family=\"DejaVu Serif,serif\" font-size=\"10.00\" fill=\"#c1cdcd\">1</text>\n",
       "</g>\n",
       "<!-- 1&#45;&gt;1 -->\n",
       "<g id=\"edge4\" class=\"edge\">\n",
       "<title>1&#45;&gt;1</title>\n",
       "<path fill=\"none\" stroke=\"#c1cdcd\" d=\"M72.28,-27.64C71.19,-36.46 72.04,-45.68 74.82,-45.68 77.04,-45.68 78.02,-39.83 77.78,-32.98\"/>\n",
       "<polygon fill=\"#c1cdcd\" stroke=\"#c1cdcd\" points=\"79.5,-32.48 77.36,-27.64 76.01,-32.76 79.5,-32.48\"/>\n",
       "<text text-anchor=\"middle\" x=\"74.82\" y=\"-48.68\" font-family=\"DejaVu Serif,serif\" font-size=\"10.00\" fill=\"#c1cdcd\">3</text>\n",
       "</g>\n",
       "<!-- 1&#45;&gt;1 -->\n",
       "<g id=\"edge5\" class=\"edge\">\n",
       "<title>1&#45;&gt;1</title>\n",
       "<path fill=\"none\" stroke=\"#c1cdcd\" d=\"M71.16,-27.15C67.1,-43.17 68.32,-63.68 74.82,-63.68 80.66,-63.68 82.24,-47.12 79.55,-32.14\"/>\n",
       "<polygon fill=\"#c1cdcd\" stroke=\"#c1cdcd\" points=\"81.24,-31.67 78.48,-27.15 77.82,-32.4 81.24,-31.67\"/>\n",
       "<text text-anchor=\"middle\" x=\"74.82\" y=\"-66.68\" font-family=\"DejaVu Serif,serif\" font-size=\"10.00\" fill=\"#c1cdcd\">4</text>\n",
       "</g>\n",
       "</g>\n",
       "</svg>\n"
      ],
      "text/plain": [
       "GAP: <A monomorphism in FinQuivers>"
      ]
     },
     "execution_count": 59,
     "metadata": {},
     "output_type": "execute_result"
    }
   ],
   "source": [
    "notS = EmbeddingOfPseudoComplementSubobject( S )"
   ]
  },
  {
   "cell_type": "code",
   "execution_count": 60,
   "id": "51a06f30",
   "metadata": {},
   "outputs": [
    {
     "data": {
      "text/plain": [
       "3"
      ]
     },
     "execution_count": 60,
     "metadata": {},
     "output_type": "execute_result"
    }
   ],
   "source": [
    "pos = Position( subobjects, notS )"
   ]
  },
  {
   "cell_type": "code",
   "execution_count": 61,
   "id": "465af233",
   "metadata": {},
   "outputs": [
    {
     "data": {
      "text/plain": [
       "true"
      ]
     },
     "execution_count": 61,
     "metadata": {},
     "output_type": "execute_result"
    }
   ],
   "source": [
    "notS == subobjects[pos]"
   ]
  },
  {
   "cell_type": "code",
   "execution_count": 62,
   "id": "0245f422",
   "metadata": {},
   "outputs": [
    {
     "data": {
      "image/svg+xml": [
       "<?xml version=\"1.0\" encoding=\"UTF-8\" standalone=\"no\"?>\n",
       "<!DOCTYPE svg PUBLIC \"-//W3C//DTD SVG 1.1//EN\"\n",
       " \"http://www.w3.org/Graphics/SVG/1.1/DTD/svg11.dtd\">\n",
       "<!-- Generated by graphviz version 2.50.0 (20211204.2007)\n",
       " -->\n",
       "<!-- Title: subquiver Pages: 1 -->\n",
       "<svg width=\"93pt\" height=\"94pt\"\n",
       " viewBox=\"0.00 0.00 93.43 93.68\" xmlns=\"http://www.w3.org/2000/svg\" xmlns:xlink=\"http://www.w3.org/1999/xlink\">\n",
       "<g id=\"graph0\" class=\"graph\" transform=\"scale(1 1) rotate(0) translate(4 89.68)\">\n",
       "<title>subquiver</title>\n",
       "<polygon fill=\"white\" stroke=\"transparent\" points=\"-4,4 -4,-89.68 89.43,-89.68 89.43,4 -4,4\"/>\n",
       "<!-- 0 -->\n",
       "<g id=\"node1\" class=\"node\">\n",
       "<title>0</title>\n",
       "<ellipse fill=\"none\" stroke=\"#c1cdcd\" cx=\"10.61\" cy=\"-17.08\" rx=\"10.71\" ry=\"10.71\"/>\n",
       "<text text-anchor=\"middle\" x=\"10.61\" y=\"-13.98\" font-family=\"DejaVu Serif,serif\" font-size=\"12.00\" fill=\"#c1cdcd\">0</text>\n",
       "</g>\n",
       "<!-- 0&#45;&gt;0 -->\n",
       "<g id=\"edge1\" class=\"edge\">\n",
       "<title>0&#45;&gt;0</title>\n",
       "<path fill=\"none\" stroke=\"#c1cdcd\" d=\"M5.76,-26.75C3.24,-35.83 4.86,-45.68 10.61,-45.68 15.28,-45.68 17.22,-39.18 16.44,-31.87\"/>\n",
       "<polygon fill=\"#c1cdcd\" stroke=\"#c1cdcd\" points=\"18.12,-31.33 15.46,-26.75 14.68,-31.99 18.12,-31.33\"/>\n",
       "<text text-anchor=\"middle\" x=\"10.61\" y=\"-48.68\" font-family=\"DejaVu Serif,serif\" font-size=\"10.00\" fill=\"#c1cdcd\">0</text>\n",
       "</g>\n",
       "<!-- 1 -->\n",
       "<g id=\"node2\" class=\"node\">\n",
       "<title>1</title>\n",
       "<ellipse fill=\"none\" stroke=\"black\" cx=\"74.82\" cy=\"-17.08\" rx=\"10.71\" ry=\"10.71\"/>\n",
       "<text text-anchor=\"middle\" x=\"74.82\" y=\"-13.98\" font-family=\"DejaVu Serif,serif\" font-size=\"12.00\">1</text>\n",
       "</g>\n",
       "<!-- 0&#45;&gt;1 -->\n",
       "<g id=\"edge3\" class=\"edge\">\n",
       "<title>0&#45;&gt;1</title>\n",
       "<path fill=\"none\" stroke=\"#c1cdcd\" d=\"M21.33,-17.08C31.4,-17.08 47.28,-17.08 58.94,-17.08\"/>\n",
       "<polygon fill=\"#c1cdcd\" stroke=\"#c1cdcd\" points=\"58.96,-18.83 63.96,-17.08 58.96,-15.33 58.96,-18.83\"/>\n",
       "<text text-anchor=\"middle\" x=\"42.71\" y=\"-20.08\" font-family=\"DejaVu Serif,serif\" font-size=\"10.00\" fill=\"#c1cdcd\">2</text>\n",
       "</g>\n",
       "<!-- 1&#45;&gt;0 -->\n",
       "<g id=\"edge2\" class=\"edge\">\n",
       "<title>1&#45;&gt;0</title>\n",
       "<path fill=\"none\" stroke=\"#c1cdcd\" d=\"M65.63,-10.79C60.39,-7.17 53.27,-2.97 46.21,-1.08 38.21,1.08 29.77,-2.7 23.22,-7.12\"/>\n",
       "<polygon fill=\"#c1cdcd\" stroke=\"#c1cdcd\" points=\"22.01,-5.84 19.02,-10.22 24.08,-8.66 22.01,-5.84\"/>\n",
       "<text text-anchor=\"middle\" x=\"42.71\" y=\"-4.08\" font-family=\"DejaVu Serif,serif\" font-size=\"10.00\" fill=\"#c1cdcd\">1</text>\n",
       "</g>\n",
       "<!-- 1&#45;&gt;1 -->\n",
       "<g id=\"edge4\" class=\"edge\">\n",
       "<title>1&#45;&gt;1</title>\n",
       "<path fill=\"none\" stroke=\"black\" d=\"M72.28,-27.64C71.19,-36.46 72.04,-45.68 74.82,-45.68 77.04,-45.68 78.02,-39.83 77.78,-32.98\"/>\n",
       "<polygon fill=\"black\" stroke=\"black\" points=\"79.5,-32.48 77.36,-27.64 76.01,-32.76 79.5,-32.48\"/>\n",
       "<text text-anchor=\"middle\" x=\"74.82\" y=\"-48.68\" font-family=\"DejaVu Serif,serif\" font-size=\"10.00\">3</text>\n",
       "</g>\n",
       "<!-- 1&#45;&gt;1 -->\n",
       "<g id=\"edge5\" class=\"edge\">\n",
       "<title>1&#45;&gt;1</title>\n",
       "<path fill=\"none\" stroke=\"black\" d=\"M71.16,-27.15C67.1,-43.17 68.32,-63.68 74.82,-63.68 80.66,-63.68 82.24,-47.12 79.55,-32.14\"/>\n",
       "<polygon fill=\"black\" stroke=\"black\" points=\"81.24,-31.67 78.48,-27.15 77.82,-32.4 81.24,-31.67\"/>\n",
       "<text text-anchor=\"middle\" x=\"74.82\" y=\"-66.68\" font-family=\"DejaVu Serif,serif\" font-size=\"10.00\">4</text>\n",
       "</g>\n",
       "</g>\n",
       "</svg>\n"
      ],
      "text/plain": [
       "GAP: <A monomorphism in FinQuivers>"
      ]
     },
     "execution_count": 62,
     "metadata": {},
     "output_type": "execute_result"
    }
   ],
   "source": [
    "notnotS = EmbeddingOfPseudoComplementSubobject( notS )"
   ]
  },
  {
   "cell_type": "code",
   "execution_count": 63,
   "id": "bd0b4ce9",
   "metadata": {},
   "outputs": [
    {
     "data": {
      "text/plain": [
       "31"
      ]
     },
     "execution_count": 63,
     "metadata": {},
     "output_type": "execute_result"
    }
   ],
   "source": [
    "Position( subobjects, notnotS )"
   ]
  },
  {
   "cell_type": "code",
   "execution_count": 64,
   "id": "f2fd724c",
   "metadata": {},
   "outputs": [
    {
     "data": {
      "text/plain": [
       "true"
      ]
     },
     "execution_count": 64,
     "metadata": {},
     "output_type": "execute_result"
    }
   ],
   "source": [
    "IsLiftableAlongMonomorphism( notnotS, S )"
   ]
  },
  {
   "cell_type": "code",
   "execution_count": 65,
   "id": "dfe9fc69",
   "metadata": {},
   "outputs": [
    {
     "data": {
      "text/plain": [
       "false"
      ]
     },
     "execution_count": 65,
     "metadata": {},
     "output_type": "execute_result"
    }
   ],
   "source": [
    "IsLiftableAlongMonomorphism( S, notnotS )"
   ]
  },
  {
   "cell_type": "code",
   "execution_count": 66,
   "id": "09d25900",
   "metadata": {},
   "outputs": [
    {
     "data": {
      "image/svg+xml": [
       "<?xml version=\"1.0\" encoding=\"UTF-8\" standalone=\"no\"?>\n",
       "<!DOCTYPE svg PUBLIC \"-//W3C//DTD SVG 1.1//EN\"\n",
       " \"http://www.w3.org/Graphics/SVG/1.1/DTD/svg11.dtd\">\n",
       "<!-- Generated by graphviz version 2.50.0 (20211204.2007)\n",
       " -->\n",
       "<!-- Title: subquiver Pages: 1 -->\n",
       "<svg width=\"93pt\" height=\"94pt\"\n",
       " viewBox=\"0.00 0.00 93.43 93.68\" xmlns=\"http://www.w3.org/2000/svg\" xmlns:xlink=\"http://www.w3.org/1999/xlink\">\n",
       "<g id=\"graph0\" class=\"graph\" transform=\"scale(1 1) rotate(0) translate(4 89.68)\">\n",
       "<title>subquiver</title>\n",
       "<polygon fill=\"white\" stroke=\"transparent\" points=\"-4,4 -4,-89.68 89.43,-89.68 89.43,4 -4,4\"/>\n",
       "<!-- 0 -->\n",
       "<g id=\"node1\" class=\"node\">\n",
       "<title>0</title>\n",
       "<ellipse fill=\"none\" stroke=\"black\" cx=\"10.61\" cy=\"-17.08\" rx=\"10.71\" ry=\"10.71\"/>\n",
       "<text text-anchor=\"middle\" x=\"10.61\" y=\"-13.98\" font-family=\"DejaVu Serif,serif\" font-size=\"12.00\">0</text>\n",
       "</g>\n",
       "<!-- 0&#45;&gt;0 -->\n",
       "<g id=\"edge1\" class=\"edge\">\n",
       "<title>0&#45;&gt;0</title>\n",
       "<path fill=\"none\" stroke=\"black\" d=\"M5.76,-26.75C3.24,-35.83 4.86,-45.68 10.61,-45.68 15.28,-45.68 17.22,-39.18 16.44,-31.87\"/>\n",
       "<polygon fill=\"black\" stroke=\"black\" points=\"18.12,-31.33 15.46,-26.75 14.68,-31.99 18.12,-31.33\"/>\n",
       "<text text-anchor=\"middle\" x=\"10.61\" y=\"-48.68\" font-family=\"DejaVu Serif,serif\" font-size=\"10.00\">0</text>\n",
       "</g>\n",
       "<!-- 1 -->\n",
       "<g id=\"node2\" class=\"node\">\n",
       "<title>1</title>\n",
       "<ellipse fill=\"none\" stroke=\"#c1cdcd\" cx=\"74.82\" cy=\"-17.08\" rx=\"10.71\" ry=\"10.71\"/>\n",
       "<text text-anchor=\"middle\" x=\"74.82\" y=\"-13.98\" font-family=\"DejaVu Serif,serif\" font-size=\"12.00\" fill=\"#c1cdcd\">1</text>\n",
       "</g>\n",
       "<!-- 0&#45;&gt;1 -->\n",
       "<g id=\"edge3\" class=\"edge\">\n",
       "<title>0&#45;&gt;1</title>\n",
       "<path fill=\"none\" stroke=\"#c1cdcd\" d=\"M21.33,-17.08C31.4,-17.08 47.28,-17.08 58.94,-17.08\"/>\n",
       "<polygon fill=\"#c1cdcd\" stroke=\"#c1cdcd\" points=\"58.96,-18.83 63.96,-17.08 58.96,-15.33 58.96,-18.83\"/>\n",
       "<text text-anchor=\"middle\" x=\"42.71\" y=\"-20.08\" font-family=\"DejaVu Serif,serif\" font-size=\"10.00\" fill=\"#c1cdcd\">2</text>\n",
       "</g>\n",
       "<!-- 1&#45;&gt;0 -->\n",
       "<g id=\"edge2\" class=\"edge\">\n",
       "<title>1&#45;&gt;0</title>\n",
       "<path fill=\"none\" stroke=\"#c1cdcd\" d=\"M65.63,-10.79C60.39,-7.17 53.27,-2.97 46.21,-1.08 38.21,1.08 29.77,-2.7 23.22,-7.12\"/>\n",
       "<polygon fill=\"#c1cdcd\" stroke=\"#c1cdcd\" points=\"22.01,-5.84 19.02,-10.22 24.08,-8.66 22.01,-5.84\"/>\n",
       "<text text-anchor=\"middle\" x=\"42.71\" y=\"-4.08\" font-family=\"DejaVu Serif,serif\" font-size=\"10.00\" fill=\"#c1cdcd\">1</text>\n",
       "</g>\n",
       "<!-- 1&#45;&gt;1 -->\n",
       "<g id=\"edge4\" class=\"edge\">\n",
       "<title>1&#45;&gt;1</title>\n",
       "<path fill=\"none\" stroke=\"#c1cdcd\" d=\"M72.28,-27.64C71.19,-36.46 72.04,-45.68 74.82,-45.68 77.04,-45.68 78.02,-39.83 77.78,-32.98\"/>\n",
       "<polygon fill=\"#c1cdcd\" stroke=\"#c1cdcd\" points=\"79.5,-32.48 77.36,-27.64 76.01,-32.76 79.5,-32.48\"/>\n",
       "<text text-anchor=\"middle\" x=\"74.82\" y=\"-48.68\" font-family=\"DejaVu Serif,serif\" font-size=\"10.00\" fill=\"#c1cdcd\">3</text>\n",
       "</g>\n",
       "<!-- 1&#45;&gt;1 -->\n",
       "<g id=\"edge5\" class=\"edge\">\n",
       "<title>1&#45;&gt;1</title>\n",
       "<path fill=\"none\" stroke=\"#c1cdcd\" d=\"M71.16,-27.15C67.1,-43.17 68.32,-63.68 74.82,-63.68 80.66,-63.68 82.24,-47.12 79.55,-32.14\"/>\n",
       "<polygon fill=\"#c1cdcd\" stroke=\"#c1cdcd\" points=\"81.24,-31.67 78.48,-27.15 77.82,-32.4 81.24,-31.67\"/>\n",
       "<text text-anchor=\"middle\" x=\"74.82\" y=\"-66.68\" font-family=\"DejaVu Serif,serif\" font-size=\"10.00\" fill=\"#c1cdcd\">4</text>\n",
       "</g>\n",
       "</g>\n",
       "</svg>\n"
      ],
      "text/plain": [
       "GAP: <A monomorphism in FinQuivers>"
      ]
     },
     "execution_count": 66,
     "metadata": {},
     "output_type": "execute_result"
    }
   ],
   "source": [
    "notnotnotS = EmbeddingOfPseudoComplementSubobject( notnotS )"
   ]
  },
  {
   "cell_type": "code",
   "execution_count": 67,
   "id": "416c6daf",
   "metadata": {},
   "outputs": [
    {
     "data": {
      "text/plain": [
       "true"
      ]
     },
     "execution_count": 67,
     "metadata": {},
     "output_type": "execute_result"
    }
   ],
   "source": [
    "IsEqualAsSubobjects( notS, notnotnotS )"
   ]
  },
  {
   "cell_type": "code",
   "execution_count": 68,
   "id": "31bef69b",
   "metadata": {},
   "outputs": [
    {
     "data": {
      "image/svg+xml": [
       "<?xml version=\"1.0\" encoding=\"UTF-8\" standalone=\"no\"?>\n",
       "<!DOCTYPE svg PUBLIC \"-//W3C//DTD SVG 1.1//EN\"\n",
       " \"http://www.w3.org/Graphics/SVG/1.1/DTD/svg11.dtd\">\n",
       "<!-- Generated by graphviz version 2.50.0 (20211204.2007)\n",
       " -->\n",
       "<!-- Title: subquiver Pages: 1 -->\n",
       "<svg width=\"93pt\" height=\"94pt\"\n",
       " viewBox=\"0.00 0.00 93.43 93.68\" xmlns=\"http://www.w3.org/2000/svg\" xmlns:xlink=\"http://www.w3.org/1999/xlink\">\n",
       "<g id=\"graph0\" class=\"graph\" transform=\"scale(1 1) rotate(0) translate(4 89.68)\">\n",
       "<title>subquiver</title>\n",
       "<polygon fill=\"white\" stroke=\"transparent\" points=\"-4,4 -4,-89.68 89.43,-89.68 89.43,4 -4,4\"/>\n",
       "<!-- 0 -->\n",
       "<g id=\"node1\" class=\"node\">\n",
       "<title>0</title>\n",
       "<ellipse fill=\"none\" stroke=\"black\" cx=\"10.61\" cy=\"-17.08\" rx=\"10.71\" ry=\"10.71\"/>\n",
       "<text text-anchor=\"middle\" x=\"10.61\" y=\"-13.98\" font-family=\"DejaVu Serif,serif\" font-size=\"12.00\">0</text>\n",
       "</g>\n",
       "<!-- 0&#45;&gt;0 -->\n",
       "<g id=\"edge1\" class=\"edge\">\n",
       "<title>0&#45;&gt;0</title>\n",
       "<path fill=\"none\" stroke=\"black\" d=\"M5.76,-26.75C3.24,-35.83 4.86,-45.68 10.61,-45.68 15.28,-45.68 17.22,-39.18 16.44,-31.87\"/>\n",
       "<polygon fill=\"black\" stroke=\"black\" points=\"18.12,-31.33 15.46,-26.75 14.68,-31.99 18.12,-31.33\"/>\n",
       "<text text-anchor=\"middle\" x=\"10.61\" y=\"-48.68\" font-family=\"DejaVu Serif,serif\" font-size=\"10.00\">0</text>\n",
       "</g>\n",
       "<!-- 1 -->\n",
       "<g id=\"node2\" class=\"node\">\n",
       "<title>1</title>\n",
       "<ellipse fill=\"none\" stroke=\"black\" cx=\"74.82\" cy=\"-17.08\" rx=\"10.71\" ry=\"10.71\"/>\n",
       "<text text-anchor=\"middle\" x=\"74.82\" y=\"-13.98\" font-family=\"DejaVu Serif,serif\" font-size=\"12.00\">1</text>\n",
       "</g>\n",
       "<!-- 0&#45;&gt;1 -->\n",
       "<g id=\"edge3\" class=\"edge\">\n",
       "<title>0&#45;&gt;1</title>\n",
       "<path fill=\"none\" stroke=\"#c1cdcd\" d=\"M21.33,-17.08C31.4,-17.08 47.28,-17.08 58.94,-17.08\"/>\n",
       "<polygon fill=\"#c1cdcd\" stroke=\"#c1cdcd\" points=\"58.96,-18.83 63.96,-17.08 58.96,-15.33 58.96,-18.83\"/>\n",
       "<text text-anchor=\"middle\" x=\"42.71\" y=\"-20.08\" font-family=\"DejaVu Serif,serif\" font-size=\"10.00\" fill=\"#c1cdcd\">2</text>\n",
       "</g>\n",
       "<!-- 1&#45;&gt;0 -->\n",
       "<g id=\"edge2\" class=\"edge\">\n",
       "<title>1&#45;&gt;0</title>\n",
       "<path fill=\"none\" stroke=\"#c1cdcd\" d=\"M65.63,-10.79C60.39,-7.17 53.27,-2.97 46.21,-1.08 38.21,1.08 29.77,-2.7 23.22,-7.12\"/>\n",
       "<polygon fill=\"#c1cdcd\" stroke=\"#c1cdcd\" points=\"22.01,-5.84 19.02,-10.22 24.08,-8.66 22.01,-5.84\"/>\n",
       "<text text-anchor=\"middle\" x=\"42.71\" y=\"-4.08\" font-family=\"DejaVu Serif,serif\" font-size=\"10.00\" fill=\"#c1cdcd\">1</text>\n",
       "</g>\n",
       "<!-- 1&#45;&gt;1 -->\n",
       "<g id=\"edge4\" class=\"edge\">\n",
       "<title>1&#45;&gt;1</title>\n",
       "<path fill=\"none\" stroke=\"black\" d=\"M72.28,-27.64C71.19,-36.46 72.04,-45.68 74.82,-45.68 77.04,-45.68 78.02,-39.83 77.78,-32.98\"/>\n",
       "<polygon fill=\"black\" stroke=\"black\" points=\"79.5,-32.48 77.36,-27.64 76.01,-32.76 79.5,-32.48\"/>\n",
       "<text text-anchor=\"middle\" x=\"74.82\" y=\"-48.68\" font-family=\"DejaVu Serif,serif\" font-size=\"10.00\">3</text>\n",
       "</g>\n",
       "<!-- 1&#45;&gt;1 -->\n",
       "<g id=\"edge5\" class=\"edge\">\n",
       "<title>1&#45;&gt;1</title>\n",
       "<path fill=\"none\" stroke=\"#c1cdcd\" d=\"M71.16,-27.15C67.1,-43.17 68.32,-63.68 74.82,-63.68 80.66,-63.68 82.24,-47.12 79.55,-32.14\"/>\n",
       "<polygon fill=\"#c1cdcd\" stroke=\"#c1cdcd\" points=\"81.24,-31.67 78.48,-27.15 77.82,-32.4 81.24,-31.67\"/>\n",
       "<text text-anchor=\"middle\" x=\"74.82\" y=\"-66.68\" font-family=\"DejaVu Serif,serif\" font-size=\"10.00\" fill=\"#c1cdcd\">4</text>\n",
       "</g>\n",
       "</g>\n",
       "</svg>\n"
      ],
      "text/plain": [
       "GAP: <A monomorphism in FinQuivers>"
      ]
     },
     "execution_count": 68,
     "metadata": {},
     "output_type": "execute_result"
    }
   ],
   "source": [
    "S_or_notS = EmbeddingOfUnionSubobject( S, notS )"
   ]
  },
  {
   "cell_type": "code",
   "execution_count": 69,
   "id": "531ed1ae",
   "metadata": {},
   "outputs": [
    {
     "data": {
      "text/plain": [
       "15"
      ]
     },
     "execution_count": 69,
     "metadata": {},
     "output_type": "execute_result"
    }
   ],
   "source": [
    "Position( subobjects, S_or_notS )"
   ]
  },
  {
   "cell_type": "code",
   "execution_count": 70,
   "id": "403d2fcc",
   "metadata": {},
   "outputs": [
    {
     "data": {
      "image/svg+xml": [
       "<?xml version=\"1.0\" encoding=\"UTF-8\" standalone=\"no\"?>\n",
       "<!DOCTYPE svg PUBLIC \"-//W3C//DTD SVG 1.1//EN\"\n",
       " \"http://www.w3.org/Graphics/SVG/1.1/DTD/svg11.dtd\">\n",
       "<!-- Generated by graphviz version 2.50.0 (20211204.2007)\n",
       " -->\n",
       "<!-- Title: subquiver Pages: 1 -->\n",
       "<svg width=\"93pt\" height=\"94pt\"\n",
       " viewBox=\"0.00 0.00 93.43 93.68\" xmlns=\"http://www.w3.org/2000/svg\" xmlns:xlink=\"http://www.w3.org/1999/xlink\">\n",
       "<g id=\"graph0\" class=\"graph\" transform=\"scale(1 1) rotate(0) translate(4 89.68)\">\n",
       "<title>subquiver</title>\n",
       "<polygon fill=\"white\" stroke=\"transparent\" points=\"-4,4 -4,-89.68 89.43,-89.68 89.43,4 -4,4\"/>\n",
       "<!-- 0 -->\n",
       "<g id=\"node1\" class=\"node\">\n",
       "<title>0</title>\n",
       "<ellipse fill=\"none\" stroke=\"black\" cx=\"10.61\" cy=\"-17.08\" rx=\"10.71\" ry=\"10.71\"/>\n",
       "<text text-anchor=\"middle\" x=\"10.61\" y=\"-13.98\" font-family=\"DejaVu Serif,serif\" font-size=\"12.00\">0</text>\n",
       "</g>\n",
       "<!-- 0&#45;&gt;0 -->\n",
       "<g id=\"edge1\" class=\"edge\">\n",
       "<title>0&#45;&gt;0</title>\n",
       "<path fill=\"none\" stroke=\"black\" d=\"M5.76,-26.75C3.24,-35.83 4.86,-45.68 10.61,-45.68 15.28,-45.68 17.22,-39.18 16.44,-31.87\"/>\n",
       "<polygon fill=\"black\" stroke=\"black\" points=\"18.12,-31.33 15.46,-26.75 14.68,-31.99 18.12,-31.33\"/>\n",
       "<text text-anchor=\"middle\" x=\"10.61\" y=\"-48.68\" font-family=\"DejaVu Serif,serif\" font-size=\"10.00\">0</text>\n",
       "</g>\n",
       "<!-- 1 -->\n",
       "<g id=\"node2\" class=\"node\">\n",
       "<title>1</title>\n",
       "<ellipse fill=\"none\" stroke=\"black\" cx=\"74.82\" cy=\"-17.08\" rx=\"10.71\" ry=\"10.71\"/>\n",
       "<text text-anchor=\"middle\" x=\"74.82\" y=\"-13.98\" font-family=\"DejaVu Serif,serif\" font-size=\"12.00\">1</text>\n",
       "</g>\n",
       "<!-- 0&#45;&gt;1 -->\n",
       "<g id=\"edge3\" class=\"edge\">\n",
       "<title>0&#45;&gt;1</title>\n",
       "<path fill=\"none\" stroke=\"#c1cdcd\" d=\"M21.33,-17.08C31.4,-17.08 47.28,-17.08 58.94,-17.08\"/>\n",
       "<polygon fill=\"#c1cdcd\" stroke=\"#c1cdcd\" points=\"58.96,-18.83 63.96,-17.08 58.96,-15.33 58.96,-18.83\"/>\n",
       "<text text-anchor=\"middle\" x=\"42.71\" y=\"-20.08\" font-family=\"DejaVu Serif,serif\" font-size=\"10.00\" fill=\"#c1cdcd\">2</text>\n",
       "</g>\n",
       "<!-- 1&#45;&gt;0 -->\n",
       "<g id=\"edge2\" class=\"edge\">\n",
       "<title>1&#45;&gt;0</title>\n",
       "<path fill=\"none\" stroke=\"#c1cdcd\" d=\"M65.63,-10.79C60.39,-7.17 53.27,-2.97 46.21,-1.08 38.21,1.08 29.77,-2.7 23.22,-7.12\"/>\n",
       "<polygon fill=\"#c1cdcd\" stroke=\"#c1cdcd\" points=\"22.01,-5.84 19.02,-10.22 24.08,-8.66 22.01,-5.84\"/>\n",
       "<text text-anchor=\"middle\" x=\"42.71\" y=\"-4.08\" font-family=\"DejaVu Serif,serif\" font-size=\"10.00\" fill=\"#c1cdcd\">1</text>\n",
       "</g>\n",
       "<!-- 1&#45;&gt;1 -->\n",
       "<g id=\"edge4\" class=\"edge\">\n",
       "<title>1&#45;&gt;1</title>\n",
       "<path fill=\"none\" stroke=\"black\" d=\"M72.28,-27.64C71.19,-36.46 72.04,-45.68 74.82,-45.68 77.04,-45.68 78.02,-39.83 77.78,-32.98\"/>\n",
       "<polygon fill=\"black\" stroke=\"black\" points=\"79.5,-32.48 77.36,-27.64 76.01,-32.76 79.5,-32.48\"/>\n",
       "<text text-anchor=\"middle\" x=\"74.82\" y=\"-48.68\" font-family=\"DejaVu Serif,serif\" font-size=\"10.00\">3</text>\n",
       "</g>\n",
       "<!-- 1&#45;&gt;1 -->\n",
       "<g id=\"edge5\" class=\"edge\">\n",
       "<title>1&#45;&gt;1</title>\n",
       "<path fill=\"none\" stroke=\"black\" d=\"M71.16,-27.15C67.1,-43.17 68.32,-63.68 74.82,-63.68 80.66,-63.68 82.24,-47.12 79.55,-32.14\"/>\n",
       "<polygon fill=\"black\" stroke=\"black\" points=\"81.24,-31.67 78.48,-27.15 77.82,-32.4 81.24,-31.67\"/>\n",
       "<text text-anchor=\"middle\" x=\"74.82\" y=\"-66.68\" font-family=\"DejaVu Serif,serif\" font-size=\"10.00\">4</text>\n",
       "</g>\n",
       "</g>\n",
       "</svg>\n"
      ],
      "text/plain": [
       "GAP: <A monomorphism in FinQuivers>"
      ]
     },
     "execution_count": 70,
     "metadata": {},
     "output_type": "execute_result"
    }
   ],
   "source": [
    "notS_or_notnotS = EmbeddingOfUnionSubobject( notS, notnotS )"
   ]
  },
  {
   "cell_type": "code",
   "execution_count": 71,
   "id": "dcf2b375",
   "metadata": {},
   "outputs": [
    {
     "data": {
      "text/plain": [
       "33"
      ]
     },
     "execution_count": 71,
     "metadata": {},
     "output_type": "execute_result"
    }
   ],
   "source": [
    "Position( subobjects, notS_or_notnotS )"
   ]
  },
  {
   "cell_type": "code",
   "execution_count": 72,
   "id": "ac58c082",
   "metadata": {},
   "outputs": [
    {
     "data": {
      "image/svg+xml": [
       "<?xml version=\"1.0\" encoding=\"UTF-8\" standalone=\"no\"?>\n",
       "<!DOCTYPE svg PUBLIC \"-//W3C//DTD SVG 1.1//EN\"\n",
       " \"http://www.w3.org/Graphics/SVG/1.1/DTD/svg11.dtd\">\n",
       "<!-- Generated by graphviz version 2.50.0 (20211204.2007)\n",
       " -->\n",
       "<!-- Title: subquiver Pages: 1 -->\n",
       "<svg width=\"93pt\" height=\"94pt\"\n",
       " viewBox=\"0.00 0.00 93.43 93.68\" xmlns=\"http://www.w3.org/2000/svg\" xmlns:xlink=\"http://www.w3.org/1999/xlink\">\n",
       "<g id=\"graph0\" class=\"graph\" transform=\"scale(1 1) rotate(0) translate(4 89.68)\">\n",
       "<title>subquiver</title>\n",
       "<polygon fill=\"white\" stroke=\"transparent\" points=\"-4,4 -4,-89.68 89.43,-89.68 89.43,4 -4,4\"/>\n",
       "<!-- 0 -->\n",
       "<g id=\"node1\" class=\"node\">\n",
       "<title>0</title>\n",
       "<ellipse fill=\"none\" stroke=\"black\" cx=\"10.61\" cy=\"-17.08\" rx=\"10.71\" ry=\"10.71\"/>\n",
       "<text text-anchor=\"middle\" x=\"10.61\" y=\"-13.98\" font-family=\"DejaVu Serif,serif\" font-size=\"12.00\">0</text>\n",
       "</g>\n",
       "<!-- 0&#45;&gt;0 -->\n",
       "<g id=\"edge1\" class=\"edge\">\n",
       "<title>0&#45;&gt;0</title>\n",
       "<path fill=\"none\" stroke=\"black\" d=\"M5.76,-26.75C3.24,-35.83 4.86,-45.68 10.61,-45.68 15.28,-45.68 17.22,-39.18 16.44,-31.87\"/>\n",
       "<polygon fill=\"black\" stroke=\"black\" points=\"18.12,-31.33 15.46,-26.75 14.68,-31.99 18.12,-31.33\"/>\n",
       "<text text-anchor=\"middle\" x=\"10.61\" y=\"-48.68\" font-family=\"DejaVu Serif,serif\" font-size=\"10.00\">0</text>\n",
       "</g>\n",
       "<!-- 1 -->\n",
       "<g id=\"node2\" class=\"node\">\n",
       "<title>1</title>\n",
       "<ellipse fill=\"none\" stroke=\"black\" cx=\"74.82\" cy=\"-17.08\" rx=\"10.71\" ry=\"10.71\"/>\n",
       "<text text-anchor=\"middle\" x=\"74.82\" y=\"-13.98\" font-family=\"DejaVu Serif,serif\" font-size=\"12.00\">1</text>\n",
       "</g>\n",
       "<!-- 0&#45;&gt;1 -->\n",
       "<g id=\"edge3\" class=\"edge\">\n",
       "<title>0&#45;&gt;1</title>\n",
       "<path fill=\"none\" stroke=\"#c1cdcd\" d=\"M21.33,-17.08C31.4,-17.08 47.28,-17.08 58.94,-17.08\"/>\n",
       "<polygon fill=\"#c1cdcd\" stroke=\"#c1cdcd\" points=\"58.96,-18.83 63.96,-17.08 58.96,-15.33 58.96,-18.83\"/>\n",
       "<text text-anchor=\"middle\" x=\"42.71\" y=\"-20.08\" font-family=\"DejaVu Serif,serif\" font-size=\"10.00\" fill=\"#c1cdcd\">2</text>\n",
       "</g>\n",
       "<!-- 1&#45;&gt;0 -->\n",
       "<g id=\"edge2\" class=\"edge\">\n",
       "<title>1&#45;&gt;0</title>\n",
       "<path fill=\"none\" stroke=\"#c1cdcd\" d=\"M65.63,-10.79C60.39,-7.17 53.27,-2.97 46.21,-1.08 38.21,1.08 29.77,-2.7 23.22,-7.12\"/>\n",
       "<polygon fill=\"#c1cdcd\" stroke=\"#c1cdcd\" points=\"22.01,-5.84 19.02,-10.22 24.08,-8.66 22.01,-5.84\"/>\n",
       "<text text-anchor=\"middle\" x=\"42.71\" y=\"-4.08\" font-family=\"DejaVu Serif,serif\" font-size=\"10.00\" fill=\"#c1cdcd\">1</text>\n",
       "</g>\n",
       "<!-- 1&#45;&gt;1 -->\n",
       "<g id=\"edge4\" class=\"edge\">\n",
       "<title>1&#45;&gt;1</title>\n",
       "<path fill=\"none\" stroke=\"black\" d=\"M72.28,-27.64C71.19,-36.46 72.04,-45.68 74.82,-45.68 77.04,-45.68 78.02,-39.83 77.78,-32.98\"/>\n",
       "<polygon fill=\"black\" stroke=\"black\" points=\"79.5,-32.48 77.36,-27.64 76.01,-32.76 79.5,-32.48\"/>\n",
       "<text text-anchor=\"middle\" x=\"74.82\" y=\"-48.68\" font-family=\"DejaVu Serif,serif\" font-size=\"10.00\">3</text>\n",
       "</g>\n",
       "<!-- 1&#45;&gt;1 -->\n",
       "<g id=\"edge5\" class=\"edge\">\n",
       "<title>1&#45;&gt;1</title>\n",
       "<path fill=\"none\" stroke=\"black\" d=\"M71.16,-27.15C67.1,-43.17 68.32,-63.68 74.82,-63.68 80.66,-63.68 82.24,-47.12 79.55,-32.14\"/>\n",
       "<polygon fill=\"black\" stroke=\"black\" points=\"81.24,-31.67 78.48,-27.15 77.82,-32.4 81.24,-31.67\"/>\n",
       "<text text-anchor=\"middle\" x=\"74.82\" y=\"-66.68\" font-family=\"DejaVu Serif,serif\" font-size=\"10.00\">4</text>\n",
       "</g>\n",
       "</g>\n",
       "</svg>\n"
      ],
      "text/plain": [
       "GAP: <A monomorphism in FinQuivers>"
      ]
     },
     "execution_count": 72,
     "metadata": {},
     "output_type": "execute_result"
    }
   ],
   "source": [
    "notnotS_or_notnotnotS = EmbeddingOfUnionSubobject( notS, notnotS )"
   ]
  },
  {
   "cell_type": "code",
   "execution_count": 73,
   "id": "0b624792",
   "metadata": {},
   "outputs": [
    {
     "data": {
      "text/plain": [
       "true"
      ]
     },
     "execution_count": 73,
     "metadata": {},
     "output_type": "execute_result"
    }
   ],
   "source": [
    "IsEqualAsSubobjects( notS_or_notnotS, notnotS_or_notnotnotS )"
   ]
  },
  {
   "cell_type": "markdown",
   "id": "ae671a96",
   "metadata": {},
   "source": [
    "Specify a subquiver $T$ with no dangling vertices by specfying its arrows:"
   ]
  },
  {
   "cell_type": "code",
   "execution_count": 74,
   "id": "53bdb5b0",
   "metadata": {},
   "outputs": [
    {
     "data": {
      "image/svg+xml": [
       "<?xml version=\"1.0\" encoding=\"UTF-8\" standalone=\"no\"?>\n",
       "<!DOCTYPE svg PUBLIC \"-//W3C//DTD SVG 1.1//EN\"\n",
       " \"http://www.w3.org/Graphics/SVG/1.1/DTD/svg11.dtd\">\n",
       "<!-- Generated by graphviz version 2.50.0 (20211204.2007)\n",
       " -->\n",
       "<!-- Title: subquiver Pages: 1 -->\n",
       "<svg width=\"93pt\" height=\"94pt\"\n",
       " viewBox=\"0.00 0.00 93.43 93.68\" xmlns=\"http://www.w3.org/2000/svg\" xmlns:xlink=\"http://www.w3.org/1999/xlink\">\n",
       "<g id=\"graph0\" class=\"graph\" transform=\"scale(1 1) rotate(0) translate(4 89.68)\">\n",
       "<title>subquiver</title>\n",
       "<polygon fill=\"white\" stroke=\"transparent\" points=\"-4,4 -4,-89.68 89.43,-89.68 89.43,4 -4,4\"/>\n",
       "<!-- 0 -->\n",
       "<g id=\"node1\" class=\"node\">\n",
       "<title>0</title>\n",
       "<ellipse fill=\"none\" stroke=\"black\" cx=\"10.61\" cy=\"-17.08\" rx=\"10.71\" ry=\"10.71\"/>\n",
       "<text text-anchor=\"middle\" x=\"10.61\" y=\"-13.98\" font-family=\"DejaVu Serif,serif\" font-size=\"12.00\">0</text>\n",
       "</g>\n",
       "<!-- 0&#45;&gt;0 -->\n",
       "<g id=\"edge1\" class=\"edge\">\n",
       "<title>0&#45;&gt;0</title>\n",
       "<path fill=\"none\" stroke=\"black\" d=\"M5.76,-26.75C3.24,-35.83 4.86,-45.68 10.61,-45.68 15.28,-45.68 17.22,-39.18 16.44,-31.87\"/>\n",
       "<polygon fill=\"black\" stroke=\"black\" points=\"18.12,-31.33 15.46,-26.75 14.68,-31.99 18.12,-31.33\"/>\n",
       "<text text-anchor=\"middle\" x=\"10.61\" y=\"-48.68\" font-family=\"DejaVu Serif,serif\" font-size=\"10.00\">0</text>\n",
       "</g>\n",
       "<!-- 1 -->\n",
       "<g id=\"node2\" class=\"node\">\n",
       "<title>1</title>\n",
       "<ellipse fill=\"none\" stroke=\"black\" cx=\"74.82\" cy=\"-17.08\" rx=\"10.71\" ry=\"10.71\"/>\n",
       "<text text-anchor=\"middle\" x=\"74.82\" y=\"-13.98\" font-family=\"DejaVu Serif,serif\" font-size=\"12.00\">1</text>\n",
       "</g>\n",
       "<!-- 0&#45;&gt;1 -->\n",
       "<g id=\"edge3\" class=\"edge\">\n",
       "<title>0&#45;&gt;1</title>\n",
       "<path fill=\"none\" stroke=\"black\" d=\"M21.33,-17.08C31.4,-17.08 47.28,-17.08 58.94,-17.08\"/>\n",
       "<polygon fill=\"black\" stroke=\"black\" points=\"58.96,-18.83 63.96,-17.08 58.96,-15.33 58.96,-18.83\"/>\n",
       "<text text-anchor=\"middle\" x=\"42.71\" y=\"-20.08\" font-family=\"DejaVu Serif,serif\" font-size=\"10.00\">2</text>\n",
       "</g>\n",
       "<!-- 1&#45;&gt;0 -->\n",
       "<g id=\"edge2\" class=\"edge\">\n",
       "<title>1&#45;&gt;0</title>\n",
       "<path fill=\"none\" stroke=\"#c1cdcd\" d=\"M65.63,-10.79C60.39,-7.17 53.27,-2.97 46.21,-1.08 38.21,1.08 29.77,-2.7 23.22,-7.12\"/>\n",
       "<polygon fill=\"#c1cdcd\" stroke=\"#c1cdcd\" points=\"22.01,-5.84 19.02,-10.22 24.08,-8.66 22.01,-5.84\"/>\n",
       "<text text-anchor=\"middle\" x=\"42.71\" y=\"-4.08\" font-family=\"DejaVu Serif,serif\" font-size=\"10.00\" fill=\"#c1cdcd\">1</text>\n",
       "</g>\n",
       "<!-- 1&#45;&gt;1 -->\n",
       "<g id=\"edge4\" class=\"edge\">\n",
       "<title>1&#45;&gt;1</title>\n",
       "<path fill=\"none\" stroke=\"#c1cdcd\" d=\"M72.28,-27.64C71.19,-36.46 72.04,-45.68 74.82,-45.68 77.04,-45.68 78.02,-39.83 77.78,-32.98\"/>\n",
       "<polygon fill=\"#c1cdcd\" stroke=\"#c1cdcd\" points=\"79.5,-32.48 77.36,-27.64 76.01,-32.76 79.5,-32.48\"/>\n",
       "<text text-anchor=\"middle\" x=\"74.82\" y=\"-48.68\" font-family=\"DejaVu Serif,serif\" font-size=\"10.00\" fill=\"#c1cdcd\">3</text>\n",
       "</g>\n",
       "<!-- 1&#45;&gt;1 -->\n",
       "<g id=\"edge5\" class=\"edge\">\n",
       "<title>1&#45;&gt;1</title>\n",
       "<path fill=\"none\" stroke=\"black\" d=\"M71.16,-27.15C67.1,-43.17 68.32,-63.68 74.82,-63.68 80.66,-63.68 82.24,-47.12 79.55,-32.14\"/>\n",
       "<polygon fill=\"black\" stroke=\"black\" points=\"81.24,-31.67 78.48,-27.15 77.82,-32.4 81.24,-31.67\"/>\n",
       "<text text-anchor=\"middle\" x=\"74.82\" y=\"-66.68\" font-family=\"DejaVu Serif,serif\" font-size=\"10.00\">4</text>\n",
       "</g>\n",
       "</g>\n",
       "</svg>\n"
      ],
      "text/plain": [
       "GAP: <A monomorphism in FinQuivers>"
      ]
     },
     "execution_count": 74,
     "metadata": {},
     "output_type": "execute_result"
    }
   ],
   "source": [
    "T = Subobject( Ω, [ 0, 2, 4 ] )"
   ]
  },
  {
   "cell_type": "code",
   "execution_count": 75,
   "id": "8824e86b",
   "metadata": {},
   "outputs": [
    {
     "data": {
      "text/plain": [
       "28"
      ]
     },
     "execution_count": 75,
     "metadata": {},
     "output_type": "execute_result"
    }
   ],
   "source": [
    "Position( subobjects, T )"
   ]
  },
  {
   "cell_type": "markdown",
   "id": "f7843635",
   "metadata": {},
   "source": [
    "Specify a subquiver $U$ by specifying the dangling object and the arrows:"
   ]
  },
  {
   "cell_type": "code",
   "execution_count": 76,
   "id": "08f2285f",
   "metadata": {},
   "outputs": [
    {
     "data": {
      "image/svg+xml": [
       "<?xml version=\"1.0\" encoding=\"UTF-8\" standalone=\"no\"?>\n",
       "<!DOCTYPE svg PUBLIC \"-//W3C//DTD SVG 1.1//EN\"\n",
       " \"http://www.w3.org/Graphics/SVG/1.1/DTD/svg11.dtd\">\n",
       "<!-- Generated by graphviz version 2.50.0 (20211204.2007)\n",
       " -->\n",
       "<!-- Title: subquiver Pages: 1 -->\n",
       "<svg width=\"93pt\" height=\"94pt\"\n",
       " viewBox=\"0.00 0.00 93.43 93.68\" xmlns=\"http://www.w3.org/2000/svg\" xmlns:xlink=\"http://www.w3.org/1999/xlink\">\n",
       "<g id=\"graph0\" class=\"graph\" transform=\"scale(1 1) rotate(0) translate(4 89.68)\">\n",
       "<title>subquiver</title>\n",
       "<polygon fill=\"white\" stroke=\"transparent\" points=\"-4,4 -4,-89.68 89.43,-89.68 89.43,4 -4,4\"/>\n",
       "<!-- 0 -->\n",
       "<g id=\"node1\" class=\"node\">\n",
       "<title>0</title>\n",
       "<ellipse fill=\"none\" stroke=\"black\" cx=\"10.61\" cy=\"-17.08\" rx=\"10.71\" ry=\"10.71\"/>\n",
       "<text text-anchor=\"middle\" x=\"10.61\" y=\"-13.98\" font-family=\"DejaVu Serif,serif\" font-size=\"12.00\">0</text>\n",
       "</g>\n",
       "<!-- 0&#45;&gt;0 -->\n",
       "<g id=\"edge1\" class=\"edge\">\n",
       "<title>0&#45;&gt;0</title>\n",
       "<path fill=\"none\" stroke=\"black\" d=\"M5.76,-26.75C3.24,-35.83 4.86,-45.68 10.61,-45.68 15.28,-45.68 17.22,-39.18 16.44,-31.87\"/>\n",
       "<polygon fill=\"black\" stroke=\"black\" points=\"18.12,-31.33 15.46,-26.75 14.68,-31.99 18.12,-31.33\"/>\n",
       "<text text-anchor=\"middle\" x=\"10.61\" y=\"-48.68\" font-family=\"DejaVu Serif,serif\" font-size=\"10.00\">0</text>\n",
       "</g>\n",
       "<!-- 1 -->\n",
       "<g id=\"node2\" class=\"node\">\n",
       "<title>1</title>\n",
       "<ellipse fill=\"none\" stroke=\"black\" cx=\"74.82\" cy=\"-17.08\" rx=\"10.71\" ry=\"10.71\"/>\n",
       "<text text-anchor=\"middle\" x=\"74.82\" y=\"-13.98\" font-family=\"DejaVu Serif,serif\" font-size=\"12.00\">1</text>\n",
       "</g>\n",
       "<!-- 0&#45;&gt;1 -->\n",
       "<g id=\"edge3\" class=\"edge\">\n",
       "<title>0&#45;&gt;1</title>\n",
       "<path fill=\"none\" stroke=\"#c1cdcd\" d=\"M21.33,-17.08C31.4,-17.08 47.28,-17.08 58.94,-17.08\"/>\n",
       "<polygon fill=\"#c1cdcd\" stroke=\"#c1cdcd\" points=\"58.96,-18.83 63.96,-17.08 58.96,-15.33 58.96,-18.83\"/>\n",
       "<text text-anchor=\"middle\" x=\"42.71\" y=\"-20.08\" font-family=\"DejaVu Serif,serif\" font-size=\"10.00\" fill=\"#c1cdcd\">2</text>\n",
       "</g>\n",
       "<!-- 1&#45;&gt;0 -->\n",
       "<g id=\"edge2\" class=\"edge\">\n",
       "<title>1&#45;&gt;0</title>\n",
       "<path fill=\"none\" stroke=\"#c1cdcd\" d=\"M65.63,-10.79C60.39,-7.17 53.27,-2.97 46.21,-1.08 38.21,1.08 29.77,-2.7 23.22,-7.12\"/>\n",
       "<polygon fill=\"#c1cdcd\" stroke=\"#c1cdcd\" points=\"22.01,-5.84 19.02,-10.22 24.08,-8.66 22.01,-5.84\"/>\n",
       "<text text-anchor=\"middle\" x=\"42.71\" y=\"-4.08\" font-family=\"DejaVu Serif,serif\" font-size=\"10.00\" fill=\"#c1cdcd\">1</text>\n",
       "</g>\n",
       "<!-- 1&#45;&gt;1 -->\n",
       "<g id=\"edge4\" class=\"edge\">\n",
       "<title>1&#45;&gt;1</title>\n",
       "<path fill=\"none\" stroke=\"black\" d=\"M72.28,-27.64C71.19,-36.46 72.04,-45.68 74.82,-45.68 77.04,-45.68 78.02,-39.83 77.78,-32.98\"/>\n",
       "<polygon fill=\"black\" stroke=\"black\" points=\"79.5,-32.48 77.36,-27.64 76.01,-32.76 79.5,-32.48\"/>\n",
       "<text text-anchor=\"middle\" x=\"74.82\" y=\"-48.68\" font-family=\"DejaVu Serif,serif\" font-size=\"10.00\">3</text>\n",
       "</g>\n",
       "<!-- 1&#45;&gt;1 -->\n",
       "<g id=\"edge5\" class=\"edge\">\n",
       "<title>1&#45;&gt;1</title>\n",
       "<path fill=\"none\" stroke=\"black\" d=\"M71.16,-27.15C67.1,-43.17 68.32,-63.68 74.82,-63.68 80.66,-63.68 82.24,-47.12 79.55,-32.14\"/>\n",
       "<polygon fill=\"black\" stroke=\"black\" points=\"81.24,-31.67 78.48,-27.15 77.82,-32.4 81.24,-31.67\"/>\n",
       "<text text-anchor=\"middle\" x=\"74.82\" y=\"-66.68\" font-family=\"DejaVu Serif,serif\" font-size=\"10.00\">4</text>\n",
       "</g>\n",
       "</g>\n",
       "</svg>\n"
      ],
      "text/plain": [
       "GAP: <A monomorphism in FinQuivers>"
      ]
     },
     "execution_count": 76,
     "metadata": {},
     "output_type": "execute_result"
    }
   ],
   "source": [
    "U = Subobject( Ω, [ 0 ], [ 0, 3, 4 ] )"
   ]
  },
  {
   "cell_type": "code",
   "execution_count": 77,
   "id": "7f459b48",
   "metadata": {},
   "outputs": [
    {
     "data": {
      "text/plain": [
       "33"
      ]
     },
     "execution_count": 77,
     "metadata": {},
     "output_type": "execute_result"
    }
   ],
   "source": [
    "Position( subobjects, U )"
   ]
  },
  {
   "cell_type": "code",
   "execution_count": 78,
   "id": "2b98593b",
   "metadata": {},
   "outputs": [
    {
     "data": {
      "image/svg+xml": [
       "<?xml version=\"1.0\" encoding=\"UTF-8\" standalone=\"no\"?>\n",
       "<!DOCTYPE svg PUBLIC \"-//W3C//DTD SVG 1.1//EN\"\n",
       " \"http://www.w3.org/Graphics/SVG/1.1/DTD/svg11.dtd\">\n",
       "<!-- Generated by graphviz version 2.50.0 (20211204.2007)\n",
       " -->\n",
       "<!-- Title: subquiver Pages: 1 -->\n",
       "<svg width=\"93pt\" height=\"94pt\"\n",
       " viewBox=\"0.00 0.00 93.43 93.68\" xmlns=\"http://www.w3.org/2000/svg\" xmlns:xlink=\"http://www.w3.org/1999/xlink\">\n",
       "<g id=\"graph0\" class=\"graph\" transform=\"scale(1 1) rotate(0) translate(4 89.68)\">\n",
       "<title>subquiver</title>\n",
       "<polygon fill=\"white\" stroke=\"transparent\" points=\"-4,4 -4,-89.68 89.43,-89.68 89.43,4 -4,4\"/>\n",
       "<!-- 0 -->\n",
       "<g id=\"node1\" class=\"node\">\n",
       "<title>0</title>\n",
       "<ellipse fill=\"none\" stroke=\"black\" cx=\"10.61\" cy=\"-17.08\" rx=\"10.71\" ry=\"10.71\"/>\n",
       "<text text-anchor=\"middle\" x=\"10.61\" y=\"-13.98\" font-family=\"DejaVu Serif,serif\" font-size=\"12.00\">0</text>\n",
       "</g>\n",
       "<!-- 0&#45;&gt;0 -->\n",
       "<g id=\"edge1\" class=\"edge\">\n",
       "<title>0&#45;&gt;0</title>\n",
       "<path fill=\"none\" stroke=\"black\" d=\"M5.76,-26.75C3.24,-35.83 4.86,-45.68 10.61,-45.68 15.28,-45.68 17.22,-39.18 16.44,-31.87\"/>\n",
       "<polygon fill=\"black\" stroke=\"black\" points=\"18.12,-31.33 15.46,-26.75 14.68,-31.99 18.12,-31.33\"/>\n",
       "<text text-anchor=\"middle\" x=\"10.61\" y=\"-48.68\" font-family=\"DejaVu Serif,serif\" font-size=\"10.00\">0</text>\n",
       "</g>\n",
       "<!-- 1 -->\n",
       "<g id=\"node2\" class=\"node\">\n",
       "<title>1</title>\n",
       "<ellipse fill=\"none\" stroke=\"black\" cx=\"74.82\" cy=\"-17.08\" rx=\"10.71\" ry=\"10.71\"/>\n",
       "<text text-anchor=\"middle\" x=\"74.82\" y=\"-13.98\" font-family=\"DejaVu Serif,serif\" font-size=\"12.00\">1</text>\n",
       "</g>\n",
       "<!-- 0&#45;&gt;1 -->\n",
       "<g id=\"edge3\" class=\"edge\">\n",
       "<title>0&#45;&gt;1</title>\n",
       "<path fill=\"none\" stroke=\"#c1cdcd\" d=\"M21.33,-17.08C31.4,-17.08 47.28,-17.08 58.94,-17.08\"/>\n",
       "<polygon fill=\"#c1cdcd\" stroke=\"#c1cdcd\" points=\"58.96,-18.83 63.96,-17.08 58.96,-15.33 58.96,-18.83\"/>\n",
       "<text text-anchor=\"middle\" x=\"42.71\" y=\"-20.08\" font-family=\"DejaVu Serif,serif\" font-size=\"10.00\" fill=\"#c1cdcd\">2</text>\n",
       "</g>\n",
       "<!-- 1&#45;&gt;0 -->\n",
       "<g id=\"edge2\" class=\"edge\">\n",
       "<title>1&#45;&gt;0</title>\n",
       "<path fill=\"none\" stroke=\"#c1cdcd\" d=\"M65.63,-10.79C60.39,-7.17 53.27,-2.97 46.21,-1.08 38.21,1.08 29.77,-2.7 23.22,-7.12\"/>\n",
       "<polygon fill=\"#c1cdcd\" stroke=\"#c1cdcd\" points=\"22.01,-5.84 19.02,-10.22 24.08,-8.66 22.01,-5.84\"/>\n",
       "<text text-anchor=\"middle\" x=\"42.71\" y=\"-4.08\" font-family=\"DejaVu Serif,serif\" font-size=\"10.00\" fill=\"#c1cdcd\">1</text>\n",
       "</g>\n",
       "<!-- 1&#45;&gt;1 -->\n",
       "<g id=\"edge4\" class=\"edge\">\n",
       "<title>1&#45;&gt;1</title>\n",
       "<path fill=\"none\" stroke=\"#c1cdcd\" d=\"M72.28,-27.64C71.19,-36.46 72.04,-45.68 74.82,-45.68 77.04,-45.68 78.02,-39.83 77.78,-32.98\"/>\n",
       "<polygon fill=\"#c1cdcd\" stroke=\"#c1cdcd\" points=\"79.5,-32.48 77.36,-27.64 76.01,-32.76 79.5,-32.48\"/>\n",
       "<text text-anchor=\"middle\" x=\"74.82\" y=\"-48.68\" font-family=\"DejaVu Serif,serif\" font-size=\"10.00\" fill=\"#c1cdcd\">3</text>\n",
       "</g>\n",
       "<!-- 1&#45;&gt;1 -->\n",
       "<g id=\"edge5\" class=\"edge\">\n",
       "<title>1&#45;&gt;1</title>\n",
       "<path fill=\"none\" stroke=\"black\" d=\"M71.16,-27.15C67.1,-43.17 68.32,-63.68 74.82,-63.68 80.66,-63.68 82.24,-47.12 79.55,-32.14\"/>\n",
       "<polygon fill=\"black\" stroke=\"black\" points=\"81.24,-31.67 78.48,-27.15 77.82,-32.4 81.24,-31.67\"/>\n",
       "<text text-anchor=\"middle\" x=\"74.82\" y=\"-66.68\" font-family=\"DejaVu Serif,serif\" font-size=\"10.00\">4</text>\n",
       "</g>\n",
       "</g>\n",
       "</svg>\n"
      ],
      "text/plain": [
       "GAP: <A monomorphism in FinQuivers>"
      ]
     },
     "execution_count": 78,
     "metadata": {},
     "output_type": "execute_result"
    }
   ],
   "source": [
    "T_and_U = EmbeddingOfIntersectionSubobject( T, U )"
   ]
  },
  {
   "cell_type": "code",
   "execution_count": 79,
   "id": "136c7f98",
   "metadata": {},
   "outputs": [
    {
     "data": {
      "image/svg+xml": [
       "<?xml version=\"1.0\" encoding=\"UTF-8\" standalone=\"no\"?>\n",
       "<!DOCTYPE svg PUBLIC \"-//W3C//DTD SVG 1.1//EN\"\n",
       " \"http://www.w3.org/Graphics/SVG/1.1/DTD/svg11.dtd\">\n",
       "<!-- Generated by graphviz version 2.50.0 (20211204.2007)\n",
       " -->\n",
       "<!-- Title: subquiver Pages: 1 -->\n",
       "<svg width=\"93pt\" height=\"94pt\"\n",
       " viewBox=\"0.00 0.00 93.43 93.68\" xmlns=\"http://www.w3.org/2000/svg\" xmlns:xlink=\"http://www.w3.org/1999/xlink\">\n",
       "<g id=\"graph0\" class=\"graph\" transform=\"scale(1 1) rotate(0) translate(4 89.68)\">\n",
       "<title>subquiver</title>\n",
       "<polygon fill=\"white\" stroke=\"transparent\" points=\"-4,4 -4,-89.68 89.43,-89.68 89.43,4 -4,4\"/>\n",
       "<!-- 0 -->\n",
       "<g id=\"node1\" class=\"node\">\n",
       "<title>0</title>\n",
       "<ellipse fill=\"none\" stroke=\"black\" cx=\"10.61\" cy=\"-17.08\" rx=\"10.71\" ry=\"10.71\"/>\n",
       "<text text-anchor=\"middle\" x=\"10.61\" y=\"-13.98\" font-family=\"DejaVu Serif,serif\" font-size=\"12.00\">0</text>\n",
       "</g>\n",
       "<!-- 0&#45;&gt;0 -->\n",
       "<g id=\"edge1\" class=\"edge\">\n",
       "<title>0&#45;&gt;0</title>\n",
       "<path fill=\"none\" stroke=\"black\" d=\"M5.76,-26.75C3.24,-35.83 4.86,-45.68 10.61,-45.68 15.28,-45.68 17.22,-39.18 16.44,-31.87\"/>\n",
       "<polygon fill=\"black\" stroke=\"black\" points=\"18.12,-31.33 15.46,-26.75 14.68,-31.99 18.12,-31.33\"/>\n",
       "<text text-anchor=\"middle\" x=\"10.61\" y=\"-48.68\" font-family=\"DejaVu Serif,serif\" font-size=\"10.00\">0</text>\n",
       "</g>\n",
       "<!-- 1 -->\n",
       "<g id=\"node2\" class=\"node\">\n",
       "<title>1</title>\n",
       "<ellipse fill=\"none\" stroke=\"black\" cx=\"74.82\" cy=\"-17.08\" rx=\"10.71\" ry=\"10.71\"/>\n",
       "<text text-anchor=\"middle\" x=\"74.82\" y=\"-13.98\" font-family=\"DejaVu Serif,serif\" font-size=\"12.00\">1</text>\n",
       "</g>\n",
       "<!-- 0&#45;&gt;1 -->\n",
       "<g id=\"edge3\" class=\"edge\">\n",
       "<title>0&#45;&gt;1</title>\n",
       "<path fill=\"none\" stroke=\"#c1cdcd\" d=\"M21.33,-17.08C31.4,-17.08 47.28,-17.08 58.94,-17.08\"/>\n",
       "<polygon fill=\"#c1cdcd\" stroke=\"#c1cdcd\" points=\"58.96,-18.83 63.96,-17.08 58.96,-15.33 58.96,-18.83\"/>\n",
       "<text text-anchor=\"middle\" x=\"42.71\" y=\"-20.08\" font-family=\"DejaVu Serif,serif\" font-size=\"10.00\" fill=\"#c1cdcd\">2</text>\n",
       "</g>\n",
       "<!-- 1&#45;&gt;0 -->\n",
       "<g id=\"edge2\" class=\"edge\">\n",
       "<title>1&#45;&gt;0</title>\n",
       "<path fill=\"none\" stroke=\"black\" d=\"M65.63,-10.79C60.39,-7.17 53.27,-2.97 46.21,-1.08 38.21,1.08 29.77,-2.7 23.22,-7.12\"/>\n",
       "<polygon fill=\"black\" stroke=\"black\" points=\"22.01,-5.84 19.02,-10.22 24.08,-8.66 22.01,-5.84\"/>\n",
       "<text text-anchor=\"middle\" x=\"42.71\" y=\"-4.08\" font-family=\"DejaVu Serif,serif\" font-size=\"10.00\">1</text>\n",
       "</g>\n",
       "<!-- 1&#45;&gt;1 -->\n",
       "<g id=\"edge4\" class=\"edge\">\n",
       "<title>1&#45;&gt;1</title>\n",
       "<path fill=\"none\" stroke=\"black\" d=\"M72.28,-27.64C71.19,-36.46 72.04,-45.68 74.82,-45.68 77.04,-45.68 78.02,-39.83 77.78,-32.98\"/>\n",
       "<polygon fill=\"black\" stroke=\"black\" points=\"79.5,-32.48 77.36,-27.64 76.01,-32.76 79.5,-32.48\"/>\n",
       "<text text-anchor=\"middle\" x=\"74.82\" y=\"-48.68\" font-family=\"DejaVu Serif,serif\" font-size=\"10.00\">3</text>\n",
       "</g>\n",
       "<!-- 1&#45;&gt;1 -->\n",
       "<g id=\"edge5\" class=\"edge\">\n",
       "<title>1&#45;&gt;1</title>\n",
       "<path fill=\"none\" stroke=\"black\" d=\"M71.16,-27.15C67.1,-43.17 68.32,-63.68 74.82,-63.68 80.66,-63.68 82.24,-47.12 79.55,-32.14\"/>\n",
       "<polygon fill=\"black\" stroke=\"black\" points=\"81.24,-31.67 78.48,-27.15 77.82,-32.4 81.24,-31.67\"/>\n",
       "<text text-anchor=\"middle\" x=\"74.82\" y=\"-66.68\" font-family=\"DejaVu Serif,serif\" font-size=\"10.00\">4</text>\n",
       "</g>\n",
       "</g>\n",
       "</svg>\n"
      ],
      "text/plain": [
       "GAP: <A monomorphism in FinQuivers>"
      ]
     },
     "execution_count": 79,
     "metadata": {},
     "output_type": "execute_result"
    }
   ],
   "source": [
    "T_implies_U = EmbeddingOfRelativePseudoComplementSubobject( T, U )"
   ]
  },
  {
   "cell_type": "code",
   "execution_count": 80,
   "id": "05fb1515",
   "metadata": {},
   "outputs": [
    {
     "data": {
      "text/plain": [
       "false"
      ]
     },
     "execution_count": 80,
     "metadata": {},
     "output_type": "execute_result"
    }
   ],
   "source": [
    "U == T_implies_U"
   ]
  },
  {
   "cell_type": "code",
   "execution_count": 81,
   "id": "2a1e7ec0",
   "metadata": {},
   "outputs": [
    {
     "data": {
      "image/svg+xml": [
       "<?xml version=\"1.0\" encoding=\"UTF-8\" standalone=\"no\"?>\n",
       "<!DOCTYPE svg PUBLIC \"-//W3C//DTD SVG 1.1//EN\"\n",
       " \"http://www.w3.org/Graphics/SVG/1.1/DTD/svg11.dtd\">\n",
       "<!-- Generated by graphviz version 2.50.0 (20211204.2007)\n",
       " -->\n",
       "<!-- Title: subquiver Pages: 1 -->\n",
       "<svg width=\"93pt\" height=\"94pt\"\n",
       " viewBox=\"0.00 0.00 93.43 93.68\" xmlns=\"http://www.w3.org/2000/svg\" xmlns:xlink=\"http://www.w3.org/1999/xlink\">\n",
       "<g id=\"graph0\" class=\"graph\" transform=\"scale(1 1) rotate(0) translate(4 89.68)\">\n",
       "<title>subquiver</title>\n",
       "<polygon fill=\"white\" stroke=\"transparent\" points=\"-4,4 -4,-89.68 89.43,-89.68 89.43,4 -4,4\"/>\n",
       "<!-- 0 -->\n",
       "<g id=\"node1\" class=\"node\">\n",
       "<title>0</title>\n",
       "<ellipse fill=\"none\" stroke=\"black\" cx=\"10.61\" cy=\"-17.08\" rx=\"10.71\" ry=\"10.71\"/>\n",
       "<text text-anchor=\"middle\" x=\"10.61\" y=\"-13.98\" font-family=\"DejaVu Serif,serif\" font-size=\"12.00\">0</text>\n",
       "</g>\n",
       "<!-- 0&#45;&gt;0 -->\n",
       "<g id=\"edge1\" class=\"edge\">\n",
       "<title>0&#45;&gt;0</title>\n",
       "<path fill=\"none\" stroke=\"black\" d=\"M5.76,-26.75C3.24,-35.83 4.86,-45.68 10.61,-45.68 15.28,-45.68 17.22,-39.18 16.44,-31.87\"/>\n",
       "<polygon fill=\"black\" stroke=\"black\" points=\"18.12,-31.33 15.46,-26.75 14.68,-31.99 18.12,-31.33\"/>\n",
       "<text text-anchor=\"middle\" x=\"10.61\" y=\"-48.68\" font-family=\"DejaVu Serif,serif\" font-size=\"10.00\">0</text>\n",
       "</g>\n",
       "<!-- 1 -->\n",
       "<g id=\"node2\" class=\"node\">\n",
       "<title>1</title>\n",
       "<ellipse fill=\"none\" stroke=\"black\" cx=\"74.82\" cy=\"-17.08\" rx=\"10.71\" ry=\"10.71\"/>\n",
       "<text text-anchor=\"middle\" x=\"74.82\" y=\"-13.98\" font-family=\"DejaVu Serif,serif\" font-size=\"12.00\">1</text>\n",
       "</g>\n",
       "<!-- 0&#45;&gt;1 -->\n",
       "<g id=\"edge3\" class=\"edge\">\n",
       "<title>0&#45;&gt;1</title>\n",
       "<path fill=\"none\" stroke=\"#c1cdcd\" d=\"M21.33,-17.08C31.4,-17.08 47.28,-17.08 58.94,-17.08\"/>\n",
       "<polygon fill=\"#c1cdcd\" stroke=\"#c1cdcd\" points=\"58.96,-18.83 63.96,-17.08 58.96,-15.33 58.96,-18.83\"/>\n",
       "<text text-anchor=\"middle\" x=\"42.71\" y=\"-20.08\" font-family=\"DejaVu Serif,serif\" font-size=\"10.00\" fill=\"#c1cdcd\">2</text>\n",
       "</g>\n",
       "<!-- 1&#45;&gt;0 -->\n",
       "<g id=\"edge2\" class=\"edge\">\n",
       "<title>1&#45;&gt;0</title>\n",
       "<path fill=\"none\" stroke=\"#c1cdcd\" d=\"M65.63,-10.79C60.39,-7.17 53.27,-2.97 46.21,-1.08 38.21,1.08 29.77,-2.7 23.22,-7.12\"/>\n",
       "<polygon fill=\"#c1cdcd\" stroke=\"#c1cdcd\" points=\"22.01,-5.84 19.02,-10.22 24.08,-8.66 22.01,-5.84\"/>\n",
       "<text text-anchor=\"middle\" x=\"42.71\" y=\"-4.08\" font-family=\"DejaVu Serif,serif\" font-size=\"10.00\" fill=\"#c1cdcd\">1</text>\n",
       "</g>\n",
       "<!-- 1&#45;&gt;1 -->\n",
       "<g id=\"edge4\" class=\"edge\">\n",
       "<title>1&#45;&gt;1</title>\n",
       "<path fill=\"none\" stroke=\"black\" d=\"M72.28,-27.64C71.19,-36.46 72.04,-45.68 74.82,-45.68 77.04,-45.68 78.02,-39.83 77.78,-32.98\"/>\n",
       "<polygon fill=\"black\" stroke=\"black\" points=\"79.5,-32.48 77.36,-27.64 76.01,-32.76 79.5,-32.48\"/>\n",
       "<text text-anchor=\"middle\" x=\"74.82\" y=\"-48.68\" font-family=\"DejaVu Serif,serif\" font-size=\"10.00\">3</text>\n",
       "</g>\n",
       "<!-- 1&#45;&gt;1 -->\n",
       "<g id=\"edge5\" class=\"edge\">\n",
       "<title>1&#45;&gt;1</title>\n",
       "<path fill=\"none\" stroke=\"black\" d=\"M71.16,-27.15C67.1,-43.17 68.32,-63.68 74.82,-63.68 80.66,-63.68 82.24,-47.12 79.55,-32.14\"/>\n",
       "<polygon fill=\"black\" stroke=\"black\" points=\"81.24,-31.67 78.48,-27.15 77.82,-32.4 81.24,-31.67\"/>\n",
       "<text text-anchor=\"middle\" x=\"74.82\" y=\"-66.68\" font-family=\"DejaVu Serif,serif\" font-size=\"10.00\">4</text>\n",
       "</g>\n",
       "</g>\n",
       "</svg>\n"
      ],
      "text/plain": [
       "GAP: <A monomorphism in FinQuivers>"
      ]
     },
     "execution_count": 81,
     "metadata": {},
     "output_type": "execute_result"
    }
   ],
   "source": [
    "notT_or_U = EmbeddingOfUnionSubobject( EmbeddingOfPseudoComplementSubobject( T ), U )"
   ]
  },
  {
   "cell_type": "code",
   "execution_count": 82,
   "id": "e022d7c5",
   "metadata": {},
   "outputs": [
    {
     "data": {
      "text/plain": [
       "false"
      ]
     },
     "execution_count": 82,
     "metadata": {},
     "output_type": "execute_result"
    }
   ],
   "source": [
    "notT_or_U == T_implies_U"
   ]
  }
 ],
 "metadata": {
  "@webio": {
   "lastCommId": null,
   "lastKernelId": null
  },
  "kernelspec": {
   "display_name": "Julia 1.9.3",
   "language": "julia",
   "name": "julia-1.9"
  },
  "language_info": {
   "file_extension": ".jl",
   "mimetype": "application/julia",
   "name": "julia",
   "version": "1.9.3"
  }
 },
 "nbformat": 4,
 "nbformat_minor": 5
}
