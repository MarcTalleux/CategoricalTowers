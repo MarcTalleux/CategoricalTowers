{
 "cells": [
  {
   "cell_type": "markdown",
   "id": "5dd5d895",
   "metadata": {},
   "source": [
    "[![Binder](https://mybinder.org/badge_logo.svg)](https://gesis.mybinder.org/v2/gh/homalg-project/CapAndHomalgNotebooks/master?urlpath=git-pull%3Frepo%3Dhttps%253A%252F%252Fgithub.com%252Fhomalg-project%252FCategoricalTowers%26urlpath%3Dtree%252FCategoricalTowers%252FFunctorCategories%252Fexamples%252F%252Fnotebooks%252FCoequalizer.ipynb%26branch%3Dmaster)"
   ]
  },
  {
   "cell_type": "markdown",
   "id": "725a5adb",
   "metadata": {},
   "source": [
    "In this notebook we prove *by a computation* that two equivalent morphisms $f_0,f_1: A \\to B$ of two coequalizer pairs $r_0^A, r_1^A:A \\leftleftarrows RA$, $r_0^B, r_1^B:B \\leftleftarrows RB$ induce equal morphisms $\\phi_0, \\phi_1: \\mathrm{coeq}(r_0^A, r_1^A) \\to \\mathrm{coeq}(r_0^B, r_1^B)$ between the respective coequalizers."
   ]
  },
  {
   "cell_type": "code",
   "execution_count": 1,
   "id": "e4c8b8f8",
   "metadata": {},
   "outputs": [
    {
     "name": "stdout",
     "output_type": "stream",
     "text": [
      "CapAndHomalg v\u001b[32m1.4.12\u001b[39m\n",
      "Imported OSCAR's components GAP and Singular_jll\n",
      "Type: ?CapAndHomalg for more information\n"
     ]
    }
   ],
   "source": [
    "using CapAndHomalg"
   ]
  },
  {
   "cell_type": "code",
   "execution_count": 2,
   "id": "23732ae7",
   "metadata": {},
   "outputs": [],
   "source": [
    "LoadPackage( \"FunctorCategories\" )"
   ]
  },
  {
   "cell_type": "code",
   "execution_count": 3,
   "id": "cde3a8c1",
   "metadata": {},
   "outputs": [
    {
     "data": {
      "text/plain": [
       "GAP: q(A,RA,B,RB)[r₀ᴬ:RA->A,r₁ᴬ:RA->A,r₀ᴮ:RB->B,r₁ᴮ:RB->B,f₀:A->B,f₁:A->B,g₀:RA->RB,g₁:RA->RB,λ:A->RB]"
      ]
     },
     "execution_count": 3,
     "metadata": {},
     "output_type": "execute_result"
    }
   ],
   "source": [
    "Q = RightQuiver( \"q(A,RA,B,RB)[\\\n",
    "r₀ᴬ:RA->A,r₁ᴬ:RA->A,\\\n",
    "r₀ᴮ:RB->B,r₁ᴮ:RB->B,\\\n",
    "f₀:A->B,f₁:A->B,\\\n",
    "g₀:RA->RB,g₁:RA->RB,\\\n",
    "λ:A->RB]\" )"
   ]
  },
  {
   "cell_type": "code",
   "execution_count": 4,
   "id": "3b0eef7b",
   "metadata": {},
   "outputs": [
    {
     "data": {
      "text/plain": [
       "GAP: FreeCategory( RightQuiver( \"q(A,RA,B,RB)[r₀ᴬ:RA->A,r₁ᴬ:RA->A,r₀ᴮ:RB->B,r₁ᴮ:RB->B,f₀:A->B,f₁:A->B,g₀:RA->RB,g₁:RA->RB,λ:A->RB]\" ) )"
      ]
     },
     "execution_count": 4,
     "metadata": {},
     "output_type": "execute_result"
    }
   ],
   "source": [
    "F = FreeCategory( Q )"
   ]
  },
  {
   "cell_type": "code",
   "execution_count": 5,
   "id": "8ec34131",
   "metadata": {},
   "outputs": [
    {
     "data": {
      "text/plain": [
       "GAP: FreeCategory( RightQuiver( \"q(A,RA,B,RB)[r₀ᴬ:RA->A,r₁ᴬ:RA->A,r₀ᴮ:RB->B,r₁ᴮ:RB->B,f₀:A->B,f₁:A->B,g₀:RA->RB,g₁:RA->RB,λ:A->RB]\" ) ) / relations"
      ]
     },
     "execution_count": 5,
     "metadata": {},
     "output_type": "execute_result"
    }
   ],
   "source": [
    "C = F / [ [ PreCompose( F.r₀ᴬ, F.f₀ ), PreCompose( F.g₀, F.r₀ᴮ ) ],\n",
    "          [ PreCompose( F.r₁ᴬ, F.f₀ ), PreCompose( F.g₀, F.r₁ᴮ ) ],\n",
    "          [ PreCompose( F.r₀ᴬ, F.f₁ ), PreCompose( F.g₁, F.r₀ᴮ ) ],\n",
    "          [ PreCompose( F.r₁ᴬ, F.f₁ ), PreCompose( F.g₁, F.r₁ᴮ ) ],\n",
    "          [ PreCompose( F.λ, F.r₀ᴮ ), F.f₀ ],\n",
    "          [ PreCompose( F.λ, F.r₁ᴮ ), F.f₁ ],\n",
    "          ]"
   ]
  },
  {
   "cell_type": "code",
   "execution_count": 6,
   "id": "00cd9e10",
   "metadata": {},
   "outputs": [
    {
     "data": {
      "text/plain": [
       "GAP: [ |4|, |19|, |50| ]"
      ]
     },
     "execution_count": 6,
     "metadata": {},
     "output_type": "execute_result"
    }
   ],
   "source": [
    "NerveTruncatedInDegree2Data( C )[1]"
   ]
  },
  {
   "cell_type": "code",
   "execution_count": 7,
   "id": "39b53885",
   "metadata": {},
   "outputs": [
    {
     "data": {
      "text/plain": [
       "GAP: FiniteCocompletion( FreeCategory( RightQuiver( \"q(A,RA,B,RB)[r₀ᴬ:RA->A,r₁ᴬ:RA->A,r₀ᴮ:RB->B,r₁ᴮ:RB->B,f₀:A->B,f₁:A->B,g₀:RA->RB,g₁:RA->RB,λ:A->RB]\" ) ) / relations )"
      ]
     },
     "execution_count": 7,
     "metadata": {},
     "output_type": "execute_result"
    }
   ],
   "source": [
    "Ĉ = FiniteCocompletion( C )"
   ]
  },
  {
   "cell_type": "code",
   "execution_count": 8,
   "id": "5ab6a374",
   "metadata": {},
   "outputs": [],
   "source": [
    "r₀ᴬ = Ĉ.r₀ᴬ; r₁ᴬ = Ĉ.r₁ᴬ;\n",
    "r₀ᴮ = Ĉ.r₀ᴮ; r₁ᴮ = Ĉ.r₁ᴮ;\n",
    "f₀ = Ĉ.f₀; f₁ = Ĉ.f₁;\n",
    "g₀ = Ĉ.g₀; g₁ = Ĉ.g₁;\n",
    "λ = Ĉ.λ;"
   ]
  },
  {
   "cell_type": "code",
   "execution_count": 9,
   "id": "666b1ac8",
   "metadata": {},
   "outputs": [
    {
     "data": {
      "text/plain": [
       "true"
      ]
     },
     "execution_count": 9,
     "metadata": {},
     "output_type": "execute_result"
    }
   ],
   "source": [
    "PreCompose( r₀ᴬ, f₀ ) == PreCompose( g₀, r₀ᴮ )"
   ]
  },
  {
   "cell_type": "code",
   "execution_count": 10,
   "id": "5dbe0651",
   "metadata": {},
   "outputs": [
    {
     "data": {
      "text/plain": [
       "true"
      ]
     },
     "execution_count": 10,
     "metadata": {},
     "output_type": "execute_result"
    }
   ],
   "source": [
    "PreCompose( r₁ᴬ, f₀ ) == PreCompose( g₀, r₁ᴮ )"
   ]
  },
  {
   "cell_type": "code",
   "execution_count": 11,
   "id": "48f50aeb",
   "metadata": {},
   "outputs": [
    {
     "data": {
      "text/plain": [
       "true"
      ]
     },
     "execution_count": 11,
     "metadata": {},
     "output_type": "execute_result"
    }
   ],
   "source": [
    "PreCompose( r₀ᴬ, f₁ ) == PreCompose( g₁, r₀ᴮ )"
   ]
  },
  {
   "cell_type": "code",
   "execution_count": 12,
   "id": "3a113a16",
   "metadata": {},
   "outputs": [
    {
     "data": {
      "text/plain": [
       "true"
      ]
     },
     "execution_count": 12,
     "metadata": {},
     "output_type": "execute_result"
    }
   ],
   "source": [
    "PreCompose( r₁ᴬ, f₁ ) == PreCompose( g₁, r₁ᴮ )"
   ]
  },
  {
   "cell_type": "code",
   "execution_count": 13,
   "id": "cae36818",
   "metadata": {},
   "outputs": [
    {
     "data": {
      "text/plain": [
       "GAP: <A morphism in FiniteCocompletion( FreeCategory( RightQuiver( \"q(A,RA,B,RB)[r₀ᴬ:RA->A,r₁ᴬ:RA->A,r₀ᴮ:RB->B,r₁ᴮ:RB->B,f₀:A->B,f₁:A->B,g₀:RA->RB,g₁:RA->RB,λ:A->RB]\" ) ) / relations )>"
      ]
     },
     "execution_count": 13,
     "metadata": {},
     "output_type": "execute_result"
    }
   ],
   "source": [
    "φ₀ = CoequalizerFunctorial( [ r₀ᴬ, r₁ᴬ ], f₀, [ r₀ᴮ, r₁ᴮ ] )"
   ]
  },
  {
   "cell_type": "code",
   "execution_count": 14,
   "id": "8bacc02e",
   "metadata": {},
   "outputs": [
    {
     "data": {
      "text/plain": [
       "GAP: <A morphism in FiniteCocompletion( FreeCategory( RightQuiver( \"q(A,RA,B,RB)[r₀ᴬ:RA->A,r₁ᴬ:RA->A,r₀ᴮ:RB->B,r₁ᴮ:RB->B,f₀:A->B,f₁:A->B,g₀:RA->RB,g₁:RA->RB,λ:A->RB]\" ) ) / relations )>"
      ]
     },
     "execution_count": 14,
     "metadata": {},
     "output_type": "execute_result"
    }
   ],
   "source": [
    "φ₁ = CoequalizerFunctorial( [ r₀ᴬ, r₁ᴬ ], f₁, [ r₀ᴮ, r₁ᴮ ] )"
   ]
  },
  {
   "cell_type": "code",
   "execution_count": 15,
   "id": "408a2d75",
   "metadata": {},
   "outputs": [
    {
     "data": {
      "text/plain": [
       "true"
      ]
     },
     "execution_count": 15,
     "metadata": {},
     "output_type": "execute_result"
    }
   ],
   "source": [
    "φ₀ == φ₁"
   ]
  }
 ],
 "metadata": {
  "@webio": {
   "lastCommId": null,
   "lastKernelId": null
  },
  "kernelspec": {
   "display_name": "Julia 1.8.5",
   "language": "julia",
   "name": "julia-1.8"
  },
  "language_info": {
   "file_extension": ".jl",
   "mimetype": "application/julia",
   "name": "julia",
   "version": "1.8.5"
  }
 },
 "nbformat": 4,
 "nbformat_minor": 5
}
